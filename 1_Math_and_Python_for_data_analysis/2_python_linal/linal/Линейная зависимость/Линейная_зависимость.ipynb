{
 "cells": [
  {
   "cell_type": "markdown",
   "metadata": {},
   "source": [
    "# Линейная зависимость векторов"
   ]
  },
  {
   "cell_type": "code",
   "execution_count": 1,
   "metadata": {
    "collapsed": true
   },
   "outputs": [],
   "source": [
    "import numpy as np"
   ]
  },
  {
   "cell_type": "code",
   "execution_count": 2,
   "metadata": {
    "collapsed": true
   },
   "outputs": [],
   "source": [
    "e1 = np.array([1., 0., 0.])\n",
    "e2 = np.array([0., 5., 0.])"
   ]
  },
  {
   "cell_type": "code",
   "execution_count": 5,
   "metadata": {},
   "outputs": [
    {
     "data": {
      "text/plain": [
       "array([ 0.,  0.,  0.])"
      ]
     },
     "execution_count": 5,
     "metadata": {},
     "output_type": "execute_result"
    }
   ],
   "source": [
    "0*e1 + 0*e2"
   ]
  },
  {
   "cell_type": "code",
   "execution_count": 6,
   "metadata": {
    "collapsed": true
   },
   "outputs": [],
   "source": [
    "a = np.array([3., -10., 0.])"
   ]
  },
  {
   "cell_type": "code",
   "execution_count": 7,
   "metadata": {},
   "outputs": [
    {
     "data": {
      "text/plain": [
       "array([ 0.,  0.,  0.])"
      ]
     },
     "execution_count": 7,
     "metadata": {},
     "output_type": "execute_result"
    }
   ],
   "source": [
    "-3*e1 + 2*e2 + 1*a"
   ]
  },
  {
   "cell_type": "code",
   "execution_count": 8,
   "metadata": {},
   "outputs": [
    {
     "data": {
      "text/plain": [
       "array([  3., -10.,   0.])"
      ]
     },
     "execution_count": 8,
     "metadata": {},
     "output_type": "execute_result"
    }
   ],
   "source": [
    "3*e1 - 2*e2"
   ]
  },
  {
   "cell_type": "code",
   "execution_count": 9,
   "metadata": {},
   "outputs": [
    {
     "data": {
      "text/plain": [
       "array([ True,  True,  True], dtype=bool)"
      ]
     },
     "execution_count": 9,
     "metadata": {},
     "output_type": "execute_result"
    }
   ],
   "source": [
    "3*e1 - 2*e2 == a"
   ]
  },
  {
   "cell_type": "code",
   "execution_count": 10,
   "metadata": {},
   "outputs": [
    {
     "data": {
      "text/plain": [
       "array([[  1.,   0.,   0.],\n",
       "       [  0.,   5.,   0.],\n",
       "       [  3., -10.,   0.]])"
      ]
     },
     "execution_count": 10,
     "metadata": {},
     "output_type": "execute_result"
    }
   ],
   "source": [
    "M = np.array([e1, e2, a])\n",
    "M"
   ]
  },
  {
   "cell_type": "code",
   "execution_count": 11,
   "metadata": {},
   "outputs": [
    {
     "data": {
      "text/plain": [
       "2"
      ]
     },
     "execution_count": 11,
     "metadata": {},
     "output_type": "execute_result"
    }
   ],
   "source": [
    "np.linalg.matrix_rank(M)"
   ]
  },
  {
   "cell_type": "code",
   "execution_count": 12,
   "metadata": {
    "collapsed": true
   },
   "outputs": [],
   "source": [
    "b1, b2, b3 = M[:,0], M[:,1], M[:,2]"
   ]
  },
  {
   "cell_type": "code",
   "execution_count": 13,
   "metadata": {},
   "outputs": [
    {
     "data": {
      "text/plain": [
       "array([ 1.,  0.,  3.])"
      ]
     },
     "execution_count": 13,
     "metadata": {},
     "output_type": "execute_result"
    }
   ],
   "source": [
    "b1"
   ]
  },
  {
   "cell_type": "code",
   "execution_count": 14,
   "metadata": {},
   "outputs": [
    {
     "data": {
      "text/plain": [
       "array([  0.,   5., -10.])"
      ]
     },
     "execution_count": 14,
     "metadata": {},
     "output_type": "execute_result"
    }
   ],
   "source": [
    "b2"
   ]
  },
  {
   "cell_type": "code",
   "execution_count": 15,
   "metadata": {},
   "outputs": [
    {
     "data": {
      "text/plain": [
       "array([ 0.,  0.,  0.])"
      ]
     },
     "execution_count": 15,
     "metadata": {},
     "output_type": "execute_result"
    }
   ],
   "source": [
    "b3"
   ]
  },
  {
   "cell_type": "code",
   "execution_count": 16,
   "metadata": {},
   "outputs": [
    {
     "data": {
      "text/plain": [
       "array([ 0.,  0.,  0.])"
      ]
     },
     "execution_count": 16,
     "metadata": {},
     "output_type": "execute_result"
    }
   ],
   "source": [
    "0*b1 + 0*b2 + 1*b3"
   ]
  },
  {
   "cell_type": "code",
   "execution_count": null,
   "metadata": {
    "collapsed": true
   },
   "outputs": [],
   "source": []
  },
  {
   "cell_type": "code",
   "execution_count": null,
   "metadata": {
    "collapsed": true
   },
   "outputs": [],
   "source": []
  },
  {
   "cell_type": "code",
   "execution_count": null,
   "metadata": {
    "collapsed": true
   },
   "outputs": [],
   "source": []
  },
  {
   "cell_type": "code",
   "execution_count": null,
   "metadata": {
    "collapsed": true
   },
   "outputs": [],
   "source": []
  },
  {
   "cell_type": "code",
   "execution_count": null,
   "metadata": {
    "collapsed": true
   },
   "outputs": [],
   "source": []
  },
  {
   "cell_type": "code",
   "execution_count": null,
   "metadata": {
    "collapsed": true
   },
   "outputs": [],
   "source": []
  },
  {
   "cell_type": "code",
   "execution_count": null,
   "metadata": {
    "collapsed": true
   },
   "outputs": [],
   "source": []
  },
  {
   "cell_type": "code",
   "execution_count": null,
   "metadata": {
    "collapsed": true
   },
   "outputs": [],
   "source": []
  },
  {
   "cell_type": "markdown",
   "metadata": {},
   "source": [
    "1.Рассмотрим 3 вектора:\n",
    "\n",
    "$\n",
    "\\left[\\begin{array}{c}a\\\\0\\\\0\\end{array}\\right] \\left[\\begin{array}{c} b\\\\d\\\\0\\end{array}\\right] \\left[\\begin{array}{c}c\\\\e\\\\f\\end{array}\\right]\n",
    "$\n",
    "\n",
    "Известно, что три числа из набора чисел $\\{a,b,c,d,e,f\\}$ равны нулю, а оставшиеся три — отличны от нуля. Выберите варианты, при которых эти векторы линейно зависимы.\n",
    "\n",
    "1. a=0,b=0,f=0 \n",
    "\n",
    "2. b=0,e=0,f=0\n",
    "\n",
    "3. c=0,d=0,f=0\n",
    "\n",
    "4. b=0,c=0,e=0\n",
    "\n",
    "5. a=0,b=0,d=0\n",
    "\n",
    "6. a=0,e=0,f=0"
   ]
  },
  {
   "cell_type": "code",
   "execution_count": 17,
   "metadata": {},
   "outputs": [
    {
     "name": "stdout",
     "output_type": "stream",
     "text": [
      "[[0 0 0]\n",
      " [0 1 0]\n",
      " [1 1 0]]\n",
      "2\n",
      "\n",
      "[[1 0 0]\n",
      " [0 1 0]\n",
      " [1 0 0]]\n",
      "2\n",
      "\n",
      "[[1 0 0]\n",
      " [1 0 0]\n",
      " [0 1 0]]\n",
      "2\n",
      "\n",
      "[[1 0 0]\n",
      " [0 1 0]\n",
      " [0 0 1]]\n",
      "3\n",
      "\n",
      "[[0 0 0]\n",
      " [0 0 0]\n",
      " [1 1 1]]\n",
      "1\n",
      "\n",
      "[[0 0 0]\n",
      " [1 1 0]\n",
      " [1 0 0]]\n",
      "2\n",
      "\n"
     ]
    }
   ],
   "source": [
    "M = np.array([\n",
    "    #a, b, c, d, e, f\n",
    "    [0, 0, 1, 1, 1, 0],\n",
    "    [1, 0, 1, 1, 0, 0],\n",
    "    [1, 1, 0, 0, 1, 0],\n",
    "    [1, 0, 0, 1, 0, 1],\n",
    "    [0, 0, 1, 0, 1, 1],\n",
    "    [0, 1, 1, 1, 0, 0]\n",
    "])\n",
    "\n",
    "for a, b, c, d, e, f in M:\n",
    "    Matrix = np.array([\n",
    "        [a, 0, 0],\n",
    "        [b, d, 0],\n",
    "        [c, e, f]\n",
    "    ])\n",
    "    print Matrix\n",
    "    print np.linalg.matrix_rank(Matrix)\n",
    "    print"
   ]
  },
  {
   "cell_type": "code",
   "execution_count": null,
   "metadata": {
    "collapsed": true
   },
   "outputs": [],
   "source": []
  },
  {
   "cell_type": "code",
   "execution_count": null,
   "metadata": {
    "collapsed": true
   },
   "outputs": [],
   "source": []
  },
  {
   "cell_type": "code",
   "execution_count": null,
   "metadata": {
    "collapsed": true
   },
   "outputs": [],
   "source": []
  },
  {
   "cell_type": "markdown",
   "metadata": {},
   "source": [
    "2.Найдите среди заданных шести векторов вида\n",
    "\n",
    "$\\left[\\begin{array}{c}1\\\\-1\\\\0\\\\0 \\end{array}\\right],  \\left[\\begin{array}{c}1\\\\0\\\\-1\\\\0 \\end{array}\\right], \\left[\\begin{array}{c}1\\\\0\\\\0\\\\-1 \\end{array}\\right], \\left[\\begin{array}{c}0\\\\1\\\\-1\\\\0 \\end{array}\\right], \\left[\\begin{array}{c}0\\\\1\\\\0\\\\-1 \\end{array}\\right], \\left[\\begin{array}{c}0\\\\0\\\\1\\\\-1 \\end{array}\\right]$\n",
    "\n",
    "наибольшее количество линейно независимых векторов."
   ]
  },
  {
   "cell_type": "code",
   "execution_count": 18,
   "metadata": {
    "collapsed": true
   },
   "outputs": [],
   "source": [
    "M = np.array([\n",
    "    [1, -1, 0, 0],\n",
    "    [1, 0, -1, 0],\n",
    "    [1, 0, 0, -1],\n",
    "    [0, 1, -1, 0],\n",
    "    [0, 1, 0, -1],\n",
    "    [0, 0, 1, -1]\n",
    "])"
   ]
  },
  {
   "cell_type": "code",
   "execution_count": 19,
   "metadata": {},
   "outputs": [
    {
     "data": {
      "text/plain": [
       "3"
      ]
     },
     "execution_count": 19,
     "metadata": {},
     "output_type": "execute_result"
    }
   ],
   "source": [
    "np.linalg.matrix_rank(M)"
   ]
  },
  {
   "cell_type": "code",
   "execution_count": null,
   "metadata": {
    "collapsed": true
   },
   "outputs": [],
   "source": []
  },
  {
   "cell_type": "code",
   "execution_count": null,
   "metadata": {
    "collapsed": true
   },
   "outputs": [],
   "source": []
  },
  {
   "cell_type": "code",
   "execution_count": null,
   "metadata": {
    "collapsed": true
   },
   "outputs": [],
   "source": []
  },
  {
   "cell_type": "markdown",
   "metadata": {},
   "source": [
    "3.Какие из нижеперечисленных векторов образуют базис в трехмерном пространстве $\\mathbb{R}^3$?\n",
    "\n",
    "1. (1, 2, 0), (0, 1, -1)\n",
    "2. (1, 1 -1), (2, 3, 4), (4, 1, -1), (0, 1, -1)\n",
    "3. (1, 2, 2), (-1, 2, 1), (0, 8, 0)\n",
    "4. (1, 2, 2), (-1, 2, 1), (0, 8, 6)\n",
    "\n",
    "\n",
    "Hint. Базис образуют линейно независимые вектора, из линейной комбинации которых можно получить любой вектор в пространстве данно размерности."
   ]
  },
  {
   "cell_type": "code",
   "execution_count": 20,
   "metadata": {
    "collapsed": true
   },
   "outputs": [],
   "source": [
    "MM = np.array([\n",
    "    [(1, 2, 2), \n",
    "     (-1, 2, 1), \n",
    "     (0, 8, 0)],\n",
    "    [(1, 2, 2),\n",
    "     (-1, 2, 1),\n",
    "     (0, 8, 6)]\n",
    "])"
   ]
  },
  {
   "cell_type": "code",
   "execution_count": 21,
   "metadata": {},
   "outputs": [
    {
     "name": "stdout",
     "output_type": "stream",
     "text": [
      "3\n",
      "2\n"
     ]
    }
   ],
   "source": [
    "for M in MM:\n",
    "    print np.linalg.matrix_rank(M)"
   ]
  },
  {
   "cell_type": "code",
   "execution_count": null,
   "metadata": {
    "collapsed": true
   },
   "outputs": [],
   "source": []
  },
  {
   "cell_type": "code",
   "execution_count": null,
   "metadata": {
    "collapsed": true
   },
   "outputs": [],
   "source": []
  },
  {
   "cell_type": "code",
   "execution_count": null,
   "metadata": {
    "collapsed": true
   },
   "outputs": [],
   "source": []
  },
  {
   "cell_type": "markdown",
   "metadata": {},
   "source": [
    "### Норма и метрика:\n",
    "\n",
    "- *Интуативный бытовой пример **нормы** - **длина***\n",
    "\n",
    "- *Интуитивный пример **метрики** - **расстояние***"
   ]
  },
  {
   "cell_type": "markdown",
   "metadata": {},
   "source": [
    "### Зачем нужна метрика?\n",
    "\n",
    "Рассмотрим датасет \"Red Wine Dataset\" https://www.kaggle.com/piyushgoyal443/red-wine-dataset"
   ]
  },
  {
   "cell_type": "code",
   "execution_count": 23,
   "metadata": {
    "scrolled": false
   },
   "outputs": [
    {
     "data": {
      "text/html": [
       "<div>\n",
       "<style>\n",
       "    .dataframe thead tr:only-child th {\n",
       "        text-align: right;\n",
       "    }\n",
       "\n",
       "    .dataframe thead th {\n",
       "        text-align: left;\n",
       "    }\n",
       "\n",
       "    .dataframe tbody tr th {\n",
       "        vertical-align: top;\n",
       "    }\n",
       "</style>\n",
       "<table border=\"1\" class=\"dataframe\">\n",
       "  <thead>\n",
       "    <tr style=\"text-align: right;\">\n",
       "      <th></th>\n",
       "      <th>Unnamed: 0</th>\n",
       "      <th>fixed.acidity</th>\n",
       "      <th>volatile.acidity</th>\n",
       "      <th>citric.acid</th>\n",
       "      <th>residual.sugar</th>\n",
       "      <th>chlorides</th>\n",
       "      <th>free.sulfur.dioxide</th>\n",
       "      <th>total.sulfur.dioxide</th>\n",
       "      <th>density</th>\n",
       "      <th>pH</th>\n",
       "      <th>sulphates</th>\n",
       "      <th>alcohol</th>\n",
       "      <th>quality</th>\n",
       "    </tr>\n",
       "  </thead>\n",
       "  <tbody>\n",
       "    <tr>\n",
       "      <th>0</th>\n",
       "      <td>1</td>\n",
       "      <td>7.4</td>\n",
       "      <td>0.700</td>\n",
       "      <td>0.00</td>\n",
       "      <td>1.9</td>\n",
       "      <td>0.076</td>\n",
       "      <td>11.0</td>\n",
       "      <td>34.0</td>\n",
       "      <td>0.9978</td>\n",
       "      <td>3.51</td>\n",
       "      <td>0.56</td>\n",
       "      <td>9.4</td>\n",
       "      <td>5</td>\n",
       "    </tr>\n",
       "    <tr>\n",
       "      <th>1</th>\n",
       "      <td>2</td>\n",
       "      <td>7.8</td>\n",
       "      <td>0.880</td>\n",
       "      <td>0.00</td>\n",
       "      <td>2.6</td>\n",
       "      <td>0.098</td>\n",
       "      <td>25.0</td>\n",
       "      <td>67.0</td>\n",
       "      <td>0.9968</td>\n",
       "      <td>3.20</td>\n",
       "      <td>0.68</td>\n",
       "      <td>9.8</td>\n",
       "      <td>5</td>\n",
       "    </tr>\n",
       "    <tr>\n",
       "      <th>2</th>\n",
       "      <td>3</td>\n",
       "      <td>7.8</td>\n",
       "      <td>0.760</td>\n",
       "      <td>0.04</td>\n",
       "      <td>2.3</td>\n",
       "      <td>0.092</td>\n",
       "      <td>15.0</td>\n",
       "      <td>54.0</td>\n",
       "      <td>0.9970</td>\n",
       "      <td>3.26</td>\n",
       "      <td>0.65</td>\n",
       "      <td>9.8</td>\n",
       "      <td>5</td>\n",
       "    </tr>\n",
       "    <tr>\n",
       "      <th>3</th>\n",
       "      <td>4</td>\n",
       "      <td>11.2</td>\n",
       "      <td>0.280</td>\n",
       "      <td>0.56</td>\n",
       "      <td>1.9</td>\n",
       "      <td>0.075</td>\n",
       "      <td>17.0</td>\n",
       "      <td>60.0</td>\n",
       "      <td>0.9980</td>\n",
       "      <td>3.16</td>\n",
       "      <td>0.58</td>\n",
       "      <td>9.8</td>\n",
       "      <td>6</td>\n",
       "    </tr>\n",
       "    <tr>\n",
       "      <th>4</th>\n",
       "      <td>5</td>\n",
       "      <td>7.4</td>\n",
       "      <td>0.700</td>\n",
       "      <td>0.00</td>\n",
       "      <td>1.9</td>\n",
       "      <td>0.076</td>\n",
       "      <td>11.0</td>\n",
       "      <td>34.0</td>\n",
       "      <td>0.9978</td>\n",
       "      <td>3.51</td>\n",
       "      <td>0.56</td>\n",
       "      <td>9.4</td>\n",
       "      <td>5</td>\n",
       "    </tr>\n",
       "    <tr>\n",
       "      <th>5</th>\n",
       "      <td>6</td>\n",
       "      <td>7.4</td>\n",
       "      <td>0.660</td>\n",
       "      <td>0.00</td>\n",
       "      <td>1.8</td>\n",
       "      <td>0.075</td>\n",
       "      <td>13.0</td>\n",
       "      <td>40.0</td>\n",
       "      <td>0.9978</td>\n",
       "      <td>3.51</td>\n",
       "      <td>0.56</td>\n",
       "      <td>9.4</td>\n",
       "      <td>5</td>\n",
       "    </tr>\n",
       "    <tr>\n",
       "      <th>6</th>\n",
       "      <td>7</td>\n",
       "      <td>7.9</td>\n",
       "      <td>0.600</td>\n",
       "      <td>0.06</td>\n",
       "      <td>1.6</td>\n",
       "      <td>0.069</td>\n",
       "      <td>15.0</td>\n",
       "      <td>59.0</td>\n",
       "      <td>0.9964</td>\n",
       "      <td>3.30</td>\n",
       "      <td>0.46</td>\n",
       "      <td>9.4</td>\n",
       "      <td>5</td>\n",
       "    </tr>\n",
       "    <tr>\n",
       "      <th>7</th>\n",
       "      <td>8</td>\n",
       "      <td>7.3</td>\n",
       "      <td>0.650</td>\n",
       "      <td>0.00</td>\n",
       "      <td>1.2</td>\n",
       "      <td>0.065</td>\n",
       "      <td>15.0</td>\n",
       "      <td>21.0</td>\n",
       "      <td>0.9946</td>\n",
       "      <td>3.39</td>\n",
       "      <td>0.47</td>\n",
       "      <td>10.0</td>\n",
       "      <td>7</td>\n",
       "    </tr>\n",
       "    <tr>\n",
       "      <th>8</th>\n",
       "      <td>9</td>\n",
       "      <td>7.8</td>\n",
       "      <td>0.580</td>\n",
       "      <td>0.02</td>\n",
       "      <td>2.0</td>\n",
       "      <td>0.073</td>\n",
       "      <td>9.0</td>\n",
       "      <td>18.0</td>\n",
       "      <td>0.9968</td>\n",
       "      <td>3.36</td>\n",
       "      <td>0.57</td>\n",
       "      <td>9.5</td>\n",
       "      <td>7</td>\n",
       "    </tr>\n",
       "    <tr>\n",
       "      <th>9</th>\n",
       "      <td>10</td>\n",
       "      <td>7.5</td>\n",
       "      <td>0.500</td>\n",
       "      <td>0.36</td>\n",
       "      <td>6.1</td>\n",
       "      <td>0.071</td>\n",
       "      <td>17.0</td>\n",
       "      <td>102.0</td>\n",
       "      <td>0.9978</td>\n",
       "      <td>3.35</td>\n",
       "      <td>0.80</td>\n",
       "      <td>10.5</td>\n",
       "      <td>5</td>\n",
       "    </tr>\n",
       "    <tr>\n",
       "      <th>10</th>\n",
       "      <td>11</td>\n",
       "      <td>6.7</td>\n",
       "      <td>0.580</td>\n",
       "      <td>0.08</td>\n",
       "      <td>1.8</td>\n",
       "      <td>0.097</td>\n",
       "      <td>15.0</td>\n",
       "      <td>65.0</td>\n",
       "      <td>0.9959</td>\n",
       "      <td>3.28</td>\n",
       "      <td>0.54</td>\n",
       "      <td>9.2</td>\n",
       "      <td>5</td>\n",
       "    </tr>\n",
       "    <tr>\n",
       "      <th>11</th>\n",
       "      <td>12</td>\n",
       "      <td>7.5</td>\n",
       "      <td>0.500</td>\n",
       "      <td>0.36</td>\n",
       "      <td>6.1</td>\n",
       "      <td>0.071</td>\n",
       "      <td>17.0</td>\n",
       "      <td>102.0</td>\n",
       "      <td>0.9978</td>\n",
       "      <td>3.35</td>\n",
       "      <td>0.80</td>\n",
       "      <td>10.5</td>\n",
       "      <td>5</td>\n",
       "    </tr>\n",
       "    <tr>\n",
       "      <th>12</th>\n",
       "      <td>13</td>\n",
       "      <td>5.6</td>\n",
       "      <td>0.615</td>\n",
       "      <td>0.00</td>\n",
       "      <td>1.6</td>\n",
       "      <td>0.089</td>\n",
       "      <td>16.0</td>\n",
       "      <td>59.0</td>\n",
       "      <td>0.9943</td>\n",
       "      <td>3.58</td>\n",
       "      <td>0.52</td>\n",
       "      <td>9.9</td>\n",
       "      <td>5</td>\n",
       "    </tr>\n",
       "    <tr>\n",
       "      <th>13</th>\n",
       "      <td>14</td>\n",
       "      <td>7.8</td>\n",
       "      <td>0.610</td>\n",
       "      <td>0.29</td>\n",
       "      <td>1.6</td>\n",
       "      <td>0.114</td>\n",
       "      <td>9.0</td>\n",
       "      <td>29.0</td>\n",
       "      <td>0.9974</td>\n",
       "      <td>3.26</td>\n",
       "      <td>1.56</td>\n",
       "      <td>9.1</td>\n",
       "      <td>5</td>\n",
       "    </tr>\n",
       "    <tr>\n",
       "      <th>14</th>\n",
       "      <td>15</td>\n",
       "      <td>8.9</td>\n",
       "      <td>0.620</td>\n",
       "      <td>0.18</td>\n",
       "      <td>3.8</td>\n",
       "      <td>0.176</td>\n",
       "      <td>52.0</td>\n",
       "      <td>145.0</td>\n",
       "      <td>0.9986</td>\n",
       "      <td>3.16</td>\n",
       "      <td>0.88</td>\n",
       "      <td>9.2</td>\n",
       "      <td>5</td>\n",
       "    </tr>\n",
       "    <tr>\n",
       "      <th>15</th>\n",
       "      <td>16</td>\n",
       "      <td>8.9</td>\n",
       "      <td>0.620</td>\n",
       "      <td>0.19</td>\n",
       "      <td>3.9</td>\n",
       "      <td>0.170</td>\n",
       "      <td>51.0</td>\n",
       "      <td>148.0</td>\n",
       "      <td>0.9986</td>\n",
       "      <td>3.17</td>\n",
       "      <td>0.93</td>\n",
       "      <td>9.2</td>\n",
       "      <td>5</td>\n",
       "    </tr>\n",
       "    <tr>\n",
       "      <th>16</th>\n",
       "      <td>17</td>\n",
       "      <td>8.5</td>\n",
       "      <td>0.280</td>\n",
       "      <td>0.56</td>\n",
       "      <td>1.8</td>\n",
       "      <td>0.092</td>\n",
       "      <td>35.0</td>\n",
       "      <td>103.0</td>\n",
       "      <td>0.9969</td>\n",
       "      <td>3.30</td>\n",
       "      <td>0.75</td>\n",
       "      <td>10.5</td>\n",
       "      <td>7</td>\n",
       "    </tr>\n",
       "  </tbody>\n",
       "</table>\n",
       "</div>"
      ],
      "text/plain": [
       "    Unnamed: 0  fixed.acidity  volatile.acidity  citric.acid  residual.sugar  \\\n",
       "0            1            7.4             0.700         0.00             1.9   \n",
       "1            2            7.8             0.880         0.00             2.6   \n",
       "2            3            7.8             0.760         0.04             2.3   \n",
       "3            4           11.2             0.280         0.56             1.9   \n",
       "4            5            7.4             0.700         0.00             1.9   \n",
       "5            6            7.4             0.660         0.00             1.8   \n",
       "6            7            7.9             0.600         0.06             1.6   \n",
       "7            8            7.3             0.650         0.00             1.2   \n",
       "8            9            7.8             0.580         0.02             2.0   \n",
       "9           10            7.5             0.500         0.36             6.1   \n",
       "10          11            6.7             0.580         0.08             1.8   \n",
       "11          12            7.5             0.500         0.36             6.1   \n",
       "12          13            5.6             0.615         0.00             1.6   \n",
       "13          14            7.8             0.610         0.29             1.6   \n",
       "14          15            8.9             0.620         0.18             3.8   \n",
       "15          16            8.9             0.620         0.19             3.9   \n",
       "16          17            8.5             0.280         0.56             1.8   \n",
       "\n",
       "    chlorides  free.sulfur.dioxide  total.sulfur.dioxide  density    pH  \\\n",
       "0       0.076                 11.0                  34.0   0.9978  3.51   \n",
       "1       0.098                 25.0                  67.0   0.9968  3.20   \n",
       "2       0.092                 15.0                  54.0   0.9970  3.26   \n",
       "3       0.075                 17.0                  60.0   0.9980  3.16   \n",
       "4       0.076                 11.0                  34.0   0.9978  3.51   \n",
       "5       0.075                 13.0                  40.0   0.9978  3.51   \n",
       "6       0.069                 15.0                  59.0   0.9964  3.30   \n",
       "7       0.065                 15.0                  21.0   0.9946  3.39   \n",
       "8       0.073                  9.0                  18.0   0.9968  3.36   \n",
       "9       0.071                 17.0                 102.0   0.9978  3.35   \n",
       "10      0.097                 15.0                  65.0   0.9959  3.28   \n",
       "11      0.071                 17.0                 102.0   0.9978  3.35   \n",
       "12      0.089                 16.0                  59.0   0.9943  3.58   \n",
       "13      0.114                  9.0                  29.0   0.9974  3.26   \n",
       "14      0.176                 52.0                 145.0   0.9986  3.16   \n",
       "15      0.170                 51.0                 148.0   0.9986  3.17   \n",
       "16      0.092                 35.0                 103.0   0.9969  3.30   \n",
       "\n",
       "    sulphates  alcohol  quality  \n",
       "0        0.56      9.4        5  \n",
       "1        0.68      9.8        5  \n",
       "2        0.65      9.8        5  \n",
       "3        0.58      9.8        6  \n",
       "4        0.56      9.4        5  \n",
       "5        0.56      9.4        5  \n",
       "6        0.46      9.4        5  \n",
       "7        0.47     10.0        7  \n",
       "8        0.57      9.5        7  \n",
       "9        0.80     10.5        5  \n",
       "10       0.54      9.2        5  \n",
       "11       0.80     10.5        5  \n",
       "12       0.52      9.9        5  \n",
       "13       1.56      9.1        5  \n",
       "14       0.88      9.2        5  \n",
       "15       0.93      9.2        5  \n",
       "16       0.75     10.5        7  "
      ]
     },
     "execution_count": 23,
     "metadata": {},
     "output_type": "execute_result"
    }
   ],
   "source": [
    "import pandas as pd\n",
    "D = pd.read_csv('wineQualityReds.csv')\n",
    "D.head(17)"
   ]
  },
  {
   "cell_type": "markdown",
   "metadata": {},
   "source": [
    "Предположим, мы имеем 2 алгоритма, предсказывающих качество вина по имеющимся данным о его характеристикам:\n",
    "\n",
    "- Predict1 - всегда ставит 5\n",
    "- Predict2 - более сложный алогритм, который иногда сильно не угалывает (см. 18 строку)\n",
    "\n",
    "Тогда предсказания обоих алгоритмов можно внести в таблицу:"
   ]
  },
  {
   "cell_type": "markdown",
   "metadata": {},
   "source": [
    "<img src=\"data:image/png;base64,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\">"
   ]
  },
  {
   "cell_type": "markdown",
   "metadata": {},
   "source": [
    "**Какой из алгоритмов лучше Predict1 или Predict2?**"
   ]
  },
  {
   "cell_type": "markdown",
   "metadata": {},
   "source": [
    "Если представить правильные значения и предсказания обоих алгоритмов в виде векторов:\n",
    "\n",
    "- $Y_{ист} = [5, 5, 5, 6, 5, 5, 5, 7, 7, 5, 5, 5, 5, 5, 5, 5, 7, 5, 4, 6, 6, ...]$\n",
    "- $P_{pr1} = [5, 5, 5, 5, 5, 5, 5, 5, 5, 5, 5, 5, 5, 5, 5, 5, 5, 5, 5, 5, 5, ...]$\n",
    "- $P_{pr3} = [5, 6, 5, 6, 5, 5, 5, 7, 7, 5, 5, 6, 5, 6, 5, 5, 5, 7, 7, 5, 5, ...]$\n",
    "\n",
    ", то в метрика (т.е. расстояние) между вектором предсказания и вектором правильных ответов и будет мерой качества алгоритма. Чем ближе значение прогнозного и истинного значения для каждой точки, тем точнее алгоритм, тем меньше метрика, тем меньше расстояние между векторами.\n",
    "\n",
    "- Манхэттонская метрика: $\\|{\\mathbf  {p}}-{\\mathbf  {y}}\\|=\\sum _{{i=1}}^{n}|p_{i}-y_{i}|$\n",
    "\n",
    "- Евклидова метрика: $\\|{\\mathbf  {p}}-{\\mathbf  {y}}\\|_{2}={\\sqrt  {\\sum _{{i}}^{n}(p_{i}-y_{i})^{2}}}$"
   ]
  },
  {
   "cell_type": "code",
   "execution_count": 24,
   "metadata": {
    "collapsed": true
   },
   "outputs": [],
   "source": [
    "Y = np.array([5,5,5,6,5,5,5,7,7,5,5,5,5,5,5,5,7,5,4,6,6])\n",
    "Pr1 = np.array([5,5,5,5,5,5,5,5,5,5,5,5,5,5,5,5,5,5,5,5,5])\n",
    "Pr2 = np.array([5,6,5,6,5,5,5,7,7,5,5,6,5,6,5,5,5,7,7,5,5])"
   ]
  },
  {
   "cell_type": "code",
   "execution_count": 27,
   "metadata": {},
   "outputs": [
    {
     "data": {
      "text/plain": [
       "10"
      ]
     },
     "execution_count": 27,
     "metadata": {},
     "output_type": "execute_result"
    }
   ],
   "source": [
    "sum(abs(Y - Pr1))"
   ]
  },
  {
   "cell_type": "code",
   "execution_count": 28,
   "metadata": {},
   "outputs": [
    {
     "data": {
      "text/plain": [
       "12"
      ]
     },
     "execution_count": 28,
     "metadata": {},
     "output_type": "execute_result"
    }
   ],
   "source": [
    "sum(abs(Y - Pr2))"
   ]
  },
  {
   "cell_type": "code",
   "execution_count": null,
   "metadata": {
    "collapsed": true
   },
   "outputs": [],
   "source": []
  },
  {
   "cell_type": "code",
   "execution_count": null,
   "metadata": {
    "collapsed": true
   },
   "outputs": [],
   "source": []
  },
  {
   "cell_type": "code",
   "execution_count": null,
   "metadata": {
    "collapsed": true
   },
   "outputs": [],
   "source": []
  },
  {
   "cell_type": "code",
   "execution_count": null,
   "metadata": {
    "collapsed": true
   },
   "outputs": [],
   "source": []
  },
  {
   "cell_type": "code",
   "execution_count": null,
   "metadata": {
    "collapsed": true
   },
   "outputs": [],
   "source": []
  },
  {
   "cell_type": "code",
   "execution_count": null,
   "metadata": {
    "collapsed": true
   },
   "outputs": [],
   "source": []
  },
  {
   "cell_type": "markdown",
   "metadata": {},
   "source": [
    "### Косинусное расстояние, Косинусная близость\n",
    "\n",
    "Косинусная близость или просто косинус угла между 2 векторами:\n",
    "$$\\frac{u \\cdot v}\n",
    "         {||u||_2 ||v||_2}$$\n",
    "    \n",
    "Косинусное расстояние:\n",
    "\n",
    "$$1 - \\frac{u \\cdot v}\n",
    "         {||u||_2 ||v||_2}$$"
   ]
  },
  {
   "cell_type": "markdown",
   "metadata": {},
   "source": [
    "Чем ближе 2 вектора:\n",
    "- тем больше косинус ($cos(0^{\\circ}) = 1$)\n",
    "- тем меньше косинусное расстояние ($1 - cos(0^{\\circ}) = 0$)"
   ]
  },
  {
   "cell_type": "code",
   "execution_count": 29,
   "metadata": {},
   "outputs": [
    {
     "data": {
      "text/plain": [
       "565"
      ]
     },
     "execution_count": 29,
     "metadata": {},
     "output_type": "execute_result"
    }
   ],
   "source": [
    "np.dot(Y, Pr1)"
   ]
  },
  {
   "cell_type": "code",
   "execution_count": 30,
   "metadata": {},
   "outputs": [
    {
     "data": {
      "text/plain": [
       "24.919871588754223"
      ]
     },
     "execution_count": 30,
     "metadata": {},
     "output_type": "execute_result"
    }
   ],
   "source": [
    "np.linalg.norm(Y)"
   ]
  },
  {
   "cell_type": "code",
   "execution_count": 31,
   "metadata": {},
   "outputs": [
    {
     "data": {
      "text/plain": [
       "22.912878474779198"
      ]
     },
     "execution_count": 31,
     "metadata": {},
     "output_type": "execute_result"
    }
   ],
   "source": [
    "np.linalg.norm(Pr1)"
   ]
  },
  {
   "cell_type": "code",
   "execution_count": 32,
   "metadata": {},
   "outputs": [
    {
     "data": {
      "text/plain": [
       "0.98951639894464871"
      ]
     },
     "execution_count": 32,
     "metadata": {},
     "output_type": "execute_result"
    }
   ],
   "source": [
    "np.dot(Y, Pr1) / (np.linalg.norm(Y) * np.linalg.norm(Pr1))"
   ]
  },
  {
   "cell_type": "code",
   "execution_count": 33,
   "metadata": {},
   "outputs": [
    {
     "data": {
      "text/plain": [
       "0.98346850293849342"
      ]
     },
     "execution_count": 33,
     "metadata": {},
     "output_type": "execute_result"
    }
   ],
   "source": [
    "np.dot(Y, Pr2) / (np.linalg.norm(Y) * np.linalg.norm(Pr2))"
   ]
  },
  {
   "cell_type": "code",
   "execution_count": null,
   "metadata": {
    "collapsed": true
   },
   "outputs": [],
   "source": []
  },
  {
   "cell_type": "code",
   "execution_count": 34,
   "metadata": {
    "collapsed": true
   },
   "outputs": [],
   "source": [
    "from scipy.spatial.distance import cosine"
   ]
  },
  {
   "cell_type": "code",
   "execution_count": 35,
   "metadata": {},
   "outputs": [
    {
     "data": {
      "text/plain": [
       "0.010483601055351288"
      ]
     },
     "execution_count": 35,
     "metadata": {},
     "output_type": "execute_result"
    }
   ],
   "source": [
    "cosine(Y, Pr1)"
   ]
  },
  {
   "cell_type": "code",
   "execution_count": 37,
   "metadata": {},
   "outputs": [
    {
     "data": {
      "text/plain": [
       "0.016531497061506584"
      ]
     },
     "execution_count": 37,
     "metadata": {},
     "output_type": "execute_result"
    }
   ],
   "source": [
    "cosine(Y, Pr2)"
   ]
  },
  {
   "cell_type": "code",
   "execution_count": 38,
   "metadata": {},
   "outputs": [
    {
     "data": {
      "text/plain": [
       "0.010483601055351288"
      ]
     },
     "execution_count": 38,
     "metadata": {},
     "output_type": "execute_result"
    }
   ],
   "source": [
    "1 - np.dot(Y, Pr1) / (np.linalg.norm(Y) * np.linalg.norm(Pr1))"
   ]
  },
  {
   "cell_type": "code",
   "execution_count": 39,
   "metadata": {},
   "outputs": [
    {
     "data": {
      "text/plain": [
       "0.016531497061506584"
      ]
     },
     "execution_count": 39,
     "metadata": {},
     "output_type": "execute_result"
    }
   ],
   "source": [
    "1 - np.dot(Y, Pr2) / (np.linalg.norm(Y) * np.linalg.norm(Pr2))"
   ]
  }
 ],
 "metadata": {
  "kernelspec": {
   "display_name": "Python 3",
   "language": "python",
   "name": "python3"
  },
  "language_info": {
   "codemirror_mode": {
    "name": "ipython",
    "version": 3
   },
   "file_extension": ".py",
   "mimetype": "text/x-python",
   "name": "python",
   "nbconvert_exporter": "python",
   "pygments_lexer": "ipython3",
   "version": "3.6.5"
  }
 },
 "nbformat": 4,
 "nbformat_minor": 2
}
