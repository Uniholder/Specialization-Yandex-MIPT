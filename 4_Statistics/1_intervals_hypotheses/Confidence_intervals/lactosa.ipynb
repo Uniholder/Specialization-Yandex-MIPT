{
 "cells": [
  {
   "cell_type": "code",
   "execution_count": 17,
   "metadata": {},
   "outputs": [],
   "source": [
    "from statsmodels.stats.proportion import proportion_confint\n",
    "import numpy as np\n",
    "from scipy import stats\n",
    "from statsmodels.stats.proportion import samplesize_confint_proportion\n",
    "import matplotlib.pyplot as plt"
   ]
  },
  {
   "cell_type": "markdown",
   "metadata": {},
   "source": [
    "Большая часть млекопитающих неспособны во взрослом возрасте переваривать лактозу, содержащуюся в молоке. У людей за расщепление лактозы отвечает фермент лактаза, кодируемый геном LCT. У людей с вариантом 13910T этого гена лактаза продолжает функционировать на протяжении всей жизни. Распределение этого варианта гена сильно варьируется в различных генетических популяциях.\n",
    "\n",
    "Из 50 исследованных представителей народа майя вариант 13910T был обнаружен у одного. Постройте нормальный 95% доверительный интервал для доли носителей варианта 13910T в популяции майя. Чему равна его нижняя граница? Округлите ответ до 4 знаков после десятичной точки.\n",
    "\n",
    "В условиях предыдущей задачи постройте 95% доверительный интервал Уилсона для доли носителей варианта 13910T в популяции майя. Чему равна его нижняя граница? Округлите ответ до 4 знаков после десятичной точки.\n",
    "\n",
    "Какой из двух построенных доверительных интервалов выглядит более вменяемым, учитывая, что параметр, для которого строится оценка, меняется от 0 до 1?\n",
    "\n",
    "Пусть в популяции майя действительно 2% носителей варианта 13910T, как в выборке, которую мы исследовали. Какой объём выборки нужен, чтобы с помощью нормального интервала оценить долю носителей гена 13910T с точностью \\pm0.01±0.01 на уровне доверия 95%?\n",
    "\n",
    "Постройте график зависимости объёма выборки, необходимого для оценки для доли носителей гена 13910T с точностью \\pm0.01±0.01 на уровне доверия 95%, от неизвестного параметра pp. Посмотрите, при каком значении pp нужно больше всего испытуемых. Как вы думаете, насколько вероятно, что выборка, которую мы анализируем, взята из случайной величины с этим значением параметра?\n",
    "\n",
    "Как бы вы не ответили на последний вопрос, рассмотреть объём выборки, необходимый при таком pp, всё равно полезно — это даёт максимально пессимистичную оценку необходимого объёма выборки.\n",
    "\n",
    "Какой объём выборки нужен в худшем случае, чтобы с помощью нормального интервала оценить долю носителей гена 13910T с точностью ±0.01 на уровне доверия 95%?"
   ]
  },
  {
   "cell_type": "code",
   "execution_count": 6,
   "metadata": {},
   "outputs": [
    {
     "data": {
      "text/plain": [
       "(0.0, 0.05880530708179099)"
      ]
     },
     "execution_count": 6,
     "metadata": {},
     "output_type": "execute_result"
    }
   ],
   "source": [
    "proportion_confint(count=1, nobs=50, method = 'normal')"
   ]
  },
  {
   "cell_type": "code",
   "execution_count": 8,
   "metadata": {},
   "outputs": [],
   "source": [
    "def proportion_confint_for_stepik(count, nobs, alpha=0.05, method='normal'):\n",
    "    count = np.asarray(count)\n",
    "    nobs = np.asarray(nobs)\n",
    "\n",
    "    q_ = count * 1. / nobs\n",
    "    alpha_2 = 0.5 * alpha\n",
    "    std_ = np.sqrt(q_ * (1 - q_) / nobs)\n",
    "    dist = stats.norm.isf(alpha / 2.) * std_\n",
    "    ci_low = q_ - dist\n",
    "    ci_upp = q_ + dist\n",
    "    return (ci_low, ci_upp)"
   ]
  },
  {
   "cell_type": "code",
   "execution_count": 13,
   "metadata": {},
   "outputs": [
    {
     "data": {
      "text/plain": [
       "(-0.018805307081790987, 0.05880530708179099)"
      ]
     },
     "execution_count": 13,
     "metadata": {},
     "output_type": "execute_result"
    }
   ],
   "source": [
    "proportion_confint_for_stepik(1, 50)"
   ]
  },
  {
   "cell_type": "code",
   "execution_count": 14,
   "metadata": {},
   "outputs": [
    {
     "data": {
      "text/plain": [
       "(0.003539259271646236, 0.10495443589637815)"
      ]
     },
     "execution_count": 14,
     "metadata": {},
     "output_type": "execute_result"
    }
   ],
   "source": [
    "proportion_confint(count=1, nobs=50, method = 'wilson')"
   ]
  },
  {
   "cell_type": "code",
   "execution_count": 16,
   "metadata": {},
   "outputs": [
    {
     "data": {
      "text/plain": [
       "752.9259288560489"
      ]
     },
     "execution_count": 16,
     "metadata": {},
     "output_type": "execute_result"
    }
   ],
   "source": [
    "samplesize_confint_proportion(proportion=0.02, half_length=0.01)"
   ]
  },
  {
   "cell_type": "code",
   "execution_count": 24,
   "metadata": {},
   "outputs": [],
   "source": [
    "ps = [i for i in np.linspace(0,1,100)]"
   ]
  },
  {
   "cell_type": "code",
   "execution_count": 25,
   "metadata": {
    "scrolled": true
   },
   "outputs": [
    {
     "data": {
      "text/plain": [
       "[0.0,\n",
       " 0.010101010101010102,\n",
       " 0.020202020202020204,\n",
       " 0.030303030303030304,\n",
       " 0.04040404040404041,\n",
       " 0.05050505050505051,\n",
       " 0.06060606060606061,\n",
       " 0.07070707070707072,\n",
       " 0.08080808080808081,\n",
       " 0.09090909090909091,\n",
       " 0.10101010101010102,\n",
       " 0.11111111111111112,\n",
       " 0.12121212121212122,\n",
       " 0.13131313131313133,\n",
       " 0.14141414141414144,\n",
       " 0.15151515151515152,\n",
       " 0.16161616161616163,\n",
       " 0.17171717171717174,\n",
       " 0.18181818181818182,\n",
       " 0.19191919191919193,\n",
       " 0.20202020202020204,\n",
       " 0.21212121212121213,\n",
       " 0.22222222222222224,\n",
       " 0.23232323232323235,\n",
       " 0.24242424242424243,\n",
       " 0.25252525252525254,\n",
       " 0.26262626262626265,\n",
       " 0.27272727272727276,\n",
       " 0.2828282828282829,\n",
       " 0.29292929292929293,\n",
       " 0.30303030303030304,\n",
       " 0.31313131313131315,\n",
       " 0.32323232323232326,\n",
       " 0.33333333333333337,\n",
       " 0.3434343434343435,\n",
       " 0.3535353535353536,\n",
       " 0.36363636363636365,\n",
       " 0.37373737373737376,\n",
       " 0.38383838383838387,\n",
       " 0.393939393939394,\n",
       " 0.4040404040404041,\n",
       " 0.4141414141414142,\n",
       " 0.42424242424242425,\n",
       " 0.43434343434343436,\n",
       " 0.4444444444444445,\n",
       " 0.4545454545454546,\n",
       " 0.4646464646464647,\n",
       " 0.4747474747474748,\n",
       " 0.48484848484848486,\n",
       " 0.494949494949495,\n",
       " 0.5050505050505051,\n",
       " 0.5151515151515152,\n",
       " 0.5252525252525253,\n",
       " 0.5353535353535354,\n",
       " 0.5454545454545455,\n",
       " 0.5555555555555556,\n",
       " 0.5656565656565657,\n",
       " 0.5757575757575758,\n",
       " 0.5858585858585859,\n",
       " 0.595959595959596,\n",
       " 0.6060606060606061,\n",
       " 0.6161616161616162,\n",
       " 0.6262626262626263,\n",
       " 0.6363636363636365,\n",
       " 0.6464646464646465,\n",
       " 0.6565656565656566,\n",
       " 0.6666666666666667,\n",
       " 0.6767676767676768,\n",
       " 0.686868686868687,\n",
       " 0.696969696969697,\n",
       " 0.7070707070707072,\n",
       " 0.7171717171717172,\n",
       " 0.7272727272727273,\n",
       " 0.7373737373737375,\n",
       " 0.7474747474747475,\n",
       " 0.7575757575757577,\n",
       " 0.7676767676767677,\n",
       " 0.7777777777777778,\n",
       " 0.787878787878788,\n",
       " 0.797979797979798,\n",
       " 0.8080808080808082,\n",
       " 0.8181818181818182,\n",
       " 0.8282828282828284,\n",
       " 0.8383838383838385,\n",
       " 0.8484848484848485,\n",
       " 0.8585858585858587,\n",
       " 0.8686868686868687,\n",
       " 0.8787878787878789,\n",
       " 0.888888888888889,\n",
       " 0.8989898989898991,\n",
       " 0.9090909090909092,\n",
       " 0.9191919191919192,\n",
       " 0.9292929292929294,\n",
       " 0.9393939393939394,\n",
       " 0.9494949494949496,\n",
       " 0.9595959595959597,\n",
       " 0.9696969696969697,\n",
       " 0.9797979797979799,\n",
       " 0.98989898989899,\n",
       " 1.0]"
      ]
     },
     "execution_count": 25,
     "metadata": {},
     "output_type": "execute_result"
    }
   ],
   "source": [
    "ps"
   ]
  },
  {
   "cell_type": "code",
   "execution_count": 26,
   "metadata": {},
   "outputs": [
    {
     "data": {
      "text/plain": [
       "[<matplotlib.lines.Line2D at 0x1d0a4fada48>]"
      ]
     },
     "execution_count": 26,
     "metadata": {},
     "output_type": "execute_result"
    },
    {
     "data": {
      "image/png": "[encoded data removed]",
      "text/plain": [
       "<Figure size 432x288 with 1 Axes>"
      ]
     },
     "metadata": {
      "needs_background": "light"
     },
     "output_type": "display_data"
    }
   ],
   "source": [
    "plt.plot(ps, [samplesize_confint_proportion(proportion=i, half_length=0.01) for i in ps])"
   ]
  },
  {
   "cell_type": "code",
   "execution_count": 27,
   "metadata": {},
   "outputs": [
    {
     "data": {
      "text/plain": [
       "9603.647051735317"
      ]
     },
     "execution_count": 27,
     "metadata": {},
     "output_type": "execute_result"
    }
   ],
   "source": [
    "samplesize_confint_proportion(proportion=0.5, half_length=0.01)"
   ]
  },
  {
   "cell_type": "code",
   "execution_count": null,
   "metadata": {},
   "outputs": [],
   "source": []
  }
 ],
 "metadata": {
  "kernelspec": {
   "display_name": "Python 3",
   "language": "python",
   "name": "python3"
  },
  "language_info": {
   "codemirror_mode": {
    "name": "ipython",
    "version": 3
   },
   "file_extension": ".py",
   "mimetype": "text/x-python",
   "name": "python",
   "nbconvert_exporter": "python",
   "pygments_lexer": "ipython3",
   "version": "3.7.9"
  }
 },
 "nbformat": 4,
 "nbformat_minor": 4
}
