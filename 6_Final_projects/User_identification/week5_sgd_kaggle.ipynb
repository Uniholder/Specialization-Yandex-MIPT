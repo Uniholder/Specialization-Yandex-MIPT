{
  "nbformat": 4,
  "nbformat_minor": 0,
  "metadata": {
    "kernelspec": {
      "display_name": "Python 3",
      "language": "python",
      "name": "python3"
    },
    "language_info": {
      "codemirror_mode": {
        "name": "ipython",
        "version": 3
      },
      "file_extension": ".py",
      "mimetype": "text/x-python",
      "name": "python",
      "nbconvert_exporter": "python",
      "pygments_lexer": "ipython3",
      "version": "3.7.9"
    },
    "colab": {
      "name": "week5_sgd_kaggle.ipynb",
      "provenance": [],
      "collapsed_sections": [],
      "toc_visible": true
    }
  },
  "cells": [
    {
      "cell_type": "markdown",
      "metadata": {
        "id": "xConYyidevop"
      },
      "source": [
        "<center>\n",
        "<img src=\"https://habrastorage.org/web/677/8e1/337/6778e1337c3d4b159d7e99df94227cb2.jpg\"/>\n",
        "\n",
        "## Специализация \"Машинное обучение и анализ данных\"\n",
        "<center>Автор материала: программист-исследователь Mail.Ru Group, старший преподаватель Факультета Компьютерных Наук ВШЭ [Юрий Кашницкий](https://yorko.github.io/)"
      ]
    },
    {
      "cell_type": "markdown",
      "metadata": {
        "id": "7dB9H9Uaevo7"
      },
      "source": [
        "# <center> Capstone проект №1 <br> Идентификация пользователей по посещенным веб-страницам\n",
        "<img src='http://i.istockimg.com/file_thumbview_approve/21546327/5/stock-illustration-21546327-identification-de-l-utilisateur.jpg'>\n",
        "\n",
        "# <center>Неделя 5.  Соревнование Kaggle \"Catch Me If You Can\"\n",
        "\n",
        "На этой неделе мы вспомним про концепцию стохастического градиентного спуска и опробуем классификатор Scikit-learn SGDClassifier, который работает намного быстрее на больших выборках, чем алгоритмы, которые мы тестировали на 4 неделе. Также мы познакомимся с данными [соревнования](https://inclass.kaggle.com/c/catch-me-if-you-can-intruder-detection-through-webpage-session-tracking2) Kaggle по идентификации пользователей и сделаем в нем первые посылки. По итогам этой недели дополнительные баллы получат те, кто попадет в топ-30 публичного лидерборда соревнования.\n",
        "\n",
        "**В этой части проекта Вам могут быть полезны видеозаписи следующих лекций курса \"Обучение на размеченных данных\":**\n",
        "   - [Стохатический градиентный спуск](https://www.coursera.org/learn/supervised-learning/lecture/xRY50/stokhastichieskii-ghradiientnyi-spusk)\n",
        "   - [Линейные модели. Sklearn.linear_model. Классификация](https://www.coursera.org/learn/supervised-learning/lecture/EBg9t/linieinyie-modieli-sklearn-linear-model-klassifikatsiia)\n",
        "   \n",
        "**Также рекомендуется вернуться и просмотреть [задание](https://www.coursera.org/learn/supervised-learning/programming/t2Idc/linieinaia-rieghriessiia-i-stokhastichieskii-ghradiientnyi-spusk) \"Линейная регрессия и стохастический градиентный спуск\" 1 недели 2 курса специализации.**"
      ]
    },
    {
      "cell_type": "markdown",
      "metadata": {
        "id": "4x9yJCu4evo9"
      },
      "source": [
        "### Задание\n",
        "1. Заполните код в этой тетрадке \n",
        "2. Если вы проходите специализацию Яндеса и МФТИ, пошлите тетрадку в соответствующем Peer Review. <br> Если вы проходите курс ODS, выберите ответы в [веб-форме](https://docs.google.com/forms/d/1pLsegkAICL9PzOLyAeH9DmDOBfktte0l8JW75uWcTng). "
      ]
    },
    {
      "cell_type": "code",
      "metadata": {
        "collapsed": true,
        "id": "vp53iRU4evo-"
      },
      "source": [
        "from __future__ import division, print_function\n",
        "# отключим всякие предупреждения Anaconda\n",
        "import warnings\n",
        "warnings.filterwarnings('ignore')\n",
        "import os\n",
        "import pickle\n",
        "import numpy as np\n",
        "import pandas as pd\n",
        "from scipy.sparse import csr_matrix\n",
        "from sklearn.model_selection import train_test_split\n",
        "from sklearn.linear_model import SGDClassifier\n",
        "from sklearn.metrics import roc_auc_score"
      ],
      "execution_count": 1,
      "outputs": []
    },
    {
      "cell_type": "markdown",
      "metadata": {
        "id": "SSQQ1Xk5evpA"
      },
      "source": [
        "**Считаем данные [соревнования](https://inclass.kaggle.com/c/catch-me-if-you-can-intruder-detection-through-webpage-session-tracking2) в DataFrame train_df и test_df (обучающая и тестовая выборки).**"
      ]
    },
    {
      "cell_type": "code",
      "metadata": {
        "collapsed": true,
        "id": "ssyXodMeevpB"
      },
      "source": [
        "# Поменяйте на свой путь к данным\n",
        "PATH_TO_DATA = 'capstone_user_identification'"
      ],
      "execution_count": 2,
      "outputs": []
    },
    {
      "cell_type": "code",
      "metadata": {
        "id": "Wg8z9iJlhH8L"
      },
      "source": [
        "# !unzip capstone_user_identification.zip"
      ],
      "execution_count": null,
      "outputs": []
    },
    {
      "cell_type": "code",
      "metadata": {
        "collapsed": true,
        "id": "CTCSeq9revpC"
      },
      "source": [
        "train_df = pd.read_csv(os.path.join(PATH_TO_DATA, 'train_sessions.csv'),\n",
        "                       index_col='session_id')\n",
        "test_df = pd.read_csv(os.path.join(PATH_TO_DATA, 'test_sessions.csv'),\n",
        "                      index_col='session_id')"
      ],
      "execution_count": 4,
      "outputs": []
    },
    {
      "cell_type": "code",
      "metadata": {
        "colab": {
          "base_uri": "https://localhost:8080/",
          "height": 405
        },
        "id": "0qkZegEbevpD",
        "outputId": "05793546-8fce-4c39-c779-12d7e7d56477"
      },
      "source": [
        "train_df.head()"
      ],
      "execution_count": 5,
      "outputs": [
        {
          "output_type": "execute_result",
          "data": {
            "text/html": [
              "<div>\n",
              "<style scoped>\n",
              "    .dataframe tbody tr th:only-of-type {\n",
              "        vertical-align: middle;\n",
              "    }\n",
              "\n",
              "    .dataframe tbody tr th {\n",
              "        vertical-align: top;\n",
              "    }\n",
              "\n",
              "    .dataframe thead th {\n",
              "        text-align: right;\n",
              "    }\n",
              "</style>\n",
              "<table border=\"1\" class=\"dataframe\">\n",
              "  <thead>\n",
              "    <tr style=\"text-align: right;\">\n",
              "      <th></th>\n",
              "      <th>site1</th>\n",
              "      <th>time1</th>\n",
              "      <th>site2</th>\n",
              "      <th>time2</th>\n",
              "      <th>site3</th>\n",
              "      <th>time3</th>\n",
              "      <th>site4</th>\n",
              "      <th>time4</th>\n",
              "      <th>site5</th>\n",
              "      <th>time5</th>\n",
              "      <th>site6</th>\n",
              "      <th>time6</th>\n",
              "      <th>site7</th>\n",
              "      <th>time7</th>\n",
              "      <th>site8</th>\n",
              "      <th>time8</th>\n",
              "      <th>site9</th>\n",
              "      <th>time9</th>\n",
              "      <th>site10</th>\n",
              "      <th>time10</th>\n",
              "      <th>target</th>\n",
              "    </tr>\n",
              "    <tr>\n",
              "      <th>session_id</th>\n",
              "      <th></th>\n",
              "      <th></th>\n",
              "      <th></th>\n",
              "      <th></th>\n",
              "      <th></th>\n",
              "      <th></th>\n",
              "      <th></th>\n",
              "      <th></th>\n",
              "      <th></th>\n",
              "      <th></th>\n",
              "      <th></th>\n",
              "      <th></th>\n",
              "      <th></th>\n",
              "      <th></th>\n",
              "      <th></th>\n",
              "      <th></th>\n",
              "      <th></th>\n",
              "      <th></th>\n",
              "      <th></th>\n",
              "      <th></th>\n",
              "      <th></th>\n",
              "    </tr>\n",
              "  </thead>\n",
              "  <tbody>\n",
              "    <tr>\n",
              "      <th>1</th>\n",
              "      <td>718</td>\n",
              "      <td>2014-02-20 10:02:45</td>\n",
              "      <td>NaN</td>\n",
              "      <td>NaN</td>\n",
              "      <td>NaN</td>\n",
              "      <td>NaN</td>\n",
              "      <td>NaN</td>\n",
              "      <td>NaN</td>\n",
              "      <td>NaN</td>\n",
              "      <td>NaN</td>\n",
              "      <td>NaN</td>\n",
              "      <td>NaN</td>\n",
              "      <td>NaN</td>\n",
              "      <td>NaN</td>\n",
              "      <td>NaN</td>\n",
              "      <td>NaN</td>\n",
              "      <td>NaN</td>\n",
              "      <td>NaN</td>\n",
              "      <td>NaN</td>\n",
              "      <td>NaN</td>\n",
              "      <td>0</td>\n",
              "    </tr>\n",
              "    <tr>\n",
              "      <th>2</th>\n",
              "      <td>890</td>\n",
              "      <td>2014-02-22 11:19:50</td>\n",
              "      <td>941.0</td>\n",
              "      <td>2014-02-22 11:19:50</td>\n",
              "      <td>3847.0</td>\n",
              "      <td>2014-02-22 11:19:51</td>\n",
              "      <td>941.0</td>\n",
              "      <td>2014-02-22 11:19:51</td>\n",
              "      <td>942.0</td>\n",
              "      <td>2014-02-22 11:19:51</td>\n",
              "      <td>3846.0</td>\n",
              "      <td>2014-02-22 11:19:51</td>\n",
              "      <td>3847.0</td>\n",
              "      <td>2014-02-22 11:19:52</td>\n",
              "      <td>3846.0</td>\n",
              "      <td>2014-02-22 11:19:52</td>\n",
              "      <td>1516.0</td>\n",
              "      <td>2014-02-22 11:20:15</td>\n",
              "      <td>1518.0</td>\n",
              "      <td>2014-02-22 11:20:16</td>\n",
              "      <td>0</td>\n",
              "    </tr>\n",
              "    <tr>\n",
              "      <th>3</th>\n",
              "      <td>14769</td>\n",
              "      <td>2013-12-16 16:40:17</td>\n",
              "      <td>39.0</td>\n",
              "      <td>2013-12-16 16:40:18</td>\n",
              "      <td>14768.0</td>\n",
              "      <td>2013-12-16 16:40:19</td>\n",
              "      <td>14769.0</td>\n",
              "      <td>2013-12-16 16:40:19</td>\n",
              "      <td>37.0</td>\n",
              "      <td>2013-12-16 16:40:19</td>\n",
              "      <td>39.0</td>\n",
              "      <td>2013-12-16 16:40:19</td>\n",
              "      <td>14768.0</td>\n",
              "      <td>2013-12-16 16:40:20</td>\n",
              "      <td>14768.0</td>\n",
              "      <td>2013-12-16 16:40:21</td>\n",
              "      <td>14768.0</td>\n",
              "      <td>2013-12-16 16:40:22</td>\n",
              "      <td>14768.0</td>\n",
              "      <td>2013-12-16 16:40:24</td>\n",
              "      <td>0</td>\n",
              "    </tr>\n",
              "    <tr>\n",
              "      <th>4</th>\n",
              "      <td>782</td>\n",
              "      <td>2014-03-28 10:52:12</td>\n",
              "      <td>782.0</td>\n",
              "      <td>2014-03-28 10:52:42</td>\n",
              "      <td>782.0</td>\n",
              "      <td>2014-03-28 10:53:12</td>\n",
              "      <td>782.0</td>\n",
              "      <td>2014-03-28 10:53:42</td>\n",
              "      <td>782.0</td>\n",
              "      <td>2014-03-28 10:54:12</td>\n",
              "      <td>782.0</td>\n",
              "      <td>2014-03-28 10:54:42</td>\n",
              "      <td>782.0</td>\n",
              "      <td>2014-03-28 10:55:12</td>\n",
              "      <td>782.0</td>\n",
              "      <td>2014-03-28 10:55:42</td>\n",
              "      <td>782.0</td>\n",
              "      <td>2014-03-28 10:56:12</td>\n",
              "      <td>782.0</td>\n",
              "      <td>2014-03-28 10:56:42</td>\n",
              "      <td>0</td>\n",
              "    </tr>\n",
              "    <tr>\n",
              "      <th>5</th>\n",
              "      <td>22</td>\n",
              "      <td>2014-02-28 10:53:05</td>\n",
              "      <td>177.0</td>\n",
              "      <td>2014-02-28 10:55:22</td>\n",
              "      <td>175.0</td>\n",
              "      <td>2014-02-28 10:55:22</td>\n",
              "      <td>178.0</td>\n",
              "      <td>2014-02-28 10:55:23</td>\n",
              "      <td>177.0</td>\n",
              "      <td>2014-02-28 10:55:23</td>\n",
              "      <td>178.0</td>\n",
              "      <td>2014-02-28 10:55:59</td>\n",
              "      <td>175.0</td>\n",
              "      <td>2014-02-28 10:55:59</td>\n",
              "      <td>177.0</td>\n",
              "      <td>2014-02-28 10:55:59</td>\n",
              "      <td>177.0</td>\n",
              "      <td>2014-02-28 10:57:06</td>\n",
              "      <td>178.0</td>\n",
              "      <td>2014-02-28 10:57:11</td>\n",
              "      <td>0</td>\n",
              "    </tr>\n",
              "  </tbody>\n",
              "</table>\n",
              "</div>"
            ],
            "text/plain": [
              "            site1                time1  ...               time10 target\n",
              "session_id                              ...                            \n",
              "1             718  2014-02-20 10:02:45  ...                  NaN      0\n",
              "2             890  2014-02-22 11:19:50  ...  2014-02-22 11:20:16      0\n",
              "3           14769  2013-12-16 16:40:17  ...  2013-12-16 16:40:24      0\n",
              "4             782  2014-03-28 10:52:12  ...  2014-03-28 10:56:42      0\n",
              "5              22  2014-02-28 10:53:05  ...  2014-02-28 10:57:11      0\n",
              "\n",
              "[5 rows x 21 columns]"
            ]
          },
          "metadata": {
            "tags": []
          },
          "execution_count": 5
        }
      ]
    },
    {
      "cell_type": "markdown",
      "metadata": {
        "id": "oEFhfT40evpG"
      },
      "source": [
        "**Объединим обучающую и тестовую выборки – это понадобится, чтоб вместе потом привести их к разреженному формату.**"
      ]
    },
    {
      "cell_type": "code",
      "metadata": {
        "collapsed": true,
        "id": "CTiYUjNzevpH"
      },
      "source": [
        "train_test_df = pd.concat([train_df, test_df])"
      ],
      "execution_count": 6,
      "outputs": []
    },
    {
      "cell_type": "markdown",
      "metadata": {
        "id": "GHifHjsIevpI"
      },
      "source": [
        "В обучающей выборке видим следующие признаки:\n",
        "    - site1 – индекс первого посещенного сайта в сессии\n",
        "    - time1 – время посещения первого сайта в сессии\n",
        "    - ...\n",
        "    - site10 – индекс 10-го посещенного сайта в сессии\n",
        "    - time10 – время посещения 10-го сайта в сессии\n",
        "    - user_id – ID пользователя\n",
        "    \n",
        "Сессии пользователей выделены таким образом, что они не могут быть длинее получаса или 10 сайтов. То есть сессия считается оконченной либо когда пользователь посетил 10 сайтов подряд, либо когда сессия заняла по времени более 30 минут. "
      ]
    },
    {
      "cell_type": "markdown",
      "metadata": {
        "id": "U6aSF7u0evpJ"
      },
      "source": [
        "**Посмотрим на статистику признаков.**\n",
        "\n",
        "Пропуски возникают там, где сессии короткие (менее 10 сайтов). Скажем, если человек 1 января 2015 года посетил *vk.com* в 20:01, потом *yandex.ru* в 20:29, затем *google.com* в 20:33, то первая его сессия будет состоять только из двух сайтов (site1 – ID сайта *vk.com*, time1 – 2015-01-01 20:01:00, site2 – ID сайта  *yandex.ru*, time2 – 2015-01-01 20:29:00, остальные признаки – NaN), а начиная с *google.com* пойдет новая сессия, потому что уже прошло более 30 минут с момента посещения *vk.com*."
      ]
    },
    {
      "cell_type": "code",
      "metadata": {
        "colab": {
          "base_uri": "https://localhost:8080/"
        },
        "id": "4K1LuQx1evpK",
        "outputId": "28c8fcf7-92c4-434f-e51c-da5acabf8888"
      },
      "source": [
        "train_df.info()"
      ],
      "execution_count": 7,
      "outputs": [
        {
          "output_type": "stream",
          "text": [
            "<class 'pandas.core.frame.DataFrame'>\n",
            "Int64Index: 253561 entries, 1 to 253561\n",
            "Data columns (total 21 columns):\n",
            " #   Column  Non-Null Count   Dtype  \n",
            "---  ------  --------------   -----  \n",
            " 0   site1   253561 non-null  int64  \n",
            " 1   time1   253561 non-null  object \n",
            " 2   site2   250098 non-null  float64\n",
            " 3   time2   250098 non-null  object \n",
            " 4   site3   246919 non-null  float64\n",
            " 5   time3   246919 non-null  object \n",
            " 6   site4   244321 non-null  float64\n",
            " 7   time4   244321 non-null  object \n",
            " 8   site5   241829 non-null  float64\n",
            " 9   time5   241829 non-null  object \n",
            " 10  site6   239495 non-null  float64\n",
            " 11  time6   239495 non-null  object \n",
            " 12  site7   237297 non-null  float64\n",
            " 13  time7   237297 non-null  object \n",
            " 14  site8   235224 non-null  float64\n",
            " 15  time8   235224 non-null  object \n",
            " 16  site9   233084 non-null  float64\n",
            " 17  time9   233084 non-null  object \n",
            " 18  site10  231052 non-null  float64\n",
            " 19  time10  231052 non-null  object \n",
            " 20  target  253561 non-null  int64  \n",
            "dtypes: float64(9), int64(2), object(10)\n",
            "memory usage: 42.6+ MB\n"
          ],
          "name": "stdout"
        }
      ]
    },
    {
      "cell_type": "code",
      "metadata": {
        "colab": {
          "base_uri": "https://localhost:8080/",
          "height": 405
        },
        "id": "9tqrI0XHevpL",
        "outputId": "6ff735e7-0de6-4358-e613-73dd8ab0b87c"
      },
      "source": [
        "test_df.head()"
      ],
      "execution_count": 8,
      "outputs": [
        {
          "output_type": "execute_result",
          "data": {
            "text/html": [
              "<div>\n",
              "<style scoped>\n",
              "    .dataframe tbody tr th:only-of-type {\n",
              "        vertical-align: middle;\n",
              "    }\n",
              "\n",
              "    .dataframe tbody tr th {\n",
              "        vertical-align: top;\n",
              "    }\n",
              "\n",
              "    .dataframe thead th {\n",
              "        text-align: right;\n",
              "    }\n",
              "</style>\n",
              "<table border=\"1\" class=\"dataframe\">\n",
              "  <thead>\n",
              "    <tr style=\"text-align: right;\">\n",
              "      <th></th>\n",
              "      <th>site1</th>\n",
              "      <th>time1</th>\n",
              "      <th>site2</th>\n",
              "      <th>time2</th>\n",
              "      <th>site3</th>\n",
              "      <th>time3</th>\n",
              "      <th>site4</th>\n",
              "      <th>time4</th>\n",
              "      <th>site5</th>\n",
              "      <th>time5</th>\n",
              "      <th>site6</th>\n",
              "      <th>time6</th>\n",
              "      <th>site7</th>\n",
              "      <th>time7</th>\n",
              "      <th>site8</th>\n",
              "      <th>time8</th>\n",
              "      <th>site9</th>\n",
              "      <th>time9</th>\n",
              "      <th>site10</th>\n",
              "      <th>time10</th>\n",
              "    </tr>\n",
              "    <tr>\n",
              "      <th>session_id</th>\n",
              "      <th></th>\n",
              "      <th></th>\n",
              "      <th></th>\n",
              "      <th></th>\n",
              "      <th></th>\n",
              "      <th></th>\n",
              "      <th></th>\n",
              "      <th></th>\n",
              "      <th></th>\n",
              "      <th></th>\n",
              "      <th></th>\n",
              "      <th></th>\n",
              "      <th></th>\n",
              "      <th></th>\n",
              "      <th></th>\n",
              "      <th></th>\n",
              "      <th></th>\n",
              "      <th></th>\n",
              "      <th></th>\n",
              "      <th></th>\n",
              "    </tr>\n",
              "  </thead>\n",
              "  <tbody>\n",
              "    <tr>\n",
              "      <th>1</th>\n",
              "      <td>29</td>\n",
              "      <td>2014-10-04 11:19:53</td>\n",
              "      <td>35.0</td>\n",
              "      <td>2014-10-04 11:19:53</td>\n",
              "      <td>22.0</td>\n",
              "      <td>2014-10-04 11:19:54</td>\n",
              "      <td>321.0</td>\n",
              "      <td>2014-10-04 11:19:54</td>\n",
              "      <td>23.0</td>\n",
              "      <td>2014-10-04 11:19:54</td>\n",
              "      <td>2211.0</td>\n",
              "      <td>2014-10-04 11:19:54</td>\n",
              "      <td>6730.0</td>\n",
              "      <td>2014-10-04 11:19:54</td>\n",
              "      <td>21.0</td>\n",
              "      <td>2014-10-04 11:19:54</td>\n",
              "      <td>44582.0</td>\n",
              "      <td>2014-10-04 11:20:00</td>\n",
              "      <td>15336.0</td>\n",
              "      <td>2014-10-04 11:20:00</td>\n",
              "    </tr>\n",
              "    <tr>\n",
              "      <th>2</th>\n",
              "      <td>782</td>\n",
              "      <td>2014-07-03 11:00:28</td>\n",
              "      <td>782.0</td>\n",
              "      <td>2014-07-03 11:00:53</td>\n",
              "      <td>782.0</td>\n",
              "      <td>2014-07-03 11:00:58</td>\n",
              "      <td>782.0</td>\n",
              "      <td>2014-07-03 11:01:06</td>\n",
              "      <td>782.0</td>\n",
              "      <td>2014-07-03 11:01:09</td>\n",
              "      <td>782.0</td>\n",
              "      <td>2014-07-03 11:01:10</td>\n",
              "      <td>782.0</td>\n",
              "      <td>2014-07-03 11:01:23</td>\n",
              "      <td>782.0</td>\n",
              "      <td>2014-07-03 11:01:29</td>\n",
              "      <td>782.0</td>\n",
              "      <td>2014-07-03 11:01:30</td>\n",
              "      <td>782.0</td>\n",
              "      <td>2014-07-03 11:01:53</td>\n",
              "    </tr>\n",
              "    <tr>\n",
              "      <th>3</th>\n",
              "      <td>55</td>\n",
              "      <td>2014-12-05 15:55:12</td>\n",
              "      <td>55.0</td>\n",
              "      <td>2014-12-05 15:55:13</td>\n",
              "      <td>55.0</td>\n",
              "      <td>2014-12-05 15:55:14</td>\n",
              "      <td>55.0</td>\n",
              "      <td>2014-12-05 15:56:15</td>\n",
              "      <td>55.0</td>\n",
              "      <td>2014-12-05 15:56:16</td>\n",
              "      <td>55.0</td>\n",
              "      <td>2014-12-05 15:56:17</td>\n",
              "      <td>55.0</td>\n",
              "      <td>2014-12-05 15:56:18</td>\n",
              "      <td>55.0</td>\n",
              "      <td>2014-12-05 15:56:19</td>\n",
              "      <td>1445.0</td>\n",
              "      <td>2014-12-05 15:56:33</td>\n",
              "      <td>1445.0</td>\n",
              "      <td>2014-12-05 15:56:36</td>\n",
              "    </tr>\n",
              "    <tr>\n",
              "      <th>4</th>\n",
              "      <td>1023</td>\n",
              "      <td>2014-11-04 10:03:19</td>\n",
              "      <td>1022.0</td>\n",
              "      <td>2014-11-04 10:03:19</td>\n",
              "      <td>50.0</td>\n",
              "      <td>2014-11-04 10:03:20</td>\n",
              "      <td>222.0</td>\n",
              "      <td>2014-11-04 10:03:21</td>\n",
              "      <td>202.0</td>\n",
              "      <td>2014-11-04 10:03:21</td>\n",
              "      <td>3374.0</td>\n",
              "      <td>2014-11-04 10:03:22</td>\n",
              "      <td>50.0</td>\n",
              "      <td>2014-11-04 10:03:22</td>\n",
              "      <td>48.0</td>\n",
              "      <td>2014-11-04 10:03:22</td>\n",
              "      <td>48.0</td>\n",
              "      <td>2014-11-04 10:03:23</td>\n",
              "      <td>3374.0</td>\n",
              "      <td>2014-11-04 10:03:23</td>\n",
              "    </tr>\n",
              "    <tr>\n",
              "      <th>5</th>\n",
              "      <td>301</td>\n",
              "      <td>2014-05-16 15:05:31</td>\n",
              "      <td>301.0</td>\n",
              "      <td>2014-05-16 15:05:32</td>\n",
              "      <td>301.0</td>\n",
              "      <td>2014-05-16 15:05:33</td>\n",
              "      <td>66.0</td>\n",
              "      <td>2014-05-16 15:05:39</td>\n",
              "      <td>67.0</td>\n",
              "      <td>2014-05-16 15:05:40</td>\n",
              "      <td>69.0</td>\n",
              "      <td>2014-05-16 15:05:40</td>\n",
              "      <td>70.0</td>\n",
              "      <td>2014-05-16 15:05:40</td>\n",
              "      <td>68.0</td>\n",
              "      <td>2014-05-16 15:05:40</td>\n",
              "      <td>71.0</td>\n",
              "      <td>2014-05-16 15:05:40</td>\n",
              "      <td>167.0</td>\n",
              "      <td>2014-05-16 15:05:44</td>\n",
              "    </tr>\n",
              "  </tbody>\n",
              "</table>\n",
              "</div>"
            ],
            "text/plain": [
              "            site1                time1  ...   site10               time10\n",
              "session_id                              ...                              \n",
              "1              29  2014-10-04 11:19:53  ...  15336.0  2014-10-04 11:20:00\n",
              "2             782  2014-07-03 11:00:28  ...    782.0  2014-07-03 11:01:53\n",
              "3              55  2014-12-05 15:55:12  ...   1445.0  2014-12-05 15:56:36\n",
              "4            1023  2014-11-04 10:03:19  ...   3374.0  2014-11-04 10:03:23\n",
              "5             301  2014-05-16 15:05:31  ...    167.0  2014-05-16 15:05:44\n",
              "\n",
              "[5 rows x 20 columns]"
            ]
          },
          "metadata": {
            "tags": []
          },
          "execution_count": 8
        }
      ]
    },
    {
      "cell_type": "code",
      "metadata": {
        "colab": {
          "base_uri": "https://localhost:8080/"
        },
        "id": "RsUGJ_F-evpM",
        "outputId": "6960dade-ea03-455e-e224-23134549677d"
      },
      "source": [
        "test_df.info()"
      ],
      "execution_count": 9,
      "outputs": [
        {
          "output_type": "stream",
          "text": [
            "<class 'pandas.core.frame.DataFrame'>\n",
            "Int64Index: 82797 entries, 1 to 82797\n",
            "Data columns (total 20 columns):\n",
            " #   Column  Non-Null Count  Dtype  \n",
            "---  ------  --------------  -----  \n",
            " 0   site1   82797 non-null  int64  \n",
            " 1   time1   82797 non-null  object \n",
            " 2   site2   81308 non-null  float64\n",
            " 3   time2   81308 non-null  object \n",
            " 4   site3   80075 non-null  float64\n",
            " 5   time3   80075 non-null  object \n",
            " 6   site4   79182 non-null  float64\n",
            " 7   time4   79182 non-null  object \n",
            " 8   site5   78341 non-null  float64\n",
            " 9   time5   78341 non-null  object \n",
            " 10  site6   77566 non-null  float64\n",
            " 11  time6   77566 non-null  object \n",
            " 12  site7   76840 non-null  float64\n",
            " 13  time7   76840 non-null  object \n",
            " 14  site8   76151 non-null  float64\n",
            " 15  time8   76151 non-null  object \n",
            " 16  site9   75484 non-null  float64\n",
            " 17  time9   75484 non-null  object \n",
            " 18  site10  74806 non-null  float64\n",
            " 19  time10  74806 non-null  object \n",
            "dtypes: float64(9), int64(1), object(10)\n",
            "memory usage: 13.3+ MB\n"
          ],
          "name": "stdout"
        }
      ]
    },
    {
      "cell_type": "markdown",
      "metadata": {
        "id": "upYSkww4evpN"
      },
      "source": [
        "**В обучающей выборке – 2297 сессий одного пользователя (Alice) и 251264 сессий – других пользователей, не Элис. Дисбаланс классов очень сильный, и смотреть на долю верных ответов (accuracy) непоказательно.**"
      ]
    },
    {
      "cell_type": "code",
      "metadata": {
        "colab": {
          "base_uri": "https://localhost:8080/"
        },
        "id": "Q4htcOu-evpN",
        "outputId": "9fc9f350-30c4-446c-bdf8-63b7646e7202"
      },
      "source": [
        "train_df['target'].value_counts()"
      ],
      "execution_count": 10,
      "outputs": [
        {
          "output_type": "execute_result",
          "data": {
            "text/plain": [
              "0    251264\n",
              "1      2297\n",
              "Name: target, dtype: int64"
            ]
          },
          "metadata": {
            "tags": []
          },
          "execution_count": 10
        }
      ]
    },
    {
      "cell_type": "markdown",
      "metadata": {
        "id": "12Vb5rZJevpO"
      },
      "source": [
        "**Пока для прогноза будем использовать только индексы посещенных сайтов. Индексы нумеровались с 1, так что заменим пропуски на нули.**"
      ]
    },
    {
      "cell_type": "code",
      "metadata": {
        "collapsed": true,
        "id": "kg7jEjs4evpO"
      },
      "source": [
        "train_test_df_sites = train_test_df[['site%d' % i for i in range(1, 11)]].fillna(0).astype('int')"
      ],
      "execution_count": 11,
      "outputs": []
    },
    {
      "cell_type": "code",
      "metadata": {
        "colab": {
          "base_uri": "https://localhost:8080/",
          "height": 390
        },
        "id": "hMqhfxmpevpP",
        "outputId": "c287dde7-f4e4-4c55-aa26-c6ac607b1573"
      },
      "source": [
        "train_test_df_sites.head(10)"
      ],
      "execution_count": 12,
      "outputs": [
        {
          "output_type": "execute_result",
          "data": {
            "text/html": [
              "<div>\n",
              "<style scoped>\n",
              "    .dataframe tbody tr th:only-of-type {\n",
              "        vertical-align: middle;\n",
              "    }\n",
              "\n",
              "    .dataframe tbody tr th {\n",
              "        vertical-align: top;\n",
              "    }\n",
              "\n",
              "    .dataframe thead th {\n",
              "        text-align: right;\n",
              "    }\n",
              "</style>\n",
              "<table border=\"1\" class=\"dataframe\">\n",
              "  <thead>\n",
              "    <tr style=\"text-align: right;\">\n",
              "      <th></th>\n",
              "      <th>site1</th>\n",
              "      <th>site2</th>\n",
              "      <th>site3</th>\n",
              "      <th>site4</th>\n",
              "      <th>site5</th>\n",
              "      <th>site6</th>\n",
              "      <th>site7</th>\n",
              "      <th>site8</th>\n",
              "      <th>site9</th>\n",
              "      <th>site10</th>\n",
              "    </tr>\n",
              "    <tr>\n",
              "      <th>session_id</th>\n",
              "      <th></th>\n",
              "      <th></th>\n",
              "      <th></th>\n",
              "      <th></th>\n",
              "      <th></th>\n",
              "      <th></th>\n",
              "      <th></th>\n",
              "      <th></th>\n",
              "      <th></th>\n",
              "      <th></th>\n",
              "    </tr>\n",
              "  </thead>\n",
              "  <tbody>\n",
              "    <tr>\n",
              "      <th>1</th>\n",
              "      <td>718</td>\n",
              "      <td>0</td>\n",
              "      <td>0</td>\n",
              "      <td>0</td>\n",
              "      <td>0</td>\n",
              "      <td>0</td>\n",
              "      <td>0</td>\n",
              "      <td>0</td>\n",
              "      <td>0</td>\n",
              "      <td>0</td>\n",
              "    </tr>\n",
              "    <tr>\n",
              "      <th>2</th>\n",
              "      <td>890</td>\n",
              "      <td>941</td>\n",
              "      <td>3847</td>\n",
              "      <td>941</td>\n",
              "      <td>942</td>\n",
              "      <td>3846</td>\n",
              "      <td>3847</td>\n",
              "      <td>3846</td>\n",
              "      <td>1516</td>\n",
              "      <td>1518</td>\n",
              "    </tr>\n",
              "    <tr>\n",
              "      <th>3</th>\n",
              "      <td>14769</td>\n",
              "      <td>39</td>\n",
              "      <td>14768</td>\n",
              "      <td>14769</td>\n",
              "      <td>37</td>\n",
              "      <td>39</td>\n",
              "      <td>14768</td>\n",
              "      <td>14768</td>\n",
              "      <td>14768</td>\n",
              "      <td>14768</td>\n",
              "    </tr>\n",
              "    <tr>\n",
              "      <th>4</th>\n",
              "      <td>782</td>\n",
              "      <td>782</td>\n",
              "      <td>782</td>\n",
              "      <td>782</td>\n",
              "      <td>782</td>\n",
              "      <td>782</td>\n",
              "      <td>782</td>\n",
              "      <td>782</td>\n",
              "      <td>782</td>\n",
              "      <td>782</td>\n",
              "    </tr>\n",
              "    <tr>\n",
              "      <th>5</th>\n",
              "      <td>22</td>\n",
              "      <td>177</td>\n",
              "      <td>175</td>\n",
              "      <td>178</td>\n",
              "      <td>177</td>\n",
              "      <td>178</td>\n",
              "      <td>175</td>\n",
              "      <td>177</td>\n",
              "      <td>177</td>\n",
              "      <td>178</td>\n",
              "    </tr>\n",
              "    <tr>\n",
              "      <th>6</th>\n",
              "      <td>570</td>\n",
              "      <td>21</td>\n",
              "      <td>570</td>\n",
              "      <td>21</td>\n",
              "      <td>21</td>\n",
              "      <td>0</td>\n",
              "      <td>0</td>\n",
              "      <td>0</td>\n",
              "      <td>0</td>\n",
              "      <td>0</td>\n",
              "    </tr>\n",
              "    <tr>\n",
              "      <th>7</th>\n",
              "      <td>803</td>\n",
              "      <td>23</td>\n",
              "      <td>5956</td>\n",
              "      <td>17513</td>\n",
              "      <td>37</td>\n",
              "      <td>21</td>\n",
              "      <td>803</td>\n",
              "      <td>17514</td>\n",
              "      <td>17514</td>\n",
              "      <td>17514</td>\n",
              "    </tr>\n",
              "    <tr>\n",
              "      <th>8</th>\n",
              "      <td>22</td>\n",
              "      <td>21</td>\n",
              "      <td>29</td>\n",
              "      <td>5041</td>\n",
              "      <td>14422</td>\n",
              "      <td>23</td>\n",
              "      <td>21</td>\n",
              "      <td>5041</td>\n",
              "      <td>14421</td>\n",
              "      <td>14421</td>\n",
              "    </tr>\n",
              "    <tr>\n",
              "      <th>9</th>\n",
              "      <td>668</td>\n",
              "      <td>940</td>\n",
              "      <td>942</td>\n",
              "      <td>941</td>\n",
              "      <td>941</td>\n",
              "      <td>942</td>\n",
              "      <td>940</td>\n",
              "      <td>23</td>\n",
              "      <td>21</td>\n",
              "      <td>22</td>\n",
              "    </tr>\n",
              "    <tr>\n",
              "      <th>10</th>\n",
              "      <td>3700</td>\n",
              "      <td>229</td>\n",
              "      <td>570</td>\n",
              "      <td>21</td>\n",
              "      <td>229</td>\n",
              "      <td>21</td>\n",
              "      <td>21</td>\n",
              "      <td>21</td>\n",
              "      <td>2336</td>\n",
              "      <td>2044</td>\n",
              "    </tr>\n",
              "  </tbody>\n",
              "</table>\n",
              "</div>"
            ],
            "text/plain": [
              "            site1  site2  site3  site4  ...  site7  site8  site9  site10\n",
              "session_id                              ...                             \n",
              "1             718      0      0      0  ...      0      0      0       0\n",
              "2             890    941   3847    941  ...   3847   3846   1516    1518\n",
              "3           14769     39  14768  14769  ...  14768  14768  14768   14768\n",
              "4             782    782    782    782  ...    782    782    782     782\n",
              "5              22    177    175    178  ...    175    177    177     178\n",
              "6             570     21    570     21  ...      0      0      0       0\n",
              "7             803     23   5956  17513  ...    803  17514  17514   17514\n",
              "8              22     21     29   5041  ...     21   5041  14421   14421\n",
              "9             668    940    942    941  ...    940     23     21      22\n",
              "10           3700    229    570     21  ...     21     21   2336    2044\n",
              "\n",
              "[10 rows x 10 columns]"
            ]
          },
          "metadata": {
            "tags": []
          },
          "execution_count": 12
        }
      ]
    },
    {
      "cell_type": "markdown",
      "metadata": {
        "id": "XiR_BXf-evpQ"
      },
      "source": [
        "**Создайте разреженные матрицы *X_train_sparse* и *X_test_sparse* аналогично тому, как мы это делали ранее. Используйте объединенную матрицу *train_test_df_sites*, потом разделите обратно на обучающую и тестовую части.**\n",
        "\n",
        "Обратите внимание на то, что в  сессиях меньше 10 сайтов  у нас остались нули, так что первый признак (сколько раз попался 0) по смыслу отличен от остальных (сколько раз попался сайт с индексом $i$). Поэтому первый столбец разреженной матрицы надо будет удалить.\n",
        "\n",
        "**Выделите в отдельный вектор *y* ответы на обучающей выборке.**"
      ]
    },
    {
      "cell_type": "code",
      "metadata": {
        "colab": {
          "base_uri": "https://localhost:8080/",
          "height": 450
        },
        "id": "oMEHNyMarGAY",
        "outputId": "b7014e9d-3225-4cf8-d7c5-4ba57f159cbe"
      },
      "source": [
        "train_test_df_sites"
      ],
      "execution_count": 13,
      "outputs": [
        {
          "output_type": "execute_result",
          "data": {
            "text/html": [
              "<div>\n",
              "<style scoped>\n",
              "    .dataframe tbody tr th:only-of-type {\n",
              "        vertical-align: middle;\n",
              "    }\n",
              "\n",
              "    .dataframe tbody tr th {\n",
              "        vertical-align: top;\n",
              "    }\n",
              "\n",
              "    .dataframe thead th {\n",
              "        text-align: right;\n",
              "    }\n",
              "</style>\n",
              "<table border=\"1\" class=\"dataframe\">\n",
              "  <thead>\n",
              "    <tr style=\"text-align: right;\">\n",
              "      <th></th>\n",
              "      <th>site1</th>\n",
              "      <th>site2</th>\n",
              "      <th>site3</th>\n",
              "      <th>site4</th>\n",
              "      <th>site5</th>\n",
              "      <th>site6</th>\n",
              "      <th>site7</th>\n",
              "      <th>site8</th>\n",
              "      <th>site9</th>\n",
              "      <th>site10</th>\n",
              "    </tr>\n",
              "    <tr>\n",
              "      <th>session_id</th>\n",
              "      <th></th>\n",
              "      <th></th>\n",
              "      <th></th>\n",
              "      <th></th>\n",
              "      <th></th>\n",
              "      <th></th>\n",
              "      <th></th>\n",
              "      <th></th>\n",
              "      <th></th>\n",
              "      <th></th>\n",
              "    </tr>\n",
              "  </thead>\n",
              "  <tbody>\n",
              "    <tr>\n",
              "      <th>1</th>\n",
              "      <td>718</td>\n",
              "      <td>0</td>\n",
              "      <td>0</td>\n",
              "      <td>0</td>\n",
              "      <td>0</td>\n",
              "      <td>0</td>\n",
              "      <td>0</td>\n",
              "      <td>0</td>\n",
              "      <td>0</td>\n",
              "      <td>0</td>\n",
              "    </tr>\n",
              "    <tr>\n",
              "      <th>2</th>\n",
              "      <td>890</td>\n",
              "      <td>941</td>\n",
              "      <td>3847</td>\n",
              "      <td>941</td>\n",
              "      <td>942</td>\n",
              "      <td>3846</td>\n",
              "      <td>3847</td>\n",
              "      <td>3846</td>\n",
              "      <td>1516</td>\n",
              "      <td>1518</td>\n",
              "    </tr>\n",
              "    <tr>\n",
              "      <th>3</th>\n",
              "      <td>14769</td>\n",
              "      <td>39</td>\n",
              "      <td>14768</td>\n",
              "      <td>14769</td>\n",
              "      <td>37</td>\n",
              "      <td>39</td>\n",
              "      <td>14768</td>\n",
              "      <td>14768</td>\n",
              "      <td>14768</td>\n",
              "      <td>14768</td>\n",
              "    </tr>\n",
              "    <tr>\n",
              "      <th>4</th>\n",
              "      <td>782</td>\n",
              "      <td>782</td>\n",
              "      <td>782</td>\n",
              "      <td>782</td>\n",
              "      <td>782</td>\n",
              "      <td>782</td>\n",
              "      <td>782</td>\n",
              "      <td>782</td>\n",
              "      <td>782</td>\n",
              "      <td>782</td>\n",
              "    </tr>\n",
              "    <tr>\n",
              "      <th>5</th>\n",
              "      <td>22</td>\n",
              "      <td>177</td>\n",
              "      <td>175</td>\n",
              "      <td>178</td>\n",
              "      <td>177</td>\n",
              "      <td>178</td>\n",
              "      <td>175</td>\n",
              "      <td>177</td>\n",
              "      <td>177</td>\n",
              "      <td>178</td>\n",
              "    </tr>\n",
              "    <tr>\n",
              "      <th>...</th>\n",
              "      <td>...</td>\n",
              "      <td>...</td>\n",
              "      <td>...</td>\n",
              "      <td>...</td>\n",
              "      <td>...</td>\n",
              "      <td>...</td>\n",
              "      <td>...</td>\n",
              "      <td>...</td>\n",
              "      <td>...</td>\n",
              "      <td>...</td>\n",
              "    </tr>\n",
              "    <tr>\n",
              "      <th>82793</th>\n",
              "      <td>812</td>\n",
              "      <td>1039</td>\n",
              "      <td>676</td>\n",
              "      <td>0</td>\n",
              "      <td>0</td>\n",
              "      <td>0</td>\n",
              "      <td>0</td>\n",
              "      <td>0</td>\n",
              "      <td>0</td>\n",
              "      <td>0</td>\n",
              "    </tr>\n",
              "    <tr>\n",
              "      <th>82794</th>\n",
              "      <td>300</td>\n",
              "      <td>302</td>\n",
              "      <td>302</td>\n",
              "      <td>300</td>\n",
              "      <td>300</td>\n",
              "      <td>1222</td>\n",
              "      <td>302</td>\n",
              "      <td>1218</td>\n",
              "      <td>1221</td>\n",
              "      <td>1216</td>\n",
              "    </tr>\n",
              "    <tr>\n",
              "      <th>82795</th>\n",
              "      <td>29</td>\n",
              "      <td>33</td>\n",
              "      <td>35</td>\n",
              "      <td>22</td>\n",
              "      <td>37</td>\n",
              "      <td>6779</td>\n",
              "      <td>30</td>\n",
              "      <td>21</td>\n",
              "      <td>23</td>\n",
              "      <td>6780</td>\n",
              "    </tr>\n",
              "    <tr>\n",
              "      <th>82796</th>\n",
              "      <td>5828</td>\n",
              "      <td>23</td>\n",
              "      <td>21</td>\n",
              "      <td>804</td>\n",
              "      <td>21</td>\n",
              "      <td>3350</td>\n",
              "      <td>23</td>\n",
              "      <td>894</td>\n",
              "      <td>21</td>\n",
              "      <td>961</td>\n",
              "    </tr>\n",
              "    <tr>\n",
              "      <th>82797</th>\n",
              "      <td>21</td>\n",
              "      <td>1098</td>\n",
              "      <td>1098</td>\n",
              "      <td>1098</td>\n",
              "      <td>1098</td>\n",
              "      <td>1098</td>\n",
              "      <td>1098</td>\n",
              "      <td>1098</td>\n",
              "      <td>1098</td>\n",
              "      <td>1098</td>\n",
              "    </tr>\n",
              "  </tbody>\n",
              "</table>\n",
              "<p>336358 rows × 10 columns</p>\n",
              "</div>"
            ],
            "text/plain": [
              "            site1  site2  site3  site4  ...  site7  site8  site9  site10\n",
              "session_id                              ...                             \n",
              "1             718      0      0      0  ...      0      0      0       0\n",
              "2             890    941   3847    941  ...   3847   3846   1516    1518\n",
              "3           14769     39  14768  14769  ...  14768  14768  14768   14768\n",
              "4             782    782    782    782  ...    782    782    782     782\n",
              "5              22    177    175    178  ...    175    177    177     178\n",
              "...           ...    ...    ...    ...  ...    ...    ...    ...     ...\n",
              "82793         812   1039    676      0  ...      0      0      0       0\n",
              "82794         300    302    302    300  ...    302   1218   1221    1216\n",
              "82795          29     33     35     22  ...     30     21     23    6780\n",
              "82796        5828     23     21    804  ...     23    894     21     961\n",
              "82797          21   1098   1098   1098  ...   1098   1098   1098    1098\n",
              "\n",
              "[336358 rows x 10 columns]"
            ]
          },
          "metadata": {
            "tags": []
          },
          "execution_count": 13
        }
      ]
    },
    {
      "cell_type": "code",
      "metadata": {
        "collapsed": true,
        "id": "QADXXc4QevpQ"
      },
      "source": [
        " # создаём bag of sites\n",
        "data = [1] * train_test_df_sites.size # массив единиц длины n*m - count'ы сайтов (с повторениями)\n",
        "indices = train_test_df_sites.values.flatten() # массив индексов столбцы, на которых размещаются единицы; по сути спрямлённый DataFrame индексов\n",
        "indptr = list(range(0, train_test_df_sites.size + 1, 10)) # массив отрезков длины сессии (в нашем случае просто отсечки по длинам строк)\n",
        "\n",
        "train_test_sparse = csr_matrix((data, indices, indptr))[:, 1:] # отрезаем столбец для сайта 0 (отсутствие посещения)\n",
        "X_train_sparse = train_test_sparse[:253561]\n",
        "X_test_sparse = train_test_sparse[253561:]\n",
        "y = train_df['target']"
      ],
      "execution_count": 24,
      "outputs": []
    },
    {
      "cell_type": "markdown",
      "metadata": {
        "id": "fd-MUDdrevpR"
      },
      "source": [
        "**<font color='red'>Вопрос 1. </font> Выведите размерности матриц *X_train_sparse* и *X_test_sparse* – 4 числа на одной строке через пробел: число строк и столбцов матрицы *X_train_sparse*, затем число строк и столбцов матрицы *X_test_sparse*.**"
      ]
    },
    {
      "cell_type": "code",
      "metadata": {
        "collapsed": true,
        "colab": {
          "base_uri": "https://localhost:8080/"
        },
        "id": "ORQGT2PWevpS",
        "outputId": "3f9c68fe-03f7-4319-c9ef-be60d4f2d919"
      },
      "source": [
        "print(X_train_sparse.shape[0], X_train_sparse.shape[1], X_test_sparse.shape[0], X_test_sparse.shape[1])"
      ],
      "execution_count": 35,
      "outputs": [
        {
          "output_type": "stream",
          "text": [
            "253561 48371 82797 48371\n"
          ],
          "name": "stdout"
        }
      ]
    },
    {
      "cell_type": "markdown",
      "metadata": {
        "id": "xAJ_02LBevpS"
      },
      "source": [
        "**Сохраним в pickle-файлы объекты *X_train_sparse*, *X_test_sparse* и *y* (последний – в файл *kaggle_data/train_target.pkl*).**"
      ]
    },
    {
      "cell_type": "code",
      "metadata": {
        "collapsed": true,
        "id": "sZR2H6ulevpT"
      },
      "source": [
        "with open(os.path.join(PATH_TO_DATA, 'X_train_sparse.pkl'), 'wb') as X_train_sparse_pkl:\n",
        "    pickle.dump(X_train_sparse, X_train_sparse_pkl, protocol=2)\n",
        "with open(os.path.join(PATH_TO_DATA, 'X_test_sparse.pkl'), 'wb') as X_test_sparse_pkl:\n",
        "    pickle.dump(X_test_sparse, X_test_sparse_pkl, protocol=2)\n",
        "with open(os.path.join(PATH_TO_DATA, 'train_target.pkl'), 'wb') as train_target_pkl:\n",
        "    pickle.dump(y, train_target_pkl, protocol=2)"
      ],
      "execution_count": 36,
      "outputs": []
    },
    {
      "cell_type": "markdown",
      "metadata": {
        "id": "L_e2bzhzevpV"
      },
      "source": [
        "**Разобьем обучающую выборку на 2 части в пропорции 7/3, причем не перемешивая. Исходные данные упорядочены по времени, тестовая выборка по времени четко отделена от обучающей, это же соблюдем и здесь.**"
      ]
    },
    {
      "cell_type": "code",
      "metadata": {
        "collapsed": true,
        "id": "cLql3_8levpW"
      },
      "source": [
        "train_share = int(.7 * X_train_sparse.shape[0])\n",
        "X_train, y_train = X_train_sparse[:train_share, :], y[:train_share]\n",
        "X_valid, y_valid  = X_train_sparse[train_share:, :], y[train_share:]"
      ],
      "execution_count": 37,
      "outputs": []
    },
    {
      "cell_type": "markdown",
      "metadata": {
        "collapsed": true,
        "id": "hsXfmxYHevpX"
      },
      "source": [
        "**Создайте объект `sklearn.linear_model.SGDClassifier` с логистической функцией потерь и параметром *random_state*=17. Остальные параметры оставьте по умолчанию, разве что *n_jobs*=-1 никогда не помешает. Обучите  модель на выборке `(X_train, y_train)`.**"
      ]
    },
    {
      "cell_type": "code",
      "metadata": {
        "collapsed": true,
        "colab": {
          "base_uri": "https://localhost:8080/"
        },
        "id": "Yeufp_BmevpY",
        "outputId": "ed8928f5-48fa-4cb2-f8b2-31028cfc1dbd"
      },
      "source": [
        "sgd_logit = SGDClassifier(loss='log', random_state=17, n_jobs=-1)\n",
        "sgd_logit.fit(X_train, y_train)"
      ],
      "execution_count": 40,
      "outputs": [
        {
          "output_type": "execute_result",
          "data": {
            "text/plain": [
              "SGDClassifier(alpha=0.0001, average=False, class_weight=None,\n",
              "              early_stopping=False, epsilon=0.1, eta0=0.0, fit_intercept=True,\n",
              "              l1_ratio=0.15, learning_rate='optimal', loss='log', max_iter=1000,\n",
              "              n_iter_no_change=5, n_jobs=-1, penalty='l2', power_t=0.5,\n",
              "              random_state=17, shuffle=True, tol=0.001, validation_fraction=0.1,\n",
              "              verbose=0, warm_start=False)"
            ]
          },
          "metadata": {
            "tags": []
          },
          "execution_count": 40
        }
      ]
    },
    {
      "cell_type": "markdown",
      "metadata": {
        "id": "Vr-zS9oFevpZ"
      },
      "source": [
        "**Сделайте прогноз в виде предсказанных вероятностей того, что это сессия Элис, на отложенной выборке *(X_valid, y_valid)*.**"
      ]
    },
    {
      "cell_type": "code",
      "metadata": {
        "collapsed": true,
        "id": "O3Q3fR37evpa"
      },
      "source": [
        "logit_valid_pred_proba = sgd_logit.predict_proba(X_valid)"
      ],
      "execution_count": 41,
      "outputs": []
    },
    {
      "cell_type": "markdown",
      "metadata": {
        "id": "rSnO7QY1evpa"
      },
      "source": [
        "**<font color='red'>Вопрос 2. </font> Посчитайте ROC AUC логистической регрессии, обученной с помощью стохастического градиентного спуска, на отложенной выборке. Округлите до 3 знаков после разделителя.**"
      ]
    },
    {
      "cell_type": "code",
      "metadata": {
        "collapsed": true,
        "colab": {
          "base_uri": "https://localhost:8080/"
        },
        "id": "AY8c3_M1evpb",
        "outputId": "f42f669e-daa0-42db-849d-99b7646c3955"
      },
      "source": [
        "roc_auc_score(y_valid, logit_valid_pred_proba[:, 1])"
      ],
      "execution_count": 49,
      "outputs": [
        {
          "output_type": "execute_result",
          "data": {
            "text/plain": [
              "0.9336211594880179"
            ]
          },
          "metadata": {
            "tags": []
          },
          "execution_count": 49
        }
      ]
    },
    {
      "cell_type": "code",
      "metadata": {
        "colab": {
          "base_uri": "https://localhost:8080/"
        },
        "id": "K2BKxJyj7G_s",
        "outputId": "b597b631-ddb4-4923-df4e-33b45f875ece"
      },
      "source": [
        "round(roc_auc_score(y_valid, logit_valid_pred_proba[:, 1]), 3)"
      ],
      "execution_count": 54,
      "outputs": [
        {
          "output_type": "execute_result",
          "data": {
            "text/plain": [
              "0.934"
            ]
          },
          "metadata": {
            "tags": []
          },
          "execution_count": 54
        }
      ]
    },
    {
      "cell_type": "markdown",
      "metadata": {
        "id": "Z2C1u2zVevpd"
      },
      "source": [
        "**Сделайте прогноз в виде предсказанных вероятностей отнесения к классу 1 для тестовой выборки с помощью той же *sgd_logit*, обученной уже на всей обучающей выборке (а не на 70%).**"
      ]
    },
    {
      "cell_type": "code",
      "metadata": {
        "collapsed": true,
        "colab": {
          "base_uri": "https://localhost:8080/"
        },
        "id": "BO52aSbSevpd",
        "outputId": "14c50521-ed54-4ba0-9f1e-b7e3956970c6"
      },
      "source": [
        "%%time\n",
        "sgd_logit.fit(X_train_sparse, y)\n",
        "logit_test_pred_proba = sgd_logit.predict_proba(X_test_sparse)"
      ],
      "execution_count": 50,
      "outputs": [
        {
          "output_type": "stream",
          "text": [
            "CPU times: user 716 ms, sys: 94.5 ms, total: 811 ms\n",
            "Wall time: 710 ms\n"
          ],
          "name": "stdout"
        }
      ]
    },
    {
      "cell_type": "markdown",
      "metadata": {
        "id": "vkz9Rezfevpe"
      },
      "source": [
        "**Запишите ответы в файл и сделайте посылку на Kaggle. Дайте своей команде (из одного человека) на Kaggle говорящее название – по шаблону \"[YDF & MIPT] Coursera_Username\", чтоб можно было легко идентифицировать Вашу посылку на [лидерборде](https://inclass.kaggle.com/c/catch-me-if-you-can-intruder-detection-through-webpage-session-tracking2/leaderboard/public).**\n",
        "\n",
        "**Результат, который мы только что получили, соответствует бейзлайну \"SGDCLassifer\" на лидерборде, задача на эту неделю – как минимум его побить.**"
      ]
    },
    {
      "cell_type": "code",
      "metadata": {
        "collapsed": true,
        "id": "Rqv46XGzevpe"
      },
      "source": [
        "def write_to_submission_file(predicted_labels, out_file,\n",
        "                             target='target', index_label=\"session_id\"):\n",
        "    # turn predictions into data frame and save as csv file\n",
        "    predicted_df = pd.DataFrame(predicted_labels,\n",
        "                                index = np.arange(1, predicted_labels.shape[0] + 1),\n",
        "                                columns=[target])\n",
        "    predicted_df.to_csv(out_file, index_label=index_label)"
      ],
      "execution_count": 51,
      "outputs": []
    },
    {
      "cell_type": "code",
      "metadata": {
        "collapsed": true,
        "id": "OdBll-mpevpf"
      },
      "source": [
        "write_to_submission_file(logit_test_pred_proba[:, 1], 'spec_submission1.csv') # leaderboard 0.91646"
      ],
      "execution_count": 53,
      "outputs": []
    },
    {
      "cell_type": "markdown",
      "metadata": {
        "id": "570henMi8pli"
      },
      "source": [
        "Бейзлайн sgd_logit_benchmark: 0.91273 побит"
      ]
    },
    {
      "cell_type": "markdown",
      "metadata": {
        "id": "pfJXuCdTevpf"
      },
      "source": [
        "## Критерии оценки работы (только для Peer Review в специализации):\n",
        "- Правильные ли получились размерности матриц в п. 1? (max. 2 балла)\n",
        "- Правильным ли получилось значения ROC AUC в п. 2? (max. 4 балла)\n",
        "- Побит ли бенчмарк \"sgd_logit_benchmark.csv\" на публичной части рейтинга в соревновании Kaggle? (max. 2 балла)\n",
        "- Побит ли бенчмарк \"Logit +3 features\" на публичной части рейтинга в соревновании Kaggle? (max. 2 балла)"
      ]
    },
    {
      "cell_type": "markdown",
      "metadata": {
        "collapsed": true,
        "id": "Zky6KVecevpg"
      },
      "source": [
        "## Пути улучшения\n",
        "На этой неделе дается много времени на соревнование. Не забывайте вносить хорошие идеи, к которым Вы пришли по ходу соревнования, в описание финального проекта (`html`, `pdf` или `ipynb`). Это только в случае, если вы проходите специализацию.\n",
        "Что можно попробовать:\n",
        " - Использовать ранее построенные признаки для улучшения модели (проверить их можно на меньшей выборке по 150 пользователям, отделив одного из пользователей от остальных – это быстрее)\n",
        " - Настроить параметры моделей (например, коэффициенты регуляризации)\n",
        " - Если позволяют мощности (или хватает терпения), можно попробовать смешивание (блендинг) ответов бустинга и линейной модели. [Вот](http://mlwave.com/kaggle-ensembling-guide/) один из самых известных тьюториалов по смешиванию ответов алгоритмов, также хороша [статья](https://alexanderdyakonov.wordpress.com/2017/03/10/cтекинг-stacking-и-блендинг-blending) Александра Дьяконова\n",
        " - Обратите внимание, что в соревновании также даны исходные данные о посещенных веб-страницах Элис и остальными 1557 пользователями (*train.zip*). По этим данным можно сформировать свою обучающую выборку. \n",
        "\n",
        "На 6 неделе мы пройдем большой тьюториал по Vowpal Wabbit и попробуем его в деле, на данных соревнования."
      ]
    }
  ]
}