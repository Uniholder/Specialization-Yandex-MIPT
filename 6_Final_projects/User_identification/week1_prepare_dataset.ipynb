{
  "nbformat": 4,
  "nbformat_minor": 0,
  "metadata": {
    "anaconda-cloud": {},
    "kernelspec": {
      "display_name": "Python 3",
      "language": "python",
      "name": "python3"
    },
    "language_info": {
      "codemirror_mode": {
        "name": "ipython",
        "version": 3
      },
      "file_extension": ".py",
      "mimetype": "text/x-python",
      "name": "python",
      "nbconvert_exporter": "python",
      "pygments_lexer": "ipython3",
      "version": "3.6.1"
    },
    "colab": {
      "name": "week1_prepare_dataset.ipynb",
      "provenance": [],
      "toc_visible": true
    },
    "widgets": {
      "application/vnd.jupyter.widget-state+json": {
        "92d1ed2b79c6477ebc71582d1563c0f3": {
          "model_module": "@jupyter-widgets/controls",
          "model_name": "HBoxModel",
          "state": {
            "_view_name": "HBoxView",
            "_dom_classes": [],
            "_model_name": "HBoxModel",
            "_view_module": "@jupyter-widgets/controls",
            "_model_module_version": "1.5.0",
            "_view_count": null,
            "_view_module_version": "1.5.0",
            "box_style": "",
            "layout": "IPY_MODEL_545c680aaa9c4bf58861fb7c5a1975d1",
            "_model_module": "@jupyter-widgets/controls",
            "children": [
              "IPY_MODEL_2752e9c369a64abca24182eff66062b0",
              "IPY_MODEL_d3336efa573d4bcd91fc61b04cec1eda"
            ]
          }
        },
        "545c680aaa9c4bf58861fb7c5a1975d1": {
          "model_module": "@jupyter-widgets/base",
          "model_name": "LayoutModel",
          "state": {
            "_view_name": "LayoutView",
            "grid_template_rows": null,
            "right": null,
            "justify_content": null,
            "_view_module": "@jupyter-widgets/base",
            "overflow": null,
            "_model_module_version": "1.2.0",
            "_view_count": null,
            "flex_flow": null,
            "width": null,
            "min_width": null,
            "border": null,
            "align_items": null,
            "bottom": null,
            "_model_module": "@jupyter-widgets/base",
            "top": null,
            "grid_column": null,
            "overflow_y": null,
            "overflow_x": null,
            "grid_auto_flow": null,
            "grid_area": null,
            "grid_template_columns": null,
            "flex": null,
            "_model_name": "LayoutModel",
            "justify_items": null,
            "grid_row": null,
            "max_height": null,
            "align_content": null,
            "visibility": null,
            "align_self": null,
            "height": null,
            "min_height": null,
            "padding": null,
            "grid_auto_rows": null,
            "grid_gap": null,
            "max_width": null,
            "order": null,
            "_view_module_version": "1.2.0",
            "grid_template_areas": null,
            "object_position": null,
            "object_fit": null,
            "grid_auto_columns": null,
            "margin": null,
            "display": null,
            "left": null
          }
        },
        "2752e9c369a64abca24182eff66062b0": {
          "model_module": "@jupyter-widgets/controls",
          "model_name": "FloatProgressModel",
          "state": {
            "_view_name": "ProgressView",
            "style": "IPY_MODEL_d23dd6c776534d3da491ab2d1d220a68",
            "_dom_classes": [],
            "description": "100%",
            "_model_name": "FloatProgressModel",
            "bar_style": "success",
            "max": 3,
            "_view_module": "@jupyter-widgets/controls",
            "_model_module_version": "1.5.0",
            "value": 3,
            "_view_count": null,
            "_view_module_version": "1.5.0",
            "orientation": "horizontal",
            "min": 0,
            "description_tooltip": null,
            "_model_module": "@jupyter-widgets/controls",
            "layout": "IPY_MODEL_ae268dfea0c245fd850d6324ae92f2da"
          }
        },
        "d3336efa573d4bcd91fc61b04cec1eda": {
          "model_module": "@jupyter-widgets/controls",
          "model_name": "HTMLModel",
          "state": {
            "_view_name": "HTMLView",
            "style": "IPY_MODEL_9f3185e590fb405e9fc82da8b6a707e0",
            "_dom_classes": [],
            "description": "",
            "_model_name": "HTMLModel",
            "placeholder": "​",
            "_view_module": "@jupyter-widgets/controls",
            "_model_module_version": "1.5.0",
            "value": " 3/3 [00:20&lt;00:00,  6.67s/it]",
            "_view_count": null,
            "_view_module_version": "1.5.0",
            "description_tooltip": null,
            "_model_module": "@jupyter-widgets/controls",
            "layout": "IPY_MODEL_bd32ad1e473542a4ba67e955c31089ed"
          }
        },
        "d23dd6c776534d3da491ab2d1d220a68": {
          "model_module": "@jupyter-widgets/controls",
          "model_name": "ProgressStyleModel",
          "state": {
            "_view_name": "StyleView",
            "_model_name": "ProgressStyleModel",
            "description_width": "initial",
            "_view_module": "@jupyter-widgets/base",
            "_model_module_version": "1.5.0",
            "_view_count": null,
            "_view_module_version": "1.2.0",
            "bar_color": null,
            "_model_module": "@jupyter-widgets/controls"
          }
        },
        "ae268dfea0c245fd850d6324ae92f2da": {
          "model_module": "@jupyter-widgets/base",
          "model_name": "LayoutModel",
          "state": {
            "_view_name": "LayoutView",
            "grid_template_rows": null,
            "right": null,
            "justify_content": null,
            "_view_module": "@jupyter-widgets/base",
            "overflow": null,
            "_model_module_version": "1.2.0",
            "_view_count": null,
            "flex_flow": null,
            "width": null,
            "min_width": null,
            "border": null,
            "align_items": null,
            "bottom": null,
            "_model_module": "@jupyter-widgets/base",
            "top": null,
            "grid_column": null,
            "overflow_y": null,
            "overflow_x": null,
            "grid_auto_flow": null,
            "grid_area": null,
            "grid_template_columns": null,
            "flex": null,
            "_model_name": "LayoutModel",
            "justify_items": null,
            "grid_row": null,
            "max_height": null,
            "align_content": null,
            "visibility": null,
            "align_self": null,
            "height": null,
            "min_height": null,
            "padding": null,
            "grid_auto_rows": null,
            "grid_gap": null,
            "max_width": null,
            "order": null,
            "_view_module_version": "1.2.0",
            "grid_template_areas": null,
            "object_position": null,
            "object_fit": null,
            "grid_auto_columns": null,
            "margin": null,
            "display": null,
            "left": null
          }
        },
        "9f3185e590fb405e9fc82da8b6a707e0": {
          "model_module": "@jupyter-widgets/controls",
          "model_name": "DescriptionStyleModel",
          "state": {
            "_view_name": "StyleView",
            "_model_name": "DescriptionStyleModel",
            "description_width": "",
            "_view_module": "@jupyter-widgets/base",
            "_model_module_version": "1.5.0",
            "_view_count": null,
            "_view_module_version": "1.2.0",
            "_model_module": "@jupyter-widgets/controls"
          }
        },
        "bd32ad1e473542a4ba67e955c31089ed": {
          "model_module": "@jupyter-widgets/base",
          "model_name": "LayoutModel",
          "state": {
            "_view_name": "LayoutView",
            "grid_template_rows": null,
            "right": null,
            "justify_content": null,
            "_view_module": "@jupyter-widgets/base",
            "overflow": null,
            "_model_module_version": "1.2.0",
            "_view_count": null,
            "flex_flow": null,
            "width": null,
            "min_width": null,
            "border": null,
            "align_items": null,
            "bottom": null,
            "_model_module": "@jupyter-widgets/base",
            "top": null,
            "grid_column": null,
            "overflow_y": null,
            "overflow_x": null,
            "grid_auto_flow": null,
            "grid_area": null,
            "grid_template_columns": null,
            "flex": null,
            "_model_name": "LayoutModel",
            "justify_items": null,
            "grid_row": null,
            "max_height": null,
            "align_content": null,
            "visibility": null,
            "align_self": null,
            "height": null,
            "min_height": null,
            "padding": null,
            "grid_auto_rows": null,
            "grid_gap": null,
            "max_width": null,
            "order": null,
            "_view_module_version": "1.2.0",
            "grid_template_areas": null,
            "object_position": null,
            "object_fit": null,
            "grid_auto_columns": null,
            "margin": null,
            "display": null,
            "left": null
          }
        },
        "aecb821b653d47ea9d1e0b58f48a4ef0": {
          "model_module": "@jupyter-widgets/controls",
          "model_name": "HBoxModel",
          "state": {
            "_view_name": "HBoxView",
            "_dom_classes": [],
            "_model_name": "HBoxModel",
            "_view_module": "@jupyter-widgets/controls",
            "_model_module_version": "1.5.0",
            "_view_count": null,
            "_view_module_version": "1.5.0",
            "box_style": "",
            "layout": "IPY_MODEL_d211b80b1d55406ab4da85b20fa1c410",
            "_model_module": "@jupyter-widgets/controls",
            "children": [
              "IPY_MODEL_7531bfff12354d788e0891fee2603c3d",
              "IPY_MODEL_e0cdd5e1ca5647e4a266b17f87854910"
            ]
          }
        },
        "d211b80b1d55406ab4da85b20fa1c410": {
          "model_module": "@jupyter-widgets/base",
          "model_name": "LayoutModel",
          "state": {
            "_view_name": "LayoutView",
            "grid_template_rows": null,
            "right": null,
            "justify_content": null,
            "_view_module": "@jupyter-widgets/base",
            "overflow": null,
            "_model_module_version": "1.2.0",
            "_view_count": null,
            "flex_flow": null,
            "width": null,
            "min_width": null,
            "border": null,
            "align_items": null,
            "bottom": null,
            "_model_module": "@jupyter-widgets/base",
            "top": null,
            "grid_column": null,
            "overflow_y": null,
            "overflow_x": null,
            "grid_auto_flow": null,
            "grid_area": null,
            "grid_template_columns": null,
            "flex": null,
            "_model_name": "LayoutModel",
            "justify_items": null,
            "grid_row": null,
            "max_height": null,
            "align_content": null,
            "visibility": null,
            "align_self": null,
            "height": null,
            "min_height": null,
            "padding": null,
            "grid_auto_rows": null,
            "grid_gap": null,
            "max_width": null,
            "order": null,
            "_view_module_version": "1.2.0",
            "grid_template_areas": null,
            "object_position": null,
            "object_fit": null,
            "grid_auto_columns": null,
            "margin": null,
            "display": null,
            "left": null
          }
        },
        "7531bfff12354d788e0891fee2603c3d": {
          "model_module": "@jupyter-widgets/controls",
          "model_name": "FloatProgressModel",
          "state": {
            "_view_name": "ProgressView",
            "style": "IPY_MODEL_123f170df2d14be097a285c1d23a8bfb",
            "_dom_classes": [],
            "description": "100%",
            "_model_name": "FloatProgressModel",
            "bar_style": "success",
            "max": 10,
            "_view_module": "@jupyter-widgets/controls",
            "_model_module_version": "1.5.0",
            "value": 10,
            "_view_count": null,
            "_view_module_version": "1.5.0",
            "orientation": "horizontal",
            "min": 0,
            "description_tooltip": null,
            "_model_module": "@jupyter-widgets/controls",
            "layout": "IPY_MODEL_94de216d54e54906aef3a87b762702f3"
          }
        },
        "e0cdd5e1ca5647e4a266b17f87854910": {
          "model_module": "@jupyter-widgets/controls",
          "model_name": "HTMLModel",
          "state": {
            "_view_name": "HTMLView",
            "style": "IPY_MODEL_ee0baefef7eb4746bb77097701a23f2a",
            "_dom_classes": [],
            "description": "",
            "_model_name": "HTMLModel",
            "placeholder": "​",
            "_view_module": "@jupyter-widgets/controls",
            "_model_module_version": "1.5.0",
            "value": " 10/10 [00:23&lt;00:00,  2.37s/it]",
            "_view_count": null,
            "_view_module_version": "1.5.0",
            "description_tooltip": null,
            "_model_module": "@jupyter-widgets/controls",
            "layout": "IPY_MODEL_6e5b82818e2c4e2f9156ef057674c4e3"
          }
        },
        "123f170df2d14be097a285c1d23a8bfb": {
          "model_module": "@jupyter-widgets/controls",
          "model_name": "ProgressStyleModel",
          "state": {
            "_view_name": "StyleView",
            "_model_name": "ProgressStyleModel",
            "description_width": "initial",
            "_view_module": "@jupyter-widgets/base",
            "_model_module_version": "1.5.0",
            "_view_count": null,
            "_view_module_version": "1.2.0",
            "bar_color": null,
            "_model_module": "@jupyter-widgets/controls"
          }
        },
        "94de216d54e54906aef3a87b762702f3": {
          "model_module": "@jupyter-widgets/base",
          "model_name": "LayoutModel",
          "state": {
            "_view_name": "LayoutView",
            "grid_template_rows": null,
            "right": null,
            "justify_content": null,
            "_view_module": "@jupyter-widgets/base",
            "overflow": null,
            "_model_module_version": "1.2.0",
            "_view_count": null,
            "flex_flow": null,
            "width": null,
            "min_width": null,
            "border": null,
            "align_items": null,
            "bottom": null,
            "_model_module": "@jupyter-widgets/base",
            "top": null,
            "grid_column": null,
            "overflow_y": null,
            "overflow_x": null,
            "grid_auto_flow": null,
            "grid_area": null,
            "grid_template_columns": null,
            "flex": null,
            "_model_name": "LayoutModel",
            "justify_items": null,
            "grid_row": null,
            "max_height": null,
            "align_content": null,
            "visibility": null,
            "align_self": null,
            "height": null,
            "min_height": null,
            "padding": null,
            "grid_auto_rows": null,
            "grid_gap": null,
            "max_width": null,
            "order": null,
            "_view_module_version": "1.2.0",
            "grid_template_areas": null,
            "object_position": null,
            "object_fit": null,
            "grid_auto_columns": null,
            "margin": null,
            "display": null,
            "left": null
          }
        },
        "ee0baefef7eb4746bb77097701a23f2a": {
          "model_module": "@jupyter-widgets/controls",
          "model_name": "DescriptionStyleModel",
          "state": {
            "_view_name": "StyleView",
            "_model_name": "DescriptionStyleModel",
            "description_width": "",
            "_view_module": "@jupyter-widgets/base",
            "_model_module_version": "1.5.0",
            "_view_count": null,
            "_view_module_version": "1.2.0",
            "_model_module": "@jupyter-widgets/controls"
          }
        },
        "6e5b82818e2c4e2f9156ef057674c4e3": {
          "model_module": "@jupyter-widgets/base",
          "model_name": "LayoutModel",
          "state": {
            "_view_name": "LayoutView",
            "grid_template_rows": null,
            "right": null,
            "justify_content": null,
            "_view_module": "@jupyter-widgets/base",
            "overflow": null,
            "_model_module_version": "1.2.0",
            "_view_count": null,
            "flex_flow": null,
            "width": null,
            "min_width": null,
            "border": null,
            "align_items": null,
            "bottom": null,
            "_model_module": "@jupyter-widgets/base",
            "top": null,
            "grid_column": null,
            "overflow_y": null,
            "overflow_x": null,
            "grid_auto_flow": null,
            "grid_area": null,
            "grid_template_columns": null,
            "flex": null,
            "_model_name": "LayoutModel",
            "justify_items": null,
            "grid_row": null,
            "max_height": null,
            "align_content": null,
            "visibility": null,
            "align_self": null,
            "height": null,
            "min_height": null,
            "padding": null,
            "grid_auto_rows": null,
            "grid_gap": null,
            "max_width": null,
            "order": null,
            "_view_module_version": "1.2.0",
            "grid_template_areas": null,
            "object_position": null,
            "object_fit": null,
            "grid_auto_columns": null,
            "margin": null,
            "display": null,
            "left": null
          }
        },
        "4b4db532e24740d19fb7afe0fd0aa2dd": {
          "model_module": "@jupyter-widgets/controls",
          "model_name": "HBoxModel",
          "state": {
            "_view_name": "HBoxView",
            "_dom_classes": [],
            "_model_name": "HBoxModel",
            "_view_module": "@jupyter-widgets/controls",
            "_model_module_version": "1.5.0",
            "_view_count": null,
            "_view_module_version": "1.5.0",
            "box_style": "",
            "layout": "IPY_MODEL_18f3b8428d8049ac815275a4dece240e",
            "_model_module": "@jupyter-widgets/controls",
            "children": [
              "IPY_MODEL_ab06c6e3ec6342829a919786450ef340",
              "IPY_MODEL_133c5a7fb53047c48108b44120d7b763"
            ]
          }
        },
        "18f3b8428d8049ac815275a4dece240e": {
          "model_module": "@jupyter-widgets/base",
          "model_name": "LayoutModel",
          "state": {
            "_view_name": "LayoutView",
            "grid_template_rows": null,
            "right": null,
            "justify_content": null,
            "_view_module": "@jupyter-widgets/base",
            "overflow": null,
            "_model_module_version": "1.2.0",
            "_view_count": null,
            "flex_flow": null,
            "width": null,
            "min_width": null,
            "border": null,
            "align_items": null,
            "bottom": null,
            "_model_module": "@jupyter-widgets/base",
            "top": null,
            "grid_column": null,
            "overflow_y": null,
            "overflow_x": null,
            "grid_auto_flow": null,
            "grid_area": null,
            "grid_template_columns": null,
            "flex": null,
            "_model_name": "LayoutModel",
            "justify_items": null,
            "grid_row": null,
            "max_height": null,
            "align_content": null,
            "visibility": null,
            "align_self": null,
            "height": null,
            "min_height": null,
            "padding": null,
            "grid_auto_rows": null,
            "grid_gap": null,
            "max_width": null,
            "order": null,
            "_view_module_version": "1.2.0",
            "grid_template_areas": null,
            "object_position": null,
            "object_fit": null,
            "grid_auto_columns": null,
            "margin": null,
            "display": null,
            "left": null
          }
        },
        "ab06c6e3ec6342829a919786450ef340": {
          "model_module": "@jupyter-widgets/controls",
          "model_name": "FloatProgressModel",
          "state": {
            "_view_name": "ProgressView",
            "style": "IPY_MODEL_807ede06918a4536a0ad7c72f703c497",
            "_dom_classes": [],
            "description": "100%",
            "_model_name": "FloatProgressModel",
            "bar_style": "success",
            "max": 150,
            "_view_module": "@jupyter-widgets/controls",
            "_model_module_version": "1.5.0",
            "value": 150,
            "_view_count": null,
            "_view_module_version": "1.5.0",
            "orientation": "horizontal",
            "min": 0,
            "description_tooltip": null,
            "_model_module": "@jupyter-widgets/controls",
            "layout": "IPY_MODEL_37ba3585ac874eb789a9efcba37c5376"
          }
        },
        "133c5a7fb53047c48108b44120d7b763": {
          "model_module": "@jupyter-widgets/controls",
          "model_name": "HTMLModel",
          "state": {
            "_view_name": "HTMLView",
            "style": "IPY_MODEL_e3acb96091a94d159c407aba29ed1340",
            "_dom_classes": [],
            "description": "",
            "_model_name": "HTMLModel",
            "placeholder": "​",
            "_view_module": "@jupyter-widgets/controls",
            "_model_module_version": "1.5.0",
            "value": " 150/150 [00:02&lt;00:00, 65.28it/s]",
            "_view_count": null,
            "_view_module_version": "1.5.0",
            "description_tooltip": null,
            "_model_module": "@jupyter-widgets/controls",
            "layout": "IPY_MODEL_39f08962e70745959b5f0951e570c73c"
          }
        },
        "807ede06918a4536a0ad7c72f703c497": {
          "model_module": "@jupyter-widgets/controls",
          "model_name": "ProgressStyleModel",
          "state": {
            "_view_name": "StyleView",
            "_model_name": "ProgressStyleModel",
            "description_width": "initial",
            "_view_module": "@jupyter-widgets/base",
            "_model_module_version": "1.5.0",
            "_view_count": null,
            "_view_module_version": "1.2.0",
            "bar_color": null,
            "_model_module": "@jupyter-widgets/controls"
          }
        },
        "37ba3585ac874eb789a9efcba37c5376": {
          "model_module": "@jupyter-widgets/base",
          "model_name": "LayoutModel",
          "state": {
            "_view_name": "LayoutView",
            "grid_template_rows": null,
            "right": null,
            "justify_content": null,
            "_view_module": "@jupyter-widgets/base",
            "overflow": null,
            "_model_module_version": "1.2.0",
            "_view_count": null,
            "flex_flow": null,
            "width": null,
            "min_width": null,
            "border": null,
            "align_items": null,
            "bottom": null,
            "_model_module": "@jupyter-widgets/base",
            "top": null,
            "grid_column": null,
            "overflow_y": null,
            "overflow_x": null,
            "grid_auto_flow": null,
            "grid_area": null,
            "grid_template_columns": null,
            "flex": null,
            "_model_name": "LayoutModel",
            "justify_items": null,
            "grid_row": null,
            "max_height": null,
            "align_content": null,
            "visibility": null,
            "align_self": null,
            "height": null,
            "min_height": null,
            "padding": null,
            "grid_auto_rows": null,
            "grid_gap": null,
            "max_width": null,
            "order": null,
            "_view_module_version": "1.2.0",
            "grid_template_areas": null,
            "object_position": null,
            "object_fit": null,
            "grid_auto_columns": null,
            "margin": null,
            "display": null,
            "left": null
          }
        },
        "e3acb96091a94d159c407aba29ed1340": {
          "model_module": "@jupyter-widgets/controls",
          "model_name": "DescriptionStyleModel",
          "state": {
            "_view_name": "StyleView",
            "_model_name": "DescriptionStyleModel",
            "description_width": "",
            "_view_module": "@jupyter-widgets/base",
            "_model_module_version": "1.5.0",
            "_view_count": null,
            "_view_module_version": "1.2.0",
            "_model_module": "@jupyter-widgets/controls"
          }
        },
        "39f08962e70745959b5f0951e570c73c": {
          "model_module": "@jupyter-widgets/base",
          "model_name": "LayoutModel",
          "state": {
            "_view_name": "LayoutView",
            "grid_template_rows": null,
            "right": null,
            "justify_content": null,
            "_view_module": "@jupyter-widgets/base",
            "overflow": null,
            "_model_module_version": "1.2.0",
            "_view_count": null,
            "flex_flow": null,
            "width": null,
            "min_width": null,
            "border": null,
            "align_items": null,
            "bottom": null,
            "_model_module": "@jupyter-widgets/base",
            "top": null,
            "grid_column": null,
            "overflow_y": null,
            "overflow_x": null,
            "grid_auto_flow": null,
            "grid_area": null,
            "grid_template_columns": null,
            "flex": null,
            "_model_name": "LayoutModel",
            "justify_items": null,
            "grid_row": null,
            "max_height": null,
            "align_content": null,
            "visibility": null,
            "align_self": null,
            "height": null,
            "min_height": null,
            "padding": null,
            "grid_auto_rows": null,
            "grid_gap": null,
            "max_width": null,
            "order": null,
            "_view_module_version": "1.2.0",
            "grid_template_areas": null,
            "object_position": null,
            "object_fit": null,
            "grid_auto_columns": null,
            "margin": null,
            "display": null,
            "left": null
          }
        }
      }
    }
  },
  "cells": [
    {
      "cell_type": "markdown",
      "metadata": {
        "id": "9Fqjirz0lRLS"
      },
      "source": [
        "<center>\n",
        "<img src=\"https://habrastorage.org/web/677/8e1/337/6778e1337c3d4b159d7e99df94227cb2.jpg\"/>\n",
        "## Специализация \"Машинное обучение и анализ данных\"\n",
        "</center>\n",
        "<center>Автор материала: программист-исследователь Mail.ru Group, старший преподаватель Факультета Компьютерных Наук ВШЭ Юрий Кашницкий"
      ]
    },
    {
      "cell_type": "markdown",
      "metadata": {
        "id": "LjODylJllRLd"
      },
      "source": [
        "# <center> Capstone проект №1. Идентификация пользователей по посещенным веб-страницам\n",
        "\n",
        "В этом проекте мы будем решать задачу идентификации пользователя по его поведению в сети Интернет. Это сложная и интересная задача на стыке анализа данных и поведенческой психологии. В качестве примера, компания Яндекс решает задачу идентификации взломщика почтового ящика по его поведению. В двух словах, взломщик будет себя вести не так, как владелец ящика: он может не удалять сообщения сразу по прочтении, как это делал хозяин, он будет по-другому ставить флажки сообщениям и даже по-своему двигать мышкой. Тогда такого злоумышленника можно идентифицировать и \"выкинуть\" из почтового ящика, предложив хозяину войти по SMS-коду. Этот пилотный проект описан в [статье](https://habrahabr.ru/company/yandex/blog/230583/) на Хабрахабре. Похожие вещи делаются, например, в Google Analytics и описываются в научных статьях, найти можно многое по фразам \"Traversal Pattern Mining\" и \"Sequential Pattern Mining\".\n",
        "\n",
        "<img src='http://i.istockimg.com/file_thumbview_approve/21546327/5/stock-illustration-21546327-identification-de-l-utilisateur.jpg'>\n",
        "\n",
        "Мы будем решать похожую задачу: по последовательности из нескольких веб-сайтов, посещенных подряд один и тем же человеком, мы будем идентифицировать этого человека. Идея такая: пользователи Интернета по-разному переходят по ссылкам, и это может помогать их идентифицировать (кто-то сначала в почту, потом про футбол почитать, затем новости, контакт, потом наконец – работать, кто-то – сразу работать).\n",
        "\n",
        "Будем использовать данные из [статьи](http://ceur-ws.org/Vol-1703/paper12.pdf) \"A Tool for Classification of Sequential Data\". И хотя мы не можем рекомендовать эту статью (описанные методы далеки от state-of-the-art, лучше обращаться к [книге](http://www.charuaggarwal.net/freqbook.pdf) \"Frequent Pattern Mining\" и последним статьям с ICDM), но данные там собраны аккуратно и представляют интерес.\n",
        "\n",
        "Данные пришли с прокси-серверов Университета Блеза Паскаля и имеют очень простой вид. Для каждого пользователя заведен csv-файл с названием user\\*\\*\\*\\*.csv (где вместо звездочек – 4 цифры, соответствующие ID пользователя), а в нем посещения сайтов записаны в следующем формате: <br>\n",
        "\n",
        "<center>*timestamp, посещенный веб-сайт*</center>\n",
        "\n",
        "Скачать исходные данные можно по [ссылке](http://fc.isima.fr/~kahngi/cez13.zip) в статье, там же описание.\n",
        "Для этого задания хватит данных не по всем 3000 пользователям, а по 10 и 150. [Ссылка](https://yadi.sk/d/3gscKIdN3BCASG) на архив *capstone_user_identification* (~7 Mb, в развернутом виде ~ 60 Mb). \n",
        "\n",
        "В финальном проекте уже придется столкнуться с тем, что не все операции можно выполнить за разумное время (скажем, перебрать с кросс-валидацией 100 комбинаций параметров случайного леса на этих данных вы вряд ли сможете), поэтому мы будем использовать параллельно 2 выборки: по 10 пользователям и по 150. Для 10 пользователей будем писать и отлаживать код, для 150 – будет рабочая версия. \n",
        "\n",
        "Данные устроены следующем образом:\n",
        "\n",
        " - В каталоге `10users` лежат 10 csv-файлов с названием вида \"user[USER_ID].csv\", где [USER_ID] – ID пользователя;\n",
        " - Аналогично для каталога `150users` – там 150 файлов;\n",
        " - В `3users` – игрушечный пример из 3 файлов, это для отладки кода предобработки, который вы далее напишете.\n",
        "\n",
        "На 5 неделе будет задание по [соревнованию](https://inclass.kaggle.com/c/identify-me-if-you-can4) Kaggle Inclass, которое организовано специально под Capstone проект нашей специализации. Соревнование уже открыто и, конечно, желающие могут начать уже сейчас.\n",
        "\n",
        "# <center>Неделя 1. Подготовка данных к анализу и построению моделей\n",
        "\n",
        "Первая часть проекта посвящена подготовке данных для дальнейшего описательного анализа и построения прогнозных моделей. Надо будет написать код для предобработки данных (исходно посещенные веб-сайты указаны для каждого пользователя в отдельном файле) и формирования единой обучающей выборки. Также в этой части мы познакомимся с разреженным форматом данных (матрицы Scipy.sparse), который хорошо подходит для данной задачи. \n",
        "\n",
        "**План 1 недели:**\n",
        " - Часть 1. Подготовка обучающей выборки\n",
        " - Часть 2. Работа с разреженным форматом данных"
      ]
    },
    {
      "cell_type": "markdown",
      "metadata": {
        "id": "Wdgj1tyolRLf"
      },
      "source": [
        "**В этой части проекта Вам могут быть полезны видеозаписи следующих лекций 1 и 2 недели курса \"Математика и Python для анализа данных\":**\n",
        "   - [Циклы, функции, генераторы, list comprehension](https://www.coursera.org/learn/mathematics-and-python/lecture/Kd7dL/tsikly-funktsii-ghienieratory-list-comprehension)\n",
        "   - [Чтение данных из файлов](https://www.coursera.org/learn/mathematics-and-python/lecture/8Xvwp/chtieniie-dannykh-iz-failov)\n",
        "   - [Запись файлов, изменение файлов](https://www.coursera.org/learn/mathematics-and-python/lecture/vde7k/zapis-failov-izmienieniie-failov)\n",
        "   - [Pandas.DataFrame](https://www.coursera.org/learn/mathematics-and-python/lecture/rcjAW/pandas-data-frame)\n",
        "   - [Pandas. Индексация и селекция](https://www.coursera.org/learn/mathematics-and-python/lecture/lsXAR/pandas-indieksatsiia-i-sieliektsiia)\n",
        "   \n",
        "**Кроме того, в задании будут использоваться библиотеки Python [glob](https://docs.python.org/3/library/glob.html), [pickle](https://docs.python.org/2/library/pickle.html) и класс [csr_matrix](https://docs.scipy.org/doc/scipy-0.18.1/reference/generated/scipy.sparse.csr_matrix.html) из scipy.sparse.**"
      ]
    },
    {
      "cell_type": "markdown",
      "metadata": {
        "id": "c9hE0_W1lRLg"
      },
      "source": [
        "Наконец, для лучшей воспроизводимости результатов приведем список версий основных используемых в проекте библиотек: NumPy, SciPy, Pandas, Matplotlib, Statsmodels и Scikit-learn. Для этого воспользуемся расширением [watermark](https://github.com/rasbt/watermark)."
      ]
    },
    {
      "cell_type": "code",
      "metadata": {
        "scrolled": true,
        "id": "WjA553WblRLg",
        "colab": {
          "base_uri": "https://localhost:8080/"
        },
        "outputId": "03920706-9fcb-41f2-c3dd-60e3785486e6"
      },
      "source": [
        "# !pip install watermark\n",
        "%load_ext watermark"
      ],
      "execution_count": null,
      "outputs": [
        {
          "output_type": "stream",
          "text": [
            "Collecting watermark\n",
            "  Downloading https://files.pythonhosted.org/packages/73/71/8a7c1c1672bc20448ef8b96652f7d332bd680a4b2e873f50ea1e4ede81ca/watermark-2.2.0-py2.py3-none-any.whl\n",
            "Requirement already satisfied: ipython in /usr/local/lib/python3.7/dist-packages (from watermark) (5.5.0)\n",
            "Collecting importlib-metadata<3.0; python_version < \"3.8\"\n",
            "  Downloading https://files.pythonhosted.org/packages/98/b8/8ec57a8ef46fbe7f185318c7ff7df9a06c9df451d9a59a067bfa851bb828/importlib_metadata-2.1.1-py2.py3-none-any.whl\n",
            "Requirement already satisfied: traitlets>=4.2 in /usr/local/lib/python3.7/dist-packages (from ipython->watermark) (5.0.5)\n",
            "Requirement already satisfied: prompt-toolkit<2.0.0,>=1.0.4 in /usr/local/lib/python3.7/dist-packages (from ipython->watermark) (1.0.18)\n",
            "Requirement already satisfied: pygments in /usr/local/lib/python3.7/dist-packages (from ipython->watermark) (2.6.1)\n",
            "Requirement already satisfied: pexpect; sys_platform != \"win32\" in /usr/local/lib/python3.7/dist-packages (from ipython->watermark) (4.8.0)\n",
            "Requirement already satisfied: setuptools>=18.5 in /usr/local/lib/python3.7/dist-packages (from ipython->watermark) (54.1.2)\n",
            "Requirement already satisfied: pickleshare in /usr/local/lib/python3.7/dist-packages (from ipython->watermark) (0.7.5)\n",
            "Requirement already satisfied: simplegeneric>0.8 in /usr/local/lib/python3.7/dist-packages (from ipython->watermark) (0.8.1)\n",
            "Requirement already satisfied: decorator in /usr/local/lib/python3.7/dist-packages (from ipython->watermark) (4.4.2)\n",
            "Requirement already satisfied: zipp>=0.5 in /usr/local/lib/python3.7/dist-packages (from importlib-metadata<3.0; python_version < \"3.8\"->watermark) (3.4.1)\n",
            "Requirement already satisfied: ipython-genutils in /usr/local/lib/python3.7/dist-packages (from traitlets>=4.2->ipython->watermark) (0.2.0)\n",
            "Requirement already satisfied: wcwidth in /usr/local/lib/python3.7/dist-packages (from prompt-toolkit<2.0.0,>=1.0.4->ipython->watermark) (0.2.5)\n",
            "Requirement already satisfied: six>=1.9.0 in /usr/local/lib/python3.7/dist-packages (from prompt-toolkit<2.0.0,>=1.0.4->ipython->watermark) (1.15.0)\n",
            "Requirement already satisfied: ptyprocess>=0.5 in /usr/local/lib/python3.7/dist-packages (from pexpect; sys_platform != \"win32\"->ipython->watermark) (0.7.0)\n",
            "Installing collected packages: importlib-metadata, watermark\n",
            "  Found existing installation: importlib-metadata 3.7.2\n",
            "    Uninstalling importlib-metadata-3.7.2:\n",
            "      Successfully uninstalled importlib-metadata-3.7.2\n",
            "Successfully installed importlib-metadata-2.1.1 watermark-2.2.0\n"
          ],
          "name": "stdout"
        }
      ]
    },
    {
      "cell_type": "code",
      "metadata": {
        "id": "RIPEGr05lRLi",
        "outputId": "a85948b9-28a7-4e15-e6ec-eb7c2b37362d"
      },
      "source": [
        "# НЕ ЗАПУСКАТЬ\n",
        "%watermark -v -m -p numpy,scipy,pandas,matplotlib,statsmodels,sklearn -g"
      ],
      "execution_count": null,
      "outputs": [
        {
          "output_type": "stream",
          "text": [
            "CPython 2.7.12\n",
            "IPython 4.0.3\n",
            "\n",
            "numpy 1.11.3\n",
            "scipy 0.18.1\n",
            "pandas 0.19.2+0.g825876c.dirty\n",
            "matplotlib 1.5.1\n",
            "statsmodels 0.8.0rc1\n",
            "sklearn 0.18.1\n",
            "\n",
            "compiler   : GCC 4.4.7 20120313 (Red Hat 4.4.7-1)\n",
            "system     : Linux\n",
            "release    : 4.2.0-42-generic\n",
            "machine    : x86_64\n",
            "processor  : x86_64\n",
            "CPU cores  : 4\n",
            "interpreter: 64bit\n",
            "Git hash   :\n"
          ],
          "name": "stdout"
        }
      ]
    },
    {
      "cell_type": "code",
      "metadata": {
        "id": "dqVZt5ZHlRLj",
        "colab": {
          "base_uri": "https://localhost:8080/"
        },
        "outputId": "c0e39eea-47e2-44b9-9a8c-30605211d217"
      },
      "source": [
        "%watermark -v -m -p numpy,scipy,pandas,matplotlib,statsmodels,sklearn -g"
      ],
      "execution_count": 4,
      "outputs": [
        {
          "output_type": "stream",
          "text": [
            "Python implementation: CPython\n",
            "Python version       : 3.7.10\n",
            "IPython version      : 5.5.0\n",
            "\n",
            "numpy      : 1.19.5\n",
            "scipy      : 1.4.1\n",
            "pandas     : 1.1.5\n",
            "matplotlib : 3.2.2\n",
            "statsmodels: 0.10.2\n",
            "sklearn    : 0.0\n",
            "\n",
            "Compiler    : GCC 7.5.0\n",
            "OS          : Linux\n",
            "Release     : 4.19.112+\n",
            "Machine     : x86_64\n",
            "Processor   : x86_64\n",
            "CPU cores   : 2\n",
            "Architecture: 64bit\n",
            "\n",
            "Git hash: \n",
            "\n"
          ],
          "name": "stdout"
        }
      ]
    },
    {
      "cell_type": "code",
      "metadata": {
        "collapsed": true,
        "id": "8n-QgZ2plRLk"
      },
      "source": [
        "from __future__ import division, print_function\n",
        "# отключим всякие предупреждения Anaconda\n",
        "import warnings\n",
        "warnings.filterwarnings('ignore')\n",
        "from glob import glob\n",
        "import os\n",
        "import pickle\n",
        "from itertools import islice\n",
        "#pip install tqdm\n",
        "from tqdm.notebook import tqdm \n",
        "import numpy as np\n",
        "import pandas as pd\n",
        "from scipy.sparse import csr_matrix"
      ],
      "execution_count": 7,
      "outputs": []
    },
    {
      "cell_type": "markdown",
      "metadata": {
        "id": "cHUf3ptXlRLk"
      },
      "source": [
        "**Посмотрим на один из файлов с данными о посещенных пользователем (номер 31) веб-страницах.**"
      ]
    },
    {
      "cell_type": "code",
      "metadata": {
        "collapsed": true,
        "id": "6Ca8o3yIlRLl"
      },
      "source": [
        "PATH_TO_DATA = 'capstone_user_identification' "
      ],
      "execution_count": 4,
      "outputs": []
    },
    {
      "cell_type": "code",
      "metadata": {
        "collapsed": true,
        "id": "ZL1QHqsqlRLl"
      },
      "source": [
        "user31_data = pd.read_csv(os.path.join(PATH_TO_DATA, '10users/user0031.csv'))"
      ],
      "execution_count": 5,
      "outputs": []
    },
    {
      "cell_type": "code",
      "metadata": {
        "id": "RnixvyMNlRLl",
        "colab": {
          "base_uri": "https://localhost:8080/",
          "height": 204
        },
        "outputId": "9c235496-6455-426b-f396-84b750625f23"
      },
      "source": [
        "user31_data.head()"
      ],
      "execution_count": 6,
      "outputs": [
        {
          "output_type": "execute_result",
          "data": {
            "text/html": [
              "<div>\n",
              "<style scoped>\n",
              "    .dataframe tbody tr th:only-of-type {\n",
              "        vertical-align: middle;\n",
              "    }\n",
              "\n",
              "    .dataframe tbody tr th {\n",
              "        vertical-align: top;\n",
              "    }\n",
              "\n",
              "    .dataframe thead th {\n",
              "        text-align: right;\n",
              "    }\n",
              "</style>\n",
              "<table border=\"1\" class=\"dataframe\">\n",
              "  <thead>\n",
              "    <tr style=\"text-align: right;\">\n",
              "      <th></th>\n",
              "      <th>timestamp</th>\n",
              "      <th>site</th>\n",
              "    </tr>\n",
              "  </thead>\n",
              "  <tbody>\n",
              "    <tr>\n",
              "      <th>0</th>\n",
              "      <td>2013-11-15 08:12:07</td>\n",
              "      <td>fpdownload2.macromedia.com</td>\n",
              "    </tr>\n",
              "    <tr>\n",
              "      <th>1</th>\n",
              "      <td>2013-11-15 08:12:17</td>\n",
              "      <td>laposte.net</td>\n",
              "    </tr>\n",
              "    <tr>\n",
              "      <th>2</th>\n",
              "      <td>2013-11-15 08:12:17</td>\n",
              "      <td>www.laposte.net</td>\n",
              "    </tr>\n",
              "    <tr>\n",
              "      <th>3</th>\n",
              "      <td>2013-11-15 08:12:17</td>\n",
              "      <td>www.google.com</td>\n",
              "    </tr>\n",
              "    <tr>\n",
              "      <th>4</th>\n",
              "      <td>2013-11-15 08:12:18</td>\n",
              "      <td>www.laposte.net</td>\n",
              "    </tr>\n",
              "  </tbody>\n",
              "</table>\n",
              "</div>"
            ],
            "text/plain": [
              "             timestamp                        site\n",
              "0  2013-11-15 08:12:07  fpdownload2.macromedia.com\n",
              "1  2013-11-15 08:12:17                 laposte.net\n",
              "2  2013-11-15 08:12:17             www.laposte.net\n",
              "3  2013-11-15 08:12:17              www.google.com\n",
              "4  2013-11-15 08:12:18             www.laposte.net"
            ]
          },
          "metadata": {
            "tags": []
          },
          "execution_count": 6
        }
      ]
    },
    {
      "cell_type": "markdown",
      "metadata": {
        "id": "FpBIFOOblRLn"
      },
      "source": [
        "**Поставим задачу классификации: идентифицировать пользователя по сессии из 10 подряд посещенных сайтов. Объектом в этой задаче будет сессия из 10 сайтов, последовательно посещенных одним и тем же пользователем, признаками – индексы этих 10 сайтов (чуть позже здесь появится \"мешок\" сайтов, подход Bag of Words). Целевым классом будет id пользователя.**"
      ]
    },
    {
      "cell_type": "markdown",
      "metadata": {
        "id": "a6ahTCmwlRLn"
      },
      "source": [
        "### <center>Пример для иллюстрации</center>\n",
        "**Пусть пользователя всего 2, длина сессии – 2 сайта.**\n",
        "\n",
        "<center>user0001.csv</center>\n",
        "<style type=\"text/css\">\n",
        ".tg  {border-collapse:collapse;border-spacing:0;}\n",
        ".tg td{font-family:Arial, sans-serif;font-size:14px;padding:10px 5px;border-style:solid;border-width:1px;overflow:hidden;word-break:normal;}\n",
        ".tg th{font-family:Arial, sans-serif;font-size:14px;font-weight:normal;padding:10px 5px;border-style:solid;border-width:1px;overflow:hidden;word-break:normal;}\n",
        ".tg .tg-yw4l{vertical-align:top}\n",
        "</style>\n",
        "<table class=\"tg\">\n",
        "  <tr>\n",
        "    <th class=\"tg-031e\">timestamp</th>\n",
        "    <th class=\"tg-031e\">site</th>\n",
        "  </tr>\n",
        "  <tr>\n",
        "    <td class=\"tg-031e\">00:00:01</td>\n",
        "    <td class=\"tg-031e\">vk.com</td>\n",
        "  </tr>\n",
        "  <tr>\n",
        "    <td class=\"tg-yw4l\">00:00:11</td>\n",
        "    <td class=\"tg-yw4l\">google.com</td>\n",
        "  </tr>\n",
        "  <tr>\n",
        "    <td class=\"tg-031e\">00:00:16</td>\n",
        "    <td class=\"tg-031e\">vk.com</td>\n",
        "  </tr>\n",
        "  <tr>\n",
        "    <td class=\"tg-031e\">00:00:20</td>\n",
        "    <td class=\"tg-031e\">yandex.ru</td>\n",
        "  </tr>\n",
        "</table>\n",
        "\n",
        "<center>user0002.csv</center>\n",
        "<style type=\"text/css\">\n",
        ".tg  {border-collapse:collapse;border-spacing:0;}\n",
        ".tg td{font-family:Arial, sans-serif;font-size:14px;padding:10px 5px;border-style:solid;border-width:1px;overflow:hidden;word-break:normal;}\n",
        ".tg th{font-family:Arial, sans-serif;font-size:14px;font-weight:normal;padding:10px 5px;border-style:solid;border-width:1px;overflow:hidden;word-break:normal;}\n",
        ".tg .tg-yw4l{vertical-align:top}\n",
        "</style>\n",
        "<table class=\"tg\">\n",
        "  <tr>\n",
        "    <th class=\"tg-031e\">timestamp</th>\n",
        "    <th class=\"tg-031e\">site</th>\n",
        "  </tr>\n",
        "  <tr>\n",
        "    <td class=\"tg-031e\">00:00:02</td>\n",
        "    <td class=\"tg-031e\">yandex.ru</td>\n",
        "  </tr>\n",
        "  <tr>\n",
        "    <td class=\"tg-yw4l\">00:00:14</td>\n",
        "    <td class=\"tg-yw4l\">google.com</td>\n",
        "  </tr>\n",
        "  <tr>\n",
        "    <td class=\"tg-031e\">00:00:17</td>\n",
        "    <td class=\"tg-031e\">facebook.com</td>\n",
        "  </tr>\n",
        "  <tr>\n",
        "    <td class=\"tg-031e\">00:00:25</td>\n",
        "    <td class=\"tg-031e\">yandex.ru</td>\n",
        "  </tr>\n",
        "</table>\n",
        "\n",
        "Идем по 1 файлу, нумеруем сайты подряд: vk.com – 1, google.com – 2 и т.д. Далее по второму файлу. \n",
        "\n",
        "Отображение сайтов в их индесы должно получиться таким:\n",
        "\n",
        "<style type=\"text/css\">\n",
        ".tg  {border-collapse:collapse;border-spacing:0;}\n",
        ".tg td{font-family:Arial, sans-serif;font-size:14px;padding:10px 5px;border-style:solid;border-width:1px;overflow:hidden;word-break:normal;}\n",
        ".tg th{font-family:Arial, sans-serif;font-size:14px;font-weight:normal;padding:10px 5px;border-style:solid;border-width:1px;overflow:hidden;word-break:normal;}\n",
        ".tg .tg-yw4l{vertical-align:top}\n",
        "</style>\n",
        "<table class=\"tg\">\n",
        "  <tr>\n",
        "    <th class=\"tg-031e\">site</th>\n",
        "    <th class=\"tg-yw4l\">site_id</th>\n",
        "  </tr>\n",
        "  <tr>\n",
        "    <td class=\"tg-yw4l\">vk.com</td>\n",
        "    <td class=\"tg-yw4l\">1</td>\n",
        "  </tr>\n",
        "  <tr>\n",
        "    <td class=\"tg-yw4l\">google.com</td>\n",
        "    <td class=\"tg-yw4l\">2</td>\n",
        "  </tr>\n",
        "  <tr>\n",
        "    <td class=\"tg-yw4l\">yandex.ru</td>\n",
        "    <td class=\"tg-yw4l\">3</td>\n",
        "  </tr>\n",
        "  <tr>\n",
        "    <td class=\"tg-yw4l\">facebook.com</td>\n",
        "    <td class=\"tg-yw4l\">4</td>\n",
        "  </tr>\n",
        "</table>\n",
        "\n",
        "Тогда обучающая выборка будет такой (целевой признак – user_id):\n",
        "<style type=\"text/css\">\n",
        ".tg  {border-collapse:collapse;border-spacing:0;}\n",
        ".tg td{font-family:Arial, sans-serif;font-size:14px;padding:10px 5px;border-style:solid;border-width:1px;overflow:hidden;word-break:normal;}\n",
        ".tg th{font-family:Arial, sans-serif;font-size:14px;font-weight:normal;padding:10px 5px;border-style:solid;border-width:1px;overflow:hidden;word-break:normal;}\n",
        ".tg .tg-s6z2{text-align:center}\n",
        ".tg .tg-baqh{text-align:center;vertical-align:top}\n",
        ".tg .tg-hgcj{font-weight:bold;text-align:center}\n",
        ".tg .tg-amwm{font-weight:bold;text-align:center;vertical-align:top}\n",
        "</style>\n",
        "<table class=\"tg\">\n",
        "  <tr>\n",
        "    <th class=\"tg-hgcj\">session_id</th>\n",
        "    <th class=\"tg-hgcj\">site1</th>\n",
        "    <th class=\"tg-hgcj\">site2</th>\n",
        "    <th class=\"tg-amwm\">user_id</th>\n",
        "  </tr>\n",
        "  <tr>\n",
        "    <td class=\"tg-s6z2\">1</td>\n",
        "    <td class=\"tg-s6z2\">1</td>\n",
        "    <td class=\"tg-s6z2\">2</td>\n",
        "    <td class=\"tg-baqh\">1</td>\n",
        "  </tr>\n",
        "  <tr>\n",
        "    <td class=\"tg-s6z2\">2</td>\n",
        "    <td class=\"tg-s6z2\">1</td>\n",
        "    <td class=\"tg-s6z2\">3</td>\n",
        "    <td class=\"tg-baqh\">1</td>\n",
        "  </tr>\n",
        "  <tr>\n",
        "    <td class=\"tg-s6z2\">3</td>\n",
        "    <td class=\"tg-s6z2\">3</td>\n",
        "    <td class=\"tg-s6z2\">2</td>\n",
        "    <td class=\"tg-baqh\">2</td>\n",
        "  </tr>\n",
        "  <tr>\n",
        "    <td class=\"tg-s6z2\">4</td>\n",
        "    <td class=\"tg-s6z2\">4</td>\n",
        "    <td class=\"tg-s6z2\">3</td>\n",
        "    <td class=\"tg-baqh\">2</td>\n",
        "  </tr>\n",
        "</table>\n",
        "\n",
        "Здесь 1 объект – это сессия из 2 посещенных сайтов 1-ым пользователем (target=1). Это сайты vk.com и google.com (номер 1 и 2). И так далее, всего 4 сессии. Пока сессии у нас не пересекаются по сайтам, то есть посещение каждого отдельного сайта относится только к одной сессии."
      ]
    },
    {
      "cell_type": "markdown",
      "metadata": {
        "id": "Ms-xPie2lRLp"
      },
      "source": [
        "## Часть 1. Подготовка обучающей выборки\n",
        "Реализуйте функцию *prepare_train_set*, которая принимает на вход путь к каталогу с csv-файлами *path_to_csv_files* и параметр *session_length* – длину сессии, а возвращает 2 объекта:\n",
        "- DataFrame, в котором строки соответствуют уникальным сессиям из *session_length* сайтов, *session_length* столбцов – индексам этих *session_length* сайтов и последний столбец – ID пользователя\n",
        "- частотный словарь сайтов вида {'site_string': [site_id, site_freq]}, например для недавнего игрушечного примера это будет {'vk.com': (1, 2), 'google.com': (2, 2), 'yandex.ru': (3, 3), 'facebook.com': (4, 1)}\n",
        "\n",
        "Детали:\n",
        "- Смотрите чуть ниже пример вывода, что должна возвращать функция\n",
        "- Используйте glob (или аналоги) для обхода файлов в каталоге. Для определенности, отсортируйте список файлов лексикографически. Удобно использовать `tqdm` для отслеживания числа выполненных итераций цикла\n",
        "- Создайте частотный словарь уникальных сайтов (вида {'site_string': (site_id, site_freq)}) и заполняйте его по ходу чтения файлов. Начните с 1\n",
        "- Рекомендуется меньшие индексы давать более часто попадающимся сайтам (приницип наименьшего описания)\n",
        "- Не делайте entity recognition, считайте *google.com*, *http://www.google.com* и *www.google.com* разными сайтами (подключить entity recognition можно уже в рамках индивидуальной работы над проектом)\n",
        "- Скорее всего в файле число записей не кратно числу *session_length*. Тогда последняя сессия будет короче. Остаток заполняйте нулями. То есть если в файле 24 записи и сессии длины 10, то 3 сессия будет состоять из 4 сайтов, и ей мы сопоставим вектор [*site1_id*, *site2_id*, *site3_id*, *site4_id*, 0, 0, 0, 0, 0, 0, *user_id*] \n",
        "- В итоге некоторые сессии могут повторяться – оставьте как есть, не удаляйте дубликаты. Если в двух сессиях все сайты одинаковы, но сессии принадлежат разным пользователям, то тоже оставляйте как есть, это естественная неопределенность в данных\n",
        "- Не оставляйте в частотном словаре сайт 0 (уже в конце, когда функция возвращает этот словарь)\n",
        "- 150 файлов из *capstone_websites_data/150users/* у меня обработались за 1.7 секунды, но многое, конечно, зависит от реализации функции и от используемого железа. И вообще, первая реализация скорее всего будет не самой эффективной, дальше можно заняться профилированием (особенно если планируете запускать этот код для 3000 пользователей). Также эффективная реализация этой функции поможет нам на следующей неделе."
      ]
    },
    {
      "cell_type": "code",
      "metadata": {
        "id": "GMLC8iCplRLr"
      },
      "source": [
        "def prepare_train_set(path_to_csv_files, session_length=10):\n",
        "    site_dict = {} # словарь для задания\n",
        "    site_map = {0: 0} # удобный словарь для маппинга сайтов в айдишники\n",
        "    train_set = []\n",
        "    user_ids = [] # user_id сохраняем в отдельный список, потом удобно его вставить в датафрейм\n",
        "    user_id, site_id = 0, 1\n",
        "    for file in tqdm(glob(path_to_csv_files + '/*')):\n",
        "        user_id += 1\n",
        "        with open(file) as reader:\n",
        "            reader.readline() # пропускаем первую строку\n",
        "            # читаем батчами по session_length строк\n",
        "            for batch in iter(lambda: tuple(islice(reader, session_length)), ()):\n",
        "                sites = list(map(lambda x: x.split(',')[1].strip(), batch))\n",
        "                # обновляем словари\n",
        "                for site in sites:\n",
        "                    if site not in site_dict:\n",
        "                        site_map[site] = site_id\n",
        "                        site_dict[site] = (site_id, 1)\n",
        "                        site_id += 1\n",
        "                    else:\n",
        "                        t = site_dict[site]\n",
        "                        site_dict[site] = (t[0], t[1] + 1)\n",
        "                user_ids.append(user_id)\n",
        "                train_set.append(sites)\n",
        "    train_set = pd.DataFrame(train_set, columns=[f'site{i+1}' for i in range(session_length)]).fillna(0)\n",
        "    train_set = train_set.applymap(lambda x: site_map[x] if type(x)==str else x)\n",
        "    train_set['user_id'] = user_ids\n",
        "    return train_set, site_dict"
      ],
      "execution_count": 8,
      "outputs": []
    },
    {
      "cell_type": "markdown",
      "metadata": {
        "id": "CRjh0pQ_lRLv"
      },
      "source": [
        "**Примените полученную функцию к игрушечному примеру, убедитесь, что все работает как надо.**"
      ]
    },
    {
      "cell_type": "code",
      "metadata": {
        "collapsed": true,
        "id": "GNRZH5EXlRLw",
        "colab": {
          "base_uri": "https://localhost:8080/"
        },
        "outputId": "c1f66dcd-0849-4de6-f2ba-c42424a0425a"
      },
      "source": [
        "# %pycat $PATH_TO_DATA/3users/user0001.csv\n",
        "!cat $PATH_TO_DATA/3users/user0001.csv"
      ],
      "execution_count": 110,
      "outputs": [
        {
          "output_type": "stream",
          "text": [
            "timestamp,site\r\n",
            "2013-11-15 09:28:17,vk.com\r\n",
            "2013-11-15 09:33:04,oracle.com\r\n",
            "2013-11-15 09:52:48,oracle.com\r\n",
            "2013-11-15 11:37:26,geo.mozilla.org\r\n",
            "2013-11-15 11:40:32,oracle.com\r\n",
            "2013-11-15 11:40:34,google.com\r\n",
            "2013-11-15 11:40:35,accounts.google.com\r\n",
            "2013-11-15 11:40:37,mail.google.com\r\n",
            "2013-11-15 11:40:40,apis.google.com\r\n",
            "2013-11-15 11:41:35,plus.google.com\r\n",
            "2013-11-15 12:40:35,vk.com\r\n",
            "2013-11-15 12:40:37,google.com\r\n",
            "2013-11-15 12:40:40,google.com\r\n",
            "2013-11-15 12:41:35,google.com\r\n"
          ],
          "name": "stdout"
        }
      ]
    },
    {
      "cell_type": "code",
      "metadata": {
        "collapsed": true,
        "id": "TdenEAeBlRLx",
        "colab": {
          "base_uri": "https://localhost:8080/"
        },
        "outputId": "42f2f87d-b0ef-4b15-95c6-09b3eff91fc6"
      },
      "source": [
        "# %pycat $PATH_TO_DATA/3users/user0002.csv\n",
        "!cat $PATH_TO_DATA/3users/user0002.csv"
      ],
      "execution_count": 111,
      "outputs": [
        {
          "output_type": "stream",
          "text": [
            "timestamp,site\r\n",
            "2013-11-15 09:28:17,vk.com\r\n",
            "2013-11-15 09:33:04,oracle.com\r\n",
            "2013-11-15 09:52:48,football.kulichki.ru\r\n",
            "2013-11-15 11:37:26,football.kulichki.ru\r\n",
            "2013-11-15 11:40:32,oracle.com\r\n"
          ],
          "name": "stdout"
        }
      ]
    },
    {
      "cell_type": "code",
      "metadata": {
        "collapsed": true,
        "id": "ebua-kJ0lRLx",
        "colab": {
          "base_uri": "https://localhost:8080/"
        },
        "outputId": "3379f501-d7d5-48e5-961f-7777943e604f"
      },
      "source": [
        "# %pycat $PATH_TO_DATA/3users/user0003.csv\n",
        "!cat $PATH_TO_DATA/3users/user0003.csv"
      ],
      "execution_count": 112,
      "outputs": [
        {
          "output_type": "stream",
          "text": [
            "timestamp,site\r\n",
            "2013-11-15 09:28:17,meduza.io\r\n",
            "2013-11-15 09:33:04,google.com\r\n",
            "2013-11-15 09:52:48,oracle.com\r\n",
            "2013-11-15 11:37:26,google.com\r\n",
            "2013-11-15 11:40:32,oracle.com\r\n",
            "2013-11-15 11:40:34,google.com\r\n",
            "2013-11-15 11:40:35,google.com\r\n",
            "2013-11-15 11:40:37,mail.google.com\r\n",
            "2013-11-15 11:40:40,yandex.ru\r\n",
            "2013-11-15 11:41:35,meduza.io\r\n",
            "2013-11-15 12:28:17,meduza.io\r\n",
            "2013-11-15 12:33:04,google.com\r\n",
            "2013-11-15 12:52:48,oracle.com\r\n"
          ],
          "name": "stdout"
        }
      ]
    },
    {
      "cell_type": "code",
      "metadata": {
        "scrolled": false,
        "id": "4gfEGMQqlRLx",
        "colab": {
          "base_uri": "https://localhost:8080/",
          "height": 66,
          "referenced_widgets": [
            "92d1ed2b79c6477ebc71582d1563c0f3",
            "545c680aaa9c4bf58861fb7c5a1975d1",
            "2752e9c369a64abca24182eff66062b0",
            "d3336efa573d4bcd91fc61b04cec1eda",
            "d23dd6c776534d3da491ab2d1d220a68",
            "ae268dfea0c245fd850d6324ae92f2da",
            "9f3185e590fb405e9fc82da8b6a707e0",
            "bd32ad1e473542a4ba67e955c31089ed"
          ]
        },
        "outputId": "05929bff-eb31-4280-8c97-862d9695efec"
      },
      "source": [
        "train_data_toy, site_freq_3users = prepare_train_set(os.path.join(PATH_TO_DATA, '3users'), session_length=10)"
      ],
      "execution_count": 9,
      "outputs": [
        {
          "output_type": "display_data",
          "data": {
            "application/vnd.jupyter.widget-view+json": {
              "model_id": "92d1ed2b79c6477ebc71582d1563c0f3",
              "version_minor": 0,
              "version_major": 2
            },
            "text/plain": [
              "HBox(children=(FloatProgress(value=0.0, max=3.0), HTML(value='')))"
            ]
          },
          "metadata": {
            "tags": []
          }
        },
        {
          "output_type": "stream",
          "text": [
            "\n"
          ],
          "name": "stdout"
        }
      ]
    },
    {
      "cell_type": "code",
      "metadata": {
        "id": "TnI4Pe3wlRLy",
        "colab": {
          "base_uri": "https://localhost:8080/",
          "height": 204
        },
        "outputId": "a031d018-48ea-4d00-96f8-49444fa16ca6"
      },
      "source": [
        "train_data_toy"
      ],
      "execution_count": 10,
      "outputs": [
        {
          "output_type": "execute_result",
          "data": {
            "text/html": [
              "<div>\n",
              "<style scoped>\n",
              "    .dataframe tbody tr th:only-of-type {\n",
              "        vertical-align: middle;\n",
              "    }\n",
              "\n",
              "    .dataframe tbody tr th {\n",
              "        vertical-align: top;\n",
              "    }\n",
              "\n",
              "    .dataframe thead th {\n",
              "        text-align: right;\n",
              "    }\n",
              "</style>\n",
              "<table border=\"1\" class=\"dataframe\">\n",
              "  <thead>\n",
              "    <tr style=\"text-align: right;\">\n",
              "      <th></th>\n",
              "      <th>site1</th>\n",
              "      <th>site2</th>\n",
              "      <th>site3</th>\n",
              "      <th>site4</th>\n",
              "      <th>site5</th>\n",
              "      <th>site6</th>\n",
              "      <th>site7</th>\n",
              "      <th>site8</th>\n",
              "      <th>site9</th>\n",
              "      <th>site10</th>\n",
              "      <th>user_id</th>\n",
              "    </tr>\n",
              "  </thead>\n",
              "  <tbody>\n",
              "    <tr>\n",
              "      <th>0</th>\n",
              "      <td>1</td>\n",
              "      <td>2</td>\n",
              "      <td>3</td>\n",
              "      <td>3</td>\n",
              "      <td>2</td>\n",
              "      <td>0</td>\n",
              "      <td>0</td>\n",
              "      <td>0</td>\n",
              "      <td>0</td>\n",
              "      <td>0</td>\n",
              "      <td>1</td>\n",
              "    </tr>\n",
              "    <tr>\n",
              "      <th>1</th>\n",
              "      <td>1</td>\n",
              "      <td>2</td>\n",
              "      <td>2</td>\n",
              "      <td>4</td>\n",
              "      <td>2</td>\n",
              "      <td>5</td>\n",
              "      <td>6</td>\n",
              "      <td>7</td>\n",
              "      <td>8</td>\n",
              "      <td>9</td>\n",
              "      <td>2</td>\n",
              "    </tr>\n",
              "    <tr>\n",
              "      <th>2</th>\n",
              "      <td>1</td>\n",
              "      <td>5</td>\n",
              "      <td>5</td>\n",
              "      <td>5</td>\n",
              "      <td>0</td>\n",
              "      <td>0</td>\n",
              "      <td>0</td>\n",
              "      <td>0</td>\n",
              "      <td>0</td>\n",
              "      <td>0</td>\n",
              "      <td>2</td>\n",
              "    </tr>\n",
              "    <tr>\n",
              "      <th>3</th>\n",
              "      <td>10</td>\n",
              "      <td>5</td>\n",
              "      <td>2</td>\n",
              "      <td>5</td>\n",
              "      <td>2</td>\n",
              "      <td>5</td>\n",
              "      <td>5</td>\n",
              "      <td>7</td>\n",
              "      <td>11</td>\n",
              "      <td>10</td>\n",
              "      <td>3</td>\n",
              "    </tr>\n",
              "    <tr>\n",
              "      <th>4</th>\n",
              "      <td>10</td>\n",
              "      <td>5</td>\n",
              "      <td>2</td>\n",
              "      <td>0</td>\n",
              "      <td>0</td>\n",
              "      <td>0</td>\n",
              "      <td>0</td>\n",
              "      <td>0</td>\n",
              "      <td>0</td>\n",
              "      <td>0</td>\n",
              "      <td>3</td>\n",
              "    </tr>\n",
              "  </tbody>\n",
              "</table>\n",
              "</div>"
            ],
            "text/plain": [
              "   site1  site2  site3  site4  site5  ...  site7  site8  site9  site10  user_id\n",
              "0      1      2      3      3      2  ...      0      0      0       0        1\n",
              "1      1      2      2      4      2  ...      6      7      8       9        2\n",
              "2      1      5      5      5      0  ...      0      0      0       0        2\n",
              "3     10      5      2      5      2  ...      5      7     11      10        3\n",
              "4     10      5      2      0      0  ...      0      0      0       0        3\n",
              "\n",
              "[5 rows x 11 columns]"
            ]
          },
          "metadata": {
            "tags": []
          },
          "execution_count": 10
        }
      ]
    },
    {
      "cell_type": "markdown",
      "metadata": {
        "id": "MYYBu8AHlRLy"
      },
      "source": [
        "Частоты сайтов (второй элемент кортежа) точно должны быть такими, нумерация может быть любой (первые элементы кортежей могут отличаться)."
      ]
    },
    {
      "cell_type": "code",
      "metadata": {
        "id": "PIIooL7llRLy",
        "outputId": "7db631a2-d7a7-45db-9892-df534102477f"
      },
      "source": [
        "# НЕ ЗАПУСКАТЬ\n",
        "site_freq_3users"
      ],
      "execution_count": null,
      "outputs": [
        {
          "output_type": "execute_result",
          "data": {
            "text/plain": [
              "{'accounts.google.com': (8, 1),\n",
              " 'apis.google.com': (10, 1),\n",
              " 'football.kulichki.ru': (6, 2),\n",
              " 'geo.mozilla.org': (7, 1),\n",
              " 'google.com': (1, 9),\n",
              " 'mail.google.com': (5, 2),\n",
              " 'meduza.io': (4, 3),\n",
              " 'oracle.com': (2, 8),\n",
              " 'plus.google.com': (9, 1),\n",
              " 'vk.com': (3, 3),\n",
              " 'yandex.ru': (11, 1)}"
            ]
          },
          "metadata": {
            "tags": []
          },
          "execution_count": 13
        }
      ]
    },
    {
      "cell_type": "code",
      "metadata": {
        "id": "bxZmwOivlRLz",
        "colab": {
          "base_uri": "https://localhost:8080/"
        },
        "outputId": "1f6f9825-4343-40ce-c0d7-9995ac2090ee"
      },
      "source": [
        "site_freq_3users"
      ],
      "execution_count": 11,
      "outputs": [
        {
          "output_type": "execute_result",
          "data": {
            "text/plain": [
              "{'accounts.google.com': (6, 1),\n",
              " 'apis.google.com': (8, 1),\n",
              " 'football.kulichki.ru': (3, 2),\n",
              " 'geo.mozilla.org': (4, 1),\n",
              " 'google.com': (5, 9),\n",
              " 'mail.google.com': (7, 2),\n",
              " 'meduza.io': (10, 3),\n",
              " 'oracle.com': (2, 8),\n",
              " 'plus.google.com': (9, 1),\n",
              " 'vk.com': (1, 3),\n",
              " 'yandex.ru': (11, 1)}"
            ]
          },
          "metadata": {
            "tags": []
          },
          "execution_count": 11
        }
      ]
    },
    {
      "cell_type": "markdown",
      "metadata": {
        "id": "eSH6DvjUlRLz"
      },
      "source": [
        "**1. Примените полученную функцию к данным по 10 пользователям, посмотрите, сколько уникальных сессий из 10 сайтов получится, запишите ответ в файл с помощью функции *write_answer_to_file* – это будет ответом к первому вопросу теста. Если ответ получился неправильный, значит где-то ошибка в функции *prepare_train_set*.**"
      ]
    },
    {
      "cell_type": "code",
      "metadata": {
        "id": "KYqBUjwIlRL0",
        "colab": {
          "base_uri": "https://localhost:8080/",
          "height": 100,
          "referenced_widgets": [
            "aecb821b653d47ea9d1e0b58f48a4ef0",
            "d211b80b1d55406ab4da85b20fa1c410",
            "7531bfff12354d788e0891fee2603c3d",
            "e0cdd5e1ca5647e4a266b17f87854910",
            "123f170df2d14be097a285c1d23a8bfb",
            "94de216d54e54906aef3a87b762702f3",
            "ee0baefef7eb4746bb77097701a23f2a",
            "6e5b82818e2c4e2f9156ef057674c4e3"
          ]
        },
        "outputId": "fbdc0f90-31da-4af6-d0d6-1cd417557540"
      },
      "source": [
        "%%time\n",
        "train_data_10users, site_freq_10users = prepare_train_set(os.path.join(PATH_TO_DATA, '10users'), session_length=10)"
      ],
      "execution_count": 12,
      "outputs": [
        {
          "output_type": "display_data",
          "data": {
            "application/vnd.jupyter.widget-view+json": {
              "model_id": "aecb821b653d47ea9d1e0b58f48a4ef0",
              "version_minor": 0,
              "version_major": 2
            },
            "text/plain": [
              "HBox(children=(FloatProgress(value=0.0, max=10.0), HTML(value='')))"
            ]
          },
          "metadata": {
            "tags": []
          }
        },
        {
          "output_type": "stream",
          "text": [
            "\n",
            "CPU times: user 370 ms, sys: 29.3 ms, total: 400 ms\n",
            "Wall time: 446 ms\n"
          ],
          "name": "stdout"
        }
      ]
    },
    {
      "cell_type": "code",
      "metadata": {
        "colab": {
          "base_uri": "https://localhost:8080/",
          "height": 419
        },
        "id": "vpZ9AjNfCo-f",
        "outputId": "b39b8298-0508-4829-9177-b517922da91b"
      },
      "source": [
        "train_data_10users"
      ],
      "execution_count": 13,
      "outputs": [
        {
          "output_type": "execute_result",
          "data": {
            "text/html": [
              "<div>\n",
              "<style scoped>\n",
              "    .dataframe tbody tr th:only-of-type {\n",
              "        vertical-align: middle;\n",
              "    }\n",
              "\n",
              "    .dataframe tbody tr th {\n",
              "        vertical-align: top;\n",
              "    }\n",
              "\n",
              "    .dataframe thead th {\n",
              "        text-align: right;\n",
              "    }\n",
              "</style>\n",
              "<table border=\"1\" class=\"dataframe\">\n",
              "  <thead>\n",
              "    <tr style=\"text-align: right;\">\n",
              "      <th></th>\n",
              "      <th>site1</th>\n",
              "      <th>site2</th>\n",
              "      <th>site3</th>\n",
              "      <th>site4</th>\n",
              "      <th>site5</th>\n",
              "      <th>site6</th>\n",
              "      <th>site7</th>\n",
              "      <th>site8</th>\n",
              "      <th>site9</th>\n",
              "      <th>site10</th>\n",
              "      <th>user_id</th>\n",
              "    </tr>\n",
              "  </thead>\n",
              "  <tbody>\n",
              "    <tr>\n",
              "      <th>0</th>\n",
              "      <td>1</td>\n",
              "      <td>2</td>\n",
              "      <td>2</td>\n",
              "      <td>3</td>\n",
              "      <td>4</td>\n",
              "      <td>5</td>\n",
              "      <td>2</td>\n",
              "      <td>3</td>\n",
              "      <td>1</td>\n",
              "      <td>6</td>\n",
              "      <td>1</td>\n",
              "    </tr>\n",
              "    <tr>\n",
              "      <th>1</th>\n",
              "      <td>4</td>\n",
              "      <td>2</td>\n",
              "      <td>6</td>\n",
              "      <td>4</td>\n",
              "      <td>4</td>\n",
              "      <td>5</td>\n",
              "      <td>5</td>\n",
              "      <td>4</td>\n",
              "      <td>7</td>\n",
              "      <td>8</td>\n",
              "      <td>1</td>\n",
              "    </tr>\n",
              "    <tr>\n",
              "      <th>2</th>\n",
              "      <td>2</td>\n",
              "      <td>3</td>\n",
              "      <td>7</td>\n",
              "      <td>4</td>\n",
              "      <td>9</td>\n",
              "      <td>9</td>\n",
              "      <td>4</td>\n",
              "      <td>2</td>\n",
              "      <td>4</td>\n",
              "      <td>1</td>\n",
              "      <td>1</td>\n",
              "    </tr>\n",
              "    <tr>\n",
              "      <th>3</th>\n",
              "      <td>4</td>\n",
              "      <td>10</td>\n",
              "      <td>6</td>\n",
              "      <td>5</td>\n",
              "      <td>4</td>\n",
              "      <td>6</td>\n",
              "      <td>6</td>\n",
              "      <td>5</td>\n",
              "      <td>6</td>\n",
              "      <td>11</td>\n",
              "      <td>1</td>\n",
              "    </tr>\n",
              "    <tr>\n",
              "      <th>4</th>\n",
              "      <td>4</td>\n",
              "      <td>7</td>\n",
              "      <td>5</td>\n",
              "      <td>4</td>\n",
              "      <td>6</td>\n",
              "      <td>2</td>\n",
              "      <td>5</td>\n",
              "      <td>12</td>\n",
              "      <td>13</td>\n",
              "      <td>5</td>\n",
              "      <td>1</td>\n",
              "    </tr>\n",
              "    <tr>\n",
              "      <th>...</th>\n",
              "      <td>...</td>\n",
              "      <td>...</td>\n",
              "      <td>...</td>\n",
              "      <td>...</td>\n",
              "      <td>...</td>\n",
              "      <td>...</td>\n",
              "      <td>...</td>\n",
              "      <td>...</td>\n",
              "      <td>...</td>\n",
              "      <td>...</td>\n",
              "      <td>...</td>\n",
              "    </tr>\n",
              "    <tr>\n",
              "      <th>14056</th>\n",
              "      <td>1137</td>\n",
              "      <td>4910</td>\n",
              "      <td>426</td>\n",
              "      <td>117</td>\n",
              "      <td>3</td>\n",
              "      <td>2387</td>\n",
              "      <td>2626</td>\n",
              "      <td>1137</td>\n",
              "      <td>2390</td>\n",
              "      <td>4911</td>\n",
              "      <td>10</td>\n",
              "    </tr>\n",
              "    <tr>\n",
              "      <th>14057</th>\n",
              "      <td>148</td>\n",
              "      <td>117</td>\n",
              "      <td>422</td>\n",
              "      <td>736</td>\n",
              "      <td>423</td>\n",
              "      <td>150</td>\n",
              "      <td>3</td>\n",
              "      <td>146</td>\n",
              "      <td>148</td>\n",
              "      <td>4910</td>\n",
              "      <td>10</td>\n",
              "    </tr>\n",
              "    <tr>\n",
              "      <th>14058</th>\n",
              "      <td>3</td>\n",
              "      <td>423</td>\n",
              "      <td>106</td>\n",
              "      <td>422</td>\n",
              "      <td>118</td>\n",
              "      <td>114</td>\n",
              "      <td>3</td>\n",
              "      <td>106</td>\n",
              "      <td>422</td>\n",
              "      <td>118</td>\n",
              "      <td>10</td>\n",
              "    </tr>\n",
              "    <tr>\n",
              "      <th>14059</th>\n",
              "      <td>357</td>\n",
              "      <td>357</td>\n",
              "      <td>28</td>\n",
              "      <td>4491</td>\n",
              "      <td>4491</td>\n",
              "      <td>19</td>\n",
              "      <td>19</td>\n",
              "      <td>20</td>\n",
              "      <td>4491</td>\n",
              "      <td>4491</td>\n",
              "      <td>10</td>\n",
              "    </tr>\n",
              "    <tr>\n",
              "      <th>14060</th>\n",
              "      <td>3187</td>\n",
              "      <td>3187</td>\n",
              "      <td>357</td>\n",
              "      <td>357</td>\n",
              "      <td>0</td>\n",
              "      <td>0</td>\n",
              "      <td>0</td>\n",
              "      <td>0</td>\n",
              "      <td>0</td>\n",
              "      <td>0</td>\n",
              "      <td>10</td>\n",
              "    </tr>\n",
              "  </tbody>\n",
              "</table>\n",
              "<p>14061 rows × 11 columns</p>\n",
              "</div>"
            ],
            "text/plain": [
              "       site1  site2  site3  site4  site5  ...  site7  site8  site9  site10  user_id\n",
              "0          1      2      2      3      4  ...      2      3      1       6        1\n",
              "1          4      2      6      4      4  ...      5      4      7       8        1\n",
              "2          2      3      7      4      9  ...      4      2      4       1        1\n",
              "3          4     10      6      5      4  ...      6      5      6      11        1\n",
              "4          4      7      5      4      6  ...      5     12     13       5        1\n",
              "...      ...    ...    ...    ...    ...  ...    ...    ...    ...     ...      ...\n",
              "14056   1137   4910    426    117      3  ...   2626   1137   2390    4911       10\n",
              "14057    148    117    422    736    423  ...      3    146    148    4910       10\n",
              "14058      3    423    106    422    118  ...      3    106    422     118       10\n",
              "14059    357    357     28   4491   4491  ...     19     20   4491    4491       10\n",
              "14060   3187   3187    357    357      0  ...      0      0      0       0       10\n",
              "\n",
              "[14061 rows x 11 columns]"
            ]
          },
          "metadata": {
            "tags": []
          },
          "execution_count": 13
        }
      ]
    },
    {
      "cell_type": "code",
      "metadata": {
        "colab": {
          "base_uri": "https://localhost:8080/"
        },
        "id": "PuXhsYAiCqzs",
        "outputId": "1b2c792e-c38a-433e-fa42-cf8b094ab5e3"
      },
      "source": [
        "site_freq_10users"
      ],
      "execution_count": 14,
      "outputs": [
        {
          "output_type": "execute_result",
          "data": {
            "text/plain": [
              "{'www.google.fr': (1, 7813),\n",
              " 'www.google.com': (2, 5441),\n",
              " 'apis.google.com': (3, 3758),\n",
              " 's.ytimg.com': (4, 583),\n",
              " 'www.youtube.com': (5, 1804),\n",
              " 'i1.ytimg.com': (6, 1232),\n",
              " 's.youtube.com': (7, 8300),\n",
              " 'r1---sn-gxo5uxg-jqbe.googlevideo.com': (8, 3094),\n",
              " 'clients1.google.com': (9, 1493),\n",
              " 'i3.ytimg.com': (10, 5),\n",
              " 'r4---sn-gxo5uxg-jqbe.googlevideo.com': (11, 1702),\n",
              " 'i4.ytimg.com': (12, 13),\n",
              " 'gdata.youtube.com': (13, 116),\n",
              " 'r2---sn-gxo5uxg-jqbe.googlevideo.com': (14, 1939),\n",
              " 'plus.googleapis.com': (15, 270),\n",
              " 'www.youtube-nocookie.com': (16, 110),\n",
              " 'office14client.microsoft.com': (17, 25),\n",
              " 'office.microsoft.com': (18, 78),\n",
              " 'ieonline.microsoft.com': (19, 484),\n",
              " 'go.microsoft.com': (20, 253),\n",
              " 'support.microsoft.com': (21, 6),\n",
              " 'www.microsoft.com': (22, 14),\n",
              " 'nexus.ensighten.com': (23, 42),\n",
              " 'www.microsofttranslator.com': (24, 8),\n",
              " 'www.bing.com': (25, 332),\n",
              " 'api.microsofttranslator.com': (26, 2),\n",
              " 'c1.microsoft.com': (27, 9),\n",
              " 'dl.javafx.com': (28, 65),\n",
              " 'ad.foxitsoftware.com': (29, 15),\n",
              " 'addons.foxitsoftware.com': (30, 3),\n",
              " 'javadl-esd.sun.com': (31, 37),\n",
              " 'shell.windows.com': (32, 61),\n",
              " 'fpdownload2.macromedia.com': (33, 88),\n",
              " 'translate.google.fr': (34, 1002),\n",
              " 'translate.google.com': (35, 326),\n",
              " 'translate.googleapis.com': (36, 46),\n",
              " 's1.wp.com': (37, 23),\n",
              " '0.gravatar.com': (38, 76),\n",
              " 'thesasreference.wordpress.com': (39, 2),\n",
              " 's2.wp.com': (40, 40),\n",
              " 's0.wp.com': (41, 59),\n",
              " 'feeds.delicious.com': (42, 22),\n",
              " 'onlinestores.metaservices.microsoft.com': (43, 2),\n",
              " 'www.squid-cache.org': (44, 82),\n",
              " 'r3---sn-gxo5uxg-jqbe.googlevideo.com': (45, 3244),\n",
              " 'core.kmi.open.ac.uk': (46, 1),\n",
              " 'www.hotmail.fr': (47, 11),\n",
              " 'login.live.com': (48, 553),\n",
              " 'windowslive.tt.omtrdc.net': (49, 250),\n",
              " 'mail.live.com': (50, 101),\n",
              " 'cid-d6bf976dfdf5d212.users.storage.live.com': (51, 10),\n",
              " 'dub114.mail.live.com': (52, 99),\n",
              " 'h.live.com': (53, 482),\n",
              " 'people.directory.live.com': (54, 172),\n",
              " 'secure.shared.live.com': (55, 180),\n",
              " 'js.live.net': (56, 90),\n",
              " 'go.trouter.io': (57, 191),\n",
              " 'prod.registrar.skype.com': (58, 79),\n",
              " 'storage.live.com': (59, 104),\n",
              " 'api.skype.com': (60, 67),\n",
              " 'maps.google.fr': (61, 531),\n",
              " 'mts0.google.com': (62, 763),\n",
              " 'maps-api-ssl.google.com': (63, 16),\n",
              " 'mts1.google.com': (64, 666),\n",
              " 'gg.google.com': (65, 267),\n",
              " 'bits.wikimedia.org': (66, 402),\n",
              " 'fr.wikipedia.org': (67, 330),\n",
              " 'meta.wikimedia.org': (68, 234),\n",
              " 'login.wikimedia.org': (69, 115),\n",
              " 'khms0.google.fr': (70, 454),\n",
              " 'khms1.google.fr': (71, 460),\n",
              " 'hal.inria.fr': (72, 5),\n",
              " 'hal.archives-ouvertes.fr': (73, 4),\n",
              " 'piwik-hal.ccsd.cnrs.fr': (74, 2),\n",
              " 'www.math.univ-montp2.fr': (75, 3),\n",
              " 'www.michelincareers.com': (76, 44),\n",
              " 'ie7-js.googlecode.com': (77, 5),\n",
              " 'tas-michelin.taleo.net': (78, 2),\n",
              " 'www.michelin.com': (79, 45),\n",
              " 'www.c-feedback.com': (80, 1),\n",
              " 'i1-js-14-3-01-11206-361269355-i.init.cedexis-radar.net': (81, 1),\n",
              " 'gce-us-central1-a.bench.cedexis.com': (82, 10),\n",
              " 'probe.cedexis.org': (83, 81),\n",
              " 'sfr.cedexis.com': (84, 26),\n",
              " 'i1-js-14-3-01-11206-730560943-i.init.cedexis-radar.net': (85, 1),\n",
              " 'cloudfront.cedexis.com': (86, 76),\n",
              " 'gb1.cedexis.swiftserve.com': (87, 2),\n",
              " 'i1-js-14-3-01-11206-925927237-i.init.cedexis-radar.net': (88, 1),\n",
              " 'ec2-eu-west-1a.cedexis.com': (89, 19),\n",
              " 'www-sop.inria.fr': (90, 5),\n",
              " 'www.michelin.fr': (91, 7),\n",
              " 'jd.apec.fr': (92, 3),\n",
              " 'cadres.apec.fr': (93, 16),\n",
              " 'www.placeojeunes.fr': (94, 11),\n",
              " 'www-ljk.imag.fr': (95, 5),\n",
              " 'lists.lri.fr': (96, 2),\n",
              " 'ajax.googleapis.com': (97, 711),\n",
              " 'www.jobteaser.com': (98, 3),\n",
              " 'maps.google.com': (99, 167),\n",
              " 's3-eu-west-1.amazonaws.com': (100, 30),\n",
              " 'widget.uservoice.com': (101, 6),\n",
              " 'maps.googleapis.com': (102, 559),\n",
              " 'code.jquery.com': (103, 69),\n",
              " 'www.lerepairedesmotards.com': (104, 3),\n",
              " 'assets.pinterest.com': (105, 51),\n",
              " 'accounts.google.com': (106, 2089),\n",
              " 'www.math.u-bordeaux.fr': (107, 1),\n",
              " 'ladoux.michelin.com': (108, 4),\n",
              " 'www.maisondelasimulation.fr': (109, 3),\n",
              " 'www.ljll.math.upmc.fr': (110, 6),\n",
              " 'www.yasni.fr': (111, 5),\n",
              " 'static.yasni.fr': (112, 5),\n",
              " 'www.yasni.com': (113, 5),\n",
              " 'www.facebook.com': (114, 4141),\n",
              " 'www.yasni.info': (115, 13),\n",
              " 'y6gu06hxjl.s.ad6media.fr': (116, 3),\n",
              " 'platform.twitter.com': (117, 1041),\n",
              " 'twitter.com': (118, 1204),\n",
              " 'm.ad6media.fr': (119, 13),\n",
              " 'style2.ad6.fr': (120, 21),\n",
              " 'static.yasni.info': (121, 1),\n",
              " 'its.tradelab.fr': (122, 230),\n",
              " 'www.placeojeunes.com': (123, 1),\n",
              " 'apijsv2.viamichelin.com': (124, 4),\n",
              " 'www.michelinrecrute.fr': (125, 1),\n",
              " 'i1-js-14-3-01-11206-75125076-i.init.cedexis-radar.net': (126, 1),\n",
              " 'i1-js-14-3-01-11206-323352100-i.init.cedexis-radar.net': (127, 1),\n",
              " 'ec2-us-west-2a.cedexis.com': (128, 21),\n",
              " 'i1-js-14-3-01-11206-973559131-i.init.cedexis-radar.net': (129, 1),\n",
              " 'ec2-us-east-1a.cedexis.com': (130, 21),\n",
              " 'level3.cedexis.com': (131, 64),\n",
              " 'www.ac-clermont.fr': (132, 32),\n",
              " 'www.craig.fr': (133, 6),\n",
              " 'www.service-public.fr': (134, 6),\n",
              " 'www.ladocumentationfrancaise.fr': (135, 6),\n",
              " 'lannuaire.service-public.fr': (136, 8),\n",
              " 'www.ac-orleans-tours.fr': (137, 43),\n",
              " 'eregie.premier-ministre.gouv.fr': (138, 1),\n",
              " 'pia.ac-orleans-tours.fr': (139, 2),\n",
              " 'www.dailymotion.com': (140, 82),\n",
              " 'cache.media.education.gouv.fr': (141, 8),\n",
              " 'www.commentcamarche.net': (142, 139),\n",
              " 'static.ccm2.net': (143, 213),\n",
              " 'ba.commentcamarche.net': (144, 160),\n",
              " 'kh6qrx0f8h.s.ad6media.fr': (145, 24),\n",
              " 's-static.ak.facebook.com': (146, 1388),\n",
              " 'static.ccmbg.com': (147, 167),\n",
              " 'connect.facebook.net': (148, 482),\n",
              " 'r.ccm2.net': (149, 41),\n",
              " 'static.ak.facebook.com': (150, 1265),\n",
              " 'www.developpez.net': (151, 357),\n",
              " 'premium.hi-mediaserver.com': (152, 117),\n",
              " 'lwh.free.fr': (153, 6),\n",
              " 'www.mathworks.fr': (154, 31),\n",
              " 'www.mathworks.com': (155, 14),\n",
              " 'metrics.mathworks.com': (156, 8),\n",
              " 'aminelgareh.wordpress.com': (157, 2),\n",
              " 'i0.poll.fm': (158, 10),\n",
              " '1.gravatar.com': (159, 59),\n",
              " 'api.facebook.com': (160, 52),\n",
              " 'widgets.wp.com': (161, 24),\n",
              " 'ea.smartbox.com': (162, 6),\n",
              " 'polldaddy.com': (163, 8),\n",
              " 'public-api.wordpress.com': (164, 18),\n",
              " 'forum.hardware.fr': (165, 21),\n",
              " 'forum-images.hardware.fr': (166, 19),\n",
              " 'wtpn.twenga.fr': (167, 45),\n",
              " 'fr.primary.affinitad.com': (168, 12),\n",
              " 'rbx-cdn-tpn.c4tw.net': (169, 25),\n",
              " 'i11.twenga.com': (170, 16),\n",
              " 'i10.twenga.com': (171, 18),\n",
              " 'www.forumimprimante.com': (172, 5),\n",
              " 'static.addtoany.com': (173, 19),\n",
              " 'www.oasq.com': (174, 1),\n",
              " 'perso.ens-lyon.fr': (175, 1),\n",
              " 'www.u-clermont1.fr': (176, 3),\n",
              " 'ent.u-clermont1.fr': (177, 8),\n",
              " 'armmf.adobe.com': (178, 339),\n",
              " 'us-request.foxitservice.com': (179, 10),\n",
              " 'z-ecx.images-amazon.com': (180, 36),\n",
              " 'g-ecx.images-amazon.com': (181, 35),\n",
              " 'www.amazon.com': (182, 14),\n",
              " 'ecx.images-amazon.com': (183, 46),\n",
              " 'fls-na.amazon.com': (184, 11),\n",
              " 'd2o307dm5mqftz.cloudfront.net': (185, 1),\n",
              " 'static.amazon.com': (186, 1),\n",
              " 'd1b14unh5d6w7g.cloudfront.net': (187, 4),\n",
              " 'a13f26d58ee9395dc78dd5c1d8f7d41d6.profile.waw50.cloudfront.net': (188, 1),\n",
              " 'cloudfront-labs.amazonaws.com': (189, 1),\n",
              " 'images-na.ssl-images-amazon.com': (190, 27),\n",
              " 'sites.google.com': (191, 30),\n",
              " 'docs.google.com': (192, 133),\n",
              " '75.docs.google.com': (193, 9),\n",
              " 'b2d08b3a-a-62cb3a1a-s-sites.googlegroups.com': (194, 2),\n",
              " 'www.reverso.net': (195, 21),\n",
              " 'cdn2.reverso.net': (196, 37),\n",
              " 'api.conduit.com': (197, 5),\n",
              " 'i1-js-14-3-01-12160-479392067-i.init.cedexis-radar.net': (198, 1),\n",
              " 'cedexis-test01.insnw.net': (199, 21),\n",
              " 'gb2.cedexis.swiftserve.com': (200, 11),\n",
              " 'um.simpli.fi': (201, 129),\n",
              " 'i1-js-14-3-01-12160-360370925-i.init.cedexis-radar.net': (202, 1),\n",
              " 'azionusa.cedexis.com': (203, 11),\n",
              " 'netdna.cedexis.com': (204, 43),\n",
              " 'onapp.cedexis.com': (205, 21),\n",
              " 'bbcphotos.s3.amazonaws.com': (206, 26),\n",
              " 'www.covoiturage.fr': (207, 72),\n",
              " 'www.clermontfoot.com': (208, 4),\n",
              " 'clients1.google.fr': (209, 226),\n",
              " 'fr.wikibooks.org': (210, 7),\n",
              " 'www.adobe.com': (211, 16),\n",
              " 'use.typekit.com': (212, 8),\n",
              " 'www.acrobat.com': (213, 3),\n",
              " 'adobe.tt.omtrdc.net': (214, 2),\n",
              " 'p.typekit.net': (215, 85),\n",
              " 'pixel.alephd.com': (216, 275),\n",
              " 'images.orangepublicite.fr': (217, 32),\n",
              " 'eulerian.canal-plus.com': (218, 39),\n",
              " 'armdl.adobe.com': (219, 62),\n",
              " 'dumas.ccsd.cnrs.fr': (220, 3),\n",
              " 'www.grappa.univ-lille3.fr': (221, 5),\n",
              " 'wwwlisc.clermont.cemagref.fr': (222, 2),\n",
              " 'documents.digischool.fr': (223, 5),\n",
              " 'unesdoc.unesco.org': (224, 2),\n",
              " 'www.ensai.fr': (225, 2),\n",
              " 'www.math-info.univ-paris5.fr': (226, 2),\n",
              " 'www.irma-grenoble.com': (227, 10),\n",
              " 'cbks2.google.com': (228, 5),\n",
              " 'www.risques.tv': (229, 3),\n",
              " 'l.longtailvideo.com': (230, 9),\n",
              " 'www.outcomerea.org': (231, 1),\n",
              " 'fr.reddit.com': (232, 2),\n",
              " 'img.uscri.be': (233, 5),\n",
              " 'platform.linkedin.com': (234, 123),\n",
              " 'www.gravatar.com': (235, 138),\n",
              " 'www.youscribe.com': (236, 47),\n",
              " 'i2.wp.com': (237, 18),\n",
              " 'www.linkedin.com': (238, 407),\n",
              " 'www.ut-capitole.fr': (239, 2),\n",
              " 'piwik.univ-tlse1.fr': (240, 2),\n",
              " 'varlyproject.files.wordpress.com': (241, 2),\n",
              " 'www.u-psud.fr': (242, 20),\n",
              " 'stat.di.u-psud.fr': (243, 17),\n",
              " 'www.inria.fr': (244, 4),\n",
              " 'pbs.twimg.com': (245, 111),\n",
              " 'www.sante.gouv.fr': (246, 2),\n",
              " 'www.les-mathematiques.net': (247, 31),\n",
              " 'disopt.epfl.ch': (248, 2),\n",
              " 'www.bestformulations.com': (249, 3),\n",
              " 'i1-js-14-3-01-12160-182433560-i.init.cedexis-radar.net': (250, 1),\n",
              " 'i1-js-14-3-01-12160-807513199-i.init.cedexis-radar.net': (251, 1),\n",
              " 'cedexis.cachefly.net': (252, 24),\n",
              " 'fastly.bench.cedexis.com': (253, 40),\n",
              " 'fastly.bench.cedexis.com.global.prod.fastly.net': (254, 25),\n",
              " 'i1-js-14-3-01-12160-266026715-i.init.cedexis-radar.net': (255, 1),\n",
              " 'us-west1.joyent.bench.cedexis.com': (256, 16),\n",
              " 'i1-js-14-3-01-12160-834693108-i.init.cedexis-radar.net': (257, 1),\n",
              " 'transact-can.cedexis.com': (258, 9),\n",
              " 'bitgravity.cedexis.com': (259, 45),\n",
              " 'fr.answers.yahoo.com': (260, 15),\n",
              " 'socialprofiles.zenfs.com': (261, 154),\n",
              " 'dmros.ysm.yahoo.com': (262, 11),\n",
              " 'yt3.ggpht.com': (263, 265),\n",
              " 'yt4.ggpht.com': (264, 3),\n",
              " 'fpdownload.adobe.com': (265, 4),\n",
              " 'i2.ytimg.com': (266, 20),\n",
              " 'www.ampl.com': (267, 3),\n",
              " 'twitter-badges.s3.amazonaws.com': (268, 6),\n",
              " 'www.annuaire-horaire.fr': (269, 5),\n",
              " 'mt1.googleapis.com': (270, 93),\n",
              " 'mt0.googleapis.com': (271, 93),\n",
              " 'tinymce.cachefly.net': (272, 1),\n",
              " 'cdn3.doctoralia.com': (273, 2),\n",
              " 'cdn2.doctoralia.com': (274, 6),\n",
              " 'www.doctoralia.fr': (275, 6),\n",
              " 'cdn1.doctoralia.com': (276, 5),\n",
              " 'www.118218.fr': (277, 6),\n",
              " 'static.118.com': (278, 1),\n",
              " 'mt.googleapis.com': (279, 7),\n",
              " 'www.emploi-environnement.com': (280, 6),\n",
              " 'www.actu-environnement.com': (281, 3),\n",
              " 'www.indre.fr': (282, 8),\n",
              " 'fr.calameo.com': (283, 1),\n",
              " 'conseil-general.com': (284, 1),\n",
              " 'www.conseil-general.com': (285, 3),\n",
              " 'www.cg29.fr': (286, 9),\n",
              " 'www.cg08.fr': (287, 4),\n",
              " 'w.sharethis.com': (288, 84),\n",
              " 'edge.sharethis.com': (289, 27),\n",
              " 'www.cg37.fr': (290, 34),\n",
              " 'www.territorial-recrutement.fr': (291, 9),\n",
              " 'en.wikipedia.org': (292, 15),\n",
              " 'www.w3.org': (293, 21),\n",
              " 'lim.univ-reunion.fr': (294, 1),\n",
              " 'homepages.laas.fr': (295, 1),\n",
              " 'www.enseignement.polytechnique.fr': (296, 11),\n",
              " 'www.math.jussieu.fr': (297, 1),\n",
              " 'camlunity.ru': (298, 1),\n",
              " 'www.linguee.fr': (299, 9),\n",
              " 'c1.adform.net': (300, 46),\n",
              " 'www.isima.fr': (301, 35),\n",
              " 'www.courseapied.net': (302, 7),\n",
              " 'eric.univ-lyon2.fr': (303, 2),\n",
              " 'www.observatoire-habitat-cg63.fr': (304, 8),\n",
              " 'www.linternaute.com': (305, 241),\n",
              " 'r.ccmbg.com': (306, 113),\n",
              " 'dde.linternaute.com': (307, 2),\n",
              " 'p.ccmbg.com': (308, 14),\n",
              " 'player.ooyala.com': (309, 41),\n",
              " 'www.francetvinfo.fr': (310, 137),\n",
              " 'ak.c.ooyala.com': (311, 37),\n",
              " 'i-linter.linternaute.com': (312, 6),\n",
              " 'video.journaldesfemmes.com': (313, 7),\n",
              " 'ce.lijit.com': (314, 81),\n",
              " 'y.one.impact-ad.jp': (315, 31),\n",
              " 'widgets.pinterest.com': (316, 132),\n",
              " 'www.cotedor.fr': (317, 3),\n",
              " 'www.amb-chine.fr': (318, 2),\n",
              " 'www.puydedome.com': (319, 6),\n",
              " 'www.cg971.fr': (320, 6),\n",
              " 'common-en.sensagent.com': (321, 3),\n",
              " 'thumbs1.ebaystatic.com': (322, 5),\n",
              " 'thumbs2.ebaystatic.com': (323, 4),\n",
              " 'thumbs4.ebaystatic.com': (324, 5),\n",
              " 'common-fr.sensagent.com': (325, 3),\n",
              " 'common.sensagent.eu': (326, 6),\n",
              " 'dictionnaire.sensagent.com': (327, 8),\n",
              " 'thumbs3.ebaystatic.com': (328, 5),\n",
              " 'www.sensagent.com': (329, 18),\n",
              " 'i.ssix.io': (330, 7),\n",
              " 'choices.truste.com': (331, 98),\n",
              " 'apnx-match.dotomi.com': (332, 66),\n",
              " 'dtm.hannaandersson.com': (333, 1),\n",
              " 'adventori.com': (334, 68),\n",
              " 'pixel2368.everesttech.net': (335, 97),\n",
              " 'cdn1-marketplace.vntsm.com': (336, 2),\n",
              " 'mm.eulerian.net': (337, 79),\n",
              " 'core.vntsm.com': (338, 1),\n",
              " 'media.wow-europe.com': (339, 2),\n",
              " 'recruteurs.apec.fr': (340, 5),\n",
              " 'match.rtbidder.net': (341, 84),\n",
              " 'dictionnaire.reverso.net': (342, 7),\n",
              " 'www.crisco.unicaen.fr': (343, 2),\n",
              " 'raksmey.fr': (344, 2),\n",
              " 'limos.raksmey.fr': (345, 150),\n",
              " 'badge.facebook.com': (346, 24),\n",
              " 'cx.msn.com': (347, 8),\n",
              " 'www.oracle.com': (348, 293),\n",
              " 'apex.oracle.com': (349, 103),\n",
              " 'mail.google.com': (350, 4158),\n",
              " 'www.gmail.com': (351, 79),\n",
              " 'accounts.youtube.com': (352, 1057),\n",
              " 'accounts.google.fr': (353, 974),\n",
              " 'clients2.google.com': (354, 748),\n",
              " 'plus.google.com': (355, 2630),\n",
              " 'chatenabled.mail.google.com': (356, 676),\n",
              " 'javadl-esd-secure.oracle.com': (357, 582),\n",
              " 'h2.msn.com': (358, 112),\n",
              " 'g.msn.com': (359, 281),\n",
              " 'p.sfx.ms': (360, 106),\n",
              " 'proxy-blu-people.directory.live.com': (361, 76),\n",
              " 'media.bestofmicro.com': (362, 2),\n",
              " 'm.bestofmedia.com': (363, 9),\n",
              " 'www.beead.fr': (364, 21),\n",
              " 'cdns.gigya.com': (365, 17),\n",
              " 'www1.allstatics.com': (366, 3),\n",
              " 'www.conv2pdf.com': (367, 4),\n",
              " 'a01.gestionpub.com': (368, 3),\n",
              " 'mediatag.gestionpub.com': (369, 1),\n",
              " 'display.gestionpub.com': (370, 1),\n",
              " 'tracking.veoxa.com': (371, 15),\n",
              " 'courses.carrefour.fr': (372, 4),\n",
              " 'medserv.carrefour.com': (373, 1),\n",
              " 'www.doc2pdf.net': (374, 5),\n",
              " 'www.paypal.com': (375, 19),\n",
              " 'sodapdf.com': (376, 2),\n",
              " 'legacy.sodapdf.com': (377, 1),\n",
              " 'static.online-convert.com': (378, 4),\n",
              " 'document.online-convert.com': (379, 1),\n",
              " 'www.nitrocloud.com': (380, 4),\n",
              " 'www.dropbox.com': (381, 111),\n",
              " 'www1.online-convert.com': (382, 2),\n",
              " 'doug1izaerwt3.cloudfront.net': (383, 207),\n",
              " 'd3dy5gmtp8yhk7.cloudfront.net': (384, 2),\n",
              " 's2128.t.eloqua.com': (385, 3),\n",
              " 'ajax.cloudflare.com': (386, 15),\n",
              " 'fr-fr.facebook.com': (387, 24),\n",
              " 'fr.facebook.com': (388, 3),\n",
              " 'trk.adbutter.net': (389, 11),\n",
              " 'bonpatron.com': (390, 17),\n",
              " 'fr.wiktionary.org': (391, 4),\n",
              " 'cbks1.google.com': (392, 4),\n",
              " 'www.espritrunning.com': (393, 2),\n",
              " 'c.msn.com': (394, 114),\n",
              " 'js.microsoft.com': (395, 103),\n",
              " 'www.regioncentre.fr': (396, 11),\n",
              " 'cio72.ac-nantes.fr': (397, 4),\n",
              " 'forums.studyrama.com': (398, 4),\n",
              " 'forumsv2.studyrama.com': (399, 2),\n",
              " '653.studyrama.com': (400, 3),\n",
              " 'www.questionsdemploi.fr': (401, 4),\n",
              " 'static.typepad.com': (402, 3),\n",
              " 'questionsdemploi.typepad.fr': (403, 2),\n",
              " 'yui.yahooapis.com': (404, 67),\n",
              " 'www.typepad.com': (405, 1),\n",
              " '6a.typepad.com': (406, 1),\n",
              " 'www.oracleimg.com': (407, 25),\n",
              " 'consent-st.truste.com': (408, 25),\n",
              " 'img03.en25.com': (409, 7),\n",
              " 's1973398186.t.eloqua.com': (410, 8),\n",
              " 'linguistech.ca': (411, 3),\n",
              " 'talkgadget.google.com': (412, 965),\n",
              " 'clients6.google.com': (413, 1039),\n",
              " 'static.monmenu.fr': (414, 19),\n",
              " 'www.demandezlemenu.com': (415, 1),\n",
              " 'images.monmenu.fr': (416, 2),\n",
              " 'admaym.com': (417, 19),\n",
              " 'cs.specificclick.net': (418, 33),\n",
              " 's.kau.li': (419, 16),\n",
              " 'echangeetpartage.over-blog.fr': (420, 2),\n",
              " 'img.over-blog.com': (421, 31),\n",
              " 'fdata.over-blog.net': (422, 59),\n",
              " 'www.audienceinsights.net': (423, 77),\n",
              " 'a395.idata.over-blog.com': (424, 7),\n",
              " 'idata.over-blog.com': (425, 13),\n",
              " 'www.anonymousdmp.com': (426, 10),\n",
              " 'a398.idata.over-blog.com': (427, 10),\n",
              " 'www.deezer.com': (428, 11),\n",
              " 'it3yv1v73b.s.ad6media.fr': (429, 16),\n",
              " 'www.siteduzero.com': (430, 4),\n",
              " 'fr.openclassrooms.com': (431, 662),\n",
              " 'static.siteduzero.com': (432, 38),\n",
              " 'dnn506yrbagrg.cloudfront.net': (433, 105),\n",
              " 'www.googleapis.com': (434, 163),\n",
              " 'pr.ybp.yahoo.com': (435, 47),\n",
              " 'widgets.twimg.com': (436, 7),\n",
              " 'img137.imageshack.us': (437, 1),\n",
              " 'images.encyclopediadramatica.com': (438, 1),\n",
              " 'rbp.mxptint.net': (439, 46),\n",
              " 'jdn.monster.com': (440, 42),\n",
              " 'dtm.footlocker.com': (441, 5),\n",
              " 'rp.gwallet.com': (442, 88),\n",
              " 'rubicon-match.dotomi.com': (443, 55),\n",
              " 'sam.zebestof.com': (444, 9),\n",
              " 'd1zdqwv4o6pivl.cloudfront.net': (445, 9),\n",
              " 'dtm.gap.com': (446, 6),\n",
              " 'dtm.neimanmarcus.com': (447, 5),\n",
              " 'sql.developpez.com': (448, 5),\n",
              " 'www.developpez.com': (449, 164),\n",
              " 'www.developpez.be': (450, 7),\n",
              " 'jigsaw.w3.org': (451, 5),\n",
              " 'rcm-fr.amazon.fr': (452, 27),\n",
              " 'www.cg18.fr': (453, 77),\n",
              " 'khm0.googleapis.com': (454, 40),\n",
              " 'khm1.googleapis.com': (455, 45),\n",
              " 'www.emploi-collectivites.fr': (456, 3),\n",
              " 'www.indeed.fr': (457, 23),\n",
              " 'livreaucentre.fr': (458, 2),\n",
              " 'www.cg57.fr': (459, 2),\n",
              " 'www.addinto.com': (460, 1),\n",
              " 'shea.swelen.com': (461, 4),\n",
              " 'tutoriel-opl.e-monsite.com': (462, 6),\n",
              " 'static.e-monsite.com': (463, 2),\n",
              " 'cip.gagnoo.com': (464, 33),\n",
              " 'www.e-monsite.com': (465, 2),\n",
              " 'nb-commons.storage.googleapis.com': (466, 3),\n",
              " 'ad.publicidees.com': (467, 68),\n",
              " 'retargeting.veoxa.com': (468, 10),\n",
              " 'js.socialike-me.com': (469, 2),\n",
              " 'tracker.the-other-store.net': (470, 4),\n",
              " 'www.nafnaf.com': (471, 8),\n",
              " 'tag.shopping-flux.com': (472, 4),\n",
              " 'mastertrack.the-other-store.net': (473, 2),\n",
              " 'banniere.reussissonsensemble.fr': (474, 97),\n",
              " 'www.yceml.net': (475, 3),\n",
              " 'dc1w54.wysistat.com': (476, 37),\n",
              " 'clic.reussissonsensemble.fr': (477, 4),\n",
              " 'www.effiliation-hebergement.com': (478, 6),\n",
              " 'www.lamsade.dauphine.fr': (479, 6),\n",
              " 'perso.ecp.fr': (480, 1),\n",
              " 'www.ibm.com': (481, 55),\n",
              " 'pic.dhe.ibm.com': (482, 34),\n",
              " 'pt200204.unica.com': (483, 31),\n",
              " '1.www.s81c.com': (484, 26),\n",
              " 'www-01.ibm.com': (485, 19),\n",
              " 'www-146.ibm.com': (486, 1),\n",
              " 'c.developpez.com': (487, 8),\n",
              " 'magazine.developpez.com': (488, 12),\n",
              " 'di63.shoppingshadow.com': (489, 1),\n",
              " 'www.math.u-bordeaux1.fr': (490, 14),\n",
              " 'www.smart-doc.org': (491, 13),\n",
              " 'www.honcode.ch': (492, 9),\n",
              " 'www.restaurantsclermont.com': (493, 21),\n",
              " 'admin.restosclermont.com': (494, 11),\n",
              " 'www.publipost.fr': (495, 3),\n",
              " 'publipost2.com': (496, 1),\n",
              " 'mts0.googleapis.com': (497, 36),\n",
              " 'mts1.googleapis.com': (498, 32),\n",
              " 'mts.googleapis.com': (499, 1),\n",
              " 'www.keljob.com': (500, 9),\n",
              " 'assets.keljob.com': (501, 5),\n",
              " 'recherche-d-emploi.comprendrechoisir.com': (502, 6),\n",
              " 'static.fine-media.fr': (503, 5),\n",
              " 'd1447tq2m68ekg.cloudfront.net': (504, 15),\n",
              " 'media.comprendrechoisir.com': (505, 1),\n",
              " 'dlive.comprendrechoisir.com': (506, 1),\n",
              " 'dlive.pagesjaunes.fr': (507, 7),\n",
              " 'logc259.at.pagesjaunes.fr': (508, 2),\n",
              " 'www.pagesjaunes.fr': (509, 18),\n",
              " 'forum.wordreference.com': (510, 2),\n",
              " 'www.wordreference.com': (511, 10),\n",
              " 'www2.wordreference.com': (512, 4),\n",
              " 'dub114.afx.ms': (513, 7),\n",
              " 'pole-sante-republique.medi-partenaires.com': (514, 41),\n",
              " 'cbks0.google.com': (515, 15),\n",
              " 'www.scopesante.fr': (516, 7),\n",
              " 'ws.scopesante.fr': (517, 2),\n",
              " 'www.has-sante.fr': (518, 10),\n",
              " 'www.medi-partenaires.com': (519, 61),\n",
              " 'geo1.ggpht.com': (520, 126),\n",
              " 'geo0.ggpht.com': (521, 151),\n",
              " 'geo3.ggpht.com': (522, 119),\n",
              " 'geo2.ggpht.com': (523, 116),\n",
              " 'mts2.google.com': (524, 132),\n",
              " 'mts3.google.com': (525, 137),\n",
              " 'mw2.google.com': (526, 51),\n",
              " 'static.panoramio.com.storage.googleapis.com': (527, 5),\n",
              " 'lh5.ggpht.com': (528, 23),\n",
              " 'jmtrivial.info': (529, 6),\n",
              " 'www.mdph63.fr': (530, 4),\n",
              " 'static4.pagesjaunes.fr': (531, 5),\n",
              " 'static.pagesjaunes.fr': (532, 15),\n",
              " 'static2.pagesjaunes.fr': (533, 12),\n",
              " 'col001.ip-label.net': (534, 9),\n",
              " 'axe.mappy.com': (535, 6),\n",
              " 'logc257.at.pagesjaunes.fr': (536, 7),\n",
              " 'poi.pagesjaunes.fr': (537, 2),\n",
              " 'khms1.google.com': (538, 188),\n",
              " 'khms0.google.com': (539, 208),\n",
              " 'www.lembronvaldallier.fr': (540, 3),\n",
              " 'www.chu-clermontferrand.fr': (541, 138),\n",
              " 'player.vimeo.com': (542, 62),\n",
              " 'drive.google.com': (543, 427),\n",
              " 'www.chu-tours.fr': (544, 66),\n",
              " 'emploi.fhf.fr': (545, 6),\n",
              " 'fichiers.fhf.fr': (546, 1),\n",
              " 'www.chu-grenoble.fr': (547, 3),\n",
              " 'start.mozilla.org': (548, 2),\n",
              " 'fr.start2.mozilla.com': (549, 2),\n",
              " 'fr.www.mozilla.com': (550, 1),\n",
              " 'www.mozilla.org': (551, 10),\n",
              " 'gtglobal-ocsp.geotrust.com': (552, 279),\n",
              " 'www.lemonde.fr': (553, 36),\n",
              " 'fr.fxfeeds.mozilla.com': (554, 1),\n",
              " 'rss.lemonde.fr': (555, 1),\n",
              " 'sb-ssl.google.com': (556, 26),\n",
              " 't.fr.msn.com': (557, 1),\n",
              " 'api.bing.com': (558, 205),\n",
              " 'livepassdl.conviva.com': (559, 33),\n",
              " 'pings.conviva.com': (560, 37),\n",
              " 'www.t2c.fr': (561, 76),\n",
              " 'tile.openstreetmap.org': (562, 7),\n",
              " 'factominer.free.fr': (563, 44),\n",
              " 'st.free.fr': (564, 17),\n",
              " 'www.journaldunet.com': (565, 98),\n",
              " 'ece.journaldunet.com': (566, 3),\n",
              " 'bbc.journaldunet.com': (567, 2),\n",
              " 'as.beead.net': (568, 10),\n",
              " 'aee.journaldunet.com': (569, 3),\n",
              " 'static.ebz.io': (570, 15),\n",
              " 'static.lejdn.fr': (571, 6),\n",
              " 'i-cms.journaldunet.com': (572, 47),\n",
              " 'i-jdn.lejdn.fr': (573, 8),\n",
              " 'ba.journaldunet.com': (574, 67),\n",
              " 'r.linter.fr': (575, 5),\n",
              " 'videosfr.s3.amazonaws.com': (576, 33),\n",
              " 'eaf.journaldunet.com': (577, 1),\n",
              " 'aab.journaldunet.com': (578, 1),\n",
              " 'gpohu2ut9k.s.ad6media.fr': (579, 3),\n",
              " 'ebe.journaldunet.com': (580, 2),\n",
              " 'dbd.journaldunet.com': (581, 2),\n",
              " 'dce.journaldunet.com': (582, 1),\n",
              " 'www.carriereonline.com': (583, 4),\n",
              " 'www.agrojob.com': (584, 3),\n",
              " 'feeds2.feedburner.com': (585, 5),\n",
              " 'komo.fr': (586, 1),\n",
              " 'www.cadremploi.fr': (587, 12),\n",
              " 'assets.cadremploi.fr': (588, 7),\n",
              " 'www.psychologues-psychologie.net': (589, 2),\n",
              " 'gm1.ggpht.com': (590, 50),\n",
              " 'www.byperiscope.com': (591, 87),\n",
              " 'byperiscopfr.track.emarketing-factory.com': (592, 54),\n",
              " 'img15.societe.com': (593, 2),\n",
              " 'img9.societe.com': (594, 1),\n",
              " 'img14.societe.com': (595, 1),\n",
              " 'img4.societe.com': (596, 1),\n",
              " 'img20.societe.com': (597, 1),\n",
              " 'img19.societe.com': (598, 1),\n",
              " 'img18.societe.com': (599, 2),\n",
              " 'img16.societe.com': (600, 2),\n",
              " 'img7.societe.com': (601, 1),\n",
              " 'img17.societe.com': (602, 2),\n",
              " 'img12.societe.com': (603, 2),\n",
              " 'img5.societe.com': (604, 1),\n",
              " 'img6.societe.com': (605, 1),\n",
              " 'img3.societe.com': (606, 1),\n",
              " 'img1.societe.com': (607, 2),\n",
              " 'img2.societe.com': (608, 1),\n",
              " 'img13.societe.com': (609, 1),\n",
              " 'img.societe.com': (610, 5),\n",
              " 'img8.societe.com': (611, 1),\n",
              " 'www.societe.com': (612, 10),\n",
              " 'x2.vindicosuite.com': (613, 37),\n",
              " 'loadr.exelator.com': (614, 13),\n",
              " 'ws.mediapostcommunication.net': (615, 86),\n",
              " 'rs.mediapostcommunication.net': (616, 85),\n",
              " 'av.mediapostcommunication.net': (617, 133),\n",
              " 'img10.societe.com': (618, 1),\n",
              " 'img11.societe.com': (619, 1),\n",
              " 'dirigeant.societe.com': (620, 2),\n",
              " '39oxqz1ri3.s.ad6media.fr': (621, 1),\n",
              " 'b12.myspace.com': (622, 31),\n",
              " 'i1-js-14-3-01-11074-827190268-i.init.cedexis-radar.net': (623, 1),\n",
              " 'radar.cedexis.swiftserve.com': (624, 14),\n",
              " 'www.ism.fr': (625, 3),\n",
              " 'base.efe.fr': (626, 2),\n",
              " 's1.edi-static.fr': (627, 6),\n",
              " 'www.e-marketing.fr': (628, 6),\n",
              " 's2.edi-static.fr': (629, 1),\n",
              " 'static1.editialis.fr': (630, 1),\n",
              " 'js.e-marketing.fr': (631, 1),\n",
              " 'www.groupe1001salles.com': (632, 2),\n",
              " 'www.erdf.fr': (633, 1),\n",
              " 'www.grdf.fr': (634, 56),\n",
              " 'www.stage.fr': (635, 36),\n",
              " 't1162.trafiz.net': (636, 5),\n",
              " 'www.edfrecrute.com': (637, 7),\n",
              " 'webtv.edf.com': (638, 2),\n",
              " 'edf.webtv.services.pad.brainsonic.com': (639, 2),\n",
              " 'edf-webtv-front-resources-pad.brainsonic.com': (640, 1),\n",
              " 'agregateur.kimladi.fr': (641, 4),\n",
              " 'www.opendev.fr': (642, 15),\n",
              " 's.gravatar.com': (643, 9),\n",
              " 'api.twitter.com': (644, 982),\n",
              " 'yupeek.com': (645, 12),\n",
              " 'www.google.de': (646, 2),\n",
              " 'gdfsuez.taleo.net': (647, 28),\n",
              " 'gmail.com': (648, 37),\n",
              " 'sgeieg.fr': (649, 4),\n",
              " 'fr.viadeo.com': (650, 13),\n",
              " 'static9.viadeo-static.com': (651, 6),\n",
              " 'static1.viadeo-static.com': (652, 4),\n",
              " 'd2xyl0vj6bxpfi.cloudfront.net': (653, 8),\n",
              " 'join.viadeo.com': (654, 8),\n",
              " 'i1-js-14-3-01-10169-3082439-i.init.cedexis-radar.net': (655, 1),\n",
              " 'dsaorigin.cedexis.com': (656, 8),\n",
              " 'dynamic2.cedexis.com': (657, 5),\n",
              " 'static3.viadeo-static.com': (658, 6),\n",
              " 'static2.viadeo-static.com': (659, 7),\n",
              " 'www.client.linkeo.com': (660, 2),\n",
              " 'particuliers.direct-energie.com': (661, 5),\n",
              " 'wcb.linkeo.com': (662, 15),\n",
              " 'com-denergie.netmng.com': (663, 1),\n",
              " 'unicm-nyc.netmng.com': (664, 1),\n",
              " 'gcm.netmng.com': (665, 1),\n",
              " 'taleo.gdfsuez.com': (666, 1),\n",
              " 'i1-js-14-3-01-10169-93378540-i.init.cedexis-radar.net': (667, 1),\n",
              " 'www.electricite.net': (668, 5),\n",
              " 'www.scoop.it': (669, 6),\n",
              " 'img.scoop.it': (670, 13),\n",
              " 'r.twimg.com': (671, 9),\n",
              " 'www.letudiant.fr': (672, 100),\n",
              " 'www.gdfsuez.com': (673, 5),\n",
              " 'crajepcentre.fr': (674, 5),\n",
              " 'www.crajepcentre.fr': (675, 1),\n",
              " 'www.voyages-sncf.com': (676, 111),\n",
              " 'halc.iadvize.com': (677, 268),\n",
              " 'c04a6e.r.axf8.net': (678, 5),\n",
              " 'fstatic.iadvize.com': (679, 27),\n",
              " 'static0.viadeo-static.com': (680, 2),\n",
              " 'i1-js-14-3-01-10169-84269479-i.init.cedexis-radar.net': (681, 1),\n",
              " 'limelight.cedexis.com': (682, 78),\n",
              " 'i1-js-14-3-01-10169-975759653-i.init.cedexis-radar.net': (683, 1),\n",
              " 'www.sdis63.fr': (684, 16),\n",
              " 'www.pompiercenter.com': (685, 7),\n",
              " 'pjo-env.elasticbeanstalk.com': (686, 2),\n",
              " 'www.sdis66.fr': (687, 2),\n",
              " 'squ.im': (688, 2),\n",
              " 'mentions.squarepartners.com': (689, 1),\n",
              " 'www.sdis38.fr': (690, 4),\n",
              " 'aca.linternaute.com': (691, 3),\n",
              " 'home.edt02.net': (692, 20),\n",
              " 'assets.ebz.io': (693, 8),\n",
              " 'opf.ooyala.com': (694, 7),\n",
              " 'cdn-api.ooyala.com': (695, 4),\n",
              " 'ec.c.ooyala.com': (696, 4),\n",
              " 'l.ooyala.com': (697, 26),\n",
              " 'dce.linternaute.com': (698, 4),\n",
              " 'fbc.linternaute.com': (699, 2),\n",
              " 'cfb.linternaute.com': (700, 2),\n",
              " 'www.accoona.com': (701, 2),\n",
              " 'dtm.bodycentral.com': (702, 1),\n",
              " 'vast.yashi.com': (703, 2),\n",
              " 'liverail.api.peer39.net': (704, 3),\n",
              " 'l2.visiblemeasures.com': (705, 3),\n",
              " 'usersync.yashi.com': (706, 4),\n",
              " 'ohlone.vizu.com': (707, 3),\n",
              " 'securepaths.com': (708, 3),\n",
              " 'boutique-online.orange.fr': (709, 27),\n",
              " 'static.commentcamarche.net': (710, 18),\n",
              " 'cm.adgrx.com': (711, 13),\n",
              " 'avise.org': (712, 3),\n",
              " 'www.avise.org': (713, 44),\n",
              " 'www.atelier-idf.org': (714, 15),\n",
              " 'ptc.uquebec.ca': (715, 13),\n",
              " 'webgate.ec.europa.eu': (716, 7),\n",
              " 'www.socialinnovationeurope.eu': (717, 1),\n",
              " 'socialinnovationeurope.eu': (718, 1),\n",
              " 'www.larousse.fr': (719, 5),\n",
              " 'www.aldaniti.net': (720, 6),\n",
              " 'ksvzyt5fp1.s.ad6media.fr': (721, 3),\n",
              " 'ninariccimaison.com': (722, 1),\n",
              " 'www.ninariccimaison.com': (723, 11),\n",
              " 'www.essenregion.org': (724, 1),\n",
              " 'media.apce.com': (725, 15),\n",
              " 'www.apce.com': (726, 14),\n",
              " 'www.innoviscop.com': (727, 4),\n",
              " 'www.ssireview.org': (728, 5),\n",
              " 'images.ssireview.org': (729, 1),\n",
              " 'www.lexpress.fr': (730, 9),\n",
              " 'admin.brightcove.com': (731, 7),\n",
              " 'communaute.lexpress.fr': (732, 10),\n",
              " 'static.lexpress.fr': (733, 27),\n",
              " 't.qservz.com': (734, 2),\n",
              " 'dcs.adgear.com': (735, 1),\n",
              " 'listener.ezakus.net': (736, 16),\n",
              " 'fbd.linternaute.com': (737, 1),\n",
              " 'www.emailmerci.fr': (738, 3),\n",
              " 'tc.airfrance.com': (739, 22),\n",
              " 'fbf.linternaute.com': (740, 1),\n",
              " 'www.lepoint.fr': (741, 9),\n",
              " 'dtm.venus.com': (742, 5),\n",
              " '212.83.158.208': (743, 1),\n",
              " 'airfrance.front.bannerfactory.ecritel.net': (744, 6),\n",
              " 'render.atelier-idf.oonops.eu': (745, 1),\n",
              " 'gravatar.com': (746, 7),\n",
              " 'mouves.org': (747, 2),\n",
              " 'bm-media.org': (748, 1),\n",
              " 'developer.android.com': (749, 8),\n",
              " 'mt.google.com': (750, 7),\n",
              " 'gg.google.fr': (751, 4),\n",
              " 'windows.microsoft.com': (752, 102),\n",
              " 'res2.windows.microsoft.com': (753, 92),\n",
              " 'res1.windows.microsoft.com': (754, 99),\n",
              " 'ajax.microsoft.com': (755, 51),\n",
              " 'dl.patchbeam.com': (756, 45),\n",
              " 'www.powerarchiver.com': (757, 28),\n",
              " 'www.leboncoin.fr': (758, 95),\n",
              " 'static.leboncoin.fr': (759, 103),\n",
              " 'deliv.leboncoin.fr': (760, 179),\n",
              " '193.164.197.50': (761, 42),\n",
              " '193.164.196.50': (762, 39),\n",
              " '193.164.196.30': (763, 38),\n",
              " '193.164.196.60': (764, 43),\n",
              " '193.164.197.60': (765, 40),\n",
              " '193.164.197.30': (766, 37),\n",
              " '193.164.197.40': (767, 41),\n",
              " '193.164.196.40': (768, 43),\n",
              " 'compteperso.leboncoin.fr': (769, 41),\n",
              " 'ea.numericable.fr': (770, 72),\n",
              " 'www.numericable.biz': (771, 19),\n",
              " 'r.kelkoo.com': (772, 27),\n",
              " 'dsp.active-agent.com': (773, 4),\n",
              " 'gmzil.fr': (774, 1),\n",
              " 'www.regimestorecompany.com': (775, 3),\n",
              " 'www.gentside.com': (776, 10),\n",
              " 'tv.gtsstatic.com': (777, 3),\n",
              " 'img1.gtsstatic.com': (778, 4),\n",
              " 'static.gtsstatic.com': (779, 1),\n",
              " 'img.gentside.com': (780, 1),\n",
              " 'img0.gtsstatic.com': (781, 5),\n",
              " 'vast.bp3854592.btrll.com': (782, 4),\n",
              " 'tv.gentside.com': (783, 3),\n",
              " 'studio.brainient.com': (784, 4),\n",
              " 'ac.brainient.com': (785, 5),\n",
              " 'cloudfront.brainient.com': (786, 1),\n",
              " 'perles-du-bon-coin.fr': (787, 12),\n",
              " '4ek15fvelq.b.ad6media.fr': (788, 5),\n",
              " 'js.sddan.com': (789, 17),\n",
              " 'qcey0819eg.b.ad6media.fr': (790, 10),\n",
              " 'lpo34zsyni.s.ad6media.fr': (791, 7),\n",
              " 'w8gaecx290.b.ad6media.fr': (792, 5),\n",
              " 'a.nonstoppartner.net': (793, 20),\n",
              " 'style.ad6.fr': (794, 33),\n",
              " 'ur95ktr7bs.b.ad6media.fr': (795, 5),\n",
              " 'zqohedx6yv.b.ad6media.fr': (796, 5),\n",
              " 'thyv54em90.b.ad6media.fr': (797, 5),\n",
              " 'asset.email-match.com': (798, 7),\n",
              " 'otdylw8hct.b.ad6media.fr': (799, 4),\n",
              " 'atout.email-match.com': (800, 8),\n",
              " 'n5ctfw70ln.b.ad6media.fr': (801, 4),\n",
              " 'sl9n26jy49.b.ad6media.fr': (802, 4),\n",
              " 'tracking.s.ad6media.fr': (803, 1),\n",
              " 'www.kingosearch.com': (804, 1),\n",
              " 'assets.zendesk.com': (805, 2),\n",
              " 'imgeo.mediastay.net': (806, 2),\n",
              " 'fr.yhs4.search.yahoo.com': (807, 3),\n",
              " 'video.sekindo.com': (808, 1),\n",
              " 'image.jeuxvideo.com': (809, 27),\n",
              " 'www.jeuxvideo.com': (810, 24),\n",
              " 'sync.uuidcshmg.com': (811, 31),\n",
              " 'www.abconsole.com': (812, 3),\n",
              " 'dps.bing.com': (813, 12),\n",
              " 'www.e-picardie.net': (814, 15),\n",
              " 'common.numerigraphe.com': (815, 21),\n",
              " 'www.insee.fr': (816, 15),\n",
              " 'www.udsp63.com': (817, 1),\n",
              " 'www.madmoizelle.com': (818, 5),\n",
              " 'slip.madmoizelle.com': (819, 2),\n",
              " 'jesuis.madmoizelle.com': (820, 10),\n",
              " 'images.madmoizelle.com': (821, 2),\n",
              " 'network.aufeminin.com': (822, 59),\n",
              " 'www.oassf.com': (823, 1),\n",
              " 'static.mmzstatic.com': (824, 3),\n",
              " 'lancebrown.me': (825, 2),\n",
              " 'wd.sharethis.com': (826, 24),\n",
              " 'static.nrelate.com': (827, 1),\n",
              " 'img1.mxstatic.com': (828, 1),\n",
              " 'img0.mxstatic.com': (829, 1),\n",
              " 'www.maxisciences.com': (830, 3),\n",
              " 'static.mxstatic.com': (831, 1),\n",
              " 'www.pourlasolidarite.eu': (832, 1),\n",
              " 'www.auvergnebiodistribution.fr': (833, 1),\n",
              " 'khms2.google.com': (834, 44),\n",
              " 'khms3.google.com': (835, 41),\n",
              " 'storage.googleapis.com': (836, 14),\n",
              " 'geai.univ-brest.fr': (837, 5),\n",
              " 'h.bing.com': (838, 11),\n",
              " 'g.live.com': (839, 76),\n",
              " 'lien-social.blogspot.com': (840, 4),\n",
              " 'lien-social.blogspot.fr': (841, 7),\n",
              " 'www.blogblog.com': (842, 18),\n",
              " 'www.blogger.com': (843, 82),\n",
              " '4.bp.blogspot.com': (844, 23),\n",
              " '1.bp.blogspot.com': (845, 21),\n",
              " 'img.youtube.com': (846, 5),\n",
              " '3.bp.blogspot.com': (847, 19),\n",
              " 'www.toupie.org': (848, 1),\n",
              " 'rr.office.microsoft.com': (849, 8),\n",
              " 'services.highbeam.com': (850, 4),\n",
              " 'integrate.factiva.com': (851, 4),\n",
              " 'www.worldlingo.com': (852, 3),\n",
              " 'www.economie-positive.be': (853, 1),\n",
              " 'www.floridajobs.org': (854, 2),\n",
              " 'sitefinity.floridajobs.org': (855, 1),\n",
              " 'www.solarear.com.br': (856, 17),\n",
              " 'www.ressources-solidaires.org': (857, 3),\n",
              " 'www.iledefranceactive.fr': (858, 1),\n",
              " 'www.escp-eap.net': (859, 1),\n",
              " 'www.runninglink.ch': (860, 1),\n",
              " 'entrainement-sportif.fr': (861, 2),\n",
              " 'www.vo2.fr': (862, 3),\n",
              " 'runners.fr': (863, 4),\n",
              " 'graph.facebook.com': (864, 59),\n",
              " 'yui-s.yahooapis.com': (865, 11),\n",
              " 'www.onisep.fr': (866, 4),\n",
              " 'old.ecoledubois.fr': (867, 1),\n",
              " 'oniseptv.onisep.fr': (868, 4),\n",
              " 'www.afij.org': (869, 2),\n",
              " 'www.verif.com': (870, 8),\n",
              " 'customer.misterbell.com': (871, 2),\n",
              " 'emailretargeting.com': (872, 26),\n",
              " 'jslog.krxd.net': (873, 3),\n",
              " 'gtssl-ocsp.geotrust.com': (874, 297),\n",
              " 'geo.mozilla.org': (875, 23),\n",
              " 'images.mail.dolce-gusto.com': (876, 3),\n",
              " 'app.mail.dolce-gusto.com': (877, 3),\n",
              " 's1660.t.eloqua.com': (878, 3),\n",
              " 'safebrowsing.clients.google.com': (879, 598),\n",
              " 'safebrowsing-cache.google.com': (880, 1039),\n",
              " 'ocsp.digicert.com': (881, 416),\n",
              " 'ocsp.verisign.com': (882, 239),\n",
              " 'ocsp.thawte.com': (883, 257),\n",
              " 'dl-web.dropbox.com': (884, 21),\n",
              " 'ocsp.usertrust.com': (885, 151),\n",
              " 'ocsp.tcs.terena.org': (886, 116),\n",
              " 'wsf.cdyne.com': (887, 5),\n",
              " 'www.soapui.org': (888, 20),\n",
              " 'dl.eviware.com': (889, 9),\n",
              " '800-tiv-782.mktoresp.com': (890, 19),\n",
              " 'a.fsdn.com': (891, 38),\n",
              " 'sourceforge.net': (892, 53),\n",
              " 'p.flite.com': (893, 4),\n",
              " 's.flite.com': (894, 7),\n",
              " 'chart.apis.google.com': (895, 8),\n",
              " 'hal9000.redintelligence.net': (896, 162),\n",
              " 'n40.hal9000.redintelligence.net': (897, 3),\n",
              " 'mintigollg.appspot.com': (898, 8),\n",
              " 'images.sourceforge.net': (899, 10),\n",
              " 'd.delivery49.com': (900, 7),\n",
              " 'kent.dl.sourceforge.net': (901, 5),\n",
              " 'www.webservicex.net': (902, 2),\n",
              " 'id.google.fr': (903, 80),\n",
              " 'www.loadui.org': (904, 1),\n",
              " 'schemas.xmlsoap.org': (905, 1),\n",
              " 'opt.cdxndirectopt.com': (906, 7),\n",
              " 'fr.softuses.com': (907, 10),\n",
              " 'c.giantrealm.com.edgesuite.net': (908, 5),\n",
              " 'redir.adbutter.net': (909, 16),\n",
              " 'y8d63b9ic5.s.ad6media.fr': (910, 19),\n",
              " 'www.mobifiesta.com': (911, 18),\n",
              " 'video.autoplus.fr': (912, 8),\n",
              " 'www.monechelle.fr': (913, 3),\n",
              " 'static.autoplus.fr': (914, 14),\n",
              " 'www.miniinthebox.com': (915, 48),\n",
              " 'minijscss.rightinthebox.com': (916, 12),\n",
              " 'www.oscaro.com': (917, 2),\n",
              " 'annonces.autoplus.fr': (918, 2),\n",
              " 'www.telechargement-de-ouf.fr': (919, 4),\n",
              " 'shop.lego.com': (920, 3),\n",
              " 'files.autoreflex.com': (921, 3),\n",
              " 'static.css.oscaro.com': (922, 4),\n",
              " 'static.js.oscaro.com': (923, 4),\n",
              " 'miniimg.rightinthebox.com': (924, 17),\n",
              " 'litbimg.rightinthebox.com': (925, 10),\n",
              " 'www.1an2kdo.com': (926, 6),\n",
              " 'www.autoplus.fr': (927, 3),\n",
              " 'cache.lego.com': (928, 2),\n",
              " 'www.bigfishgames.fr': (929, 3),\n",
              " 't.datvantage.com': (930, 8),\n",
              " 'cdn-assets.bigfishsites.com': (931, 7),\n",
              " 'voyages.carrefour.fr': (932, 2),\n",
              " 'services.account.lego.com': (933, 1),\n",
              " 'account.lego.com': (934, 1),\n",
              " 'a248.e.akamai.net': (935, 39),\n",
              " 'www.tutorialspoint.com': (936, 15),\n",
              " 'player.kpsule.me': (937, 16),\n",
              " 'evsecure-ocsp.verisign.com': (938, 161),\n",
              " 'stackoverflow.com': (939, 96),\n",
              " 'i.stack.imgur.com': (940, 27),\n",
              " 'ocsp.godaddy.com': (941, 78),\n",
              " 'careers.stackoverflow.com': (942, 54),\n",
              " 'cdn-careers.sstatic.net': (943, 58),\n",
              " 'stackauth.com': (944, 43),\n",
              " 'imss-www.upmf-grenoble.fr': (945, 4),\n",
              " 'adzerk-www.s3.amazonaws.com': (946, 29),\n",
              " 'java.developpez.com': (947, 18),\n",
              " 'docs.oracle.com': (948, 442),\n",
              " 'www.dreamincode.net': (949, 4),\n",
              " 'cdn1.developermedia.com': (950, 4),\n",
              " 'http.cdnlayer.com': (951, 1),\n",
              " 'feeds.feedburner.com': (952, 6),\n",
              " 'www.table-ascii.com': (953, 6),\n",
              " 'www.asciitable.com': (954, 2),\n",
              " 'www.bluehost.com': (955, 1),\n",
              " 'img.bluehost.com': (956, 1),\n",
              " 'feeds.bbci.co.uk': (957, 2),\n",
              " 'newsrss.bbc.co.uk': (958, 2),\n",
              " 'fxfeeds.mozilla.com': (959, 2),\n",
              " 'oracle.developpez.com': (960, 47),\n",
              " 'mwidlake.wordpress.com': (961, 3),\n",
              " 'mwidlake.files.wordpress.com': (962, 1),\n",
              " 'olivier.coupelon.net': (963, 14),\n",
              " '6.docs.google.com': (964, 1),\n",
              " '37.docs.google.com': (965, 2),\n",
              " 'thierry-leriche-dessirier.developpez.com': (966, 4),\n",
              " '92.docs.google.com': (967, 1),\n",
              " 'superdown.sourceforge.net': (968, 3),\n",
              " 'www.islamway.com': (969, 2),\n",
              " 'ar.islamway.net': (970, 2),\n",
              " 'www.jmdoudoux.fr': (971, 14),\n",
              " 'blog-dev.net': (972, 10),\n",
              " 'dtym7iokkjlif.cloudfront.net': (973, 19),\n",
              " 'dsms0mj1bbhn4.cloudfront.net': (974, 14),\n",
              " 'maven.apache.org': (975, 18),\n",
              " 'www.apache.org': (976, 38),\n",
              " 'www.assembla.com': (977, 3),\n",
              " 'i2.technet.microsoft.com': (978, 6),\n",
              " 'i3.technet.microsoft.com': (979, 3),\n",
              " 'i.technet.microsoft.com': (980, 3),\n",
              " 'technet.microsoft.com': (981, 7),\n",
              " 'i2.services.social.microsoft.com': (982, 3),\n",
              " 'www.1keydata.com': (983, 6),\n",
              " 'pages.univ-nc.nc': (984, 5),\n",
              " 'dev.mysql.com': (985, 27),\n",
              " 'download.oracle.com': (986, 313),\n",
              " 'anisfrikha.developpez.com': (987, 4),\n",
              " 'inputtools.google.com': (988, 6),\n",
              " 'www.gwtproject.org': (989, 20),\n",
              " 'developers.google.com': (990, 3),\n",
              " 'developer.google.com': (991, 1),\n",
              " 'use.typekit.net': (992, 13),\n",
              " 'yarpp.org': (993, 5),\n",
              " 'www.programcreek.com': (994, 13),\n",
              " 'disqus.com': (995, 130),\n",
              " 'programcreek.disqus.com': (996, 1),\n",
              " 'go.disqus.com': (997, 56),\n",
              " 'programcreek.com': (998, 1),\n",
              " 'udnotes.appspot.com': (999, 4),\n",
              " 'i1.wp.com': (1000, 11),\n",
              " ...}"
            ]
          },
          "metadata": {
            "tags": []
          },
          "execution_count": 14
        }
      ]
    },
    {
      "cell_type": "code",
      "metadata": {
        "collapsed": true,
        "id": "U6jZFBkglRL0"
      },
      "source": [
        "def write_answer_to_file(answer, file_address):\n",
        "    with open(file_address, 'w') as out_f:\n",
        "        out_f.write(str(answer))"
      ],
      "execution_count": 15,
      "outputs": []
    },
    {
      "cell_type": "code",
      "metadata": {
        "collapsed": true,
        "id": "Oecn1_IQlRL0"
      },
      "source": [
        "write_answer_to_file(len(train_data_10users), 'answer1_1.txt')"
      ],
      "execution_count": 126,
      "outputs": []
    },
    {
      "cell_type": "markdown",
      "metadata": {
        "id": "pbjwVSC4lRL1"
      },
      "source": [
        "**2. Сколько всего уникальных сайтов в выборке из 10 пользователей?**"
      ]
    },
    {
      "cell_type": "code",
      "metadata": {
        "colab": {
          "base_uri": "https://localhost:8080/"
        },
        "id": "WMJeCKP9GDMw",
        "outputId": "22dd391d-47ce-409c-bb43-77fe9479cfdd"
      },
      "source": [
        "len(site_freq_10users)"
      ],
      "execution_count": 16,
      "outputs": [
        {
          "output_type": "execute_result",
          "data": {
            "text/plain": [
              "4913"
            ]
          },
          "metadata": {
            "tags": []
          },
          "execution_count": 16
        }
      ]
    },
    {
      "cell_type": "code",
      "metadata": {
        "collapsed": true,
        "id": "w4llYSHWlRL1"
      },
      "source": [
        "write_answer_to_file(len(site_freq_10users), 'answer1_2.txt')"
      ],
      "execution_count": 128,
      "outputs": []
    },
    {
      "cell_type": "markdown",
      "metadata": {
        "id": "EN5AybAylRL1"
      },
      "source": [
        "**3. Примените полученную функцию к данным по 150 пользователям, посмотрите, сколько уникальных сессий из 10 сайтов получится, запишите ответ в файл с помощью функции *write_answer_to_file* – это будет ответом к третьему вопросу. Если ответ получился неправильный, значит где-то ошибка в функции *prepare_train_set*.**"
      ]
    },
    {
      "cell_type": "code",
      "metadata": {
        "colab": {
          "base_uri": "https://localhost:8080/",
          "height": 100,
          "referenced_widgets": [
            "4b4db532e24740d19fb7afe0fd0aa2dd",
            "18f3b8428d8049ac815275a4dece240e",
            "ab06c6e3ec6342829a919786450ef340",
            "133c5a7fb53047c48108b44120d7b763",
            "807ede06918a4536a0ad7c72f703c497",
            "37ba3585ac874eb789a9efcba37c5376",
            "e3acb96091a94d159c407aba29ed1340",
            "39f08962e70745959b5f0951e570c73c"
          ]
        },
        "id": "mgvhmL4KHRMO",
        "outputId": "86549557-858c-4c11-da7a-b27be54c685f"
      },
      "source": [
        "%%time\n",
        "train_data_150users, site_freq_150users = prepare_train_set(os.path.join(PATH_TO_DATA, '150users'), \n",
        "                                                     session_length=10)"
      ],
      "execution_count": 17,
      "outputs": [
        {
          "output_type": "display_data",
          "data": {
            "application/vnd.jupyter.widget-view+json": {
              "model_id": "4b4db532e24740d19fb7afe0fd0aa2dd",
              "version_minor": 0,
              "version_major": 2
            },
            "text/plain": [
              "HBox(children=(FloatProgress(value=0.0, max=150.0), HTML(value='')))"
            ]
          },
          "metadata": {
            "tags": []
          }
        },
        {
          "output_type": "stream",
          "text": [
            "\n",
            "CPU times: user 3.61 s, sys: 157 ms, total: 3.77 s\n",
            "Wall time: 4.03 s\n"
          ],
          "name": "stdout"
        }
      ]
    },
    {
      "cell_type": "code",
      "metadata": {
        "colab": {
          "base_uri": "https://localhost:8080/"
        },
        "id": "ITRRb1ekHgay",
        "outputId": "8fe2755c-7420-44d7-f114-0f375e015d0d"
      },
      "source": [
        "len(train_data_150users)"
      ],
      "execution_count": 18,
      "outputs": [
        {
          "output_type": "execute_result",
          "data": {
            "text/plain": [
              "137019"
            ]
          },
          "metadata": {
            "tags": []
          },
          "execution_count": 18
        }
      ]
    },
    {
      "cell_type": "code",
      "metadata": {
        "collapsed": true,
        "id": "PYEOzLT0lRL2"
      },
      "source": [
        "write_answer_to_file(len(train_data_150users), 'answer1_3.txt')"
      ],
      "execution_count": 134,
      "outputs": []
    },
    {
      "cell_type": "markdown",
      "metadata": {
        "id": "mU0Jy_ORlRL2"
      },
      "source": [
        "**4. Сколько всего уникальных сайтов в выборке из 150 пользователей?**"
      ]
    },
    {
      "cell_type": "code",
      "metadata": {
        "colab": {
          "base_uri": "https://localhost:8080/"
        },
        "id": "ogCxsL4zINIe",
        "outputId": "ebe6290e-46db-47b5-eae3-7d6dce7604cf"
      },
      "source": [
        "len(site_freq_150users)"
      ],
      "execution_count": 19,
      "outputs": [
        {
          "output_type": "execute_result",
          "data": {
            "text/plain": [
              "27797"
            ]
          },
          "metadata": {
            "tags": []
          },
          "execution_count": 19
        }
      ]
    },
    {
      "cell_type": "code",
      "metadata": {
        "collapsed": true,
        "id": "EzbJG8GGlRL3"
      },
      "source": [
        "write_answer_to_file(len(site_freq_150users), 'answer1_4.txt')"
      ],
      "execution_count": 136,
      "outputs": []
    },
    {
      "cell_type": "markdown",
      "metadata": {
        "id": "Ub8u8mlalRL3"
      },
      "source": [
        "**5. Выведите топ-10 самых популярных сайтов среди посещенных 150 пользователями. Запишите ответ в файл *answer1_5.txt* через пробел – все 10 сайтов на одной строке.**"
      ]
    },
    {
      "cell_type": "code",
      "metadata": {
        "colab": {
          "base_uri": "https://localhost:8080/"
        },
        "id": "mmnXJCaDR_yo",
        "outputId": "3fa1955e-8c73-4ec4-b2fd-ab6241d07d5a"
      },
      "source": [
        "sorted(site_freq_150users.items(), key=lambda x: x[1][1], reverse=True)[:20]"
      ],
      "execution_count": 20,
      "outputs": [
        {
          "output_type": "execute_result",
          "data": {
            "text/plain": [
              "[('www.google.fr', (4, 64785)),\n",
              " ('www.google.com', (34, 51320)),\n",
              " ('www.facebook.com', (18, 39002)),\n",
              " ('apis.google.com', (33, 29983)),\n",
              " ('s.youtube.com', (92, 29102)),\n",
              " ('clients1.google.com', (2, 25087)),\n",
              " ('mail.google.com', (1295, 19072)),\n",
              " ('plus.google.com', (657, 18467)),\n",
              " ('safebrowsing-cache.google.com', (8, 17960)),\n",
              " ('www.youtube.com', (11, 16319)),\n",
              " ('twitter.com', (84, 16219)),\n",
              " ('platform.twitter.com', (86, 15317)),\n",
              " ('s-static.ak.facebook.com', (16, 15048)),\n",
              " ('accounts.google.com', (32, 13855)),\n",
              " ('www.bing.com', (419, 13797)),\n",
              " ('static.ak.facebook.com', (17, 13117)),\n",
              " ('i1.ytimg.com', (20, 13117)),\n",
              " ('download.jboss.org', (1947, 11740)),\n",
              " ('api.twitter.com', (1108, 9350)),\n",
              " ('safebrowsing.clients.google.com', (7, 8981))]"
            ]
          },
          "metadata": {
            "tags": []
          },
          "execution_count": 20
        }
      ]
    },
    {
      "cell_type": "code",
      "metadata": {
        "collapsed": true,
        "id": "B-vQL666lRL3"
      },
      "source": [
        "top10_popular = [k for k, v in sorted(site_freq_150users.items(), key=lambda x: x[1][1], reverse=True)[:10]]"
      ],
      "execution_count": 21,
      "outputs": []
    },
    {
      "cell_type": "code",
      "metadata": {
        "collapsed": true,
        "id": "sq-snWC3lRL4",
        "colab": {
          "base_uri": "https://localhost:8080/",
          "height": 35
        },
        "outputId": "a38f298f-13d2-42d9-ea9b-c5f6ff6573c1"
      },
      "source": [
        "' '.join(top10_popular)"
      ],
      "execution_count": 22,
      "outputs": [
        {
          "output_type": "execute_result",
          "data": {
            "application/vnd.google.colaboratory.intrinsic+json": {
              "type": "string"
            },
            "text/plain": [
              "'www.google.fr www.google.com www.facebook.com apis.google.com s.youtube.com clients1.google.com mail.google.com plus.google.com safebrowsing-cache.google.com www.youtube.com'"
            ]
          },
          "metadata": {
            "tags": []
          },
          "execution_count": 22
        }
      ]
    },
    {
      "cell_type": "code",
      "metadata": {
        "collapsed": true,
        "id": "9T536AhhlRL4"
      },
      "source": [
        "write_answer_to_file(' '.join(top10_popular), 'answer1_5.txt')"
      ],
      "execution_count": 159,
      "outputs": []
    },
    {
      "cell_type": "markdown",
      "metadata": {
        "id": "6ELBhYGGlRL4"
      },
      "source": [
        "**Для дальнейшего анализа запишем полученные объекты DataFrame в csv-файлы.**"
      ]
    },
    {
      "cell_type": "code",
      "metadata": {
        "collapsed": true,
        "id": "CjGgsze2lRL5"
      },
      "source": [
        "train_data_10users.to_csv(os.path.join(PATH_TO_DATA, 'train_data_10users.csv'), index_label='session_id', float_format='%d')\n",
        "train_data_150users.to_csv(os.path.join(PATH_TO_DATA, 'train_data_150users.csv'), index_label='session_id', float_format='%d')"
      ],
      "execution_count": 160,
      "outputs": []
    },
    {
      "cell_type": "markdown",
      "metadata": {
        "id": "uYnd5t59lRL5"
      },
      "source": [
        "## Часть 2. Работа с разреженным форматом данных"
      ]
    },
    {
      "cell_type": "markdown",
      "metadata": {
        "id": "zssMRF4GlRL5"
      },
      "source": [
        "Если так подумать, то полученные признаки *site1*, ..., *site10* смысла не имеют как признаки в задаче классификации. А вот если воспользоваться идеей мешка слов из анализа текстов – это другое дело. Создадим новые матрицы, в которых строкам будут соответствовать сессии из 10 сайтов, а столбцам – индексы сайтов. На пересечении строки $i$ и столбца $j$ будет стоять число $n_{ij}$ – cколько раз сайт $j$ встретился в сессии номер $i$. Делать это будем с помощью разреженных матриц Scipy – [csr_matrix](https://docs.scipy.org/doc/scipy-0.18.1/reference/generated/scipy.sparse.csr_matrix.html). Прочитайте документацию, разберитесь, как использовать разреженные матрицы и создайте такие матрицы для наших данных. Сначала проверьте на игрушечном примере, затем примените для 10 и 150 пользователей.\n",
        "\n",
        "Обратите внимание, что в коротких сессиях, меньше 10 сайтов, у нас остались нули, так что первый признак (сколько раз попался 0) по смыслу отличен от остальных (сколько раз попался сайт с индексом $i$). Поэтому первый столбец разреженной матрицы надо будет удалить."
      ]
    },
    {
      "cell_type": "code",
      "metadata": {
        "colab": {
          "base_uri": "https://localhost:8080/",
          "height": 204
        },
        "id": "Ct-1IKk7jtnF",
        "outputId": "eed8561f-d9d0-487c-cecf-310203a52aca"
      },
      "source": [
        "train_data_toy"
      ],
      "execution_count": 23,
      "outputs": [
        {
          "output_type": "execute_result",
          "data": {
            "text/html": [
              "<div>\n",
              "<style scoped>\n",
              "    .dataframe tbody tr th:only-of-type {\n",
              "        vertical-align: middle;\n",
              "    }\n",
              "\n",
              "    .dataframe tbody tr th {\n",
              "        vertical-align: top;\n",
              "    }\n",
              "\n",
              "    .dataframe thead th {\n",
              "        text-align: right;\n",
              "    }\n",
              "</style>\n",
              "<table border=\"1\" class=\"dataframe\">\n",
              "  <thead>\n",
              "    <tr style=\"text-align: right;\">\n",
              "      <th></th>\n",
              "      <th>site1</th>\n",
              "      <th>site2</th>\n",
              "      <th>site3</th>\n",
              "      <th>site4</th>\n",
              "      <th>site5</th>\n",
              "      <th>site6</th>\n",
              "      <th>site7</th>\n",
              "      <th>site8</th>\n",
              "      <th>site9</th>\n",
              "      <th>site10</th>\n",
              "      <th>user_id</th>\n",
              "    </tr>\n",
              "  </thead>\n",
              "  <tbody>\n",
              "    <tr>\n",
              "      <th>0</th>\n",
              "      <td>1</td>\n",
              "      <td>2</td>\n",
              "      <td>3</td>\n",
              "      <td>3</td>\n",
              "      <td>2</td>\n",
              "      <td>0</td>\n",
              "      <td>0</td>\n",
              "      <td>0</td>\n",
              "      <td>0</td>\n",
              "      <td>0</td>\n",
              "      <td>1</td>\n",
              "    </tr>\n",
              "    <tr>\n",
              "      <th>1</th>\n",
              "      <td>1</td>\n",
              "      <td>2</td>\n",
              "      <td>2</td>\n",
              "      <td>4</td>\n",
              "      <td>2</td>\n",
              "      <td>5</td>\n",
              "      <td>6</td>\n",
              "      <td>7</td>\n",
              "      <td>8</td>\n",
              "      <td>9</td>\n",
              "      <td>2</td>\n",
              "    </tr>\n",
              "    <tr>\n",
              "      <th>2</th>\n",
              "      <td>1</td>\n",
              "      <td>5</td>\n",
              "      <td>5</td>\n",
              "      <td>5</td>\n",
              "      <td>0</td>\n",
              "      <td>0</td>\n",
              "      <td>0</td>\n",
              "      <td>0</td>\n",
              "      <td>0</td>\n",
              "      <td>0</td>\n",
              "      <td>2</td>\n",
              "    </tr>\n",
              "    <tr>\n",
              "      <th>3</th>\n",
              "      <td>10</td>\n",
              "      <td>5</td>\n",
              "      <td>2</td>\n",
              "      <td>5</td>\n",
              "      <td>2</td>\n",
              "      <td>5</td>\n",
              "      <td>5</td>\n",
              "      <td>7</td>\n",
              "      <td>11</td>\n",
              "      <td>10</td>\n",
              "      <td>3</td>\n",
              "    </tr>\n",
              "    <tr>\n",
              "      <th>4</th>\n",
              "      <td>10</td>\n",
              "      <td>5</td>\n",
              "      <td>2</td>\n",
              "      <td>0</td>\n",
              "      <td>0</td>\n",
              "      <td>0</td>\n",
              "      <td>0</td>\n",
              "      <td>0</td>\n",
              "      <td>0</td>\n",
              "      <td>0</td>\n",
              "      <td>3</td>\n",
              "    </tr>\n",
              "  </tbody>\n",
              "</table>\n",
              "</div>"
            ],
            "text/plain": [
              "   site1  site2  site3  site4  site5  ...  site7  site8  site9  site10  user_id\n",
              "0      1      2      3      3      2  ...      0      0      0       0        1\n",
              "1      1      2      2      4      2  ...      6      7      8       9        2\n",
              "2      1      5      5      5      0  ...      0      0      0       0        2\n",
              "3     10      5      2      5      2  ...      5      7     11      10        3\n",
              "4     10      5      2      0      0  ...      0      0      0       0        3\n",
              "\n",
              "[5 rows x 11 columns]"
            ]
          },
          "metadata": {
            "tags": []
          },
          "execution_count": 23
        }
      ]
    },
    {
      "cell_type": "code",
      "metadata": {
        "collapsed": true,
        "id": "RwZ1ofd9lRL6"
      },
      "source": [
        "X_toy, y_toy = train_data_toy.iloc[:, :-1].values, train_data_toy.iloc[:, -1].values"
      ],
      "execution_count": 24,
      "outputs": []
    },
    {
      "cell_type": "code",
      "metadata": {
        "collapsed": true,
        "id": "z56OHK2JlRL6"
      },
      "source": [
        "X_sparse_toy = csr_matrix(([1] * X_toy.size, X_toy.flatten(), list(range(0, X_toy.size + 1, 10))))[:, 1:]\n",
        "# data - массив единиц длины n*m - count'ы сайтов (с повторениями)\n",
        "# indices - массив индексов столбцоы, на которых размещаются единицы; по сути спрямлённый DataFrame индексов\n",
        "# indptr - массив отрезков длины сессии (в нашем случае просто отсечки по длинам строк)"
      ],
      "execution_count": 26,
      "outputs": []
    },
    {
      "cell_type": "markdown",
      "metadata": {
        "id": "9JPgvgoClRL7"
      },
      "source": [
        "**Размерность разреженной матрицы должна получиться равной 11, поскольку в игрушечном примере 3 пользователя посетили 11 уникальных сайтов.**"
      ]
    },
    {
      "cell_type": "code",
      "metadata": {
        "id": "SbSqoWB8lRL7",
        "colab": {
          "base_uri": "https://localhost:8080/"
        },
        "outputId": "204b04be-a8fa-4162-a229-684a2881fb13"
      },
      "source": [
        "X_sparse_toy.todense()"
      ],
      "execution_count": 27,
      "outputs": [
        {
          "output_type": "execute_result",
          "data": {
            "text/plain": [
              "matrix([[1, 2, 2, 0, 0, 0, 0, 0, 0, 0, 0],\n",
              "        [1, 3, 0, 1, 1, 1, 1, 1, 1, 0, 0],\n",
              "        [1, 0, 0, 0, 3, 0, 0, 0, 0, 0, 0],\n",
              "        [0, 2, 0, 0, 4, 0, 1, 0, 0, 2, 1],\n",
              "        [0, 1, 0, 0, 1, 0, 0, 0, 0, 1, 0]])"
            ]
          },
          "metadata": {
            "tags": []
          },
          "execution_count": 27
        }
      ]
    },
    {
      "cell_type": "code",
      "metadata": {
        "collapsed": true,
        "id": "6RyJbSJVlRL8"
      },
      "source": [
        "X_10users, y_10users = train_data_10users.iloc[:, :-1].values, \\\n",
        "                       train_data_10users.iloc[:, -1].values\n",
        "X_150users, y_150users = train_data_150users.iloc[:, :-1].values, \\\n",
        "                         train_data_150users.iloc[:, -1].values"
      ],
      "execution_count": 28,
      "outputs": []
    },
    {
      "cell_type": "code",
      "metadata": {
        "collapsed": true,
        "id": "LAMvUCT2lRL8"
      },
      "source": [
        "X_sparse_10users = csr_matrix(([1] * X_10users.size, X_10users.flatten(), list(range(0, X_10users.size + 1, 10))))[:, 1:]\n",
        "X_sparse_150users = csr_matrix(([1] * X_150users.size, X_150users.flatten(), list(range(0, X_150users.size + 1, 10))))[:, 1:]"
      ],
      "execution_count": 29,
      "outputs": []
    },
    {
      "cell_type": "markdown",
      "metadata": {
        "id": "MWGL4VLDlRL9"
      },
      "source": [
        "**Сохраним эти разреженные матрицы с помощью [pickle](https://docs.python.org/2/library/pickle.html) (сериализация в Python), также сохраним вектора *y_10users, y_150users* – целевые значения (id пользователя)  в выборках из 10 и 150 пользователей. То что названия этих матриц начинаются с X и y, намекает на то, что на этих данных мы будем проверять первые модели классификации.\n",
        "Наконец, сохраним также и частотные словари сайтов для 3, 10 и 150 пользователей.**"
      ]
    },
    {
      "cell_type": "code",
      "metadata": {
        "collapsed": true,
        "id": "OeJifwG7lRL9"
      },
      "source": [
        "with open(os.path.join(PATH_TO_DATA, 'X_sparse_10users.pkl'), 'wb') as X10_pkl:\n",
        "    pickle.dump(X_sparse_10users, X10_pkl, protocol=2)\n",
        "with open(os.path.join(PATH_TO_DATA, 'y_10users.pkl'), 'wb') as y10_pkl:\n",
        "    pickle.dump(y_10users, y10_pkl, protocol=2)\n",
        "with open(os.path.join(PATH_TO_DATA, 'X_sparse_150users.pkl'), 'wb') as X150_pkl:\n",
        "    pickle.dump(X_sparse_150users, X150_pkl, protocol=2)\n",
        "with open(os.path.join(PATH_TO_DATA, 'y_150users.pkl'), 'wb') as y150_pkl:\n",
        "    pickle.dump(y_150users, y150_pkl, protocol=2)\n",
        "with open(os.path.join(PATH_TO_DATA, 'site_freq_3users.pkl'), 'wb') as site_freq_3users_pkl:\n",
        "    pickle.dump(site_freq_3users, site_freq_3users_pkl, protocol=2)\n",
        "with open(os.path.join(PATH_TO_DATA, 'site_freq_10users.pkl'), 'wb') as site_freq_10users_pkl:\n",
        "    pickle.dump(site_freq_10users, site_freq_10users_pkl, protocol=2)\n",
        "with open(os.path.join(PATH_TO_DATA, 'site_freq_150users.pkl'), 'wb') as site_freq_150users_pkl:\n",
        "    pickle.dump(site_freq_150users, site_freq_150users_pkl, protocol=2)"
      ],
      "execution_count": 30,
      "outputs": []
    },
    {
      "cell_type": "markdown",
      "metadata": {
        "id": "RN0jvPHRlRL-"
      },
      "source": [
        "**Чисто для подстраховки проверим, что число столбцов в разреженных матрицах `X_sparse_10users` и `X_sparse_150users` равно ранее посчитанным числам уникальных сайтов для 10 и 150 пользователей соответственно.**"
      ]
    },
    {
      "cell_type": "code",
      "metadata": {
        "collapsed": true,
        "id": "YzPcvxyBlRL-"
      },
      "source": [
        "assert X_sparse_10users.shape[1] == len(site_freq_10users)"
      ],
      "execution_count": null,
      "outputs": []
    },
    {
      "cell_type": "code",
      "metadata": {
        "collapsed": true,
        "id": "8yM71LRIlRL_"
      },
      "source": [
        "assert X_sparse_150users.shape[1] == len(site_freq_150users)"
      ],
      "execution_count": null,
      "outputs": []
    },
    {
      "cell_type": "markdown",
      "metadata": {
        "id": "xonktfuIlRL_"
      },
      "source": [
        "## Пути улучшения\n",
        "В этом проекте свобода творчества на каждом шаге, а 7 неделя проекта посвящена общему описанию (`html`, `ipynb` или `pdf`) и взаимному оцениванию проектов. Что еще можно добавить по первой части проекта:\n",
        "-  можно обработать исходные данные по 3000 пользователей; обучать на такой выборке модели лучше при наличии доступа к хорошим мощностям (можно арендовать инстанс Amazon EC2, как именно, описано [тут](https://habrahabr.ru/post/280562/)). Хотя далее в курсе мы познакомимся с алгоритмами, способными обучаться на больших выборках при малых вычислительных потребностях;\n",
        "- Помимо явного создания разреженного формата можно еще составить выборки с помощью `CountVectorizer`, `TfidfVectorizer` и т.п. Поскольку данные по сути могут быть описаны как последовательности, то можно вычислять n-граммы сайтов. Работает все это или нет, мы будем проверять в [соревновании](https://inclass.kaggle.com/c/identify-me-if-you-can4) Kaggle Inclass (желающие могут начать уже сейчас).\n",
        "\n",
        "На следующей неделе мы еще немного поготовим данные и потестируем первые гипотезы, связанные с нашими наблюдениями. "
      ]
    }
  ]
}