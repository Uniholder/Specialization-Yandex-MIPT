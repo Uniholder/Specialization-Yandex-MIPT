{
 "cells": [
  {
   "cell_type": "markdown",
   "metadata": {},
   "source": [
    "sgdclassifier | bag of sites | 0.83341"
   ]
  },
  {
   "cell_type": "code",
   "execution_count": 1,
   "metadata": {
    "execution": {
     "iopub.execute_input": "2021-07-09T18:08:20.643540Z",
     "iopub.status.busy": "2021-07-09T18:08:20.643149Z",
     "iopub.status.idle": "2021-07-09T18:08:20.650016Z",
     "shell.execute_reply": "2021-07-09T18:08:20.648983Z",
     "shell.execute_reply.started": "2021-07-09T18:08:20.643509Z"
    },
    "id": "vp53iRU4evo-"
   },
   "outputs": [],
   "source": [
    "from __future__ import division, print_function\n",
    "# отключим всякие предупреждения Anaconda\n",
    "import warnings\n",
    "warnings.filterwarnings('ignore')\n",
    "import os\n",
    "import pickle\n",
    "import numpy as np\n",
    "import pandas as pd\n",
    "# from scipy.sparse import csr_matrix\n",
    "from sklearn.model_selection import cross_val_score, TimeSeriesSplit\n",
    "from sklearn.linear_model import SGDClassifier\n",
    "from sklearn.metrics import roc_auc_score\n",
    "from sklearn.feature_extraction.text import CountVectorizer"
   ]
  },
  {
   "cell_type": "code",
   "execution_count": 3,
   "metadata": {
    "execution": {
     "iopub.execute_input": "2021-07-09T17:39:44.544479Z",
     "iopub.status.busy": "2021-07-09T17:39:44.544220Z",
     "iopub.status.idle": "2021-07-09T17:39:44.555431Z",
     "shell.execute_reply": "2021-07-09T17:39:44.554227Z",
     "shell.execute_reply.started": "2021-07-09T17:39:44.544454Z"
    },
    "id": "Wg8z9iJlhH8L"
   },
   "outputs": [],
   "source": [
    "# !unzip capstone_user_identification.zip"
   ]
  },
  {
   "cell_type": "markdown",
   "metadata": {},
   "source": [
    "### Обработка входных данных"
   ]
  },
  {
   "cell_type": "code",
   "execution_count": 2,
   "metadata": {
    "execution": {
     "iopub.execute_input": "2021-07-09T17:44:09.701766Z",
     "iopub.status.busy": "2021-07-09T17:44:09.701343Z",
     "iopub.status.idle": "2021-07-09T17:44:12.827828Z",
     "shell.execute_reply": "2021-07-09T17:44:12.826416Z",
     "shell.execute_reply.started": "2021-07-09T17:44:09.701729Z"
    },
    "id": "CTCSeq9revpC"
   },
   "outputs": [
    {
     "data": {
      "text/plain": [
       "((253561, 21), (82797, 20))"
      ]
     },
     "execution_count": 2,
     "metadata": {},
     "output_type": "execute_result"
    }
   ],
   "source": [
    "PATH_TO_DATA = '../capstone_user_identification'\n",
    "# PATH_TO_DATA = '../input/catch-me-if-you-can-intruder-detection-through-webpage-session-tracking2'\n",
    "\n",
    "train_df = pd.read_csv(os.path.join(PATH_TO_DATA, 'train_sessions.csv'),\n",
    "                       index_col='session_id')\n",
    "test_df = pd.read_csv(os.path.join(PATH_TO_DATA, 'test_sessions.csv'),\n",
    "                      index_col='session_id')\n",
    "train_df.shape, test_df.shape"
   ]
  },
  {
   "cell_type": "code",
   "execution_count": 3,
   "metadata": {
    "execution": {
     "iopub.execute_input": "2021-07-09T17:44:12.829765Z",
     "iopub.status.busy": "2021-07-09T17:44:12.829451Z",
     "iopub.status.idle": "2021-07-09T17:44:13.612653Z",
     "shell.execute_reply": "2021-07-09T17:44:13.611537Z",
     "shell.execute_reply.started": "2021-07-09T17:44:12.829732Z"
    }
   },
   "outputs": [],
   "source": [
    "train_df.sort_values(by='time1', inplace=True)"
   ]
  },
  {
   "cell_type": "code",
   "execution_count": 4,
   "metadata": {
    "execution": {
     "iopub.execute_input": "2021-07-09T17:44:14.959522Z",
     "iopub.status.busy": "2021-07-09T17:44:14.959092Z",
     "iopub.status.idle": "2021-07-09T17:44:15.655226Z",
     "shell.execute_reply": "2021-07-09T17:44:15.654160Z",
     "shell.execute_reply.started": "2021-07-09T17:44:14.959486Z"
    },
    "id": "kg7jEjs4evpO"
   },
   "outputs": [],
   "source": [
    "train_test_df = pd.concat([train_df, test_df])\n",
    "train_test_df_sites = train_test_df[['site%d' % i for i in range(1, 11)]].fillna(0).astype('int')"
   ]
  },
  {
   "cell_type": "code",
   "execution_count": 5,
   "metadata": {
    "execution": {
     "iopub.execute_input": "2021-07-09T17:44:16.429263Z",
     "iopub.status.busy": "2021-07-09T17:44:16.428875Z",
     "iopub.status.idle": "2021-07-09T17:44:17.193842Z",
     "shell.execute_reply": "2021-07-09T17:44:17.192518Z",
     "shell.execute_reply.started": "2021-07-09T17:44:16.429233Z"
    }
   },
   "outputs": [],
   "source": [
    "# !mkdir tmp"
   ]
  },
  {
   "cell_type": "code",
   "execution_count": 5,
   "metadata": {
    "execution": {
     "iopub.execute_input": "2021-07-09T17:44:21.185238Z",
     "iopub.status.busy": "2021-07-09T17:44:21.184806Z",
     "iopub.status.idle": "2021-07-09T17:44:22.673487Z",
     "shell.execute_reply": "2021-07-09T17:44:22.672237Z",
     "shell.execute_reply.started": "2021-07-09T17:44:21.185195Z"
    }
   },
   "outputs": [],
   "source": [
    "train_test_df_sites[:253561].to_csv('tmp/train.csv', header=False, index=False, sep=' ')\n",
    "train_test_df_sites[253561:].to_csv('tmp/test.csv', header=False, index=False, sep=' ')"
   ]
  },
  {
   "cell_type": "code",
   "execution_count": 6,
   "metadata": {
    "execution": {
     "iopub.execute_input": "2021-07-09T18:15:45.239460Z",
     "iopub.status.busy": "2021-07-09T18:15:45.239076Z",
     "iopub.status.idle": "2021-07-09T18:16:16.923964Z",
     "shell.execute_reply": "2021-07-09T18:16:16.923213Z",
     "shell.execute_reply.started": "2021-07-09T18:15:45.239428Z"
    }
   },
   "outputs": [
    {
     "name": "stdout",
     "output_type": "stream",
     "text": [
      "(253561, 20000)\n",
      "CPU times: user 5.74 s, sys: 62.2 ms, total: 5.81 s\n",
      "Wall time: 6.21 s\n"
     ]
    }
   ],
   "source": [
    "%%time\n",
    "vectorizer = CountVectorizer(ngram_range=(1, 2), max_features=20000)\n",
    "with open('tmp/train.csv') as train:\n",
    "    X_train_sparse = vectorizer.fit_transform(train)\n",
    "with open('tmp/test.csv') as test:\n",
    "    X_test_sparse = vectorizer.transform(test)\n",
    "y = train_df['target']\n",
    "print(X_train_sparse.shape)"
   ]
  },
  {
   "cell_type": "markdown",
   "metadata": {
    "id": "hsXfmxYHevpX"
   },
   "source": [
    "### Обучение модели"
   ]
  },
  {
   "cell_type": "code",
   "execution_count": 7,
   "metadata": {
    "execution": {
     "iopub.execute_input": "2021-07-09T18:09:08.255561Z",
     "iopub.status.busy": "2021-07-09T18:09:08.255178Z",
     "iopub.status.idle": "2021-07-09T18:09:08.260705Z",
     "shell.execute_reply": "2021-07-09T18:09:08.259959Z",
     "shell.execute_reply.started": "2021-07-09T18:09:08.255528Z"
    }
   },
   "outputs": [],
   "source": [
    "sgd_logit = SGDClassifier(loss='log', random_state=17, n_jobs=-1)"
   ]
  },
  {
   "cell_type": "code",
   "execution_count": 8,
   "metadata": {
    "execution": {
     "iopub.execute_input": "2021-07-09T18:16:16.925740Z",
     "iopub.status.busy": "2021-07-09T18:16:16.925438Z",
     "iopub.status.idle": "2021-07-09T18:16:20.336294Z",
     "shell.execute_reply": "2021-07-09T18:16:20.335312Z",
     "shell.execute_reply.started": "2021-07-09T18:16:16.925710Z"
    }
   },
   "outputs": [
    {
     "name": "stdout",
     "output_type": "stream",
     "text": [
      "CPU times: user 17.4 s, sys: 310 ms, total: 17.7 s\n",
      "Wall time: 3.52 s\n"
     ]
    }
   ],
   "source": [
    "%%time\n",
    "time_split = TimeSeriesSplit(n_splits=10)\n",
    "\n",
    "cv_scores = cross_val_score(sgd_logit, X_train_sparse, y, cv=time_split, scoring='roc_auc')"
   ]
  },
  {
   "cell_type": "code",
   "execution_count": 9,
   "metadata": {
    "execution": {
     "iopub.execute_input": "2021-07-09T18:16:39.830791Z",
     "iopub.status.busy": "2021-07-09T18:16:39.829945Z",
     "iopub.status.idle": "2021-07-09T18:16:39.837908Z",
     "shell.execute_reply": "2021-07-09T18:16:39.836878Z",
     "shell.execute_reply.started": "2021-07-09T18:16:39.830736Z"
    }
   },
   "outputs": [
    {
     "data": {
      "text/plain": [
       "(array([0.78413451, 0.60730791, 0.8783136 , 0.96134666, 0.84649539,\n",
       "        0.89894634, 0.93064162, 0.85145182, 0.93189001, 0.88853111]),\n",
       " 0.8579058965518641)"
      ]
     },
     "execution_count": 9,
     "metadata": {},
     "output_type": "execute_result"
    }
   ],
   "source": [
    "cv_scores, cv_scores.mean()"
   ]
  },
  {
   "cell_type": "markdown",
   "metadata": {},
   "source": [
    "0.85791"
   ]
  },
  {
   "cell_type": "markdown",
   "metadata": {
    "id": "Z2C1u2zVevpd"
   },
   "source": [
    "### Предсказание на тестовой выборке"
   ]
  },
  {
   "cell_type": "code",
   "execution_count": 94,
   "metadata": {
    "execution": {
     "iopub.execute_input": "2021-07-09T18:04:16.354489Z",
     "iopub.status.busy": "2021-07-09T18:04:16.354081Z",
     "iopub.status.idle": "2021-07-09T18:04:17.225981Z",
     "shell.execute_reply": "2021-07-09T18:04:17.224844Z",
     "shell.execute_reply.started": "2021-07-09T18:04:16.354457Z"
    },
    "id": "BO52aSbSevpd",
    "outputId": "14c50521-ed54-4ba0-9f1e-b7e3956970c6"
   },
   "outputs": [],
   "source": [
    "sgd_logit.fit(X_train_sparse, y)\n",
    "logit_test_pred_proba = sgd_logit.predict_proba(X_test_sparse)"
   ]
  },
  {
   "cell_type": "code",
   "execution_count": 95,
   "metadata": {
    "execution": {
     "iopub.execute_input": "2021-07-09T18:04:25.251170Z",
     "iopub.status.busy": "2021-07-09T18:04:25.250653Z",
     "iopub.status.idle": "2021-07-09T18:04:25.256103Z",
     "shell.execute_reply": "2021-07-09T18:04:25.255233Z",
     "shell.execute_reply.started": "2021-07-09T18:04:25.251125Z"
    },
    "id": "Rqv46XGzevpe"
   },
   "outputs": [],
   "source": [
    "def write_to_submission_file(predicted_labels, out_file,\n",
    "                             target='target', index_label=\"session_id\"):\n",
    "    # turn predictions into data frame and save as csv file\n",
    "    predicted_df = pd.DataFrame(predicted_labels,\n",
    "                                index = np.arange(1, predicted_labels.shape[0] + 1),\n",
    "                                columns=[target])\n",
    "    predicted_df.to_csv(out_file, index_label=index_label)"
   ]
  },
  {
   "cell_type": "code",
   "execution_count": 96,
   "metadata": {
    "execution": {
     "iopub.execute_input": "2021-07-09T18:04:28.351382Z",
     "iopub.status.busy": "2021-07-09T18:04:28.350817Z",
     "iopub.status.idle": "2021-07-09T18:04:28.714246Z",
     "shell.execute_reply": "2021-07-09T18:04:28.713280Z",
     "shell.execute_reply.started": "2021-07-09T18:04:28.351348Z"
    },
    "id": "OdBll-mpevpf"
   },
   "outputs": [],
   "source": [
    "write_to_submission_file(logit_test_pred_proba[:, 1], 'result.csv')"
   ]
  },
  {
   "cell_type": "markdown",
   "metadata": {
    "id": "570henMi8pli"
   },
   "source": [
    "Бейзлайн sgd_logit_benchmark: 0.91273 побит"
   ]
  }
 ],
 "metadata": {
  "kernelspec": {
   "display_name": "Python 3",
   "language": "python",
   "name": "python3"
  },
  "language_info": {
   "codemirror_mode": {
    "name": "ipython",
    "version": 3
   },
   "file_extension": ".py",
   "mimetype": "text/x-python",
   "name": "python",
   "nbconvert_exporter": "python",
   "pygments_lexer": "ipython3",
   "version": "3.8.8"
  }
 },
 "nbformat": 4,
 "nbformat_minor": 4
}
