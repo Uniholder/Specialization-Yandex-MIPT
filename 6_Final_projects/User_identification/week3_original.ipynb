{
  "nbformat": 4,
  "nbformat_minor": 0,
  "metadata": {
    "anaconda-cloud": {},
    "colab": {
      "name": "week3_original.ipynb",
      "provenance": [],
      "collapsed_sections": [
        "pg0oGMIMml8b",
        "widHPqRmml8q",
        "UYBDw6kpml80",
        "zk4wsVG6ml9H"
      ],
      "toc_visible": true
    },
    "kernelspec": {
      "display_name": "Python 3",
      "language": "python",
      "name": "python3"
    },
    "language_info": {
      "codemirror_mode": {
        "name": "ipython",
        "version": 3
      },
      "file_extension": ".py",
      "mimetype": "text/x-python",
      "name": "python",
      "nbconvert_exporter": "python",
      "pygments_lexer": "ipython3",
      "version": "3.6.1"
    },
    "widgets": {
      "application/vnd.jupyter.widget-state+json": {
        "4ff3d13ccc9c44c8ab13ba86de01201d": {
          "model_module": "@jupyter-widgets/controls",
          "model_name": "HBoxModel",
          "state": {
            "_view_name": "HBoxView",
            "_dom_classes": [],
            "_model_name": "HBoxModel",
            "_view_module": "@jupyter-widgets/controls",
            "_model_module_version": "1.5.0",
            "_view_count": null,
            "_view_module_version": "1.5.0",
            "box_style": "",
            "layout": "IPY_MODEL_8f75e8b01769497b8f867bf99a6a2ffb",
            "_model_module": "@jupyter-widgets/controls",
            "children": [
              "IPY_MODEL_4920e007c55a4d35a778422d1eca738f",
              "IPY_MODEL_65f3344ee9b94badad2bf896626b2c8e"
            ]
          }
        },
        "8f75e8b01769497b8f867bf99a6a2ffb": {
          "model_module": "@jupyter-widgets/base",
          "model_name": "LayoutModel",
          "state": {
            "_view_name": "LayoutView",
            "grid_template_rows": null,
            "right": null,
            "justify_content": null,
            "_view_module": "@jupyter-widgets/base",
            "overflow": null,
            "_model_module_version": "1.2.0",
            "_view_count": null,
            "flex_flow": null,
            "width": null,
            "min_width": null,
            "border": null,
            "align_items": null,
            "bottom": null,
            "_model_module": "@jupyter-widgets/base",
            "top": null,
            "grid_column": null,
            "overflow_y": null,
            "overflow_x": null,
            "grid_auto_flow": null,
            "grid_area": null,
            "grid_template_columns": null,
            "flex": null,
            "_model_name": "LayoutModel",
            "justify_items": null,
            "grid_row": null,
            "max_height": null,
            "align_content": null,
            "visibility": null,
            "align_self": null,
            "height": null,
            "min_height": null,
            "padding": null,
            "grid_auto_rows": null,
            "grid_gap": null,
            "max_width": null,
            "order": null,
            "_view_module_version": "1.2.0",
            "grid_template_areas": null,
            "object_position": null,
            "object_fit": null,
            "grid_auto_columns": null,
            "margin": null,
            "display": null,
            "left": null
          }
        },
        "4920e007c55a4d35a778422d1eca738f": {
          "model_module": "@jupyter-widgets/controls",
          "model_name": "FloatProgressModel",
          "state": {
            "_view_name": "ProgressView",
            "style": "IPY_MODEL_43241f255be8468ca7da658099e76190",
            "_dom_classes": [],
            "description": "100%",
            "_model_name": "FloatProgressModel",
            "bar_style": "success",
            "max": 3,
            "_view_module": "@jupyter-widgets/controls",
            "_model_module_version": "1.5.0",
            "value": 3,
            "_view_count": null,
            "_view_module_version": "1.5.0",
            "orientation": "horizontal",
            "min": 0,
            "description_tooltip": null,
            "_model_module": "@jupyter-widgets/controls",
            "layout": "IPY_MODEL_646b4636b50a4d63837e17f165678f13"
          }
        },
        "65f3344ee9b94badad2bf896626b2c8e": {
          "model_module": "@jupyter-widgets/controls",
          "model_name": "HTMLModel",
          "state": {
            "_view_name": "HTMLView",
            "style": "IPY_MODEL_f91fc75023274432bc3b5217747225bf",
            "_dom_classes": [],
            "description": "",
            "_model_name": "HTMLModel",
            "placeholder": "​",
            "_view_module": "@jupyter-widgets/controls",
            "_model_module_version": "1.5.0",
            "value": " 3/3 [00:19&lt;00:00,  6.53s/it]",
            "_view_count": null,
            "_view_module_version": "1.5.0",
            "description_tooltip": null,
            "_model_module": "@jupyter-widgets/controls",
            "layout": "IPY_MODEL_6b9fe66715c14233b9aae742816d3404"
          }
        },
        "43241f255be8468ca7da658099e76190": {
          "model_module": "@jupyter-widgets/controls",
          "model_name": "ProgressStyleModel",
          "state": {
            "_view_name": "StyleView",
            "_model_name": "ProgressStyleModel",
            "description_width": "initial",
            "_view_module": "@jupyter-widgets/base",
            "_model_module_version": "1.5.0",
            "_view_count": null,
            "_view_module_version": "1.2.0",
            "bar_color": null,
            "_model_module": "@jupyter-widgets/controls"
          }
        },
        "646b4636b50a4d63837e17f165678f13": {
          "model_module": "@jupyter-widgets/base",
          "model_name": "LayoutModel",
          "state": {
            "_view_name": "LayoutView",
            "grid_template_rows": null,
            "right": null,
            "justify_content": null,
            "_view_module": "@jupyter-widgets/base",
            "overflow": null,
            "_model_module_version": "1.2.0",
            "_view_count": null,
            "flex_flow": null,
            "width": null,
            "min_width": null,
            "border": null,
            "align_items": null,
            "bottom": null,
            "_model_module": "@jupyter-widgets/base",
            "top": null,
            "grid_column": null,
            "overflow_y": null,
            "overflow_x": null,
            "grid_auto_flow": null,
            "grid_area": null,
            "grid_template_columns": null,
            "flex": null,
            "_model_name": "LayoutModel",
            "justify_items": null,
            "grid_row": null,
            "max_height": null,
            "align_content": null,
            "visibility": null,
            "align_self": null,
            "height": null,
            "min_height": null,
            "padding": null,
            "grid_auto_rows": null,
            "grid_gap": null,
            "max_width": null,
            "order": null,
            "_view_module_version": "1.2.0",
            "grid_template_areas": null,
            "object_position": null,
            "object_fit": null,
            "grid_auto_columns": null,
            "margin": null,
            "display": null,
            "left": null
          }
        },
        "f91fc75023274432bc3b5217747225bf": {
          "model_module": "@jupyter-widgets/controls",
          "model_name": "DescriptionStyleModel",
          "state": {
            "_view_name": "StyleView",
            "_model_name": "DescriptionStyleModel",
            "description_width": "",
            "_view_module": "@jupyter-widgets/base",
            "_model_module_version": "1.5.0",
            "_view_count": null,
            "_view_module_version": "1.2.0",
            "_model_module": "@jupyter-widgets/controls"
          }
        },
        "6b9fe66715c14233b9aae742816d3404": {
          "model_module": "@jupyter-widgets/base",
          "model_name": "LayoutModel",
          "state": {
            "_view_name": "LayoutView",
            "grid_template_rows": null,
            "right": null,
            "justify_content": null,
            "_view_module": "@jupyter-widgets/base",
            "overflow": null,
            "_model_module_version": "1.2.0",
            "_view_count": null,
            "flex_flow": null,
            "width": null,
            "min_width": null,
            "border": null,
            "align_items": null,
            "bottom": null,
            "_model_module": "@jupyter-widgets/base",
            "top": null,
            "grid_column": null,
            "overflow_y": null,
            "overflow_x": null,
            "grid_auto_flow": null,
            "grid_area": null,
            "grid_template_columns": null,
            "flex": null,
            "_model_name": "LayoutModel",
            "justify_items": null,
            "grid_row": null,
            "max_height": null,
            "align_content": null,
            "visibility": null,
            "align_self": null,
            "height": null,
            "min_height": null,
            "padding": null,
            "grid_auto_rows": null,
            "grid_gap": null,
            "max_width": null,
            "order": null,
            "_view_module_version": "1.2.0",
            "grid_template_areas": null,
            "object_position": null,
            "object_fit": null,
            "grid_auto_columns": null,
            "margin": null,
            "display": null,
            "left": null
          }
        },
        "de3cd5457df344818752a406c2eb74b2": {
          "model_module": "@jupyter-widgets/controls",
          "model_name": "HBoxModel",
          "state": {
            "_view_name": "HBoxView",
            "_dom_classes": [],
            "_model_name": "HBoxModel",
            "_view_module": "@jupyter-widgets/controls",
            "_model_module_version": "1.5.0",
            "_view_count": null,
            "_view_module_version": "1.5.0",
            "box_style": "",
            "layout": "IPY_MODEL_19baf0bb971647e5ab8666ca610bd121",
            "_model_module": "@jupyter-widgets/controls",
            "children": [
              "IPY_MODEL_01e68edb37c945d6b7753a2a07acf451",
              "IPY_MODEL_7af5825e16b54aacbd864f41c03f92e3"
            ]
          }
        },
        "19baf0bb971647e5ab8666ca610bd121": {
          "model_module": "@jupyter-widgets/base",
          "model_name": "LayoutModel",
          "state": {
            "_view_name": "LayoutView",
            "grid_template_rows": null,
            "right": null,
            "justify_content": null,
            "_view_module": "@jupyter-widgets/base",
            "overflow": null,
            "_model_module_version": "1.2.0",
            "_view_count": null,
            "flex_flow": null,
            "width": null,
            "min_width": null,
            "border": null,
            "align_items": null,
            "bottom": null,
            "_model_module": "@jupyter-widgets/base",
            "top": null,
            "grid_column": null,
            "overflow_y": null,
            "overflow_x": null,
            "grid_auto_flow": null,
            "grid_area": null,
            "grid_template_columns": null,
            "flex": null,
            "_model_name": "LayoutModel",
            "justify_items": null,
            "grid_row": null,
            "max_height": null,
            "align_content": null,
            "visibility": null,
            "align_self": null,
            "height": null,
            "min_height": null,
            "padding": null,
            "grid_auto_rows": null,
            "grid_gap": null,
            "max_width": null,
            "order": null,
            "_view_module_version": "1.2.0",
            "grid_template_areas": null,
            "object_position": null,
            "object_fit": null,
            "grid_auto_columns": null,
            "margin": null,
            "display": null,
            "left": null
          }
        },
        "01e68edb37c945d6b7753a2a07acf451": {
          "model_module": "@jupyter-widgets/controls",
          "model_name": "FloatProgressModel",
          "state": {
            "_view_name": "ProgressView",
            "style": "IPY_MODEL_9ab9e622b8384f0b9e859e3f3ccdf2c1",
            "_dom_classes": [],
            "description": "100%",
            "_model_name": "FloatProgressModel",
            "bar_style": "success",
            "max": 10,
            "_view_module": "@jupyter-widgets/controls",
            "_model_module_version": "1.5.0",
            "value": 10,
            "_view_count": null,
            "_view_module_version": "1.5.0",
            "orientation": "horizontal",
            "min": 0,
            "description_tooltip": null,
            "_model_module": "@jupyter-widgets/controls",
            "layout": "IPY_MODEL_bfb48977d8d44d77a5f16aeb66f22817"
          }
        },
        "7af5825e16b54aacbd864f41c03f92e3": {
          "model_module": "@jupyter-widgets/controls",
          "model_name": "HTMLModel",
          "state": {
            "_view_name": "HTMLView",
            "style": "IPY_MODEL_ce1f7e5402e945bcb568dc7e2170b796",
            "_dom_classes": [],
            "description": "",
            "_model_name": "HTMLModel",
            "placeholder": "​",
            "_view_module": "@jupyter-widgets/controls",
            "_model_module_version": "1.5.0",
            "value": " 10/10 [00:17&lt;00:00,  1.74s/it]",
            "_view_count": null,
            "_view_module_version": "1.5.0",
            "description_tooltip": null,
            "_model_module": "@jupyter-widgets/controls",
            "layout": "IPY_MODEL_20b4bf49ce6b4333b092bdc39306af05"
          }
        },
        "9ab9e622b8384f0b9e859e3f3ccdf2c1": {
          "model_module": "@jupyter-widgets/controls",
          "model_name": "ProgressStyleModel",
          "state": {
            "_view_name": "StyleView",
            "_model_name": "ProgressStyleModel",
            "description_width": "initial",
            "_view_module": "@jupyter-widgets/base",
            "_model_module_version": "1.5.0",
            "_view_count": null,
            "_view_module_version": "1.2.0",
            "bar_color": null,
            "_model_module": "@jupyter-widgets/controls"
          }
        },
        "bfb48977d8d44d77a5f16aeb66f22817": {
          "model_module": "@jupyter-widgets/base",
          "model_name": "LayoutModel",
          "state": {
            "_view_name": "LayoutView",
            "grid_template_rows": null,
            "right": null,
            "justify_content": null,
            "_view_module": "@jupyter-widgets/base",
            "overflow": null,
            "_model_module_version": "1.2.0",
            "_view_count": null,
            "flex_flow": null,
            "width": null,
            "min_width": null,
            "border": null,
            "align_items": null,
            "bottom": null,
            "_model_module": "@jupyter-widgets/base",
            "top": null,
            "grid_column": null,
            "overflow_y": null,
            "overflow_x": null,
            "grid_auto_flow": null,
            "grid_area": null,
            "grid_template_columns": null,
            "flex": null,
            "_model_name": "LayoutModel",
            "justify_items": null,
            "grid_row": null,
            "max_height": null,
            "align_content": null,
            "visibility": null,
            "align_self": null,
            "height": null,
            "min_height": null,
            "padding": null,
            "grid_auto_rows": null,
            "grid_gap": null,
            "max_width": null,
            "order": null,
            "_view_module_version": "1.2.0",
            "grid_template_areas": null,
            "object_position": null,
            "object_fit": null,
            "grid_auto_columns": null,
            "margin": null,
            "display": null,
            "left": null
          }
        },
        "ce1f7e5402e945bcb568dc7e2170b796": {
          "model_module": "@jupyter-widgets/controls",
          "model_name": "DescriptionStyleModel",
          "state": {
            "_view_name": "StyleView",
            "_model_name": "DescriptionStyleModel",
            "description_width": "",
            "_view_module": "@jupyter-widgets/base",
            "_model_module_version": "1.5.0",
            "_view_count": null,
            "_view_module_version": "1.2.0",
            "_model_module": "@jupyter-widgets/controls"
          }
        },
        "20b4bf49ce6b4333b092bdc39306af05": {
          "model_module": "@jupyter-widgets/base",
          "model_name": "LayoutModel",
          "state": {
            "_view_name": "LayoutView",
            "grid_template_rows": null,
            "right": null,
            "justify_content": null,
            "_view_module": "@jupyter-widgets/base",
            "overflow": null,
            "_model_module_version": "1.2.0",
            "_view_count": null,
            "flex_flow": null,
            "width": null,
            "min_width": null,
            "border": null,
            "align_items": null,
            "bottom": null,
            "_model_module": "@jupyter-widgets/base",
            "top": null,
            "grid_column": null,
            "overflow_y": null,
            "overflow_x": null,
            "grid_auto_flow": null,
            "grid_area": null,
            "grid_template_columns": null,
            "flex": null,
            "_model_name": "LayoutModel",
            "justify_items": null,
            "grid_row": null,
            "max_height": null,
            "align_content": null,
            "visibility": null,
            "align_self": null,
            "height": null,
            "min_height": null,
            "padding": null,
            "grid_auto_rows": null,
            "grid_gap": null,
            "max_width": null,
            "order": null,
            "_view_module_version": "1.2.0",
            "grid_template_areas": null,
            "object_position": null,
            "object_fit": null,
            "grid_auto_columns": null,
            "margin": null,
            "display": null,
            "left": null
          }
        },
        "5852c47d95ef4999b4b6a6121134f5dd": {
          "model_module": "@jupyter-widgets/controls",
          "model_name": "HBoxModel",
          "state": {
            "_view_name": "HBoxView",
            "_dom_classes": [],
            "_model_name": "HBoxModel",
            "_view_module": "@jupyter-widgets/controls",
            "_model_module_version": "1.5.0",
            "_view_count": null,
            "_view_module_version": "1.5.0",
            "box_style": "",
            "layout": "IPY_MODEL_4232cf786d5b41998b6108872ffc0e1c",
            "_model_module": "@jupyter-widgets/controls",
            "children": [
              "IPY_MODEL_1864dc8890494c7b8bd3a18fbb170352",
              "IPY_MODEL_a9aceb48799548faa3dea5fb8576428d"
            ]
          }
        },
        "4232cf786d5b41998b6108872ffc0e1c": {
          "model_module": "@jupyter-widgets/base",
          "model_name": "LayoutModel",
          "state": {
            "_view_name": "LayoutView",
            "grid_template_rows": null,
            "right": null,
            "justify_content": null,
            "_view_module": "@jupyter-widgets/base",
            "overflow": null,
            "_model_module_version": "1.2.0",
            "_view_count": null,
            "flex_flow": null,
            "width": null,
            "min_width": null,
            "border": null,
            "align_items": null,
            "bottom": null,
            "_model_module": "@jupyter-widgets/base",
            "top": null,
            "grid_column": null,
            "overflow_y": null,
            "overflow_x": null,
            "grid_auto_flow": null,
            "grid_area": null,
            "grid_template_columns": null,
            "flex": null,
            "_model_name": "LayoutModel",
            "justify_items": null,
            "grid_row": null,
            "max_height": null,
            "align_content": null,
            "visibility": null,
            "align_self": null,
            "height": null,
            "min_height": null,
            "padding": null,
            "grid_auto_rows": null,
            "grid_gap": null,
            "max_width": null,
            "order": null,
            "_view_module_version": "1.2.0",
            "grid_template_areas": null,
            "object_position": null,
            "object_fit": null,
            "grid_auto_columns": null,
            "margin": null,
            "display": null,
            "left": null
          }
        },
        "1864dc8890494c7b8bd3a18fbb170352": {
          "model_module": "@jupyter-widgets/controls",
          "model_name": "FloatProgressModel",
          "state": {
            "_view_name": "ProgressView",
            "style": "IPY_MODEL_208c4f61286e43c2ac3efe105904ebb1",
            "_dom_classes": [],
            "description": "100%",
            "_model_name": "FloatProgressModel",
            "bar_style": "success",
            "max": 150,
            "_view_module": "@jupyter-widgets/controls",
            "_model_module_version": "1.5.0",
            "value": 150,
            "_view_count": null,
            "_view_module_version": "1.5.0",
            "orientation": "horizontal",
            "min": 0,
            "description_tooltip": null,
            "_model_module": "@jupyter-widgets/controls",
            "layout": "IPY_MODEL_01d2673b7f0b482982f1bc8758864ecc"
          }
        },
        "a9aceb48799548faa3dea5fb8576428d": {
          "model_module": "@jupyter-widgets/controls",
          "model_name": "HTMLModel",
          "state": {
            "_view_name": "HTMLView",
            "style": "IPY_MODEL_317f8069f8984b14a6d8add851e57a01",
            "_dom_classes": [],
            "description": "",
            "_model_name": "HTMLModel",
            "placeholder": "​",
            "_view_module": "@jupyter-widgets/controls",
            "_model_module_version": "1.5.0",
            "value": " 150/150 [02:48&lt;00:00,  1.13s/it]",
            "_view_count": null,
            "_view_module_version": "1.5.0",
            "description_tooltip": null,
            "_model_module": "@jupyter-widgets/controls",
            "layout": "IPY_MODEL_19b16300a5434f11a63a65424a2ded15"
          }
        },
        "208c4f61286e43c2ac3efe105904ebb1": {
          "model_module": "@jupyter-widgets/controls",
          "model_name": "ProgressStyleModel",
          "state": {
            "_view_name": "StyleView",
            "_model_name": "ProgressStyleModel",
            "description_width": "initial",
            "_view_module": "@jupyter-widgets/base",
            "_model_module_version": "1.5.0",
            "_view_count": null,
            "_view_module_version": "1.2.0",
            "bar_color": null,
            "_model_module": "@jupyter-widgets/controls"
          }
        },
        "01d2673b7f0b482982f1bc8758864ecc": {
          "model_module": "@jupyter-widgets/base",
          "model_name": "LayoutModel",
          "state": {
            "_view_name": "LayoutView",
            "grid_template_rows": null,
            "right": null,
            "justify_content": null,
            "_view_module": "@jupyter-widgets/base",
            "overflow": null,
            "_model_module_version": "1.2.0",
            "_view_count": null,
            "flex_flow": null,
            "width": null,
            "min_width": null,
            "border": null,
            "align_items": null,
            "bottom": null,
            "_model_module": "@jupyter-widgets/base",
            "top": null,
            "grid_column": null,
            "overflow_y": null,
            "overflow_x": null,
            "grid_auto_flow": null,
            "grid_area": null,
            "grid_template_columns": null,
            "flex": null,
            "_model_name": "LayoutModel",
            "justify_items": null,
            "grid_row": null,
            "max_height": null,
            "align_content": null,
            "visibility": null,
            "align_self": null,
            "height": null,
            "min_height": null,
            "padding": null,
            "grid_auto_rows": null,
            "grid_gap": null,
            "max_width": null,
            "order": null,
            "_view_module_version": "1.2.0",
            "grid_template_areas": null,
            "object_position": null,
            "object_fit": null,
            "grid_auto_columns": null,
            "margin": null,
            "display": null,
            "left": null
          }
        },
        "317f8069f8984b14a6d8add851e57a01": {
          "model_module": "@jupyter-widgets/controls",
          "model_name": "DescriptionStyleModel",
          "state": {
            "_view_name": "StyleView",
            "_model_name": "DescriptionStyleModel",
            "description_width": "",
            "_view_module": "@jupyter-widgets/base",
            "_model_module_version": "1.5.0",
            "_view_count": null,
            "_view_module_version": "1.2.0",
            "_model_module": "@jupyter-widgets/controls"
          }
        },
        "19b16300a5434f11a63a65424a2ded15": {
          "model_module": "@jupyter-widgets/base",
          "model_name": "LayoutModel",
          "state": {
            "_view_name": "LayoutView",
            "grid_template_rows": null,
            "right": null,
            "justify_content": null,
            "_view_module": "@jupyter-widgets/base",
            "overflow": null,
            "_model_module_version": "1.2.0",
            "_view_count": null,
            "flex_flow": null,
            "width": null,
            "min_width": null,
            "border": null,
            "align_items": null,
            "bottom": null,
            "_model_module": "@jupyter-widgets/base",
            "top": null,
            "grid_column": null,
            "overflow_y": null,
            "overflow_x": null,
            "grid_auto_flow": null,
            "grid_area": null,
            "grid_template_columns": null,
            "flex": null,
            "_model_name": "LayoutModel",
            "justify_items": null,
            "grid_row": null,
            "max_height": null,
            "align_content": null,
            "visibility": null,
            "align_self": null,
            "height": null,
            "min_height": null,
            "padding": null,
            "grid_auto_rows": null,
            "grid_gap": null,
            "max_width": null,
            "order": null,
            "_view_module_version": "1.2.0",
            "grid_template_areas": null,
            "object_position": null,
            "object_fit": null,
            "grid_auto_columns": null,
            "margin": null,
            "display": null,
            "left": null
          }
        },
        "279c3fed36944092b2f59ba5993c63c9": {
          "model_module": "@jupyter-widgets/controls",
          "model_name": "HBoxModel",
          "state": {
            "_dom_classes": [],
            "_model_module": "@jupyter-widgets/controls",
            "_model_module_version": "1.5.0",
            "_model_name": "HBoxModel",
            "_view_count": null,
            "_view_module": "@jupyter-widgets/controls",
            "_view_module_version": "1.5.0",
            "_view_name": "HBoxView",
            "box_style": "",
            "children": [
              "IPY_MODEL_328a6330b01c40b6b0ba832b366c6484",
              "IPY_MODEL_06f157c1b84e400b944ba8093c5fccbe"
            ],
            "layout": "IPY_MODEL_c50986add9fe4b74a2dfb129caa80c6b"
          }
        },
        "c50986add9fe4b74a2dfb129caa80c6b": {
          "model_module": "@jupyter-widgets/base",
          "model_name": "LayoutModel",
          "state": {
            "_model_module": "@jupyter-widgets/base",
            "_model_module_version": "1.2.0",
            "_model_name": "LayoutModel",
            "_view_count": null,
            "_view_module": "@jupyter-widgets/base",
            "_view_module_version": "1.2.0",
            "_view_name": "LayoutView",
            "align_content": null,
            "align_items": null,
            "align_self": null,
            "border": null,
            "bottom": null,
            "display": null,
            "flex": null,
            "flex_flow": null,
            "grid_area": null,
            "grid_auto_columns": null,
            "grid_auto_flow": null,
            "grid_auto_rows": null,
            "grid_column": null,
            "grid_gap": null,
            "grid_row": null,
            "grid_template_areas": null,
            "grid_template_columns": null,
            "grid_template_rows": null,
            "height": null,
            "justify_content": null,
            "justify_items": null,
            "left": null,
            "margin": null,
            "max_height": null,
            "max_width": null,
            "min_height": null,
            "min_width": null,
            "object_fit": null,
            "object_position": null,
            "order": null,
            "overflow": null,
            "overflow_x": null,
            "overflow_y": null,
            "padding": null,
            "right": null,
            "top": null,
            "visibility": null,
            "width": null
          }
        },
        "328a6330b01c40b6b0ba832b366c6484": {
          "model_module": "@jupyter-widgets/controls",
          "model_name": "FloatProgressModel",
          "state": {
            "_dom_classes": [],
            "_model_module": "@jupyter-widgets/controls",
            "_model_module_version": "1.5.0",
            "_model_name": "FloatProgressModel",
            "_view_count": null,
            "_view_module": "@jupyter-widgets/controls",
            "_view_module_version": "1.5.0",
            "_view_name": "ProgressView",
            "bar_style": "success",
            "description": "100%",
            "description_tooltip": null,
            "layout": "IPY_MODEL_b663e83cfea64c5cad3227c07fc39550",
            "max": 3,
            "min": 0,
            "orientation": "horizontal",
            "style": "IPY_MODEL_6a7ddc79edb74c4eaeda4c34d8cac3ea",
            "value": 3
          }
        },
        "06f157c1b84e400b944ba8093c5fccbe": {
          "model_module": "@jupyter-widgets/controls",
          "model_name": "HTMLModel",
          "state": {
            "_dom_classes": [],
            "_model_module": "@jupyter-widgets/controls",
            "_model_module_version": "1.5.0",
            "_model_name": "HTMLModel",
            "_view_count": null,
            "_view_module": "@jupyter-widgets/controls",
            "_view_module_version": "1.5.0",
            "_view_name": "HTMLView",
            "description": "",
            "description_tooltip": null,
            "layout": "IPY_MODEL_b2a1c1eb6ab64601b08b46228ddb03ec",
            "placeholder": "​",
            "style": "IPY_MODEL_cc102eaa7bab407f91da2047868526dd",
            "value": " 3/3 [00:18&lt;00:00,  6.33s/it]"
          }
        },
        "6a7ddc79edb74c4eaeda4c34d8cac3ea": {
          "model_module": "@jupyter-widgets/controls",
          "model_name": "ProgressStyleModel",
          "state": {
            "_model_module": "@jupyter-widgets/controls",
            "_model_module_version": "1.5.0",
            "_model_name": "ProgressStyleModel",
            "_view_count": null,
            "_view_module": "@jupyter-widgets/base",
            "_view_module_version": "1.2.0",
            "_view_name": "StyleView",
            "bar_color": null,
            "description_width": "initial"
          }
        },
        "b663e83cfea64c5cad3227c07fc39550": {
          "model_module": "@jupyter-widgets/base",
          "model_name": "LayoutModel",
          "state": {
            "_model_module": "@jupyter-widgets/base",
            "_model_module_version": "1.2.0",
            "_model_name": "LayoutModel",
            "_view_count": null,
            "_view_module": "@jupyter-widgets/base",
            "_view_module_version": "1.2.0",
            "_view_name": "LayoutView",
            "align_content": null,
            "align_items": null,
            "align_self": null,
            "border": null,
            "bottom": null,
            "display": null,
            "flex": null,
            "flex_flow": null,
            "grid_area": null,
            "grid_auto_columns": null,
            "grid_auto_flow": null,
            "grid_auto_rows": null,
            "grid_column": null,
            "grid_gap": null,
            "grid_row": null,
            "grid_template_areas": null,
            "grid_template_columns": null,
            "grid_template_rows": null,
            "height": null,
            "justify_content": null,
            "justify_items": null,
            "left": null,
            "margin": null,
            "max_height": null,
            "max_width": null,
            "min_height": null,
            "min_width": null,
            "object_fit": null,
            "object_position": null,
            "order": null,
            "overflow": null,
            "overflow_x": null,
            "overflow_y": null,
            "padding": null,
            "right": null,
            "top": null,
            "visibility": null,
            "width": null
          }
        },
        "cc102eaa7bab407f91da2047868526dd": {
          "model_module": "@jupyter-widgets/controls",
          "model_name": "DescriptionStyleModel",
          "state": {
            "_model_module": "@jupyter-widgets/controls",
            "_model_module_version": "1.5.0",
            "_model_name": "DescriptionStyleModel",
            "_view_count": null,
            "_view_module": "@jupyter-widgets/base",
            "_view_module_version": "1.2.0",
            "_view_name": "StyleView",
            "description_width": ""
          }
        },
        "b2a1c1eb6ab64601b08b46228ddb03ec": {
          "model_module": "@jupyter-widgets/base",
          "model_name": "LayoutModel",
          "state": {
            "_model_module": "@jupyter-widgets/base",
            "_model_module_version": "1.2.0",
            "_model_name": "LayoutModel",
            "_view_count": null,
            "_view_module": "@jupyter-widgets/base",
            "_view_module_version": "1.2.0",
            "_view_name": "LayoutView",
            "align_content": null,
            "align_items": null,
            "align_self": null,
            "border": null,
            "bottom": null,
            "display": null,
            "flex": null,
            "flex_flow": null,
            "grid_area": null,
            "grid_auto_columns": null,
            "grid_auto_flow": null,
            "grid_auto_rows": null,
            "grid_column": null,
            "grid_gap": null,
            "grid_row": null,
            "grid_template_areas": null,
            "grid_template_columns": null,
            "grid_template_rows": null,
            "height": null,
            "justify_content": null,
            "justify_items": null,
            "left": null,
            "margin": null,
            "max_height": null,
            "max_width": null,
            "min_height": null,
            "min_width": null,
            "object_fit": null,
            "object_position": null,
            "order": null,
            "overflow": null,
            "overflow_x": null,
            "overflow_y": null,
            "padding": null,
            "right": null,
            "top": null,
            "visibility": null,
            "width": null
          }
        },
        "50f984e4e09d4cdca76aa13f18024d24": {
          "model_module": "@jupyter-widgets/controls",
          "model_name": "HBoxModel",
          "state": {
            "_dom_classes": [],
            "_model_module": "@jupyter-widgets/controls",
            "_model_module_version": "1.5.0",
            "_model_name": "HBoxModel",
            "_view_count": null,
            "_view_module": "@jupyter-widgets/controls",
            "_view_module_version": "1.5.0",
            "_view_name": "HBoxView",
            "box_style": "",
            "children": [
              "IPY_MODEL_de354717b3964d748ef7b99493a3e1b0",
              "IPY_MODEL_24f2d9487d914ace85b27bbd8e5f3086"
            ],
            "layout": "IPY_MODEL_fe99d65164f5426f83c4cb30faec2c04"
          }
        },
        "fe99d65164f5426f83c4cb30faec2c04": {
          "model_module": "@jupyter-widgets/base",
          "model_name": "LayoutModel",
          "state": {
            "_model_module": "@jupyter-widgets/base",
            "_model_module_version": "1.2.0",
            "_model_name": "LayoutModel",
            "_view_count": null,
            "_view_module": "@jupyter-widgets/base",
            "_view_module_version": "1.2.0",
            "_view_name": "LayoutView",
            "align_content": null,
            "align_items": null,
            "align_self": null,
            "border": null,
            "bottom": null,
            "display": null,
            "flex": null,
            "flex_flow": null,
            "grid_area": null,
            "grid_auto_columns": null,
            "grid_auto_flow": null,
            "grid_auto_rows": null,
            "grid_column": null,
            "grid_gap": null,
            "grid_row": null,
            "grid_template_areas": null,
            "grid_template_columns": null,
            "grid_template_rows": null,
            "height": null,
            "justify_content": null,
            "justify_items": null,
            "left": null,
            "margin": null,
            "max_height": null,
            "max_width": null,
            "min_height": null,
            "min_width": null,
            "object_fit": null,
            "object_position": null,
            "order": null,
            "overflow": null,
            "overflow_x": null,
            "overflow_y": null,
            "padding": null,
            "right": null,
            "top": null,
            "visibility": null,
            "width": null
          }
        },
        "de354717b3964d748ef7b99493a3e1b0": {
          "model_module": "@jupyter-widgets/controls",
          "model_name": "FloatProgressModel",
          "state": {
            "_dom_classes": [],
            "_model_module": "@jupyter-widgets/controls",
            "_model_module_version": "1.5.0",
            "_model_name": "FloatProgressModel",
            "_view_count": null,
            "_view_module": "@jupyter-widgets/controls",
            "_view_module_version": "1.5.0",
            "_view_name": "ProgressView",
            "bar_style": "success",
            "description": "100%",
            "description_tooltip": null,
            "layout": "IPY_MODEL_f9c4705850674dbd8e8e37662082941d",
            "max": 10,
            "min": 0,
            "orientation": "horizontal",
            "style": "IPY_MODEL_695ef49c280e4fa59fa46c4c0c076b48",
            "value": 10
          }
        },
        "24f2d9487d914ace85b27bbd8e5f3086": {
          "model_module": "@jupyter-widgets/controls",
          "model_name": "HTMLModel",
          "state": {
            "_dom_classes": [],
            "_model_module": "@jupyter-widgets/controls",
            "_model_module_version": "1.5.0",
            "_model_name": "HTMLModel",
            "_view_count": null,
            "_view_module": "@jupyter-widgets/controls",
            "_view_module_version": "1.5.0",
            "_view_name": "HTMLView",
            "description": "",
            "description_tooltip": null,
            "layout": "IPY_MODEL_071a361dcdfe4664aa6997bf9d74ff72",
            "placeholder": "​",
            "style": "IPY_MODEL_c1d1fd4139f047208e1fe8856b29d036",
            "value": " 10/10 [01:09&lt;00:00,  7.00s/it]"
          }
        },
        "695ef49c280e4fa59fa46c4c0c076b48": {
          "model_module": "@jupyter-widgets/controls",
          "model_name": "ProgressStyleModel",
          "state": {
            "_model_module": "@jupyter-widgets/controls",
            "_model_module_version": "1.5.0",
            "_model_name": "ProgressStyleModel",
            "_view_count": null,
            "_view_module": "@jupyter-widgets/base",
            "_view_module_version": "1.2.0",
            "_view_name": "StyleView",
            "bar_color": null,
            "description_width": "initial"
          }
        },
        "f9c4705850674dbd8e8e37662082941d": {
          "model_module": "@jupyter-widgets/base",
          "model_name": "LayoutModel",
          "state": {
            "_model_module": "@jupyter-widgets/base",
            "_model_module_version": "1.2.0",
            "_model_name": "LayoutModel",
            "_view_count": null,
            "_view_module": "@jupyter-widgets/base",
            "_view_module_version": "1.2.0",
            "_view_name": "LayoutView",
            "align_content": null,
            "align_items": null,
            "align_self": null,
            "border": null,
            "bottom": null,
            "display": null,
            "flex": null,
            "flex_flow": null,
            "grid_area": null,
            "grid_auto_columns": null,
            "grid_auto_flow": null,
            "grid_auto_rows": null,
            "grid_column": null,
            "grid_gap": null,
            "grid_row": null,
            "grid_template_areas": null,
            "grid_template_columns": null,
            "grid_template_rows": null,
            "height": null,
            "justify_content": null,
            "justify_items": null,
            "left": null,
            "margin": null,
            "max_height": null,
            "max_width": null,
            "min_height": null,
            "min_width": null,
            "object_fit": null,
            "object_position": null,
            "order": null,
            "overflow": null,
            "overflow_x": null,
            "overflow_y": null,
            "padding": null,
            "right": null,
            "top": null,
            "visibility": null,
            "width": null
          }
        },
        "c1d1fd4139f047208e1fe8856b29d036": {
          "model_module": "@jupyter-widgets/controls",
          "model_name": "DescriptionStyleModel",
          "state": {
            "_model_module": "@jupyter-widgets/controls",
            "_model_module_version": "1.5.0",
            "_model_name": "DescriptionStyleModel",
            "_view_count": null,
            "_view_module": "@jupyter-widgets/base",
            "_view_module_version": "1.2.0",
            "_view_name": "StyleView",
            "description_width": ""
          }
        },
        "071a361dcdfe4664aa6997bf9d74ff72": {
          "model_module": "@jupyter-widgets/base",
          "model_name": "LayoutModel",
          "state": {
            "_model_module": "@jupyter-widgets/base",
            "_model_module_version": "1.2.0",
            "_model_name": "LayoutModel",
            "_view_count": null,
            "_view_module": "@jupyter-widgets/base",
            "_view_module_version": "1.2.0",
            "_view_name": "LayoutView",
            "align_content": null,
            "align_items": null,
            "align_self": null,
            "border": null,
            "bottom": null,
            "display": null,
            "flex": null,
            "flex_flow": null,
            "grid_area": null,
            "grid_auto_columns": null,
            "grid_auto_flow": null,
            "grid_auto_rows": null,
            "grid_column": null,
            "grid_gap": null,
            "grid_row": null,
            "grid_template_areas": null,
            "grid_template_columns": null,
            "grid_template_rows": null,
            "height": null,
            "justify_content": null,
            "justify_items": null,
            "left": null,
            "margin": null,
            "max_height": null,
            "max_width": null,
            "min_height": null,
            "min_width": null,
            "object_fit": null,
            "object_position": null,
            "order": null,
            "overflow": null,
            "overflow_x": null,
            "overflow_y": null,
            "padding": null,
            "right": null,
            "top": null,
            "visibility": null,
            "width": null
          }
        },
        "d1cbec0cbee64c409c32f553d1a76375": {
          "model_module": "@jupyter-widgets/controls",
          "model_name": "HBoxModel",
          "state": {
            "_dom_classes": [],
            "_model_module": "@jupyter-widgets/controls",
            "_model_module_version": "1.5.0",
            "_model_name": "HBoxModel",
            "_view_count": null,
            "_view_module": "@jupyter-widgets/controls",
            "_view_module_version": "1.5.0",
            "_view_name": "HBoxView",
            "box_style": "",
            "children": [
              "IPY_MODEL_c79eb6e485514cd1adf5c97dd22e2b7d",
              "IPY_MODEL_a44618807dda4299a0cc0e81a4d669b4"
            ],
            "layout": "IPY_MODEL_294fcb9b39694044ba9f95807ecdc245"
          }
        },
        "294fcb9b39694044ba9f95807ecdc245": {
          "model_module": "@jupyter-widgets/base",
          "model_name": "LayoutModel",
          "state": {
            "_model_module": "@jupyter-widgets/base",
            "_model_module_version": "1.2.0",
            "_model_name": "LayoutModel",
            "_view_count": null,
            "_view_module": "@jupyter-widgets/base",
            "_view_module_version": "1.2.0",
            "_view_name": "LayoutView",
            "align_content": null,
            "align_items": null,
            "align_self": null,
            "border": null,
            "bottom": null,
            "display": null,
            "flex": null,
            "flex_flow": null,
            "grid_area": null,
            "grid_auto_columns": null,
            "grid_auto_flow": null,
            "grid_auto_rows": null,
            "grid_column": null,
            "grid_gap": null,
            "grid_row": null,
            "grid_template_areas": null,
            "grid_template_columns": null,
            "grid_template_rows": null,
            "height": null,
            "justify_content": null,
            "justify_items": null,
            "left": null,
            "margin": null,
            "max_height": null,
            "max_width": null,
            "min_height": null,
            "min_width": null,
            "object_fit": null,
            "object_position": null,
            "order": null,
            "overflow": null,
            "overflow_x": null,
            "overflow_y": null,
            "padding": null,
            "right": null,
            "top": null,
            "visibility": null,
            "width": null
          }
        },
        "c79eb6e485514cd1adf5c97dd22e2b7d": {
          "model_module": "@jupyter-widgets/controls",
          "model_name": "FloatProgressModel",
          "state": {
            "_dom_classes": [],
            "_model_module": "@jupyter-widgets/controls",
            "_model_module_version": "1.5.0",
            "_model_name": "FloatProgressModel",
            "_view_count": null,
            "_view_module": "@jupyter-widgets/controls",
            "_view_module_version": "1.5.0",
            "_view_name": "ProgressView",
            "bar_style": "success",
            "description": "100%",
            "description_tooltip": null,
            "layout": "IPY_MODEL_5a8ae188b8f34ff1b1ce41cf58c2732f",
            "max": 150,
            "min": 0,
            "orientation": "horizontal",
            "style": "IPY_MODEL_b5c29273963345be889719b22690c19a",
            "value": 150
          }
        },
        "a44618807dda4299a0cc0e81a4d669b4": {
          "model_module": "@jupyter-widgets/controls",
          "model_name": "HTMLModel",
          "state": {
            "_dom_classes": [],
            "_model_module": "@jupyter-widgets/controls",
            "_model_module_version": "1.5.0",
            "_model_name": "HTMLModel",
            "_view_count": null,
            "_view_module": "@jupyter-widgets/controls",
            "_view_module_version": "1.5.0",
            "_view_name": "HTMLView",
            "description": "",
            "description_tooltip": null,
            "layout": "IPY_MODEL_e0508a3bc72c4e3cb6ecd658c9ce20bf",
            "placeholder": "​",
            "style": "IPY_MODEL_31830fd6ee894af8b444bf124c50f2c6",
            "value": " 150/150 [1:45:26&lt;00:00, 42.18s/it]"
          }
        },
        "b5c29273963345be889719b22690c19a": {
          "model_module": "@jupyter-widgets/controls",
          "model_name": "ProgressStyleModel",
          "state": {
            "_model_module": "@jupyter-widgets/controls",
            "_model_module_version": "1.5.0",
            "_model_name": "ProgressStyleModel",
            "_view_count": null,
            "_view_module": "@jupyter-widgets/base",
            "_view_module_version": "1.2.0",
            "_view_name": "StyleView",
            "bar_color": null,
            "description_width": "initial"
          }
        },
        "5a8ae188b8f34ff1b1ce41cf58c2732f": {
          "model_module": "@jupyter-widgets/base",
          "model_name": "LayoutModel",
          "state": {
            "_model_module": "@jupyter-widgets/base",
            "_model_module_version": "1.2.0",
            "_model_name": "LayoutModel",
            "_view_count": null,
            "_view_module": "@jupyter-widgets/base",
            "_view_module_version": "1.2.0",
            "_view_name": "LayoutView",
            "align_content": null,
            "align_items": null,
            "align_self": null,
            "border": null,
            "bottom": null,
            "display": null,
            "flex": null,
            "flex_flow": null,
            "grid_area": null,
            "grid_auto_columns": null,
            "grid_auto_flow": null,
            "grid_auto_rows": null,
            "grid_column": null,
            "grid_gap": null,
            "grid_row": null,
            "grid_template_areas": null,
            "grid_template_columns": null,
            "grid_template_rows": null,
            "height": null,
            "justify_content": null,
            "justify_items": null,
            "left": null,
            "margin": null,
            "max_height": null,
            "max_width": null,
            "min_height": null,
            "min_width": null,
            "object_fit": null,
            "object_position": null,
            "order": null,
            "overflow": null,
            "overflow_x": null,
            "overflow_y": null,
            "padding": null,
            "right": null,
            "top": null,
            "visibility": null,
            "width": null
          }
        },
        "31830fd6ee894af8b444bf124c50f2c6": {
          "model_module": "@jupyter-widgets/controls",
          "model_name": "DescriptionStyleModel",
          "state": {
            "_model_module": "@jupyter-widgets/controls",
            "_model_module_version": "1.5.0",
            "_model_name": "DescriptionStyleModel",
            "_view_count": null,
            "_view_module": "@jupyter-widgets/base",
            "_view_module_version": "1.2.0",
            "_view_name": "StyleView",
            "description_width": ""
          }
        },
        "e0508a3bc72c4e3cb6ecd658c9ce20bf": {
          "model_module": "@jupyter-widgets/base",
          "model_name": "LayoutModel",
          "state": {
            "_model_module": "@jupyter-widgets/base",
            "_model_module_version": "1.2.0",
            "_model_name": "LayoutModel",
            "_view_count": null,
            "_view_module": "@jupyter-widgets/base",
            "_view_module_version": "1.2.0",
            "_view_name": "LayoutView",
            "align_content": null,
            "align_items": null,
            "align_self": null,
            "border": null,
            "bottom": null,
            "display": null,
            "flex": null,
            "flex_flow": null,
            "grid_area": null,
            "grid_auto_columns": null,
            "grid_auto_flow": null,
            "grid_auto_rows": null,
            "grid_column": null,
            "grid_gap": null,
            "grid_row": null,
            "grid_template_areas": null,
            "grid_template_columns": null,
            "grid_template_rows": null,
            "height": null,
            "justify_content": null,
            "justify_items": null,
            "left": null,
            "margin": null,
            "max_height": null,
            "max_width": null,
            "min_height": null,
            "min_width": null,
            "object_fit": null,
            "object_position": null,
            "order": null,
            "overflow": null,
            "overflow_x": null,
            "overflow_y": null,
            "padding": null,
            "right": null,
            "top": null,
            "visibility": null,
            "width": null
          }
        }
      }
    }
  },
  "cells": [
    {
      "cell_type": "markdown",
      "metadata": {
        "id": "vnJ_kWEQml8R"
      },
      "source": [
        "<center>\n",
        "<img src=\"https://habrastorage.org/web/677/8e1/337/6778e1337c3d4b159d7e99df94227cb2.jpg\"/>\n",
        "    \n",
        "## Специализация \"Машинное обучение и анализ данных\"\n",
        "</center>\n",
        "<center>Автор материала: программист-исследователь Mail.ru Group, старший преподаватель Факультета Компьютерных Наук ВШЭ Юрий Кашницкий"
      ]
    },
    {
      "cell_type": "markdown",
      "metadata": {
        "id": "8RsvuC6Qml8a"
      },
      "source": [
        "# <center>  Capstone проект №1. Идентификация пользователей по посещенным веб-страницам\n",
        "<img src='http://i.istockimg.com/file_thumbview_approve/21546327/5/stock-illustration-21546327-identification-de-l-utilisateur.jpg'>\n",
        "\n",
        "# <center>Неделя 3. Визуальный анализ данных и построение признаков\n",
        "\n",
        "На 3 неделе мы займемся визуальным анализом данных и построением признаков. Сначала мы вместе построим и проанализируем несколько признаков, потом Вы сможете сами придумать и описать различные признаки. Задание имеет вид Peer-Review, так что творчество здесь активно приветствуется. Если задействуете IPython-виджеты, библиотеку Plotly, анимации и прочий интерактив, всем от этого будет только лучше.\n",
        "\n",
        "**План 3 недели:**\n",
        " - Часть 1. Построение признаков\n",
        " - Часть 2. Визуальный анализ данных\n",
        " - Часть 3. Дальнейшее построение признаков\n",
        " - Часть 4. Проверка построенных признаков\n",
        "\n",
        "**В этой части проекта Вам могут быть полезны видеозаписи следующих лекций курса \"Поиск структуры в данных\":**\n",
        "   - [Задача визуализации](https://www.coursera.org/learn/unsupervised-learning/lecture/hlvlT/zadacha-vizualizatsii)\n",
        "   - [Визуализация данных в sklearn](https://www.coursera.org/learn/unsupervised-learning/lecture/ityMo/vizualizatsiia-dannykh-v-sklearn)\n",
        "   \n",
        "**Также в задании будет использоваться библиотека Seaborn (ее можно дополнительно установить командой *pip install seaborn*), будет полезно обращаться к документациям [Matplotlib](http://matplotlib.org/users/) и [Seaborn](http://seaborn.pydata.org/), а также к примерам визуализации, описанным на StackOverflow.**\n",
        "\n"
      ]
    },
    {
      "cell_type": "markdown",
      "metadata": {
        "id": "pg0oGMIMml8b"
      },
      "source": [
        "## Часть 1. Построение признаков"
      ]
    },
    {
      "cell_type": "code",
      "metadata": {
        "id": "OTZDHRIDml8c"
      },
      "source": [
        "from __future__ import division, print_function\n",
        "# отключим всякие предупреждения Anaconda\n",
        "import warnings\n",
        "warnings.filterwarnings('ignore')\n",
        "from glob import glob\n",
        "import os\n",
        "from tqdm.notebook import tqdm\n",
        "import numpy as np\n",
        "import pandas as pd\n",
        "pd.set_option('display.max.columns', 25)\n",
        "import pickle\n",
        "#pip install seaborn\n",
        "import seaborn as sns\n",
        "%matplotlib inline\n",
        "from matplotlib import pyplot as plt\n",
        "\n",
        "from itertools import tee"
      ],
      "execution_count": 1,
      "outputs": []
    },
    {
      "cell_type": "code",
      "metadata": {
        "collapsed": true,
        "id": "o-7U-LdEml8d"
      },
      "source": [
        "plt.rcParams['figure.figsize'] = (13, 8)"
      ],
      "execution_count": 2,
      "outputs": []
    },
    {
      "cell_type": "code",
      "metadata": {
        "collapsed": true,
        "id": "9pTVgCNIml8d"
      },
      "source": [
        "# Поменяйте на свой путь к данным\n",
        "PATH_TO_DATA = ('capstone_user_identification')"
      ],
      "execution_count": 3,
      "outputs": []
    },
    {
      "cell_type": "markdown",
      "metadata": {
        "id": "HP9u8_aaml8e"
      },
      "source": [
        "**Создайте на основе функций *prepare_train_set* и *prepare_sparse_train_set_window*  новую – *prepare_train_set_with_fe*, (от \"feature engineering\"), создайте следующие признаки:**\n",
        "- `session_timespan` – продолжительность сессии (разница между максимальным и минимальным временем посещения сайтов в сессии, в секундах)\n",
        "- `#unique_sites` – число уникальных сайтов в сессии \n",
        "- `start_hour` – час начала сессии (то есть час в записи минимального timestamp среди десяти)\n",
        "- `day_of_week` – день недели (то есть день недели в записи минимального timestamp среди десяти)\n",
        "\n",
        "Функция должна возвращать новый DataFrame (как возвращала функция *prepare_train_set*), только признаков должно быть на 4 больше. Порядок, в котором добавляются признаки: *site1*, ... *site10*, *session_timespan*, *#unique_sites*, *start_hour*, *day_of_week* и *user_id* (это видно и чуть ниже по тому, как функция вызывается)."
      ]
    },
    {
      "cell_type": "code",
      "metadata": {
        "collapsed": true,
        "id": "YTC8pUZyml8f"
      },
      "source": [
        "def session_string(session_it, session_length):\n",
        "    '''\n",
        "    Генератор\n",
        "    Принимает итератор по файлу\n",
        "    Возвращает строку\n",
        "    '''\n",
        "    try:\n",
        "        for i in range(session_length):\n",
        "            yield next(session_it)\n",
        "    except StopIteration:\n",
        "        return"
      ],
      "execution_count": 5,
      "outputs": []
    },
    {
      "cell_type": "code",
      "metadata": {
        "collapsed": true,
        "id": "blEKPVc-ml8f"
      },
      "source": [
        "def feature_engineering(file, session_length, window_size, site_map, user_id):\n",
        "    '''\n",
        "    Генератор\n",
        "    Создаёт массив признаков пользователя\n",
        "    session_length: длина сессии\n",
        "    window_size: длина шага\n",
        "    site_map: словарь сайтов в формате 'site': site_id\n",
        "    user_id: целевой признак\n",
        "    '''\n",
        "    windows_it = iter(file) # итератор по всему файлу (по строкам)\n",
        "    i = 0\n",
        "\n",
        "    while True:\n",
        "        try:\n",
        "            if i % window_size == 0: # начинаем писать сессию\n",
        "                # разделяем итератор на два; новый итератор только по сессии (как вложенный цикл)\n",
        "                windows_it, session_it = tee(windows_it)\n",
        "                session = list(session_string(session_it, session_length))\n",
        "                if session: # чтобы не возвращать в конце пустую строку\n",
        "                    # обрабатываем сайты\n",
        "                    sites_fact = list(map(lambda x: x.split(',')[1].strip(), session))\n",
        "                    sites_ids = np.array([site_map[site] for site in sites_fact])\n",
        "                    # список сайтов\n",
        "                    sites = np.zeros(session_length)\n",
        "                    sites[:len(sites_fact)] = sites_ids\n",
        "                    # число уникальных сайтов\n",
        "                    n_unique_sites = np.unique(sites_ids).size\n",
        "                    \n",
        "                    # обрабатываем timestamp'ы\n",
        "                    times_fact = list(map(lambda x: pd.to_datetime(x.split(',')[0].strip()), session))\n",
        "                    timediffs = np.array([(times_fact[i+1] - times_fact[i]).seconds for i in range(len(times_fact) - 1)])\n",
        "                    # список разниц времён - по сути время посещения каждого сайта (кроме последнего)\n",
        "                    times = np.zeros(session_length - 1)\n",
        "                    times[:len(timediffs)] = timediffs\n",
        "                    # длина сессии (минус время посещения последнего сайта)\n",
        "                    session_timespan = (times_fact[-1] - times_fact[0]).seconds\n",
        "                    # час начала сессии\n",
        "                    start_hour = times_fact[0].hour\n",
        "                    # день недели начала сессии\n",
        "                    start_day_of_week = times_fact[0].weekday()\n",
        "                    \n",
        "                    yield np.concatenate((sites, times, [session_timespan], [n_unique_sites], \n",
        "                                          [start_hour], [start_day_of_week], [user_id]))\n",
        "        except StopIteration:\n",
        "            return\n",
        "\n",
        "        try:\n",
        "            next(windows_it)\n",
        "            i += 1\n",
        "        except StopIteration:\n",
        "            return"
      ],
      "execution_count": 6,
      "outputs": []
    },
    {
      "cell_type": "code",
      "metadata": {
        "collapsed": true,
        "id": "axdNqY8Yml8g"
      },
      "source": [
        "def prepare_train_set_with_fe(path_to_csv_files, site_freq_path, feature_names, session_length=10, window_size=10):\n",
        "    '''\n",
        "    Преобразует набор файлов в датасет: строка - сессия\n",
        "    '''\n",
        "    \n",
        "    train_set, user_ids = [], []\n",
        "\n",
        "    # скачиваем словарь сайтов\n",
        "    site_dict = pd.read_pickle(site_freq_path)\n",
        "    site_map = {k: v[0] for k, v in site_dict.items()}\n",
        "\n",
        "    # выражаем\n",
        "    for file_ in tqdm(glob(os.path.join(path_to_csv_files, '*'))): # '*'\n",
        "        user_id = int(os.path.splitext(os.path.basename(file_))[0][-4:]) # берём user id из имени файла\n",
        "        with open(file_) as f:\n",
        "            f.readline() # пропускаем первую строку\n",
        "            # итерируемся по сессиям одного пользователя\n",
        "            for session in feature_engineering(f, session_length, window_size, site_map, user_id):\n",
        "                train_set.append(session)\n",
        "                user_ids.append(user_id)\n",
        "\n",
        "    return pd.DataFrame(train_set, dtype='int', columns=feature_names)"
      ],
      "execution_count": 7,
      "outputs": []
    },
    {
      "cell_type": "markdown",
      "metadata": {
        "id": "nTLnf1_nml8h"
      },
      "source": [
        "**Проверим функцию на игрушечном примере.**"
      ]
    },
    {
      "cell_type": "code",
      "metadata": {
        "colab": {
          "base_uri": "https://localhost:8080/",
          "height": 0,
          "referenced_widgets": [
            "4ff3d13ccc9c44c8ab13ba86de01201d",
            "8f75e8b01769497b8f867bf99a6a2ffb",
            "4920e007c55a4d35a778422d1eca738f",
            "65f3344ee9b94badad2bf896626b2c8e",
            "43241f255be8468ca7da658099e76190",
            "646b4636b50a4d63837e17f165678f13",
            "f91fc75023274432bc3b5217747225bf",
            "6b9fe66715c14233b9aae742816d3404"
          ]
        },
        "id": "5l_PTROHml8h",
        "outputId": "9d19076b-e5d8-4681-e83d-0d7f2dc7f767"
      },
      "source": [
        "feature_names = ['site' + str(i) for i in range(1,11)] + \\\n",
        "                ['time_diff' + str(j) for j in range(1,10)] + \\\n",
        "                ['session_timespan', '#unique_sites', 'start_hour', \n",
        "                 'day_of_week', 'target']\n",
        "train_data_toy  = prepare_train_set_with_fe(os.path.join(PATH_TO_DATA, '3users'), \n",
        "                  site_freq_path=os.path.join(PATH_TO_DATA, 'site_freqs', 'site_freq_3users.pkl'),\n",
        "                  feature_names=feature_names, session_length=10)"
      ],
      "execution_count": 10,
      "outputs": [
        {
          "output_type": "display_data",
          "data": {
            "application/vnd.jupyter.widget-view+json": {
              "model_id": "4ff3d13ccc9c44c8ab13ba86de01201d",
              "version_minor": 0,
              "version_major": 2
            },
            "text/plain": [
              "HBox(children=(FloatProgress(value=0.0, max=3.0), HTML(value='')))"
            ]
          },
          "metadata": {
            "tags": []
          }
        },
        {
          "output_type": "stream",
          "text": [
            "\n"
          ],
          "name": "stdout"
        }
      ]
    },
    {
      "cell_type": "code",
      "metadata": {
        "colab": {
          "base_uri": "https://localhost:8080/",
          "height": 0
        },
        "id": "JMdGfv16ml8j",
        "outputId": "4564db3e-5b90-46bf-e589-3a24982ca8f6"
      },
      "source": [
        "train_data_toy"
      ],
      "execution_count": 11,
      "outputs": [
        {
          "output_type": "execute_result",
          "data": {
            "text/html": [
              "<div>\n",
              "<style scoped>\n",
              "    .dataframe tbody tr th:only-of-type {\n",
              "        vertical-align: middle;\n",
              "    }\n",
              "\n",
              "    .dataframe tbody tr th {\n",
              "        vertical-align: top;\n",
              "    }\n",
              "\n",
              "    .dataframe thead th {\n",
              "        text-align: right;\n",
              "    }\n",
              "</style>\n",
              "<table border=\"1\" class=\"dataframe\">\n",
              "  <thead>\n",
              "    <tr style=\"text-align: right;\">\n",
              "      <th></th>\n",
              "      <th>site1</th>\n",
              "      <th>site2</th>\n",
              "      <th>site3</th>\n",
              "      <th>site4</th>\n",
              "      <th>site5</th>\n",
              "      <th>site6</th>\n",
              "      <th>site7</th>\n",
              "      <th>site8</th>\n",
              "      <th>site9</th>\n",
              "      <th>site10</th>\n",
              "      <th>time_diff1</th>\n",
              "      <th>time_diff2</th>\n",
              "      <th>time_diff3</th>\n",
              "      <th>time_diff4</th>\n",
              "      <th>time_diff5</th>\n",
              "      <th>time_diff6</th>\n",
              "      <th>time_diff7</th>\n",
              "      <th>time_diff8</th>\n",
              "      <th>time_diff9</th>\n",
              "      <th>session_timespan</th>\n",
              "      <th>#unique_sites</th>\n",
              "      <th>start_hour</th>\n",
              "      <th>day_of_week</th>\n",
              "      <th>target</th>\n",
              "    </tr>\n",
              "  </thead>\n",
              "  <tbody>\n",
              "    <tr>\n",
              "      <th>0</th>\n",
              "      <td>1</td>\n",
              "      <td>2</td>\n",
              "      <td>9</td>\n",
              "      <td>9</td>\n",
              "      <td>2</td>\n",
              "      <td>0</td>\n",
              "      <td>0</td>\n",
              "      <td>0</td>\n",
              "      <td>0</td>\n",
              "      <td>0</td>\n",
              "      <td>287</td>\n",
              "      <td>1184</td>\n",
              "      <td>6278</td>\n",
              "      <td>186</td>\n",
              "      <td>0</td>\n",
              "      <td>0</td>\n",
              "      <td>0</td>\n",
              "      <td>0</td>\n",
              "      <td>0</td>\n",
              "      <td>7935</td>\n",
              "      <td>3</td>\n",
              "      <td>9</td>\n",
              "      <td>4</td>\n",
              "      <td>2</td>\n",
              "    </tr>\n",
              "    <tr>\n",
              "      <th>1</th>\n",
              "      <td>10</td>\n",
              "      <td>4</td>\n",
              "      <td>2</td>\n",
              "      <td>4</td>\n",
              "      <td>2</td>\n",
              "      <td>4</td>\n",
              "      <td>4</td>\n",
              "      <td>6</td>\n",
              "      <td>11</td>\n",
              "      <td>10</td>\n",
              "      <td>287</td>\n",
              "      <td>1184</td>\n",
              "      <td>6278</td>\n",
              "      <td>186</td>\n",
              "      <td>2</td>\n",
              "      <td>1</td>\n",
              "      <td>2</td>\n",
              "      <td>3</td>\n",
              "      <td>55</td>\n",
              "      <td>7998</td>\n",
              "      <td>5</td>\n",
              "      <td>9</td>\n",
              "      <td>4</td>\n",
              "      <td>3</td>\n",
              "    </tr>\n",
              "    <tr>\n",
              "      <th>2</th>\n",
              "      <td>10</td>\n",
              "      <td>4</td>\n",
              "      <td>2</td>\n",
              "      <td>0</td>\n",
              "      <td>0</td>\n",
              "      <td>0</td>\n",
              "      <td>0</td>\n",
              "      <td>0</td>\n",
              "      <td>0</td>\n",
              "      <td>0</td>\n",
              "      <td>287</td>\n",
              "      <td>1184</td>\n",
              "      <td>0</td>\n",
              "      <td>0</td>\n",
              "      <td>0</td>\n",
              "      <td>0</td>\n",
              "      <td>0</td>\n",
              "      <td>0</td>\n",
              "      <td>0</td>\n",
              "      <td>1471</td>\n",
              "      <td>3</td>\n",
              "      <td>12</td>\n",
              "      <td>4</td>\n",
              "      <td>3</td>\n",
              "    </tr>\n",
              "    <tr>\n",
              "      <th>3</th>\n",
              "      <td>1</td>\n",
              "      <td>2</td>\n",
              "      <td>2</td>\n",
              "      <td>3</td>\n",
              "      <td>2</td>\n",
              "      <td>4</td>\n",
              "      <td>5</td>\n",
              "      <td>6</td>\n",
              "      <td>7</td>\n",
              "      <td>8</td>\n",
              "      <td>287</td>\n",
              "      <td>1184</td>\n",
              "      <td>6278</td>\n",
              "      <td>186</td>\n",
              "      <td>2</td>\n",
              "      <td>1</td>\n",
              "      <td>2</td>\n",
              "      <td>3</td>\n",
              "      <td>55</td>\n",
              "      <td>7998</td>\n",
              "      <td>8</td>\n",
              "      <td>9</td>\n",
              "      <td>4</td>\n",
              "      <td>1</td>\n",
              "    </tr>\n",
              "    <tr>\n",
              "      <th>4</th>\n",
              "      <td>1</td>\n",
              "      <td>4</td>\n",
              "      <td>4</td>\n",
              "      <td>4</td>\n",
              "      <td>0</td>\n",
              "      <td>0</td>\n",
              "      <td>0</td>\n",
              "      <td>0</td>\n",
              "      <td>0</td>\n",
              "      <td>0</td>\n",
              "      <td>2</td>\n",
              "      <td>3</td>\n",
              "      <td>55</td>\n",
              "      <td>0</td>\n",
              "      <td>0</td>\n",
              "      <td>0</td>\n",
              "      <td>0</td>\n",
              "      <td>0</td>\n",
              "      <td>0</td>\n",
              "      <td>60</td>\n",
              "      <td>2</td>\n",
              "      <td>12</td>\n",
              "      <td>4</td>\n",
              "      <td>1</td>\n",
              "    </tr>\n",
              "  </tbody>\n",
              "</table>\n",
              "</div>"
            ],
            "text/plain": [
              "   site1  site2  site3  site4  site5  site6  site7  site8  site9  site10  \\\n",
              "0      1      2      9      9      2      0      0      0      0       0   \n",
              "1     10      4      2      4      2      4      4      6     11      10   \n",
              "2     10      4      2      0      0      0      0      0      0       0   \n",
              "3      1      2      2      3      2      4      5      6      7       8   \n",
              "4      1      4      4      4      0      0      0      0      0       0   \n",
              "\n",
              "   time_diff1  time_diff2  time_diff3  time_diff4  time_diff5  time_diff6  \\\n",
              "0         287        1184        6278         186           0           0   \n",
              "1         287        1184        6278         186           2           1   \n",
              "2         287        1184           0           0           0           0   \n",
              "3         287        1184        6278         186           2           1   \n",
              "4           2           3          55           0           0           0   \n",
              "\n",
              "   time_diff7  time_diff8  time_diff9  session_timespan  #unique_sites  \\\n",
              "0           0           0           0              7935              3   \n",
              "1           2           3          55              7998              5   \n",
              "2           0           0           0              1471              3   \n",
              "3           2           3          55              7998              8   \n",
              "4           0           0           0                60              2   \n",
              "\n",
              "   start_hour  day_of_week  target  \n",
              "0           9            4       2  \n",
              "1           9            4       3  \n",
              "2          12            4       3  \n",
              "3           9            4       1  \n",
              "4          12            4       1  "
            ]
          },
          "metadata": {
            "tags": []
          },
          "execution_count": 11
        }
      ]
    },
    {
      "cell_type": "markdown",
      "metadata": {
        "id": "iipBDhRPml8k"
      },
      "source": [
        "**Примените функцию *prepare_train_set_with_fe* к данным по 10 пользователям, укажите *session_length*=10.**"
      ]
    },
    {
      "cell_type": "code",
      "metadata": {
        "colab": {
          "base_uri": "https://localhost:8080/",
          "height": 0,
          "referenced_widgets": [
            "de3cd5457df344818752a406c2eb74b2",
            "19baf0bb971647e5ab8666ca610bd121",
            "01e68edb37c945d6b7753a2a07acf451",
            "7af5825e16b54aacbd864f41c03f92e3",
            "9ab9e622b8384f0b9e859e3f3ccdf2c1",
            "bfb48977d8d44d77a5f16aeb66f22817",
            "ce1f7e5402e945bcb568dc7e2170b796",
            "20b4bf49ce6b4333b092bdc39306af05"
          ]
        },
        "id": "-nEGH7W-ml8k",
        "outputId": "3458b852-6085-4917-a939-8bc5fb318276"
      },
      "source": [
        "%%time\n",
        "train_data_10users = prepare_train_set_with_fe(\n",
        "    os.path.join(PATH_TO_DATA, '10users'), \n",
        "    site_freq_path=os.path.join(PATH_TO_DATA, 'site_freqs', 'site_freq_10users.pkl'),\n",
        "    feature_names=feature_names, session_length=10\n",
        ")"
      ],
      "execution_count": 12,
      "outputs": [
        {
          "output_type": "display_data",
          "data": {
            "application/vnd.jupyter.widget-view+json": {
              "model_id": "de3cd5457df344818752a406c2eb74b2",
              "version_minor": 0,
              "version_major": 2
            },
            "text/plain": [
              "HBox(children=(FloatProgress(value=0.0, max=10.0), HTML(value='')))"
            ]
          },
          "metadata": {
            "tags": []
          }
        },
        {
          "output_type": "stream",
          "text": [
            "\n",
            "CPU times: user 17.5 s, sys: 128 ms, total: 17.6 s\n",
            "Wall time: 17.6 s\n"
          ],
          "name": "stdout"
        }
      ]
    },
    {
      "cell_type": "code",
      "metadata": {
        "colab": {
          "base_uri": "https://localhost:8080/",
          "height": 0
        },
        "id": "ZDnSJgHrml8l",
        "outputId": "c40e6417-ba49-4147-a1bf-7ec4d5f24ad7"
      },
      "source": [
        "train_data_10users.head()"
      ],
      "execution_count": 13,
      "outputs": [
        {
          "output_type": "execute_result",
          "data": {
            "text/html": [
              "<div>\n",
              "<style scoped>\n",
              "    .dataframe tbody tr th:only-of-type {\n",
              "        vertical-align: middle;\n",
              "    }\n",
              "\n",
              "    .dataframe tbody tr th {\n",
              "        vertical-align: top;\n",
              "    }\n",
              "\n",
              "    .dataframe thead th {\n",
              "        text-align: right;\n",
              "    }\n",
              "</style>\n",
              "<table border=\"1\" class=\"dataframe\">\n",
              "  <thead>\n",
              "    <tr style=\"text-align: right;\">\n",
              "      <th></th>\n",
              "      <th>site1</th>\n",
              "      <th>site2</th>\n",
              "      <th>site3</th>\n",
              "      <th>site4</th>\n",
              "      <th>site5</th>\n",
              "      <th>site6</th>\n",
              "      <th>site7</th>\n",
              "      <th>site8</th>\n",
              "      <th>site9</th>\n",
              "      <th>site10</th>\n",
              "      <th>time_diff1</th>\n",
              "      <th>time_diff2</th>\n",
              "      <th>time_diff3</th>\n",
              "      <th>time_diff4</th>\n",
              "      <th>time_diff5</th>\n",
              "      <th>time_diff6</th>\n",
              "      <th>time_diff7</th>\n",
              "      <th>time_diff8</th>\n",
              "      <th>time_diff9</th>\n",
              "      <th>session_timespan</th>\n",
              "      <th>#unique_sites</th>\n",
              "      <th>start_hour</th>\n",
              "      <th>day_of_week</th>\n",
              "      <th>target</th>\n",
              "    </tr>\n",
              "  </thead>\n",
              "  <tbody>\n",
              "    <tr>\n",
              "      <th>0</th>\n",
              "      <td>51</td>\n",
              "      <td>4</td>\n",
              "      <td>4</td>\n",
              "      <td>52</td>\n",
              "      <td>206</td>\n",
              "      <td>207</td>\n",
              "      <td>4</td>\n",
              "      <td>52</td>\n",
              "      <td>51</td>\n",
              "      <td>205</td>\n",
              "      <td>0</td>\n",
              "      <td>2</td>\n",
              "      <td>0</td>\n",
              "      <td>4</td>\n",
              "      <td>0</td>\n",
              "      <td>0</td>\n",
              "      <td>0</td>\n",
              "      <td>0</td>\n",
              "      <td>0</td>\n",
              "      <td>6</td>\n",
              "      <td>6</td>\n",
              "      <td>16</td>\n",
              "      <td>6</td>\n",
              "      <td>237</td>\n",
              "    </tr>\n",
              "    <tr>\n",
              "      <th>1</th>\n",
              "      <td>206</td>\n",
              "      <td>4</td>\n",
              "      <td>205</td>\n",
              "      <td>206</td>\n",
              "      <td>206</td>\n",
              "      <td>207</td>\n",
              "      <td>207</td>\n",
              "      <td>206</td>\n",
              "      <td>210</td>\n",
              "      <td>214</td>\n",
              "      <td>0</td>\n",
              "      <td>1</td>\n",
              "      <td>0</td>\n",
              "      <td>1</td>\n",
              "      <td>0</td>\n",
              "      <td>1</td>\n",
              "      <td>0</td>\n",
              "      <td>0</td>\n",
              "      <td>0</td>\n",
              "      <td>3</td>\n",
              "      <td>6</td>\n",
              "      <td>16</td>\n",
              "      <td>6</td>\n",
              "      <td>237</td>\n",
              "    </tr>\n",
              "    <tr>\n",
              "      <th>2</th>\n",
              "      <td>4</td>\n",
              "      <td>52</td>\n",
              "      <td>210</td>\n",
              "      <td>206</td>\n",
              "      <td>568</td>\n",
              "      <td>568</td>\n",
              "      <td>206</td>\n",
              "      <td>4</td>\n",
              "      <td>206</td>\n",
              "      <td>51</td>\n",
              "      <td>0</td>\n",
              "      <td>1</td>\n",
              "      <td>0</td>\n",
              "      <td>1</td>\n",
              "      <td>1</td>\n",
              "      <td>0</td>\n",
              "      <td>1</td>\n",
              "      <td>0</td>\n",
              "      <td>1</td>\n",
              "      <td>5</td>\n",
              "      <td>6</td>\n",
              "      <td>16</td>\n",
              "      <td>6</td>\n",
              "      <td>237</td>\n",
              "    </tr>\n",
              "    <tr>\n",
              "      <th>3</th>\n",
              "      <td>206</td>\n",
              "      <td>2850</td>\n",
              "      <td>205</td>\n",
              "      <td>207</td>\n",
              "      <td>206</td>\n",
              "      <td>205</td>\n",
              "      <td>205</td>\n",
              "      <td>207</td>\n",
              "      <td>205</td>\n",
              "      <td>208</td>\n",
              "      <td>0</td>\n",
              "      <td>0</td>\n",
              "      <td>0</td>\n",
              "      <td>1</td>\n",
              "      <td>4</td>\n",
              "      <td>1</td>\n",
              "      <td>5</td>\n",
              "      <td>0</td>\n",
              "      <td>0</td>\n",
              "      <td>11</td>\n",
              "      <td>5</td>\n",
              "      <td>16</td>\n",
              "      <td>6</td>\n",
              "      <td>237</td>\n",
              "    </tr>\n",
              "    <tr>\n",
              "      <th>4</th>\n",
              "      <td>206</td>\n",
              "      <td>210</td>\n",
              "      <td>207</td>\n",
              "      <td>206</td>\n",
              "      <td>205</td>\n",
              "      <td>4</td>\n",
              "      <td>207</td>\n",
              "      <td>212</td>\n",
              "      <td>213</td>\n",
              "      <td>207</td>\n",
              "      <td>0</td>\n",
              "      <td>0</td>\n",
              "      <td>1</td>\n",
              "      <td>0</td>\n",
              "      <td>0</td>\n",
              "      <td>1</td>\n",
              "      <td>0</td>\n",
              "      <td>0</td>\n",
              "      <td>1</td>\n",
              "      <td>3</td>\n",
              "      <td>7</td>\n",
              "      <td>16</td>\n",
              "      <td>6</td>\n",
              "      <td>237</td>\n",
              "    </tr>\n",
              "  </tbody>\n",
              "</table>\n",
              "</div>"
            ],
            "text/plain": [
              "   site1  site2  site3  site4  site5  site6  site7  site8  site9  site10  \\\n",
              "0     51      4      4     52    206    207      4     52     51     205   \n",
              "1    206      4    205    206    206    207    207    206    210     214   \n",
              "2      4     52    210    206    568    568    206      4    206      51   \n",
              "3    206   2850    205    207    206    205    205    207    205     208   \n",
              "4    206    210    207    206    205      4    207    212    213     207   \n",
              "\n",
              "   time_diff1  time_diff2  time_diff3  time_diff4  time_diff5  time_diff6  \\\n",
              "0           0           2           0           4           0           0   \n",
              "1           0           1           0           1           0           1   \n",
              "2           0           1           0           1           1           0   \n",
              "3           0           0           0           1           4           1   \n",
              "4           0           0           1           0           0           1   \n",
              "\n",
              "   time_diff7  time_diff8  time_diff9  session_timespan  #unique_sites  \\\n",
              "0           0           0           0                 6              6   \n",
              "1           0           0           0                 3              6   \n",
              "2           1           0           1                 5              6   \n",
              "3           5           0           0                11              5   \n",
              "4           0           0           1                 3              7   \n",
              "\n",
              "   start_hour  day_of_week  target  \n",
              "0          16            6     237  \n",
              "1          16            6     237  \n",
              "2          16            6     237  \n",
              "3          16            6     237  \n",
              "4          16            6     237  "
            ]
          },
          "metadata": {
            "tags": []
          },
          "execution_count": 13
        }
      ]
    },
    {
      "cell_type": "markdown",
      "metadata": {
        "id": "S-4luGEiml8m"
      },
      "source": [
        "**Примените функцию *prepare_train_set_with_fe* к данным по 150 пользователям, укажите *session_length*=10.**"
      ]
    },
    {
      "cell_type": "code",
      "metadata": {
        "colab": {
          "base_uri": "https://localhost:8080/",
          "height": 0,
          "referenced_widgets": [
            "5852c47d95ef4999b4b6a6121134f5dd",
            "4232cf786d5b41998b6108872ffc0e1c",
            "1864dc8890494c7b8bd3a18fbb170352",
            "a9aceb48799548faa3dea5fb8576428d",
            "208c4f61286e43c2ac3efe105904ebb1",
            "01d2673b7f0b482982f1bc8758864ecc",
            "317f8069f8984b14a6d8add851e57a01",
            "19b16300a5434f11a63a65424a2ded15"
          ]
        },
        "id": "vzwJxEjOml8m",
        "outputId": "ab5f5d91-babe-4465-b969-9d5ec26e78a2"
      },
      "source": [
        "%%time\n",
        "train_data_150users = prepare_train_set_with_fe(\n",
        "    os.path.join(PATH_TO_DATA, '150users'), \n",
        "    site_freq_path=os.path.join(PATH_TO_DATA, 'site_freqs', 'site_freq_150users.pkl'),\n",
        "    feature_names=feature_names, session_length=10\n",
        ")"
      ],
      "execution_count": 14,
      "outputs": [
        {
          "output_type": "display_data",
          "data": {
            "application/vnd.jupyter.widget-view+json": {
              "model_id": "5852c47d95ef4999b4b6a6121134f5dd",
              "version_minor": 0,
              "version_major": 2
            },
            "text/plain": [
              "HBox(children=(FloatProgress(value=0.0, max=150.0), HTML(value='')))"
            ]
          },
          "metadata": {
            "tags": []
          }
        },
        {
          "output_type": "stream",
          "text": [
            "\n",
            "CPU times: user 2min 49s, sys: 1.56 s, total: 2min 50s\n",
            "Wall time: 2min 50s\n"
          ],
          "name": "stdout"
        }
      ]
    },
    {
      "cell_type": "code",
      "metadata": {
        "colab": {
          "base_uri": "https://localhost:8080/",
          "height": 0
        },
        "id": "mzFsTqkX51FN",
        "outputId": "8b3aa043-cf9f-43b6-9dd7-bb7735a17afa"
      },
      "source": [
        "train_data_150users.head()"
      ],
      "execution_count": 15,
      "outputs": [
        {
          "output_type": "execute_result",
          "data": {
            "text/html": [
              "<div>\n",
              "<style scoped>\n",
              "    .dataframe tbody tr th:only-of-type {\n",
              "        vertical-align: middle;\n",
              "    }\n",
              "\n",
              "    .dataframe tbody tr th {\n",
              "        vertical-align: top;\n",
              "    }\n",
              "\n",
              "    .dataframe thead th {\n",
              "        text-align: right;\n",
              "    }\n",
              "</style>\n",
              "<table border=\"1\" class=\"dataframe\">\n",
              "  <thead>\n",
              "    <tr style=\"text-align: right;\">\n",
              "      <th></th>\n",
              "      <th>site1</th>\n",
              "      <th>site2</th>\n",
              "      <th>site3</th>\n",
              "      <th>site4</th>\n",
              "      <th>site5</th>\n",
              "      <th>site6</th>\n",
              "      <th>site7</th>\n",
              "      <th>site8</th>\n",
              "      <th>site9</th>\n",
              "      <th>site10</th>\n",
              "      <th>time_diff1</th>\n",
              "      <th>time_diff2</th>\n",
              "      <th>time_diff3</th>\n",
              "      <th>time_diff4</th>\n",
              "      <th>time_diff5</th>\n",
              "      <th>time_diff6</th>\n",
              "      <th>time_diff7</th>\n",
              "      <th>time_diff8</th>\n",
              "      <th>time_diff9</th>\n",
              "      <th>session_timespan</th>\n",
              "      <th>#unique_sites</th>\n",
              "      <th>start_hour</th>\n",
              "      <th>day_of_week</th>\n",
              "      <th>target</th>\n",
              "    </tr>\n",
              "  </thead>\n",
              "  <tbody>\n",
              "    <tr>\n",
              "      <th>0</th>\n",
              "      <td>297</td>\n",
              "      <td>297</td>\n",
              "      <td>214</td>\n",
              "      <td>290</td>\n",
              "      <td>214</td>\n",
              "      <td>214</td>\n",
              "      <td>421</td>\n",
              "      <td>421</td>\n",
              "      <td>2</td>\n",
              "      <td>421</td>\n",
              "      <td>1</td>\n",
              "      <td>0</td>\n",
              "      <td>1</td>\n",
              "      <td>0</td>\n",
              "      <td>5</td>\n",
              "      <td>0</td>\n",
              "      <td>1</td>\n",
              "      <td>4</td>\n",
              "      <td>0</td>\n",
              "      <td>12</td>\n",
              "      <td>5</td>\n",
              "      <td>10</td>\n",
              "      <td>2</td>\n",
              "      <td>1299</td>\n",
              "    </tr>\n",
              "    <tr>\n",
              "      <th>1</th>\n",
              "      <td>1</td>\n",
              "      <td>3</td>\n",
              "      <td>291</td>\n",
              "      <td>291</td>\n",
              "      <td>214</td>\n",
              "      <td>214</td>\n",
              "      <td>290</td>\n",
              "      <td>422</td>\n",
              "      <td>214</td>\n",
              "      <td>1</td>\n",
              "      <td>0</td>\n",
              "      <td>7157</td>\n",
              "      <td>4</td>\n",
              "      <td>5</td>\n",
              "      <td>1</td>\n",
              "      <td>0</td>\n",
              "      <td>0</td>\n",
              "      <td>2</td>\n",
              "      <td>2</td>\n",
              "      <td>7171</td>\n",
              "      <td>6</td>\n",
              "      <td>10</td>\n",
              "      <td>2</td>\n",
              "      <td>1299</td>\n",
              "    </tr>\n",
              "    <tr>\n",
              "      <th>2</th>\n",
              "      <td>214</td>\n",
              "      <td>460</td>\n",
              "      <td>330</td>\n",
              "      <td>1</td>\n",
              "      <td>3</td>\n",
              "      <td>11</td>\n",
              "      <td>8</td>\n",
              "      <td>1225</td>\n",
              "      <td>710</td>\n",
              "      <td>1227</td>\n",
              "      <td>0</td>\n",
              "      <td>0</td>\n",
              "      <td>120</td>\n",
              "      <td>0</td>\n",
              "      <td>72778</td>\n",
              "      <td>2</td>\n",
              "      <td>0</td>\n",
              "      <td>0</td>\n",
              "      <td>0</td>\n",
              "      <td>72900</td>\n",
              "      <td>10</td>\n",
              "      <td>12</td>\n",
              "      <td>2</td>\n",
              "      <td>1299</td>\n",
              "    </tr>\n",
              "    <tr>\n",
              "      <th>3</th>\n",
              "      <td>1228</td>\n",
              "      <td>1226</td>\n",
              "      <td>202</td>\n",
              "      <td>202</td>\n",
              "      <td>202</td>\n",
              "      <td>1953</td>\n",
              "      <td>2242</td>\n",
              "      <td>2242</td>\n",
              "      <td>2242</td>\n",
              "      <td>8</td>\n",
              "      <td>0</td>\n",
              "      <td>5</td>\n",
              "      <td>9</td>\n",
              "      <td>1</td>\n",
              "      <td>125</td>\n",
              "      <td>1</td>\n",
              "      <td>1</td>\n",
              "      <td>1</td>\n",
              "      <td>37</td>\n",
              "      <td>180</td>\n",
              "      <td>6</td>\n",
              "      <td>8</td>\n",
              "      <td>3</td>\n",
              "      <td>1299</td>\n",
              "    </tr>\n",
              "    <tr>\n",
              "      <th>4</th>\n",
              "      <td>9</td>\n",
              "      <td>3</td>\n",
              "      <td>1</td>\n",
              "      <td>1</td>\n",
              "      <td>2</td>\n",
              "      <td>3</td>\n",
              "      <td>1</td>\n",
              "      <td>1</td>\n",
              "      <td>3</td>\n",
              "      <td>2</td>\n",
              "      <td>335</td>\n",
              "      <td>0</td>\n",
              "      <td>11</td>\n",
              "      <td>1</td>\n",
              "      <td>3</td>\n",
              "      <td>37</td>\n",
              "      <td>1</td>\n",
              "      <td>0</td>\n",
              "      <td>0</td>\n",
              "      <td>388</td>\n",
              "      <td>4</td>\n",
              "      <td>8</td>\n",
              "      <td>3</td>\n",
              "      <td>1299</td>\n",
              "    </tr>\n",
              "  </tbody>\n",
              "</table>\n",
              "</div>"
            ],
            "text/plain": [
              "   site1  site2  site3  site4  site5  site6  site7  site8  site9  site10  \\\n",
              "0    297    297    214    290    214    214    421    421      2     421   \n",
              "1      1      3    291    291    214    214    290    422    214       1   \n",
              "2    214    460    330      1      3     11      8   1225    710    1227   \n",
              "3   1228   1226    202    202    202   1953   2242   2242   2242       8   \n",
              "4      9      3      1      1      2      3      1      1      3       2   \n",
              "\n",
              "   time_diff1  time_diff2  time_diff3  time_diff4  time_diff5  time_diff6  \\\n",
              "0           1           0           1           0           5           0   \n",
              "1           0        7157           4           5           1           0   \n",
              "2           0           0         120           0       72778           2   \n",
              "3           0           5           9           1         125           1   \n",
              "4         335           0          11           1           3          37   \n",
              "\n",
              "   time_diff7  time_diff8  time_diff9  session_timespan  #unique_sites  \\\n",
              "0           1           4           0                12              5   \n",
              "1           0           2           2              7171              6   \n",
              "2           0           0           0             72900             10   \n",
              "3           1           1          37               180              6   \n",
              "4           1           0           0               388              4   \n",
              "\n",
              "   start_hour  day_of_week  target  \n",
              "0          10            2    1299  \n",
              "1          10            2    1299  \n",
              "2          12            2    1299  \n",
              "3           8            3    1299  \n",
              "4           8            3    1299  "
            ]
          },
          "metadata": {
            "tags": []
          },
          "execution_count": 15
        }
      ]
    },
    {
      "cell_type": "markdown",
      "metadata": {
        "id": "iY70ZRpmml8n"
      },
      "source": [
        "**Сохраните в pickle-файлы признаки *session_timespan*, *#unique_sites*, *start_hour* и *day_of_week* для 10 и 150 пользователей.**"
      ]
    },
    {
      "cell_type": "code",
      "metadata": {
        "collapsed": true,
        "id": "1J9oqxRkml8n"
      },
      "source": [
        "new_features = ['time_diff' + str(j) for j in range(1,10)] + \\\n",
        "               ['session_timespan', '#unique_sites', 'start_hour', 'day_of_week']"
      ],
      "execution_count": 16,
      "outputs": []
    },
    {
      "cell_type": "code",
      "metadata": {
        "collapsed": true,
        "id": "BzugYL5dml8o"
      },
      "source": [
        "new_features_10users = train_data_10users[new_features]\n",
        "new_features_150users = train_data_150users[new_features]"
      ],
      "execution_count": 17,
      "outputs": []
    },
    {
      "cell_type": "code",
      "metadata": {
        "collapsed": true,
        "id": "IXoZA6o2ml8p"
      },
      "source": [
        "with open(os.path.join(PATH_TO_DATA, 'new_features_10users.pkl'), 'wb') as new_features_10users_pkl:\n",
        "    pickle.dump(new_features_10users, new_features_10users_pkl)\n",
        "with open(os.path.join(PATH_TO_DATA, 'new_features_150users.pkl'), 'wb') as new_features_150users_pkl:\n",
        "    pickle.dump(new_features_150users, new_features_150users_pkl)"
      ],
      "execution_count": null,
      "outputs": []
    },
    {
      "cell_type": "markdown",
      "metadata": {
        "id": "widHPqRmml8q"
      },
      "source": [
        "## Часть 2. Визуальный анализ данных"
      ]
    },
    {
      "cell_type": "markdown",
      "metadata": {
        "id": "tl7lO1cjml8q"
      },
      "source": [
        "**Забавы ради, для потехи дадим пользователям имена и ассоциируем с ними цвета.**"
      ]
    },
    {
      "cell_type": "code",
      "metadata": {
        "collapsed": true,
        "id": "nbASiGTWml8r"
      },
      "source": [
        "id_name_dict = {128: 'Mary-Kate', 39: 'Ashley', 207: 'Lindsey', 127: 'Naomi', 237: 'Avril',\n",
        "               33: 'Bob', 50: 'Bill', 31: 'John', 100: 'Dick', 241: 'Ed'}\n",
        "train_data_10users['target'] = train_data_10users['target'].map(id_name_dict)"
      ],
      "execution_count": 18,
      "outputs": []
    },
    {
      "cell_type": "code",
      "metadata": {
        "collapsed": true,
        "id": "CKPC4Sijml8r"
      },
      "source": [
        "color_dic = {'Mary-Kate': 'pink', 'Ashley': 'darkviolet', 'Lindsey':'blueviolet', \n",
        "             'Naomi': 'hotpink', 'Avril': 'orchid', \n",
        "             'Bob': 'firebrick', 'Bill': 'gold', 'John': 'forestgreen', \n",
        "             'Dick': 'slategrey', 'Ed':'brown'}"
      ],
      "execution_count": 19,
      "outputs": []
    },
    {
      "cell_type": "markdown",
      "metadata": {
        "id": "gcYqnacJml8r"
      },
      "source": [
        "**1. Постройте гистограмму распределения длины сессии в секундах (*session_timespan*). Ограничьте по *x* значением 200 (иначе слишком тяжелый хвост). Сделайте гистограмму цвета *darkviolet*, подпишите оси по-русски.**"
      ]
    },
    {
      "cell_type": "code",
      "metadata": {
        "colab": {
          "base_uri": "https://localhost:8080/",
          "height": 0
        },
        "id": "O6EpFCW6ml8s",
        "outputId": "9d68441b-dfb3-45ba-ba5a-be22b54e727c"
      },
      "source": [
        "train_data_10users['session_timespan'][train_data_10users.session_timespan < 200].hist(color='darkviolet')\n",
        "plt.xlabel('Длина сессии (сек)')\n",
        "plt.ylabel('Частота');"
      ],
      "execution_count": 22,
      "outputs": [
        {
          "output_type": "display_data",
          "data": {
            "image/png": "[encoded data removed]",
            "text/plain": [
              "<Figure size 936x576 with 1 Axes>"
            ]
          },
          "metadata": {
            "tags": [],
            "needs_background": "light"
          }
        }
      ]
    },
    {
      "cell_type": "markdown",
      "metadata": {
        "id": "XCkWROMUml8s"
      },
      "source": [
        "**2. Постройте гистограмму распределения числа уникальных сайтов в сессии (*#unique_sites*). Сделайте гистограмму цвета *aqua*, подпишите оси по-русски.**"
      ]
    },
    {
      "cell_type": "code",
      "metadata": {
        "colab": {
          "base_uri": "https://localhost:8080/",
          "height": 0
        },
        "id": "isx0xdYuml8s",
        "outputId": "eed65dd9-97aa-4d04-d8cd-f91c8cebada2"
      },
      "source": [
        "train_data_10users['#unique_sites'].hist(color='aqua')\n",
        "plt.xlabel('Число уникальных сайтов в сессии')\n",
        "plt.ylabel('Частота');"
      ],
      "execution_count": 23,
      "outputs": [
        {
          "output_type": "display_data",
          "data": {
            "image/png": "[encoded data removed]",
            "text/plain": [
              "<Figure size 936x576 with 1 Axes>"
            ]
          },
          "metadata": {
            "tags": [],
            "needs_background": "light"
          }
        }
      ]
    },
    {
      "cell_type": "markdown",
      "metadata": {
        "id": "HDxnqo4fml8t"
      },
      "source": [
        "**3. Постройте гистограммы распределения числа уникальных сайтов в сессии (*#unique_sites*) для каждого из 10 пользователей по отдельности. Используйте *subplots*, чтоб разместить все 10 картинок на одной большой. Пометьте легендой каждую картинку, на легенде должно быть написано имя пользователя. Для каждого пользователя раскрасьте гистограмму его/ее цветом (*color_dic*). Подпишите оси по-русски в каждой из 10 гистограмм.**"
      ]
    },
    {
      "cell_type": "code",
      "metadata": {
        "colab": {
          "base_uri": "https://localhost:8080/",
          "height": 0
        },
        "id": "Otzdw4umml8t",
        "outputId": "6308af1b-45f1-4b75-9c24-b6a47d89e287"
      },
      "source": [
        "fig, axes = plt.subplots(nrows=3, ncols=4, figsize=(16, 10))\n",
        "\n",
        "# как вариант, можно и по-другому\n",
        "plt.subplots_adjust(hspace=0.3, wspace=0.25)\n",
        "for idx, (user, sub_df) in enumerate(train_data_10users.groupby(by='target')):\n",
        "    axes[idx//4, idx%4].hist(sub_df['#unique_sites'], color=color_dic[user], label=user)\n",
        "    axes[idx//4, idx%4].legend()\n",
        "    axes[idx//4, idx%4].set_xlabel('Число уникальных сайтов в сессии')\n",
        "    axes[idx//4, idx%4].set_ylabel('Частота')"
      ],
      "execution_count": 31,
      "outputs": [
        {
          "output_type": "display_data",
          "data": {
            "image/png": "[encoded data removed]",
            "text/plain": [
              "<Figure size 1152x720 with 12 Axes>"
            ]
          },
          "metadata": {
            "tags": [],
            "needs_background": "light"
          }
        }
      ]
    },
    {
      "cell_type": "code",
      "metadata": {
        "collapsed": true,
        "id": "RVCoJ29Hml8t",
        "scrolled": true
      },
      "source": [
        "# по-другому можно так\n",
        "# train_data_10users.hist('#unique_sites', by='target', figsize=(16, 16));"
      ],
      "execution_count": 33,
      "outputs": []
    },
    {
      "cell_type": "markdown",
      "metadata": {
        "id": "sKx20mgDml8u"
      },
      "source": [
        "**4. Постройте гистограмму распределения часа начала сессии (*start_hour*). Сделайте гистограмму цвета *darkgreen*, подпишите оси по-русски.**"
      ]
    },
    {
      "cell_type": "code",
      "metadata": {
        "colab": {
          "base_uri": "https://localhost:8080/",
          "height": 0
        },
        "id": "ogytH6Vdml8u",
        "outputId": "5fa9c26e-1194-4667-ab0a-83d2f308d469"
      },
      "source": [
        "train_data_10users['start_hour'].hist(color='darkgreen')\n",
        "plt.xlabel('Час начала сессии');\n",
        "plt.ylabel('Частота');"
      ],
      "execution_count": 34,
      "outputs": [
        {
          "output_type": "display_data",
          "data": {
            "image/png": "[encoded data removed]",
            "text/plain": [
              "<Figure size 936x576 with 1 Axes>"
            ]
          },
          "metadata": {
            "tags": [],
            "needs_background": "light"
          }
        }
      ]
    },
    {
      "cell_type": "markdown",
      "metadata": {
        "id": "NN1Fq6Cnml8u"
      },
      "source": [
        "**5. Постройте гистограммы распределения часа начала сессии (*start_hour*) для каждого из 10 пользователей по отдельности. Используйте *subplots*, чтоб разместить все 10 картинок на одной большой. Пометьте легендой каждую картинку, на легенде должно быть написано имя пользователя. Для каждого пользователя раскрасьте гистограмму его/ее цветом (*color_dic*). Подпишите оси по-русски в каждой из 10 гистограмм.**"
      ]
    },
    {
      "cell_type": "code",
      "metadata": {
        "colab": {
          "base_uri": "https://localhost:8080/",
          "height": 0
        },
        "id": "mTiwndiTml8v",
        "outputId": "39feb316-f4fe-47c6-ad01-365c84b396e6"
      },
      "source": [
        "fig, axes = plt.subplots(nrows=3, ncols=4, figsize=(16, 10))\n",
        "\n",
        "plt.subplots_adjust(hspace=0.3, wspace=0.25)\n",
        "for idx, (user, sub_df) in enumerate(train_data_10users.groupby(by='target')):\n",
        "    axes[idx//4, idx%4].hist(sub_df['start_hour'], color=color_dic[user], label=user)\n",
        "    axes[idx//4, idx%4].legend()\n",
        "    axes[idx//4, idx%4].set_xlabel('Час начала сессии')\n",
        "    axes[idx//4, idx%4].set_ylabel('Частота')"
      ],
      "execution_count": 39,
      "outputs": [
        {
          "output_type": "display_data",
          "data": {
            "image/png": "[encoded data removed]",
            "text/plain": [
              "<Figure size 1152x720 with 12 Axes>"
            ]
          },
          "metadata": {
            "tags": [],
            "needs_background": "light"
          }
        }
      ]
    },
    {
      "cell_type": "markdown",
      "metadata": {
        "id": "DOZjZQ0cml8v"
      },
      "source": [
        "**6. Постройте гистограмму распределения дня недели, в который началась сессия (*day_of_week*). Сделайте гистограмму цвета *sienna*, подпишите оси по-русски.**"
      ]
    },
    {
      "cell_type": "code",
      "metadata": {
        "colab": {
          "base_uri": "https://localhost:8080/",
          "height": 0
        },
        "id": "lAwY53NPml8v",
        "outputId": "53a0df1d-55f7-4c69-b25b-39baa3b2cd3f"
      },
      "source": [
        "train_data_10users['day_of_week'].hist(color='sienna', bins=7)\n",
        "plt.xlabel('День недели начала сессии')\n",
        "plt.ylabel('Частота')\n",
        "plt.xticks(ticks=range(7), labels=['Пн', 'Вт', 'Ср', 'Чт', 'Пт', 'Сб', 'Вс']);"
      ],
      "execution_count": 47,
      "outputs": [
        {
          "output_type": "display_data",
          "data": {
            "image/png": "[encoded data removed]",
            "text/plain": [
              "<Figure size 936x576 with 1 Axes>"
            ]
          },
          "metadata": {
            "tags": [],
            "needs_background": "light"
          }
        }
      ]
    },
    {
      "cell_type": "markdown",
      "metadata": {
        "id": "V2dh_890ml8w"
      },
      "source": [
        "**7. Постройте гистограммы распределения дня недели, в который началась сессия (*day_of_week*) для каждого из 10 пользователей по отдельности. Используйте *subplots*, чтоб разместить все 10 картинок на одной большой. Измените метки по оси *X* на ['Пн', 'Вт', 'Ср', 'Чт', 'Пт', 'Сб', 'Вс'] – метод *set_xticklabels*. Пометьте легендой каждую картинку, на легенде должно быть написано имя пользователя. Для каждого пользователя раскрасьте гистограмму его/ее цветом (*color_dic*). Подпишите по-русски название каждой из 10 гистограмм.**"
      ]
    },
    {
      "cell_type": "code",
      "metadata": {
        "colab": {
          "base_uri": "https://localhost:8080/",
          "height": 0
        },
        "id": "veJBuU8Hml8w",
        "outputId": "86e5b07e-b447-49f9-8436-74708355671c"
      },
      "source": [
        "fig, axes = plt.subplots(nrows=3, ncols=4, figsize=(16, 10))\n",
        "\n",
        "plt.subplots_adjust(hspace=0.3)\n",
        "for idx, (user, sub_df) in enumerate(train_data_10users.groupby(by='target')):\n",
        "    axes[idx//4, idx%4].hist(sub_df['day_of_week'], color=color_dic[user], label=user, bins=sub_df['day_of_week'].nunique())\n",
        "    axes[idx//4, idx%4].legend()\n",
        "    axes[idx//4, idx%4].set_xlabel('День недели начала сессии')\n",
        "    axes[idx//4, idx%4].set_xticks([0, 1, 2, 3, 4, 5, 6])\n",
        "    axes[idx//4, idx%4].set_xticklabels(['Пн', 'Вт', 'Ср', 'Чт', 'Пт', 'Сб', 'Вс'])"
      ],
      "execution_count": 62,
      "outputs": [
        {
          "output_type": "display_data",
          "data": {
            "image/png": "[encoded data removed]",
            "text/plain": [
              "<Figure size 1152x720 with 12 Axes>"
            ]
          },
          "metadata": {
            "tags": [],
            "needs_background": "light"
          }
        }
      ]
    },
    {
      "cell_type": "markdown",
      "metadata": {
        "id": "ti30bPWkml8w"
      },
      "source": [
        "**8. Сделайте выводы про каждого пользователя по построенным графикам.**"
      ]
    },
    {
      "cell_type": "markdown",
      "metadata": {
        "id": "3JMvzWyFml8x"
      },
      "source": [
        "||Ashley|Avril|Bill|Bob|Dick|\n",
        "|-|-|-|-|-|-|\n",
        "|Посещение уникальных сайтов|Посещает в среднем 7 сайтов за сессию; также есть сессии с одним уникальным сайтом - пребывание на одном сайте|Распредение ~нормальное вокруг 6|Профиль похож на пользователя Ashley|Распредение ~нормальное вокруг 6|Мода - 2, распределение более равномерное|\n",
        "|Время начала сессии|Начало сессии в основном приходится на утро; также большое количество сессий начинается около 15 (вероятно послеобеденное время), перед этим \"яма\"|Большинство сессий начинаются в середине дня|Начало сессий в основном приходится на 9 и 15 часов|Начало сессий в основном приходится на утро и 15 часов|Сесии начинаются в основном в 9, 15, 20 часов|\n",
        "|День недели начала сессии|Сессии начинаются в будние дни, по выходным сессий нет|Сессии +- равномерно распределены по дням недели; пт, сб - \"яма\"|Сессии в основном начинаются в рабочие дни + вск|Сессии только по будним дням|Сессии чаще по средам и субботам|\n",
        "|Возможное объяснение|Можно предположить что сессии связаны с рабочими задачами|Профиль ничем не примечателен|Можно предположить что сессии чаще связаны с рабочими задачами|Предположение: сессии связаны с рабочими задачами|Активное использование в течение дня, но чаще 2 дня в неделю; возможно рабочее использование интернета, но работа с особым графиком|"
      ]
    },
    {
      "cell_type": "markdown",
      "metadata": {
        "id": "tA6JFsQQml8x"
      },
      "source": [
        "||Ed|John|Lindsey|Mary-Kate|Naomi|\n",
        "|-|-|-|-|-|-|\n",
        "|Посещение уникальных сайтов|Распредение ~нормальное вокруг 7|Распредение скошено вправо; в сессиях преобладают различные сайты|Аналогично пользователю John|Аналогично пользователю Dick|Распредение ~нормальное вокруг 6|\n",
        "|Время начала сессии|Распредение похоже на нормальное вокруг 16 часов|Рабочее время с всплесками в 12 и 15 часов|Аналогично пользователю John|Количество сессий растёт к концу дня|Мода = 12|\n",
        "|День недели начала сессии|В основном среда и выходные|Рабочие дни|В основном рабочие дни|Будние дни, но чаще в выходные|Будние дни|\n",
        "|Возможное объяснение|График использования по дням похож на полдьзователя Dick|Рабочие задачи, вероятно, поиск информации на разных сайтах|В основном рабочие дни,есть, но меньше посещений в выходные|Можно предположить что использование интернеты связано в основном с личными делами|Рабочие задачи, но рабочий день начинается позже|"
      ]
    },
    {
      "cell_type": "markdown",
      "metadata": {
        "id": "6wVjXHFmml8x"
      },
      "source": [
        "**Загрузите сохраненный ранее в pickle-файл частотный словарь сайтов для 10 пользователей.**"
      ]
    },
    {
      "cell_type": "code",
      "metadata": {
        "collapsed": true,
        "id": "ExQlotrRml8x"
      },
      "source": [
        "site_freq_10users = pd.read_pickle(os.path.join(PATH_TO_DATA, 'site_freqs', 'site_freq_10users.pkl'))"
      ],
      "execution_count": 64,
      "outputs": []
    },
    {
      "cell_type": "markdown",
      "metadata": {
        "id": "rA4e_wQNml8y"
      },
      "source": [
        "**Определите топ-10 самых посещаемых сайтов (*top10_sites*) и соответствующие кол-ва посещений (*top10_freqs*).**"
      ]
    },
    {
      "cell_type": "code",
      "metadata": {
        "colab": {
          "base_uri": "https://localhost:8080/"
        },
        "id": "ay11_wmLml8y",
        "outputId": "c4c00b5c-3af1-450e-b64a-bd0895cc7d0c"
      },
      "source": [
        "top10 = sorted(site_freq_10users.items(), key=lambda x: x[1][1], reverse=True)[:10]\n",
        "top10"
      ],
      "execution_count": 65,
      "outputs": [
        {
          "output_type": "execute_result",
          "data": {
            "text/plain": [
              "[('s.youtube.com', (210, 8300)),\n",
              " ('www.google.fr', (51, 7813)),\n",
              " ('www.google.com', (4, 5441)),\n",
              " ('mail.google.com', (183, 4158)),\n",
              " ('www.facebook.com', (15, 4141)),\n",
              " ('apis.google.com', (52, 3758)),\n",
              " ('r3---sn-gxo5uxg-jqbe.googlevideo.com', (700, 3244)),\n",
              " ('r1---sn-gxo5uxg-jqbe.googlevideo.com', (214, 3094)),\n",
              " ('plus.google.com', (187, 2630)),\n",
              " ('accounts.google.com', (184, 2089))]"
            ]
          },
          "metadata": {
            "tags": []
          },
          "execution_count": 65
        }
      ]
    },
    {
      "cell_type": "code",
      "metadata": {
        "collapsed": true,
        "id": "5skMwEdHml8y"
      },
      "source": [
        "top10_freqs = [x[1][1] for x in top10]\n",
        "top10_sites = [x[0] for x in top10]"
      ],
      "execution_count": 66,
      "outputs": []
    },
    {
      "cell_type": "markdown",
      "metadata": {
        "id": "BrYEJ-kbml8z"
      },
      "source": [
        "**9. Нарисуйте *seaborn barplot*, показывающий частоты посещений топ-10 сайтов. Сделайте подписи сайтов вертикальными, иначе они сливаются (*xticks*).**"
      ]
    },
    {
      "cell_type": "code",
      "metadata": {
        "colab": {
          "base_uri": "https://localhost:8080/",
          "height": 0
        },
        "id": "wUEqAcUWml8z",
        "outputId": "70879678-0424-4b5d-b124-63d0bae8717d"
      },
      "source": [
        "chart = sns.barplot(x=top10_sites, y=top10_freqs)\n",
        "chart.set_xticklabels(chart.get_xticklabels(), rotation=90);"
      ],
      "execution_count": 67,
      "outputs": [
        {
          "output_type": "display_data",
          "data": {
            "image/png": "[encoded data removed]",
            "text/plain": [
              "<Figure size 936x576 with 1 Axes>"
            ]
          },
          "metadata": {
            "tags": [],
            "needs_background": "light"
          }
        }
      ]
    },
    {
      "cell_type": "markdown",
      "metadata": {
        "id": "UYBDw6kpml80"
      },
      "source": [
        "## Часть 3. Проверка построенных признаков\n",
        "Эта часть скорее техническая, смысл ее – убедиться, что мы все одинаково создали признаки *session_timespan, #unique_sites, start_hour* и *day_of_week*."
      ]
    },
    {
      "cell_type": "markdown",
      "metadata": {
        "id": "MmgBH72dml80"
      },
      "source": [
        "**10. Выведите медианную продолжительность сессии (*session_timespan*) для сессий 10 пользователей.**"
      ]
    },
    {
      "cell_type": "code",
      "metadata": {
        "colab": {
          "base_uri": "https://localhost:8080/"
        },
        "id": "wi3C1M6oml80",
        "outputId": "3a43f4c0-56d8-4757-ff8e-687590ccc7f2"
      },
      "source": [
        "train_data_10users.session_timespan.median()"
      ],
      "execution_count": 68,
      "outputs": [
        {
          "output_type": "execute_result",
          "data": {
            "text/plain": [
              "37.0"
            ]
          },
          "metadata": {
            "tags": []
          },
          "execution_count": 68
        }
      ]
    },
    {
      "cell_type": "markdown",
      "metadata": {
        "id": "CZTn8SFXml80"
      },
      "source": [
        "**11. Выведите медианный день недели, в который началась сессия, для сессий 10 пользователей.**"
      ]
    },
    {
      "cell_type": "code",
      "metadata": {
        "colab": {
          "base_uri": "https://localhost:8080/"
        },
        "id": "zHQBX77Tml81",
        "outputId": "30bbef71-4c22-439f-8972-35664925f397"
      },
      "source": [
        "train_data_10users.day_of_week.median()"
      ],
      "execution_count": 69,
      "outputs": [
        {
          "output_type": "execute_result",
          "data": {
            "text/plain": [
              "2.0"
            ]
          },
          "metadata": {
            "tags": []
          },
          "execution_count": 69
        }
      ]
    },
    {
      "cell_type": "markdown",
      "metadata": {
        "id": "20Pp6zmEqJt7"
      },
      "source": [
        "Среда"
      ]
    },
    {
      "cell_type": "markdown",
      "metadata": {
        "id": "2tzeIFxbml81"
      },
      "source": [
        "**12. Выведите медианный час начала сессии для сессий 150 пользователей.**"
      ]
    },
    {
      "cell_type": "code",
      "metadata": {
        "colab": {
          "base_uri": "https://localhost:8080/"
        },
        "id": "L1viBzXrml81",
        "outputId": "0233660f-3747-4b69-e6f6-c017ce57acbf"
      },
      "source": [
        "train_data_150users.start_hour.median()"
      ],
      "execution_count": 70,
      "outputs": [
        {
          "output_type": "execute_result",
          "data": {
            "text/plain": [
              "13.0"
            ]
          },
          "metadata": {
            "tags": []
          },
          "execution_count": 70
        }
      ]
    },
    {
      "cell_type": "markdown",
      "metadata": {
        "id": "Er4ZedhMml82"
      },
      "source": [
        "**13. Выведите медианное значение числа уникальных сайтов в сессиях 150 пользователей.**"
      ]
    },
    {
      "cell_type": "code",
      "metadata": {
        "colab": {
          "base_uri": "https://localhost:8080/"
        },
        "id": "ib3tI8fkml82",
        "outputId": "bc7bcd28-b958-44bd-f3ca-83ef4c9c6826"
      },
      "source": [
        "train_data_150users['#unique_sites'].median()"
      ],
      "execution_count": 71,
      "outputs": [
        {
          "output_type": "execute_result",
          "data": {
            "text/plain": [
              "7.0"
            ]
          },
          "metadata": {
            "tags": []
          },
          "execution_count": 71
        }
      ]
    },
    {
      "cell_type": "markdown",
      "metadata": {
        "id": "1Kp1p5sJml82"
      },
      "source": [
        "## Часть 4. Дальнейшее построение признаков"
      ]
    },
    {
      "cell_type": "markdown",
      "metadata": {
        "id": "7qp2mSbzml83"
      },
      "source": [
        "Это задание творческое, тут надо придумать, как еще учесть время посещения веб-страниц и прочие признаки. \n",
        "\n",
        "На следующей неделе мы будем использовать \"мешок\" сайтов  для классификации сессий по принадлежности разным пользователям, а эти новые признаки, которые Вы сейчас создадите, потом добавим и посмотрим, улучшается ли модель. Поэтому можно их создать в виде отдельных матриц и сохранить их также отдельно.  \n",
        "\n",
        "В этой части задания Вы можете построить и визуально исследовать самые разные признаки (ничто фантазию не ограничивает):\n",
        "- год, месяц и день начала сессии\n",
        "- час начала сессии (с учетом года, месяца и дня)\n",
        "- время суток\n",
        "- среднее время пребывания на сайте, посчитать можно, скажем, для топ-30 популярных сайтов\n",
        "- индикаторы посещения популярных сайтов (скажем, тоже для топ-30 популярных сайтов)\n",
        "- частота посещения Facebook\n",
        "- ..."
      ]
    },
    {
      "cell_type": "markdown",
      "metadata": {
        "id": "5Hmdr7nfml83"
      },
      "source": [
        "**Напишите функцию для создания новых признаков и примените ее к исходным данным – каталогам с 10 и 150 файлами. Сделайте это только для набора данных, полученного с параметрами *session_length=10* и *window_size=10*. Сериализуйте полученные матрицы с помощью pickle. Функция может возвращать как только новые признаки, так и старые с новыми. При этом сигнатура функции может быть другой – тут уже свобода выбора.**"
      ]
    },
    {
      "cell_type": "code",
      "metadata": {
        "collapsed": true,
        "id": "URQpxHlXyWhc"
      },
      "source": [
        "# !unzip capstone_user_identification.zip"
      ],
      "execution_count": null,
      "outputs": []
    },
    {
      "cell_type": "code",
      "metadata": {
        "collapsed": true,
        "id": "hzf4H-WInqXE"
      },
      "source": [
        "# train_data_10users = pd.read_csv(os.path.join(PATH_TO_DATA, 'train_data_10users.csv'), index_col='session_id')\n",
        "# new_features_10users = pd.read_pickle(os.path.join(PATH_TO_DATA, 'new_features_10users.pkl'))\n",
        "# new_new_features_10users = pd.read_pickle(os.path.join(PATH_TO_DATA, 'new_new_features_10users.pkl'))\n",
        "# train_data_10users = pd.concat([train_data_10users, new_features_10users, new_new_features_10users], axis=1)\n",
        "# train_data_10users"
      ],
      "execution_count": null,
      "outputs": []
    },
    {
      "cell_type": "code",
      "metadata": {
        "collapsed": true,
        "id": "sMryh6Zcrrzw"
      },
      "source": [
        "# train_data_150users = pd.read_csv(os.path.join(PATH_TO_DATA, 'train_data_150users.csv'), index_col='session_id')\n",
        "# new_features_150users = pd.read_pickle(os.path.join(PATH_TO_DATA, 'new_features_150users.pkl'))\n",
        "# new_new_features_150users = pd.read_pickle(os.path.join(PATH_TO_DATA, 'new_new_features_150users.pkl'))\n",
        "# train_data_150users = pd.concat([train_data_150users, new_features_150users, new_new_features_150users], axis=1)\n",
        "# train_data_150users"
      ],
      "execution_count": null,
      "outputs": []
    },
    {
      "cell_type": "code",
      "metadata": {
        "collapsed": true,
        "id": "vFg6RKeMwL8w"
      },
      "source": [
        "# site_freq_10users = pd.read_pickle(os.path.join(PATH_TO_DATA, 'site_freq_10users.pkl'))\n",
        "# site_freq_150users = pd.read_pickle(os.path.join(PATH_TO_DATA, 'site_freq_150users.pkl'))"
      ],
      "execution_count": null,
      "outputs": []
    },
    {
      "cell_type": "markdown",
      "metadata": {
        "id": "I9m9KWp9ml83"
      },
      "source": [
        "Расширим генератор feature_engineering новыми признаками"
      ]
    },
    {
      "cell_type": "code",
      "metadata": {
        "collapsed": true,
        "id": "oYZWFnZNml85"
      },
      "source": [
        "def feature_engineering(file, session_length, window_size, site_map, user_id):\n",
        "    '''\n",
        "    Генератор\n",
        "    Создаёт признаки сессии:\n",
        "    - список сайтов\n",
        "    - время посещения сайта (разница во времени между посещениями сайтов)\n",
        "    - длина сессии\n",
        "    - количество уникальных сайтов в сессии\n",
        "    - час начала сессии\n",
        "    - день недели начала сессии\n",
        "    - год начала сессии\n",
        "    - месяц начала сессии\n",
        "    - день начала сессии\n",
        "    - выходной (бинарный)\n",
        "    - время суток начала сессии\n",
        "    - среднее время на сайте\n",
        "    - частота посещений facebook\n",
        "    - доля популярных сайтов в сессии\n",
        "    \n",
        "    - user_id: целевой признак\n",
        "    '''\n",
        "    windows_it = iter(file) # итератор по всему файлу (по строкам)\n",
        "    i = 0\n",
        "\n",
        "    while True:\n",
        "        try:\n",
        "            if i % window_size == 0: # начинаем писать сессию\n",
        "                # разделяем итератор на два; новый итератор только по сессии (как вложенный цикл)\n",
        "                windows_it, session_it = tee(windows_it)\n",
        "                session = list(session_string(session_it, session_length))\n",
        "                if session: # чтобы не возвращать в конце пустую строку\n",
        "                    # обрабатываем сайты\n",
        "                    sites_fact = list(map(lambda x: x.split(',')[1].strip(), session))\n",
        "                    sites_ids = np.array([site_map[site] for site in sites_fact])\n",
        "                    # список сайтов\n",
        "                    sites = np.zeros(session_length)\n",
        "                    sites[:len(sites_fact)] = sites_ids\n",
        "                    # число уникальных сайтов\n",
        "                    n_unique_sites = np.unique(sites_ids).size\n",
        "                    # число посещений facebook\n",
        "                    facebook_sites = [v[0] for k, v in site_freq_10users.items() if 'facebook' in k]\n",
        "                    facebook_visited = len(set(sites).intersection(set(facebook_sites)))\n",
        "                    # доля популярных сайтов в сессии\n",
        "                    top30 = [v[1] for v in sorted(site_map.items(), key=lambda x: x[1], reverse=True)[:30]]\n",
        "                    popular_share = len(set(sites).intersection(set(top30))) / session_length\n",
        "                    \n",
        "                    # обрабатываем timestamp'ы\n",
        "                    times_fact = list(map(lambda x: pd.to_datetime(x.split(',')[0].strip()), session))\n",
        "                    timediffs = np.array([(times_fact[i+1] - times_fact[i]).seconds for i in range(len(times_fact) - 1)])\n",
        "                    # список разниц времён - по сути время посещения каждого сайта (кроме последнего)\n",
        "                    times = np.zeros(session_length - 1)\n",
        "                    times[:len(timediffs)] = timediffs\n",
        "                    # длина сессии (минус время посещения последнего сайта)\n",
        "                    session_timespan = (times_fact[-1] - times_fact[0]).seconds\n",
        "                    # час начала сессии\n",
        "                    start_hour = times_fact[0].hour\n",
        "                    # день недели начала сессии\n",
        "                    start_day_of_week = times_fact[0].weekday()\n",
        "                    # год начала сессии\n",
        "                    start_year = times_fact[0].year\n",
        "                    # месяц начала сессии\n",
        "                    start_month = times_fact[0].month\n",
        "                    # день начала сессии\n",
        "                    start_day = times_fact[0].day\n",
        "                    # выходной (бинарный)\n",
        "                    is_weekend = (start_day_of_week // 5 == 1)\n",
        "                    # время суток\n",
        "                    if start_hour >= 0 and start_hour < 6:     # ночь\n",
        "                        day_time = 0\n",
        "                    elif start_hour >= 6 and start_hour < 12:  # утро\n",
        "                        day_time = 1\n",
        "                    elif start_hour >= 12 and start_hour < 18: # день\n",
        "                        day_time = 2\n",
        "                    else:                                      # вечер\n",
        "                        day_time = 3\n",
        "                    # среднее время на сайте\n",
        "                    visit_mean_time = timediffs.mean()\n",
        "                    \n",
        "                    yield np.concatenate((sites, times, [session_timespan], [n_unique_sites], \n",
        "                                          [start_hour], [start_day_of_week], [start_year], [start_month], [start_day],\n",
        "                                          [is_weekend], [day_time], [visit_mean_time],\n",
        "                                          [facebook_visited], [popular_share],\n",
        "                                          [user_id]))\n",
        "        except StopIteration:\n",
        "            return\n",
        "\n",
        "        try:\n",
        "            next(windows_it)\n",
        "            i += 1\n",
        "        except StopIteration:\n",
        "            return"
      ],
      "execution_count": null,
      "outputs": []
    },
    {
      "cell_type": "code",
      "metadata": {
        "colab": {
          "base_uri": "https://localhost:8080/",
          "height": 302,
          "referenced_widgets": [
            "279c3fed36944092b2f59ba5993c63c9",
            "c50986add9fe4b74a2dfb129caa80c6b",
            "328a6330b01c40b6b0ba832b366c6484",
            "06f157c1b84e400b944ba8093c5fccbe",
            "6a7ddc79edb74c4eaeda4c34d8cac3ea",
            "b663e83cfea64c5cad3227c07fc39550",
            "cc102eaa7bab407f91da2047868526dd",
            "b2a1c1eb6ab64601b08b46228ddb03ec"
          ]
        },
        "id": "6uzc5KU0ml85",
        "scrolled": true,
        "outputId": "83e835f6-751e-4189-999e-c4fcff428cb2"
      },
      "source": [
        "# проверка\n",
        "feature_names = ['site' + str(i) for i in range(1,11)] + \\\n",
        "                ['time_diff' + str(j) for j in range(1,10)] + \\\n",
        "                ['session_timespan', '#unique_sites', 'start_hour', \n",
        "                 'start_day_of_week', 'start_year', 'start_month', 'start_day', 'is_weekend',\n",
        "                 'day_time', 'visit_mean_time', 'facebook_visited', 'popular_share', 'user_id']\n",
        "train_data_fe  = prepare_train_set_with_fe(os.path.join(PATH_TO_DATA, '3users'), \n",
        "                                            site_freq_path=os.path.join(PATH_TO_DATA, 'site_freq_3users.pkl'),\n",
        "                                            feature_names=feature_names, session_length=10)\n",
        "train_data_fe"
      ],
      "execution_count": null,
      "outputs": [
        {
          "output_type": "display_data",
          "data": {
            "application/vnd.jupyter.widget-view+json": {
              "model_id": "279c3fed36944092b2f59ba5993c63c9",
              "version_major": 2,
              "version_minor": 0
            },
            "text/plain": [
              "HBox(children=(FloatProgress(value=0.0, max=3.0), HTML(value='')))"
            ]
          },
          "metadata": {
            "tags": []
          }
        },
        {
          "output_type": "stream",
          "text": [
            "\n"
          ],
          "name": "stdout"
        },
        {
          "output_type": "execute_result",
          "data": {
            "text/html": [
              "<div>\n",
              "<style scoped>\n",
              "    .dataframe tbody tr th:only-of-type {\n",
              "        vertical-align: middle;\n",
              "    }\n",
              "\n",
              "    .dataframe tbody tr th {\n",
              "        vertical-align: top;\n",
              "    }\n",
              "\n",
              "    .dataframe thead th {\n",
              "        text-align: right;\n",
              "    }\n",
              "</style>\n",
              "<table border=\"1\" class=\"dataframe\">\n",
              "  <thead>\n",
              "    <tr style=\"text-align: right;\">\n",
              "      <th></th>\n",
              "      <th>site1</th>\n",
              "      <th>site2</th>\n",
              "      <th>site3</th>\n",
              "      <th>site4</th>\n",
              "      <th>site5</th>\n",
              "      <th>site6</th>\n",
              "      <th>site7</th>\n",
              "      <th>site8</th>\n",
              "      <th>site9</th>\n",
              "      <th>site10</th>\n",
              "      <th>time_diff1</th>\n",
              "      <th>time_diff2</th>\n",
              "      <th>...</th>\n",
              "      <th>#unique_sites</th>\n",
              "      <th>start_hour</th>\n",
              "      <th>start_day_of_week</th>\n",
              "      <th>start_year</th>\n",
              "      <th>start_month</th>\n",
              "      <th>start_day</th>\n",
              "      <th>is_weekend</th>\n",
              "      <th>day_time</th>\n",
              "      <th>visit_mean_time</th>\n",
              "      <th>facebook_visited</th>\n",
              "      <th>popular_share</th>\n",
              "      <th>user_id</th>\n",
              "    </tr>\n",
              "  </thead>\n",
              "  <tbody>\n",
              "    <tr>\n",
              "      <th>0</th>\n",
              "      <td>1</td>\n",
              "      <td>2</td>\n",
              "      <td>2</td>\n",
              "      <td>3</td>\n",
              "      <td>2</td>\n",
              "      <td>4</td>\n",
              "      <td>5</td>\n",
              "      <td>6</td>\n",
              "      <td>7</td>\n",
              "      <td>8</td>\n",
              "      <td>287</td>\n",
              "      <td>1184</td>\n",
              "      <td>...</td>\n",
              "      <td>8</td>\n",
              "      <td>9</td>\n",
              "      <td>4</td>\n",
              "      <td>2013</td>\n",
              "      <td>11</td>\n",
              "      <td>15</td>\n",
              "      <td>0</td>\n",
              "      <td>1</td>\n",
              "      <td>888.666667</td>\n",
              "      <td>0</td>\n",
              "      <td>0.8</td>\n",
              "      <td>1</td>\n",
              "    </tr>\n",
              "    <tr>\n",
              "      <th>1</th>\n",
              "      <td>1</td>\n",
              "      <td>4</td>\n",
              "      <td>4</td>\n",
              "      <td>4</td>\n",
              "      <td>0</td>\n",
              "      <td>0</td>\n",
              "      <td>0</td>\n",
              "      <td>0</td>\n",
              "      <td>0</td>\n",
              "      <td>0</td>\n",
              "      <td>2</td>\n",
              "      <td>3</td>\n",
              "      <td>...</td>\n",
              "      <td>2</td>\n",
              "      <td>12</td>\n",
              "      <td>4</td>\n",
              "      <td>2013</td>\n",
              "      <td>11</td>\n",
              "      <td>15</td>\n",
              "      <td>0</td>\n",
              "      <td>2</td>\n",
              "      <td>20.000000</td>\n",
              "      <td>0</td>\n",
              "      <td>0.2</td>\n",
              "      <td>1</td>\n",
              "    </tr>\n",
              "    <tr>\n",
              "      <th>2</th>\n",
              "      <td>10</td>\n",
              "      <td>4</td>\n",
              "      <td>2</td>\n",
              "      <td>4</td>\n",
              "      <td>2</td>\n",
              "      <td>4</td>\n",
              "      <td>4</td>\n",
              "      <td>6</td>\n",
              "      <td>11</td>\n",
              "      <td>10</td>\n",
              "      <td>287</td>\n",
              "      <td>1184</td>\n",
              "      <td>...</td>\n",
              "      <td>5</td>\n",
              "      <td>9</td>\n",
              "      <td>4</td>\n",
              "      <td>2013</td>\n",
              "      <td>11</td>\n",
              "      <td>15</td>\n",
              "      <td>0</td>\n",
              "      <td>1</td>\n",
              "      <td>888.666667</td>\n",
              "      <td>0</td>\n",
              "      <td>0.5</td>\n",
              "      <td>3</td>\n",
              "    </tr>\n",
              "    <tr>\n",
              "      <th>3</th>\n",
              "      <td>10</td>\n",
              "      <td>4</td>\n",
              "      <td>2</td>\n",
              "      <td>0</td>\n",
              "      <td>0</td>\n",
              "      <td>0</td>\n",
              "      <td>0</td>\n",
              "      <td>0</td>\n",
              "      <td>0</td>\n",
              "      <td>0</td>\n",
              "      <td>287</td>\n",
              "      <td>1184</td>\n",
              "      <td>...</td>\n",
              "      <td>3</td>\n",
              "      <td>12</td>\n",
              "      <td>4</td>\n",
              "      <td>2013</td>\n",
              "      <td>11</td>\n",
              "      <td>15</td>\n",
              "      <td>0</td>\n",
              "      <td>2</td>\n",
              "      <td>735.500000</td>\n",
              "      <td>0</td>\n",
              "      <td>0.3</td>\n",
              "      <td>3</td>\n",
              "    </tr>\n",
              "    <tr>\n",
              "      <th>4</th>\n",
              "      <td>1</td>\n",
              "      <td>2</td>\n",
              "      <td>9</td>\n",
              "      <td>9</td>\n",
              "      <td>2</td>\n",
              "      <td>0</td>\n",
              "      <td>0</td>\n",
              "      <td>0</td>\n",
              "      <td>0</td>\n",
              "      <td>0</td>\n",
              "      <td>287</td>\n",
              "      <td>1184</td>\n",
              "      <td>...</td>\n",
              "      <td>3</td>\n",
              "      <td>9</td>\n",
              "      <td>4</td>\n",
              "      <td>2013</td>\n",
              "      <td>11</td>\n",
              "      <td>15</td>\n",
              "      <td>0</td>\n",
              "      <td>1</td>\n",
              "      <td>1983.750000</td>\n",
              "      <td>0</td>\n",
              "      <td>0.3</td>\n",
              "      <td>2</td>\n",
              "    </tr>\n",
              "  </tbody>\n",
              "</table>\n",
              "<p>5 rows × 32 columns</p>\n",
              "</div>"
            ],
            "text/plain": [
              "   site1  site2  site3  site4  site5  site6  site7  site8  site9  site10  \\\n",
              "0      1      2      2      3      2      4      5      6      7       8   \n",
              "1      1      4      4      4      0      0      0      0      0       0   \n",
              "2     10      4      2      4      2      4      4      6     11      10   \n",
              "3     10      4      2      0      0      0      0      0      0       0   \n",
              "4      1      2      9      9      2      0      0      0      0       0   \n",
              "\n",
              "   time_diff1  time_diff2  ...  #unique_sites  start_hour  start_day_of_week  \\\n",
              "0         287        1184  ...              8           9                  4   \n",
              "1           2           3  ...              2          12                  4   \n",
              "2         287        1184  ...              5           9                  4   \n",
              "3         287        1184  ...              3          12                  4   \n",
              "4         287        1184  ...              3           9                  4   \n",
              "\n",
              "   start_year  start_month  start_day  is_weekend  day_time  visit_mean_time  \\\n",
              "0        2013           11         15           0         1       888.666667   \n",
              "1        2013           11         15           0         2        20.000000   \n",
              "2        2013           11         15           0         1       888.666667   \n",
              "3        2013           11         15           0         2       735.500000   \n",
              "4        2013           11         15           0         1      1983.750000   \n",
              "\n",
              "   facebook_visited  popular_share  user_id  \n",
              "0                 0            0.8        1  \n",
              "1                 0            0.2        1  \n",
              "2                 0            0.5        3  \n",
              "3                 0            0.3        3  \n",
              "4                 0            0.3        2  \n",
              "\n",
              "[5 rows x 32 columns]"
            ]
          },
          "metadata": {
            "tags": []
          },
          "execution_count": 67
        }
      ]
    },
    {
      "cell_type": "markdown",
      "metadata": {
        "id": "3wJEiJCsml85"
      },
      "source": [
        "Применим новую функцию к данным по 10 пользователям"
      ]
    },
    {
      "cell_type": "code",
      "metadata": {
        "colab": {
          "base_uri": "https://localhost:8080/",
          "height": 100,
          "referenced_widgets": [
            "50f984e4e09d4cdca76aa13f18024d24",
            "fe99d65164f5426f83c4cb30faec2c04",
            "de354717b3964d748ef7b99493a3e1b0",
            "24f2d9487d914ace85b27bbd8e5f3086",
            "695ef49c280e4fa59fa46c4c0c076b48",
            "f9c4705850674dbd8e8e37662082941d",
            "c1d1fd4139f047208e1fe8856b29d036",
            "071a361dcdfe4664aa6997bf9d74ff72"
          ]
        },
        "id": "okWkTe3rml86",
        "outputId": "fdece77a-1294-4f47-e2b4-0367a583a685"
      },
      "source": [
        "%%time\n",
        "train_data_10users = prepare_train_set_with_fe(\n",
        "    os.path.join(PATH_TO_DATA, '10users'), \n",
        "    site_freq_path=os.path.join(PATH_TO_DATA, 'site_freq_10users.pkl'),\n",
        "    feature_names=feature_names, session_length=10\n",
        ")"
      ],
      "execution_count": null,
      "outputs": [
        {
          "output_type": "display_data",
          "data": {
            "application/vnd.jupyter.widget-view+json": {
              "model_id": "50f984e4e09d4cdca76aa13f18024d24",
              "version_major": 2,
              "version_minor": 0
            },
            "text/plain": [
              "HBox(children=(FloatProgress(value=0.0, max=10.0), HTML(value='')))"
            ]
          },
          "metadata": {
            "tags": []
          }
        },
        {
          "output_type": "stream",
          "text": [
            "\n",
            "CPU times: user 44.8 s, sys: 1.2 s, total: 46 s\n",
            "Wall time: 46.1 s\n"
          ],
          "name": "stdout"
        }
      ]
    },
    {
      "cell_type": "markdown",
      "metadata": {
        "id": "0DyBiOUwml86"
      },
      "source": [
        "Применим новую функцию к данным по 150 пользователям"
      ]
    },
    {
      "cell_type": "code",
      "metadata": {
        "colab": {
          "base_uri": "https://localhost:8080/",
          "height": 100,
          "referenced_widgets": [
            "d1cbec0cbee64c409c32f553d1a76375",
            "294fcb9b39694044ba9f95807ecdc245",
            "c79eb6e485514cd1adf5c97dd22e2b7d",
            "a44618807dda4299a0cc0e81a4d669b4",
            "b5c29273963345be889719b22690c19a",
            "5a8ae188b8f34ff1b1ce41cf58c2732f",
            "31830fd6ee894af8b444bf124c50f2c6",
            "e0508a3bc72c4e3cb6ecd658c9ce20bf"
          ]
        },
        "id": "N9Fg3S5iml86",
        "outputId": "3fe8d033-f328-4935-c6c0-7e3384cd338c"
      },
      "source": [
        "%%time\n",
        "train_data_150users = prepare_train_set_with_fe(\n",
        "    os.path.join(PATH_TO_DATA, '150users'), \n",
        "    site_freq_path=os.path.join(PATH_TO_DATA, 'site_freq_150users.pkl'),\n",
        "    feature_names=feature_names, session_length=10\n",
        ")"
      ],
      "execution_count": null,
      "outputs": [
        {
          "output_type": "display_data",
          "data": {
            "application/vnd.jupyter.widget-view+json": {
              "model_id": "d1cbec0cbee64c409c32f553d1a76375",
              "version_major": 2,
              "version_minor": 0
            },
            "text/plain": [
              "HBox(children=(FloatProgress(value=0.0, max=150.0), HTML(value='')))"
            ]
          },
          "metadata": {
            "tags": []
          }
        },
        {
          "output_type": "stream",
          "text": [
            "\n",
            "CPU times: user 26min 58s, sys: 4.84 s, total: 27min 2s\n",
            "Wall time: 27min 8s\n"
          ],
          "name": "stdout"
        }
      ]
    },
    {
      "cell_type": "code",
      "metadata": {
        "collapsed": true,
        "id": "J5w9gzmFml87"
      },
      "source": [
        "new_new_features = ['start_year', 'start_month', 'start_day', 'is_weekend', 'start_hour',\n",
        "                    'day_time', 'visit_mean_time', 'facebook_visited', 'popular_share']"
      ],
      "execution_count": null,
      "outputs": []
    },
    {
      "cell_type": "code",
      "metadata": {
        "collapsed": true,
        "id": "9T9M39bAml88"
      },
      "source": [
        "new_features_10users = train_data_10users[new_new_features]\n",
        "new_features_150users = train_data_150users[new_new_features]"
      ],
      "execution_count": null,
      "outputs": []
    },
    {
      "cell_type": "code",
      "metadata": {
        "collapsed": true,
        "id": "GivM9jdIml89"
      },
      "source": [
        "with open(os.path.join(PATH_TO_DATA, 'new_new_features_10users.pkl'), 'wb') as new_features_10users_pkl:\n",
        "    pickle.dump(new_features_10users, new_features_10users_pkl)\n",
        "with open(os.path.join(PATH_TO_DATA, 'new_new_features_150users.pkl'), 'wb') as new_features_150users_pkl:\n",
        "    pickle.dump(new_features_150users, new_features_150users_pkl)"
      ],
      "execution_count": null,
      "outputs": []
    },
    {
      "cell_type": "markdown",
      "metadata": {
        "id": "EhP8-ySKml89"
      },
      "source": [
        "**14. Постройте картинки для новых признаков, поисследуйте их, прокомментируйте результаты.**"
      ]
    },
    {
      "cell_type": "markdown",
      "metadata": {
        "id": "9Yvp3ncLao7A"
      },
      "source": [
        "Построим гистрограммы новых признаков: общие и с разбивкой по пользователям (используем данные по 10 пользователям)"
      ]
    },
    {
      "cell_type": "markdown",
      "metadata": {
        "id": "3yuX2nr3ml89"
      },
      "source": [
        "**Год начала сессии**"
      ]
    },
    {
      "cell_type": "code",
      "metadata": {
        "colab": {
          "base_uri": "https://localhost:8080/",
          "height": 483
        },
        "id": "XCaAEEjhml8-",
        "outputId": "1a93bd0c-d1ad-42bf-aaf1-4057109efcde"
      },
      "source": [
        "train_data_10users.start_year.hist();"
      ],
      "execution_count": null,
      "outputs": [
        {
          "output_type": "display_data",
          "data": {
            "image/png": "[encoded data removed]",
            "text/plain": [
              "<Figure size 936x576 with 1 Axes>"
            ]
          },
          "metadata": {
            "tags": [],
            "needs_background": "light"
          }
        }
      ]
    },
    {
      "cell_type": "code",
      "metadata": {
        "colab": {
          "base_uri": "https://localhost:8080/",
          "height": 953
        },
        "id": "bRgm9uutml8-",
        "outputId": "d8ffe60f-8110-4ce1-90dd-d5c2ea60d12b"
      },
      "source": [
        "train_data_10users.hist('start_year', by='user_id', figsize=(16, 16));"
      ],
      "execution_count": null,
      "outputs": [
        {
          "output_type": "display_data",
          "data": {
            "image/png": "[encoded data removed]",
            "text/plain": [
              "<Figure size 1152x1152 with 12 Axes>"
            ]
          },
          "metadata": {
            "tags": [],
            "needs_background": "light"
          }
        }
      ]
    },
    {
      "cell_type": "markdown",
      "metadata": {
        "id": "WPEv1wHwml8-"
      },
      "source": [
        "**Месяц начала сессии**"
      ]
    },
    {
      "cell_type": "code",
      "metadata": {
        "colab": {
          "base_uri": "https://localhost:8080/",
          "height": 483
        },
        "id": "GPg03FFDml8_",
        "outputId": "7ee64836-874f-4c52-f11f-c1fcc4660136"
      },
      "source": [
        "train_data_10users.start_month.hist();"
      ],
      "execution_count": null,
      "outputs": [
        {
          "output_type": "display_data",
          "data": {
            "image/png": "[encoded data removed]",
            "text/plain": [
              "<Figure size 936x576 with 1 Axes>"
            ]
          },
          "metadata": {
            "tags": [],
            "needs_background": "light"
          }
        }
      ]
    },
    {
      "cell_type": "code",
      "metadata": {
        "colab": {
          "base_uri": "https://localhost:8080/",
          "height": 931
        },
        "id": "wR5b5Wl0ml8_",
        "outputId": "e9793334-f054-44ab-c7b1-e2db1f3929ad"
      },
      "source": [
        "train_data_10users.hist('start_month', by='user_id', figsize=(16, 16));"
      ],
      "execution_count": null,
      "outputs": [
        {
          "output_type": "display_data",
          "data": {
            "image/png": "[encoded data removed]",
            "text/plain": [
              "<Figure size 1152x1152 with 12 Axes>"
            ]
          },
          "metadata": {
            "tags": [],
            "needs_background": "light"
          }
        }
      ]
    },
    {
      "cell_type": "markdown",
      "metadata": {
        "id": "h1HOHjuuml8_"
      },
      "source": [
        "**День начала сессии**"
      ]
    },
    {
      "cell_type": "code",
      "metadata": {
        "colab": {
          "base_uri": "https://localhost:8080/",
          "height": 483
        },
        "id": "UqVLF45Qml9A",
        "scrolled": false,
        "outputId": "91a5ad53-01ce-4448-c98a-c9c7415caa24"
      },
      "source": [
        "train_data_10users.start_day.hist();"
      ],
      "execution_count": null,
      "outputs": [
        {
          "output_type": "display_data",
          "data": {
            "image/png": "[encoded data removed]",
            "text/plain": [
              "<Figure size 936x576 with 1 Axes>"
            ]
          },
          "metadata": {
            "tags": [],
            "needs_background": "light"
          }
        }
      ]
    },
    {
      "cell_type": "code",
      "metadata": {
        "colab": {
          "base_uri": "https://localhost:8080/",
          "height": 931
        },
        "id": "7WryX9N9ml9A",
        "outputId": "82ddad63-860c-406a-f036-2d8b8206c2df"
      },
      "source": [
        "train_data_10users.hist('start_day', by='user_id', figsize=(16, 16));"
      ],
      "execution_count": null,
      "outputs": [
        {
          "output_type": "display_data",
          "data": {
            "image/png": "[encoded data removed]",
            "text/plain": [
              "<Figure size 1152x1152 with 12 Axes>"
            ]
          },
          "metadata": {
            "tags": [],
            "needs_background": "light"
          }
        }
      ]
    },
    {
      "cell_type": "markdown",
      "metadata": {
        "id": "LA0-L7qYml9B"
      },
      "source": [
        "**Выходной**"
      ]
    },
    {
      "cell_type": "code",
      "metadata": {
        "colab": {
          "base_uri": "https://localhost:8080/",
          "height": 483
        },
        "id": "MWcKEuHRml9B",
        "outputId": "6159956a-ead3-4fe3-aa69-26fa0c07e2a2"
      },
      "source": [
        "train_data_10users.is_weekend.hist();\n",
        "plt.xticks([0, 1], labels=['Будний', 'Выходной']);"
      ],
      "execution_count": null,
      "outputs": [
        {
          "output_type": "display_data",
          "data": {
            "image/png": "[encoded data removed]",
            "text/plain": [
              "<Figure size 936x576 with 1 Axes>"
            ]
          },
          "metadata": {
            "tags": [],
            "needs_background": "light"
          }
        }
      ]
    },
    {
      "cell_type": "code",
      "metadata": {
        "colab": {
          "base_uri": "https://localhost:8080/",
          "height": 970
        },
        "id": "0ypgqL12ml9B",
        "outputId": "4332b0e5-cc32-42f1-f0d6-bf0daaa2fb0d"
      },
      "source": [
        "ax = train_data_10users.hist('is_weekend', by='user_id', figsize=(16, 16));\n",
        "for i in range(10):\n",
        "    ax[i//3][i%3].set_xticks([0, 1])\n",
        "    ax[i//3][i%3].set_xticklabels(['Будний', 'Выходной'])"
      ],
      "execution_count": null,
      "outputs": [
        {
          "output_type": "display_data",
          "data": {
            "image/png": "[encoded data removed]",
            "text/plain": [
              "<Figure size 1152x1152 with 12 Axes>"
            ]
          },
          "metadata": {
            "tags": [],
            "needs_background": "light"
          }
        }
      ]
    },
    {
      "cell_type": "markdown",
      "metadata": {
        "id": "IJHGBRXHml9C"
      },
      "source": [
        "**Час начала сессии**"
      ]
    },
    {
      "cell_type": "code",
      "metadata": {
        "colab": {
          "base_uri": "https://localhost:8080/",
          "height": 483
        },
        "id": "6fmqymQbml9C",
        "outputId": "5d8b52fd-23d0-4af3-a87c-701f1eb10b72"
      },
      "source": [
        "train_data_10users.start_hour.hist();"
      ],
      "execution_count": null,
      "outputs": [
        {
          "output_type": "display_data",
          "data": {
            "image/png": "[encoded data removed]",
            "text/plain": [
              "<Figure size 936x576 with 1 Axes>"
            ]
          },
          "metadata": {
            "tags": [],
            "needs_background": "light"
          }
        }
      ]
    },
    {
      "cell_type": "code",
      "metadata": {
        "colab": {
          "base_uri": "https://localhost:8080/",
          "height": 940
        },
        "id": "2LfvHAgvml9C",
        "outputId": "c2e1c67c-7320-4430-ba7d-8501f2fd6c18"
      },
      "source": [
        "train_data_10users.hist('start_hour', by='user_id', figsize=(16, 16));"
      ],
      "execution_count": null,
      "outputs": [
        {
          "output_type": "display_data",
          "data": {
            "image/png": "[encoded data removed]",
            "text/plain": [
              "<Figure size 1152x1152 with 12 Axes>"
            ]
          },
          "metadata": {
            "tags": [],
            "needs_background": "light"
          }
        }
      ]
    },
    {
      "cell_type": "markdown",
      "metadata": {
        "id": "np_V_2f-ml9D"
      },
      "source": [
        "**Время суток**"
      ]
    },
    {
      "cell_type": "code",
      "metadata": {
        "colab": {
          "base_uri": "https://localhost:8080/",
          "height": 483
        },
        "id": "3D8BDRXnml9D",
        "outputId": "635a85e5-e5bf-49e1-b6ae-3696658d2987"
      },
      "source": [
        "train_data_10users.day_time.hist()\n",
        "plt.xticks([0, 1, 2, 3], labels=['Ночь', 'Утро', 'День', 'Вечер']);"
      ],
      "execution_count": null,
      "outputs": [
        {
          "output_type": "display_data",
          "data": {
            "image/png": "[encoded data removed]",
            "text/plain": [
              "<Figure size 936x576 with 1 Axes>"
            ]
          },
          "metadata": {
            "tags": [],
            "needs_background": "light"
          }
        }
      ]
    },
    {
      "cell_type": "code",
      "metadata": {
        "colab": {
          "base_uri": "https://localhost:8080/",
          "height": 949
        },
        "id": "etHmOfzRml9D",
        "outputId": "79d4a4fb-5d4f-4c68-ff7b-83c28a46517c"
      },
      "source": [
        "ax = train_data_10users.hist('day_time', by='user_id', figsize=(16, 16))\n",
        "for i in range(10):\n",
        "    ax[i//3][i%3].set_xticks([0, 1, 2, 3])\n",
        "    ax[i//3][i%3].set_xticklabels(['Ночь', 'Утро', 'День', 'Вечер'])"
      ],
      "execution_count": null,
      "outputs": [
        {
          "output_type": "display_data",
          "data": {
            "image/png": "[encoded data removed]",
            "text/plain": [
              "<Figure size 1152x1152 with 12 Axes>"
            ]
          },
          "metadata": {
            "tags": [],
            "needs_background": "light"
          }
        }
      ]
    },
    {
      "cell_type": "markdown",
      "metadata": {
        "id": "MB8cabm8ml9E"
      },
      "source": [
        "**Среднее время посещения сайта**"
      ]
    },
    {
      "cell_type": "code",
      "metadata": {
        "colab": {
          "base_uri": "https://localhost:8080/",
          "height": 483
        },
        "id": "q9Do9PImml9E",
        "outputId": "3e597ca7-cba1-4347-99c3-76afe05f2dd6"
      },
      "source": [
        "train_data_10users.visit_mean_time.hist();"
      ],
      "execution_count": null,
      "outputs": [
        {
          "output_type": "display_data",
          "data": {
            "image/png": "[encoded data removed]",
            "text/plain": [
              "<Figure size 936x576 with 1 Axes>"
            ]
          },
          "metadata": {
            "tags": [],
            "needs_background": "light"
          }
        }
      ]
    },
    {
      "cell_type": "code",
      "metadata": {
        "colab": {
          "base_uri": "https://localhost:8080/",
          "height": 931
        },
        "id": "2CRqzMdlml9E",
        "outputId": "b68ae1ea-93d0-453b-b050-a3ebe9d10ed8"
      },
      "source": [
        "train_data_10users[train_data_10users.visit_mean_time < 25].hist('visit_mean_time', by='user_id', figsize=(16, 16));\n",
        "# ограничение для убирания длинного правого хвоста"
      ],
      "execution_count": null,
      "outputs": [
        {
          "output_type": "display_data",
          "data": {
            "image/png": "[encoded data removed]",
            "text/plain": [
              "<Figure size 1152x1152 with 12 Axes>"
            ]
          },
          "metadata": {
            "tags": [],
            "needs_background": "light"
          }
        }
      ]
    },
    {
      "cell_type": "markdown",
      "metadata": {
        "id": "f4p80pyjml9F"
      },
      "source": [
        "**Частота посещения Facebook**"
      ]
    },
    {
      "cell_type": "code",
      "metadata": {
        "colab": {
          "base_uri": "https://localhost:8080/",
          "height": 483
        },
        "id": "vOcpaxJKml9F",
        "outputId": "b4eba5bf-8ed1-4cdf-ccdd-b767425ddb52"
      },
      "source": [
        "train_data_10users.facebook_visited.hist();"
      ],
      "execution_count": null,
      "outputs": [
        {
          "output_type": "display_data",
          "data": {
            "image/png": "[encoded data removed]",
            "text/plain": [
              "<Figure size 936x576 with 1 Axes>"
            ]
          },
          "metadata": {
            "tags": [],
            "needs_background": "light"
          }
        }
      ]
    },
    {
      "cell_type": "code",
      "metadata": {
        "colab": {
          "base_uri": "https://localhost:8080/",
          "height": 924
        },
        "id": "w3pD0Nq9ml9G",
        "outputId": "323de1c5-5d0f-448f-957d-682d144168e0"
      },
      "source": [
        "train_data_10users.hist('facebook_visited', by='user_id', figsize=(16, 16));"
      ],
      "execution_count": null,
      "outputs": [
        {
          "output_type": "display_data",
          "data": {
            "image/png": "[encoded data removed]",
            "text/plain": [
              "<Figure size 1152x1152 with 12 Axes>"
            ]
          },
          "metadata": {
            "tags": [],
            "needs_background": "light"
          }
        }
      ]
    },
    {
      "cell_type": "markdown",
      "metadata": {
        "id": "3hcI6kwJZXtV"
      },
      "source": [
        "**Доля посещений популярных сайтов (топ-30) за сессиию**"
      ]
    },
    {
      "cell_type": "code",
      "metadata": {
        "colab": {
          "base_uri": "https://localhost:8080/",
          "height": 483
        },
        "id": "LhIUNFrAZXF-",
        "outputId": "d6b8a312-5492-4c0d-ca07-1f2b89eb1691"
      },
      "source": [
        "train_data_10users.popular_share.hist();"
      ],
      "execution_count": null,
      "outputs": [
        {
          "output_type": "display_data",
          "data": {
            "image/png": "[encoded data removed]",
            "text/plain": [
              "<Figure size 936x576 with 1 Axes>"
            ]
          },
          "metadata": {
            "tags": [],
            "needs_background": "light"
          }
        }
      ]
    },
    {
      "cell_type": "code",
      "metadata": {
        "colab": {
          "base_uri": "https://localhost:8080/",
          "height": 940
        },
        "id": "vHFnbF3oZixn",
        "outputId": "afab2b66-240e-45e8-ff25-3ee7a5b3f7a6"
      },
      "source": [
        "train_data_10users.hist('popular_share', by='user_id', figsize=(16, 16));"
      ],
      "execution_count": null,
      "outputs": [
        {
          "output_type": "display_data",
          "data": {
            "image/png": "[encoded data removed]",
            "text/plain": [
              "<Figure size 1152x1152 with 12 Axes>"
            ]
          },
          "metadata": {
            "tags": [],
            "needs_background": "light"
          }
        }
      ]
    },
    {
      "cell_type": "markdown",
      "metadata": {
        "id": "74GqCjUlml9G"
      },
      "source": [
        "**В конце сохраните в pickle-файлы только те признаки, которые, как Вы предполагаете, помогут идентифицировать пользователя более точно. Это касается и признаков, которые мы вместе создали в начале (*session_timespan, #unique_sites, start_hour, day_of_week*), и Ваших собственных. Можно создать все эти признаки не только для сессий из 10 сайтов, но и для других сочетаний параметров *session_length* и *window_size*.**"
      ]
    },
    {
      "cell_type": "markdown",
      "metadata": {
        "id": "zoHc5NOCa7Fq"
      },
      "source": [
        "Наиболее перспективными выглядят признаки:\n",
        "- год начала сессии\n",
        "- месяц начала сессии\n",
        "- день нчала сессии\n",
        "- выходной (да/нет)\n",
        "- час начала сессии\n",
        "- время суток\n",
        "\n",
        "Однако, сохраним все новые признаки для того, чтобы проверить их влияние непосредственно в моделировании."
      ]
    },
    {
      "cell_type": "code",
      "metadata": {
        "collapsed": true,
        "id": "f1dwtEbaml9H"
      },
      "source": [
        "selected_features_10users = train_data_10users[new_new_features]\n",
        "selected_features_150users = train_data_150users[new_new_features]"
      ],
      "execution_count": null,
      "outputs": []
    },
    {
      "cell_type": "code",
      "metadata": {
        "collapsed": true,
        "id": "NZc2qVrDml9H"
      },
      "source": [
        "with open(os.path.join(PATH_TO_DATA, 'selected_features_10users.pkl'), 'wb') as selected_features_10users_pkl:\n",
        "    pickle.dump(selected_features_10users, selected_features_10users_pkl, protocol=2)\n",
        "with open(os.path.join(PATH_TO_DATA, 'selected_features_150users.pkl'), 'wb') as selected_features_150users_pkl:\n",
        "    pickle.dump(selected_features_150users, selected_features_150users_pkl, protocol=2)"
      ],
      "execution_count": null,
      "outputs": []
    },
    {
      "cell_type": "markdown",
      "metadata": {
        "id": "zk4wsVG6ml9H"
      },
      "source": [
        "## Критерии оценки работы:\n",
        "- Верно ли отображена гистограмма session_timespan из п. 1? (max. 3 балла)\n",
        "- Верно ли отображена гистограмма #unique_sites из п. 2? (max. 3 балла)\n",
        "- Верно ли отображены гистограммы #unique_sites по каждому пользователю из п. 3? (max. 6 баллов)\n",
        "- Верно ли отображена гистограмма start_hour из п. 4? (max. 3 балла)\n",
        "- Верно ли отображены гистограммы start_hour по каждому пользователю из п. 5? (max. 6 баллов)\n",
        "- Верно ли отображена гистограмма day_of_week из п. 6? (max. 3 балла)\n",
        "- Верно ли отображены гистограммы day_of_week по каждому пользователю из п. 7? (max. 6 баллов)\n",
        "- Насколько сделанные выводы в п. 8 соответствуют построенным картинкам? (max. 6 баллов)\n",
        "- Верно ли отображен barplot для 10 популярных сайтов из п. 9? (max. 6 баллов)\n",
        "- Правильно ли посчитана медианная продолжительность сессий в п. 10? (max. 3 балла)\n",
        "- Правильно ли посчитан медианный день недели начала сессии в п. 11? (max. 3 балла)\n",
        "- Правильно ли посчитан медианный час начала сессии в п. 12? (max. 3 балла)\n",
        "- Правильно ли посчитано медианное значение числа уникальных сайтов в сессиях 150 пользователей п. 13? (max. 3 балла)\n",
        "- Есть ли оригинальные построенные признаки и картинки к ним? Оцените также и качество картинок. (max. 8 баллов)"
      ]
    },
    {
      "cell_type": "markdown",
      "metadata": {
        "id": "uWCvAqCqml9I"
      },
      "source": [
        "## Пути улучшения\n",
        "7 неделя посвящена общему описанию проекта (`html`, `ipynb` или `pdf`) и взаимному оцениванию. Что еще можно добавить по 3 части проекта:\n",
        "- IPython-widgets, интерактив и анимация (стоящие статьи по этому ремеслу – [раз](https://habrahabr.ru/post/308162/) и  [два](https://habrahabr.ru/company/ods/blog/323210/))\n",
        "- можно попробовать изобразить исходные данные в некотором пространстве, например, Word2Vec, потом выделить главные компоненты или t-SNE  (только пользуйтесь эффективными реализациями типа [Multicore-TSNE](https://github.com/DmitryUlyanov/Multicore-TSNE), не Sklearn) и раскрасить по целевому классу. Но нет гарантий, что получится что-то значимо отличающееся от каши\n",
        "\n",
        "На следующей неделе мы наконец приступим к обучению моделей классификации. "
      ]
    },
    {
      "cell_type": "markdown",
      "metadata": {
        "id": "7QuM8GQaiGcv"
      },
      "source": [
        "Можно рассмотреть признаки:\n",
        "- среднее время пребывания на популярных сайтах\n",
        "- частота заходов с мобильного устройства (m.)"
      ]
    }
  ]
}