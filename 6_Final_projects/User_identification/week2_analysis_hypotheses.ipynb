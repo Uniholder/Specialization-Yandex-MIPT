{
  "nbformat": 4,
  "nbformat_minor": 0,
  "metadata": {
    "anaconda-cloud": {},
    "kernelspec": {
      "display_name": "Python 3",
      "language": "python",
      "name": "python3"
    },
    "language_info": {
      "codemirror_mode": {
        "name": "ipython",
        "version": 3
      },
      "file_extension": ".py",
      "mimetype": "text/x-python",
      "name": "python",
      "nbconvert_exporter": "python",
      "pygments_lexer": "ipython3",
      "version": "3.7.9"
    },
    "colab": {
      "name": "week2_analysis_hypotheses.ipynb",
      "provenance": [],
      "toc_visible": true
    },
    "widgets": {
      "application/vnd.jupyter.widget-state+json": {
        "b14bd1a5b4ba448fab162f97ee4c5090": {
          "model_module": "@jupyter-widgets/controls",
          "model_name": "HBoxModel",
          "state": {
            "_view_name": "HBoxView",
            "_dom_classes": [],
            "_model_name": "HBoxModel",
            "_view_module": "@jupyter-widgets/controls",
            "_model_module_version": "1.5.0",
            "_view_count": null,
            "_view_module_version": "1.5.0",
            "box_style": "",
            "layout": "IPY_MODEL_961db6f8b4bf41c4bf4389f87c9608f1",
            "_model_module": "@jupyter-widgets/controls",
            "children": [
              "IPY_MODEL_927f05b73fb244b9bcf54f61294b87f1",
              "IPY_MODEL_599f095aa0194f69b2493e003addd653"
            ]
          }
        },
        "961db6f8b4bf41c4bf4389f87c9608f1": {
          "model_module": "@jupyter-widgets/base",
          "model_name": "LayoutModel",
          "state": {
            "_view_name": "LayoutView",
            "grid_template_rows": null,
            "right": null,
            "justify_content": null,
            "_view_module": "@jupyter-widgets/base",
            "overflow": null,
            "_model_module_version": "1.2.0",
            "_view_count": null,
            "flex_flow": null,
            "width": null,
            "min_width": null,
            "border": null,
            "align_items": null,
            "bottom": null,
            "_model_module": "@jupyter-widgets/base",
            "top": null,
            "grid_column": null,
            "overflow_y": null,
            "overflow_x": null,
            "grid_auto_flow": null,
            "grid_area": null,
            "grid_template_columns": null,
            "flex": null,
            "_model_name": "LayoutModel",
            "justify_items": null,
            "grid_row": null,
            "max_height": null,
            "align_content": null,
            "visibility": null,
            "align_self": null,
            "height": null,
            "min_height": null,
            "padding": null,
            "grid_auto_rows": null,
            "grid_gap": null,
            "max_width": null,
            "order": null,
            "_view_module_version": "1.2.0",
            "grid_template_areas": null,
            "object_position": null,
            "object_fit": null,
            "grid_auto_columns": null,
            "margin": null,
            "display": null,
            "left": null
          }
        },
        "927f05b73fb244b9bcf54f61294b87f1": {
          "model_module": "@jupyter-widgets/controls",
          "model_name": "FloatProgressModel",
          "state": {
            "_view_name": "ProgressView",
            "style": "IPY_MODEL_a8dbfe56f40540fb852109ab5a553463",
            "_dom_classes": [],
            "description": "100%",
            "_model_name": "FloatProgressModel",
            "bar_style": "success",
            "max": 3,
            "_view_module": "@jupyter-widgets/controls",
            "_model_module_version": "1.5.0",
            "value": 3,
            "_view_count": null,
            "_view_module_version": "1.5.0",
            "orientation": "horizontal",
            "min": 0,
            "description_tooltip": null,
            "_model_module": "@jupyter-widgets/controls",
            "layout": "IPY_MODEL_c2cf7e6f70e54bd9a71f690f75beb18f"
          }
        },
        "599f095aa0194f69b2493e003addd653": {
          "model_module": "@jupyter-widgets/controls",
          "model_name": "HTMLModel",
          "state": {
            "_view_name": "HTMLView",
            "style": "IPY_MODEL_e23cd558cbf7488a9abb261093d70f78",
            "_dom_classes": [],
            "description": "",
            "_model_name": "HTMLModel",
            "placeholder": "​",
            "_view_module": "@jupyter-widgets/controls",
            "_model_module_version": "1.5.0",
            "value": " 3/3 [00:00&lt;00:00, 46.20it/s]",
            "_view_count": null,
            "_view_module_version": "1.5.0",
            "description_tooltip": null,
            "_model_module": "@jupyter-widgets/controls",
            "layout": "IPY_MODEL_2baacb0b6aba477abdc5b54ed3319910"
          }
        },
        "a8dbfe56f40540fb852109ab5a553463": {
          "model_module": "@jupyter-widgets/controls",
          "model_name": "ProgressStyleModel",
          "state": {
            "_view_name": "StyleView",
            "_model_name": "ProgressStyleModel",
            "description_width": "initial",
            "_view_module": "@jupyter-widgets/base",
            "_model_module_version": "1.5.0",
            "_view_count": null,
            "_view_module_version": "1.2.0",
            "bar_color": null,
            "_model_module": "@jupyter-widgets/controls"
          }
        },
        "c2cf7e6f70e54bd9a71f690f75beb18f": {
          "model_module": "@jupyter-widgets/base",
          "model_name": "LayoutModel",
          "state": {
            "_view_name": "LayoutView",
            "grid_template_rows": null,
            "right": null,
            "justify_content": null,
            "_view_module": "@jupyter-widgets/base",
            "overflow": null,
            "_model_module_version": "1.2.0",
            "_view_count": null,
            "flex_flow": null,
            "width": null,
            "min_width": null,
            "border": null,
            "align_items": null,
            "bottom": null,
            "_model_module": "@jupyter-widgets/base",
            "top": null,
            "grid_column": null,
            "overflow_y": null,
            "overflow_x": null,
            "grid_auto_flow": null,
            "grid_area": null,
            "grid_template_columns": null,
            "flex": null,
            "_model_name": "LayoutModel",
            "justify_items": null,
            "grid_row": null,
            "max_height": null,
            "align_content": null,
            "visibility": null,
            "align_self": null,
            "height": null,
            "min_height": null,
            "padding": null,
            "grid_auto_rows": null,
            "grid_gap": null,
            "max_width": null,
            "order": null,
            "_view_module_version": "1.2.0",
            "grid_template_areas": null,
            "object_position": null,
            "object_fit": null,
            "grid_auto_columns": null,
            "margin": null,
            "display": null,
            "left": null
          }
        },
        "e23cd558cbf7488a9abb261093d70f78": {
          "model_module": "@jupyter-widgets/controls",
          "model_name": "DescriptionStyleModel",
          "state": {
            "_view_name": "StyleView",
            "_model_name": "DescriptionStyleModel",
            "description_width": "",
            "_view_module": "@jupyter-widgets/base",
            "_model_module_version": "1.5.0",
            "_view_count": null,
            "_view_module_version": "1.2.0",
            "_model_module": "@jupyter-widgets/controls"
          }
        },
        "2baacb0b6aba477abdc5b54ed3319910": {
          "model_module": "@jupyter-widgets/base",
          "model_name": "LayoutModel",
          "state": {
            "_view_name": "LayoutView",
            "grid_template_rows": null,
            "right": null,
            "justify_content": null,
            "_view_module": "@jupyter-widgets/base",
            "overflow": null,
            "_model_module_version": "1.2.0",
            "_view_count": null,
            "flex_flow": null,
            "width": null,
            "min_width": null,
            "border": null,
            "align_items": null,
            "bottom": null,
            "_model_module": "@jupyter-widgets/base",
            "top": null,
            "grid_column": null,
            "overflow_y": null,
            "overflow_x": null,
            "grid_auto_flow": null,
            "grid_area": null,
            "grid_template_columns": null,
            "flex": null,
            "_model_name": "LayoutModel",
            "justify_items": null,
            "grid_row": null,
            "max_height": null,
            "align_content": null,
            "visibility": null,
            "align_self": null,
            "height": null,
            "min_height": null,
            "padding": null,
            "grid_auto_rows": null,
            "grid_gap": null,
            "max_width": null,
            "order": null,
            "_view_module_version": "1.2.0",
            "grid_template_areas": null,
            "object_position": null,
            "object_fit": null,
            "grid_auto_columns": null,
            "margin": null,
            "display": null,
            "left": null
          }
        },
        "cba95c9c6b854b89bffadd325ca9043b": {
          "model_module": "@jupyter-widgets/controls",
          "model_name": "HBoxModel",
          "state": {
            "_view_name": "HBoxView",
            "_dom_classes": [],
            "_model_name": "HBoxModel",
            "_view_module": "@jupyter-widgets/controls",
            "_model_module_version": "1.5.0",
            "_view_count": null,
            "_view_module_version": "1.5.0",
            "box_style": "",
            "layout": "IPY_MODEL_fb05c451405f45378e13705b1586d8cc",
            "_model_module": "@jupyter-widgets/controls",
            "children": [
              "IPY_MODEL_49d9c311f80c47f1aa8812f76fd4d73d",
              "IPY_MODEL_6fcc5de741f3415dacbdf1157052305b"
            ]
          }
        },
        "fb05c451405f45378e13705b1586d8cc": {
          "model_module": "@jupyter-widgets/base",
          "model_name": "LayoutModel",
          "state": {
            "_view_name": "LayoutView",
            "grid_template_rows": null,
            "right": null,
            "justify_content": null,
            "_view_module": "@jupyter-widgets/base",
            "overflow": null,
            "_model_module_version": "1.2.0",
            "_view_count": null,
            "flex_flow": null,
            "width": null,
            "min_width": null,
            "border": null,
            "align_items": null,
            "bottom": null,
            "_model_module": "@jupyter-widgets/base",
            "top": null,
            "grid_column": null,
            "overflow_y": null,
            "overflow_x": null,
            "grid_auto_flow": null,
            "grid_area": null,
            "grid_template_columns": null,
            "flex": null,
            "_model_name": "LayoutModel",
            "justify_items": null,
            "grid_row": null,
            "max_height": null,
            "align_content": null,
            "visibility": null,
            "align_self": null,
            "height": null,
            "min_height": null,
            "padding": null,
            "grid_auto_rows": null,
            "grid_gap": null,
            "max_width": null,
            "order": null,
            "_view_module_version": "1.2.0",
            "grid_template_areas": null,
            "object_position": null,
            "object_fit": null,
            "grid_auto_columns": null,
            "margin": null,
            "display": null,
            "left": null
          }
        },
        "49d9c311f80c47f1aa8812f76fd4d73d": {
          "model_module": "@jupyter-widgets/controls",
          "model_name": "FloatProgressModel",
          "state": {
            "_view_name": "ProgressView",
            "style": "IPY_MODEL_6e403ab1e2fa4672bedc0f15b7e64ec6",
            "_dom_classes": [],
            "description": "100%",
            "_model_name": "FloatProgressModel",
            "bar_style": "success",
            "max": 3,
            "_view_module": "@jupyter-widgets/controls",
            "_model_module_version": "1.5.0",
            "value": 3,
            "_view_count": null,
            "_view_module_version": "1.5.0",
            "orientation": "horizontal",
            "min": 0,
            "description_tooltip": null,
            "_model_module": "@jupyter-widgets/controls",
            "layout": "IPY_MODEL_6031726a51b143e3968c60df3461e6dc"
          }
        },
        "6fcc5de741f3415dacbdf1157052305b": {
          "model_module": "@jupyter-widgets/controls",
          "model_name": "HTMLModel",
          "state": {
            "_view_name": "HTMLView",
            "style": "IPY_MODEL_83699940d2e341b7a35c3deb833b2242",
            "_dom_classes": [],
            "description": "",
            "_model_name": "HTMLModel",
            "placeholder": "​",
            "_view_module": "@jupyter-widgets/controls",
            "_model_module_version": "1.5.0",
            "value": " 3/3 [00:46&lt;00:00, 15.45s/it]",
            "_view_count": null,
            "_view_module_version": "1.5.0",
            "description_tooltip": null,
            "_model_module": "@jupyter-widgets/controls",
            "layout": "IPY_MODEL_576999014f3b4479b539172317609d8d"
          }
        },
        "6e403ab1e2fa4672bedc0f15b7e64ec6": {
          "model_module": "@jupyter-widgets/controls",
          "model_name": "ProgressStyleModel",
          "state": {
            "_view_name": "StyleView",
            "_model_name": "ProgressStyleModel",
            "description_width": "initial",
            "_view_module": "@jupyter-widgets/base",
            "_model_module_version": "1.5.0",
            "_view_count": null,
            "_view_module_version": "1.2.0",
            "bar_color": null,
            "_model_module": "@jupyter-widgets/controls"
          }
        },
        "6031726a51b143e3968c60df3461e6dc": {
          "model_module": "@jupyter-widgets/base",
          "model_name": "LayoutModel",
          "state": {
            "_view_name": "LayoutView",
            "grid_template_rows": null,
            "right": null,
            "justify_content": null,
            "_view_module": "@jupyter-widgets/base",
            "overflow": null,
            "_model_module_version": "1.2.0",
            "_view_count": null,
            "flex_flow": null,
            "width": null,
            "min_width": null,
            "border": null,
            "align_items": null,
            "bottom": null,
            "_model_module": "@jupyter-widgets/base",
            "top": null,
            "grid_column": null,
            "overflow_y": null,
            "overflow_x": null,
            "grid_auto_flow": null,
            "grid_area": null,
            "grid_template_columns": null,
            "flex": null,
            "_model_name": "LayoutModel",
            "justify_items": null,
            "grid_row": null,
            "max_height": null,
            "align_content": null,
            "visibility": null,
            "align_self": null,
            "height": null,
            "min_height": null,
            "padding": null,
            "grid_auto_rows": null,
            "grid_gap": null,
            "max_width": null,
            "order": null,
            "_view_module_version": "1.2.0",
            "grid_template_areas": null,
            "object_position": null,
            "object_fit": null,
            "grid_auto_columns": null,
            "margin": null,
            "display": null,
            "left": null
          }
        },
        "83699940d2e341b7a35c3deb833b2242": {
          "model_module": "@jupyter-widgets/controls",
          "model_name": "DescriptionStyleModel",
          "state": {
            "_view_name": "StyleView",
            "_model_name": "DescriptionStyleModel",
            "description_width": "",
            "_view_module": "@jupyter-widgets/base",
            "_model_module_version": "1.5.0",
            "_view_count": null,
            "_view_module_version": "1.2.0",
            "_model_module": "@jupyter-widgets/controls"
          }
        },
        "576999014f3b4479b539172317609d8d": {
          "model_module": "@jupyter-widgets/base",
          "model_name": "LayoutModel",
          "state": {
            "_view_name": "LayoutView",
            "grid_template_rows": null,
            "right": null,
            "justify_content": null,
            "_view_module": "@jupyter-widgets/base",
            "overflow": null,
            "_model_module_version": "1.2.0",
            "_view_count": null,
            "flex_flow": null,
            "width": null,
            "min_width": null,
            "border": null,
            "align_items": null,
            "bottom": null,
            "_model_module": "@jupyter-widgets/base",
            "top": null,
            "grid_column": null,
            "overflow_y": null,
            "overflow_x": null,
            "grid_auto_flow": null,
            "grid_area": null,
            "grid_template_columns": null,
            "flex": null,
            "_model_name": "LayoutModel",
            "justify_items": null,
            "grid_row": null,
            "max_height": null,
            "align_content": null,
            "visibility": null,
            "align_self": null,
            "height": null,
            "min_height": null,
            "padding": null,
            "grid_auto_rows": null,
            "grid_gap": null,
            "max_width": null,
            "order": null,
            "_view_module_version": "1.2.0",
            "grid_template_areas": null,
            "object_position": null,
            "object_fit": null,
            "grid_auto_columns": null,
            "margin": null,
            "display": null,
            "left": null
          }
        }
      }
    }
  },
  "cells": [
    {
      "cell_type": "markdown",
      "metadata": {
        "id": "dTwVHENLh5yT"
      },
      "source": [
        "<center>\n",
        "<img src=\"https://habrastorage.org/web/677/8e1/337/6778e1337c3d4b159d7e99df94227cb2.jpg\"/>\n",
        "## Специализация \"Машинное обучение и анализ данных\"\n",
        "</center>\n",
        "<center>Автор материала: программист-исследователь Mail.ru Group, старший преподаватель Факультета Компьютерных Наук ВШЭ Юрий Кашницкий"
      ]
    },
    {
      "cell_type": "markdown",
      "metadata": {
        "id": "ZWKvsNiYh5yW"
      },
      "source": [
        "# <center> Capstone проект №1. Идентификация пользователей по посещенным веб-страницам\n",
        "<img src='http://i.istockimg.com/file_thumbview_approve/21546327/5/stock-illustration-21546327-identification-de-l-utilisateur.jpg'>\n",
        "\n",
        "# <center>Неделя 2. Подготовка и первичный анализ данных\n",
        "\n",
        "На второй неделе мы продолжим подготавливать данные для дальнейшего анализа и построения прогнозных моделей. Конкретно, раньше мы определили что сессия – это последовательность из 10 посещенных пользователем сайтов, теперь сделаем длину сессии параметром, и потом при обучении прогнозных моделей выберем лучшую длину сессии.\n",
        "Также мы познакомимся с предобработанными данными и статистически проверим первые гипотезы, связанные с нашими наблюдениями. \n",
        "\n",
        "**План 2 недели:**\n",
        " - Часть 1. Подготовка нескольких обучающих выборок для сравнения\n",
        " - Часть 2. Первичный анализ данных, проверка гипотез\n",
        "\n",
        "**В этой части проекта Вам могут быть полезны  следующие видеозаписи лекций курса \"Построение выводов по данным\":**\n",
        "\n",
        "   - [Доверительные интервалы для доли](https://www.coursera.org/learn/stats-for-data-analysis/lecture/3oi53/dovieritiel-nyie-intiervaly-dlia-doli)\n",
        "   - [Биномиальный критерий для доли](https://www.coursera.org/learn/stats-for-data-analysis/lecture/JwmBw/binomial-nyi-kritierii-dlia-doli)\n",
        "   - [Доверительные интервалы на основе бутстрепа](https://www.coursera.org/learn/stats-for-data-analysis/lecture/GZjW7/dovieritiel-nyie-intiervaly-na-osnovie-butstriepa)\n",
        "   \n",
        "**Кроме того, в задании будут использоваться библиотеки Python [glob](https://docs.python.org/3/library/glob.html), [pickle](https://docs.python.org/2/library/pickle.html), [itertools](https://docs.python.org/3/library/itertools.html) и класс [csr_matrix](https://docs.scipy.org/doc/scipy-0.14.0/reference/generated/scipy.sparse.csr_matrix.html) из scipy.sparse.**"
      ]
    },
    {
      "cell_type": "markdown",
      "metadata": {
        "id": "5pLtzUbWh5yZ"
      },
      "source": [
        "## Часть 1. Подготовка нескольких обучающих выборок для сравнения\n",
        "\n",
        "Пока мы брали последовательности из 10 сайтов, и это было наобум. Давайте сделаем число сайтов в сессии параметром, чтоб в дальнейшем сравнить модели классификации, обученные на разных выборках – с 5, 7, 10 и 15 сайтами в сессии. Более того, пока мы брали по 10 сайтов подряд, без пересечения. Теперь давайте применим идею скользящего окна – сессии будут перекрываться. \n",
        "\n",
        "**Пример**: для длины сессии 10 и ширины окна 7 файл из 30 записей породит не 3 сессии, как раньше (1-10, 11-20, 21-30), а 5 (1-10, 8-17, 15-24, 22-30, 29-30). При этом в предпоследней сессии будет один ноль, а в последней – 8 нолей.\n",
        "\n",
        "Создадим несколько выборок для разных сочетаний параметров длины сессии и ширины окна. Все они представлены в табличке ниже:\n",
        "\n",
        "<style type=\"text/css\">\n",
        ".tg  {border-collapse:collapse;border-spacing:0;}\n",
        ".tg td{font-family:Arial, sans-serif;font-size:14px;padding:10px 5px;border-style:solid;border-width:1px;overflow:hidden;word-break:normal;}\n",
        ".tg th{font-family:Arial, sans-serif;font-size:14px;font-weight:normal;padding:10px 5px;border-style:solid;border-width:1px;overflow:hidden;word-break:normal;}\n",
        "</style>\n",
        "<table class=\"tg\">\n",
        "  <tr>\n",
        "    <th class=\"tg-031e\">session_length -&gt;<br>window_size <br></th>\n",
        "    <th class=\"tg-031e\">5</th>\n",
        "    <th class=\"tg-031e\">7</th>\n",
        "    <th class=\"tg-031e\">10</th>\n",
        "    <th class=\"tg-031e\">15</th>\n",
        "  </tr>\n",
        "  <tr>\n",
        "    <td class=\"tg-031e\">5</td>\n",
        "    <td class=\"tg-031e\">v</td>\n",
        "    <td class=\"tg-031e\">v</td>\n",
        "    <td class=\"tg-031e\">v</td>\n",
        "    <td class=\"tg-031e\">v</td>\n",
        "  </tr>\n",
        "  <tr>\n",
        "    <td class=\"tg-031e\">7</td>\n",
        "    <td class=\"tg-031e\"></td>\n",
        "    <td class=\"tg-031e\">v</td>\n",
        "    <td class=\"tg-031e\">v</td>\n",
        "    <td class=\"tg-031e\">v</td>\n",
        "  </tr>\n",
        "  <tr>\n",
        "    <td class=\"tg-031e\">10</td>\n",
        "    <td class=\"tg-031e\"></td>\n",
        "    <td class=\"tg-031e\"></td>\n",
        "    <td class=\"tg-031e\"><font color='green'>v</font></td>\n",
        "    <td class=\"tg-031e\">v</td>\n",
        "  </tr>\n",
        "</table>\n",
        "\n",
        "Итого должно получиться 18 разреженных матриц – указанные в таблице 9 сочетаний параметров формирования сессий для выборок из 10 и 150 пользователей. При этом 2 выборки мы уже сделали в прошлой части, они соответствуют сочетанию параметров: session_length=10, window_size=10, которые помечены в таблице выше галочкой зеленого цвета (done)."
      ]
    },
    {
      "cell_type": "markdown",
      "metadata": {
        "id": "S0MlJqBEh5yc"
      },
      "source": [
        "Реализуйте функцию *prepare_sparse_train_set_window*.\n",
        "\n",
        "Аргументы:\n",
        "- *path_to_csv_files* – путь к каталогу с csv-файлами\n",
        "- *site_freq_path* – путь к pickle-файлу с частотным словарем, полученным в 1 части проекта\n",
        "- *session_length* – длина сессии (параметр)\n",
        "- *window_size* – ширина окна (параметр) \n",
        "\n",
        "Функция должна возвращать 2 объекта:\n",
        "- разреженную матрицу *X_sparse* (двухмерная Scipy.sparse.csr_matrix), в которой строки соответствуют сессиям из *session_length* сайтов, а *max(site_id)* столбцов – количеству посещений *site_id* в сессии. \n",
        "- вектор *y* (Numpy array) \"ответов\" в виде ID пользователей, которым принадлежат сессии из *X_sparse*\n",
        "\n",
        "Детали:\n",
        "- Модифицируйте созданную в 1 части функцию *prepare_train_set*\n",
        "- Некоторые сессии могут повторяться – оставьте как есть, не удаляйте дубликаты\n",
        "- Замеряйте время выполнения итераций цикла с помощью *time* из *time*, *tqdm* из *tqdm* или с помощью виджета [log_progress](https://github.com/alexanderkuk/log-progress) ([статья](https://habrahabr.ru/post/276725/) о нем на Хабрахабре)\n",
        "- 150 файлов из *capstone_websites_data/150users/* должны обрабатываться за несколько секунд (в зависимости от входных параметров). Если дольше – не страшно, но знайте, что функцию можно ускорить. "
      ]
    },
    {
      "cell_type": "code",
      "metadata": {
        "id": "wUcAgj0jh5ye"
      },
      "source": [
        "from __future__ import division, print_function\n",
        "# отключим всякие предупреждения Anaconda\n",
        "import warnings\n",
        "warnings.filterwarnings('ignore')\n",
        "from glob import glob\n",
        "import os\n",
        "import pickle\n",
        "from tqdm.notebook import tqdm\n",
        "import numpy as np\n",
        "import pandas as pd\n",
        "from scipy.sparse import csr_matrix\n",
        "from scipy import stats\n",
        "from statsmodels.stats.proportion import proportion_confint\n",
        "%matplotlib inline\n",
        "from matplotlib import pyplot as plt\n",
        "from sys import maxsize\n",
        "from itertools import tee"
      ],
      "execution_count": 210,
      "outputs": []
    },
    {
      "cell_type": "code",
      "metadata": {
        "id": "BfjwbEQ5h5yf"
      },
      "source": [
        "# Поменяйте на свой путь к данным\n",
        "PATH_TO_DATA = 'capstone_user_identification/'"
      ],
      "execution_count": 2,
      "outputs": []
    },
    {
      "cell_type": "code",
      "metadata": {
        "id": "7YhPZpckmFAk"
      },
      "source": [
        "def get_session(session_it, session_length):\n",
        "    try:\n",
        "        for i in range(session_length):\n",
        "            yield next(session_it)\n",
        "    except StopIteration:\n",
        "        return"
      ],
      "execution_count": 186,
      "outputs": []
    },
    {
      "cell_type": "code",
      "metadata": {
        "id": "EzALOizT_8Zi"
      },
      "source": [
        "def get_sites(file, session_length, window_size):\n",
        "    windows_it = iter(file)\n",
        "    i = 0\n",
        "\n",
        "    while True:\n",
        "        try:\n",
        "            if i % window_size == 0:\n",
        "                windows_it, session_it = tee(windows_it)\n",
        "                session =  list(get_session(session_it, session_length))\n",
        "                yield list(map(lambda x: x.split(',')[1].strip(), session))\n",
        "        except StopIteration:\n",
        "            return\n",
        "\n",
        "        try:\n",
        "            next(windows_it)\n",
        "            i += 1\n",
        "        except StopIteration:\n",
        "            return"
      ],
      "execution_count": 240,
      "outputs": []
    },
    {
      "cell_type": "code",
      "metadata": {
        "colab": {
          "base_uri": "https://localhost:8080/",
          "height": 111
        },
        "id": "S3HF8vFuiBet",
        "outputId": "391812bb-9614-4514-e290-6086fc80be31"
      },
      "source": [
        "file_ = PATH_TO_DATA + '/3users/user0001.csv'\n",
        "session_length = 10\n",
        "window_size = 10\n",
        "user_id = 1\n",
        "\n",
        "with open(file_) as f:\n",
        "    f.readline()\n",
        "    train_set, y = zip(*get_sites(f, session_length, window_size, user_id))\n",
        "pd.DataFrame(train_set)"
      ],
      "execution_count": 213,
      "outputs": [
        {
          "output_type": "execute_result",
          "data": {
            "text/html": [
              "<div>\n",
              "<style scoped>\n",
              "    .dataframe tbody tr th:only-of-type {\n",
              "        vertical-align: middle;\n",
              "    }\n",
              "\n",
              "    .dataframe tbody tr th {\n",
              "        vertical-align: top;\n",
              "    }\n",
              "\n",
              "    .dataframe thead th {\n",
              "        text-align: right;\n",
              "    }\n",
              "</style>\n",
              "<table border=\"1\" class=\"dataframe\">\n",
              "  <thead>\n",
              "    <tr style=\"text-align: right;\">\n",
              "      <th></th>\n",
              "      <th>0</th>\n",
              "      <th>1</th>\n",
              "      <th>2</th>\n",
              "      <th>3</th>\n",
              "      <th>4</th>\n",
              "      <th>5</th>\n",
              "      <th>6</th>\n",
              "      <th>7</th>\n",
              "      <th>8</th>\n",
              "      <th>9</th>\n",
              "    </tr>\n",
              "  </thead>\n",
              "  <tbody>\n",
              "    <tr>\n",
              "      <th>0</th>\n",
              "      <td>vk.com</td>\n",
              "      <td>oracle.com</td>\n",
              "      <td>oracle.com</td>\n",
              "      <td>geo.mozilla.org</td>\n",
              "      <td>oracle.com</td>\n",
              "      <td>google.com</td>\n",
              "      <td>accounts.google.com</td>\n",
              "      <td>mail.google.com</td>\n",
              "      <td>apis.google.com</td>\n",
              "      <td>plus.google.com</td>\n",
              "    </tr>\n",
              "    <tr>\n",
              "      <th>1</th>\n",
              "      <td>vk.com</td>\n",
              "      <td>google.com</td>\n",
              "      <td>google.com</td>\n",
              "      <td>google.com</td>\n",
              "      <td>None</td>\n",
              "      <td>None</td>\n",
              "      <td>None</td>\n",
              "      <td>None</td>\n",
              "      <td>None</td>\n",
              "      <td>None</td>\n",
              "    </tr>\n",
              "  </tbody>\n",
              "</table>\n",
              "</div>"
            ],
            "text/plain": [
              "        0           1  ...                8                9\n",
              "0  vk.com  oracle.com  ...  apis.google.com  plus.google.com\n",
              "1  vk.com  google.com  ...             None             None\n",
              "\n",
              "[2 rows x 10 columns]"
            ]
          },
          "metadata": {
            "tags": []
          },
          "execution_count": 213
        }
      ]
    },
    {
      "cell_type": "code",
      "metadata": {
        "colab": {
          "base_uri": "https://localhost:8080/",
          "height": 253,
          "referenced_widgets": [
            "b14bd1a5b4ba448fab162f97ee4c5090",
            "961db6f8b4bf41c4bf4389f87c9608f1",
            "927f05b73fb244b9bcf54f61294b87f1",
            "599f095aa0194f69b2493e003addd653",
            "a8dbfe56f40540fb852109ab5a553463",
            "c2cf7e6f70e54bd9a71f690f75beb18f",
            "e23cd558cbf7488a9abb261093d70f78",
            "2baacb0b6aba477abdc5b54ed3319910"
          ]
        },
        "id": "XpndVbpah5yl",
        "outputId": "8e92f8e9-1ce8-4708-feb5-195408f7627f"
      },
      "source": [
        "site_freq_path = PATH_TO_DATA + 'site_freq_3users.pkl'\n",
        "path_to_csv_files = PATH_TO_DATA + '3users/*'\n",
        "session_length = 10\n",
        "window_size = 10\n",
        "\n",
        "site_dict = []\n",
        "with open(site_freq_path, 'rb') as f:\n",
        "    site_dict.append(pickle.load(f))\n",
        "site_map = {k: v[0] for k, v in site_dict[0].items()}\n",
        "\n",
        "user_id = 0\n",
        "train_set, user_ids = [], []\n",
        "for file_ in tqdm(glob(path_to_csv_files)):\n",
        "    user_id += 1\n",
        "    with open(file_) as f:\n",
        "        f.readline() # пропускаем первую строку\n",
        "        for session in get_sites(f, session_length, window_size):\n",
        "            train_set.append(session)\n",
        "            user_ids.append(user_id)\n",
        "            \n",
        "train_set = pd.DataFrame(train_set).fillna(0)\n",
        "train_set.columns = [f'site{i+1}' for i in range(train_set.columns.size)] # если максимальная длина сессии меньше session_length\n",
        "train_set = train_set.applymap(lambda x: site_map[x] if type(x)==str else x)\n",
        "train_set"
      ],
      "execution_count": 248,
      "outputs": [
        {
          "output_type": "display_data",
          "data": {
            "application/vnd.jupyter.widget-view+json": {
              "model_id": "b14bd1a5b4ba448fab162f97ee4c5090",
              "version_minor": 0,
              "version_major": 2
            },
            "text/plain": [
              "HBox(children=(FloatProgress(value=0.0, max=3.0), HTML(value='')))"
            ]
          },
          "metadata": {
            "tags": []
          }
        },
        {
          "output_type": "stream",
          "text": [
            "\n"
          ],
          "name": "stdout"
        },
        {
          "output_type": "execute_result",
          "data": {
            "text/html": [
              "<div>\n",
              "<style scoped>\n",
              "    .dataframe tbody tr th:only-of-type {\n",
              "        vertical-align: middle;\n",
              "    }\n",
              "\n",
              "    .dataframe tbody tr th {\n",
              "        vertical-align: top;\n",
              "    }\n",
              "\n",
              "    .dataframe thead th {\n",
              "        text-align: right;\n",
              "    }\n",
              "</style>\n",
              "<table border=\"1\" class=\"dataframe\">\n",
              "  <thead>\n",
              "    <tr style=\"text-align: right;\">\n",
              "      <th></th>\n",
              "      <th>site1</th>\n",
              "      <th>site2</th>\n",
              "      <th>site3</th>\n",
              "      <th>site4</th>\n",
              "      <th>site5</th>\n",
              "      <th>site6</th>\n",
              "      <th>site7</th>\n",
              "      <th>site8</th>\n",
              "      <th>site9</th>\n",
              "      <th>site10</th>\n",
              "    </tr>\n",
              "  </thead>\n",
              "  <tbody>\n",
              "    <tr>\n",
              "      <th>0</th>\n",
              "      <td>1</td>\n",
              "      <td>2</td>\n",
              "      <td>3</td>\n",
              "      <td>3</td>\n",
              "      <td>2</td>\n",
              "      <td>0</td>\n",
              "      <td>0</td>\n",
              "      <td>0</td>\n",
              "      <td>0</td>\n",
              "      <td>0</td>\n",
              "    </tr>\n",
              "    <tr>\n",
              "      <th>1</th>\n",
              "      <td>1</td>\n",
              "      <td>2</td>\n",
              "      <td>2</td>\n",
              "      <td>4</td>\n",
              "      <td>2</td>\n",
              "      <td>5</td>\n",
              "      <td>6</td>\n",
              "      <td>7</td>\n",
              "      <td>8</td>\n",
              "      <td>9</td>\n",
              "    </tr>\n",
              "    <tr>\n",
              "      <th>2</th>\n",
              "      <td>1</td>\n",
              "      <td>5</td>\n",
              "      <td>5</td>\n",
              "      <td>5</td>\n",
              "      <td>0</td>\n",
              "      <td>0</td>\n",
              "      <td>0</td>\n",
              "      <td>0</td>\n",
              "      <td>0</td>\n",
              "      <td>0</td>\n",
              "    </tr>\n",
              "    <tr>\n",
              "      <th>3</th>\n",
              "      <td>10</td>\n",
              "      <td>5</td>\n",
              "      <td>2</td>\n",
              "      <td>5</td>\n",
              "      <td>2</td>\n",
              "      <td>5</td>\n",
              "      <td>5</td>\n",
              "      <td>7</td>\n",
              "      <td>11</td>\n",
              "      <td>10</td>\n",
              "    </tr>\n",
              "    <tr>\n",
              "      <th>4</th>\n",
              "      <td>10</td>\n",
              "      <td>5</td>\n",
              "      <td>2</td>\n",
              "      <td>0</td>\n",
              "      <td>0</td>\n",
              "      <td>0</td>\n",
              "      <td>0</td>\n",
              "      <td>0</td>\n",
              "      <td>0</td>\n",
              "      <td>0</td>\n",
              "    </tr>\n",
              "  </tbody>\n",
              "</table>\n",
              "</div>"
            ],
            "text/plain": [
              "   site1  site2  site3  site4  site5  site6  site7  site8  site9  site10\n",
              "0      1      2      3      3      2      0      0      0      0       0\n",
              "1      1      2      2      4      2      5      6      7      8       9\n",
              "2      1      5      5      5      0      0      0      0      0       0\n",
              "3     10      5      2      5      2      5      5      7     11      10\n",
              "4     10      5      2      0      0      0      0      0      0       0"
            ]
          },
          "metadata": {
            "tags": []
          },
          "execution_count": 248
        }
      ]
    },
    {
      "cell_type": "code",
      "metadata": {
        "collapsed": true,
        "id": "murqZhXnh5ys"
      },
      "source": [
        "def prepare_sparse_train_set_window(path_to_csv_files, site_freq_path, session_length=10, window_size=10):\n",
        "    site_dict = []\n",
        "    train_set, user_ids = [], []\n",
        "    user_id = 0\n",
        "\n",
        "    # скачиваем словарь сайтов    \n",
        "    with open(site_freq_path, 'rb') as f:\n",
        "        site_dict.append(pickle.load(f))\n",
        "    site_map = {k: v[0] for k, v in site_dict[0].items()}\n",
        "\n",
        "    \n",
        "    for file_ in tqdm(glob(path_to_csv_files + '/*')):\n",
        "        user_id += 1\n",
        "        with open(file_) as f:\n",
        "            f.readline() # пропускаем первую строку\n",
        "            for session in get_sites(f, session_length, window_size):\n",
        "                train_set.append(session)\n",
        "                user_ids.append(user_id)\n",
        "                \n",
        "    train_set = pd.DataFrame(train_set).fillna(0)\n",
        "    train_set.columns = [f'site{i+1}' for i in range(train_set.columns.size)] # если максимальная длина сессии меньше session_length\n",
        "    train_set = train_set.applymap(lambda x: site_map[x] if type(x)==str else x).values\n",
        "\n",
        "    data = [1] * train_set.size # массив единиц длины n*m - count'ы сайтов (с повторениями)\n",
        "    indices = train_set.flatten() # массив индексов столбцоы, на которых размещаются единицы; по сути спрямлённый DataFrame индексов\n",
        "    indptr = list(range(0, train_set.size + 1, session_length)) # массив отрезков длины сессии (в нашем случае просто отсечки по длинам строк)\n",
        "    X_sparse = csr_matrix((data, indices, indptr))[:, 1:] # обрезаем столбец для сайта 0 (отсутствие посещения)\n",
        "\n",
        "    return X_sparse, np.array(user_ids)"
      ],
      "execution_count": 267,
      "outputs": []
    },
    {
      "cell_type": "code",
      "metadata": {
        "colab": {
          "base_uri": "https://localhost:8080/",
          "height": 270,
          "referenced_widgets": [
            "cba95c9c6b854b89bffadd325ca9043b",
            "fb05c451405f45378e13705b1586d8cc",
            "49d9c311f80c47f1aa8812f76fd4d73d",
            "6fcc5de741f3415dacbdf1157052305b",
            "6e403ab1e2fa4672bedc0f15b7e64ec6",
            "6031726a51b143e3968c60df3461e6dc",
            "83699940d2e341b7a35c3deb833b2242",
            "576999014f3b4479b539172317609d8d"
          ]
        },
        "id": "hTxkQHJODF0f",
        "outputId": "ef6dfe3d-9a90-4878-bcde-d4343b58ca04"
      },
      "source": [
        "X_sparse, y = prepare_sparse_train_set_window(os.path.join(PATH_TO_DATA,'3users'), os.path.join(PATH_TO_DATA,'site_freq_3users.pkl'),\n",
        "                                              session_length=5, window_size=3)\n",
        "X_sparse.todense()"
      ],
      "execution_count": 268,
      "outputs": [
        {
          "output_type": "display_data",
          "data": {
            "application/vnd.jupyter.widget-view+json": {
              "model_id": "cba95c9c6b854b89bffadd325ca9043b",
              "version_minor": 0,
              "version_major": 2
            },
            "text/plain": [
              "HBox(children=(FloatProgress(value=0.0, max=3.0), HTML(value='')))"
            ]
          },
          "metadata": {
            "tags": []
          }
        },
        {
          "output_type": "stream",
          "text": [
            "\n"
          ],
          "name": "stdout"
        },
        {
          "output_type": "execute_result",
          "data": {
            "text/plain": [
              "matrix([[1, 2, 2, 0, 0, 0, 0, 0, 0, 0, 0],\n",
              "        [0, 1, 1, 0, 0, 0, 0, 0, 0, 0, 0],\n",
              "        [1, 3, 0, 1, 0, 0, 0, 0, 0, 0, 0],\n",
              "        [0, 1, 0, 1, 1, 1, 1, 0, 0, 0, 0],\n",
              "        [1, 0, 0, 0, 0, 1, 1, 1, 1, 0, 0],\n",
              "        [1, 0, 0, 0, 3, 0, 0, 0, 1, 0, 0],\n",
              "        [0, 0, 0, 0, 2, 0, 0, 0, 0, 0, 0],\n",
              "        [0, 2, 0, 0, 2, 0, 0, 0, 0, 1, 0],\n",
              "        [0, 1, 0, 0, 3, 0, 1, 0, 0, 0, 0],\n",
              "        [0, 0, 0, 0, 1, 0, 1, 0, 0, 2, 1],\n",
              "        [0, 1, 0, 0, 1, 0, 0, 0, 0, 2, 0],\n",
              "        [0, 1, 0, 0, 0, 0, 0, 0, 0, 0, 0]])"
            ]
          },
          "metadata": {
            "tags": []
          },
          "execution_count": 268
        }
      ]
    },
    {
      "cell_type": "code",
      "metadata": {
        "colab": {
          "base_uri": "https://localhost:8080/"
        },
        "id": "4wa9lZFeHFJL",
        "outputId": "1330120e-146b-4b60-ccdd-c0933424ea19"
      },
      "source": [
        "y"
      ],
      "execution_count": 266,
      "outputs": [
        {
          "output_type": "execute_result",
          "data": {
            "text/plain": [
              "array([1, 1, 2, 2, 2, 2, 2, 3, 3, 3, 3, 3])"
            ]
          },
          "metadata": {
            "tags": []
          },
          "execution_count": 266
        }
      ]
    },
    {
      "cell_type": "markdown",
      "metadata": {
        "id": "wfqwUXnxh5yu"
      },
      "source": [
        "**Примените полученную функцию с параметрами *session_length=5* и *window_size=3* к игрушечному примеру. Убедитесь, что все работает как надо.**"
      ]
    },
    {
      "cell_type": "code",
      "metadata": {
        "id": "GALPKji8h5yv",
        "outputId": "48bf5dfa-f1d6-4b14-a15b-19778fa1a7dc"
      },
      "source": [
        "X_toy_s5_w3, y_s5_w3 = prepare_sparse_train_set_window(os.path.join(PATH_TO_DATA,'3users'), \n",
        "                                                       os.path.join(PATH_TO_DATA,'site_freq_3users.pkl'),\n",
        "                                       session_length=5, window_size=3)"
      ],
      "execution_count": null,
      "outputs": [
        {
          "output_type": "stream",
          "text": [
            "3it [00:00, 770.82it/s]\n"
          ],
          "name": "stderr"
        }
      ]
    },
    {
      "cell_type": "code",
      "metadata": {
        "id": "8Vkg-v_sh5yx",
        "outputId": "1c92bdf3-2051-4ef7-af40-ce9bb43a3c59"
      },
      "source": [
        "X_toy_s5_w3.todense()"
      ],
      "execution_count": null,
      "outputs": [
        {
          "output_type": "execute_result",
          "data": {
            "text/plain": [
              "matrix([[0, 3, 1, 0, 0, 0, 1, 0, 0, 0, 0],\n",
              "        [1, 1, 0, 0, 1, 0, 1, 1, 0, 0, 0],\n",
              "        [0, 0, 1, 0, 1, 0, 0, 1, 1, 1, 0],\n",
              "        [3, 0, 1, 0, 0, 0, 0, 0, 1, 0, 0],\n",
              "        [2, 0, 0, 0, 0, 0, 0, 0, 0, 0, 0],\n",
              "        [0, 2, 1, 0, 0, 2, 0, 0, 0, 0, 0],\n",
              "        [0, 1, 0, 0, 0, 1, 0, 0, 0, 0, 0],\n",
              "        [2, 2, 0, 1, 0, 0, 0, 0, 0, 0, 0],\n",
              "        [3, 1, 0, 0, 1, 0, 0, 0, 0, 0, 0],\n",
              "        [1, 0, 0, 2, 1, 0, 0, 0, 0, 0, 1],\n",
              "        [1, 1, 0, 2, 0, 0, 0, 0, 0, 0, 0],\n",
              "        [0, 1, 0, 0, 0, 0, 0, 0, 0, 0, 0]])"
            ]
          },
          "metadata": {
            "tags": []
          },
          "execution_count": 5
        }
      ]
    },
    {
      "cell_type": "code",
      "metadata": {
        "id": "FcuwzKPBh5yy",
        "outputId": "272da210-8557-40cf-812d-a7cf48cdc399"
      },
      "source": [
        "y_s5_w3"
      ],
      "execution_count": null,
      "outputs": [
        {
          "output_type": "execute_result",
          "data": {
            "text/plain": [
              "array([1, 1, 1, 1, 1, 2, 2, 3, 3, 3, 3, 3])"
            ]
          },
          "metadata": {
            "tags": []
          },
          "execution_count": 6
        }
      ]
    },
    {
      "cell_type": "markdown",
      "metadata": {
        "id": "5-CClcNkh5y1"
      },
      "source": [
        "**Запустите созданную функцию 16 раз с помощью циклов по числу пользователей num_users (10 или 150), значениям параметра *session_length* (15, 10, 7 или 5) и значениям параметра *window_size* (10, 7 или 5). Сериализуйте все 16 разреженных матриц (обучающие выборки) и векторов (метки целевого класса – ID пользователя) в файлы `X_sparse_{num_users}users_s{session_length}_w{window_size}.pkl` и `y_{num_users}users_s{session_length}_w{window_size}.pkl`.**\n",
        "\n",
        "**Чтоб убедиться, что мы все далее будем работать с идентичными объектами, запишите в список *data_lengths* число строк во всех полученных рареженных матрицах (16 значений). Если какие-то будут совпадать, это нормально (можно сообразить, почему).**\n",
        "\n",
        "**На моем ноутбуке этот участок кода отработал за 26 секунд, хотя понятно, что все зависит от эффективности реализации функции *prepare_sparse_train_set_window* и мощности используемого железа. И честно говоря, моя первая реализация была намного менее эффективной (34 минуты), так что тут у Вас есть возможность оптимизировать свой код.**"
      ]
    },
    {
      "cell_type": "code",
      "metadata": {
        "collapsed": true,
        "id": "Z8tS0TP_h5y3"
      },
      "source": [
        "%%time\n",
        "import itertools\n",
        "\n",
        "data_lengths = []\n",
        "\n",
        "for num_users in [10, 150]:\n",
        "    for window_size, session_length in itertools.product([10, 7, 5], [15, 10, 7, 5]):\n",
        "        if window_size <= session_length and (window_size, session_length) != (10, 10):\n",
        "            X_sparse, y = ''' ВАШ КОД ЗДЕСЬ '''"
      ],
      "execution_count": null,
      "outputs": []
    },
    {
      "cell_type": "markdown",
      "metadata": {
        "id": "PiWMPq8fh5y5"
      },
      "source": [
        "**Запишите в файл *answer2_1.txt* все числа из списка *data_lengths* через пробел. Полученный файл будет ответом на 1 вопрос теста.**"
      ]
    },
    {
      "cell_type": "code",
      "metadata": {
        "collapsed": true,
        "id": "7KQTd2MZh5y6"
      },
      "source": [
        "def write_answer_to_file(answer, file_address):\n",
        "    with open(file_address, 'w') as out_f:\n",
        "        out_f.write(str(answer))"
      ],
      "execution_count": null,
      "outputs": []
    },
    {
      "cell_type": "code",
      "metadata": {
        "collapsed": true,
        "id": "1x3gR1Qdh5y7"
      },
      "source": [
        "write_answer_to_file(''' ВАШ КОД ЗДЕСЬ ''', \n",
        "                     'answer2_1.txt')"
      ],
      "execution_count": null,
      "outputs": []
    },
    {
      "cell_type": "markdown",
      "metadata": {
        "id": "xjm3mMg7h5y7"
      },
      "source": [
        "## Часть 2. Первичный анализ данных, проверка гипотез"
      ]
    },
    {
      "cell_type": "markdown",
      "metadata": {
        "id": "EYNpuaBPh5y8"
      },
      "source": [
        "**Считаем в DataFrame подготовленный на 1 неделе файл `train_data_10users.csv`. Далее будем работать с ним.**"
      ]
    },
    {
      "cell_type": "code",
      "metadata": {
        "collapsed": true,
        "id": "xKquyDnxh5y9"
      },
      "source": [
        "train_df = pd.read_csv(os.path.join(PATH_TO_DATA, 'train_data_10users.csv'), \n",
        "                       index_col='session_id')"
      ],
      "execution_count": null,
      "outputs": []
    },
    {
      "cell_type": "code",
      "metadata": {
        "id": "kNXzRMmZh5y-",
        "outputId": "6171bcab-cd9a-4146-fec5-b2380240ca2a"
      },
      "source": [
        "train_df.head()"
      ],
      "execution_count": null,
      "outputs": [
        {
          "output_type": "execute_result",
          "data": {
            "text/html": [
              "<div>\n",
              "<table border=\"1\" class=\"dataframe\">\n",
              "  <thead>\n",
              "    <tr style=\"text-align: right;\">\n",
              "      <th></th>\n",
              "      <th>site1</th>\n",
              "      <th>site2</th>\n",
              "      <th>site3</th>\n",
              "      <th>site4</th>\n",
              "      <th>site5</th>\n",
              "      <th>site6</th>\n",
              "      <th>site7</th>\n",
              "      <th>site8</th>\n",
              "      <th>site9</th>\n",
              "      <th>site10</th>\n",
              "      <th>user_id</th>\n",
              "    </tr>\n",
              "    <tr>\n",
              "      <th>session_id</th>\n",
              "      <th></th>\n",
              "      <th></th>\n",
              "      <th></th>\n",
              "      <th></th>\n",
              "      <th></th>\n",
              "      <th></th>\n",
              "      <th></th>\n",
              "      <th></th>\n",
              "      <th></th>\n",
              "      <th></th>\n",
              "      <th></th>\n",
              "    </tr>\n",
              "  </thead>\n",
              "  <tbody>\n",
              "    <tr>\n",
              "      <th>0</th>\n",
              "      <td>193</td>\n",
              "      <td>575</td>\n",
              "      <td>133</td>\n",
              "      <td>3</td>\n",
              "      <td>133</td>\n",
              "      <td>133</td>\n",
              "      <td>3</td>\n",
              "      <td>133</td>\n",
              "      <td>203</td>\n",
              "      <td>133</td>\n",
              "      <td>31</td>\n",
              "    </tr>\n",
              "    <tr>\n",
              "      <th>1</th>\n",
              "      <td>415</td>\n",
              "      <td>192</td>\n",
              "      <td>675</td>\n",
              "      <td>255</td>\n",
              "      <td>133</td>\n",
              "      <td>31</td>\n",
              "      <td>393</td>\n",
              "      <td>3688</td>\n",
              "      <td>217</td>\n",
              "      <td>55</td>\n",
              "      <td>31</td>\n",
              "    </tr>\n",
              "    <tr>\n",
              "      <th>2</th>\n",
              "      <td>55</td>\n",
              "      <td>3</td>\n",
              "      <td>55</td>\n",
              "      <td>55</td>\n",
              "      <td>5</td>\n",
              "      <td>293</td>\n",
              "      <td>415</td>\n",
              "      <td>333</td>\n",
              "      <td>900</td>\n",
              "      <td>55</td>\n",
              "      <td>31</td>\n",
              "    </tr>\n",
              "    <tr>\n",
              "      <th>3</th>\n",
              "      <td>473</td>\n",
              "      <td>3321</td>\n",
              "      <td>473</td>\n",
              "      <td>55</td>\n",
              "      <td>55</td>\n",
              "      <td>55</td>\n",
              "      <td>55</td>\n",
              "      <td>944</td>\n",
              "      <td>199</td>\n",
              "      <td>123</td>\n",
              "      <td>31</td>\n",
              "    </tr>\n",
              "    <tr>\n",
              "      <th>4</th>\n",
              "      <td>342</td>\n",
              "      <td>55</td>\n",
              "      <td>5</td>\n",
              "      <td>3388</td>\n",
              "      <td>258</td>\n",
              "      <td>211</td>\n",
              "      <td>3674</td>\n",
              "      <td>2107</td>\n",
              "      <td>674</td>\n",
              "      <td>2107</td>\n",
              "      <td>31</td>\n",
              "    </tr>\n",
              "  </tbody>\n",
              "</table>\n",
              "</div>"
            ],
            "text/plain": [
              "            site1  site2  site3  site4  site5  site6  site7  site8  site9  \\\n",
              "session_id                                                                  \n",
              "0             193    575    133      3    133    133      3    133    203   \n",
              "1             415    192    675    255    133     31    393   3688    217   \n",
              "2              55      3     55     55      5    293    415    333    900   \n",
              "3             473   3321    473     55     55     55     55    944    199   \n",
              "4             342     55      5   3388    258    211   3674   2107    674   \n",
              "\n",
              "            site10  user_id  \n",
              "session_id                   \n",
              "0              133       31  \n",
              "1               55       31  \n",
              "2               55       31  \n",
              "3              123       31  \n",
              "4             2107       31  "
            ]
          },
          "metadata": {
            "tags": []
          },
          "execution_count": 12
        }
      ]
    },
    {
      "cell_type": "code",
      "metadata": {
        "id": "Bucbs_IZh5y_",
        "outputId": "a7c935e7-673f-40e4-cfab-143f576fac2a"
      },
      "source": [
        "train_df.info()"
      ],
      "execution_count": null,
      "outputs": [
        {
          "output_type": "stream",
          "text": [
            "<class 'pandas.core.frame.DataFrame'>\n",
            "Int64Index: 14061 entries, 0 to 14060\n",
            "Data columns (total 11 columns):\n",
            "site1      14061 non-null int64\n",
            "site2      14061 non-null int64\n",
            "site3      14061 non-null int64\n",
            "site4      14061 non-null int64\n",
            "site5      14061 non-null int64\n",
            "site6      14061 non-null int64\n",
            "site7      14061 non-null int64\n",
            "site8      14061 non-null int64\n",
            "site9      14061 non-null int64\n",
            "site10     14061 non-null int64\n",
            "user_id    14061 non-null int64\n",
            "dtypes: int64(11)\n",
            "memory usage: 1.3 MB\n"
          ],
          "name": "stdout"
        }
      ]
    },
    {
      "cell_type": "markdown",
      "metadata": {
        "id": "k7Y-M2FQh5zB"
      },
      "source": [
        "**Распределение целевого класса:**"
      ]
    },
    {
      "cell_type": "code",
      "metadata": {
        "id": "zKdFxyPbh5zB",
        "outputId": "2b89ae63-fa06-4548-c0df-574492e8c4ce"
      },
      "source": [
        "train_df['user_id'].value_counts()"
      ],
      "execution_count": null,
      "outputs": [
        {
          "output_type": "execute_result",
          "data": {
            "text/plain": [
              "128    2796\n",
              "39     2204\n",
              "207    1868\n",
              "127    1712\n",
              "237    1643\n",
              "33     1022\n",
              "50      802\n",
              "31      760\n",
              "100     720\n",
              "241     534\n",
              "Name: user_id, dtype: int64"
            ]
          },
          "metadata": {
            "tags": []
          },
          "execution_count": 14
        }
      ]
    },
    {
      "cell_type": "markdown",
      "metadata": {
        "id": "rhYmv4ehh5zC"
      },
      "source": [
        "**Посчитаем распределение числа уникальных сайтов в каждой сессии из 10 посещенных подряд сайтов.**"
      ]
    },
    {
      "cell_type": "code",
      "metadata": {
        "collapsed": true,
        "id": "WJgodxY0h5zD"
      },
      "source": [
        "num_unique_sites = [np.unique(train_df.values[i, :-1]).shape[0] \n",
        "                    for i in range(train_df.shape[0])]"
      ],
      "execution_count": null,
      "outputs": []
    },
    {
      "cell_type": "code",
      "metadata": {
        "id": "eVuPUVsPh5zD",
        "outputId": "60894b24-447b-4fcc-8207-dbb39487b76d"
      },
      "source": [
        "pd.Series(num_unique_sites).value_counts()"
      ],
      "execution_count": null,
      "outputs": [
        {
          "output_type": "execute_result",
          "data": {
            "text/plain": [
              "7     2308\n",
              "6     2197\n",
              "8     2046\n",
              "5     1735\n",
              "9     1394\n",
              "2     1246\n",
              "4     1163\n",
              "3      894\n",
              "10     651\n",
              "1      427\n",
              "dtype: int64"
            ]
          },
          "metadata": {
            "tags": []
          },
          "execution_count": 16
        }
      ]
    },
    {
      "cell_type": "code",
      "metadata": {
        "id": "1UR7mWGjh5zG",
        "outputId": "25d42525-f5aa-466d-aa00-f68335da3617"
      },
      "source": [
        "pd.Series(num_unique_sites).hist();"
      ],
      "execution_count": null,
      "outputs": [
        {
          "output_type": "display_data",
          "data": {
            "image/png": "[encoded data removed]",
            "text/plain": [
              "<matplotlib.figure.Figure at 0x113edde48>"
            ]
          },
          "metadata": {
            "tags": []
          }
        }
      ]
    },
    {
      "cell_type": "markdown",
      "metadata": {
        "id": "OTGfKPKhh5zH"
      },
      "source": [
        "**Проверьте с помощью QQ-плота и критерия Шапиро-Уилка, что эта величина распределена нормально. Сделайте вывод. Ответом на второй вопрос в тесте будет файл со словом \"YES\" или \"NO\" в зависимости от того, распределено ли нормально число уникальных сайтов в сессии.**"
      ]
    },
    {
      "cell_type": "code",
      "metadata": {
        "collapsed": true,
        "id": "9uZKWSEUh5zI"
      },
      "source": [
        "''' ВАШ КОД ЗДЕСЬ '''"
      ],
      "execution_count": null,
      "outputs": []
    },
    {
      "cell_type": "code",
      "metadata": {
        "collapsed": true,
        "id": "-uQLwHNkh5zK"
      },
      "source": [
        "''' ВАШ КОД ЗДЕСЬ '''"
      ],
      "execution_count": null,
      "outputs": []
    },
    {
      "cell_type": "code",
      "metadata": {
        "collapsed": true,
        "id": "9mYFuccch5zL"
      },
      "source": [
        "write_answer_to_file(''' ВАШ КОД ЗДЕСЬ ''', \n",
        "                     'answer2_2.txt')"
      ],
      "execution_count": null,
      "outputs": []
    },
    {
      "cell_type": "markdown",
      "metadata": {
        "id": "Pei9GWk1h5zM"
      },
      "source": [
        "**Проверьте гипотезу о том, что пользователь хотя бы раз зайдет на сайт, который он уже ранее посетил в сессии из 10 сайтов. Давайте проверим с помощью биномиального критерия для доли, что доля случаев, когда пользователь повторно посетил какой-то сайт (то есть число уникальных сайтов в сессии < 10) велика: больше 95% (обратите внимание, что альтернатива тому, что доля равна 95% –  одностороняя). Ответом на 3 вопрос в тесте будет полученное p-value.**"
      ]
    },
    {
      "cell_type": "code",
      "metadata": {
        "collapsed": true,
        "id": "Pvxho8IOh5zO"
      },
      "source": [
        "has_two_similar = (np.array(num_unique_sites) < 10).astype('int')"
      ],
      "execution_count": null,
      "outputs": []
    },
    {
      "cell_type": "code",
      "metadata": {
        "collapsed": true,
        "id": "gMlmTVUoh5zO"
      },
      "source": [
        "pi_val = stats.binom_test  ''' ВАШ КОД ЗДЕСЬ '''"
      ],
      "execution_count": null,
      "outputs": []
    },
    {
      "cell_type": "code",
      "metadata": {
        "collapsed": true,
        "id": "wKIqSTRnh5zP"
      },
      "source": [
        "write_answer_to_file(''' ВАШ КОД ЗДЕСЬ ''', \n",
        "                     'answer2_3.txt')"
      ],
      "execution_count": null,
      "outputs": []
    },
    {
      "cell_type": "markdown",
      "metadata": {
        "id": "ioemiod7h5zQ"
      },
      "source": [
        "**Постройте для этой доли 95% доверительный интервал Уилсона. Округлите границы интервала до 3 знаков после запятой и запишите через пробел в файл *answer2_4.txt*. Это будет ответом на 4 вопрос теста.**"
      ]
    },
    {
      "cell_type": "code",
      "metadata": {
        "collapsed": true,
        "id": "mda0Xy2Gh5zQ"
      },
      "source": [
        "wilson_interval = ''' ВАШ КОД ЗДЕСЬ '''"
      ],
      "execution_count": null,
      "outputs": []
    },
    {
      "cell_type": "code",
      "metadata": {
        "collapsed": true,
        "id": "77spYJGkh5zR"
      },
      "source": [
        "write_answer_to_file('{} {}'.format(round(wilson_interval[0], 3),\n",
        "                                   round(wilson_interval[1], 3)), \n",
        "                     'answer2_4.txt')"
      ],
      "execution_count": null,
      "outputs": []
    },
    {
      "cell_type": "markdown",
      "metadata": {
        "id": "LJhuqcO_h5zS"
      },
      "source": [
        "**Постройте распределение частоты посещения сайтов (сколько раз тот или иной сайт попадается в выборке) для сайтов, которые были посещены как минимум 1000 раз.**"
      ]
    },
    {
      "cell_type": "code",
      "metadata": {
        "collapsed": true,
        "id": "niWjjQBTh5zV"
      },
      "source": [
        "site_freqs = ''' ВАШ КОД ЗДЕСЬ '''"
      ],
      "execution_count": null,
      "outputs": []
    },
    {
      "cell_type": "code",
      "metadata": {
        "collapsed": true,
        "id": "_n_xIzsEh5zV"
      },
      "source": [
        "''' ВАШ КОД ЗДЕСЬ '''"
      ],
      "execution_count": null,
      "outputs": []
    },
    {
      "cell_type": "markdown",
      "metadata": {
        "id": "mX4FicHBh5zW"
      },
      "source": [
        "**Постройте 95% доверительный интервал для средней частоты появления сайта в выборке (во всей, уже не только для тех сайтов, что были посещены как минимум 1000 раз) на основе bootstrap. Используйте столько же bootstrap-подвыборок, сколько сайтов оказалось в исходной выборке по 10 пользователям. Берите подвыборки из посчитанного списка частот посещений сайтов – не надо заново считать эти частоты. Учтите, что частоту появления нуля (сайт с индексом 0 появлялся там, где сессии были короче 10 сайтов) включать не надо. Округлите границы интервала до 3 знаков после запятой и запишите через пробел в файл *answer2_5.txt*. Это будет ответом на 5 вопрос теста.**"
      ]
    },
    {
      "cell_type": "code",
      "metadata": {
        "collapsed": true,
        "id": "Jqi0vi7ph5za"
      },
      "source": [
        "def get_bootstrap_samples(data, n_samples, random_seed=17):\n",
        "    np.random.seed(random_seed)\n",
        "    indices = np.random.randint(0, len(data), (n_samples, len(data)))\n",
        "    samples = data[indices]\n",
        "    return samples"
      ],
      "execution_count": null,
      "outputs": []
    },
    {
      "cell_type": "code",
      "metadata": {
        "collapsed": true,
        "id": "vNX-MNKAh5za"
      },
      "source": [
        "def stat_intervals(stat, alpha):\n",
        "    boundaries = np.percentile(stat, \n",
        "                 [100 * alpha / 2., 100 * (1 - alpha / 2.)])\n",
        "    return boundaries"
      ],
      "execution_count": null,
      "outputs": []
    },
    {
      "cell_type": "code",
      "metadata": {
        "collapsed": true,
        "id": "OTviLNyZh5zb"
      },
      "source": [
        "''' ВАШ КОД ЗДЕСЬ '''"
      ],
      "execution_count": null,
      "outputs": []
    },
    {
      "cell_type": "code",
      "metadata": {
        "collapsed": true,
        "id": "VFrvJ7A7h5zb"
      },
      "source": [
        "write_answer_to_file('{} {}'.format(''' ВАШ КОД ЗДЕСЬ ''', \n",
        "                                    'answer2_5.txt')"
      ],
      "execution_count": null,
      "outputs": []
    },
    {
      "cell_type": "markdown",
      "metadata": {
        "id": "ApubiAMqh5zc"
      },
      "source": [
        "## Пути улучшения\n",
        "В этом проекте свобода творчества на каждом шаге, а 7 неделя проекта посвящена общему описанию (`html`, `ipynb` или `pdf`) и взаимному оцениванию проектов. Что еще можно добавить по второй части проекта:\n",
        "- можно дополнительно рассматривать сессии с параметром – длиной сессии по времени. И составить выборки, скажем, для 5-, 10-, 15- и 20-минутных сессий (это как раз пригодится в [соревновании](https://inclass.kaggle.com/c/identify-me-if-you-can4) Kaggle Inclass)\n",
        "- можно провести больше первичного анализа и проверять прочие интересные гипотезы (а больше их появится после создания признаков на следующей неделе)\n",
        "\n",
        "На 3 неделе мы займемся визуальным анализом данных и построением признаков."
      ]
    }
  ]
}