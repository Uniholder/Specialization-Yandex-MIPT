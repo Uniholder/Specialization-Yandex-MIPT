{
  "cells": [
    {
      "cell_type": "markdown",
      "metadata": {
        "id": "view-in-github",
        "colab_type": "text"
      },
      "source": [
        "<a href=\"https://colab.research.google.com/github/Uniholder/Specialization-Yandex-MIPT/blob/main/6_Final_projects/2_churn_prediction/week_2.ipynb\" target=\"_parent\"><img src=\"https://colab.research.google.com/assets/colab-badge.svg\" alt=\"Open In Colab\"/></a>"
      ]
    },
    {
      "cell_type": "code",
      "execution_count": 1,
      "metadata": {
        "colab": {
          "base_uri": "https://localhost:8080/"
        },
        "id": "7sPiQKEqjFjL",
        "outputId": "8228efb9-6cb0-460d-eaba-27fe62642b6a"
      },
      "outputs": [
        {
          "output_type": "stream",
          "name": "stdout",
          "text": [
            "--2022-08-11 12:35:18--  https://stepik.org/media/attachments/lesson/90608/_847b6cd041836e8fa914243e83d898fb_orange_small_churn_data.train\n",
            "Resolving stepik.org (stepik.org)... 13.69.75.239\n",
            "Connecting to stepik.org (stepik.org)|13.69.75.239|:443... connected.\n",
            "HTTP request sent, awaiting response... 200 OK\n",
            "Length: 23722578 (23M) [application/octet-stream]\n",
            "Saving to: ‘data/orange_small_churn_data.train’\n",
            "\n",
            "data/orange_small_c 100%[===================>]  22.62M  14.7MB/s    in 1.5s    \n",
            "\n",
            "2022-08-11 12:35:20 (14.7 MB/s) - ‘data/orange_small_churn_data.train’ saved [23722578/23722578]\n",
            "\n",
            "--2022-08-11 12:35:20--  https://stepik.org/media/attachments/lesson/90608/_ce5e9e4280a8856218f1886f007de2a4_orange_small_churn_labels.train\n",
            "Resolving stepik.org (stepik.org)... 13.69.75.239\n",
            "Connecting to stepik.org (stepik.org)|13.69.75.239|:443... connected.\n",
            "HTTP request sent, awaiting response... 200 OK\n",
            "Length: 117024 (114K) [application/octet-stream]\n",
            "Saving to: ‘data/orange_small_churn_labels.train’\n",
            "\n",
            "data/orange_small_c 100%[===================>] 114.28K   678KB/s    in 0.2s    \n",
            "\n",
            "2022-08-11 12:35:20 (678 KB/s) - ‘data/orange_small_churn_labels.train’ saved [117024/117024]\n",
            "\n"
          ]
        }
      ],
      "source": [
        "!mkdir data\n",
        "!wget -O data/orange_small_churn_data.train https://stepik.org/media/attachments/lesson/90608/_847b6cd041836e8fa914243e83d898fb_orange_small_churn_data.train\n",
        "!wget -O data/orange_small_churn_labels.train https://stepik.org/media/attachments/lesson/90608/_ce5e9e4280a8856218f1886f007de2a4_orange_small_churn_labels.train"
      ]
    },
    {
      "cell_type": "code",
      "execution_count": 2,
      "metadata": {
        "collapsed": true,
        "id": "ujagJYeYa1SR"
      },
      "outputs": [],
      "source": [
        "import pandas as pd\n",
        "import os\n",
        "\n",
        "from sklearn.model_selection import train_test_split\n",
        "\n",
        "PATH_TO_DATA = 'data'"
      ]
    },
    {
      "cell_type": "code",
      "execution_count": 3,
      "metadata": {
        "collapsed": true,
        "id": "iUvbXcAxa1SU"
      },
      "outputs": [],
      "source": [
        "df = pd.read_csv(os.path.join(PATH_TO_DATA, 'orange_small_churn_data.train'))\n",
        "labels = pd.read_csv(os.path.join(PATH_TO_DATA, 'orange_small_churn_labels.train'), header=None, squeeze=True)\n",
        "# df_train.dropna(axis=1, how='all', inplace=True)\n",
        "df['target'] = labels"
      ]
    },
    {
      "cell_type": "code",
      "execution_count": 4,
      "metadata": {
        "id": "elLHGzHka1Sg",
        "outputId": "de03b6c1-1bec-4f69-c7d5-fb70c547838a",
        "colab": {
          "base_uri": "https://localhost:8080/"
        }
      },
      "outputs": [
        {
          "output_type": "execute_result",
          "data": {
            "text/plain": [
              "(40000, 231)"
            ]
          },
          "metadata": {},
          "execution_count": 4
        }
      ],
      "source": [
        "df.shape"
      ]
    },
    {
      "cell_type": "markdown",
      "metadata": {
        "id": "KQcZ8cyR5fSA"
      },
      "source": [
        "Отделим hold-out dataset"
      ]
    },
    {
      "cell_type": "code",
      "execution_count": 5,
      "metadata": {
        "collapsed": true,
        "id": "pc6dUPfz5fSB"
      },
      "outputs": [],
      "source": [
        "df_train, df_ho = train_test_split(df, test_size=5000, shuffle=True)"
      ]
    },
    {
      "cell_type": "code",
      "execution_count": 6,
      "metadata": {
        "collapsed": true,
        "id": "lOFH6hJP5fSC"
      },
      "outputs": [],
      "source": [
        "df_ho.to_csv(os.path.join(PATH_TO_DATA, 'hold_out_dataset.csv'))"
      ]
    },
    {
      "cell_type": "markdown",
      "metadata": {
        "id": "Ma6oFgDo5fSD"
      },
      "source": [
        "Опишем способы, которыми можно обрабатывать категориальные признаки для подачи на вход модели"
      ]
    },
    {
      "cell_type": "markdown",
      "metadata": {
        "id": "IALNebfC5fSD"
      },
      "source": [
        "- one hot encoder: кодирование признаков в бинарные колонки; плохо подходит для моделей, основанных на деревьях\n",
        "    - sklearn.preprocessing.OneHotEncoder\n",
        "    - pandas.get_dummies\n",
        "- label encoder: замена значений категориальных признаков на целочисленные номера; плохо подходит для линейных моделей, так как задаёт отношения порядка на признаке, то есть добавляет ложную информацию (если реально порядка нет)\n",
        "    - sklearn.preprocessing.LabelEncoder\n",
        "    - sklearn.preprocessing.OrdinalEncoder\n",
        "- frequency encoding: кодируем значения частотой значения признака в колонке\n",
        "- mean target encoding: значения заменяются средними значениями целевой переменной внутри каждоый категории\n",
        "- Leave One Out Encoding: аналогично target encoding, но для вычисления среднего не используется текущая строка; приводит к уменьшению переобучения\n",
        "- хеширование: похоже на ohe, но получается гораздо меньше новых признаков; подходит для признаков с большим количеством уникальных значений"
      ]
    },
    {
      "cell_type": "markdown",
      "metadata": {
        "id": "vTuMIFCH5fSE"
      },
      "source": [
        "![image.png](attachment:image.png)"
      ]
    },
    {
      "cell_type": "markdown",
      "metadata": {
        "collapsed": true,
        "id": "-sc2XYIU5fSE"
      },
      "source": [
        "Ключевой метрикой качества выберем ROC AUC.\n",
        "- наша задача - бинарная классификация\n",
        "- AUC не зависит от сбалансированности выборки\n",
        "- метрика не зависит от выбора порога"
      ]
    },
    {
      "cell_type": "markdown",
      "metadata": {
        "id": "Y7Dz00aj5fSF"
      },
      "source": [
        "Вспомогательные метрики:\n",
        "- precision - чтобы понять ошибки какого рода допускает модель\n",
        "- recall\n",
        "- F1\n",
        "- log loss с весами - чтобы оценить насколько сильно абсолютные значения предсказаний отличаются от истинных"
      ]
    },
    {
      "cell_type": "markdown",
      "metadata": {
        "id": "-2esNNn05fSF"
      },
      "source": [
        "После отделения hold-out датасета остаётся 35000 строк. Возьмём количество фолдов равным 7. Тогда на кросс-валидации выборка делится в отношении 1 / 6.\n",
        "\n",
        "Стратегия кросс-валидации:\n",
        "- stratified k-fold: выборка несбалансирована, поэтому применим стратификацию\n",
        "- shuffle: перемешиваем выборку для равномерного распределения таргета по фолдам"
      ]
    }
  ],
  "metadata": {
    "colab": {
      "name": "week_1.ipynb",
      "provenance": [],
      "include_colab_link": true
    },
    "kernelspec": {
      "display_name": "Python 3",
      "language": "python",
      "name": "python3"
    },
    "language_info": {
      "codemirror_mode": {
        "name": "ipython",
        "version": 3
      },
      "file_extension": ".py",
      "mimetype": "text/x-python",
      "name": "python",
      "nbconvert_exporter": "python",
      "pygments_lexer": "ipython3",
      "version": "3.8.8"
    }
  },
  "nbformat": 4,
  "nbformat_minor": 0
}