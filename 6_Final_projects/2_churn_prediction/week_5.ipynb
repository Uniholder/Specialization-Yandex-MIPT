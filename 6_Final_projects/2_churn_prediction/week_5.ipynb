{
 "cells": [
  {
   "cell_type": "markdown",
   "metadata": {
    "id": "iYCsA0kOKzYv"
   },
   "source": [
    "# Peer-graded Assignment: Эксперименты с моделью\n",
    "\n",
    "На прошлой неделе вы поучаствовали в соревновании на kaggle и, наверняка, большинство успешно справилось с прохождением baseline, а значит пора двигаться дальше - заняться оптимизацией модели, провести серию экспериментов и построить сильное финальное решения.\n",
    "\n",
    "В этом задании вам нужно провести ряд эскпериментов, оценить качество полученных в процессе экспериментирования моделей и выбрать лучшее решение. "
   ]
  },
  {
   "cell_type": "markdown",
   "metadata": {
    "id": "Z0D6tKw0KzY5"
   },
   "source": [
    "Задание будет оцениваться на основании загруженного jupyther notebook и развернутых ответов на поставленные вопросы."
   ]
  },
  {
   "cell_type": "markdown",
   "metadata": {
    "id": "IKRF_hGkPAl-"
   },
   "source": [
    "## Данные"
   ]
  },
  {
   "cell_type": "code",
   "execution_count": null,
   "metadata": {
    "id": "mCP9bbN7asA5"
   },
   "outputs": [],
   "source": [
    "# !unzip data.zip"
   ]
  },
  {
   "cell_type": "code",
   "execution_count": null,
   "metadata": {},
   "outputs": [],
   "source": [
    "# !pip install --upgrade scikit-learn"
   ]
  },
  {
   "cell_type": "code",
   "execution_count": 1,
   "metadata": {
    "execution": {
     "iopub.execute_input": "2021-09-21T20:08:50.457684Z",
     "iopub.status.busy": "2021-09-21T20:08:50.457227Z",
     "iopub.status.idle": "2021-09-21T20:08:50.464038Z",
     "shell.execute_reply": "2021-09-21T20:08:50.463123Z",
     "shell.execute_reply.started": "2021-09-21T20:08:50.457646Z"
    },
    "id": "YEcTk6Yjep9K"
   },
   "outputs": [],
   "source": [
    "import warnings\n",
    "warnings.filterwarnings('ignore')\n",
    "\n",
    "import pandas as pd\n",
    "import os\n",
    "import numpy as np\n",
    "\n",
    "from sklearn.model_selection import train_test_split\n",
    "from sklearn.preprocessing import OrdinalEncoder, StandardScaler\n",
    "from sklearn.impute import SimpleImputer\n",
    "from sklearn.base import BaseEstimator, TransformerMixin\n",
    "from sklearn.pipeline import Pipeline\n",
    "from sklearn.compose import make_column_selector as selector, ColumnTransformer\n",
    "\n",
    "PATH_TO_DATA = 'data'\n",
    "# PATH_TO_DATA = '../input/churn-prediction-spec'"
   ]
  },
  {
   "cell_type": "code",
   "execution_count": 2,
   "metadata": {
    "execution": {
     "iopub.execute_input": "2021-09-21T20:06:21.536904Z",
     "iopub.status.busy": "2021-09-21T20:06:21.536696Z",
     "iopub.status.idle": "2021-09-21T20:06:22.498906Z",
     "shell.execute_reply": "2021-09-21T20:06:22.498010Z",
     "shell.execute_reply.started": "2021-09-21T20:06:21.536880Z"
    },
    "id": "2eVbRX4CequK"
   },
   "outputs": [],
   "source": [
    "df = pd.read_csv(os.path.join(PATH_TO_DATA, 'orange_small_churn_data.train'))\n",
    "y = pd.read_csv(os.path.join(PATH_TO_DATA, 'orange_small_churn_labels.train'), header=None, squeeze=True)"
   ]
  },
  {
   "cell_type": "code",
   "execution_count": 3,
   "metadata": {
    "execution": {
     "iopub.execute_input": "2021-09-21T20:06:22.500948Z",
     "iopub.status.busy": "2021-09-21T20:06:22.500632Z",
     "iopub.status.idle": "2021-09-21T20:06:22.689511Z",
     "shell.execute_reply": "2021-09-21T20:06:22.688678Z",
     "shell.execute_reply.started": "2021-09-21T20:06:22.500919Z"
    }
   },
   "outputs": [],
   "source": [
    "nan_cols = df.columns[df.isna().all()]\n",
    "df.drop(nan_cols, axis=1, inplace=True)"
   ]
  },
  {
   "cell_type": "code",
   "execution_count": 4,
   "metadata": {
    "execution": {
     "iopub.execute_input": "2021-09-21T20:06:22.803984Z",
     "iopub.status.busy": "2021-09-21T20:06:22.803680Z",
     "iopub.status.idle": "2021-09-21T20:06:22.808045Z",
     "shell.execute_reply": "2021-09-21T20:06:22.806986Z",
     "shell.execute_reply.started": "2021-09-21T20:06:22.803955Z"
    }
   },
   "outputs": [],
   "source": [
    "# cat_cols = df.select_dtypes(include='object').columns\n",
    "# df[cat_cols] = df[cat_cols].astype('category')"
   ]
  },
  {
   "cell_type": "code",
   "execution_count": 5,
   "metadata": {
    "execution": {
     "iopub.execute_input": "2021-09-21T20:06:22.997374Z",
     "iopub.status.busy": "2021-09-21T20:06:22.996990Z",
     "iopub.status.idle": "2021-09-21T20:06:23.077072Z",
     "shell.execute_reply": "2021-09-21T20:06:23.076174Z",
     "shell.execute_reply.started": "2021-09-21T20:06:22.997332Z"
    }
   },
   "outputs": [],
   "source": [
    "df_train, df_ho, y_train, y_valid = train_test_split(df, y, test_size=5000)"
   ]
  },
  {
   "cell_type": "code",
   "execution_count": 100,
   "metadata": {
    "execution": {
     "iopub.execute_input": "2021-09-21T20:10:28.779254Z",
     "iopub.status.busy": "2021-09-21T20:10:28.778216Z",
     "iopub.status.idle": "2021-09-21T20:10:28.785547Z",
     "shell.execute_reply": "2021-09-21T20:10:28.784684Z",
     "shell.execute_reply.started": "2021-09-21T20:10:28.779209Z"
    },
    "id": "D4VcyYGnes59"
   },
   "outputs": [],
   "source": [
    "class DataFramer(BaseEstimator, TransformerMixin):\n",
    "    def __init__(self, columns, index):\n",
    "        super().__init__()\n",
    "        self.columns = columns\n",
    "        self.index = index\n",
    "\n",
    "    def fit(self, X, y=None):\n",
    "        return self\n",
    "\n",
    "    def transform(self, X, y=None):\n",
    "        return pd.DataFrame(X, columns=self.columns)"
   ]
  },
  {
   "cell_type": "code",
   "execution_count": 98,
   "metadata": {
    "execution": {
     "iopub.execute_input": "2021-09-21T20:12:38.956137Z",
     "iopub.status.busy": "2021-09-21T20:12:38.955469Z",
     "iopub.status.idle": "2021-09-21T20:12:38.963904Z",
     "shell.execute_reply": "2021-09-21T20:12:38.962941Z",
     "shell.execute_reply.started": "2021-09-21T20:12:38.956093Z"
    },
    "id": "OTpyeDUSevJL"
   },
   "outputs": [],
   "source": [
    "numeric_transformer = Pipeline([\n",
    "    ('simple_imputer', SimpleImputer(strategy='most_frequent')),\n",
    "    ('scaler', StandardScaler())\n",
    "])\n",
    "\n",
    "categorical_transformer = Pipeline([\n",
    "    ('simple_imputer', SimpleImputer(strategy='most_frequent')),\n",
    "#     ('ordinal_encoder', OrdinalEncoder(handle_unknown='use_encoded_value',unknown_value=-1))\n",
    "])\n",
    "\n",
    "preprocessor = ColumnTransformer(transformers=[\n",
    "    ('num', numeric_transformer, selector(dtype_exclude=\"object\")),\n",
    "    ('cat', categorical_transformer, selector(dtype_include=\"object\"))\n",
    "])\n",
    "\n",
    "preprocessor_pipeline = Pipeline([\n",
    "#     ('nan_columns_dropper', NanColumnsDropper()),\n",
    "    ('preprocessor', preprocessor),\n",
    "#     ('scaler', StandardScaler()),\n",
    "    ('to_dataframe', DataFramer(df.columns, df_train.index))\n",
    "])"
   ]
  },
  {
   "cell_type": "code",
   "execution_count": 99,
   "metadata": {
    "execution": {
     "iopub.execute_input": "2021-09-21T20:12:41.899924Z",
     "iopub.status.busy": "2021-09-21T20:12:41.899603Z",
     "iopub.status.idle": "2021-09-21T20:12:43.669934Z",
     "shell.execute_reply": "2021-09-21T20:12:43.668985Z",
     "shell.execute_reply.started": "2021-09-21T20:12:41.899893Z"
    },
    "id": "ENunHbTmezNX",
    "outputId": "f2826dbb-33f1-4f8e-bb10-4e241173e1b9"
   },
   "outputs": [
    {
     "ename": "ValueError",
     "evalue": "Shape of passed values is (5000, 212), indices imply (35000, 212)",
     "output_type": "error",
     "traceback": [
      "\u001b[0;31m---------------------------------------------------------------------------\u001b[0m",
      "\u001b[0;31mValueError\u001b[0m                                Traceback (most recent call last)",
      "\u001b[0;32m<timed exec>\u001b[0m in \u001b[0;36m<module>\u001b[0;34m\u001b[0m\n",
      "\u001b[0;32m~/anaconda3/lib/python3.8/site-packages/sklearn/pipeline.py\u001b[0m in \u001b[0;36mfit_transform\u001b[0;34m(self, X, y, **fit_params)\u001b[0m\n\u001b[1;32m    385\u001b[0m             \u001b[0mfit_params_last_step\u001b[0m \u001b[0;34m=\u001b[0m \u001b[0mfit_params_steps\u001b[0m\u001b[0;34m[\u001b[0m\u001b[0mself\u001b[0m\u001b[0;34m.\u001b[0m\u001b[0msteps\u001b[0m\u001b[0;34m[\u001b[0m\u001b[0;34m-\u001b[0m\u001b[0;36m1\u001b[0m\u001b[0;34m]\u001b[0m\u001b[0;34m[\u001b[0m\u001b[0;36m0\u001b[0m\u001b[0;34m]\u001b[0m\u001b[0;34m]\u001b[0m\u001b[0;34m\u001b[0m\u001b[0;34m\u001b[0m\u001b[0m\n\u001b[1;32m    386\u001b[0m             \u001b[0;32mif\u001b[0m \u001b[0mhasattr\u001b[0m\u001b[0;34m(\u001b[0m\u001b[0mlast_step\u001b[0m\u001b[0;34m,\u001b[0m \u001b[0;34m'fit_transform'\u001b[0m\u001b[0;34m)\u001b[0m\u001b[0;34m:\u001b[0m\u001b[0;34m\u001b[0m\u001b[0;34m\u001b[0m\u001b[0m\n\u001b[0;32m--> 387\u001b[0;31m                 \u001b[0;32mreturn\u001b[0m \u001b[0mlast_step\u001b[0m\u001b[0;34m.\u001b[0m\u001b[0mfit_transform\u001b[0m\u001b[0;34m(\u001b[0m\u001b[0mXt\u001b[0m\u001b[0;34m,\u001b[0m \u001b[0my\u001b[0m\u001b[0;34m,\u001b[0m \u001b[0;34m**\u001b[0m\u001b[0mfit_params_last_step\u001b[0m\u001b[0;34m)\u001b[0m\u001b[0;34m\u001b[0m\u001b[0;34m\u001b[0m\u001b[0m\n\u001b[0m\u001b[1;32m    388\u001b[0m             \u001b[0;32melse\u001b[0m\u001b[0;34m:\u001b[0m\u001b[0;34m\u001b[0m\u001b[0;34m\u001b[0m\u001b[0m\n\u001b[1;32m    389\u001b[0m                 return last_step.fit(Xt, y,\n",
      "\u001b[0;32m~/anaconda3/lib/python3.8/site-packages/sklearn/base.py\u001b[0m in \u001b[0;36mfit_transform\u001b[0;34m(self, X, y, **fit_params)\u001b[0m\n\u001b[1;32m    697\u001b[0m         \u001b[0;32mif\u001b[0m \u001b[0my\u001b[0m \u001b[0;32mis\u001b[0m \u001b[0;32mNone\u001b[0m\u001b[0;34m:\u001b[0m\u001b[0;34m\u001b[0m\u001b[0;34m\u001b[0m\u001b[0m\n\u001b[1;32m    698\u001b[0m             \u001b[0;31m# fit method of arity 1 (unsupervised transformation)\u001b[0m\u001b[0;34m\u001b[0m\u001b[0;34m\u001b[0m\u001b[0;34m\u001b[0m\u001b[0m\n\u001b[0;32m--> 699\u001b[0;31m             \u001b[0;32mreturn\u001b[0m \u001b[0mself\u001b[0m\u001b[0;34m.\u001b[0m\u001b[0mfit\u001b[0m\u001b[0;34m(\u001b[0m\u001b[0mX\u001b[0m\u001b[0;34m,\u001b[0m \u001b[0;34m**\u001b[0m\u001b[0mfit_params\u001b[0m\u001b[0;34m)\u001b[0m\u001b[0;34m.\u001b[0m\u001b[0mtransform\u001b[0m\u001b[0;34m(\u001b[0m\u001b[0mX\u001b[0m\u001b[0;34m)\u001b[0m\u001b[0;34m\u001b[0m\u001b[0;34m\u001b[0m\u001b[0m\n\u001b[0m\u001b[1;32m    700\u001b[0m         \u001b[0;32melse\u001b[0m\u001b[0;34m:\u001b[0m\u001b[0;34m\u001b[0m\u001b[0;34m\u001b[0m\u001b[0m\n\u001b[1;32m    701\u001b[0m             \u001b[0;31m# fit method of arity 2 (supervised transformation)\u001b[0m\u001b[0;34m\u001b[0m\u001b[0;34m\u001b[0m\u001b[0;34m\u001b[0m\u001b[0m\n",
      "\u001b[0;32m<ipython-input-87-1c92430fc4a3>\u001b[0m in \u001b[0;36mtransform\u001b[0;34m(self, X, y)\u001b[0m\n\u001b[1;32m      9\u001b[0m \u001b[0;34m\u001b[0m\u001b[0m\n\u001b[1;32m     10\u001b[0m     \u001b[0;32mdef\u001b[0m \u001b[0mtransform\u001b[0m\u001b[0;34m(\u001b[0m\u001b[0mself\u001b[0m\u001b[0;34m,\u001b[0m \u001b[0mX\u001b[0m\u001b[0;34m,\u001b[0m \u001b[0my\u001b[0m\u001b[0;34m=\u001b[0m\u001b[0;32mNone\u001b[0m\u001b[0;34m)\u001b[0m\u001b[0;34m:\u001b[0m\u001b[0;34m\u001b[0m\u001b[0;34m\u001b[0m\u001b[0m\n\u001b[0;32m---> 11\u001b[0;31m         \u001b[0;32mreturn\u001b[0m \u001b[0mpd\u001b[0m\u001b[0;34m.\u001b[0m\u001b[0mDataFrame\u001b[0m\u001b[0;34m(\u001b[0m\u001b[0mX\u001b[0m\u001b[0;34m,\u001b[0m \u001b[0mcolumns\u001b[0m\u001b[0;34m=\u001b[0m\u001b[0mself\u001b[0m\u001b[0;34m.\u001b[0m\u001b[0mcolumns\u001b[0m\u001b[0;34m,\u001b[0m \u001b[0mindex\u001b[0m\u001b[0;34m=\u001b[0m\u001b[0mself\u001b[0m\u001b[0;34m.\u001b[0m\u001b[0mindex\u001b[0m\u001b[0;34m)\u001b[0m\u001b[0;34m\u001b[0m\u001b[0;34m\u001b[0m\u001b[0m\n\u001b[0m",
      "\u001b[0;32m~/anaconda3/lib/python3.8/site-packages/pandas/core/frame.py\u001b[0m in \u001b[0;36m__init__\u001b[0;34m(self, data, index, columns, dtype, copy)\u001b[0m\n\u001b[1;32m    670\u001b[0m                 )\n\u001b[1;32m    671\u001b[0m             \u001b[0;32melse\u001b[0m\u001b[0;34m:\u001b[0m\u001b[0;34m\u001b[0m\u001b[0;34m\u001b[0m\u001b[0m\n\u001b[0;32m--> 672\u001b[0;31m                 mgr = ndarray_to_mgr(\n\u001b[0m\u001b[1;32m    673\u001b[0m                     \u001b[0mdata\u001b[0m\u001b[0;34m,\u001b[0m\u001b[0;34m\u001b[0m\u001b[0;34m\u001b[0m\u001b[0m\n\u001b[1;32m    674\u001b[0m                     \u001b[0mindex\u001b[0m\u001b[0;34m,\u001b[0m\u001b[0;34m\u001b[0m\u001b[0;34m\u001b[0m\u001b[0m\n",
      "\u001b[0;32m~/anaconda3/lib/python3.8/site-packages/pandas/core/internals/construction.py\u001b[0m in \u001b[0;36mndarray_to_mgr\u001b[0;34m(values, index, columns, dtype, copy, typ)\u001b[0m\n\u001b[1;32m    322\u001b[0m     )\n\u001b[1;32m    323\u001b[0m \u001b[0;34m\u001b[0m\u001b[0m\n\u001b[0;32m--> 324\u001b[0;31m     \u001b[0m_check_values_indices_shape_match\u001b[0m\u001b[0;34m(\u001b[0m\u001b[0mvalues\u001b[0m\u001b[0;34m,\u001b[0m \u001b[0mindex\u001b[0m\u001b[0;34m,\u001b[0m \u001b[0mcolumns\u001b[0m\u001b[0;34m)\u001b[0m\u001b[0;34m\u001b[0m\u001b[0;34m\u001b[0m\u001b[0m\n\u001b[0m\u001b[1;32m    325\u001b[0m \u001b[0;34m\u001b[0m\u001b[0m\n\u001b[1;32m    326\u001b[0m     \u001b[0;32mif\u001b[0m \u001b[0mtyp\u001b[0m \u001b[0;34m==\u001b[0m \u001b[0;34m\"array\"\u001b[0m\u001b[0;34m:\u001b[0m\u001b[0;34m\u001b[0m\u001b[0;34m\u001b[0m\u001b[0m\n",
      "\u001b[0;32m~/anaconda3/lib/python3.8/site-packages/pandas/core/internals/construction.py\u001b[0m in \u001b[0;36m_check_values_indices_shape_match\u001b[0;34m(values, index, columns)\u001b[0m\n\u001b[1;32m    391\u001b[0m         \u001b[0mpassed\u001b[0m \u001b[0;34m=\u001b[0m \u001b[0mvalues\u001b[0m\u001b[0;34m.\u001b[0m\u001b[0mshape\u001b[0m\u001b[0;34m\u001b[0m\u001b[0;34m\u001b[0m\u001b[0m\n\u001b[1;32m    392\u001b[0m         \u001b[0mimplied\u001b[0m \u001b[0;34m=\u001b[0m \u001b[0;34m(\u001b[0m\u001b[0mlen\u001b[0m\u001b[0;34m(\u001b[0m\u001b[0mindex\u001b[0m\u001b[0;34m)\u001b[0m\u001b[0;34m,\u001b[0m \u001b[0mlen\u001b[0m\u001b[0;34m(\u001b[0m\u001b[0mcolumns\u001b[0m\u001b[0;34m)\u001b[0m\u001b[0;34m)\u001b[0m\u001b[0;34m\u001b[0m\u001b[0;34m\u001b[0m\u001b[0m\n\u001b[0;32m--> 393\u001b[0;31m         \u001b[0;32mraise\u001b[0m \u001b[0mValueError\u001b[0m\u001b[0;34m(\u001b[0m\u001b[0;34mf\"Shape of passed values is {passed}, indices imply {implied}\"\u001b[0m\u001b[0;34m)\u001b[0m\u001b[0;34m\u001b[0m\u001b[0;34m\u001b[0m\u001b[0m\n\u001b[0m\u001b[1;32m    394\u001b[0m \u001b[0;34m\u001b[0m\u001b[0m\n\u001b[1;32m    395\u001b[0m \u001b[0;34m\u001b[0m\u001b[0m\n",
      "\u001b[0;31mValueError\u001b[0m: Shape of passed values is (5000, 212), indices imply (35000, 212)"
     ]
    }
   ],
   "source": [
    "%%time\n",
    "X_train = preprocessor_pipeline.fit_transform(df_train)\n",
    "X_valid = preprocessor_pipeline.fit_transform(df_ho)\n",
    "X_train"
   ]
  },
  {
   "cell_type": "markdown",
   "metadata": {
    "id": "7nvlIH3kO9Pp"
   },
   "source": [
    "## Модель"
   ]
  },
  {
   "cell_type": "code",
   "execution_count": 9,
   "metadata": {
    "id": "7DFWzqGZfEHq"
   },
   "outputs": [],
   "source": [
    "# !pip install catboost"
   ]
  },
  {
   "cell_type": "code",
   "execution_count": 11,
   "metadata": {
    "execution": {
     "iopub.execute_input": "2021-09-21T20:09:18.714460Z",
     "iopub.status.busy": "2021-09-21T20:09:18.713284Z",
     "iopub.status.idle": "2021-09-21T20:09:18.806908Z",
     "shell.execute_reply": "2021-09-21T20:09:18.806177Z",
     "shell.execute_reply.started": "2021-09-21T20:09:18.714391Z"
    },
    "id": "piMLSmZvfAoe"
   },
   "outputs": [],
   "source": [
    "from sklearn.model_selection import cross_val_score, StratifiedShuffleSplit\n",
    "from sklearn.linear_model import RidgeClassifier, LogisticRegression, SGDClassifier\n",
    "# from sklearn.ensemble import RandomForestClassifier, GradientBoostingClassifier\n",
    "from sklearn.metrics import roc_auc_score\n",
    "from sklearn.pipeline import Pipeline\n",
    "\n",
    "from catboost import CatBoostClassifier"
   ]
  },
  {
   "cell_type": "code",
   "execution_count": 12,
   "metadata": {
    "execution": {
     "iopub.execute_input": "2021-09-21T20:09:20.359646Z",
     "iopub.status.busy": "2021-09-21T20:09:20.358830Z",
     "iopub.status.idle": "2021-09-21T20:09:20.363812Z",
     "shell.execute_reply": "2021-09-21T20:09:20.363109Z",
     "shell.execute_reply.started": "2021-09-21T20:09:20.359580Z"
    },
    "id": "UULBZTdbfCUB"
   },
   "outputs": [],
   "source": [
    "cv = StratifiedShuffleSplit(n_splits=8, random_state=2179)"
   ]
  },
  {
   "cell_type": "code",
   "execution_count": 13,
   "metadata": {
    "execution": {
     "iopub.execute_input": "2021-09-21T20:13:01.355048Z",
     "iopub.status.busy": "2021-09-21T20:13:01.354721Z",
     "iopub.status.idle": "2021-09-21T20:13:01.377842Z",
     "shell.execute_reply": "2021-09-21T20:13:01.377041Z",
     "shell.execute_reply.started": "2021-09-21T20:13:01.355013Z"
    },
    "id": "TFQ-TWJOqU2w"
   },
   "outputs": [],
   "source": [
    "model = CatBoostClassifier(\n",
    "    max_depth=6, \n",
    "    n_estimators=100, \n",
    "    cat_features=df_train.select_dtypes(include='object').columns.to_list()\n",
    ")\n",
    "\n",
    "# model = LogisticRegression(solver='liblinear')"
   ]
  },
  {
   "cell_type": "code",
   "execution_count": 14,
   "metadata": {
    "id": "wkUX7Qmrz1Zc",
    "outputId": "54f1cd80-3268-42e0-a0e2-7960884dac0a",
    "scrolled": true
   },
   "outputs": [
    {
     "name": "stdout",
     "output_type": "stream",
     "text": [
      "Learning rate set to 0.388375\n",
      "0:\tlearn: 0.3926711\ttotal: 92.7ms\tremaining: 9.18s\n",
      "1:\tlearn: 0.3051129\ttotal: 128ms\tremaining: 6.27s\n",
      "2:\tlearn: 0.2669722\ttotal: 163ms\tremaining: 5.26s\n",
      "3:\tlearn: 0.2578387\ttotal: 199ms\tremaining: 4.78s\n",
      "4:\tlearn: 0.2543349\ttotal: 217ms\tremaining: 4.12s\n",
      "5:\tlearn: 0.2485871\ttotal: 241ms\tremaining: 3.78s\n",
      "6:\tlearn: 0.2446862\ttotal: 266ms\tremaining: 3.53s\n",
      "7:\tlearn: 0.2429481\ttotal: 281ms\tremaining: 3.23s\n",
      "8:\tlearn: 0.2418145\ttotal: 303ms\tremaining: 3.06s\n",
      "9:\tlearn: 0.2404157\ttotal: 328ms\tremaining: 2.95s\n",
      "10:\tlearn: 0.2388591\ttotal: 350ms\tremaining: 2.83s\n",
      "11:\tlearn: 0.2380175\ttotal: 377ms\tremaining: 2.77s\n",
      "12:\tlearn: 0.2371690\ttotal: 403ms\tremaining: 2.7s\n",
      "13:\tlearn: 0.2348770\ttotal: 427ms\tremaining: 2.62s\n",
      "14:\tlearn: 0.2344648\ttotal: 444ms\tremaining: 2.52s\n",
      "15:\tlearn: 0.2341658\ttotal: 470ms\tremaining: 2.46s\n",
      "16:\tlearn: 0.2335697\ttotal: 492ms\tremaining: 2.4s\n",
      "17:\tlearn: 0.2332697\ttotal: 514ms\tremaining: 2.34s\n",
      "18:\tlearn: 0.2329656\ttotal: 537ms\tremaining: 2.29s\n",
      "19:\tlearn: 0.2323231\ttotal: 560ms\tremaining: 2.24s\n",
      "20:\tlearn: 0.2318765\ttotal: 589ms\tremaining: 2.22s\n",
      "21:\tlearn: 0.2313910\ttotal: 617ms\tremaining: 2.19s\n",
      "22:\tlearn: 0.2303930\ttotal: 641ms\tremaining: 2.15s\n",
      "23:\tlearn: 0.2298717\ttotal: 663ms\tremaining: 2.1s\n",
      "24:\tlearn: 0.2294071\ttotal: 686ms\tremaining: 2.06s\n",
      "25:\tlearn: 0.2291425\ttotal: 706ms\tremaining: 2.01s\n",
      "26:\tlearn: 0.2290058\ttotal: 729ms\tremaining: 1.97s\n",
      "27:\tlearn: 0.2289316\ttotal: 748ms\tremaining: 1.92s\n",
      "28:\tlearn: 0.2284807\ttotal: 771ms\tremaining: 1.89s\n",
      "29:\tlearn: 0.2284473\ttotal: 782ms\tremaining: 1.82s\n",
      "30:\tlearn: 0.2275931\ttotal: 807ms\tremaining: 1.79s\n",
      "31:\tlearn: 0.2266076\ttotal: 830ms\tremaining: 1.76s\n",
      "32:\tlearn: 0.2258543\ttotal: 853ms\tremaining: 1.73s\n",
      "33:\tlearn: 0.2252631\ttotal: 874ms\tremaining: 1.7s\n",
      "34:\tlearn: 0.2252132\ttotal: 893ms\tremaining: 1.66s\n",
      "35:\tlearn: 0.2244721\ttotal: 915ms\tremaining: 1.63s\n",
      "36:\tlearn: 0.2244193\ttotal: 935ms\tremaining: 1.59s\n",
      "37:\tlearn: 0.2236650\ttotal: 957ms\tremaining: 1.56s\n",
      "38:\tlearn: 0.2235756\ttotal: 977ms\tremaining: 1.53s\n",
      "39:\tlearn: 0.2226254\ttotal: 1s\tremaining: 1.5s\n",
      "40:\tlearn: 0.2222135\ttotal: 1.03s\tremaining: 1.48s\n",
      "41:\tlearn: 0.2218854\ttotal: 1.05s\tremaining: 1.45s\n",
      "42:\tlearn: 0.2215044\ttotal: 1.07s\tremaining: 1.42s\n",
      "43:\tlearn: 0.2209498\ttotal: 1.09s\tremaining: 1.39s\n",
      "44:\tlearn: 0.2201977\ttotal: 1.11s\tremaining: 1.36s\n",
      "45:\tlearn: 0.2197232\ttotal: 1.14s\tremaining: 1.33s\n",
      "46:\tlearn: 0.2196278\ttotal: 1.16s\tremaining: 1.3s\n",
      "47:\tlearn: 0.2194375\ttotal: 1.18s\tremaining: 1.28s\n",
      "48:\tlearn: 0.2193588\ttotal: 1.2s\tremaining: 1.25s\n",
      "49:\tlearn: 0.2193107\ttotal: 1.22s\tremaining: 1.22s\n",
      "50:\tlearn: 0.2188381\ttotal: 1.24s\tremaining: 1.19s\n",
      "51:\tlearn: 0.2187503\ttotal: 1.26s\tremaining: 1.17s\n",
      "52:\tlearn: 0.2184318\ttotal: 1.28s\tremaining: 1.14s\n",
      "53:\tlearn: 0.2183480\ttotal: 1.31s\tremaining: 1.11s\n",
      "54:\tlearn: 0.2182777\ttotal: 1.33s\tremaining: 1.08s\n",
      "55:\tlearn: 0.2177289\ttotal: 1.35s\tremaining: 1.06s\n",
      "56:\tlearn: 0.2175647\ttotal: 1.37s\tremaining: 1.04s\n",
      "57:\tlearn: 0.2172204\ttotal: 1.4s\tremaining: 1.01s\n",
      "58:\tlearn: 0.2169025\ttotal: 1.43s\tremaining: 992ms\n",
      "59:\tlearn: 0.2163363\ttotal: 1.45s\tremaining: 970ms\n",
      "60:\tlearn: 0.2163073\ttotal: 1.48s\tremaining: 943ms\n",
      "61:\tlearn: 0.2160400\ttotal: 1.5s\tremaining: 917ms\n",
      "62:\tlearn: 0.2156157\ttotal: 1.52s\tremaining: 893ms\n",
      "63:\tlearn: 0.2153463\ttotal: 1.54s\tremaining: 868ms\n",
      "64:\tlearn: 0.2147889\ttotal: 1.57s\tremaining: 844ms\n",
      "65:\tlearn: 0.2147757\ttotal: 1.59s\tremaining: 819ms\n",
      "66:\tlearn: 0.2138336\ttotal: 1.61s\tremaining: 796ms\n",
      "67:\tlearn: 0.2137759\ttotal: 1.64s\tremaining: 770ms\n",
      "68:\tlearn: 0.2135704\ttotal: 1.66s\tremaining: 745ms\n",
      "69:\tlearn: 0.2131922\ttotal: 1.68s\tremaining: 722ms\n",
      "70:\tlearn: 0.2126555\ttotal: 1.71s\tremaining: 698ms\n",
      "71:\tlearn: 0.2124372\ttotal: 1.73s\tremaining: 673ms\n",
      "72:\tlearn: 0.2121657\ttotal: 1.75s\tremaining: 648ms\n",
      "73:\tlearn: 0.2114494\ttotal: 1.78s\tremaining: 624ms\n",
      "74:\tlearn: 0.2112689\ttotal: 1.8s\tremaining: 600ms\n",
      "75:\tlearn: 0.2107572\ttotal: 1.82s\tremaining: 576ms\n",
      "76:\tlearn: 0.2100790\ttotal: 1.84s\tremaining: 551ms\n",
      "77:\tlearn: 0.2093571\ttotal: 1.87s\tremaining: 527ms\n",
      "78:\tlearn: 0.2092994\ttotal: 1.89s\tremaining: 502ms\n",
      "79:\tlearn: 0.2084329\ttotal: 1.91s\tremaining: 478ms\n",
      "80:\tlearn: 0.2081334\ttotal: 1.93s\tremaining: 453ms\n",
      "81:\tlearn: 0.2076198\ttotal: 1.96s\tremaining: 429ms\n",
      "82:\tlearn: 0.2072117\ttotal: 1.98s\tremaining: 405ms\n",
      "83:\tlearn: 0.2066281\ttotal: 2s\tremaining: 382ms\n",
      "84:\tlearn: 0.2063449\ttotal: 2.03s\tremaining: 358ms\n",
      "85:\tlearn: 0.2059357\ttotal: 2.05s\tremaining: 333ms\n",
      "86:\tlearn: 0.2055469\ttotal: 2.07s\tremaining: 309ms\n",
      "87:\tlearn: 0.2052574\ttotal: 2.09s\tremaining: 285ms\n",
      "88:\tlearn: 0.2049234\ttotal: 2.11s\tremaining: 261ms\n",
      "89:\tlearn: 0.2041383\ttotal: 2.14s\tremaining: 238ms\n",
      "90:\tlearn: 0.2037438\ttotal: 2.16s\tremaining: 214ms\n",
      "91:\tlearn: 0.2030865\ttotal: 2.19s\tremaining: 190ms\n",
      "92:\tlearn: 0.2028564\ttotal: 2.21s\tremaining: 167ms\n",
      "93:\tlearn: 0.2023456\ttotal: 2.24s\tremaining: 143ms\n",
      "94:\tlearn: 0.2022857\ttotal: 2.26s\tremaining: 119ms\n",
      "95:\tlearn: 0.2022659\ttotal: 2.29s\tremaining: 95.3ms\n",
      "96:\tlearn: 0.2017599\ttotal: 2.31s\tremaining: 71.6ms\n",
      "97:\tlearn: 0.2011307\ttotal: 2.34s\tremaining: 47.8ms\n",
      "98:\tlearn: 0.2007255\ttotal: 2.36s\tremaining: 23.9ms\n",
      "99:\tlearn: 0.2000823\ttotal: 2.4s\tremaining: 0us\n",
      "0.726979139706712\n",
      "CPU times: user 24.9 s, sys: 3.19 s, total: 28.1 s\n",
      "Wall time: 3.41 s\n"
     ]
    }
   ],
   "source": [
    "%%time\n",
    "model.fit(X_train, y_train)\n",
    "print(roc_auc_score(y_valid, model.predict_proba(X_valid)[:, 1]))"
   ]
  },
  {
   "cell_type": "code",
   "execution_count": 15,
   "metadata": {
    "execution": {
     "iopub.execute_input": "2021-09-21T20:13:09.274020Z",
     "iopub.status.busy": "2021-09-21T20:13:09.273751Z",
     "iopub.status.idle": "2021-09-21T20:13:09.295691Z",
     "shell.execute_reply": "2021-09-21T20:13:09.294774Z",
     "shell.execute_reply.started": "2021-09-21T20:13:09.273992Z"
    }
   },
   "outputs": [],
   "source": [
    "model = CatBoostClassifier(\n",
    "    max_depth=6, \n",
    "    n_estimators=100, \n",
    "    cat_features=df_train.select_dtypes(include='object').columns.to_list(),\n",
    "    logging_level='Silent'\n",
    ")\n",
    "\n",
    "pipeline = Pipeline([\n",
    "    ('preprocessor', preprocessor_pipeline),\n",
    "    ('model', model)\n",
    "])"
   ]
  },
  {
   "cell_type": "code",
   "execution_count": 16,
   "metadata": {
    "execution": {
     "iopub.execute_input": "2021-09-21T20:14:46.364637Z",
     "iopub.status.busy": "2021-09-21T20:14:46.364289Z",
     "iopub.status.idle": "2021-09-21T20:15:37.819377Z",
     "shell.execute_reply": "2021-09-21T20:15:37.818538Z",
     "shell.execute_reply.started": "2021-09-21T20:14:46.364585Z"
    },
    "id": "E6glefHgubRT",
    "outputId": "1430f019-ed2c-40a4-8ae3-42f24cb4b394"
   },
   "outputs": [
    {
     "name": "stdout",
     "output_type": "stream",
     "text": [
      "[0.7047796  0.73525265 0.7084184  0.71766688 0.73186846 0.72689885\n",
      " 0.71072286 0.72736917] \n",
      " 0.7203721079358194\n",
      "CPU times: user 1.09 s, sys: 310 ms, total: 1.4 s\n",
      "Wall time: 32.4 s\n"
     ]
    }
   ],
   "source": [
    "%%time\n",
    "scores = cross_val_score(estimator=pipeline, \n",
    "                         X=df_train, \n",
    "                         y=y_train, \n",
    "                         cv=cv, \n",
    "                         n_jobs=-1, \n",
    "                         scoring='roc_auc',\n",
    "                         error_score='raise')\n",
    "print(scores, '\\n', scores.mean())"
   ]
  },
  {
   "cell_type": "code",
   "execution_count": null,
   "metadata": {
    "id": "VL7F2u4GMzL8",
    "outputId": "2eb8d1bb-8097-41ee-fa70-b8d57a700778"
   },
   "outputs": [],
   "source": [
    "# %%time\n",
    "# gb_classifier = GradientBoostingClassifier(random_state=2179)\n",
    "# gb_classifier.fit(X_train, y_train)\n",
    "# print(roc_auc_score(y_valid, gb_classifier.predict_proba(X_valid)[:, 1]))"
   ]
  },
  {
   "cell_type": "markdown",
   "metadata": {},
   "source": [
    "|Модель|ho ROC AUC|cv ROC AUC|\n",
    "|-|-|-|\n",
    "|CatBoost|0.726979139706712|0.7203721079358194|"
   ]
  },
  {
   "cell_type": "markdown",
   "metadata": {
    "id": "JxG-D4arKzY-"
   },
   "source": [
    "# Инструкции"
   ]
  },
  {
   "cell_type": "markdown",
   "metadata": {},
   "source": [
    "## 1. Learning curve"
   ]
  },
  {
   "cell_type": "markdown",
   "metadata": {
    "id": "BI8rTRQbKzY_"
   },
   "source": [
    "1\\. Начнем с простого. Давайте оценим как много объектов действительно нужно для построения качественной модели. Для обучения доступна достаточно большая выборка и может так оказаться, что начиная с некоторого момента рост размера обучающей выборки перестает влиять на качество модели. Постройте кривые обучения, обучая модель на выборках разного размера начиная с небольшого количество объектов в обучающей выборке и постепенно наращивая её размер с некоторым шагом. Обратите внимание на `sklearn.model_selection.learning_curve`"
   ]
  },
  {
   "cell_type": "code",
   "execution_count": 17,
   "metadata": {
    "id": "9HC8q97nKzZC"
   },
   "outputs": [],
   "source": [
    "from sklearn.model_selection import  learning_curve\n",
    "\n",
    "from matplotlib import pyplot as plt\n",
    "%matplotlib inline\n",
    "plt.rcParams['figure.figsize'] = (13, 8)\n",
    "import seaborn as sns\n",
    "sns.set()"
   ]
  },
  {
   "cell_type": "code",
   "execution_count": 19,
   "metadata": {
    "id": "f1QPjeUAYUya"
   },
   "outputs": [
    {
     "name": "stdout",
     "output_type": "stream",
     "text": [
      "CPU times: user 13.5 s, sys: 3.4 s, total: 16.9 s\n",
      "Wall time: 2min 8s\n"
     ]
    }
   ],
   "source": [
    "%%time\n",
    "train_sizes_abs, train_scores, test_scores, fit_times, score_times = learning_curve(\n",
    "    estimator=model, # catboost\n",
    "    X=X_train,\n",
    "    y=y_train,\n",
    "    cv=cv,\n",
    "    scoring='roc_auc',\n",
    "    n_jobs=-1,\n",
    "    return_times=True\n",
    ")"
   ]
  },
  {
   "cell_type": "code",
   "execution_count": 20,
   "metadata": {},
   "outputs": [
    {
     "data": {
      "image/png": "[encoded data removed]",
      "text/plain": [
       "<Figure size 936x576 with 1 Axes>"
      ]
     },
     "metadata": {},
     "output_type": "display_data"
    }
   ],
   "source": [
    "plt.plot(train_sizes_abs, train_scores.mean(axis=1), label='Train')\n",
    "plt.plot(train_sizes_abs, test_scores.mean(axis=1), label='Test')\n",
    "plt.legend()\n",
    "plt.xlabel('Размер обучающей выборки')\n",
    "plt.ylabel('ROC AUC')\n",
    "plt.title('Learning curves');"
   ]
  },
  {
   "cell_type": "markdown",
   "metadata": {},
   "source": [
    "## 2. Balancing"
   ]
  },
  {
   "cell_type": "markdown",
   "metadata": {
    "id": "05zahwi5KzZF"
   },
   "source": [
    "2\\. Часто несбалансированные по классам выборки приводят к различным проблемам при обучении моделей. Давайте попробуем по-разному обработать выборку, поиграть с распределением объектов по классам и сделать выводы о том, как соотношение классов влияет на качество модели."
   ]
  },
  {
   "cell_type": "markdown",
   "metadata": {},
   "source": [
    "### 2.1 Веса"
   ]
  },
  {
   "cell_type": "markdown",
   "metadata": {
    "id": "fioUkJaiKzZH"
   },
   "source": [
    "2.1\\. Задайте веса объектам так, чтобы соотношение классов с учетом весов объектов изменилось. Попробуйте не менее трёх различных вариантов весов. Меняются ли результаты классификации? Как это сказывается на качестве модели? Какой вариант выглядит наиболее оптимальным с точки зрения качества?"
   ]
  },
  {
   "cell_type": "code",
   "execution_count": 21,
   "metadata": {},
   "outputs": [
    {
     "data": {
      "text/plain": [
       "(0.08088076341064204, 12.363879343260786)"
      ]
     },
     "execution_count": 21,
     "metadata": {},
     "output_type": "execute_result"
    }
   ],
   "source": [
    "y_train.value_counts()[1] / y_train.value_counts()[-1], y_train.value_counts()[-1] / y_train.value_counts()[1]"
   ]
  },
  {
   "cell_type": "code",
   "execution_count": 34,
   "metadata": {},
   "outputs": [],
   "source": [
    "model = CatBoostClassifier(\n",
    "    max_depth=6, \n",
    "    n_estimators=100, \n",
    "    cat_features=df_train.select_dtypes(include='object').columns.to_list(),\n",
    "    logging_level='Silent',\n",
    "#     auto_class_weights='Balanced',\n",
    "    scale_pos_weight=12\n",
    ")\n",
    "\n",
    "pipeline = Pipeline([\n",
    "    ('preprocessor', preprocessor_pipeline),\n",
    "    ('model', model)\n",
    "])"
   ]
  },
  {
   "cell_type": "code",
   "execution_count": 35,
   "metadata": {},
   "outputs": [
    {
     "name": "stdout",
     "output_type": "stream",
     "text": [
      "0.6914508211210395\n",
      "CPU times: user 25.8 s, sys: 2.74 s, total: 28.5 s\n",
      "Wall time: 3.42 s\n"
     ]
    }
   ],
   "source": [
    "%%time\n",
    "model.fit(X_train, y_train)\n",
    "print(roc_auc_score(y_valid, model.predict_proba(X_valid)[:, 1]))"
   ]
  },
  {
   "cell_type": "code",
   "execution_count": 36,
   "metadata": {},
   "outputs": [
    {
     "name": "stdout",
     "output_type": "stream",
     "text": [
      "[0.66853066 0.72201175 0.68848102 0.69143025 0.69869017 0.71845664\n",
      " 0.68961497 0.70580393] \n",
      " 0.6978774241002599\n",
      "CPU times: user 1.04 s, sys: 53.7 ms, total: 1.09 s\n",
      "Wall time: 32 s\n"
     ]
    }
   ],
   "source": [
    "%%time\n",
    "scores = cross_val_score(estimator=pipeline, \n",
    "                         X=df_train, \n",
    "                         y=y_train, \n",
    "                         cv=cv, \n",
    "                         n_jobs=-1, \n",
    "                         scoring='roc_auc')\n",
    "print(scores, '\\n', scores.mean())"
   ]
  },
  {
   "cell_type": "markdown",
   "metadata": {},
   "source": [
    "|parameter|hold out ROC AUC|cv ROC AUC|\n",
    "|-|-|-|\n",
    "|no|0.726979139706712|0.7203721079358194|\n",
    "|auto_class_weights='Balanced'|0.6942507349698442|0.6917056341913065|\n",
    "|auto_class_weights='SqrtBalanced'|0.6963278957932516|0.7072319875146754|\n",
    "|scale_pos_weight=12|0.6914508211210395|0.6978774241002599|\n",
    "|scale_pos_weight=0.08|0.7249339537667319|0.7268670228064633|"
   ]
  },
  {
   "cell_type": "markdown",
   "metadata": {},
   "source": [
    "### 2.2 Undersampling"
   ]
  },
  {
   "cell_type": "markdown",
   "metadata": {
    "id": "Z7jpQTm0KzZL"
   },
   "source": [
    "2.2\\. Примените к выборке технологию undersampling: для этого нужно убрать из обучения некоторое количество объектов большего класса таким образом, чтобы соотношение классов изменилось. Попробуйте не менее трёх различных вариантов undersampling (варианты могут отличаться как по количество отфильтрованных объектов, так и по принципу выборка объектов для отсеивания из выборки). Меняются ли результаты классификации? Как это сказывается на качестве модели? Какой вариант выглядит наиболее оптимальным с точки зрения качества?"
   ]
  },
  {
   "cell_type": "code",
   "execution_count": 37,
   "metadata": {},
   "outputs": [],
   "source": [
    "import random"
   ]
  },
  {
   "cell_type": "code",
   "execution_count": 38,
   "metadata": {},
   "outputs": [],
   "source": [
    "df_train_n_churn = df_train[y_train == -1]"
   ]
  },
  {
   "cell_type": "code",
   "execution_count": 44,
   "metadata": {
    "id": "cCvfZZvbKzZO"
   },
   "outputs": [],
   "source": [
    "THRESH = 73\n",
    "\n",
    "df_train_undersampling = pd.concat([df_train_n_churn.dropna(thresh=THRESH), df_train[y_train == 1]])\n",
    "\n",
    "X_train_undersampling = preprocessor_pipeline.fit_transform(df_train_undersampling)\n",
    "X_train_undersampling = pd.DataFrame(X_train_undersampling, columns=df.columns)"
   ]
  },
  {
   "cell_type": "code",
   "execution_count": null,
   "metadata": {},
   "outputs": [],
   "source": [
    "SIZE = 20000\n",
    "\n",
    "sample = random.sample(df_train_n_churn.index.to_list(), SIZE)\n",
    "\n",
    "df_train_undersampling = pd.concat([df_train_n_churn.loc[sample], df_train[y_train == 1]])\n",
    "\n",
    "X_train_undersampling = preprocessor_pipeline.fit_transform(df_train_undersampling)\n",
    "X_train_undersampling = pd.DataFrame(X_train_undersampling, columns=preprocessor_pipeline['nan_columns_dropper'].cols)"
   ]
  },
  {
   "cell_type": "code",
   "execution_count": 41,
   "metadata": {},
   "outputs": [],
   "source": [
    "model = CatBoostClassifier(\n",
    "    max_depth=6, \n",
    "    n_estimators=100, \n",
    "    cat_features=df_train.select_dtypes(include='object').columns.to_list(),\n",
    "    logging_level='Silent',\n",
    ")"
   ]
  },
  {
   "cell_type": "code",
   "execution_count": 45,
   "metadata": {
    "scrolled": true
   },
   "outputs": [
    {
     "name": "stdout",
     "output_type": "stream",
     "text": [
      "0.6366054498473953\n",
      "CPU times: user 12.1 s, sys: 2.87 s, total: 15 s\n",
      "Wall time: 1.99 s\n"
     ]
    }
   ],
   "source": [
    "%%time\n",
    "model.fit(X_train_undersampling, y_train[df_train_undersampling.index])\n",
    "print(roc_auc_score(y_valid, model.predict_proba(X_valid)[:, 1]))"
   ]
  },
  {
   "cell_type": "code",
   "execution_count": 83,
   "metadata": {},
   "outputs": [],
   "source": [
    "class Undersampler(BaseEstimator, TransformerMixin):\n",
    "    def __init__(self, threshold, y):\n",
    "        super().__init__()\n",
    "        self.threshold = threshold\n",
    "        self.y = y\n",
    "\n",
    "    def fit(self, X, y=None):\n",
    "        return self\n",
    "\n",
    "    def transform(self, X, y=None):\n",
    "        X_n_churn = X.loc[self.y == -1]\n",
    "        return X #pd.concat([X_n_churn.dropna(thresh=self.threshold), X[self.y == 1]])"
   ]
  },
  {
   "cell_type": "code",
   "execution_count": 82,
   "metadata": {},
   "outputs": [
    {
     "data": {
      "text/html": [
       "<div>\n",
       "<style scoped>\n",
       "    .dataframe tbody tr th:only-of-type {\n",
       "        vertical-align: middle;\n",
       "    }\n",
       "\n",
       "    .dataframe tbody tr th {\n",
       "        vertical-align: top;\n",
       "    }\n",
       "\n",
       "    .dataframe thead th {\n",
       "        text-align: right;\n",
       "    }\n",
       "</style>\n",
       "<table border=\"1\" class=\"dataframe\">\n",
       "  <thead>\n",
       "    <tr style=\"text-align: right;\">\n",
       "      <th></th>\n",
       "      <th>Var1</th>\n",
       "      <th>Var2</th>\n",
       "      <th>Var3</th>\n",
       "      <th>Var4</th>\n",
       "      <th>Var5</th>\n",
       "      <th>Var6</th>\n",
       "      <th>Var7</th>\n",
       "      <th>Var9</th>\n",
       "      <th>Var10</th>\n",
       "      <th>Var11</th>\n",
       "      <th>...</th>\n",
       "      <th>Var220</th>\n",
       "      <th>Var221</th>\n",
       "      <th>Var222</th>\n",
       "      <th>Var223</th>\n",
       "      <th>Var224</th>\n",
       "      <th>Var225</th>\n",
       "      <th>Var226</th>\n",
       "      <th>Var227</th>\n",
       "      <th>Var228</th>\n",
       "      <th>Var229</th>\n",
       "    </tr>\n",
       "  </thead>\n",
       "  <tbody>\n",
       "    <tr>\n",
       "      <th>17955</th>\n",
       "      <td>NaN</td>\n",
       "      <td>NaN</td>\n",
       "      <td>NaN</td>\n",
       "      <td>NaN</td>\n",
       "      <td>NaN</td>\n",
       "      <td>385.0</td>\n",
       "      <td>7.0</td>\n",
       "      <td>NaN</td>\n",
       "      <td>NaN</td>\n",
       "      <td>NaN</td>\n",
       "      <td>...</td>\n",
       "      <td>AI5YWu3</td>\n",
       "      <td>oslk</td>\n",
       "      <td>H2lRusu</td>\n",
       "      <td>LM8l689qOp</td>\n",
       "      <td>NaN</td>\n",
       "      <td>ELof</td>\n",
       "      <td>xb3V</td>\n",
       "      <td>RAYp</td>\n",
       "      <td>F2FyR07IdsN7I</td>\n",
       "      <td>mj86</td>\n",
       "    </tr>\n",
       "    <tr>\n",
       "      <th>26586</th>\n",
       "      <td>NaN</td>\n",
       "      <td>NaN</td>\n",
       "      <td>NaN</td>\n",
       "      <td>NaN</td>\n",
       "      <td>NaN</td>\n",
       "      <td>5348.0</td>\n",
       "      <td>0.0</td>\n",
       "      <td>NaN</td>\n",
       "      <td>NaN</td>\n",
       "      <td>NaN</td>\n",
       "      <td>...</td>\n",
       "      <td>L91KIiz</td>\n",
       "      <td>oslk</td>\n",
       "      <td>CE7uk3u</td>\n",
       "      <td>jySVZNlOJy</td>\n",
       "      <td>NaN</td>\n",
       "      <td>NaN</td>\n",
       "      <td>FSa2</td>\n",
       "      <td>RAYp</td>\n",
       "      <td>F2FyR07IdsN7I</td>\n",
       "      <td>NaN</td>\n",
       "    </tr>\n",
       "    <tr>\n",
       "      <th>1016</th>\n",
       "      <td>NaN</td>\n",
       "      <td>NaN</td>\n",
       "      <td>NaN</td>\n",
       "      <td>NaN</td>\n",
       "      <td>NaN</td>\n",
       "      <td>0.0</td>\n",
       "      <td>0.0</td>\n",
       "      <td>NaN</td>\n",
       "      <td>NaN</td>\n",
       "      <td>NaN</td>\n",
       "      <td>...</td>\n",
       "      <td>7OmVzos</td>\n",
       "      <td>oslk</td>\n",
       "      <td>76DJixu</td>\n",
       "      <td>LM8l689qOp</td>\n",
       "      <td>NaN</td>\n",
       "      <td>NaN</td>\n",
       "      <td>7P5s</td>\n",
       "      <td>RAYp</td>\n",
       "      <td>F2FyR07IdsN7I</td>\n",
       "      <td>NaN</td>\n",
       "    </tr>\n",
       "    <tr>\n",
       "      <th>7886</th>\n",
       "      <td>NaN</td>\n",
       "      <td>0.0</td>\n",
       "      <td>0.0</td>\n",
       "      <td>NaN</td>\n",
       "      <td>NaN</td>\n",
       "      <td>NaN</td>\n",
       "      <td>NaN</td>\n",
       "      <td>NaN</td>\n",
       "      <td>NaN</td>\n",
       "      <td>8.0</td>\n",
       "      <td>...</td>\n",
       "      <td>gOr5cpt</td>\n",
       "      <td>zCkv</td>\n",
       "      <td>UpJuOS_</td>\n",
       "      <td>LM8l689qOp</td>\n",
       "      <td>4n2X</td>\n",
       "      <td>NaN</td>\n",
       "      <td>kwS7</td>\n",
       "      <td>6fzt</td>\n",
       "      <td>F2FcTt7IdMT_v</td>\n",
       "      <td>NaN</td>\n",
       "    </tr>\n",
       "    <tr>\n",
       "      <th>2635</th>\n",
       "      <td>NaN</td>\n",
       "      <td>NaN</td>\n",
       "      <td>NaN</td>\n",
       "      <td>NaN</td>\n",
       "      <td>NaN</td>\n",
       "      <td>3787.0</td>\n",
       "      <td>7.0</td>\n",
       "      <td>NaN</td>\n",
       "      <td>NaN</td>\n",
       "      <td>NaN</td>\n",
       "      <td>...</td>\n",
       "      <td>Xei0nTz</td>\n",
       "      <td>oslk</td>\n",
       "      <td>4sF7qqc</td>\n",
       "      <td>NaN</td>\n",
       "      <td>NaN</td>\n",
       "      <td>kG3k</td>\n",
       "      <td>FSa2</td>\n",
       "      <td>RAYp</td>\n",
       "      <td>55YFVY9</td>\n",
       "      <td>mj86</td>\n",
       "    </tr>\n",
       "    <tr>\n",
       "      <th>...</th>\n",
       "      <td>...</td>\n",
       "      <td>...</td>\n",
       "      <td>...</td>\n",
       "      <td>...</td>\n",
       "      <td>...</td>\n",
       "      <td>...</td>\n",
       "      <td>...</td>\n",
       "      <td>...</td>\n",
       "      <td>...</td>\n",
       "      <td>...</td>\n",
       "      <td>...</td>\n",
       "      <td>...</td>\n",
       "      <td>...</td>\n",
       "      <td>...</td>\n",
       "      <td>...</td>\n",
       "      <td>...</td>\n",
       "      <td>...</td>\n",
       "      <td>...</td>\n",
       "      <td>...</td>\n",
       "      <td>...</td>\n",
       "      <td>...</td>\n",
       "    </tr>\n",
       "    <tr>\n",
       "      <th>13201</th>\n",
       "      <td>NaN</td>\n",
       "      <td>NaN</td>\n",
       "      <td>NaN</td>\n",
       "      <td>NaN</td>\n",
       "      <td>NaN</td>\n",
       "      <td>1659.0</td>\n",
       "      <td>7.0</td>\n",
       "      <td>NaN</td>\n",
       "      <td>NaN</td>\n",
       "      <td>NaN</td>\n",
       "      <td>...</td>\n",
       "      <td>ylC3DH0</td>\n",
       "      <td>oslk</td>\n",
       "      <td>kiBhOcm</td>\n",
       "      <td>LM8l689qOp</td>\n",
       "      <td>NaN</td>\n",
       "      <td>ELof</td>\n",
       "      <td>Aoh3</td>\n",
       "      <td>RAYp</td>\n",
       "      <td>55YFVY9</td>\n",
       "      <td>am7c</td>\n",
       "    </tr>\n",
       "    <tr>\n",
       "      <th>2462</th>\n",
       "      <td>NaN</td>\n",
       "      <td>NaN</td>\n",
       "      <td>NaN</td>\n",
       "      <td>NaN</td>\n",
       "      <td>NaN</td>\n",
       "      <td>616.0</td>\n",
       "      <td>7.0</td>\n",
       "      <td>NaN</td>\n",
       "      <td>NaN</td>\n",
       "      <td>NaN</td>\n",
       "      <td>...</td>\n",
       "      <td>AOhuZGO</td>\n",
       "      <td>oslk</td>\n",
       "      <td>W8mwS9i</td>\n",
       "      <td>LM8l689qOp</td>\n",
       "      <td>NaN</td>\n",
       "      <td>NaN</td>\n",
       "      <td>Qu4f</td>\n",
       "      <td>RAYp</td>\n",
       "      <td>F2FyR07IdsN7I</td>\n",
       "      <td>NaN</td>\n",
       "    </tr>\n",
       "    <tr>\n",
       "      <th>25399</th>\n",
       "      <td>NaN</td>\n",
       "      <td>NaN</td>\n",
       "      <td>NaN</td>\n",
       "      <td>NaN</td>\n",
       "      <td>NaN</td>\n",
       "      <td>847.0</td>\n",
       "      <td>7.0</td>\n",
       "      <td>NaN</td>\n",
       "      <td>NaN</td>\n",
       "      <td>NaN</td>\n",
       "      <td>...</td>\n",
       "      <td>UF16siJ</td>\n",
       "      <td>zCkv</td>\n",
       "      <td>APgdzOv</td>\n",
       "      <td>LM8l689qOp</td>\n",
       "      <td>NaN</td>\n",
       "      <td>NaN</td>\n",
       "      <td>WqMG</td>\n",
       "      <td>6fzt</td>\n",
       "      <td>Zy3gnGM</td>\n",
       "      <td>NaN</td>\n",
       "    </tr>\n",
       "    <tr>\n",
       "      <th>16296</th>\n",
       "      <td>NaN</td>\n",
       "      <td>NaN</td>\n",
       "      <td>NaN</td>\n",
       "      <td>NaN</td>\n",
       "      <td>NaN</td>\n",
       "      <td>6650.0</td>\n",
       "      <td>7.0</td>\n",
       "      <td>NaN</td>\n",
       "      <td>NaN</td>\n",
       "      <td>NaN</td>\n",
       "      <td>...</td>\n",
       "      <td>7Om87dl</td>\n",
       "      <td>oslk</td>\n",
       "      <td>ZXdOTZB</td>\n",
       "      <td>LM8l689qOp</td>\n",
       "      <td>NaN</td>\n",
       "      <td>kG3k</td>\n",
       "      <td>fKCe</td>\n",
       "      <td>RAYp</td>\n",
       "      <td>F2FyR07IdsN7I</td>\n",
       "      <td>mj86</td>\n",
       "    </tr>\n",
       "    <tr>\n",
       "      <th>14747</th>\n",
       "      <td>NaN</td>\n",
       "      <td>NaN</td>\n",
       "      <td>NaN</td>\n",
       "      <td>NaN</td>\n",
       "      <td>NaN</td>\n",
       "      <td>910.0</td>\n",
       "      <td>0.0</td>\n",
       "      <td>NaN</td>\n",
       "      <td>NaN</td>\n",
       "      <td>NaN</td>\n",
       "      <td>...</td>\n",
       "      <td>4UxGlow</td>\n",
       "      <td>oslk</td>\n",
       "      <td>catzS2D</td>\n",
       "      <td>LM8l689qOp</td>\n",
       "      <td>NaN</td>\n",
       "      <td>NaN</td>\n",
       "      <td>Aoh3</td>\n",
       "      <td>ZI9m</td>\n",
       "      <td>ib5G6X1eUxUn6</td>\n",
       "      <td>NaN</td>\n",
       "    </tr>\n",
       "  </tbody>\n",
       "</table>\n",
       "<p>32381 rows × 212 columns</p>\n",
       "</div>"
      ],
      "text/plain": [
       "       Var1  Var2  Var3  Var4  Var5    Var6  Var7  Var9  Var10  Var11  ...  \\\n",
       "17955   NaN   NaN   NaN   NaN   NaN   385.0   7.0   NaN    NaN    NaN  ...   \n",
       "26586   NaN   NaN   NaN   NaN   NaN  5348.0   0.0   NaN    NaN    NaN  ...   \n",
       "1016    NaN   NaN   NaN   NaN   NaN     0.0   0.0   NaN    NaN    NaN  ...   \n",
       "7886    NaN   0.0   0.0   NaN   NaN     NaN   NaN   NaN    NaN    8.0  ...   \n",
       "2635    NaN   NaN   NaN   NaN   NaN  3787.0   7.0   NaN    NaN    NaN  ...   \n",
       "...     ...   ...   ...   ...   ...     ...   ...   ...    ...    ...  ...   \n",
       "13201   NaN   NaN   NaN   NaN   NaN  1659.0   7.0   NaN    NaN    NaN  ...   \n",
       "2462    NaN   NaN   NaN   NaN   NaN   616.0   7.0   NaN    NaN    NaN  ...   \n",
       "25399   NaN   NaN   NaN   NaN   NaN   847.0   7.0   NaN    NaN    NaN  ...   \n",
       "16296   NaN   NaN   NaN   NaN   NaN  6650.0   7.0   NaN    NaN    NaN  ...   \n",
       "14747   NaN   NaN   NaN   NaN   NaN   910.0   0.0   NaN    NaN    NaN  ...   \n",
       "\n",
       "        Var220  Var221   Var222      Var223  Var224  Var225  Var226  Var227  \\\n",
       "17955  AI5YWu3    oslk  H2lRusu  LM8l689qOp     NaN    ELof    xb3V    RAYp   \n",
       "26586  L91KIiz    oslk  CE7uk3u  jySVZNlOJy     NaN     NaN    FSa2    RAYp   \n",
       "1016   7OmVzos    oslk  76DJixu  LM8l689qOp     NaN     NaN    7P5s    RAYp   \n",
       "7886   gOr5cpt    zCkv  UpJuOS_  LM8l689qOp    4n2X     NaN    kwS7    6fzt   \n",
       "2635   Xei0nTz    oslk  4sF7qqc         NaN     NaN    kG3k    FSa2    RAYp   \n",
       "...        ...     ...      ...         ...     ...     ...     ...     ...   \n",
       "13201  ylC3DH0    oslk  kiBhOcm  LM8l689qOp     NaN    ELof    Aoh3    RAYp   \n",
       "2462   AOhuZGO    oslk  W8mwS9i  LM8l689qOp     NaN     NaN    Qu4f    RAYp   \n",
       "25399  UF16siJ    zCkv  APgdzOv  LM8l689qOp     NaN     NaN    WqMG    6fzt   \n",
       "16296  7Om87dl    oslk  ZXdOTZB  LM8l689qOp     NaN    kG3k    fKCe    RAYp   \n",
       "14747  4UxGlow    oslk  catzS2D  LM8l689qOp     NaN     NaN    Aoh3    ZI9m   \n",
       "\n",
       "              Var228  Var229  \n",
       "17955  F2FyR07IdsN7I    mj86  \n",
       "26586  F2FyR07IdsN7I     NaN  \n",
       "1016   F2FyR07IdsN7I     NaN  \n",
       "7886   F2FcTt7IdMT_v     NaN  \n",
       "2635         55YFVY9    mj86  \n",
       "...              ...     ...  \n",
       "13201        55YFVY9    am7c  \n",
       "2462   F2FyR07IdsN7I     NaN  \n",
       "25399        Zy3gnGM     NaN  \n",
       "16296  F2FyR07IdsN7I    mj86  \n",
       "14747  ib5G6X1eUxUn6     NaN  \n",
       "\n",
       "[32381 rows x 212 columns]"
      ]
     },
     "execution_count": 82,
     "metadata": {},
     "output_type": "execute_result"
    }
   ],
   "source": [
    "df_train[y_train == -1]"
   ]
  },
  {
   "cell_type": "code",
   "execution_count": 86,
   "metadata": {},
   "outputs": [
    {
     "data": {
      "text/html": [
       "<div>\n",
       "<style scoped>\n",
       "    .dataframe tbody tr th:only-of-type {\n",
       "        vertical-align: middle;\n",
       "    }\n",
       "\n",
       "    .dataframe tbody tr th {\n",
       "        vertical-align: top;\n",
       "    }\n",
       "\n",
       "    .dataframe thead th {\n",
       "        text-align: right;\n",
       "    }\n",
       "</style>\n",
       "<table border=\"1\" class=\"dataframe\">\n",
       "  <thead>\n",
       "    <tr style=\"text-align: right;\">\n",
       "      <th></th>\n",
       "      <th>Var1</th>\n",
       "      <th>Var2</th>\n",
       "      <th>Var3</th>\n",
       "      <th>Var4</th>\n",
       "      <th>Var5</th>\n",
       "      <th>Var6</th>\n",
       "      <th>Var7</th>\n",
       "      <th>Var9</th>\n",
       "      <th>Var10</th>\n",
       "      <th>Var11</th>\n",
       "      <th>...</th>\n",
       "      <th>Var220</th>\n",
       "      <th>Var221</th>\n",
       "      <th>Var222</th>\n",
       "      <th>Var223</th>\n",
       "      <th>Var224</th>\n",
       "      <th>Var225</th>\n",
       "      <th>Var226</th>\n",
       "      <th>Var227</th>\n",
       "      <th>Var228</th>\n",
       "      <th>Var229</th>\n",
       "    </tr>\n",
       "  </thead>\n",
       "  <tbody>\n",
       "    <tr>\n",
       "      <th>0</th>\n",
       "      <td>-0.0363</td>\n",
       "      <td>-0.005345</td>\n",
       "      <td>-0.015388</td>\n",
       "      <td>-0.018862</td>\n",
       "      <td>-0.059144</td>\n",
       "      <td>-0.259987</td>\n",
       "      <td>0.032372</td>\n",
       "      <td>-0.03652</td>\n",
       "      <td>-0.062562</td>\n",
       "      <td>-0.034592</td>\n",
       "      <td>...</td>\n",
       "      <td>h72fSEp</td>\n",
       "      <td>oslk</td>\n",
       "      <td>e7bTQlu</td>\n",
       "      <td>LM8l689qOp</td>\n",
       "      <td>4n2X</td>\n",
       "      <td>ELof</td>\n",
       "      <td>TNEC</td>\n",
       "      <td>RAYp</td>\n",
       "      <td>F2FyR07IdsN7I</td>\n",
       "      <td>am7c</td>\n",
       "    </tr>\n",
       "    <tr>\n",
       "      <th>1</th>\n",
       "      <td>-0.0363</td>\n",
       "      <td>-0.005345</td>\n",
       "      <td>-0.015388</td>\n",
       "      <td>-0.018862</td>\n",
       "      <td>-0.059144</td>\n",
       "      <td>-0.319155</td>\n",
       "      <td>0.032372</td>\n",
       "      <td>-0.03652</td>\n",
       "      <td>-0.062562</td>\n",
       "      <td>-0.034592</td>\n",
       "      <td>...</td>\n",
       "      <td>AI5YWu3</td>\n",
       "      <td>oslk</td>\n",
       "      <td>H2lRusu</td>\n",
       "      <td>LM8l689qOp</td>\n",
       "      <td>4n2X</td>\n",
       "      <td>ELof</td>\n",
       "      <td>xb3V</td>\n",
       "      <td>RAYp</td>\n",
       "      <td>F2FyR07IdsN7I</td>\n",
       "      <td>mj86</td>\n",
       "    </tr>\n",
       "    <tr>\n",
       "      <th>2</th>\n",
       "      <td>-0.0363</td>\n",
       "      <td>-0.005345</td>\n",
       "      <td>-0.015388</td>\n",
       "      <td>-0.018862</td>\n",
       "      <td>-0.059144</td>\n",
       "      <td>1.678463</td>\n",
       "      <td>-1.154053</td>\n",
       "      <td>-0.03652</td>\n",
       "      <td>-0.062562</td>\n",
       "      <td>-0.034592</td>\n",
       "      <td>...</td>\n",
       "      <td>L91KIiz</td>\n",
       "      <td>oslk</td>\n",
       "      <td>CE7uk3u</td>\n",
       "      <td>jySVZNlOJy</td>\n",
       "      <td>4n2X</td>\n",
       "      <td>ELof</td>\n",
       "      <td>FSa2</td>\n",
       "      <td>RAYp</td>\n",
       "      <td>F2FyR07IdsN7I</td>\n",
       "      <td>am7c</td>\n",
       "    </tr>\n",
       "    <tr>\n",
       "      <th>3</th>\n",
       "      <td>-0.0363</td>\n",
       "      <td>-0.005345</td>\n",
       "      <td>-0.015388</td>\n",
       "      <td>-0.018862</td>\n",
       "      <td>-0.059144</td>\n",
       "      <td>-0.474118</td>\n",
       "      <td>-1.154053</td>\n",
       "      <td>-0.03652</td>\n",
       "      <td>-0.062562</td>\n",
       "      <td>-0.034592</td>\n",
       "      <td>...</td>\n",
       "      <td>7OmVzos</td>\n",
       "      <td>oslk</td>\n",
       "      <td>76DJixu</td>\n",
       "      <td>LM8l689qOp</td>\n",
       "      <td>4n2X</td>\n",
       "      <td>ELof</td>\n",
       "      <td>7P5s</td>\n",
       "      <td>RAYp</td>\n",
       "      <td>F2FyR07IdsN7I</td>\n",
       "      <td>am7c</td>\n",
       "    </tr>\n",
       "    <tr>\n",
       "      <th>4</th>\n",
       "      <td>-0.0363</td>\n",
       "      <td>-0.005345</td>\n",
       "      <td>-0.015388</td>\n",
       "      <td>-0.018862</td>\n",
       "      <td>-0.059144</td>\n",
       "      <td>-0.474118</td>\n",
       "      <td>0.032372</td>\n",
       "      <td>-0.03652</td>\n",
       "      <td>-0.062562</td>\n",
       "      <td>-0.034592</td>\n",
       "      <td>...</td>\n",
       "      <td>gOr5cpt</td>\n",
       "      <td>zCkv</td>\n",
       "      <td>UpJuOS_</td>\n",
       "      <td>LM8l689qOp</td>\n",
       "      <td>4n2X</td>\n",
       "      <td>ELof</td>\n",
       "      <td>kwS7</td>\n",
       "      <td>6fzt</td>\n",
       "      <td>F2FcTt7IdMT_v</td>\n",
       "      <td>am7c</td>\n",
       "    </tr>\n",
       "    <tr>\n",
       "      <th>...</th>\n",
       "      <td>...</td>\n",
       "      <td>...</td>\n",
       "      <td>...</td>\n",
       "      <td>...</td>\n",
       "      <td>...</td>\n",
       "      <td>...</td>\n",
       "      <td>...</td>\n",
       "      <td>...</td>\n",
       "      <td>...</td>\n",
       "      <td>...</td>\n",
       "      <td>...</td>\n",
       "      <td>...</td>\n",
       "      <td>...</td>\n",
       "      <td>...</td>\n",
       "      <td>...</td>\n",
       "      <td>...</td>\n",
       "      <td>...</td>\n",
       "      <td>...</td>\n",
       "      <td>...</td>\n",
       "      <td>...</td>\n",
       "      <td>...</td>\n",
       "    </tr>\n",
       "    <tr>\n",
       "      <th>34995</th>\n",
       "      <td>-0.0363</td>\n",
       "      <td>-0.005345</td>\n",
       "      <td>-0.015388</td>\n",
       "      <td>-0.018862</td>\n",
       "      <td>-0.059144</td>\n",
       "      <td>0.193632</td>\n",
       "      <td>0.032372</td>\n",
       "      <td>-0.03652</td>\n",
       "      <td>-0.062562</td>\n",
       "      <td>-0.034592</td>\n",
       "      <td>...</td>\n",
       "      <td>ylC3DH0</td>\n",
       "      <td>oslk</td>\n",
       "      <td>kiBhOcm</td>\n",
       "      <td>LM8l689qOp</td>\n",
       "      <td>4n2X</td>\n",
       "      <td>ELof</td>\n",
       "      <td>Aoh3</td>\n",
       "      <td>RAYp</td>\n",
       "      <td>55YFVY9</td>\n",
       "      <td>am7c</td>\n",
       "    </tr>\n",
       "    <tr>\n",
       "      <th>34996</th>\n",
       "      <td>-0.0363</td>\n",
       "      <td>-0.005345</td>\n",
       "      <td>-0.015388</td>\n",
       "      <td>-0.018862</td>\n",
       "      <td>-0.059144</td>\n",
       "      <td>-0.226177</td>\n",
       "      <td>0.032372</td>\n",
       "      <td>-0.03652</td>\n",
       "      <td>-0.062562</td>\n",
       "      <td>-0.034592</td>\n",
       "      <td>...</td>\n",
       "      <td>AOhuZGO</td>\n",
       "      <td>oslk</td>\n",
       "      <td>W8mwS9i</td>\n",
       "      <td>LM8l689qOp</td>\n",
       "      <td>4n2X</td>\n",
       "      <td>ELof</td>\n",
       "      <td>Qu4f</td>\n",
       "      <td>RAYp</td>\n",
       "      <td>F2FyR07IdsN7I</td>\n",
       "      <td>am7c</td>\n",
       "    </tr>\n",
       "    <tr>\n",
       "      <th>34997</th>\n",
       "      <td>-0.0363</td>\n",
       "      <td>-0.005345</td>\n",
       "      <td>-0.015388</td>\n",
       "      <td>-0.018862</td>\n",
       "      <td>-0.059144</td>\n",
       "      <td>-0.133199</td>\n",
       "      <td>0.032372</td>\n",
       "      <td>-0.03652</td>\n",
       "      <td>-0.062562</td>\n",
       "      <td>-0.034592</td>\n",
       "      <td>...</td>\n",
       "      <td>UF16siJ</td>\n",
       "      <td>zCkv</td>\n",
       "      <td>APgdzOv</td>\n",
       "      <td>LM8l689qOp</td>\n",
       "      <td>4n2X</td>\n",
       "      <td>ELof</td>\n",
       "      <td>WqMG</td>\n",
       "      <td>6fzt</td>\n",
       "      <td>Zy3gnGM</td>\n",
       "      <td>am7c</td>\n",
       "    </tr>\n",
       "    <tr>\n",
       "      <th>34998</th>\n",
       "      <td>-0.0363</td>\n",
       "      <td>-0.005345</td>\n",
       "      <td>-0.015388</td>\n",
       "      <td>-0.018862</td>\n",
       "      <td>-0.059144</td>\n",
       "      <td>2.20252</td>\n",
       "      <td>0.032372</td>\n",
       "      <td>-0.03652</td>\n",
       "      <td>-0.062562</td>\n",
       "      <td>-0.034592</td>\n",
       "      <td>...</td>\n",
       "      <td>7Om87dl</td>\n",
       "      <td>oslk</td>\n",
       "      <td>ZXdOTZB</td>\n",
       "      <td>LM8l689qOp</td>\n",
       "      <td>4n2X</td>\n",
       "      <td>kG3k</td>\n",
       "      <td>fKCe</td>\n",
       "      <td>RAYp</td>\n",
       "      <td>F2FyR07IdsN7I</td>\n",
       "      <td>mj86</td>\n",
       "    </tr>\n",
       "    <tr>\n",
       "      <th>34999</th>\n",
       "      <td>-0.0363</td>\n",
       "      <td>-0.005345</td>\n",
       "      <td>-0.015388</td>\n",
       "      <td>-0.018862</td>\n",
       "      <td>-0.059144</td>\n",
       "      <td>-0.107842</td>\n",
       "      <td>-1.154053</td>\n",
       "      <td>-0.03652</td>\n",
       "      <td>-0.062562</td>\n",
       "      <td>-0.034592</td>\n",
       "      <td>...</td>\n",
       "      <td>4UxGlow</td>\n",
       "      <td>oslk</td>\n",
       "      <td>catzS2D</td>\n",
       "      <td>LM8l689qOp</td>\n",
       "      <td>4n2X</td>\n",
       "      <td>ELof</td>\n",
       "      <td>Aoh3</td>\n",
       "      <td>ZI9m</td>\n",
       "      <td>ib5G6X1eUxUn6</td>\n",
       "      <td>am7c</td>\n",
       "    </tr>\n",
       "  </tbody>\n",
       "</table>\n",
       "<p>35000 rows × 212 columns</p>\n",
       "</div>"
      ],
      "text/plain": [
       "         Var1      Var2      Var3      Var4      Var5      Var6      Var7  \\\n",
       "0     -0.0363 -0.005345 -0.015388 -0.018862 -0.059144 -0.259987  0.032372   \n",
       "1     -0.0363 -0.005345 -0.015388 -0.018862 -0.059144 -0.319155  0.032372   \n",
       "2     -0.0363 -0.005345 -0.015388 -0.018862 -0.059144  1.678463 -1.154053   \n",
       "3     -0.0363 -0.005345 -0.015388 -0.018862 -0.059144 -0.474118 -1.154053   \n",
       "4     -0.0363 -0.005345 -0.015388 -0.018862 -0.059144 -0.474118  0.032372   \n",
       "...       ...       ...       ...       ...       ...       ...       ...   \n",
       "34995 -0.0363 -0.005345 -0.015388 -0.018862 -0.059144  0.193632  0.032372   \n",
       "34996 -0.0363 -0.005345 -0.015388 -0.018862 -0.059144 -0.226177  0.032372   \n",
       "34997 -0.0363 -0.005345 -0.015388 -0.018862 -0.059144 -0.133199  0.032372   \n",
       "34998 -0.0363 -0.005345 -0.015388 -0.018862 -0.059144   2.20252  0.032372   \n",
       "34999 -0.0363 -0.005345 -0.015388 -0.018862 -0.059144 -0.107842 -1.154053   \n",
       "\n",
       "          Var9     Var10     Var11  ...   Var220 Var221   Var222      Var223  \\\n",
       "0     -0.03652 -0.062562 -0.034592  ...  h72fSEp   oslk  e7bTQlu  LM8l689qOp   \n",
       "1     -0.03652 -0.062562 -0.034592  ...  AI5YWu3   oslk  H2lRusu  LM8l689qOp   \n",
       "2     -0.03652 -0.062562 -0.034592  ...  L91KIiz   oslk  CE7uk3u  jySVZNlOJy   \n",
       "3     -0.03652 -0.062562 -0.034592  ...  7OmVzos   oslk  76DJixu  LM8l689qOp   \n",
       "4     -0.03652 -0.062562 -0.034592  ...  gOr5cpt   zCkv  UpJuOS_  LM8l689qOp   \n",
       "...        ...       ...       ...  ...      ...    ...      ...         ...   \n",
       "34995 -0.03652 -0.062562 -0.034592  ...  ylC3DH0   oslk  kiBhOcm  LM8l689qOp   \n",
       "34996 -0.03652 -0.062562 -0.034592  ...  AOhuZGO   oslk  W8mwS9i  LM8l689qOp   \n",
       "34997 -0.03652 -0.062562 -0.034592  ...  UF16siJ   zCkv  APgdzOv  LM8l689qOp   \n",
       "34998 -0.03652 -0.062562 -0.034592  ...  7Om87dl   oslk  ZXdOTZB  LM8l689qOp   \n",
       "34999 -0.03652 -0.062562 -0.034592  ...  4UxGlow   oslk  catzS2D  LM8l689qOp   \n",
       "\n",
       "      Var224 Var225 Var226 Var227         Var228 Var229  \n",
       "0       4n2X   ELof   TNEC   RAYp  F2FyR07IdsN7I   am7c  \n",
       "1       4n2X   ELof   xb3V   RAYp  F2FyR07IdsN7I   mj86  \n",
       "2       4n2X   ELof   FSa2   RAYp  F2FyR07IdsN7I   am7c  \n",
       "3       4n2X   ELof   7P5s   RAYp  F2FyR07IdsN7I   am7c  \n",
       "4       4n2X   ELof   kwS7   6fzt  F2FcTt7IdMT_v   am7c  \n",
       "...      ...    ...    ...    ...            ...    ...  \n",
       "34995   4n2X   ELof   Aoh3   RAYp        55YFVY9   am7c  \n",
       "34996   4n2X   ELof   Qu4f   RAYp  F2FyR07IdsN7I   am7c  \n",
       "34997   4n2X   ELof   WqMG   6fzt        Zy3gnGM   am7c  \n",
       "34998   4n2X   kG3k   fKCe   RAYp  F2FyR07IdsN7I   mj86  \n",
       "34999   4n2X   ELof   Aoh3   ZI9m  ib5G6X1eUxUn6   am7c  \n",
       "\n",
       "[35000 rows x 212 columns]"
      ]
     },
     "execution_count": 86,
     "metadata": {},
     "output_type": "execute_result"
    }
   ],
   "source": [
    "X_train"
   ]
  },
  {
   "cell_type": "code",
   "execution_count": 84,
   "metadata": {},
   "outputs": [],
   "source": [
    "THRESH = 70\n",
    "\n",
    "pipeline = Pipeline([\n",
    "    ('preprocessor', preprocessor_pipeline),\n",
    "    ('undersampler', Undersampler(THRESH, y_train)),\n",
    "    ('model', model)\n",
    "])"
   ]
  },
  {
   "cell_type": "code",
   "execution_count": 85,
   "metadata": {
    "scrolled": false
   },
   "outputs": [
    {
     "ename": "IndexingError",
     "evalue": "Unalignable boolean Series provided as indexer (index of the boolean Series and of the indexed object do not match).",
     "output_type": "error",
     "traceback": [
      "\u001b[0;31m---------------------------------------------------------------------------\u001b[0m",
      "\u001b[0;31m_RemoteTraceback\u001b[0m                          Traceback (most recent call last)",
      "\u001b[0;31m_RemoteTraceback\u001b[0m: \n\"\"\"\nTraceback (most recent call last):\n  File \"/home/uniholder/anaconda3/lib/python3.8/site-packages/joblib/externals/loky/process_executor.py\", line 431, in _process_worker\n    r = call_item()\n  File \"/home/uniholder/anaconda3/lib/python3.8/site-packages/joblib/externals/loky/process_executor.py\", line 285, in __call__\n    return self.fn(*self.args, **self.kwargs)\n  File \"/home/uniholder/anaconda3/lib/python3.8/site-packages/joblib/_parallel_backends.py\", line 595, in __call__\n    return self.func(*args, **kwargs)\n  File \"/home/uniholder/anaconda3/lib/python3.8/site-packages/joblib/parallel.py\", line 262, in __call__\n    return [func(*args, **kwargs)\n  File \"/home/uniholder/anaconda3/lib/python3.8/site-packages/joblib/parallel.py\", line 262, in <listcomp>\n    return [func(*args, **kwargs)\n  File \"/home/uniholder/anaconda3/lib/python3.8/site-packages/sklearn/utils/fixes.py\", line 222, in __call__\n    return self.function(*args, **kwargs)\n  File \"/home/uniholder/anaconda3/lib/python3.8/site-packages/sklearn/model_selection/_validation.py\", line 593, in _fit_and_score\n    estimator.fit(X_train, y_train, **fit_params)\n  File \"/home/uniholder/anaconda3/lib/python3.8/site-packages/sklearn/pipeline.py\", line 341, in fit\n    Xt = self._fit(X, y, **fit_params_steps)\n  File \"/home/uniholder/anaconda3/lib/python3.8/site-packages/sklearn/pipeline.py\", line 303, in _fit\n    X, fitted_transformer = fit_transform_one_cached(\n  File \"/home/uniholder/anaconda3/lib/python3.8/site-packages/joblib/memory.py\", line 352, in __call__\n    return self.func(*args, **kwargs)\n  File \"/home/uniholder/anaconda3/lib/python3.8/site-packages/sklearn/pipeline.py\", line 754, in _fit_transform_one\n    res = transformer.fit_transform(X, y, **fit_params)\n  File \"/home/uniholder/anaconda3/lib/python3.8/site-packages/sklearn/base.py\", line 702, in fit_transform\n    return self.fit(X, y, **fit_params).transform(X)\n  File \"<ipython-input-83-aa2a22abd396>\", line 11, in transform\n  File \"/home/uniholder/anaconda3/lib/python3.8/site-packages/pandas/core/indexing.py\", line 931, in __getitem__\n    return self._getitem_axis(maybe_callable, axis=axis)\n  File \"/home/uniholder/anaconda3/lib/python3.8/site-packages/pandas/core/indexing.py\", line 1144, in _getitem_axis\n    return self._getbool_axis(key, axis=axis)\n  File \"/home/uniholder/anaconda3/lib/python3.8/site-packages/pandas/core/indexing.py\", line 948, in _getbool_axis\n    key = check_bool_indexer(labels, key)\n  File \"/home/uniholder/anaconda3/lib/python3.8/site-packages/pandas/core/indexing.py\", line 2388, in check_bool_indexer\n    raise IndexingError(\npandas.core.indexing.IndexingError: Unalignable boolean Series provided as indexer (index of the boolean Series and of the indexed object do not match).\n\"\"\"",
      "\nThe above exception was the direct cause of the following exception:\n",
      "\u001b[0;31mIndexingError\u001b[0m                             Traceback (most recent call last)",
      "\u001b[0;32m<timed exec>\u001b[0m in \u001b[0;36m<module>\u001b[0;34m\u001b[0m\n",
      "\u001b[0;32m~/anaconda3/lib/python3.8/site-packages/sklearn/utils/validation.py\u001b[0m in \u001b[0;36minner_f\u001b[0;34m(*args, **kwargs)\u001b[0m\n\u001b[1;32m     61\u001b[0m             \u001b[0mextra_args\u001b[0m \u001b[0;34m=\u001b[0m \u001b[0mlen\u001b[0m\u001b[0;34m(\u001b[0m\u001b[0margs\u001b[0m\u001b[0;34m)\u001b[0m \u001b[0;34m-\u001b[0m \u001b[0mlen\u001b[0m\u001b[0;34m(\u001b[0m\u001b[0mall_args\u001b[0m\u001b[0;34m)\u001b[0m\u001b[0;34m\u001b[0m\u001b[0;34m\u001b[0m\u001b[0m\n\u001b[1;32m     62\u001b[0m             \u001b[0;32mif\u001b[0m \u001b[0mextra_args\u001b[0m \u001b[0;34m<=\u001b[0m \u001b[0;36m0\u001b[0m\u001b[0;34m:\u001b[0m\u001b[0;34m\u001b[0m\u001b[0;34m\u001b[0m\u001b[0m\n\u001b[0;32m---> 63\u001b[0;31m                 \u001b[0;32mreturn\u001b[0m \u001b[0mf\u001b[0m\u001b[0;34m(\u001b[0m\u001b[0;34m*\u001b[0m\u001b[0margs\u001b[0m\u001b[0;34m,\u001b[0m \u001b[0;34m**\u001b[0m\u001b[0mkwargs\u001b[0m\u001b[0;34m)\u001b[0m\u001b[0;34m\u001b[0m\u001b[0;34m\u001b[0m\u001b[0m\n\u001b[0m\u001b[1;32m     64\u001b[0m \u001b[0;34m\u001b[0m\u001b[0m\n\u001b[1;32m     65\u001b[0m             \u001b[0;31m# extra_args > 0\u001b[0m\u001b[0;34m\u001b[0m\u001b[0;34m\u001b[0m\u001b[0;34m\u001b[0m\u001b[0m\n",
      "\u001b[0;32m~/anaconda3/lib/python3.8/site-packages/sklearn/model_selection/_validation.py\u001b[0m in \u001b[0;36mcross_val_score\u001b[0;34m(estimator, X, y, groups, scoring, cv, n_jobs, verbose, fit_params, pre_dispatch, error_score)\u001b[0m\n\u001b[1;32m    438\u001b[0m     \u001b[0mscorer\u001b[0m \u001b[0;34m=\u001b[0m \u001b[0mcheck_scoring\u001b[0m\u001b[0;34m(\u001b[0m\u001b[0mestimator\u001b[0m\u001b[0;34m,\u001b[0m \u001b[0mscoring\u001b[0m\u001b[0;34m=\u001b[0m\u001b[0mscoring\u001b[0m\u001b[0;34m)\u001b[0m\u001b[0;34m\u001b[0m\u001b[0;34m\u001b[0m\u001b[0m\n\u001b[1;32m    439\u001b[0m \u001b[0;34m\u001b[0m\u001b[0m\n\u001b[0;32m--> 440\u001b[0;31m     cv_results = cross_validate(estimator=estimator, X=X, y=y, groups=groups,\n\u001b[0m\u001b[1;32m    441\u001b[0m                                 \u001b[0mscoring\u001b[0m\u001b[0;34m=\u001b[0m\u001b[0;34m{\u001b[0m\u001b[0;34m'score'\u001b[0m\u001b[0;34m:\u001b[0m \u001b[0mscorer\u001b[0m\u001b[0;34m}\u001b[0m\u001b[0;34m,\u001b[0m \u001b[0mcv\u001b[0m\u001b[0;34m=\u001b[0m\u001b[0mcv\u001b[0m\u001b[0;34m,\u001b[0m\u001b[0;34m\u001b[0m\u001b[0;34m\u001b[0m\u001b[0m\n\u001b[1;32m    442\u001b[0m                                 \u001b[0mn_jobs\u001b[0m\u001b[0;34m=\u001b[0m\u001b[0mn_jobs\u001b[0m\u001b[0;34m,\u001b[0m \u001b[0mverbose\u001b[0m\u001b[0;34m=\u001b[0m\u001b[0mverbose\u001b[0m\u001b[0;34m,\u001b[0m\u001b[0;34m\u001b[0m\u001b[0;34m\u001b[0m\u001b[0m\n",
      "\u001b[0;32m~/anaconda3/lib/python3.8/site-packages/sklearn/utils/validation.py\u001b[0m in \u001b[0;36minner_f\u001b[0;34m(*args, **kwargs)\u001b[0m\n\u001b[1;32m     61\u001b[0m             \u001b[0mextra_args\u001b[0m \u001b[0;34m=\u001b[0m \u001b[0mlen\u001b[0m\u001b[0;34m(\u001b[0m\u001b[0margs\u001b[0m\u001b[0;34m)\u001b[0m \u001b[0;34m-\u001b[0m \u001b[0mlen\u001b[0m\u001b[0;34m(\u001b[0m\u001b[0mall_args\u001b[0m\u001b[0;34m)\u001b[0m\u001b[0;34m\u001b[0m\u001b[0;34m\u001b[0m\u001b[0m\n\u001b[1;32m     62\u001b[0m             \u001b[0;32mif\u001b[0m \u001b[0mextra_args\u001b[0m \u001b[0;34m<=\u001b[0m \u001b[0;36m0\u001b[0m\u001b[0;34m:\u001b[0m\u001b[0;34m\u001b[0m\u001b[0;34m\u001b[0m\u001b[0m\n\u001b[0;32m---> 63\u001b[0;31m                 \u001b[0;32mreturn\u001b[0m \u001b[0mf\u001b[0m\u001b[0;34m(\u001b[0m\u001b[0;34m*\u001b[0m\u001b[0margs\u001b[0m\u001b[0;34m,\u001b[0m \u001b[0;34m**\u001b[0m\u001b[0mkwargs\u001b[0m\u001b[0;34m)\u001b[0m\u001b[0;34m\u001b[0m\u001b[0;34m\u001b[0m\u001b[0m\n\u001b[0m\u001b[1;32m     64\u001b[0m \u001b[0;34m\u001b[0m\u001b[0m\n\u001b[1;32m     65\u001b[0m             \u001b[0;31m# extra_args > 0\u001b[0m\u001b[0;34m\u001b[0m\u001b[0;34m\u001b[0m\u001b[0;34m\u001b[0m\u001b[0m\n",
      "\u001b[0;32m~/anaconda3/lib/python3.8/site-packages/sklearn/model_selection/_validation.py\u001b[0m in \u001b[0;36mcross_validate\u001b[0;34m(estimator, X, y, groups, scoring, cv, n_jobs, verbose, fit_params, pre_dispatch, return_train_score, return_estimator, error_score)\u001b[0m\n\u001b[1;32m    244\u001b[0m     parallel = Parallel(n_jobs=n_jobs, verbose=verbose,\n\u001b[1;32m    245\u001b[0m                         pre_dispatch=pre_dispatch)\n\u001b[0;32m--> 246\u001b[0;31m     results = parallel(\n\u001b[0m\u001b[1;32m    247\u001b[0m         delayed(_fit_and_score)(\n\u001b[1;32m    248\u001b[0m             \u001b[0mclone\u001b[0m\u001b[0;34m(\u001b[0m\u001b[0mestimator\u001b[0m\u001b[0;34m)\u001b[0m\u001b[0;34m,\u001b[0m \u001b[0mX\u001b[0m\u001b[0;34m,\u001b[0m \u001b[0my\u001b[0m\u001b[0;34m,\u001b[0m \u001b[0mscorers\u001b[0m\u001b[0;34m,\u001b[0m \u001b[0mtrain\u001b[0m\u001b[0;34m,\u001b[0m \u001b[0mtest\u001b[0m\u001b[0;34m,\u001b[0m \u001b[0mverbose\u001b[0m\u001b[0;34m,\u001b[0m \u001b[0;32mNone\u001b[0m\u001b[0;34m,\u001b[0m\u001b[0;34m\u001b[0m\u001b[0;34m\u001b[0m\u001b[0m\n",
      "\u001b[0;32m~/anaconda3/lib/python3.8/site-packages/joblib/parallel.py\u001b[0m in \u001b[0;36m__call__\u001b[0;34m(self, iterable)\u001b[0m\n\u001b[1;32m   1052\u001b[0m \u001b[0;34m\u001b[0m\u001b[0m\n\u001b[1;32m   1053\u001b[0m             \u001b[0;32mwith\u001b[0m \u001b[0mself\u001b[0m\u001b[0;34m.\u001b[0m\u001b[0m_backend\u001b[0m\u001b[0;34m.\u001b[0m\u001b[0mretrieval_context\u001b[0m\u001b[0;34m(\u001b[0m\u001b[0;34m)\u001b[0m\u001b[0;34m:\u001b[0m\u001b[0;34m\u001b[0m\u001b[0;34m\u001b[0m\u001b[0m\n\u001b[0;32m-> 1054\u001b[0;31m                 \u001b[0mself\u001b[0m\u001b[0;34m.\u001b[0m\u001b[0mretrieve\u001b[0m\u001b[0;34m(\u001b[0m\u001b[0;34m)\u001b[0m\u001b[0;34m\u001b[0m\u001b[0;34m\u001b[0m\u001b[0m\n\u001b[0m\u001b[1;32m   1055\u001b[0m             \u001b[0;31m# Make sure that we get a last message telling us we are done\u001b[0m\u001b[0;34m\u001b[0m\u001b[0;34m\u001b[0m\u001b[0;34m\u001b[0m\u001b[0m\n\u001b[1;32m   1056\u001b[0m             \u001b[0melapsed_time\u001b[0m \u001b[0;34m=\u001b[0m \u001b[0mtime\u001b[0m\u001b[0;34m.\u001b[0m\u001b[0mtime\u001b[0m\u001b[0;34m(\u001b[0m\u001b[0;34m)\u001b[0m \u001b[0;34m-\u001b[0m \u001b[0mself\u001b[0m\u001b[0;34m.\u001b[0m\u001b[0m_start_time\u001b[0m\u001b[0;34m\u001b[0m\u001b[0;34m\u001b[0m\u001b[0m\n",
      "\u001b[0;32m~/anaconda3/lib/python3.8/site-packages/joblib/parallel.py\u001b[0m in \u001b[0;36mretrieve\u001b[0;34m(self)\u001b[0m\n\u001b[1;32m    931\u001b[0m             \u001b[0;32mtry\u001b[0m\u001b[0;34m:\u001b[0m\u001b[0;34m\u001b[0m\u001b[0;34m\u001b[0m\u001b[0m\n\u001b[1;32m    932\u001b[0m                 \u001b[0;32mif\u001b[0m \u001b[0mgetattr\u001b[0m\u001b[0;34m(\u001b[0m\u001b[0mself\u001b[0m\u001b[0;34m.\u001b[0m\u001b[0m_backend\u001b[0m\u001b[0;34m,\u001b[0m \u001b[0;34m'supports_timeout'\u001b[0m\u001b[0;34m,\u001b[0m \u001b[0;32mFalse\u001b[0m\u001b[0;34m)\u001b[0m\u001b[0;34m:\u001b[0m\u001b[0;34m\u001b[0m\u001b[0;34m\u001b[0m\u001b[0m\n\u001b[0;32m--> 933\u001b[0;31m                     \u001b[0mself\u001b[0m\u001b[0;34m.\u001b[0m\u001b[0m_output\u001b[0m\u001b[0;34m.\u001b[0m\u001b[0mextend\u001b[0m\u001b[0;34m(\u001b[0m\u001b[0mjob\u001b[0m\u001b[0;34m.\u001b[0m\u001b[0mget\u001b[0m\u001b[0;34m(\u001b[0m\u001b[0mtimeout\u001b[0m\u001b[0;34m=\u001b[0m\u001b[0mself\u001b[0m\u001b[0;34m.\u001b[0m\u001b[0mtimeout\u001b[0m\u001b[0;34m)\u001b[0m\u001b[0;34m)\u001b[0m\u001b[0;34m\u001b[0m\u001b[0;34m\u001b[0m\u001b[0m\n\u001b[0m\u001b[1;32m    934\u001b[0m                 \u001b[0;32melse\u001b[0m\u001b[0;34m:\u001b[0m\u001b[0;34m\u001b[0m\u001b[0;34m\u001b[0m\u001b[0m\n\u001b[1;32m    935\u001b[0m                     \u001b[0mself\u001b[0m\u001b[0;34m.\u001b[0m\u001b[0m_output\u001b[0m\u001b[0;34m.\u001b[0m\u001b[0mextend\u001b[0m\u001b[0;34m(\u001b[0m\u001b[0mjob\u001b[0m\u001b[0;34m.\u001b[0m\u001b[0mget\u001b[0m\u001b[0;34m(\u001b[0m\u001b[0;34m)\u001b[0m\u001b[0;34m)\u001b[0m\u001b[0;34m\u001b[0m\u001b[0;34m\u001b[0m\u001b[0m\n",
      "\u001b[0;32m~/anaconda3/lib/python3.8/site-packages/joblib/_parallel_backends.py\u001b[0m in \u001b[0;36mwrap_future_result\u001b[0;34m(future, timeout)\u001b[0m\n\u001b[1;32m    540\u001b[0m         AsyncResults.get from multiprocessing.\"\"\"\n\u001b[1;32m    541\u001b[0m         \u001b[0;32mtry\u001b[0m\u001b[0;34m:\u001b[0m\u001b[0;34m\u001b[0m\u001b[0;34m\u001b[0m\u001b[0m\n\u001b[0;32m--> 542\u001b[0;31m             \u001b[0;32mreturn\u001b[0m \u001b[0mfuture\u001b[0m\u001b[0;34m.\u001b[0m\u001b[0mresult\u001b[0m\u001b[0;34m(\u001b[0m\u001b[0mtimeout\u001b[0m\u001b[0;34m=\u001b[0m\u001b[0mtimeout\u001b[0m\u001b[0;34m)\u001b[0m\u001b[0;34m\u001b[0m\u001b[0;34m\u001b[0m\u001b[0m\n\u001b[0m\u001b[1;32m    543\u001b[0m         \u001b[0;32mexcept\u001b[0m \u001b[0mCfTimeoutError\u001b[0m \u001b[0;32mas\u001b[0m \u001b[0me\u001b[0m\u001b[0;34m:\u001b[0m\u001b[0;34m\u001b[0m\u001b[0;34m\u001b[0m\u001b[0m\n\u001b[1;32m    544\u001b[0m             \u001b[0;32mraise\u001b[0m \u001b[0mTimeoutError\u001b[0m \u001b[0;32mfrom\u001b[0m \u001b[0me\u001b[0m\u001b[0;34m\u001b[0m\u001b[0;34m\u001b[0m\u001b[0m\n",
      "\u001b[0;32m~/anaconda3/lib/python3.8/concurrent/futures/_base.py\u001b[0m in \u001b[0;36mresult\u001b[0;34m(self, timeout)\u001b[0m\n\u001b[1;32m    437\u001b[0m                 \u001b[0;32mraise\u001b[0m \u001b[0mCancelledError\u001b[0m\u001b[0;34m(\u001b[0m\u001b[0;34m)\u001b[0m\u001b[0;34m\u001b[0m\u001b[0;34m\u001b[0m\u001b[0m\n\u001b[1;32m    438\u001b[0m             \u001b[0;32melif\u001b[0m \u001b[0mself\u001b[0m\u001b[0;34m.\u001b[0m\u001b[0m_state\u001b[0m \u001b[0;34m==\u001b[0m \u001b[0mFINISHED\u001b[0m\u001b[0;34m:\u001b[0m\u001b[0;34m\u001b[0m\u001b[0;34m\u001b[0m\u001b[0m\n\u001b[0;32m--> 439\u001b[0;31m                 \u001b[0;32mreturn\u001b[0m \u001b[0mself\u001b[0m\u001b[0;34m.\u001b[0m\u001b[0m__get_result\u001b[0m\u001b[0;34m(\u001b[0m\u001b[0;34m)\u001b[0m\u001b[0;34m\u001b[0m\u001b[0;34m\u001b[0m\u001b[0m\n\u001b[0m\u001b[1;32m    440\u001b[0m             \u001b[0;32melse\u001b[0m\u001b[0;34m:\u001b[0m\u001b[0;34m\u001b[0m\u001b[0;34m\u001b[0m\u001b[0m\n\u001b[1;32m    441\u001b[0m                 \u001b[0;32mraise\u001b[0m \u001b[0mTimeoutError\u001b[0m\u001b[0;34m(\u001b[0m\u001b[0;34m)\u001b[0m\u001b[0;34m\u001b[0m\u001b[0;34m\u001b[0m\u001b[0m\n",
      "\u001b[0;32m~/anaconda3/lib/python3.8/concurrent/futures/_base.py\u001b[0m in \u001b[0;36m__get_result\u001b[0;34m(self)\u001b[0m\n\u001b[1;32m    386\u001b[0m     \u001b[0;32mdef\u001b[0m \u001b[0m__get_result\u001b[0m\u001b[0;34m(\u001b[0m\u001b[0mself\u001b[0m\u001b[0;34m)\u001b[0m\u001b[0;34m:\u001b[0m\u001b[0;34m\u001b[0m\u001b[0;34m\u001b[0m\u001b[0m\n\u001b[1;32m    387\u001b[0m         \u001b[0;32mif\u001b[0m \u001b[0mself\u001b[0m\u001b[0;34m.\u001b[0m\u001b[0m_exception\u001b[0m\u001b[0;34m:\u001b[0m\u001b[0;34m\u001b[0m\u001b[0;34m\u001b[0m\u001b[0m\n\u001b[0;32m--> 388\u001b[0;31m             \u001b[0;32mraise\u001b[0m \u001b[0mself\u001b[0m\u001b[0;34m.\u001b[0m\u001b[0m_exception\u001b[0m\u001b[0;34m\u001b[0m\u001b[0;34m\u001b[0m\u001b[0m\n\u001b[0m\u001b[1;32m    389\u001b[0m         \u001b[0;32melse\u001b[0m\u001b[0;34m:\u001b[0m\u001b[0;34m\u001b[0m\u001b[0;34m\u001b[0m\u001b[0m\n\u001b[1;32m    390\u001b[0m             \u001b[0;32mreturn\u001b[0m \u001b[0mself\u001b[0m\u001b[0;34m.\u001b[0m\u001b[0m_result\u001b[0m\u001b[0;34m\u001b[0m\u001b[0;34m\u001b[0m\u001b[0m\n",
      "\u001b[0;31mIndexingError\u001b[0m: Unalignable boolean Series provided as indexer (index of the boolean Series and of the indexed object do not match)."
     ]
    }
   ],
   "source": [
    "%%time\n",
    "scores = cross_val_score(estimator=pipeline, \n",
    "                         X=df_train, \n",
    "                         y=y_train, \n",
    "                         cv=cv, \n",
    "                         n_jobs=-1, \n",
    "                         scoring='roc_auc',\n",
    "                         error_score='raise')\n",
    "print(scores, '\\n', scores.mean())"
   ]
  },
  {
   "cell_type": "markdown",
   "metadata": {},
   "source": [
    "|threshold|ho ROC AUC|cv ROC AUC|\n",
    "|-|-|-|\n",
    "|70|0.6533814042524182|0.8553871835162432|\n",
    "|73|0.6537689557046605||\n",
    "|75|0.6138739774269679||"
   ]
  },
  {
   "cell_type": "markdown",
   "metadata": {},
   "source": [
    "|size|ho ROC AUC|cv ROC AUC|\n",
    "|-|-|-|\n",
    "|32395|0.7306666806416131|0.7339981555761623|\n",
    "|30000|0.7388705564765433|0.7220597062579821|\n",
    "|25000|0.7286915548816526||\n",
    "|20000|0.7157682231845526|0.7323397988505748|"
   ]
  },
  {
   "cell_type": "markdown",
   "metadata": {},
   "source": [
    "## 3. Признаки"
   ]
  },
  {
   "cell_type": "markdown",
   "metadata": {
    "id": "PpXmo0lkKzZP"
   },
   "source": [
    "3\\. Теперь перейдем к работе с признаками. Ранее вы реализовали несколько стратегий для обработки пропущенных значений. Сравните эти стратегии между собой с помощью оценки качества моделей кросс-валидации, построенных на датасетах с использованием различных стратегий. Как обработка пропущенных значений сказывается на качестве модели? Какой вариант выглядит наиболее оптимальным с точки зрения качества?"
   ]
  },
  {
   "cell_type": "code",
   "execution_count": null,
   "metadata": {},
   "outputs": [],
   "source": [
    "from catboost import CatBoostClassifier\n",
    "\n",
    "from sklearn.model_selection import StratifiedShuffleSplit, cross_val_score\n",
    "from sklearn.metrics import roc_auc_score"
   ]
  },
  {
   "cell_type": "code",
   "execution_count": null,
   "metadata": {},
   "outputs": [],
   "source": [
    "cv = StratifiedShuffleSplit(n_splits=8, random_state=2179)"
   ]
  },
  {
   "cell_type": "markdown",
   "metadata": {},
   "source": [
    "Стратегия 1: замена на самое частое значение"
   ]
  },
  {
   "cell_type": "code",
   "execution_count": null,
   "metadata": {
    "id": "X-lw_MLjKzZQ"
   },
   "outputs": [],
   "source": [
    "numeric_transformer = Pipeline([\n",
    "    ('simple_imputer', SimpleImputer(strategy='mean')),\n",
    "    ('scaler', StandardScaler())\n",
    "])\n",
    "\n",
    "categorical_transformer = Pipeline([\n",
    "    ('simple_imputer', SimpleImputer(strategy='most_frequent')),\n",
    "    # ('ordinal_encoder', OrdinalEncoder())\n",
    "])\n",
    "\n",
    "preprocessor = ColumnTransformer(transformers=[\n",
    "    ('num', numeric_transformer, selector(dtype_exclude=\"object\")),\n",
    "    ('cat', categorical_transformer, selector(dtype_include=\"object\"))\n",
    "])\n",
    "\n",
    "preprocessor_pipeline = Pipeline([\n",
    "#     ('nan_columns_dropper', NanColumnsDropper()),\n",
    "    ('preprocessor', preprocessor),\n",
    "    # ('scaler', StandardScaler())\n",
    "    ('to_dataframe', DataFramer(df.columns))\n",
    "])"
   ]
  },
  {
   "cell_type": "code",
   "execution_count": null,
   "metadata": {},
   "outputs": [],
   "source": [
    "%%time\n",
    "X_train = preprocessor_pipeline.fit_transform(df_train)\n",
    "X_valid = preprocessor_pipeline.fit_transform(df_ho)\n",
    "X_train"
   ]
  },
  {
   "cell_type": "code",
   "execution_count": null,
   "metadata": {},
   "outputs": [],
   "source": [
    "catboost_classifier = CatBoostClassifier(\n",
    "    max_depth=6, \n",
    "    n_estimators=100, \n",
    "    cat_features=df_train.select_dtypes(include='object').columns.to_list(),\n",
    "    logging_level='Silent',\n",
    ")\n",
    "\n",
    "pipeline = Pipeline([\n",
    "    ('preprocessor', preprocessor_pipeline),\n",
    "    ('model', catboost_classifier)\n",
    "])"
   ]
  },
  {
   "cell_type": "code",
   "execution_count": null,
   "metadata": {},
   "outputs": [],
   "source": [
    "%%time\n",
    "pipeline.fit(df_train, y_train)\n",
    "print(roc_auc_score(y_valid, pipeline.predict_proba(df_ho)[:, 1]))"
   ]
  },
  {
   "cell_type": "code",
   "execution_count": null,
   "metadata": {},
   "outputs": [],
   "source": [
    "%%time\n",
    "catboost_classifier.fit(X_train, y_train)\n",
    "print(roc_auc_score(y_valid, catboost_classifier.predict_proba(X_valid)[:, 1]))"
   ]
  },
  {
   "cell_type": "code",
   "execution_count": null,
   "metadata": {},
   "outputs": [],
   "source": [
    "%%time\n",
    "scores = cross_val_score(estimator=pipeline, X=df_train, y=y_train, cv=2, n_jobs=-1, \n",
    "                         scoring='roc_auc', error_score='raise')\n",
    "print(scores, '\\n', scores.mean())"
   ]
  },
  {
   "cell_type": "markdown",
   "metadata": {},
   "source": [
    "|method num|method cat|ho ROC AUC|cv ROC AUC|\n",
    "|-|-|-|-|\n",
    "|most_frequent|most_frequent|0.6968358651677504||\n",
    "|mean|most_frequent|0.740488069223951||\n",
    "|median|most_frequent|0.7322809985168804||"
   ]
  },
  {
   "cell_type": "markdown",
   "metadata": {
    "id": "jXq_YeBHKzZR"
   },
   "source": [
    "4\\. Также вы уже реализовали несколько стратегий для обработки категориальных признаков. Сравните эти стратегии между собой с помощью оценки качества моделей по кросс-валидации, построенных на датасетах с использованием различных стратегий. Как обработка категориальных признаков сказывается на качестве модели? Какой вариант выглядит наиболее оптимальным с точки зрения качества?"
   ]
  },
  {
   "cell_type": "code",
   "execution_count": null,
   "metadata": {
    "id": "iZChsUajKzZS"
   },
   "outputs": [],
   "source": []
  },
  {
   "cell_type": "markdown",
   "metadata": {
    "id": "TgllaTH0KzZS"
   },
   "source": [
    "5\\. Все ли признаки оказались полезными для построения моделей? Проведите процедуру отбора признаков, попробуйте разные варианты отбора (обратите внимание на модуль `sklearn.feature_selection`). Например, можно выбрасывать случайные признаки или строить отбор на основе l1-регуляризации - отфильтровать из обучения признаки, которые получат нулевой вес при построении регрессии с l1-регуляризацией (`sklearn.linear_model.Lasso`). И всегда можно придумать что-то своё=) Попробуйте как минимум 2 различные стратегии, сравните результаты. Помог ли отбор признаков улучшить качество модели? Поясните свой ответ."
   ]
  },
  {
   "cell_type": "code",
   "execution_count": null,
   "metadata": {
    "id": "XhrX-ArnKzZT"
   },
   "outputs": [],
   "source": []
  },
  {
   "cell_type": "markdown",
   "metadata": {
    "id": "3tLHNRd9KzZU"
   },
   "source": [
    "6\\. Подберите оптимальные параметры модели. Обратите внимание, что в зависимости от того, как вы обработали исходные данные, сделали ли балансировку классов, сколько объектов оставили в обучающей выборке и др. оптимальные значения параметров могут меняться. Возьмите наилучшее из ваших решений на текущий момент и проведите процедуру подбора параметров модели (обратите внимание на `sklearn.model_selection.GridSearchCV`) Как подбор параметров повлиял на качество модели?"
   ]
  },
  {
   "cell_type": "code",
   "execution_count": null,
   "metadata": {
    "id": "0gcfVYqUKzZU"
   },
   "outputs": [],
   "source": []
  },
  {
   "cell_type": "markdown",
   "metadata": {
    "id": "tfWjw-84KzZU"
   },
   "source": [
    "7\\. Предложите методику оценки того, какие признаки внесли наибольший вклад в модель (например, это могут быть веса в случае регрессии, а также большое количество моделей реализуют метод `feature_importances_` - оценка важности признаков). На основе предложенной методики проанализируйте, какие признаки внесли больший вклад в модель, а какие меньший?"
   ]
  },
  {
   "cell_type": "code",
   "execution_count": null,
   "metadata": {
    "id": "joAXy4F5KzZV"
   },
   "outputs": [],
   "source": []
  },
  {
   "cell_type": "markdown",
   "metadata": {
    "id": "dgmC3MqdKzZW"
   },
   "source": [
    "8\\. Напоследок давайте посмотрим на объекты. На каких объектах достигается наибольшая ошибка классификации? Есть ли межу этими объектами что-то общее? Видны ли какие-либо закономерности? Предположите, почему наибольшая ошибка достигается именно на этих объектах. В данном случае \"наибольшую\" ошибку можно понимать как отнесение объекта с чужому классу с большой долей уверенности (с высокой вероятностью)."
   ]
  },
  {
   "cell_type": "code",
   "execution_count": null,
   "metadata": {
    "id": "MSxOGkwzKzZX"
   },
   "outputs": [],
   "source": []
  },
  {
   "cell_type": "markdown",
   "metadata": {
    "id": "VIHIQplXKzZX"
   },
   "source": [
    "9\\. По итогам проведенных экспериментов постройте финальную решение - модель с наилучшим качеством. Укажите, какие преобразования данных, параметры и пр. вы выбрали для построения финальной модели."
   ]
  },
  {
   "cell_type": "code",
   "execution_count": null,
   "metadata": {
    "id": "ZanMUE0HKzZY"
   },
   "outputs": [],
   "source": []
  },
  {
   "cell_type": "markdown",
   "metadata": {
    "id": "cfTnxjoAKzZZ"
   },
   "source": [
    "10\\. Подумайте, можно ли еще улучшить модель? Что для этого можно сделать? "
   ]
  },
  {
   "cell_type": "code",
   "execution_count": null,
   "metadata": {
    "id": "WGoHs_21KzZa"
   },
   "outputs": [],
   "source": []
  },
  {
   "cell_type": "markdown",
   "metadata": {
    "id": "GzxOFiRRJeeQ"
   },
   "source": [
    "# Тест"
   ]
  },
  {
   "cell_type": "code",
   "execution_count": null,
   "metadata": {
    "id": "DrEBp-MVJgdI"
   },
   "outputs": [],
   "source": [
    "def write_to_submission_file(predicted_labels, out_file,\n",
    "                             target='result', index_label=\"id\"):\n",
    "    # turn predictions into data frame and save as csv file\n",
    "    predicted_df = pd.DataFrame(predicted_labels,\n",
    "                                index = np.arange(0, predicted_labels.shape[0]),\n",
    "                                columns=[target])\n",
    "    predicted_df.to_csv(out_file, index_label=index_label)"
   ]
  },
  {
   "cell_type": "code",
   "execution_count": null,
   "metadata": {
    "id": "wABzZLrwJyda",
    "outputId": "2a1efca2-b975-4b85-b305-4b73bd169846"
   },
   "outputs": [],
   "source": [
    "df_test = pd.read_csv(os.path.join(PATH_TO_DATA, 'orange_small_churn_test_data.csv'), index_col=0)\n",
    "df_test"
   ]
  },
  {
   "cell_type": "code",
   "execution_count": null,
   "metadata": {
    "id": "AP32k4fEJz-a",
    "outputId": "5baec953-45f0-478b-a070-af9e9eb93c01"
   },
   "outputs": [],
   "source": [
    "%%time\n",
    "X_test = preprocessor_pipeline.fit_transform(df_test)\n",
    "X_test = pd.DataFrame(X_test, columns=preprocessor_pipeline['nan_columns_dropper'].cols)#.astype('int')\n",
    "X_test"
   ]
  },
  {
   "cell_type": "code",
   "execution_count": null,
   "metadata": {
    "id": "DMhwi9GaJ2Xr"
   },
   "outputs": [],
   "source": [
    "%%time\n",
    "# catboost_classifier.fit(X_train_all, y)\n",
    "prediction = catboost_classifier.predict_proba(X_test)"
   ]
  },
  {
   "cell_type": "code",
   "execution_count": null,
   "metadata": {
    "id": "WQYtnW0YKAlk"
   },
   "outputs": [],
   "source": [
    "write_to_submission_file(prediction[:, 1], 'result.csv')"
   ]
  },
  {
   "cell_type": "code",
   "execution_count": null,
   "metadata": {
    "id": "bzGTRZudKGku"
   },
   "outputs": [],
   "source": []
  }
 ],
 "metadata": {
  "kernelspec": {
   "display_name": "Python 3",
   "language": "python",
   "name": "python3"
  },
  "language_info": {
   "codemirror_mode": {
    "name": "ipython",
    "version": 3
   },
   "file_extension": ".py",
   "mimetype": "text/x-python",
   "name": "python",
   "nbconvert_exporter": "python",
   "pygments_lexer": "ipython3",
   "version": "3.8.8"
  }
 },
 "nbformat": 4,
 "nbformat_minor": 4
}
