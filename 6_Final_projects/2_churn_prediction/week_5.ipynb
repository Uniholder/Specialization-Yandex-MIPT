{
  "nbformat": 4,
  "nbformat_minor": 0,
  "metadata": {
    "colab": {
      "name": "week_5.ipynb",
      "provenance": [],
      "include_colab_link": true
    },
    "kernelspec": {
      "display_name": "Python 3",
      "language": "python",
      "name": "python3"
    },
    "language_info": {
      "codemirror_mode": {
        "name": "ipython",
        "version": 3
      },
      "file_extension": ".py",
      "mimetype": "text/x-python",
      "name": "python",
      "nbconvert_exporter": "python",
      "pygments_lexer": "ipython3",
      "version": "3.8.8"
    }
  },
  "cells": [
    {
      "cell_type": "markdown",
      "metadata": {
        "id": "view-in-github",
        "colab_type": "text"
      },
      "source": [
        "<a href=\"https://colab.research.google.com/github/Uniholder/Specialization-Yandex-MIPT/blob/main/6_Final_projects/2_churn_prediction/week_5.ipynb\" target=\"_parent\"><img src=\"https://colab.research.google.com/assets/colab-badge.svg\" alt=\"Open In Colab\"/></a>"
      ]
    },
    {
      "cell_type": "markdown",
      "metadata": {
        "id": "iYCsA0kOKzYv"
      },
      "source": [
        "# Peer-graded Assignment: Эксперименты с моделью\n",
        "\n",
        "На прошлой неделе вы поучаствовали в соревновании на kaggle и, наверняка, большинство успешно справилось с прохождением baseline, а значит пора двигаться дальше - заняться оптимизацией модели, провести серию экспериментов и построить сильное финальное решения.\n",
        "\n",
        "В этом задании вам нужно провести ряд эскпериментов, оценить качество полученных в процессе экспериментирования моделей и выбрать лучшее решение. "
      ]
    },
    {
      "cell_type": "markdown",
      "metadata": {
        "id": "Z0D6tKw0KzY5"
      },
      "source": [
        "Задание будет оцениваться на основании загруженного jupyther notebook и развернутых ответов на поставленные вопросы."
      ]
    },
    {
      "cell_type": "code",
      "metadata": {
        "id": "mCP9bbN7asA5",
        "outputId": "8e2cfda2-f001-4847-ab0a-30e62baba071",
        "colab": {
          "base_uri": "https://localhost:8080/"
        }
      },
      "source": [
        "!mkdir data\n",
        "!wget -O data/orange_small_churn_data.train https://stepik.org/media/attachments/lesson/90608/_847b6cd041836e8fa914243e83d898fb_orange_small_churn_data.train\n",
        "!wget -O data/orange_small_churn_labels.train https://stepik.org/media/attachments/lesson/90608/_ce5e9e4280a8856218f1886f007de2a4_orange_small_churn_labels.train\n",
        "!gdown -O data/ 1rW8ZBa870U3DHzERRfy1q777914JKPtA"
      ],
      "execution_count": 1,
      "outputs": [
        {
          "output_type": "stream",
          "name": "stdout",
          "text": [
            "--2022-08-19 10:16:55--  https://stepik.org/media/attachments/lesson/90608/_847b6cd041836e8fa914243e83d898fb_orange_small_churn_data.train\n",
            "Resolving stepik.org (stepik.org)... 13.69.75.239\n",
            "Connecting to stepik.org (stepik.org)|13.69.75.239|:443... connected.\n",
            "HTTP request sent, awaiting response... 200 OK\n",
            "Length: 23722578 (23M) [application/octet-stream]\n",
            "Saving to: ‘data/orange_small_churn_data.train’\n",
            "\n",
            "data/orange_small_c 100%[===================>]  22.62M  13.4MB/s    in 1.7s    \n",
            "\n",
            "2022-08-19 10:16:57 (13.4 MB/s) - ‘data/orange_small_churn_data.train’ saved [23722578/23722578]\n",
            "\n",
            "--2022-08-19 10:16:57--  https://stepik.org/media/attachments/lesson/90608/_ce5e9e4280a8856218f1886f007de2a4_orange_small_churn_labels.train\n",
            "Resolving stepik.org (stepik.org)... 13.69.75.239\n",
            "Connecting to stepik.org (stepik.org)|13.69.75.239|:443... connected.\n",
            "HTTP request sent, awaiting response... 200 OK\n",
            "Length: 117024 (114K) [application/octet-stream]\n",
            "Saving to: ‘data/orange_small_churn_labels.train’\n",
            "\n",
            "data/orange_small_c 100%[===================>] 114.28K   557KB/s    in 0.2s    \n",
            "\n",
            "2022-08-19 10:16:58 (557 KB/s) - ‘data/orange_small_churn_labels.train’ saved [117024/117024]\n",
            "\n",
            "Downloading...\n",
            "From: https://drive.google.com/uc?id=1rW8ZBa870U3DHzERRfy1q777914JKPtA\n",
            "To: /content/data/orange_small_churn_test_data.csv\n",
            "100% 5.98M/5.98M [00:00<00:00, 52.0MB/s]\n"
          ]
        }
      ]
    },
    {
      "cell_type": "code",
      "source": [
        "!pip install catboost"
      ],
      "metadata": {
        "id": "pfawJP8Ssfit",
        "outputId": "aa077a26-c0e8-4e93-8f0f-423209ed5577",
        "colab": {
          "base_uri": "https://localhost:8080/"
        }
      },
      "execution_count": 2,
      "outputs": [
        {
          "output_type": "stream",
          "name": "stdout",
          "text": [
            "Looking in indexes: https://pypi.org/simple, https://us-python.pkg.dev/colab-wheels/public/simple/\n",
            "Collecting catboost\n",
            "  Downloading catboost-1.0.6-cp37-none-manylinux1_x86_64.whl (76.6 MB)\n",
            "\u001b[K     |████████████████████████████████| 76.6 MB 1.2 MB/s \n",
            "\u001b[?25hRequirement already satisfied: matplotlib in /usr/local/lib/python3.7/dist-packages (from catboost) (3.2.2)\n",
            "Requirement already satisfied: six in /usr/local/lib/python3.7/dist-packages (from catboost) (1.15.0)\n",
            "Requirement already satisfied: graphviz in /usr/local/lib/python3.7/dist-packages (from catboost) (0.10.1)\n",
            "Requirement already satisfied: pandas>=0.24.0 in /usr/local/lib/python3.7/dist-packages (from catboost) (1.3.5)\n",
            "Requirement already satisfied: plotly in /usr/local/lib/python3.7/dist-packages (from catboost) (5.5.0)\n",
            "Requirement already satisfied: numpy>=1.16.0 in /usr/local/lib/python3.7/dist-packages (from catboost) (1.21.6)\n",
            "Requirement already satisfied: scipy in /usr/local/lib/python3.7/dist-packages (from catboost) (1.7.3)\n",
            "Requirement already satisfied: python-dateutil>=2.7.3 in /usr/local/lib/python3.7/dist-packages (from pandas>=0.24.0->catboost) (2.8.2)\n",
            "Requirement already satisfied: pytz>=2017.3 in /usr/local/lib/python3.7/dist-packages (from pandas>=0.24.0->catboost) (2022.1)\n",
            "Requirement already satisfied: cycler>=0.10 in /usr/local/lib/python3.7/dist-packages (from matplotlib->catboost) (0.11.0)\n",
            "Requirement already satisfied: kiwisolver>=1.0.1 in /usr/local/lib/python3.7/dist-packages (from matplotlib->catboost) (1.4.4)\n",
            "Requirement already satisfied: pyparsing!=2.0.4,!=2.1.2,!=2.1.6,>=2.0.1 in /usr/local/lib/python3.7/dist-packages (from matplotlib->catboost) (3.0.9)\n",
            "Requirement already satisfied: typing-extensions in /usr/local/lib/python3.7/dist-packages (from kiwisolver>=1.0.1->matplotlib->catboost) (4.1.1)\n",
            "Requirement already satisfied: tenacity>=6.2.0 in /usr/local/lib/python3.7/dist-packages (from plotly->catboost) (8.0.1)\n",
            "Installing collected packages: catboost\n",
            "Successfully installed catboost-1.0.6\n"
          ]
        }
      ]
    },
    {
      "cell_type": "code",
      "metadata": {
        "execution": {
          "iopub.execute_input": "2021-09-21T20:08:50.457684Z",
          "iopub.status.busy": "2021-09-21T20:08:50.457227Z",
          "iopub.status.idle": "2021-09-21T20:08:50.464038Z",
          "shell.execute_reply": "2021-09-21T20:08:50.463123Z",
          "shell.execute_reply.started": "2021-09-21T20:08:50.457646Z"
        },
        "id": "YEcTk6Yjep9K"
      },
      "source": [
        "import warnings\n",
        "warnings.filterwarnings('ignore')\n",
        "\n",
        "import pandas as pd\n",
        "import os\n",
        "import numpy as np\n",
        "\n",
        "from sklearn.model_selection import train_test_split, cross_val_score, StratifiedShuffleSplit\n",
        "from sklearn.preprocessing import OrdinalEncoder, StandardScaler, OneHotEncoder\n",
        "from sklearn.impute import SimpleImputer\n",
        "from sklearn.base import BaseEstimator, TransformerMixin\n",
        "from sklearn.pipeline import Pipeline as SklPipeline\n",
        "from sklearn.compose import make_column_selector as selector, ColumnTransformer\n",
        "from sklearn.linear_model import RidgeClassifier, LogisticRegression, SGDClassifier\n",
        "# from sklearn.ensemble import RandomForestClassifier, GradientBoostingClassifier\n",
        "from sklearn.metrics import roc_auc_score\n",
        "\n",
        "from catboost import CatBoostClassifier, cv, Pool\n",
        "\n",
        "PATH_TO_DATA = 'data'\n",
        "# PATH_TO_DATA = '../input/churn-prediction-spec'"
      ],
      "execution_count": 3,
      "outputs": []
    },
    {
      "cell_type": "markdown",
      "source": [
        "# Данные"
      ],
      "metadata": {
        "id": "yfok4kcptbuK"
      }
    },
    {
      "cell_type": "code",
      "source": [
        "df_raw = pd.read_csv(os.path.join(PATH_TO_DATA, 'orange_small_churn_data.train'))\n",
        "labels = pd.read_csv(os.path.join(PATH_TO_DATA, 'orange_small_churn_labels.train'), header=None, squeeze=True)\n",
        "df_raw.shape"
      ],
      "metadata": {
        "id": "FWAb3H5Utj5w",
        "outputId": "ebafe32f-623e-4029-a4e9-a0e0ff79f39d",
        "colab": {
          "base_uri": "https://localhost:8080/"
        }
      },
      "execution_count": 4,
      "outputs": [
        {
          "output_type": "execute_result",
          "data": {
            "text/plain": [
              "(40000, 230)"
            ]
          },
          "metadata": {},
          "execution_count": 4
        }
      ]
    },
    {
      "cell_type": "code",
      "source": [
        "num_vars = df_raw.columns[:190]\n",
        "cat_vars = df_raw.columns[190:]\n",
        "na_vars = df_raw.columns[df_raw.isna().all()]\n",
        "\n",
        "nna_num_vars = list(set(num_vars) - set(na_vars))\n",
        "nna_cat_vars = list(set(cat_vars) - set(na_vars))"
      ],
      "metadata": {
        "id": "Rwxmy3c6xaaa"
      },
      "execution_count": 5,
      "outputs": []
    },
    {
      "cell_type": "code",
      "source": [
        "df_raw['target'] = labels\n",
        "df = df_raw.dropna(axis=1, how='all')\n",
        "df.shape"
      ],
      "metadata": {
        "id": "qzrrrwdpxfYC",
        "outputId": "a7a41d93-f9b8-4172-c512-6f74117f302d",
        "colab": {
          "base_uri": "https://localhost:8080/"
        }
      },
      "execution_count": 6,
      "outputs": [
        {
          "output_type": "execute_result",
          "data": {
            "text/plain": [
              "(40000, 213)"
            ]
          },
          "metadata": {},
          "execution_count": 6
        }
      ]
    },
    {
      "cell_type": "code",
      "metadata": {
        "execution": {
          "iopub.execute_input": "2021-09-21T20:06:22.997374Z",
          "iopub.status.busy": "2021-09-21T20:06:22.996990Z",
          "iopub.status.idle": "2021-09-21T20:06:23.077072Z",
          "shell.execute_reply": "2021-09-21T20:06:23.076174Z",
          "shell.execute_reply.started": "2021-09-21T20:06:22.997332Z"
        },
        "id": "9lvJZytLEb2Q",
        "outputId": "9e4c1a41-de58-48d2-9948-52a24c182fb6",
        "colab": {
          "base_uri": "https://localhost:8080/"
        }
      },
      "source": [
        "df_train, df_ho = train_test_split(df, test_size=5000)\n",
        "df_train.shape, df_ho.shape"
      ],
      "execution_count": 7,
      "outputs": [
        {
          "output_type": "execute_result",
          "data": {
            "text/plain": [
              "((35000, 213), (5000, 213))"
            ]
          },
          "metadata": {},
          "execution_count": 7
        }
      ]
    },
    {
      "cell_type": "markdown",
      "metadata": {
        "id": "YV13mzdxoBAO"
      },
      "source": [
        "## Baseline"
      ]
    },
    {
      "cell_type": "code",
      "source": [
        "cols = df_train.drop('target', axis=1).columns"
      ],
      "metadata": {
        "id": "jjwdBKONxtEt"
      },
      "execution_count": 8,
      "outputs": []
    },
    {
      "cell_type": "code",
      "source": [
        "si = SimpleImputer(strategy='most_frequent')\n",
        "X_imp = pd.DataFrame(si.fit_transform(df_train[cols]), columns=cols)\n",
        "X_val_imp = pd.DataFrame(si.transform(df_ho[cols]), columns=cols)"
      ],
      "metadata": {
        "id": "YLsgT5Hgy1cO"
      },
      "execution_count": 9,
      "outputs": []
    },
    {
      "cell_type": "code",
      "source": [
        "y = df_train.target\n",
        "y_val = df_ho.target"
      ],
      "metadata": {
        "id": "xYn6Y1_TzBAr"
      },
      "execution_count": 10,
      "outputs": []
    },
    {
      "cell_type": "code",
      "source": [
        "base_params = {\n",
        "    'eval_metric': 'AUC:hints=skip_train~false', \n",
        "    'verbose': False,\n",
        "    'loss_function': 'Logloss'\n",
        "}"
      ],
      "metadata": {
        "id": "9E2OiKgGzOtj"
      },
      "execution_count": 11,
      "outputs": []
    },
    {
      "cell_type": "code",
      "metadata": {
        "execution": {
          "iopub.execute_input": "2021-09-21T20:13:01.355048Z",
          "iopub.status.busy": "2021-09-21T20:13:01.354721Z",
          "iopub.status.idle": "2021-09-21T20:13:01.377842Z",
          "shell.execute_reply": "2021-09-21T20:13:01.377041Z",
          "shell.execute_reply.started": "2021-09-21T20:13:01.355013Z"
        },
        "id": "TFQ-TWJOqU2w",
        "outputId": "a483f137-03b2-4a5b-a4fe-f682d7d1fd41",
        "colab": {
          "base_uri": "https://localhost:8080/"
        }
      },
      "source": [
        "%%time\n",
        "model = CatBoostClassifier(**base_params, cat_features=nna_cat_vars)\n",
        "model.fit(X_imp, y)\n",
        "print(roc_auc_score(y_val, model.predict_proba(X_val_imp)[:, 1]))"
      ],
      "execution_count": 12,
      "outputs": [
        {
          "output_type": "stream",
          "name": "stdout",
          "text": [
            "0.7346440720878449\n",
            "CPU times: user 8min 41s, sys: 26.3 s, total: 9min 8s\n",
            "Wall time: 4min 53s\n"
          ]
        }
      ]
    },
    {
      "cell_type": "code",
      "source": [
        "%%time\n",
        "cv_results = cv(\n",
        "    params={**base_params},\n",
        "    pool=Pool(X_imp, y, cat_features=nna_cat_vars),\n",
        "    fold_count=5,\n",
        "    shuffle=True,\n",
        "    # plot=True,\n",
        "    type='Classical'\n",
        ")"
      ],
      "metadata": {
        "id": "_okiESDw0iGa",
        "outputId": "faadac3f-2a6b-4dbf-df00-acb6d627962d",
        "colab": {
          "base_uri": "https://localhost:8080/"
        }
      },
      "execution_count": 13,
      "outputs": [
        {
          "output_type": "stream",
          "name": "stdout",
          "text": [
            "Training on fold [0/5]\n",
            "\n",
            "bestTest = 0.7419467207\n",
            "bestIteration = 977\n",
            "\n",
            "Training on fold [1/5]\n",
            "\n",
            "bestTest = 0.7355747105\n",
            "bestIteration = 469\n",
            "\n",
            "Training on fold [2/5]\n",
            "\n",
            "bestTest = 0.7510915961\n",
            "bestIteration = 442\n",
            "\n",
            "Training on fold [3/5]\n",
            "\n",
            "bestTest = 0.7510417063\n",
            "bestIteration = 522\n",
            "\n",
            "Training on fold [4/5]\n",
            "\n",
            "bestTest = 0.7355888803\n",
            "bestIteration = 695\n",
            "\n",
            "CPU times: user 38min 18s, sys: 2min 57s, total: 41min 16s\n",
            "Wall time: 21min 36s\n"
          ]
        }
      ]
    },
    {
      "cell_type": "code",
      "source": [
        "cv_results"
      ],
      "metadata": {
        "id": "yEwC49_ornJD",
        "outputId": "06f7aa19-064b-4798-88cf-a55baca73025",
        "colab": {
          "base_uri": "https://localhost:8080/",
          "height": 419
        }
      },
      "execution_count": 18,
      "outputs": [
        {
          "output_type": "execute_result",
          "data": {
            "text/plain": [
              "     iterations  test-AUC-mean  test-AUC-std  train-AUC-mean  train-AUC-std  \\\n",
              "0             0       0.508447      0.013342        0.512898       0.018675   \n",
              "1             1       0.543066      0.044849        0.542748       0.044818   \n",
              "2             2       0.583562      0.043775        0.585365       0.038866   \n",
              "3             3       0.588719      0.043111        0.590594       0.038647   \n",
              "4             4       0.597498      0.034074        0.598425       0.030738   \n",
              "..          ...            ...           ...             ...            ...   \n",
              "995         995       0.741394      0.007948        0.839974       0.002004   \n",
              "996         996       0.741406      0.007932        0.840006       0.002026   \n",
              "997         997       0.741476      0.007886        0.840172       0.002051   \n",
              "998         998       0.741468      0.007894        0.840286       0.001989   \n",
              "999         999       0.741457      0.007880        0.840372       0.002043   \n",
              "\n",
              "     test-Logloss-mean  test-Logloss-std  train-Logloss-mean  \\\n",
              "0             0.661708          0.000069            0.661700   \n",
              "1             0.632111          0.000844            0.632068   \n",
              "2             0.604440          0.000886            0.604398   \n",
              "3             0.579468          0.000836            0.579432   \n",
              "4             0.556364          0.000711            0.556318   \n",
              "..                 ...               ...                 ...   \n",
              "995           0.236810          0.002158            0.207633   \n",
              "996           0.236805          0.002152            0.207619   \n",
              "997           0.236789          0.002133            0.207569   \n",
              "998           0.236792          0.002133            0.207529   \n",
              "999           0.236792          0.002129            0.207499   \n",
              "\n",
              "     train-Logloss-std  \n",
              "0             0.000075  \n",
              "1             0.000893  \n",
              "2             0.000949  \n",
              "3             0.000907  \n",
              "4             0.000790  \n",
              "..                 ...  \n",
              "995           0.001249  \n",
              "996           0.001257  \n",
              "997           0.001277  \n",
              "998           0.001260  \n",
              "999           0.001278  \n",
              "\n",
              "[1000 rows x 9 columns]"
            ],
            "text/html": [
              "\n",
              "  <div id=\"df-1e5cba16-a1d3-41a4-aa4e-097a225f558f\">\n",
              "    <div class=\"colab-df-container\">\n",
              "      <div>\n",
              "<style scoped>\n",
              "    .dataframe tbody tr th:only-of-type {\n",
              "        vertical-align: middle;\n",
              "    }\n",
              "\n",
              "    .dataframe tbody tr th {\n",
              "        vertical-align: top;\n",
              "    }\n",
              "\n",
              "    .dataframe thead th {\n",
              "        text-align: right;\n",
              "    }\n",
              "</style>\n",
              "<table border=\"1\" class=\"dataframe\">\n",
              "  <thead>\n",
              "    <tr style=\"text-align: right;\">\n",
              "      <th></th>\n",
              "      <th>iterations</th>\n",
              "      <th>test-AUC-mean</th>\n",
              "      <th>test-AUC-std</th>\n",
              "      <th>train-AUC-mean</th>\n",
              "      <th>train-AUC-std</th>\n",
              "      <th>test-Logloss-mean</th>\n",
              "      <th>test-Logloss-std</th>\n",
              "      <th>train-Logloss-mean</th>\n",
              "      <th>train-Logloss-std</th>\n",
              "    </tr>\n",
              "  </thead>\n",
              "  <tbody>\n",
              "    <tr>\n",
              "      <th>0</th>\n",
              "      <td>0</td>\n",
              "      <td>0.508447</td>\n",
              "      <td>0.013342</td>\n",
              "      <td>0.512898</td>\n",
              "      <td>0.018675</td>\n",
              "      <td>0.661708</td>\n",
              "      <td>0.000069</td>\n",
              "      <td>0.661700</td>\n",
              "      <td>0.000075</td>\n",
              "    </tr>\n",
              "    <tr>\n",
              "      <th>1</th>\n",
              "      <td>1</td>\n",
              "      <td>0.543066</td>\n",
              "      <td>0.044849</td>\n",
              "      <td>0.542748</td>\n",
              "      <td>0.044818</td>\n",
              "      <td>0.632111</td>\n",
              "      <td>0.000844</td>\n",
              "      <td>0.632068</td>\n",
              "      <td>0.000893</td>\n",
              "    </tr>\n",
              "    <tr>\n",
              "      <th>2</th>\n",
              "      <td>2</td>\n",
              "      <td>0.583562</td>\n",
              "      <td>0.043775</td>\n",
              "      <td>0.585365</td>\n",
              "      <td>0.038866</td>\n",
              "      <td>0.604440</td>\n",
              "      <td>0.000886</td>\n",
              "      <td>0.604398</td>\n",
              "      <td>0.000949</td>\n",
              "    </tr>\n",
              "    <tr>\n",
              "      <th>3</th>\n",
              "      <td>3</td>\n",
              "      <td>0.588719</td>\n",
              "      <td>0.043111</td>\n",
              "      <td>0.590594</td>\n",
              "      <td>0.038647</td>\n",
              "      <td>0.579468</td>\n",
              "      <td>0.000836</td>\n",
              "      <td>0.579432</td>\n",
              "      <td>0.000907</td>\n",
              "    </tr>\n",
              "    <tr>\n",
              "      <th>4</th>\n",
              "      <td>4</td>\n",
              "      <td>0.597498</td>\n",
              "      <td>0.034074</td>\n",
              "      <td>0.598425</td>\n",
              "      <td>0.030738</td>\n",
              "      <td>0.556364</td>\n",
              "      <td>0.000711</td>\n",
              "      <td>0.556318</td>\n",
              "      <td>0.000790</td>\n",
              "    </tr>\n",
              "    <tr>\n",
              "      <th>...</th>\n",
              "      <td>...</td>\n",
              "      <td>...</td>\n",
              "      <td>...</td>\n",
              "      <td>...</td>\n",
              "      <td>...</td>\n",
              "      <td>...</td>\n",
              "      <td>...</td>\n",
              "      <td>...</td>\n",
              "      <td>...</td>\n",
              "    </tr>\n",
              "    <tr>\n",
              "      <th>995</th>\n",
              "      <td>995</td>\n",
              "      <td>0.741394</td>\n",
              "      <td>0.007948</td>\n",
              "      <td>0.839974</td>\n",
              "      <td>0.002004</td>\n",
              "      <td>0.236810</td>\n",
              "      <td>0.002158</td>\n",
              "      <td>0.207633</td>\n",
              "      <td>0.001249</td>\n",
              "    </tr>\n",
              "    <tr>\n",
              "      <th>996</th>\n",
              "      <td>996</td>\n",
              "      <td>0.741406</td>\n",
              "      <td>0.007932</td>\n",
              "      <td>0.840006</td>\n",
              "      <td>0.002026</td>\n",
              "      <td>0.236805</td>\n",
              "      <td>0.002152</td>\n",
              "      <td>0.207619</td>\n",
              "      <td>0.001257</td>\n",
              "    </tr>\n",
              "    <tr>\n",
              "      <th>997</th>\n",
              "      <td>997</td>\n",
              "      <td>0.741476</td>\n",
              "      <td>0.007886</td>\n",
              "      <td>0.840172</td>\n",
              "      <td>0.002051</td>\n",
              "      <td>0.236789</td>\n",
              "      <td>0.002133</td>\n",
              "      <td>0.207569</td>\n",
              "      <td>0.001277</td>\n",
              "    </tr>\n",
              "    <tr>\n",
              "      <th>998</th>\n",
              "      <td>998</td>\n",
              "      <td>0.741468</td>\n",
              "      <td>0.007894</td>\n",
              "      <td>0.840286</td>\n",
              "      <td>0.001989</td>\n",
              "      <td>0.236792</td>\n",
              "      <td>0.002133</td>\n",
              "      <td>0.207529</td>\n",
              "      <td>0.001260</td>\n",
              "    </tr>\n",
              "    <tr>\n",
              "      <th>999</th>\n",
              "      <td>999</td>\n",
              "      <td>0.741457</td>\n",
              "      <td>0.007880</td>\n",
              "      <td>0.840372</td>\n",
              "      <td>0.002043</td>\n",
              "      <td>0.236792</td>\n",
              "      <td>0.002129</td>\n",
              "      <td>0.207499</td>\n",
              "      <td>0.001278</td>\n",
              "    </tr>\n",
              "  </tbody>\n",
              "</table>\n",
              "<p>1000 rows × 9 columns</p>\n",
              "</div>\n",
              "      <button class=\"colab-df-convert\" onclick=\"convertToInteractive('df-1e5cba16-a1d3-41a4-aa4e-097a225f558f')\"\n",
              "              title=\"Convert this dataframe to an interactive table.\"\n",
              "              style=\"display:none;\">\n",
              "        \n",
              "  <svg xmlns=\"http://www.w3.org/2000/svg\" height=\"24px\"viewBox=\"0 0 24 24\"\n",
              "       width=\"24px\">\n",
              "    <path d=\"M0 0h24v24H0V0z\" fill=\"none\"/>\n",
              "    <path d=\"M18.56 5.44l.94 2.06.94-2.06 2.06-.94-2.06-.94-.94-2.06-.94 2.06-2.06.94zm-11 1L8.5 8.5l.94-2.06 2.06-.94-2.06-.94L8.5 2.5l-.94 2.06-2.06.94zm10 10l.94 2.06.94-2.06 2.06-.94-2.06-.94-.94-2.06-.94 2.06-2.06.94z\"/><path d=\"M17.41 7.96l-1.37-1.37c-.4-.4-.92-.59-1.43-.59-.52 0-1.04.2-1.43.59L10.3 9.45l-7.72 7.72c-.78.78-.78 2.05 0 2.83L4 21.41c.39.39.9.59 1.41.59.51 0 1.02-.2 1.41-.59l7.78-7.78 2.81-2.81c.8-.78.8-2.07 0-2.86zM5.41 20L4 18.59l7.72-7.72 1.47 1.35L5.41 20z\"/>\n",
              "  </svg>\n",
              "      </button>\n",
              "      \n",
              "  <style>\n",
              "    .colab-df-container {\n",
              "      display:flex;\n",
              "      flex-wrap:wrap;\n",
              "      gap: 12px;\n",
              "    }\n",
              "\n",
              "    .colab-df-convert {\n",
              "      background-color: #E8F0FE;\n",
              "      border: none;\n",
              "      border-radius: 50%;\n",
              "      cursor: pointer;\n",
              "      display: none;\n",
              "      fill: #1967D2;\n",
              "      height: 32px;\n",
              "      padding: 0 0 0 0;\n",
              "      width: 32px;\n",
              "    }\n",
              "\n",
              "    .colab-df-convert:hover {\n",
              "      background-color: #E2EBFA;\n",
              "      box-shadow: 0px 1px 2px rgba(60, 64, 67, 0.3), 0px 1px 3px 1px rgba(60, 64, 67, 0.15);\n",
              "      fill: #174EA6;\n",
              "    }\n",
              "\n",
              "    [theme=dark] .colab-df-convert {\n",
              "      background-color: #3B4455;\n",
              "      fill: #D2E3FC;\n",
              "    }\n",
              "\n",
              "    [theme=dark] .colab-df-convert:hover {\n",
              "      background-color: #434B5C;\n",
              "      box-shadow: 0px 1px 3px 1px rgba(0, 0, 0, 0.15);\n",
              "      filter: drop-shadow(0px 1px 2px rgba(0, 0, 0, 0.3));\n",
              "      fill: #FFFFFF;\n",
              "    }\n",
              "  </style>\n",
              "\n",
              "      <script>\n",
              "        const buttonEl =\n",
              "          document.querySelector('#df-1e5cba16-a1d3-41a4-aa4e-097a225f558f button.colab-df-convert');\n",
              "        buttonEl.style.display =\n",
              "          google.colab.kernel.accessAllowed ? 'block' : 'none';\n",
              "\n",
              "        async function convertToInteractive(key) {\n",
              "          const element = document.querySelector('#df-1e5cba16-a1d3-41a4-aa4e-097a225f558f');\n",
              "          const dataTable =\n",
              "            await google.colab.kernel.invokeFunction('convertToInteractive',\n",
              "                                                     [key], {});\n",
              "          if (!dataTable) return;\n",
              "\n",
              "          const docLinkHtml = 'Like what you see? Visit the ' +\n",
              "            '<a target=\"_blank\" href=https://colab.research.google.com/notebooks/data_table.ipynb>data table notebook</a>'\n",
              "            + ' to learn more about interactive tables.';\n",
              "          element.innerHTML = '';\n",
              "          dataTable['output_type'] = 'display_data';\n",
              "          await google.colab.output.renderOutput(dataTable, element);\n",
              "          const docLink = document.createElement('div');\n",
              "          docLink.innerHTML = docLinkHtml;\n",
              "          element.appendChild(docLink);\n",
              "        }\n",
              "      </script>\n",
              "    </div>\n",
              "  </div>\n",
              "  "
            ]
          },
          "metadata": {},
          "execution_count": 18
        }
      ]
    },
    {
      "cell_type": "code",
      "source": [
        "cv_results['test-AUC-mean'].argmax(), cv_results['test-AUC-mean'].max()"
      ],
      "metadata": {
        "id": "3o2oEYppyQmq",
        "outputId": "b9c3bfef-14ee-4f0b-a4dd-487eb4769bea",
        "colab": {
          "base_uri": "https://localhost:8080/"
        }
      },
      "execution_count": 20,
      "outputs": [
        {
          "output_type": "execute_result",
          "data": {
            "text/plain": [
              "(635, 0.7422765833272078)"
            ]
          },
          "metadata": {},
          "execution_count": 20
        }
      ]
    },
    {
      "cell_type": "markdown",
      "metadata": {
        "id": "JxG-D4arKzY-"
      },
      "source": [
        "# Инструкции"
      ]
    },
    {
      "cell_type": "markdown",
      "metadata": {
        "id": "toJqNfjrEb2f"
      },
      "source": [
        "## 1. Learning curve"
      ]
    },
    {
      "cell_type": "markdown",
      "metadata": {
        "id": "BI8rTRQbKzY_"
      },
      "source": [
        "1\\. Начнем с простого. Давайте оценим как много объектов действительно нужно для построения качественной модели. Для обучения доступна достаточно большая выборка и может так оказаться, что начиная с некоторого момента рост размера обучающей выборки перестает влиять на качество модели. Постройте кривые обучения, обучая модель на выборках разного размера начиная с небольшого количество объектов в обучающей выборке и постепенно наращивая её размер с некоторым шагом. Обратите внимание на `sklearn.model_selection.learning_curve`"
      ]
    },
    {
      "cell_type": "code",
      "metadata": {
        "id": "9HC8q97nKzZC"
      },
      "source": [
        "from sklearn.model_selection import  learning_curve\n",
        "\n",
        "from matplotlib import pyplot as plt\n",
        "plt.rcParams['figure.figsize'] = (13, 8)\n",
        "import seaborn as sns\n",
        "sns.set()"
      ],
      "execution_count": 14,
      "outputs": []
    },
    {
      "cell_type": "code",
      "source": [
        "cv_scheme = StratifiedShuffleSplit(random_state=0)"
      ],
      "metadata": {
        "id": "SXOR4YFSGsfk"
      },
      "execution_count": 15,
      "outputs": []
    },
    {
      "cell_type": "code",
      "metadata": {
        "id": "f1QPjeUAYUya",
        "outputId": "62eff035-d70e-4d3a-88b1-9b52227b212b",
        "colab": {
          "base_uri": "https://localhost:8080/"
        }
      },
      "source": [
        "%%time\n",
        "train_sizes_abs, train_scores, test_scores, fit_times, score_times = learning_curve(\n",
        "    estimator=model, # catboost\n",
        "    X=X_imp,\n",
        "    y=y,\n",
        "    cv=cv_scheme,\n",
        "    scoring='roc_auc',\n",
        "    n_jobs=-1,\n",
        "    return_times=True,\n",
        "    verbose=10\n",
        ")"
      ],
      "execution_count": 21,
      "outputs": [
        {
          "output_type": "stream",
          "name": "stdout",
          "text": [
            "[learning_curve] Training set sizes: [ 3150 10237 17325 24412 31500]\n"
          ]
        },
        {
          "output_type": "stream",
          "name": "stderr",
          "text": [
            "[Parallel(n_jobs=-1)]: Using backend LokyBackend with 2 concurrent workers.\n",
            "[Parallel(n_jobs=-1)]: Done   3 out of  50 | elapsed:  7.2min remaining: 112.6min\n",
            "[Parallel(n_jobs=-1)]: Done   9 out of  50 | elapsed: 23.2min remaining: 105.7min\n",
            "[Parallel(n_jobs=-1)]: Done  15 out of  50 | elapsed: 38.8min remaining: 90.5min\n",
            "[Parallel(n_jobs=-1)]: Done  21 out of  50 | elapsed: 54.6min remaining: 75.4min\n",
            "[Parallel(n_jobs=-1)]: Done  27 out of  50 | elapsed: 68.9min remaining: 58.7min\n",
            "[Parallel(n_jobs=-1)]: Done  33 out of  50 | elapsed: 86.3min remaining: 44.5min\n",
            "[Parallel(n_jobs=-1)]: Done  39 out of  50 | elapsed: 102.6min remaining: 28.9min\n",
            "[Parallel(n_jobs=-1)]: Done  45 out of  50 | elapsed: 117.9min remaining: 13.1min\n"
          ]
        },
        {
          "output_type": "stream",
          "name": "stdout",
          "text": [
            "CPU times: user 1min 14s, sys: 7.33 s, total: 1min 22s\n",
            "Wall time: 2h 12min 12s\n"
          ]
        },
        {
          "output_type": "stream",
          "name": "stderr",
          "text": [
            "[Parallel(n_jobs=-1)]: Done  50 out of  50 | elapsed: 132.2min finished\n"
          ]
        }
      ]
    },
    {
      "cell_type": "code",
      "source": [
        "plt.plot(train_sizes_abs, train_scores.mean(axis=1), label='Train')\n",
        "plt.plot(train_sizes_abs, test_scores.mean(axis=1), label='Test')\n",
        "plt.legend()\n",
        "plt.xlabel('Размер обучающей выборки')\n",
        "plt.ylabel('ROC AUC')\n",
        "plt.title('Learning curves');"
      ],
      "metadata": {
        "id": "pKtm6IEHoZuF",
        "outputId": "ac211f49-57de-46a1-c23d-bb22662653ae",
        "colab": {
          "base_uri": "https://localhost:8080/",
          "height": 518
        }
      },
      "execution_count": 22,
      "outputs": [
        {
          "output_type": "display_data",
          "data": {
            "text/plain": [
              "<Figure size 936x576 with 1 Axes>"
            ],
            "image/png": "[encoded data removed]"
          },
          "metadata": {}
        }
      ]
    },
    {
      "cell_type": "markdown",
      "metadata": {
        "id": "VIXnQOK4Eb2j"
      },
      "source": [
        "## 2. Balancing"
      ]
    },
    {
      "cell_type": "markdown",
      "metadata": {
        "id": "05zahwi5KzZF"
      },
      "source": [
        "2\\. Часто несбалансированные по классам выборки приводят к различным проблемам при обучении моделей. Давайте попробуем по-разному обработать выборку, поиграть с распределением объектов по классам и сделать выводы о том, как соотношение классов влияет на качество модели."
      ]
    },
    {
      "cell_type": "markdown",
      "metadata": {
        "id": "ZvLDTO0CEb2k"
      },
      "source": [
        "### 2.1 Веса"
      ]
    },
    {
      "cell_type": "markdown",
      "metadata": {
        "id": "fioUkJaiKzZH"
      },
      "source": [
        "2.1\\. Задайте веса объектам так, чтобы соотношение классов с учетом весов объектов изменилось. Попробуйте не менее трёх различных вариантов весов. Меняются ли результаты классификации? Как это сказывается на качестве модели? Какой вариант выглядит наиболее оптимальным с точки зрения качества?"
      ]
    },
    {
      "cell_type": "markdown",
      "metadata": {
        "id": "626FM3CJWUeH"
      },
      "source": [
        "For imbalanced datasets with binary classification the weight multiplier can be set to 1 for class 0 and to $\\left(\\frac{sum\\_negative}{sum\\_positive}\\right)$ for class 1."
      ]
    },
    {
      "cell_type": "code",
      "metadata": {
        "colab": {
          "base_uri": "https://localhost:8080/"
        },
        "id": "LFp3dUvwEb2l",
        "outputId": "24d66cc3-e0c0-4f9a-f294-394687e97d18"
      },
      "source": [
        "print(y.value_counts(), end='\\n\\n')\n",
        "print('Соотношения классов:')\n",
        "print(y.value_counts()[1] / y.value_counts()[-1])\n",
        "print(y.value_counts()[-1] / y.value_counts()[1])"
      ],
      "execution_count": null,
      "outputs": [
        {
          "name": "stdout",
          "output_type": "stream",
          "text": [
            "-1    32378\n",
            " 1     2622\n",
            "Name: 0, dtype: int64\n",
            "\n",
            "Соотношения классов:\n",
            "0.08098091296559393\n",
            "12.348588863463005\n"
          ]
        }
      ]
    },
    {
      "cell_type": "markdown",
      "metadata": {
        "id": "mBHTvhDVWUeH"
      },
      "source": [
        "Тестируем параметры, отвечающие за \"взвешивание\""
      ]
    },
    {
      "cell_type": "code",
      "metadata": {
        "id": "wEs1BeQAEb2m"
      },
      "source": [
        "model = CatBoostClassifier(\n",
        "    max_depth=6, \n",
        "    n_estimators=100, \n",
        "    cat_features=df_train.select_dtypes(include='object').columns.to_list(),\n",
        "    logging_level='Silent',\n",
        "    random_seed=2179,\n",
        "#     auto_class_weights='SqrtBalanced',  # автобалансировка\n",
        "#     scale_pos_weight=0.01,\n",
        "    class_weights={-1: 1, 1: 0.1}\n",
        ")\n",
        "\n",
        "pipeline = SklPipeline([\n",
        "    ('preprocessor', preprocessor_pipeline),\n",
        "    ('model', model)\n",
        "])"
      ],
      "execution_count": null,
      "outputs": []
    },
    {
      "cell_type": "code",
      "metadata": {
        "colab": {
          "base_uri": "https://localhost:8080/"
        },
        "id": "CekY2ZSgEb2n",
        "outputId": "5a10f716-0db2-4f0b-b228-a468c761c1c7"
      },
      "source": [
        "%%time\n",
        "model.fit(X_train, y_train)\n",
        "print(roc_auc_score(y_valid, model.predict_proba(X_valid)[:, 1]))"
      ],
      "execution_count": null,
      "outputs": [
        {
          "name": "stdout",
          "output_type": "stream",
          "text": [
            "0.7241630136016324\n",
            "CPU times: user 22.7 s, sys: 3.33 s, total: 26 s\n",
            "Wall time: 3.42 s\n"
          ]
        }
      ]
    },
    {
      "cell_type": "code",
      "metadata": {
        "colab": {
          "base_uri": "https://localhost:8080/"
        },
        "id": "T1UUdOdOEb2s",
        "outputId": "8da7390d-ee5d-4376-ce36-6f4e3d9dede9"
      },
      "source": [
        "%%time\n",
        "scores = cross_val_score(estimator=pipeline, \n",
        "                         X=df_train, \n",
        "                         y=y_train, \n",
        "                         cv=cv, \n",
        "                         n_jobs=-1, \n",
        "                         scoring='roc_auc')\n",
        "print(scores, '\\n', scores.mean())"
      ],
      "execution_count": null,
      "outputs": [
        {
          "name": "stdout",
          "output_type": "stream",
          "text": [
            "[0.73081423 0.71458127 0.72205602 0.72739209 0.71932116 0.73284645\n",
            " 0.7091553  0.75142155] \n",
            " 0.7259485094850948\n",
            "CPU times: user 1.2 s, sys: 60.4 ms, total: 1.26 s\n",
            "Wall time: 28.1 s\n"
          ]
        }
      ]
    },
    {
      "cell_type": "markdown",
      "metadata": {
        "id": "bNElNPj8Eb2t"
      },
      "source": [
        "|parameter|hold out ROC AUC|cv ROC AUC|\n",
        "|-|-|-|\n",
        "|no weighting|0.7289309070921831|0.7193227253652948|\n",
        "|auto_class_weights='Balanced'|0.702416999253352|0.6993457051049323|\n",
        "|auto_class_weights='SqrtBalanced'|0.7222268837053196|0.7017379791031124|\n",
        "|scale_pos_weight=12|0.7103826631742025|0.6945638092970404|\n",
        "|scale_pos_weight=100|0.7147068981032223|0.7031370085200082|\n",
        "|scale_pos_weight=1000|0.6904806637627653|0.687114106577899|\n",
        "|scale_pos_weight=0.5|0.7362143730953788|0.7278346295658897|\n",
        "|scale_pos_weight=0.08|0.7307963110238805|0.7261320719132063|\n",
        "|scale_pos_weight=0.01|0.7226719540045382|0.7014117599215424|"
      ]
    },
    {
      "cell_type": "markdown",
      "metadata": {
        "id": "lQiH8ltdWUeI"
      },
      "source": [
        "Вывод: получили эффект, обратный предполагаемому. Наилучшее качество получено при уменьшении веса меньшего класса `class_weights={-1: 1, 1: 0.1}`"
      ]
    },
    {
      "cell_type": "markdown",
      "metadata": {
        "id": "vO44wjI7Eb2t"
      },
      "source": [
        "### 2.2 Undersampling"
      ]
    },
    {
      "cell_type": "markdown",
      "metadata": {
        "id": "Z7jpQTm0KzZL"
      },
      "source": [
        "2.2\\. Примените к выборке технологию undersampling: для этого нужно убрать из обучения некоторое количество объектов большего класса таким образом, чтобы соотношение классов изменилось. Попробуйте не менее трёх различных вариантов undersampling (варианты могут отличаться как по количество отфильтрованных объектов, так и по принципу выборка объектов для отсеивания из выборки). Меняются ли результаты классификации? Как это сказывается на качестве модели? Какой вариант выглядит наиболее оптимальным с точки зрения качества?"
      ]
    },
    {
      "cell_type": "code",
      "metadata": {
        "colab": {
          "base_uri": "https://localhost:8080/"
        },
        "id": "sHk1yfDSoY_M",
        "outputId": "56a89aec-82ea-407b-fd0f-764f1ce4d412"
      },
      "source": [
        "THRESH = 70\n",
        "\n",
        "df_train_n_churn = df_train[y_train == -1]\n",
        "df_train_undersampling = pd.concat([df_train_n_churn.dropna(thresh=THRESH), df_train[y_train == 1]])\n",
        "\n",
        "X_train_undersampling = preprocessor_pipeline.fit_transform(df_train_undersampling)\n",
        "X_train_undersampling.shape"
      ],
      "execution_count": null,
      "outputs": [
        {
          "output_type": "execute_result",
          "data": {
            "text/plain": [
              "(21200, 212)"
            ]
          },
          "metadata": {},
          "execution_count": 75
        }
      ]
    },
    {
      "cell_type": "code",
      "metadata": {
        "colab": {
          "base_uri": "https://localhost:8080/"
        },
        "id": "r4zNZeC0o50K",
        "outputId": "d23dfdf0-9758-4cdc-bc03-57d89850703e"
      },
      "source": [
        "%%time\n",
        "model = CatBoostClassifier(\n",
        "    max_depth=6, \n",
        "    n_estimators=100, \n",
        "    cat_features=df_train_undersampling.select_dtypes(include='object').columns.to_list(),\n",
        "    logging_level='Silent',\n",
        "    random_seed=2179\n",
        ")\n",
        "model.fit(X_train_undersampling, y_train[df_train_undersampling.index])\n",
        "print(roc_auc_score(y_valid, model.predict_proba(X_valid)[:, 1]))"
      ],
      "execution_count": null,
      "outputs": [
        {
          "output_type": "stream",
          "name": "stdout",
          "text": [
            "0.6823283266253334\n",
            "CPU times: user 8.86 s, sys: 280 ms, total: 9.14 s\n",
            "Wall time: 5.04 s\n"
          ]
        }
      ]
    },
    {
      "cell_type": "markdown",
      "metadata": {
        "id": "u7Fmqx79WUeI"
      },
      "source": [
        "Используем библиотеку imblearn"
      ]
    },
    {
      "cell_type": "code",
      "metadata": {
        "id": "3qp2jWN_WUeJ"
      },
      "source": [
        "from imblearn.under_sampling import RandomUnderSampler  # 0.22.2.post1 sklearn\n",
        "from imblearn.over_sampling import RandomOverSampler\n",
        "from imblearn.pipeline import Pipeline as ImbPipeline\n",
        "import random\n",
        "random.seed(2179)"
      ],
      "execution_count": null,
      "outputs": []
    },
    {
      "cell_type": "code",
      "metadata": {
        "scrolled": true,
        "id": "hoRnHxE1WUeJ"
      },
      "source": [
        "model = CatBoostClassifier(\n",
        "    max_depth=6, \n",
        "    n_estimators=100, \n",
        "    cat_features=df_train.select_dtypes(include='object').columns.to_list(),\n",
        "    logging_level='Silent',\n",
        "    random_seed=2179,\n",
        ")\n",
        "\n",
        "pipeline = SklPipeline([\n",
        "    ('preprocessor', preprocessor_pipeline),\n",
        "    ('model', model)\n",
        "])"
      ],
      "execution_count": null,
      "outputs": []
    },
    {
      "cell_type": "code",
      "metadata": {
        "id": "Ovdv11xFWUeJ"
      },
      "source": [
        "class UnderSampler(BaseEstimator, TransformerMixin):\n",
        "    '''\n",
        "    Класс задумывался для использования в пайплайне, как последний шаг препроцессинга. \n",
        "    Реализация такого пайпа кривая\n",
        "    '''\n",
        "    def __init__(self):\n",
        "        super().__init__()\n",
        "\n",
        "    def fit(self, X, y=None):\n",
        "        self.positive_class = X[X.target == 1].index.to_list()\n",
        "        self.negative_class = X[X.target == -1].index.to_list()\n",
        "        return self\n",
        "\n",
        "    def transform(self, X, y=None):\n",
        "        negative_undersampled = random.sample(self.negative_class, len(self.positive_class))\n",
        "        return pd.concat([X.loc[negative_undersampled], X.loc[self.positive_class]])"
      ],
      "execution_count": null,
      "outputs": []
    },
    {
      "cell_type": "markdown",
      "metadata": {
        "id": "-RG099JcWUeJ"
      },
      "source": [
        "#### Random undersampling"
      ]
    },
    {
      "cell_type": "code",
      "metadata": {
        "colab": {
          "base_uri": "https://localhost:8080/"
        },
        "id": "xwkdGKCwWUeK",
        "outputId": "49472622-dc16-4467-deba-bbc36bd88529"
      },
      "source": [
        "rus = RandomUnderSampler(1)\n",
        "X_train_rus, y_train_rus = rus.fit_resample(X_train, y_train)\n",
        "df_train_rus, y_train_rus = rus.fit_resample(df_train, y_train)\n",
        "y_train_rus.value_counts()"
      ],
      "execution_count": null,
      "outputs": [
        {
          "output_type": "execute_result",
          "data": {
            "text/plain": [
              "-1    2595\n",
              " 1    2595\n",
              "Name: 0, dtype: int64"
            ]
          },
          "metadata": {},
          "execution_count": 45
        }
      ]
    },
    {
      "cell_type": "code",
      "metadata": {
        "scrolled": true,
        "colab": {
          "base_uri": "https://localhost:8080/"
        },
        "id": "xF4InD06WUeK",
        "outputId": "021cb584-33a9-48f3-9c33-5e7a7fe0c6ed"
      },
      "source": [
        "%%time\n",
        "model.fit(X_train_rus, y_train_rus)\n",
        "print(roc_auc_score(y_valid, model.predict_proba(X_valid)[:, 1]))"
      ],
      "execution_count": null,
      "outputs": [
        {
          "output_type": "stream",
          "name": "stdout",
          "text": [
            "0.6799104918120351\n",
            "CPU times: user 2.42 s, sys: 61.6 ms, total: 2.49 s\n",
            "Wall time: 1.33 s\n"
          ]
        }
      ]
    },
    {
      "cell_type": "code",
      "metadata": {
        "colab": {
          "base_uri": "https://localhost:8080/"
        },
        "id": "dd5C6t3ZWUeK",
        "outputId": "b23b8b1a-dc6a-452d-80f4-472ac75c30f8"
      },
      "source": [
        "%%time\n",
        "scores = cross_val_score(estimator=pipeline, \n",
        "                         X=df_train_rus, \n",
        "                         y=y_train_rus, \n",
        "                         cv=cv, \n",
        "                         n_jobs=-1, \n",
        "                         scoring='roc_auc')\n",
        "print(scores, '\\n', scores.mean())"
      ],
      "execution_count": null,
      "outputs": [
        {
          "output_type": "stream",
          "name": "stdout",
          "text": [
            "[0.71459756 0.70369765 0.69965845 0.71480546 0.69459459 0.66952777\n",
            " 0.71244431 0.67882388] \n",
            " 0.698518711018711\n",
            "CPU times: user 331 ms, sys: 30.3 ms, total: 362 ms\n",
            "Wall time: 14.7 s\n"
          ]
        }
      ]
    },
    {
      "cell_type": "markdown",
      "metadata": {
        "id": "9oJQsyYZnP_a"
      },
      "source": [
        "0.720316436934934 - 0.5\n",
        "\n",
        "0.7273611523611523 - 1\n",
        "\n",
        "0.7260967837557433 - 0.25"
      ]
    },
    {
      "cell_type": "markdown",
      "metadata": {
        "id": "7Ammzr0TgYsq"
      },
      "source": [
        "#### CondensedNearestNeighbour"
      ]
    },
    {
      "cell_type": "code",
      "metadata": {
        "colab": {
          "base_uri": "https://localhost:8080/",
          "height": 392
        },
        "id": "oZ3-Y5HfWUeL",
        "outputId": "f625c98b-c828-401b-cebf-0658619bfdb8"
      },
      "source": [
        "%%time\n",
        "from imblearn.under_sampling import CondensedNearestNeighbour\n",
        "\n",
        "cnb = CondensedNearestNeighbour(n_jobs=-1, n_neighbors=1)\n",
        "X_train_cnb, y_train_cnb = cnb.fit_resample(X_train, y_train)\n",
        "y_train_cnb.value_counts()"
      ],
      "execution_count": null,
      "outputs": [
        {
          "output_type": "error",
          "ename": "KeyboardInterrupt",
          "evalue": "ignored",
          "traceback": [
            "\u001b[0;31m---------------------------------------------------------------------------\u001b[0m",
            "\u001b[0;31mKeyboardInterrupt\u001b[0m                         Traceback (most recent call last)",
            "\u001b[0;32m<ipython-input-53-f8d2114a403f>\u001b[0m in \u001b[0;36m<module>\u001b[0;34m()\u001b[0m\n\u001b[0;32m----> 1\u001b[0;31m \u001b[0mget_ipython\u001b[0m\u001b[0;34m(\u001b[0m\u001b[0;34m)\u001b[0m\u001b[0;34m.\u001b[0m\u001b[0mrun_cell_magic\u001b[0m\u001b[0;34m(\u001b[0m\u001b[0;34m'time'\u001b[0m\u001b[0;34m,\u001b[0m \u001b[0;34m''\u001b[0m\u001b[0;34m,\u001b[0m \u001b[0;34m'from imblearn.under_sampling import CondensedNearestNeighbour\\n\\ncnb = CondensedNearestNeighbour(n_jobs=-1, n_neighbors=1)\\nX_train_cnb, y_train_cnb = cnb.fit_resample(X_train, y_train)\\ny_train_cnb.value_counts()'\u001b[0m\u001b[0;34m)\u001b[0m\u001b[0;34m\u001b[0m\u001b[0;34m\u001b[0m\u001b[0m\n\u001b[0m",
            "\u001b[0;32m/usr/local/lib/python3.7/dist-packages/IPython/core/interactiveshell.py\u001b[0m in \u001b[0;36mrun_cell_magic\u001b[0;34m(self, magic_name, line, cell)\u001b[0m\n\u001b[1;32m   2115\u001b[0m             \u001b[0mmagic_arg_s\u001b[0m \u001b[0;34m=\u001b[0m \u001b[0mself\u001b[0m\u001b[0;34m.\u001b[0m\u001b[0mvar_expand\u001b[0m\u001b[0;34m(\u001b[0m\u001b[0mline\u001b[0m\u001b[0;34m,\u001b[0m \u001b[0mstack_depth\u001b[0m\u001b[0;34m)\u001b[0m\u001b[0;34m\u001b[0m\u001b[0;34m\u001b[0m\u001b[0m\n\u001b[1;32m   2116\u001b[0m             \u001b[0;32mwith\u001b[0m \u001b[0mself\u001b[0m\u001b[0;34m.\u001b[0m\u001b[0mbuiltin_trap\u001b[0m\u001b[0;34m:\u001b[0m\u001b[0;34m\u001b[0m\u001b[0;34m\u001b[0m\u001b[0m\n\u001b[0;32m-> 2117\u001b[0;31m                 \u001b[0mresult\u001b[0m \u001b[0;34m=\u001b[0m \u001b[0mfn\u001b[0m\u001b[0;34m(\u001b[0m\u001b[0mmagic_arg_s\u001b[0m\u001b[0;34m,\u001b[0m \u001b[0mcell\u001b[0m\u001b[0;34m)\u001b[0m\u001b[0;34m\u001b[0m\u001b[0;34m\u001b[0m\u001b[0m\n\u001b[0m\u001b[1;32m   2118\u001b[0m             \u001b[0;32mreturn\u001b[0m \u001b[0mresult\u001b[0m\u001b[0;34m\u001b[0m\u001b[0;34m\u001b[0m\u001b[0m\n\u001b[1;32m   2119\u001b[0m \u001b[0;34m\u001b[0m\u001b[0m\n",
            "\u001b[0;32m<decorator-gen-53>\u001b[0m in \u001b[0;36mtime\u001b[0;34m(self, line, cell, local_ns)\u001b[0m\n",
            "\u001b[0;32m/usr/local/lib/python3.7/dist-packages/IPython/core/magic.py\u001b[0m in \u001b[0;36m<lambda>\u001b[0;34m(f, *a, **k)\u001b[0m\n\u001b[1;32m    186\u001b[0m     \u001b[0;31m# but it's overkill for just that one bit of state.\u001b[0m\u001b[0;34m\u001b[0m\u001b[0;34m\u001b[0m\u001b[0;34m\u001b[0m\u001b[0m\n\u001b[1;32m    187\u001b[0m     \u001b[0;32mdef\u001b[0m \u001b[0mmagic_deco\u001b[0m\u001b[0;34m(\u001b[0m\u001b[0marg\u001b[0m\u001b[0;34m)\u001b[0m\u001b[0;34m:\u001b[0m\u001b[0;34m\u001b[0m\u001b[0;34m\u001b[0m\u001b[0m\n\u001b[0;32m--> 188\u001b[0;31m         \u001b[0mcall\u001b[0m \u001b[0;34m=\u001b[0m \u001b[0;32mlambda\u001b[0m \u001b[0mf\u001b[0m\u001b[0;34m,\u001b[0m \u001b[0;34m*\u001b[0m\u001b[0ma\u001b[0m\u001b[0;34m,\u001b[0m \u001b[0;34m**\u001b[0m\u001b[0mk\u001b[0m\u001b[0;34m:\u001b[0m \u001b[0mf\u001b[0m\u001b[0;34m(\u001b[0m\u001b[0;34m*\u001b[0m\u001b[0ma\u001b[0m\u001b[0;34m,\u001b[0m \u001b[0;34m**\u001b[0m\u001b[0mk\u001b[0m\u001b[0;34m)\u001b[0m\u001b[0;34m\u001b[0m\u001b[0;34m\u001b[0m\u001b[0m\n\u001b[0m\u001b[1;32m    189\u001b[0m \u001b[0;34m\u001b[0m\u001b[0m\n\u001b[1;32m    190\u001b[0m         \u001b[0;32mif\u001b[0m \u001b[0mcallable\u001b[0m\u001b[0;34m(\u001b[0m\u001b[0marg\u001b[0m\u001b[0;34m)\u001b[0m\u001b[0;34m:\u001b[0m\u001b[0;34m\u001b[0m\u001b[0;34m\u001b[0m\u001b[0m\n",
            "\u001b[0;32m/usr/local/lib/python3.7/dist-packages/IPython/core/magics/execution.py\u001b[0m in \u001b[0;36mtime\u001b[0;34m(self, line, cell, local_ns)\u001b[0m\n\u001b[1;32m   1191\u001b[0m         \u001b[0;32melse\u001b[0m\u001b[0;34m:\u001b[0m\u001b[0;34m\u001b[0m\u001b[0;34m\u001b[0m\u001b[0m\n\u001b[1;32m   1192\u001b[0m             \u001b[0mst\u001b[0m \u001b[0;34m=\u001b[0m \u001b[0mclock2\u001b[0m\u001b[0;34m(\u001b[0m\u001b[0;34m)\u001b[0m\u001b[0;34m\u001b[0m\u001b[0;34m\u001b[0m\u001b[0m\n\u001b[0;32m-> 1193\u001b[0;31m             \u001b[0mexec\u001b[0m\u001b[0;34m(\u001b[0m\u001b[0mcode\u001b[0m\u001b[0;34m,\u001b[0m \u001b[0mglob\u001b[0m\u001b[0;34m,\u001b[0m \u001b[0mlocal_ns\u001b[0m\u001b[0;34m)\u001b[0m\u001b[0;34m\u001b[0m\u001b[0;34m\u001b[0m\u001b[0m\n\u001b[0m\u001b[1;32m   1194\u001b[0m             \u001b[0mend\u001b[0m \u001b[0;34m=\u001b[0m \u001b[0mclock2\u001b[0m\u001b[0;34m(\u001b[0m\u001b[0;34m)\u001b[0m\u001b[0;34m\u001b[0m\u001b[0;34m\u001b[0m\u001b[0m\n\u001b[1;32m   1195\u001b[0m             \u001b[0mout\u001b[0m \u001b[0;34m=\u001b[0m \u001b[0;32mNone\u001b[0m\u001b[0;34m\u001b[0m\u001b[0;34m\u001b[0m\u001b[0m\n",
            "\u001b[0;32m<timed exec>\u001b[0m in \u001b[0;36m<module>\u001b[0;34m()\u001b[0m\n",
            "\u001b[0;32m/usr/local/lib/python3.7/dist-packages/imblearn/base.py\u001b[0m in \u001b[0;36mfit_resample\u001b[0;34m(self, X, y)\u001b[0m\n\u001b[1;32m     81\u001b[0m         )\n\u001b[1;32m     82\u001b[0m \u001b[0;34m\u001b[0m\u001b[0m\n\u001b[0;32m---> 83\u001b[0;31m         \u001b[0moutput\u001b[0m \u001b[0;34m=\u001b[0m \u001b[0mself\u001b[0m\u001b[0;34m.\u001b[0m\u001b[0m_fit_resample\u001b[0m\u001b[0;34m(\u001b[0m\u001b[0mX\u001b[0m\u001b[0;34m,\u001b[0m \u001b[0my\u001b[0m\u001b[0;34m)\u001b[0m\u001b[0;34m\u001b[0m\u001b[0;34m\u001b[0m\u001b[0m\n\u001b[0m\u001b[1;32m     84\u001b[0m \u001b[0;34m\u001b[0m\u001b[0m\n\u001b[1;32m     85\u001b[0m         y_ = (\n",
            "\u001b[0;32m/usr/local/lib/python3.7/dist-packages/imblearn/under_sampling/_prototype_selection/_condensed_nearest_neighbour.py\u001b[0m in \u001b[0;36m_fit_resample\u001b[0;34m(self, X, y)\u001b[0m\n\u001b[1;32m    195\u001b[0m                         \u001b[0;31m# Classify all the element in S and avoid to test the\u001b[0m\u001b[0;34m\u001b[0m\u001b[0;34m\u001b[0m\u001b[0;34m\u001b[0m\u001b[0m\n\u001b[1;32m    196\u001b[0m                         \u001b[0;31m# well classified elements\u001b[0m\u001b[0;34m\u001b[0m\u001b[0;34m\u001b[0m\u001b[0;34m\u001b[0m\u001b[0m\n\u001b[0;32m--> 197\u001b[0;31m                         \u001b[0mpred_S_y\u001b[0m \u001b[0;34m=\u001b[0m \u001b[0mself\u001b[0m\u001b[0;34m.\u001b[0m\u001b[0mestimator_\u001b[0m\u001b[0;34m.\u001b[0m\u001b[0mpredict\u001b[0m\u001b[0;34m(\u001b[0m\u001b[0mS_x\u001b[0m\u001b[0;34m)\u001b[0m\u001b[0;34m\u001b[0m\u001b[0;34m\u001b[0m\u001b[0m\n\u001b[0m\u001b[1;32m    198\u001b[0m                         good_classif_label = np.unique(\n\u001b[1;32m    199\u001b[0m                             \u001b[0mnp\u001b[0m\u001b[0;34m.\u001b[0m\u001b[0mappend\u001b[0m\u001b[0;34m(\u001b[0m\u001b[0midx_maj_sample\u001b[0m\u001b[0;34m,\u001b[0m \u001b[0mnp\u001b[0m\u001b[0;34m.\u001b[0m\u001b[0mflatnonzero\u001b[0m\u001b[0;34m(\u001b[0m\u001b[0mpred_S_y\u001b[0m \u001b[0;34m==\u001b[0m \u001b[0mS_y\u001b[0m\u001b[0;34m)\u001b[0m\u001b[0;34m)\u001b[0m\u001b[0;34m\u001b[0m\u001b[0;34m\u001b[0m\u001b[0m\n",
            "\u001b[0;32m/usr/local/lib/python3.7/dist-packages/sklearn/neighbors/_classification.py\u001b[0m in \u001b[0;36mpredict\u001b[0;34m(self, X)\u001b[0m\n\u001b[1;32m    212\u001b[0m             \u001b[0mClass\u001b[0m \u001b[0mlabels\u001b[0m \u001b[0;32mfor\u001b[0m \u001b[0meach\u001b[0m \u001b[0mdata\u001b[0m \u001b[0msample\u001b[0m\u001b[0;34m.\u001b[0m\u001b[0;34m\u001b[0m\u001b[0;34m\u001b[0m\u001b[0m\n\u001b[1;32m    213\u001b[0m         \"\"\"\n\u001b[0;32m--> 214\u001b[0;31m         \u001b[0mneigh_dist\u001b[0m\u001b[0;34m,\u001b[0m \u001b[0mneigh_ind\u001b[0m \u001b[0;34m=\u001b[0m \u001b[0mself\u001b[0m\u001b[0;34m.\u001b[0m\u001b[0mkneighbors\u001b[0m\u001b[0;34m(\u001b[0m\u001b[0mX\u001b[0m\u001b[0;34m)\u001b[0m\u001b[0;34m\u001b[0m\u001b[0;34m\u001b[0m\u001b[0m\n\u001b[0m\u001b[1;32m    215\u001b[0m         \u001b[0mclasses_\u001b[0m \u001b[0;34m=\u001b[0m \u001b[0mself\u001b[0m\u001b[0;34m.\u001b[0m\u001b[0mclasses_\u001b[0m\u001b[0;34m\u001b[0m\u001b[0;34m\u001b[0m\u001b[0m\n\u001b[1;32m    216\u001b[0m         \u001b[0m_y\u001b[0m \u001b[0;34m=\u001b[0m \u001b[0mself\u001b[0m\u001b[0;34m.\u001b[0m\u001b[0m_y\u001b[0m\u001b[0;34m\u001b[0m\u001b[0;34m\u001b[0m\u001b[0m\n",
            "\u001b[0;32m/usr/local/lib/python3.7/dist-packages/sklearn/neighbors/_base.py\u001b[0m in \u001b[0;36mkneighbors\u001b[0;34m(self, X, n_neighbors, return_distance)\u001b[0m\n\u001b[1;32m    754\u001b[0m                     \u001b[0mmetric\u001b[0m\u001b[0;34m=\u001b[0m\u001b[0mself\u001b[0m\u001b[0;34m.\u001b[0m\u001b[0meffective_metric_\u001b[0m\u001b[0;34m,\u001b[0m\u001b[0;34m\u001b[0m\u001b[0;34m\u001b[0m\u001b[0m\n\u001b[1;32m    755\u001b[0m                     \u001b[0mn_jobs\u001b[0m\u001b[0;34m=\u001b[0m\u001b[0mn_jobs\u001b[0m\u001b[0;34m,\u001b[0m\u001b[0;34m\u001b[0m\u001b[0;34m\u001b[0m\u001b[0m\n\u001b[0;32m--> 756\u001b[0;31m                     \u001b[0;34m**\u001b[0m\u001b[0mkwds\u001b[0m\u001b[0;34m,\u001b[0m\u001b[0;34m\u001b[0m\u001b[0;34m\u001b[0m\u001b[0m\n\u001b[0m\u001b[1;32m    757\u001b[0m                 )\n\u001b[1;32m    758\u001b[0m             )\n",
            "\u001b[0;32m/usr/local/lib/python3.7/dist-packages/sklearn/metrics/pairwise.py\u001b[0m in \u001b[0;36mpairwise_distances_chunked\u001b[0;34m(X, Y, reduce_func, metric, n_jobs, working_memory, **kwds)\u001b[0m\n\u001b[1;32m   1710\u001b[0m         \u001b[0;32melse\u001b[0m\u001b[0;34m:\u001b[0m\u001b[0;34m\u001b[0m\u001b[0;34m\u001b[0m\u001b[0m\n\u001b[1;32m   1711\u001b[0m             \u001b[0mX_chunk\u001b[0m \u001b[0;34m=\u001b[0m \u001b[0mX\u001b[0m\u001b[0;34m[\u001b[0m\u001b[0msl\u001b[0m\u001b[0;34m]\u001b[0m\u001b[0;34m\u001b[0m\u001b[0;34m\u001b[0m\u001b[0m\n\u001b[0;32m-> 1712\u001b[0;31m         \u001b[0mD_chunk\u001b[0m \u001b[0;34m=\u001b[0m \u001b[0mpairwise_distances\u001b[0m\u001b[0;34m(\u001b[0m\u001b[0mX_chunk\u001b[0m\u001b[0;34m,\u001b[0m \u001b[0mY\u001b[0m\u001b[0;34m,\u001b[0m \u001b[0mmetric\u001b[0m\u001b[0;34m=\u001b[0m\u001b[0mmetric\u001b[0m\u001b[0;34m,\u001b[0m \u001b[0mn_jobs\u001b[0m\u001b[0;34m=\u001b[0m\u001b[0mn_jobs\u001b[0m\u001b[0;34m,\u001b[0m \u001b[0;34m**\u001b[0m\u001b[0mkwds\u001b[0m\u001b[0;34m)\u001b[0m\u001b[0;34m\u001b[0m\u001b[0;34m\u001b[0m\u001b[0m\n\u001b[0m\u001b[1;32m   1713\u001b[0m         if (X is Y or Y is None) and PAIRWISE_DISTANCE_FUNCTIONS.get(\n\u001b[1;32m   1714\u001b[0m             \u001b[0mmetric\u001b[0m\u001b[0;34m,\u001b[0m \u001b[0;32mNone\u001b[0m\u001b[0;34m\u001b[0m\u001b[0;34m\u001b[0m\u001b[0m\n",
            "\u001b[0;32m/usr/local/lib/python3.7/dist-packages/sklearn/metrics/pairwise.py\u001b[0m in \u001b[0;36mpairwise_distances\u001b[0;34m(X, Y, metric, n_jobs, force_all_finite, **kwds)\u001b[0m\n\u001b[1;32m   1882\u001b[0m         \u001b[0mfunc\u001b[0m \u001b[0;34m=\u001b[0m \u001b[0mpartial\u001b[0m\u001b[0;34m(\u001b[0m\u001b[0mdistance\u001b[0m\u001b[0;34m.\u001b[0m\u001b[0mcdist\u001b[0m\u001b[0;34m,\u001b[0m \u001b[0mmetric\u001b[0m\u001b[0;34m=\u001b[0m\u001b[0mmetric\u001b[0m\u001b[0;34m,\u001b[0m \u001b[0;34m**\u001b[0m\u001b[0mkwds\u001b[0m\u001b[0;34m)\u001b[0m\u001b[0;34m\u001b[0m\u001b[0;34m\u001b[0m\u001b[0m\n\u001b[1;32m   1883\u001b[0m \u001b[0;34m\u001b[0m\u001b[0m\n\u001b[0;32m-> 1884\u001b[0;31m     \u001b[0;32mreturn\u001b[0m \u001b[0m_parallel_pairwise\u001b[0m\u001b[0;34m(\u001b[0m\u001b[0mX\u001b[0m\u001b[0;34m,\u001b[0m \u001b[0mY\u001b[0m\u001b[0;34m,\u001b[0m \u001b[0mfunc\u001b[0m\u001b[0;34m,\u001b[0m \u001b[0mn_jobs\u001b[0m\u001b[0;34m,\u001b[0m \u001b[0;34m**\u001b[0m\u001b[0mkwds\u001b[0m\u001b[0;34m)\u001b[0m\u001b[0;34m\u001b[0m\u001b[0;34m\u001b[0m\u001b[0m\n\u001b[0m\u001b[1;32m   1885\u001b[0m \u001b[0;34m\u001b[0m\u001b[0m\n\u001b[1;32m   1886\u001b[0m \u001b[0;34m\u001b[0m\u001b[0m\n",
            "\u001b[0;32m/usr/local/lib/python3.7/dist-packages/sklearn/metrics/pairwise.py\u001b[0m in \u001b[0;36m_parallel_pairwise\u001b[0;34m(X, Y, func, n_jobs, **kwds)\u001b[0m\n\u001b[1;32m   1430\u001b[0m     Parallel(backend=\"threading\", n_jobs=n_jobs)(\n\u001b[1;32m   1431\u001b[0m         \u001b[0mfd\u001b[0m\u001b[0;34m(\u001b[0m\u001b[0mfunc\u001b[0m\u001b[0;34m,\u001b[0m \u001b[0mret\u001b[0m\u001b[0;34m,\u001b[0m \u001b[0ms\u001b[0m\u001b[0;34m,\u001b[0m \u001b[0mX\u001b[0m\u001b[0;34m,\u001b[0m \u001b[0mY\u001b[0m\u001b[0;34m[\u001b[0m\u001b[0ms\u001b[0m\u001b[0;34m]\u001b[0m\u001b[0;34m,\u001b[0m \u001b[0;34m**\u001b[0m\u001b[0mkwds\u001b[0m\u001b[0;34m)\u001b[0m\u001b[0;34m\u001b[0m\u001b[0;34m\u001b[0m\u001b[0m\n\u001b[0;32m-> 1432\u001b[0;31m         \u001b[0;32mfor\u001b[0m \u001b[0ms\u001b[0m \u001b[0;32min\u001b[0m \u001b[0mgen_even_slices\u001b[0m\u001b[0;34m(\u001b[0m\u001b[0m_num_samples\u001b[0m\u001b[0;34m(\u001b[0m\u001b[0mY\u001b[0m\u001b[0;34m)\u001b[0m\u001b[0;34m,\u001b[0m \u001b[0meffective_n_jobs\u001b[0m\u001b[0;34m(\u001b[0m\u001b[0mn_jobs\u001b[0m\u001b[0;34m)\u001b[0m\u001b[0;34m)\u001b[0m\u001b[0;34m\u001b[0m\u001b[0;34m\u001b[0m\u001b[0m\n\u001b[0m\u001b[1;32m   1433\u001b[0m     )\n\u001b[1;32m   1434\u001b[0m \u001b[0;34m\u001b[0m\u001b[0m\n",
            "\u001b[0;32m/usr/local/lib/python3.7/dist-packages/joblib/parallel.py\u001b[0m in \u001b[0;36m__call__\u001b[0;34m(self, iterable)\u001b[0m\n\u001b[1;32m   1052\u001b[0m \u001b[0;34m\u001b[0m\u001b[0m\n\u001b[1;32m   1053\u001b[0m             \u001b[0;32mwith\u001b[0m \u001b[0mself\u001b[0m\u001b[0;34m.\u001b[0m\u001b[0m_backend\u001b[0m\u001b[0;34m.\u001b[0m\u001b[0mretrieval_context\u001b[0m\u001b[0;34m(\u001b[0m\u001b[0;34m)\u001b[0m\u001b[0;34m:\u001b[0m\u001b[0;34m\u001b[0m\u001b[0;34m\u001b[0m\u001b[0m\n\u001b[0;32m-> 1054\u001b[0;31m                 \u001b[0mself\u001b[0m\u001b[0;34m.\u001b[0m\u001b[0mretrieve\u001b[0m\u001b[0;34m(\u001b[0m\u001b[0;34m)\u001b[0m\u001b[0;34m\u001b[0m\u001b[0;34m\u001b[0m\u001b[0m\n\u001b[0m\u001b[1;32m   1055\u001b[0m             \u001b[0;31m# Make sure that we get a last message telling us we are done\u001b[0m\u001b[0;34m\u001b[0m\u001b[0;34m\u001b[0m\u001b[0;34m\u001b[0m\u001b[0m\n\u001b[1;32m   1056\u001b[0m             \u001b[0melapsed_time\u001b[0m \u001b[0;34m=\u001b[0m \u001b[0mtime\u001b[0m\u001b[0;34m.\u001b[0m\u001b[0mtime\u001b[0m\u001b[0;34m(\u001b[0m\u001b[0;34m)\u001b[0m \u001b[0;34m-\u001b[0m \u001b[0mself\u001b[0m\u001b[0;34m.\u001b[0m\u001b[0m_start_time\u001b[0m\u001b[0;34m\u001b[0m\u001b[0;34m\u001b[0m\u001b[0m\n",
            "\u001b[0;32m/usr/local/lib/python3.7/dist-packages/joblib/parallel.py\u001b[0m in \u001b[0;36mretrieve\u001b[0;34m(self)\u001b[0m\n\u001b[1;32m    931\u001b[0m             \u001b[0;32mtry\u001b[0m\u001b[0;34m:\u001b[0m\u001b[0;34m\u001b[0m\u001b[0;34m\u001b[0m\u001b[0m\n\u001b[1;32m    932\u001b[0m                 \u001b[0;32mif\u001b[0m \u001b[0mgetattr\u001b[0m\u001b[0;34m(\u001b[0m\u001b[0mself\u001b[0m\u001b[0;34m.\u001b[0m\u001b[0m_backend\u001b[0m\u001b[0;34m,\u001b[0m \u001b[0;34m'supports_timeout'\u001b[0m\u001b[0;34m,\u001b[0m \u001b[0;32mFalse\u001b[0m\u001b[0;34m)\u001b[0m\u001b[0;34m:\u001b[0m\u001b[0;34m\u001b[0m\u001b[0;34m\u001b[0m\u001b[0m\n\u001b[0;32m--> 933\u001b[0;31m                     \u001b[0mself\u001b[0m\u001b[0;34m.\u001b[0m\u001b[0m_output\u001b[0m\u001b[0;34m.\u001b[0m\u001b[0mextend\u001b[0m\u001b[0;34m(\u001b[0m\u001b[0mjob\u001b[0m\u001b[0;34m.\u001b[0m\u001b[0mget\u001b[0m\u001b[0;34m(\u001b[0m\u001b[0mtimeout\u001b[0m\u001b[0;34m=\u001b[0m\u001b[0mself\u001b[0m\u001b[0;34m.\u001b[0m\u001b[0mtimeout\u001b[0m\u001b[0;34m)\u001b[0m\u001b[0;34m)\u001b[0m\u001b[0;34m\u001b[0m\u001b[0;34m\u001b[0m\u001b[0m\n\u001b[0m\u001b[1;32m    934\u001b[0m                 \u001b[0;32melse\u001b[0m\u001b[0;34m:\u001b[0m\u001b[0;34m\u001b[0m\u001b[0;34m\u001b[0m\u001b[0m\n\u001b[1;32m    935\u001b[0m                     \u001b[0mself\u001b[0m\u001b[0;34m.\u001b[0m\u001b[0m_output\u001b[0m\u001b[0;34m.\u001b[0m\u001b[0mextend\u001b[0m\u001b[0;34m(\u001b[0m\u001b[0mjob\u001b[0m\u001b[0;34m.\u001b[0m\u001b[0mget\u001b[0m\u001b[0;34m(\u001b[0m\u001b[0;34m)\u001b[0m\u001b[0;34m)\u001b[0m\u001b[0;34m\u001b[0m\u001b[0;34m\u001b[0m\u001b[0m\n",
            "\u001b[0;32m/usr/lib/python3.7/multiprocessing/pool.py\u001b[0m in \u001b[0;36mget\u001b[0;34m(self, timeout)\u001b[0m\n\u001b[1;32m    649\u001b[0m \u001b[0;34m\u001b[0m\u001b[0m\n\u001b[1;32m    650\u001b[0m     \u001b[0;32mdef\u001b[0m \u001b[0mget\u001b[0m\u001b[0;34m(\u001b[0m\u001b[0mself\u001b[0m\u001b[0;34m,\u001b[0m \u001b[0mtimeout\u001b[0m\u001b[0;34m=\u001b[0m\u001b[0;32mNone\u001b[0m\u001b[0;34m)\u001b[0m\u001b[0;34m:\u001b[0m\u001b[0;34m\u001b[0m\u001b[0;34m\u001b[0m\u001b[0m\n\u001b[0;32m--> 651\u001b[0;31m         \u001b[0mself\u001b[0m\u001b[0;34m.\u001b[0m\u001b[0mwait\u001b[0m\u001b[0;34m(\u001b[0m\u001b[0mtimeout\u001b[0m\u001b[0;34m)\u001b[0m\u001b[0;34m\u001b[0m\u001b[0;34m\u001b[0m\u001b[0m\n\u001b[0m\u001b[1;32m    652\u001b[0m         \u001b[0;32mif\u001b[0m \u001b[0;32mnot\u001b[0m \u001b[0mself\u001b[0m\u001b[0;34m.\u001b[0m\u001b[0mready\u001b[0m\u001b[0;34m(\u001b[0m\u001b[0;34m)\u001b[0m\u001b[0;34m:\u001b[0m\u001b[0;34m\u001b[0m\u001b[0;34m\u001b[0m\u001b[0m\n\u001b[1;32m    653\u001b[0m             \u001b[0;32mraise\u001b[0m \u001b[0mTimeoutError\u001b[0m\u001b[0;34m\u001b[0m\u001b[0;34m\u001b[0m\u001b[0m\n",
            "\u001b[0;32m/usr/lib/python3.7/multiprocessing/pool.py\u001b[0m in \u001b[0;36mwait\u001b[0;34m(self, timeout)\u001b[0m\n\u001b[1;32m    646\u001b[0m \u001b[0;34m\u001b[0m\u001b[0m\n\u001b[1;32m    647\u001b[0m     \u001b[0;32mdef\u001b[0m \u001b[0mwait\u001b[0m\u001b[0;34m(\u001b[0m\u001b[0mself\u001b[0m\u001b[0;34m,\u001b[0m \u001b[0mtimeout\u001b[0m\u001b[0;34m=\u001b[0m\u001b[0;32mNone\u001b[0m\u001b[0;34m)\u001b[0m\u001b[0;34m:\u001b[0m\u001b[0;34m\u001b[0m\u001b[0;34m\u001b[0m\u001b[0m\n\u001b[0;32m--> 648\u001b[0;31m         \u001b[0mself\u001b[0m\u001b[0;34m.\u001b[0m\u001b[0m_event\u001b[0m\u001b[0;34m.\u001b[0m\u001b[0mwait\u001b[0m\u001b[0;34m(\u001b[0m\u001b[0mtimeout\u001b[0m\u001b[0;34m)\u001b[0m\u001b[0;34m\u001b[0m\u001b[0;34m\u001b[0m\u001b[0m\n\u001b[0m\u001b[1;32m    649\u001b[0m \u001b[0;34m\u001b[0m\u001b[0m\n\u001b[1;32m    650\u001b[0m     \u001b[0;32mdef\u001b[0m \u001b[0mget\u001b[0m\u001b[0;34m(\u001b[0m\u001b[0mself\u001b[0m\u001b[0;34m,\u001b[0m \u001b[0mtimeout\u001b[0m\u001b[0;34m=\u001b[0m\u001b[0;32mNone\u001b[0m\u001b[0;34m)\u001b[0m\u001b[0;34m:\u001b[0m\u001b[0;34m\u001b[0m\u001b[0;34m\u001b[0m\u001b[0m\n",
            "\u001b[0;32m/usr/lib/python3.7/threading.py\u001b[0m in \u001b[0;36mwait\u001b[0;34m(self, timeout)\u001b[0m\n\u001b[1;32m    550\u001b[0m             \u001b[0msignaled\u001b[0m \u001b[0;34m=\u001b[0m \u001b[0mself\u001b[0m\u001b[0;34m.\u001b[0m\u001b[0m_flag\u001b[0m\u001b[0;34m\u001b[0m\u001b[0;34m\u001b[0m\u001b[0m\n\u001b[1;32m    551\u001b[0m             \u001b[0;32mif\u001b[0m \u001b[0;32mnot\u001b[0m \u001b[0msignaled\u001b[0m\u001b[0;34m:\u001b[0m\u001b[0;34m\u001b[0m\u001b[0;34m\u001b[0m\u001b[0m\n\u001b[0;32m--> 552\u001b[0;31m                 \u001b[0msignaled\u001b[0m \u001b[0;34m=\u001b[0m \u001b[0mself\u001b[0m\u001b[0;34m.\u001b[0m\u001b[0m_cond\u001b[0m\u001b[0;34m.\u001b[0m\u001b[0mwait\u001b[0m\u001b[0;34m(\u001b[0m\u001b[0mtimeout\u001b[0m\u001b[0;34m)\u001b[0m\u001b[0;34m\u001b[0m\u001b[0;34m\u001b[0m\u001b[0m\n\u001b[0m\u001b[1;32m    553\u001b[0m             \u001b[0;32mreturn\u001b[0m \u001b[0msignaled\u001b[0m\u001b[0;34m\u001b[0m\u001b[0;34m\u001b[0m\u001b[0m\n\u001b[1;32m    554\u001b[0m \u001b[0;34m\u001b[0m\u001b[0m\n",
            "\u001b[0;32m/usr/lib/python3.7/threading.py\u001b[0m in \u001b[0;36mwait\u001b[0;34m(self, timeout)\u001b[0m\n\u001b[1;32m    294\u001b[0m         \u001b[0;32mtry\u001b[0m\u001b[0;34m:\u001b[0m    \u001b[0;31m# restore state no matter what (e.g., KeyboardInterrupt)\u001b[0m\u001b[0;34m\u001b[0m\u001b[0;34m\u001b[0m\u001b[0m\n\u001b[1;32m    295\u001b[0m             \u001b[0;32mif\u001b[0m \u001b[0mtimeout\u001b[0m \u001b[0;32mis\u001b[0m \u001b[0;32mNone\u001b[0m\u001b[0;34m:\u001b[0m\u001b[0;34m\u001b[0m\u001b[0;34m\u001b[0m\u001b[0m\n\u001b[0;32m--> 296\u001b[0;31m                 \u001b[0mwaiter\u001b[0m\u001b[0;34m.\u001b[0m\u001b[0macquire\u001b[0m\u001b[0;34m(\u001b[0m\u001b[0;34m)\u001b[0m\u001b[0;34m\u001b[0m\u001b[0;34m\u001b[0m\u001b[0m\n\u001b[0m\u001b[1;32m    297\u001b[0m                 \u001b[0mgotit\u001b[0m \u001b[0;34m=\u001b[0m \u001b[0;32mTrue\u001b[0m\u001b[0;34m\u001b[0m\u001b[0;34m\u001b[0m\u001b[0m\n\u001b[1;32m    298\u001b[0m             \u001b[0;32melse\u001b[0m\u001b[0;34m:\u001b[0m\u001b[0;34m\u001b[0m\u001b[0;34m\u001b[0m\u001b[0m\n",
            "\u001b[0;31mKeyboardInterrupt\u001b[0m: "
          ]
        }
      ]
    },
    {
      "cell_type": "markdown",
      "metadata": {
        "id": "Htg80T_6lO7b"
      },
      "source": [
        "#### NearMiss"
      ]
    },
    {
      "cell_type": "code",
      "metadata": {
        "id": "x5cOp5ONoFbq"
      },
      "source": [
        "numeric_transformer = SklPipeline([\n",
        "    ('simple_imputer', SimpleImputer(strategy='most_frequent')),\n",
        "    # ('scaler', StandardScaler())\n",
        "])\n",
        "\n",
        "categorical_transformer = SklPipeline([\n",
        "    ('simple_imputer', SimpleImputer(strategy='most_frequent')),\n",
        "    ('ordinal_encoder', OrdinalEncoder(handle_unknown='use_encoded_value',unknown_value=-1))\n",
        "])\n",
        "\n",
        "preprocessor = ColumnTransformer(transformers=[\n",
        "    ('num', numeric_transformer, selector(dtype_exclude=\"object\")),\n",
        "    ('cat', categorical_transformer, selector(dtype_include=\"object\"))\n",
        "])\n",
        "\n",
        "preprocessor_pipeline = SklPipeline([\n",
        "    ('preprocessor', preprocessor),\n",
        "    ('scaler', StandardScaler()),\n",
        "    ('to_dataframe', DataFramer(df.columns))  # необходимо для выбора категориальных колонок (CatBoost)\n",
        "])\n",
        "\n",
        "X_train = preprocessor_pipeline.fit_transform(df_train)\n",
        "X_valid = preprocessor_pipeline.transform(df_ho)"
      ],
      "execution_count": null,
      "outputs": []
    },
    {
      "cell_type": "code",
      "metadata": {
        "id": "njEBs37Cmiv7"
      },
      "source": [
        ""
      ],
      "execution_count": null,
      "outputs": []
    },
    {
      "cell_type": "code",
      "metadata": {
        "colab": {
          "base_uri": "https://localhost:8080/"
        },
        "id": "YRsamZFPgkqL",
        "outputId": "d73f4337-b681-4632-fed6-f4d58e99db36"
      },
      "source": [
        "%%time\n",
        "from imblearn.under_sampling import NearMiss\n",
        "\n",
        "nm = NearMiss(n_jobs=-1, version=3, n_neighbors=3)\n",
        "X_train_nm, y_train_nm = nm.fit_resample(X_train, y_train)\n",
        "y_train_nm.value_counts()"
      ],
      "execution_count": null,
      "outputs": [
        {
          "output_type": "stream",
          "name": "stdout",
          "text": [
            "CPU times: user 3.76 s, sys: 268 ms, total: 4.03 s\n",
            "Wall time: 2.74 s\n"
          ]
        }
      ]
    },
    {
      "cell_type": "code",
      "metadata": {
        "id": "8T7ILfeepXky"
      },
      "source": [
        "model = CatBoostClassifier(\n",
        "    max_depth=6, \n",
        "    n_estimators=100, \n",
        "    logging_level='Silent',\n",
        "    random_seed=2179,\n",
        ")\n",
        "\n",
        "# model = LogisticRegression(\n",
        "#     solver='liblinear',\n",
        "#     random_state=2179\n",
        "# )\n",
        "\n",
        "pipeline = SklPipeline([\n",
        "    ('preprocessor', preprocessor_pipeline),\n",
        "    ('model', model)\n",
        "])"
      ],
      "execution_count": null,
      "outputs": []
    },
    {
      "cell_type": "code",
      "metadata": {
        "colab": {
          "base_uri": "https://localhost:8080/"
        },
        "id": "qPx44WHjgkh8",
        "outputId": "0efa44fe-3753-480b-8200-98de81000932"
      },
      "source": [
        "%%time\n",
        "model.fit(X_train_nm, y_train_nm)\n",
        "print(roc_auc_score(y_valid, model.predict_proba(X_valid)[:, 1]))"
      ],
      "execution_count": null,
      "outputs": [
        {
          "output_type": "stream",
          "name": "stdout",
          "text": [
            "0.6543507673145099\n",
            "CPU times: user 2.55 s, sys: 59.3 ms, total: 2.61 s\n",
            "Wall time: 1.4 s\n"
          ]
        }
      ]
    },
    {
      "cell_type": "code",
      "metadata": {
        "colab": {
          "base_uri": "https://localhost:8080/",
          "height": 392
        },
        "id": "92dDVknblYEL",
        "outputId": "01f55ac2-67e3-46ce-d07e-d5204bfc7967"
      },
      "source": [
        "%%time\n",
        "scores = cross_val_score(estimator=pipeline, \n",
        "                         X=df_train_rus, \n",
        "                         y=y_train_rus, \n",
        "                         cv=cv, \n",
        "                         n_jobs=-1, \n",
        "                         scoring='roc_auc')\n",
        "print(scores, '\\n', scores.mean())"
      ],
      "execution_count": null,
      "outputs": [
        {
          "output_type": "error",
          "ename": "KeyboardInterrupt",
          "evalue": "ignored",
          "traceback": [
            "\u001b[0;31m---------------------------------------------------------------------------\u001b[0m",
            "\u001b[0;31mKeyboardInterrupt\u001b[0m                         Traceback (most recent call last)",
            "\u001b[0;32m<ipython-input-28-9b67e38c9c0f>\u001b[0m in \u001b[0;36m<module>\u001b[0;34m()\u001b[0m\n\u001b[0;32m----> 1\u001b[0;31m \u001b[0mget_ipython\u001b[0m\u001b[0;34m(\u001b[0m\u001b[0;34m)\u001b[0m\u001b[0;34m.\u001b[0m\u001b[0mrun_cell_magic\u001b[0m\u001b[0;34m(\u001b[0m\u001b[0;34m'time'\u001b[0m\u001b[0;34m,\u001b[0m \u001b[0;34m''\u001b[0m\u001b[0;34m,\u001b[0m \u001b[0;34m\"scores = cross_val_score(estimator=pipeline, \\n                         X=df_train_rus, \\n                         y=y_train_rus, \\n                         cv=cv, \\n                         n_jobs=-1, \\n                         scoring='roc_auc')\\nprint(scores, '\\\\n', scores.mean())\"\u001b[0m\u001b[0;34m)\u001b[0m\u001b[0;34m\u001b[0m\u001b[0;34m\u001b[0m\u001b[0m\n\u001b[0m",
            "\u001b[0;32m/usr/local/lib/python3.7/dist-packages/IPython/core/interactiveshell.py\u001b[0m in \u001b[0;36mrun_cell_magic\u001b[0;34m(self, magic_name, line, cell)\u001b[0m\n\u001b[1;32m   2115\u001b[0m             \u001b[0mmagic_arg_s\u001b[0m \u001b[0;34m=\u001b[0m \u001b[0mself\u001b[0m\u001b[0;34m.\u001b[0m\u001b[0mvar_expand\u001b[0m\u001b[0;34m(\u001b[0m\u001b[0mline\u001b[0m\u001b[0;34m,\u001b[0m \u001b[0mstack_depth\u001b[0m\u001b[0;34m)\u001b[0m\u001b[0;34m\u001b[0m\u001b[0;34m\u001b[0m\u001b[0m\n\u001b[1;32m   2116\u001b[0m             \u001b[0;32mwith\u001b[0m \u001b[0mself\u001b[0m\u001b[0;34m.\u001b[0m\u001b[0mbuiltin_trap\u001b[0m\u001b[0;34m:\u001b[0m\u001b[0;34m\u001b[0m\u001b[0;34m\u001b[0m\u001b[0m\n\u001b[0;32m-> 2117\u001b[0;31m                 \u001b[0mresult\u001b[0m \u001b[0;34m=\u001b[0m \u001b[0mfn\u001b[0m\u001b[0;34m(\u001b[0m\u001b[0mmagic_arg_s\u001b[0m\u001b[0;34m,\u001b[0m \u001b[0mcell\u001b[0m\u001b[0;34m)\u001b[0m\u001b[0;34m\u001b[0m\u001b[0;34m\u001b[0m\u001b[0m\n\u001b[0m\u001b[1;32m   2118\u001b[0m             \u001b[0;32mreturn\u001b[0m \u001b[0mresult\u001b[0m\u001b[0;34m\u001b[0m\u001b[0;34m\u001b[0m\u001b[0m\n\u001b[1;32m   2119\u001b[0m \u001b[0;34m\u001b[0m\u001b[0m\n",
            "\u001b[0;32m<decorator-gen-53>\u001b[0m in \u001b[0;36mtime\u001b[0;34m(self, line, cell, local_ns)\u001b[0m\n",
            "\u001b[0;32m/usr/local/lib/python3.7/dist-packages/IPython/core/magic.py\u001b[0m in \u001b[0;36m<lambda>\u001b[0;34m(f, *a, **k)\u001b[0m\n\u001b[1;32m    186\u001b[0m     \u001b[0;31m# but it's overkill for just that one bit of state.\u001b[0m\u001b[0;34m\u001b[0m\u001b[0;34m\u001b[0m\u001b[0;34m\u001b[0m\u001b[0m\n\u001b[1;32m    187\u001b[0m     \u001b[0;32mdef\u001b[0m \u001b[0mmagic_deco\u001b[0m\u001b[0;34m(\u001b[0m\u001b[0marg\u001b[0m\u001b[0;34m)\u001b[0m\u001b[0;34m:\u001b[0m\u001b[0;34m\u001b[0m\u001b[0;34m\u001b[0m\u001b[0m\n\u001b[0;32m--> 188\u001b[0;31m         \u001b[0mcall\u001b[0m \u001b[0;34m=\u001b[0m \u001b[0;32mlambda\u001b[0m \u001b[0mf\u001b[0m\u001b[0;34m,\u001b[0m \u001b[0;34m*\u001b[0m\u001b[0ma\u001b[0m\u001b[0;34m,\u001b[0m \u001b[0;34m**\u001b[0m\u001b[0mk\u001b[0m\u001b[0;34m:\u001b[0m \u001b[0mf\u001b[0m\u001b[0;34m(\u001b[0m\u001b[0;34m*\u001b[0m\u001b[0ma\u001b[0m\u001b[0;34m,\u001b[0m \u001b[0;34m**\u001b[0m\u001b[0mk\u001b[0m\u001b[0;34m)\u001b[0m\u001b[0;34m\u001b[0m\u001b[0;34m\u001b[0m\u001b[0m\n\u001b[0m\u001b[1;32m    189\u001b[0m \u001b[0;34m\u001b[0m\u001b[0m\n\u001b[1;32m    190\u001b[0m         \u001b[0;32mif\u001b[0m \u001b[0mcallable\u001b[0m\u001b[0;34m(\u001b[0m\u001b[0marg\u001b[0m\u001b[0;34m)\u001b[0m\u001b[0;34m:\u001b[0m\u001b[0;34m\u001b[0m\u001b[0;34m\u001b[0m\u001b[0m\n",
            "\u001b[0;32m/usr/local/lib/python3.7/dist-packages/IPython/core/magics/execution.py\u001b[0m in \u001b[0;36mtime\u001b[0;34m(self, line, cell, local_ns)\u001b[0m\n\u001b[1;32m   1191\u001b[0m         \u001b[0;32melse\u001b[0m\u001b[0;34m:\u001b[0m\u001b[0;34m\u001b[0m\u001b[0;34m\u001b[0m\u001b[0m\n\u001b[1;32m   1192\u001b[0m             \u001b[0mst\u001b[0m \u001b[0;34m=\u001b[0m \u001b[0mclock2\u001b[0m\u001b[0;34m(\u001b[0m\u001b[0;34m)\u001b[0m\u001b[0;34m\u001b[0m\u001b[0;34m\u001b[0m\u001b[0m\n\u001b[0;32m-> 1193\u001b[0;31m             \u001b[0mexec\u001b[0m\u001b[0;34m(\u001b[0m\u001b[0mcode\u001b[0m\u001b[0;34m,\u001b[0m \u001b[0mglob\u001b[0m\u001b[0;34m,\u001b[0m \u001b[0mlocal_ns\u001b[0m\u001b[0;34m)\u001b[0m\u001b[0;34m\u001b[0m\u001b[0;34m\u001b[0m\u001b[0m\n\u001b[0m\u001b[1;32m   1194\u001b[0m             \u001b[0mend\u001b[0m \u001b[0;34m=\u001b[0m \u001b[0mclock2\u001b[0m\u001b[0;34m(\u001b[0m\u001b[0;34m)\u001b[0m\u001b[0;34m\u001b[0m\u001b[0;34m\u001b[0m\u001b[0m\n\u001b[1;32m   1195\u001b[0m             \u001b[0mout\u001b[0m \u001b[0;34m=\u001b[0m \u001b[0;32mNone\u001b[0m\u001b[0;34m\u001b[0m\u001b[0;34m\u001b[0m\u001b[0m\n",
            "\u001b[0;32m<timed exec>\u001b[0m in \u001b[0;36m<module>\u001b[0;34m()\u001b[0m\n",
            "\u001b[0;32m/usr/local/lib/python3.7/dist-packages/sklearn/model_selection/_validation.py\u001b[0m in \u001b[0;36mcross_val_score\u001b[0;34m(estimator, X, y, groups, scoring, cv, n_jobs, verbose, fit_params, pre_dispatch, error_score)\u001b[0m\n\u001b[1;32m    519\u001b[0m         \u001b[0mfit_params\u001b[0m\u001b[0;34m=\u001b[0m\u001b[0mfit_params\u001b[0m\u001b[0;34m,\u001b[0m\u001b[0;34m\u001b[0m\u001b[0;34m\u001b[0m\u001b[0m\n\u001b[1;32m    520\u001b[0m         \u001b[0mpre_dispatch\u001b[0m\u001b[0;34m=\u001b[0m\u001b[0mpre_dispatch\u001b[0m\u001b[0;34m,\u001b[0m\u001b[0;34m\u001b[0m\u001b[0;34m\u001b[0m\u001b[0m\n\u001b[0;32m--> 521\u001b[0;31m         \u001b[0merror_score\u001b[0m\u001b[0;34m=\u001b[0m\u001b[0merror_score\u001b[0m\u001b[0;34m,\u001b[0m\u001b[0;34m\u001b[0m\u001b[0;34m\u001b[0m\u001b[0m\n\u001b[0m\u001b[1;32m    522\u001b[0m     )\n\u001b[1;32m    523\u001b[0m     \u001b[0;32mreturn\u001b[0m \u001b[0mcv_results\u001b[0m\u001b[0;34m[\u001b[0m\u001b[0;34m\"test_score\"\u001b[0m\u001b[0;34m]\u001b[0m\u001b[0;34m\u001b[0m\u001b[0;34m\u001b[0m\u001b[0m\n",
            "\u001b[0;32m/usr/local/lib/python3.7/dist-packages/sklearn/model_selection/_validation.py\u001b[0m in \u001b[0;36mcross_validate\u001b[0;34m(estimator, X, y, groups, scoring, cv, n_jobs, verbose, fit_params, pre_dispatch, return_train_score, return_estimator, error_score)\u001b[0m\n\u001b[1;32m    281\u001b[0m             \u001b[0merror_score\u001b[0m\u001b[0;34m=\u001b[0m\u001b[0merror_score\u001b[0m\u001b[0;34m,\u001b[0m\u001b[0;34m\u001b[0m\u001b[0;34m\u001b[0m\u001b[0m\n\u001b[1;32m    282\u001b[0m         )\n\u001b[0;32m--> 283\u001b[0;31m         \u001b[0;32mfor\u001b[0m \u001b[0mtrain\u001b[0m\u001b[0;34m,\u001b[0m \u001b[0mtest\u001b[0m \u001b[0;32min\u001b[0m \u001b[0mcv\u001b[0m\u001b[0;34m.\u001b[0m\u001b[0msplit\u001b[0m\u001b[0;34m(\u001b[0m\u001b[0mX\u001b[0m\u001b[0;34m,\u001b[0m \u001b[0my\u001b[0m\u001b[0;34m,\u001b[0m \u001b[0mgroups\u001b[0m\u001b[0;34m)\u001b[0m\u001b[0;34m\u001b[0m\u001b[0;34m\u001b[0m\u001b[0m\n\u001b[0m\u001b[1;32m    284\u001b[0m     )\n\u001b[1;32m    285\u001b[0m \u001b[0;34m\u001b[0m\u001b[0m\n",
            "\u001b[0;32m/usr/local/lib/python3.7/dist-packages/joblib/parallel.py\u001b[0m in \u001b[0;36m__call__\u001b[0;34m(self, iterable)\u001b[0m\n\u001b[1;32m   1052\u001b[0m \u001b[0;34m\u001b[0m\u001b[0m\n\u001b[1;32m   1053\u001b[0m             \u001b[0;32mwith\u001b[0m \u001b[0mself\u001b[0m\u001b[0;34m.\u001b[0m\u001b[0m_backend\u001b[0m\u001b[0;34m.\u001b[0m\u001b[0mretrieval_context\u001b[0m\u001b[0;34m(\u001b[0m\u001b[0;34m)\u001b[0m\u001b[0;34m:\u001b[0m\u001b[0;34m\u001b[0m\u001b[0;34m\u001b[0m\u001b[0m\n\u001b[0;32m-> 1054\u001b[0;31m                 \u001b[0mself\u001b[0m\u001b[0;34m.\u001b[0m\u001b[0mretrieve\u001b[0m\u001b[0;34m(\u001b[0m\u001b[0;34m)\u001b[0m\u001b[0;34m\u001b[0m\u001b[0;34m\u001b[0m\u001b[0m\n\u001b[0m\u001b[1;32m   1055\u001b[0m             \u001b[0;31m# Make sure that we get a last message telling us we are done\u001b[0m\u001b[0;34m\u001b[0m\u001b[0;34m\u001b[0m\u001b[0;34m\u001b[0m\u001b[0m\n\u001b[1;32m   1056\u001b[0m             \u001b[0melapsed_time\u001b[0m \u001b[0;34m=\u001b[0m \u001b[0mtime\u001b[0m\u001b[0;34m.\u001b[0m\u001b[0mtime\u001b[0m\u001b[0;34m(\u001b[0m\u001b[0;34m)\u001b[0m \u001b[0;34m-\u001b[0m \u001b[0mself\u001b[0m\u001b[0;34m.\u001b[0m\u001b[0m_start_time\u001b[0m\u001b[0;34m\u001b[0m\u001b[0;34m\u001b[0m\u001b[0m\n",
            "\u001b[0;32m/usr/local/lib/python3.7/dist-packages/joblib/parallel.py\u001b[0m in \u001b[0;36mretrieve\u001b[0;34m(self)\u001b[0m\n\u001b[1;32m    931\u001b[0m             \u001b[0;32mtry\u001b[0m\u001b[0;34m:\u001b[0m\u001b[0;34m\u001b[0m\u001b[0;34m\u001b[0m\u001b[0m\n\u001b[1;32m    932\u001b[0m                 \u001b[0;32mif\u001b[0m \u001b[0mgetattr\u001b[0m\u001b[0;34m(\u001b[0m\u001b[0mself\u001b[0m\u001b[0;34m.\u001b[0m\u001b[0m_backend\u001b[0m\u001b[0;34m,\u001b[0m \u001b[0;34m'supports_timeout'\u001b[0m\u001b[0;34m,\u001b[0m \u001b[0;32mFalse\u001b[0m\u001b[0;34m)\u001b[0m\u001b[0;34m:\u001b[0m\u001b[0;34m\u001b[0m\u001b[0;34m\u001b[0m\u001b[0m\n\u001b[0;32m--> 933\u001b[0;31m                     \u001b[0mself\u001b[0m\u001b[0;34m.\u001b[0m\u001b[0m_output\u001b[0m\u001b[0;34m.\u001b[0m\u001b[0mextend\u001b[0m\u001b[0;34m(\u001b[0m\u001b[0mjob\u001b[0m\u001b[0;34m.\u001b[0m\u001b[0mget\u001b[0m\u001b[0;34m(\u001b[0m\u001b[0mtimeout\u001b[0m\u001b[0;34m=\u001b[0m\u001b[0mself\u001b[0m\u001b[0;34m.\u001b[0m\u001b[0mtimeout\u001b[0m\u001b[0;34m)\u001b[0m\u001b[0;34m)\u001b[0m\u001b[0;34m\u001b[0m\u001b[0;34m\u001b[0m\u001b[0m\n\u001b[0m\u001b[1;32m    934\u001b[0m                 \u001b[0;32melse\u001b[0m\u001b[0;34m:\u001b[0m\u001b[0;34m\u001b[0m\u001b[0;34m\u001b[0m\u001b[0m\n\u001b[1;32m    935\u001b[0m                     \u001b[0mself\u001b[0m\u001b[0;34m.\u001b[0m\u001b[0m_output\u001b[0m\u001b[0;34m.\u001b[0m\u001b[0mextend\u001b[0m\u001b[0;34m(\u001b[0m\u001b[0mjob\u001b[0m\u001b[0;34m.\u001b[0m\u001b[0mget\u001b[0m\u001b[0;34m(\u001b[0m\u001b[0;34m)\u001b[0m\u001b[0;34m)\u001b[0m\u001b[0;34m\u001b[0m\u001b[0;34m\u001b[0m\u001b[0m\n",
            "\u001b[0;32m/usr/local/lib/python3.7/dist-packages/joblib/_parallel_backends.py\u001b[0m in \u001b[0;36mwrap_future_result\u001b[0;34m(future, timeout)\u001b[0m\n\u001b[1;32m    540\u001b[0m         AsyncResults.get from multiprocessing.\"\"\"\n\u001b[1;32m    541\u001b[0m         \u001b[0;32mtry\u001b[0m\u001b[0;34m:\u001b[0m\u001b[0;34m\u001b[0m\u001b[0;34m\u001b[0m\u001b[0m\n\u001b[0;32m--> 542\u001b[0;31m             \u001b[0;32mreturn\u001b[0m \u001b[0mfuture\u001b[0m\u001b[0;34m.\u001b[0m\u001b[0mresult\u001b[0m\u001b[0;34m(\u001b[0m\u001b[0mtimeout\u001b[0m\u001b[0;34m=\u001b[0m\u001b[0mtimeout\u001b[0m\u001b[0;34m)\u001b[0m\u001b[0;34m\u001b[0m\u001b[0;34m\u001b[0m\u001b[0m\n\u001b[0m\u001b[1;32m    543\u001b[0m         \u001b[0;32mexcept\u001b[0m \u001b[0mCfTimeoutError\u001b[0m \u001b[0;32mas\u001b[0m \u001b[0me\u001b[0m\u001b[0;34m:\u001b[0m\u001b[0;34m\u001b[0m\u001b[0;34m\u001b[0m\u001b[0m\n\u001b[1;32m    544\u001b[0m             \u001b[0;32mraise\u001b[0m \u001b[0mTimeoutError\u001b[0m \u001b[0;32mfrom\u001b[0m \u001b[0me\u001b[0m\u001b[0;34m\u001b[0m\u001b[0;34m\u001b[0m\u001b[0m\n",
            "\u001b[0;32m/usr/lib/python3.7/concurrent/futures/_base.py\u001b[0m in \u001b[0;36mresult\u001b[0;34m(self, timeout)\u001b[0m\n\u001b[1;32m    428\u001b[0m                 \u001b[0;32mreturn\u001b[0m \u001b[0mself\u001b[0m\u001b[0;34m.\u001b[0m\u001b[0m__get_result\u001b[0m\u001b[0;34m(\u001b[0m\u001b[0;34m)\u001b[0m\u001b[0;34m\u001b[0m\u001b[0;34m\u001b[0m\u001b[0m\n\u001b[1;32m    429\u001b[0m \u001b[0;34m\u001b[0m\u001b[0m\n\u001b[0;32m--> 430\u001b[0;31m             \u001b[0mself\u001b[0m\u001b[0;34m.\u001b[0m\u001b[0m_condition\u001b[0m\u001b[0;34m.\u001b[0m\u001b[0mwait\u001b[0m\u001b[0;34m(\u001b[0m\u001b[0mtimeout\u001b[0m\u001b[0;34m)\u001b[0m\u001b[0;34m\u001b[0m\u001b[0;34m\u001b[0m\u001b[0m\n\u001b[0m\u001b[1;32m    431\u001b[0m \u001b[0;34m\u001b[0m\u001b[0m\n\u001b[1;32m    432\u001b[0m             \u001b[0;32mif\u001b[0m \u001b[0mself\u001b[0m\u001b[0;34m.\u001b[0m\u001b[0m_state\u001b[0m \u001b[0;32min\u001b[0m \u001b[0;34m[\u001b[0m\u001b[0mCANCELLED\u001b[0m\u001b[0;34m,\u001b[0m \u001b[0mCANCELLED_AND_NOTIFIED\u001b[0m\u001b[0;34m]\u001b[0m\u001b[0;34m:\u001b[0m\u001b[0;34m\u001b[0m\u001b[0;34m\u001b[0m\u001b[0m\n",
            "\u001b[0;32m/usr/lib/python3.7/threading.py\u001b[0m in \u001b[0;36mwait\u001b[0;34m(self, timeout)\u001b[0m\n\u001b[1;32m    294\u001b[0m         \u001b[0;32mtry\u001b[0m\u001b[0;34m:\u001b[0m    \u001b[0;31m# restore state no matter what (e.g., KeyboardInterrupt)\u001b[0m\u001b[0;34m\u001b[0m\u001b[0;34m\u001b[0m\u001b[0m\n\u001b[1;32m    295\u001b[0m             \u001b[0;32mif\u001b[0m \u001b[0mtimeout\u001b[0m \u001b[0;32mis\u001b[0m \u001b[0;32mNone\u001b[0m\u001b[0;34m:\u001b[0m\u001b[0;34m\u001b[0m\u001b[0;34m\u001b[0m\u001b[0m\n\u001b[0;32m--> 296\u001b[0;31m                 \u001b[0mwaiter\u001b[0m\u001b[0;34m.\u001b[0m\u001b[0macquire\u001b[0m\u001b[0;34m(\u001b[0m\u001b[0;34m)\u001b[0m\u001b[0;34m\u001b[0m\u001b[0;34m\u001b[0m\u001b[0m\n\u001b[0m\u001b[1;32m    297\u001b[0m                 \u001b[0mgotit\u001b[0m \u001b[0;34m=\u001b[0m \u001b[0;32mTrue\u001b[0m\u001b[0;34m\u001b[0m\u001b[0;34m\u001b[0m\u001b[0m\n\u001b[1;32m    298\u001b[0m             \u001b[0;32melse\u001b[0m\u001b[0;34m:\u001b[0m\u001b[0;34m\u001b[0m\u001b[0;34m\u001b[0m\u001b[0m\n",
            "\u001b[0;31mKeyboardInterrupt\u001b[0m: "
          ]
        }
      ]
    },
    {
      "cell_type": "code",
      "metadata": {
        "id": "6iz0tboQl4lZ"
      },
      "source": [
        ""
      ],
      "execution_count": null,
      "outputs": []
    },
    {
      "cell_type": "code",
      "metadata": {
        "colab": {
          "base_uri": "https://localhost:8080/"
        },
        "id": "2O7YpQa_gkYb",
        "outputId": "6852a86d-f37d-4dce-d37b-4c2a201f3c1a"
      },
      "source": [
        "%%time\n",
        "model.fit(X_train, y_train)\n",
        "print(roc_auc_score(y_valid, model.predict_proba(X_valid)[:, 1]))"
      ],
      "execution_count": null,
      "outputs": [
        {
          "output_type": "stream",
          "name": "stdout",
          "text": [
            "0.6804344033743996\n",
            "CPU times: user 6.14 s, sys: 175 ms, total: 6.32 s\n",
            "Wall time: 3.35 s\n"
          ]
        }
      ]
    },
    {
      "cell_type": "code",
      "metadata": {
        "id": "E5wXK9RWgkEj"
      },
      "source": [
        ""
      ],
      "execution_count": null,
      "outputs": []
    },
    {
      "cell_type": "code",
      "metadata": {
        "id": "ix7PimRKEb2v",
        "outputId": "b0ad3bac-d7e8-4de9-a847-8597b3926d78"
      },
      "source": [
        "import random\n",
        "\n",
        "df_train_n_churn = df_train[y_train == -1]\n",
        "df_train_n_churn.shape"
      ],
      "execution_count": null,
      "outputs": [
        {
          "data": {
            "text/plain": [
              "(32387, 212)"
            ]
          },
          "execution_count": 114,
          "metadata": {},
          "output_type": "execute_result"
        }
      ]
    },
    {
      "cell_type": "code",
      "metadata": {
        "id": "AgT3IQVoEb2x"
      },
      "source": [
        "model = CatBoostClassifier(\n",
        "    max_depth=6, \n",
        "    n_estimators=100, \n",
        "    cat_features=df_train.select_dtypes(include='object').columns.to_list(),\n",
        "    logging_level='Silent',\n",
        "    random_seed=2179,\n",
        "    scale_pos_weight=0.5\n",
        ")"
      ],
      "execution_count": null,
      "outputs": []
    },
    {
      "cell_type": "code",
      "metadata": {
        "id": "cCvfZZvbKzZO"
      },
      "source": [
        "# THRESH = 75\n",
        "\n",
        "# df_train_undersampling = pd.concat([df_train_n_churn.dropna(thresh=THRESH), df_train[y_train == 1]])\n",
        "\n",
        "# X_train_undersampling = preprocessor_pipeline.fit_transform(df_train_undersampling)\n",
        "# X_train_undersampling = pd.DataFrame(X_train_undersampling, columns=df.columns)\n",
        "\n",
        "#########################\n",
        "\n",
        "SIZE = 10000\n",
        "\n",
        "random.seed(2179)\n",
        "sample = random.sample(df_train_n_churn.index.to_list(), SIZE)\n",
        "\n",
        "df_train_undersampling = pd.concat([df_train_n_churn.loc[sample], df_train[y_train == 1]])\n",
        "\n",
        "X_train_undersampling = preprocessor_pipeline.fit_transform(df_train_undersampling)\n",
        "X_train_undersampling = pd.DataFrame(X_train_undersampling, columns=df.columns)"
      ],
      "execution_count": null,
      "outputs": []
    },
    {
      "cell_type": "code",
      "metadata": {
        "colab": {
          "base_uri": "https://localhost:8080/"
        },
        "id": "-dATr1DAEb2y",
        "scrolled": true,
        "outputId": "cca9e7e4-5559-4a09-b9fd-74003d26c72d"
      },
      "source": [
        "%%time\n",
        "model.fit(X_train_undersampling, y_train[df_train_undersampling.index])\n",
        "print(roc_auc_score(y_valid, model.predict_proba(X_valid)[:, 1]))"
      ],
      "execution_count": null,
      "outputs": [
        {
          "name": "stdout",
          "output_type": "stream",
          "text": [
            "0.7382670590073496\n",
            "CPU times: user 14.5 s, sys: 2.45 s, total: 16.9 s\n",
            "Wall time: 2.23 s\n"
          ]
        }
      ]
    },
    {
      "cell_type": "markdown",
      "metadata": {
        "id": "XNcn1RysEb23"
      },
      "source": [
        "|threshold|ho ROC AUC|\n",
        "|-|-|\n",
        "|70|0.6918684957679605|\n",
        "|73|0.632738762534673|\n",
        "|75|0.5903060839540146|"
      ]
    },
    {
      "cell_type": "markdown",
      "metadata": {
        "id": "CtlfhPZ_Eb27"
      },
      "source": [
        "|size|ho ROC AUC|\n",
        "|-|-|\n",
        "|32387|0.7411591160096268|\n",
        "|30000|0.728222091917271|\n",
        "|25000|0.7424411741466262|\n",
        "|20000|0.7436370884329007|\n",
        "|15000|0.7333265606443797|\n",
        "|10000|0.7382670590073496|"
      ]
    },
    {
      "cell_type": "markdown",
      "metadata": {
        "id": "cpHpYnMnWUeM"
      },
      "source": [
        "#### Oversampling"
      ]
    },
    {
      "cell_type": "code",
      "metadata": {
        "colab": {
          "base_uri": "https://localhost:8080/"
        },
        "id": "fItoIpZiWUeM",
        "outputId": "a934e9e8-cd87-409f-e476-04c5e56022c3"
      },
      "source": [
        "ros = RandomOverSampler()\n",
        "\n",
        "X_train_ros, y_train_ros = ros.fit_resample(X_train, y_train)\n",
        "\n",
        "y_train_ros.value_counts()"
      ],
      "execution_count": null,
      "outputs": [
        {
          "output_type": "execute_result",
          "data": {
            "text/plain": [
              "-1    32405\n",
              " 1    32405\n",
              "Name: 0, dtype: int64"
            ]
          },
          "metadata": {},
          "execution_count": 20
        }
      ]
    },
    {
      "cell_type": "code",
      "metadata": {
        "scrolled": false,
        "colab": {
          "base_uri": "https://localhost:8080/"
        },
        "id": "TTAyGQo1WUeM",
        "outputId": "6ad8e93c-22e5-4d25-ee28-064bc838bd0b"
      },
      "source": [
        "%%time\n",
        "model.fit(X_train_ros, y_train_ros)\n",
        "print(roc_auc_score(y_valid, model.predict_proba(X_valid)[:, 1]))"
      ],
      "execution_count": null,
      "outputs": [
        {
          "output_type": "stream",
          "name": "stdout",
          "text": [
            "0.6459676140828792\n",
            "CPU times: user 29.2 s, sys: 466 ms, total: 29.7 s\n",
            "Wall time: 15.9 s\n"
          ]
        }
      ]
    },
    {
      "cell_type": "code",
      "metadata": {
        "colab": {
          "base_uri": "https://localhost:8080/"
        },
        "id": "Uv-SBl1SWUeM",
        "outputId": "a32b4e07-80b6-43cd-bbbe-2eebd6f01520"
      },
      "source": [
        "ros = RandomOverSampler()\n",
        "\n",
        "df_train_ros, y_train_ros = ros.fit_resample(df_train, y_train)\n",
        "\n",
        "y_train_ros.value_counts()"
      ],
      "execution_count": null,
      "outputs": [
        {
          "output_type": "execute_result",
          "data": {
            "text/plain": [
              "-1    32405\n",
              " 1    32405\n",
              "Name: 0, dtype: int64"
            ]
          },
          "metadata": {},
          "execution_count": 22
        }
      ]
    },
    {
      "cell_type": "code",
      "metadata": {
        "colab": {
          "base_uri": "https://localhost:8080/"
        },
        "id": "Pr30BQspWUeN",
        "outputId": "f81ec64e-7efe-438c-88df-b8098ac79fb7"
      },
      "source": [
        "%%time\n",
        "scores = cross_val_score(estimator=pipeline, \n",
        "                         X=df_train_ros, \n",
        "                         y=y_train_ros, \n",
        "                         cv=cv, \n",
        "                         n_jobs=-1, \n",
        "                         scoring='roc_auc')\n",
        "print(scores, '\\n', scores.mean())"
      ],
      "execution_count": null,
      "outputs": [
        {
          "output_type": "stream",
          "name": "stdout",
          "text": [
            "[0.99071255 0.98906849 0.99043019 0.99209663 0.98964169 0.99224043\n",
            " 0.99017383 0.99064513] \n",
            " 0.9906261189581025\n",
            "CPU times: user 3.17 s, sys: 312 ms, total: 3.48 s\n",
            "Wall time: 2min 15s\n"
          ]
        }
      ]
    },
    {
      "cell_type": "code",
      "metadata": {
        "id": "f33hKipYWUeN",
        "outputId": "da395c1c-f838-4a5e-b1de-b921ab25df90"
      },
      "source": [
        "%%time\n",
        "scores = cross_val_score(estimator=pipeline, \n",
        "                         X=df_train_ros, \n",
        "                         y=y_train_ros, \n",
        "                         cv=cv, \n",
        "                         n_jobs=-1, \n",
        "                         scoring='roc_auc')\n",
        "print(scores, '\\n', scores.mean())"
      ],
      "execution_count": null,
      "outputs": [
        {
          "name": "stdout",
          "output_type": "stream",
          "text": [
            "[0.99128679 0.99006127 0.99196598 0.98970244 0.98934219 0.98863148\n",
            " 0.99297809 0.9907834 ] \n",
            " 0.9905939548645633\n",
            "CPU times: user 1.91 s, sys: 1.31 s, total: 3.22 s\n",
            "Wall time: 44.4 s\n"
          ]
        }
      ]
    },
    {
      "cell_type": "markdown",
      "metadata": {
        "id": "PGmHBxMtEb28"
      },
      "source": [
        "## 3. Признаки"
      ]
    },
    {
      "cell_type": "markdown",
      "metadata": {
        "id": "PpXmo0lkKzZP"
      },
      "source": [
        "3\\. Теперь перейдем к работе с признаками. Ранее вы реализовали несколько стратегий для обработки пропущенных значений. Сравните эти стратегии между собой с помощью оценки качества моделей кросс-валидации, построенных на датасетах с использованием различных стратегий. Как обработка пропущенных значений сказывается на качестве модели? Какой вариант выглядит наиболее оптимальным с точки зрения качества?"
      ]
    },
    {
      "cell_type": "code",
      "metadata": {
        "id": "-lkcMROFEb29"
      },
      "source": [
        "from catboost import CatBoostClassifier\n",
        "\n",
        "from sklearn.model_selection import StratifiedShuffleSplit, cross_val_score\n",
        "from sklearn.metrics import roc_auc_score"
      ],
      "execution_count": null,
      "outputs": []
    },
    {
      "cell_type": "code",
      "metadata": {
        "id": "cDCCU40_Eb2-"
      },
      "source": [
        "cv = StratifiedShuffleSplit(n_splits=8, random_state=2179)"
      ],
      "execution_count": null,
      "outputs": []
    },
    {
      "cell_type": "markdown",
      "metadata": {
        "id": "nIOD6L63Eb2-"
      },
      "source": [
        "Стратегия 1: замена на самое частое значение"
      ]
    },
    {
      "cell_type": "code",
      "metadata": {
        "id": "X-lw_MLjKzZQ"
      },
      "source": [
        "numeric_transformer = SklPipeline([\n",
        "    ('simple_imputer', SimpleImputer(strategy='mean')),\n",
        "    ('scaler', StandardScaler())\n",
        "])\n",
        "\n",
        "categorical_transformer = SklPipeline([\n",
        "    ('simple_imputer', SimpleImputer(strategy='most_frequent')),\n",
        "    # ('ordinal_encoder', OrdinalEncoder())\n",
        "])\n",
        "\n",
        "preprocessor = ColumnTransformer(transformers=[\n",
        "    ('num', numeric_transformer, selector(dtype_exclude=\"object\")),\n",
        "    ('cat', categorical_transformer, selector(dtype_include=\"object\"))\n",
        "])\n",
        "\n",
        "preprocessor_pipeline = SklPipeline([\n",
        "#     ('nan_columns_dropper', NanColumnsDropper()),\n",
        "    ('preprocessor', preprocessor),\n",
        "    # ('scaler', StandardScaler())\n",
        "    ('to_dataframe', DataFramer(df.columns))\n",
        "])"
      ],
      "execution_count": null,
      "outputs": []
    },
    {
      "cell_type": "code",
      "metadata": {
        "colab": {
          "base_uri": "https://localhost:8080/"
        },
        "id": "Ei4uJwjXEb3A",
        "outputId": "0e8ef27c-7fb3-4ff6-f558-49adc0b60929"
      },
      "source": [
        "%%time\n",
        "X_train = preprocessor_pipeline.fit_transform(df_train)\n",
        "X_valid = preprocessor_pipeline.transform(df_ho)"
      ],
      "execution_count": null,
      "outputs": [
        {
          "output_type": "stream",
          "name": "stdout",
          "text": [
            "CPU times: user 725 ms, sys: 130 ms, total: 856 ms\n",
            "Wall time: 860 ms\n"
          ]
        }
      ]
    },
    {
      "cell_type": "code",
      "metadata": {
        "id": "jn--yiatEb3A"
      },
      "source": [
        "model = CatBoostClassifier(\n",
        "    max_depth=6, \n",
        "    n_estimators=100, \n",
        "    cat_features=df_train.select_dtypes(include='object').columns.to_list(),\n",
        "    logging_level='Silent',\n",
        "    random_seed=2179\n",
        ")\n",
        "\n",
        "pipeline = SklPipeline([\n",
        "    ('preprocessor', preprocessor_pipeline),\n",
        "    ('model', model)\n",
        "])"
      ],
      "execution_count": null,
      "outputs": []
    },
    {
      "cell_type": "code",
      "metadata": {
        "colab": {
          "base_uri": "https://localhost:8080/"
        },
        "id": "iBFzgUYIEb3B",
        "outputId": "f870b1f7-25ec-485f-a9b0-eea5f177a347"
      },
      "source": [
        "%%time\n",
        "model.fit(X_train, y_train)\n",
        "print(roc_auc_score(y_valid, model.predict_proba(X_valid)[:, 1]))"
      ],
      "execution_count": null,
      "outputs": [
        {
          "output_type": "stream",
          "name": "stdout",
          "text": [
            "0.7160535708096025\n",
            "CPU times: user 16.8 s, sys: 769 ms, total: 17.6 s\n",
            "Wall time: 9.48 s\n"
          ]
        }
      ]
    },
    {
      "cell_type": "code",
      "metadata": {
        "colab": {
          "base_uri": "https://localhost:8080/"
        },
        "id": "KPWwj1MqEb3B",
        "outputId": "8ddaed97-3587-41f4-df64-016e8f3bd8dc"
      },
      "source": [
        "%%time\n",
        "scores = cross_val_score(estimator=pipeline, \n",
        "                         X=df_train, \n",
        "                         y=y_train, \n",
        "                         cv=cv, \n",
        "                         n_jobs=-1, \n",
        "                         scoring='roc_auc', \n",
        "                         error_score='raise')\n",
        "print(scores, '\\n', scores.mean())"
      ],
      "execution_count": null,
      "outputs": [
        {
          "output_type": "stream",
          "name": "stdout",
          "text": [
            "[0.71342679 0.74458048 0.74142213 0.75395244 0.71328466 0.72533502\n",
            " 0.74212878 0.7277212 ] \n",
            " 0.7327314367226978\n",
            "CPU times: user 1.63 s, sys: 237 ms, total: 1.87 s\n",
            "Wall time: 1min 19s\n"
          ]
        }
      ]
    },
    {
      "cell_type": "markdown",
      "metadata": {
        "id": "7x9zhAI4Eb3B"
      },
      "source": [
        "|method num|method cat|ho ROC AUC|cv ROC AUC|\n",
        "|-|-|-|-|\n",
        "|most_frequent|most_frequent|0.7413546342506111|0.7360205959164293|\n",
        "|mean|most_frequent|0.727643098112471|0.7459786028015195|\n",
        "|median|most_frequent|0.7243560701108726|0.7375290835707502|"
      ]
    },
    {
      "cell_type": "markdown",
      "metadata": {
        "id": "rH_xQR3ycpDt"
      },
      "source": [
        "## 4. Categorical encoding"
      ]
    },
    {
      "cell_type": "markdown",
      "metadata": {
        "id": "jXq_YeBHKzZR"
      },
      "source": [
        "4\\. Также вы уже реализовали несколько стратегий для обработки категориальных признаков. Сравните эти стратегии между собой с помощью оценки качества моделей по кросс-валидации, построенных на датасетах с использованием различных стратегий. Как обработка категориальных признаков сказывается на качестве модели? Какой вариант выглядит наиболее оптимальным с точки зрения качества?"
      ]
    },
    {
      "cell_type": "code",
      "metadata": {
        "id": "gN3Qyk_rcpDu"
      },
      "source": [
        "class FrequencyEncoder(BaseEstimator, TransformerMixin):\n",
        "    def __init__(self):\n",
        "        super().__init__()\n",
        "\n",
        "    def fit(self, X, y=None):\n",
        "        dict_ = {}\n",
        "        self.cat_cols = X.select_dtypes('object').columns\n",
        "        for col in self.cat_cols:\n",
        "            dict_[col] = X.groupby(col).size() / len(X)\n",
        "        self.fe = dict_\n",
        "        return self\n",
        "\n",
        "    def transform(self, X, y=None):\n",
        "        X[self.cat_cols] = X[self.cat_cols].apply(lambda col: col.map(self.fe[col.name]))\n",
        "        return X"
      ],
      "execution_count": null,
      "outputs": []
    },
    {
      "cell_type": "code",
      "metadata": {
        "colab": {
          "base_uri": "https://localhost:8080/"
        },
        "id": "iZChsUajKzZS",
        "scrolled": true,
        "outputId": "f9efbc95-9e86-4e7f-9f8a-7e59d6869ef0"
      },
      "source": [
        "%%time\n",
        "numeric_transformer = Pipeline([\n",
        "    ('simple_imputer', SimpleImputer(strategy='mean')),\n",
        "    ('scaler', StandardScaler())\n",
        "])\n",
        "\n",
        "categorical_transformer = Pipeline([\n",
        "    ('simple_imputer', SimpleImputer(strategy='most_frequent')),\n",
        "#     ('ordinal_encoder', OrdinalEncoder(handle_unknown='use_encoded_value', unknown_value=-1)),\n",
        "#     ('one_hot_encoder', OneHotEncoder(handle_unknown='ignore')),\n",
        "    ('to_dataframe', DataFramer(df.columns)),\n",
        "    ('frequency_encoder', FrequencyEncoder())\n",
        "])\n",
        "\n",
        "preprocessor = ColumnTransformer(transformers=[\n",
        "    ('num', numeric_transformer, selector(dtype_exclude=\"object\")),\n",
        "    ('cat', categorical_transformer, selector(dtype_include=\"object\"))\n",
        "])\n",
        "\n",
        "preprocessor_pipeline = Pipeline([\n",
        "#     ('nan_columns_dropper', NanColumnsDropper()),\n",
        "    ('preprocessor', preprocessor),\n",
        "#     ('scaler', StandardScaler()),\n",
        "    ('to_dataframe', DataFramer(df.columns))\n",
        "])\n",
        "\n",
        "X_train = preprocessor_pipeline.fit_transform(df_train)\n",
        "X_valid = preprocessor_pipeline.transform(df_ho)\n",
        "X_train"
      ],
      "execution_count": null,
      "outputs": [
        {
          "ename": "ValueError",
          "evalue": "Cannot use mean strategy with non-numeric data:\ncould not convert string to float: 'r__I'",
          "output_type": "error",
          "traceback": [
            "\u001b[0;31m---------------------------------------------------------------------------\u001b[0m",
            "\u001b[0;31mValueError\u001b[0m                                Traceback (most recent call last)",
            "\u001b[0;32m<timed exec>\u001b[0m in \u001b[0;36m<module>\u001b[0;34m\u001b[0m\n",
            "\u001b[0;32m~/anaconda3/lib/python3.8/site-packages/sklearn/pipeline.py\u001b[0m in \u001b[0;36m_transform\u001b[0;34m(self, X)\u001b[0m\n\u001b[1;32m    558\u001b[0m         \u001b[0mXt\u001b[0m \u001b[0;34m=\u001b[0m \u001b[0mX\u001b[0m\u001b[0;34m\u001b[0m\u001b[0;34m\u001b[0m\u001b[0m\n\u001b[1;32m    559\u001b[0m         \u001b[0;32mfor\u001b[0m \u001b[0m_\u001b[0m\u001b[0;34m,\u001b[0m \u001b[0m_\u001b[0m\u001b[0;34m,\u001b[0m \u001b[0mtransform\u001b[0m \u001b[0;32min\u001b[0m \u001b[0mself\u001b[0m\u001b[0;34m.\u001b[0m\u001b[0m_iter\u001b[0m\u001b[0;34m(\u001b[0m\u001b[0;34m)\u001b[0m\u001b[0;34m:\u001b[0m\u001b[0;34m\u001b[0m\u001b[0;34m\u001b[0m\u001b[0m\n\u001b[0;32m--> 560\u001b[0;31m             \u001b[0mXt\u001b[0m \u001b[0;34m=\u001b[0m \u001b[0mtransform\u001b[0m\u001b[0;34m.\u001b[0m\u001b[0mtransform\u001b[0m\u001b[0;34m(\u001b[0m\u001b[0mXt\u001b[0m\u001b[0;34m)\u001b[0m\u001b[0;34m\u001b[0m\u001b[0;34m\u001b[0m\u001b[0m\n\u001b[0m\u001b[1;32m    561\u001b[0m         \u001b[0;32mreturn\u001b[0m \u001b[0mXt\u001b[0m\u001b[0;34m\u001b[0m\u001b[0;34m\u001b[0m\u001b[0m\n\u001b[1;32m    562\u001b[0m \u001b[0;34m\u001b[0m\u001b[0m\n",
            "\u001b[0;32m~/anaconda3/lib/python3.8/site-packages/sklearn/compose/_column_transformer.py\u001b[0m in \u001b[0;36mtransform\u001b[0;34m(self, X)\u001b[0m\n\u001b[1;32m    563\u001b[0m                 \u001b[0;34m\"data given during fit.\"\u001b[0m\u001b[0;34m\u001b[0m\u001b[0;34m\u001b[0m\u001b[0m\n\u001b[1;32m    564\u001b[0m             )\n\u001b[0;32m--> 565\u001b[0;31m         \u001b[0mXs\u001b[0m \u001b[0;34m=\u001b[0m \u001b[0mself\u001b[0m\u001b[0;34m.\u001b[0m\u001b[0m_fit_transform\u001b[0m\u001b[0;34m(\u001b[0m\u001b[0mX\u001b[0m\u001b[0;34m,\u001b[0m \u001b[0;32mNone\u001b[0m\u001b[0;34m,\u001b[0m \u001b[0m_transform_one\u001b[0m\u001b[0;34m,\u001b[0m \u001b[0mfitted\u001b[0m\u001b[0;34m=\u001b[0m\u001b[0;32mTrue\u001b[0m\u001b[0;34m)\u001b[0m\u001b[0;34m\u001b[0m\u001b[0;34m\u001b[0m\u001b[0m\n\u001b[0m\u001b[1;32m    566\u001b[0m         \u001b[0mself\u001b[0m\u001b[0;34m.\u001b[0m\u001b[0m_validate_output\u001b[0m\u001b[0;34m(\u001b[0m\u001b[0mXs\u001b[0m\u001b[0;34m)\u001b[0m\u001b[0;34m\u001b[0m\u001b[0;34m\u001b[0m\u001b[0m\n\u001b[1;32m    567\u001b[0m \u001b[0;34m\u001b[0m\u001b[0m\n",
            "\u001b[0;32m~/anaconda3/lib/python3.8/site-packages/sklearn/compose/_column_transformer.py\u001b[0m in \u001b[0;36m_fit_transform\u001b[0;34m(self, X, y, func, fitted)\u001b[0m\n\u001b[1;32m    433\u001b[0m             self._iter(fitted=fitted, replace_strings=True))\n\u001b[1;32m    434\u001b[0m         \u001b[0;32mtry\u001b[0m\u001b[0;34m:\u001b[0m\u001b[0;34m\u001b[0m\u001b[0;34m\u001b[0m\u001b[0m\n\u001b[0;32m--> 435\u001b[0;31m             return Parallel(n_jobs=self.n_jobs)(\n\u001b[0m\u001b[1;32m    436\u001b[0m                 delayed(func)(\n\u001b[1;32m    437\u001b[0m                     \u001b[0mtransformer\u001b[0m\u001b[0;34m=\u001b[0m\u001b[0mclone\u001b[0m\u001b[0;34m(\u001b[0m\u001b[0mtrans\u001b[0m\u001b[0;34m)\u001b[0m \u001b[0;32mif\u001b[0m \u001b[0;32mnot\u001b[0m \u001b[0mfitted\u001b[0m \u001b[0;32melse\u001b[0m \u001b[0mtrans\u001b[0m\u001b[0;34m,\u001b[0m\u001b[0;34m\u001b[0m\u001b[0;34m\u001b[0m\u001b[0m\n",
            "\u001b[0;32m~/anaconda3/lib/python3.8/site-packages/joblib/parallel.py\u001b[0m in \u001b[0;36m__call__\u001b[0;34m(self, iterable)\u001b[0m\n\u001b[1;32m   1039\u001b[0m             \u001b[0;31m# remaining jobs.\u001b[0m\u001b[0;34m\u001b[0m\u001b[0;34m\u001b[0m\u001b[0;34m\u001b[0m\u001b[0m\n\u001b[1;32m   1040\u001b[0m             \u001b[0mself\u001b[0m\u001b[0;34m.\u001b[0m\u001b[0m_iterating\u001b[0m \u001b[0;34m=\u001b[0m \u001b[0;32mFalse\u001b[0m\u001b[0;34m\u001b[0m\u001b[0;34m\u001b[0m\u001b[0m\n\u001b[0;32m-> 1041\u001b[0;31m             \u001b[0;32mif\u001b[0m \u001b[0mself\u001b[0m\u001b[0;34m.\u001b[0m\u001b[0mdispatch_one_batch\u001b[0m\u001b[0;34m(\u001b[0m\u001b[0miterator\u001b[0m\u001b[0;34m)\u001b[0m\u001b[0;34m:\u001b[0m\u001b[0;34m\u001b[0m\u001b[0;34m\u001b[0m\u001b[0m\n\u001b[0m\u001b[1;32m   1042\u001b[0m                 \u001b[0mself\u001b[0m\u001b[0;34m.\u001b[0m\u001b[0m_iterating\u001b[0m \u001b[0;34m=\u001b[0m \u001b[0mself\u001b[0m\u001b[0;34m.\u001b[0m\u001b[0m_original_iterator\u001b[0m \u001b[0;32mis\u001b[0m \u001b[0;32mnot\u001b[0m \u001b[0;32mNone\u001b[0m\u001b[0;34m\u001b[0m\u001b[0;34m\u001b[0m\u001b[0m\n\u001b[1;32m   1043\u001b[0m \u001b[0;34m\u001b[0m\u001b[0m\n",
            "\u001b[0;32m~/anaconda3/lib/python3.8/site-packages/joblib/parallel.py\u001b[0m in \u001b[0;36mdispatch_one_batch\u001b[0;34m(self, iterator)\u001b[0m\n\u001b[1;32m    857\u001b[0m                 \u001b[0;32mreturn\u001b[0m \u001b[0;32mFalse\u001b[0m\u001b[0;34m\u001b[0m\u001b[0;34m\u001b[0m\u001b[0m\n\u001b[1;32m    858\u001b[0m             \u001b[0;32melse\u001b[0m\u001b[0;34m:\u001b[0m\u001b[0;34m\u001b[0m\u001b[0;34m\u001b[0m\u001b[0m\n\u001b[0;32m--> 859\u001b[0;31m                 \u001b[0mself\u001b[0m\u001b[0;34m.\u001b[0m\u001b[0m_dispatch\u001b[0m\u001b[0;34m(\u001b[0m\u001b[0mtasks\u001b[0m\u001b[0;34m)\u001b[0m\u001b[0;34m\u001b[0m\u001b[0;34m\u001b[0m\u001b[0m\n\u001b[0m\u001b[1;32m    860\u001b[0m                 \u001b[0;32mreturn\u001b[0m \u001b[0;32mTrue\u001b[0m\u001b[0;34m\u001b[0m\u001b[0;34m\u001b[0m\u001b[0m\n\u001b[1;32m    861\u001b[0m \u001b[0;34m\u001b[0m\u001b[0m\n",
            "\u001b[0;32m~/anaconda3/lib/python3.8/site-packages/joblib/parallel.py\u001b[0m in \u001b[0;36m_dispatch\u001b[0;34m(self, batch)\u001b[0m\n\u001b[1;32m    775\u001b[0m         \u001b[0;32mwith\u001b[0m \u001b[0mself\u001b[0m\u001b[0;34m.\u001b[0m\u001b[0m_lock\u001b[0m\u001b[0;34m:\u001b[0m\u001b[0;34m\u001b[0m\u001b[0;34m\u001b[0m\u001b[0m\n\u001b[1;32m    776\u001b[0m             \u001b[0mjob_idx\u001b[0m \u001b[0;34m=\u001b[0m \u001b[0mlen\u001b[0m\u001b[0;34m(\u001b[0m\u001b[0mself\u001b[0m\u001b[0;34m.\u001b[0m\u001b[0m_jobs\u001b[0m\u001b[0;34m)\u001b[0m\u001b[0;34m\u001b[0m\u001b[0;34m\u001b[0m\u001b[0m\n\u001b[0;32m--> 777\u001b[0;31m             \u001b[0mjob\u001b[0m \u001b[0;34m=\u001b[0m \u001b[0mself\u001b[0m\u001b[0;34m.\u001b[0m\u001b[0m_backend\u001b[0m\u001b[0;34m.\u001b[0m\u001b[0mapply_async\u001b[0m\u001b[0;34m(\u001b[0m\u001b[0mbatch\u001b[0m\u001b[0;34m,\u001b[0m \u001b[0mcallback\u001b[0m\u001b[0;34m=\u001b[0m\u001b[0mcb\u001b[0m\u001b[0;34m)\u001b[0m\u001b[0;34m\u001b[0m\u001b[0;34m\u001b[0m\u001b[0m\n\u001b[0m\u001b[1;32m    778\u001b[0m             \u001b[0;31m# A job can complete so quickly than its callback is\u001b[0m\u001b[0;34m\u001b[0m\u001b[0;34m\u001b[0m\u001b[0;34m\u001b[0m\u001b[0m\n\u001b[1;32m    779\u001b[0m             \u001b[0;31m# called before we get here, causing self._jobs to\u001b[0m\u001b[0;34m\u001b[0m\u001b[0;34m\u001b[0m\u001b[0;34m\u001b[0m\u001b[0m\n",
            "\u001b[0;32m~/anaconda3/lib/python3.8/site-packages/joblib/_parallel_backends.py\u001b[0m in \u001b[0;36mapply_async\u001b[0;34m(self, func, callback)\u001b[0m\n\u001b[1;32m    206\u001b[0m     \u001b[0;32mdef\u001b[0m \u001b[0mapply_async\u001b[0m\u001b[0;34m(\u001b[0m\u001b[0mself\u001b[0m\u001b[0;34m,\u001b[0m \u001b[0mfunc\u001b[0m\u001b[0;34m,\u001b[0m \u001b[0mcallback\u001b[0m\u001b[0;34m=\u001b[0m\u001b[0;32mNone\u001b[0m\u001b[0;34m)\u001b[0m\u001b[0;34m:\u001b[0m\u001b[0;34m\u001b[0m\u001b[0;34m\u001b[0m\u001b[0m\n\u001b[1;32m    207\u001b[0m         \u001b[0;34m\"\"\"Schedule a func to be run\"\"\"\u001b[0m\u001b[0;34m\u001b[0m\u001b[0;34m\u001b[0m\u001b[0m\n\u001b[0;32m--> 208\u001b[0;31m         \u001b[0mresult\u001b[0m \u001b[0;34m=\u001b[0m \u001b[0mImmediateResult\u001b[0m\u001b[0;34m(\u001b[0m\u001b[0mfunc\u001b[0m\u001b[0;34m)\u001b[0m\u001b[0;34m\u001b[0m\u001b[0;34m\u001b[0m\u001b[0m\n\u001b[0m\u001b[1;32m    209\u001b[0m         \u001b[0;32mif\u001b[0m \u001b[0mcallback\u001b[0m\u001b[0;34m:\u001b[0m\u001b[0;34m\u001b[0m\u001b[0;34m\u001b[0m\u001b[0m\n\u001b[1;32m    210\u001b[0m             \u001b[0mcallback\u001b[0m\u001b[0;34m(\u001b[0m\u001b[0mresult\u001b[0m\u001b[0;34m)\u001b[0m\u001b[0;34m\u001b[0m\u001b[0;34m\u001b[0m\u001b[0m\n",
            "\u001b[0;32m~/anaconda3/lib/python3.8/site-packages/joblib/_parallel_backends.py\u001b[0m in \u001b[0;36m__init__\u001b[0;34m(self, batch)\u001b[0m\n\u001b[1;32m    570\u001b[0m         \u001b[0;31m# Don't delay the application, to avoid keeping the input\u001b[0m\u001b[0;34m\u001b[0m\u001b[0;34m\u001b[0m\u001b[0;34m\u001b[0m\u001b[0m\n\u001b[1;32m    571\u001b[0m         \u001b[0;31m# arguments in memory\u001b[0m\u001b[0;34m\u001b[0m\u001b[0;34m\u001b[0m\u001b[0;34m\u001b[0m\u001b[0m\n\u001b[0;32m--> 572\u001b[0;31m         \u001b[0mself\u001b[0m\u001b[0;34m.\u001b[0m\u001b[0mresults\u001b[0m \u001b[0;34m=\u001b[0m \u001b[0mbatch\u001b[0m\u001b[0;34m(\u001b[0m\u001b[0;34m)\u001b[0m\u001b[0;34m\u001b[0m\u001b[0;34m\u001b[0m\u001b[0m\n\u001b[0m\u001b[1;32m    573\u001b[0m \u001b[0;34m\u001b[0m\u001b[0m\n\u001b[1;32m    574\u001b[0m     \u001b[0;32mdef\u001b[0m \u001b[0mget\u001b[0m\u001b[0;34m(\u001b[0m\u001b[0mself\u001b[0m\u001b[0;34m)\u001b[0m\u001b[0;34m:\u001b[0m\u001b[0;34m\u001b[0m\u001b[0;34m\u001b[0m\u001b[0m\n",
            "\u001b[0;32m~/anaconda3/lib/python3.8/site-packages/joblib/parallel.py\u001b[0m in \u001b[0;36m__call__\u001b[0;34m(self)\u001b[0m\n\u001b[1;32m    260\u001b[0m         \u001b[0;31m# change the default number of processes to -1\u001b[0m\u001b[0;34m\u001b[0m\u001b[0;34m\u001b[0m\u001b[0;34m\u001b[0m\u001b[0m\n\u001b[1;32m    261\u001b[0m         \u001b[0;32mwith\u001b[0m \u001b[0mparallel_backend\u001b[0m\u001b[0;34m(\u001b[0m\u001b[0mself\u001b[0m\u001b[0;34m.\u001b[0m\u001b[0m_backend\u001b[0m\u001b[0;34m,\u001b[0m \u001b[0mn_jobs\u001b[0m\u001b[0;34m=\u001b[0m\u001b[0mself\u001b[0m\u001b[0;34m.\u001b[0m\u001b[0m_n_jobs\u001b[0m\u001b[0;34m)\u001b[0m\u001b[0;34m:\u001b[0m\u001b[0;34m\u001b[0m\u001b[0;34m\u001b[0m\u001b[0m\n\u001b[0;32m--> 262\u001b[0;31m             return [func(*args, **kwargs)\n\u001b[0m\u001b[1;32m    263\u001b[0m                     for func, args, kwargs in self.items]\n\u001b[1;32m    264\u001b[0m \u001b[0;34m\u001b[0m\u001b[0m\n",
            "\u001b[0;32m~/anaconda3/lib/python3.8/site-packages/joblib/parallel.py\u001b[0m in \u001b[0;36m<listcomp>\u001b[0;34m(.0)\u001b[0m\n\u001b[1;32m    260\u001b[0m         \u001b[0;31m# change the default number of processes to -1\u001b[0m\u001b[0;34m\u001b[0m\u001b[0;34m\u001b[0m\u001b[0;34m\u001b[0m\u001b[0m\n\u001b[1;32m    261\u001b[0m         \u001b[0;32mwith\u001b[0m \u001b[0mparallel_backend\u001b[0m\u001b[0;34m(\u001b[0m\u001b[0mself\u001b[0m\u001b[0;34m.\u001b[0m\u001b[0m_backend\u001b[0m\u001b[0;34m,\u001b[0m \u001b[0mn_jobs\u001b[0m\u001b[0;34m=\u001b[0m\u001b[0mself\u001b[0m\u001b[0;34m.\u001b[0m\u001b[0m_n_jobs\u001b[0m\u001b[0;34m)\u001b[0m\u001b[0;34m:\u001b[0m\u001b[0;34m\u001b[0m\u001b[0;34m\u001b[0m\u001b[0m\n\u001b[0;32m--> 262\u001b[0;31m             return [func(*args, **kwargs)\n\u001b[0m\u001b[1;32m    263\u001b[0m                     for func, args, kwargs in self.items]\n\u001b[1;32m    264\u001b[0m \u001b[0;34m\u001b[0m\u001b[0m\n",
            "\u001b[0;32m~/anaconda3/lib/python3.8/site-packages/sklearn/utils/fixes.py\u001b[0m in \u001b[0;36m__call__\u001b[0;34m(self, *args, **kwargs)\u001b[0m\n\u001b[1;32m    220\u001b[0m     \u001b[0;32mdef\u001b[0m \u001b[0m__call__\u001b[0m\u001b[0;34m(\u001b[0m\u001b[0mself\u001b[0m\u001b[0;34m,\u001b[0m \u001b[0;34m*\u001b[0m\u001b[0margs\u001b[0m\u001b[0;34m,\u001b[0m \u001b[0;34m**\u001b[0m\u001b[0mkwargs\u001b[0m\u001b[0;34m)\u001b[0m\u001b[0;34m:\u001b[0m\u001b[0;34m\u001b[0m\u001b[0;34m\u001b[0m\u001b[0m\n\u001b[1;32m    221\u001b[0m         \u001b[0;32mwith\u001b[0m \u001b[0mconfig_context\u001b[0m\u001b[0;34m(\u001b[0m\u001b[0;34m**\u001b[0m\u001b[0mself\u001b[0m\u001b[0;34m.\u001b[0m\u001b[0mconfig\u001b[0m\u001b[0;34m)\u001b[0m\u001b[0;34m:\u001b[0m\u001b[0;34m\u001b[0m\u001b[0;34m\u001b[0m\u001b[0m\n\u001b[0;32m--> 222\u001b[0;31m             \u001b[0;32mreturn\u001b[0m \u001b[0mself\u001b[0m\u001b[0;34m.\u001b[0m\u001b[0mfunction\u001b[0m\u001b[0;34m(\u001b[0m\u001b[0;34m*\u001b[0m\u001b[0margs\u001b[0m\u001b[0;34m,\u001b[0m \u001b[0;34m**\u001b[0m\u001b[0mkwargs\u001b[0m\u001b[0;34m)\u001b[0m\u001b[0;34m\u001b[0m\u001b[0;34m\u001b[0m\u001b[0m\n\u001b[0m",
            "\u001b[0;32m~/anaconda3/lib/python3.8/site-packages/sklearn/pipeline.py\u001b[0m in \u001b[0;36m_transform_one\u001b[0;34m(transformer, X, y, weight, **fit_params)\u001b[0m\n\u001b[1;32m    731\u001b[0m \u001b[0;34m\u001b[0m\u001b[0m\n\u001b[1;32m    732\u001b[0m \u001b[0;32mdef\u001b[0m \u001b[0m_transform_one\u001b[0m\u001b[0;34m(\u001b[0m\u001b[0mtransformer\u001b[0m\u001b[0;34m,\u001b[0m \u001b[0mX\u001b[0m\u001b[0;34m,\u001b[0m \u001b[0my\u001b[0m\u001b[0;34m,\u001b[0m \u001b[0mweight\u001b[0m\u001b[0;34m,\u001b[0m \u001b[0;34m**\u001b[0m\u001b[0mfit_params\u001b[0m\u001b[0;34m)\u001b[0m\u001b[0;34m:\u001b[0m\u001b[0;34m\u001b[0m\u001b[0;34m\u001b[0m\u001b[0m\n\u001b[0;32m--> 733\u001b[0;31m     \u001b[0mres\u001b[0m \u001b[0;34m=\u001b[0m \u001b[0mtransformer\u001b[0m\u001b[0;34m.\u001b[0m\u001b[0mtransform\u001b[0m\u001b[0;34m(\u001b[0m\u001b[0mX\u001b[0m\u001b[0;34m)\u001b[0m\u001b[0;34m\u001b[0m\u001b[0;34m\u001b[0m\u001b[0m\n\u001b[0m\u001b[1;32m    734\u001b[0m     \u001b[0;31m# if we have a weight for this transformer, multiply output\u001b[0m\u001b[0;34m\u001b[0m\u001b[0;34m\u001b[0m\u001b[0;34m\u001b[0m\u001b[0m\n\u001b[1;32m    735\u001b[0m     \u001b[0;32mif\u001b[0m \u001b[0mweight\u001b[0m \u001b[0;32mis\u001b[0m \u001b[0;32mNone\u001b[0m\u001b[0;34m:\u001b[0m\u001b[0;34m\u001b[0m\u001b[0;34m\u001b[0m\u001b[0m\n",
            "\u001b[0;32m~/anaconda3/lib/python3.8/site-packages/sklearn/pipeline.py\u001b[0m in \u001b[0;36m_transform\u001b[0;34m(self, X)\u001b[0m\n\u001b[1;32m    558\u001b[0m         \u001b[0mXt\u001b[0m \u001b[0;34m=\u001b[0m \u001b[0mX\u001b[0m\u001b[0;34m\u001b[0m\u001b[0;34m\u001b[0m\u001b[0m\n\u001b[1;32m    559\u001b[0m         \u001b[0;32mfor\u001b[0m \u001b[0m_\u001b[0m\u001b[0;34m,\u001b[0m \u001b[0m_\u001b[0m\u001b[0;34m,\u001b[0m \u001b[0mtransform\u001b[0m \u001b[0;32min\u001b[0m \u001b[0mself\u001b[0m\u001b[0;34m.\u001b[0m\u001b[0m_iter\u001b[0m\u001b[0;34m(\u001b[0m\u001b[0;34m)\u001b[0m\u001b[0;34m:\u001b[0m\u001b[0;34m\u001b[0m\u001b[0;34m\u001b[0m\u001b[0m\n\u001b[0;32m--> 560\u001b[0;31m             \u001b[0mXt\u001b[0m \u001b[0;34m=\u001b[0m \u001b[0mtransform\u001b[0m\u001b[0;34m.\u001b[0m\u001b[0mtransform\u001b[0m\u001b[0;34m(\u001b[0m\u001b[0mXt\u001b[0m\u001b[0;34m)\u001b[0m\u001b[0;34m\u001b[0m\u001b[0;34m\u001b[0m\u001b[0m\n\u001b[0m\u001b[1;32m    561\u001b[0m         \u001b[0;32mreturn\u001b[0m \u001b[0mXt\u001b[0m\u001b[0;34m\u001b[0m\u001b[0;34m\u001b[0m\u001b[0m\n\u001b[1;32m    562\u001b[0m \u001b[0;34m\u001b[0m\u001b[0m\n",
            "\u001b[0;32m~/anaconda3/lib/python3.8/site-packages/sklearn/impute/_base.py\u001b[0m in \u001b[0;36mtransform\u001b[0;34m(self, X)\u001b[0m\n\u001b[1;32m    430\u001b[0m         \u001b[0mcheck_is_fitted\u001b[0m\u001b[0;34m(\u001b[0m\u001b[0mself\u001b[0m\u001b[0;34m)\u001b[0m\u001b[0;34m\u001b[0m\u001b[0;34m\u001b[0m\u001b[0m\n\u001b[1;32m    431\u001b[0m \u001b[0;34m\u001b[0m\u001b[0m\n\u001b[0;32m--> 432\u001b[0;31m         \u001b[0mX\u001b[0m \u001b[0;34m=\u001b[0m \u001b[0mself\u001b[0m\u001b[0;34m.\u001b[0m\u001b[0m_validate_input\u001b[0m\u001b[0;34m(\u001b[0m\u001b[0mX\u001b[0m\u001b[0;34m,\u001b[0m \u001b[0min_fit\u001b[0m\u001b[0;34m=\u001b[0m\u001b[0;32mFalse\u001b[0m\u001b[0;34m)\u001b[0m\u001b[0;34m\u001b[0m\u001b[0;34m\u001b[0m\u001b[0m\n\u001b[0m\u001b[1;32m    433\u001b[0m         \u001b[0mstatistics\u001b[0m \u001b[0;34m=\u001b[0m \u001b[0mself\u001b[0m\u001b[0;34m.\u001b[0m\u001b[0mstatistics_\u001b[0m\u001b[0;34m\u001b[0m\u001b[0;34m\u001b[0m\u001b[0m\n\u001b[1;32m    434\u001b[0m \u001b[0;34m\u001b[0m\u001b[0m\n",
            "\u001b[0;32m~/anaconda3/lib/python3.8/site-packages/sklearn/impute/_base.py\u001b[0m in \u001b[0;36m_validate_input\u001b[0;34m(self, X, in_fit)\u001b[0m\n\u001b[1;32m    258\u001b[0m                 new_ve = ValueError(\"Cannot use {} strategy with non-numeric \"\n\u001b[1;32m    259\u001b[0m                                     \"data:\\n{}\".format(self.strategy, ve))\n\u001b[0;32m--> 260\u001b[0;31m                 \u001b[0;32mraise\u001b[0m \u001b[0mnew_ve\u001b[0m \u001b[0;32mfrom\u001b[0m \u001b[0;32mNone\u001b[0m\u001b[0;34m\u001b[0m\u001b[0;34m\u001b[0m\u001b[0m\n\u001b[0m\u001b[1;32m    261\u001b[0m             \u001b[0;32melse\u001b[0m\u001b[0;34m:\u001b[0m\u001b[0;34m\u001b[0m\u001b[0;34m\u001b[0m\u001b[0m\n\u001b[1;32m    262\u001b[0m                 \u001b[0;32mraise\u001b[0m \u001b[0mve\u001b[0m\u001b[0;34m\u001b[0m\u001b[0;34m\u001b[0m\u001b[0m\n",
            "\u001b[0;31mValueError\u001b[0m: Cannot use mean strategy with non-numeric data:\ncould not convert string to float: 'r__I'"
          ]
        }
      ]
    },
    {
      "cell_type": "code",
      "metadata": {
        "id": "lRVvfvJZcpDv",
        "outputId": "f8576321-66a4-4d43-edbd-56a682e165b4"
      },
      "source": [
        "preprocessor_pipeline['preprocessor'].transformers_[1][1][2].cat_cols"
      ],
      "execution_count": null,
      "outputs": [
        {
          "ename": "AttributeError",
          "evalue": "'FrequencyEncoder' object has no attribute 'cat_cols'",
          "output_type": "error",
          "traceback": [
            "\u001b[0;31m---------------------------------------------------------------------------\u001b[0m",
            "\u001b[0;31mAttributeError\u001b[0m                            Traceback (most recent call last)",
            "\u001b[0;32m<ipython-input-154-4a10989baf13>\u001b[0m in \u001b[0;36m<module>\u001b[0;34m\u001b[0m\n\u001b[0;32m----> 1\u001b[0;31m \u001b[0mpreprocessor_pipeline\u001b[0m\u001b[0;34m[\u001b[0m\u001b[0;34m'preprocessor'\u001b[0m\u001b[0;34m]\u001b[0m\u001b[0;34m.\u001b[0m\u001b[0mtransformers_\u001b[0m\u001b[0;34m[\u001b[0m\u001b[0;36m1\u001b[0m\u001b[0;34m]\u001b[0m\u001b[0;34m[\u001b[0m\u001b[0;36m1\u001b[0m\u001b[0;34m]\u001b[0m\u001b[0;34m[\u001b[0m\u001b[0;36m2\u001b[0m\u001b[0;34m]\u001b[0m\u001b[0;34m.\u001b[0m\u001b[0mcat_cols\u001b[0m\u001b[0;34m\u001b[0m\u001b[0;34m\u001b[0m\u001b[0m\n\u001b[0m",
            "\u001b[0;31mAttributeError\u001b[0m: 'FrequencyEncoder' object has no attribute 'cat_cols'"
          ]
        }
      ]
    },
    {
      "cell_type": "code",
      "metadata": {
        "id": "0MEOoy4ZcpDv"
      },
      "source": [
        "dict_ = {}\n",
        "for col in tmp.columns:\n",
        "    dict_[col] = tmp.groupby(col).size() / len(tmp)"
      ],
      "execution_count": null,
      "outputs": []
    },
    {
      "cell_type": "code",
      "metadata": {
        "id": "Bas__n06cpDv",
        "outputId": "0fdcef48-5d67-4275-b58a-01d55db5a776"
      },
      "source": [
        "dict_"
      ],
      "execution_count": null,
      "outputs": [
        {
          "data": {
            "text/plain": [
              "{'Var191': Var191\n",
              " r__I    1.0\n",
              " dtype: float64,\n",
              " 'Var192': Var192\n",
              " 0G9vyxdMWg    0.000029\n",
              " 0kQTmBU3gb    0.000029\n",
              " 0kQqrQsiZt    0.000029\n",
              " 0vimfo8zhV    0.006743\n",
              " 1GdOj17ejg    0.005771\n",
              "                 ...   \n",
              " zKnr4RXktW    0.007257\n",
              " zKnrjIPxRp    0.000029\n",
              " zcROj17IEC    0.006000\n",
              " zcROj1KVEH    0.001543\n",
              " zcRZptzip9    0.004829\n",
              " Length: 346, dtype: float64,\n",
              " 'Var193': Var193\n",
              " 2Knk1KF                                     0.145314\n",
              " 2wnefc9ISdLjfQoAYBI                         0.000114\n",
              " 5QKIjwyXr4MCZTEp7uAkS8PtBLcn                0.001286\n",
              " 8kO9LslBGNXoLvWEuN6tPuN59TdYxfL9Sm6oU       0.000171\n",
              " 9U2tunPAje3TwfLLUQxzM3dC1ghn                0.000057\n",
              " AERks4l                                     0.043943\n",
              " B2T7ZTgOX7xpBPBD28SLvVWgBkc13Sm0a3tk2       0.000029\n",
              " BrRu5UxtiQY9TTJ8ABKpfS                      0.000400\n",
              " ByQdnLRlFnny2k4AJzG                         0.001771\n",
              " DH86UFkz9LK6My0ezUgZx96oI                   0.000029\n",
              " Fveq5yuDUj6drSMiZO3mXe                      0.000429\n",
              " GpoBynXzkxADI7bZBtqvX2IPV5t7o2QCPE          0.001029\n",
              " J71wxZB6Jn0CR82XoyV                         0.000057\n",
              " JXVE                                        0.000657\n",
              " KjAW4rq3iyvu8XwKkyQ2_svIATjM3B5             0.000029\n",
              " LrdVolaSGUfkVeWC                            0.003686\n",
              " LrdZy8QqgUfkVShG                            0.008886\n",
              " MJdP52puUMWhmExsNdlkGDbNTFln2Eg             0.001743\n",
              " ND3t9Yro9U                                  0.001857\n",
              " NMCEYavk0YOlqn2jHeEDjP0xsdXeAZGnZDN0NOfV    0.000971\n",
              " NRCqczK                                     0.001114\n",
              " OpDzzQJ                                     0.000029\n",
              " PomAbFU                                     0.001971\n",
              " QG5U1Qs9mF3805lxYz2cGPnrm                   0.000029\n",
              " RO12                                        0.719771\n",
              " SrUWsbENd7prk                               0.000029\n",
              " TW8dXluYzKpktZjuY8kSPBaZa                   0.003200\n",
              " X1rJx42ksaRn3qcM                            0.000286\n",
              " X2uI6IsGev                                  0.000886\n",
              " _7J0OGNN8s6gFzbM                            0.001229\n",
              " bYmQ4nc                                     0.002086\n",
              " e6CkoqApVR                                  0.010486\n",
              " eSGpMwS8zSGgq_trOpckZ5                      0.008971\n",
              " g62hiBSaKg                                  0.011857\n",
              " gGvYE2F8JHtPlbzkGbl                         0.000029\n",
              " hnq7pOcHWLojUTXc7HQutLwmffdy                0.000029\n",
              " iKEouAWeUBYR3fQ5tZmt_bDPIn6qT7tIGHs8L       0.000286\n",
              " msph93375qXRfw6hcMceRRIDdmHq8wn             0.000143\n",
              " onTuEhrJJQy_H3IHkZku5AFczhYGqxJ890          0.005200\n",
              " qqimvRzsp8ZZdKRPgzLg68joSn_k                0.002029\n",
              " rEUOq2QD1qfkRr6qpua                         0.009114\n",
              " snf9xe6PBwBZ8lKzhEz                         0.000629\n",
              " ues7INAmyjdS1vDd0YL9jU                      0.000657\n",
              " vuPfq6YcbX                                  0.003143\n",
              " w9ygS99Qp_                                  0.003486\n",
              " wvnt2iBhAPeGqIKaFUxJc6ca3IYp                0.000029\n",
              " yaM_UXtlxCFW5NHTcftwou7BmXcP9VITdHAto       0.000057\n",
              " z3s4Ji522ZB1FauqOOqbkl                      0.000229\n",
              " zPhCMhkz9XiOF7LgT9VfJZ3yI                   0.000543\n",
              " dtype: float64,\n",
              " 'Var194': Var194\n",
              " CTUH    0.000800\n",
              " SEuy    0.995629\n",
              " lvza    0.003571\n",
              " dtype: float64,\n",
              " 'Var195': Var195\n",
              " ArtjQZ8ftr3NB       0.000343\n",
              " ArtjQZQO1r9fC       0.000114\n",
              " ArtjQZmIvr94p       0.000343\n",
              " BNjsq81k1tWAYigY    0.000114\n",
              " CiJDdr4TQ0rGERIS    0.011086\n",
              " CiJsoa4TQ0rGHlMp    0.000057\n",
              " CuXi4je             0.003314\n",
              " F1JQrEL             0.000114\n",
              " I9xt3GBDKUbd8       0.000371\n",
              " I9xt3GDRhUK7p       0.001114\n",
              " I9xt3GMcxUnBZ       0.000514\n",
              " I9xt3Gi01UK7p       0.000029\n",
              " LfvqpCtLOY          0.017486\n",
              " TnJpfvsJgF          0.000114\n",
              " V10_0kx3ZF2we       0.000029\n",
              " XMIgoIlPqx          0.000029\n",
              " ZZBPiZh             0.000057\n",
              " b_3Q                0.001457\n",
              " bsZtYxFjzA          0.000171\n",
              " ev6I                0.003571\n",
              " hiMqnEM7VgIk4JUu    0.000343\n",
              " lSbpiq1             0.000229\n",
              " taul                0.959000\n",
              " dtype: float64,\n",
              " 'Var196': Var196\n",
              " 1K8T    0.991400\n",
              " JA1C    0.000429\n",
              " mKeq    0.000029\n",
              " z3mO    0.008143\n",
              " dtype: float64,\n",
              " 'Var197': Var197\n",
              " 0LaQ    0.002286\n",
              " 0WHw    0.004143\n",
              " 0Xwj    0.094200\n",
              " 0Y9G    0.008286\n",
              " 0YIT    0.000829\n",
              "           ...   \n",
              " yxYT    0.000200\n",
              " z32l    0.018829\n",
              " z72i    0.000029\n",
              " z8at    0.000829\n",
              " zcPU    0.000257\n",
              " Length: 218, dtype: float64,\n",
              " 'Var198': Var198\n",
              " 02s4XMm    0.000029\n",
              " 04quqyB    0.000029\n",
              " 05vx4QS    0.000057\n",
              " 067eUDx    0.000057\n",
              " 06X7E9Z    0.000029\n",
              "              ...   \n",
              " zmM4q6X    0.000029\n",
              " zmMFZH4    0.000029\n",
              " zmMlkJq    0.000629\n",
              " zuN95OD    0.000029\n",
              " zv8CdSD    0.000057\n",
              " Length: 3676, dtype: float64,\n",
              " 'Var199': Var199\n",
              " 00J8E9a             0.000429\n",
              " 01r9QwR9mpRnm       0.000029\n",
              " 01rpPS3KgPnu7       0.000086\n",
              " 03dnv4GDcc          0.000029\n",
              " 0DCFSyZnMW          0.000029\n",
              "                       ...   \n",
              " zvpdulkaWOQlA       0.000029\n",
              " zxagMIH             0.000029\n",
              " zxarPvc             0.000743\n",
              " zyR5BuUrkb8I9Lth    0.000057\n",
              " zzcv6yg4s3UGv       0.000029\n",
              " Length: 4060, dtype: float64,\n",
              " 'Var200': Var200\n",
              " 01kFO1M    0.000029\n",
              " 01kHI_O    0.000029\n",
              " 01kLdzZ    0.000029\n",
              " 01kV_s5    0.000029\n",
              " 02hHpkL    0.000086\n",
              "              ...   \n",
              " zxbh2BE    0.000029\n",
              " zxbiUTi    0.000057\n",
              " zxbpFqe    0.000029\n",
              " zxbyzIV    0.000057\n",
              " zzQ9udm    0.000057\n",
              " Length: 12104, dtype: float64,\n",
              " 'Var201': Var201\n",
              " 6dX3    0.000143\n",
              " smXZ    0.999857\n",
              " dtype: float64,\n",
              " 'Var202': Var202\n",
              " 0062    0.000371\n",
              " 00AD    0.000114\n",
              " 0152    0.000057\n",
              " 01Id    0.000086\n",
              " 01br    0.000057\n",
              "           ...   \n",
              " zxsN    0.000371\n",
              " zyO0    0.000114\n",
              " zylC    0.000800\n",
              " zz34    0.000086\n",
              " zzpZ    0.000029\n",
              " Length: 5411, dtype: float64,\n",
              " 'Var203': Var203\n",
              " 9_Y1    0.908943\n",
              " F3hy    0.028914\n",
              " HLqf    0.062086\n",
              " dgxZ    0.000057\n",
              " dtype: float64,\n",
              " 'Var204': Var204\n",
              " 000J    0.009971\n",
              " 0A_v    0.010971\n",
              " 15m3    0.021543\n",
              " 1Bp0    0.009600\n",
              " 3NyY    0.002800\n",
              "           ...   \n",
              " xQ2A    0.016971\n",
              " xSqs    0.011000\n",
              " yrDU    0.008229\n",
              " z5Ry    0.020914\n",
              " zfpA    0.007400\n",
              " Length: 100, dtype: float64,\n",
              " 'Var205': Var205\n",
              " 09_Q       0.230743\n",
              " VpdQ       0.680057\n",
              " sJzTlal    0.089200\n",
              " dtype: float64,\n",
              " 'Var206': Var206\n",
              " 409L       0.000171\n",
              " 43pnToF    0.030600\n",
              " 69fI       0.004457\n",
              " 6JmL       0.021914\n",
              " CoYW       0.005114\n",
              " G_zk       0.002343\n",
              " IYzP       0.457029\n",
              " TIA9       0.002029\n",
              " Tkho       0.013114\n",
              " giwq       0.008000\n",
              " hAFG       0.056886\n",
              " haYg       0.057286\n",
              " hzlB       0.008371\n",
              " itlM       0.008029\n",
              " kxE9       0.030400\n",
              " lVqb       0.015771\n",
              " oZyB       0.004943\n",
              " sYC_       0.079000\n",
              " wMei       0.035486\n",
              " y6dw       0.029914\n",
              " zm5i       0.129143\n",
              " dtype: float64,\n",
              " 'Var207': Var207\n",
              " 0MCPoln                      0.000314\n",
              " 15TtzZrRt2                   0.000486\n",
              " 5iay                         0.001629\n",
              " 6C53VA1kCv                   0.002400\n",
              " 7M47J5GA0pTYIFxg5uy          0.137800\n",
              " DHn_WUyBhW_whjA88g9bvA64_    0.070371\n",
              " EBKcR3s6B22tD6gC36gm6S       0.000600\n",
              " GjJ35utlTa_GNSvxxpb9ju       0.021629\n",
              " Kxdu                         0.038771\n",
              " NKv3VA1BpP                   0.025171\n",
              " me75fM6ugJ                   0.700600\n",
              " o0ZZAVSQ32YuE                0.000029\n",
              " tMBVJkA0xJMEATvl4ht          0.000029\n",
              " wXfldy7                      0.000171\n",
              " dtype: float64,\n",
              " 'Var208': Var208\n",
              " kIsH    0.924457\n",
              " sBgB    0.075543\n",
              " dtype: float64,\n",
              " 'Var210': Var210\n",
              " 3av_    0.001371\n",
              " 7A3j    0.009743\n",
              " DM_V    0.003086\n",
              " g5HH    0.029943\n",
              " oT7d    0.003571\n",
              " uKAI    0.952286\n",
              " dtype: float64,\n",
              " 'Var211': Var211\n",
              " L84s    0.805257\n",
              " Mtgm    0.194743\n",
              " dtype: float64,\n",
              " 'Var212': Var212\n",
              " 0ufvj1SlEJJXp       0.000057\n",
              " 1OjWUjS             0.000029\n",
              " 1YxyYTLbzthWO       0.002571\n",
              " 3DU5ycSrJHCaC       0.000314\n",
              " 3vzwTT0wY25GE       0.000029\n",
              "                       ...   \n",
              " tbewxY_YSo          0.000971\n",
              " tw2KJMQ4CHDUN7hS    0.000086\n",
              " uOTgAWJ2It          0.000143\n",
              " zD9lk3UmVL          0.000114\n",
              " zz1zifk             0.000029\n",
              " Length: 77, dtype: float64,\n",
              " 'Var213': Var213\n",
              " KdSa    1.0\n",
              " dtype: float64,\n",
              " 'Var214': Var214\n",
              " 00TArgI    0.000029\n",
              " 00TG9XT    0.000029\n",
              " 00TGf3V    0.000029\n",
              " 00TGzAM    0.000029\n",
              " 00TNuBd    0.000057\n",
              "              ...   \n",
              " zzbGa54    0.000057\n",
              " zzfHvGh    0.000171\n",
              " zzfLM_S    0.000029\n",
              " zzfUfAI    0.000086\n",
              " zzfo6HG    0.000029\n",
              " Length: 12104, dtype: float64,\n",
              " 'Var215': Var215\n",
              " eGzu    1.0\n",
              " dtype: float64,\n",
              " 'Var216': Var216\n",
              " 11p0d_e    0.000029\n",
              " 11p3sk4    0.000286\n",
              " 11p43BP    0.000029\n",
              " 11p49H7    0.000029\n",
              " 11p4cJh    0.000086\n",
              "              ...   \n",
              " y5Fxyzk    0.000057\n",
              " y5FyPEY    0.000029\n",
              " y5FyWqR    0.000057\n",
              " y5Fy_2X    0.000029\n",
              " y5Fzn1t    0.000029\n",
              " Length: 1717, dtype: float64,\n",
              " 'Var217': Var217\n",
              " 00Lk    0.000029\n",
              " 00Pj    0.000029\n",
              " 010O    0.000029\n",
              " 015k    0.000057\n",
              " 01Xr    0.000057\n",
              "           ...   \n",
              " zxZB    0.000029\n",
              " zyQA    0.000029\n",
              " zyxo    0.000029\n",
              " zz4X    0.000029\n",
              " zzQV    0.000057\n",
              " Length: 11593, dtype: float64,\n",
              " 'Var218': Var218\n",
              " UYBR    0.481114\n",
              " cJvF    0.518886\n",
              " dtype: float64,\n",
              " 'Var219': Var219\n",
              " 49W0rUY       0.000057\n",
              " 49W9HeL       0.000057\n",
              " 6krWwfF       0.000057\n",
              " AT1N          0.000057\n",
              " AU8KzzF       0.000086\n",
              " AU8OvAe       0.000143\n",
              " AU8_WTd       0.011486\n",
              " AU8ltHK       0.000200\n",
              " AU8pNoi       0.022543\n",
              " FQHxeR8       0.000171\n",
              " FqMWi1g       0.000543\n",
              " FzaX          0.909743\n",
              " HEoH          0.000029\n",
              " JdAM          0.000171\n",
              " Lmli          0.005257\n",
              " OFWH          0.016629\n",
              " kgEg          0.000029\n",
              " lkwAXjv       0.000057\n",
              " qxDb          0.022143\n",
              " tdJW_Pm       0.001371\n",
              " wwPEXoilkr    0.008714\n",
              " ylgWTXl       0.000457\n",
              " dtype: float64,\n",
              " 'Var220': Var220\n",
              " 07m8iqZ    0.001257\n",
              " 07mCabK    0.000029\n",
              " 07mQFkJ    0.000457\n",
              " 07mRngW    0.000029\n",
              " 07mVy8V    0.000086\n",
              "              ...   \n",
              " zqsvdH_    0.001086\n",
              " zxm38SL    0.000171\n",
              " zxm6hzI    0.000371\n",
              " zxmVxx9    0.000086\n",
              " zxmyH3X    0.000057\n",
              " Length: 3676, dtype: float64,\n",
              " 'Var221': Var221\n",
              " Al6ZaUT    0.033857\n",
              " JIiEFBU    0.002829\n",
              " QKW8DRm    0.032857\n",
              " d0EEeJi    0.061286\n",
              " oslk       0.739314\n",
              " z4pH       0.005314\n",
              " zCkv       0.124543\n",
              " dtype: float64,\n",
              " 'Var222': Var222\n",
              " 00ARusu    0.001029\n",
              " 00AYONy    0.000029\n",
              " 00AhP4J    0.000057\n",
              " 017QQMs    0.000543\n",
              " 017QhSV    0.000029\n",
              "              ...   \n",
              " zvSA17J    0.000029\n",
              " zvSNyBY    0.000029\n",
              " zvSO_7b    0.000429\n",
              " zwFAGfT    0.000514\n",
              " zwFqcLF    0.000057\n",
              " Length: 3676, dtype: float64,\n",
              " 'Var223': Var223\n",
              " LM8l689qOp    0.836457\n",
              " M_8D          0.040629\n",
              " bCPvVye       0.002971\n",
              " jySVZNlOJy    0.119943\n",
              " dtype: float64,\n",
              " 'Var224': Var224\n",
              " 4n2X    1.0\n",
              " dtype: float64,\n",
              " 'Var225': Var225\n",
              " ELof    0.745571\n",
              " kG3k    0.207257\n",
              " xG3x    0.047171\n",
              " dtype: float64,\n",
              " 'Var226': Var226\n",
              " 3Cy4    0.025886\n",
              " 453m    0.044029\n",
              " 5Acm    0.043314\n",
              " 7FJQ    0.011000\n",
              " 7P5s    0.055914\n",
              " 7aLG    0.022486\n",
              " Aoh3    0.052686\n",
              " FSa2    0.161229\n",
              " PM2D    0.028086\n",
              " Qcbd    0.041371\n",
              " Qu4f    0.098600\n",
              " TNEC    0.021171\n",
              " WqMG    0.084857\n",
              " Xa3G    0.028229\n",
              " fKCe    0.052657\n",
              " kwS7    0.022714\n",
              " me1d    0.024257\n",
              " rgKb    0.026914\n",
              " szEZ    0.058914\n",
              " uWr3    0.026486\n",
              " wX53    0.019171\n",
              " w_Ub    0.007543\n",
              " xb3V    0.042486\n",
              " dtype: float64,\n",
              " 'Var227': Var227\n",
              " 02N6s8f    0.047771\n",
              " 6fzt       0.068457\n",
              " RAYp       0.702257\n",
              " ZI9m       0.122857\n",
              " nIGXDli    0.045657\n",
              " nIGjgSB    0.000486\n",
              " vJ_w8kB    0.012514\n",
              " dtype: float64,\n",
              " 'Var228': Var228\n",
              " 0pzBWGkV3fbsGZN52DH          0.002400\n",
              " 4rd_                         0.001857\n",
              " 55YFVY9                      0.086114\n",
              " 5oZS                         0.000257\n",
              " 6nxx00q6gnIF8ePJ3P3AEfZ1N    0.000486\n",
              " 9VmiOykV3fbsAg65e4w          0.000029\n",
              " DU8B                         0.000571\n",
              " F2FcTt7IdMT_v                0.017086\n",
              " F2FyR07IdsN7I                0.655000\n",
              " JnGLH58smNxIYcGK39k          0.000800\n",
              " NoEd                         0.009229\n",
              " R4y5gQQWY8OodqDV             0.032229\n",
              " RjBDiL8f9CQYc21fICscNNpj6    0.000143\n",
              " SbOd7O8ky1wGNxp0Arj0Xs       0.014943\n",
              " TCU50_Yjmm6GIBZ0lL_          0.025400\n",
              " VjDE                         0.006629\n",
              " WfJ2BB2SFSqauljlfOB          0.005457\n",
              " WfJYmPMksSqa1pajvfG          0.003343\n",
              " ZeaF                         0.001171\n",
              " Zy3gnGM                      0.018971\n",
              " _cTCyH95OE93jSkoIBT          0.000143\n",
              " am14IcfM7tWLrUmRT52KtA       0.008714\n",
              " b9qbUNk0dML_Mvi2             0.000800\n",
              " d0LtHjWeaXyArdN4sxU_saXqH    0.000200\n",
              " ib5G6X1eUxUn6                0.052600\n",
              " iyHGyLCEkQ                   0.024971\n",
              " n1OBWGkV3fbsHR75taC          0.000029\n",
              " r_7E                         0.000486\n",
              " xwM2aC7IdeMC0                0.029943\n",
              " dtype: float64,\n",
              " 'Var229': Var229\n",
              " am7c    0.804371\n",
              " mj86    0.194086\n",
              " oJmt    0.000771\n",
              " sk2h    0.000771\n",
              " dtype: float64}"
            ]
          },
          "execution_count": 105,
          "metadata": {},
          "output_type": "execute_result"
        }
      ]
    },
    {
      "cell_type": "code",
      "metadata": {
        "id": "0uH7TRolcpDw",
        "outputId": "740a8fe5-04f4-44b0-c6c8-c906a7af56f3"
      },
      "source": [
        "tmp.apply(lambda col: col.map(dict_[col.name]))"
      ],
      "execution_count": null,
      "outputs": [
        {
          "data": {
            "text/html": [
              "<div>\n",
              "<style scoped>\n",
              "    .dataframe tbody tr th:only-of-type {\n",
              "        vertical-align: middle;\n",
              "    }\n",
              "\n",
              "    .dataframe tbody tr th {\n",
              "        vertical-align: top;\n",
              "    }\n",
              "\n",
              "    .dataframe thead th {\n",
              "        text-align: right;\n",
              "    }\n",
              "</style>\n",
              "<table border=\"1\" class=\"dataframe\">\n",
              "  <thead>\n",
              "    <tr style=\"text-align: right;\">\n",
              "      <th></th>\n",
              "      <th>Var191</th>\n",
              "      <th>Var192</th>\n",
              "      <th>Var193</th>\n",
              "      <th>Var194</th>\n",
              "      <th>Var195</th>\n",
              "      <th>Var196</th>\n",
              "      <th>Var197</th>\n",
              "      <th>Var198</th>\n",
              "      <th>Var199</th>\n",
              "      <th>Var200</th>\n",
              "      <th>...</th>\n",
              "      <th>Var220</th>\n",
              "      <th>Var221</th>\n",
              "      <th>Var222</th>\n",
              "      <th>Var223</th>\n",
              "      <th>Var224</th>\n",
              "      <th>Var225</th>\n",
              "      <th>Var226</th>\n",
              "      <th>Var227</th>\n",
              "      <th>Var228</th>\n",
              "      <th>Var229</th>\n",
              "    </tr>\n",
              "  </thead>\n",
              "  <tbody>\n",
              "    <tr>\n",
              "      <th>0</th>\n",
              "      <td>1.0</td>\n",
              "      <td>0.004143</td>\n",
              "      <td>0.010486</td>\n",
              "      <td>0.995629</td>\n",
              "      <td>0.959</td>\n",
              "      <td>0.9914</td>\n",
              "      <td>0.094200</td>\n",
              "      <td>0.015314</td>\n",
              "      <td>0.000143</td>\n",
              "      <td>0.512286</td>\n",
              "      <td>...</td>\n",
              "      <td>0.015314</td>\n",
              "      <td>0.124543</td>\n",
              "      <td>0.015314</td>\n",
              "      <td>0.836457</td>\n",
              "      <td>1.0</td>\n",
              "      <td>0.745571</td>\n",
              "      <td>0.084857</td>\n",
              "      <td>0.068457</td>\n",
              "      <td>0.017086</td>\n",
              "      <td>0.804371</td>\n",
              "    </tr>\n",
              "    <tr>\n",
              "      <th>1</th>\n",
              "      <td>1.0</td>\n",
              "      <td>0.006029</td>\n",
              "      <td>0.719771</td>\n",
              "      <td>0.995629</td>\n",
              "      <td>0.959</td>\n",
              "      <td>0.9914</td>\n",
              "      <td>0.005143</td>\n",
              "      <td>0.002057</td>\n",
              "      <td>0.000343</td>\n",
              "      <td>0.512286</td>\n",
              "      <td>...</td>\n",
              "      <td>0.002057</td>\n",
              "      <td>0.739314</td>\n",
              "      <td>0.002057</td>\n",
              "      <td>0.836457</td>\n",
              "      <td>1.0</td>\n",
              "      <td>0.745571</td>\n",
              "      <td>0.044029</td>\n",
              "      <td>0.702257</td>\n",
              "      <td>0.655000</td>\n",
              "      <td>0.804371</td>\n",
              "    </tr>\n",
              "    <tr>\n",
              "      <th>2</th>\n",
              "      <td>1.0</td>\n",
              "      <td>0.003314</td>\n",
              "      <td>0.719771</td>\n",
              "      <td>0.995629</td>\n",
              "      <td>0.959</td>\n",
              "      <td>0.9914</td>\n",
              "      <td>0.094200</td>\n",
              "      <td>0.000371</td>\n",
              "      <td>0.004486</td>\n",
              "      <td>0.512286</td>\n",
              "      <td>...</td>\n",
              "      <td>0.000371</td>\n",
              "      <td>0.739314</td>\n",
              "      <td>0.000371</td>\n",
              "      <td>0.836457</td>\n",
              "      <td>1.0</td>\n",
              "      <td>0.745571</td>\n",
              "      <td>0.161229</td>\n",
              "      <td>0.702257</td>\n",
              "      <td>0.655000</td>\n",
              "      <td>0.804371</td>\n",
              "    </tr>\n",
              "    <tr>\n",
              "      <th>3</th>\n",
              "      <td>1.0</td>\n",
              "      <td>0.001257</td>\n",
              "      <td>0.145314</td>\n",
              "      <td>0.995629</td>\n",
              "      <td>0.959</td>\n",
              "      <td>0.9914</td>\n",
              "      <td>0.088886</td>\n",
              "      <td>0.001171</td>\n",
              "      <td>0.003229</td>\n",
              "      <td>0.000286</td>\n",
              "      <td>...</td>\n",
              "      <td>0.001171</td>\n",
              "      <td>0.739314</td>\n",
              "      <td>0.001171</td>\n",
              "      <td>0.119943</td>\n",
              "      <td>1.0</td>\n",
              "      <td>0.745571</td>\n",
              "      <td>0.024257</td>\n",
              "      <td>0.702257</td>\n",
              "      <td>0.086114</td>\n",
              "      <td>0.194086</td>\n",
              "    </tr>\n",
              "    <tr>\n",
              "      <th>4</th>\n",
              "      <td>1.0</td>\n",
              "      <td>0.003743</td>\n",
              "      <td>0.719771</td>\n",
              "      <td>0.995629</td>\n",
              "      <td>0.959</td>\n",
              "      <td>0.9914</td>\n",
              "      <td>0.088886</td>\n",
              "      <td>0.001000</td>\n",
              "      <td>0.001229</td>\n",
              "      <td>0.512286</td>\n",
              "      <td>...</td>\n",
              "      <td>0.001000</td>\n",
              "      <td>0.739314</td>\n",
              "      <td>0.001000</td>\n",
              "      <td>0.836457</td>\n",
              "      <td>1.0</td>\n",
              "      <td>0.745571</td>\n",
              "      <td>0.055914</td>\n",
              "      <td>0.702257</td>\n",
              "      <td>0.655000</td>\n",
              "      <td>0.804371</td>\n",
              "    </tr>\n",
              "    <tr>\n",
              "      <th>...</th>\n",
              "      <td>...</td>\n",
              "      <td>...</td>\n",
              "      <td>...</td>\n",
              "      <td>...</td>\n",
              "      <td>...</td>\n",
              "      <td>...</td>\n",
              "      <td>...</td>\n",
              "      <td>...</td>\n",
              "      <td>...</td>\n",
              "      <td>...</td>\n",
              "      <td>...</td>\n",
              "      <td>...</td>\n",
              "      <td>...</td>\n",
              "      <td>...</td>\n",
              "      <td>...</td>\n",
              "      <td>...</td>\n",
              "      <td>...</td>\n",
              "      <td>...</td>\n",
              "      <td>...</td>\n",
              "      <td>...</td>\n",
              "      <td>...</td>\n",
              "    </tr>\n",
              "    <tr>\n",
              "      <th>34995</th>\n",
              "      <td>1.0</td>\n",
              "      <td>0.006657</td>\n",
              "      <td>0.719771</td>\n",
              "      <td>0.995629</td>\n",
              "      <td>0.959</td>\n",
              "      <td>0.9914</td>\n",
              "      <td>0.007857</td>\n",
              "      <td>0.000057</td>\n",
              "      <td>0.002343</td>\n",
              "      <td>0.512286</td>\n",
              "      <td>...</td>\n",
              "      <td>0.000057</td>\n",
              "      <td>0.033857</td>\n",
              "      <td>0.000057</td>\n",
              "      <td>0.836457</td>\n",
              "      <td>1.0</td>\n",
              "      <td>0.745571</td>\n",
              "      <td>0.058914</td>\n",
              "      <td>0.047771</td>\n",
              "      <td>0.655000</td>\n",
              "      <td>0.804371</td>\n",
              "    </tr>\n",
              "    <tr>\n",
              "      <th>34996</th>\n",
              "      <td>1.0</td>\n",
              "      <td>0.003714</td>\n",
              "      <td>0.145314</td>\n",
              "      <td>0.995629</td>\n",
              "      <td>0.959</td>\n",
              "      <td>0.9914</td>\n",
              "      <td>0.039857</td>\n",
              "      <td>0.089000</td>\n",
              "      <td>0.009200</td>\n",
              "      <td>0.000029</td>\n",
              "      <td>...</td>\n",
              "      <td>0.089000</td>\n",
              "      <td>0.124543</td>\n",
              "      <td>0.089000</td>\n",
              "      <td>0.836457</td>\n",
              "      <td>1.0</td>\n",
              "      <td>0.745571</td>\n",
              "      <td>0.028086</td>\n",
              "      <td>0.122857</td>\n",
              "      <td>0.025400</td>\n",
              "      <td>0.804371</td>\n",
              "    </tr>\n",
              "    <tr>\n",
              "      <th>34997</th>\n",
              "      <td>1.0</td>\n",
              "      <td>0.005057</td>\n",
              "      <td>0.719771</td>\n",
              "      <td>0.995629</td>\n",
              "      <td>0.959</td>\n",
              "      <td>0.9914</td>\n",
              "      <td>0.000314</td>\n",
              "      <td>0.000371</td>\n",
              "      <td>0.013114</td>\n",
              "      <td>0.512286</td>\n",
              "      <td>...</td>\n",
              "      <td>0.000371</td>\n",
              "      <td>0.739314</td>\n",
              "      <td>0.000371</td>\n",
              "      <td>0.836457</td>\n",
              "      <td>1.0</td>\n",
              "      <td>0.745571</td>\n",
              "      <td>0.084857</td>\n",
              "      <td>0.702257</td>\n",
              "      <td>0.655000</td>\n",
              "      <td>0.804371</td>\n",
              "    </tr>\n",
              "    <tr>\n",
              "      <th>34998</th>\n",
              "      <td>1.0</td>\n",
              "      <td>0.006000</td>\n",
              "      <td>0.719771</td>\n",
              "      <td>0.995629</td>\n",
              "      <td>0.959</td>\n",
              "      <td>0.9914</td>\n",
              "      <td>0.003857</td>\n",
              "      <td>0.000857</td>\n",
              "      <td>0.001000</td>\n",
              "      <td>0.000057</td>\n",
              "      <td>...</td>\n",
              "      <td>0.000857</td>\n",
              "      <td>0.739314</td>\n",
              "      <td>0.000857</td>\n",
              "      <td>0.836457</td>\n",
              "      <td>1.0</td>\n",
              "      <td>0.745571</td>\n",
              "      <td>0.098600</td>\n",
              "      <td>0.702257</td>\n",
              "      <td>0.655000</td>\n",
              "      <td>0.194086</td>\n",
              "    </tr>\n",
              "    <tr>\n",
              "      <th>34999</th>\n",
              "      <td>1.0</td>\n",
              "      <td>0.006000</td>\n",
              "      <td>0.719771</td>\n",
              "      <td>0.995629</td>\n",
              "      <td>0.959</td>\n",
              "      <td>0.9914</td>\n",
              "      <td>0.094200</td>\n",
              "      <td>0.000343</td>\n",
              "      <td>0.018914</td>\n",
              "      <td>0.512286</td>\n",
              "      <td>...</td>\n",
              "      <td>0.000343</td>\n",
              "      <td>0.739314</td>\n",
              "      <td>0.000343</td>\n",
              "      <td>0.836457</td>\n",
              "      <td>1.0</td>\n",
              "      <td>0.745571</td>\n",
              "      <td>0.098600</td>\n",
              "      <td>0.702257</td>\n",
              "      <td>0.655000</td>\n",
              "      <td>0.804371</td>\n",
              "    </tr>\n",
              "  </tbody>\n",
              "</table>\n",
              "<p>35000 rows × 38 columns</p>\n",
              "</div>"
            ],
            "text/plain": [
              "       Var191    Var192    Var193    Var194  Var195  Var196    Var197  \\\n",
              "0         1.0  0.004143  0.010486  0.995629   0.959  0.9914  0.094200   \n",
              "1         1.0  0.006029  0.719771  0.995629   0.959  0.9914  0.005143   \n",
              "2         1.0  0.003314  0.719771  0.995629   0.959  0.9914  0.094200   \n",
              "3         1.0  0.001257  0.145314  0.995629   0.959  0.9914  0.088886   \n",
              "4         1.0  0.003743  0.719771  0.995629   0.959  0.9914  0.088886   \n",
              "...       ...       ...       ...       ...     ...     ...       ...   \n",
              "34995     1.0  0.006657  0.719771  0.995629   0.959  0.9914  0.007857   \n",
              "34996     1.0  0.003714  0.145314  0.995629   0.959  0.9914  0.039857   \n",
              "34997     1.0  0.005057  0.719771  0.995629   0.959  0.9914  0.000314   \n",
              "34998     1.0  0.006000  0.719771  0.995629   0.959  0.9914  0.003857   \n",
              "34999     1.0  0.006000  0.719771  0.995629   0.959  0.9914  0.094200   \n",
              "\n",
              "         Var198    Var199    Var200  ...    Var220    Var221    Var222  \\\n",
              "0      0.015314  0.000143  0.512286  ...  0.015314  0.124543  0.015314   \n",
              "1      0.002057  0.000343  0.512286  ...  0.002057  0.739314  0.002057   \n",
              "2      0.000371  0.004486  0.512286  ...  0.000371  0.739314  0.000371   \n",
              "3      0.001171  0.003229  0.000286  ...  0.001171  0.739314  0.001171   \n",
              "4      0.001000  0.001229  0.512286  ...  0.001000  0.739314  0.001000   \n",
              "...         ...       ...       ...  ...       ...       ...       ...   \n",
              "34995  0.000057  0.002343  0.512286  ...  0.000057  0.033857  0.000057   \n",
              "34996  0.089000  0.009200  0.000029  ...  0.089000  0.124543  0.089000   \n",
              "34997  0.000371  0.013114  0.512286  ...  0.000371  0.739314  0.000371   \n",
              "34998  0.000857  0.001000  0.000057  ...  0.000857  0.739314  0.000857   \n",
              "34999  0.000343  0.018914  0.512286  ...  0.000343  0.739314  0.000343   \n",
              "\n",
              "         Var223  Var224    Var225    Var226    Var227    Var228    Var229  \n",
              "0      0.836457     1.0  0.745571  0.084857  0.068457  0.017086  0.804371  \n",
              "1      0.836457     1.0  0.745571  0.044029  0.702257  0.655000  0.804371  \n",
              "2      0.836457     1.0  0.745571  0.161229  0.702257  0.655000  0.804371  \n",
              "3      0.119943     1.0  0.745571  0.024257  0.702257  0.086114  0.194086  \n",
              "4      0.836457     1.0  0.745571  0.055914  0.702257  0.655000  0.804371  \n",
              "...         ...     ...       ...       ...       ...       ...       ...  \n",
              "34995  0.836457     1.0  0.745571  0.058914  0.047771  0.655000  0.804371  \n",
              "34996  0.836457     1.0  0.745571  0.028086  0.122857  0.025400  0.804371  \n",
              "34997  0.836457     1.0  0.745571  0.084857  0.702257  0.655000  0.804371  \n",
              "34998  0.836457     1.0  0.745571  0.098600  0.702257  0.655000  0.194086  \n",
              "34999  0.836457     1.0  0.745571  0.098600  0.702257  0.655000  0.804371  \n",
              "\n",
              "[35000 rows x 38 columns]"
            ]
          },
          "execution_count": 106,
          "metadata": {},
          "output_type": "execute_result"
        }
      ]
    },
    {
      "cell_type": "code",
      "metadata": {
        "id": "bQ0ItI10cpDw",
        "outputId": "715fe0c0-582c-4c4f-d852-8b687ea2526d"
      },
      "source": [
        "tmp.apply(lambda col: tmp.groupby(col.name).size() / len(tmp))"
      ],
      "execution_count": null,
      "outputs": [
        {
          "data": {
            "text/html": [
              "<div>\n",
              "<style scoped>\n",
              "    .dataframe tbody tr th:only-of-type {\n",
              "        vertical-align: middle;\n",
              "    }\n",
              "\n",
              "    .dataframe tbody tr th {\n",
              "        vertical-align: top;\n",
              "    }\n",
              "\n",
              "    .dataframe thead th {\n",
              "        text-align: right;\n",
              "    }\n",
              "</style>\n",
              "<table border=\"1\" class=\"dataframe\">\n",
              "  <thead>\n",
              "    <tr style=\"text-align: right;\">\n",
              "      <th></th>\n",
              "      <th>Var191</th>\n",
              "      <th>Var192</th>\n",
              "      <th>Var193</th>\n",
              "      <th>Var194</th>\n",
              "      <th>Var195</th>\n",
              "      <th>Var196</th>\n",
              "      <th>Var197</th>\n",
              "      <th>Var198</th>\n",
              "      <th>Var199</th>\n",
              "      <th>Var200</th>\n",
              "      <th>...</th>\n",
              "      <th>Var220</th>\n",
              "      <th>Var221</th>\n",
              "      <th>Var222</th>\n",
              "      <th>Var223</th>\n",
              "      <th>Var224</th>\n",
              "      <th>Var225</th>\n",
              "      <th>Var226</th>\n",
              "      <th>Var227</th>\n",
              "      <th>Var228</th>\n",
              "      <th>Var229</th>\n",
              "    </tr>\n",
              "  </thead>\n",
              "  <tbody>\n",
              "    <tr>\n",
              "      <th>000J</th>\n",
              "      <td>NaN</td>\n",
              "      <td>NaN</td>\n",
              "      <td>NaN</td>\n",
              "      <td>NaN</td>\n",
              "      <td>NaN</td>\n",
              "      <td>NaN</td>\n",
              "      <td>NaN</td>\n",
              "      <td>NaN</td>\n",
              "      <td>NaN</td>\n",
              "      <td>NaN</td>\n",
              "      <td>...</td>\n",
              "      <td>NaN</td>\n",
              "      <td>NaN</td>\n",
              "      <td>NaN</td>\n",
              "      <td>NaN</td>\n",
              "      <td>NaN</td>\n",
              "      <td>NaN</td>\n",
              "      <td>NaN</td>\n",
              "      <td>NaN</td>\n",
              "      <td>NaN</td>\n",
              "      <td>NaN</td>\n",
              "    </tr>\n",
              "    <tr>\n",
              "      <th>0062</th>\n",
              "      <td>NaN</td>\n",
              "      <td>NaN</td>\n",
              "      <td>NaN</td>\n",
              "      <td>NaN</td>\n",
              "      <td>NaN</td>\n",
              "      <td>NaN</td>\n",
              "      <td>NaN</td>\n",
              "      <td>NaN</td>\n",
              "      <td>NaN</td>\n",
              "      <td>NaN</td>\n",
              "      <td>...</td>\n",
              "      <td>NaN</td>\n",
              "      <td>NaN</td>\n",
              "      <td>NaN</td>\n",
              "      <td>NaN</td>\n",
              "      <td>NaN</td>\n",
              "      <td>NaN</td>\n",
              "      <td>NaN</td>\n",
              "      <td>NaN</td>\n",
              "      <td>NaN</td>\n",
              "      <td>NaN</td>\n",
              "    </tr>\n",
              "    <tr>\n",
              "      <th>00AD</th>\n",
              "      <td>NaN</td>\n",
              "      <td>NaN</td>\n",
              "      <td>NaN</td>\n",
              "      <td>NaN</td>\n",
              "      <td>NaN</td>\n",
              "      <td>NaN</td>\n",
              "      <td>NaN</td>\n",
              "      <td>NaN</td>\n",
              "      <td>NaN</td>\n",
              "      <td>NaN</td>\n",
              "      <td>...</td>\n",
              "      <td>NaN</td>\n",
              "      <td>NaN</td>\n",
              "      <td>NaN</td>\n",
              "      <td>NaN</td>\n",
              "      <td>NaN</td>\n",
              "      <td>NaN</td>\n",
              "      <td>NaN</td>\n",
              "      <td>NaN</td>\n",
              "      <td>NaN</td>\n",
              "      <td>NaN</td>\n",
              "    </tr>\n",
              "    <tr>\n",
              "      <th>00ARusu</th>\n",
              "      <td>NaN</td>\n",
              "      <td>NaN</td>\n",
              "      <td>NaN</td>\n",
              "      <td>NaN</td>\n",
              "      <td>NaN</td>\n",
              "      <td>NaN</td>\n",
              "      <td>NaN</td>\n",
              "      <td>NaN</td>\n",
              "      <td>NaN</td>\n",
              "      <td>NaN</td>\n",
              "      <td>...</td>\n",
              "      <td>NaN</td>\n",
              "      <td>NaN</td>\n",
              "      <td>0.001029</td>\n",
              "      <td>NaN</td>\n",
              "      <td>NaN</td>\n",
              "      <td>NaN</td>\n",
              "      <td>NaN</td>\n",
              "      <td>NaN</td>\n",
              "      <td>NaN</td>\n",
              "      <td>NaN</td>\n",
              "    </tr>\n",
              "    <tr>\n",
              "      <th>00AYONy</th>\n",
              "      <td>NaN</td>\n",
              "      <td>NaN</td>\n",
              "      <td>NaN</td>\n",
              "      <td>NaN</td>\n",
              "      <td>NaN</td>\n",
              "      <td>NaN</td>\n",
              "      <td>NaN</td>\n",
              "      <td>NaN</td>\n",
              "      <td>NaN</td>\n",
              "      <td>NaN</td>\n",
              "      <td>...</td>\n",
              "      <td>NaN</td>\n",
              "      <td>NaN</td>\n",
              "      <td>0.000029</td>\n",
              "      <td>NaN</td>\n",
              "      <td>NaN</td>\n",
              "      <td>NaN</td>\n",
              "      <td>NaN</td>\n",
              "      <td>NaN</td>\n",
              "      <td>NaN</td>\n",
              "      <td>NaN</td>\n",
              "    </tr>\n",
              "    <tr>\n",
              "      <th>...</th>\n",
              "      <td>...</td>\n",
              "      <td>...</td>\n",
              "      <td>...</td>\n",
              "      <td>...</td>\n",
              "      <td>...</td>\n",
              "      <td>...</td>\n",
              "      <td>...</td>\n",
              "      <td>...</td>\n",
              "      <td>...</td>\n",
              "      <td>...</td>\n",
              "      <td>...</td>\n",
              "      <td>...</td>\n",
              "      <td>...</td>\n",
              "      <td>...</td>\n",
              "      <td>...</td>\n",
              "      <td>...</td>\n",
              "      <td>...</td>\n",
              "      <td>...</td>\n",
              "      <td>...</td>\n",
              "      <td>...</td>\n",
              "      <td>...</td>\n",
              "    </tr>\n",
              "    <tr>\n",
              "      <th>zzfHvGh</th>\n",
              "      <td>NaN</td>\n",
              "      <td>NaN</td>\n",
              "      <td>NaN</td>\n",
              "      <td>NaN</td>\n",
              "      <td>NaN</td>\n",
              "      <td>NaN</td>\n",
              "      <td>NaN</td>\n",
              "      <td>NaN</td>\n",
              "      <td>NaN</td>\n",
              "      <td>NaN</td>\n",
              "      <td>...</td>\n",
              "      <td>NaN</td>\n",
              "      <td>NaN</td>\n",
              "      <td>NaN</td>\n",
              "      <td>NaN</td>\n",
              "      <td>NaN</td>\n",
              "      <td>NaN</td>\n",
              "      <td>NaN</td>\n",
              "      <td>NaN</td>\n",
              "      <td>NaN</td>\n",
              "      <td>NaN</td>\n",
              "    </tr>\n",
              "    <tr>\n",
              "      <th>zzfLM_S</th>\n",
              "      <td>NaN</td>\n",
              "      <td>NaN</td>\n",
              "      <td>NaN</td>\n",
              "      <td>NaN</td>\n",
              "      <td>NaN</td>\n",
              "      <td>NaN</td>\n",
              "      <td>NaN</td>\n",
              "      <td>NaN</td>\n",
              "      <td>NaN</td>\n",
              "      <td>NaN</td>\n",
              "      <td>...</td>\n",
              "      <td>NaN</td>\n",
              "      <td>NaN</td>\n",
              "      <td>NaN</td>\n",
              "      <td>NaN</td>\n",
              "      <td>NaN</td>\n",
              "      <td>NaN</td>\n",
              "      <td>NaN</td>\n",
              "      <td>NaN</td>\n",
              "      <td>NaN</td>\n",
              "      <td>NaN</td>\n",
              "    </tr>\n",
              "    <tr>\n",
              "      <th>zzfUfAI</th>\n",
              "      <td>NaN</td>\n",
              "      <td>NaN</td>\n",
              "      <td>NaN</td>\n",
              "      <td>NaN</td>\n",
              "      <td>NaN</td>\n",
              "      <td>NaN</td>\n",
              "      <td>NaN</td>\n",
              "      <td>NaN</td>\n",
              "      <td>NaN</td>\n",
              "      <td>NaN</td>\n",
              "      <td>...</td>\n",
              "      <td>NaN</td>\n",
              "      <td>NaN</td>\n",
              "      <td>NaN</td>\n",
              "      <td>NaN</td>\n",
              "      <td>NaN</td>\n",
              "      <td>NaN</td>\n",
              "      <td>NaN</td>\n",
              "      <td>NaN</td>\n",
              "      <td>NaN</td>\n",
              "      <td>NaN</td>\n",
              "    </tr>\n",
              "    <tr>\n",
              "      <th>zzfo6HG</th>\n",
              "      <td>NaN</td>\n",
              "      <td>NaN</td>\n",
              "      <td>NaN</td>\n",
              "      <td>NaN</td>\n",
              "      <td>NaN</td>\n",
              "      <td>NaN</td>\n",
              "      <td>NaN</td>\n",
              "      <td>NaN</td>\n",
              "      <td>NaN</td>\n",
              "      <td>NaN</td>\n",
              "      <td>...</td>\n",
              "      <td>NaN</td>\n",
              "      <td>NaN</td>\n",
              "      <td>NaN</td>\n",
              "      <td>NaN</td>\n",
              "      <td>NaN</td>\n",
              "      <td>NaN</td>\n",
              "      <td>NaN</td>\n",
              "      <td>NaN</td>\n",
              "      <td>NaN</td>\n",
              "      <td>NaN</td>\n",
              "    </tr>\n",
              "    <tr>\n",
              "      <th>zzpZ</th>\n",
              "      <td>NaN</td>\n",
              "      <td>NaN</td>\n",
              "      <td>NaN</td>\n",
              "      <td>NaN</td>\n",
              "      <td>NaN</td>\n",
              "      <td>NaN</td>\n",
              "      <td>NaN</td>\n",
              "      <td>NaN</td>\n",
              "      <td>NaN</td>\n",
              "      <td>NaN</td>\n",
              "      <td>...</td>\n",
              "      <td>NaN</td>\n",
              "      <td>NaN</td>\n",
              "      <td>NaN</td>\n",
              "      <td>NaN</td>\n",
              "      <td>NaN</td>\n",
              "      <td>NaN</td>\n",
              "      <td>NaN</td>\n",
              "      <td>NaN</td>\n",
              "      <td>NaN</td>\n",
              "      <td>NaN</td>\n",
              "    </tr>\n",
              "  </tbody>\n",
              "</table>\n",
              "<p>58996 rows × 38 columns</p>\n",
              "</div>"
            ],
            "text/plain": [
              "         Var191  Var192  Var193  Var194  Var195  Var196  Var197  Var198  \\\n",
              "000J        NaN     NaN     NaN     NaN     NaN     NaN     NaN     NaN   \n",
              "0062        NaN     NaN     NaN     NaN     NaN     NaN     NaN     NaN   \n",
              "00AD        NaN     NaN     NaN     NaN     NaN     NaN     NaN     NaN   \n",
              "00ARusu     NaN     NaN     NaN     NaN     NaN     NaN     NaN     NaN   \n",
              "00AYONy     NaN     NaN     NaN     NaN     NaN     NaN     NaN     NaN   \n",
              "...         ...     ...     ...     ...     ...     ...     ...     ...   \n",
              "zzfHvGh     NaN     NaN     NaN     NaN     NaN     NaN     NaN     NaN   \n",
              "zzfLM_S     NaN     NaN     NaN     NaN     NaN     NaN     NaN     NaN   \n",
              "zzfUfAI     NaN     NaN     NaN     NaN     NaN     NaN     NaN     NaN   \n",
              "zzfo6HG     NaN     NaN     NaN     NaN     NaN     NaN     NaN     NaN   \n",
              "zzpZ        NaN     NaN     NaN     NaN     NaN     NaN     NaN     NaN   \n",
              "\n",
              "         Var199  Var200  ...  Var220  Var221    Var222  Var223  Var224  \\\n",
              "000J        NaN     NaN  ...     NaN     NaN       NaN     NaN     NaN   \n",
              "0062        NaN     NaN  ...     NaN     NaN       NaN     NaN     NaN   \n",
              "00AD        NaN     NaN  ...     NaN     NaN       NaN     NaN     NaN   \n",
              "00ARusu     NaN     NaN  ...     NaN     NaN  0.001029     NaN     NaN   \n",
              "00AYONy     NaN     NaN  ...     NaN     NaN  0.000029     NaN     NaN   \n",
              "...         ...     ...  ...     ...     ...       ...     ...     ...   \n",
              "zzfHvGh     NaN     NaN  ...     NaN     NaN       NaN     NaN     NaN   \n",
              "zzfLM_S     NaN     NaN  ...     NaN     NaN       NaN     NaN     NaN   \n",
              "zzfUfAI     NaN     NaN  ...     NaN     NaN       NaN     NaN     NaN   \n",
              "zzfo6HG     NaN     NaN  ...     NaN     NaN       NaN     NaN     NaN   \n",
              "zzpZ        NaN     NaN  ...     NaN     NaN       NaN     NaN     NaN   \n",
              "\n",
              "         Var225  Var226  Var227  Var228  Var229  \n",
              "000J        NaN     NaN     NaN     NaN     NaN  \n",
              "0062        NaN     NaN     NaN     NaN     NaN  \n",
              "00AD        NaN     NaN     NaN     NaN     NaN  \n",
              "00ARusu     NaN     NaN     NaN     NaN     NaN  \n",
              "00AYONy     NaN     NaN     NaN     NaN     NaN  \n",
              "...         ...     ...     ...     ...     ...  \n",
              "zzfHvGh     NaN     NaN     NaN     NaN     NaN  \n",
              "zzfLM_S     NaN     NaN     NaN     NaN     NaN  \n",
              "zzfUfAI     NaN     NaN     NaN     NaN     NaN  \n",
              "zzfo6HG     NaN     NaN     NaN     NaN     NaN  \n",
              "zzpZ        NaN     NaN     NaN     NaN     NaN  \n",
              "\n",
              "[58996 rows x 38 columns]"
            ]
          },
          "execution_count": 99,
          "metadata": {},
          "output_type": "execute_result"
        }
      ]
    },
    {
      "cell_type": "code",
      "metadata": {
        "id": "84b1uEWScpDw",
        "outputId": "0c31bb79-5458-46e2-fb94-844c1ed1c7c7"
      },
      "source": [
        "tmp.apply(lambda col: col.map(tmp.groupby(col.name).size() / len(tmp)))"
      ],
      "execution_count": null,
      "outputs": [
        {
          "data": {
            "text/html": [
              "<div>\n",
              "<style scoped>\n",
              "    .dataframe tbody tr th:only-of-type {\n",
              "        vertical-align: middle;\n",
              "    }\n",
              "\n",
              "    .dataframe tbody tr th {\n",
              "        vertical-align: top;\n",
              "    }\n",
              "\n",
              "    .dataframe thead th {\n",
              "        text-align: right;\n",
              "    }\n",
              "</style>\n",
              "<table border=\"1\" class=\"dataframe\">\n",
              "  <thead>\n",
              "    <tr style=\"text-align: right;\">\n",
              "      <th></th>\n",
              "      <th>Var191</th>\n",
              "      <th>Var192</th>\n",
              "      <th>Var193</th>\n",
              "      <th>Var194</th>\n",
              "      <th>Var195</th>\n",
              "      <th>Var196</th>\n",
              "      <th>Var197</th>\n",
              "      <th>Var198</th>\n",
              "      <th>Var199</th>\n",
              "      <th>Var200</th>\n",
              "      <th>...</th>\n",
              "      <th>Var220</th>\n",
              "      <th>Var221</th>\n",
              "      <th>Var222</th>\n",
              "      <th>Var223</th>\n",
              "      <th>Var224</th>\n",
              "      <th>Var225</th>\n",
              "      <th>Var226</th>\n",
              "      <th>Var227</th>\n",
              "      <th>Var228</th>\n",
              "      <th>Var229</th>\n",
              "    </tr>\n",
              "  </thead>\n",
              "  <tbody>\n",
              "    <tr>\n",
              "      <th>0</th>\n",
              "      <td>1.0</td>\n",
              "      <td>0.004143</td>\n",
              "      <td>0.010486</td>\n",
              "      <td>0.995629</td>\n",
              "      <td>0.959</td>\n",
              "      <td>0.9914</td>\n",
              "      <td>0.094200</td>\n",
              "      <td>0.015314</td>\n",
              "      <td>0.000143</td>\n",
              "      <td>0.512286</td>\n",
              "      <td>...</td>\n",
              "      <td>0.015314</td>\n",
              "      <td>0.124543</td>\n",
              "      <td>0.015314</td>\n",
              "      <td>0.836457</td>\n",
              "      <td>1.0</td>\n",
              "      <td>0.745571</td>\n",
              "      <td>0.084857</td>\n",
              "      <td>0.068457</td>\n",
              "      <td>0.017086</td>\n",
              "      <td>0.804371</td>\n",
              "    </tr>\n",
              "    <tr>\n",
              "      <th>1</th>\n",
              "      <td>1.0</td>\n",
              "      <td>0.006029</td>\n",
              "      <td>0.719771</td>\n",
              "      <td>0.995629</td>\n",
              "      <td>0.959</td>\n",
              "      <td>0.9914</td>\n",
              "      <td>0.005143</td>\n",
              "      <td>0.002057</td>\n",
              "      <td>0.000343</td>\n",
              "      <td>0.512286</td>\n",
              "      <td>...</td>\n",
              "      <td>0.002057</td>\n",
              "      <td>0.739314</td>\n",
              "      <td>0.002057</td>\n",
              "      <td>0.836457</td>\n",
              "      <td>1.0</td>\n",
              "      <td>0.745571</td>\n",
              "      <td>0.044029</td>\n",
              "      <td>0.702257</td>\n",
              "      <td>0.655000</td>\n",
              "      <td>0.804371</td>\n",
              "    </tr>\n",
              "    <tr>\n",
              "      <th>2</th>\n",
              "      <td>1.0</td>\n",
              "      <td>0.003314</td>\n",
              "      <td>0.719771</td>\n",
              "      <td>0.995629</td>\n",
              "      <td>0.959</td>\n",
              "      <td>0.9914</td>\n",
              "      <td>0.094200</td>\n",
              "      <td>0.000371</td>\n",
              "      <td>0.004486</td>\n",
              "      <td>0.512286</td>\n",
              "      <td>...</td>\n",
              "      <td>0.000371</td>\n",
              "      <td>0.739314</td>\n",
              "      <td>0.000371</td>\n",
              "      <td>0.836457</td>\n",
              "      <td>1.0</td>\n",
              "      <td>0.745571</td>\n",
              "      <td>0.161229</td>\n",
              "      <td>0.702257</td>\n",
              "      <td>0.655000</td>\n",
              "      <td>0.804371</td>\n",
              "    </tr>\n",
              "    <tr>\n",
              "      <th>3</th>\n",
              "      <td>1.0</td>\n",
              "      <td>0.001257</td>\n",
              "      <td>0.145314</td>\n",
              "      <td>0.995629</td>\n",
              "      <td>0.959</td>\n",
              "      <td>0.9914</td>\n",
              "      <td>0.088886</td>\n",
              "      <td>0.001171</td>\n",
              "      <td>0.003229</td>\n",
              "      <td>0.000286</td>\n",
              "      <td>...</td>\n",
              "      <td>0.001171</td>\n",
              "      <td>0.739314</td>\n",
              "      <td>0.001171</td>\n",
              "      <td>0.119943</td>\n",
              "      <td>1.0</td>\n",
              "      <td>0.745571</td>\n",
              "      <td>0.024257</td>\n",
              "      <td>0.702257</td>\n",
              "      <td>0.086114</td>\n",
              "      <td>0.194086</td>\n",
              "    </tr>\n",
              "    <tr>\n",
              "      <th>4</th>\n",
              "      <td>1.0</td>\n",
              "      <td>0.003743</td>\n",
              "      <td>0.719771</td>\n",
              "      <td>0.995629</td>\n",
              "      <td>0.959</td>\n",
              "      <td>0.9914</td>\n",
              "      <td>0.088886</td>\n",
              "      <td>0.001000</td>\n",
              "      <td>0.001229</td>\n",
              "      <td>0.512286</td>\n",
              "      <td>...</td>\n",
              "      <td>0.001000</td>\n",
              "      <td>0.739314</td>\n",
              "      <td>0.001000</td>\n",
              "      <td>0.836457</td>\n",
              "      <td>1.0</td>\n",
              "      <td>0.745571</td>\n",
              "      <td>0.055914</td>\n",
              "      <td>0.702257</td>\n",
              "      <td>0.655000</td>\n",
              "      <td>0.804371</td>\n",
              "    </tr>\n",
              "    <tr>\n",
              "      <th>...</th>\n",
              "      <td>...</td>\n",
              "      <td>...</td>\n",
              "      <td>...</td>\n",
              "      <td>...</td>\n",
              "      <td>...</td>\n",
              "      <td>...</td>\n",
              "      <td>...</td>\n",
              "      <td>...</td>\n",
              "      <td>...</td>\n",
              "      <td>...</td>\n",
              "      <td>...</td>\n",
              "      <td>...</td>\n",
              "      <td>...</td>\n",
              "      <td>...</td>\n",
              "      <td>...</td>\n",
              "      <td>...</td>\n",
              "      <td>...</td>\n",
              "      <td>...</td>\n",
              "      <td>...</td>\n",
              "      <td>...</td>\n",
              "      <td>...</td>\n",
              "    </tr>\n",
              "    <tr>\n",
              "      <th>34995</th>\n",
              "      <td>1.0</td>\n",
              "      <td>0.006657</td>\n",
              "      <td>0.719771</td>\n",
              "      <td>0.995629</td>\n",
              "      <td>0.959</td>\n",
              "      <td>0.9914</td>\n",
              "      <td>0.007857</td>\n",
              "      <td>0.000057</td>\n",
              "      <td>0.002343</td>\n",
              "      <td>0.512286</td>\n",
              "      <td>...</td>\n",
              "      <td>0.000057</td>\n",
              "      <td>0.033857</td>\n",
              "      <td>0.000057</td>\n",
              "      <td>0.836457</td>\n",
              "      <td>1.0</td>\n",
              "      <td>0.745571</td>\n",
              "      <td>0.058914</td>\n",
              "      <td>0.047771</td>\n",
              "      <td>0.655000</td>\n",
              "      <td>0.804371</td>\n",
              "    </tr>\n",
              "    <tr>\n",
              "      <th>34996</th>\n",
              "      <td>1.0</td>\n",
              "      <td>0.003714</td>\n",
              "      <td>0.145314</td>\n",
              "      <td>0.995629</td>\n",
              "      <td>0.959</td>\n",
              "      <td>0.9914</td>\n",
              "      <td>0.039857</td>\n",
              "      <td>0.089000</td>\n",
              "      <td>0.009200</td>\n",
              "      <td>0.000029</td>\n",
              "      <td>...</td>\n",
              "      <td>0.089000</td>\n",
              "      <td>0.124543</td>\n",
              "      <td>0.089000</td>\n",
              "      <td>0.836457</td>\n",
              "      <td>1.0</td>\n",
              "      <td>0.745571</td>\n",
              "      <td>0.028086</td>\n",
              "      <td>0.122857</td>\n",
              "      <td>0.025400</td>\n",
              "      <td>0.804371</td>\n",
              "    </tr>\n",
              "    <tr>\n",
              "      <th>34997</th>\n",
              "      <td>1.0</td>\n",
              "      <td>0.005057</td>\n",
              "      <td>0.719771</td>\n",
              "      <td>0.995629</td>\n",
              "      <td>0.959</td>\n",
              "      <td>0.9914</td>\n",
              "      <td>0.000314</td>\n",
              "      <td>0.000371</td>\n",
              "      <td>0.013114</td>\n",
              "      <td>0.512286</td>\n",
              "      <td>...</td>\n",
              "      <td>0.000371</td>\n",
              "      <td>0.739314</td>\n",
              "      <td>0.000371</td>\n",
              "      <td>0.836457</td>\n",
              "      <td>1.0</td>\n",
              "      <td>0.745571</td>\n",
              "      <td>0.084857</td>\n",
              "      <td>0.702257</td>\n",
              "      <td>0.655000</td>\n",
              "      <td>0.804371</td>\n",
              "    </tr>\n",
              "    <tr>\n",
              "      <th>34998</th>\n",
              "      <td>1.0</td>\n",
              "      <td>0.006000</td>\n",
              "      <td>0.719771</td>\n",
              "      <td>0.995629</td>\n",
              "      <td>0.959</td>\n",
              "      <td>0.9914</td>\n",
              "      <td>0.003857</td>\n",
              "      <td>0.000857</td>\n",
              "      <td>0.001000</td>\n",
              "      <td>0.000057</td>\n",
              "      <td>...</td>\n",
              "      <td>0.000857</td>\n",
              "      <td>0.739314</td>\n",
              "      <td>0.000857</td>\n",
              "      <td>0.836457</td>\n",
              "      <td>1.0</td>\n",
              "      <td>0.745571</td>\n",
              "      <td>0.098600</td>\n",
              "      <td>0.702257</td>\n",
              "      <td>0.655000</td>\n",
              "      <td>0.194086</td>\n",
              "    </tr>\n",
              "    <tr>\n",
              "      <th>34999</th>\n",
              "      <td>1.0</td>\n",
              "      <td>0.006000</td>\n",
              "      <td>0.719771</td>\n",
              "      <td>0.995629</td>\n",
              "      <td>0.959</td>\n",
              "      <td>0.9914</td>\n",
              "      <td>0.094200</td>\n",
              "      <td>0.000343</td>\n",
              "      <td>0.018914</td>\n",
              "      <td>0.512286</td>\n",
              "      <td>...</td>\n",
              "      <td>0.000343</td>\n",
              "      <td>0.739314</td>\n",
              "      <td>0.000343</td>\n",
              "      <td>0.836457</td>\n",
              "      <td>1.0</td>\n",
              "      <td>0.745571</td>\n",
              "      <td>0.098600</td>\n",
              "      <td>0.702257</td>\n",
              "      <td>0.655000</td>\n",
              "      <td>0.804371</td>\n",
              "    </tr>\n",
              "  </tbody>\n",
              "</table>\n",
              "<p>35000 rows × 38 columns</p>\n",
              "</div>"
            ],
            "text/plain": [
              "       Var191    Var192    Var193    Var194  Var195  Var196    Var197  \\\n",
              "0         1.0  0.004143  0.010486  0.995629   0.959  0.9914  0.094200   \n",
              "1         1.0  0.006029  0.719771  0.995629   0.959  0.9914  0.005143   \n",
              "2         1.0  0.003314  0.719771  0.995629   0.959  0.9914  0.094200   \n",
              "3         1.0  0.001257  0.145314  0.995629   0.959  0.9914  0.088886   \n",
              "4         1.0  0.003743  0.719771  0.995629   0.959  0.9914  0.088886   \n",
              "...       ...       ...       ...       ...     ...     ...       ...   \n",
              "34995     1.0  0.006657  0.719771  0.995629   0.959  0.9914  0.007857   \n",
              "34996     1.0  0.003714  0.145314  0.995629   0.959  0.9914  0.039857   \n",
              "34997     1.0  0.005057  0.719771  0.995629   0.959  0.9914  0.000314   \n",
              "34998     1.0  0.006000  0.719771  0.995629   0.959  0.9914  0.003857   \n",
              "34999     1.0  0.006000  0.719771  0.995629   0.959  0.9914  0.094200   \n",
              "\n",
              "         Var198    Var199    Var200  ...    Var220    Var221    Var222  \\\n",
              "0      0.015314  0.000143  0.512286  ...  0.015314  0.124543  0.015314   \n",
              "1      0.002057  0.000343  0.512286  ...  0.002057  0.739314  0.002057   \n",
              "2      0.000371  0.004486  0.512286  ...  0.000371  0.739314  0.000371   \n",
              "3      0.001171  0.003229  0.000286  ...  0.001171  0.739314  0.001171   \n",
              "4      0.001000  0.001229  0.512286  ...  0.001000  0.739314  0.001000   \n",
              "...         ...       ...       ...  ...       ...       ...       ...   \n",
              "34995  0.000057  0.002343  0.512286  ...  0.000057  0.033857  0.000057   \n",
              "34996  0.089000  0.009200  0.000029  ...  0.089000  0.124543  0.089000   \n",
              "34997  0.000371  0.013114  0.512286  ...  0.000371  0.739314  0.000371   \n",
              "34998  0.000857  0.001000  0.000057  ...  0.000857  0.739314  0.000857   \n",
              "34999  0.000343  0.018914  0.512286  ...  0.000343  0.739314  0.000343   \n",
              "\n",
              "         Var223  Var224    Var225    Var226    Var227    Var228    Var229  \n",
              "0      0.836457     1.0  0.745571  0.084857  0.068457  0.017086  0.804371  \n",
              "1      0.836457     1.0  0.745571  0.044029  0.702257  0.655000  0.804371  \n",
              "2      0.836457     1.0  0.745571  0.161229  0.702257  0.655000  0.804371  \n",
              "3      0.119943     1.0  0.745571  0.024257  0.702257  0.086114  0.194086  \n",
              "4      0.836457     1.0  0.745571  0.055914  0.702257  0.655000  0.804371  \n",
              "...         ...     ...       ...       ...       ...       ...       ...  \n",
              "34995  0.836457     1.0  0.745571  0.058914  0.047771  0.655000  0.804371  \n",
              "34996  0.836457     1.0  0.745571  0.028086  0.122857  0.025400  0.804371  \n",
              "34997  0.836457     1.0  0.745571  0.084857  0.702257  0.655000  0.804371  \n",
              "34998  0.836457     1.0  0.745571  0.098600  0.702257  0.655000  0.194086  \n",
              "34999  0.836457     1.0  0.745571  0.098600  0.702257  0.655000  0.804371  \n",
              "\n",
              "[35000 rows x 38 columns]"
            ]
          },
          "execution_count": 94,
          "metadata": {},
          "output_type": "execute_result"
        }
      ]
    },
    {
      "cell_type": "code",
      "metadata": {
        "id": "qu-Njvj4A8lQ"
      },
      "source": [
        "# model = CatBoostClassifier(\n",
        "#     max_depth=6, \n",
        "#     n_estimators=100, \n",
        "#     cat_features=df_train.select_dtypes(include='object').columns.to_list(),\n",
        "#     logging_level='Silent',\n",
        "#     one_hot_max_size=2\n",
        "# )\n",
        "\n",
        "model = LogisticRegression(random_state=2179)\n",
        "\n",
        "pipeline = Pipeline([\n",
        "    ('preprocessor', preprocessor_pipeline),\n",
        "    ('model', model)\n",
        "])"
      ],
      "execution_count": null,
      "outputs": []
    },
    {
      "cell_type": "code",
      "metadata": {
        "colab": {
          "base_uri": "https://localhost:8080/",
          "height": 374
        },
        "id": "40LBan-04-Jp",
        "outputId": "4b5d6d76-3449-4a5a-f994-5a6c014d1c67"
      },
      "source": [
        "%%time\n",
        "model.fit(X_train, y_train)\n",
        "print(roc_auc_score(y_valid, model.predict_proba(X_valid)[:, 1]))"
      ],
      "execution_count": null,
      "outputs": [
        {
          "name": "stdout",
          "output_type": "stream",
          "text": [
            "0.6261950605679286\n",
            "CPU times: user 25.3 s, sys: 371 ms, total: 25.7 s\n",
            "Wall time: 3.32 s\n"
          ]
        }
      ]
    },
    {
      "cell_type": "code",
      "metadata": {
        "colab": {
          "base_uri": "https://localhost:8080/"
        },
        "id": "OvLrFZCZ8KYh",
        "outputId": "db10cf22-84bc-4b3d-a37e-826aee247038"
      },
      "source": [
        "%%time\n",
        "scores = cross_val_score(estimator=pipeline, \n",
        "                         X=df_train, \n",
        "                         y=y_train, \n",
        "                         cv=cv, \n",
        "                         n_jobs=-1, \n",
        "                         scoring='roc_auc', \n",
        "                         error_score='raise')\n",
        "print(scores, '\\n', scores.mean())"
      ],
      "execution_count": null,
      "outputs": [
        {
          "name": "stdout",
          "output_type": "stream",
          "text": [
            "[0.64029016 0.62795218 0.64354941 0.63887095 0.62355544 0.60999628\n",
            " 0.60809731 0.62896355] \n",
            " 0.627659408314434\n",
            "CPU times: user 2.29 s, sys: 141 ms, total: 2.43 s\n",
            "Wall time: 8.67 s\n"
          ]
        }
      ]
    },
    {
      "cell_type": "markdown",
      "metadata": {
        "id": "9gG0w76w8T8c"
      },
      "source": [
        "|model|method|ho ROC AUC|cv ROC AUC|\n",
        "|-|-|-|-|\n",
        "|CatBoostClassifier|one_hot_max_size=2|0.7495747310914603|0.7238648100650569|\n",
        "|CatBoostClassifier|one_hot_max_size=100|0.7473075616276679|0.7253192386638854|\n",
        "|LogisticRegression|OrdinalEncoder(handle_unknown='use_encoded_value', unknown_value=-1)|0.6807580466653527|0.6522513838530051|\n",
        "|LogisticRegression|OneHotEncoder(handle_unknown='ignore')|0.6261950605679286|0.627659408314434|"
      ]
    },
    {
      "cell_type": "markdown",
      "metadata": {
        "id": "X1ptNP1-cpD0"
      },
      "source": [
        "## 5. Отбор признаков"
      ]
    },
    {
      "cell_type": "markdown",
      "metadata": {
        "id": "TgllaTH0KzZS"
      },
      "source": [
        "5\\. Все ли признаки оказались полезными для построения моделей? Проведите процедуру отбора признаков, попробуйте разные варианты отбора (обратите внимание на модуль `sklearn.feature_selection`). Например, можно выбрасывать случайные признаки или строить отбор на основе l1-регуляризации - отфильтровать из обучения признаки, которые получат нулевой вес при построении регрессии с l1-регуляризацией (`sklearn.linear_model.Lasso`). И всегда можно придумать что-то своё=) Попробуйте как минимум 2 различные стратегии, сравните результаты. Помог ли отбор признаков улучшить качество модели? Поясните свой ответ."
      ]
    },
    {
      "cell_type": "code",
      "metadata": {
        "id": "XhrX-ArnKzZT"
      },
      "source": [
        ""
      ],
      "execution_count": null,
      "outputs": []
    },
    {
      "cell_type": "markdown",
      "metadata": {
        "id": "j9eNr7FZcpD1"
      },
      "source": [
        "## 6. Подбор гиперпараметров"
      ]
    },
    {
      "cell_type": "markdown",
      "metadata": {
        "id": "3tLHNRd9KzZU"
      },
      "source": [
        "6\\. Подберите оптимальные параметры модели. Обратите внимание, что в зависимости от того, как вы обработали исходные данные, сделали ли балансировку классов, сколько объектов оставили в обучающей выборке и др. оптимальные значения параметров могут меняться. Возьмите наилучшее из ваших решений на текущий момент и проведите процедуру подбора параметров модели (обратите внимание на `sklearn.model_selection.GridSearchCV`) Как подбор параметров повлиял на качество модели?"
      ]
    },
    {
      "cell_type": "code",
      "metadata": {
        "id": "0gcfVYqUKzZU"
      },
      "source": [
        ""
      ],
      "execution_count": null,
      "outputs": []
    },
    {
      "cell_type": "markdown",
      "metadata": {
        "id": "Bz1Wm_kOcpD2"
      },
      "source": [
        "## 7. Важность признаков"
      ]
    },
    {
      "cell_type": "markdown",
      "metadata": {
        "id": "tfWjw-84KzZU"
      },
      "source": [
        "7\\. Предложите методику оценки того, какие признаки внесли наибольший вклад в модель (например, это могут быть веса в случае регрессии, а также большое количество моделей реализуют метод `feature_importances_` - оценка важности признаков). На основе предложенной методики проанализируйте, какие признаки внесли больший вклад в модель, а какие меньший?"
      ]
    },
    {
      "cell_type": "code",
      "metadata": {
        "id": "joAXy4F5KzZV"
      },
      "source": [
        ""
      ],
      "execution_count": null,
      "outputs": []
    },
    {
      "cell_type": "markdown",
      "metadata": {
        "id": "dgmC3MqdKzZW"
      },
      "source": [
        "8\\. Напоследок давайте посмотрим на объекты. На каких объектах достигается наибольшая ошибка классификации? Есть ли межу этими объектами что-то общее? Видны ли какие-либо закономерности? Предположите, почему наибольшая ошибка достигается именно на этих объектах. В данном случае \"наибольшую\" ошибку можно понимать как отнесение объекта с чужому классу с большой долей уверенности (с высокой вероятностью)."
      ]
    },
    {
      "cell_type": "code",
      "metadata": {
        "id": "MSxOGkwzKzZX"
      },
      "source": [
        ""
      ],
      "execution_count": null,
      "outputs": []
    },
    {
      "cell_type": "markdown",
      "metadata": {
        "id": "VIHIQplXKzZX"
      },
      "source": [
        "9\\. По итогам проведенных экспериментов постройте финальную решение - модель с наилучшим качеством. Укажите, какие преобразования данных, параметры и пр. вы выбрали для построения финальной модели."
      ]
    },
    {
      "cell_type": "code",
      "metadata": {
        "id": "ZanMUE0HKzZY"
      },
      "source": [
        ""
      ],
      "execution_count": null,
      "outputs": []
    },
    {
      "cell_type": "markdown",
      "metadata": {
        "id": "cfTnxjoAKzZZ"
      },
      "source": [
        "10\\. Подумайте, можно ли еще улучшить модель? Что для этого можно сделать? "
      ]
    },
    {
      "cell_type": "code",
      "metadata": {
        "id": "WGoHs_21KzZa"
      },
      "source": [
        ""
      ],
      "execution_count": null,
      "outputs": []
    },
    {
      "cell_type": "markdown",
      "metadata": {
        "id": "GzxOFiRRJeeQ"
      },
      "source": [
        "# Тест"
      ]
    },
    {
      "cell_type": "code",
      "metadata": {
        "id": "DrEBp-MVJgdI"
      },
      "source": [
        "def write_to_submission_file(predicted_labels, out_file,\n",
        "                             target='result', index_label=\"id\"):\n",
        "    # turn predictions into data frame and save as csv file\n",
        "    predicted_df = pd.DataFrame(predicted_labels,\n",
        "                                index = np.arange(0, predicted_labels.shape[0]),\n",
        "                                columns=[target])\n",
        "    predicted_df.to_csv(out_file, index_label=index_label)"
      ],
      "execution_count": null,
      "outputs": []
    },
    {
      "cell_type": "code",
      "metadata": {
        "id": "wABzZLrwJyda",
        "colab": {
          "base_uri": "https://localhost:8080/",
          "height": 470
        },
        "outputId": "46a66528-fb34-4a01-d6ce-136645ec033d"
      },
      "source": [
        "df_test = pd.read_csv(os.path.join(PATH_TO_DATA, 'orange_small_churn_test_data.csv'), index_col=0)\n",
        "df_test"
      ],
      "execution_count": null,
      "outputs": [
        {
          "output_type": "execute_result",
          "data": {
            "text/html": [
              "<div>\n",
              "<style scoped>\n",
              "    .dataframe tbody tr th:only-of-type {\n",
              "        vertical-align: middle;\n",
              "    }\n",
              "\n",
              "    .dataframe tbody tr th {\n",
              "        vertical-align: top;\n",
              "    }\n",
              "\n",
              "    .dataframe thead th {\n",
              "        text-align: right;\n",
              "    }\n",
              "</style>\n",
              "<table border=\"1\" class=\"dataframe\">\n",
              "  <thead>\n",
              "    <tr style=\"text-align: right;\">\n",
              "      <th></th>\n",
              "      <th>Var1</th>\n",
              "      <th>Var2</th>\n",
              "      <th>Var3</th>\n",
              "      <th>Var4</th>\n",
              "      <th>Var5</th>\n",
              "      <th>Var6</th>\n",
              "      <th>Var7</th>\n",
              "      <th>Var8</th>\n",
              "      <th>Var9</th>\n",
              "      <th>Var10</th>\n",
              "      <th>Var11</th>\n",
              "      <th>Var12</th>\n",
              "      <th>Var13</th>\n",
              "      <th>Var14</th>\n",
              "      <th>Var15</th>\n",
              "      <th>Var16</th>\n",
              "      <th>Var17</th>\n",
              "      <th>Var18</th>\n",
              "      <th>Var19</th>\n",
              "      <th>Var20</th>\n",
              "      <th>Var21</th>\n",
              "      <th>Var22</th>\n",
              "      <th>Var23</th>\n",
              "      <th>Var24</th>\n",
              "      <th>Var25</th>\n",
              "      <th>Var26</th>\n",
              "      <th>Var27</th>\n",
              "      <th>Var28</th>\n",
              "      <th>Var29</th>\n",
              "      <th>Var30</th>\n",
              "      <th>Var31</th>\n",
              "      <th>Var32</th>\n",
              "      <th>Var33</th>\n",
              "      <th>Var34</th>\n",
              "      <th>Var35</th>\n",
              "      <th>Var36</th>\n",
              "      <th>Var37</th>\n",
              "      <th>Var38</th>\n",
              "      <th>Var39</th>\n",
              "      <th>Var40</th>\n",
              "      <th>...</th>\n",
              "      <th>Var191</th>\n",
              "      <th>Var192</th>\n",
              "      <th>Var193</th>\n",
              "      <th>Var194</th>\n",
              "      <th>Var195</th>\n",
              "      <th>Var196</th>\n",
              "      <th>Var197</th>\n",
              "      <th>Var198</th>\n",
              "      <th>Var199</th>\n",
              "      <th>Var200</th>\n",
              "      <th>Var201</th>\n",
              "      <th>Var202</th>\n",
              "      <th>Var203</th>\n",
              "      <th>Var204</th>\n",
              "      <th>Var205</th>\n",
              "      <th>Var206</th>\n",
              "      <th>Var207</th>\n",
              "      <th>Var208</th>\n",
              "      <th>Var209</th>\n",
              "      <th>Var210</th>\n",
              "      <th>Var211</th>\n",
              "      <th>Var212</th>\n",
              "      <th>Var213</th>\n",
              "      <th>Var214</th>\n",
              "      <th>Var215</th>\n",
              "      <th>Var216</th>\n",
              "      <th>Var217</th>\n",
              "      <th>Var218</th>\n",
              "      <th>Var219</th>\n",
              "      <th>Var220</th>\n",
              "      <th>Var221</th>\n",
              "      <th>Var222</th>\n",
              "      <th>Var223</th>\n",
              "      <th>Var224</th>\n",
              "      <th>Var225</th>\n",
              "      <th>Var226</th>\n",
              "      <th>Var227</th>\n",
              "      <th>Var228</th>\n",
              "      <th>Var229</th>\n",
              "      <th>Var230</th>\n",
              "    </tr>\n",
              "    <tr>\n",
              "      <th>ID</th>\n",
              "      <th></th>\n",
              "      <th></th>\n",
              "      <th></th>\n",
              "      <th></th>\n",
              "      <th></th>\n",
              "      <th></th>\n",
              "      <th></th>\n",
              "      <th></th>\n",
              "      <th></th>\n",
              "      <th></th>\n",
              "      <th></th>\n",
              "      <th></th>\n",
              "      <th></th>\n",
              "      <th></th>\n",
              "      <th></th>\n",
              "      <th></th>\n",
              "      <th></th>\n",
              "      <th></th>\n",
              "      <th></th>\n",
              "      <th></th>\n",
              "      <th></th>\n",
              "      <th></th>\n",
              "      <th></th>\n",
              "      <th></th>\n",
              "      <th></th>\n",
              "      <th></th>\n",
              "      <th></th>\n",
              "      <th></th>\n",
              "      <th></th>\n",
              "      <th></th>\n",
              "      <th></th>\n",
              "      <th></th>\n",
              "      <th></th>\n",
              "      <th></th>\n",
              "      <th></th>\n",
              "      <th></th>\n",
              "      <th></th>\n",
              "      <th></th>\n",
              "      <th></th>\n",
              "      <th></th>\n",
              "      <th></th>\n",
              "      <th></th>\n",
              "      <th></th>\n",
              "      <th></th>\n",
              "      <th></th>\n",
              "      <th></th>\n",
              "      <th></th>\n",
              "      <th></th>\n",
              "      <th></th>\n",
              "      <th></th>\n",
              "      <th></th>\n",
              "      <th></th>\n",
              "      <th></th>\n",
              "      <th></th>\n",
              "      <th></th>\n",
              "      <th></th>\n",
              "      <th></th>\n",
              "      <th></th>\n",
              "      <th></th>\n",
              "      <th></th>\n",
              "      <th></th>\n",
              "      <th></th>\n",
              "      <th></th>\n",
              "      <th></th>\n",
              "      <th></th>\n",
              "      <th></th>\n",
              "      <th></th>\n",
              "      <th></th>\n",
              "      <th></th>\n",
              "      <th></th>\n",
              "      <th></th>\n",
              "      <th></th>\n",
              "      <th></th>\n",
              "      <th></th>\n",
              "      <th></th>\n",
              "      <th></th>\n",
              "      <th></th>\n",
              "      <th></th>\n",
              "      <th></th>\n",
              "      <th></th>\n",
              "      <th></th>\n",
              "    </tr>\n",
              "  </thead>\n",
              "  <tbody>\n",
              "    <tr>\n",
              "      <th>0</th>\n",
              "      <td>NaN</td>\n",
              "      <td>NaN</td>\n",
              "      <td>NaN</td>\n",
              "      <td>NaN</td>\n",
              "      <td>NaN</td>\n",
              "      <td>1225.0</td>\n",
              "      <td>7.0</td>\n",
              "      <td>NaN</td>\n",
              "      <td>NaN</td>\n",
              "      <td>NaN</td>\n",
              "      <td>NaN</td>\n",
              "      <td>NaN</td>\n",
              "      <td>2352.0</td>\n",
              "      <td>NaN</td>\n",
              "      <td>NaN</td>\n",
              "      <td>NaN</td>\n",
              "      <td>NaN</td>\n",
              "      <td>NaN</td>\n",
              "      <td>NaN</td>\n",
              "      <td>NaN</td>\n",
              "      <td>180.0</td>\n",
              "      <td>225.0</td>\n",
              "      <td>NaN</td>\n",
              "      <td>0.0</td>\n",
              "      <td>56.0</td>\n",
              "      <td>NaN</td>\n",
              "      <td>NaN</td>\n",
              "      <td>388.08</td>\n",
              "      <td>NaN</td>\n",
              "      <td>NaN</td>\n",
              "      <td>NaN</td>\n",
              "      <td>NaN</td>\n",
              "      <td>NaN</td>\n",
              "      <td>NaN</td>\n",
              "      <td>0.0</td>\n",
              "      <td>NaN</td>\n",
              "      <td>NaN</td>\n",
              "      <td>6726960.0</td>\n",
              "      <td>NaN</td>\n",
              "      <td>NaN</td>\n",
              "      <td>...</td>\n",
              "      <td>NaN</td>\n",
              "      <td>P1WvyxLp3Z</td>\n",
              "      <td>2Knk1KF</td>\n",
              "      <td>NaN</td>\n",
              "      <td>taul</td>\n",
              "      <td>1K8T</td>\n",
              "      <td>0Xwj</td>\n",
              "      <td>PHNvXy8</td>\n",
              "      <td>xUOdRmdN20</td>\n",
              "      <td>IBm9AvG</td>\n",
              "      <td>NaN</td>\n",
              "      <td>skcI</td>\n",
              "      <td>HLqf</td>\n",
              "      <td>vzJD</td>\n",
              "      <td>NaN</td>\n",
              "      <td>lVqb</td>\n",
              "      <td>NKv3VA1BpP</td>\n",
              "      <td>sBgB</td>\n",
              "      <td>NaN</td>\n",
              "      <td>uKAI</td>\n",
              "      <td>L84s</td>\n",
              "      <td>Ie_5MZs</td>\n",
              "      <td>NaN</td>\n",
              "      <td>xRz9wph</td>\n",
              "      <td>NaN</td>\n",
              "      <td>CWNY2py</td>\n",
              "      <td>jgOV</td>\n",
              "      <td>UYBR</td>\n",
              "      <td>FzaX</td>\n",
              "      <td>UF16siJ</td>\n",
              "      <td>zCkv</td>\n",
              "      <td>APgdzOv</td>\n",
              "      <td>jySVZNlOJy</td>\n",
              "      <td>NaN</td>\n",
              "      <td>ELof</td>\n",
              "      <td>xb3V</td>\n",
              "      <td>6fzt</td>\n",
              "      <td>Zy3gnGM</td>\n",
              "      <td>NaN</td>\n",
              "      <td>NaN</td>\n",
              "    </tr>\n",
              "    <tr>\n",
              "      <th>1</th>\n",
              "      <td>NaN</td>\n",
              "      <td>NaN</td>\n",
              "      <td>NaN</td>\n",
              "      <td>NaN</td>\n",
              "      <td>NaN</td>\n",
              "      <td>896.0</td>\n",
              "      <td>14.0</td>\n",
              "      <td>NaN</td>\n",
              "      <td>NaN</td>\n",
              "      <td>NaN</td>\n",
              "      <td>NaN</td>\n",
              "      <td>NaN</td>\n",
              "      <td>1560.0</td>\n",
              "      <td>NaN</td>\n",
              "      <td>NaN</td>\n",
              "      <td>NaN</td>\n",
              "      <td>NaN</td>\n",
              "      <td>NaN</td>\n",
              "      <td>NaN</td>\n",
              "      <td>NaN</td>\n",
              "      <td>112.0</td>\n",
              "      <td>140.0</td>\n",
              "      <td>NaN</td>\n",
              "      <td>0.0</td>\n",
              "      <td>96.0</td>\n",
              "      <td>NaN</td>\n",
              "      <td>NaN</td>\n",
              "      <td>133.12</td>\n",
              "      <td>NaN</td>\n",
              "      <td>NaN</td>\n",
              "      <td>NaN</td>\n",
              "      <td>NaN</td>\n",
              "      <td>NaN</td>\n",
              "      <td>NaN</td>\n",
              "      <td>0.0</td>\n",
              "      <td>NaN</td>\n",
              "      <td>NaN</td>\n",
              "      <td>0.0</td>\n",
              "      <td>NaN</td>\n",
              "      <td>NaN</td>\n",
              "      <td>...</td>\n",
              "      <td>NaN</td>\n",
              "      <td>bZkvyxLkBI</td>\n",
              "      <td>RO12</td>\n",
              "      <td>NaN</td>\n",
              "      <td>taul</td>\n",
              "      <td>1K8T</td>\n",
              "      <td>0Xwj</td>\n",
              "      <td>6KF0k8W</td>\n",
              "      <td>V4E_TU9097</td>\n",
              "      <td>NaN</td>\n",
              "      <td>NaN</td>\n",
              "      <td>CZsd</td>\n",
              "      <td>F3hy</td>\n",
              "      <td>vzJD</td>\n",
              "      <td>09_Q</td>\n",
              "      <td>IYzP</td>\n",
              "      <td>me75fM6ugJ</td>\n",
              "      <td>kIsH</td>\n",
              "      <td>NaN</td>\n",
              "      <td>uKAI</td>\n",
              "      <td>L84s</td>\n",
              "      <td>NhsEn4L</td>\n",
              "      <td>NaN</td>\n",
              "      <td>NaN</td>\n",
              "      <td>NaN</td>\n",
              "      <td>TDcECyH</td>\n",
              "      <td>PDRj</td>\n",
              "      <td>cJvF</td>\n",
              "      <td>FzaX</td>\n",
              "      <td>ot6oLzk</td>\n",
              "      <td>oslk</td>\n",
              "      <td>IIvC99a</td>\n",
              "      <td>LM8l689qOp</td>\n",
              "      <td>NaN</td>\n",
              "      <td>NaN</td>\n",
              "      <td>xb3V</td>\n",
              "      <td>RAYp</td>\n",
              "      <td>F2FyR07IdsN7I</td>\n",
              "      <td>NaN</td>\n",
              "      <td>NaN</td>\n",
              "    </tr>\n",
              "    <tr>\n",
              "      <th>2</th>\n",
              "      <td>NaN</td>\n",
              "      <td>NaN</td>\n",
              "      <td>NaN</td>\n",
              "      <td>NaN</td>\n",
              "      <td>NaN</td>\n",
              "      <td>791.0</td>\n",
              "      <td>7.0</td>\n",
              "      <td>NaN</td>\n",
              "      <td>NaN</td>\n",
              "      <td>NaN</td>\n",
              "      <td>NaN</td>\n",
              "      <td>NaN</td>\n",
              "      <td>2824.0</td>\n",
              "      <td>NaN</td>\n",
              "      <td>NaN</td>\n",
              "      <td>NaN</td>\n",
              "      <td>NaN</td>\n",
              "      <td>NaN</td>\n",
              "      <td>NaN</td>\n",
              "      <td>NaN</td>\n",
              "      <td>172.0</td>\n",
              "      <td>215.0</td>\n",
              "      <td>NaN</td>\n",
              "      <td>4.0</td>\n",
              "      <td>16.0</td>\n",
              "      <td>NaN</td>\n",
              "      <td>NaN</td>\n",
              "      <td>324.48</td>\n",
              "      <td>NaN</td>\n",
              "      <td>NaN</td>\n",
              "      <td>NaN</td>\n",
              "      <td>NaN</td>\n",
              "      <td>NaN</td>\n",
              "      <td>NaN</td>\n",
              "      <td>0.0</td>\n",
              "      <td>NaN</td>\n",
              "      <td>NaN</td>\n",
              "      <td>2988486.0</td>\n",
              "      <td>NaN</td>\n",
              "      <td>NaN</td>\n",
              "      <td>...</td>\n",
              "      <td>NaN</td>\n",
              "      <td>75lTmBtFkL</td>\n",
              "      <td>RO12</td>\n",
              "      <td>SEuy</td>\n",
              "      <td>taul</td>\n",
              "      <td>1K8T</td>\n",
              "      <td>AnrR</td>\n",
              "      <td>ckoNVBU</td>\n",
              "      <td>_jTP8ioIlJ</td>\n",
              "      <td>JnrRQD4</td>\n",
              "      <td>smXZ</td>\n",
              "      <td>PwdO</td>\n",
              "      <td>9_Y1</td>\n",
              "      <td>C6Eu</td>\n",
              "      <td>VpdQ</td>\n",
              "      <td>sYC_</td>\n",
              "      <td>me75fM6ugJ</td>\n",
              "      <td>kIsH</td>\n",
              "      <td>NaN</td>\n",
              "      <td>uKAI</td>\n",
              "      <td>Mtgm</td>\n",
              "      <td>NhsEn4L</td>\n",
              "      <td>NaN</td>\n",
              "      <td>Iy8LM_S</td>\n",
              "      <td>NaN</td>\n",
              "      <td>kq0aHkC</td>\n",
              "      <td>laMb</td>\n",
              "      <td>UYBR</td>\n",
              "      <td>FzaX</td>\n",
              "      <td>6VLNqhB</td>\n",
              "      <td>oslk</td>\n",
              "      <td>6YSocsg</td>\n",
              "      <td>LM8l689qOp</td>\n",
              "      <td>NaN</td>\n",
              "      <td>kG3k</td>\n",
              "      <td>rgKb</td>\n",
              "      <td>RAYp</td>\n",
              "      <td>F2FyR07IdsN7I</td>\n",
              "      <td>mj86</td>\n",
              "      <td>NaN</td>\n",
              "    </tr>\n",
              "    <tr>\n",
              "      <th>3</th>\n",
              "      <td>NaN</td>\n",
              "      <td>NaN</td>\n",
              "      <td>NaN</td>\n",
              "      <td>NaN</td>\n",
              "      <td>NaN</td>\n",
              "      <td>2296.0</td>\n",
              "      <td>7.0</td>\n",
              "      <td>NaN</td>\n",
              "      <td>NaN</td>\n",
              "      <td>NaN</td>\n",
              "      <td>NaN</td>\n",
              "      <td>NaN</td>\n",
              "      <td>3732.0</td>\n",
              "      <td>NaN</td>\n",
              "      <td>NaN</td>\n",
              "      <td>NaN</td>\n",
              "      <td>NaN</td>\n",
              "      <td>NaN</td>\n",
              "      <td>NaN</td>\n",
              "      <td>NaN</td>\n",
              "      <td>480.0</td>\n",
              "      <td>600.0</td>\n",
              "      <td>NaN</td>\n",
              "      <td>10.0</td>\n",
              "      <td>104.0</td>\n",
              "      <td>NaN</td>\n",
              "      <td>NaN</td>\n",
              "      <td>286.96</td>\n",
              "      <td>NaN</td>\n",
              "      <td>NaN</td>\n",
              "      <td>NaN</td>\n",
              "      <td>NaN</td>\n",
              "      <td>NaN</td>\n",
              "      <td>NaN</td>\n",
              "      <td>0.0</td>\n",
              "      <td>NaN</td>\n",
              "      <td>NaN</td>\n",
              "      <td>6637740.0</td>\n",
              "      <td>NaN</td>\n",
              "      <td>NaN</td>\n",
              "      <td>...</td>\n",
              "      <td>NaN</td>\n",
              "      <td>YddTmBtueT</td>\n",
              "      <td>RO12</td>\n",
              "      <td>SEuy</td>\n",
              "      <td>taul</td>\n",
              "      <td>1K8T</td>\n",
              "      <td>487l</td>\n",
              "      <td>77f44U8</td>\n",
              "      <td>II0S8f9</td>\n",
              "      <td>a1lFLoc</td>\n",
              "      <td>smXZ</td>\n",
              "      <td>SOkz</td>\n",
              "      <td>9_Y1</td>\n",
              "      <td>C6Eu</td>\n",
              "      <td>VpdQ</td>\n",
              "      <td>IYzP</td>\n",
              "      <td>me75fM6ugJ</td>\n",
              "      <td>kIsH</td>\n",
              "      <td>NaN</td>\n",
              "      <td>uKAI</td>\n",
              "      <td>L84s</td>\n",
              "      <td>NhsEn4L</td>\n",
              "      <td>NaN</td>\n",
              "      <td>GccbB3h</td>\n",
              "      <td>NaN</td>\n",
              "      <td>mAjbk_S</td>\n",
              "      <td>qLRt</td>\n",
              "      <td>UYBR</td>\n",
              "      <td>FzaX</td>\n",
              "      <td>tzp8jNM</td>\n",
              "      <td>oslk</td>\n",
              "      <td>5nQ7A2G</td>\n",
              "      <td>jySVZNlOJy</td>\n",
              "      <td>NaN</td>\n",
              "      <td>kG3k</td>\n",
              "      <td>rgKb</td>\n",
              "      <td>RAYp</td>\n",
              "      <td>F2FyR07IdsN7I</td>\n",
              "      <td>am7c</td>\n",
              "      <td>NaN</td>\n",
              "    </tr>\n",
              "    <tr>\n",
              "      <th>4</th>\n",
              "      <td>8.0</td>\n",
              "      <td>NaN</td>\n",
              "      <td>NaN</td>\n",
              "      <td>NaN</td>\n",
              "      <td>NaN</td>\n",
              "      <td>NaN</td>\n",
              "      <td>NaN</td>\n",
              "      <td>NaN</td>\n",
              "      <td>28.0</td>\n",
              "      <td>NaN</td>\n",
              "      <td>NaN</td>\n",
              "      <td>0.0</td>\n",
              "      <td>NaN</td>\n",
              "      <td>NaN</td>\n",
              "      <td>NaN</td>\n",
              "      <td>NaN</td>\n",
              "      <td>NaN</td>\n",
              "      <td>NaN</td>\n",
              "      <td>NaN</td>\n",
              "      <td>NaN</td>\n",
              "      <td>NaN</td>\n",
              "      <td>NaN</td>\n",
              "      <td>NaN</td>\n",
              "      <td>NaN</td>\n",
              "      <td>NaN</td>\n",
              "      <td>NaN</td>\n",
              "      <td>NaN</td>\n",
              "      <td>NaN</td>\n",
              "      <td>0.0</td>\n",
              "      <td>10.0</td>\n",
              "      <td>NaN</td>\n",
              "      <td>NaN</td>\n",
              "      <td>NaN</td>\n",
              "      <td>NaN</td>\n",
              "      <td>NaN</td>\n",
              "      <td>NaN</td>\n",
              "      <td>NaN</td>\n",
              "      <td>NaN</td>\n",
              "      <td>NaN</td>\n",
              "      <td>NaN</td>\n",
              "      <td>...</td>\n",
              "      <td>NaN</td>\n",
              "      <td>mCGq9ayE15</td>\n",
              "      <td>RO12</td>\n",
              "      <td>NaN</td>\n",
              "      <td>taul</td>\n",
              "      <td>1K8T</td>\n",
              "      <td>lK27</td>\n",
              "      <td>esxkA1P</td>\n",
              "      <td>767sa0XN9l</td>\n",
              "      <td>NaN</td>\n",
              "      <td>NaN</td>\n",
              "      <td>kVZt</td>\n",
              "      <td>9_Y1</td>\n",
              "      <td>vm5R</td>\n",
              "      <td>09_Q</td>\n",
              "      <td>NaN</td>\n",
              "      <td>me75fM6ugJ</td>\n",
              "      <td>kIsH</td>\n",
              "      <td>NaN</td>\n",
              "      <td>uKAI</td>\n",
              "      <td>Mtgm</td>\n",
              "      <td>NhsEn4L</td>\n",
              "      <td>NaN</td>\n",
              "      <td>NaN</td>\n",
              "      <td>eGzu</td>\n",
              "      <td>7Wwvby0</td>\n",
              "      <td>XqfQ</td>\n",
              "      <td>UYBR</td>\n",
              "      <td>FzaX</td>\n",
              "      <td>EPImS85</td>\n",
              "      <td>oslk</td>\n",
              "      <td>MI8s5nE</td>\n",
              "      <td>LM8l689qOp</td>\n",
              "      <td>NaN</td>\n",
              "      <td>NaN</td>\n",
              "      <td>7P5s</td>\n",
              "      <td>RAYp</td>\n",
              "      <td>F2FyR07IdsN7I</td>\n",
              "      <td>NaN</td>\n",
              "      <td>NaN</td>\n",
              "    </tr>\n",
              "    <tr>\n",
              "      <th>...</th>\n",
              "      <td>...</td>\n",
              "      <td>...</td>\n",
              "      <td>...</td>\n",
              "      <td>...</td>\n",
              "      <td>...</td>\n",
              "      <td>...</td>\n",
              "      <td>...</td>\n",
              "      <td>...</td>\n",
              "      <td>...</td>\n",
              "      <td>...</td>\n",
              "      <td>...</td>\n",
              "      <td>...</td>\n",
              "      <td>...</td>\n",
              "      <td>...</td>\n",
              "      <td>...</td>\n",
              "      <td>...</td>\n",
              "      <td>...</td>\n",
              "      <td>...</td>\n",
              "      <td>...</td>\n",
              "      <td>...</td>\n",
              "      <td>...</td>\n",
              "      <td>...</td>\n",
              "      <td>...</td>\n",
              "      <td>...</td>\n",
              "      <td>...</td>\n",
              "      <td>...</td>\n",
              "      <td>...</td>\n",
              "      <td>...</td>\n",
              "      <td>...</td>\n",
              "      <td>...</td>\n",
              "      <td>...</td>\n",
              "      <td>...</td>\n",
              "      <td>...</td>\n",
              "      <td>...</td>\n",
              "      <td>...</td>\n",
              "      <td>...</td>\n",
              "      <td>...</td>\n",
              "      <td>...</td>\n",
              "      <td>...</td>\n",
              "      <td>...</td>\n",
              "      <td>...</td>\n",
              "      <td>...</td>\n",
              "      <td>...</td>\n",
              "      <td>...</td>\n",
              "      <td>...</td>\n",
              "      <td>...</td>\n",
              "      <td>...</td>\n",
              "      <td>...</td>\n",
              "      <td>...</td>\n",
              "      <td>...</td>\n",
              "      <td>...</td>\n",
              "      <td>...</td>\n",
              "      <td>...</td>\n",
              "      <td>...</td>\n",
              "      <td>...</td>\n",
              "      <td>...</td>\n",
              "      <td>...</td>\n",
              "      <td>...</td>\n",
              "      <td>...</td>\n",
              "      <td>...</td>\n",
              "      <td>...</td>\n",
              "      <td>...</td>\n",
              "      <td>...</td>\n",
              "      <td>...</td>\n",
              "      <td>...</td>\n",
              "      <td>...</td>\n",
              "      <td>...</td>\n",
              "      <td>...</td>\n",
              "      <td>...</td>\n",
              "      <td>...</td>\n",
              "      <td>...</td>\n",
              "      <td>...</td>\n",
              "      <td>...</td>\n",
              "      <td>...</td>\n",
              "      <td>...</td>\n",
              "      <td>...</td>\n",
              "      <td>...</td>\n",
              "      <td>...</td>\n",
              "      <td>...</td>\n",
              "      <td>...</td>\n",
              "      <td>...</td>\n",
              "    </tr>\n",
              "    <tr>\n",
              "      <th>9995</th>\n",
              "      <td>NaN</td>\n",
              "      <td>NaN</td>\n",
              "      <td>NaN</td>\n",
              "      <td>NaN</td>\n",
              "      <td>NaN</td>\n",
              "      <td>714.0</td>\n",
              "      <td>7.0</td>\n",
              "      <td>NaN</td>\n",
              "      <td>NaN</td>\n",
              "      <td>NaN</td>\n",
              "      <td>NaN</td>\n",
              "      <td>NaN</td>\n",
              "      <td>2240.0</td>\n",
              "      <td>NaN</td>\n",
              "      <td>NaN</td>\n",
              "      <td>NaN</td>\n",
              "      <td>NaN</td>\n",
              "      <td>NaN</td>\n",
              "      <td>NaN</td>\n",
              "      <td>NaN</td>\n",
              "      <td>120.0</td>\n",
              "      <td>150.0</td>\n",
              "      <td>NaN</td>\n",
              "      <td>10.0</td>\n",
              "      <td>80.0</td>\n",
              "      <td>NaN</td>\n",
              "      <td>NaN</td>\n",
              "      <td>133.12</td>\n",
              "      <td>NaN</td>\n",
              "      <td>NaN</td>\n",
              "      <td>NaN</td>\n",
              "      <td>NaN</td>\n",
              "      <td>NaN</td>\n",
              "      <td>NaN</td>\n",
              "      <td>0.0</td>\n",
              "      <td>NaN</td>\n",
              "      <td>NaN</td>\n",
              "      <td>0.0</td>\n",
              "      <td>NaN</td>\n",
              "      <td>NaN</td>\n",
              "      <td>...</td>\n",
              "      <td>NaN</td>\n",
              "      <td>m9SvyxLkBI</td>\n",
              "      <td>RO12</td>\n",
              "      <td>NaN</td>\n",
              "      <td>taul</td>\n",
              "      <td>1K8T</td>\n",
              "      <td>GYbZ</td>\n",
              "      <td>iJzviRg</td>\n",
              "      <td>3X0xOLn</td>\n",
              "      <td>jCrHwxI</td>\n",
              "      <td>NaN</td>\n",
              "      <td>CGbI</td>\n",
              "      <td>9_Y1</td>\n",
              "      <td>lXxA</td>\n",
              "      <td>09_Q</td>\n",
              "      <td>wMei</td>\n",
              "      <td>7M47J5GA0pTYIFxg5uy</td>\n",
              "      <td>kIsH</td>\n",
              "      <td>NaN</td>\n",
              "      <td>uKAI</td>\n",
              "      <td>L84s</td>\n",
              "      <td>4kVnq_T26xq1p</td>\n",
              "      <td>NaN</td>\n",
              "      <td>xXRNJU2</td>\n",
              "      <td>NaN</td>\n",
              "      <td>uZLuDix</td>\n",
              "      <td>vawI</td>\n",
              "      <td>cJvF</td>\n",
              "      <td>Lmli</td>\n",
              "      <td>ch2oGfM</td>\n",
              "      <td>zCkv</td>\n",
              "      <td>P6pu4Vl</td>\n",
              "      <td>LM8l689qOp</td>\n",
              "      <td>NaN</td>\n",
              "      <td>ELof</td>\n",
              "      <td>xb3V</td>\n",
              "      <td>ZI9m</td>\n",
              "      <td>R4y5gQQWY8OodqDV</td>\n",
              "      <td>am7c</td>\n",
              "      <td>NaN</td>\n",
              "    </tr>\n",
              "    <tr>\n",
              "      <th>9996</th>\n",
              "      <td>NaN</td>\n",
              "      <td>NaN</td>\n",
              "      <td>NaN</td>\n",
              "      <td>NaN</td>\n",
              "      <td>NaN</td>\n",
              "      <td>812.0</td>\n",
              "      <td>7.0</td>\n",
              "      <td>NaN</td>\n",
              "      <td>NaN</td>\n",
              "      <td>NaN</td>\n",
              "      <td>NaN</td>\n",
              "      <td>NaN</td>\n",
              "      <td>2020.0</td>\n",
              "      <td>NaN</td>\n",
              "      <td>NaN</td>\n",
              "      <td>NaN</td>\n",
              "      <td>NaN</td>\n",
              "      <td>NaN</td>\n",
              "      <td>NaN</td>\n",
              "      <td>NaN</td>\n",
              "      <td>136.0</td>\n",
              "      <td>170.0</td>\n",
              "      <td>NaN</td>\n",
              "      <td>0.0</td>\n",
              "      <td>104.0</td>\n",
              "      <td>NaN</td>\n",
              "      <td>NaN</td>\n",
              "      <td>253.52</td>\n",
              "      <td>NaN</td>\n",
              "      <td>NaN</td>\n",
              "      <td>NaN</td>\n",
              "      <td>NaN</td>\n",
              "      <td>NaN</td>\n",
              "      <td>NaN</td>\n",
              "      <td>0.0</td>\n",
              "      <td>NaN</td>\n",
              "      <td>NaN</td>\n",
              "      <td>4147200.0</td>\n",
              "      <td>NaN</td>\n",
              "      <td>NaN</td>\n",
              "      <td>...</td>\n",
              "      <td>NaN</td>\n",
              "      <td>HYTrjIK12c</td>\n",
              "      <td>2Knk1KF</td>\n",
              "      <td>NaN</td>\n",
              "      <td>taul</td>\n",
              "      <td>1K8T</td>\n",
              "      <td>JLbT</td>\n",
              "      <td>BMnJ89M</td>\n",
              "      <td>5CtupK8</td>\n",
              "      <td>8DWmKv5</td>\n",
              "      <td>NaN</td>\n",
              "      <td>mK1t</td>\n",
              "      <td>9_Y1</td>\n",
              "      <td>7WNq</td>\n",
              "      <td>VpdQ</td>\n",
              "      <td>hAFG</td>\n",
              "      <td>me75fM6ugJ</td>\n",
              "      <td>kIsH</td>\n",
              "      <td>NaN</td>\n",
              "      <td>uKAI</td>\n",
              "      <td>L84s</td>\n",
              "      <td>XfqtO3UdzaXh_</td>\n",
              "      <td>NaN</td>\n",
              "      <td>Oc9VkgP</td>\n",
              "      <td>NaN</td>\n",
              "      <td>XTbPUYD</td>\n",
              "      <td>jQNd</td>\n",
              "      <td>cJvF</td>\n",
              "      <td>FzaX</td>\n",
              "      <td>8d5YWu3</td>\n",
              "      <td>oslk</td>\n",
              "      <td>sXbT3Cb</td>\n",
              "      <td>LM8l689qOp</td>\n",
              "      <td>NaN</td>\n",
              "      <td>ELof</td>\n",
              "      <td>WqMG</td>\n",
              "      <td>RAYp</td>\n",
              "      <td>55YFVY9</td>\n",
              "      <td>mj86</td>\n",
              "      <td>NaN</td>\n",
              "    </tr>\n",
              "    <tr>\n",
              "      <th>9997</th>\n",
              "      <td>NaN</td>\n",
              "      <td>NaN</td>\n",
              "      <td>NaN</td>\n",
              "      <td>NaN</td>\n",
              "      <td>NaN</td>\n",
              "      <td>819.0</td>\n",
              "      <td>7.0</td>\n",
              "      <td>NaN</td>\n",
              "      <td>NaN</td>\n",
              "      <td>NaN</td>\n",
              "      <td>NaN</td>\n",
              "      <td>NaN</td>\n",
              "      <td>40.0</td>\n",
              "      <td>NaN</td>\n",
              "      <td>NaN</td>\n",
              "      <td>NaN</td>\n",
              "      <td>NaN</td>\n",
              "      <td>NaN</td>\n",
              "      <td>NaN</td>\n",
              "      <td>NaN</td>\n",
              "      <td>120.0</td>\n",
              "      <td>150.0</td>\n",
              "      <td>NaN</td>\n",
              "      <td>0.0</td>\n",
              "      <td>56.0</td>\n",
              "      <td>NaN</td>\n",
              "      <td>NaN</td>\n",
              "      <td>321.28</td>\n",
              "      <td>NaN</td>\n",
              "      <td>NaN</td>\n",
              "      <td>NaN</td>\n",
              "      <td>NaN</td>\n",
              "      <td>NaN</td>\n",
              "      <td>NaN</td>\n",
              "      <td>0.0</td>\n",
              "      <td>NaN</td>\n",
              "      <td>NaN</td>\n",
              "      <td>1555200.0</td>\n",
              "      <td>NaN</td>\n",
              "      <td>NaN</td>\n",
              "      <td>...</td>\n",
              "      <td>NaN</td>\n",
              "      <td>75lq9ayfAo</td>\n",
              "      <td>2Knk1KF</td>\n",
              "      <td>NaN</td>\n",
              "      <td>taul</td>\n",
              "      <td>1K8T</td>\n",
              "      <td>TyGl</td>\n",
              "      <td>bP5uMXJ</td>\n",
              "      <td>_03xtaMIkZsn1</td>\n",
              "      <td>AIQA8Jt</td>\n",
              "      <td>NaN</td>\n",
              "      <td>39Dw</td>\n",
              "      <td>9_Y1</td>\n",
              "      <td>F_Lu</td>\n",
              "      <td>VpdQ</td>\n",
              "      <td>kxE9</td>\n",
              "      <td>me75fM6ugJ</td>\n",
              "      <td>kIsH</td>\n",
              "      <td>NaN</td>\n",
              "      <td>uKAI</td>\n",
              "      <td>L84s</td>\n",
              "      <td>h0lfDKh52u4GP</td>\n",
              "      <td>NaN</td>\n",
              "      <td>Iu9vrXj</td>\n",
              "      <td>NaN</td>\n",
              "      <td>IoI4mKe</td>\n",
              "      <td>g9B7</td>\n",
              "      <td>cJvF</td>\n",
              "      <td>FzaX</td>\n",
              "      <td>WdPoLzk</td>\n",
              "      <td>oslk</td>\n",
              "      <td>05jAV0N</td>\n",
              "      <td>M_8D</td>\n",
              "      <td>NaN</td>\n",
              "      <td>ELof</td>\n",
              "      <td>TNEC</td>\n",
              "      <td>RAYp</td>\n",
              "      <td>55YFVY9</td>\n",
              "      <td>am7c</td>\n",
              "      <td>NaN</td>\n",
              "    </tr>\n",
              "    <tr>\n",
              "      <th>9998</th>\n",
              "      <td>NaN</td>\n",
              "      <td>NaN</td>\n",
              "      <td>NaN</td>\n",
              "      <td>NaN</td>\n",
              "      <td>NaN</td>\n",
              "      <td>NaN</td>\n",
              "      <td>7.0</td>\n",
              "      <td>NaN</td>\n",
              "      <td>NaN</td>\n",
              "      <td>NaN</td>\n",
              "      <td>NaN</td>\n",
              "      <td>NaN</td>\n",
              "      <td>112.0</td>\n",
              "      <td>NaN</td>\n",
              "      <td>NaN</td>\n",
              "      <td>NaN</td>\n",
              "      <td>NaN</td>\n",
              "      <td>NaN</td>\n",
              "      <td>NaN</td>\n",
              "      <td>NaN</td>\n",
              "      <td>NaN</td>\n",
              "      <td>0.0</td>\n",
              "      <td>NaN</td>\n",
              "      <td>NaN</td>\n",
              "      <td>0.0</td>\n",
              "      <td>NaN</td>\n",
              "      <td>NaN</td>\n",
              "      <td>0.00</td>\n",
              "      <td>NaN</td>\n",
              "      <td>NaN</td>\n",
              "      <td>NaN</td>\n",
              "      <td>NaN</td>\n",
              "      <td>NaN</td>\n",
              "      <td>NaN</td>\n",
              "      <td>0.0</td>\n",
              "      <td>NaN</td>\n",
              "      <td>NaN</td>\n",
              "      <td>0.0</td>\n",
              "      <td>NaN</td>\n",
              "      <td>NaN</td>\n",
              "      <td>...</td>\n",
              "      <td>NaN</td>\n",
              "      <td>JMGq9aXt5a</td>\n",
              "      <td>2Knk1KF</td>\n",
              "      <td>NaN</td>\n",
              "      <td>taul</td>\n",
              "      <td>1K8T</td>\n",
              "      <td>TLkP</td>\n",
              "      <td>jJ_J26Z</td>\n",
              "      <td>FoJylxy</td>\n",
              "      <td>NaN</td>\n",
              "      <td>NaN</td>\n",
              "      <td>Asx5</td>\n",
              "      <td>9_Y1</td>\n",
              "      <td>Y9Bl</td>\n",
              "      <td>VpdQ</td>\n",
              "      <td>NaN</td>\n",
              "      <td>me75fM6ugJ</td>\n",
              "      <td>kIsH</td>\n",
              "      <td>NaN</td>\n",
              "      <td>uKAI</td>\n",
              "      <td>Mtgm</td>\n",
              "      <td>XfqtO3UdzaXh_</td>\n",
              "      <td>NaN</td>\n",
              "      <td>NaN</td>\n",
              "      <td>NaN</td>\n",
              "      <td>OFqmdNV</td>\n",
              "      <td>BCds</td>\n",
              "      <td>UYBR</td>\n",
              "      <td>FzaX</td>\n",
              "      <td>EMvv4zN</td>\n",
              "      <td>oslk</td>\n",
              "      <td>RDY7kpB</td>\n",
              "      <td>LM8l689qOp</td>\n",
              "      <td>NaN</td>\n",
              "      <td>NaN</td>\n",
              "      <td>uWr3</td>\n",
              "      <td>RAYp</td>\n",
              "      <td>55YFVY9</td>\n",
              "      <td>NaN</td>\n",
              "      <td>NaN</td>\n",
              "    </tr>\n",
              "    <tr>\n",
              "      <th>9999</th>\n",
              "      <td>NaN</td>\n",
              "      <td>NaN</td>\n",
              "      <td>NaN</td>\n",
              "      <td>NaN</td>\n",
              "      <td>NaN</td>\n",
              "      <td>868.0</td>\n",
              "      <td>14.0</td>\n",
              "      <td>NaN</td>\n",
              "      <td>NaN</td>\n",
              "      <td>NaN</td>\n",
              "      <td>NaN</td>\n",
              "      <td>NaN</td>\n",
              "      <td>2820.0</td>\n",
              "      <td>NaN</td>\n",
              "      <td>NaN</td>\n",
              "      <td>NaN</td>\n",
              "      <td>NaN</td>\n",
              "      <td>NaN</td>\n",
              "      <td>NaN</td>\n",
              "      <td>NaN</td>\n",
              "      <td>136.0</td>\n",
              "      <td>170.0</td>\n",
              "      <td>NaN</td>\n",
              "      <td>2.0</td>\n",
              "      <td>8.0</td>\n",
              "      <td>NaN</td>\n",
              "      <td>NaN</td>\n",
              "      <td>461.92</td>\n",
              "      <td>NaN</td>\n",
              "      <td>NaN</td>\n",
              "      <td>NaN</td>\n",
              "      <td>NaN</td>\n",
              "      <td>NaN</td>\n",
              "      <td>NaN</td>\n",
              "      <td>0.0</td>\n",
              "      <td>NaN</td>\n",
              "      <td>NaN</td>\n",
              "      <td>6471180.0</td>\n",
              "      <td>NaN</td>\n",
              "      <td>NaN</td>\n",
              "      <td>...</td>\n",
              "      <td>NaN</td>\n",
              "      <td>9rAq9at_88</td>\n",
              "      <td>RO12</td>\n",
              "      <td>NaN</td>\n",
              "      <td>taul</td>\n",
              "      <td>1K8T</td>\n",
              "      <td>pGTb</td>\n",
              "      <td>IfKEQZy</td>\n",
              "      <td>CRwkRNVRGo</td>\n",
              "      <td>NvI9wLk</td>\n",
              "      <td>NaN</td>\n",
              "      <td>qqlk</td>\n",
              "      <td>9_Y1</td>\n",
              "      <td>KfYH</td>\n",
              "      <td>VpdQ</td>\n",
              "      <td>6JmL</td>\n",
              "      <td>me75fM6ugJ</td>\n",
              "      <td>kIsH</td>\n",
              "      <td>NaN</td>\n",
              "      <td>g5HH</td>\n",
              "      <td>L84s</td>\n",
              "      <td>XfqtO3UdzaXh_</td>\n",
              "      <td>NaN</td>\n",
              "      <td>5zA2v9l</td>\n",
              "      <td>NaN</td>\n",
              "      <td>11p4mKe</td>\n",
              "      <td>7mgE</td>\n",
              "      <td>cJvF</td>\n",
              "      <td>FzaX</td>\n",
              "      <td>bDIDFjT</td>\n",
              "      <td>oslk</td>\n",
              "      <td>gsLzpoz</td>\n",
              "      <td>jySVZNlOJy</td>\n",
              "      <td>NaN</td>\n",
              "      <td>NaN</td>\n",
              "      <td>me1d</td>\n",
              "      <td>RAYp</td>\n",
              "      <td>F2FyR07IdsN7I</td>\n",
              "      <td>mj86</td>\n",
              "      <td>NaN</td>\n",
              "    </tr>\n",
              "  </tbody>\n",
              "</table>\n",
              "<p>10000 rows × 230 columns</p>\n",
              "</div>"
            ],
            "text/plain": [
              "      Var1  Var2  Var3  Var4  ...  Var227            Var228  Var229  Var230\n",
              "ID                            ...                                          \n",
              "0      NaN   NaN   NaN   NaN  ...    6fzt           Zy3gnGM     NaN     NaN\n",
              "1      NaN   NaN   NaN   NaN  ...    RAYp     F2FyR07IdsN7I     NaN     NaN\n",
              "2      NaN   NaN   NaN   NaN  ...    RAYp     F2FyR07IdsN7I    mj86     NaN\n",
              "3      NaN   NaN   NaN   NaN  ...    RAYp     F2FyR07IdsN7I    am7c     NaN\n",
              "4      8.0   NaN   NaN   NaN  ...    RAYp     F2FyR07IdsN7I     NaN     NaN\n",
              "...    ...   ...   ...   ...  ...     ...               ...     ...     ...\n",
              "9995   NaN   NaN   NaN   NaN  ...    ZI9m  R4y5gQQWY8OodqDV    am7c     NaN\n",
              "9996   NaN   NaN   NaN   NaN  ...    RAYp           55YFVY9    mj86     NaN\n",
              "9997   NaN   NaN   NaN   NaN  ...    RAYp           55YFVY9    am7c     NaN\n",
              "9998   NaN   NaN   NaN   NaN  ...    RAYp           55YFVY9     NaN     NaN\n",
              "9999   NaN   NaN   NaN   NaN  ...    RAYp     F2FyR07IdsN7I    mj86     NaN\n",
              "\n",
              "[10000 rows x 230 columns]"
            ]
          },
          "metadata": {},
          "execution_count": 25
        }
      ]
    },
    {
      "cell_type": "code",
      "metadata": {
        "id": "seONlE1uc7HJ"
      },
      "source": [
        "df_test.drop(nan_cols, axis=1, inplace=True)"
      ],
      "execution_count": null,
      "outputs": []
    },
    {
      "cell_type": "code",
      "metadata": {
        "colab": {
          "base_uri": "https://localhost:8080/"
        },
        "id": "Hdqf1lSPdMPS",
        "outputId": "2321f1fb-1bb3-4fd4-ffc7-f3ebea257501"
      },
      "source": [
        "%%time\n",
        "prediction = pipeline.predict_proba(df_test)\n",
        "print(prediction)"
      ],
      "execution_count": null,
      "outputs": [
        {
          "output_type": "stream",
          "name": "stdout",
          "text": [
            "[[9.37699177e-01 6.23008228e-02]\n",
            " [9.95547934e-01 4.45206595e-03]\n",
            " [9.98006901e-01 1.99309937e-03]\n",
            " ...\n",
            " [9.96141266e-01 3.85873397e-03]\n",
            " [9.96528196e-01 3.47180406e-03]\n",
            " [9.99058923e-01 9.41077330e-04]]\n",
            "CPU times: user 412 ms, sys: 21.9 ms, total: 434 ms\n",
            "Wall time: 422 ms\n"
          ]
        }
      ]
    },
    {
      "cell_type": "code",
      "metadata": {
        "id": "WQYtnW0YKAlk"
      },
      "source": [
        "write_to_submission_file(prediction[:, 1], 'result.csv')"
      ],
      "execution_count": null,
      "outputs": []
    },
    {
      "cell_type": "code",
      "metadata": {
        "id": "bzGTRZudKGku"
      },
      "source": [
        ""
      ],
      "execution_count": null,
      "outputs": []
    }
  ]
}