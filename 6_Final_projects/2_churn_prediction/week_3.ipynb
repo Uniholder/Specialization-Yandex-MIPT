{
  "cells": [
    {
      "cell_type": "markdown",
      "metadata": {
        "id": "view-in-github",
        "colab_type": "text"
      },
      "source": [
        "<a href=\"https://colab.research.google.com/github/Uniholder/Specialization-Yandex-MIPT/blob/main/6_Final_projects/2_churn_prediction/week_3.ipynb\" target=\"_parent\"><img src=\"https://colab.research.google.com/assets/colab-badge.svg\" alt=\"Open In Colab\"/></a>"
      ]
    },
    {
      "cell_type": "code",
      "execution_count": 1,
      "metadata": {
        "id": "7sPiQKEqjFjL",
        "outputId": "a72f87b8-9a87-402e-a777-d158d44c297f",
        "colab": {
          "base_uri": "https://localhost:8080/"
        }
      },
      "outputs": [
        {
          "output_type": "stream",
          "name": "stdout",
          "text": [
            "--2022-08-11 15:19:45--  https://stepik.org/media/attachments/lesson/90608/_847b6cd041836e8fa914243e83d898fb_orange_small_churn_data.train\n",
            "Resolving stepik.org (stepik.org)... 13.69.75.239\n",
            "Connecting to stepik.org (stepik.org)|13.69.75.239|:443... connected.\n",
            "HTTP request sent, awaiting response... 200 OK\n",
            "Length: 23722578 (23M) [application/octet-stream]\n",
            "Saving to: ‘data/orange_small_churn_data.train’\n",
            "\n",
            "data/orange_small_c 100%[===================>]  22.62M  7.49MB/s    in 3.0s    \n",
            "\n",
            "2022-08-11 15:19:49 (7.49 MB/s) - ‘data/orange_small_churn_data.train’ saved [23722578/23722578]\n",
            "\n",
            "--2022-08-11 15:19:50--  https://stepik.org/media/attachments/lesson/90608/_ce5e9e4280a8856218f1886f007de2a4_orange_small_churn_labels.train\n",
            "Resolving stepik.org (stepik.org)... 13.69.75.239\n",
            "Connecting to stepik.org (stepik.org)|13.69.75.239|:443... connected.\n",
            "HTTP request sent, awaiting response... 200 OK\n",
            "Length: 117024 (114K) [application/octet-stream]\n",
            "Saving to: ‘data/orange_small_churn_labels.train’\n",
            "\n",
            "data/orange_small_c 100%[===================>] 114.28K   255KB/s    in 0.4s    \n",
            "\n",
            "2022-08-11 15:19:51 (255 KB/s) - ‘data/orange_small_churn_labels.train’ saved [117024/117024]\n",
            "\n"
          ]
        }
      ],
      "source": [
        "!mkdir data\n",
        "!wget -O data/orange_small_churn_data.train https://stepik.org/media/attachments/lesson/90608/_847b6cd041836e8fa914243e83d898fb_orange_small_churn_data.train\n",
        "!wget -O data/orange_small_churn_labels.train https://stepik.org/media/attachments/lesson/90608/_ce5e9e4280a8856218f1886f007de2a4_orange_small_churn_labels.train"
      ]
    },
    {
      "cell_type": "markdown",
      "metadata": {
        "id": "MoE7Gt-kfhnG"
      },
      "source": [
        "# Входные данные"
      ]
    },
    {
      "cell_type": "code",
      "execution_count": 2,
      "metadata": {
        "id": "ujagJYeYa1SR"
      },
      "outputs": [],
      "source": [
        "import pandas as pd\n",
        "import os\n",
        "import numpy as np\n",
        "\n",
        "import warnings\n",
        "warnings.filterwarnings('ignore')\n",
        "\n",
        "from sklearn.model_selection import train_test_split\n",
        "from sklearn.preprocessing import OrdinalEncoder\n",
        "from sklearn.impute import SimpleImputer\n",
        "\n",
        "PATH_TO_DATA = 'data'"
      ]
    },
    {
      "cell_type": "code",
      "execution_count": 10,
      "metadata": {
        "id": "iUvbXcAxa1SU",
        "outputId": "be8cad18-ffa4-4052-d0dd-44ff64763895",
        "colab": {
          "base_uri": "https://localhost:8080/"
        }
      },
      "outputs": [
        {
          "output_type": "execute_result",
          "data": {
            "text/plain": [
              "(40000, 231)"
            ]
          },
          "metadata": {},
          "execution_count": 10
        }
      ],
      "source": [
        "df_raw = pd.read_csv(os.path.join(PATH_TO_DATA, 'orange_small_churn_data.train'))\n",
        "labels = pd.read_csv(os.path.join(PATH_TO_DATA, 'orange_small_churn_labels.train'), header=None, squeeze=True)\n",
        "df_raw['target'] = labels\n",
        "df_raw.shape"
      ]
    },
    {
      "cell_type": "code",
      "source": [
        "num_vars = df_raw.columns[:190]\n",
        "cat_vars = df_raw.columns[190:]"
      ],
      "metadata": {
        "id": "ZNrN8HL5fi8-"
      },
      "execution_count": 4,
      "outputs": []
    },
    {
      "cell_type": "code",
      "execution_count": 15,
      "metadata": {
        "colab": {
          "base_uri": "https://localhost:8080/"
        },
        "id": "elLHGzHka1Sg",
        "outputId": "2e78bfb4-48f5-4efa-b472-5d9004f44da4"
      },
      "outputs": [
        {
          "output_type": "execute_result",
          "data": {
            "text/plain": [
              "(40000, 213)"
            ]
          },
          "metadata": {},
          "execution_count": 15
        }
      ],
      "source": [
        "df = df_raw.dropna(axis=1, how='all')\n",
        "df.shape"
      ]
    },
    {
      "cell_type": "markdown",
      "metadata": {
        "id": "glFkL2-G-QbE"
      },
      "source": [
        "Отделим hold-out dataset"
      ]
    },
    {
      "cell_type": "code",
      "execution_count": 18,
      "metadata": {
        "id": "DbQ1kOy_-QbI",
        "outputId": "a01117af-ff0e-44a7-e807-bd4755fee2f2",
        "colab": {
          "base_uri": "https://localhost:8080/"
        }
      },
      "outputs": [
        {
          "output_type": "execute_result",
          "data": {
            "text/plain": [
              "((35000, 213), (5000, 213))"
            ]
          },
          "metadata": {},
          "execution_count": 18
        }
      ],
      "source": [
        "df_train, df_ho = train_test_split(df, test_size=5000)\n",
        "df_train.shape, df_ho.shape"
      ]
    },
    {
      "cell_type": "code",
      "execution_count": null,
      "metadata": {
        "collapsed": true,
        "id": "tnagzubp-QbJ"
      },
      "outputs": [],
      "source": [
        "# df_ho.to_csv(os.path.join(PATH_TO_DATA, 'hold_out_dataset.csv'))"
      ]
    },
    {
      "cell_type": "code",
      "execution_count": 19,
      "metadata": {
        "id": "h5ze86nDlyn7"
      },
      "outputs": [],
      "source": [
        "cols = df_train.drop('target', axis=1).columns"
      ]
    },
    {
      "cell_type": "markdown",
      "source": [
        "Preprocessing"
      ],
      "metadata": {
        "id": "oPQtvGGzuBBd"
      }
    },
    {
      "cell_type": "code",
      "execution_count": 22,
      "metadata": {
        "colab": {
          "base_uri": "https://localhost:8080/"
        },
        "id": "jLRjd6vsg565",
        "outputId": "91f079df-c869-4bc9-fe73-f19fc870912e"
      },
      "outputs": [
        {
          "output_type": "stream",
          "name": "stdout",
          "text": [
            "CPU times: user 3.05 s, sys: 450 ms, total: 3.5 s\n",
            "Wall time: 4.15 s\n"
          ]
        }
      ],
      "source": [
        "%%time\n",
        "si = SimpleImputer(strategy='most_frequent')\n",
        "df_train_imp = pd.DataFrame(si.fit_transform(df_train[cols]), columns=cols)"
      ]
    },
    {
      "cell_type": "code",
      "execution_count": 23,
      "metadata": {
        "id": "58Kz-c_cggu4"
      },
      "outputs": [],
      "source": [
        "oe = OrdinalEncoder(handle_unknown='use_encoded_value', unknown_value=-1)\n",
        "df_train_enc = pd.DataFrame(oe.fit_transform(df_train_imp), columns=cols)"
      ]
    },
    {
      "cell_type": "code",
      "execution_count": 24,
      "metadata": {
        "id": "tX4SG9Pw8QH8",
        "outputId": "abc91b13-4ef1-433c-b047-c47e77873e30",
        "colab": {
          "base_uri": "https://localhost:8080/"
        }
      },
      "outputs": [
        {
          "output_type": "execute_result",
          "data": {
            "text/plain": [
              "0.0    28066\n",
              "1.0     6884\n",
              "3.0       25\n",
              "2.0       25\n",
              "Name: Var229, dtype: int64"
            ]
          },
          "metadata": {},
          "execution_count": 24
        }
      ],
      "source": [
        "df_train_enc['Var229'].value_counts()"
      ]
    },
    {
      "cell_type": "markdown",
      "metadata": {
        "id": "6APhGtQqoEPI"
      },
      "source": [
        "# Модель"
      ]
    },
    {
      "cell_type": "code",
      "source": [
        "!pip install catboost"
      ],
      "metadata": {
        "id": "hWUuRcF6zKfb",
        "outputId": "e8492a46-9468-4ecd-f2aa-9c34b0b81478",
        "colab": {
          "base_uri": "https://localhost:8080/"
        }
      },
      "execution_count": 25,
      "outputs": [
        {
          "output_type": "stream",
          "name": "stdout",
          "text": [
            "Looking in indexes: https://pypi.org/simple, https://us-python.pkg.dev/colab-wheels/public/simple/\n",
            "Collecting catboost\n",
            "  Downloading catboost-1.0.6-cp37-none-manylinux1_x86_64.whl (76.6 MB)\n",
            "\u001b[K     |████████████████████████████████| 76.6 MB 92 kB/s \n",
            "\u001b[?25hRequirement already satisfied: pandas>=0.24.0 in /usr/local/lib/python3.7/dist-packages (from catboost) (1.3.5)\n",
            "Requirement already satisfied: numpy>=1.16.0 in /usr/local/lib/python3.7/dist-packages (from catboost) (1.21.6)\n",
            "Requirement already satisfied: graphviz in /usr/local/lib/python3.7/dist-packages (from catboost) (0.10.1)\n",
            "Requirement already satisfied: six in /usr/local/lib/python3.7/dist-packages (from catboost) (1.15.0)\n",
            "Requirement already satisfied: plotly in /usr/local/lib/python3.7/dist-packages (from catboost) (5.5.0)\n",
            "Requirement already satisfied: matplotlib in /usr/local/lib/python3.7/dist-packages (from catboost) (3.2.2)\n",
            "Requirement already satisfied: scipy in /usr/local/lib/python3.7/dist-packages (from catboost) (1.7.3)\n",
            "Requirement already satisfied: python-dateutil>=2.7.3 in /usr/local/lib/python3.7/dist-packages (from pandas>=0.24.0->catboost) (2.8.2)\n",
            "Requirement already satisfied: pytz>=2017.3 in /usr/local/lib/python3.7/dist-packages (from pandas>=0.24.0->catboost) (2022.1)\n",
            "Requirement already satisfied: kiwisolver>=1.0.1 in /usr/local/lib/python3.7/dist-packages (from matplotlib->catboost) (1.4.4)\n",
            "Requirement already satisfied: pyparsing!=2.0.4,!=2.1.2,!=2.1.6,>=2.0.1 in /usr/local/lib/python3.7/dist-packages (from matplotlib->catboost) (3.0.9)\n",
            "Requirement already satisfied: cycler>=0.10 in /usr/local/lib/python3.7/dist-packages (from matplotlib->catboost) (0.11.0)\n",
            "Requirement already satisfied: typing-extensions in /usr/local/lib/python3.7/dist-packages (from kiwisolver>=1.0.1->matplotlib->catboost) (4.1.1)\n",
            "Requirement already satisfied: tenacity>=6.2.0 in /usr/local/lib/python3.7/dist-packages (from plotly->catboost) (8.0.1)\n",
            "Installing collected packages: catboost\n",
            "Successfully installed catboost-1.0.6\n"
          ]
        }
      ]
    },
    {
      "cell_type": "code",
      "execution_count": 26,
      "metadata": {
        "id": "d_z-7neK-QbN"
      },
      "outputs": [],
      "source": [
        "from sklearn.model_selection import cross_val_score, StratifiedShuffleSplit, cross_validate\n",
        "from sklearn.linear_model import RidgeClassifier, LogisticRegression, SGDClassifier\n",
        "from sklearn.ensemble import RandomForestClassifier, GradientBoostingClassifier\n",
        "from sklearn.metrics import classification_report\n",
        "\n",
        "from catboost import CatBoostClassifier"
      ]
    },
    {
      "cell_type": "code",
      "execution_count": 52,
      "metadata": {
        "id": "afhCAbT2MuGz"
      },
      "outputs": [],
      "source": [
        "X, y = df_train_enc, df_train['target']\n",
        "cv = StratifiedShuffleSplit(random_state=0)"
      ]
    },
    {
      "cell_type": "code",
      "execution_count": 29,
      "metadata": {
        "id": "Z_NHcQ0S_aP5"
      },
      "outputs": [],
      "source": [
        "X_train, X_val, y_train, y_val = train_test_split(X, y, test_size=0.2)"
      ]
    },
    {
      "cell_type": "markdown",
      "metadata": {
        "id": "hnD3QfsFA_2j"
      },
      "source": [
        "## LogisticRegression"
      ]
    },
    {
      "cell_type": "code",
      "execution_count": 53,
      "metadata": {
        "id": "HVd-TOPxMGGb"
      },
      "outputs": [],
      "source": [
        "cv_results = cross_validate(estimator=LogisticRegression(random_state=0), X=X_train, y=y_train, n_jobs=-1, scoring='roc_auc', cv=cv)"
      ]
    },
    {
      "cell_type": "code",
      "source": [
        "cv_results['test_score'], cv_results['test_score'].mean()"
      ],
      "metadata": {
        "id": "kA6-a1Bd1ZSq",
        "outputId": "3c478f65-d782-4750-e4be-a83b6419edd9",
        "colab": {
          "base_uri": "https://localhost:8080/"
        }
      },
      "execution_count": 54,
      "outputs": [
        {
          "output_type": "execute_result",
          "data": {
            "text/plain": [
              "(array([0.53916896, 0.57939327, 0.55839309, 0.55926457, 0.54898143,\n",
              "        0.55489244, 0.59417724, 0.55967641, 0.59371943, 0.55003126]),\n",
              " 0.5637698106269535)"
            ]
          },
          "metadata": {},
          "execution_count": 54
        }
      ]
    },
    {
      "cell_type": "code",
      "execution_count": 33,
      "metadata": {
        "colab": {
          "base_uri": "https://localhost:8080/"
        },
        "id": "Qw0k5A4xALeL",
        "outputId": "13fe2979-9ccb-4c48-af8f-48da1b6f5281"
      },
      "outputs": [
        {
          "output_type": "stream",
          "name": "stdout",
          "text": [
            "              precision    recall  f1-score   support\n",
            "\n",
            "          -1       0.93      1.00      0.96      6495\n",
            "           1       0.00      0.00      0.00       505\n",
            "\n",
            "    accuracy                           0.93      7000\n",
            "   macro avg       0.46      0.50      0.48      7000\n",
            "weighted avg       0.86      0.93      0.89      7000\n",
            "\n"
          ]
        }
      ],
      "source": [
        "lr = LogisticRegression(random_state=0)\n",
        "lr.fit(X_train, y_train)\n",
        "print(classification_report(y_val, lr.predict(X_val)))"
      ]
    },
    {
      "cell_type": "markdown",
      "metadata": {
        "id": "Pk7UmVe2Bbt5"
      },
      "source": [
        "## RidgeClassifier"
      ]
    },
    {
      "cell_type": "code",
      "source": [
        "cv_results = cross_validate(estimator=RidgeClassifier(random_state=0), X=X_train, y=y_train, n_jobs=-1, scoring='roc_auc', cv=cv)"
      ],
      "metadata": {
        "id": "2CHkg_Va1-R8"
      },
      "execution_count": 55,
      "outputs": []
    },
    {
      "cell_type": "code",
      "source": [
        "cv_results['test_score'], cv_results['test_score'].mean()"
      ],
      "metadata": {
        "id": "y3Kmp4Ky2BT0",
        "outputId": "53f2dbf9-5040-42f1-bac0-e198cbb328d9",
        "colab": {
          "base_uri": "https://localhost:8080/"
        }
      },
      "execution_count": 56,
      "outputs": [
        {
          "output_type": "execute_result",
          "data": {
            "text/plain": [
              "(array([0.64190108, 0.65524177, 0.67181283, 0.64220813, 0.69833977,\n",
              "        0.66697739, 0.69085126, 0.67226696, 0.64605258, 0.63243427]),\n",
              " 0.6618086045228903)"
            ]
          },
          "metadata": {},
          "execution_count": 56
        }
      ]
    },
    {
      "cell_type": "code",
      "execution_count": 38,
      "metadata": {
        "colab": {
          "base_uri": "https://localhost:8080/"
        },
        "id": "ozIv6qzb6IYy",
        "outputId": "42fafe2c-612b-48b7-d372-e22c37c469d6"
      },
      "outputs": [
        {
          "output_type": "stream",
          "name": "stdout",
          "text": [
            "              precision    recall  f1-score   support\n",
            "\n",
            "          -1       0.93      1.00      0.96      6495\n",
            "           1       0.00      0.00      0.00       505\n",
            "\n",
            "    accuracy                           0.93      7000\n",
            "   macro avg       0.46      0.50      0.48      7000\n",
            "weighted avg       0.86      0.93      0.89      7000\n",
            "\n"
          ]
        }
      ],
      "source": [
        "rc = RidgeClassifier(random_state=0)\n",
        "rc.fit(X_train, y_train)\n",
        "print(classification_report(y_val, rc.predict(X_val)))"
      ]
    },
    {
      "cell_type": "markdown",
      "metadata": {
        "id": "pR37STY5BkXs"
      },
      "source": [
        "## SGDClassifier"
      ]
    },
    {
      "cell_type": "code",
      "source": [
        "cv_results = cross_validate(estimator=SGDClassifier(random_state=0), X=X_train, y=y_train, n_jobs=-1, scoring='roc_auc', cv=cv)"
      ],
      "metadata": {
        "id": "tHkxjCsq2MoP"
      },
      "execution_count": 57,
      "outputs": []
    },
    {
      "cell_type": "code",
      "source": [
        "cv_results['test_score'], cv_results['test_score'].mean()"
      ],
      "metadata": {
        "id": "WaMhZG-j2Ou1",
        "outputId": "c3497c62-155a-4f41-a27f-98b81c0bc449",
        "colab": {
          "base_uri": "https://localhost:8080/"
        }
      },
      "execution_count": 58,
      "outputs": [
        {
          "output_type": "execute_result",
          "data": {
            "text/plain": [
              "(array([0.48678617, 0.52744254, 0.52198198, 0.48697187, 0.44250965,\n",
              "        0.57477661, 0.47759147, 0.47138077, 0.5101765 , 0.49104983]),\n",
              " 0.49906674020959735)"
            ]
          },
          "metadata": {},
          "execution_count": 58
        }
      ]
    },
    {
      "cell_type": "code",
      "execution_count": 41,
      "metadata": {
        "colab": {
          "base_uri": "https://localhost:8080/"
        },
        "id": "Wk2a9aWUAeGK",
        "outputId": "9abc1bf5-5fbc-4e63-98b5-91a7ae993082"
      },
      "outputs": [
        {
          "output_type": "stream",
          "name": "stdout",
          "text": [
            "              precision    recall  f1-score   support\n",
            "\n",
            "          -1       0.93      1.00      0.96      6495\n",
            "           1       0.00      0.00      0.00       505\n",
            "\n",
            "    accuracy                           0.93      7000\n",
            "   macro avg       0.46      0.50      0.48      7000\n",
            "weighted avg       0.86      0.93      0.89      7000\n",
            "\n"
          ]
        }
      ],
      "source": [
        "sgdc = SGDClassifier(random_state=0)\n",
        "sgdc.fit(X_train, y_train)\n",
        "print(classification_report(y_val, sgdc.predict(X_val)))"
      ]
    },
    {
      "cell_type": "markdown",
      "metadata": {
        "id": "TsRjv64BEIOA"
      },
      "source": [
        "### SGDClassifier log loss"
      ]
    },
    {
      "cell_type": "code",
      "execution_count": 59,
      "metadata": {
        "id": "9NCh5terwJ2r"
      },
      "outputs": [],
      "source": [
        "cv_results = cross_validate(estimator=SGDClassifier(random_state=0, loss='log'), X=X_train, y=y_train, n_jobs=-1, scoring='roc_auc', cv=cv)"
      ]
    },
    {
      "cell_type": "code",
      "execution_count": 60,
      "metadata": {
        "colab": {
          "base_uri": "https://localhost:8080/"
        },
        "id": "CjpMomntENB-",
        "outputId": "b1053a0b-7055-42a7-fb6a-ed1acda500c6"
      },
      "outputs": [
        {
          "output_type": "execute_result",
          "data": {
            "text/plain": [
              "(array([0.46446406, 0.50663725, 0.50952381, 0.48885457, 0.49853833,\n",
              "        0.5418827 , 0.50044126, 0.5294613 , 0.51034749, 0.50777533]),\n",
              " 0.505792608935466)"
            ]
          },
          "metadata": {},
          "execution_count": 60
        }
      ],
      "source": [
        "cv_results['test_score'], cv_results['test_score'].mean()"
      ]
    },
    {
      "cell_type": "code",
      "execution_count": 61,
      "metadata": {
        "colab": {
          "base_uri": "https://localhost:8080/"
        },
        "id": "YjRLb8e_ExTV",
        "outputId": "13ef4f0d-e0ec-4ee1-c104-0d016ea66db9"
      },
      "outputs": [
        {
          "output_type": "stream",
          "name": "stdout",
          "text": [
            "              precision    recall  f1-score   support\n",
            "\n",
            "          -1       0.93      0.73      0.82      6495\n",
            "           1       0.08      0.30      0.13       505\n",
            "\n",
            "    accuracy                           0.70      7000\n",
            "   macro avg       0.51      0.52      0.47      7000\n",
            "weighted avg       0.87      0.70      0.77      7000\n",
            "\n"
          ]
        }
      ],
      "source": [
        "sgdc = SGDClassifier(random_state=0, loss='log')\n",
        "sgdc.fit(X_train, y_train)\n",
        "print(classification_report(y_val, sgdc.predict(X_val)))"
      ]
    },
    {
      "cell_type": "markdown",
      "metadata": {
        "id": "-xN2rGWRERcC"
      },
      "source": [
        "## RandomForestClassifier"
      ]
    },
    {
      "cell_type": "code",
      "execution_count": 62,
      "metadata": {
        "id": "jzLrYBAvx-OO"
      },
      "outputs": [],
      "source": [
        "rfc = RandomForestClassifier(oob_score=True)"
      ]
    },
    {
      "cell_type": "code",
      "execution_count": 63,
      "metadata": {
        "colab": {
          "base_uri": "https://localhost:8080/"
        },
        "id": "ZWXkTqFXwa0b",
        "outputId": "e8662508-4234-4560-8ce2-d27d24bfc95d"
      },
      "outputs": [
        {
          "output_type": "execute_result",
          "data": {
            "text/plain": [
              "RandomForestClassifier(oob_score=True)"
            ]
          },
          "metadata": {},
          "execution_count": 63
        }
      ],
      "source": [
        "rfc.fit(X_train, y_train)"
      ]
    },
    {
      "cell_type": "code",
      "execution_count": 64,
      "metadata": {
        "colab": {
          "base_uri": "https://localhost:8080/"
        },
        "id": "Ux7lwdfoyVT8",
        "outputId": "29a75711-4fa6-4b8b-b4c3-004b3295b03d"
      },
      "outputs": [
        {
          "output_type": "execute_result",
          "data": {
            "text/plain": [
              "0.9249285714285714"
            ]
          },
          "metadata": {},
          "execution_count": 64
        }
      ],
      "source": [
        "rfc.oob_score_"
      ]
    },
    {
      "cell_type": "code",
      "execution_count": 65,
      "metadata": {
        "colab": {
          "base_uri": "https://localhost:8080/"
        },
        "id": "8-poMGMCzCVV",
        "outputId": "535d0c27-d868-41ff-a8d6-143d2c1a309a"
      },
      "outputs": [
        {
          "output_type": "stream",
          "name": "stdout",
          "text": [
            "CPU times: user 688 ms, sys: 111 ms, total: 799 ms\n",
            "Wall time: 1min 24s\n"
          ]
        }
      ],
      "source": [
        "%%time\n",
        "cv_results = cross_validate(estimator=RandomForestClassifier(random_state=0), X=X_train, y=y_train, n_jobs=-1, scoring='roc_auc', cv=cv)"
      ]
    },
    {
      "cell_type": "code",
      "source": [
        "cv_results['test_score'], cv_results['test_score'].mean()"
      ],
      "metadata": {
        "id": "v8Q_4O-r4IJc",
        "outputId": "6c015b64-acf7-4c37-bb93-af4ea237afdc",
        "colab": {
          "base_uri": "https://localhost:8080/"
        }
      },
      "execution_count": 67,
      "outputs": [
        {
          "output_type": "execute_result",
          "data": {
            "text/plain": [
              "(array([0.6497619 , 0.66683949, 0.65268524, 0.60917816, 0.68123828,\n",
              "        0.62669792, 0.6875023 , 0.67559294, 0.65121254, 0.61691671]),\n",
              " 0.6517625482625482)"
            ]
          },
          "metadata": {},
          "execution_count": 67
        }
      ]
    },
    {
      "cell_type": "code",
      "execution_count": 66,
      "metadata": {
        "colab": {
          "base_uri": "https://localhost:8080/"
        },
        "id": "JjPxs7lXZdzb",
        "outputId": "e8c4675e-8bac-4bfb-a255-40f4da671a95"
      },
      "outputs": [
        {
          "output_type": "stream",
          "name": "stdout",
          "text": [
            "              precision    recall  f1-score   support\n",
            "\n",
            "          -1       0.93      1.00      0.96      6495\n",
            "           1       0.00      0.00      0.00       505\n",
            "\n",
            "    accuracy                           0.93      7000\n",
            "   macro avg       0.46      0.50      0.48      7000\n",
            "weighted avg       0.86      0.93      0.89      7000\n",
            "\n"
          ]
        }
      ],
      "source": [
        "rfc = RandomForestClassifier(random_state=0)\n",
        "rfc.fit(X_train, y_train)\n",
        "print(classification_report(y_val, rfc.predict(X_val)))"
      ]
    },
    {
      "cell_type": "markdown",
      "metadata": {
        "id": "HY0lfKTYZWGf"
      },
      "source": [
        "## GradientBoostingClassifier"
      ]
    },
    {
      "cell_type": "code",
      "execution_count": null,
      "metadata": {
        "colab": {
          "base_uri": "https://localhost:8080/"
        },
        "id": "nvjssOTGzG7d",
        "outputId": "ba44bf85-d64b-4694-faba-f056416fae95"
      },
      "outputs": [
        {
          "name": "stdout",
          "output_type": "stream",
          "text": [
            "CPU times: user 1.8 s, sys: 213 ms, total: 2.01 s\n",
            "Wall time: 5min 4s\n"
          ]
        },
        {
          "data": {
            "text/plain": [
              "array([0.72750033, 0.73476867, 0.73284527, 0.70830834, 0.7215527 ,\n",
              "       0.73489524, 0.72966326])"
            ]
          },
          "execution_count": 145,
          "metadata": {},
          "output_type": "execute_result"
        }
      ],
      "source": [
        "%%time\n",
        "cross_val_score(estimator=GradientBoostingClassifier(random_state=2179), X=X_train, y=y_train, cv=cv, n_jobs=-1, scoring='roc_auc')"
      ]
    },
    {
      "cell_type": "code",
      "execution_count": null,
      "metadata": {
        "colab": {
          "base_uri": "https://localhost:8080/"
        },
        "id": "Kwvq7GkFZoCu",
        "outputId": "b409e4bd-1665-45dc-bf75-d12c3afb56bf"
      },
      "outputs": [
        {
          "name": "stdout",
          "output_type": "stream",
          "text": [
            "CPU times: user 965 ms, sys: 116 ms, total: 1.08 s\n",
            "Wall time: 5min 6s\n"
          ]
        },
        {
          "data": {
            "text/plain": [
              "array([0.01515152, 0.00763359, 0.        , 0.00754717, 0.01509434,\n",
              "       0.        , 0.00749064])"
            ]
          },
          "execution_count": 203,
          "metadata": {},
          "output_type": "execute_result"
        }
      ],
      "source": [
        "%%time\n",
        "cross_val_score(estimator=GradientBoostingClassifier(random_state=2179), X=X_train, y=y_train, cv=cv, n_jobs=-1, scoring='f1')"
      ]
    },
    {
      "cell_type": "code",
      "execution_count": null,
      "metadata": {
        "colab": {
          "base_uri": "https://localhost:8080/"
        },
        "id": "y8f4SEiFZny0",
        "outputId": "78d73b3f-00f6-40d7-b343-03adfe974e1a"
      },
      "outputs": [
        {
          "name": "stdout",
          "output_type": "stream",
          "text": [
            "CPU times: user 970 ms, sys: 128 ms, total: 1.1 s\n",
            "Wall time: 5min 8s\n"
          ]
        },
        {
          "data": {
            "text/plain": [
              "array([0.        , 0.33333333, 0.2       , 0.6       , 0.33333333,\n",
              "       0.66666667, 0.25      ])"
            ]
          },
          "execution_count": 204,
          "metadata": {},
          "output_type": "execute_result"
        }
      ],
      "source": [
        "%%time\n",
        "cross_val_score(estimator=GradientBoostingClassifier(random_state=2179), X=X_train, y=y_train, cv=cv, n_jobs=-1, scoring='precision')"
      ]
    },
    {
      "cell_type": "code",
      "execution_count": null,
      "metadata": {
        "colab": {
          "base_uri": "https://localhost:8080/"
        },
        "id": "D60rrFcg0A46",
        "outputId": "6cb7b79e-7771-4447-d517-5ec3c98447f7"
      },
      "outputs": [
        {
          "name": "stdout",
          "output_type": "stream",
          "text": [
            "CPU times: user 950 ms, sys: 125 ms, total: 1.08 s\n",
            "Wall time: 5min 6s\n"
          ]
        },
        {
          "data": {
            "text/plain": [
              "array([0.00383142, 0.00383142, 0.00766284, 0.        , 0.01149425,\n",
              "       0.        , 0.        ])"
            ]
          },
          "execution_count": 205,
          "metadata": {},
          "output_type": "execute_result"
        }
      ],
      "source": [
        "%%time\n",
        "cross_val_score(estimator=GradientBoostingClassifier(random_state=2179), X=X_train, y=y_train, cv=cv, n_jobs=-1, scoring='recall')"
      ]
    },
    {
      "cell_type": "code",
      "execution_count": null,
      "metadata": {
        "colab": {
          "base_uri": "https://localhost:8080/"
        },
        "id": "sO28auWiZ25G",
        "outputId": "e03849c3-9bf8-4ad0-96a4-2e983d02a6f9"
      },
      "outputs": [
        {
          "name": "stdout",
          "output_type": "stream",
          "text": [
            "              precision    recall  f1-score   support\n",
            "\n",
            "         0.0       0.92      1.00      0.96      8069\n",
            "         1.0       0.50      0.00      0.01       681\n",
            "\n",
            "    accuracy                           0.92      8750\n",
            "   macro avg       0.71      0.50      0.48      8750\n",
            "weighted avg       0.89      0.92      0.89      8750\n",
            "\n"
          ]
        }
      ],
      "source": [
        "gbc = GradientBoostingClassifier(random_state=2179)\n",
        "gbc.fit(X_tr, y_tr)\n",
        "print(classification_report(y_val, gbc.predict(X_val)))"
      ]
    },
    {
      "cell_type": "markdown",
      "metadata": {
        "id": "px_DQazBZ7OT"
      },
      "source": [
        "# Тест"
      ]
    },
    {
      "cell_type": "code",
      "execution_count": null,
      "metadata": {
        "id": "gDbALCZm8QIG"
      },
      "outputs": [],
      "source": [
        "def write_to_submission_file(predicted_labels, out_file,\n",
        "                             target='target', index_label=\"session_id\"):\n",
        "    # turn predictions into data frame and save as csv file\n",
        "    predicted_df = pd.DataFrame(predicted_labels,\n",
        "                                index = np.arange(1, predicted_labels.shape[0] + 1),\n",
        "                                columns=[target])\n",
        "    predicted_df.to_csv(out_file, index_label=index_label)"
      ]
    },
    {
      "cell_type": "code",
      "execution_count": null,
      "metadata": {
        "id": "Uxuvdn5v8QIG",
        "outputId": "7e3580b1-e4fa-4a3f-a9a4-f078ee3e0554"
      },
      "outputs": [
        {
          "data": {
            "text/html": [
              "<div>\n",
              "<style scoped>\n",
              "    .dataframe tbody tr th:only-of-type {\n",
              "        vertical-align: middle;\n",
              "    }\n",
              "\n",
              "    .dataframe tbody tr th {\n",
              "        vertical-align: top;\n",
              "    }\n",
              "\n",
              "    .dataframe thead th {\n",
              "        text-align: right;\n",
              "    }\n",
              "</style>\n",
              "<table border=\"1\" class=\"dataframe\">\n",
              "  <thead>\n",
              "    <tr style=\"text-align: right;\">\n",
              "      <th></th>\n",
              "      <th>Var1</th>\n",
              "      <th>Var2</th>\n",
              "      <th>Var3</th>\n",
              "      <th>Var4</th>\n",
              "      <th>Var5</th>\n",
              "      <th>Var6</th>\n",
              "      <th>Var7</th>\n",
              "      <th>Var8</th>\n",
              "      <th>Var9</th>\n",
              "      <th>Var10</th>\n",
              "      <th>...</th>\n",
              "      <th>Var221</th>\n",
              "      <th>Var222</th>\n",
              "      <th>Var223</th>\n",
              "      <th>Var224</th>\n",
              "      <th>Var225</th>\n",
              "      <th>Var226</th>\n",
              "      <th>Var227</th>\n",
              "      <th>Var228</th>\n",
              "      <th>Var229</th>\n",
              "      <th>Var230</th>\n",
              "    </tr>\n",
              "    <tr>\n",
              "      <th>ID</th>\n",
              "      <th></th>\n",
              "      <th></th>\n",
              "      <th></th>\n",
              "      <th></th>\n",
              "      <th></th>\n",
              "      <th></th>\n",
              "      <th></th>\n",
              "      <th></th>\n",
              "      <th></th>\n",
              "      <th></th>\n",
              "      <th></th>\n",
              "      <th></th>\n",
              "      <th></th>\n",
              "      <th></th>\n",
              "      <th></th>\n",
              "      <th></th>\n",
              "      <th></th>\n",
              "      <th></th>\n",
              "      <th></th>\n",
              "      <th></th>\n",
              "      <th></th>\n",
              "    </tr>\n",
              "  </thead>\n",
              "  <tbody>\n",
              "    <tr>\n",
              "      <th>0</th>\n",
              "      <td>NaN</td>\n",
              "      <td>NaN</td>\n",
              "      <td>NaN</td>\n",
              "      <td>NaN</td>\n",
              "      <td>NaN</td>\n",
              "      <td>1225.0</td>\n",
              "      <td>7.0</td>\n",
              "      <td>NaN</td>\n",
              "      <td>NaN</td>\n",
              "      <td>NaN</td>\n",
              "      <td>...</td>\n",
              "      <td>zCkv</td>\n",
              "      <td>APgdzOv</td>\n",
              "      <td>jySVZNlOJy</td>\n",
              "      <td>NaN</td>\n",
              "      <td>ELof</td>\n",
              "      <td>xb3V</td>\n",
              "      <td>6fzt</td>\n",
              "      <td>Zy3gnGM</td>\n",
              "      <td>NaN</td>\n",
              "      <td>NaN</td>\n",
              "    </tr>\n",
              "    <tr>\n",
              "      <th>1</th>\n",
              "      <td>NaN</td>\n",
              "      <td>NaN</td>\n",
              "      <td>NaN</td>\n",
              "      <td>NaN</td>\n",
              "      <td>NaN</td>\n",
              "      <td>896.0</td>\n",
              "      <td>14.0</td>\n",
              "      <td>NaN</td>\n",
              "      <td>NaN</td>\n",
              "      <td>NaN</td>\n",
              "      <td>...</td>\n",
              "      <td>oslk</td>\n",
              "      <td>IIvC99a</td>\n",
              "      <td>LM8l689qOp</td>\n",
              "      <td>NaN</td>\n",
              "      <td>NaN</td>\n",
              "      <td>xb3V</td>\n",
              "      <td>RAYp</td>\n",
              "      <td>F2FyR07IdsN7I</td>\n",
              "      <td>NaN</td>\n",
              "      <td>NaN</td>\n",
              "    </tr>\n",
              "    <tr>\n",
              "      <th>2</th>\n",
              "      <td>NaN</td>\n",
              "      <td>NaN</td>\n",
              "      <td>NaN</td>\n",
              "      <td>NaN</td>\n",
              "      <td>NaN</td>\n",
              "      <td>791.0</td>\n",
              "      <td>7.0</td>\n",
              "      <td>NaN</td>\n",
              "      <td>NaN</td>\n",
              "      <td>NaN</td>\n",
              "      <td>...</td>\n",
              "      <td>oslk</td>\n",
              "      <td>6YSocsg</td>\n",
              "      <td>LM8l689qOp</td>\n",
              "      <td>NaN</td>\n",
              "      <td>kG3k</td>\n",
              "      <td>rgKb</td>\n",
              "      <td>RAYp</td>\n",
              "      <td>F2FyR07IdsN7I</td>\n",
              "      <td>mj86</td>\n",
              "      <td>NaN</td>\n",
              "    </tr>\n",
              "    <tr>\n",
              "      <th>3</th>\n",
              "      <td>NaN</td>\n",
              "      <td>NaN</td>\n",
              "      <td>NaN</td>\n",
              "      <td>NaN</td>\n",
              "      <td>NaN</td>\n",
              "      <td>2296.0</td>\n",
              "      <td>7.0</td>\n",
              "      <td>NaN</td>\n",
              "      <td>NaN</td>\n",
              "      <td>NaN</td>\n",
              "      <td>...</td>\n",
              "      <td>oslk</td>\n",
              "      <td>5nQ7A2G</td>\n",
              "      <td>jySVZNlOJy</td>\n",
              "      <td>NaN</td>\n",
              "      <td>kG3k</td>\n",
              "      <td>rgKb</td>\n",
              "      <td>RAYp</td>\n",
              "      <td>F2FyR07IdsN7I</td>\n",
              "      <td>am7c</td>\n",
              "      <td>NaN</td>\n",
              "    </tr>\n",
              "    <tr>\n",
              "      <th>4</th>\n",
              "      <td>8.0</td>\n",
              "      <td>NaN</td>\n",
              "      <td>NaN</td>\n",
              "      <td>NaN</td>\n",
              "      <td>NaN</td>\n",
              "      <td>NaN</td>\n",
              "      <td>NaN</td>\n",
              "      <td>NaN</td>\n",
              "      <td>28.0</td>\n",
              "      <td>NaN</td>\n",
              "      <td>...</td>\n",
              "      <td>oslk</td>\n",
              "      <td>MI8s5nE</td>\n",
              "      <td>LM8l689qOp</td>\n",
              "      <td>NaN</td>\n",
              "      <td>NaN</td>\n",
              "      <td>7P5s</td>\n",
              "      <td>RAYp</td>\n",
              "      <td>F2FyR07IdsN7I</td>\n",
              "      <td>NaN</td>\n",
              "      <td>NaN</td>\n",
              "    </tr>\n",
              "    <tr>\n",
              "      <th>...</th>\n",
              "      <td>...</td>\n",
              "      <td>...</td>\n",
              "      <td>...</td>\n",
              "      <td>...</td>\n",
              "      <td>...</td>\n",
              "      <td>...</td>\n",
              "      <td>...</td>\n",
              "      <td>...</td>\n",
              "      <td>...</td>\n",
              "      <td>...</td>\n",
              "      <td>...</td>\n",
              "      <td>...</td>\n",
              "      <td>...</td>\n",
              "      <td>...</td>\n",
              "      <td>...</td>\n",
              "      <td>...</td>\n",
              "      <td>...</td>\n",
              "      <td>...</td>\n",
              "      <td>...</td>\n",
              "      <td>...</td>\n",
              "      <td>...</td>\n",
              "    </tr>\n",
              "    <tr>\n",
              "      <th>9995</th>\n",
              "      <td>NaN</td>\n",
              "      <td>NaN</td>\n",
              "      <td>NaN</td>\n",
              "      <td>NaN</td>\n",
              "      <td>NaN</td>\n",
              "      <td>714.0</td>\n",
              "      <td>7.0</td>\n",
              "      <td>NaN</td>\n",
              "      <td>NaN</td>\n",
              "      <td>NaN</td>\n",
              "      <td>...</td>\n",
              "      <td>zCkv</td>\n",
              "      <td>P6pu4Vl</td>\n",
              "      <td>LM8l689qOp</td>\n",
              "      <td>NaN</td>\n",
              "      <td>ELof</td>\n",
              "      <td>xb3V</td>\n",
              "      <td>ZI9m</td>\n",
              "      <td>R4y5gQQWY8OodqDV</td>\n",
              "      <td>am7c</td>\n",
              "      <td>NaN</td>\n",
              "    </tr>\n",
              "    <tr>\n",
              "      <th>9996</th>\n",
              "      <td>NaN</td>\n",
              "      <td>NaN</td>\n",
              "      <td>NaN</td>\n",
              "      <td>NaN</td>\n",
              "      <td>NaN</td>\n",
              "      <td>812.0</td>\n",
              "      <td>7.0</td>\n",
              "      <td>NaN</td>\n",
              "      <td>NaN</td>\n",
              "      <td>NaN</td>\n",
              "      <td>...</td>\n",
              "      <td>oslk</td>\n",
              "      <td>sXbT3Cb</td>\n",
              "      <td>LM8l689qOp</td>\n",
              "      <td>NaN</td>\n",
              "      <td>ELof</td>\n",
              "      <td>WqMG</td>\n",
              "      <td>RAYp</td>\n",
              "      <td>55YFVY9</td>\n",
              "      <td>mj86</td>\n",
              "      <td>NaN</td>\n",
              "    </tr>\n",
              "    <tr>\n",
              "      <th>9997</th>\n",
              "      <td>NaN</td>\n",
              "      <td>NaN</td>\n",
              "      <td>NaN</td>\n",
              "      <td>NaN</td>\n",
              "      <td>NaN</td>\n",
              "      <td>819.0</td>\n",
              "      <td>7.0</td>\n",
              "      <td>NaN</td>\n",
              "      <td>NaN</td>\n",
              "      <td>NaN</td>\n",
              "      <td>...</td>\n",
              "      <td>oslk</td>\n",
              "      <td>05jAV0N</td>\n",
              "      <td>M_8D</td>\n",
              "      <td>NaN</td>\n",
              "      <td>ELof</td>\n",
              "      <td>TNEC</td>\n",
              "      <td>RAYp</td>\n",
              "      <td>55YFVY9</td>\n",
              "      <td>am7c</td>\n",
              "      <td>NaN</td>\n",
              "    </tr>\n",
              "    <tr>\n",
              "      <th>9998</th>\n",
              "      <td>NaN</td>\n",
              "      <td>NaN</td>\n",
              "      <td>NaN</td>\n",
              "      <td>NaN</td>\n",
              "      <td>NaN</td>\n",
              "      <td>NaN</td>\n",
              "      <td>7.0</td>\n",
              "      <td>NaN</td>\n",
              "      <td>NaN</td>\n",
              "      <td>NaN</td>\n",
              "      <td>...</td>\n",
              "      <td>oslk</td>\n",
              "      <td>RDY7kpB</td>\n",
              "      <td>LM8l689qOp</td>\n",
              "      <td>NaN</td>\n",
              "      <td>NaN</td>\n",
              "      <td>uWr3</td>\n",
              "      <td>RAYp</td>\n",
              "      <td>55YFVY9</td>\n",
              "      <td>NaN</td>\n",
              "      <td>NaN</td>\n",
              "    </tr>\n",
              "    <tr>\n",
              "      <th>9999</th>\n",
              "      <td>NaN</td>\n",
              "      <td>NaN</td>\n",
              "      <td>NaN</td>\n",
              "      <td>NaN</td>\n",
              "      <td>NaN</td>\n",
              "      <td>868.0</td>\n",
              "      <td>14.0</td>\n",
              "      <td>NaN</td>\n",
              "      <td>NaN</td>\n",
              "      <td>NaN</td>\n",
              "      <td>...</td>\n",
              "      <td>oslk</td>\n",
              "      <td>gsLzpoz</td>\n",
              "      <td>jySVZNlOJy</td>\n",
              "      <td>NaN</td>\n",
              "      <td>NaN</td>\n",
              "      <td>me1d</td>\n",
              "      <td>RAYp</td>\n",
              "      <td>F2FyR07IdsN7I</td>\n",
              "      <td>mj86</td>\n",
              "      <td>NaN</td>\n",
              "    </tr>\n",
              "  </tbody>\n",
              "</table>\n",
              "<p>10000 rows × 230 columns</p>\n",
              "</div>"
            ],
            "text/plain": [
              "      Var1  Var2  Var3  Var4  Var5    Var6  Var7  Var8  Var9  Var10  ...  \\\n",
              "ID                                                                   ...   \n",
              "0      NaN   NaN   NaN   NaN   NaN  1225.0   7.0   NaN   NaN    NaN  ...   \n",
              "1      NaN   NaN   NaN   NaN   NaN   896.0  14.0   NaN   NaN    NaN  ...   \n",
              "2      NaN   NaN   NaN   NaN   NaN   791.0   7.0   NaN   NaN    NaN  ...   \n",
              "3      NaN   NaN   NaN   NaN   NaN  2296.0   7.0   NaN   NaN    NaN  ...   \n",
              "4      8.0   NaN   NaN   NaN   NaN     NaN   NaN   NaN  28.0    NaN  ...   \n",
              "...    ...   ...   ...   ...   ...     ...   ...   ...   ...    ...  ...   \n",
              "9995   NaN   NaN   NaN   NaN   NaN   714.0   7.0   NaN   NaN    NaN  ...   \n",
              "9996   NaN   NaN   NaN   NaN   NaN   812.0   7.0   NaN   NaN    NaN  ...   \n",
              "9997   NaN   NaN   NaN   NaN   NaN   819.0   7.0   NaN   NaN    NaN  ...   \n",
              "9998   NaN   NaN   NaN   NaN   NaN     NaN   7.0   NaN   NaN    NaN  ...   \n",
              "9999   NaN   NaN   NaN   NaN   NaN   868.0  14.0   NaN   NaN    NaN  ...   \n",
              "\n",
              "      Var221   Var222      Var223  Var224  Var225  Var226  Var227  \\\n",
              "ID                                                                  \n",
              "0       zCkv  APgdzOv  jySVZNlOJy     NaN    ELof    xb3V    6fzt   \n",
              "1       oslk  IIvC99a  LM8l689qOp     NaN     NaN    xb3V    RAYp   \n",
              "2       oslk  6YSocsg  LM8l689qOp     NaN    kG3k    rgKb    RAYp   \n",
              "3       oslk  5nQ7A2G  jySVZNlOJy     NaN    kG3k    rgKb    RAYp   \n",
              "4       oslk  MI8s5nE  LM8l689qOp     NaN     NaN    7P5s    RAYp   \n",
              "...      ...      ...         ...     ...     ...     ...     ...   \n",
              "9995    zCkv  P6pu4Vl  LM8l689qOp     NaN    ELof    xb3V    ZI9m   \n",
              "9996    oslk  sXbT3Cb  LM8l689qOp     NaN    ELof    WqMG    RAYp   \n",
              "9997    oslk  05jAV0N        M_8D     NaN    ELof    TNEC    RAYp   \n",
              "9998    oslk  RDY7kpB  LM8l689qOp     NaN     NaN    uWr3    RAYp   \n",
              "9999    oslk  gsLzpoz  jySVZNlOJy     NaN     NaN    me1d    RAYp   \n",
              "\n",
              "                Var228  Var229  Var230  \n",
              "ID                                      \n",
              "0              Zy3gnGM     NaN     NaN  \n",
              "1        F2FyR07IdsN7I     NaN     NaN  \n",
              "2        F2FyR07IdsN7I    mj86     NaN  \n",
              "3        F2FyR07IdsN7I    am7c     NaN  \n",
              "4        F2FyR07IdsN7I     NaN     NaN  \n",
              "...                ...     ...     ...  \n",
              "9995  R4y5gQQWY8OodqDV    am7c     NaN  \n",
              "9996           55YFVY9    mj86     NaN  \n",
              "9997           55YFVY9    am7c     NaN  \n",
              "9998           55YFVY9     NaN     NaN  \n",
              "9999     F2FyR07IdsN7I    mj86     NaN  \n",
              "\n",
              "[10000 rows x 230 columns]"
            ]
          },
          "execution_count": 217,
          "metadata": {},
          "output_type": "execute_result"
        }
      ],
      "source": [
        "df_test = pd.read_csv(os.path.join(PATH_TO_DATA, 'orange_small_churn_test_data.csv'), index_col=0)\n",
        "df_test"
      ]
    },
    {
      "cell_type": "code",
      "execution_count": null,
      "metadata": {
        "id": "KDNIeK688QIH"
      },
      "outputs": [],
      "source": [
        "df_test.drop(cols_nan, axis=1, inplace=True)"
      ]
    },
    {
      "cell_type": "code",
      "execution_count": null,
      "metadata": {
        "id": "9racjwu48QIH"
      },
      "outputs": [],
      "source": [
        "df_test = si.transform(df_test)\n",
        "df_test = pd.DataFrame(df_test, columns=cols)"
      ]
    },
    {
      "cell_type": "code",
      "execution_count": null,
      "metadata": {
        "id": "4Z9Mtuea8QIH",
        "outputId": "ec09580e-12e2-4bea-89ba-a837079dc806"
      },
      "outputs": [
        {
          "data": {
            "text/html": [
              "<div>\n",
              "<style scoped>\n",
              "    .dataframe tbody tr th:only-of-type {\n",
              "        vertical-align: middle;\n",
              "    }\n",
              "\n",
              "    .dataframe tbody tr th {\n",
              "        vertical-align: top;\n",
              "    }\n",
              "\n",
              "    .dataframe thead th {\n",
              "        text-align: right;\n",
              "    }\n",
              "</style>\n",
              "<table border=\"1\" class=\"dataframe\">\n",
              "  <thead>\n",
              "    <tr style=\"text-align: right;\">\n",
              "      <th></th>\n",
              "      <th>Var1</th>\n",
              "      <th>Var2</th>\n",
              "      <th>Var3</th>\n",
              "      <th>Var4</th>\n",
              "      <th>Var5</th>\n",
              "      <th>Var6</th>\n",
              "      <th>Var7</th>\n",
              "      <th>Var9</th>\n",
              "      <th>Var10</th>\n",
              "      <th>Var11</th>\n",
              "      <th>...</th>\n",
              "      <th>Var220</th>\n",
              "      <th>Var221</th>\n",
              "      <th>Var222</th>\n",
              "      <th>Var223</th>\n",
              "      <th>Var224</th>\n",
              "      <th>Var225</th>\n",
              "      <th>Var226</th>\n",
              "      <th>Var227</th>\n",
              "      <th>Var228</th>\n",
              "      <th>Var229</th>\n",
              "    </tr>\n",
              "  </thead>\n",
              "  <tbody>\n",
              "    <tr>\n",
              "      <th>0</th>\n",
              "      <td>0.0</td>\n",
              "      <td>0.0</td>\n",
              "      <td>0.0</td>\n",
              "      <td>0.0</td>\n",
              "      <td>0.0</td>\n",
              "      <td>1225.0</td>\n",
              "      <td>7.0</td>\n",
              "      <td>0.0</td>\n",
              "      <td>0.0</td>\n",
              "      <td>8.0</td>\n",
              "      <td>...</td>\n",
              "      <td>UF16siJ</td>\n",
              "      <td>zCkv</td>\n",
              "      <td>APgdzOv</td>\n",
              "      <td>jySVZNlOJy</td>\n",
              "      <td>4n2X</td>\n",
              "      <td>ELof</td>\n",
              "      <td>xb3V</td>\n",
              "      <td>6fzt</td>\n",
              "      <td>Zy3gnGM</td>\n",
              "      <td>am7c</td>\n",
              "    </tr>\n",
              "    <tr>\n",
              "      <th>1</th>\n",
              "      <td>0.0</td>\n",
              "      <td>0.0</td>\n",
              "      <td>0.0</td>\n",
              "      <td>0.0</td>\n",
              "      <td>0.0</td>\n",
              "      <td>896.0</td>\n",
              "      <td>14.0</td>\n",
              "      <td>0.0</td>\n",
              "      <td>0.0</td>\n",
              "      <td>8.0</td>\n",
              "      <td>...</td>\n",
              "      <td>ot6oLzk</td>\n",
              "      <td>oslk</td>\n",
              "      <td>IIvC99a</td>\n",
              "      <td>LM8l689qOp</td>\n",
              "      <td>4n2X</td>\n",
              "      <td>ELof</td>\n",
              "      <td>xb3V</td>\n",
              "      <td>RAYp</td>\n",
              "      <td>F2FyR07IdsN7I</td>\n",
              "      <td>am7c</td>\n",
              "    </tr>\n",
              "    <tr>\n",
              "      <th>2</th>\n",
              "      <td>0.0</td>\n",
              "      <td>0.0</td>\n",
              "      <td>0.0</td>\n",
              "      <td>0.0</td>\n",
              "      <td>0.0</td>\n",
              "      <td>791.0</td>\n",
              "      <td>7.0</td>\n",
              "      <td>0.0</td>\n",
              "      <td>0.0</td>\n",
              "      <td>8.0</td>\n",
              "      <td>...</td>\n",
              "      <td>6VLNqhB</td>\n",
              "      <td>oslk</td>\n",
              "      <td>6YSocsg</td>\n",
              "      <td>LM8l689qOp</td>\n",
              "      <td>4n2X</td>\n",
              "      <td>kG3k</td>\n",
              "      <td>rgKb</td>\n",
              "      <td>RAYp</td>\n",
              "      <td>F2FyR07IdsN7I</td>\n",
              "      <td>mj86</td>\n",
              "    </tr>\n",
              "    <tr>\n",
              "      <th>3</th>\n",
              "      <td>0.0</td>\n",
              "      <td>0.0</td>\n",
              "      <td>0.0</td>\n",
              "      <td>0.0</td>\n",
              "      <td>0.0</td>\n",
              "      <td>2296.0</td>\n",
              "      <td>7.0</td>\n",
              "      <td>0.0</td>\n",
              "      <td>0.0</td>\n",
              "      <td>8.0</td>\n",
              "      <td>...</td>\n",
              "      <td>tzp8jNM</td>\n",
              "      <td>oslk</td>\n",
              "      <td>5nQ7A2G</td>\n",
              "      <td>jySVZNlOJy</td>\n",
              "      <td>4n2X</td>\n",
              "      <td>kG3k</td>\n",
              "      <td>rgKb</td>\n",
              "      <td>RAYp</td>\n",
              "      <td>F2FyR07IdsN7I</td>\n",
              "      <td>am7c</td>\n",
              "    </tr>\n",
              "    <tr>\n",
              "      <th>4</th>\n",
              "      <td>8.0</td>\n",
              "      <td>0.0</td>\n",
              "      <td>0.0</td>\n",
              "      <td>0.0</td>\n",
              "      <td>0.0</td>\n",
              "      <td>0.0</td>\n",
              "      <td>7.0</td>\n",
              "      <td>28.0</td>\n",
              "      <td>0.0</td>\n",
              "      <td>8.0</td>\n",
              "      <td>...</td>\n",
              "      <td>EPImS85</td>\n",
              "      <td>oslk</td>\n",
              "      <td>MI8s5nE</td>\n",
              "      <td>LM8l689qOp</td>\n",
              "      <td>4n2X</td>\n",
              "      <td>ELof</td>\n",
              "      <td>7P5s</td>\n",
              "      <td>RAYp</td>\n",
              "      <td>F2FyR07IdsN7I</td>\n",
              "      <td>am7c</td>\n",
              "    </tr>\n",
              "    <tr>\n",
              "      <th>...</th>\n",
              "      <td>...</td>\n",
              "      <td>...</td>\n",
              "      <td>...</td>\n",
              "      <td>...</td>\n",
              "      <td>...</td>\n",
              "      <td>...</td>\n",
              "      <td>...</td>\n",
              "      <td>...</td>\n",
              "      <td>...</td>\n",
              "      <td>...</td>\n",
              "      <td>...</td>\n",
              "      <td>...</td>\n",
              "      <td>...</td>\n",
              "      <td>...</td>\n",
              "      <td>...</td>\n",
              "      <td>...</td>\n",
              "      <td>...</td>\n",
              "      <td>...</td>\n",
              "      <td>...</td>\n",
              "      <td>...</td>\n",
              "      <td>...</td>\n",
              "    </tr>\n",
              "    <tr>\n",
              "      <th>9995</th>\n",
              "      <td>0.0</td>\n",
              "      <td>0.0</td>\n",
              "      <td>0.0</td>\n",
              "      <td>0.0</td>\n",
              "      <td>0.0</td>\n",
              "      <td>714.0</td>\n",
              "      <td>7.0</td>\n",
              "      <td>0.0</td>\n",
              "      <td>0.0</td>\n",
              "      <td>8.0</td>\n",
              "      <td>...</td>\n",
              "      <td>ch2oGfM</td>\n",
              "      <td>zCkv</td>\n",
              "      <td>P6pu4Vl</td>\n",
              "      <td>LM8l689qOp</td>\n",
              "      <td>4n2X</td>\n",
              "      <td>ELof</td>\n",
              "      <td>xb3V</td>\n",
              "      <td>ZI9m</td>\n",
              "      <td>R4y5gQQWY8OodqDV</td>\n",
              "      <td>am7c</td>\n",
              "    </tr>\n",
              "    <tr>\n",
              "      <th>9996</th>\n",
              "      <td>0.0</td>\n",
              "      <td>0.0</td>\n",
              "      <td>0.0</td>\n",
              "      <td>0.0</td>\n",
              "      <td>0.0</td>\n",
              "      <td>812.0</td>\n",
              "      <td>7.0</td>\n",
              "      <td>0.0</td>\n",
              "      <td>0.0</td>\n",
              "      <td>8.0</td>\n",
              "      <td>...</td>\n",
              "      <td>8d5YWu3</td>\n",
              "      <td>oslk</td>\n",
              "      <td>sXbT3Cb</td>\n",
              "      <td>LM8l689qOp</td>\n",
              "      <td>4n2X</td>\n",
              "      <td>ELof</td>\n",
              "      <td>WqMG</td>\n",
              "      <td>RAYp</td>\n",
              "      <td>55YFVY9</td>\n",
              "      <td>mj86</td>\n",
              "    </tr>\n",
              "    <tr>\n",
              "      <th>9997</th>\n",
              "      <td>0.0</td>\n",
              "      <td>0.0</td>\n",
              "      <td>0.0</td>\n",
              "      <td>0.0</td>\n",
              "      <td>0.0</td>\n",
              "      <td>819.0</td>\n",
              "      <td>7.0</td>\n",
              "      <td>0.0</td>\n",
              "      <td>0.0</td>\n",
              "      <td>8.0</td>\n",
              "      <td>...</td>\n",
              "      <td>WdPoLzk</td>\n",
              "      <td>oslk</td>\n",
              "      <td>05jAV0N</td>\n",
              "      <td>M_8D</td>\n",
              "      <td>4n2X</td>\n",
              "      <td>ELof</td>\n",
              "      <td>TNEC</td>\n",
              "      <td>RAYp</td>\n",
              "      <td>55YFVY9</td>\n",
              "      <td>am7c</td>\n",
              "    </tr>\n",
              "    <tr>\n",
              "      <th>9998</th>\n",
              "      <td>0.0</td>\n",
              "      <td>0.0</td>\n",
              "      <td>0.0</td>\n",
              "      <td>0.0</td>\n",
              "      <td>0.0</td>\n",
              "      <td>0.0</td>\n",
              "      <td>7.0</td>\n",
              "      <td>0.0</td>\n",
              "      <td>0.0</td>\n",
              "      <td>8.0</td>\n",
              "      <td>...</td>\n",
              "      <td>EMvv4zN</td>\n",
              "      <td>oslk</td>\n",
              "      <td>RDY7kpB</td>\n",
              "      <td>LM8l689qOp</td>\n",
              "      <td>4n2X</td>\n",
              "      <td>ELof</td>\n",
              "      <td>uWr3</td>\n",
              "      <td>RAYp</td>\n",
              "      <td>55YFVY9</td>\n",
              "      <td>am7c</td>\n",
              "    </tr>\n",
              "    <tr>\n",
              "      <th>9999</th>\n",
              "      <td>0.0</td>\n",
              "      <td>0.0</td>\n",
              "      <td>0.0</td>\n",
              "      <td>0.0</td>\n",
              "      <td>0.0</td>\n",
              "      <td>868.0</td>\n",
              "      <td>14.0</td>\n",
              "      <td>0.0</td>\n",
              "      <td>0.0</td>\n",
              "      <td>8.0</td>\n",
              "      <td>...</td>\n",
              "      <td>bDIDFjT</td>\n",
              "      <td>oslk</td>\n",
              "      <td>gsLzpoz</td>\n",
              "      <td>jySVZNlOJy</td>\n",
              "      <td>4n2X</td>\n",
              "      <td>ELof</td>\n",
              "      <td>me1d</td>\n",
              "      <td>RAYp</td>\n",
              "      <td>F2FyR07IdsN7I</td>\n",
              "      <td>mj86</td>\n",
              "    </tr>\n",
              "  </tbody>\n",
              "</table>\n",
              "<p>10000 rows × 212 columns</p>\n",
              "</div>"
            ],
            "text/plain": [
              "     Var1 Var2 Var3 Var4 Var5    Var6  Var7  Var9 Var10 Var11  ...   Var220  \\\n",
              "0     0.0  0.0  0.0  0.0  0.0  1225.0   7.0   0.0   0.0   8.0  ...  UF16siJ   \n",
              "1     0.0  0.0  0.0  0.0  0.0   896.0  14.0   0.0   0.0   8.0  ...  ot6oLzk   \n",
              "2     0.0  0.0  0.0  0.0  0.0   791.0   7.0   0.0   0.0   8.0  ...  6VLNqhB   \n",
              "3     0.0  0.0  0.0  0.0  0.0  2296.0   7.0   0.0   0.0   8.0  ...  tzp8jNM   \n",
              "4     8.0  0.0  0.0  0.0  0.0     0.0   7.0  28.0   0.0   8.0  ...  EPImS85   \n",
              "...   ...  ...  ...  ...  ...     ...   ...   ...   ...   ...  ...      ...   \n",
              "9995  0.0  0.0  0.0  0.0  0.0   714.0   7.0   0.0   0.0   8.0  ...  ch2oGfM   \n",
              "9996  0.0  0.0  0.0  0.0  0.0   812.0   7.0   0.0   0.0   8.0  ...  8d5YWu3   \n",
              "9997  0.0  0.0  0.0  0.0  0.0   819.0   7.0   0.0   0.0   8.0  ...  WdPoLzk   \n",
              "9998  0.0  0.0  0.0  0.0  0.0     0.0   7.0   0.0   0.0   8.0  ...  EMvv4zN   \n",
              "9999  0.0  0.0  0.0  0.0  0.0   868.0  14.0   0.0   0.0   8.0  ...  bDIDFjT   \n",
              "\n",
              "     Var221   Var222      Var223 Var224 Var225 Var226 Var227  \\\n",
              "0      zCkv  APgdzOv  jySVZNlOJy   4n2X   ELof   xb3V   6fzt   \n",
              "1      oslk  IIvC99a  LM8l689qOp   4n2X   ELof   xb3V   RAYp   \n",
              "2      oslk  6YSocsg  LM8l689qOp   4n2X   kG3k   rgKb   RAYp   \n",
              "3      oslk  5nQ7A2G  jySVZNlOJy   4n2X   kG3k   rgKb   RAYp   \n",
              "4      oslk  MI8s5nE  LM8l689qOp   4n2X   ELof   7P5s   RAYp   \n",
              "...     ...      ...         ...    ...    ...    ...    ...   \n",
              "9995   zCkv  P6pu4Vl  LM8l689qOp   4n2X   ELof   xb3V   ZI9m   \n",
              "9996   oslk  sXbT3Cb  LM8l689qOp   4n2X   ELof   WqMG   RAYp   \n",
              "9997   oslk  05jAV0N        M_8D   4n2X   ELof   TNEC   RAYp   \n",
              "9998   oslk  RDY7kpB  LM8l689qOp   4n2X   ELof   uWr3   RAYp   \n",
              "9999   oslk  gsLzpoz  jySVZNlOJy   4n2X   ELof   me1d   RAYp   \n",
              "\n",
              "                Var228 Var229  \n",
              "0              Zy3gnGM   am7c  \n",
              "1        F2FyR07IdsN7I   am7c  \n",
              "2        F2FyR07IdsN7I   mj86  \n",
              "3        F2FyR07IdsN7I   am7c  \n",
              "4        F2FyR07IdsN7I   am7c  \n",
              "...                ...    ...  \n",
              "9995  R4y5gQQWY8OodqDV   am7c  \n",
              "9996           55YFVY9   mj86  \n",
              "9997           55YFVY9   am7c  \n",
              "9998           55YFVY9   am7c  \n",
              "9999     F2FyR07IdsN7I   mj86  \n",
              "\n",
              "[10000 rows x 212 columns]"
            ]
          },
          "execution_count": 220,
          "metadata": {},
          "output_type": "execute_result"
        }
      ],
      "source": [
        "df_test"
      ]
    },
    {
      "cell_type": "code",
      "execution_count": null,
      "metadata": {
        "id": "OiPFFOfX8QIH",
        "outputId": "e5a42e47-3d3d-479b-a330-9c841fa230f7"
      },
      "outputs": [
        {
          "data": {
            "text/html": [
              "<div>\n",
              "<style scoped>\n",
              "    .dataframe tbody tr th:only-of-type {\n",
              "        vertical-align: middle;\n",
              "    }\n",
              "\n",
              "    .dataframe tbody tr th {\n",
              "        vertical-align: top;\n",
              "    }\n",
              "\n",
              "    .dataframe thead th {\n",
              "        text-align: right;\n",
              "    }\n",
              "</style>\n",
              "<table border=\"1\" class=\"dataframe\">\n",
              "  <thead>\n",
              "    <tr style=\"text-align: right;\">\n",
              "      <th></th>\n",
              "      <th>Var1</th>\n",
              "      <th>Var2</th>\n",
              "      <th>Var3</th>\n",
              "      <th>Var4</th>\n",
              "      <th>Var5</th>\n",
              "      <th>Var6</th>\n",
              "      <th>Var7</th>\n",
              "      <th>Var9</th>\n",
              "      <th>Var10</th>\n",
              "      <th>Var11</th>\n",
              "      <th>...</th>\n",
              "      <th>Var220</th>\n",
              "      <th>Var221</th>\n",
              "      <th>Var222</th>\n",
              "      <th>Var223</th>\n",
              "      <th>Var224</th>\n",
              "      <th>Var225</th>\n",
              "      <th>Var226</th>\n",
              "      <th>Var227</th>\n",
              "      <th>Var228</th>\n",
              "      <th>Var229</th>\n",
              "    </tr>\n",
              "  </thead>\n",
              "  <tbody>\n",
              "    <tr>\n",
              "      <th>0</th>\n",
              "      <td>0.0</td>\n",
              "      <td>0.0</td>\n",
              "      <td>0.0</td>\n",
              "      <td>0.0</td>\n",
              "      <td>171.0</td>\n",
              "      <td>0.0</td>\n",
              "      <td>1.0</td>\n",
              "      <td>0.0</td>\n",
              "      <td>134.0</td>\n",
              "      <td>0.0</td>\n",
              "      <td>...</td>\n",
              "      <td>2606.0</td>\n",
              "      <td>4.0</td>\n",
              "      <td>1781.0</td>\n",
              "      <td>0.0</td>\n",
              "      <td>0.0</td>\n",
              "      <td>0.0</td>\n",
              "      <td>19.0</td>\n",
              "      <td>2.0</td>\n",
              "      <td>7.0</td>\n",
              "      <td>0.0</td>\n",
              "    </tr>\n",
              "    <tr>\n",
              "      <th>1</th>\n",
              "      <td>0.0</td>\n",
              "      <td>0.0</td>\n",
              "      <td>0.0</td>\n",
              "      <td>0.0</td>\n",
              "      <td>0.0</td>\n",
              "      <td>73.0</td>\n",
              "      <td>0.0</td>\n",
              "      <td>0.0</td>\n",
              "      <td>0.0</td>\n",
              "      <td>0.0</td>\n",
              "      <td>...</td>\n",
              "      <td>3251.0</td>\n",
              "      <td>3.0</td>\n",
              "      <td>2892.0</td>\n",
              "      <td>0.0</td>\n",
              "      <td>0.0</td>\n",
              "      <td>0.0</td>\n",
              "      <td>13.0</td>\n",
              "      <td>4.0</td>\n",
              "      <td>7.0</td>\n",
              "      <td>0.0</td>\n",
              "    </tr>\n",
              "    <tr>\n",
              "      <th>2</th>\n",
              "      <td>0.0</td>\n",
              "      <td>0.0</td>\n",
              "      <td>0.0</td>\n",
              "      <td>0.0</td>\n",
              "      <td>0.0</td>\n",
              "      <td>122.0</td>\n",
              "      <td>1.0</td>\n",
              "      <td>0.0</td>\n",
              "      <td>0.0</td>\n",
              "      <td>0.0</td>\n",
              "      <td>...</td>\n",
              "      <td>3342.0</td>\n",
              "      <td>4.0</td>\n",
              "      <td>1023.0</td>\n",
              "      <td>0.0</td>\n",
              "      <td>0.0</td>\n",
              "      <td>0.0</td>\n",
              "      <td>9.0</td>\n",
              "      <td>2.0</td>\n",
              "      <td>7.0</td>\n",
              "      <td>0.0</td>\n",
              "    </tr>\n",
              "    <tr>\n",
              "      <th>3</th>\n",
              "      <td>0.0</td>\n",
              "      <td>0.0</td>\n",
              "      <td>0.0</td>\n",
              "      <td>0.0</td>\n",
              "      <td>0.0</td>\n",
              "      <td>9.0</td>\n",
              "      <td>0.0</td>\n",
              "      <td>0.0</td>\n",
              "      <td>0.0</td>\n",
              "      <td>0.0</td>\n",
              "      <td>...</td>\n",
              "      <td>3561.0</td>\n",
              "      <td>4.0</td>\n",
              "      <td>1354.0</td>\n",
              "      <td>3.0</td>\n",
              "      <td>0.0</td>\n",
              "      <td>1.0</td>\n",
              "      <td>12.0</td>\n",
              "      <td>2.0</td>\n",
              "      <td>2.0</td>\n",
              "      <td>1.0</td>\n",
              "    </tr>\n",
              "    <tr>\n",
              "      <th>4</th>\n",
              "      <td>0.0</td>\n",
              "      <td>0.0</td>\n",
              "      <td>0.0</td>\n",
              "      <td>0.0</td>\n",
              "      <td>0.0</td>\n",
              "      <td>0.0</td>\n",
              "      <td>1.0</td>\n",
              "      <td>6.0</td>\n",
              "      <td>0.0</td>\n",
              "      <td>0.0</td>\n",
              "      <td>...</td>\n",
              "      <td>2949.0</td>\n",
              "      <td>4.0</td>\n",
              "      <td>3407.0</td>\n",
              "      <td>0.0</td>\n",
              "      <td>0.0</td>\n",
              "      <td>0.0</td>\n",
              "      <td>7.0</td>\n",
              "      <td>2.0</td>\n",
              "      <td>7.0</td>\n",
              "      <td>0.0</td>\n",
              "    </tr>\n",
              "    <tr>\n",
              "      <th>...</th>\n",
              "      <td>...</td>\n",
              "      <td>...</td>\n",
              "      <td>...</td>\n",
              "      <td>...</td>\n",
              "      <td>...</td>\n",
              "      <td>...</td>\n",
              "      <td>...</td>\n",
              "      <td>...</td>\n",
              "      <td>...</td>\n",
              "      <td>...</td>\n",
              "      <td>...</td>\n",
              "      <td>...</td>\n",
              "      <td>...</td>\n",
              "      <td>...</td>\n",
              "      <td>...</td>\n",
              "      <td>...</td>\n",
              "      <td>...</td>\n",
              "      <td>...</td>\n",
              "      <td>...</td>\n",
              "      <td>...</td>\n",
              "      <td>...</td>\n",
              "    </tr>\n",
              "    <tr>\n",
              "      <th>34995</th>\n",
              "      <td>0.0</td>\n",
              "      <td>0.0</td>\n",
              "      <td>0.0</td>\n",
              "      <td>0.0</td>\n",
              "      <td>0.0</td>\n",
              "      <td>148.0</td>\n",
              "      <td>1.0</td>\n",
              "      <td>0.0</td>\n",
              "      <td>0.0</td>\n",
              "      <td>0.0</td>\n",
              "      <td>...</td>\n",
              "      <td>310.0</td>\n",
              "      <td>6.0</td>\n",
              "      <td>2336.0</td>\n",
              "      <td>0.0</td>\n",
              "      <td>0.0</td>\n",
              "      <td>0.0</td>\n",
              "      <td>9.0</td>\n",
              "      <td>3.0</td>\n",
              "      <td>13.0</td>\n",
              "      <td>0.0</td>\n",
              "    </tr>\n",
              "    <tr>\n",
              "      <th>34996</th>\n",
              "      <td>0.0</td>\n",
              "      <td>0.0</td>\n",
              "      <td>0.0</td>\n",
              "      <td>0.0</td>\n",
              "      <td>0.0</td>\n",
              "      <td>219.0</td>\n",
              "      <td>1.0</td>\n",
              "      <td>0.0</td>\n",
              "      <td>0.0</td>\n",
              "      <td>0.0</td>\n",
              "      <td>...</td>\n",
              "      <td>2003.0</td>\n",
              "      <td>4.0</td>\n",
              "      <td>227.0</td>\n",
              "      <td>0.0</td>\n",
              "      <td>0.0</td>\n",
              "      <td>0.0</td>\n",
              "      <td>7.0</td>\n",
              "      <td>2.0</td>\n",
              "      <td>7.0</td>\n",
              "      <td>0.0</td>\n",
              "    </tr>\n",
              "    <tr>\n",
              "      <th>34997</th>\n",
              "      <td>0.0</td>\n",
              "      <td>0.0</td>\n",
              "      <td>0.0</td>\n",
              "      <td>0.0</td>\n",
              "      <td>0.0</td>\n",
              "      <td>9.0</td>\n",
              "      <td>0.0</td>\n",
              "      <td>0.0</td>\n",
              "      <td>0.0</td>\n",
              "      <td>0.0</td>\n",
              "      <td>...</td>\n",
              "      <td>2379.0</td>\n",
              "      <td>4.0</td>\n",
              "      <td>1196.0</td>\n",
              "      <td>0.0</td>\n",
              "      <td>0.0</td>\n",
              "      <td>0.0</td>\n",
              "      <td>10.0</td>\n",
              "      <td>2.0</td>\n",
              "      <td>7.0</td>\n",
              "      <td>0.0</td>\n",
              "    </tr>\n",
              "    <tr>\n",
              "      <th>34998</th>\n",
              "      <td>0.0</td>\n",
              "      <td>0.0</td>\n",
              "      <td>0.0</td>\n",
              "      <td>0.0</td>\n",
              "      <td>0.0</td>\n",
              "      <td>111.0</td>\n",
              "      <td>1.0</td>\n",
              "      <td>0.0</td>\n",
              "      <td>0.0</td>\n",
              "      <td>0.0</td>\n",
              "      <td>...</td>\n",
              "      <td>310.0</td>\n",
              "      <td>2.0</td>\n",
              "      <td>2336.0</td>\n",
              "      <td>3.0</td>\n",
              "      <td>0.0</td>\n",
              "      <td>0.0</td>\n",
              "      <td>10.0</td>\n",
              "      <td>3.0</td>\n",
              "      <td>9.0</td>\n",
              "      <td>1.0</td>\n",
              "    </tr>\n",
              "    <tr>\n",
              "      <th>34999</th>\n",
              "      <td>0.0</td>\n",
              "      <td>0.0</td>\n",
              "      <td>0.0</td>\n",
              "      <td>0.0</td>\n",
              "      <td>0.0</td>\n",
              "      <td>3.0</td>\n",
              "      <td>0.0</td>\n",
              "      <td>0.0</td>\n",
              "      <td>0.0</td>\n",
              "      <td>0.0</td>\n",
              "      <td>...</td>\n",
              "      <td>643.0</td>\n",
              "      <td>4.0</td>\n",
              "      <td>451.0</td>\n",
              "      <td>0.0</td>\n",
              "      <td>0.0</td>\n",
              "      <td>0.0</td>\n",
              "      <td>12.0</td>\n",
              "      <td>2.0</td>\n",
              "      <td>7.0</td>\n",
              "      <td>0.0</td>\n",
              "    </tr>\n",
              "  </tbody>\n",
              "</table>\n",
              "<p>35000 rows × 212 columns</p>\n",
              "</div>"
            ],
            "text/plain": [
              "       Var1  Var2  Var3  Var4   Var5   Var6  Var7  Var9  Var10  Var11  ...  \\\n",
              "0       0.0   0.0   0.0   0.0  171.0    0.0   1.0   0.0  134.0    0.0  ...   \n",
              "1       0.0   0.0   0.0   0.0    0.0   73.0   0.0   0.0    0.0    0.0  ...   \n",
              "2       0.0   0.0   0.0   0.0    0.0  122.0   1.0   0.0    0.0    0.0  ...   \n",
              "3       0.0   0.0   0.0   0.0    0.0    9.0   0.0   0.0    0.0    0.0  ...   \n",
              "4       0.0   0.0   0.0   0.0    0.0    0.0   1.0   6.0    0.0    0.0  ...   \n",
              "...     ...   ...   ...   ...    ...    ...   ...   ...    ...    ...  ...   \n",
              "34995   0.0   0.0   0.0   0.0    0.0  148.0   1.0   0.0    0.0    0.0  ...   \n",
              "34996   0.0   0.0   0.0   0.0    0.0  219.0   1.0   0.0    0.0    0.0  ...   \n",
              "34997   0.0   0.0   0.0   0.0    0.0    9.0   0.0   0.0    0.0    0.0  ...   \n",
              "34998   0.0   0.0   0.0   0.0    0.0  111.0   1.0   0.0    0.0    0.0  ...   \n",
              "34999   0.0   0.0   0.0   0.0    0.0    3.0   0.0   0.0    0.0    0.0  ...   \n",
              "\n",
              "       Var220  Var221  Var222  Var223  Var224  Var225  Var226  Var227  Var228  \\\n",
              "0      2606.0     4.0  1781.0     0.0     0.0     0.0    19.0     2.0     7.0   \n",
              "1      3251.0     3.0  2892.0     0.0     0.0     0.0    13.0     4.0     7.0   \n",
              "2      3342.0     4.0  1023.0     0.0     0.0     0.0     9.0     2.0     7.0   \n",
              "3      3561.0     4.0  1354.0     3.0     0.0     1.0    12.0     2.0     2.0   \n",
              "4      2949.0     4.0  3407.0     0.0     0.0     0.0     7.0     2.0     7.0   \n",
              "...       ...     ...     ...     ...     ...     ...     ...     ...     ...   \n",
              "34995   310.0     6.0  2336.0     0.0     0.0     0.0     9.0     3.0    13.0   \n",
              "34996  2003.0     4.0   227.0     0.0     0.0     0.0     7.0     2.0     7.0   \n",
              "34997  2379.0     4.0  1196.0     0.0     0.0     0.0    10.0     2.0     7.0   \n",
              "34998   310.0     2.0  2336.0     3.0     0.0     0.0    10.0     3.0     9.0   \n",
              "34999   643.0     4.0   451.0     0.0     0.0     0.0    12.0     2.0     7.0   \n",
              "\n",
              "       Var229  \n",
              "0         0.0  \n",
              "1         0.0  \n",
              "2         0.0  \n",
              "3         1.0  \n",
              "4         0.0  \n",
              "...       ...  \n",
              "34995     0.0  \n",
              "34996     0.0  \n",
              "34997     0.0  \n",
              "34998     1.0  \n",
              "34999     0.0  \n",
              "\n",
              "[35000 rows x 212 columns]"
            ]
          },
          "execution_count": 221,
          "metadata": {},
          "output_type": "execute_result"
        }
      ],
      "source": [
        "df_train_part"
      ]
    },
    {
      "cell_type": "code",
      "execution_count": null,
      "metadata": {
        "id": "XC3roLba8QIH"
      },
      "outputs": [],
      "source": [
        "tmp = oe.transform(df_test)\n",
        "tmp1 = pd.DataFrame(tmp, columns=cols)"
      ]
    },
    {
      "cell_type": "code",
      "execution_count": null,
      "metadata": {
        "id": "FfeI5x5E8QIH",
        "outputId": "c9408a23-3138-4bd2-d2f3-7f32fb7c3319"
      },
      "outputs": [
        {
          "data": {
            "text/html": [
              "<div>\n",
              "<style scoped>\n",
              "    .dataframe tbody tr th:only-of-type {\n",
              "        vertical-align: middle;\n",
              "    }\n",
              "\n",
              "    .dataframe tbody tr th {\n",
              "        vertical-align: top;\n",
              "    }\n",
              "\n",
              "    .dataframe thead th {\n",
              "        text-align: right;\n",
              "    }\n",
              "</style>\n",
              "<table border=\"1\" class=\"dataframe\">\n",
              "  <thead>\n",
              "    <tr style=\"text-align: right;\">\n",
              "      <th></th>\n",
              "      <th>Var1</th>\n",
              "      <th>Var2</th>\n",
              "      <th>Var3</th>\n",
              "      <th>Var4</th>\n",
              "      <th>Var5</th>\n",
              "      <th>Var6</th>\n",
              "      <th>Var7</th>\n",
              "      <th>Var9</th>\n",
              "      <th>Var10</th>\n",
              "      <th>Var11</th>\n",
              "      <th>...</th>\n",
              "      <th>Var220</th>\n",
              "      <th>Var221</th>\n",
              "      <th>Var222</th>\n",
              "      <th>Var223</th>\n",
              "      <th>Var224</th>\n",
              "      <th>Var225</th>\n",
              "      <th>Var226</th>\n",
              "      <th>Var227</th>\n",
              "      <th>Var228</th>\n",
              "      <th>Var229</th>\n",
              "    </tr>\n",
              "  </thead>\n",
              "  <tbody>\n",
              "    <tr>\n",
              "      <th>0</th>\n",
              "      <td>0.0</td>\n",
              "      <td>0.0</td>\n",
              "      <td>0.0</td>\n",
              "      <td>0.0</td>\n",
              "      <td>0.0</td>\n",
              "      <td>1225.0</td>\n",
              "      <td>-1.0</td>\n",
              "      <td>0.0</td>\n",
              "      <td>0.0</td>\n",
              "      <td>-1.0</td>\n",
              "      <td>...</td>\n",
              "      <td>-1.0</td>\n",
              "      <td>-1.0</td>\n",
              "      <td>-1.0</td>\n",
              "      <td>-1.0</td>\n",
              "      <td>-1.0</td>\n",
              "      <td>-1.0</td>\n",
              "      <td>-1.0</td>\n",
              "      <td>-1.0</td>\n",
              "      <td>-1.0</td>\n",
              "      <td>-1.0</td>\n",
              "    </tr>\n",
              "    <tr>\n",
              "      <th>1</th>\n",
              "      <td>0.0</td>\n",
              "      <td>0.0</td>\n",
              "      <td>0.0</td>\n",
              "      <td>0.0</td>\n",
              "      <td>0.0</td>\n",
              "      <td>896.0</td>\n",
              "      <td>-1.0</td>\n",
              "      <td>0.0</td>\n",
              "      <td>0.0</td>\n",
              "      <td>-1.0</td>\n",
              "      <td>...</td>\n",
              "      <td>-1.0</td>\n",
              "      <td>-1.0</td>\n",
              "      <td>-1.0</td>\n",
              "      <td>-1.0</td>\n",
              "      <td>-1.0</td>\n",
              "      <td>-1.0</td>\n",
              "      <td>-1.0</td>\n",
              "      <td>-1.0</td>\n",
              "      <td>-1.0</td>\n",
              "      <td>-1.0</td>\n",
              "    </tr>\n",
              "    <tr>\n",
              "      <th>2</th>\n",
              "      <td>0.0</td>\n",
              "      <td>0.0</td>\n",
              "      <td>0.0</td>\n",
              "      <td>0.0</td>\n",
              "      <td>0.0</td>\n",
              "      <td>791.0</td>\n",
              "      <td>-1.0</td>\n",
              "      <td>0.0</td>\n",
              "      <td>0.0</td>\n",
              "      <td>-1.0</td>\n",
              "      <td>...</td>\n",
              "      <td>-1.0</td>\n",
              "      <td>-1.0</td>\n",
              "      <td>-1.0</td>\n",
              "      <td>-1.0</td>\n",
              "      <td>-1.0</td>\n",
              "      <td>-1.0</td>\n",
              "      <td>-1.0</td>\n",
              "      <td>-1.0</td>\n",
              "      <td>-1.0</td>\n",
              "      <td>-1.0</td>\n",
              "    </tr>\n",
              "    <tr>\n",
              "      <th>3</th>\n",
              "      <td>0.0</td>\n",
              "      <td>0.0</td>\n",
              "      <td>0.0</td>\n",
              "      <td>0.0</td>\n",
              "      <td>0.0</td>\n",
              "      <td>-1.0</td>\n",
              "      <td>-1.0</td>\n",
              "      <td>0.0</td>\n",
              "      <td>0.0</td>\n",
              "      <td>-1.0</td>\n",
              "      <td>...</td>\n",
              "      <td>-1.0</td>\n",
              "      <td>-1.0</td>\n",
              "      <td>-1.0</td>\n",
              "      <td>-1.0</td>\n",
              "      <td>-1.0</td>\n",
              "      <td>-1.0</td>\n",
              "      <td>-1.0</td>\n",
              "      <td>-1.0</td>\n",
              "      <td>-1.0</td>\n",
              "      <td>-1.0</td>\n",
              "    </tr>\n",
              "    <tr>\n",
              "      <th>4</th>\n",
              "      <td>8.0</td>\n",
              "      <td>0.0</td>\n",
              "      <td>0.0</td>\n",
              "      <td>0.0</td>\n",
              "      <td>0.0</td>\n",
              "      <td>0.0</td>\n",
              "      <td>-1.0</td>\n",
              "      <td>28.0</td>\n",
              "      <td>0.0</td>\n",
              "      <td>-1.0</td>\n",
              "      <td>...</td>\n",
              "      <td>-1.0</td>\n",
              "      <td>-1.0</td>\n",
              "      <td>-1.0</td>\n",
              "      <td>-1.0</td>\n",
              "      <td>-1.0</td>\n",
              "      <td>-1.0</td>\n",
              "      <td>-1.0</td>\n",
              "      <td>-1.0</td>\n",
              "      <td>-1.0</td>\n",
              "      <td>-1.0</td>\n",
              "    </tr>\n",
              "    <tr>\n",
              "      <th>...</th>\n",
              "      <td>...</td>\n",
              "      <td>...</td>\n",
              "      <td>...</td>\n",
              "      <td>...</td>\n",
              "      <td>...</td>\n",
              "      <td>...</td>\n",
              "      <td>...</td>\n",
              "      <td>...</td>\n",
              "      <td>...</td>\n",
              "      <td>...</td>\n",
              "      <td>...</td>\n",
              "      <td>...</td>\n",
              "      <td>...</td>\n",
              "      <td>...</td>\n",
              "      <td>...</td>\n",
              "      <td>...</td>\n",
              "      <td>...</td>\n",
              "      <td>...</td>\n",
              "      <td>...</td>\n",
              "      <td>...</td>\n",
              "      <td>...</td>\n",
              "    </tr>\n",
              "    <tr>\n",
              "      <th>9995</th>\n",
              "      <td>0.0</td>\n",
              "      <td>0.0</td>\n",
              "      <td>0.0</td>\n",
              "      <td>0.0</td>\n",
              "      <td>0.0</td>\n",
              "      <td>714.0</td>\n",
              "      <td>-1.0</td>\n",
              "      <td>0.0</td>\n",
              "      <td>0.0</td>\n",
              "      <td>-1.0</td>\n",
              "      <td>...</td>\n",
              "      <td>-1.0</td>\n",
              "      <td>-1.0</td>\n",
              "      <td>-1.0</td>\n",
              "      <td>-1.0</td>\n",
              "      <td>-1.0</td>\n",
              "      <td>-1.0</td>\n",
              "      <td>-1.0</td>\n",
              "      <td>-1.0</td>\n",
              "      <td>-1.0</td>\n",
              "      <td>-1.0</td>\n",
              "    </tr>\n",
              "    <tr>\n",
              "      <th>9996</th>\n",
              "      <td>0.0</td>\n",
              "      <td>0.0</td>\n",
              "      <td>0.0</td>\n",
              "      <td>0.0</td>\n",
              "      <td>0.0</td>\n",
              "      <td>812.0</td>\n",
              "      <td>-1.0</td>\n",
              "      <td>0.0</td>\n",
              "      <td>0.0</td>\n",
              "      <td>-1.0</td>\n",
              "      <td>...</td>\n",
              "      <td>-1.0</td>\n",
              "      <td>-1.0</td>\n",
              "      <td>-1.0</td>\n",
              "      <td>-1.0</td>\n",
              "      <td>-1.0</td>\n",
              "      <td>-1.0</td>\n",
              "      <td>-1.0</td>\n",
              "      <td>-1.0</td>\n",
              "      <td>-1.0</td>\n",
              "      <td>-1.0</td>\n",
              "    </tr>\n",
              "    <tr>\n",
              "      <th>9997</th>\n",
              "      <td>0.0</td>\n",
              "      <td>0.0</td>\n",
              "      <td>0.0</td>\n",
              "      <td>0.0</td>\n",
              "      <td>0.0</td>\n",
              "      <td>819.0</td>\n",
              "      <td>-1.0</td>\n",
              "      <td>0.0</td>\n",
              "      <td>0.0</td>\n",
              "      <td>-1.0</td>\n",
              "      <td>...</td>\n",
              "      <td>-1.0</td>\n",
              "      <td>-1.0</td>\n",
              "      <td>-1.0</td>\n",
              "      <td>-1.0</td>\n",
              "      <td>-1.0</td>\n",
              "      <td>-1.0</td>\n",
              "      <td>-1.0</td>\n",
              "      <td>-1.0</td>\n",
              "      <td>-1.0</td>\n",
              "      <td>-1.0</td>\n",
              "    </tr>\n",
              "    <tr>\n",
              "      <th>9998</th>\n",
              "      <td>0.0</td>\n",
              "      <td>0.0</td>\n",
              "      <td>0.0</td>\n",
              "      <td>0.0</td>\n",
              "      <td>0.0</td>\n",
              "      <td>0.0</td>\n",
              "      <td>-1.0</td>\n",
              "      <td>0.0</td>\n",
              "      <td>0.0</td>\n",
              "      <td>-1.0</td>\n",
              "      <td>...</td>\n",
              "      <td>-1.0</td>\n",
              "      <td>-1.0</td>\n",
              "      <td>-1.0</td>\n",
              "      <td>-1.0</td>\n",
              "      <td>-1.0</td>\n",
              "      <td>-1.0</td>\n",
              "      <td>-1.0</td>\n",
              "      <td>-1.0</td>\n",
              "      <td>-1.0</td>\n",
              "      <td>-1.0</td>\n",
              "    </tr>\n",
              "    <tr>\n",
              "      <th>9999</th>\n",
              "      <td>0.0</td>\n",
              "      <td>0.0</td>\n",
              "      <td>0.0</td>\n",
              "      <td>0.0</td>\n",
              "      <td>0.0</td>\n",
              "      <td>868.0</td>\n",
              "      <td>-1.0</td>\n",
              "      <td>0.0</td>\n",
              "      <td>0.0</td>\n",
              "      <td>-1.0</td>\n",
              "      <td>...</td>\n",
              "      <td>-1.0</td>\n",
              "      <td>-1.0</td>\n",
              "      <td>-1.0</td>\n",
              "      <td>-1.0</td>\n",
              "      <td>-1.0</td>\n",
              "      <td>-1.0</td>\n",
              "      <td>-1.0</td>\n",
              "      <td>-1.0</td>\n",
              "      <td>-1.0</td>\n",
              "      <td>-1.0</td>\n",
              "    </tr>\n",
              "  </tbody>\n",
              "</table>\n",
              "<p>10000 rows × 212 columns</p>\n",
              "</div>"
            ],
            "text/plain": [
              "      Var1  Var2  Var3  Var4  Var5    Var6  Var7  Var9  Var10  Var11  ...  \\\n",
              "0      0.0   0.0   0.0   0.0   0.0  1225.0  -1.0   0.0    0.0   -1.0  ...   \n",
              "1      0.0   0.0   0.0   0.0   0.0   896.0  -1.0   0.0    0.0   -1.0  ...   \n",
              "2      0.0   0.0   0.0   0.0   0.0   791.0  -1.0   0.0    0.0   -1.0  ...   \n",
              "3      0.0   0.0   0.0   0.0   0.0    -1.0  -1.0   0.0    0.0   -1.0  ...   \n",
              "4      8.0   0.0   0.0   0.0   0.0     0.0  -1.0  28.0    0.0   -1.0  ...   \n",
              "...    ...   ...   ...   ...   ...     ...   ...   ...    ...    ...  ...   \n",
              "9995   0.0   0.0   0.0   0.0   0.0   714.0  -1.0   0.0    0.0   -1.0  ...   \n",
              "9996   0.0   0.0   0.0   0.0   0.0   812.0  -1.0   0.0    0.0   -1.0  ...   \n",
              "9997   0.0   0.0   0.0   0.0   0.0   819.0  -1.0   0.0    0.0   -1.0  ...   \n",
              "9998   0.0   0.0   0.0   0.0   0.0     0.0  -1.0   0.0    0.0   -1.0  ...   \n",
              "9999   0.0   0.0   0.0   0.0   0.0   868.0  -1.0   0.0    0.0   -1.0  ...   \n",
              "\n",
              "      Var220  Var221  Var222  Var223  Var224  Var225  Var226  Var227  Var228  \\\n",
              "0       -1.0    -1.0    -1.0    -1.0    -1.0    -1.0    -1.0    -1.0    -1.0   \n",
              "1       -1.0    -1.0    -1.0    -1.0    -1.0    -1.0    -1.0    -1.0    -1.0   \n",
              "2       -1.0    -1.0    -1.0    -1.0    -1.0    -1.0    -1.0    -1.0    -1.0   \n",
              "3       -1.0    -1.0    -1.0    -1.0    -1.0    -1.0    -1.0    -1.0    -1.0   \n",
              "4       -1.0    -1.0    -1.0    -1.0    -1.0    -1.0    -1.0    -1.0    -1.0   \n",
              "...      ...     ...     ...     ...     ...     ...     ...     ...     ...   \n",
              "9995    -1.0    -1.0    -1.0    -1.0    -1.0    -1.0    -1.0    -1.0    -1.0   \n",
              "9996    -1.0    -1.0    -1.0    -1.0    -1.0    -1.0    -1.0    -1.0    -1.0   \n",
              "9997    -1.0    -1.0    -1.0    -1.0    -1.0    -1.0    -1.0    -1.0    -1.0   \n",
              "9998    -1.0    -1.0    -1.0    -1.0    -1.0    -1.0    -1.0    -1.0    -1.0   \n",
              "9999    -1.0    -1.0    -1.0    -1.0    -1.0    -1.0    -1.0    -1.0    -1.0   \n",
              "\n",
              "      Var229  \n",
              "0       -1.0  \n",
              "1       -1.0  \n",
              "2       -1.0  \n",
              "3       -1.0  \n",
              "4       -1.0  \n",
              "...      ...  \n",
              "9995    -1.0  \n",
              "9996    -1.0  \n",
              "9997    -1.0  \n",
              "9998    -1.0  \n",
              "9999    -1.0  \n",
              "\n",
              "[10000 rows x 212 columns]"
            ]
          },
          "execution_count": 223,
          "metadata": {},
          "output_type": "execute_result"
        }
      ],
      "source": [
        "tmp1"
      ]
    },
    {
      "cell_type": "code",
      "execution_count": null,
      "metadata": {
        "id": "_7zJxDd-8QIH"
      },
      "outputs": [],
      "source": [
        ""
      ]
    }
  ],
  "metadata": {
    "colab": {
      "name": "week_3.ipynb",
      "provenance": [],
      "include_colab_link": true
    },
    "kernelspec": {
      "display_name": "Python 3",
      "language": "python",
      "name": "python3"
    },
    "language_info": {
      "codemirror_mode": {
        "name": "ipython",
        "version": 3
      },
      "file_extension": ".py",
      "mimetype": "text/x-python",
      "name": "python",
      "nbconvert_exporter": "python",
      "pygments_lexer": "ipython3",
      "version": "3.8.8"
    }
  },
  "nbformat": 4,
  "nbformat_minor": 0
}