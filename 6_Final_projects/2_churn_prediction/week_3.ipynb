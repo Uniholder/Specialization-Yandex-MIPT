{
  "cells": [
    {
      "cell_type": "markdown",
      "metadata": {
        "id": "view-in-github",
        "colab_type": "text"
      },
      "source": [
        "<a href=\"https://colab.research.google.com/github/Uniholder/Specialization-Yandex-MIPT/blob/main/6_Final_projects/2_churn_prediction/week_3.ipynb\" target=\"_parent\"><img src=\"https://colab.research.google.com/assets/colab-badge.svg\" alt=\"Open In Colab\"/></a>"
      ]
    },
    {
      "cell_type": "code",
      "execution_count": 1,
      "metadata": {
        "id": "7sPiQKEqjFjL",
        "colab": {
          "base_uri": "https://localhost:8080/"
        },
        "outputId": "33a8d34b-7daa-4b3c-e4d7-5727a95e6de5"
      },
      "outputs": [
        {
          "output_type": "stream",
          "name": "stdout",
          "text": [
            "--2022-08-16 19:15:03--  https://stepik.org/media/attachments/lesson/90608/_847b6cd041836e8fa914243e83d898fb_orange_small_churn_data.train\n",
            "Resolving stepik.org (stepik.org)... 13.69.75.239\n",
            "Connecting to stepik.org (stepik.org)|13.69.75.239|:443... connected.\n",
            "HTTP request sent, awaiting response... 200 OK\n",
            "Length: 23722578 (23M) [application/octet-stream]\n",
            "Saving to: ‘data/orange_small_churn_data.train’\n",
            "\n",
            "data/orange_small_c 100%[===================>]  22.62M  13.4MB/s    in 1.7s    \n",
            "\n",
            "2022-08-16 19:15:06 (13.4 MB/s) - ‘data/orange_small_churn_data.train’ saved [23722578/23722578]\n",
            "\n",
            "--2022-08-16 19:15:06--  https://stepik.org/media/attachments/lesson/90608/_ce5e9e4280a8856218f1886f007de2a4_orange_small_churn_labels.train\n",
            "Resolving stepik.org (stepik.org)... 13.69.75.239\n",
            "Connecting to stepik.org (stepik.org)|13.69.75.239|:443... connected.\n",
            "HTTP request sent, awaiting response... 200 OK\n",
            "Length: 117024 (114K) [application/octet-stream]\n",
            "Saving to: ‘data/orange_small_churn_labels.train’\n",
            "\n",
            "data/orange_small_c 100%[===================>] 114.28K   547KB/s    in 0.2s    \n",
            "\n",
            "2022-08-16 19:15:07 (547 KB/s) - ‘data/orange_small_churn_labels.train’ saved [117024/117024]\n",
            "\n",
            "Downloading...\n",
            "From: https://drive.google.com/uc?id=1rW8ZBa870U3DHzERRfy1q777914JKPtA\n",
            "To: /content/data/orange_small_churn_test_data.csv\n",
            "100% 5.98M/5.98M [00:00<00:00, 51.9MB/s]\n"
          ]
        }
      ],
      "source": [
        "!mkdir data\n",
        "!wget -O data/orange_small_churn_data.train https://stepik.org/media/attachments/lesson/90608/_847b6cd041836e8fa914243e83d898fb_orange_small_churn_data.train\n",
        "!wget -O data/orange_small_churn_labels.train https://stepik.org/media/attachments/lesson/90608/_ce5e9e4280a8856218f1886f007de2a4_orange_small_churn_labels.train\n",
        "!gdown -O data/ 1rW8ZBa870U3DHzERRfy1q777914JKPtA"
      ]
    },
    {
      "cell_type": "markdown",
      "metadata": {
        "id": "MoE7Gt-kfhnG"
      },
      "source": [
        "# Входные данные"
      ]
    },
    {
      "cell_type": "code",
      "execution_count": 2,
      "metadata": {
        "id": "ujagJYeYa1SR"
      },
      "outputs": [],
      "source": [
        "import pandas as pd\n",
        "import os\n",
        "import numpy as np\n",
        "\n",
        "import warnings\n",
        "warnings.filterwarnings('ignore')\n",
        "\n",
        "from sklearn.model_selection import train_test_split\n",
        "from sklearn.preprocessing import OrdinalEncoder\n",
        "from sklearn.impute import SimpleImputer\n",
        "from sklearn.pipeline import Pipeline\n",
        "from sklearn.compose import ColumnTransformer\n",
        "\n",
        "PATH_TO_DATA = 'data'"
      ]
    },
    {
      "cell_type": "code",
      "execution_count": 3,
      "metadata": {
        "id": "iUvbXcAxa1SU",
        "colab": {
          "base_uri": "https://localhost:8080/"
        },
        "outputId": "982f68fa-40ae-42ae-81fd-b21cfeb8b223"
      },
      "outputs": [
        {
          "output_type": "execute_result",
          "data": {
            "text/plain": [
              "(40000, 230)"
            ]
          },
          "metadata": {},
          "execution_count": 3
        }
      ],
      "source": [
        "df_raw = pd.read_csv(os.path.join(PATH_TO_DATA, 'orange_small_churn_data.train'))\n",
        "labels = pd.read_csv(os.path.join(PATH_TO_DATA, 'orange_small_churn_labels.train'), header=None, squeeze=True)\n",
        "df_raw.shape"
      ]
    },
    {
      "cell_type": "code",
      "source": [
        "num_vars = df_raw.columns[:190]\n",
        "cat_vars = df_raw.columns[190:]\n",
        "na_vars = df_raw.columns[df_raw.isna().all()]\n",
        "\n",
        "nna_num_vars = list(set(num_vars) - set(na_vars))\n",
        "nna_cat_vars = list(set(cat_vars) - set(na_vars))"
      ],
      "metadata": {
        "id": "ZNrN8HL5fi8-"
      },
      "execution_count": 4,
      "outputs": []
    },
    {
      "cell_type": "code",
      "execution_count": 5,
      "metadata": {
        "colab": {
          "base_uri": "https://localhost:8080/"
        },
        "id": "elLHGzHka1Sg",
        "outputId": "3e0aca75-38e6-4255-fe07-69cd77cef065"
      },
      "outputs": [
        {
          "output_type": "execute_result",
          "data": {
            "text/plain": [
              "(40000, 213)"
            ]
          },
          "metadata": {},
          "execution_count": 5
        }
      ],
      "source": [
        "df_raw['target'] = labels\n",
        "df = df_raw.dropna(axis=1, how='all')\n",
        "df.shape"
      ]
    },
    {
      "cell_type": "markdown",
      "metadata": {
        "id": "glFkL2-G-QbE"
      },
      "source": [
        "Отделим hold-out dataset"
      ]
    },
    {
      "cell_type": "code",
      "execution_count": 6,
      "metadata": {
        "id": "DbQ1kOy_-QbI",
        "colab": {
          "base_uri": "https://localhost:8080/"
        },
        "outputId": "4e49bbae-e4b1-4ca3-ff27-90e685c3cb4a"
      },
      "outputs": [
        {
          "output_type": "execute_result",
          "data": {
            "text/plain": [
              "((35000, 213), (5000, 213))"
            ]
          },
          "metadata": {},
          "execution_count": 6
        }
      ],
      "source": [
        "df_train, df_ho = train_test_split(df, test_size=5000)\n",
        "df_train.shape, df_ho.shape"
      ]
    },
    {
      "cell_type": "code",
      "execution_count": null,
      "metadata": {
        "collapsed": true,
        "id": "tnagzubp-QbJ"
      },
      "outputs": [],
      "source": [
        "# df_ho.to_csv(os.path.join(PATH_TO_DATA, 'hold_out_dataset.csv'))"
      ]
    },
    {
      "cell_type": "markdown",
      "source": [
        "Preprocessing"
      ],
      "metadata": {
        "id": "oPQtvGGzuBBd"
      }
    },
    {
      "cell_type": "code",
      "execution_count": 7,
      "metadata": {
        "id": "h5ze86nDlyn7"
      },
      "outputs": [],
      "source": [
        "cols = df_train.drop('target', axis=1).columns"
      ]
    },
    {
      "cell_type": "code",
      "source": [
        "cat_encoder = ColumnTransformer(\n",
        "    transformers=[\n",
        "        (\"cat\", OrdinalEncoder(handle_unknown='use_encoded_value', unknown_value=-1), nna_cat_vars)\n",
        "    ], remainder='passthrough'\n",
        ")\n",
        "\n",
        "preprocessor = Pipeline([\n",
        "    ('imputer', SimpleImputer(strategy='most_frequent')),\n",
        "    ('cat_encoder', OrdinalEncoder(handle_unknown='use_encoded_value', unknown_value=-1))\n",
        "])"
      ],
      "metadata": {
        "id": "nUFdVpE4kPat"
      },
      "execution_count": 8,
      "outputs": []
    },
    {
      "cell_type": "code",
      "execution_count": 9,
      "metadata": {
        "id": "58Kz-c_cggu4",
        "outputId": "f80274ca-f273-4fc3-fffe-c62ed4b052bc",
        "colab": {
          "base_uri": "https://localhost:8080/"
        }
      },
      "outputs": [
        {
          "output_type": "stream",
          "name": "stdout",
          "text": [
            "CPU times: user 6.9 s, sys: 629 ms, total: 7.52 s\n",
            "Wall time: 7.56 s\n"
          ]
        }
      ],
      "source": [
        "%%time\n",
        "df_train_enc = pd.DataFrame(preprocessor.fit_transform(df_train[cols]), columns=cols)"
      ]
    },
    {
      "cell_type": "code",
      "source": [
        "df_train_enc"
      ],
      "metadata": {
        "id": "v9SziuMNqjMW",
        "outputId": "2625e54b-3ba9-406b-f045-d9c62e85483c",
        "colab": {
          "base_uri": "https://localhost:8080/",
          "height": 424
        }
      },
      "execution_count": 10,
      "outputs": [
        {
          "output_type": "execute_result",
          "data": {
            "text/plain": [
              "       Var1  Var2  Var3  Var4  Var5   Var6  Var7  Var9  Var10  Var11  ...  \\\n",
              "0       0.0   0.0   0.0   0.0   0.0  109.0   1.0   0.0    0.0    0.0  ...   \n",
              "1       0.0   0.0   0.0   0.0   0.0   10.0   0.0   0.0    0.0    0.0  ...   \n",
              "2       0.0   0.0   0.0   0.0   0.0  330.0   1.0   0.0    0.0    0.0  ...   \n",
              "3       0.0   0.0   0.0   0.0   0.0  241.0   1.0   0.0    0.0    0.0  ...   \n",
              "4       0.0   0.0   0.0   0.0   0.0  122.0   2.0   0.0    0.0    0.0  ...   \n",
              "...     ...   ...   ...   ...   ...    ...   ...   ...    ...    ...  ...   \n",
              "34995   0.0   0.0   0.0   0.0   0.0  427.0   2.0   0.0    0.0    0.0  ...   \n",
              "34996   0.0   0.0   0.0   0.0   0.0   23.0   0.0   0.0    0.0    0.0  ...   \n",
              "34997   0.0   0.0   0.0   0.0   0.0    0.0   1.0   0.0    0.0    0.0  ...   \n",
              "34998   0.0   0.0   0.0   0.0   0.0  118.0   2.0   0.0    0.0    0.0  ...   \n",
              "34999   0.0   0.0   0.0   0.0   0.0  159.0   1.0   0.0    0.0    0.0  ...   \n",
              "\n",
              "       Var220  Var221  Var222  Var223  Var224  Var225  Var226  Var227  Var228  \\\n",
              "0      1843.0     3.0  3098.0     0.0     0.0     0.0    14.0     4.0     8.0   \n",
              "1      1609.0     4.0  3447.0     0.0     0.0     0.0     7.0     2.0     8.0   \n",
              "2      1278.0     4.0  3562.0     0.0     0.0     0.0     0.0     2.0     8.0   \n",
              "3      1212.0     4.0    27.0     0.0     0.0     0.0    18.0     2.0     8.0   \n",
              "4      2898.0     4.0  2332.0     0.0     0.0     0.0    10.0     2.0     8.0   \n",
              "...       ...     ...     ...     ...     ...     ...     ...     ...     ...   \n",
              "34995  3107.0     4.0  1078.0     3.0     0.0     0.0     8.0     2.0     8.0   \n",
              "34996  1476.0     4.0   358.0     0.0     0.0     0.0     1.0     2.0     8.0   \n",
              "34997  1249.0     4.0   188.0     0.0     0.0     0.0    10.0     2.0     8.0   \n",
              "34998  2397.0     4.0  2199.0     0.0     0.0     1.0     1.0     2.0     8.0   \n",
              "34999  2444.0     6.0  1484.0     0.0     0.0     0.0    19.0     3.0    11.0   \n",
              "\n",
              "       Var229  \n",
              "0         1.0  \n",
              "1         0.0  \n",
              "2         0.0  \n",
              "3         1.0  \n",
              "4         1.0  \n",
              "...       ...  \n",
              "34995     0.0  \n",
              "34996     0.0  \n",
              "34997     0.0  \n",
              "34998     0.0  \n",
              "34999     0.0  \n",
              "\n",
              "[35000 rows x 212 columns]"
            ],
            "text/html": [
              "\n",
              "  <div id=\"df-122c7ae8-9cda-4f76-a74f-077b5efc0f21\">\n",
              "    <div class=\"colab-df-container\">\n",
              "      <div>\n",
              "<style scoped>\n",
              "    .dataframe tbody tr th:only-of-type {\n",
              "        vertical-align: middle;\n",
              "    }\n",
              "\n",
              "    .dataframe tbody tr th {\n",
              "        vertical-align: top;\n",
              "    }\n",
              "\n",
              "    .dataframe thead th {\n",
              "        text-align: right;\n",
              "    }\n",
              "</style>\n",
              "<table border=\"1\" class=\"dataframe\">\n",
              "  <thead>\n",
              "    <tr style=\"text-align: right;\">\n",
              "      <th></th>\n",
              "      <th>Var1</th>\n",
              "      <th>Var2</th>\n",
              "      <th>Var3</th>\n",
              "      <th>Var4</th>\n",
              "      <th>Var5</th>\n",
              "      <th>Var6</th>\n",
              "      <th>Var7</th>\n",
              "      <th>Var9</th>\n",
              "      <th>Var10</th>\n",
              "      <th>Var11</th>\n",
              "      <th>...</th>\n",
              "      <th>Var220</th>\n",
              "      <th>Var221</th>\n",
              "      <th>Var222</th>\n",
              "      <th>Var223</th>\n",
              "      <th>Var224</th>\n",
              "      <th>Var225</th>\n",
              "      <th>Var226</th>\n",
              "      <th>Var227</th>\n",
              "      <th>Var228</th>\n",
              "      <th>Var229</th>\n",
              "    </tr>\n",
              "  </thead>\n",
              "  <tbody>\n",
              "    <tr>\n",
              "      <th>0</th>\n",
              "      <td>0.0</td>\n",
              "      <td>0.0</td>\n",
              "      <td>0.0</td>\n",
              "      <td>0.0</td>\n",
              "      <td>0.0</td>\n",
              "      <td>109.0</td>\n",
              "      <td>1.0</td>\n",
              "      <td>0.0</td>\n",
              "      <td>0.0</td>\n",
              "      <td>0.0</td>\n",
              "      <td>...</td>\n",
              "      <td>1843.0</td>\n",
              "      <td>3.0</td>\n",
              "      <td>3098.0</td>\n",
              "      <td>0.0</td>\n",
              "      <td>0.0</td>\n",
              "      <td>0.0</td>\n",
              "      <td>14.0</td>\n",
              "      <td>4.0</td>\n",
              "      <td>8.0</td>\n",
              "      <td>1.0</td>\n",
              "    </tr>\n",
              "    <tr>\n",
              "      <th>1</th>\n",
              "      <td>0.0</td>\n",
              "      <td>0.0</td>\n",
              "      <td>0.0</td>\n",
              "      <td>0.0</td>\n",
              "      <td>0.0</td>\n",
              "      <td>10.0</td>\n",
              "      <td>0.0</td>\n",
              "      <td>0.0</td>\n",
              "      <td>0.0</td>\n",
              "      <td>0.0</td>\n",
              "      <td>...</td>\n",
              "      <td>1609.0</td>\n",
              "      <td>4.0</td>\n",
              "      <td>3447.0</td>\n",
              "      <td>0.0</td>\n",
              "      <td>0.0</td>\n",
              "      <td>0.0</td>\n",
              "      <td>7.0</td>\n",
              "      <td>2.0</td>\n",
              "      <td>8.0</td>\n",
              "      <td>0.0</td>\n",
              "    </tr>\n",
              "    <tr>\n",
              "      <th>2</th>\n",
              "      <td>0.0</td>\n",
              "      <td>0.0</td>\n",
              "      <td>0.0</td>\n",
              "      <td>0.0</td>\n",
              "      <td>0.0</td>\n",
              "      <td>330.0</td>\n",
              "      <td>1.0</td>\n",
              "      <td>0.0</td>\n",
              "      <td>0.0</td>\n",
              "      <td>0.0</td>\n",
              "      <td>...</td>\n",
              "      <td>1278.0</td>\n",
              "      <td>4.0</td>\n",
              "      <td>3562.0</td>\n",
              "      <td>0.0</td>\n",
              "      <td>0.0</td>\n",
              "      <td>0.0</td>\n",
              "      <td>0.0</td>\n",
              "      <td>2.0</td>\n",
              "      <td>8.0</td>\n",
              "      <td>0.0</td>\n",
              "    </tr>\n",
              "    <tr>\n",
              "      <th>3</th>\n",
              "      <td>0.0</td>\n",
              "      <td>0.0</td>\n",
              "      <td>0.0</td>\n",
              "      <td>0.0</td>\n",
              "      <td>0.0</td>\n",
              "      <td>241.0</td>\n",
              "      <td>1.0</td>\n",
              "      <td>0.0</td>\n",
              "      <td>0.0</td>\n",
              "      <td>0.0</td>\n",
              "      <td>...</td>\n",
              "      <td>1212.0</td>\n",
              "      <td>4.0</td>\n",
              "      <td>27.0</td>\n",
              "      <td>0.0</td>\n",
              "      <td>0.0</td>\n",
              "      <td>0.0</td>\n",
              "      <td>18.0</td>\n",
              "      <td>2.0</td>\n",
              "      <td>8.0</td>\n",
              "      <td>1.0</td>\n",
              "    </tr>\n",
              "    <tr>\n",
              "      <th>4</th>\n",
              "      <td>0.0</td>\n",
              "      <td>0.0</td>\n",
              "      <td>0.0</td>\n",
              "      <td>0.0</td>\n",
              "      <td>0.0</td>\n",
              "      <td>122.0</td>\n",
              "      <td>2.0</td>\n",
              "      <td>0.0</td>\n",
              "      <td>0.0</td>\n",
              "      <td>0.0</td>\n",
              "      <td>...</td>\n",
              "      <td>2898.0</td>\n",
              "      <td>4.0</td>\n",
              "      <td>2332.0</td>\n",
              "      <td>0.0</td>\n",
              "      <td>0.0</td>\n",
              "      <td>0.0</td>\n",
              "      <td>10.0</td>\n",
              "      <td>2.0</td>\n",
              "      <td>8.0</td>\n",
              "      <td>1.0</td>\n",
              "    </tr>\n",
              "    <tr>\n",
              "      <th>...</th>\n",
              "      <td>...</td>\n",
              "      <td>...</td>\n",
              "      <td>...</td>\n",
              "      <td>...</td>\n",
              "      <td>...</td>\n",
              "      <td>...</td>\n",
              "      <td>...</td>\n",
              "      <td>...</td>\n",
              "      <td>...</td>\n",
              "      <td>...</td>\n",
              "      <td>...</td>\n",
              "      <td>...</td>\n",
              "      <td>...</td>\n",
              "      <td>...</td>\n",
              "      <td>...</td>\n",
              "      <td>...</td>\n",
              "      <td>...</td>\n",
              "      <td>...</td>\n",
              "      <td>...</td>\n",
              "      <td>...</td>\n",
              "      <td>...</td>\n",
              "    </tr>\n",
              "    <tr>\n",
              "      <th>34995</th>\n",
              "      <td>0.0</td>\n",
              "      <td>0.0</td>\n",
              "      <td>0.0</td>\n",
              "      <td>0.0</td>\n",
              "      <td>0.0</td>\n",
              "      <td>427.0</td>\n",
              "      <td>2.0</td>\n",
              "      <td>0.0</td>\n",
              "      <td>0.0</td>\n",
              "      <td>0.0</td>\n",
              "      <td>...</td>\n",
              "      <td>3107.0</td>\n",
              "      <td>4.0</td>\n",
              "      <td>1078.0</td>\n",
              "      <td>3.0</td>\n",
              "      <td>0.0</td>\n",
              "      <td>0.0</td>\n",
              "      <td>8.0</td>\n",
              "      <td>2.0</td>\n",
              "      <td>8.0</td>\n",
              "      <td>0.0</td>\n",
              "    </tr>\n",
              "    <tr>\n",
              "      <th>34996</th>\n",
              "      <td>0.0</td>\n",
              "      <td>0.0</td>\n",
              "      <td>0.0</td>\n",
              "      <td>0.0</td>\n",
              "      <td>0.0</td>\n",
              "      <td>23.0</td>\n",
              "      <td>0.0</td>\n",
              "      <td>0.0</td>\n",
              "      <td>0.0</td>\n",
              "      <td>0.0</td>\n",
              "      <td>...</td>\n",
              "      <td>1476.0</td>\n",
              "      <td>4.0</td>\n",
              "      <td>358.0</td>\n",
              "      <td>0.0</td>\n",
              "      <td>0.0</td>\n",
              "      <td>0.0</td>\n",
              "      <td>1.0</td>\n",
              "      <td>2.0</td>\n",
              "      <td>8.0</td>\n",
              "      <td>0.0</td>\n",
              "    </tr>\n",
              "    <tr>\n",
              "      <th>34997</th>\n",
              "      <td>0.0</td>\n",
              "      <td>0.0</td>\n",
              "      <td>0.0</td>\n",
              "      <td>0.0</td>\n",
              "      <td>0.0</td>\n",
              "      <td>0.0</td>\n",
              "      <td>1.0</td>\n",
              "      <td>0.0</td>\n",
              "      <td>0.0</td>\n",
              "      <td>0.0</td>\n",
              "      <td>...</td>\n",
              "      <td>1249.0</td>\n",
              "      <td>4.0</td>\n",
              "      <td>188.0</td>\n",
              "      <td>0.0</td>\n",
              "      <td>0.0</td>\n",
              "      <td>0.0</td>\n",
              "      <td>10.0</td>\n",
              "      <td>2.0</td>\n",
              "      <td>8.0</td>\n",
              "      <td>0.0</td>\n",
              "    </tr>\n",
              "    <tr>\n",
              "      <th>34998</th>\n",
              "      <td>0.0</td>\n",
              "      <td>0.0</td>\n",
              "      <td>0.0</td>\n",
              "      <td>0.0</td>\n",
              "      <td>0.0</td>\n",
              "      <td>118.0</td>\n",
              "      <td>2.0</td>\n",
              "      <td>0.0</td>\n",
              "      <td>0.0</td>\n",
              "      <td>0.0</td>\n",
              "      <td>...</td>\n",
              "      <td>2397.0</td>\n",
              "      <td>4.0</td>\n",
              "      <td>2199.0</td>\n",
              "      <td>0.0</td>\n",
              "      <td>0.0</td>\n",
              "      <td>1.0</td>\n",
              "      <td>1.0</td>\n",
              "      <td>2.0</td>\n",
              "      <td>8.0</td>\n",
              "      <td>0.0</td>\n",
              "    </tr>\n",
              "    <tr>\n",
              "      <th>34999</th>\n",
              "      <td>0.0</td>\n",
              "      <td>0.0</td>\n",
              "      <td>0.0</td>\n",
              "      <td>0.0</td>\n",
              "      <td>0.0</td>\n",
              "      <td>159.0</td>\n",
              "      <td>1.0</td>\n",
              "      <td>0.0</td>\n",
              "      <td>0.0</td>\n",
              "      <td>0.0</td>\n",
              "      <td>...</td>\n",
              "      <td>2444.0</td>\n",
              "      <td>6.0</td>\n",
              "      <td>1484.0</td>\n",
              "      <td>0.0</td>\n",
              "      <td>0.0</td>\n",
              "      <td>0.0</td>\n",
              "      <td>19.0</td>\n",
              "      <td>3.0</td>\n",
              "      <td>11.0</td>\n",
              "      <td>0.0</td>\n",
              "    </tr>\n",
              "  </tbody>\n",
              "</table>\n",
              "<p>35000 rows × 212 columns</p>\n",
              "</div>\n",
              "      <button class=\"colab-df-convert\" onclick=\"convertToInteractive('df-122c7ae8-9cda-4f76-a74f-077b5efc0f21')\"\n",
              "              title=\"Convert this dataframe to an interactive table.\"\n",
              "              style=\"display:none;\">\n",
              "        \n",
              "  <svg xmlns=\"http://www.w3.org/2000/svg\" height=\"24px\"viewBox=\"0 0 24 24\"\n",
              "       width=\"24px\">\n",
              "    <path d=\"M0 0h24v24H0V0z\" fill=\"none\"/>\n",
              "    <path d=\"M18.56 5.44l.94 2.06.94-2.06 2.06-.94-2.06-.94-.94-2.06-.94 2.06-2.06.94zm-11 1L8.5 8.5l.94-2.06 2.06-.94-2.06-.94L8.5 2.5l-.94 2.06-2.06.94zm10 10l.94 2.06.94-2.06 2.06-.94-2.06-.94-.94-2.06-.94 2.06-2.06.94z\"/><path d=\"M17.41 7.96l-1.37-1.37c-.4-.4-.92-.59-1.43-.59-.52 0-1.04.2-1.43.59L10.3 9.45l-7.72 7.72c-.78.78-.78 2.05 0 2.83L4 21.41c.39.39.9.59 1.41.59.51 0 1.02-.2 1.41-.59l7.78-7.78 2.81-2.81c.8-.78.8-2.07 0-2.86zM5.41 20L4 18.59l7.72-7.72 1.47 1.35L5.41 20z\"/>\n",
              "  </svg>\n",
              "      </button>\n",
              "      \n",
              "  <style>\n",
              "    .colab-df-container {\n",
              "      display:flex;\n",
              "      flex-wrap:wrap;\n",
              "      gap: 12px;\n",
              "    }\n",
              "\n",
              "    .colab-df-convert {\n",
              "      background-color: #E8F0FE;\n",
              "      border: none;\n",
              "      border-radius: 50%;\n",
              "      cursor: pointer;\n",
              "      display: none;\n",
              "      fill: #1967D2;\n",
              "      height: 32px;\n",
              "      padding: 0 0 0 0;\n",
              "      width: 32px;\n",
              "    }\n",
              "\n",
              "    .colab-df-convert:hover {\n",
              "      background-color: #E2EBFA;\n",
              "      box-shadow: 0px 1px 2px rgba(60, 64, 67, 0.3), 0px 1px 3px 1px rgba(60, 64, 67, 0.15);\n",
              "      fill: #174EA6;\n",
              "    }\n",
              "\n",
              "    [theme=dark] .colab-df-convert {\n",
              "      background-color: #3B4455;\n",
              "      fill: #D2E3FC;\n",
              "    }\n",
              "\n",
              "    [theme=dark] .colab-df-convert:hover {\n",
              "      background-color: #434B5C;\n",
              "      box-shadow: 0px 1px 3px 1px rgba(0, 0, 0, 0.15);\n",
              "      filter: drop-shadow(0px 1px 2px rgba(0, 0, 0, 0.3));\n",
              "      fill: #FFFFFF;\n",
              "    }\n",
              "  </style>\n",
              "\n",
              "      <script>\n",
              "        const buttonEl =\n",
              "          document.querySelector('#df-122c7ae8-9cda-4f76-a74f-077b5efc0f21 button.colab-df-convert');\n",
              "        buttonEl.style.display =\n",
              "          google.colab.kernel.accessAllowed ? 'block' : 'none';\n",
              "\n",
              "        async function convertToInteractive(key) {\n",
              "          const element = document.querySelector('#df-122c7ae8-9cda-4f76-a74f-077b5efc0f21');\n",
              "          const dataTable =\n",
              "            await google.colab.kernel.invokeFunction('convertToInteractive',\n",
              "                                                     [key], {});\n",
              "          if (!dataTable) return;\n",
              "\n",
              "          const docLinkHtml = 'Like what you see? Visit the ' +\n",
              "            '<a target=\"_blank\" href=https://colab.research.google.com/notebooks/data_table.ipynb>data table notebook</a>'\n",
              "            + ' to learn more about interactive tables.';\n",
              "          element.innerHTML = '';\n",
              "          dataTable['output_type'] = 'display_data';\n",
              "          await google.colab.output.renderOutput(dataTable, element);\n",
              "          const docLink = document.createElement('div');\n",
              "          docLink.innerHTML = docLinkHtml;\n",
              "          element.appendChild(docLink);\n",
              "        }\n",
              "      </script>\n",
              "    </div>\n",
              "  </div>\n",
              "  "
            ]
          },
          "metadata": {},
          "execution_count": 10
        }
      ]
    },
    {
      "cell_type": "code",
      "execution_count": 11,
      "metadata": {
        "colab": {
          "base_uri": "https://localhost:8080/"
        },
        "id": "tX4SG9Pw8QH8",
        "outputId": "3557fb45-935c-4fec-c327-49076698ebc3"
      },
      "outputs": [
        {
          "output_type": "execute_result",
          "data": {
            "text/plain": [
              "0.0    28027\n",
              "1.0     6922\n",
              "2.0       27\n",
              "3.0       24\n",
              "Name: Var229, dtype: int64"
            ]
          },
          "metadata": {},
          "execution_count": 11
        }
      ],
      "source": [
        "df_train_enc['Var229'].value_counts()"
      ]
    },
    {
      "cell_type": "markdown",
      "metadata": {
        "id": "6APhGtQqoEPI"
      },
      "source": [
        "# Модель"
      ]
    },
    {
      "cell_type": "code",
      "source": [
        "!pip install catboost"
      ],
      "metadata": {
        "colab": {
          "base_uri": "https://localhost:8080/"
        },
        "id": "hWUuRcF6zKfb",
        "outputId": "1dc5f054-47b1-4f0b-f9c4-0f9ebbd3e3ea"
      },
      "execution_count": 12,
      "outputs": [
        {
          "output_type": "stream",
          "name": "stdout",
          "text": [
            "Looking in indexes: https://pypi.org/simple, https://us-python.pkg.dev/colab-wheels/public/simple/\n",
            "Collecting catboost\n",
            "  Downloading catboost-1.0.6-cp37-none-manylinux1_x86_64.whl (76.6 MB)\n",
            "\u001b[K     |████████████████████████████████| 76.6 MB 79 kB/s \n",
            "\u001b[?25hRequirement already satisfied: graphviz in /usr/local/lib/python3.7/dist-packages (from catboost) (0.10.1)\n",
            "Requirement already satisfied: matplotlib in /usr/local/lib/python3.7/dist-packages (from catboost) (3.2.2)\n",
            "Requirement already satisfied: numpy>=1.16.0 in /usr/local/lib/python3.7/dist-packages (from catboost) (1.21.6)\n",
            "Requirement already satisfied: scipy in /usr/local/lib/python3.7/dist-packages (from catboost) (1.7.3)\n",
            "Requirement already satisfied: plotly in /usr/local/lib/python3.7/dist-packages (from catboost) (5.5.0)\n",
            "Requirement already satisfied: pandas>=0.24.0 in /usr/local/lib/python3.7/dist-packages (from catboost) (1.3.5)\n",
            "Requirement already satisfied: six in /usr/local/lib/python3.7/dist-packages (from catboost) (1.15.0)\n",
            "Requirement already satisfied: python-dateutil>=2.7.3 in /usr/local/lib/python3.7/dist-packages (from pandas>=0.24.0->catboost) (2.8.2)\n",
            "Requirement already satisfied: pytz>=2017.3 in /usr/local/lib/python3.7/dist-packages (from pandas>=0.24.0->catboost) (2022.1)\n",
            "Requirement already satisfied: cycler>=0.10 in /usr/local/lib/python3.7/dist-packages (from matplotlib->catboost) (0.11.0)\n",
            "Requirement already satisfied: pyparsing!=2.0.4,!=2.1.2,!=2.1.6,>=2.0.1 in /usr/local/lib/python3.7/dist-packages (from matplotlib->catboost) (3.0.9)\n",
            "Requirement already satisfied: kiwisolver>=1.0.1 in /usr/local/lib/python3.7/dist-packages (from matplotlib->catboost) (1.4.4)\n",
            "Requirement already satisfied: typing-extensions in /usr/local/lib/python3.7/dist-packages (from kiwisolver>=1.0.1->matplotlib->catboost) (4.1.1)\n",
            "Requirement already satisfied: tenacity>=6.2.0 in /usr/local/lib/python3.7/dist-packages (from plotly->catboost) (8.0.1)\n",
            "Installing collected packages: catboost\n",
            "Successfully installed catboost-1.0.6\n"
          ]
        }
      ]
    },
    {
      "cell_type": "code",
      "execution_count": 40,
      "metadata": {
        "id": "d_z-7neK-QbN"
      },
      "outputs": [],
      "source": [
        "from sklearn.model_selection import cross_val_score, StratifiedShuffleSplit, cross_validate\n",
        "from sklearn.linear_model import RidgeClassifier, LogisticRegression, SGDClassifier\n",
        "from sklearn.ensemble import RandomForestClassifier, GradientBoostingClassifier\n",
        "from sklearn.metrics import classification_report\n",
        "\n",
        "from catboost import CatBoostClassifier, cv, Pool"
      ]
    },
    {
      "cell_type": "code",
      "execution_count": 14,
      "metadata": {
        "id": "afhCAbT2MuGz"
      },
      "outputs": [],
      "source": [
        "X, y = df_train_enc, df_train['target']\n",
        "cv_scheme = StratifiedShuffleSplit(random_state=0, )"
      ]
    },
    {
      "cell_type": "code",
      "execution_count": 15,
      "metadata": {
        "id": "Z_NHcQ0S_aP5"
      },
      "outputs": [],
      "source": [
        "X_train, X_val, y_train, y_val = train_test_split(X, y, test_size=0.2)"
      ]
    },
    {
      "cell_type": "markdown",
      "metadata": {
        "id": "hnD3QfsFA_2j"
      },
      "source": [
        "## LogisticRegression"
      ]
    },
    {
      "cell_type": "code",
      "execution_count": 16,
      "metadata": {
        "id": "HVd-TOPxMGGb"
      },
      "outputs": [],
      "source": [
        "cv_results = cross_validate(estimator=LogisticRegression(random_state=0), X=X, y=y, n_jobs=-1, scoring='roc_auc', cv=cv_scheme)"
      ]
    },
    {
      "cell_type": "code",
      "source": [
        "cv_results['test_score'], cv_results['test_score'].mean()"
      ],
      "metadata": {
        "colab": {
          "base_uri": "https://localhost:8080/"
        },
        "id": "kA6-a1Bd1ZSq",
        "outputId": "159526d5-7e8f-415e-c30c-ba874085e51f"
      },
      "execution_count": 17,
      "outputs": [
        {
          "output_type": "execute_result",
          "data": {
            "text/plain": [
              "(array([0.57733742, 0.54004853, 0.56236039, 0.53437318, 0.58144502,\n",
              "        0.56569723, 0.54352236, 0.57357649, 0.5571973 , 0.58503203]),\n",
              " 0.562058995567172)"
            ]
          },
          "metadata": {},
          "execution_count": 17
        }
      ]
    },
    {
      "cell_type": "code",
      "execution_count": 18,
      "metadata": {
        "colab": {
          "base_uri": "https://localhost:8080/"
        },
        "id": "Qw0k5A4xALeL",
        "outputId": "b0c215d9-0ae3-4295-ef15-283d957eb1c8"
      },
      "outputs": [
        {
          "output_type": "stream",
          "name": "stdout",
          "text": [
            "              precision    recall  f1-score   support\n",
            "\n",
            "          -1       0.92      1.00      0.96      6473\n",
            "           1       0.00      0.00      0.00       527\n",
            "\n",
            "    accuracy                           0.92      7000\n",
            "   macro avg       0.46      0.50      0.48      7000\n",
            "weighted avg       0.86      0.92      0.89      7000\n",
            "\n"
          ]
        }
      ],
      "source": [
        "lr = LogisticRegression(random_state=0)\n",
        "lr.fit(X_train, y_train)\n",
        "print(classification_report(y_val, lr.predict(X_val)))"
      ]
    },
    {
      "cell_type": "markdown",
      "metadata": {
        "id": "Pk7UmVe2Bbt5"
      },
      "source": [
        "## RidgeClassifier"
      ]
    },
    {
      "cell_type": "code",
      "source": [
        "cv_results = cross_validate(estimator=RidgeClassifier(random_state=0), X=X, y=y, n_jobs=-1, scoring='roc_auc', cv=cv_scheme)"
      ],
      "metadata": {
        "id": "2CHkg_Va1-R8"
      },
      "execution_count": 19,
      "outputs": []
    },
    {
      "cell_type": "code",
      "source": [
        "cv_results['test_score'], cv_results['test_score'].mean()"
      ],
      "metadata": {
        "colab": {
          "base_uri": "https://localhost:8080/"
        },
        "id": "y3Kmp4Ky2BT0",
        "outputId": "2fff1df0-4dfd-4005-8835-496b4d22e11a"
      },
      "execution_count": 20,
      "outputs": [
        {
          "output_type": "execute_result",
          "data": {
            "text/plain": [
              "(array([0.6605688 , 0.69325569, 0.66629538, 0.67257353, 0.68174892,\n",
              "        0.66298356, 0.63471044, 0.6475872 , 0.63357989, 0.67444268]),\n",
              " 0.6627746095811508)"
            ]
          },
          "metadata": {},
          "execution_count": 20
        }
      ]
    },
    {
      "cell_type": "code",
      "execution_count": 21,
      "metadata": {
        "colab": {
          "base_uri": "https://localhost:8080/"
        },
        "id": "ozIv6qzb6IYy",
        "outputId": "6b6cf2ec-3fb9-4791-9d80-c42aaacb793f"
      },
      "outputs": [
        {
          "output_type": "stream",
          "name": "stdout",
          "text": [
            "              precision    recall  f1-score   support\n",
            "\n",
            "          -1       0.92      1.00      0.96      6473\n",
            "           1       0.00      0.00      0.00       527\n",
            "\n",
            "    accuracy                           0.92      7000\n",
            "   macro avg       0.46      0.50      0.48      7000\n",
            "weighted avg       0.86      0.92      0.89      7000\n",
            "\n"
          ]
        }
      ],
      "source": [
        "rc = RidgeClassifier(random_state=0)\n",
        "rc.fit(X_train, y_train)\n",
        "print(classification_report(y_val, rc.predict(X_val)))"
      ]
    },
    {
      "cell_type": "markdown",
      "metadata": {
        "id": "pR37STY5BkXs"
      },
      "source": [
        "## SGDClassifier"
      ]
    },
    {
      "cell_type": "code",
      "source": [
        "%%time\n",
        "cv_results = cross_validate(estimator=SGDClassifier(random_state=0), X=X, y=y, n_jobs=-1, scoring='roc_auc', cv=cv_scheme)"
      ],
      "metadata": {
        "id": "tHkxjCsq2MoP"
      },
      "execution_count": 22,
      "outputs": []
    },
    {
      "cell_type": "code",
      "source": [
        "cv_results['test_score'], cv_results['test_score'].mean()"
      ],
      "metadata": {
        "colab": {
          "base_uri": "https://localhost:8080/"
        },
        "id": "WaMhZG-j2Ou1",
        "outputId": "547ecdb2-ea21-4ba9-95f1-403fc8b792dc"
      },
      "execution_count": 23,
      "outputs": [
        {
          "output_type": "execute_result",
          "data": {
            "text/plain": [
              "(array([0.52819152, 0.49981833, 0.57863951, 0.45887691, 0.49635879,\n",
              "        0.54119337, 0.56296438, 0.52134989, 0.48579553, 0.58529054]),\n",
              " 0.5258478781156967)"
            ]
          },
          "metadata": {},
          "execution_count": 23
        }
      ]
    },
    {
      "cell_type": "code",
      "execution_count": 24,
      "metadata": {
        "colab": {
          "base_uri": "https://localhost:8080/"
        },
        "id": "Wk2a9aWUAeGK",
        "outputId": "d86578b4-9b8d-4536-ecfa-67d93210e171"
      },
      "outputs": [
        {
          "output_type": "stream",
          "name": "stdout",
          "text": [
            "              precision    recall  f1-score   support\n",
            "\n",
            "          -1       0.92      1.00      0.96      6473\n",
            "           1       0.00      0.00      0.00       527\n",
            "\n",
            "    accuracy                           0.92      7000\n",
            "   macro avg       0.46      0.50      0.48      7000\n",
            "weighted avg       0.86      0.92      0.89      7000\n",
            "\n"
          ]
        }
      ],
      "source": [
        "sgdc = SGDClassifier(random_state=0)\n",
        "sgdc.fit(X_train, y_train)\n",
        "print(classification_report(y_val, sgdc.predict(X_val)))"
      ]
    },
    {
      "cell_type": "markdown",
      "metadata": {
        "id": "TsRjv64BEIOA"
      },
      "source": [
        "### SGDClassifier log loss"
      ]
    },
    {
      "cell_type": "code",
      "execution_count": 25,
      "metadata": {
        "id": "9NCh5terwJ2r",
        "outputId": "368d32b6-06cd-4d96-b833-b8035a261b9f",
        "colab": {
          "base_uri": "https://localhost:8080/"
        }
      },
      "outputs": [
        {
          "output_type": "stream",
          "name": "stdout",
          "text": [
            "CPU times: user 427 ms, sys: 77.2 ms, total: 504 ms\n",
            "Wall time: 43.1 s\n"
          ]
        }
      ],
      "source": [
        "%%time\n",
        "cv_results = cross_validate(estimator=SGDClassifier(random_state=0, loss='log'), X=X, y=y, n_jobs=-1, scoring='roc_auc', cv=cv_scheme)"
      ]
    },
    {
      "cell_type": "code",
      "execution_count": 26,
      "metadata": {
        "colab": {
          "base_uri": "https://localhost:8080/"
        },
        "id": "CjpMomntENB-",
        "outputId": "01fce074-cad5-4d55-d5aa-736370b00317"
      },
      "outputs": [
        {
          "output_type": "execute_result",
          "data": {
            "text/plain": [
              "(array([0.50959533, 0.50251186, 0.48302695, 0.49142443, 0.58730503,\n",
              "        0.5563479 , 0.50159456, 0.47394329, 0.48207153, 0.54885105]),\n",
              " 0.5136671912358428)"
            ]
          },
          "metadata": {},
          "execution_count": 26
        }
      ],
      "source": [
        "cv_results['test_score'], cv_results['test_score'].mean()"
      ]
    },
    {
      "cell_type": "code",
      "execution_count": 27,
      "metadata": {
        "colab": {
          "base_uri": "https://localhost:8080/"
        },
        "id": "YjRLb8e_ExTV",
        "outputId": "a111d3e8-218d-4ccb-907d-62506ef57924"
      },
      "outputs": [
        {
          "output_type": "stream",
          "name": "stdout",
          "text": [
            "              precision    recall  f1-score   support\n",
            "\n",
            "          -1       0.92      1.00      0.96      6473\n",
            "           1       0.00      0.00      0.00       527\n",
            "\n",
            "    accuracy                           0.92      7000\n",
            "   macro avg       0.46      0.50      0.48      7000\n",
            "weighted avg       0.86      0.92      0.89      7000\n",
            "\n"
          ]
        }
      ],
      "source": [
        "sgdc = SGDClassifier(random_state=0, loss='log')\n",
        "sgdc.fit(X_train, y_train)\n",
        "print(classification_report(y_val, sgdc.predict(X_val)))"
      ]
    },
    {
      "cell_type": "markdown",
      "metadata": {
        "id": "-xN2rGWRERcC"
      },
      "source": [
        "## RandomForestClassifier"
      ]
    },
    {
      "cell_type": "code",
      "execution_count": 28,
      "metadata": {
        "id": "jzLrYBAvx-OO"
      },
      "outputs": [],
      "source": [
        "rfc = RandomForestClassifier(oob_score=True)"
      ]
    },
    {
      "cell_type": "code",
      "execution_count": 29,
      "metadata": {
        "colab": {
          "base_uri": "https://localhost:8080/"
        },
        "id": "ZWXkTqFXwa0b",
        "outputId": "5bf9c163-9f9e-4290-84ea-165c8d09af1b"
      },
      "outputs": [
        {
          "output_type": "execute_result",
          "data": {
            "text/plain": [
              "RandomForestClassifier(oob_score=True)"
            ]
          },
          "metadata": {},
          "execution_count": 29
        }
      ],
      "source": [
        "rfc.fit(X, y)"
      ]
    },
    {
      "cell_type": "code",
      "execution_count": 30,
      "metadata": {
        "colab": {
          "base_uri": "https://localhost:8080/"
        },
        "id": "Ux7lwdfoyVT8",
        "outputId": "b6d73643-e377-4ed4-8e99-b40a5d5ad9b0"
      },
      "outputs": [
        {
          "output_type": "execute_result",
          "data": {
            "text/plain": [
              "0.9258857142857143"
            ]
          },
          "metadata": {},
          "execution_count": 30
        }
      ],
      "source": [
        "rfc.oob_score_"
      ]
    },
    {
      "cell_type": "code",
      "execution_count": 31,
      "metadata": {
        "colab": {
          "base_uri": "https://localhost:8080/"
        },
        "id": "8-poMGMCzCVV",
        "outputId": "689ce690-3116-41de-ef74-6f74a5bcc0b8"
      },
      "outputs": [
        {
          "output_type": "stream",
          "name": "stdout",
          "text": [
            "CPU times: user 690 ms, sys: 96.9 ms, total: 787 ms\n",
            "Wall time: 1min 29s\n"
          ]
        }
      ],
      "source": [
        "%%time\n",
        "cv_results = cross_validate(estimator=RandomForestClassifier(random_state=0), X=X, y=y, n_jobs=-1, scoring='roc_auc', cv=cv_scheme)"
      ]
    },
    {
      "cell_type": "code",
      "source": [
        "cv_results['test_score'], cv_results['test_score'].mean()"
      ],
      "metadata": {
        "colab": {
          "base_uri": "https://localhost:8080/"
        },
        "id": "v8Q_4O-r4IJc",
        "outputId": "a779269b-7895-4bb2-b44e-7fc0a9d4c1ef"
      },
      "execution_count": 32,
      "outputs": [
        {
          "output_type": "execute_result",
          "data": {
            "text/plain": [
              "(array([0.65455095, 0.65374801, 0.64062167, 0.65992252, 0.67668471,\n",
              "        0.64420391, 0.65415424, 0.66073141, 0.6671418 , 0.66583256]),\n",
              " 0.6577591762874083)"
            ]
          },
          "metadata": {},
          "execution_count": 32
        }
      ]
    },
    {
      "cell_type": "code",
      "execution_count": 33,
      "metadata": {
        "colab": {
          "base_uri": "https://localhost:8080/"
        },
        "id": "JjPxs7lXZdzb",
        "outputId": "aebc6a7f-9f18-492d-b2ad-64e68ee19cf4"
      },
      "outputs": [
        {
          "output_type": "stream",
          "name": "stdout",
          "text": [
            "              precision    recall  f1-score   support\n",
            "\n",
            "          -1       0.92      1.00      0.96      6473\n",
            "           1       0.00      0.00      0.00       527\n",
            "\n",
            "    accuracy                           0.92      7000\n",
            "   macro avg       0.46      0.50      0.48      7000\n",
            "weighted avg       0.86      0.92      0.89      7000\n",
            "\n"
          ]
        }
      ],
      "source": [
        "rfc = RandomForestClassifier(random_state=0)\n",
        "rfc.fit(X_train, y_train)\n",
        "print(classification_report(y_val, rfc.predict(X_val)))"
      ]
    },
    {
      "cell_type": "markdown",
      "metadata": {
        "id": "HY0lfKTYZWGf"
      },
      "source": [
        "## GradientBoostingClassifier"
      ]
    },
    {
      "cell_type": "code",
      "source": [
        "%%time\n",
        "cv_results = cross_validate(estimator=GradientBoostingClassifier(random_state=0), X=X, y=y, n_jobs=-1, scoring='roc_auc', cv=cv_scheme)"
      ],
      "metadata": {
        "colab": {
          "base_uri": "https://localhost:8080/"
        },
        "id": "DgUKoSRBkmvs",
        "outputId": "cbb990ba-3bf8-4682-c235-b0fa269e9fca"
      },
      "execution_count": 34,
      "outputs": [
        {
          "output_type": "stream",
          "name": "stdout",
          "text": [
            "CPU times: user 2.64 s, sys: 328 ms, total: 2.97 s\n",
            "Wall time: 6min 58s\n"
          ]
        }
      ]
    },
    {
      "cell_type": "code",
      "source": [
        "cv_results['test_score'], cv_results['test_score'].mean()"
      ],
      "metadata": {
        "colab": {
          "base_uri": "https://localhost:8080/"
        },
        "id": "dN404Bjbp0Pd",
        "outputId": "6bbfefe0-f49a-42f8-8251-dd0a92ec92cb"
      },
      "execution_count": 35,
      "outputs": [
        {
          "output_type": "execute_result",
          "data": {
            "text/plain": [
              "(array([0.7236124 , 0.73969019, 0.73720752, 0.74452746, 0.74806146,\n",
              "        0.72909894, 0.72583299, 0.72651918, 0.71050334, 0.73503399]),\n",
              " 0.7320087465258709)"
            ]
          },
          "metadata": {},
          "execution_count": 35
        }
      ]
    },
    {
      "cell_type": "code",
      "execution_count": 36,
      "metadata": {
        "colab": {
          "base_uri": "https://localhost:8080/"
        },
        "id": "sO28auWiZ25G",
        "outputId": "714aad85-83bf-4949-be67-51adbadf2283"
      },
      "outputs": [
        {
          "output_type": "stream",
          "name": "stdout",
          "text": [
            "              precision    recall  f1-score   support\n",
            "\n",
            "          -1       0.93      1.00      0.96      6473\n",
            "           1       0.50      0.01      0.01       527\n",
            "\n",
            "    accuracy                           0.92      7000\n",
            "   macro avg       0.71      0.50      0.49      7000\n",
            "weighted avg       0.89      0.92      0.89      7000\n",
            "\n"
          ]
        }
      ],
      "source": [
        "gbc = GradientBoostingClassifier(random_state=0)\n",
        "gbc.fit(X_train, y_train)\n",
        "print(classification_report(y_val, gbc.predict(X_val)))"
      ]
    },
    {
      "cell_type": "markdown",
      "source": [
        "## CatBoost"
      ],
      "metadata": {
        "id": "0yf-Lk8KvGPf"
      }
    },
    {
      "cell_type": "code",
      "source": [
        "base_params = {\n",
        "    'eval_metric': 'AUC:hints=skip_train~false', \n",
        "    'auto_class_weights': 'Balanced', \n",
        "    'verbose': False,\n",
        "    'loss_function': 'Logloss'\n",
        "}"
      ],
      "metadata": {
        "id": "bR1MlULv--43"
      },
      "execution_count": 37,
      "outputs": []
    },
    {
      "cell_type": "code",
      "source": [
        "cv_results = cv(\n",
        "    params={**base_params},\n",
        "    pool=Pool(X, y),\n",
        "    fold_count=5,\n",
        "    shuffle=True,\n",
        "    # plot=True,\n",
        "    type='Classical'\n",
        ")"
      ],
      "metadata": {
        "colab": {
          "base_uri": "https://localhost:8080/"
        },
        "id": "4-neUt4Do6sn",
        "outputId": "770e7756-53ca-47ed-f360-06d37edd32e6"
      },
      "execution_count": 42,
      "outputs": [
        {
          "output_type": "stream",
          "name": "stdout",
          "text": [
            "Training on fold [0/5]\n",
            "\n",
            "bestTest = 0.7106812462\n",
            "bestIteration = 423\n",
            "\n",
            "Training on fold [1/5]\n",
            "\n",
            "bestTest = 0.7379935782\n",
            "bestIteration = 413\n",
            "\n",
            "Training on fold [2/5]\n",
            "\n",
            "bestTest = 0.7085311388\n",
            "bestIteration = 218\n",
            "\n",
            "Training on fold [3/5]\n",
            "\n",
            "bestTest = 0.7228578458\n",
            "bestIteration = 405\n",
            "\n",
            "Training on fold [4/5]\n",
            "\n",
            "bestTest = 0.7367928468\n",
            "bestIteration = 444\n",
            "\n"
          ]
        }
      ]
    },
    {
      "cell_type": "code",
      "source": [
        "cv_results"
      ],
      "metadata": {
        "colab": {
          "base_uri": "https://localhost:8080/",
          "height": 424
        },
        "id": "T4rSt4iJsN94",
        "outputId": "2c907982-22c3-468d-8b89-e395555f63c5"
      },
      "execution_count": 43,
      "outputs": [
        {
          "output_type": "execute_result",
          "data": {
            "text/plain": [
              "     iterations  test-AUC-mean  test-AUC-std  train-AUC-mean  train-AUC-std  \\\n",
              "0             0       0.657860      0.015688        0.660945       0.011773   \n",
              "1             1       0.674257      0.014363        0.682398       0.006114   \n",
              "2             2       0.680459      0.014780        0.689773       0.006310   \n",
              "3             3       0.682848      0.017237        0.695171       0.006502   \n",
              "4             4       0.686323      0.018015        0.697607       0.007964   \n",
              "..          ...            ...           ...             ...            ...   \n",
              "995         995       0.711461      0.011689        0.966103       0.001242   \n",
              "996         996       0.711388      0.011643        0.966192       0.001237   \n",
              "997         997       0.711373      0.011671        0.966297       0.001197   \n",
              "998         998       0.711374      0.011655        0.966373       0.001170   \n",
              "999         999       0.711364      0.011650        0.966418       0.001153   \n",
              "\n",
              "     test-Logloss-mean  test-Logloss-std  train-Logloss-mean  \\\n",
              "0             0.690081          0.000203            0.689972   \n",
              "1             0.687001          0.000379            0.686699   \n",
              "2             0.684428          0.000523            0.683962   \n",
              "3             0.681902          0.000734            0.681106   \n",
              "4             0.679395          0.001037            0.678506   \n",
              "..                 ...               ...                 ...   \n",
              "995           0.663224          0.014082            0.368113   \n",
              "996           0.663376          0.014073            0.367912   \n",
              "997           0.663474          0.014078            0.367692   \n",
              "998           0.663555          0.014128            0.367523   \n",
              "999           0.663699          0.014116            0.367365   \n",
              "\n",
              "     train-Logloss-std  \n",
              "0             0.000243  \n",
              "1             0.000336  \n",
              "2             0.000514  \n",
              "3             0.000671  \n",
              "4             0.000801  \n",
              "..                 ...  \n",
              "995           0.002468  \n",
              "996           0.002502  \n",
              "997           0.002525  \n",
              "998           0.002511  \n",
              "999           0.002508  \n",
              "\n",
              "[1000 rows x 9 columns]"
            ],
            "text/html": [
              "\n",
              "  <div id=\"df-556a1870-ba80-4724-bf91-8be7a485504f\">\n",
              "    <div class=\"colab-df-container\">\n",
              "      <div>\n",
              "<style scoped>\n",
              "    .dataframe tbody tr th:only-of-type {\n",
              "        vertical-align: middle;\n",
              "    }\n",
              "\n",
              "    .dataframe tbody tr th {\n",
              "        vertical-align: top;\n",
              "    }\n",
              "\n",
              "    .dataframe thead th {\n",
              "        text-align: right;\n",
              "    }\n",
              "</style>\n",
              "<table border=\"1\" class=\"dataframe\">\n",
              "  <thead>\n",
              "    <tr style=\"text-align: right;\">\n",
              "      <th></th>\n",
              "      <th>iterations</th>\n",
              "      <th>test-AUC-mean</th>\n",
              "      <th>test-AUC-std</th>\n",
              "      <th>train-AUC-mean</th>\n",
              "      <th>train-AUC-std</th>\n",
              "      <th>test-Logloss-mean</th>\n",
              "      <th>test-Logloss-std</th>\n",
              "      <th>train-Logloss-mean</th>\n",
              "      <th>train-Logloss-std</th>\n",
              "    </tr>\n",
              "  </thead>\n",
              "  <tbody>\n",
              "    <tr>\n",
              "      <th>0</th>\n",
              "      <td>0</td>\n",
              "      <td>0.657860</td>\n",
              "      <td>0.015688</td>\n",
              "      <td>0.660945</td>\n",
              "      <td>0.011773</td>\n",
              "      <td>0.690081</td>\n",
              "      <td>0.000203</td>\n",
              "      <td>0.689972</td>\n",
              "      <td>0.000243</td>\n",
              "    </tr>\n",
              "    <tr>\n",
              "      <th>1</th>\n",
              "      <td>1</td>\n",
              "      <td>0.674257</td>\n",
              "      <td>0.014363</td>\n",
              "      <td>0.682398</td>\n",
              "      <td>0.006114</td>\n",
              "      <td>0.687001</td>\n",
              "      <td>0.000379</td>\n",
              "      <td>0.686699</td>\n",
              "      <td>0.000336</td>\n",
              "    </tr>\n",
              "    <tr>\n",
              "      <th>2</th>\n",
              "      <td>2</td>\n",
              "      <td>0.680459</td>\n",
              "      <td>0.014780</td>\n",
              "      <td>0.689773</td>\n",
              "      <td>0.006310</td>\n",
              "      <td>0.684428</td>\n",
              "      <td>0.000523</td>\n",
              "      <td>0.683962</td>\n",
              "      <td>0.000514</td>\n",
              "    </tr>\n",
              "    <tr>\n",
              "      <th>3</th>\n",
              "      <td>3</td>\n",
              "      <td>0.682848</td>\n",
              "      <td>0.017237</td>\n",
              "      <td>0.695171</td>\n",
              "      <td>0.006502</td>\n",
              "      <td>0.681902</td>\n",
              "      <td>0.000734</td>\n",
              "      <td>0.681106</td>\n",
              "      <td>0.000671</td>\n",
              "    </tr>\n",
              "    <tr>\n",
              "      <th>4</th>\n",
              "      <td>4</td>\n",
              "      <td>0.686323</td>\n",
              "      <td>0.018015</td>\n",
              "      <td>0.697607</td>\n",
              "      <td>0.007964</td>\n",
              "      <td>0.679395</td>\n",
              "      <td>0.001037</td>\n",
              "      <td>0.678506</td>\n",
              "      <td>0.000801</td>\n",
              "    </tr>\n",
              "    <tr>\n",
              "      <th>...</th>\n",
              "      <td>...</td>\n",
              "      <td>...</td>\n",
              "      <td>...</td>\n",
              "      <td>...</td>\n",
              "      <td>...</td>\n",
              "      <td>...</td>\n",
              "      <td>...</td>\n",
              "      <td>...</td>\n",
              "      <td>...</td>\n",
              "    </tr>\n",
              "    <tr>\n",
              "      <th>995</th>\n",
              "      <td>995</td>\n",
              "      <td>0.711461</td>\n",
              "      <td>0.011689</td>\n",
              "      <td>0.966103</td>\n",
              "      <td>0.001242</td>\n",
              "      <td>0.663224</td>\n",
              "      <td>0.014082</td>\n",
              "      <td>0.368113</td>\n",
              "      <td>0.002468</td>\n",
              "    </tr>\n",
              "    <tr>\n",
              "      <th>996</th>\n",
              "      <td>996</td>\n",
              "      <td>0.711388</td>\n",
              "      <td>0.011643</td>\n",
              "      <td>0.966192</td>\n",
              "      <td>0.001237</td>\n",
              "      <td>0.663376</td>\n",
              "      <td>0.014073</td>\n",
              "      <td>0.367912</td>\n",
              "      <td>0.002502</td>\n",
              "    </tr>\n",
              "    <tr>\n",
              "      <th>997</th>\n",
              "      <td>997</td>\n",
              "      <td>0.711373</td>\n",
              "      <td>0.011671</td>\n",
              "      <td>0.966297</td>\n",
              "      <td>0.001197</td>\n",
              "      <td>0.663474</td>\n",
              "      <td>0.014078</td>\n",
              "      <td>0.367692</td>\n",
              "      <td>0.002525</td>\n",
              "    </tr>\n",
              "    <tr>\n",
              "      <th>998</th>\n",
              "      <td>998</td>\n",
              "      <td>0.711374</td>\n",
              "      <td>0.011655</td>\n",
              "      <td>0.966373</td>\n",
              "      <td>0.001170</td>\n",
              "      <td>0.663555</td>\n",
              "      <td>0.014128</td>\n",
              "      <td>0.367523</td>\n",
              "      <td>0.002511</td>\n",
              "    </tr>\n",
              "    <tr>\n",
              "      <th>999</th>\n",
              "      <td>999</td>\n",
              "      <td>0.711364</td>\n",
              "      <td>0.011650</td>\n",
              "      <td>0.966418</td>\n",
              "      <td>0.001153</td>\n",
              "      <td>0.663699</td>\n",
              "      <td>0.014116</td>\n",
              "      <td>0.367365</td>\n",
              "      <td>0.002508</td>\n",
              "    </tr>\n",
              "  </tbody>\n",
              "</table>\n",
              "<p>1000 rows × 9 columns</p>\n",
              "</div>\n",
              "      <button class=\"colab-df-convert\" onclick=\"convertToInteractive('df-556a1870-ba80-4724-bf91-8be7a485504f')\"\n",
              "              title=\"Convert this dataframe to an interactive table.\"\n",
              "              style=\"display:none;\">\n",
              "        \n",
              "  <svg xmlns=\"http://www.w3.org/2000/svg\" height=\"24px\"viewBox=\"0 0 24 24\"\n",
              "       width=\"24px\">\n",
              "    <path d=\"M0 0h24v24H0V0z\" fill=\"none\"/>\n",
              "    <path d=\"M18.56 5.44l.94 2.06.94-2.06 2.06-.94-2.06-.94-.94-2.06-.94 2.06-2.06.94zm-11 1L8.5 8.5l.94-2.06 2.06-.94-2.06-.94L8.5 2.5l-.94 2.06-2.06.94zm10 10l.94 2.06.94-2.06 2.06-.94-2.06-.94-.94-2.06-.94 2.06-2.06.94z\"/><path d=\"M17.41 7.96l-1.37-1.37c-.4-.4-.92-.59-1.43-.59-.52 0-1.04.2-1.43.59L10.3 9.45l-7.72 7.72c-.78.78-.78 2.05 0 2.83L4 21.41c.39.39.9.59 1.41.59.51 0 1.02-.2 1.41-.59l7.78-7.78 2.81-2.81c.8-.78.8-2.07 0-2.86zM5.41 20L4 18.59l7.72-7.72 1.47 1.35L5.41 20z\"/>\n",
              "  </svg>\n",
              "      </button>\n",
              "      \n",
              "  <style>\n",
              "    .colab-df-container {\n",
              "      display:flex;\n",
              "      flex-wrap:wrap;\n",
              "      gap: 12px;\n",
              "    }\n",
              "\n",
              "    .colab-df-convert {\n",
              "      background-color: #E8F0FE;\n",
              "      border: none;\n",
              "      border-radius: 50%;\n",
              "      cursor: pointer;\n",
              "      display: none;\n",
              "      fill: #1967D2;\n",
              "      height: 32px;\n",
              "      padding: 0 0 0 0;\n",
              "      width: 32px;\n",
              "    }\n",
              "\n",
              "    .colab-df-convert:hover {\n",
              "      background-color: #E2EBFA;\n",
              "      box-shadow: 0px 1px 2px rgba(60, 64, 67, 0.3), 0px 1px 3px 1px rgba(60, 64, 67, 0.15);\n",
              "      fill: #174EA6;\n",
              "    }\n",
              "\n",
              "    [theme=dark] .colab-df-convert {\n",
              "      background-color: #3B4455;\n",
              "      fill: #D2E3FC;\n",
              "    }\n",
              "\n",
              "    [theme=dark] .colab-df-convert:hover {\n",
              "      background-color: #434B5C;\n",
              "      box-shadow: 0px 1px 3px 1px rgba(0, 0, 0, 0.15);\n",
              "      filter: drop-shadow(0px 1px 2px rgba(0, 0, 0, 0.3));\n",
              "      fill: #FFFFFF;\n",
              "    }\n",
              "  </style>\n",
              "\n",
              "      <script>\n",
              "        const buttonEl =\n",
              "          document.querySelector('#df-556a1870-ba80-4724-bf91-8be7a485504f button.colab-df-convert');\n",
              "        buttonEl.style.display =\n",
              "          google.colab.kernel.accessAllowed ? 'block' : 'none';\n",
              "\n",
              "        async function convertToInteractive(key) {\n",
              "          const element = document.querySelector('#df-556a1870-ba80-4724-bf91-8be7a485504f');\n",
              "          const dataTable =\n",
              "            await google.colab.kernel.invokeFunction('convertToInteractive',\n",
              "                                                     [key], {});\n",
              "          if (!dataTable) return;\n",
              "\n",
              "          const docLinkHtml = 'Like what you see? Visit the ' +\n",
              "            '<a target=\"_blank\" href=https://colab.research.google.com/notebooks/data_table.ipynb>data table notebook</a>'\n",
              "            + ' to learn more about interactive tables.';\n",
              "          element.innerHTML = '';\n",
              "          dataTable['output_type'] = 'display_data';\n",
              "          await google.colab.output.renderOutput(dataTable, element);\n",
              "          const docLink = document.createElement('div');\n",
              "          docLink.innerHTML = docLinkHtml;\n",
              "          element.appendChild(docLink);\n",
              "        }\n",
              "      </script>\n",
              "    </div>\n",
              "  </div>\n",
              "  "
            ]
          },
          "metadata": {},
          "execution_count": 43
        }
      ]
    },
    {
      "cell_type": "code",
      "source": [
        "cv_results['test-AUC-mean'].argmax(), cv_results['test-AUC-mean'].max()"
      ],
      "metadata": {
        "colab": {
          "base_uri": "https://localhost:8080/"
        },
        "id": "KjjvKMqwsOYz",
        "outputId": "e7d6d97c-9eef-401c-d82a-da727a4d75c0"
      },
      "execution_count": 44,
      "outputs": [
        {
          "output_type": "execute_result",
          "data": {
            "text/plain": [
              "(413, 0.7224084040788601)"
            ]
          },
          "metadata": {},
          "execution_count": 44
        }
      ]
    },
    {
      "cell_type": "code",
      "source": [
        "cb_classifier = CatBoostClassifier(**base_params)\n",
        "# cb_classifier = CatBoostClassifier(**base_params)\n",
        "# cb_classifier = CatBoostClassifier(**base_params)\n",
        "cb_classifier.fit(X, y)"
      ],
      "metadata": {
        "id": "klIwBMdjggL6",
        "outputId": "ee0bfc49-79cd-4f73-b7a0-09b72e6b2a77",
        "colab": {
          "base_uri": "https://localhost:8080/"
        }
      },
      "execution_count": 45,
      "outputs": [
        {
          "output_type": "execute_result",
          "data": {
            "text/plain": [
              "<catboost.core.CatBoostClassifier at 0x7f740343e890>"
            ]
          },
          "metadata": {},
          "execution_count": 45
        }
      ]
    },
    {
      "cell_type": "markdown",
      "metadata": {
        "id": "px_DQazBZ7OT"
      },
      "source": [
        "# Тест"
      ]
    },
    {
      "cell_type": "code",
      "execution_count": 61,
      "metadata": {
        "id": "gDbALCZm8QIG"
      },
      "outputs": [],
      "source": [
        "def write_to_submission_file(predicted_labels, out_file,\n",
        "                             target='target', index_label=\"session_id\"):\n",
        "    # turn predictions into data frame and save as csv file\n",
        "    predicted_df = pd.DataFrame(predicted_labels,\n",
        "                                index = np.arange(predicted_labels.shape[0]),\n",
        "                                columns=[target])\n",
        "    predicted_df.to_csv(out_file, index_label=index_label)"
      ]
    },
    {
      "cell_type": "code",
      "execution_count": 47,
      "metadata": {
        "id": "Uxuvdn5v8QIG",
        "outputId": "795db701-cd20-4e2e-ac9f-f46deb95649a",
        "colab": {
          "base_uri": "https://localhost:8080/",
          "height": 455
        }
      },
      "outputs": [
        {
          "output_type": "execute_result",
          "data": {
            "text/plain": [
              "      Var1  Var2  Var3  Var4  Var5    Var6  Var7  Var8  Var9  Var10  ...  \\\n",
              "ID                                                                   ...   \n",
              "0      NaN   NaN   NaN   NaN   NaN  1225.0   7.0   NaN   NaN    NaN  ...   \n",
              "1      NaN   NaN   NaN   NaN   NaN   896.0  14.0   NaN   NaN    NaN  ...   \n",
              "2      NaN   NaN   NaN   NaN   NaN   791.0   7.0   NaN   NaN    NaN  ...   \n",
              "3      NaN   NaN   NaN   NaN   NaN  2296.0   7.0   NaN   NaN    NaN  ...   \n",
              "4      8.0   NaN   NaN   NaN   NaN     NaN   NaN   NaN  28.0    NaN  ...   \n",
              "...    ...   ...   ...   ...   ...     ...   ...   ...   ...    ...  ...   \n",
              "9995   NaN   NaN   NaN   NaN   NaN   714.0   7.0   NaN   NaN    NaN  ...   \n",
              "9996   NaN   NaN   NaN   NaN   NaN   812.0   7.0   NaN   NaN    NaN  ...   \n",
              "9997   NaN   NaN   NaN   NaN   NaN   819.0   7.0   NaN   NaN    NaN  ...   \n",
              "9998   NaN   NaN   NaN   NaN   NaN     NaN   7.0   NaN   NaN    NaN  ...   \n",
              "9999   NaN   NaN   NaN   NaN   NaN   868.0  14.0   NaN   NaN    NaN  ...   \n",
              "\n",
              "      Var221   Var222      Var223  Var224  Var225  Var226  Var227  \\\n",
              "ID                                                                  \n",
              "0       zCkv  APgdzOv  jySVZNlOJy     NaN    ELof    xb3V    6fzt   \n",
              "1       oslk  IIvC99a  LM8l689qOp     NaN     NaN    xb3V    RAYp   \n",
              "2       oslk  6YSocsg  LM8l689qOp     NaN    kG3k    rgKb    RAYp   \n",
              "3       oslk  5nQ7A2G  jySVZNlOJy     NaN    kG3k    rgKb    RAYp   \n",
              "4       oslk  MI8s5nE  LM8l689qOp     NaN     NaN    7P5s    RAYp   \n",
              "...      ...      ...         ...     ...     ...     ...     ...   \n",
              "9995    zCkv  P6pu4Vl  LM8l689qOp     NaN    ELof    xb3V    ZI9m   \n",
              "9996    oslk  sXbT3Cb  LM8l689qOp     NaN    ELof    WqMG    RAYp   \n",
              "9997    oslk  05jAV0N        M_8D     NaN    ELof    TNEC    RAYp   \n",
              "9998    oslk  RDY7kpB  LM8l689qOp     NaN     NaN    uWr3    RAYp   \n",
              "9999    oslk  gsLzpoz  jySVZNlOJy     NaN     NaN    me1d    RAYp   \n",
              "\n",
              "                Var228  Var229  Var230  \n",
              "ID                                      \n",
              "0              Zy3gnGM     NaN     NaN  \n",
              "1        F2FyR07IdsN7I     NaN     NaN  \n",
              "2        F2FyR07IdsN7I    mj86     NaN  \n",
              "3        F2FyR07IdsN7I    am7c     NaN  \n",
              "4        F2FyR07IdsN7I     NaN     NaN  \n",
              "...                ...     ...     ...  \n",
              "9995  R4y5gQQWY8OodqDV    am7c     NaN  \n",
              "9996           55YFVY9    mj86     NaN  \n",
              "9997           55YFVY9    am7c     NaN  \n",
              "9998           55YFVY9     NaN     NaN  \n",
              "9999     F2FyR07IdsN7I    mj86     NaN  \n",
              "\n",
              "[10000 rows x 230 columns]"
            ],
            "text/html": [
              "\n",
              "  <div id=\"df-c7419458-7746-477e-8aa0-33c474716d92\">\n",
              "    <div class=\"colab-df-container\">\n",
              "      <div>\n",
              "<style scoped>\n",
              "    .dataframe tbody tr th:only-of-type {\n",
              "        vertical-align: middle;\n",
              "    }\n",
              "\n",
              "    .dataframe tbody tr th {\n",
              "        vertical-align: top;\n",
              "    }\n",
              "\n",
              "    .dataframe thead th {\n",
              "        text-align: right;\n",
              "    }\n",
              "</style>\n",
              "<table border=\"1\" class=\"dataframe\">\n",
              "  <thead>\n",
              "    <tr style=\"text-align: right;\">\n",
              "      <th></th>\n",
              "      <th>Var1</th>\n",
              "      <th>Var2</th>\n",
              "      <th>Var3</th>\n",
              "      <th>Var4</th>\n",
              "      <th>Var5</th>\n",
              "      <th>Var6</th>\n",
              "      <th>Var7</th>\n",
              "      <th>Var8</th>\n",
              "      <th>Var9</th>\n",
              "      <th>Var10</th>\n",
              "      <th>...</th>\n",
              "      <th>Var221</th>\n",
              "      <th>Var222</th>\n",
              "      <th>Var223</th>\n",
              "      <th>Var224</th>\n",
              "      <th>Var225</th>\n",
              "      <th>Var226</th>\n",
              "      <th>Var227</th>\n",
              "      <th>Var228</th>\n",
              "      <th>Var229</th>\n",
              "      <th>Var230</th>\n",
              "    </tr>\n",
              "    <tr>\n",
              "      <th>ID</th>\n",
              "      <th></th>\n",
              "      <th></th>\n",
              "      <th></th>\n",
              "      <th></th>\n",
              "      <th></th>\n",
              "      <th></th>\n",
              "      <th></th>\n",
              "      <th></th>\n",
              "      <th></th>\n",
              "      <th></th>\n",
              "      <th></th>\n",
              "      <th></th>\n",
              "      <th></th>\n",
              "      <th></th>\n",
              "      <th></th>\n",
              "      <th></th>\n",
              "      <th></th>\n",
              "      <th></th>\n",
              "      <th></th>\n",
              "      <th></th>\n",
              "      <th></th>\n",
              "    </tr>\n",
              "  </thead>\n",
              "  <tbody>\n",
              "    <tr>\n",
              "      <th>0</th>\n",
              "      <td>NaN</td>\n",
              "      <td>NaN</td>\n",
              "      <td>NaN</td>\n",
              "      <td>NaN</td>\n",
              "      <td>NaN</td>\n",
              "      <td>1225.0</td>\n",
              "      <td>7.0</td>\n",
              "      <td>NaN</td>\n",
              "      <td>NaN</td>\n",
              "      <td>NaN</td>\n",
              "      <td>...</td>\n",
              "      <td>zCkv</td>\n",
              "      <td>APgdzOv</td>\n",
              "      <td>jySVZNlOJy</td>\n",
              "      <td>NaN</td>\n",
              "      <td>ELof</td>\n",
              "      <td>xb3V</td>\n",
              "      <td>6fzt</td>\n",
              "      <td>Zy3gnGM</td>\n",
              "      <td>NaN</td>\n",
              "      <td>NaN</td>\n",
              "    </tr>\n",
              "    <tr>\n",
              "      <th>1</th>\n",
              "      <td>NaN</td>\n",
              "      <td>NaN</td>\n",
              "      <td>NaN</td>\n",
              "      <td>NaN</td>\n",
              "      <td>NaN</td>\n",
              "      <td>896.0</td>\n",
              "      <td>14.0</td>\n",
              "      <td>NaN</td>\n",
              "      <td>NaN</td>\n",
              "      <td>NaN</td>\n",
              "      <td>...</td>\n",
              "      <td>oslk</td>\n",
              "      <td>IIvC99a</td>\n",
              "      <td>LM8l689qOp</td>\n",
              "      <td>NaN</td>\n",
              "      <td>NaN</td>\n",
              "      <td>xb3V</td>\n",
              "      <td>RAYp</td>\n",
              "      <td>F2FyR07IdsN7I</td>\n",
              "      <td>NaN</td>\n",
              "      <td>NaN</td>\n",
              "    </tr>\n",
              "    <tr>\n",
              "      <th>2</th>\n",
              "      <td>NaN</td>\n",
              "      <td>NaN</td>\n",
              "      <td>NaN</td>\n",
              "      <td>NaN</td>\n",
              "      <td>NaN</td>\n",
              "      <td>791.0</td>\n",
              "      <td>7.0</td>\n",
              "      <td>NaN</td>\n",
              "      <td>NaN</td>\n",
              "      <td>NaN</td>\n",
              "      <td>...</td>\n",
              "      <td>oslk</td>\n",
              "      <td>6YSocsg</td>\n",
              "      <td>LM8l689qOp</td>\n",
              "      <td>NaN</td>\n",
              "      <td>kG3k</td>\n",
              "      <td>rgKb</td>\n",
              "      <td>RAYp</td>\n",
              "      <td>F2FyR07IdsN7I</td>\n",
              "      <td>mj86</td>\n",
              "      <td>NaN</td>\n",
              "    </tr>\n",
              "    <tr>\n",
              "      <th>3</th>\n",
              "      <td>NaN</td>\n",
              "      <td>NaN</td>\n",
              "      <td>NaN</td>\n",
              "      <td>NaN</td>\n",
              "      <td>NaN</td>\n",
              "      <td>2296.0</td>\n",
              "      <td>7.0</td>\n",
              "      <td>NaN</td>\n",
              "      <td>NaN</td>\n",
              "      <td>NaN</td>\n",
              "      <td>...</td>\n",
              "      <td>oslk</td>\n",
              "      <td>5nQ7A2G</td>\n",
              "      <td>jySVZNlOJy</td>\n",
              "      <td>NaN</td>\n",
              "      <td>kG3k</td>\n",
              "      <td>rgKb</td>\n",
              "      <td>RAYp</td>\n",
              "      <td>F2FyR07IdsN7I</td>\n",
              "      <td>am7c</td>\n",
              "      <td>NaN</td>\n",
              "    </tr>\n",
              "    <tr>\n",
              "      <th>4</th>\n",
              "      <td>8.0</td>\n",
              "      <td>NaN</td>\n",
              "      <td>NaN</td>\n",
              "      <td>NaN</td>\n",
              "      <td>NaN</td>\n",
              "      <td>NaN</td>\n",
              "      <td>NaN</td>\n",
              "      <td>NaN</td>\n",
              "      <td>28.0</td>\n",
              "      <td>NaN</td>\n",
              "      <td>...</td>\n",
              "      <td>oslk</td>\n",
              "      <td>MI8s5nE</td>\n",
              "      <td>LM8l689qOp</td>\n",
              "      <td>NaN</td>\n",
              "      <td>NaN</td>\n",
              "      <td>7P5s</td>\n",
              "      <td>RAYp</td>\n",
              "      <td>F2FyR07IdsN7I</td>\n",
              "      <td>NaN</td>\n",
              "      <td>NaN</td>\n",
              "    </tr>\n",
              "    <tr>\n",
              "      <th>...</th>\n",
              "      <td>...</td>\n",
              "      <td>...</td>\n",
              "      <td>...</td>\n",
              "      <td>...</td>\n",
              "      <td>...</td>\n",
              "      <td>...</td>\n",
              "      <td>...</td>\n",
              "      <td>...</td>\n",
              "      <td>...</td>\n",
              "      <td>...</td>\n",
              "      <td>...</td>\n",
              "      <td>...</td>\n",
              "      <td>...</td>\n",
              "      <td>...</td>\n",
              "      <td>...</td>\n",
              "      <td>...</td>\n",
              "      <td>...</td>\n",
              "      <td>...</td>\n",
              "      <td>...</td>\n",
              "      <td>...</td>\n",
              "      <td>...</td>\n",
              "    </tr>\n",
              "    <tr>\n",
              "      <th>9995</th>\n",
              "      <td>NaN</td>\n",
              "      <td>NaN</td>\n",
              "      <td>NaN</td>\n",
              "      <td>NaN</td>\n",
              "      <td>NaN</td>\n",
              "      <td>714.0</td>\n",
              "      <td>7.0</td>\n",
              "      <td>NaN</td>\n",
              "      <td>NaN</td>\n",
              "      <td>NaN</td>\n",
              "      <td>...</td>\n",
              "      <td>zCkv</td>\n",
              "      <td>P6pu4Vl</td>\n",
              "      <td>LM8l689qOp</td>\n",
              "      <td>NaN</td>\n",
              "      <td>ELof</td>\n",
              "      <td>xb3V</td>\n",
              "      <td>ZI9m</td>\n",
              "      <td>R4y5gQQWY8OodqDV</td>\n",
              "      <td>am7c</td>\n",
              "      <td>NaN</td>\n",
              "    </tr>\n",
              "    <tr>\n",
              "      <th>9996</th>\n",
              "      <td>NaN</td>\n",
              "      <td>NaN</td>\n",
              "      <td>NaN</td>\n",
              "      <td>NaN</td>\n",
              "      <td>NaN</td>\n",
              "      <td>812.0</td>\n",
              "      <td>7.0</td>\n",
              "      <td>NaN</td>\n",
              "      <td>NaN</td>\n",
              "      <td>NaN</td>\n",
              "      <td>...</td>\n",
              "      <td>oslk</td>\n",
              "      <td>sXbT3Cb</td>\n",
              "      <td>LM8l689qOp</td>\n",
              "      <td>NaN</td>\n",
              "      <td>ELof</td>\n",
              "      <td>WqMG</td>\n",
              "      <td>RAYp</td>\n",
              "      <td>55YFVY9</td>\n",
              "      <td>mj86</td>\n",
              "      <td>NaN</td>\n",
              "    </tr>\n",
              "    <tr>\n",
              "      <th>9997</th>\n",
              "      <td>NaN</td>\n",
              "      <td>NaN</td>\n",
              "      <td>NaN</td>\n",
              "      <td>NaN</td>\n",
              "      <td>NaN</td>\n",
              "      <td>819.0</td>\n",
              "      <td>7.0</td>\n",
              "      <td>NaN</td>\n",
              "      <td>NaN</td>\n",
              "      <td>NaN</td>\n",
              "      <td>...</td>\n",
              "      <td>oslk</td>\n",
              "      <td>05jAV0N</td>\n",
              "      <td>M_8D</td>\n",
              "      <td>NaN</td>\n",
              "      <td>ELof</td>\n",
              "      <td>TNEC</td>\n",
              "      <td>RAYp</td>\n",
              "      <td>55YFVY9</td>\n",
              "      <td>am7c</td>\n",
              "      <td>NaN</td>\n",
              "    </tr>\n",
              "    <tr>\n",
              "      <th>9998</th>\n",
              "      <td>NaN</td>\n",
              "      <td>NaN</td>\n",
              "      <td>NaN</td>\n",
              "      <td>NaN</td>\n",
              "      <td>NaN</td>\n",
              "      <td>NaN</td>\n",
              "      <td>7.0</td>\n",
              "      <td>NaN</td>\n",
              "      <td>NaN</td>\n",
              "      <td>NaN</td>\n",
              "      <td>...</td>\n",
              "      <td>oslk</td>\n",
              "      <td>RDY7kpB</td>\n",
              "      <td>LM8l689qOp</td>\n",
              "      <td>NaN</td>\n",
              "      <td>NaN</td>\n",
              "      <td>uWr3</td>\n",
              "      <td>RAYp</td>\n",
              "      <td>55YFVY9</td>\n",
              "      <td>NaN</td>\n",
              "      <td>NaN</td>\n",
              "    </tr>\n",
              "    <tr>\n",
              "      <th>9999</th>\n",
              "      <td>NaN</td>\n",
              "      <td>NaN</td>\n",
              "      <td>NaN</td>\n",
              "      <td>NaN</td>\n",
              "      <td>NaN</td>\n",
              "      <td>868.0</td>\n",
              "      <td>14.0</td>\n",
              "      <td>NaN</td>\n",
              "      <td>NaN</td>\n",
              "      <td>NaN</td>\n",
              "      <td>...</td>\n",
              "      <td>oslk</td>\n",
              "      <td>gsLzpoz</td>\n",
              "      <td>jySVZNlOJy</td>\n",
              "      <td>NaN</td>\n",
              "      <td>NaN</td>\n",
              "      <td>me1d</td>\n",
              "      <td>RAYp</td>\n",
              "      <td>F2FyR07IdsN7I</td>\n",
              "      <td>mj86</td>\n",
              "      <td>NaN</td>\n",
              "    </tr>\n",
              "  </tbody>\n",
              "</table>\n",
              "<p>10000 rows × 230 columns</p>\n",
              "</div>\n",
              "      <button class=\"colab-df-convert\" onclick=\"convertToInteractive('df-c7419458-7746-477e-8aa0-33c474716d92')\"\n",
              "              title=\"Convert this dataframe to an interactive table.\"\n",
              "              style=\"display:none;\">\n",
              "        \n",
              "  <svg xmlns=\"http://www.w3.org/2000/svg\" height=\"24px\"viewBox=\"0 0 24 24\"\n",
              "       width=\"24px\">\n",
              "    <path d=\"M0 0h24v24H0V0z\" fill=\"none\"/>\n",
              "    <path d=\"M18.56 5.44l.94 2.06.94-2.06 2.06-.94-2.06-.94-.94-2.06-.94 2.06-2.06.94zm-11 1L8.5 8.5l.94-2.06 2.06-.94-2.06-.94L8.5 2.5l-.94 2.06-2.06.94zm10 10l.94 2.06.94-2.06 2.06-.94-2.06-.94-.94-2.06-.94 2.06-2.06.94z\"/><path d=\"M17.41 7.96l-1.37-1.37c-.4-.4-.92-.59-1.43-.59-.52 0-1.04.2-1.43.59L10.3 9.45l-7.72 7.72c-.78.78-.78 2.05 0 2.83L4 21.41c.39.39.9.59 1.41.59.51 0 1.02-.2 1.41-.59l7.78-7.78 2.81-2.81c.8-.78.8-2.07 0-2.86zM5.41 20L4 18.59l7.72-7.72 1.47 1.35L5.41 20z\"/>\n",
              "  </svg>\n",
              "      </button>\n",
              "      \n",
              "  <style>\n",
              "    .colab-df-container {\n",
              "      display:flex;\n",
              "      flex-wrap:wrap;\n",
              "      gap: 12px;\n",
              "    }\n",
              "\n",
              "    .colab-df-convert {\n",
              "      background-color: #E8F0FE;\n",
              "      border: none;\n",
              "      border-radius: 50%;\n",
              "      cursor: pointer;\n",
              "      display: none;\n",
              "      fill: #1967D2;\n",
              "      height: 32px;\n",
              "      padding: 0 0 0 0;\n",
              "      width: 32px;\n",
              "    }\n",
              "\n",
              "    .colab-df-convert:hover {\n",
              "      background-color: #E2EBFA;\n",
              "      box-shadow: 0px 1px 2px rgba(60, 64, 67, 0.3), 0px 1px 3px 1px rgba(60, 64, 67, 0.15);\n",
              "      fill: #174EA6;\n",
              "    }\n",
              "\n",
              "    [theme=dark] .colab-df-convert {\n",
              "      background-color: #3B4455;\n",
              "      fill: #D2E3FC;\n",
              "    }\n",
              "\n",
              "    [theme=dark] .colab-df-convert:hover {\n",
              "      background-color: #434B5C;\n",
              "      box-shadow: 0px 1px 3px 1px rgba(0, 0, 0, 0.15);\n",
              "      filter: drop-shadow(0px 1px 2px rgba(0, 0, 0, 0.3));\n",
              "      fill: #FFFFFF;\n",
              "    }\n",
              "  </style>\n",
              "\n",
              "      <script>\n",
              "        const buttonEl =\n",
              "          document.querySelector('#df-c7419458-7746-477e-8aa0-33c474716d92 button.colab-df-convert');\n",
              "        buttonEl.style.display =\n",
              "          google.colab.kernel.accessAllowed ? 'block' : 'none';\n",
              "\n",
              "        async function convertToInteractive(key) {\n",
              "          const element = document.querySelector('#df-c7419458-7746-477e-8aa0-33c474716d92');\n",
              "          const dataTable =\n",
              "            await google.colab.kernel.invokeFunction('convertToInteractive',\n",
              "                                                     [key], {});\n",
              "          if (!dataTable) return;\n",
              "\n",
              "          const docLinkHtml = 'Like what you see? Visit the ' +\n",
              "            '<a target=\"_blank\" href=https://colab.research.google.com/notebooks/data_table.ipynb>data table notebook</a>'\n",
              "            + ' to learn more about interactive tables.';\n",
              "          element.innerHTML = '';\n",
              "          dataTable['output_type'] = 'display_data';\n",
              "          await google.colab.output.renderOutput(dataTable, element);\n",
              "          const docLink = document.createElement('div');\n",
              "          docLink.innerHTML = docLinkHtml;\n",
              "          element.appendChild(docLink);\n",
              "        }\n",
              "      </script>\n",
              "    </div>\n",
              "  </div>\n",
              "  "
            ]
          },
          "metadata": {},
          "execution_count": 47
        }
      ],
      "source": [
        "df_test = pd.read_csv(os.path.join(PATH_TO_DATA, 'orange_small_churn_test_data.csv'), index_col=0)\n",
        "df_test"
      ]
    },
    {
      "cell_type": "code",
      "execution_count": 48,
      "metadata": {
        "id": "KDNIeK688QIH"
      },
      "outputs": [],
      "source": [
        "df_test.drop(na_vars, axis=1, inplace=True)"
      ]
    },
    {
      "cell_type": "code",
      "source": [
        "df_test_enc = pd.DataFrame(preprocessor.transform(df_test), columns=cols)"
      ],
      "metadata": {
        "id": "FF4M9tlIVd9w"
      },
      "execution_count": 49,
      "outputs": []
    },
    {
      "cell_type": "code",
      "execution_count": 52,
      "metadata": {
        "id": "_7zJxDd-8QIH"
      },
      "outputs": [],
      "source": [
        "submission = cb_classifier.predict_proba(df_test_enc)[:, 1]"
      ]
    },
    {
      "cell_type": "code",
      "source": [
        "write_to_submission_file(submission, 'submission.csv', target='result', index_label='ID')"
      ],
      "metadata": {
        "id": "PBKHRlfuV71R"
      },
      "execution_count": 62,
      "outputs": []
    },
    {
      "cell_type": "code",
      "source": [
        ""
      ],
      "metadata": {
        "id": "ZR24WZX9W8M9"
      },
      "execution_count": null,
      "outputs": []
    }
  ],
  "metadata": {
    "colab": {
      "name": "week_3.ipynb",
      "provenance": [],
      "include_colab_link": true
    },
    "kernelspec": {
      "display_name": "Python 3",
      "language": "python",
      "name": "python3"
    },
    "language_info": {
      "codemirror_mode": {
        "name": "ipython",
        "version": 3
      },
      "file_extension": ".py",
      "mimetype": "text/x-python",
      "name": "python",
      "nbconvert_exporter": "python",
      "pygments_lexer": "ipython3",
      "version": "3.8.8"
    }
  },
  "nbformat": 4,
  "nbformat_minor": 0
}