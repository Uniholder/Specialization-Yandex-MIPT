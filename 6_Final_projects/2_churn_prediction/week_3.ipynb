{
  "cells": [
    {
      "cell_type": "markdown",
      "metadata": {
        "id": "view-in-github",
        "colab_type": "text"
      },
      "source": [
        "<a href=\"https://colab.research.google.com/github/Uniholder/Specialization-Yandex-MIPT/blob/main/6_Final_projects/2_churn_prediction/week_3.ipynb\" target=\"_parent\"><img src=\"https://colab.research.google.com/assets/colab-badge.svg\" alt=\"Open In Colab\"/></a>"
      ]
    },
    {
      "cell_type": "code",
      "execution_count": null,
      "metadata": {
        "id": "7sPiQKEqjFjL",
        "colab": {
          "base_uri": "https://localhost:8080/"
        },
        "outputId": "47b50d24-04c9-4a46-b228-f237e5555342"
      },
      "outputs": [
        {
          "output_type": "stream",
          "name": "stdout",
          "text": [
            "--2022-08-17 11:27:19--  https://stepik.org/media/attachments/lesson/90608/_847b6cd041836e8fa914243e83d898fb_orange_small_churn_data.train\n",
            "Resolving stepik.org (stepik.org)... 13.69.75.239\n",
            "Connecting to stepik.org (stepik.org)|13.69.75.239|:443... connected.\n",
            "HTTP request sent, awaiting response... 200 OK\n",
            "Length: 23722578 (23M) [application/octet-stream]\n",
            "Saving to: ‘data/orange_small_churn_data.train’\n",
            "\n",
            "data/orange_small_c 100%[===================>]  22.62M  11.8MB/s    in 1.9s    \n",
            "\n",
            "2022-08-17 11:27:25 (11.8 MB/s) - ‘data/orange_small_churn_data.train’ saved [23722578/23722578]\n",
            "\n",
            "--2022-08-17 11:27:25--  https://stepik.org/media/attachments/lesson/90608/_ce5e9e4280a8856218f1886f007de2a4_orange_small_churn_labels.train\n",
            "Resolving stepik.org (stepik.org)... 13.69.75.239\n",
            "Connecting to stepik.org (stepik.org)|13.69.75.239|:443... connected.\n",
            "HTTP request sent, awaiting response... 200 OK\n",
            "Length: 117024 (114K) [application/octet-stream]\n",
            "Saving to: ‘data/orange_small_churn_labels.train’\n",
            "\n",
            "data/orange_small_c 100%[===================>] 114.28K   570KB/s    in 0.2s    \n",
            "\n",
            "2022-08-17 11:27:27 (570 KB/s) - ‘data/orange_small_churn_labels.train’ saved [117024/117024]\n",
            "\n",
            "Downloading...\n",
            "From: https://drive.google.com/uc?id=1rW8ZBa870U3DHzERRfy1q777914JKPtA\n",
            "To: /content/data/orange_small_churn_test_data.csv\n",
            "100% 5.98M/5.98M [00:00<00:00, 69.6MB/s]\n"
          ]
        }
      ],
      "source": [
        "!mkdir data\n",
        "!wget -O data/orange_small_churn_data.train https://stepik.org/media/attachments/lesson/90608/_847b6cd041836e8fa914243e83d898fb_orange_small_churn_data.train\n",
        "!wget -O data/orange_small_churn_labels.train https://stepik.org/media/attachments/lesson/90608/_ce5e9e4280a8856218f1886f007de2a4_orange_small_churn_labels.train\n",
        "!gdown -O data/ 1rW8ZBa870U3DHzERRfy1q777914JKPtA"
      ]
    },
    {
      "cell_type": "markdown",
      "metadata": {
        "id": "MoE7Gt-kfhnG"
      },
      "source": [
        "# Входные данные"
      ]
    },
    {
      "cell_type": "code",
      "execution_count": null,
      "metadata": {
        "id": "ujagJYeYa1SR"
      },
      "outputs": [],
      "source": [
        "import pandas as pd\n",
        "import os\n",
        "import numpy as np\n",
        "\n",
        "import warnings\n",
        "warnings.filterwarnings('ignore')\n",
        "\n",
        "from sklearn.model_selection import train_test_split\n",
        "from sklearn.preprocessing import OrdinalEncoder\n",
        "from sklearn.impute import SimpleImputer\n",
        "from sklearn.pipeline import Pipeline\n",
        "from sklearn.compose import ColumnTransformer\n",
        "\n",
        "PATH_TO_DATA = 'data'"
      ]
    },
    {
      "cell_type": "code",
      "execution_count": null,
      "metadata": {
        "id": "iUvbXcAxa1SU",
        "colab": {
          "base_uri": "https://localhost:8080/"
        },
        "outputId": "e6b4bfa9-7f83-4f7e-e96c-bc69489c46e5"
      },
      "outputs": [
        {
          "output_type": "execute_result",
          "data": {
            "text/plain": [
              "(40000, 230)"
            ]
          },
          "metadata": {},
          "execution_count": 3
        }
      ],
      "source": [
        "df_raw = pd.read_csv(os.path.join(PATH_TO_DATA, 'orange_small_churn_data.train'))\n",
        "labels = pd.read_csv(os.path.join(PATH_TO_DATA, 'orange_small_churn_labels.train'), header=None, squeeze=True)\n",
        "df_raw.shape"
      ]
    },
    {
      "cell_type": "code",
      "source": [
        "num_vars = df_raw.columns[:190]\n",
        "cat_vars = df_raw.columns[190:]\n",
        "na_vars = df_raw.columns[df_raw.isna().all()]\n",
        "\n",
        "nna_num_vars = list(set(num_vars) - set(na_vars))\n",
        "nna_cat_vars = list(set(cat_vars) - set(na_vars))"
      ],
      "metadata": {
        "id": "ZNrN8HL5fi8-"
      },
      "execution_count": null,
      "outputs": []
    },
    {
      "cell_type": "code",
      "execution_count": null,
      "metadata": {
        "colab": {
          "base_uri": "https://localhost:8080/"
        },
        "id": "elLHGzHka1Sg",
        "outputId": "5fa39d56-450e-4799-aa4e-89da51faf704"
      },
      "outputs": [
        {
          "output_type": "execute_result",
          "data": {
            "text/plain": [
              "(40000, 213)"
            ]
          },
          "metadata": {},
          "execution_count": 5
        }
      ],
      "source": [
        "df_raw['target'] = labels\n",
        "df = df_raw.dropna(axis=1, how='all')\n",
        "df.shape"
      ]
    },
    {
      "cell_type": "markdown",
      "metadata": {
        "id": "glFkL2-G-QbE"
      },
      "source": [
        "Отделим hold-out dataset"
      ]
    },
    {
      "cell_type": "code",
      "execution_count": null,
      "metadata": {
        "id": "DbQ1kOy_-QbI",
        "colab": {
          "base_uri": "https://localhost:8080/"
        },
        "outputId": "5648c57e-06f3-45ff-e97d-1e8714531bf3"
      },
      "outputs": [
        {
          "output_type": "execute_result",
          "data": {
            "text/plain": [
              "((35000, 213), (5000, 213))"
            ]
          },
          "metadata": {},
          "execution_count": 6
        }
      ],
      "source": [
        "df_train, df_ho = train_test_split(df, test_size=5000)\n",
        "df_train.shape, df_ho.shape"
      ]
    },
    {
      "cell_type": "code",
      "execution_count": null,
      "metadata": {
        "collapsed": true,
        "id": "tnagzubp-QbJ"
      },
      "outputs": [],
      "source": [
        "# df_ho.to_csv(os.path.join(PATH_TO_DATA, 'hold_out_dataset.csv'))"
      ]
    },
    {
      "cell_type": "markdown",
      "source": [
        "Preprocessing"
      ],
      "metadata": {
        "id": "oPQtvGGzuBBd"
      }
    },
    {
      "cell_type": "code",
      "execution_count": null,
      "metadata": {
        "id": "h5ze86nDlyn7"
      },
      "outputs": [],
      "source": [
        "cols = df_train.drop('target', axis=1).columns"
      ]
    },
    {
      "cell_type": "code",
      "source": [
        "cat_encoder = ColumnTransformer(\n",
        "    transformers=[\n",
        "        (\"cat\", OrdinalEncoder(handle_unknown='use_encoded_value', unknown_value=-1), nna_cat_vars)\n",
        "    ], remainder='passthrough'\n",
        ")\n",
        "\n",
        "preprocessor = Pipeline([\n",
        "    ('imputer', SimpleImputer(strategy='most_frequent')),\n",
        "    ('cat_encoder', OrdinalEncoder(handle_unknown='use_encoded_value', unknown_value=-1))\n",
        "])"
      ],
      "metadata": {
        "id": "nUFdVpE4kPat"
      },
      "execution_count": null,
      "outputs": []
    },
    {
      "cell_type": "code",
      "execution_count": null,
      "metadata": {
        "id": "58Kz-c_cggu4",
        "outputId": "555bf4d6-13c9-4ca1-fc0f-4f842322c83c",
        "colab": {
          "base_uri": "https://localhost:8080/"
        }
      },
      "outputs": [
        {
          "output_type": "stream",
          "name": "stdout",
          "text": [
            "CPU times: user 6.74 s, sys: 751 ms, total: 7.49 s\n",
            "Wall time: 7.49 s\n"
          ]
        }
      ],
      "source": [
        "%%time\n",
        "df_train_enc = pd.DataFrame(preprocessor.fit_transform(df_train[cols]), columns=cols)"
      ]
    },
    {
      "cell_type": "code",
      "source": [
        "df_train_enc"
      ],
      "metadata": {
        "id": "v9SziuMNqjMW",
        "outputId": "dffe309a-7a35-4063-987f-15ed327c653c",
        "colab": {
          "base_uri": "https://localhost:8080/",
          "height": 419
        }
      },
      "execution_count": null,
      "outputs": [
        {
          "output_type": "execute_result",
          "data": {
            "text/plain": [
              "       Var1  Var2  Var3  Var4   Var5   Var6  Var7  Var9  Var10  Var11  ...  \\\n",
              "0       0.0   0.0   0.0   0.0    0.0  123.0   1.0   0.0    0.0    0.0  ...   \n",
              "1       0.0   0.0   0.0   0.0    0.0  271.0   4.0   0.0    0.0    0.0  ...   \n",
              "2       0.0   0.0   0.0   0.0    0.0   65.0   0.0   0.0    0.0    0.0  ...   \n",
              "3       0.0   0.0   0.0   0.0   60.0    0.0   1.0   0.0    0.0    0.0  ...   \n",
              "4       0.0   0.0   0.0   0.0    0.0  111.0   1.0   0.0    0.0    0.0  ...   \n",
              "...     ...   ...   ...   ...    ...    ...   ...   ...    ...    ...  ...   \n",
              "34995   0.0   0.0   0.0   0.0    0.0  126.0   1.0   0.0    0.0    0.0  ...   \n",
              "34996   0.0   0.0   0.0   0.0    0.0  122.0   1.0   0.0    0.0    0.0  ...   \n",
              "34997   0.0   0.0   0.0   0.0    0.0   95.0   1.0   0.0    0.0    0.0  ...   \n",
              "34998   0.0   0.0   0.0   0.0    0.0  124.0   1.0   0.0    0.0    0.0  ...   \n",
              "34999   0.0   0.0   0.0   0.0  287.0    0.0   1.0   0.0  259.0    0.0  ...   \n",
              "\n",
              "       Var220  Var221  Var222  Var223  Var224  Var225  Var226  Var227  Var228  \\\n",
              "0      2652.0     4.0  1004.0     0.0     0.0     1.0     6.0     2.0     8.0   \n",
              "1       305.0     4.0  2352.0     3.0     0.0     1.0    18.0     3.0    15.0   \n",
              "2      1465.0     4.0  1889.0     0.0     0.0     2.0    10.0     2.0     8.0   \n",
              "3      3637.0     4.0  3572.0     0.0     0.0     0.0     0.0     2.0     8.0   \n",
              "4      2285.0     4.0  1421.0     3.0     0.0     0.0    10.0     2.0     2.0   \n",
              "...       ...     ...     ...     ...     ...     ...     ...     ...     ...   \n",
              "34995   260.0     4.0  1610.0     1.0     0.0     1.0     0.0     2.0     2.0   \n",
              "34996  3010.0     4.0  3546.0     0.0     0.0     0.0    10.0     2.0     8.0   \n",
              "34997  1807.0     6.0   566.0     0.0     0.0     2.0    13.0     1.0    29.0   \n",
              "34998    71.0     4.0   734.0     0.0     0.0     0.0    12.0     2.0     8.0   \n",
              "34999  2940.0     4.0  1850.0     0.0     0.0     0.0    17.0     2.0     8.0   \n",
              "\n",
              "       Var229  \n",
              "0         0.0  \n",
              "1         0.0  \n",
              "2         1.0  \n",
              "3         0.0  \n",
              "4         0.0  \n",
              "...       ...  \n",
              "34995     0.0  \n",
              "34996     0.0  \n",
              "34997     0.0  \n",
              "34998     0.0  \n",
              "34999     0.0  \n",
              "\n",
              "[35000 rows x 212 columns]"
            ],
            "text/html": [
              "\n",
              "  <div id=\"df-7cd86ab7-4db5-40fd-8be6-4c8cb3ae0f6b\">\n",
              "    <div class=\"colab-df-container\">\n",
              "      <div>\n",
              "<style scoped>\n",
              "    .dataframe tbody tr th:only-of-type {\n",
              "        vertical-align: middle;\n",
              "    }\n",
              "\n",
              "    .dataframe tbody tr th {\n",
              "        vertical-align: top;\n",
              "    }\n",
              "\n",
              "    .dataframe thead th {\n",
              "        text-align: right;\n",
              "    }\n",
              "</style>\n",
              "<table border=\"1\" class=\"dataframe\">\n",
              "  <thead>\n",
              "    <tr style=\"text-align: right;\">\n",
              "      <th></th>\n",
              "      <th>Var1</th>\n",
              "      <th>Var2</th>\n",
              "      <th>Var3</th>\n",
              "      <th>Var4</th>\n",
              "      <th>Var5</th>\n",
              "      <th>Var6</th>\n",
              "      <th>Var7</th>\n",
              "      <th>Var9</th>\n",
              "      <th>Var10</th>\n",
              "      <th>Var11</th>\n",
              "      <th>...</th>\n",
              "      <th>Var220</th>\n",
              "      <th>Var221</th>\n",
              "      <th>Var222</th>\n",
              "      <th>Var223</th>\n",
              "      <th>Var224</th>\n",
              "      <th>Var225</th>\n",
              "      <th>Var226</th>\n",
              "      <th>Var227</th>\n",
              "      <th>Var228</th>\n",
              "      <th>Var229</th>\n",
              "    </tr>\n",
              "  </thead>\n",
              "  <tbody>\n",
              "    <tr>\n",
              "      <th>0</th>\n",
              "      <td>0.0</td>\n",
              "      <td>0.0</td>\n",
              "      <td>0.0</td>\n",
              "      <td>0.0</td>\n",
              "      <td>0.0</td>\n",
              "      <td>123.0</td>\n",
              "      <td>1.0</td>\n",
              "      <td>0.0</td>\n",
              "      <td>0.0</td>\n",
              "      <td>0.0</td>\n",
              "      <td>...</td>\n",
              "      <td>2652.0</td>\n",
              "      <td>4.0</td>\n",
              "      <td>1004.0</td>\n",
              "      <td>0.0</td>\n",
              "      <td>0.0</td>\n",
              "      <td>1.0</td>\n",
              "      <td>6.0</td>\n",
              "      <td>2.0</td>\n",
              "      <td>8.0</td>\n",
              "      <td>0.0</td>\n",
              "    </tr>\n",
              "    <tr>\n",
              "      <th>1</th>\n",
              "      <td>0.0</td>\n",
              "      <td>0.0</td>\n",
              "      <td>0.0</td>\n",
              "      <td>0.0</td>\n",
              "      <td>0.0</td>\n",
              "      <td>271.0</td>\n",
              "      <td>4.0</td>\n",
              "      <td>0.0</td>\n",
              "      <td>0.0</td>\n",
              "      <td>0.0</td>\n",
              "      <td>...</td>\n",
              "      <td>305.0</td>\n",
              "      <td>4.0</td>\n",
              "      <td>2352.0</td>\n",
              "      <td>3.0</td>\n",
              "      <td>0.0</td>\n",
              "      <td>1.0</td>\n",
              "      <td>18.0</td>\n",
              "      <td>3.0</td>\n",
              "      <td>15.0</td>\n",
              "      <td>0.0</td>\n",
              "    </tr>\n",
              "    <tr>\n",
              "      <th>2</th>\n",
              "      <td>0.0</td>\n",
              "      <td>0.0</td>\n",
              "      <td>0.0</td>\n",
              "      <td>0.0</td>\n",
              "      <td>0.0</td>\n",
              "      <td>65.0</td>\n",
              "      <td>0.0</td>\n",
              "      <td>0.0</td>\n",
              "      <td>0.0</td>\n",
              "      <td>0.0</td>\n",
              "      <td>...</td>\n",
              "      <td>1465.0</td>\n",
              "      <td>4.0</td>\n",
              "      <td>1889.0</td>\n",
              "      <td>0.0</td>\n",
              "      <td>0.0</td>\n",
              "      <td>2.0</td>\n",
              "      <td>10.0</td>\n",
              "      <td>2.0</td>\n",
              "      <td>8.0</td>\n",
              "      <td>1.0</td>\n",
              "    </tr>\n",
              "    <tr>\n",
              "      <th>3</th>\n",
              "      <td>0.0</td>\n",
              "      <td>0.0</td>\n",
              "      <td>0.0</td>\n",
              "      <td>0.0</td>\n",
              "      <td>60.0</td>\n",
              "      <td>0.0</td>\n",
              "      <td>1.0</td>\n",
              "      <td>0.0</td>\n",
              "      <td>0.0</td>\n",
              "      <td>0.0</td>\n",
              "      <td>...</td>\n",
              "      <td>3637.0</td>\n",
              "      <td>4.0</td>\n",
              "      <td>3572.0</td>\n",
              "      <td>0.0</td>\n",
              "      <td>0.0</td>\n",
              "      <td>0.0</td>\n",
              "      <td>0.0</td>\n",
              "      <td>2.0</td>\n",
              "      <td>8.0</td>\n",
              "      <td>0.0</td>\n",
              "    </tr>\n",
              "    <tr>\n",
              "      <th>4</th>\n",
              "      <td>0.0</td>\n",
              "      <td>0.0</td>\n",
              "      <td>0.0</td>\n",
              "      <td>0.0</td>\n",
              "      <td>0.0</td>\n",
              "      <td>111.0</td>\n",
              "      <td>1.0</td>\n",
              "      <td>0.0</td>\n",
              "      <td>0.0</td>\n",
              "      <td>0.0</td>\n",
              "      <td>...</td>\n",
              "      <td>2285.0</td>\n",
              "      <td>4.0</td>\n",
              "      <td>1421.0</td>\n",
              "      <td>3.0</td>\n",
              "      <td>0.0</td>\n",
              "      <td>0.0</td>\n",
              "      <td>10.0</td>\n",
              "      <td>2.0</td>\n",
              "      <td>2.0</td>\n",
              "      <td>0.0</td>\n",
              "    </tr>\n",
              "    <tr>\n",
              "      <th>...</th>\n",
              "      <td>...</td>\n",
              "      <td>...</td>\n",
              "      <td>...</td>\n",
              "      <td>...</td>\n",
              "      <td>...</td>\n",
              "      <td>...</td>\n",
              "      <td>...</td>\n",
              "      <td>...</td>\n",
              "      <td>...</td>\n",
              "      <td>...</td>\n",
              "      <td>...</td>\n",
              "      <td>...</td>\n",
              "      <td>...</td>\n",
              "      <td>...</td>\n",
              "      <td>...</td>\n",
              "      <td>...</td>\n",
              "      <td>...</td>\n",
              "      <td>...</td>\n",
              "      <td>...</td>\n",
              "      <td>...</td>\n",
              "      <td>...</td>\n",
              "    </tr>\n",
              "    <tr>\n",
              "      <th>34995</th>\n",
              "      <td>0.0</td>\n",
              "      <td>0.0</td>\n",
              "      <td>0.0</td>\n",
              "      <td>0.0</td>\n",
              "      <td>0.0</td>\n",
              "      <td>126.0</td>\n",
              "      <td>1.0</td>\n",
              "      <td>0.0</td>\n",
              "      <td>0.0</td>\n",
              "      <td>0.0</td>\n",
              "      <td>...</td>\n",
              "      <td>260.0</td>\n",
              "      <td>4.0</td>\n",
              "      <td>1610.0</td>\n",
              "      <td>1.0</td>\n",
              "      <td>0.0</td>\n",
              "      <td>1.0</td>\n",
              "      <td>0.0</td>\n",
              "      <td>2.0</td>\n",
              "      <td>2.0</td>\n",
              "      <td>0.0</td>\n",
              "    </tr>\n",
              "    <tr>\n",
              "      <th>34996</th>\n",
              "      <td>0.0</td>\n",
              "      <td>0.0</td>\n",
              "      <td>0.0</td>\n",
              "      <td>0.0</td>\n",
              "      <td>0.0</td>\n",
              "      <td>122.0</td>\n",
              "      <td>1.0</td>\n",
              "      <td>0.0</td>\n",
              "      <td>0.0</td>\n",
              "      <td>0.0</td>\n",
              "      <td>...</td>\n",
              "      <td>3010.0</td>\n",
              "      <td>4.0</td>\n",
              "      <td>3546.0</td>\n",
              "      <td>0.0</td>\n",
              "      <td>0.0</td>\n",
              "      <td>0.0</td>\n",
              "      <td>10.0</td>\n",
              "      <td>2.0</td>\n",
              "      <td>8.0</td>\n",
              "      <td>0.0</td>\n",
              "    </tr>\n",
              "    <tr>\n",
              "      <th>34997</th>\n",
              "      <td>0.0</td>\n",
              "      <td>0.0</td>\n",
              "      <td>0.0</td>\n",
              "      <td>0.0</td>\n",
              "      <td>0.0</td>\n",
              "      <td>95.0</td>\n",
              "      <td>1.0</td>\n",
              "      <td>0.0</td>\n",
              "      <td>0.0</td>\n",
              "      <td>0.0</td>\n",
              "      <td>...</td>\n",
              "      <td>1807.0</td>\n",
              "      <td>6.0</td>\n",
              "      <td>566.0</td>\n",
              "      <td>0.0</td>\n",
              "      <td>0.0</td>\n",
              "      <td>2.0</td>\n",
              "      <td>13.0</td>\n",
              "      <td>1.0</td>\n",
              "      <td>29.0</td>\n",
              "      <td>0.0</td>\n",
              "    </tr>\n",
              "    <tr>\n",
              "      <th>34998</th>\n",
              "      <td>0.0</td>\n",
              "      <td>0.0</td>\n",
              "      <td>0.0</td>\n",
              "      <td>0.0</td>\n",
              "      <td>0.0</td>\n",
              "      <td>124.0</td>\n",
              "      <td>1.0</td>\n",
              "      <td>0.0</td>\n",
              "      <td>0.0</td>\n",
              "      <td>0.0</td>\n",
              "      <td>...</td>\n",
              "      <td>71.0</td>\n",
              "      <td>4.0</td>\n",
              "      <td>734.0</td>\n",
              "      <td>0.0</td>\n",
              "      <td>0.0</td>\n",
              "      <td>0.0</td>\n",
              "      <td>12.0</td>\n",
              "      <td>2.0</td>\n",
              "      <td>8.0</td>\n",
              "      <td>0.0</td>\n",
              "    </tr>\n",
              "    <tr>\n",
              "      <th>34999</th>\n",
              "      <td>0.0</td>\n",
              "      <td>0.0</td>\n",
              "      <td>0.0</td>\n",
              "      <td>0.0</td>\n",
              "      <td>287.0</td>\n",
              "      <td>0.0</td>\n",
              "      <td>1.0</td>\n",
              "      <td>0.0</td>\n",
              "      <td>259.0</td>\n",
              "      <td>0.0</td>\n",
              "      <td>...</td>\n",
              "      <td>2940.0</td>\n",
              "      <td>4.0</td>\n",
              "      <td>1850.0</td>\n",
              "      <td>0.0</td>\n",
              "      <td>0.0</td>\n",
              "      <td>0.0</td>\n",
              "      <td>17.0</td>\n",
              "      <td>2.0</td>\n",
              "      <td>8.0</td>\n",
              "      <td>0.0</td>\n",
              "    </tr>\n",
              "  </tbody>\n",
              "</table>\n",
              "<p>35000 rows × 212 columns</p>\n",
              "</div>\n",
              "      <button class=\"colab-df-convert\" onclick=\"convertToInteractive('df-7cd86ab7-4db5-40fd-8be6-4c8cb3ae0f6b')\"\n",
              "              title=\"Convert this dataframe to an interactive table.\"\n",
              "              style=\"display:none;\">\n",
              "        \n",
              "  <svg xmlns=\"http://www.w3.org/2000/svg\" height=\"24px\"viewBox=\"0 0 24 24\"\n",
              "       width=\"24px\">\n",
              "    <path d=\"M0 0h24v24H0V0z\" fill=\"none\"/>\n",
              "    <path d=\"M18.56 5.44l.94 2.06.94-2.06 2.06-.94-2.06-.94-.94-2.06-.94 2.06-2.06.94zm-11 1L8.5 8.5l.94-2.06 2.06-.94-2.06-.94L8.5 2.5l-.94 2.06-2.06.94zm10 10l.94 2.06.94-2.06 2.06-.94-2.06-.94-.94-2.06-.94 2.06-2.06.94z\"/><path d=\"M17.41 7.96l-1.37-1.37c-.4-.4-.92-.59-1.43-.59-.52 0-1.04.2-1.43.59L10.3 9.45l-7.72 7.72c-.78.78-.78 2.05 0 2.83L4 21.41c.39.39.9.59 1.41.59.51 0 1.02-.2 1.41-.59l7.78-7.78 2.81-2.81c.8-.78.8-2.07 0-2.86zM5.41 20L4 18.59l7.72-7.72 1.47 1.35L5.41 20z\"/>\n",
              "  </svg>\n",
              "      </button>\n",
              "      \n",
              "  <style>\n",
              "    .colab-df-container {\n",
              "      display:flex;\n",
              "      flex-wrap:wrap;\n",
              "      gap: 12px;\n",
              "    }\n",
              "\n",
              "    .colab-df-convert {\n",
              "      background-color: #E8F0FE;\n",
              "      border: none;\n",
              "      border-radius: 50%;\n",
              "      cursor: pointer;\n",
              "      display: none;\n",
              "      fill: #1967D2;\n",
              "      height: 32px;\n",
              "      padding: 0 0 0 0;\n",
              "      width: 32px;\n",
              "    }\n",
              "\n",
              "    .colab-df-convert:hover {\n",
              "      background-color: #E2EBFA;\n",
              "      box-shadow: 0px 1px 2px rgba(60, 64, 67, 0.3), 0px 1px 3px 1px rgba(60, 64, 67, 0.15);\n",
              "      fill: #174EA6;\n",
              "    }\n",
              "\n",
              "    [theme=dark] .colab-df-convert {\n",
              "      background-color: #3B4455;\n",
              "      fill: #D2E3FC;\n",
              "    }\n",
              "\n",
              "    [theme=dark] .colab-df-convert:hover {\n",
              "      background-color: #434B5C;\n",
              "      box-shadow: 0px 1px 3px 1px rgba(0, 0, 0, 0.15);\n",
              "      filter: drop-shadow(0px 1px 2px rgba(0, 0, 0, 0.3));\n",
              "      fill: #FFFFFF;\n",
              "    }\n",
              "  </style>\n",
              "\n",
              "      <script>\n",
              "        const buttonEl =\n",
              "          document.querySelector('#df-7cd86ab7-4db5-40fd-8be6-4c8cb3ae0f6b button.colab-df-convert');\n",
              "        buttonEl.style.display =\n",
              "          google.colab.kernel.accessAllowed ? 'block' : 'none';\n",
              "\n",
              "        async function convertToInteractive(key) {\n",
              "          const element = document.querySelector('#df-7cd86ab7-4db5-40fd-8be6-4c8cb3ae0f6b');\n",
              "          const dataTable =\n",
              "            await google.colab.kernel.invokeFunction('convertToInteractive',\n",
              "                                                     [key], {});\n",
              "          if (!dataTable) return;\n",
              "\n",
              "          const docLinkHtml = 'Like what you see? Visit the ' +\n",
              "            '<a target=\"_blank\" href=https://colab.research.google.com/notebooks/data_table.ipynb>data table notebook</a>'\n",
              "            + ' to learn more about interactive tables.';\n",
              "          element.innerHTML = '';\n",
              "          dataTable['output_type'] = 'display_data';\n",
              "          await google.colab.output.renderOutput(dataTable, element);\n",
              "          const docLink = document.createElement('div');\n",
              "          docLink.innerHTML = docLinkHtml;\n",
              "          element.appendChild(docLink);\n",
              "        }\n",
              "      </script>\n",
              "    </div>\n",
              "  </div>\n",
              "  "
            ]
          },
          "metadata": {},
          "execution_count": 11
        }
      ]
    },
    {
      "cell_type": "code",
      "execution_count": null,
      "metadata": {
        "colab": {
          "base_uri": "https://localhost:8080/"
        },
        "id": "tX4SG9Pw8QH8",
        "outputId": "032b7e12-71f4-4965-db50-102f0b3f5aad"
      },
      "outputs": [
        {
          "output_type": "execute_result",
          "data": {
            "text/plain": [
              "0.0    28081\n",
              "1.0     6866\n",
              "3.0       27\n",
              "2.0       26\n",
              "Name: Var229, dtype: int64"
            ]
          },
          "metadata": {},
          "execution_count": 12
        }
      ],
      "source": [
        "df_train_enc['Var229'].value_counts()"
      ]
    },
    {
      "cell_type": "code",
      "source": [
        "%%time\n",
        "df_ho_enc = pd.DataFrame(preprocessor.transform(df_ho[cols]), columns=cols)"
      ],
      "metadata": {
        "id": "4U5W1gPWloCh",
        "outputId": "bb855ecf-f10e-4f03-a139-3291511cf66f",
        "colab": {
          "base_uri": "https://localhost:8080/"
        }
      },
      "execution_count": null,
      "outputs": [
        {
          "output_type": "stream",
          "name": "stdout",
          "text": [
            "CPU times: user 3.04 s, sys: 38.1 ms, total: 3.08 s\n",
            "Wall time: 3.27 s\n"
          ]
        }
      ]
    },
    {
      "cell_type": "markdown",
      "metadata": {
        "id": "6APhGtQqoEPI"
      },
      "source": [
        "# Модель"
      ]
    },
    {
      "cell_type": "code",
      "source": [
        "!pip install catboost"
      ],
      "metadata": {
        "colab": {
          "base_uri": "https://localhost:8080/"
        },
        "id": "hWUuRcF6zKfb",
        "outputId": "6a5a28a1-c733-43ca-91b1-787a551d4919"
      },
      "execution_count": null,
      "outputs": [
        {
          "output_type": "stream",
          "name": "stdout",
          "text": [
            "Looking in indexes: https://pypi.org/simple, https://us-python.pkg.dev/colab-wheels/public/simple/\n",
            "Collecting catboost\n",
            "  Downloading catboost-1.0.6-cp37-none-manylinux1_x86_64.whl (76.6 MB)\n",
            "\u001b[K     |████████████████████████████████| 76.6 MB 1.2 MB/s \n",
            "\u001b[?25hRequirement already satisfied: pandas>=0.24.0 in /usr/local/lib/python3.7/dist-packages (from catboost) (1.3.5)\n",
            "Requirement already satisfied: plotly in /usr/local/lib/python3.7/dist-packages (from catboost) (5.5.0)\n",
            "Requirement already satisfied: matplotlib in /usr/local/lib/python3.7/dist-packages (from catboost) (3.2.2)\n",
            "Requirement already satisfied: numpy>=1.16.0 in /usr/local/lib/python3.7/dist-packages (from catboost) (1.21.6)\n",
            "Requirement already satisfied: graphviz in /usr/local/lib/python3.7/dist-packages (from catboost) (0.10.1)\n",
            "Requirement already satisfied: scipy in /usr/local/lib/python3.7/dist-packages (from catboost) (1.7.3)\n",
            "Requirement already satisfied: six in /usr/local/lib/python3.7/dist-packages (from catboost) (1.15.0)\n",
            "Requirement already satisfied: python-dateutil>=2.7.3 in /usr/local/lib/python3.7/dist-packages (from pandas>=0.24.0->catboost) (2.8.2)\n",
            "Requirement already satisfied: pytz>=2017.3 in /usr/local/lib/python3.7/dist-packages (from pandas>=0.24.0->catboost) (2022.1)\n",
            "Requirement already satisfied: pyparsing!=2.0.4,!=2.1.2,!=2.1.6,>=2.0.1 in /usr/local/lib/python3.7/dist-packages (from matplotlib->catboost) (3.0.9)\n",
            "Requirement already satisfied: cycler>=0.10 in /usr/local/lib/python3.7/dist-packages (from matplotlib->catboost) (0.11.0)\n",
            "Requirement already satisfied: kiwisolver>=1.0.1 in /usr/local/lib/python3.7/dist-packages (from matplotlib->catboost) (1.4.4)\n",
            "Requirement already satisfied: typing-extensions in /usr/local/lib/python3.7/dist-packages (from kiwisolver>=1.0.1->matplotlib->catboost) (4.1.1)\n",
            "Requirement already satisfied: tenacity>=6.2.0 in /usr/local/lib/python3.7/dist-packages (from plotly->catboost) (8.0.1)\n",
            "Installing collected packages: catboost\n",
            "Successfully installed catboost-1.0.6\n"
          ]
        }
      ]
    },
    {
      "cell_type": "code",
      "execution_count": null,
      "metadata": {
        "id": "d_z-7neK-QbN"
      },
      "outputs": [],
      "source": [
        "from sklearn.model_selection import cross_val_score, StratifiedShuffleSplit, cross_validate\n",
        "from sklearn.linear_model import RidgeClassifier, LogisticRegression, SGDClassifier\n",
        "from sklearn.ensemble import RandomForestClassifier, GradientBoostingClassifier\n",
        "from sklearn.metrics import classification_report, roc_auc_score\n",
        "\n",
        "from catboost import CatBoostClassifier, cv, Pool"
      ]
    },
    {
      "cell_type": "code",
      "execution_count": null,
      "metadata": {
        "id": "afhCAbT2MuGz"
      },
      "outputs": [],
      "source": [
        "X, y = df_train_enc, df_train.target\n",
        "X_val, y_val = df_ho_enc, df_ho.target\n",
        "cv_scheme = StratifiedShuffleSplit(random_state=0, )"
      ]
    },
    {
      "cell_type": "markdown",
      "metadata": {
        "id": "hnD3QfsFA_2j"
      },
      "source": [
        "## LogisticRegression"
      ]
    },
    {
      "cell_type": "code",
      "execution_count": null,
      "metadata": {
        "id": "HVd-TOPxMGGb",
        "outputId": "4ecbdd40-7eb9-4a5c-d481-33c77569f4f3",
        "colab": {
          "base_uri": "https://localhost:8080/"
        }
      },
      "outputs": [
        {
          "output_type": "stream",
          "name": "stdout",
          "text": [
            "CPU times: user 366 ms, sys: 140 ms, total: 506 ms\n",
            "Wall time: 18.4 s\n"
          ]
        }
      ],
      "source": [
        "%%time\n",
        "cv_results = cross_validate(estimator=LogisticRegression(random_state=0), X=X, y=y, n_jobs=-1, scoring='roc_auc', cv=cv_scheme)"
      ]
    },
    {
      "cell_type": "code",
      "source": [
        "cv_results['test_score'], cv_results['test_score'].mean()"
      ],
      "metadata": {
        "colab": {
          "base_uri": "https://localhost:8080/"
        },
        "id": "kA6-a1Bd1ZSq",
        "outputId": "cb68ae37-b12f-4b4d-8c15-7bffb9703a33"
      },
      "execution_count": null,
      "outputs": [
        {
          "output_type": "execute_result",
          "data": {
            "text/plain": [
              "(array([0.53476614, 0.55761854, 0.56420703, 0.55347365, 0.57323837,\n",
              "        0.56892589, 0.57951567, 0.57544368, 0.5675691 , 0.57288743]),\n",
              " 0.5647645488417107)"
            ]
          },
          "metadata": {},
          "execution_count": 23
        }
      ]
    },
    {
      "cell_type": "code",
      "execution_count": null,
      "metadata": {
        "colab": {
          "base_uri": "https://localhost:8080/"
        },
        "id": "Qw0k5A4xALeL",
        "outputId": "c6a3c123-f0f0-47df-e4de-e8d68bd85709"
      },
      "outputs": [
        {
          "output_type": "stream",
          "name": "stdout",
          "text": [
            "0.5135658880874645\n",
            "              precision    recall  f1-score   support\n",
            "\n",
            "          -1       0.93      1.00      0.96      4629\n",
            "           1       0.00      0.00      0.00       371\n",
            "\n",
            "    accuracy                           0.93      5000\n",
            "   macro avg       0.46      0.50      0.48      5000\n",
            "weighted avg       0.86      0.93      0.89      5000\n",
            "\n"
          ]
        }
      ],
      "source": [
        "lr = LogisticRegression(random_state=0)\n",
        "lr.fit(X, y)\n",
        "print(roc_auc_score(y_val, lr.predict_proba(X_val)[:, 1]))\n",
        "print(classification_report(y_val, lr.predict(X_val)))"
      ]
    },
    {
      "cell_type": "markdown",
      "metadata": {
        "id": "TsRjv64BEIOA"
      },
      "source": [
        "### SGDClassifier"
      ]
    },
    {
      "cell_type": "code",
      "execution_count": null,
      "metadata": {
        "id": "9NCh5terwJ2r",
        "outputId": "e2e8a49b-be8e-4588-885f-b2663c44eee8",
        "colab": {
          "base_uri": "https://localhost:8080/"
        }
      },
      "outputs": [
        {
          "output_type": "stream",
          "name": "stdout",
          "text": [
            "CPU times: user 703 ms, sys: 106 ms, total: 809 ms\n",
            "Wall time: 1min 13s\n"
          ]
        }
      ],
      "source": [
        "%%time\n",
        "cv_results = cross_validate(estimator=SGDClassifier(random_state=0, loss='log'), X=X, y=y, n_jobs=-1, scoring='roc_auc', cv=cv_scheme)"
      ]
    },
    {
      "cell_type": "code",
      "execution_count": null,
      "metadata": {
        "colab": {
          "base_uri": "https://localhost:8080/"
        },
        "id": "CjpMomntENB-",
        "outputId": "e3d2fd10-d657-4517-80cd-319f2e2e9c55"
      },
      "outputs": [
        {
          "output_type": "execute_result",
          "data": {
            "text/plain": [
              "(array([0.51876543, 0.43883986, 0.46424027, 0.56143576, 0.51058879,\n",
              "        0.4664819 , 0.59929962, 0.57223565, 0.48581642, 0.49131691]),\n",
              " 0.5109020606804557)"
            ]
          },
          "metadata": {},
          "execution_count": 48
        }
      ],
      "source": [
        "cv_results['test_score'], cv_results['test_score'].mean()"
      ]
    },
    {
      "cell_type": "code",
      "execution_count": null,
      "metadata": {
        "colab": {
          "base_uri": "https://localhost:8080/"
        },
        "id": "YjRLb8e_ExTV",
        "outputId": "14d66b5a-9954-453a-f1d5-659ba0c813b6"
      },
      "outputs": [
        {
          "output_type": "stream",
          "name": "stdout",
          "text": [
            "0.49977902115981576\n",
            "              precision    recall  f1-score   support\n",
            "\n",
            "          -1       0.93      0.99      0.96      4629\n",
            "           1       0.07      0.01      0.01       371\n",
            "\n",
            "    accuracy                           0.92      5000\n",
            "   macro avg       0.50      0.50      0.48      5000\n",
            "weighted avg       0.86      0.92      0.89      5000\n",
            "\n"
          ]
        }
      ],
      "source": [
        "sgdc = SGDClassifier(random_state=0, loss='log')\n",
        "sgdc.fit(X, y)\n",
        "print(roc_auc_score(y_val, sgdc.predict_proba(X_val)[:, 1]))\n",
        "print(classification_report(y_val, sgdc.predict(X_val)))"
      ]
    },
    {
      "cell_type": "markdown",
      "source": [
        "## Linear models без predict_proba"
      ],
      "metadata": {
        "id": "IO0ku7DfsFmm"
      }
    },
    {
      "cell_type": "code",
      "source": [
        "rc = RidgeClassifier(random_state=0)\n",
        "rc.fit(X, y)\n",
        "print(rc.score(X_val, y_val))\n",
        "print(classification_report(y_val, rc.predict(X_val)))"
      ],
      "metadata": {
        "id": "hvzV9ZOtsQvz",
        "outputId": "d157f74d-bdfb-4625-98e9-86a0174ce7a9",
        "colab": {
          "base_uri": "https://localhost:8080/"
        }
      },
      "execution_count": null,
      "outputs": [
        {
          "output_type": "stream",
          "name": "stdout",
          "text": [
            "0.9258\n",
            "              precision    recall  f1-score   support\n",
            "\n",
            "          -1       0.93      1.00      0.96      4629\n",
            "           1       0.00      0.00      0.00       371\n",
            "\n",
            "    accuracy                           0.93      5000\n",
            "   macro avg       0.46      0.50      0.48      5000\n",
            "weighted avg       0.86      0.93      0.89      5000\n",
            "\n"
          ]
        }
      ]
    },
    {
      "cell_type": "code",
      "source": [
        "np.unique(rc.predict(X_val))"
      ],
      "metadata": {
        "id": "bwu18rnitKJ0",
        "outputId": "79dc9f33-6ca8-453c-c7dd-e6dfad06c805",
        "colab": {
          "base_uri": "https://localhost:8080/"
        }
      },
      "execution_count": null,
      "outputs": [
        {
          "output_type": "execute_result",
          "data": {
            "text/plain": [
              "array([-1])"
            ]
          },
          "metadata": {},
          "execution_count": 52
        }
      ]
    },
    {
      "cell_type": "code",
      "source": [
        "sgdc_hinge = SGDClassifier(random_state=0)\n",
        "sgdc_hinge.fit(X, y)\n",
        "print(sgdc_hinge.score(X_val, y_val))\n",
        "print(classification_report(y_val, sgdc_hinge.predict(X_val)))"
      ],
      "metadata": {
        "id": "ykF4V2W4usYn",
        "outputId": "044a1ca1-2cde-42d5-a8be-17bc45a0e18a",
        "colab": {
          "base_uri": "https://localhost:8080/"
        }
      },
      "execution_count": null,
      "outputs": [
        {
          "output_type": "stream",
          "name": "stdout",
          "text": [
            "0.9002\n",
            "              precision    recall  f1-score   support\n",
            "\n",
            "          -1       0.93      0.97      0.95      4629\n",
            "           1       0.10      0.05      0.06       371\n",
            "\n",
            "    accuracy                           0.90      5000\n",
            "   macro avg       0.52      0.51      0.51      5000\n",
            "weighted avg       0.87      0.90      0.88      5000\n",
            "\n"
          ]
        }
      ]
    },
    {
      "cell_type": "code",
      "source": [
        "np.unique(sgdc_hinge.predict(X_val), return_counts=True)"
      ],
      "metadata": {
        "id": "BI1eFcquu1d3",
        "outputId": "46f814fb-7203-4b7e-9614-0099a26069f9",
        "colab": {
          "base_uri": "https://localhost:8080/"
        }
      },
      "execution_count": null,
      "outputs": [
        {
          "output_type": "execute_result",
          "data": {
            "text/plain": [
              "(array([-1,  1]), array([4838,  162]))"
            ]
          },
          "metadata": {},
          "execution_count": 55
        }
      ]
    },
    {
      "cell_type": "markdown",
      "metadata": {
        "id": "-xN2rGWRERcC"
      },
      "source": [
        "## RandomForestClassifier"
      ]
    },
    {
      "cell_type": "code",
      "execution_count": null,
      "metadata": {
        "id": "jzLrYBAvx-OO"
      },
      "outputs": [],
      "source": [
        "rfc = RandomForestClassifier(oob_score=True)"
      ]
    },
    {
      "cell_type": "code",
      "execution_count": null,
      "metadata": {
        "colab": {
          "base_uri": "https://localhost:8080/"
        },
        "id": "ZWXkTqFXwa0b",
        "outputId": "520c6bd4-e1cd-48d6-b753-e7b960790c32"
      },
      "outputs": [
        {
          "output_type": "execute_result",
          "data": {
            "text/plain": [
              "RandomForestClassifier(oob_score=True)"
            ]
          },
          "metadata": {},
          "execution_count": 57
        }
      ],
      "source": [
        "rfc.fit(X, y)"
      ]
    },
    {
      "cell_type": "code",
      "execution_count": null,
      "metadata": {
        "colab": {
          "base_uri": "https://localhost:8080/"
        },
        "id": "Ux7lwdfoyVT8",
        "outputId": "26fc4980-3206-4ecb-9142-de9067dcbac8"
      },
      "outputs": [
        {
          "output_type": "execute_result",
          "data": {
            "text/plain": [
              "0.9255142857142857"
            ]
          },
          "metadata": {},
          "execution_count": 58
        }
      ],
      "source": [
        "rfc.oob_score_"
      ]
    },
    {
      "cell_type": "code",
      "execution_count": null,
      "metadata": {
        "colab": {
          "base_uri": "https://localhost:8080/"
        },
        "id": "8-poMGMCzCVV",
        "outputId": "e6de0247-c172-4049-bb06-7693cb5eb7e9"
      },
      "outputs": [
        {
          "output_type": "stream",
          "name": "stdout",
          "text": [
            "CPU times: user 929 ms, sys: 197 ms, total: 1.13 s\n",
            "Wall time: 1min 52s\n"
          ]
        }
      ],
      "source": [
        "%%time\n",
        "cv_results = cross_validate(estimator=RandomForestClassifier(random_state=0), X=X, y=y, n_jobs=-1, scoring='roc_auc', cv=cv_scheme)"
      ]
    },
    {
      "cell_type": "code",
      "source": [
        "cv_results['test_score'], cv_results['test_score'].mean()"
      ],
      "metadata": {
        "colab": {
          "base_uri": "https://localhost:8080/"
        },
        "id": "v8Q_4O-r4IJc",
        "outputId": "397afc5a-c491-4f78-c36d-119c131a8380"
      },
      "execution_count": null,
      "outputs": [
        {
          "output_type": "execute_result",
          "data": {
            "text/plain": [
              "(array([0.68615503, 0.64888115, 0.65147851, 0.65385348, 0.69890491,\n",
              "        0.6616417 , 0.67809948, 0.63893709, 0.63717102, 0.69673839]),\n",
              " 0.6651860770637715)"
            ]
          },
          "metadata": {},
          "execution_count": 60
        }
      ]
    },
    {
      "cell_type": "code",
      "execution_count": null,
      "metadata": {
        "colab": {
          "base_uri": "https://localhost:8080/"
        },
        "id": "JjPxs7lXZdzb",
        "outputId": "e2922ac1-2c43-4af7-dc79-db4f08359876"
      },
      "outputs": [
        {
          "output_type": "stream",
          "name": "stdout",
          "text": [
            "0.6076507591016205\n",
            "              precision    recall  f1-score   support\n",
            "\n",
            "          -1       0.93      1.00      0.96      4629\n",
            "           1       0.00      0.00      0.00       371\n",
            "\n",
            "    accuracy                           0.93      5000\n",
            "   macro avg       0.46      0.50      0.48      5000\n",
            "weighted avg       0.86      0.93      0.89      5000\n",
            "\n"
          ]
        }
      ],
      "source": [
        "rfc = RandomForestClassifier(random_state=0)\n",
        "rfc.fit(X, y)\n",
        "print(roc_auc_score(y_val, rfc.predict_proba(X_val)[:, 1]))\n",
        "print(classification_report(y_val, rfc.predict(X_val)))"
      ]
    },
    {
      "cell_type": "markdown",
      "metadata": {
        "id": "HY0lfKTYZWGf"
      },
      "source": [
        "## GradientBoostingClassifier"
      ]
    },
    {
      "cell_type": "code",
      "source": [
        "%%time\n",
        "cv_results = cross_validate(estimator=GradientBoostingClassifier(random_state=0), X=X, y=y, n_jobs=-1, scoring='roc_auc', cv=cv_scheme)"
      ],
      "metadata": {
        "colab": {
          "base_uri": "https://localhost:8080/"
        },
        "id": "DgUKoSRBkmvs",
        "outputId": "dba5542e-de35-4aa9-bfcb-7257bd77b381"
      },
      "execution_count": null,
      "outputs": [
        {
          "output_type": "stream",
          "name": "stdout",
          "text": [
            "CPU times: user 2.94 s, sys: 381 ms, total: 3.32 s\n",
            "Wall time: 7min 25s\n"
          ]
        }
      ]
    },
    {
      "cell_type": "code",
      "source": [
        "cv_results['test_score'], cv_results['test_score'].mean()"
      ],
      "metadata": {
        "colab": {
          "base_uri": "https://localhost:8080/"
        },
        "id": "dN404Bjbp0Pd",
        "outputId": "9aebb89c-177b-4208-b881-dfbe18f23d82"
      },
      "execution_count": null,
      "outputs": [
        {
          "output_type": "execute_result",
          "data": {
            "text/plain": [
              "(array([0.74062203, 0.72099437, 0.75275641, 0.71550098, 0.76534069,\n",
              "        0.72266877, 0.73486111, 0.71619357, 0.7206738 , 0.77232401]),\n",
              " 0.7361935741904585)"
            ]
          },
          "metadata": {},
          "execution_count": 63
        }
      ]
    },
    {
      "cell_type": "code",
      "execution_count": null,
      "metadata": {
        "colab": {
          "base_uri": "https://localhost:8080/"
        },
        "id": "sO28auWiZ25G",
        "outputId": "9de5b841-8466-4839-d817-3a67fb3988fa"
      },
      "outputs": [
        {
          "output_type": "stream",
          "name": "stdout",
          "text": [
            "0.6333803823195965\n",
            "              precision    recall  f1-score   support\n",
            "\n",
            "          -1       0.93      0.97      0.95      4629\n",
            "           1       0.11      0.04      0.06       371\n",
            "\n",
            "    accuracy                           0.90      5000\n",
            "   macro avg       0.52      0.51      0.51      5000\n",
            "weighted avg       0.87      0.90      0.88      5000\n",
            "\n"
          ]
        }
      ],
      "source": [
        "%%time\n",
        "gbc = GradientBoostingClassifier(random_state=0)\n",
        "gbc.fit(X, y)\n",
        "print(roc_auc_score(y_val, gbc.predict_proba(X_val)[:, 1]))\n",
        "print(classification_report(y_val, gbc.predict(X_val)))"
      ]
    },
    {
      "cell_type": "markdown",
      "source": [
        "## CatBoost"
      ],
      "metadata": {
        "id": "0yf-Lk8KvGPf"
      }
    },
    {
      "cell_type": "code",
      "source": [
        "base_params = {\n",
        "    'eval_metric': 'AUC:hints=skip_train~false', \n",
        "    'verbose': False,\n",
        "    'loss_function': 'Logloss'\n",
        "}"
      ],
      "metadata": {
        "id": "bR1MlULv--43"
      },
      "execution_count": null,
      "outputs": []
    },
    {
      "cell_type": "code",
      "source": [
        "%%time\n",
        "cv_results = cv(\n",
        "    params={**base_params},\n",
        "    pool=Pool(X, y),\n",
        "    fold_count=5,\n",
        "    shuffle=True,\n",
        "    # plot=True,\n",
        "    type='Classical'\n",
        ")"
      ],
      "metadata": {
        "colab": {
          "base_uri": "https://localhost:8080/"
        },
        "id": "4-neUt4Do6sn",
        "outputId": "616bbd52-6398-44ea-925d-19a01a948dc1"
      },
      "execution_count": null,
      "outputs": [
        {
          "output_type": "stream",
          "name": "stdout",
          "text": [
            "Training on fold [0/5]\n",
            "\n",
            "bestTest = 0.7286707179\n",
            "bestIteration = 720\n",
            "\n",
            "Training on fold [1/5]\n",
            "\n",
            "bestTest = 0.7373131384\n",
            "bestIteration = 645\n",
            "\n",
            "Training on fold [2/5]\n",
            "\n",
            "bestTest = 0.7296767735\n",
            "bestIteration = 702\n",
            "\n",
            "Training on fold [3/5]\n",
            "\n",
            "bestTest = 0.7241633164\n",
            "bestIteration = 515\n",
            "\n",
            "Training on fold [4/5]\n",
            "\n",
            "bestTest = 0.7240637773\n",
            "bestIteration = 497\n",
            "\n",
            "CPU times: user 6min 35s, sys: 19.3 s, total: 6min 54s\n",
            "Wall time: 4min 18s\n"
          ]
        }
      ]
    },
    {
      "cell_type": "code",
      "source": [
        "cv_results"
      ],
      "metadata": {
        "colab": {
          "base_uri": "https://localhost:8080/",
          "height": 419
        },
        "id": "T4rSt4iJsN94",
        "outputId": "90769ee0-db06-4571-e844-54a7cffad209"
      },
      "execution_count": null,
      "outputs": [
        {
          "output_type": "execute_result",
          "data": {
            "text/plain": [
              "     iterations  test-AUC-mean  test-AUC-std  train-AUC-mean  train-AUC-std  \\\n",
              "0             0       0.512145      0.010277        0.515849       0.002189   \n",
              "1             1       0.552348      0.017032        0.563089       0.017614   \n",
              "2             2       0.644128      0.007802        0.656502       0.002526   \n",
              "3             3       0.647211      0.008819        0.661261       0.001069   \n",
              "4             4       0.650984      0.006798        0.663917       0.001575   \n",
              "..          ...            ...           ...             ...            ...   \n",
              "995         995       0.726673      0.006105        0.878823       0.002602   \n",
              "996         996       0.726636      0.006101        0.878985       0.002652   \n",
              "997         997       0.726591      0.006081        0.879063       0.002555   \n",
              "998         998       0.726619      0.006127        0.879152       0.002513   \n",
              "999         999       0.726609      0.006125        0.879194       0.002458   \n",
              "\n",
              "     test-Logloss-mean  test-Logloss-std  train-Logloss-mean  \\\n",
              "0             0.661528          0.000092            0.661518   \n",
              "1             0.631977          0.000223            0.631923   \n",
              "2             0.602548          0.000187            0.602489   \n",
              "3             0.577617          0.000145            0.577540   \n",
              "4             0.554591          0.000160            0.554514   \n",
              "..                 ...               ...                 ...   \n",
              "995           0.240820          0.001232            0.197044   \n",
              "996           0.240832          0.001235            0.196984   \n",
              "997           0.240843          0.001224            0.196944   \n",
              "998           0.240839          0.001231            0.196911   \n",
              "999           0.240840          0.001232            0.196888   \n",
              "\n",
              "     train-Logloss-std  \n",
              "0             0.000073  \n",
              "1             0.000237  \n",
              "2             0.000110  \n",
              "3             0.000042  \n",
              "4             0.000061  \n",
              "..                 ...  \n",
              "995           0.000944  \n",
              "996           0.000972  \n",
              "997           0.000943  \n",
              "998           0.000934  \n",
              "999           0.000912  \n",
              "\n",
              "[1000 rows x 9 columns]"
            ],
            "text/html": [
              "\n",
              "  <div id=\"df-e03d1522-fa7c-4345-a6e5-110ccdbcb6fa\">\n",
              "    <div class=\"colab-df-container\">\n",
              "      <div>\n",
              "<style scoped>\n",
              "    .dataframe tbody tr th:only-of-type {\n",
              "        vertical-align: middle;\n",
              "    }\n",
              "\n",
              "    .dataframe tbody tr th {\n",
              "        vertical-align: top;\n",
              "    }\n",
              "\n",
              "    .dataframe thead th {\n",
              "        text-align: right;\n",
              "    }\n",
              "</style>\n",
              "<table border=\"1\" class=\"dataframe\">\n",
              "  <thead>\n",
              "    <tr style=\"text-align: right;\">\n",
              "      <th></th>\n",
              "      <th>iterations</th>\n",
              "      <th>test-AUC-mean</th>\n",
              "      <th>test-AUC-std</th>\n",
              "      <th>train-AUC-mean</th>\n",
              "      <th>train-AUC-std</th>\n",
              "      <th>test-Logloss-mean</th>\n",
              "      <th>test-Logloss-std</th>\n",
              "      <th>train-Logloss-mean</th>\n",
              "      <th>train-Logloss-std</th>\n",
              "    </tr>\n",
              "  </thead>\n",
              "  <tbody>\n",
              "    <tr>\n",
              "      <th>0</th>\n",
              "      <td>0</td>\n",
              "      <td>0.512145</td>\n",
              "      <td>0.010277</td>\n",
              "      <td>0.515849</td>\n",
              "      <td>0.002189</td>\n",
              "      <td>0.661528</td>\n",
              "      <td>0.000092</td>\n",
              "      <td>0.661518</td>\n",
              "      <td>0.000073</td>\n",
              "    </tr>\n",
              "    <tr>\n",
              "      <th>1</th>\n",
              "      <td>1</td>\n",
              "      <td>0.552348</td>\n",
              "      <td>0.017032</td>\n",
              "      <td>0.563089</td>\n",
              "      <td>0.017614</td>\n",
              "      <td>0.631977</td>\n",
              "      <td>0.000223</td>\n",
              "      <td>0.631923</td>\n",
              "      <td>0.000237</td>\n",
              "    </tr>\n",
              "    <tr>\n",
              "      <th>2</th>\n",
              "      <td>2</td>\n",
              "      <td>0.644128</td>\n",
              "      <td>0.007802</td>\n",
              "      <td>0.656502</td>\n",
              "      <td>0.002526</td>\n",
              "      <td>0.602548</td>\n",
              "      <td>0.000187</td>\n",
              "      <td>0.602489</td>\n",
              "      <td>0.000110</td>\n",
              "    </tr>\n",
              "    <tr>\n",
              "      <th>3</th>\n",
              "      <td>3</td>\n",
              "      <td>0.647211</td>\n",
              "      <td>0.008819</td>\n",
              "      <td>0.661261</td>\n",
              "      <td>0.001069</td>\n",
              "      <td>0.577617</td>\n",
              "      <td>0.000145</td>\n",
              "      <td>0.577540</td>\n",
              "      <td>0.000042</td>\n",
              "    </tr>\n",
              "    <tr>\n",
              "      <th>4</th>\n",
              "      <td>4</td>\n",
              "      <td>0.650984</td>\n",
              "      <td>0.006798</td>\n",
              "      <td>0.663917</td>\n",
              "      <td>0.001575</td>\n",
              "      <td>0.554591</td>\n",
              "      <td>0.000160</td>\n",
              "      <td>0.554514</td>\n",
              "      <td>0.000061</td>\n",
              "    </tr>\n",
              "    <tr>\n",
              "      <th>...</th>\n",
              "      <td>...</td>\n",
              "      <td>...</td>\n",
              "      <td>...</td>\n",
              "      <td>...</td>\n",
              "      <td>...</td>\n",
              "      <td>...</td>\n",
              "      <td>...</td>\n",
              "      <td>...</td>\n",
              "      <td>...</td>\n",
              "    </tr>\n",
              "    <tr>\n",
              "      <th>995</th>\n",
              "      <td>995</td>\n",
              "      <td>0.726673</td>\n",
              "      <td>0.006105</td>\n",
              "      <td>0.878823</td>\n",
              "      <td>0.002602</td>\n",
              "      <td>0.240820</td>\n",
              "      <td>0.001232</td>\n",
              "      <td>0.197044</td>\n",
              "      <td>0.000944</td>\n",
              "    </tr>\n",
              "    <tr>\n",
              "      <th>996</th>\n",
              "      <td>996</td>\n",
              "      <td>0.726636</td>\n",
              "      <td>0.006101</td>\n",
              "      <td>0.878985</td>\n",
              "      <td>0.002652</td>\n",
              "      <td>0.240832</td>\n",
              "      <td>0.001235</td>\n",
              "      <td>0.196984</td>\n",
              "      <td>0.000972</td>\n",
              "    </tr>\n",
              "    <tr>\n",
              "      <th>997</th>\n",
              "      <td>997</td>\n",
              "      <td>0.726591</td>\n",
              "      <td>0.006081</td>\n",
              "      <td>0.879063</td>\n",
              "      <td>0.002555</td>\n",
              "      <td>0.240843</td>\n",
              "      <td>0.001224</td>\n",
              "      <td>0.196944</td>\n",
              "      <td>0.000943</td>\n",
              "    </tr>\n",
              "    <tr>\n",
              "      <th>998</th>\n",
              "      <td>998</td>\n",
              "      <td>0.726619</td>\n",
              "      <td>0.006127</td>\n",
              "      <td>0.879152</td>\n",
              "      <td>0.002513</td>\n",
              "      <td>0.240839</td>\n",
              "      <td>0.001231</td>\n",
              "      <td>0.196911</td>\n",
              "      <td>0.000934</td>\n",
              "    </tr>\n",
              "    <tr>\n",
              "      <th>999</th>\n",
              "      <td>999</td>\n",
              "      <td>0.726609</td>\n",
              "      <td>0.006125</td>\n",
              "      <td>0.879194</td>\n",
              "      <td>0.002458</td>\n",
              "      <td>0.240840</td>\n",
              "      <td>0.001232</td>\n",
              "      <td>0.196888</td>\n",
              "      <td>0.000912</td>\n",
              "    </tr>\n",
              "  </tbody>\n",
              "</table>\n",
              "<p>1000 rows × 9 columns</p>\n",
              "</div>\n",
              "      <button class=\"colab-df-convert\" onclick=\"convertToInteractive('df-e03d1522-fa7c-4345-a6e5-110ccdbcb6fa')\"\n",
              "              title=\"Convert this dataframe to an interactive table.\"\n",
              "              style=\"display:none;\">\n",
              "        \n",
              "  <svg xmlns=\"http://www.w3.org/2000/svg\" height=\"24px\"viewBox=\"0 0 24 24\"\n",
              "       width=\"24px\">\n",
              "    <path d=\"M0 0h24v24H0V0z\" fill=\"none\"/>\n",
              "    <path d=\"M18.56 5.44l.94 2.06.94-2.06 2.06-.94-2.06-.94-.94-2.06-.94 2.06-2.06.94zm-11 1L8.5 8.5l.94-2.06 2.06-.94-2.06-.94L8.5 2.5l-.94 2.06-2.06.94zm10 10l.94 2.06.94-2.06 2.06-.94-2.06-.94-.94-2.06-.94 2.06-2.06.94z\"/><path d=\"M17.41 7.96l-1.37-1.37c-.4-.4-.92-.59-1.43-.59-.52 0-1.04.2-1.43.59L10.3 9.45l-7.72 7.72c-.78.78-.78 2.05 0 2.83L4 21.41c.39.39.9.59 1.41.59.51 0 1.02-.2 1.41-.59l7.78-7.78 2.81-2.81c.8-.78.8-2.07 0-2.86zM5.41 20L4 18.59l7.72-7.72 1.47 1.35L5.41 20z\"/>\n",
              "  </svg>\n",
              "      </button>\n",
              "      \n",
              "  <style>\n",
              "    .colab-df-container {\n",
              "      display:flex;\n",
              "      flex-wrap:wrap;\n",
              "      gap: 12px;\n",
              "    }\n",
              "\n",
              "    .colab-df-convert {\n",
              "      background-color: #E8F0FE;\n",
              "      border: none;\n",
              "      border-radius: 50%;\n",
              "      cursor: pointer;\n",
              "      display: none;\n",
              "      fill: #1967D2;\n",
              "      height: 32px;\n",
              "      padding: 0 0 0 0;\n",
              "      width: 32px;\n",
              "    }\n",
              "\n",
              "    .colab-df-convert:hover {\n",
              "      background-color: #E2EBFA;\n",
              "      box-shadow: 0px 1px 2px rgba(60, 64, 67, 0.3), 0px 1px 3px 1px rgba(60, 64, 67, 0.15);\n",
              "      fill: #174EA6;\n",
              "    }\n",
              "\n",
              "    [theme=dark] .colab-df-convert {\n",
              "      background-color: #3B4455;\n",
              "      fill: #D2E3FC;\n",
              "    }\n",
              "\n",
              "    [theme=dark] .colab-df-convert:hover {\n",
              "      background-color: #434B5C;\n",
              "      box-shadow: 0px 1px 3px 1px rgba(0, 0, 0, 0.15);\n",
              "      filter: drop-shadow(0px 1px 2px rgba(0, 0, 0, 0.3));\n",
              "      fill: #FFFFFF;\n",
              "    }\n",
              "  </style>\n",
              "\n",
              "      <script>\n",
              "        const buttonEl =\n",
              "          document.querySelector('#df-e03d1522-fa7c-4345-a6e5-110ccdbcb6fa button.colab-df-convert');\n",
              "        buttonEl.style.display =\n",
              "          google.colab.kernel.accessAllowed ? 'block' : 'none';\n",
              "\n",
              "        async function convertToInteractive(key) {\n",
              "          const element = document.querySelector('#df-e03d1522-fa7c-4345-a6e5-110ccdbcb6fa');\n",
              "          const dataTable =\n",
              "            await google.colab.kernel.invokeFunction('convertToInteractive',\n",
              "                                                     [key], {});\n",
              "          if (!dataTable) return;\n",
              "\n",
              "          const docLinkHtml = 'Like what you see? Visit the ' +\n",
              "            '<a target=\"_blank\" href=https://colab.research.google.com/notebooks/data_table.ipynb>data table notebook</a>'\n",
              "            + ' to learn more about interactive tables.';\n",
              "          element.innerHTML = '';\n",
              "          dataTable['output_type'] = 'display_data';\n",
              "          await google.colab.output.renderOutput(dataTable, element);\n",
              "          const docLink = document.createElement('div');\n",
              "          docLink.innerHTML = docLinkHtml;\n",
              "          element.appendChild(docLink);\n",
              "        }\n",
              "      </script>\n",
              "    </div>\n",
              "  </div>\n",
              "  "
            ]
          },
          "metadata": {},
          "execution_count": 67
        }
      ]
    },
    {
      "cell_type": "code",
      "source": [
        "cv_results['test-AUC-mean'].argmax(), cv_results['test-AUC-mean'].max()"
      ],
      "metadata": {
        "colab": {
          "base_uri": "https://localhost:8080/"
        },
        "id": "KjjvKMqwsOYz",
        "outputId": "3d394afb-8fa4-4e8d-c38d-765350b16ea7"
      },
      "execution_count": null,
      "outputs": [
        {
          "output_type": "execute_result",
          "data": {
            "text/plain": [
              "(616, 0.728358117870255)"
            ]
          },
          "metadata": {},
          "execution_count": 68
        }
      ]
    },
    {
      "cell_type": "code",
      "source": [
        "%%time\n",
        "cat_boost_cl = CatBoostClassifier(**base_params)\n",
        "cat_boost_cl.fit(X, y)\n",
        "print(roc_auc_score(y_val, cat_boost_cl.predict_proba(X_val)[:, 1]))\n",
        "print(classification_report(y_val, cat_boost_cl.predict(X_val)))"
      ],
      "metadata": {
        "id": "yg-eJRrqzoOk",
        "outputId": "853a1e4f-98e2-4c71-97ba-8ea4da75e425",
        "colab": {
          "base_uri": "https://localhost:8080/"
        }
      },
      "execution_count": null,
      "outputs": [
        {
          "output_type": "stream",
          "name": "stdout",
          "text": [
            "0.7064975931066249\n",
            "              precision    recall  f1-score   support\n",
            "\n",
            "          -1       0.93      1.00      0.96      4629\n",
            "           1       0.29      0.01      0.01       371\n",
            "\n",
            "    accuracy                           0.93      5000\n",
            "   macro avg       0.61      0.50      0.49      5000\n",
            "weighted avg       0.88      0.93      0.89      5000\n",
            "\n",
            "CPU times: user 1min 29s, sys: 2.78 s, total: 1min 31s\n",
            "Wall time: 1min\n"
          ]
        }
      ]
    },
    {
      "cell_type": "markdown",
      "source": [
        "## CatBoost out of the box"
      ],
      "metadata": {
        "id": "4gyr74Yx1Mi4"
      }
    },
    {
      "cell_type": "code",
      "source": [
        "df_train[cols]"
      ],
      "metadata": {
        "id": "f8FzMGtr1EJu",
        "outputId": "bf463882-c5ae-4bce-b7c5-1bd9bd434868",
        "colab": {
          "base_uri": "https://localhost:8080/",
          "height": 419
        }
      },
      "execution_count": null,
      "outputs": [
        {
          "output_type": "execute_result",
          "data": {
            "text/plain": [
              "       Var1  Var2  Var3  Var4      Var5    Var6  Var7  Var9      Var10  Var11  \\\n",
              "8988    NaN   NaN   NaN   NaN       NaN   861.0   7.0   NaN        NaN    NaN   \n",
              "12847   NaN   NaN   NaN   NaN       NaN  1897.0  28.0   NaN        NaN    NaN   \n",
              "28412   NaN   NaN   NaN   NaN       NaN   455.0   0.0   NaN        NaN    NaN   \n",
              "27589   NaN   NaN   NaN   NaN   31485.0     NaN   NaN   NaN        0.0    NaN   \n",
              "12556   NaN   NaN   NaN   NaN       NaN   777.0   7.0   NaN        NaN    NaN   \n",
              "...     ...   ...   ...   ...       ...     ...   ...   ...        ...    ...   \n",
              "35470   NaN   NaN   NaN   NaN       NaN   882.0   7.0   NaN        NaN    NaN   \n",
              "39476   NaN   NaN   NaN   NaN       NaN   854.0   7.0   NaN        NaN    NaN   \n",
              "29123   NaN   NaN   NaN   NaN       NaN   665.0   7.0   NaN        NaN    NaN   \n",
              "8642    NaN   NaN   NaN   NaN       NaN   868.0   NaN   NaN        NaN    NaN   \n",
              "6042    NaN   NaN   NaN   NaN  686285.0     NaN   NaN   NaN  1148094.0    NaN   \n",
              "\n",
              "       ...   Var220  Var221   Var222      Var223  Var224  Var225  Var226  \\\n",
              "8988   ...  gmDv8BP    oslk  HCTwS9i  LM8l689qOp     NaN    kG3k    Aoh3   \n",
              "12847  ...  4UxGlow    oslk  catzS2D  jySVZNlOJy     NaN    kG3k    szEZ   \n",
              "28412  ...  OXxv4zN    oslk  VWtE4Qn  LM8l689qOp     NaN    xG3x    Qu4f   \n",
              "27589  ...  zLzYH7D    oslk  xb5Ty9x  LM8l689qOp     NaN     NaN    3Cy4   \n",
              "12556  ...  aD1vOIl    oslk  NnYzgmc  jySVZNlOJy     NaN     NaN    Qu4f   \n",
              "...    ...      ...     ...      ...         ...     ...     ...     ...   \n",
              "35470  ...  3s4OZ4E    oslk  QpZO8fW        M_8D     NaN    kG3k    3Cy4   \n",
              "39476  ...  n2dvEWW    oslk  xInqI2t  LM8l689qOp     NaN     NaN    Qu4f   \n",
              "29123  ...  UF16siJ    zCkv  APgdzOv  LM8l689qOp     NaN    xG3x    Xa3G   \n",
              "8642   ...  1FARoKG    oslk  CnZoIp0  LM8l689qOp     NaN     NaN    WqMG   \n",
              "6042   ...  llYv48t    oslk  V51EKx8  LM8l689qOp     NaN     NaN    rgKb   \n",
              "\n",
              "       Var227         Var228  Var229  \n",
              "8988     RAYp  F2FyR07IdsN7I    am7c  \n",
              "12847    ZI9m           VjDE    am7c  \n",
              "28412    RAYp  F2FyR07IdsN7I    mj86  \n",
              "27589    RAYp  F2FyR07IdsN7I     NaN  \n",
              "12556    RAYp        55YFVY9    am7c  \n",
              "...       ...            ...     ...  \n",
              "35470    RAYp        55YFVY9    am7c  \n",
              "39476    RAYp  F2FyR07IdsN7I     NaN  \n",
              "29123    6fzt  xwM2aC7IdeMC0    am7c  \n",
              "8642     RAYp  F2FyR07IdsN7I     NaN  \n",
              "6042     RAYp  F2FyR07IdsN7I     NaN  \n",
              "\n",
              "[35000 rows x 212 columns]"
            ],
            "text/html": [
              "\n",
              "  <div id=\"df-295624c4-770a-4faa-949a-c2c7ce1b2163\">\n",
              "    <div class=\"colab-df-container\">\n",
              "      <div>\n",
              "<style scoped>\n",
              "    .dataframe tbody tr th:only-of-type {\n",
              "        vertical-align: middle;\n",
              "    }\n",
              "\n",
              "    .dataframe tbody tr th {\n",
              "        vertical-align: top;\n",
              "    }\n",
              "\n",
              "    .dataframe thead th {\n",
              "        text-align: right;\n",
              "    }\n",
              "</style>\n",
              "<table border=\"1\" class=\"dataframe\">\n",
              "  <thead>\n",
              "    <tr style=\"text-align: right;\">\n",
              "      <th></th>\n",
              "      <th>Var1</th>\n",
              "      <th>Var2</th>\n",
              "      <th>Var3</th>\n",
              "      <th>Var4</th>\n",
              "      <th>Var5</th>\n",
              "      <th>Var6</th>\n",
              "      <th>Var7</th>\n",
              "      <th>Var9</th>\n",
              "      <th>Var10</th>\n",
              "      <th>Var11</th>\n",
              "      <th>...</th>\n",
              "      <th>Var220</th>\n",
              "      <th>Var221</th>\n",
              "      <th>Var222</th>\n",
              "      <th>Var223</th>\n",
              "      <th>Var224</th>\n",
              "      <th>Var225</th>\n",
              "      <th>Var226</th>\n",
              "      <th>Var227</th>\n",
              "      <th>Var228</th>\n",
              "      <th>Var229</th>\n",
              "    </tr>\n",
              "  </thead>\n",
              "  <tbody>\n",
              "    <tr>\n",
              "      <th>8988</th>\n",
              "      <td>NaN</td>\n",
              "      <td>NaN</td>\n",
              "      <td>NaN</td>\n",
              "      <td>NaN</td>\n",
              "      <td>NaN</td>\n",
              "      <td>861.0</td>\n",
              "      <td>7.0</td>\n",
              "      <td>NaN</td>\n",
              "      <td>NaN</td>\n",
              "      <td>NaN</td>\n",
              "      <td>...</td>\n",
              "      <td>gmDv8BP</td>\n",
              "      <td>oslk</td>\n",
              "      <td>HCTwS9i</td>\n",
              "      <td>LM8l689qOp</td>\n",
              "      <td>NaN</td>\n",
              "      <td>kG3k</td>\n",
              "      <td>Aoh3</td>\n",
              "      <td>RAYp</td>\n",
              "      <td>F2FyR07IdsN7I</td>\n",
              "      <td>am7c</td>\n",
              "    </tr>\n",
              "    <tr>\n",
              "      <th>12847</th>\n",
              "      <td>NaN</td>\n",
              "      <td>NaN</td>\n",
              "      <td>NaN</td>\n",
              "      <td>NaN</td>\n",
              "      <td>NaN</td>\n",
              "      <td>1897.0</td>\n",
              "      <td>28.0</td>\n",
              "      <td>NaN</td>\n",
              "      <td>NaN</td>\n",
              "      <td>NaN</td>\n",
              "      <td>...</td>\n",
              "      <td>4UxGlow</td>\n",
              "      <td>oslk</td>\n",
              "      <td>catzS2D</td>\n",
              "      <td>jySVZNlOJy</td>\n",
              "      <td>NaN</td>\n",
              "      <td>kG3k</td>\n",
              "      <td>szEZ</td>\n",
              "      <td>ZI9m</td>\n",
              "      <td>VjDE</td>\n",
              "      <td>am7c</td>\n",
              "    </tr>\n",
              "    <tr>\n",
              "      <th>28412</th>\n",
              "      <td>NaN</td>\n",
              "      <td>NaN</td>\n",
              "      <td>NaN</td>\n",
              "      <td>NaN</td>\n",
              "      <td>NaN</td>\n",
              "      <td>455.0</td>\n",
              "      <td>0.0</td>\n",
              "      <td>NaN</td>\n",
              "      <td>NaN</td>\n",
              "      <td>NaN</td>\n",
              "      <td>...</td>\n",
              "      <td>OXxv4zN</td>\n",
              "      <td>oslk</td>\n",
              "      <td>VWtE4Qn</td>\n",
              "      <td>LM8l689qOp</td>\n",
              "      <td>NaN</td>\n",
              "      <td>xG3x</td>\n",
              "      <td>Qu4f</td>\n",
              "      <td>RAYp</td>\n",
              "      <td>F2FyR07IdsN7I</td>\n",
              "      <td>mj86</td>\n",
              "    </tr>\n",
              "    <tr>\n",
              "      <th>27589</th>\n",
              "      <td>NaN</td>\n",
              "      <td>NaN</td>\n",
              "      <td>NaN</td>\n",
              "      <td>NaN</td>\n",
              "      <td>31485.0</td>\n",
              "      <td>NaN</td>\n",
              "      <td>NaN</td>\n",
              "      <td>NaN</td>\n",
              "      <td>0.0</td>\n",
              "      <td>NaN</td>\n",
              "      <td>...</td>\n",
              "      <td>zLzYH7D</td>\n",
              "      <td>oslk</td>\n",
              "      <td>xb5Ty9x</td>\n",
              "      <td>LM8l689qOp</td>\n",
              "      <td>NaN</td>\n",
              "      <td>NaN</td>\n",
              "      <td>3Cy4</td>\n",
              "      <td>RAYp</td>\n",
              "      <td>F2FyR07IdsN7I</td>\n",
              "      <td>NaN</td>\n",
              "    </tr>\n",
              "    <tr>\n",
              "      <th>12556</th>\n",
              "      <td>NaN</td>\n",
              "      <td>NaN</td>\n",
              "      <td>NaN</td>\n",
              "      <td>NaN</td>\n",
              "      <td>NaN</td>\n",
              "      <td>777.0</td>\n",
              "      <td>7.0</td>\n",
              "      <td>NaN</td>\n",
              "      <td>NaN</td>\n",
              "      <td>NaN</td>\n",
              "      <td>...</td>\n",
              "      <td>aD1vOIl</td>\n",
              "      <td>oslk</td>\n",
              "      <td>NnYzgmc</td>\n",
              "      <td>jySVZNlOJy</td>\n",
              "      <td>NaN</td>\n",
              "      <td>NaN</td>\n",
              "      <td>Qu4f</td>\n",
              "      <td>RAYp</td>\n",
              "      <td>55YFVY9</td>\n",
              "      <td>am7c</td>\n",
              "    </tr>\n",
              "    <tr>\n",
              "      <th>...</th>\n",
              "      <td>...</td>\n",
              "      <td>...</td>\n",
              "      <td>...</td>\n",
              "      <td>...</td>\n",
              "      <td>...</td>\n",
              "      <td>...</td>\n",
              "      <td>...</td>\n",
              "      <td>...</td>\n",
              "      <td>...</td>\n",
              "      <td>...</td>\n",
              "      <td>...</td>\n",
              "      <td>...</td>\n",
              "      <td>...</td>\n",
              "      <td>...</td>\n",
              "      <td>...</td>\n",
              "      <td>...</td>\n",
              "      <td>...</td>\n",
              "      <td>...</td>\n",
              "      <td>...</td>\n",
              "      <td>...</td>\n",
              "      <td>...</td>\n",
              "    </tr>\n",
              "    <tr>\n",
              "      <th>35470</th>\n",
              "      <td>NaN</td>\n",
              "      <td>NaN</td>\n",
              "      <td>NaN</td>\n",
              "      <td>NaN</td>\n",
              "      <td>NaN</td>\n",
              "      <td>882.0</td>\n",
              "      <td>7.0</td>\n",
              "      <td>NaN</td>\n",
              "      <td>NaN</td>\n",
              "      <td>NaN</td>\n",
              "      <td>...</td>\n",
              "      <td>3s4OZ4E</td>\n",
              "      <td>oslk</td>\n",
              "      <td>QpZO8fW</td>\n",
              "      <td>M_8D</td>\n",
              "      <td>NaN</td>\n",
              "      <td>kG3k</td>\n",
              "      <td>3Cy4</td>\n",
              "      <td>RAYp</td>\n",
              "      <td>55YFVY9</td>\n",
              "      <td>am7c</td>\n",
              "    </tr>\n",
              "    <tr>\n",
              "      <th>39476</th>\n",
              "      <td>NaN</td>\n",
              "      <td>NaN</td>\n",
              "      <td>NaN</td>\n",
              "      <td>NaN</td>\n",
              "      <td>NaN</td>\n",
              "      <td>854.0</td>\n",
              "      <td>7.0</td>\n",
              "      <td>NaN</td>\n",
              "      <td>NaN</td>\n",
              "      <td>NaN</td>\n",
              "      <td>...</td>\n",
              "      <td>n2dvEWW</td>\n",
              "      <td>oslk</td>\n",
              "      <td>xInqI2t</td>\n",
              "      <td>LM8l689qOp</td>\n",
              "      <td>NaN</td>\n",
              "      <td>NaN</td>\n",
              "      <td>Qu4f</td>\n",
              "      <td>RAYp</td>\n",
              "      <td>F2FyR07IdsN7I</td>\n",
              "      <td>NaN</td>\n",
              "    </tr>\n",
              "    <tr>\n",
              "      <th>29123</th>\n",
              "      <td>NaN</td>\n",
              "      <td>NaN</td>\n",
              "      <td>NaN</td>\n",
              "      <td>NaN</td>\n",
              "      <td>NaN</td>\n",
              "      <td>665.0</td>\n",
              "      <td>7.0</td>\n",
              "      <td>NaN</td>\n",
              "      <td>NaN</td>\n",
              "      <td>NaN</td>\n",
              "      <td>...</td>\n",
              "      <td>UF16siJ</td>\n",
              "      <td>zCkv</td>\n",
              "      <td>APgdzOv</td>\n",
              "      <td>LM8l689qOp</td>\n",
              "      <td>NaN</td>\n",
              "      <td>xG3x</td>\n",
              "      <td>Xa3G</td>\n",
              "      <td>6fzt</td>\n",
              "      <td>xwM2aC7IdeMC0</td>\n",
              "      <td>am7c</td>\n",
              "    </tr>\n",
              "    <tr>\n",
              "      <th>8642</th>\n",
              "      <td>NaN</td>\n",
              "      <td>NaN</td>\n",
              "      <td>NaN</td>\n",
              "      <td>NaN</td>\n",
              "      <td>NaN</td>\n",
              "      <td>868.0</td>\n",
              "      <td>NaN</td>\n",
              "      <td>NaN</td>\n",
              "      <td>NaN</td>\n",
              "      <td>NaN</td>\n",
              "      <td>...</td>\n",
              "      <td>1FARoKG</td>\n",
              "      <td>oslk</td>\n",
              "      <td>CnZoIp0</td>\n",
              "      <td>LM8l689qOp</td>\n",
              "      <td>NaN</td>\n",
              "      <td>NaN</td>\n",
              "      <td>WqMG</td>\n",
              "      <td>RAYp</td>\n",
              "      <td>F2FyR07IdsN7I</td>\n",
              "      <td>NaN</td>\n",
              "    </tr>\n",
              "    <tr>\n",
              "      <th>6042</th>\n",
              "      <td>NaN</td>\n",
              "      <td>NaN</td>\n",
              "      <td>NaN</td>\n",
              "      <td>NaN</td>\n",
              "      <td>686285.0</td>\n",
              "      <td>NaN</td>\n",
              "      <td>NaN</td>\n",
              "      <td>NaN</td>\n",
              "      <td>1148094.0</td>\n",
              "      <td>NaN</td>\n",
              "      <td>...</td>\n",
              "      <td>llYv48t</td>\n",
              "      <td>oslk</td>\n",
              "      <td>V51EKx8</td>\n",
              "      <td>LM8l689qOp</td>\n",
              "      <td>NaN</td>\n",
              "      <td>NaN</td>\n",
              "      <td>rgKb</td>\n",
              "      <td>RAYp</td>\n",
              "      <td>F2FyR07IdsN7I</td>\n",
              "      <td>NaN</td>\n",
              "    </tr>\n",
              "  </tbody>\n",
              "</table>\n",
              "<p>35000 rows × 212 columns</p>\n",
              "</div>\n",
              "      <button class=\"colab-df-convert\" onclick=\"convertToInteractive('df-295624c4-770a-4faa-949a-c2c7ce1b2163')\"\n",
              "              title=\"Convert this dataframe to an interactive table.\"\n",
              "              style=\"display:none;\">\n",
              "        \n",
              "  <svg xmlns=\"http://www.w3.org/2000/svg\" height=\"24px\"viewBox=\"0 0 24 24\"\n",
              "       width=\"24px\">\n",
              "    <path d=\"M0 0h24v24H0V0z\" fill=\"none\"/>\n",
              "    <path d=\"M18.56 5.44l.94 2.06.94-2.06 2.06-.94-2.06-.94-.94-2.06-.94 2.06-2.06.94zm-11 1L8.5 8.5l.94-2.06 2.06-.94-2.06-.94L8.5 2.5l-.94 2.06-2.06.94zm10 10l.94 2.06.94-2.06 2.06-.94-2.06-.94-.94-2.06-.94 2.06-2.06.94z\"/><path d=\"M17.41 7.96l-1.37-1.37c-.4-.4-.92-.59-1.43-.59-.52 0-1.04.2-1.43.59L10.3 9.45l-7.72 7.72c-.78.78-.78 2.05 0 2.83L4 21.41c.39.39.9.59 1.41.59.51 0 1.02-.2 1.41-.59l7.78-7.78 2.81-2.81c.8-.78.8-2.07 0-2.86zM5.41 20L4 18.59l7.72-7.72 1.47 1.35L5.41 20z\"/>\n",
              "  </svg>\n",
              "      </button>\n",
              "      \n",
              "  <style>\n",
              "    .colab-df-container {\n",
              "      display:flex;\n",
              "      flex-wrap:wrap;\n",
              "      gap: 12px;\n",
              "    }\n",
              "\n",
              "    .colab-df-convert {\n",
              "      background-color: #E8F0FE;\n",
              "      border: none;\n",
              "      border-radius: 50%;\n",
              "      cursor: pointer;\n",
              "      display: none;\n",
              "      fill: #1967D2;\n",
              "      height: 32px;\n",
              "      padding: 0 0 0 0;\n",
              "      width: 32px;\n",
              "    }\n",
              "\n",
              "    .colab-df-convert:hover {\n",
              "      background-color: #E2EBFA;\n",
              "      box-shadow: 0px 1px 2px rgba(60, 64, 67, 0.3), 0px 1px 3px 1px rgba(60, 64, 67, 0.15);\n",
              "      fill: #174EA6;\n",
              "    }\n",
              "\n",
              "    [theme=dark] .colab-df-convert {\n",
              "      background-color: #3B4455;\n",
              "      fill: #D2E3FC;\n",
              "    }\n",
              "\n",
              "    [theme=dark] .colab-df-convert:hover {\n",
              "      background-color: #434B5C;\n",
              "      box-shadow: 0px 1px 3px 1px rgba(0, 0, 0, 0.15);\n",
              "      filter: drop-shadow(0px 1px 2px rgba(0, 0, 0, 0.3));\n",
              "      fill: #FFFFFF;\n",
              "    }\n",
              "  </style>\n",
              "\n",
              "      <script>\n",
              "        const buttonEl =\n",
              "          document.querySelector('#df-295624c4-770a-4faa-949a-c2c7ce1b2163 button.colab-df-convert');\n",
              "        buttonEl.style.display =\n",
              "          google.colab.kernel.accessAllowed ? 'block' : 'none';\n",
              "\n",
              "        async function convertToInteractive(key) {\n",
              "          const element = document.querySelector('#df-295624c4-770a-4faa-949a-c2c7ce1b2163');\n",
              "          const dataTable =\n",
              "            await google.colab.kernel.invokeFunction('convertToInteractive',\n",
              "                                                     [key], {});\n",
              "          if (!dataTable) return;\n",
              "\n",
              "          const docLinkHtml = 'Like what you see? Visit the ' +\n",
              "            '<a target=\"_blank\" href=https://colab.research.google.com/notebooks/data_table.ipynb>data table notebook</a>'\n",
              "            + ' to learn more about interactive tables.';\n",
              "          element.innerHTML = '';\n",
              "          dataTable['output_type'] = 'display_data';\n",
              "          await google.colab.output.renderOutput(dataTable, element);\n",
              "          const docLink = document.createElement('div');\n",
              "          docLink.innerHTML = docLinkHtml;\n",
              "          element.appendChild(docLink);\n",
              "        }\n",
              "      </script>\n",
              "    </div>\n",
              "  </div>\n",
              "  "
            ]
          },
          "metadata": {},
          "execution_count": 70
        }
      ]
    },
    {
      "cell_type": "code",
      "source": [
        "si = SimpleImputer(strategy='most_frequent')\n",
        "X_imp = pd.DataFrame(si.fit_transform(df_train[cols]), columns=cols)\n",
        "X_val_imp = pd.DataFrame(si.transform(df_ho[cols]), columns=cols)"
      ],
      "metadata": {
        "id": "JqsA56ya5XyT"
      },
      "execution_count": null,
      "outputs": []
    },
    {
      "cell_type": "code",
      "source": [
        "%%time\n",
        "cat_boost_cl_oob = CatBoostClassifier(**base_params, cat_features=nna_cat_vars)\n",
        "cat_boost_cl_oob.fit(X_imp, y)\n",
        "print(roc_auc_score(y_val, cat_boost_cl_oob.predict_proba(X_val_imp)[:, 1]))\n",
        "print(classification_report(y_val, cat_boost_cl_oob.predict(X_val_imp)))"
      ],
      "metadata": {
        "id": "2cQWP3Sx444q",
        "outputId": "dd11a80c-63b0-493c-8cce-f60988baa510",
        "colab": {
          "base_uri": "https://localhost:8080/"
        }
      },
      "execution_count": null,
      "outputs": [
        {
          "output_type": "stream",
          "name": "stdout",
          "text": [
            "0.7556119599920575\n",
            "              precision    recall  f1-score   support\n",
            "\n",
            "          -1       0.93      1.00      0.96      4629\n",
            "           1       0.40      0.01      0.02       371\n",
            "\n",
            "    accuracy                           0.93      5000\n",
            "   macro avg       0.66      0.50      0.49      5000\n",
            "weighted avg       0.89      0.93      0.89      5000\n",
            "\n",
            "CPU times: user 8min 49s, sys: 29 s, total: 9min 18s\n",
            "Wall time: 5min 3s\n"
          ]
        }
      ]
    },
    {
      "cell_type": "code",
      "source": [
        "%%time\n",
        "cv_results = cv(\n",
        "    params={**base_params},\n",
        "    pool=Pool(X_imp, y, cat_features=nna_cat_vars),\n",
        "    fold_count=5,\n",
        "    shuffle=True,\n",
        "    # plot=True,\n",
        "    type='Classical'\n",
        ")"
      ],
      "metadata": {
        "id": "vbOQNr-91Rfg",
        "outputId": "ad0a9a5d-4a38-452b-e87e-857e66d9b4ae",
        "colab": {
          "base_uri": "https://localhost:8080/"
        }
      },
      "execution_count": null,
      "outputs": [
        {
          "output_type": "stream",
          "name": "stdout",
          "text": [
            "Training on fold [0/5]\n",
            "\n",
            "bestTest = 0.736551783\n",
            "bestIteration = 673\n",
            "\n",
            "Training on fold [1/5]\n",
            "\n",
            "bestTest = 0.7489355096\n",
            "bestIteration = 857\n",
            "\n",
            "Training on fold [2/5]\n",
            "\n",
            "bestTest = 0.7328463226\n",
            "bestIteration = 701\n",
            "\n",
            "Training on fold [3/5]\n",
            "\n",
            "bestTest = 0.7424870962\n",
            "bestIteration = 871\n",
            "\n",
            "Training on fold [4/5]\n",
            "\n",
            "bestTest = 0.7397731753\n",
            "bestIteration = 497\n",
            "\n",
            "CPU times: user 40min 24s, sys: 3min 24s, total: 43min 48s\n",
            "Wall time: 22min 54s\n"
          ]
        }
      ]
    }
  ],
  "metadata": {
    "colab": {
      "name": "week_3.ipynb",
      "provenance": [],
      "include_colab_link": true
    },
    "kernelspec": {
      "display_name": "Python 3",
      "language": "python",
      "name": "python3"
    },
    "language_info": {
      "codemirror_mode": {
        "name": "ipython",
        "version": 3
      },
      "file_extension": ".py",
      "mimetype": "text/x-python",
      "name": "python",
      "nbconvert_exporter": "python",
      "pygments_lexer": "ipython3",
      "version": "3.8.8"
    }
  },
  "nbformat": 4,
  "nbformat_minor": 0
}