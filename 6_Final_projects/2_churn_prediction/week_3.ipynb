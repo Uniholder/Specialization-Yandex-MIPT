{
  "nbformat": 4,
  "nbformat_minor": 0,
  "metadata": {
    "colab": {
      "name": "week_3.ipynb",
      "provenance": []
    },
    "kernelspec": {
      "display_name": "Python 3",
      "language": "python",
      "name": "python3"
    },
    "language_info": {
      "codemirror_mode": {
        "name": "ipython",
        "version": 3
      },
      "file_extension": ".py",
      "mimetype": "text/x-python",
      "name": "python",
      "nbconvert_exporter": "python",
      "pygments_lexer": "ipython3",
      "version": "3.6.1"
    }
  },
  "cells": [
    {
      "cell_type": "code",
      "metadata": {
        "id": "7sPiQKEqjFjL"
      },
      "source": [
        "# !unzip data.zip"
      ],
      "execution_count": null,
      "outputs": []
    },
    {
      "cell_type": "code",
      "metadata": {
        "id": "t4VNaHvPrsAS"
      },
      "source": [
        "# !pip3 install --upgrade pandas"
      ],
      "execution_count": 2,
      "outputs": []
    },
    {
      "cell_type": "code",
      "metadata": {
        "id": "G9oToXp3mxjM"
      },
      "source": [
        "import warnings\n",
        "warnings.filterwarnings('ignore')"
      ],
      "execution_count": 197,
      "outputs": []
    },
    {
      "cell_type": "markdown",
      "metadata": {
        "id": "MoE7Gt-kfhnG"
      },
      "source": [
        "# Входные данные"
      ]
    },
    {
      "cell_type": "code",
      "metadata": {
        "collapsed": true,
        "id": "ujagJYeYa1SR"
      },
      "source": [
        "import pandas as pd\n",
        "import os\n",
        "\n",
        "from sklearn.model_selection import train_test_split\n",
        "from sklearn.preprocessing import OrdinalEncoder\n",
        "from sklearn.impute import SimpleImputer\n",
        "\n",
        "PATH_TO_DATA = 'data'"
      ],
      "execution_count": 8,
      "outputs": []
    },
    {
      "cell_type": "code",
      "metadata": {
        "collapsed": true,
        "id": "iUvbXcAxa1SU"
      },
      "source": [
        "df = pd.read_csv(os.path.join(PATH_TO_DATA, 'orange_small_churn_data.train'))\n",
        "labels = pd.read_csv(os.path.join(PATH_TO_DATA, 'orange_small_churn_labels.train'), header=None, squeeze=True)\n",
        "# df_train.dropna(axis=1, how='all', inplace=True)\n",
        "df['target'] = labels"
      ],
      "execution_count": 4,
      "outputs": []
    },
    {
      "cell_type": "code",
      "metadata": {
        "id": "elLHGzHka1Sg",
        "colab": {
          "base_uri": "https://localhost:8080/"
        },
        "outputId": "c6e7ca7a-8076-42e2-d34c-23352bd8ca8a"
      },
      "source": [
        "df.shape"
      ],
      "execution_count": 5,
      "outputs": [
        {
          "output_type": "execute_result",
          "data": {
            "text/plain": [
              "(40000, 231)"
            ]
          },
          "metadata": {},
          "execution_count": 5
        }
      ]
    },
    {
      "cell_type": "markdown",
      "metadata": {
        "id": "glFkL2-G-QbE"
      },
      "source": [
        "Отделим hold-out dataset"
      ]
    },
    {
      "cell_type": "code",
      "metadata": {
        "collapsed": true,
        "id": "DbQ1kOy_-QbI"
      },
      "source": [
        "df_train, df_ho = train_test_split(df, test_size=5000)"
      ],
      "execution_count": 72,
      "outputs": []
    },
    {
      "cell_type": "code",
      "metadata": {
        "colab": {
          "base_uri": "https://localhost:8080/",
          "height": 439
        },
        "id": "SF84UcANLBSZ",
        "outputId": "50e25e6a-67a5-43f6-c70b-81b59c0e910f"
      },
      "source": [
        "df_train"
      ],
      "execution_count": 73,
      "outputs": [
        {
          "output_type": "execute_result",
          "data": {
            "text/html": [
              "<div>\n",
              "<style scoped>\n",
              "    .dataframe tbody tr th:only-of-type {\n",
              "        vertical-align: middle;\n",
              "    }\n",
              "\n",
              "    .dataframe tbody tr th {\n",
              "        vertical-align: top;\n",
              "    }\n",
              "\n",
              "    .dataframe thead th {\n",
              "        text-align: right;\n",
              "    }\n",
              "</style>\n",
              "<table border=\"1\" class=\"dataframe\">\n",
              "  <thead>\n",
              "    <tr style=\"text-align: right;\">\n",
              "      <th></th>\n",
              "      <th>Var1</th>\n",
              "      <th>Var2</th>\n",
              "      <th>Var3</th>\n",
              "      <th>Var4</th>\n",
              "      <th>Var5</th>\n",
              "      <th>Var6</th>\n",
              "      <th>Var7</th>\n",
              "      <th>Var8</th>\n",
              "      <th>Var9</th>\n",
              "      <th>Var10</th>\n",
              "      <th>Var11</th>\n",
              "      <th>Var12</th>\n",
              "      <th>Var13</th>\n",
              "      <th>Var14</th>\n",
              "      <th>Var15</th>\n",
              "      <th>Var16</th>\n",
              "      <th>Var17</th>\n",
              "      <th>Var18</th>\n",
              "      <th>Var19</th>\n",
              "      <th>Var20</th>\n",
              "      <th>Var21</th>\n",
              "      <th>Var22</th>\n",
              "      <th>Var23</th>\n",
              "      <th>Var24</th>\n",
              "      <th>Var25</th>\n",
              "      <th>Var26</th>\n",
              "      <th>Var27</th>\n",
              "      <th>Var28</th>\n",
              "      <th>Var29</th>\n",
              "      <th>Var30</th>\n",
              "      <th>Var31</th>\n",
              "      <th>Var32</th>\n",
              "      <th>Var33</th>\n",
              "      <th>Var34</th>\n",
              "      <th>Var35</th>\n",
              "      <th>Var36</th>\n",
              "      <th>Var37</th>\n",
              "      <th>Var38</th>\n",
              "      <th>Var39</th>\n",
              "      <th>Var40</th>\n",
              "      <th>...</th>\n",
              "      <th>Var192</th>\n",
              "      <th>Var193</th>\n",
              "      <th>Var194</th>\n",
              "      <th>Var195</th>\n",
              "      <th>Var196</th>\n",
              "      <th>Var197</th>\n",
              "      <th>Var198</th>\n",
              "      <th>Var199</th>\n",
              "      <th>Var200</th>\n",
              "      <th>Var201</th>\n",
              "      <th>Var202</th>\n",
              "      <th>Var203</th>\n",
              "      <th>Var204</th>\n",
              "      <th>Var205</th>\n",
              "      <th>Var206</th>\n",
              "      <th>Var207</th>\n",
              "      <th>Var208</th>\n",
              "      <th>Var209</th>\n",
              "      <th>Var210</th>\n",
              "      <th>Var211</th>\n",
              "      <th>Var212</th>\n",
              "      <th>Var213</th>\n",
              "      <th>Var214</th>\n",
              "      <th>Var215</th>\n",
              "      <th>Var216</th>\n",
              "      <th>Var217</th>\n",
              "      <th>Var218</th>\n",
              "      <th>Var219</th>\n",
              "      <th>Var220</th>\n",
              "      <th>Var221</th>\n",
              "      <th>Var222</th>\n",
              "      <th>Var223</th>\n",
              "      <th>Var224</th>\n",
              "      <th>Var225</th>\n",
              "      <th>Var226</th>\n",
              "      <th>Var227</th>\n",
              "      <th>Var228</th>\n",
              "      <th>Var229</th>\n",
              "      <th>Var230</th>\n",
              "      <th>target</th>\n",
              "    </tr>\n",
              "  </thead>\n",
              "  <tbody>\n",
              "    <tr>\n",
              "      <th>26327</th>\n",
              "      <td>NaN</td>\n",
              "      <td>NaN</td>\n",
              "      <td>NaN</td>\n",
              "      <td>NaN</td>\n",
              "      <td>NaN</td>\n",
              "      <td>5341.0</td>\n",
              "      <td>21.0</td>\n",
              "      <td>NaN</td>\n",
              "      <td>NaN</td>\n",
              "      <td>NaN</td>\n",
              "      <td>NaN</td>\n",
              "      <td>NaN</td>\n",
              "      <td>5064.0</td>\n",
              "      <td>NaN</td>\n",
              "      <td>NaN</td>\n",
              "      <td>NaN</td>\n",
              "      <td>NaN</td>\n",
              "      <td>NaN</td>\n",
              "      <td>NaN</td>\n",
              "      <td>NaN</td>\n",
              "      <td>3544.0</td>\n",
              "      <td>4430.0</td>\n",
              "      <td>NaN</td>\n",
              "      <td>86.0</td>\n",
              "      <td>792.0</td>\n",
              "      <td>NaN</td>\n",
              "      <td>NaN</td>\n",
              "      <td>210.00</td>\n",
              "      <td>NaN</td>\n",
              "      <td>NaN</td>\n",
              "      <td>NaN</td>\n",
              "      <td>NaN</td>\n",
              "      <td>NaN</td>\n",
              "      <td>NaN</td>\n",
              "      <td>15.0</td>\n",
              "      <td>NaN</td>\n",
              "      <td>NaN</td>\n",
              "      <td>4044540.0</td>\n",
              "      <td>NaN</td>\n",
              "      <td>NaN</td>\n",
              "      <td>...</td>\n",
              "      <td>1qmr4RQxul</td>\n",
              "      <td>RO12</td>\n",
              "      <td>NaN</td>\n",
              "      <td>taul</td>\n",
              "      <td>1K8T</td>\n",
              "      <td>487l</td>\n",
              "      <td>vHHY4q6</td>\n",
              "      <td>GHfL3MpXAX</td>\n",
              "      <td>2rMgswy</td>\n",
              "      <td>NaN</td>\n",
              "      <td>gwgA</td>\n",
              "      <td>9_Y1</td>\n",
              "      <td>z5Ry</td>\n",
              "      <td>VpdQ</td>\n",
              "      <td>IYzP</td>\n",
              "      <td>me75fM6ugJ</td>\n",
              "      <td>kIsH</td>\n",
              "      <td>NaN</td>\n",
              "      <td>uKAI</td>\n",
              "      <td>L84s</td>\n",
              "      <td>NhsEn4L</td>\n",
              "      <td>NaN</td>\n",
              "      <td>5dnbgcr</td>\n",
              "      <td>NaN</td>\n",
              "      <td>TDceha3</td>\n",
              "      <td>7Zw8</td>\n",
              "      <td>UYBR</td>\n",
              "      <td>FzaX</td>\n",
              "      <td>R4hm94s</td>\n",
              "      <td>oslk</td>\n",
              "      <td>oSyMpgG</td>\n",
              "      <td>LM8l689qOp</td>\n",
              "      <td>NaN</td>\n",
              "      <td>ELof</td>\n",
              "      <td>FSa2</td>\n",
              "      <td>RAYp</td>\n",
              "      <td>F2FyR07IdsN7I</td>\n",
              "      <td>am7c</td>\n",
              "      <td>NaN</td>\n",
              "      <td>-1</td>\n",
              "    </tr>\n",
              "    <tr>\n",
              "      <th>10192</th>\n",
              "      <td>NaN</td>\n",
              "      <td>NaN</td>\n",
              "      <td>NaN</td>\n",
              "      <td>0.0</td>\n",
              "      <td>NaN</td>\n",
              "      <td>NaN</td>\n",
              "      <td>NaN</td>\n",
              "      <td>NaN</td>\n",
              "      <td>NaN</td>\n",
              "      <td>NaN</td>\n",
              "      <td>NaN</td>\n",
              "      <td>NaN</td>\n",
              "      <td>NaN</td>\n",
              "      <td>NaN</td>\n",
              "      <td>NaN</td>\n",
              "      <td>NaN</td>\n",
              "      <td>45.0</td>\n",
              "      <td>0.0</td>\n",
              "      <td>0.0</td>\n",
              "      <td>NaN</td>\n",
              "      <td>NaN</td>\n",
              "      <td>NaN</td>\n",
              "      <td>NaN</td>\n",
              "      <td>NaN</td>\n",
              "      <td>NaN</td>\n",
              "      <td>NaN</td>\n",
              "      <td>NaN</td>\n",
              "      <td>NaN</td>\n",
              "      <td>NaN</td>\n",
              "      <td>NaN</td>\n",
              "      <td>NaN</td>\n",
              "      <td>NaN</td>\n",
              "      <td>NaN</td>\n",
              "      <td>NaN</td>\n",
              "      <td>NaN</td>\n",
              "      <td>NaN</td>\n",
              "      <td>0.0</td>\n",
              "      <td>NaN</td>\n",
              "      <td>NaN</td>\n",
              "      <td>NaN</td>\n",
              "      <td>...</td>\n",
              "      <td>voArjIXt5a</td>\n",
              "      <td>RO12</td>\n",
              "      <td>NaN</td>\n",
              "      <td>taul</td>\n",
              "      <td>1K8T</td>\n",
              "      <td>7ALb</td>\n",
              "      <td>0qCl1hh</td>\n",
              "      <td>9YuuPSz3BI</td>\n",
              "      <td>NaN</td>\n",
              "      <td>NaN</td>\n",
              "      <td>EVMP</td>\n",
              "      <td>9_Y1</td>\n",
              "      <td>xQ2A</td>\n",
              "      <td>VpdQ</td>\n",
              "      <td>NaN</td>\n",
              "      <td>me75fM6ugJ</td>\n",
              "      <td>kIsH</td>\n",
              "      <td>NaN</td>\n",
              "      <td>uKAI</td>\n",
              "      <td>Mtgm</td>\n",
              "      <td>NhsEn4L</td>\n",
              "      <td>NaN</td>\n",
              "      <td>NaN</td>\n",
              "      <td>NaN</td>\n",
              "      <td>7WwCtIM</td>\n",
              "      <td>LusX</td>\n",
              "      <td>cJvF</td>\n",
              "      <td>FzaX</td>\n",
              "      <td>gfMRJnY</td>\n",
              "      <td>oslk</td>\n",
              "      <td>99nURQu</td>\n",
              "      <td>LM8l689qOp</td>\n",
              "      <td>NaN</td>\n",
              "      <td>NaN</td>\n",
              "      <td>5Acm</td>\n",
              "      <td>RAYp</td>\n",
              "      <td>F2FyR07IdsN7I</td>\n",
              "      <td>NaN</td>\n",
              "      <td>NaN</td>\n",
              "      <td>-1</td>\n",
              "    </tr>\n",
              "    <tr>\n",
              "      <th>39407</th>\n",
              "      <td>NaN</td>\n",
              "      <td>NaN</td>\n",
              "      <td>NaN</td>\n",
              "      <td>NaN</td>\n",
              "      <td>NaN</td>\n",
              "      <td>15176.0</td>\n",
              "      <td>7.0</td>\n",
              "      <td>NaN</td>\n",
              "      <td>NaN</td>\n",
              "      <td>NaN</td>\n",
              "      <td>NaN</td>\n",
              "      <td>NaN</td>\n",
              "      <td>56.0</td>\n",
              "      <td>NaN</td>\n",
              "      <td>NaN</td>\n",
              "      <td>NaN</td>\n",
              "      <td>NaN</td>\n",
              "      <td>NaN</td>\n",
              "      <td>NaN</td>\n",
              "      <td>NaN</td>\n",
              "      <td>1064.0</td>\n",
              "      <td>1330.0</td>\n",
              "      <td>NaN</td>\n",
              "      <td>8.0</td>\n",
              "      <td>728.0</td>\n",
              "      <td>NaN</td>\n",
              "      <td>NaN</td>\n",
              "      <td>220.08</td>\n",
              "      <td>NaN</td>\n",
              "      <td>NaN</td>\n",
              "      <td>NaN</td>\n",
              "      <td>NaN</td>\n",
              "      <td>NaN</td>\n",
              "      <td>NaN</td>\n",
              "      <td>0.0</td>\n",
              "      <td>NaN</td>\n",
              "      <td>NaN</td>\n",
              "      <td>3455724.0</td>\n",
              "      <td>NaN</td>\n",
              "      <td>NaN</td>\n",
              "      <td>...</td>\n",
              "      <td>2jigUH7ejg</td>\n",
              "      <td>RO12</td>\n",
              "      <td>NaN</td>\n",
              "      <td>taul</td>\n",
              "      <td>1K8T</td>\n",
              "      <td>72yt</td>\n",
              "      <td>eYPJuq4</td>\n",
              "      <td>NFlfMbKIm3</td>\n",
              "      <td>NaN</td>\n",
              "      <td>NaN</td>\n",
              "      <td>Tkse</td>\n",
              "      <td>9_Y1</td>\n",
              "      <td>1Bp0</td>\n",
              "      <td>09_Q</td>\n",
              "      <td>zm5i</td>\n",
              "      <td>me75fM6ugJ</td>\n",
              "      <td>kIsH</td>\n",
              "      <td>NaN</td>\n",
              "      <td>uKAI</td>\n",
              "      <td>L84s</td>\n",
              "      <td>NhsEn4L</td>\n",
              "      <td>NaN</td>\n",
              "      <td>NaN</td>\n",
              "      <td>NaN</td>\n",
              "      <td>kZJtVhC</td>\n",
              "      <td>SssI</td>\n",
              "      <td>UYBR</td>\n",
              "      <td>NaN</td>\n",
              "      <td>42Uv66D</td>\n",
              "      <td>oslk</td>\n",
              "      <td>_BMKSUK</td>\n",
              "      <td>NaN</td>\n",
              "      <td>NaN</td>\n",
              "      <td>NaN</td>\n",
              "      <td>WqMG</td>\n",
              "      <td>RAYp</td>\n",
              "      <td>F2FyR07IdsN7I</td>\n",
              "      <td>NaN</td>\n",
              "      <td>NaN</td>\n",
              "      <td>-1</td>\n",
              "    </tr>\n",
              "    <tr>\n",
              "      <th>36846</th>\n",
              "      <td>NaN</td>\n",
              "      <td>NaN</td>\n",
              "      <td>NaN</td>\n",
              "      <td>NaN</td>\n",
              "      <td>NaN</td>\n",
              "      <td>49.0</td>\n",
              "      <td>0.0</td>\n",
              "      <td>NaN</td>\n",
              "      <td>NaN</td>\n",
              "      <td>NaN</td>\n",
              "      <td>NaN</td>\n",
              "      <td>NaN</td>\n",
              "      <td>12.0</td>\n",
              "      <td>NaN</td>\n",
              "      <td>NaN</td>\n",
              "      <td>NaN</td>\n",
              "      <td>NaN</td>\n",
              "      <td>NaN</td>\n",
              "      <td>NaN</td>\n",
              "      <td>NaN</td>\n",
              "      <td>16.0</td>\n",
              "      <td>20.0</td>\n",
              "      <td>NaN</td>\n",
              "      <td>0.0</td>\n",
              "      <td>32.0</td>\n",
              "      <td>NaN</td>\n",
              "      <td>NaN</td>\n",
              "      <td>133.76</td>\n",
              "      <td>NaN</td>\n",
              "      <td>NaN</td>\n",
              "      <td>NaN</td>\n",
              "      <td>NaN</td>\n",
              "      <td>NaN</td>\n",
              "      <td>NaN</td>\n",
              "      <td>0.0</td>\n",
              "      <td>NaN</td>\n",
              "      <td>NaN</td>\n",
              "      <td>0.0</td>\n",
              "      <td>NaN</td>\n",
              "      <td>NaN</td>\n",
              "      <td>...</td>\n",
              "      <td>O8Zr4Rdc_a</td>\n",
              "      <td>2Knk1KF</td>\n",
              "      <td>NaN</td>\n",
              "      <td>taul</td>\n",
              "      <td>1K8T</td>\n",
              "      <td>L_LK</td>\n",
              "      <td>PHNvXy8</td>\n",
              "      <td>u2pCocB</td>\n",
              "      <td>qRzZGt8</td>\n",
              "      <td>NaN</td>\n",
              "      <td>hINo</td>\n",
              "      <td>9_Y1</td>\n",
              "      <td>em8I</td>\n",
              "      <td>09_Q</td>\n",
              "      <td>IYzP</td>\n",
              "      <td>NKv3VA1BpP</td>\n",
              "      <td>kIsH</td>\n",
              "      <td>NaN</td>\n",
              "      <td>g5HH</td>\n",
              "      <td>L84s</td>\n",
              "      <td>Ie_5MZs</td>\n",
              "      <td>NaN</td>\n",
              "      <td>5zAG_Cb</td>\n",
              "      <td>NaN</td>\n",
              "      <td>teAY_NX</td>\n",
              "      <td>tlNv</td>\n",
              "      <td>cJvF</td>\n",
              "      <td>FzaX</td>\n",
              "      <td>UF16siJ</td>\n",
              "      <td>zCkv</td>\n",
              "      <td>APgdzOv</td>\n",
              "      <td>LM8l689qOp</td>\n",
              "      <td>NaN</td>\n",
              "      <td>NaN</td>\n",
              "      <td>me1d</td>\n",
              "      <td>6fzt</td>\n",
              "      <td>Zy3gnGM</td>\n",
              "      <td>am7c</td>\n",
              "      <td>NaN</td>\n",
              "      <td>-1</td>\n",
              "    </tr>\n",
              "    <tr>\n",
              "      <th>11225</th>\n",
              "      <td>NaN</td>\n",
              "      <td>NaN</td>\n",
              "      <td>NaN</td>\n",
              "      <td>NaN</td>\n",
              "      <td>NaN</td>\n",
              "      <td>5502.0</td>\n",
              "      <td>14.0</td>\n",
              "      <td>NaN</td>\n",
              "      <td>NaN</td>\n",
              "      <td>NaN</td>\n",
              "      <td>NaN</td>\n",
              "      <td>NaN</td>\n",
              "      <td>712.0</td>\n",
              "      <td>NaN</td>\n",
              "      <td>NaN</td>\n",
              "      <td>NaN</td>\n",
              "      <td>NaN</td>\n",
              "      <td>NaN</td>\n",
              "      <td>NaN</td>\n",
              "      <td>NaN</td>\n",
              "      <td>788.0</td>\n",
              "      <td>985.0</td>\n",
              "      <td>NaN</td>\n",
              "      <td>22.0</td>\n",
              "      <td>592.0</td>\n",
              "      <td>NaN</td>\n",
              "      <td>NaN</td>\n",
              "      <td>166.56</td>\n",
              "      <td>NaN</td>\n",
              "      <td>NaN</td>\n",
              "      <td>NaN</td>\n",
              "      <td>NaN</td>\n",
              "      <td>NaN</td>\n",
              "      <td>NaN</td>\n",
              "      <td>0.0</td>\n",
              "      <td>NaN</td>\n",
              "      <td>NaN</td>\n",
              "      <td>555480.0</td>\n",
              "      <td>NaN</td>\n",
              "      <td>NaN</td>\n",
              "      <td>...</td>\n",
              "      <td>avkq9ayfAo</td>\n",
              "      <td>2Knk1KF</td>\n",
              "      <td>NaN</td>\n",
              "      <td>taul</td>\n",
              "      <td>1K8T</td>\n",
              "      <td>PJLW</td>\n",
              "      <td>HPUGayG</td>\n",
              "      <td>r83_sZi</td>\n",
              "      <td>NaN</td>\n",
              "      <td>NaN</td>\n",
              "      <td>nt0n</td>\n",
              "      <td>9_Y1</td>\n",
              "      <td>vm5R</td>\n",
              "      <td>VpdQ</td>\n",
              "      <td>wMei</td>\n",
              "      <td>me75fM6ugJ</td>\n",
              "      <td>kIsH</td>\n",
              "      <td>NaN</td>\n",
              "      <td>uKAI</td>\n",
              "      <td>L84s</td>\n",
              "      <td>h0lfDKh52u4GP</td>\n",
              "      <td>NaN</td>\n",
              "      <td>NaN</td>\n",
              "      <td>NaN</td>\n",
              "      <td>IoI4mKe</td>\n",
              "      <td>CzUQ</td>\n",
              "      <td>cJvF</td>\n",
              "      <td>FzaX</td>\n",
              "      <td>kTkv10k</td>\n",
              "      <td>oslk</td>\n",
              "      <td>TUP6P29</td>\n",
              "      <td>LM8l689qOp</td>\n",
              "      <td>NaN</td>\n",
              "      <td>NaN</td>\n",
              "      <td>7P5s</td>\n",
              "      <td>RAYp</td>\n",
              "      <td>55YFVY9</td>\n",
              "      <td>mj86</td>\n",
              "      <td>NaN</td>\n",
              "      <td>1</td>\n",
              "    </tr>\n",
              "    <tr>\n",
              "      <th>...</th>\n",
              "      <td>...</td>\n",
              "      <td>...</td>\n",
              "      <td>...</td>\n",
              "      <td>...</td>\n",
              "      <td>...</td>\n",
              "      <td>...</td>\n",
              "      <td>...</td>\n",
              "      <td>...</td>\n",
              "      <td>...</td>\n",
              "      <td>...</td>\n",
              "      <td>...</td>\n",
              "      <td>...</td>\n",
              "      <td>...</td>\n",
              "      <td>...</td>\n",
              "      <td>...</td>\n",
              "      <td>...</td>\n",
              "      <td>...</td>\n",
              "      <td>...</td>\n",
              "      <td>...</td>\n",
              "      <td>...</td>\n",
              "      <td>...</td>\n",
              "      <td>...</td>\n",
              "      <td>...</td>\n",
              "      <td>...</td>\n",
              "      <td>...</td>\n",
              "      <td>...</td>\n",
              "      <td>...</td>\n",
              "      <td>...</td>\n",
              "      <td>...</td>\n",
              "      <td>...</td>\n",
              "      <td>...</td>\n",
              "      <td>...</td>\n",
              "      <td>...</td>\n",
              "      <td>...</td>\n",
              "      <td>...</td>\n",
              "      <td>...</td>\n",
              "      <td>...</td>\n",
              "      <td>...</td>\n",
              "      <td>...</td>\n",
              "      <td>...</td>\n",
              "      <td>...</td>\n",
              "      <td>...</td>\n",
              "      <td>...</td>\n",
              "      <td>...</td>\n",
              "      <td>...</td>\n",
              "      <td>...</td>\n",
              "      <td>...</td>\n",
              "      <td>...</td>\n",
              "      <td>...</td>\n",
              "      <td>...</td>\n",
              "      <td>...</td>\n",
              "      <td>...</td>\n",
              "      <td>...</td>\n",
              "      <td>...</td>\n",
              "      <td>...</td>\n",
              "      <td>...</td>\n",
              "      <td>...</td>\n",
              "      <td>...</td>\n",
              "      <td>...</td>\n",
              "      <td>...</td>\n",
              "      <td>...</td>\n",
              "      <td>...</td>\n",
              "      <td>...</td>\n",
              "      <td>...</td>\n",
              "      <td>...</td>\n",
              "      <td>...</td>\n",
              "      <td>...</td>\n",
              "      <td>...</td>\n",
              "      <td>...</td>\n",
              "      <td>...</td>\n",
              "      <td>...</td>\n",
              "      <td>...</td>\n",
              "      <td>...</td>\n",
              "      <td>...</td>\n",
              "      <td>...</td>\n",
              "      <td>...</td>\n",
              "      <td>...</td>\n",
              "      <td>...</td>\n",
              "      <td>...</td>\n",
              "      <td>...</td>\n",
              "      <td>...</td>\n",
              "    </tr>\n",
              "    <tr>\n",
              "      <th>32086</th>\n",
              "      <td>NaN</td>\n",
              "      <td>NaN</td>\n",
              "      <td>NaN</td>\n",
              "      <td>NaN</td>\n",
              "      <td>NaN</td>\n",
              "      <td>1589.0</td>\n",
              "      <td>7.0</td>\n",
              "      <td>NaN</td>\n",
              "      <td>NaN</td>\n",
              "      <td>NaN</td>\n",
              "      <td>NaN</td>\n",
              "      <td>NaN</td>\n",
              "      <td>1804.0</td>\n",
              "      <td>NaN</td>\n",
              "      <td>NaN</td>\n",
              "      <td>NaN</td>\n",
              "      <td>NaN</td>\n",
              "      <td>NaN</td>\n",
              "      <td>NaN</td>\n",
              "      <td>NaN</td>\n",
              "      <td>648.0</td>\n",
              "      <td>810.0</td>\n",
              "      <td>NaN</td>\n",
              "      <td>6.0</td>\n",
              "      <td>352.0</td>\n",
              "      <td>NaN</td>\n",
              "      <td>NaN</td>\n",
              "      <td>166.56</td>\n",
              "      <td>NaN</td>\n",
              "      <td>NaN</td>\n",
              "      <td>NaN</td>\n",
              "      <td>NaN</td>\n",
              "      <td>NaN</td>\n",
              "      <td>NaN</td>\n",
              "      <td>0.0</td>\n",
              "      <td>NaN</td>\n",
              "      <td>NaN</td>\n",
              "      <td>532500.0</td>\n",
              "      <td>NaN</td>\n",
              "      <td>NaN</td>\n",
              "      <td>...</td>\n",
              "      <td>py5rEyXktW</td>\n",
              "      <td>AERks4l</td>\n",
              "      <td>NaN</td>\n",
              "      <td>taul</td>\n",
              "      <td>1K8T</td>\n",
              "      <td>42Cy</td>\n",
              "      <td>PHNvXy8</td>\n",
              "      <td>V6XUlxabJ4VaD</td>\n",
              "      <td>119ls53</td>\n",
              "      <td>NaN</td>\n",
              "      <td>nalJ</td>\n",
              "      <td>9_Y1</td>\n",
              "      <td>SkZj</td>\n",
              "      <td>VpdQ</td>\n",
              "      <td>IYzP</td>\n",
              "      <td>NKv3VA1BpP</td>\n",
              "      <td>kIsH</td>\n",
              "      <td>NaN</td>\n",
              "      <td>uKAI</td>\n",
              "      <td>L84s</td>\n",
              "      <td>Ie_5MZs</td>\n",
              "      <td>NaN</td>\n",
              "      <td>Nj2NBv8</td>\n",
              "      <td>NaN</td>\n",
              "      <td>y5FEvJ5</td>\n",
              "      <td>21c1</td>\n",
              "      <td>cJvF</td>\n",
              "      <td>FzaX</td>\n",
              "      <td>UF16siJ</td>\n",
              "      <td>zCkv</td>\n",
              "      <td>APgdzOv</td>\n",
              "      <td>LM8l689qOp</td>\n",
              "      <td>NaN</td>\n",
              "      <td>ELof</td>\n",
              "      <td>Aoh3</td>\n",
              "      <td>6fzt</td>\n",
              "      <td>xwM2aC7IdeMC0</td>\n",
              "      <td>am7c</td>\n",
              "      <td>NaN</td>\n",
              "      <td>-1</td>\n",
              "    </tr>\n",
              "    <tr>\n",
              "      <th>28699</th>\n",
              "      <td>NaN</td>\n",
              "      <td>NaN</td>\n",
              "      <td>NaN</td>\n",
              "      <td>NaN</td>\n",
              "      <td>NaN</td>\n",
              "      <td>616.0</td>\n",
              "      <td>0.0</td>\n",
              "      <td>NaN</td>\n",
              "      <td>NaN</td>\n",
              "      <td>NaN</td>\n",
              "      <td>NaN</td>\n",
              "      <td>NaN</td>\n",
              "      <td>76.0</td>\n",
              "      <td>NaN</td>\n",
              "      <td>NaN</td>\n",
              "      <td>NaN</td>\n",
              "      <td>NaN</td>\n",
              "      <td>NaN</td>\n",
              "      <td>NaN</td>\n",
              "      <td>NaN</td>\n",
              "      <td>156.0</td>\n",
              "      <td>195.0</td>\n",
              "      <td>NaN</td>\n",
              "      <td>6.0</td>\n",
              "      <td>56.0</td>\n",
              "      <td>NaN</td>\n",
              "      <td>NaN</td>\n",
              "      <td>166.56</td>\n",
              "      <td>NaN</td>\n",
              "      <td>NaN</td>\n",
              "      <td>NaN</td>\n",
              "      <td>NaN</td>\n",
              "      <td>NaN</td>\n",
              "      <td>NaN</td>\n",
              "      <td>0.0</td>\n",
              "      <td>NaN</td>\n",
              "      <td>NaN</td>\n",
              "      <td>95496.0</td>\n",
              "      <td>NaN</td>\n",
              "      <td>NaN</td>\n",
              "      <td>...</td>\n",
              "      <td>4e7gUH7IEC</td>\n",
              "      <td>RO12</td>\n",
              "      <td>SEuy</td>\n",
              "      <td>taul</td>\n",
              "      <td>1K8T</td>\n",
              "      <td>lK27</td>\n",
              "      <td>ho_bxgw</td>\n",
              "      <td>NfN9Bz6HFx</td>\n",
              "      <td>J6hvY4Fk1U</td>\n",
              "      <td>smXZ</td>\n",
              "      <td>bDi2</td>\n",
              "      <td>9_Y1</td>\n",
              "      <td>DmlN</td>\n",
              "      <td>NaN</td>\n",
              "      <td>sYC_</td>\n",
              "      <td>me75fM6ugJ</td>\n",
              "      <td>kIsH</td>\n",
              "      <td>NaN</td>\n",
              "      <td>uKAI</td>\n",
              "      <td>L84s</td>\n",
              "      <td>NhsEn4L</td>\n",
              "      <td>NaN</td>\n",
              "      <td>ZpHLjE6hJ5</td>\n",
              "      <td>NaN</td>\n",
              "      <td>beK4AFX</td>\n",
              "      <td>FJ51Im9</td>\n",
              "      <td>cJvF</td>\n",
              "      <td>FzaX</td>\n",
              "      <td>AvcOVQC</td>\n",
              "      <td>oslk</td>\n",
              "      <td>r757j0h</td>\n",
              "      <td>LM8l689qOp</td>\n",
              "      <td>NaN</td>\n",
              "      <td>xG3x</td>\n",
              "      <td>w_Ub</td>\n",
              "      <td>RAYp</td>\n",
              "      <td>F2FyR07IdsN7I</td>\n",
              "      <td>mj86</td>\n",
              "      <td>NaN</td>\n",
              "      <td>-1</td>\n",
              "    </tr>\n",
              "    <tr>\n",
              "      <th>11502</th>\n",
              "      <td>NaN</td>\n",
              "      <td>NaN</td>\n",
              "      <td>NaN</td>\n",
              "      <td>NaN</td>\n",
              "      <td>NaN</td>\n",
              "      <td>616.0</td>\n",
              "      <td>0.0</td>\n",
              "      <td>NaN</td>\n",
              "      <td>NaN</td>\n",
              "      <td>NaN</td>\n",
              "      <td>NaN</td>\n",
              "      <td>NaN</td>\n",
              "      <td>96.0</td>\n",
              "      <td>NaN</td>\n",
              "      <td>NaN</td>\n",
              "      <td>NaN</td>\n",
              "      <td>NaN</td>\n",
              "      <td>NaN</td>\n",
              "      <td>NaN</td>\n",
              "      <td>NaN</td>\n",
              "      <td>240.0</td>\n",
              "      <td>300.0</td>\n",
              "      <td>NaN</td>\n",
              "      <td>4.0</td>\n",
              "      <td>88.0</td>\n",
              "      <td>NaN</td>\n",
              "      <td>NaN</td>\n",
              "      <td>200.00</td>\n",
              "      <td>NaN</td>\n",
              "      <td>NaN</td>\n",
              "      <td>NaN</td>\n",
              "      <td>NaN</td>\n",
              "      <td>NaN</td>\n",
              "      <td>NaN</td>\n",
              "      <td>0.0</td>\n",
              "      <td>NaN</td>\n",
              "      <td>NaN</td>\n",
              "      <td>28056.0</td>\n",
              "      <td>NaN</td>\n",
              "      <td>NaN</td>\n",
              "      <td>...</td>\n",
              "      <td>LDPgUHXZeb</td>\n",
              "      <td>RO12</td>\n",
              "      <td>SEuy</td>\n",
              "      <td>taul</td>\n",
              "      <td>1K8T</td>\n",
              "      <td>TyGl</td>\n",
              "      <td>cSPqFuv</td>\n",
              "      <td>MXlhT5l</td>\n",
              "      <td>pP5FCWS</td>\n",
              "      <td>smXZ</td>\n",
              "      <td>sool</td>\n",
              "      <td>9_Y1</td>\n",
              "      <td>STGZ</td>\n",
              "      <td>sJzTlal</td>\n",
              "      <td>IYzP</td>\n",
              "      <td>me75fM6ugJ</td>\n",
              "      <td>kIsH</td>\n",
              "      <td>NaN</td>\n",
              "      <td>uKAI</td>\n",
              "      <td>L84s</td>\n",
              "      <td>NhsEn4L</td>\n",
              "      <td>NaN</td>\n",
              "      <td>5ZYbB3h</td>\n",
              "      <td>NaN</td>\n",
              "      <td>mAja5EA</td>\n",
              "      <td>_Xcv</td>\n",
              "      <td>UYBR</td>\n",
              "      <td>NaN</td>\n",
              "      <td>joS6pd1</td>\n",
              "      <td>oslk</td>\n",
              "      <td>AYu2Oqu</td>\n",
              "      <td>NaN</td>\n",
              "      <td>NaN</td>\n",
              "      <td>kG3k</td>\n",
              "      <td>453m</td>\n",
              "      <td>RAYp</td>\n",
              "      <td>F2FyR07IdsN7I</td>\n",
              "      <td>mj86</td>\n",
              "      <td>NaN</td>\n",
              "      <td>-1</td>\n",
              "    </tr>\n",
              "    <tr>\n",
              "      <th>29377</th>\n",
              "      <td>NaN</td>\n",
              "      <td>NaN</td>\n",
              "      <td>NaN</td>\n",
              "      <td>0.0</td>\n",
              "      <td>NaN</td>\n",
              "      <td>NaN</td>\n",
              "      <td>NaN</td>\n",
              "      <td>NaN</td>\n",
              "      <td>NaN</td>\n",
              "      <td>NaN</td>\n",
              "      <td>NaN</td>\n",
              "      <td>NaN</td>\n",
              "      <td>NaN</td>\n",
              "      <td>NaN</td>\n",
              "      <td>NaN</td>\n",
              "      <td>NaN</td>\n",
              "      <td>0.0</td>\n",
              "      <td>0.0</td>\n",
              "      <td>0.0</td>\n",
              "      <td>NaN</td>\n",
              "      <td>NaN</td>\n",
              "      <td>NaN</td>\n",
              "      <td>NaN</td>\n",
              "      <td>NaN</td>\n",
              "      <td>NaN</td>\n",
              "      <td>NaN</td>\n",
              "      <td>NaN</td>\n",
              "      <td>NaN</td>\n",
              "      <td>NaN</td>\n",
              "      <td>NaN</td>\n",
              "      <td>NaN</td>\n",
              "      <td>NaN</td>\n",
              "      <td>NaN</td>\n",
              "      <td>NaN</td>\n",
              "      <td>NaN</td>\n",
              "      <td>NaN</td>\n",
              "      <td>0.0</td>\n",
              "      <td>NaN</td>\n",
              "      <td>NaN</td>\n",
              "      <td>NaN</td>\n",
              "      <td>...</td>\n",
              "      <td>xearjIX0Db</td>\n",
              "      <td>RO12</td>\n",
              "      <td>NaN</td>\n",
              "      <td>taul</td>\n",
              "      <td>1K8T</td>\n",
              "      <td>IvdZ</td>\n",
              "      <td>20dJZJ1</td>\n",
              "      <td>hCdK</td>\n",
              "      <td>NaN</td>\n",
              "      <td>NaN</td>\n",
              "      <td>9XhW</td>\n",
              "      <td>9_Y1</td>\n",
              "      <td>WIr3</td>\n",
              "      <td>VpdQ</td>\n",
              "      <td>NaN</td>\n",
              "      <td>DHn_WUyBhW_whjA88g9bvA64_</td>\n",
              "      <td>kIsH</td>\n",
              "      <td>NaN</td>\n",
              "      <td>uKAI</td>\n",
              "      <td>L84s</td>\n",
              "      <td>CrNX</td>\n",
              "      <td>NaN</td>\n",
              "      <td>NaN</td>\n",
              "      <td>NaN</td>\n",
              "      <td>NGZ_12K</td>\n",
              "      <td>NVNS</td>\n",
              "      <td>cJvF</td>\n",
              "      <td>NaN</td>\n",
              "      <td>yMCKckb</td>\n",
              "      <td>d0EEeJi</td>\n",
              "      <td>cwUCgpA</td>\n",
              "      <td>NaN</td>\n",
              "      <td>NaN</td>\n",
              "      <td>NaN</td>\n",
              "      <td>5Acm</td>\n",
              "      <td>02N6s8f</td>\n",
              "      <td>F2FyR07IdsN7I</td>\n",
              "      <td>NaN</td>\n",
              "      <td>NaN</td>\n",
              "      <td>-1</td>\n",
              "    </tr>\n",
              "    <tr>\n",
              "      <th>11227</th>\n",
              "      <td>NaN</td>\n",
              "      <td>NaN</td>\n",
              "      <td>NaN</td>\n",
              "      <td>0.0</td>\n",
              "      <td>NaN</td>\n",
              "      <td>NaN</td>\n",
              "      <td>NaN</td>\n",
              "      <td>NaN</td>\n",
              "      <td>NaN</td>\n",
              "      <td>NaN</td>\n",
              "      <td>NaN</td>\n",
              "      <td>NaN</td>\n",
              "      <td>NaN</td>\n",
              "      <td>NaN</td>\n",
              "      <td>NaN</td>\n",
              "      <td>NaN</td>\n",
              "      <td>5.0</td>\n",
              "      <td>0.0</td>\n",
              "      <td>0.0</td>\n",
              "      <td>NaN</td>\n",
              "      <td>NaN</td>\n",
              "      <td>NaN</td>\n",
              "      <td>NaN</td>\n",
              "      <td>NaN</td>\n",
              "      <td>NaN</td>\n",
              "      <td>NaN</td>\n",
              "      <td>NaN</td>\n",
              "      <td>NaN</td>\n",
              "      <td>NaN</td>\n",
              "      <td>NaN</td>\n",
              "      <td>NaN</td>\n",
              "      <td>NaN</td>\n",
              "      <td>NaN</td>\n",
              "      <td>NaN</td>\n",
              "      <td>NaN</td>\n",
              "      <td>NaN</td>\n",
              "      <td>1584270.0</td>\n",
              "      <td>NaN</td>\n",
              "      <td>NaN</td>\n",
              "      <td>NaN</td>\n",
              "      <td>...</td>\n",
              "      <td>75lTmBtFkL</td>\n",
              "      <td>RO12</td>\n",
              "      <td>NaN</td>\n",
              "      <td>taul</td>\n",
              "      <td>1K8T</td>\n",
              "      <td>TyGl</td>\n",
              "      <td>au1CPws</td>\n",
              "      <td>7aPrx0x</td>\n",
              "      <td>NaN</td>\n",
              "      <td>NaN</td>\n",
              "      <td>wWJ2</td>\n",
              "      <td>9_Y1</td>\n",
              "      <td>c2JP</td>\n",
              "      <td>sJzTlal</td>\n",
              "      <td>NaN</td>\n",
              "      <td>me75fM6ugJ</td>\n",
              "      <td>kIsH</td>\n",
              "      <td>NaN</td>\n",
              "      <td>uKAI</td>\n",
              "      <td>Mtgm</td>\n",
              "      <td>NhsEn4L</td>\n",
              "      <td>NaN</td>\n",
              "      <td>NaN</td>\n",
              "      <td>NaN</td>\n",
              "      <td>TDcwKda</td>\n",
              "      <td>TZGy</td>\n",
              "      <td>cJvF</td>\n",
              "      <td>NaN</td>\n",
              "      <td>_PxY_02</td>\n",
              "      <td>oslk</td>\n",
              "      <td>r7xOEra</td>\n",
              "      <td>NaN</td>\n",
              "      <td>NaN</td>\n",
              "      <td>NaN</td>\n",
              "      <td>rgKb</td>\n",
              "      <td>RAYp</td>\n",
              "      <td>F2FyR07IdsN7I</td>\n",
              "      <td>NaN</td>\n",
              "      <td>NaN</td>\n",
              "      <td>-1</td>\n",
              "    </tr>\n",
              "  </tbody>\n",
              "</table>\n",
              "<p>35000 rows × 231 columns</p>\n",
              "</div>"
            ],
            "text/plain": [
              "       Var1  Var2  Var3  Var4  ...         Var228  Var229  Var230  target\n",
              "26327   NaN   NaN   NaN   NaN  ...  F2FyR07IdsN7I    am7c     NaN      -1\n",
              "10192   NaN   NaN   NaN   0.0  ...  F2FyR07IdsN7I     NaN     NaN      -1\n",
              "39407   NaN   NaN   NaN   NaN  ...  F2FyR07IdsN7I     NaN     NaN      -1\n",
              "36846   NaN   NaN   NaN   NaN  ...        Zy3gnGM    am7c     NaN      -1\n",
              "11225   NaN   NaN   NaN   NaN  ...        55YFVY9    mj86     NaN       1\n",
              "...     ...   ...   ...   ...  ...            ...     ...     ...     ...\n",
              "32086   NaN   NaN   NaN   NaN  ...  xwM2aC7IdeMC0    am7c     NaN      -1\n",
              "28699   NaN   NaN   NaN   NaN  ...  F2FyR07IdsN7I    mj86     NaN      -1\n",
              "11502   NaN   NaN   NaN   NaN  ...  F2FyR07IdsN7I    mj86     NaN      -1\n",
              "29377   NaN   NaN   NaN   0.0  ...  F2FyR07IdsN7I     NaN     NaN      -1\n",
              "11227   NaN   NaN   NaN   0.0  ...  F2FyR07IdsN7I     NaN     NaN      -1\n",
              "\n",
              "[35000 rows x 231 columns]"
            ]
          },
          "metadata": {},
          "execution_count": 73
        }
      ]
    },
    {
      "cell_type": "code",
      "metadata": {
        "collapsed": true,
        "id": "tnagzubp-QbJ"
      },
      "source": [
        "# df_ho.to_csv(os.path.join(PATH_TO_DATA, 'hold_out_dataset.csv'))"
      ],
      "execution_count": 64,
      "outputs": []
    },
    {
      "cell_type": "markdown",
      "metadata": {
        "id": "KmuazVaCKlV0"
      },
      "source": [
        "- ROC AUC\n",
        "- precision, recall, f1, log, accuracy\n",
        "- 5 фолдов, stratified k-fold, shuffled"
      ]
    },
    {
      "cell_type": "code",
      "metadata": {
        "id": "utN9HeA9iOd7"
      },
      "source": [
        "cols_all = df_train.columns\n",
        "cols_nan = df_train.loc[:, df_train.isna().all()].columns\n",
        "df_num = df_train.select_dtypes(exclude='object')\n",
        "df_cat = df_train.select_dtypes(include='object')"
      ],
      "execution_count": 65,
      "outputs": []
    },
    {
      "cell_type": "code",
      "metadata": {
        "id": "h5ze86nDlyn7"
      },
      "source": [
        "df_train.dropna(axis=1, how='all', inplace=True)\n",
        "cols = df_train.columns"
      ],
      "execution_count": 76,
      "outputs": []
    },
    {
      "cell_type": "code",
      "metadata": {
        "colab": {
          "base_uri": "https://localhost:8080/"
        },
        "id": "jLRjd6vsg565",
        "outputId": "e0dd3e0b-e2ef-4567-cbb6-9d4607e840ae"
      },
      "source": [
        "%%time\n",
        "si = SimpleImputer(strategy='most_frequent')\n",
        "df_train = si.fit_transform(df_train)\n",
        "df_train = pd.DataFrame(df_train, columns=cols)"
      ],
      "execution_count": 80,
      "outputs": [
        {
          "output_type": "stream",
          "name": "stdout",
          "text": [
            "CPU times: user 7.71 s, sys: 464 ms, total: 8.17 s\n",
            "Wall time: 8.17 s\n"
          ]
        }
      ]
    },
    {
      "cell_type": "code",
      "metadata": {
        "colab": {
          "base_uri": "https://localhost:8080/",
          "height": 439
        },
        "id": "uoIE1W8xhXDJ",
        "outputId": "6bf62e7c-03b8-4675-8629-b08ae7c1d61a"
      },
      "source": [
        "df_train"
      ],
      "execution_count": 82,
      "outputs": [
        {
          "output_type": "execute_result",
          "data": {
            "text/html": [
              "<div>\n",
              "<style scoped>\n",
              "    .dataframe tbody tr th:only-of-type {\n",
              "        vertical-align: middle;\n",
              "    }\n",
              "\n",
              "    .dataframe tbody tr th {\n",
              "        vertical-align: top;\n",
              "    }\n",
              "\n",
              "    .dataframe thead th {\n",
              "        text-align: right;\n",
              "    }\n",
              "</style>\n",
              "<table border=\"1\" class=\"dataframe\">\n",
              "  <thead>\n",
              "    <tr style=\"text-align: right;\">\n",
              "      <th></th>\n",
              "      <th>Var1</th>\n",
              "      <th>Var2</th>\n",
              "      <th>Var3</th>\n",
              "      <th>Var4</th>\n",
              "      <th>Var5</th>\n",
              "      <th>Var6</th>\n",
              "      <th>Var7</th>\n",
              "      <th>Var9</th>\n",
              "      <th>Var10</th>\n",
              "      <th>Var11</th>\n",
              "      <th>Var12</th>\n",
              "      <th>Var13</th>\n",
              "      <th>Var14</th>\n",
              "      <th>Var16</th>\n",
              "      <th>Var17</th>\n",
              "      <th>Var18</th>\n",
              "      <th>Var19</th>\n",
              "      <th>Var21</th>\n",
              "      <th>Var22</th>\n",
              "      <th>Var23</th>\n",
              "      <th>Var24</th>\n",
              "      <th>Var25</th>\n",
              "      <th>Var26</th>\n",
              "      <th>Var27</th>\n",
              "      <th>Var28</th>\n",
              "      <th>Var29</th>\n",
              "      <th>Var30</th>\n",
              "      <th>Var33</th>\n",
              "      <th>Var34</th>\n",
              "      <th>Var35</th>\n",
              "      <th>Var36</th>\n",
              "      <th>Var37</th>\n",
              "      <th>Var38</th>\n",
              "      <th>Var40</th>\n",
              "      <th>Var41</th>\n",
              "      <th>Var43</th>\n",
              "      <th>Var44</th>\n",
              "      <th>Var45</th>\n",
              "      <th>Var46</th>\n",
              "      <th>Var47</th>\n",
              "      <th>...</th>\n",
              "      <th>Var190</th>\n",
              "      <th>Var191</th>\n",
              "      <th>Var192</th>\n",
              "      <th>Var193</th>\n",
              "      <th>Var194</th>\n",
              "      <th>Var195</th>\n",
              "      <th>Var196</th>\n",
              "      <th>Var197</th>\n",
              "      <th>Var198</th>\n",
              "      <th>Var199</th>\n",
              "      <th>Var200</th>\n",
              "      <th>Var201</th>\n",
              "      <th>Var202</th>\n",
              "      <th>Var203</th>\n",
              "      <th>Var204</th>\n",
              "      <th>Var205</th>\n",
              "      <th>Var206</th>\n",
              "      <th>Var207</th>\n",
              "      <th>Var208</th>\n",
              "      <th>Var210</th>\n",
              "      <th>Var211</th>\n",
              "      <th>Var212</th>\n",
              "      <th>Var213</th>\n",
              "      <th>Var214</th>\n",
              "      <th>Var215</th>\n",
              "      <th>Var216</th>\n",
              "      <th>Var217</th>\n",
              "      <th>Var218</th>\n",
              "      <th>Var219</th>\n",
              "      <th>Var220</th>\n",
              "      <th>Var221</th>\n",
              "      <th>Var222</th>\n",
              "      <th>Var223</th>\n",
              "      <th>Var224</th>\n",
              "      <th>Var225</th>\n",
              "      <th>Var226</th>\n",
              "      <th>Var227</th>\n",
              "      <th>Var228</th>\n",
              "      <th>Var229</th>\n",
              "      <th>target</th>\n",
              "    </tr>\n",
              "  </thead>\n",
              "  <tbody>\n",
              "    <tr>\n",
              "      <th>0</th>\n",
              "      <td>0</td>\n",
              "      <td>0</td>\n",
              "      <td>0</td>\n",
              "      <td>0</td>\n",
              "      <td>0</td>\n",
              "      <td>5341</td>\n",
              "      <td>21</td>\n",
              "      <td>0</td>\n",
              "      <td>0</td>\n",
              "      <td>8</td>\n",
              "      <td>0</td>\n",
              "      <td>5064</td>\n",
              "      <td>0</td>\n",
              "      <td>0</td>\n",
              "      <td>0</td>\n",
              "      <td>0</td>\n",
              "      <td>0</td>\n",
              "      <td>3544</td>\n",
              "      <td>4430</td>\n",
              "      <td>0</td>\n",
              "      <td>86</td>\n",
              "      <td>792</td>\n",
              "      <td>0</td>\n",
              "      <td>0</td>\n",
              "      <td>210</td>\n",
              "      <td>0</td>\n",
              "      <td>5</td>\n",
              "      <td>0</td>\n",
              "      <td>0</td>\n",
              "      <td>15</td>\n",
              "      <td>0</td>\n",
              "      <td>0</td>\n",
              "      <td>4.04454e+06</td>\n",
              "      <td>0</td>\n",
              "      <td>0</td>\n",
              "      <td>0</td>\n",
              "      <td>0</td>\n",
              "      <td>2985.64</td>\n",
              "      <td>0</td>\n",
              "      <td>0</td>\n",
              "      <td>...</td>\n",
              "      <td>0</td>\n",
              "      <td>r__I</td>\n",
              "      <td>1qmr4RQxul</td>\n",
              "      <td>RO12</td>\n",
              "      <td>SEuy</td>\n",
              "      <td>taul</td>\n",
              "      <td>1K8T</td>\n",
              "      <td>487l</td>\n",
              "      <td>vHHY4q6</td>\n",
              "      <td>GHfL3MpXAX</td>\n",
              "      <td>2rMgswy</td>\n",
              "      <td>smXZ</td>\n",
              "      <td>gwgA</td>\n",
              "      <td>9_Y1</td>\n",
              "      <td>z5Ry</td>\n",
              "      <td>VpdQ</td>\n",
              "      <td>IYzP</td>\n",
              "      <td>me75fM6ugJ</td>\n",
              "      <td>kIsH</td>\n",
              "      <td>uKAI</td>\n",
              "      <td>L84s</td>\n",
              "      <td>NhsEn4L</td>\n",
              "      <td>KdSa</td>\n",
              "      <td>5dnbgcr</td>\n",
              "      <td>eGzu</td>\n",
              "      <td>TDceha3</td>\n",
              "      <td>7Zw8</td>\n",
              "      <td>UYBR</td>\n",
              "      <td>FzaX</td>\n",
              "      <td>R4hm94s</td>\n",
              "      <td>oslk</td>\n",
              "      <td>oSyMpgG</td>\n",
              "      <td>LM8l689qOp</td>\n",
              "      <td>4n2X</td>\n",
              "      <td>ELof</td>\n",
              "      <td>FSa2</td>\n",
              "      <td>RAYp</td>\n",
              "      <td>F2FyR07IdsN7I</td>\n",
              "      <td>am7c</td>\n",
              "      <td>-1</td>\n",
              "    </tr>\n",
              "    <tr>\n",
              "      <th>1</th>\n",
              "      <td>0</td>\n",
              "      <td>0</td>\n",
              "      <td>0</td>\n",
              "      <td>0</td>\n",
              "      <td>0</td>\n",
              "      <td>0</td>\n",
              "      <td>7</td>\n",
              "      <td>0</td>\n",
              "      <td>0</td>\n",
              "      <td>8</td>\n",
              "      <td>0</td>\n",
              "      <td>0</td>\n",
              "      <td>0</td>\n",
              "      <td>0</td>\n",
              "      <td>45</td>\n",
              "      <td>0</td>\n",
              "      <td>0</td>\n",
              "      <td>0</td>\n",
              "      <td>0</td>\n",
              "      <td>0</td>\n",
              "      <td>0</td>\n",
              "      <td>0</td>\n",
              "      <td>0</td>\n",
              "      <td>0</td>\n",
              "      <td>166.56</td>\n",
              "      <td>0</td>\n",
              "      <td>5</td>\n",
              "      <td>0</td>\n",
              "      <td>0</td>\n",
              "      <td>0</td>\n",
              "      <td>0</td>\n",
              "      <td>0</td>\n",
              "      <td>0</td>\n",
              "      <td>0</td>\n",
              "      <td>0</td>\n",
              "      <td>0</td>\n",
              "      <td>0</td>\n",
              "      <td>2985.64</td>\n",
              "      <td>0</td>\n",
              "      <td>0</td>\n",
              "      <td>...</td>\n",
              "      <td>0</td>\n",
              "      <td>r__I</td>\n",
              "      <td>voArjIXt5a</td>\n",
              "      <td>RO12</td>\n",
              "      <td>SEuy</td>\n",
              "      <td>taul</td>\n",
              "      <td>1K8T</td>\n",
              "      <td>7ALb</td>\n",
              "      <td>0qCl1hh</td>\n",
              "      <td>9YuuPSz3BI</td>\n",
              "      <td>yP09M03</td>\n",
              "      <td>smXZ</td>\n",
              "      <td>EVMP</td>\n",
              "      <td>9_Y1</td>\n",
              "      <td>xQ2A</td>\n",
              "      <td>VpdQ</td>\n",
              "      <td>IYzP</td>\n",
              "      <td>me75fM6ugJ</td>\n",
              "      <td>kIsH</td>\n",
              "      <td>uKAI</td>\n",
              "      <td>Mtgm</td>\n",
              "      <td>NhsEn4L</td>\n",
              "      <td>KdSa</td>\n",
              "      <td>5zARyjR</td>\n",
              "      <td>eGzu</td>\n",
              "      <td>7WwCtIM</td>\n",
              "      <td>LusX</td>\n",
              "      <td>cJvF</td>\n",
              "      <td>FzaX</td>\n",
              "      <td>gfMRJnY</td>\n",
              "      <td>oslk</td>\n",
              "      <td>99nURQu</td>\n",
              "      <td>LM8l689qOp</td>\n",
              "      <td>4n2X</td>\n",
              "      <td>ELof</td>\n",
              "      <td>5Acm</td>\n",
              "      <td>RAYp</td>\n",
              "      <td>F2FyR07IdsN7I</td>\n",
              "      <td>am7c</td>\n",
              "      <td>-1</td>\n",
              "    </tr>\n",
              "    <tr>\n",
              "      <th>2</th>\n",
              "      <td>0</td>\n",
              "      <td>0</td>\n",
              "      <td>0</td>\n",
              "      <td>0</td>\n",
              "      <td>0</td>\n",
              "      <td>15176</td>\n",
              "      <td>7</td>\n",
              "      <td>0</td>\n",
              "      <td>0</td>\n",
              "      <td>8</td>\n",
              "      <td>0</td>\n",
              "      <td>56</td>\n",
              "      <td>0</td>\n",
              "      <td>0</td>\n",
              "      <td>0</td>\n",
              "      <td>0</td>\n",
              "      <td>0</td>\n",
              "      <td>1064</td>\n",
              "      <td>1330</td>\n",
              "      <td>0</td>\n",
              "      <td>8</td>\n",
              "      <td>728</td>\n",
              "      <td>0</td>\n",
              "      <td>0</td>\n",
              "      <td>220.08</td>\n",
              "      <td>0</td>\n",
              "      <td>5</td>\n",
              "      <td>0</td>\n",
              "      <td>0</td>\n",
              "      <td>0</td>\n",
              "      <td>0</td>\n",
              "      <td>0</td>\n",
              "      <td>3.45572e+06</td>\n",
              "      <td>0</td>\n",
              "      <td>0</td>\n",
              "      <td>0</td>\n",
              "      <td>0</td>\n",
              "      <td>2985.64</td>\n",
              "      <td>0</td>\n",
              "      <td>0</td>\n",
              "      <td>...</td>\n",
              "      <td>0</td>\n",
              "      <td>r__I</td>\n",
              "      <td>2jigUH7ejg</td>\n",
              "      <td>RO12</td>\n",
              "      <td>SEuy</td>\n",
              "      <td>taul</td>\n",
              "      <td>1K8T</td>\n",
              "      <td>72yt</td>\n",
              "      <td>eYPJuq4</td>\n",
              "      <td>NFlfMbKIm3</td>\n",
              "      <td>yP09M03</td>\n",
              "      <td>smXZ</td>\n",
              "      <td>Tkse</td>\n",
              "      <td>9_Y1</td>\n",
              "      <td>1Bp0</td>\n",
              "      <td>09_Q</td>\n",
              "      <td>zm5i</td>\n",
              "      <td>me75fM6ugJ</td>\n",
              "      <td>kIsH</td>\n",
              "      <td>uKAI</td>\n",
              "      <td>L84s</td>\n",
              "      <td>NhsEn4L</td>\n",
              "      <td>KdSa</td>\n",
              "      <td>5zARyjR</td>\n",
              "      <td>eGzu</td>\n",
              "      <td>kZJtVhC</td>\n",
              "      <td>SssI</td>\n",
              "      <td>UYBR</td>\n",
              "      <td>FzaX</td>\n",
              "      <td>42Uv66D</td>\n",
              "      <td>oslk</td>\n",
              "      <td>_BMKSUK</td>\n",
              "      <td>LM8l689qOp</td>\n",
              "      <td>4n2X</td>\n",
              "      <td>ELof</td>\n",
              "      <td>WqMG</td>\n",
              "      <td>RAYp</td>\n",
              "      <td>F2FyR07IdsN7I</td>\n",
              "      <td>am7c</td>\n",
              "      <td>-1</td>\n",
              "    </tr>\n",
              "    <tr>\n",
              "      <th>3</th>\n",
              "      <td>0</td>\n",
              "      <td>0</td>\n",
              "      <td>0</td>\n",
              "      <td>0</td>\n",
              "      <td>0</td>\n",
              "      <td>49</td>\n",
              "      <td>0</td>\n",
              "      <td>0</td>\n",
              "      <td>0</td>\n",
              "      <td>8</td>\n",
              "      <td>0</td>\n",
              "      <td>12</td>\n",
              "      <td>0</td>\n",
              "      <td>0</td>\n",
              "      <td>0</td>\n",
              "      <td>0</td>\n",
              "      <td>0</td>\n",
              "      <td>16</td>\n",
              "      <td>20</td>\n",
              "      <td>0</td>\n",
              "      <td>0</td>\n",
              "      <td>32</td>\n",
              "      <td>0</td>\n",
              "      <td>0</td>\n",
              "      <td>133.76</td>\n",
              "      <td>0</td>\n",
              "      <td>5</td>\n",
              "      <td>0</td>\n",
              "      <td>0</td>\n",
              "      <td>0</td>\n",
              "      <td>0</td>\n",
              "      <td>0</td>\n",
              "      <td>0</td>\n",
              "      <td>0</td>\n",
              "      <td>0</td>\n",
              "      <td>0</td>\n",
              "      <td>0</td>\n",
              "      <td>2985.64</td>\n",
              "      <td>0</td>\n",
              "      <td>0</td>\n",
              "      <td>...</td>\n",
              "      <td>0</td>\n",
              "      <td>r__I</td>\n",
              "      <td>O8Zr4Rdc_a</td>\n",
              "      <td>2Knk1KF</td>\n",
              "      <td>SEuy</td>\n",
              "      <td>taul</td>\n",
              "      <td>1K8T</td>\n",
              "      <td>L_LK</td>\n",
              "      <td>PHNvXy8</td>\n",
              "      <td>u2pCocB</td>\n",
              "      <td>qRzZGt8</td>\n",
              "      <td>smXZ</td>\n",
              "      <td>hINo</td>\n",
              "      <td>9_Y1</td>\n",
              "      <td>em8I</td>\n",
              "      <td>09_Q</td>\n",
              "      <td>IYzP</td>\n",
              "      <td>NKv3VA1BpP</td>\n",
              "      <td>kIsH</td>\n",
              "      <td>g5HH</td>\n",
              "      <td>L84s</td>\n",
              "      <td>Ie_5MZs</td>\n",
              "      <td>KdSa</td>\n",
              "      <td>5zAG_Cb</td>\n",
              "      <td>eGzu</td>\n",
              "      <td>teAY_NX</td>\n",
              "      <td>tlNv</td>\n",
              "      <td>cJvF</td>\n",
              "      <td>FzaX</td>\n",
              "      <td>UF16siJ</td>\n",
              "      <td>zCkv</td>\n",
              "      <td>APgdzOv</td>\n",
              "      <td>LM8l689qOp</td>\n",
              "      <td>4n2X</td>\n",
              "      <td>ELof</td>\n",
              "      <td>me1d</td>\n",
              "      <td>6fzt</td>\n",
              "      <td>Zy3gnGM</td>\n",
              "      <td>am7c</td>\n",
              "      <td>-1</td>\n",
              "    </tr>\n",
              "    <tr>\n",
              "      <th>4</th>\n",
              "      <td>0</td>\n",
              "      <td>0</td>\n",
              "      <td>0</td>\n",
              "      <td>0</td>\n",
              "      <td>0</td>\n",
              "      <td>5502</td>\n",
              "      <td>14</td>\n",
              "      <td>0</td>\n",
              "      <td>0</td>\n",
              "      <td>8</td>\n",
              "      <td>0</td>\n",
              "      <td>712</td>\n",
              "      <td>0</td>\n",
              "      <td>0</td>\n",
              "      <td>0</td>\n",
              "      <td>0</td>\n",
              "      <td>0</td>\n",
              "      <td>788</td>\n",
              "      <td>985</td>\n",
              "      <td>0</td>\n",
              "      <td>22</td>\n",
              "      <td>592</td>\n",
              "      <td>0</td>\n",
              "      <td>0</td>\n",
              "      <td>166.56</td>\n",
              "      <td>0</td>\n",
              "      <td>5</td>\n",
              "      <td>0</td>\n",
              "      <td>0</td>\n",
              "      <td>0</td>\n",
              "      <td>0</td>\n",
              "      <td>0</td>\n",
              "      <td>555480</td>\n",
              "      <td>0</td>\n",
              "      <td>0</td>\n",
              "      <td>0</td>\n",
              "      <td>0</td>\n",
              "      <td>2985.64</td>\n",
              "      <td>0</td>\n",
              "      <td>0</td>\n",
              "      <td>...</td>\n",
              "      <td>0</td>\n",
              "      <td>r__I</td>\n",
              "      <td>avkq9ayfAo</td>\n",
              "      <td>2Knk1KF</td>\n",
              "      <td>SEuy</td>\n",
              "      <td>taul</td>\n",
              "      <td>1K8T</td>\n",
              "      <td>PJLW</td>\n",
              "      <td>HPUGayG</td>\n",
              "      <td>r83_sZi</td>\n",
              "      <td>yP09M03</td>\n",
              "      <td>smXZ</td>\n",
              "      <td>nt0n</td>\n",
              "      <td>9_Y1</td>\n",
              "      <td>vm5R</td>\n",
              "      <td>VpdQ</td>\n",
              "      <td>wMei</td>\n",
              "      <td>me75fM6ugJ</td>\n",
              "      <td>kIsH</td>\n",
              "      <td>uKAI</td>\n",
              "      <td>L84s</td>\n",
              "      <td>h0lfDKh52u4GP</td>\n",
              "      <td>KdSa</td>\n",
              "      <td>5zARyjR</td>\n",
              "      <td>eGzu</td>\n",
              "      <td>IoI4mKe</td>\n",
              "      <td>CzUQ</td>\n",
              "      <td>cJvF</td>\n",
              "      <td>FzaX</td>\n",
              "      <td>kTkv10k</td>\n",
              "      <td>oslk</td>\n",
              "      <td>TUP6P29</td>\n",
              "      <td>LM8l689qOp</td>\n",
              "      <td>4n2X</td>\n",
              "      <td>ELof</td>\n",
              "      <td>7P5s</td>\n",
              "      <td>RAYp</td>\n",
              "      <td>55YFVY9</td>\n",
              "      <td>mj86</td>\n",
              "      <td>1</td>\n",
              "    </tr>\n",
              "    <tr>\n",
              "      <th>...</th>\n",
              "      <td>...</td>\n",
              "      <td>...</td>\n",
              "      <td>...</td>\n",
              "      <td>...</td>\n",
              "      <td>...</td>\n",
              "      <td>...</td>\n",
              "      <td>...</td>\n",
              "      <td>...</td>\n",
              "      <td>...</td>\n",
              "      <td>...</td>\n",
              "      <td>...</td>\n",
              "      <td>...</td>\n",
              "      <td>...</td>\n",
              "      <td>...</td>\n",
              "      <td>...</td>\n",
              "      <td>...</td>\n",
              "      <td>...</td>\n",
              "      <td>...</td>\n",
              "      <td>...</td>\n",
              "      <td>...</td>\n",
              "      <td>...</td>\n",
              "      <td>...</td>\n",
              "      <td>...</td>\n",
              "      <td>...</td>\n",
              "      <td>...</td>\n",
              "      <td>...</td>\n",
              "      <td>...</td>\n",
              "      <td>...</td>\n",
              "      <td>...</td>\n",
              "      <td>...</td>\n",
              "      <td>...</td>\n",
              "      <td>...</td>\n",
              "      <td>...</td>\n",
              "      <td>...</td>\n",
              "      <td>...</td>\n",
              "      <td>...</td>\n",
              "      <td>...</td>\n",
              "      <td>...</td>\n",
              "      <td>...</td>\n",
              "      <td>...</td>\n",
              "      <td>...</td>\n",
              "      <td>...</td>\n",
              "      <td>...</td>\n",
              "      <td>...</td>\n",
              "      <td>...</td>\n",
              "      <td>...</td>\n",
              "      <td>...</td>\n",
              "      <td>...</td>\n",
              "      <td>...</td>\n",
              "      <td>...</td>\n",
              "      <td>...</td>\n",
              "      <td>...</td>\n",
              "      <td>...</td>\n",
              "      <td>...</td>\n",
              "      <td>...</td>\n",
              "      <td>...</td>\n",
              "      <td>...</td>\n",
              "      <td>...</td>\n",
              "      <td>...</td>\n",
              "      <td>...</td>\n",
              "      <td>...</td>\n",
              "      <td>...</td>\n",
              "      <td>...</td>\n",
              "      <td>...</td>\n",
              "      <td>...</td>\n",
              "      <td>...</td>\n",
              "      <td>...</td>\n",
              "      <td>...</td>\n",
              "      <td>...</td>\n",
              "      <td>...</td>\n",
              "      <td>...</td>\n",
              "      <td>...</td>\n",
              "      <td>...</td>\n",
              "      <td>...</td>\n",
              "      <td>...</td>\n",
              "      <td>...</td>\n",
              "      <td>...</td>\n",
              "      <td>...</td>\n",
              "      <td>...</td>\n",
              "      <td>...</td>\n",
              "      <td>...</td>\n",
              "    </tr>\n",
              "    <tr>\n",
              "      <th>34995</th>\n",
              "      <td>0</td>\n",
              "      <td>0</td>\n",
              "      <td>0</td>\n",
              "      <td>0</td>\n",
              "      <td>0</td>\n",
              "      <td>1589</td>\n",
              "      <td>7</td>\n",
              "      <td>0</td>\n",
              "      <td>0</td>\n",
              "      <td>8</td>\n",
              "      <td>0</td>\n",
              "      <td>1804</td>\n",
              "      <td>0</td>\n",
              "      <td>0</td>\n",
              "      <td>0</td>\n",
              "      <td>0</td>\n",
              "      <td>0</td>\n",
              "      <td>648</td>\n",
              "      <td>810</td>\n",
              "      <td>0</td>\n",
              "      <td>6</td>\n",
              "      <td>352</td>\n",
              "      <td>0</td>\n",
              "      <td>0</td>\n",
              "      <td>166.56</td>\n",
              "      <td>0</td>\n",
              "      <td>5</td>\n",
              "      <td>0</td>\n",
              "      <td>0</td>\n",
              "      <td>0</td>\n",
              "      <td>0</td>\n",
              "      <td>0</td>\n",
              "      <td>532500</td>\n",
              "      <td>0</td>\n",
              "      <td>0</td>\n",
              "      <td>0</td>\n",
              "      <td>0</td>\n",
              "      <td>2985.64</td>\n",
              "      <td>0</td>\n",
              "      <td>0</td>\n",
              "      <td>...</td>\n",
              "      <td>0</td>\n",
              "      <td>r__I</td>\n",
              "      <td>py5rEyXktW</td>\n",
              "      <td>AERks4l</td>\n",
              "      <td>SEuy</td>\n",
              "      <td>taul</td>\n",
              "      <td>1K8T</td>\n",
              "      <td>42Cy</td>\n",
              "      <td>PHNvXy8</td>\n",
              "      <td>V6XUlxabJ4VaD</td>\n",
              "      <td>119ls53</td>\n",
              "      <td>smXZ</td>\n",
              "      <td>nalJ</td>\n",
              "      <td>9_Y1</td>\n",
              "      <td>SkZj</td>\n",
              "      <td>VpdQ</td>\n",
              "      <td>IYzP</td>\n",
              "      <td>NKv3VA1BpP</td>\n",
              "      <td>kIsH</td>\n",
              "      <td>uKAI</td>\n",
              "      <td>L84s</td>\n",
              "      <td>Ie_5MZs</td>\n",
              "      <td>KdSa</td>\n",
              "      <td>Nj2NBv8</td>\n",
              "      <td>eGzu</td>\n",
              "      <td>y5FEvJ5</td>\n",
              "      <td>21c1</td>\n",
              "      <td>cJvF</td>\n",
              "      <td>FzaX</td>\n",
              "      <td>UF16siJ</td>\n",
              "      <td>zCkv</td>\n",
              "      <td>APgdzOv</td>\n",
              "      <td>LM8l689qOp</td>\n",
              "      <td>4n2X</td>\n",
              "      <td>ELof</td>\n",
              "      <td>Aoh3</td>\n",
              "      <td>6fzt</td>\n",
              "      <td>xwM2aC7IdeMC0</td>\n",
              "      <td>am7c</td>\n",
              "      <td>-1</td>\n",
              "    </tr>\n",
              "    <tr>\n",
              "      <th>34996</th>\n",
              "      <td>0</td>\n",
              "      <td>0</td>\n",
              "      <td>0</td>\n",
              "      <td>0</td>\n",
              "      <td>0</td>\n",
              "      <td>616</td>\n",
              "      <td>0</td>\n",
              "      <td>0</td>\n",
              "      <td>0</td>\n",
              "      <td>8</td>\n",
              "      <td>0</td>\n",
              "      <td>76</td>\n",
              "      <td>0</td>\n",
              "      <td>0</td>\n",
              "      <td>0</td>\n",
              "      <td>0</td>\n",
              "      <td>0</td>\n",
              "      <td>156</td>\n",
              "      <td>195</td>\n",
              "      <td>0</td>\n",
              "      <td>6</td>\n",
              "      <td>56</td>\n",
              "      <td>0</td>\n",
              "      <td>0</td>\n",
              "      <td>166.56</td>\n",
              "      <td>0</td>\n",
              "      <td>5</td>\n",
              "      <td>0</td>\n",
              "      <td>0</td>\n",
              "      <td>0</td>\n",
              "      <td>0</td>\n",
              "      <td>0</td>\n",
              "      <td>95496</td>\n",
              "      <td>0</td>\n",
              "      <td>0</td>\n",
              "      <td>0</td>\n",
              "      <td>0</td>\n",
              "      <td>2985.64</td>\n",
              "      <td>0</td>\n",
              "      <td>0</td>\n",
              "      <td>...</td>\n",
              "      <td>0</td>\n",
              "      <td>r__I</td>\n",
              "      <td>4e7gUH7IEC</td>\n",
              "      <td>RO12</td>\n",
              "      <td>SEuy</td>\n",
              "      <td>taul</td>\n",
              "      <td>1K8T</td>\n",
              "      <td>lK27</td>\n",
              "      <td>ho_bxgw</td>\n",
              "      <td>NfN9Bz6HFx</td>\n",
              "      <td>J6hvY4Fk1U</td>\n",
              "      <td>smXZ</td>\n",
              "      <td>bDi2</td>\n",
              "      <td>9_Y1</td>\n",
              "      <td>DmlN</td>\n",
              "      <td>VpdQ</td>\n",
              "      <td>sYC_</td>\n",
              "      <td>me75fM6ugJ</td>\n",
              "      <td>kIsH</td>\n",
              "      <td>uKAI</td>\n",
              "      <td>L84s</td>\n",
              "      <td>NhsEn4L</td>\n",
              "      <td>KdSa</td>\n",
              "      <td>ZpHLjE6hJ5</td>\n",
              "      <td>eGzu</td>\n",
              "      <td>beK4AFX</td>\n",
              "      <td>FJ51Im9</td>\n",
              "      <td>cJvF</td>\n",
              "      <td>FzaX</td>\n",
              "      <td>AvcOVQC</td>\n",
              "      <td>oslk</td>\n",
              "      <td>r757j0h</td>\n",
              "      <td>LM8l689qOp</td>\n",
              "      <td>4n2X</td>\n",
              "      <td>xG3x</td>\n",
              "      <td>w_Ub</td>\n",
              "      <td>RAYp</td>\n",
              "      <td>F2FyR07IdsN7I</td>\n",
              "      <td>mj86</td>\n",
              "      <td>-1</td>\n",
              "    </tr>\n",
              "    <tr>\n",
              "      <th>34997</th>\n",
              "      <td>0</td>\n",
              "      <td>0</td>\n",
              "      <td>0</td>\n",
              "      <td>0</td>\n",
              "      <td>0</td>\n",
              "      <td>616</td>\n",
              "      <td>0</td>\n",
              "      <td>0</td>\n",
              "      <td>0</td>\n",
              "      <td>8</td>\n",
              "      <td>0</td>\n",
              "      <td>96</td>\n",
              "      <td>0</td>\n",
              "      <td>0</td>\n",
              "      <td>0</td>\n",
              "      <td>0</td>\n",
              "      <td>0</td>\n",
              "      <td>240</td>\n",
              "      <td>300</td>\n",
              "      <td>0</td>\n",
              "      <td>4</td>\n",
              "      <td>88</td>\n",
              "      <td>0</td>\n",
              "      <td>0</td>\n",
              "      <td>200</td>\n",
              "      <td>0</td>\n",
              "      <td>5</td>\n",
              "      <td>0</td>\n",
              "      <td>0</td>\n",
              "      <td>0</td>\n",
              "      <td>0</td>\n",
              "      <td>0</td>\n",
              "      <td>28056</td>\n",
              "      <td>0</td>\n",
              "      <td>0</td>\n",
              "      <td>0</td>\n",
              "      <td>0</td>\n",
              "      <td>2985.64</td>\n",
              "      <td>0</td>\n",
              "      <td>0</td>\n",
              "      <td>...</td>\n",
              "      <td>0</td>\n",
              "      <td>r__I</td>\n",
              "      <td>LDPgUHXZeb</td>\n",
              "      <td>RO12</td>\n",
              "      <td>SEuy</td>\n",
              "      <td>taul</td>\n",
              "      <td>1K8T</td>\n",
              "      <td>TyGl</td>\n",
              "      <td>cSPqFuv</td>\n",
              "      <td>MXlhT5l</td>\n",
              "      <td>pP5FCWS</td>\n",
              "      <td>smXZ</td>\n",
              "      <td>sool</td>\n",
              "      <td>9_Y1</td>\n",
              "      <td>STGZ</td>\n",
              "      <td>sJzTlal</td>\n",
              "      <td>IYzP</td>\n",
              "      <td>me75fM6ugJ</td>\n",
              "      <td>kIsH</td>\n",
              "      <td>uKAI</td>\n",
              "      <td>L84s</td>\n",
              "      <td>NhsEn4L</td>\n",
              "      <td>KdSa</td>\n",
              "      <td>5ZYbB3h</td>\n",
              "      <td>eGzu</td>\n",
              "      <td>mAja5EA</td>\n",
              "      <td>_Xcv</td>\n",
              "      <td>UYBR</td>\n",
              "      <td>FzaX</td>\n",
              "      <td>joS6pd1</td>\n",
              "      <td>oslk</td>\n",
              "      <td>AYu2Oqu</td>\n",
              "      <td>LM8l689qOp</td>\n",
              "      <td>4n2X</td>\n",
              "      <td>kG3k</td>\n",
              "      <td>453m</td>\n",
              "      <td>RAYp</td>\n",
              "      <td>F2FyR07IdsN7I</td>\n",
              "      <td>mj86</td>\n",
              "      <td>-1</td>\n",
              "    </tr>\n",
              "    <tr>\n",
              "      <th>34998</th>\n",
              "      <td>0</td>\n",
              "      <td>0</td>\n",
              "      <td>0</td>\n",
              "      <td>0</td>\n",
              "      <td>0</td>\n",
              "      <td>0</td>\n",
              "      <td>7</td>\n",
              "      <td>0</td>\n",
              "      <td>0</td>\n",
              "      <td>8</td>\n",
              "      <td>0</td>\n",
              "      <td>0</td>\n",
              "      <td>0</td>\n",
              "      <td>0</td>\n",
              "      <td>0</td>\n",
              "      <td>0</td>\n",
              "      <td>0</td>\n",
              "      <td>0</td>\n",
              "      <td>0</td>\n",
              "      <td>0</td>\n",
              "      <td>0</td>\n",
              "      <td>0</td>\n",
              "      <td>0</td>\n",
              "      <td>0</td>\n",
              "      <td>166.56</td>\n",
              "      <td>0</td>\n",
              "      <td>5</td>\n",
              "      <td>0</td>\n",
              "      <td>0</td>\n",
              "      <td>0</td>\n",
              "      <td>0</td>\n",
              "      <td>0</td>\n",
              "      <td>0</td>\n",
              "      <td>0</td>\n",
              "      <td>0</td>\n",
              "      <td>0</td>\n",
              "      <td>0</td>\n",
              "      <td>2985.64</td>\n",
              "      <td>0</td>\n",
              "      <td>0</td>\n",
              "      <td>...</td>\n",
              "      <td>0</td>\n",
              "      <td>r__I</td>\n",
              "      <td>xearjIX0Db</td>\n",
              "      <td>RO12</td>\n",
              "      <td>SEuy</td>\n",
              "      <td>taul</td>\n",
              "      <td>1K8T</td>\n",
              "      <td>IvdZ</td>\n",
              "      <td>20dJZJ1</td>\n",
              "      <td>hCdK</td>\n",
              "      <td>yP09M03</td>\n",
              "      <td>smXZ</td>\n",
              "      <td>9XhW</td>\n",
              "      <td>9_Y1</td>\n",
              "      <td>WIr3</td>\n",
              "      <td>VpdQ</td>\n",
              "      <td>IYzP</td>\n",
              "      <td>DHn_WUyBhW_whjA88g9bvA64_</td>\n",
              "      <td>kIsH</td>\n",
              "      <td>uKAI</td>\n",
              "      <td>L84s</td>\n",
              "      <td>CrNX</td>\n",
              "      <td>KdSa</td>\n",
              "      <td>5zARyjR</td>\n",
              "      <td>eGzu</td>\n",
              "      <td>NGZ_12K</td>\n",
              "      <td>NVNS</td>\n",
              "      <td>cJvF</td>\n",
              "      <td>FzaX</td>\n",
              "      <td>yMCKckb</td>\n",
              "      <td>d0EEeJi</td>\n",
              "      <td>cwUCgpA</td>\n",
              "      <td>LM8l689qOp</td>\n",
              "      <td>4n2X</td>\n",
              "      <td>ELof</td>\n",
              "      <td>5Acm</td>\n",
              "      <td>02N6s8f</td>\n",
              "      <td>F2FyR07IdsN7I</td>\n",
              "      <td>am7c</td>\n",
              "      <td>-1</td>\n",
              "    </tr>\n",
              "    <tr>\n",
              "      <th>34999</th>\n",
              "      <td>0</td>\n",
              "      <td>0</td>\n",
              "      <td>0</td>\n",
              "      <td>0</td>\n",
              "      <td>0</td>\n",
              "      <td>0</td>\n",
              "      <td>7</td>\n",
              "      <td>0</td>\n",
              "      <td>0</td>\n",
              "      <td>8</td>\n",
              "      <td>0</td>\n",
              "      <td>0</td>\n",
              "      <td>0</td>\n",
              "      <td>0</td>\n",
              "      <td>5</td>\n",
              "      <td>0</td>\n",
              "      <td>0</td>\n",
              "      <td>0</td>\n",
              "      <td>0</td>\n",
              "      <td>0</td>\n",
              "      <td>0</td>\n",
              "      <td>0</td>\n",
              "      <td>0</td>\n",
              "      <td>0</td>\n",
              "      <td>166.56</td>\n",
              "      <td>0</td>\n",
              "      <td>5</td>\n",
              "      <td>0</td>\n",
              "      <td>0</td>\n",
              "      <td>0</td>\n",
              "      <td>0</td>\n",
              "      <td>1.58427e+06</td>\n",
              "      <td>0</td>\n",
              "      <td>0</td>\n",
              "      <td>0</td>\n",
              "      <td>0</td>\n",
              "      <td>0</td>\n",
              "      <td>2985.64</td>\n",
              "      <td>0</td>\n",
              "      <td>0</td>\n",
              "      <td>...</td>\n",
              "      <td>0</td>\n",
              "      <td>r__I</td>\n",
              "      <td>75lTmBtFkL</td>\n",
              "      <td>RO12</td>\n",
              "      <td>SEuy</td>\n",
              "      <td>taul</td>\n",
              "      <td>1K8T</td>\n",
              "      <td>TyGl</td>\n",
              "      <td>au1CPws</td>\n",
              "      <td>7aPrx0x</td>\n",
              "      <td>yP09M03</td>\n",
              "      <td>smXZ</td>\n",
              "      <td>wWJ2</td>\n",
              "      <td>9_Y1</td>\n",
              "      <td>c2JP</td>\n",
              "      <td>sJzTlal</td>\n",
              "      <td>IYzP</td>\n",
              "      <td>me75fM6ugJ</td>\n",
              "      <td>kIsH</td>\n",
              "      <td>uKAI</td>\n",
              "      <td>Mtgm</td>\n",
              "      <td>NhsEn4L</td>\n",
              "      <td>KdSa</td>\n",
              "      <td>5zARyjR</td>\n",
              "      <td>eGzu</td>\n",
              "      <td>TDcwKda</td>\n",
              "      <td>TZGy</td>\n",
              "      <td>cJvF</td>\n",
              "      <td>FzaX</td>\n",
              "      <td>_PxY_02</td>\n",
              "      <td>oslk</td>\n",
              "      <td>r7xOEra</td>\n",
              "      <td>LM8l689qOp</td>\n",
              "      <td>4n2X</td>\n",
              "      <td>ELof</td>\n",
              "      <td>rgKb</td>\n",
              "      <td>RAYp</td>\n",
              "      <td>F2FyR07IdsN7I</td>\n",
              "      <td>am7c</td>\n",
              "      <td>-1</td>\n",
              "    </tr>\n",
              "  </tbody>\n",
              "</table>\n",
              "<p>35000 rows × 213 columns</p>\n",
              "</div>"
            ],
            "text/plain": [
              "      Var1 Var2 Var3 Var4 Var5  ... Var226   Var227         Var228 Var229 target\n",
              "0        0    0    0    0    0  ...   FSa2     RAYp  F2FyR07IdsN7I   am7c     -1\n",
              "1        0    0    0    0    0  ...   5Acm     RAYp  F2FyR07IdsN7I   am7c     -1\n",
              "2        0    0    0    0    0  ...   WqMG     RAYp  F2FyR07IdsN7I   am7c     -1\n",
              "3        0    0    0    0    0  ...   me1d     6fzt        Zy3gnGM   am7c     -1\n",
              "4        0    0    0    0    0  ...   7P5s     RAYp        55YFVY9   mj86      1\n",
              "...    ...  ...  ...  ...  ...  ...    ...      ...            ...    ...    ...\n",
              "34995    0    0    0    0    0  ...   Aoh3     6fzt  xwM2aC7IdeMC0   am7c     -1\n",
              "34996    0    0    0    0    0  ...   w_Ub     RAYp  F2FyR07IdsN7I   mj86     -1\n",
              "34997    0    0    0    0    0  ...   453m     RAYp  F2FyR07IdsN7I   mj86     -1\n",
              "34998    0    0    0    0    0  ...   5Acm  02N6s8f  F2FyR07IdsN7I   am7c     -1\n",
              "34999    0    0    0    0    0  ...   rgKb     RAYp  F2FyR07IdsN7I   am7c     -1\n",
              "\n",
              "[35000 rows x 213 columns]"
            ]
          },
          "metadata": {},
          "execution_count": 82
        }
      ]
    },
    {
      "cell_type": "code",
      "metadata": {
        "id": "Y9rm1NcPgS99"
      },
      "source": [
        "oe = OrdinalEncoder()"
      ],
      "execution_count": 83,
      "outputs": []
    },
    {
      "cell_type": "code",
      "metadata": {
        "id": "58Kz-c_cggu4"
      },
      "source": [
        "df_train = oe.fit_transform(df_train)\n",
        "df_train = pd.DataFrame(df_train, columns=cols)"
      ],
      "execution_count": 85,
      "outputs": []
    },
    {
      "cell_type": "markdown",
      "metadata": {
        "id": "6APhGtQqoEPI"
      },
      "source": [
        "# Модель"
      ]
    },
    {
      "cell_type": "code",
      "metadata": {
        "collapsed": true,
        "id": "d_z-7neK-QbN"
      },
      "source": [
        "from sklearn.model_selection import cross_val_score, StratifiedShuffleSplit\n",
        "from sklearn.linear_model import RidgeClassifier, LogisticRegression, SGDClassifier\n",
        "from sklearn.ensemble import RandomForestClassifier, GradientBoostingClassifier\n",
        "from sklearn.metrics import classification_report"
      ],
      "execution_count": 157,
      "outputs": []
    },
    {
      "cell_type": "code",
      "metadata": {
        "id": "afhCAbT2MuGz"
      },
      "source": [
        "X_train = df_train.drop('target', axis=1)\n",
        "y_train = df_train['target']\n",
        "cv = StratifiedShuffleSplit(n_splits=7)  # random_state=2179"
      ],
      "execution_count": 126,
      "outputs": []
    },
    {
      "cell_type": "code",
      "metadata": {
        "id": "Z_NHcQ0S_aP5"
      },
      "source": [
        "X_tr, X_val, y_tr, y_val = train_test_split(X_train, y_train)"
      ],
      "execution_count": 171,
      "outputs": []
    },
    {
      "cell_type": "markdown",
      "metadata": {
        "id": "hnD3QfsFA_2j"
      },
      "source": [
        "## LogisticRegression"
      ]
    },
    {
      "cell_type": "code",
      "metadata": {
        "colab": {
          "base_uri": "https://localhost:8080/"
        },
        "id": "HVd-TOPxMGGb",
        "outputId": "07c253a6-88ea-4b27-a2b8-64e7ca8ca9e3"
      },
      "source": [
        "cross_val_score(estimator=LogisticRegression(random_state=2179), X=X_train, y=y_train, cv=cv, n_jobs=-1, scoring='roc_auc')"
      ],
      "execution_count": 131,
      "outputs": [
        {
          "output_type": "execute_result",
          "data": {
            "text/plain": [
              "array([0.56417654, 0.56613306, 0.54295884, 0.56910451, 0.56169008,\n",
              "       0.57750311, 0.56920979])"
            ]
          },
          "metadata": {},
          "execution_count": 131
        }
      ]
    },
    {
      "cell_type": "code",
      "metadata": {
        "colab": {
          "base_uri": "https://localhost:8080/"
        },
        "id": "DZSoo076BVmD",
        "outputId": "79ebd65d-1bd8-4437-b39c-345ca80396e8"
      },
      "source": [
        "cross_val_score(estimator=LogisticRegression(random_state=2179), X=X_train, y=y_train, cv=cv, n_jobs=-1, scoring='f1')"
      ],
      "execution_count": 186,
      "outputs": [
        {
          "output_type": "execute_result",
          "data": {
            "text/plain": [
              "array([0., 0., 0., 0., 0., 0., 0.])"
            ]
          },
          "metadata": {},
          "execution_count": 186
        }
      ]
    },
    {
      "cell_type": "code",
      "metadata": {
        "colab": {
          "base_uri": "https://localhost:8080/"
        },
        "id": "ELBrqGdfBSrs",
        "outputId": "7c71bf9c-4e9a-4d26-de66-7910cc0cf474"
      },
      "source": [
        "cross_val_score(estimator=LogisticRegression(random_state=2179), X=X_train, y=y_train, cv=cv, n_jobs=-1, scoring='precision')"
      ],
      "execution_count": 185,
      "outputs": [
        {
          "output_type": "execute_result",
          "data": {
            "text/plain": [
              "array([0., 0., 0., 0., 0., 0., 0.])"
            ]
          },
          "metadata": {},
          "execution_count": 185
        }
      ]
    },
    {
      "cell_type": "code",
      "metadata": {
        "colab": {
          "base_uri": "https://localhost:8080/"
        },
        "id": "GFFKsV_SBZAb",
        "outputId": "6b8f5255-3e6b-4cf2-9a77-89ca05e1e1d6"
      },
      "source": [
        "cross_val_score(estimator=LogisticRegression(random_state=2179), X=X_train, y=y_train, cv=cv, n_jobs=-1, scoring='recall')"
      ],
      "execution_count": 187,
      "outputs": [
        {
          "output_type": "execute_result",
          "data": {
            "text/plain": [
              "array([0., 0., 0., 0., 0., 0., 0.])"
            ]
          },
          "metadata": {},
          "execution_count": 187
        }
      ]
    },
    {
      "cell_type": "code",
      "metadata": {
        "colab": {
          "base_uri": "https://localhost:8080/"
        },
        "id": "Qw0k5A4xALeL",
        "outputId": "ce889bec-6c5b-4594-86db-6364fdee060a"
      },
      "source": [
        "lr = LogisticRegression(random_state=2179)\n",
        "lr.fit(X_tr, y_tr)\n",
        "print(classification_report(y_val, lr.predict(X_val)))"
      ],
      "execution_count": 181,
      "outputs": [
        {
          "output_type": "stream",
          "name": "stdout",
          "text": [
            "              precision    recall  f1-score   support\n",
            "\n",
            "         0.0       0.92      1.00      0.96      8069\n",
            "         1.0       0.00      0.00      0.00       681\n",
            "\n",
            "    accuracy                           0.92      8750\n",
            "   macro avg       0.46      0.50      0.48      8750\n",
            "weighted avg       0.85      0.92      0.88      8750\n",
            "\n"
          ]
        }
      ]
    },
    {
      "cell_type": "markdown",
      "metadata": {
        "id": "Pk7UmVe2Bbt5"
      },
      "source": [
        "## RidgeClassifier"
      ]
    },
    {
      "cell_type": "code",
      "metadata": {
        "colab": {
          "base_uri": "https://localhost:8080/"
        },
        "id": "CZQy7SCpQDdA",
        "outputId": "464c72be-711b-450b-f665-4bd7332b2594"
      },
      "source": [
        "cross_val_score(estimator=RidgeClassifier(random_state=2179), X=X_train, y=y_train, cv=cv, n_jobs=-1, scoring='roc_auc')"
      ],
      "execution_count": 133,
      "outputs": [
        {
          "output_type": "execute_result",
          "data": {
            "text/plain": [
              "array([0.69932539, 0.67954255, 0.64283239, 0.65054964, 0.68029251,\n",
              "       0.68869466, 0.63930734])"
            ]
          },
          "metadata": {},
          "execution_count": 133
        }
      ]
    },
    {
      "cell_type": "code",
      "metadata": {
        "colab": {
          "base_uri": "https://localhost:8080/"
        },
        "id": "JlmebtWDBfK9",
        "outputId": "2c7c2406-3250-4fe4-ac01-6a24b4ac3cec"
      },
      "source": [
        "cross_val_score(estimator=RidgeClassifier(random_state=2179), X=X_train, y=y_train, cv=cv, n_jobs=-1, scoring='f1')"
      ],
      "execution_count": 188,
      "outputs": [
        {
          "output_type": "execute_result",
          "data": {
            "text/plain": [
              "array([0., 0., 0., 0., 0., 0., 0.])"
            ]
          },
          "metadata": {},
          "execution_count": 188
        }
      ]
    },
    {
      "cell_type": "code",
      "metadata": {
        "colab": {
          "base_uri": "https://localhost:8080/"
        },
        "id": "4ZXSWzDfBgfY",
        "outputId": "ca3d8c8a-48e1-47dd-a34e-f9ce9ec76615"
      },
      "source": [
        "cross_val_score(estimator=RidgeClassifier(random_state=2179), X=X_train, y=y_train, cv=cv, n_jobs=-1, scoring='precision')"
      ],
      "execution_count": 189,
      "outputs": [
        {
          "output_type": "execute_result",
          "data": {
            "text/plain": [
              "array([0., 0., 0., 0., 0., 0., 0.])"
            ]
          },
          "metadata": {},
          "execution_count": 189
        }
      ]
    },
    {
      "cell_type": "code",
      "metadata": {
        "colab": {
          "base_uri": "https://localhost:8080/"
        },
        "id": "KZxyvMh0BdwZ",
        "outputId": "c2f28d4a-f298-40c8-c153-275e3fee041b"
      },
      "source": [
        "cross_val_score(estimator=RidgeClassifier(random_state=2179), X=X_train, y=y_train, cv=cv, n_jobs=-1, scoring='recall')"
      ],
      "execution_count": 190,
      "outputs": [
        {
          "output_type": "execute_result",
          "data": {
            "text/plain": [
              "array([0., 0., 0., 0., 0., 0., 0.])"
            ]
          },
          "metadata": {},
          "execution_count": 190
        }
      ]
    },
    {
      "cell_type": "code",
      "metadata": {
        "colab": {
          "base_uri": "https://localhost:8080/"
        },
        "id": "ozIv6qzb6IYy",
        "outputId": "ffb34bb1-28f3-4da0-baf2-14e4b0db26de"
      },
      "source": [
        "rc = RidgeClassifier(random_state=2179)\n",
        "rc.fit(X_tr, y_tr)\n",
        "print(classification_report(y_val, rc.predict(X_val)))"
      ],
      "execution_count": 182,
      "outputs": [
        {
          "output_type": "stream",
          "name": "stdout",
          "text": [
            "              precision    recall  f1-score   support\n",
            "\n",
            "         0.0       0.92      1.00      0.96      8069\n",
            "         1.0       0.00      0.00      0.00       681\n",
            "\n",
            "    accuracy                           0.92      8750\n",
            "   macro avg       0.46      0.50      0.48      8750\n",
            "weighted avg       0.85      0.92      0.88      8750\n",
            "\n"
          ]
        }
      ]
    },
    {
      "cell_type": "markdown",
      "metadata": {
        "id": "pR37STY5BkXs"
      },
      "source": [
        "## SGDClassifier"
      ]
    },
    {
      "cell_type": "code",
      "metadata": {
        "colab": {
          "base_uri": "https://localhost:8080/"
        },
        "id": "a4RPfYC2v79s",
        "outputId": "6c700fbe-5083-4972-85c2-84d8c4229270"
      },
      "source": [
        "cross_val_score(estimator=SGDClassifier(random_state=2179), X=X_train, y=y_train, cv=cv, n_jobs=-1, scoring='roc_auc')"
      ],
      "execution_count": 135,
      "outputs": [
        {
          "output_type": "execute_result",
          "data": {
            "text/plain": [
              "array([0.47591317, 0.49309836, 0.53518244, 0.48979807, 0.48818341,\n",
              "       0.44814456, 0.56209345])"
            ]
          },
          "metadata": {},
          "execution_count": 135
        }
      ]
    },
    {
      "cell_type": "code",
      "metadata": {
        "colab": {
          "base_uri": "https://localhost:8080/"
        },
        "id": "y7MWQsi-Ccnq",
        "outputId": "6636d914-153b-4a04-99fa-d3ed05730621"
      },
      "source": [
        "cross_val_score(estimator=SGDClassifier(random_state=2179), X=X_train, y=y_train, cv=cv, n_jobs=-1, scoring='f1')"
      ],
      "execution_count": 191,
      "outputs": [
        {
          "output_type": "execute_result",
          "data": {
            "text/plain": [
              "array([0.0798005 , 0.        , 0.        , 0.09958506, 0.        ,\n",
              "       0.02649007, 0.        ])"
            ]
          },
          "metadata": {},
          "execution_count": 191
        }
      ]
    },
    {
      "cell_type": "code",
      "metadata": {
        "colab": {
          "base_uri": "https://localhost:8080/"
        },
        "id": "VqS-HR4iAogW",
        "outputId": "48b2c244-7c34-4d19-def2-d9a99142050b"
      },
      "source": [
        "cross_val_score(estimator=SGDClassifier(random_state=2179), X=X_train, y=y_train, cv=cv, n_jobs=-1, scoring='precision')"
      ],
      "execution_count": 184,
      "outputs": [
        {
          "output_type": "execute_result",
          "data": {
            "text/plain": [
              "array([0.        , 0.10144928, 0.        , 0.        , 0.06802721,\n",
              "       0.08219178, 0.        ])"
            ]
          },
          "metadata": {},
          "execution_count": 184
        }
      ]
    },
    {
      "cell_type": "code",
      "metadata": {
        "colab": {
          "base_uri": "https://localhost:8080/"
        },
        "id": "VSZ5iYR_CdA5",
        "outputId": "031a01ae-209a-4299-ce7a-ecdbf9ed5a23"
      },
      "source": [
        "cross_val_score(estimator=SGDClassifier(random_state=2179), X=X_train, y=y_train, cv=cv, n_jobs=-1, scoring='recall')"
      ],
      "execution_count": 192,
      "outputs": [
        {
          "output_type": "execute_result",
          "data": {
            "text/plain": [
              "array([0.04214559, 0.03448276, 0.        , 0.02681992, 0.87356322,\n",
              "       0.        , 0.        ])"
            ]
          },
          "metadata": {},
          "execution_count": 192
        }
      ]
    },
    {
      "cell_type": "code",
      "metadata": {
        "colab": {
          "base_uri": "https://localhost:8080/"
        },
        "id": "Wk2a9aWUAeGK",
        "outputId": "a1b66bff-afe2-4996-8b92-6cac98b9debb"
      },
      "source": [
        "sgdc = SGDClassifier(random_state=2179)\n",
        "sgdc.fit(X_tr, y_tr)\n",
        "print(classification_report(y_val, sgdc.predict(X_val)))"
      ],
      "execution_count": 183,
      "outputs": [
        {
          "output_type": "stream",
          "name": "stdout",
          "text": [
            "              precision    recall  f1-score   support\n",
            "\n",
            "         0.0       0.95      0.13      0.23      8069\n",
            "         1.0       0.08      0.92      0.15       681\n",
            "\n",
            "    accuracy                           0.19      8750\n",
            "   macro avg       0.52      0.53      0.19      8750\n",
            "weighted avg       0.89      0.19      0.23      8750\n",
            "\n"
          ]
        }
      ]
    },
    {
      "cell_type": "markdown",
      "metadata": {
        "id": "TsRjv64BEIOA"
      },
      "source": [
        "### SGDClassifier log loss"
      ]
    },
    {
      "cell_type": "code",
      "metadata": {
        "colab": {
          "base_uri": "https://localhost:8080/"
        },
        "id": "9NCh5terwJ2r",
        "outputId": "45d1c856-0b6e-4034-e121-795b184df0d8"
      },
      "source": [
        "cross_val_score(estimator=SGDClassifier(random_state=2179, loss='log'), X=X_train, y=y_train, cv=cv, n_jobs=-1, scoring='roc_auc')"
      ],
      "execution_count": 136,
      "outputs": [
        {
          "output_type": "execute_result",
          "data": {
            "text/plain": [
              "array([0.48969161, 0.50299333, 0.45294596, 0.50918937, 0.47953995,\n",
              "       0.50566905, 0.50738544])"
            ]
          },
          "metadata": {},
          "execution_count": 136
        }
      ]
    },
    {
      "cell_type": "code",
      "metadata": {
        "colab": {
          "base_uri": "https://localhost:8080/"
        },
        "id": "CjpMomntENB-",
        "outputId": "85e6f7de-2ac9-4d41-a10f-cdf522e4bbaa"
      },
      "source": [
        "cross_val_score(estimator=SGDClassifier(random_state=2179, loss='log'), X=X_train, y=y_train, cv=cv, n_jobs=-1, scoring='f1')"
      ],
      "execution_count": 193,
      "outputs": [
        {
          "output_type": "execute_result",
          "data": {
            "text/plain": [
              "array([0.        , 0.        , 0.03519062, 0.11912226, 0.        ,\n",
              "       0.13422819, 0.0075188 ])"
            ]
          },
          "metadata": {},
          "execution_count": 193
        }
      ]
    },
    {
      "cell_type": "code",
      "metadata": {
        "colab": {
          "base_uri": "https://localhost:8080/"
        },
        "id": "QGoAwrPyEMyx",
        "outputId": "04b3d1d3-096c-4866-ea05-a79d0040b5a5"
      },
      "source": [
        "cross_val_score(estimator=SGDClassifier(random_state=2179, loss='log'), X=X_train, y=y_train, cv=cv, n_jobs=-1, scoring='precision')"
      ],
      "execution_count": 194,
      "outputs": [
        {
          "output_type": "execute_result",
          "data": {
            "text/plain": [
              "array([0.05793451, 0.13513514, 0.        , 0.        , 0.15584416,\n",
              "       0.        , 0.        ])"
            ]
          },
          "metadata": {},
          "execution_count": 194
        }
      ]
    },
    {
      "cell_type": "code",
      "metadata": {
        "colab": {
          "base_uri": "https://localhost:8080/"
        },
        "id": "_1ldvGz_EMcE",
        "outputId": "f352dab1-b922-4ad6-d3b4-c1350e6480ad"
      },
      "source": [
        "cross_val_score(estimator=SGDClassifier(random_state=2179, loss='log'), X=X_train, y=y_train, cv=cv, n_jobs=-1, scoring='recall')"
      ],
      "execution_count": 195,
      "outputs": [
        {
          "output_type": "execute_result",
          "data": {
            "text/plain": [
              "array([0.        , 0.        , 0.31800766, 0.0651341 , 0.56321839,\n",
              "       0.        , 0.        ])"
            ]
          },
          "metadata": {},
          "execution_count": 195
        }
      ]
    },
    {
      "cell_type": "code",
      "metadata": {
        "colab": {
          "base_uri": "https://localhost:8080/"
        },
        "id": "YjRLb8e_ExTV",
        "outputId": "d34bb099-2da3-44ea-9fb6-ad330c1c0e93"
      },
      "source": [
        "sgdc = SGDClassifier(random_state=2179, loss='log')\n",
        "sgdc.fit(X_tr, y_tr)\n",
        "print(classification_report(y_val, sgdc.predict(X_val)))"
      ],
      "execution_count": 196,
      "outputs": [
        {
          "output_type": "stream",
          "name": "stdout",
          "text": [
            "              precision    recall  f1-score   support\n",
            "\n",
            "         0.0       0.93      0.85      0.89      8069\n",
            "         1.0       0.11      0.21      0.14       681\n",
            "\n",
            "    accuracy                           0.80      8750\n",
            "   macro avg       0.52      0.53      0.52      8750\n",
            "weighted avg       0.86      0.80      0.83      8750\n",
            "\n"
          ]
        }
      ]
    },
    {
      "cell_type": "markdown",
      "metadata": {
        "id": "-xN2rGWRERcC"
      },
      "source": [
        "## RandomForestClassifier"
      ]
    },
    {
      "cell_type": "code",
      "metadata": {
        "id": "jzLrYBAvx-OO"
      },
      "source": [
        "rfc = RandomForestClassifier(oob_score=True)"
      ],
      "execution_count": 139,
      "outputs": []
    },
    {
      "cell_type": "code",
      "metadata": {
        "colab": {
          "base_uri": "https://localhost:8080/"
        },
        "id": "ZWXkTqFXwa0b",
        "outputId": "15bf0f8d-ffbd-4848-a2ca-7adcaa811dc4"
      },
      "source": [
        "rfc.fit(X_train, y_train)"
      ],
      "execution_count": 140,
      "outputs": [
        {
          "output_type": "execute_result",
          "data": {
            "text/plain": [
              "RandomForestClassifier(bootstrap=True, ccp_alpha=0.0, class_weight=None,\n",
              "                       criterion='gini', max_depth=None, max_features='auto',\n",
              "                       max_leaf_nodes=None, max_samples=None,\n",
              "                       min_impurity_decrease=0.0, min_impurity_split=None,\n",
              "                       min_samples_leaf=1, min_samples_split=2,\n",
              "                       min_weight_fraction_leaf=0.0, n_estimators=100,\n",
              "                       n_jobs=None, oob_score=True, random_state=None,\n",
              "                       verbose=0, warm_start=False)"
            ]
          },
          "metadata": {},
          "execution_count": 140
        }
      ]
    },
    {
      "cell_type": "code",
      "metadata": {
        "colab": {
          "base_uri": "https://localhost:8080/"
        },
        "id": "Ux7lwdfoyVT8",
        "outputId": "b961d452-faee-4333-cf0d-3c5c72242ebf"
      },
      "source": [
        "rfc.oob_score_"
      ],
      "execution_count": 142,
      "outputs": [
        {
          "output_type": "execute_result",
          "data": {
            "text/plain": [
              "0.9254"
            ]
          },
          "metadata": {},
          "execution_count": 142
        }
      ]
    },
    {
      "cell_type": "code",
      "metadata": {
        "colab": {
          "base_uri": "https://localhost:8080/"
        },
        "id": "8-poMGMCzCVV",
        "outputId": "9978dea9-2214-4197-f586-ce3647079157"
      },
      "source": [
        "%%time\n",
        "cross_val_score(estimator=RandomForestClassifier(random_state=2179), X=X_train, y=y_train, cv=cv, n_jobs=-1, scoring='roc_auc')"
      ],
      "execution_count": 143,
      "outputs": [
        {
          "output_type": "execute_result",
          "data": {
            "text/plain": [
              "array([0.62168625, 0.67826442, 0.64490365, 0.67008052, 0.64507576,\n",
              "       0.66127382, 0.65407527])"
            ]
          },
          "metadata": {},
          "execution_count": 143
        }
      ]
    },
    {
      "cell_type": "code",
      "metadata": {
        "colab": {
          "base_uri": "https://localhost:8080/"
        },
        "id": "-rOKit6qE-E-",
        "outputId": "661147d3-2903-425b-e3b3-9d2fa8d61c61"
      },
      "source": [
        "cross_val_score(estimator=RandomForestClassifier(random_state=2179), X=X_train, y=y_train, cv=cv, n_jobs=-1, scoring='f1')"
      ],
      "execution_count": 198,
      "outputs": [
        {
          "output_type": "execute_result",
          "data": {
            "text/plain": [
              "array([0., 0., 0., 0., 0., 0., 0.])"
            ]
          },
          "metadata": {},
          "execution_count": 198
        }
      ]
    },
    {
      "cell_type": "code",
      "metadata": {
        "colab": {
          "base_uri": "https://localhost:8080/"
        },
        "id": "2WmlfOAfE960",
        "outputId": "ec1da9a7-c378-4306-d290-6cd9e93d1b8e"
      },
      "source": [
        "cross_val_score(estimator=RandomForestClassifier(random_state=2179), X=X_train, y=y_train, cv=cv, n_jobs=-1, scoring='precision')"
      ],
      "execution_count": 199,
      "outputs": [
        {
          "output_type": "execute_result",
          "data": {
            "text/plain": [
              "array([0., 0., 0., 0., 0., 0., 0.])"
            ]
          },
          "metadata": {},
          "execution_count": 199
        }
      ]
    },
    {
      "cell_type": "code",
      "metadata": {
        "colab": {
          "base_uri": "https://localhost:8080/"
        },
        "id": "DhWCtrGZE9rd",
        "outputId": "1f5329a8-5082-4581-e09c-6e7775db2af8"
      },
      "source": [
        "cross_val_score(estimator=RandomForestClassifier(random_state=2179), X=X_train, y=y_train, cv=cv, n_jobs=-1, scoring='recall')"
      ],
      "execution_count": 200,
      "outputs": [
        {
          "output_type": "execute_result",
          "data": {
            "text/plain": [
              "array([0., 0., 0., 0., 0., 0., 0.])"
            ]
          },
          "metadata": {},
          "execution_count": 200
        }
      ]
    },
    {
      "cell_type": "code",
      "metadata": {
        "colab": {
          "base_uri": "https://localhost:8080/"
        },
        "id": "JjPxs7lXZdzb",
        "outputId": "9a5cf4f9-2b6f-44a8-edc6-c714245c45d1"
      },
      "source": [
        "rfc = RandomForestClassifier(random_state=2179)\n",
        "rfc.fit(X_tr, y_tr)\n",
        "print(classification_report(y_val, rfc.predict(X_val)))"
      ],
      "execution_count": 201,
      "outputs": [
        {
          "output_type": "stream",
          "name": "stdout",
          "text": [
            "              precision    recall  f1-score   support\n",
            "\n",
            "         0.0       0.92      1.00      0.96      8069\n",
            "         1.0       0.00      0.00      0.00       681\n",
            "\n",
            "    accuracy                           0.92      8750\n",
            "   macro avg       0.46      0.50      0.48      8750\n",
            "weighted avg       0.85      0.92      0.88      8750\n",
            "\n"
          ]
        }
      ]
    },
    {
      "cell_type": "markdown",
      "metadata": {
        "id": "HY0lfKTYZWGf"
      },
      "source": [
        "## GradientBoostingClassifier"
      ]
    },
    {
      "cell_type": "code",
      "metadata": {
        "colab": {
          "base_uri": "https://localhost:8080/"
        },
        "id": "nvjssOTGzG7d",
        "outputId": "ba44bf85-d64b-4694-faba-f056416fae95"
      },
      "source": [
        "%%time\n",
        "cross_val_score(estimator=GradientBoostingClassifier(random_state=2179), X=X_train, y=y_train, cv=cv, n_jobs=-1, scoring='roc_auc')"
      ],
      "execution_count": 145,
      "outputs": [
        {
          "output_type": "stream",
          "name": "stdout",
          "text": [
            "CPU times: user 1.8 s, sys: 213 ms, total: 2.01 s\n",
            "Wall time: 5min 4s\n"
          ]
        },
        {
          "output_type": "execute_result",
          "data": {
            "text/plain": [
              "array([0.72750033, 0.73476867, 0.73284527, 0.70830834, 0.7215527 ,\n",
              "       0.73489524, 0.72966326])"
            ]
          },
          "metadata": {},
          "execution_count": 145
        }
      ]
    },
    {
      "cell_type": "code",
      "metadata": {
        "colab": {
          "base_uri": "https://localhost:8080/"
        },
        "id": "Kwvq7GkFZoCu",
        "outputId": "b409e4bd-1665-45dc-bf75-d12c3afb56bf"
      },
      "source": [
        "%%time\n",
        "cross_val_score(estimator=GradientBoostingClassifier(random_state=2179), X=X_train, y=y_train, cv=cv, n_jobs=-1, scoring='f1')"
      ],
      "execution_count": 203,
      "outputs": [
        {
          "output_type": "stream",
          "name": "stdout",
          "text": [
            "CPU times: user 965 ms, sys: 116 ms, total: 1.08 s\n",
            "Wall time: 5min 6s\n"
          ]
        },
        {
          "output_type": "execute_result",
          "data": {
            "text/plain": [
              "array([0.01515152, 0.00763359, 0.        , 0.00754717, 0.01509434,\n",
              "       0.        , 0.00749064])"
            ]
          },
          "metadata": {},
          "execution_count": 203
        }
      ]
    },
    {
      "cell_type": "code",
      "metadata": {
        "colab": {
          "base_uri": "https://localhost:8080/"
        },
        "id": "y8f4SEiFZny0",
        "outputId": "78d73b3f-00f6-40d7-b343-03adfe974e1a"
      },
      "source": [
        "%%time\n",
        "cross_val_score(estimator=GradientBoostingClassifier(random_state=2179), X=X_train, y=y_train, cv=cv, n_jobs=-1, scoring='precision')"
      ],
      "execution_count": 204,
      "outputs": [
        {
          "output_type": "stream",
          "name": "stdout",
          "text": [
            "CPU times: user 970 ms, sys: 128 ms, total: 1.1 s\n",
            "Wall time: 5min 8s\n"
          ]
        },
        {
          "output_type": "execute_result",
          "data": {
            "text/plain": [
              "array([0.        , 0.33333333, 0.2       , 0.6       , 0.33333333,\n",
              "       0.66666667, 0.25      ])"
            ]
          },
          "metadata": {},
          "execution_count": 204
        }
      ]
    },
    {
      "cell_type": "code",
      "metadata": {
        "colab": {
          "base_uri": "https://localhost:8080/"
        },
        "id": "D60rrFcg0A46",
        "outputId": "6cb7b79e-7771-4447-d517-5ec3c98447f7"
      },
      "source": [
        "%%time\n",
        "cross_val_score(estimator=GradientBoostingClassifier(random_state=2179), X=X_train, y=y_train, cv=cv, n_jobs=-1, scoring='recall')"
      ],
      "execution_count": 205,
      "outputs": [
        {
          "output_type": "stream",
          "name": "stdout",
          "text": [
            "CPU times: user 950 ms, sys: 125 ms, total: 1.08 s\n",
            "Wall time: 5min 6s\n"
          ]
        },
        {
          "output_type": "execute_result",
          "data": {
            "text/plain": [
              "array([0.00383142, 0.00383142, 0.00766284, 0.        , 0.01149425,\n",
              "       0.        , 0.        ])"
            ]
          },
          "metadata": {},
          "execution_count": 205
        }
      ]
    },
    {
      "cell_type": "code",
      "metadata": {
        "colab": {
          "base_uri": "https://localhost:8080/"
        },
        "id": "sO28auWiZ25G",
        "outputId": "e03849c3-9bf8-4ad0-96a4-2e983d02a6f9"
      },
      "source": [
        "gbc = GradientBoostingClassifier(random_state=2179)\n",
        "gbc.fit(X_tr, y_tr)\n",
        "print(classification_report(y_val, gbc.predict(X_val)))"
      ],
      "execution_count": 202,
      "outputs": [
        {
          "output_type": "stream",
          "name": "stdout",
          "text": [
            "              precision    recall  f1-score   support\n",
            "\n",
            "         0.0       0.92      1.00      0.96      8069\n",
            "         1.0       0.50      0.00      0.01       681\n",
            "\n",
            "    accuracy                           0.92      8750\n",
            "   macro avg       0.71      0.50      0.48      8750\n",
            "weighted avg       0.89      0.92      0.89      8750\n",
            "\n"
          ]
        }
      ]
    },
    {
      "cell_type": "code",
      "metadata": {
        "id": "px_DQazBZ7OT"
      },
      "source": [
        ""
      ],
      "execution_count": null,
      "outputs": []
    }
  ]
}