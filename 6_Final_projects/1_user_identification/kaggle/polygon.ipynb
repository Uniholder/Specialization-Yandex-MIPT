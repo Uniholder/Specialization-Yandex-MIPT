{
 "cells": [
  {
   "cell_type": "code",
   "execution_count": null,
   "metadata": {
    "execution": {
     "iopub.execute_input": "2021-08-19T14:45:47.605489Z",
     "iopub.status.busy": "2021-08-19T14:45:47.605008Z",
     "iopub.status.idle": "2021-08-19T14:45:47.617339Z",
     "shell.execute_reply": "2021-08-19T14:45:47.616421Z",
     "shell.execute_reply.started": "2021-08-19T14:45:47.605432Z"
    },
    "id": "vp53iRU4evo-"
   },
   "outputs": [],
   "source": [
    "# from scipy.sparse import csr_matrix"
   ]
  },
  {
   "cell_type": "markdown",
   "metadata": {},
   "source": [
    "### Входные данные"
   ]
  },
  {
   "cell_type": "markdown",
   "metadata": {},
   "source": [
    "#### Загрузка"
   ]
  },
  {
   "cell_type": "code",
   "execution_count": null,
   "metadata": {
    "execution": {
     "iopub.execute_input": "2021-08-19T14:45:47.618871Z",
     "iopub.status.busy": "2021-08-19T14:45:47.618558Z",
     "iopub.status.idle": "2021-08-19T14:45:47.629637Z",
     "shell.execute_reply": "2021-08-19T14:45:47.628491Z",
     "shell.execute_reply.started": "2021-08-19T14:45:47.61884Z"
    },
    "id": "Wg8z9iJlhH8L"
   },
   "outputs": [],
   "source": [
    "# !unzip capstone_user_identification.zip"
   ]
  },
  {
   "cell_type": "code",
   "execution_count": 1,
   "metadata": {
    "execution": {
     "iopub.execute_input": "2021-08-19T19:20:53.990335Z",
     "iopub.status.busy": "2021-08-19T19:20:53.989907Z",
     "iopub.status.idle": "2021-08-19T19:20:54.001462Z",
     "shell.execute_reply": "2021-08-19T19:20:54.000739Z",
     "shell.execute_reply.started": "2021-08-19T19:20:53.990225Z"
    }
   },
   "outputs": [],
   "source": [
    "# from __future__ import division, print_function\n",
    "# отключим всякие предупреждения Anaconda\n",
    "import warnings\n",
    "warnings.filterwarnings('ignore')\n",
    "\n",
    "import os\n",
    "import pandas as pd\n",
    "import pickle"
   ]
  },
  {
   "cell_type": "code",
   "execution_count": 2,
   "metadata": {
    "execution": {
     "iopub.execute_input": "2021-08-19T19:22:04.080334Z",
     "iopub.status.busy": "2021-08-19T19:22:04.079864Z",
     "iopub.status.idle": "2021-08-19T19:22:08.947861Z",
     "shell.execute_reply": "2021-08-19T19:22:08.946950Z",
     "shell.execute_reply.started": "2021-08-19T19:22:04.080291Z"
    },
    "id": "CTCSeq9revpC"
   },
   "outputs": [
    {
     "data": {
      "text/plain": [
       "((253561, 21), (82797, 20))"
      ]
     },
     "execution_count": 2,
     "metadata": {},
     "output_type": "execute_result"
    }
   ],
   "source": [
    "PATH_TO_DATA = '../capstone_user_identification'\n",
    "# PATH_TO_DATA = '../input/catch-me-if-you-can-intruder-detection-through-webpage-session-tracking2'\n",
    "\n",
    "times = ['time%s' % i for i in range(1, 11)]\n",
    "sites = ['site%s' % i for i in range(1, 11)]\n",
    "df_train = pd.read_csv(os.path.join(PATH_TO_DATA, 'train_sessions.csv'), index_col='session_id', parse_dates=times)\n",
    "df_test = pd.read_csv(os.path.join(PATH_TO_DATA, 'test_sessions.csv'), index_col='session_id', parse_dates=times)\n",
    "df_train.shape, df_test.shape"
   ]
  },
  {
   "cell_type": "markdown",
   "metadata": {},
   "source": [
    "Словарь сайтов"
   ]
  },
  {
   "cell_type": "code",
   "execution_count": 3,
   "metadata": {
    "execution": {
     "iopub.execute_input": "2021-08-19T19:22:12.291818Z",
     "iopub.status.busy": "2021-08-19T19:22:12.291464Z",
     "iopub.status.idle": "2021-08-19T19:22:12.344379Z",
     "shell.execute_reply": "2021-08-19T19:22:12.343325Z",
     "shell.execute_reply.started": "2021-08-19T19:22:12.291788Z"
    }
   },
   "outputs": [],
   "source": [
    "with open(os.path.join(PATH_TO_DATA, 'site_dic.pkl'), 'rb') as f:\n",
    "    site2id  = pickle.load(f)\n",
    "id2site = {v:k for (k, v) in site2id.items()}\n",
    "id2site[0] = 'unknown'"
   ]
  },
  {
   "cell_type": "markdown",
   "metadata": {},
   "source": [
    "#### Обработка"
   ]
  },
  {
   "cell_type": "code",
   "execution_count": 4,
   "metadata": {
    "execution": {
     "iopub.execute_input": "2021-08-19T19:22:13.361957Z",
     "iopub.status.busy": "2021-08-19T19:22:13.361624Z",
     "iopub.status.idle": "2021-08-19T19:22:13.455307Z",
     "shell.execute_reply": "2021-08-19T19:22:13.454544Z",
     "shell.execute_reply.started": "2021-08-19T19:22:13.361928Z"
    }
   },
   "outputs": [],
   "source": [
    "df_train.sort_values(by='time1', inplace=True)\n",
    "\n",
    "y_train = df_train[\"target\"].astype('int').values"
   ]
  },
  {
   "cell_type": "markdown",
   "metadata": {},
   "source": [
    "### Feature engineering"
   ]
  },
  {
   "cell_type": "code",
   "execution_count": 5,
   "metadata": {
    "execution": {
     "iopub.execute_input": "2021-08-19T19:22:16.934512Z",
     "iopub.status.busy": "2021-08-19T19:22:16.933955Z",
     "iopub.status.idle": "2021-08-19T19:22:17.847006Z",
     "shell.execute_reply": "2021-08-19T19:22:17.846215Z",
     "shell.execute_reply.started": "2021-08-19T19:22:16.934464Z"
    }
   },
   "outputs": [],
   "source": [
    "from sklearn.base import BaseEstimator, TransformerMixin\n",
    "from sklearn.pipeline import Pipeline\n",
    "# from sklearn.pipeline import FeatureUnion\n",
    "from sklearn.feature_extraction.text import CountVectorizer, TfidfVectorizer\n",
    "from sklearn.preprocessing import StandardScaler\n",
    "\n",
    "import numpy as np\n",
    "import calendar"
   ]
  },
  {
   "cell_type": "markdown",
   "metadata": {},
   "source": [
    "#### Sites"
   ]
  },
  {
   "cell_type": "code",
   "execution_count": 6,
   "metadata": {
    "execution": {
     "iopub.execute_input": "2021-08-19T19:22:20.595926Z",
     "iopub.status.busy": "2021-08-19T19:22:20.595279Z",
     "iopub.status.idle": "2021-08-19T19:22:20.605154Z",
     "shell.execute_reply": "2021-08-19T19:22:20.604380Z",
     "shell.execute_reply.started": "2021-08-19T19:22:20.595883Z"
    }
   },
   "outputs": [],
   "source": [
    "class SiteFeaturesPreparator(BaseEstimator, TransformerMixin):\n",
    "    \"\"\"\n",
    "    Fill NaN with zero values;\n",
    "    Prepare a (Count)Vectorizer friendly 2D-list from data.\n",
    "    \"\"\"\n",
    "    def __init__(self):\n",
    "        super().__init__()\n",
    "    \n",
    "    def fit(self, X, y=None):\n",
    "        return self\n",
    "    \n",
    "    def transform(self, X, y=None):\n",
    "        sites = ['site%s' % i for i in range(1, 11)]\n",
    "        # Convert dataframe rows to strings\n",
    "#         return X[sites].fillna(0).astype('int')#.apply(lambda row: ' '.join([self.id2site[i] for i in row]), axis=1).tolist()\n",
    "        return X[sites].fillna(0).astype('int').apply(lambda row: ' '.join([str(site_id) for site_id in row]), axis=1).tolist()"
   ]
  },
  {
   "cell_type": "code",
   "execution_count": 7,
   "metadata": {
    "execution": {
     "iopub.execute_input": "2021-08-19T19:22:23.552925Z",
     "iopub.status.busy": "2021-08-19T19:22:23.552443Z",
     "iopub.status.idle": "2021-08-19T19:22:23.557562Z",
     "shell.execute_reply": "2021-08-19T19:22:23.556480Z",
     "shell.execute_reply.started": "2021-08-19T19:22:23.552893Z"
    }
   },
   "outputs": [],
   "source": [
    "vectorizer_pipeline = Pipeline([\n",
    "    (\"preparator\", SiteFeaturesPreparator()),\n",
    "    (\"vectorizer\", CountVectorizer(ngram_range=(1, 2), max_features=20000))  # tokenizer=lambda s: s.split()\n",
    "#     (\"vectorizer\", TfidfVectorizer(ngram_range=(1, 10), max_features=70000))\n",
    "])"
   ]
  },
  {
   "cell_type": "code",
   "execution_count": 8,
   "metadata": {
    "execution": {
     "iopub.execute_input": "2021-08-19T19:22:26.945287Z",
     "iopub.status.busy": "2021-08-19T19:22:26.944921Z",
     "iopub.status.idle": "2021-08-19T19:22:38.540102Z",
     "shell.execute_reply": "2021-08-19T19:22:38.539479Z",
     "shell.execute_reply.started": "2021-08-19T19:22:26.945235Z"
    }
   },
   "outputs": [
    {
     "name": "stdout",
     "output_type": "stream",
     "text": [
      "CPU times: user 7.23 s, sys: 253 ms, total: 7.48 s\n",
      "Wall time: 7.48 s\n"
     ]
    },
    {
     "data": {
      "text/plain": [
       "<253561x20000 sparse matrix of type '<class 'numpy.int64'>'\n",
       "\twith 2498250 stored elements in Compressed Sparse Row format>"
      ]
     },
     "execution_count": 8,
     "metadata": {},
     "output_type": "execute_result"
    }
   ],
   "source": [
    "%%time\n",
    "sites_train_vectorized = vectorizer_pipeline.fit_transform(df_train)\n",
    "sites_train_vectorized"
   ]
  },
  {
   "cell_type": "code",
   "execution_count": 34,
   "metadata": {
    "execution": {
     "iopub.execute_input": "2021-08-19T20:06:58.329574Z",
     "iopub.status.busy": "2021-08-19T20:06:58.329172Z",
     "iopub.status.idle": "2021-08-19T20:06:58.338343Z",
     "shell.execute_reply": "2021-08-19T20:06:58.337179Z",
     "shell.execute_reply.started": "2021-08-19T20:06:58.329542Z"
    }
   },
   "outputs": [],
   "source": [
    "class SitesFeaturesAdder(BaseEstimator, TransformerMixin):\n",
    "    \"\"\"\n",
    "    Add new attributes to training and test set.\n",
    "    \"\"\" \n",
    "    def fit(self, X, y=None):\n",
    "        return self\n",
    "    \n",
    "    def transform(self, X, y=None):\n",
    "        sites = ['site%s' % i for i in range(1, 11)]\n",
    "        \n",
    "#         n_sites = X[sites].apply(lambda session: session.count(), axis=1)\n",
    "        n_unique = X[sites].fillna(0).apply(lambda session: session.nunique(), axis=1)\n",
    "        dummy_n_unique = pd.get_dummies(n_unique)\n",
    "        \n",
    "        site_counts = {}\n",
    "        for session in X[sites].fillna(0).values:\n",
    "            for site in session:\n",
    "                if site in site_counts:\n",
    "                    site_counts[site] += 1\n",
    "                else:\n",
    "                    site_counts[site] = 1\n",
    "        site_counts.pop(0)\n",
    "        top_n = [k for k, _ in sorted(site_counts.items(), key=lambda item: item[1], reverse=True)][:10]\n",
    "        has_top10 = X[sites].fillna(0).apply(lambda session: session.isin(top_n).any().astype('int'), axis=1)\n",
    "        \n",
    "        features_df = pd.DataFrame({\n",
    "#             'n_sites': n_sites,\n",
    "            'n_unique': n_unique,\n",
    "            'has_top10': has_top10,\n",
    "        })\n",
    "        \n",
    "        return pd.concat([features_df, dummy_n_unique], axis=1)\n",
    "    \n",
    "all_site_features = ['n_unique', 'has_top10'] + [f'{i}_unique' for i in range(1, 11)]  # has_top10 n_sites"
   ]
  },
  {
   "cell_type": "code",
   "execution_count": 35,
   "metadata": {
    "execution": {
     "iopub.execute_input": "2021-08-19T20:06:58.583145Z",
     "iopub.status.busy": "2021-08-19T20:06:58.582778Z",
     "iopub.status.idle": "2021-08-19T20:07:38.040414Z",
     "shell.execute_reply": "2021-08-19T20:07:38.039340Z",
     "shell.execute_reply.started": "2021-08-19T20:06:58.583116Z"
    }
   },
   "outputs": [
    {
     "name": "stdout",
     "output_type": "stream",
     "text": [
      "CPU times: user 1min 16s, sys: 2.64 s, total: 1min 19s\n",
      "Wall time: 1min 15s\n"
     ]
    },
    {
     "data": {
      "text/html": [
       "<div>\n",
       "<style scoped>\n",
       "    .dataframe tbody tr th:only-of-type {\n",
       "        vertical-align: middle;\n",
       "    }\n",
       "\n",
       "    .dataframe tbody tr th {\n",
       "        vertical-align: top;\n",
       "    }\n",
       "\n",
       "    .dataframe thead th {\n",
       "        text-align: right;\n",
       "    }\n",
       "</style>\n",
       "<table border=\"1\" class=\"dataframe\">\n",
       "  <thead>\n",
       "    <tr style=\"text-align: right;\">\n",
       "      <th></th>\n",
       "      <th>n_unique</th>\n",
       "      <th>has_top10</th>\n",
       "      <th>1_unique</th>\n",
       "      <th>2_unique</th>\n",
       "      <th>3_unique</th>\n",
       "      <th>4_unique</th>\n",
       "      <th>5_unique</th>\n",
       "      <th>6_unique</th>\n",
       "      <th>7_unique</th>\n",
       "      <th>8_unique</th>\n",
       "      <th>9_unique</th>\n",
       "      <th>10_unique</th>\n",
       "    </tr>\n",
       "    <tr>\n",
       "      <th>session_id</th>\n",
       "      <th></th>\n",
       "      <th></th>\n",
       "      <th></th>\n",
       "      <th></th>\n",
       "      <th></th>\n",
       "      <th></th>\n",
       "      <th></th>\n",
       "      <th></th>\n",
       "      <th></th>\n",
       "      <th></th>\n",
       "      <th></th>\n",
       "      <th></th>\n",
       "    </tr>\n",
       "  </thead>\n",
       "  <tbody>\n",
       "    <tr>\n",
       "      <th>21669</th>\n",
       "      <td>-1.126296</td>\n",
       "      <td>-1.400389</td>\n",
       "      <td>-0.214779</td>\n",
       "      <td>-0.302506</td>\n",
       "      <td>3.211641</td>\n",
       "      <td>-0.323591</td>\n",
       "      <td>-0.380664</td>\n",
       "      <td>-0.408702</td>\n",
       "      <td>-0.421505</td>\n",
       "      <td>-0.393215</td>\n",
       "      <td>-0.318561</td>\n",
       "      <td>-0.210156</td>\n",
       "    </tr>\n",
       "    <tr>\n",
       "      <th>54843</th>\n",
       "      <td>-1.126296</td>\n",
       "      <td>-1.400389</td>\n",
       "      <td>-0.214779</td>\n",
       "      <td>-0.302506</td>\n",
       "      <td>3.211641</td>\n",
       "      <td>-0.323591</td>\n",
       "      <td>-0.380664</td>\n",
       "      <td>-0.408702</td>\n",
       "      <td>-0.421505</td>\n",
       "      <td>-0.393215</td>\n",
       "      <td>-0.318561</td>\n",
       "      <td>-0.210156</td>\n",
       "    </tr>\n",
       "    <tr>\n",
       "      <th>77292</th>\n",
       "      <td>0.112680</td>\n",
       "      <td>-1.400389</td>\n",
       "      <td>-0.214779</td>\n",
       "      <td>-0.302506</td>\n",
       "      <td>-0.311367</td>\n",
       "      <td>-0.323591</td>\n",
       "      <td>-0.380664</td>\n",
       "      <td>2.446772</td>\n",
       "      <td>-0.421505</td>\n",
       "      <td>-0.393215</td>\n",
       "      <td>-0.318561</td>\n",
       "      <td>-0.210156</td>\n",
       "    </tr>\n",
       "    <tr>\n",
       "      <th>114021</th>\n",
       "      <td>-0.300312</td>\n",
       "      <td>-1.400389</td>\n",
       "      <td>-0.214779</td>\n",
       "      <td>-0.302506</td>\n",
       "      <td>-0.311367</td>\n",
       "      <td>-0.323591</td>\n",
       "      <td>2.626988</td>\n",
       "      <td>-0.408702</td>\n",
       "      <td>-0.421505</td>\n",
       "      <td>-0.393215</td>\n",
       "      <td>-0.318561</td>\n",
       "      <td>-0.210156</td>\n",
       "    </tr>\n",
       "    <tr>\n",
       "      <th>146670</th>\n",
       "      <td>0.112680</td>\n",
       "      <td>-1.400389</td>\n",
       "      <td>-0.214779</td>\n",
       "      <td>-0.302506</td>\n",
       "      <td>-0.311367</td>\n",
       "      <td>-0.323591</td>\n",
       "      <td>-0.380664</td>\n",
       "      <td>2.446772</td>\n",
       "      <td>-0.421505</td>\n",
       "      <td>-0.393215</td>\n",
       "      <td>-0.318561</td>\n",
       "      <td>-0.210156</td>\n",
       "    </tr>\n",
       "    <tr>\n",
       "      <th>...</th>\n",
       "      <td>...</td>\n",
       "      <td>...</td>\n",
       "      <td>...</td>\n",
       "      <td>...</td>\n",
       "      <td>...</td>\n",
       "      <td>...</td>\n",
       "      <td>...</td>\n",
       "      <td>...</td>\n",
       "      <td>...</td>\n",
       "      <td>...</td>\n",
       "      <td>...</td>\n",
       "      <td>...</td>\n",
       "    </tr>\n",
       "    <tr>\n",
       "      <th>12224</th>\n",
       "      <td>0.112680</td>\n",
       "      <td>0.714087</td>\n",
       "      <td>-0.214779</td>\n",
       "      <td>-0.302506</td>\n",
       "      <td>-0.311367</td>\n",
       "      <td>-0.323591</td>\n",
       "      <td>-0.380664</td>\n",
       "      <td>2.446772</td>\n",
       "      <td>-0.421505</td>\n",
       "      <td>-0.393215</td>\n",
       "      <td>-0.318561</td>\n",
       "      <td>-0.210156</td>\n",
       "    </tr>\n",
       "    <tr>\n",
       "      <th>164438</th>\n",
       "      <td>0.525672</td>\n",
       "      <td>0.714087</td>\n",
       "      <td>-0.214779</td>\n",
       "      <td>-0.302506</td>\n",
       "      <td>-0.311367</td>\n",
       "      <td>-0.323591</td>\n",
       "      <td>-0.380664</td>\n",
       "      <td>-0.408702</td>\n",
       "      <td>2.372451</td>\n",
       "      <td>-0.393215</td>\n",
       "      <td>-0.318561</td>\n",
       "      <td>-0.210156</td>\n",
       "    </tr>\n",
       "    <tr>\n",
       "      <th>12221</th>\n",
       "      <td>0.938664</td>\n",
       "      <td>0.714087</td>\n",
       "      <td>-0.214779</td>\n",
       "      <td>-0.302506</td>\n",
       "      <td>-0.311367</td>\n",
       "      <td>-0.323591</td>\n",
       "      <td>-0.380664</td>\n",
       "      <td>-0.408702</td>\n",
       "      <td>-0.421505</td>\n",
       "      <td>2.543140</td>\n",
       "      <td>-0.318561</td>\n",
       "      <td>-0.210156</td>\n",
       "    </tr>\n",
       "    <tr>\n",
       "      <th>156968</th>\n",
       "      <td>0.525672</td>\n",
       "      <td>-1.400389</td>\n",
       "      <td>-0.214779</td>\n",
       "      <td>-0.302506</td>\n",
       "      <td>-0.311367</td>\n",
       "      <td>-0.323591</td>\n",
       "      <td>-0.380664</td>\n",
       "      <td>-0.408702</td>\n",
       "      <td>2.372451</td>\n",
       "      <td>-0.393215</td>\n",
       "      <td>-0.318561</td>\n",
       "      <td>-0.210156</td>\n",
       "    </tr>\n",
       "    <tr>\n",
       "      <th>204762</th>\n",
       "      <td>0.112680</td>\n",
       "      <td>-1.400389</td>\n",
       "      <td>-0.214779</td>\n",
       "      <td>-0.302506</td>\n",
       "      <td>-0.311367</td>\n",
       "      <td>-0.323591</td>\n",
       "      <td>-0.380664</td>\n",
       "      <td>2.446772</td>\n",
       "      <td>-0.421505</td>\n",
       "      <td>-0.393215</td>\n",
       "      <td>-0.318561</td>\n",
       "      <td>-0.210156</td>\n",
       "    </tr>\n",
       "  </tbody>\n",
       "</table>\n",
       "<p>253561 rows × 12 columns</p>\n",
       "</div>"
      ],
      "text/plain": [
       "            n_unique  has_top10  1_unique  2_unique  3_unique  4_unique  \\\n",
       "session_id                                                                \n",
       "21669      -1.126296  -1.400389 -0.214779 -0.302506  3.211641 -0.323591   \n",
       "54843      -1.126296  -1.400389 -0.214779 -0.302506  3.211641 -0.323591   \n",
       "77292       0.112680  -1.400389 -0.214779 -0.302506 -0.311367 -0.323591   \n",
       "114021     -0.300312  -1.400389 -0.214779 -0.302506 -0.311367 -0.323591   \n",
       "146670      0.112680  -1.400389 -0.214779 -0.302506 -0.311367 -0.323591   \n",
       "...              ...        ...       ...       ...       ...       ...   \n",
       "12224       0.112680   0.714087 -0.214779 -0.302506 -0.311367 -0.323591   \n",
       "164438      0.525672   0.714087 -0.214779 -0.302506 -0.311367 -0.323591   \n",
       "12221       0.938664   0.714087 -0.214779 -0.302506 -0.311367 -0.323591   \n",
       "156968      0.525672  -1.400389 -0.214779 -0.302506 -0.311367 -0.323591   \n",
       "204762      0.112680  -1.400389 -0.214779 -0.302506 -0.311367 -0.323591   \n",
       "\n",
       "            5_unique  6_unique  7_unique  8_unique  9_unique  10_unique  \n",
       "session_id                                                               \n",
       "21669      -0.380664 -0.408702 -0.421505 -0.393215 -0.318561  -0.210156  \n",
       "54843      -0.380664 -0.408702 -0.421505 -0.393215 -0.318561  -0.210156  \n",
       "77292      -0.380664  2.446772 -0.421505 -0.393215 -0.318561  -0.210156  \n",
       "114021      2.626988 -0.408702 -0.421505 -0.393215 -0.318561  -0.210156  \n",
       "146670     -0.380664  2.446772 -0.421505 -0.393215 -0.318561  -0.210156  \n",
       "...              ...       ...       ...       ...       ...        ...  \n",
       "12224      -0.380664  2.446772 -0.421505 -0.393215 -0.318561  -0.210156  \n",
       "164438     -0.380664 -0.408702  2.372451 -0.393215 -0.318561  -0.210156  \n",
       "12221      -0.380664 -0.408702 -0.421505  2.543140 -0.318561  -0.210156  \n",
       "156968     -0.380664 -0.408702  2.372451 -0.393215 -0.318561  -0.210156  \n",
       "204762     -0.380664  2.446772 -0.421505 -0.393215 -0.318561  -0.210156  \n",
       "\n",
       "[253561 rows x 12 columns]"
      ]
     },
     "execution_count": 35,
     "metadata": {},
     "output_type": "execute_result"
    }
   ],
   "source": [
    "%%time\n",
    "site_features_pipeline = Pipeline([\n",
    "    (\"sites_adder\", SitesFeaturesAdder()),\n",
    "    (\"scaler\", StandardScaler())\n",
    "])\n",
    "\n",
    "sites_train = site_features_pipeline.fit_transform(df_train)\n",
    "sites_train = pd.DataFrame(sites_train, columns=all_site_features, index=df_train.index)\n",
    "sites_train"
   ]
  },
  {
   "cell_type": "markdown",
   "metadata": {},
   "source": [
    "#### Times"
   ]
  },
  {
   "cell_type": "code",
   "execution_count": 11,
   "metadata": {
    "execution": {
     "iopub.execute_input": "2021-08-19T19:24:56.190768Z",
     "iopub.status.busy": "2021-08-19T19:24:56.190333Z",
     "iopub.status.idle": "2021-08-19T19:24:56.205611Z",
     "shell.execute_reply": "2021-08-19T19:24:56.204830Z",
     "shell.execute_reply.started": "2021-08-19T19:24:56.190737Z"
    }
   },
   "outputs": [],
   "source": [
    "class TimesFeaturesAdder(BaseEstimator, TransformerMixin):\n",
    "    \"\"\"\n",
    "    Add new attributes to training and test set.\n",
    "    \"\"\" \n",
    "    def fit(self, X, y=None):\n",
    "        return self \n",
    "    \n",
    "    def transform(self, X, y=None):\n",
    "        # intraday features\n",
    "        hour = X['time1'].apply(lambda ts: ts.hour)\n",
    "        minutes = X['time1'].apply(lambda ts: ts.minute)\n",
    "        hour_minutes = hour + minutes / 60\n",
    "        dummy_hours = pd.get_dummies(hour)\n",
    "        \n",
    "        morning = ((hour >= 7) & (hour <= 11)).astype('int')\n",
    "        day = ((hour >= 12) & (hour <= 18)).astype('int')\n",
    "        evening = ((hour >= 19) & (hour <= 23)).astype('int')\n",
    "        \n",
    "        sin_hour = np.sin(2 * np.pi * hour / 24)\n",
    "        cos_hour = np.cos(2 * np.pi * hour / 24)\n",
    "        \n",
    "        # date\n",
    "        month = X['time1'].apply(lambda ts: ts.month)\n",
    "        year = X['time1'].apply(lambda ts: ts.year)\n",
    "        year_month = year + month\n",
    "        summer = ((month >= 6) & (month <= 8)).astype('int')\n",
    "        \n",
    "        weekday = X['time1'].apply(lambda ts: ts.weekday())\n",
    "        dummy_weekdays = pd.get_dummies(data=weekday)\n",
    "        weekend = np.isin(weekday, [5, 6])\n",
    "        \n",
    "        times = ['time%s' % i for i in range(1, 11)]\n",
    "        session_duration = (X[times].max(axis=1) - X[times].min(axis=1)).astype('timedelta64[ms]').astype(int) #** 0.2\n",
    "        \n",
    "        features_df = pd.DataFrame({\n",
    "            'hour': hour,\n",
    "            'morning': morning,\n",
    "            'day': day,\n",
    "            'evening': evening,\n",
    "            'sin_hour': sin_hour,\n",
    "            'cos_hour': cos_hour,\n",
    "            'minutes': minutes,\n",
    "            'hour_minutes': hour_minutes,\n",
    "            'month': month,\n",
    "            'year': year,\n",
    "            'year_month': year_month,\n",
    "            'summer': summer,\n",
    "            'weekday': weekday,\n",
    "            'weekend': weekend,\n",
    "            'session_duration': session_duration,\n",
    "        })\n",
    "\n",
    "        return pd.concat([features_df, dummy_hours, dummy_weekdays], axis=1)\n",
    "    \n",
    "all_time_features = ['hour', 'morning', 'day', 'evening', 'sin_hour', 'cos_hour',\n",
    "                'minutes', 'hour_minutes', 'month', 'year', 'year_month',\n",
    "                'summer', 'weekday', 'weekend', 'session_duration'] + list(range(7, 24)) + list(calendar.day_name)"
   ]
  },
  {
   "cell_type": "code",
   "execution_count": 12,
   "metadata": {
    "execution": {
     "iopub.execute_input": "2021-08-19T20:09:14.618792Z",
     "iopub.status.busy": "2021-08-19T20:09:14.618430Z",
     "iopub.status.idle": "2021-08-19T20:09:26.895701Z",
     "shell.execute_reply": "2021-08-19T20:09:26.894737Z",
     "shell.execute_reply.started": "2021-08-19T20:09:14.618764Z"
    }
   },
   "outputs": [
    {
     "name": "stdout",
     "output_type": "stream",
     "text": [
      "CPU times: user 5.97 s, sys: 217 ms, total: 6.19 s\n",
      "Wall time: 6.06 s\n"
     ]
    },
    {
     "data": {
      "text/html": [
       "<div>\n",
       "<style scoped>\n",
       "    .dataframe tbody tr th:only-of-type {\n",
       "        vertical-align: middle;\n",
       "    }\n",
       "\n",
       "    .dataframe tbody tr th {\n",
       "        vertical-align: top;\n",
       "    }\n",
       "\n",
       "    .dataframe thead th {\n",
       "        text-align: right;\n",
       "    }\n",
       "</style>\n",
       "<table border=\"1\" class=\"dataframe\">\n",
       "  <thead>\n",
       "    <tr style=\"text-align: right;\">\n",
       "      <th></th>\n",
       "      <th>hour</th>\n",
       "      <th>morning</th>\n",
       "      <th>day</th>\n",
       "      <th>evening</th>\n",
       "      <th>sin_hour</th>\n",
       "      <th>cos_hour</th>\n",
       "      <th>minutes</th>\n",
       "      <th>hour_minutes</th>\n",
       "      <th>month</th>\n",
       "      <th>year</th>\n",
       "      <th>...</th>\n",
       "      <th>21</th>\n",
       "      <th>22</th>\n",
       "      <th>23</th>\n",
       "      <th>Monday</th>\n",
       "      <th>Tuesday</th>\n",
       "      <th>Wednesday</th>\n",
       "      <th>Thursday</th>\n",
       "      <th>Friday</th>\n",
       "      <th>Saturday</th>\n",
       "      <th>Sunday</th>\n",
       "    </tr>\n",
       "    <tr>\n",
       "      <th>session_id</th>\n",
       "      <th></th>\n",
       "      <th></th>\n",
       "      <th></th>\n",
       "      <th></th>\n",
       "      <th></th>\n",
       "      <th></th>\n",
       "      <th></th>\n",
       "      <th></th>\n",
       "      <th></th>\n",
       "      <th></th>\n",
       "      <th></th>\n",
       "      <th></th>\n",
       "      <th></th>\n",
       "      <th></th>\n",
       "      <th></th>\n",
       "      <th></th>\n",
       "      <th></th>\n",
       "      <th></th>\n",
       "      <th></th>\n",
       "      <th></th>\n",
       "      <th></th>\n",
       "    </tr>\n",
       "  </thead>\n",
       "  <tbody>\n",
       "    <tr>\n",
       "      <th>21669</th>\n",
       "      <td>-1.357366</td>\n",
       "      <td>1.039061</td>\n",
       "      <td>-0.98128</td>\n",
       "      <td>-0.171577</td>\n",
       "      <td>1.406483</td>\n",
       "      <td>0.644886</td>\n",
       "      <td>-1.400885</td>\n",
       "      <td>-1.487757</td>\n",
       "      <td>-0.943567</td>\n",
       "      <td>-1.547749</td>\n",
       "      <td>...</td>\n",
       "      <td>-0.082278</td>\n",
       "      <td>-0.076284</td>\n",
       "      <td>-0.072862</td>\n",
       "      <td>-0.436072</td>\n",
       "      <td>-0.487314</td>\n",
       "      <td>-0.532230</td>\n",
       "      <td>-0.459143</td>\n",
       "      <td>-0.440082</td>\n",
       "      <td>3.879327</td>\n",
       "      <td>-0.172561</td>\n",
       "    </tr>\n",
       "    <tr>\n",
       "      <th>54843</th>\n",
       "      <td>-1.357366</td>\n",
       "      <td>1.039061</td>\n",
       "      <td>-0.98128</td>\n",
       "      <td>-0.171577</td>\n",
       "      <td>1.406483</td>\n",
       "      <td>0.644886</td>\n",
       "      <td>0.451667</td>\n",
       "      <td>-1.318638</td>\n",
       "      <td>-0.943567</td>\n",
       "      <td>-1.547749</td>\n",
       "      <td>...</td>\n",
       "      <td>-0.082278</td>\n",
       "      <td>-0.076284</td>\n",
       "      <td>-0.072862</td>\n",
       "      <td>-0.436072</td>\n",
       "      <td>-0.487314</td>\n",
       "      <td>-0.532230</td>\n",
       "      <td>-0.459143</td>\n",
       "      <td>-0.440082</td>\n",
       "      <td>3.879327</td>\n",
       "      <td>-0.172561</td>\n",
       "    </tr>\n",
       "    <tr>\n",
       "      <th>77292</th>\n",
       "      <td>-1.357366</td>\n",
       "      <td>1.039061</td>\n",
       "      <td>-0.98128</td>\n",
       "      <td>-0.171577</td>\n",
       "      <td>1.406483</td>\n",
       "      <td>0.644886</td>\n",
       "      <td>1.204266</td>\n",
       "      <td>-1.249933</td>\n",
       "      <td>-0.943567</td>\n",
       "      <td>-1.547749</td>\n",
       "      <td>...</td>\n",
       "      <td>-0.082278</td>\n",
       "      <td>-0.076284</td>\n",
       "      <td>-0.072862</td>\n",
       "      <td>-0.436072</td>\n",
       "      <td>-0.487314</td>\n",
       "      <td>-0.532230</td>\n",
       "      <td>-0.459143</td>\n",
       "      <td>-0.440082</td>\n",
       "      <td>3.879327</td>\n",
       "      <td>-0.172561</td>\n",
       "    </tr>\n",
       "    <tr>\n",
       "      <th>114021</th>\n",
       "      <td>-1.357366</td>\n",
       "      <td>1.039061</td>\n",
       "      <td>-0.98128</td>\n",
       "      <td>-0.171577</td>\n",
       "      <td>1.406483</td>\n",
       "      <td>0.644886</td>\n",
       "      <td>1.204266</td>\n",
       "      <td>-1.249933</td>\n",
       "      <td>-0.943567</td>\n",
       "      <td>-1.547749</td>\n",
       "      <td>...</td>\n",
       "      <td>-0.082278</td>\n",
       "      <td>-0.076284</td>\n",
       "      <td>-0.072862</td>\n",
       "      <td>-0.436072</td>\n",
       "      <td>-0.487314</td>\n",
       "      <td>-0.532230</td>\n",
       "      <td>-0.459143</td>\n",
       "      <td>-0.440082</td>\n",
       "      <td>3.879327</td>\n",
       "      <td>-0.172561</td>\n",
       "    </tr>\n",
       "    <tr>\n",
       "      <th>146670</th>\n",
       "      <td>-1.357366</td>\n",
       "      <td>1.039061</td>\n",
       "      <td>-0.98128</td>\n",
       "      <td>-0.171577</td>\n",
       "      <td>1.406483</td>\n",
       "      <td>0.644886</td>\n",
       "      <td>1.204266</td>\n",
       "      <td>-1.249933</td>\n",
       "      <td>-0.943567</td>\n",
       "      <td>-1.547749</td>\n",
       "      <td>...</td>\n",
       "      <td>-0.082278</td>\n",
       "      <td>-0.076284</td>\n",
       "      <td>-0.072862</td>\n",
       "      <td>-0.436072</td>\n",
       "      <td>-0.487314</td>\n",
       "      <td>-0.532230</td>\n",
       "      <td>-0.459143</td>\n",
       "      <td>-0.440082</td>\n",
       "      <td>3.879327</td>\n",
       "      <td>-0.172561</td>\n",
       "    </tr>\n",
       "    <tr>\n",
       "      <th>...</th>\n",
       "      <td>...</td>\n",
       "      <td>...</td>\n",
       "      <td>...</td>\n",
       "      <td>...</td>\n",
       "      <td>...</td>\n",
       "      <td>...</td>\n",
       "      <td>...</td>\n",
       "      <td>...</td>\n",
       "      <td>...</td>\n",
       "      <td>...</td>\n",
       "      <td>...</td>\n",
       "      <td>...</td>\n",
       "      <td>...</td>\n",
       "      <td>...</td>\n",
       "      <td>...</td>\n",
       "      <td>...</td>\n",
       "      <td>...</td>\n",
       "      <td>...</td>\n",
       "      <td>...</td>\n",
       "      <td>...</td>\n",
       "      <td>...</td>\n",
       "    </tr>\n",
       "    <tr>\n",
       "      <th>12224</th>\n",
       "      <td>3.390349</td>\n",
       "      <td>-0.962408</td>\n",
       "      <td>-0.98128</td>\n",
       "      <td>5.828302</td>\n",
       "      <td>-0.399203</td>\n",
       "      <td>5.131687</td>\n",
       "      <td>0.220098</td>\n",
       "      <td>3.416696</td>\n",
       "      <td>-0.137395</td>\n",
       "      <td>0.646100</td>\n",
       "      <td>...</td>\n",
       "      <td>-0.082278</td>\n",
       "      <td>-0.076284</td>\n",
       "      <td>13.724647</td>\n",
       "      <td>-0.436072</td>\n",
       "      <td>-0.487314</td>\n",
       "      <td>1.878888</td>\n",
       "      <td>-0.459143</td>\n",
       "      <td>-0.440082</td>\n",
       "      <td>-0.257777</td>\n",
       "      <td>-0.172561</td>\n",
       "    </tr>\n",
       "    <tr>\n",
       "      <th>164438</th>\n",
       "      <td>3.390349</td>\n",
       "      <td>-0.962408</td>\n",
       "      <td>-0.98128</td>\n",
       "      <td>5.828302</td>\n",
       "      <td>-0.399203</td>\n",
       "      <td>5.131687</td>\n",
       "      <td>0.277990</td>\n",
       "      <td>3.421981</td>\n",
       "      <td>-0.137395</td>\n",
       "      <td>0.646100</td>\n",
       "      <td>...</td>\n",
       "      <td>-0.082278</td>\n",
       "      <td>-0.076284</td>\n",
       "      <td>13.724647</td>\n",
       "      <td>-0.436072</td>\n",
       "      <td>-0.487314</td>\n",
       "      <td>1.878888</td>\n",
       "      <td>-0.459143</td>\n",
       "      <td>-0.440082</td>\n",
       "      <td>-0.257777</td>\n",
       "      <td>-0.172561</td>\n",
       "    </tr>\n",
       "    <tr>\n",
       "      <th>12221</th>\n",
       "      <td>3.390349</td>\n",
       "      <td>-0.962408</td>\n",
       "      <td>-0.98128</td>\n",
       "      <td>5.828302</td>\n",
       "      <td>-0.399203</td>\n",
       "      <td>5.131687</td>\n",
       "      <td>0.509559</td>\n",
       "      <td>3.443121</td>\n",
       "      <td>-0.137395</td>\n",
       "      <td>0.646100</td>\n",
       "      <td>...</td>\n",
       "      <td>-0.082278</td>\n",
       "      <td>-0.076284</td>\n",
       "      <td>13.724647</td>\n",
       "      <td>-0.436072</td>\n",
       "      <td>-0.487314</td>\n",
       "      <td>1.878888</td>\n",
       "      <td>-0.459143</td>\n",
       "      <td>-0.440082</td>\n",
       "      <td>-0.257777</td>\n",
       "      <td>-0.172561</td>\n",
       "    </tr>\n",
       "    <tr>\n",
       "      <th>156968</th>\n",
       "      <td>3.390349</td>\n",
       "      <td>-0.962408</td>\n",
       "      <td>-0.98128</td>\n",
       "      <td>5.828302</td>\n",
       "      <td>-0.399203</td>\n",
       "      <td>5.131687</td>\n",
       "      <td>0.509559</td>\n",
       "      <td>3.443121</td>\n",
       "      <td>-0.137395</td>\n",
       "      <td>0.646100</td>\n",
       "      <td>...</td>\n",
       "      <td>-0.082278</td>\n",
       "      <td>-0.076284</td>\n",
       "      <td>13.724647</td>\n",
       "      <td>-0.436072</td>\n",
       "      <td>-0.487314</td>\n",
       "      <td>1.878888</td>\n",
       "      <td>-0.459143</td>\n",
       "      <td>-0.440082</td>\n",
       "      <td>-0.257777</td>\n",
       "      <td>-0.172561</td>\n",
       "    </tr>\n",
       "    <tr>\n",
       "      <th>204762</th>\n",
       "      <td>3.390349</td>\n",
       "      <td>-0.962408</td>\n",
       "      <td>-0.98128</td>\n",
       "      <td>5.828302</td>\n",
       "      <td>-0.399203</td>\n",
       "      <td>5.131687</td>\n",
       "      <td>0.567451</td>\n",
       "      <td>3.448405</td>\n",
       "      <td>-0.137395</td>\n",
       "      <td>0.646100</td>\n",
       "      <td>...</td>\n",
       "      <td>-0.082278</td>\n",
       "      <td>-0.076284</td>\n",
       "      <td>13.724647</td>\n",
       "      <td>-0.436072</td>\n",
       "      <td>-0.487314</td>\n",
       "      <td>1.878888</td>\n",
       "      <td>-0.459143</td>\n",
       "      <td>-0.440082</td>\n",
       "      <td>-0.257777</td>\n",
       "      <td>-0.172561</td>\n",
       "    </tr>\n",
       "  </tbody>\n",
       "</table>\n",
       "<p>253561 rows × 39 columns</p>\n",
       "</div>"
      ],
      "text/plain": [
       "                hour   morning      day   evening  sin_hour  cos_hour  \\\n",
       "session_id                                                              \n",
       "21669      -1.357366  1.039061 -0.98128 -0.171577  1.406483  0.644886   \n",
       "54843      -1.357366  1.039061 -0.98128 -0.171577  1.406483  0.644886   \n",
       "77292      -1.357366  1.039061 -0.98128 -0.171577  1.406483  0.644886   \n",
       "114021     -1.357366  1.039061 -0.98128 -0.171577  1.406483  0.644886   \n",
       "146670     -1.357366  1.039061 -0.98128 -0.171577  1.406483  0.644886   \n",
       "...              ...       ...      ...       ...       ...       ...   \n",
       "12224       3.390349 -0.962408 -0.98128  5.828302 -0.399203  5.131687   \n",
       "164438      3.390349 -0.962408 -0.98128  5.828302 -0.399203  5.131687   \n",
       "12221       3.390349 -0.962408 -0.98128  5.828302 -0.399203  5.131687   \n",
       "156968      3.390349 -0.962408 -0.98128  5.828302 -0.399203  5.131687   \n",
       "204762      3.390349 -0.962408 -0.98128  5.828302 -0.399203  5.131687   \n",
       "\n",
       "             minutes  hour_minutes     month      year  ...        21  \\\n",
       "session_id                                              ...             \n",
       "21669      -1.400885     -1.487757 -0.943567 -1.547749  ... -0.082278   \n",
       "54843       0.451667     -1.318638 -0.943567 -1.547749  ... -0.082278   \n",
       "77292       1.204266     -1.249933 -0.943567 -1.547749  ... -0.082278   \n",
       "114021      1.204266     -1.249933 -0.943567 -1.547749  ... -0.082278   \n",
       "146670      1.204266     -1.249933 -0.943567 -1.547749  ... -0.082278   \n",
       "...              ...           ...       ...       ...  ...       ...   \n",
       "12224       0.220098      3.416696 -0.137395  0.646100  ... -0.082278   \n",
       "164438      0.277990      3.421981 -0.137395  0.646100  ... -0.082278   \n",
       "12221       0.509559      3.443121 -0.137395  0.646100  ... -0.082278   \n",
       "156968      0.509559      3.443121 -0.137395  0.646100  ... -0.082278   \n",
       "204762      0.567451      3.448405 -0.137395  0.646100  ... -0.082278   \n",
       "\n",
       "                  22         23    Monday   Tuesday  Wednesday  Thursday  \\\n",
       "session_id                                                                 \n",
       "21669      -0.076284  -0.072862 -0.436072 -0.487314  -0.532230 -0.459143   \n",
       "54843      -0.076284  -0.072862 -0.436072 -0.487314  -0.532230 -0.459143   \n",
       "77292      -0.076284  -0.072862 -0.436072 -0.487314  -0.532230 -0.459143   \n",
       "114021     -0.076284  -0.072862 -0.436072 -0.487314  -0.532230 -0.459143   \n",
       "146670     -0.076284  -0.072862 -0.436072 -0.487314  -0.532230 -0.459143   \n",
       "...              ...        ...       ...       ...        ...       ...   \n",
       "12224      -0.076284  13.724647 -0.436072 -0.487314   1.878888 -0.459143   \n",
       "164438     -0.076284  13.724647 -0.436072 -0.487314   1.878888 -0.459143   \n",
       "12221      -0.076284  13.724647 -0.436072 -0.487314   1.878888 -0.459143   \n",
       "156968     -0.076284  13.724647 -0.436072 -0.487314   1.878888 -0.459143   \n",
       "204762     -0.076284  13.724647 -0.436072 -0.487314   1.878888 -0.459143   \n",
       "\n",
       "              Friday  Saturday    Sunday  \n",
       "session_id                                \n",
       "21669      -0.440082  3.879327 -0.172561  \n",
       "54843      -0.440082  3.879327 -0.172561  \n",
       "77292      -0.440082  3.879327 -0.172561  \n",
       "114021     -0.440082  3.879327 -0.172561  \n",
       "146670     -0.440082  3.879327 -0.172561  \n",
       "...              ...       ...       ...  \n",
       "12224      -0.440082 -0.257777 -0.172561  \n",
       "164438     -0.440082 -0.257777 -0.172561  \n",
       "12221      -0.440082 -0.257777 -0.172561  \n",
       "156968     -0.440082 -0.257777 -0.172561  \n",
       "204762     -0.440082 -0.257777 -0.172561  \n",
       "\n",
       "[253561 rows x 39 columns]"
      ]
     },
     "execution_count": 12,
     "metadata": {},
     "output_type": "execute_result"
    }
   ],
   "source": [
    "%%time\n",
    "time_features_pipeline = Pipeline([\n",
    "    (\"times_adder\", TimesFeaturesAdder()),\n",
    "    (\"scaler\", StandardScaler())\n",
    "])\n",
    "\n",
    "times_train = time_features_pipeline.fit_transform(df_train)\n",
    "times_train = pd.DataFrame(times_train, columns=all_time_features, index=df_train.index)\n",
    "times_train"
   ]
  },
  {
   "cell_type": "code",
   "execution_count": 13,
   "metadata": {
    "execution": {
     "iopub.execute_input": "2021-08-19T19:25:07.553414Z",
     "iopub.status.busy": "2021-08-19T19:25:07.552712Z",
     "iopub.status.idle": "2021-08-19T19:25:07.562504Z",
     "shell.execute_reply": "2021-08-19T19:25:07.561501Z",
     "shell.execute_reply.started": "2021-08-19T19:25:07.553369Z"
    }
   },
   "outputs": [],
   "source": [
    "class TimeDiffsFeaturesAdder(BaseEstimator, TransformerMixin):\n",
    "    \"\"\"\n",
    "    Add new attributes to training and test set.\n",
    "    \"\"\" \n",
    "    def fit(self, X, y=None):\n",
    "        return self\n",
    "    \n",
    "    def transform(self, X, y=None):\n",
    "        def get_time_diff(row): \n",
    "            time_length = row.shape[0] - 1 \n",
    "            time_diff = [0] * time_length \n",
    "            i = 0\n",
    "            while (i < time_length) and pd.notnull(row[i+1]):\n",
    "                time_diff[i] = (row[i+1] - row[i]) / np.timedelta64(1, 's') \n",
    "                i += 1 \n",
    "            return time_diff\n",
    "        \n",
    "        time_diff = []\n",
    "        times = ['time%s' % i for i in range(1, 11)]\n",
    "        for row in df_train[times].values:\n",
    "            time_diff.append(get_time_diff(row))    \n",
    "        \n",
    "        return time_diff"
   ]
  },
  {
   "cell_type": "code",
   "execution_count": 14,
   "metadata": {
    "execution": {
     "iopub.execute_input": "2021-08-19T19:25:07.565102Z",
     "iopub.status.busy": "2021-08-19T19:25:07.564188Z",
     "iopub.status.idle": "2021-08-19T19:25:36.375893Z",
     "shell.execute_reply": "2021-08-19T19:25:36.374911Z",
     "shell.execute_reply.started": "2021-08-19T19:25:07.565056Z"
    }
   },
   "outputs": [
    {
     "name": "stdout",
     "output_type": "stream",
     "text": [
      "CPU times: user 28.7 s, sys: 99.7 ms, total: 28.8 s\n",
      "Wall time: 28.8 s\n"
     ]
    },
    {
     "data": {
      "text/html": [
       "<div>\n",
       "<style scoped>\n",
       "    .dataframe tbody tr th:only-of-type {\n",
       "        vertical-align: middle;\n",
       "    }\n",
       "\n",
       "    .dataframe tbody tr th {\n",
       "        vertical-align: top;\n",
       "    }\n",
       "\n",
       "    .dataframe thead th {\n",
       "        text-align: right;\n",
       "    }\n",
       "</style>\n",
       "<table border=\"1\" class=\"dataframe\">\n",
       "  <thead>\n",
       "    <tr style=\"text-align: right;\">\n",
       "      <th></th>\n",
       "      <th>time_diff_1</th>\n",
       "      <th>time_diff_2</th>\n",
       "      <th>time_diff_3</th>\n",
       "      <th>time_diff_4</th>\n",
       "      <th>time_diff_5</th>\n",
       "      <th>time_diff_6</th>\n",
       "      <th>time_diff_7</th>\n",
       "      <th>time_diff_8</th>\n",
       "      <th>time_diff_9</th>\n",
       "    </tr>\n",
       "    <tr>\n",
       "      <th>session_id</th>\n",
       "      <th></th>\n",
       "      <th></th>\n",
       "      <th></th>\n",
       "      <th></th>\n",
       "      <th></th>\n",
       "      <th></th>\n",
       "      <th></th>\n",
       "      <th></th>\n",
       "      <th></th>\n",
       "    </tr>\n",
       "  </thead>\n",
       "  <tbody>\n",
       "    <tr>\n",
       "      <th>21669</th>\n",
       "      <td>0.0</td>\n",
       "      <td>0.0</td>\n",
       "      <td>0.0</td>\n",
       "      <td>0.0</td>\n",
       "      <td>0.0</td>\n",
       "      <td>0.0</td>\n",
       "      <td>0.0</td>\n",
       "      <td>0.0</td>\n",
       "      <td>0.0</td>\n",
       "    </tr>\n",
       "    <tr>\n",
       "      <th>54843</th>\n",
       "      <td>0.0</td>\n",
       "      <td>1784.0</td>\n",
       "      <td>2.0</td>\n",
       "      <td>0.0</td>\n",
       "      <td>0.0</td>\n",
       "      <td>0.0</td>\n",
       "      <td>0.0</td>\n",
       "      <td>0.0</td>\n",
       "      <td>0.0</td>\n",
       "    </tr>\n",
       "    <tr>\n",
       "      <th>77292</th>\n",
       "      <td>1.0</td>\n",
       "      <td>1.0</td>\n",
       "      <td>0.0</td>\n",
       "      <td>1.0</td>\n",
       "      <td>0.0</td>\n",
       "      <td>0.0</td>\n",
       "      <td>0.0</td>\n",
       "      <td>1.0</td>\n",
       "      <td>0.0</td>\n",
       "    </tr>\n",
       "    <tr>\n",
       "      <th>114021</th>\n",
       "      <td>0.0</td>\n",
       "      <td>1.0</td>\n",
       "      <td>0.0</td>\n",
       "      <td>0.0</td>\n",
       "      <td>0.0</td>\n",
       "      <td>1.0</td>\n",
       "      <td>0.0</td>\n",
       "      <td>0.0</td>\n",
       "      <td>1.0</td>\n",
       "    </tr>\n",
       "    <tr>\n",
       "      <th>146670</th>\n",
       "      <td>0.0</td>\n",
       "      <td>0.0</td>\n",
       "      <td>1.0</td>\n",
       "      <td>0.0</td>\n",
       "      <td>0.0</td>\n",
       "      <td>0.0</td>\n",
       "      <td>1.0</td>\n",
       "      <td>0.0</td>\n",
       "      <td>0.0</td>\n",
       "    </tr>\n",
       "    <tr>\n",
       "      <th>...</th>\n",
       "      <td>...</td>\n",
       "      <td>...</td>\n",
       "      <td>...</td>\n",
       "      <td>...</td>\n",
       "      <td>...</td>\n",
       "      <td>...</td>\n",
       "      <td>...</td>\n",
       "      <td>...</td>\n",
       "      <td>...</td>\n",
       "    </tr>\n",
       "    <tr>\n",
       "      <th>12224</th>\n",
       "      <td>1.0</td>\n",
       "      <td>3.0</td>\n",
       "      <td>0.0</td>\n",
       "      <td>1.0</td>\n",
       "      <td>0.0</td>\n",
       "      <td>1.0</td>\n",
       "      <td>0.0</td>\n",
       "      <td>3.0</td>\n",
       "      <td>3.0</td>\n",
       "    </tr>\n",
       "    <tr>\n",
       "      <th>164438</th>\n",
       "      <td>1.0</td>\n",
       "      <td>1.0</td>\n",
       "      <td>1.0</td>\n",
       "      <td>0.0</td>\n",
       "      <td>58.0</td>\n",
       "      <td>13.0</td>\n",
       "      <td>43.0</td>\n",
       "      <td>30.0</td>\n",
       "      <td>31.0</td>\n",
       "    </tr>\n",
       "    <tr>\n",
       "      <th>12221</th>\n",
       "      <td>2.0</td>\n",
       "      <td>3.0</td>\n",
       "      <td>5.0</td>\n",
       "      <td>4.0</td>\n",
       "      <td>2.0</td>\n",
       "      <td>11.0</td>\n",
       "      <td>0.0</td>\n",
       "      <td>0.0</td>\n",
       "      <td>1.0</td>\n",
       "    </tr>\n",
       "    <tr>\n",
       "      <th>156968</th>\n",
       "      <td>0.0</td>\n",
       "      <td>2.0</td>\n",
       "      <td>0.0</td>\n",
       "      <td>1.0</td>\n",
       "      <td>1.0</td>\n",
       "      <td>0.0</td>\n",
       "      <td>27.0</td>\n",
       "      <td>1.0</td>\n",
       "      <td>45.0</td>\n",
       "    </tr>\n",
       "    <tr>\n",
       "      <th>204762</th>\n",
       "      <td>6.0</td>\n",
       "      <td>1.0</td>\n",
       "      <td>5.0</td>\n",
       "      <td>0.0</td>\n",
       "      <td>0.0</td>\n",
       "      <td>0.0</td>\n",
       "      <td>0.0</td>\n",
       "      <td>0.0</td>\n",
       "      <td>0.0</td>\n",
       "    </tr>\n",
       "  </tbody>\n",
       "</table>\n",
       "<p>253561 rows × 9 columns</p>\n",
       "</div>"
      ],
      "text/plain": [
       "            time_diff_1  time_diff_2  time_diff_3  time_diff_4  time_diff_5  \\\n",
       "session_id                                                                    \n",
       "21669               0.0          0.0          0.0          0.0          0.0   \n",
       "54843               0.0       1784.0          2.0          0.0          0.0   \n",
       "77292               1.0          1.0          0.0          1.0          0.0   \n",
       "114021              0.0          1.0          0.0          0.0          0.0   \n",
       "146670              0.0          0.0          1.0          0.0          0.0   \n",
       "...                 ...          ...          ...          ...          ...   \n",
       "12224               1.0          3.0          0.0          1.0          0.0   \n",
       "164438              1.0          1.0          1.0          0.0         58.0   \n",
       "12221               2.0          3.0          5.0          4.0          2.0   \n",
       "156968              0.0          2.0          0.0          1.0          1.0   \n",
       "204762              6.0          1.0          5.0          0.0          0.0   \n",
       "\n",
       "            time_diff_6  time_diff_7  time_diff_8  time_diff_9  \n",
       "session_id                                                      \n",
       "21669               0.0          0.0          0.0          0.0  \n",
       "54843               0.0          0.0          0.0          0.0  \n",
       "77292               0.0          0.0          1.0          0.0  \n",
       "114021              1.0          0.0          0.0          1.0  \n",
       "146670              0.0          1.0          0.0          0.0  \n",
       "...                 ...          ...          ...          ...  \n",
       "12224               1.0          0.0          3.0          3.0  \n",
       "164438             13.0         43.0         30.0         31.0  \n",
       "12221              11.0          0.0          0.0          1.0  \n",
       "156968              0.0         27.0          1.0         45.0  \n",
       "204762              0.0          0.0          0.0          0.0  \n",
       "\n",
       "[253561 rows x 9 columns]"
      ]
     },
     "execution_count": 14,
     "metadata": {},
     "output_type": "execute_result"
    }
   ],
   "source": [
    "%%time\n",
    "time_diffs_features_pipeline = Pipeline([\n",
    "    (\"times_adder\", TimeDiffsFeaturesAdder()),\n",
    "#     (\"scaler\", StandardScaler())\n",
    "])\n",
    "\n",
    "time_diffs_train = time_diffs_features_pipeline.fit_transform(df_train)\n",
    "diff_names = [f'time_diff_{i}' for i in range(1, 10)]\n",
    "time_diffs_train = pd.DataFrame(time_diffs_train, columns=diff_names, index=df_train.index)\n",
    "time_diffs_train"
   ]
  },
  {
   "cell_type": "code",
   "execution_count": null,
   "metadata": {
    "execution": {
     "iopub.execute_input": "2021-08-12T17:04:54.266203Z",
     "iopub.status.busy": "2021-08-12T17:04:54.265687Z",
     "iopub.status.idle": "2021-08-12T17:04:54.274086Z",
     "shell.execute_reply": "2021-08-12T17:04:54.273361Z",
     "shell.execute_reply.started": "2021-08-12T17:04:54.266137Z"
    }
   },
   "outputs": [],
   "source": [
    "# class ScaledAttributesAdder(BaseEstimator, TransformerMixin):\n",
    "#     \"\"\"\n",
    "#     Add new features, that should be scaled.\n",
    "#     \"\"\"\n",
    "#     def fit(self, X, y=None):\n",
    "#         return self\n",
    "    \n",
    "#     def transform(self, X, y=None):\n",
    "#         # session time features\n",
    "#         times = ['time%s' % i for i in range(1, 11)]\n",
    "#         sites = ['site%s' % i for i in range(1, 11)]\n",
    "        \n",
    "#         # session duration: take to the power of 1/5 to normalize the distribution\n",
    "#         session_duration = (X[times].max(axis=1) - X[times].min(axis=1)).astype('timedelta64[ms]').astype(int) #** 0.2\n",
    "        \n",
    "#         # number of sites visited in a session\n",
    "#         number_of_sites = X[times].isnull().sum(axis=1).apply(lambda x: 10 - x)\n",
    "        \n",
    "#         # average time spent on one site during a session\n",
    "#         time_per_site = (session_duration / number_of_sites) #** 0.2\n",
    "        \n",
    "# #         unique_sites = X[sites].apply(lambda sites: sites.nunique(), axis=1)\n",
    "        \n",
    "#         X = np.c_[session_duration.values]\n",
    "#         return X"
   ]
  },
  {
   "cell_type": "code",
   "execution_count": null,
   "metadata": {
    "execution": {
     "iopub.execute_input": "2021-08-12T17:13:12.640156Z",
     "iopub.status.busy": "2021-08-12T17:13:12.638015Z",
     "iopub.status.idle": "2021-08-12T17:13:12.655557Z",
     "shell.execute_reply": "2021-08-12T17:13:12.654739Z",
     "shell.execute_reply.started": "2021-08-12T17:13:12.640112Z"
    }
   },
   "outputs": [],
   "source": [
    "# feature_pipeline = FeatureUnion(transformer_list=[\n",
    "#     ('attributes_pipeline', attributes_pipeline),\n",
    "#     ('scaled_attributes_pipeline', scaled_attributes_pipeline)\n",
    "# ])"
   ]
  },
  {
   "cell_type": "markdown",
   "metadata": {},
   "source": [
    "### Feature selection"
   ]
  },
  {
   "cell_type": "code",
   "execution_count": 13,
   "metadata": {
    "execution": {
     "iopub.execute_input": "2021-08-19T19:25:36.377920Z",
     "iopub.status.busy": "2021-08-19T19:25:36.377360Z",
     "iopub.status.idle": "2021-08-19T19:25:36.382463Z",
     "shell.execute_reply": "2021-08-19T19:25:36.381320Z",
     "shell.execute_reply.started": "2021-08-19T19:25:36.377878Z"
    }
   },
   "outputs": [],
   "source": [
    "from scipy.sparse import hstack"
   ]
  },
  {
   "cell_type": "code",
   "execution_count": 14,
   "metadata": {
    "execution": {
     "iopub.execute_input": "2021-08-19T19:25:36.383967Z",
     "iopub.status.busy": "2021-08-19T19:25:36.383687Z",
     "iopub.status.idle": "2021-08-19T19:25:36.395039Z",
     "shell.execute_reply": "2021-08-19T19:25:36.394162Z",
     "shell.execute_reply.started": "2021-08-19T19:25:36.383940Z"
    }
   },
   "outputs": [
    {
     "name": "stdout",
     "output_type": "stream",
     "text": [
      "['hour', 'morning', 'day', 'evening', 'sin_hour', 'cos_hour', 'minutes', 'hour_minutes', 'month', 'year', 'year_month', 'summer', 'weekday', 'weekend', 'session_duration', 7, 8, 9, 10, 11, 12, 13, 14, 15, 16, 17, 18, 19, 20, 21, 22, 23, 'Monday', 'Tuesday', 'Wednesday', 'Thursday', 'Friday', 'Saturday', 'Sunday']\n"
     ]
    }
   ],
   "source": [
    "print(all_time_features)"
   ]
  },
  {
   "cell_type": "code",
   "execution_count": 15,
   "metadata": {
    "execution": {
     "iopub.execute_input": "2021-08-19T19:25:36.397672Z",
     "iopub.status.busy": "2021-08-19T19:25:36.397172Z",
     "iopub.status.idle": "2021-08-19T19:25:36.409996Z",
     "shell.execute_reply": "2021-08-19T19:25:36.408778Z",
     "shell.execute_reply.started": "2021-08-19T19:25:36.397632Z"
    }
   },
   "outputs": [
    {
     "name": "stdout",
     "output_type": "stream",
     "text": [
      "['n_unique', '1_unique', '2_unique', '3_unique', '4_unique', '5_unique', '6_unique', '7_unique', '8_unique', '9_unique', '10_unique']\n"
     ]
    }
   ],
   "source": [
    "print(all_site_features)"
   ]
  },
  {
   "cell_type": "code",
   "execution_count": 16,
   "metadata": {
    "execution": {
     "iopub.execute_input": "2021-08-19T19:25:36.411678Z",
     "iopub.status.busy": "2021-08-19T19:25:36.411401Z",
     "iopub.status.idle": "2021-08-19T19:25:36.422847Z",
     "shell.execute_reply": "2021-08-19T19:25:36.421886Z",
     "shell.execute_reply.started": "2021-08-19T19:25:36.411652Z"
    }
   },
   "outputs": [
    {
     "data": {
      "text/plain": [
       "['Monday', 'Tuesday', 'Wednesday', 'Thursday', 'Friday', 'Saturday', 'Sunday']"
      ]
     },
     "execution_count": 16,
     "metadata": {},
     "output_type": "execute_result"
    }
   ],
   "source": [
    "list(calendar.day_name)"
   ]
  },
  {
   "cell_type": "markdown",
   "metadata": {},
   "source": [
    "##############################################################"
   ]
  },
  {
   "cell_type": "code",
   "execution_count": 38,
   "metadata": {
    "execution": {
     "iopub.execute_input": "2021-08-19T20:23:59.916130Z",
     "iopub.status.busy": "2021-08-19T20:23:59.915575Z",
     "iopub.status.idle": "2021-08-19T20:24:00.090431Z",
     "shell.execute_reply": "2021-08-19T20:24:00.089269Z",
     "shell.execute_reply.started": "2021-08-19T20:23:59.916080Z"
    }
   },
   "outputs": [
    {
     "data": {
      "text/plain": [
       "<253561x20010 sparse matrix of type '<class 'numpy.float64'>'\n",
       "\twith 5033860 stored elements in COOrdinate format>"
      ]
     },
     "execution_count": 38,
     "metadata": {},
     "output_type": "execute_result"
    }
   ],
   "source": [
    "selected_time_features = ['morning', 'day', 'evening', 14, 15, 'year', 'Monday', 'Sunday', 'session_duration']\n",
    "selected_site_features = ['7_unique']\n",
    "\n",
    "X_train = hstack([sites_train_vectorized, times_train[selected_time_features], sites_train[selected_site_features]]) # time_diffs_train[['time_diff_1', 'time_diff_2']]\n",
    "X_train"
   ]
  },
  {
   "cell_type": "markdown",
   "metadata": {},
   "source": [
    "Ideas:\n",
    "   1. balance\n",
    "   2. -2013\n",
    "   3. gridsearch"
   ]
  },
  {
   "cell_type": "markdown",
   "metadata": {},
   "source": [
    "##############################################################"
   ]
  },
  {
   "cell_type": "markdown",
   "metadata": {
    "id": "hsXfmxYHevpX"
   },
   "source": [
    "### Модель"
   ]
  },
  {
   "cell_type": "code",
   "execution_count": 21,
   "metadata": {
    "execution": {
     "iopub.execute_input": "2021-08-19T19:25:36.619140Z",
     "iopub.status.busy": "2021-08-19T19:25:36.618718Z",
     "iopub.status.idle": "2021-08-19T19:25:36.748462Z",
     "shell.execute_reply": "2021-08-19T19:25:36.747662Z",
     "shell.execute_reply.started": "2021-08-19T19:25:36.619110Z"
    }
   },
   "outputs": [],
   "source": [
    "from sklearn.model_selection import cross_val_score, TimeSeriesSplit\n",
    "from sklearn.linear_model import SGDClassifier, LogisticRegression\n",
    "from sklearn.metrics import roc_auc_score\n",
    "from sklearn.model_selection import GridSearchCV"
   ]
  },
  {
   "cell_type": "markdown",
   "metadata": {},
   "source": [
    "#### Обучение и подбор гиперпараметров"
   ]
  },
  {
   "cell_type": "code",
   "execution_count": 53,
   "metadata": {
    "execution": {
     "iopub.execute_input": "2021-08-19T19:25:36.750024Z",
     "iopub.status.busy": "2021-08-19T19:25:36.749584Z",
     "iopub.status.idle": "2021-08-19T19:25:36.753936Z",
     "shell.execute_reply": "2021-08-19T19:25:36.753191Z",
     "shell.execute_reply.started": "2021-08-19T19:25:36.749994Z"
    }
   },
   "outputs": [],
   "source": [
    "model = SGDClassifier(loss='log', random_state=2179, n_jobs=-1)  # class_weight='balanced'\n",
    "time_split = TimeSeriesSplit(n_splits=10)"
   ]
  },
  {
   "cell_type": "code",
   "execution_count": 52,
   "metadata": {
    "execution": {
     "iopub.execute_input": "2021-08-18T19:19:09.189266Z",
     "iopub.status.busy": "2021-08-18T19:19:09.188805Z",
     "iopub.status.idle": "2021-08-18T19:19:09.19198Z",
     "shell.execute_reply": "2021-08-18T19:19:09.191273Z",
     "shell.execute_reply.started": "2021-08-18T19:19:09.189235Z"
    }
   },
   "outputs": [],
   "source": [
    "grid = {\n",
    "    'penalty': ['l2', 'l1'],\n",
    "    'alpha': np.linspace(3e-05, 5e-05, 11)\n",
    "}"
   ]
  },
  {
   "cell_type": "code",
   "execution_count": 54,
   "metadata": {
    "execution": {
     "iopub.execute_input": "2021-08-18T15:24:03.082149Z",
     "iopub.status.busy": "2021-08-18T15:24:03.081792Z",
     "iopub.status.idle": "2021-08-18T15:24:03.086373Z",
     "shell.execute_reply": "2021-08-18T15:24:03.085371Z",
     "shell.execute_reply.started": "2021-08-18T15:24:03.082114Z"
    },
    "scrolled": true
   },
   "outputs": [
    {
     "name": "stdout",
     "output_type": "stream",
     "text": [
      "CPU times: user 8min 13s, sys: 6.5 s, total: 8min 20s\n",
      "Wall time: 2min 44s\n"
     ]
    },
    {
     "data": {
      "text/plain": [
       "GridSearchCV(cv=TimeSeriesSplit(gap=0, max_train_size=None, n_splits=10, test_size=None),\n",
       "             estimator=SGDClassifier(loss='log', n_jobs=-1, random_state=2179),\n",
       "             param_grid={'alpha': array([3.0e-05, 3.2e-05, 3.4e-05, 3.6e-05, 3.8e-05, 4.0e-05, 4.2e-05,\n",
       "       4.4e-05, 4.6e-05, 4.8e-05, 5.0e-05]),\n",
       "                         'penalty': ['l2', 'l1']},\n",
       "             scoring='roc_auc')"
      ]
     },
     "execution_count": 54,
     "metadata": {},
     "output_type": "execute_result"
    }
   ],
   "source": [
    "%%time\n",
    "\n",
    "search = GridSearchCV(model, param_grid=grid, cv=time_split, scoring='roc_auc')\n",
    "search.fit(X_train, y_train)"
   ]
  },
  {
   "cell_type": "code",
   "execution_count": 55,
   "metadata": {
    "execution": {
     "iopub.execute_input": "2021-08-18T15:24:03.930194Z",
     "iopub.status.busy": "2021-08-18T15:24:03.929788Z",
     "iopub.status.idle": "2021-08-18T15:24:03.934678Z",
     "shell.execute_reply": "2021-08-18T15:24:03.933949Z",
     "shell.execute_reply.started": "2021-08-18T15:24:03.930163Z"
    },
    "scrolled": true
   },
   "outputs": [
    {
     "data": {
      "text/plain": [
       "({'alpha': 3.6e-05, 'penalty': 'l2'}, 0.9375190037899295)"
      ]
     },
     "execution_count": 55,
     "metadata": {},
     "output_type": "execute_result"
    }
   ],
   "source": [
    "search.best_params_, search.best_score_"
   ]
  },
  {
   "cell_type": "markdown",
   "metadata": {},
   "source": [
    "##############################################################"
   ]
  },
  {
   "cell_type": "code",
   "execution_count": 47,
   "metadata": {
    "execution": {
     "iopub.execute_input": "2021-08-19T20:24:04.120986Z",
     "iopub.status.busy": "2021-08-19T20:24:04.120611Z",
     "iopub.status.idle": "2021-08-19T20:24:06.246224Z",
     "shell.execute_reply": "2021-08-19T20:24:06.245365Z",
     "shell.execute_reply.started": "2021-08-19T20:24:04.120952Z"
    }
   },
   "outputs": [
    {
     "name": "stdout",
     "output_type": "stream",
     "text": [
      "0.9144307686524599 0.05412776341302003\n",
      "CPU times: user 276 ms, sys: 532 ms, total: 807 ms\n",
      "Wall time: 5.13 s\n"
     ]
    },
    {
     "data": {
      "text/plain": [
       "array([0.88832573, 0.80633276, 0.94643213, 0.94903825, 0.92377097,\n",
       "       0.95243378, 0.82056727, 0.94863981, 0.95276992, 0.95599706])"
      ]
     },
     "execution_count": 47,
     "metadata": {},
     "output_type": "execute_result"
    }
   ],
   "source": [
    "%%time\n",
    "\n",
    "cv_scores = cross_val_score(model, X_train, y_train, cv=time_split, scoring='roc_auc', n_jobs=-1)\n",
    "print(cv_scores.mean(), cv_scores.std())\n",
    "cv_scores"
   ]
  },
  {
   "cell_type": "markdown",
   "metadata": {},
   "source": [
    "##############################################################"
   ]
  },
  {
   "cell_type": "markdown",
   "metadata": {},
   "source": [
    "Опции:\n",
    "\n",
    "- CountVectorizer ngram_range max_features\n",
    "    - (1, 1)\n",
    "        - max-k: 0.8530563468012738, 0.08925871896536618\n",
    "        - 20000: 0.8531100483866421, 0.08919480787349321\n",
    "        - 10000: 0.8539501616208991, 0.08875887000416063\n",
    "        - 5000: 0.8529069996789713, 0.08888832394047236\n",
    "    - (1, 2)\n",
    "        - max-k: 0.8577666221636842, 0.09371826647019514\n",
    "        - 50000: 0.858414628277273, 0.09308624515067462\n",
    "        - 20000: 0.8600043484189314, 0.0901820258132247\n",
    "        - 10000: 0.8565645409290898, 0.09086786443064755\n",
    "    - (1, 3)\n",
    "        - max-k: 0.8560039171386127, 0.09631952839070929\n",
    "        - 50000: 0.859467798898789, 0.09245656399159023\n",
    "        - 20000: 0.8598701871410264 0.09139402713364686\n",
    "        - 10000: 0.8560423530991228 0.09031323488865993\n",
    "    - (1, 4)\n",
    "        - max-k: 0.8533973079027204 0.10052454183974614\n",
    "        - 20000: 0.8455330939583249 0.08401555400318593\n",
    "    - (1, 9)\n",
    "        - 70000: .8604293420872524 0.09704219048563271\n",
    "    - (1, 10)\n",
    "        - 20000: 0.8419623744960409 0.0864989715893941\n",
    "        - 50000: 0.859496836616332 0.09749267442904218\n",
    "        - 70000: 0.8604687084516304 0.0970295359566777\n",
    "        - 100000: 0.8596446298744558 0.09781978585361331\n",
    "- TfidfVectorizer ngram_range max_features\n",
    "    - (1, 1)\n",
    "        - max-k: 0.8391530980059445, 0.08120401396593267\n",
    "        - 20000: 0.8399308212634944 0.08111430205756767\n",
    "    - (1, 2)\n",
    "        - max-k: 0.8294502665752119, 0.08421253009084147\n",
    "        - 20000: 0.8398228277779543 0.07824510376730294\n",
    "    - (1, 3)\n",
    "        - max-k: 0.8230380243367905, 0.08660127058036823\n",
    "    - (1, 10):\n",
    "        - 70000: 0.8359176499242273 0.08504483506085675\n",
    "        \n",
    "Выбираем CountVectorizer(ngram_range=(1, 2), max_features=20000)"
   ]
  },
  {
   "cell_type": "markdown",
   "metadata": {},
   "source": [
    "### Тест"
   ]
  },
  {
   "cell_type": "code",
   "execution_count": 40,
   "metadata": {
    "execution": {
     "iopub.execute_input": "2021-08-19T19:27:08.918831Z",
     "iopub.status.busy": "2021-08-19T19:27:08.918445Z",
     "iopub.status.idle": "2021-08-19T19:27:08.925649Z",
     "shell.execute_reply": "2021-08-19T19:27:08.924082Z",
     "shell.execute_reply.started": "2021-08-19T19:27:08.918797Z"
    }
   },
   "outputs": [],
   "source": [
    "# import eli5\n",
    "# import calendar\n",
    "\n",
    "def write_to_submission_file(predicted_labels, out_file,\n",
    "                             target='target', index_label=\"session_id\"):\n",
    "    # turn predictions into data frame and save as csv file\n",
    "    predicted_df = pd.DataFrame(predicted_labels,\n",
    "                               \n",
    "                                index = np.arange(1, predicted_labels.shape[0] + 1),\n",
    "                                columns=[target])\n",
    "    predicted_df.to_csv(out_file, index_label=index_label)"
   ]
  },
  {
   "cell_type": "code",
   "execution_count": 41,
   "metadata": {
    "execution": {
     "iopub.execute_input": "2021-08-19T20:24:31.259562Z",
     "iopub.status.busy": "2021-08-19T20:24:31.259144Z",
     "iopub.status.idle": "2021-08-19T20:24:50.860145Z",
     "shell.execute_reply": "2021-08-19T20:24:50.859016Z",
     "shell.execute_reply.started": "2021-08-19T20:24:31.259527Z"
    },
    "scrolled": true
   },
   "outputs": [
    {
     "name": "stdout",
     "output_type": "stream",
     "text": [
      "CPU times: user 29.8 s, sys: 1.04 s, total: 30.8 s\n",
      "Wall time: 29.2 s\n"
     ]
    },
    {
     "data": {
      "text/plain": [
       "<82797x20010 sparse matrix of type '<class 'numpy.float64'>'\n",
       "\twith 1581595 stored elements in COOrdinate format>"
      ]
     },
     "execution_count": 41,
     "metadata": {},
     "output_type": "execute_result"
    }
   ],
   "source": [
    "%%time\n",
    "\n",
    "sites_test_vectorized = vectorizer_pipeline.transform(df_test)\n",
    "\n",
    "sites_test = site_features_pipeline.transform(df_test)\n",
    "sites_test = pd.DataFrame(sites_test, columns=all_site_features)\n",
    "\n",
    "times_test = time_features_pipeline.transform(df_test)\n",
    "times_test = pd.DataFrame(times_test, columns=all_time_features)\n",
    "\n",
    "X_test = hstack([sites_test_vectorized, times_test[selected_time_features], sites_test[selected_site_features]])\n",
    "X_test"
   ]
  },
  {
   "cell_type": "code",
   "execution_count": 56,
   "metadata": {
    "execution": {
     "iopub.execute_input": "2021-08-19T19:34:55.251595Z",
     "iopub.status.busy": "2021-08-19T19:34:55.251185Z",
     "iopub.status.idle": "2021-08-19T19:34:56.192264Z",
     "shell.execute_reply": "2021-08-19T19:34:56.191358Z",
     "shell.execute_reply.started": "2021-08-19T19:34:55.251553Z"
    },
    "id": "BO52aSbSevpd",
    "outputId": "14c50521-ed54-4ba0-9f1e-b7e3956970c6"
   },
   "outputs": [],
   "source": [
    "# search.best_estimator_.fit(X_train, y_train)\n",
    "# logit_test_pred_proba = search.best_estimator_.predict_proba(X_test)\n",
    "search.best_estimator_.fit(X_train, y_train)\n",
    "logit_test_pred_proba = search.best_estimator_.predict_proba(X_test)"
   ]
  },
  {
   "cell_type": "code",
   "execution_count": 49,
   "metadata": {},
   "outputs": [],
   "source": [
    "# pd.DataFrame({'feature': feature_names, 'coef': search.best_estimator_.coef_.flatten()[-len(feature_names):]})"
   ]
  },
  {
   "cell_type": "code",
   "execution_count": 50,
   "metadata": {},
   "outputs": [],
   "source": [
    "# eli5.show_weights(estimator=search.best_estimator_, feature_names=vectorizer_pipeline['vectorizer'].get_feature_names() \\\n",
    "#                   + feature_names, top=30)"
   ]
  },
  {
   "cell_type": "code",
   "execution_count": 57,
   "metadata": {
    "execution": {
     "iopub.execute_input": "2021-08-19T19:35:05.655478Z",
     "iopub.status.busy": "2021-08-19T19:35:05.655091Z",
     "iopub.status.idle": "2021-08-19T19:35:06.011755Z",
     "shell.execute_reply": "2021-08-19T19:35:06.010734Z",
     "shell.execute_reply.started": "2021-08-19T19:35:05.655437Z"
    },
    "id": "OdBll-mpevpf"
   },
   "outputs": [],
   "source": [
    "write_to_submission_file(logit_test_pred_proba[:, 1], 'result.csv')"
   ]
  },
  {
   "cell_type": "code",
   "execution_count": null,
   "metadata": {},
   "outputs": [],
   "source": []
  }
 ],
 "metadata": {
  "kernelspec": {
   "display_name": "Python 3",
   "language": "python",
   "name": "python3"
  },
  "language_info": {
   "codemirror_mode": {
    "name": "ipython",
    "version": 3
   },
   "file_extension": ".py",
   "mimetype": "text/x-python",
   "name": "python",
   "nbconvert_exporter": "python",
   "pygments_lexer": "ipython3",
   "version": "3.8.8"
  }
 },
 "nbformat": 4,
 "nbformat_minor": 4
}
