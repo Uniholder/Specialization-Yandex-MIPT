{
 "cells": [
  {
   "cell_type": "code",
   "execution_count": null,
   "metadata": {
    "id": "vp53iRU4evo-"
   },
   "outputs": [],
   "source": [
    "# from scipy.sparse import csr_matrix"
   ]
  },
  {
   "cell_type": "markdown",
   "metadata": {},
   "source": [
    "### Входные данные"
   ]
  },
  {
   "cell_type": "markdown",
   "metadata": {},
   "source": [
    "#### Загрузка"
   ]
  },
  {
   "cell_type": "code",
   "execution_count": null,
   "metadata": {
    "id": "Wg8z9iJlhH8L"
   },
   "outputs": [],
   "source": [
    "# !unzip capstone_user_identification.zip"
   ]
  },
  {
   "cell_type": "code",
   "execution_count": 1,
   "metadata": {
    "execution": {
     "iopub.execute_input": "2021-08-16T17:59:26.184828Z",
     "iopub.status.busy": "2021-08-16T17:59:26.184356Z",
     "iopub.status.idle": "2021-08-16T17:59:26.189249Z",
     "shell.execute_reply": "2021-08-16T17:59:26.188302Z",
     "shell.execute_reply.started": "2021-08-16T17:59:26.184797Z"
    }
   },
   "outputs": [],
   "source": [
    "# from __future__ import division, print_function\n",
    "# отключим всякие предупреждения Anaconda\n",
    "import warnings\n",
    "warnings.filterwarnings('ignore')\n",
    "\n",
    "import os\n",
    "import pandas as pd\n",
    "import pickle"
   ]
  },
  {
   "cell_type": "code",
   "execution_count": 2,
   "metadata": {
    "execution": {
     "iopub.execute_input": "2021-08-16T17:59:26.556658Z",
     "iopub.status.busy": "2021-08-16T17:59:26.556299Z",
     "iopub.status.idle": "2021-08-16T17:59:31.332149Z",
     "shell.execute_reply": "2021-08-16T17:59:31.331458Z",
     "shell.execute_reply.started": "2021-08-16T17:59:26.556628Z"
    },
    "id": "CTCSeq9revpC"
   },
   "outputs": [
    {
     "data": {
      "text/plain": [
       "((253561, 21), (82797, 20))"
      ]
     },
     "execution_count": 2,
     "metadata": {},
     "output_type": "execute_result"
    }
   ],
   "source": [
    "PATH_TO_DATA = '../capstone_user_identification'\n",
    "# PATH_TO_DATA = '../input/catch-me-if-you-can-intruder-detection-through-webpage-session-tracking2'\n",
    "\n",
    "times = ['time%s' % i for i in range(1, 11)]\n",
    "sites = ['site%s' % i for i in range(1, 11)]\n",
    "df_train = pd.read_csv(os.path.join(PATH_TO_DATA, 'train_sessions.csv'), index_col='session_id', parse_dates=times)\n",
    "df_test = pd.read_csv(os.path.join(PATH_TO_DATA, 'test_sessions.csv'), index_col='session_id', parse_dates=times)\n",
    "df_train.shape, df_test.shape"
   ]
  },
  {
   "cell_type": "code",
   "execution_count": 3,
   "metadata": {
    "execution": {
     "iopub.execute_input": "2021-08-16T17:59:31.333603Z",
     "iopub.status.busy": "2021-08-16T17:59:31.333219Z",
     "iopub.status.idle": "2021-08-16T17:59:31.379692Z",
     "shell.execute_reply": "2021-08-16T17:59:31.378708Z",
     "shell.execute_reply.started": "2021-08-16T17:59:31.333575Z"
    }
   },
   "outputs": [
    {
     "data": {
      "text/html": [
       "<div>\n",
       "<style scoped>\n",
       "    .dataframe tbody tr th:only-of-type {\n",
       "        vertical-align: middle;\n",
       "    }\n",
       "\n",
       "    .dataframe tbody tr th {\n",
       "        vertical-align: top;\n",
       "    }\n",
       "\n",
       "    .dataframe thead th {\n",
       "        text-align: right;\n",
       "    }\n",
       "</style>\n",
       "<table border=\"1\" class=\"dataframe\">\n",
       "  <thead>\n",
       "    <tr style=\"text-align: right;\">\n",
       "      <th></th>\n",
       "      <th>site1</th>\n",
       "      <th>time1</th>\n",
       "      <th>site2</th>\n",
       "      <th>time2</th>\n",
       "      <th>site3</th>\n",
       "      <th>time3</th>\n",
       "      <th>site4</th>\n",
       "      <th>time4</th>\n",
       "      <th>site5</th>\n",
       "      <th>time5</th>\n",
       "      <th>...</th>\n",
       "      <th>time6</th>\n",
       "      <th>site7</th>\n",
       "      <th>time7</th>\n",
       "      <th>site8</th>\n",
       "      <th>time8</th>\n",
       "      <th>site9</th>\n",
       "      <th>time9</th>\n",
       "      <th>site10</th>\n",
       "      <th>time10</th>\n",
       "      <th>target</th>\n",
       "    </tr>\n",
       "    <tr>\n",
       "      <th>session_id</th>\n",
       "      <th></th>\n",
       "      <th></th>\n",
       "      <th></th>\n",
       "      <th></th>\n",
       "      <th></th>\n",
       "      <th></th>\n",
       "      <th></th>\n",
       "      <th></th>\n",
       "      <th></th>\n",
       "      <th></th>\n",
       "      <th></th>\n",
       "      <th></th>\n",
       "      <th></th>\n",
       "      <th></th>\n",
       "      <th></th>\n",
       "      <th></th>\n",
       "      <th></th>\n",
       "      <th></th>\n",
       "      <th></th>\n",
       "      <th></th>\n",
       "      <th></th>\n",
       "    </tr>\n",
       "  </thead>\n",
       "  <tbody>\n",
       "    <tr>\n",
       "      <th>1</th>\n",
       "      <td>718</td>\n",
       "      <td>2014-02-20 10:02:45</td>\n",
       "      <td>NaN</td>\n",
       "      <td>NaT</td>\n",
       "      <td>NaN</td>\n",
       "      <td>NaT</td>\n",
       "      <td>NaN</td>\n",
       "      <td>NaT</td>\n",
       "      <td>NaN</td>\n",
       "      <td>NaT</td>\n",
       "      <td>...</td>\n",
       "      <td>NaT</td>\n",
       "      <td>NaN</td>\n",
       "      <td>NaT</td>\n",
       "      <td>NaN</td>\n",
       "      <td>NaT</td>\n",
       "      <td>NaN</td>\n",
       "      <td>NaT</td>\n",
       "      <td>NaN</td>\n",
       "      <td>NaT</td>\n",
       "      <td>0</td>\n",
       "    </tr>\n",
       "    <tr>\n",
       "      <th>2</th>\n",
       "      <td>890</td>\n",
       "      <td>2014-02-22 11:19:50</td>\n",
       "      <td>941.0</td>\n",
       "      <td>2014-02-22 11:19:50</td>\n",
       "      <td>3847.0</td>\n",
       "      <td>2014-02-22 11:19:51</td>\n",
       "      <td>941.0</td>\n",
       "      <td>2014-02-22 11:19:51</td>\n",
       "      <td>942.0</td>\n",
       "      <td>2014-02-22 11:19:51</td>\n",
       "      <td>...</td>\n",
       "      <td>2014-02-22 11:19:51</td>\n",
       "      <td>3847.0</td>\n",
       "      <td>2014-02-22 11:19:52</td>\n",
       "      <td>3846.0</td>\n",
       "      <td>2014-02-22 11:19:52</td>\n",
       "      <td>1516.0</td>\n",
       "      <td>2014-02-22 11:20:15</td>\n",
       "      <td>1518.0</td>\n",
       "      <td>2014-02-22 11:20:16</td>\n",
       "      <td>0</td>\n",
       "    </tr>\n",
       "    <tr>\n",
       "      <th>3</th>\n",
       "      <td>14769</td>\n",
       "      <td>2013-12-16 16:40:17</td>\n",
       "      <td>39.0</td>\n",
       "      <td>2013-12-16 16:40:18</td>\n",
       "      <td>14768.0</td>\n",
       "      <td>2013-12-16 16:40:19</td>\n",
       "      <td>14769.0</td>\n",
       "      <td>2013-12-16 16:40:19</td>\n",
       "      <td>37.0</td>\n",
       "      <td>2013-12-16 16:40:19</td>\n",
       "      <td>...</td>\n",
       "      <td>2013-12-16 16:40:19</td>\n",
       "      <td>14768.0</td>\n",
       "      <td>2013-12-16 16:40:20</td>\n",
       "      <td>14768.0</td>\n",
       "      <td>2013-12-16 16:40:21</td>\n",
       "      <td>14768.0</td>\n",
       "      <td>2013-12-16 16:40:22</td>\n",
       "      <td>14768.0</td>\n",
       "      <td>2013-12-16 16:40:24</td>\n",
       "      <td>0</td>\n",
       "    </tr>\n",
       "    <tr>\n",
       "      <th>4</th>\n",
       "      <td>782</td>\n",
       "      <td>2014-03-28 10:52:12</td>\n",
       "      <td>782.0</td>\n",
       "      <td>2014-03-28 10:52:42</td>\n",
       "      <td>782.0</td>\n",
       "      <td>2014-03-28 10:53:12</td>\n",
       "      <td>782.0</td>\n",
       "      <td>2014-03-28 10:53:42</td>\n",
       "      <td>782.0</td>\n",
       "      <td>2014-03-28 10:54:12</td>\n",
       "      <td>...</td>\n",
       "      <td>2014-03-28 10:54:42</td>\n",
       "      <td>782.0</td>\n",
       "      <td>2014-03-28 10:55:12</td>\n",
       "      <td>782.0</td>\n",
       "      <td>2014-03-28 10:55:42</td>\n",
       "      <td>782.0</td>\n",
       "      <td>2014-03-28 10:56:12</td>\n",
       "      <td>782.0</td>\n",
       "      <td>2014-03-28 10:56:42</td>\n",
       "      <td>0</td>\n",
       "    </tr>\n",
       "    <tr>\n",
       "      <th>5</th>\n",
       "      <td>22</td>\n",
       "      <td>2014-02-28 10:53:05</td>\n",
       "      <td>177.0</td>\n",
       "      <td>2014-02-28 10:55:22</td>\n",
       "      <td>175.0</td>\n",
       "      <td>2014-02-28 10:55:22</td>\n",
       "      <td>178.0</td>\n",
       "      <td>2014-02-28 10:55:23</td>\n",
       "      <td>177.0</td>\n",
       "      <td>2014-02-28 10:55:23</td>\n",
       "      <td>...</td>\n",
       "      <td>2014-02-28 10:55:59</td>\n",
       "      <td>175.0</td>\n",
       "      <td>2014-02-28 10:55:59</td>\n",
       "      <td>177.0</td>\n",
       "      <td>2014-02-28 10:55:59</td>\n",
       "      <td>177.0</td>\n",
       "      <td>2014-02-28 10:57:06</td>\n",
       "      <td>178.0</td>\n",
       "      <td>2014-02-28 10:57:11</td>\n",
       "      <td>0</td>\n",
       "    </tr>\n",
       "  </tbody>\n",
       "</table>\n",
       "<p>5 rows × 21 columns</p>\n",
       "</div>"
      ],
      "text/plain": [
       "            site1               time1  site2               time2    site3  \\\n",
       "session_id                                                                  \n",
       "1             718 2014-02-20 10:02:45    NaN                 NaT      NaN   \n",
       "2             890 2014-02-22 11:19:50  941.0 2014-02-22 11:19:50   3847.0   \n",
       "3           14769 2013-12-16 16:40:17   39.0 2013-12-16 16:40:18  14768.0   \n",
       "4             782 2014-03-28 10:52:12  782.0 2014-03-28 10:52:42    782.0   \n",
       "5              22 2014-02-28 10:53:05  177.0 2014-02-28 10:55:22    175.0   \n",
       "\n",
       "                         time3    site4               time4  site5  \\\n",
       "session_id                                                           \n",
       "1                          NaT      NaN                 NaT    NaN   \n",
       "2          2014-02-22 11:19:51    941.0 2014-02-22 11:19:51  942.0   \n",
       "3          2013-12-16 16:40:19  14769.0 2013-12-16 16:40:19   37.0   \n",
       "4          2014-03-28 10:53:12    782.0 2014-03-28 10:53:42  782.0   \n",
       "5          2014-02-28 10:55:22    178.0 2014-02-28 10:55:23  177.0   \n",
       "\n",
       "                         time5  ...               time6    site7  \\\n",
       "session_id                      ...                                \n",
       "1                          NaT  ...                 NaT      NaN   \n",
       "2          2014-02-22 11:19:51  ... 2014-02-22 11:19:51   3847.0   \n",
       "3          2013-12-16 16:40:19  ... 2013-12-16 16:40:19  14768.0   \n",
       "4          2014-03-28 10:54:12  ... 2014-03-28 10:54:42    782.0   \n",
       "5          2014-02-28 10:55:23  ... 2014-02-28 10:55:59    175.0   \n",
       "\n",
       "                         time7    site8               time8    site9  \\\n",
       "session_id                                                             \n",
       "1                          NaT      NaN                 NaT      NaN   \n",
       "2          2014-02-22 11:19:52   3846.0 2014-02-22 11:19:52   1516.0   \n",
       "3          2013-12-16 16:40:20  14768.0 2013-12-16 16:40:21  14768.0   \n",
       "4          2014-03-28 10:55:12    782.0 2014-03-28 10:55:42    782.0   \n",
       "5          2014-02-28 10:55:59    177.0 2014-02-28 10:55:59    177.0   \n",
       "\n",
       "                         time9   site10              time10 target  \n",
       "session_id                                                          \n",
       "1                          NaT      NaN                 NaT      0  \n",
       "2          2014-02-22 11:20:15   1518.0 2014-02-22 11:20:16      0  \n",
       "3          2013-12-16 16:40:22  14768.0 2013-12-16 16:40:24      0  \n",
       "4          2014-03-28 10:56:12    782.0 2014-03-28 10:56:42      0  \n",
       "5          2014-02-28 10:57:06    178.0 2014-02-28 10:57:11      0  \n",
       "\n",
       "[5 rows x 21 columns]"
      ]
     },
     "execution_count": 3,
     "metadata": {},
     "output_type": "execute_result"
    }
   ],
   "source": [
    "df_train.head()"
   ]
  },
  {
   "cell_type": "code",
   "execution_count": 4,
   "metadata": {
    "execution": {
     "iopub.execute_input": "2021-08-16T17:59:31.382225Z",
     "iopub.status.busy": "2021-08-16T17:59:31.381716Z",
     "iopub.status.idle": "2021-08-16T17:59:31.414269Z",
     "shell.execute_reply": "2021-08-16T17:59:31.413079Z",
     "shell.execute_reply.started": "2021-08-16T17:59:31.382180Z"
    }
   },
   "outputs": [
    {
     "name": "stdout",
     "output_type": "stream",
     "text": [
      "<class 'pandas.core.frame.DataFrame'>\n",
      "Int64Index: 253561 entries, 1 to 253561\n",
      "Data columns (total 21 columns):\n",
      " #   Column  Non-Null Count   Dtype         \n",
      "---  ------  --------------   -----         \n",
      " 0   site1   253561 non-null  int64         \n",
      " 1   time1   253561 non-null  datetime64[ns]\n",
      " 2   site2   250098 non-null  float64       \n",
      " 3   time2   250098 non-null  datetime64[ns]\n",
      " 4   site3   246919 non-null  float64       \n",
      " 5   time3   246919 non-null  datetime64[ns]\n",
      " 6   site4   244321 non-null  float64       \n",
      " 7   time4   244321 non-null  datetime64[ns]\n",
      " 8   site5   241829 non-null  float64       \n",
      " 9   time5   241829 non-null  datetime64[ns]\n",
      " 10  site6   239495 non-null  float64       \n",
      " 11  time6   239495 non-null  datetime64[ns]\n",
      " 12  site7   237297 non-null  float64       \n",
      " 13  time7   237297 non-null  datetime64[ns]\n",
      " 14  site8   235224 non-null  float64       \n",
      " 15  time8   235224 non-null  datetime64[ns]\n",
      " 16  site9   233084 non-null  float64       \n",
      " 17  time9   233084 non-null  datetime64[ns]\n",
      " 18  site10  231052 non-null  float64       \n",
      " 19  time10  231052 non-null  datetime64[ns]\n",
      " 20  target  253561 non-null  int64         \n",
      "dtypes: datetime64[ns](10), float64(9), int64(2)\n",
      "memory usage: 42.6 MB\n"
     ]
    }
   ],
   "source": [
    "df_train.info()"
   ]
  },
  {
   "cell_type": "markdown",
   "metadata": {},
   "source": [
    "Словарь сайтов"
   ]
  },
  {
   "cell_type": "code",
   "execution_count": 5,
   "metadata": {
    "execution": {
     "iopub.execute_input": "2021-08-16T17:59:31.417706Z",
     "iopub.status.busy": "2021-08-16T17:59:31.417419Z",
     "iopub.status.idle": "2021-08-16T17:59:31.466678Z",
     "shell.execute_reply": "2021-08-16T17:59:31.465732Z",
     "shell.execute_reply.started": "2021-08-16T17:59:31.417677Z"
    }
   },
   "outputs": [],
   "source": [
    "with open(os.path.join(PATH_TO_DATA, 'site_dic.pkl'), 'rb') as f:\n",
    "    site2id  = pickle.load(f)\n",
    "id2site = {v:k for (k, v) in site2id.items()}\n",
    "id2site[0] = 'unknown'"
   ]
  },
  {
   "cell_type": "markdown",
   "metadata": {},
   "source": [
    "### Обработка"
   ]
  },
  {
   "cell_type": "code",
   "execution_count": 6,
   "metadata": {
    "execution": {
     "iopub.execute_input": "2021-08-16T17:59:31.468001Z",
     "iopub.status.busy": "2021-08-16T17:59:31.467703Z",
     "iopub.status.idle": "2021-08-16T17:59:31.473805Z",
     "shell.execute_reply": "2021-08-16T17:59:31.472840Z",
     "shell.execute_reply.started": "2021-08-16T17:59:31.467972Z"
    }
   },
   "outputs": [],
   "source": [
    "from sklearn.base import BaseEstimator, TransformerMixin\n",
    "from sklearn.pipeline import Pipeline\n",
    "from sklearn.pipeline import FeatureUnion\n",
    "from sklearn.feature_extraction.text import CountVectorizer, TfidfVectorizer\n",
    "from sklearn.preprocessing import StandardScaler\n",
    "\n",
    "import numpy as np"
   ]
  },
  {
   "cell_type": "code",
   "execution_count": 7,
   "metadata": {
    "execution": {
     "iopub.execute_input": "2021-08-16T17:59:31.475999Z",
     "iopub.status.busy": "2021-08-16T17:59:31.475545Z",
     "iopub.status.idle": "2021-08-16T17:59:31.564685Z",
     "shell.execute_reply": "2021-08-16T17:59:31.563763Z",
     "shell.execute_reply.started": "2021-08-16T17:59:31.475967Z"
    }
   },
   "outputs": [],
   "source": [
    "df_train.sort_values(by='time1', inplace=True)"
   ]
  },
  {
   "cell_type": "code",
   "execution_count": 8,
   "metadata": {
    "execution": {
     "iopub.execute_input": "2021-08-16T17:59:35.093903Z",
     "iopub.status.busy": "2021-08-16T17:59:35.093543Z",
     "iopub.status.idle": "2021-08-16T17:59:35.101330Z",
     "shell.execute_reply": "2021-08-16T17:59:35.099999Z",
     "shell.execute_reply.started": "2021-08-16T17:59:35.093872Z"
    }
   },
   "outputs": [],
   "source": [
    "class DataPreparator(BaseEstimator, TransformerMixin):\n",
    "    \"\"\"\n",
    "    Fill NaN with zero values;\n",
    "    No: Prepare a (Count)Vectorizer friendly 2D-list from data;\n",
    "    No: Site ids to names.\n",
    "    \"\"\"\n",
    "    def __init__(self, id2site):\n",
    "        super().__init__()\n",
    "        self.id2site = id2site\n",
    "    \n",
    "    def fit(self, X, y=None):\n",
    "        return self\n",
    "    \n",
    "    def transform(self, X, y=None):\n",
    "        sites = ['site%s' % i for i in range(1, 11)]\n",
    "        # Convert dataframe rows to strings\n",
    "        return X[sites].fillna(0).astype('int')#.apply(lambda row: ' '.join([self.id2site[i] for i in row]), axis=1).tolist()"
   ]
  },
  {
   "cell_type": "code",
   "execution_count": 9,
   "metadata": {
    "execution": {
     "iopub.execute_input": "2021-08-16T17:59:36.278019Z",
     "iopub.status.busy": "2021-08-16T17:59:36.277663Z",
     "iopub.status.idle": "2021-08-16T17:59:36.286131Z",
     "shell.execute_reply": "2021-08-16T17:59:36.284974Z",
     "shell.execute_reply.started": "2021-08-16T17:59:36.277987Z"
    }
   },
   "outputs": [],
   "source": [
    "class ListPreparator(BaseEstimator, TransformerMixin):\n",
    "    \"\"\"\n",
    "    Prepare a CountVectorizer friendly 2D-list from data.\n",
    "    \"\"\"\n",
    "    def fit(self, X, y=None):\n",
    "        return self\n",
    "    def transform(self, X, y=None):\n",
    "        X = X.values.tolist()\n",
    "        # Convert dataframe rows to strings\n",
    "        return [\" \".join([str(site) for site in row]) for row in X]"
   ]
  },
  {
   "cell_type": "code",
   "execution_count": 116,
   "metadata": {
    "execution": {
     "iopub.execute_input": "2021-08-16T17:59:36.655177Z",
     "iopub.status.busy": "2021-08-16T17:59:36.654760Z",
     "iopub.status.idle": "2021-08-16T17:59:36.660545Z",
     "shell.execute_reply": "2021-08-16T17:59:36.659806Z",
     "shell.execute_reply.started": "2021-08-16T17:59:36.655140Z"
    }
   },
   "outputs": [],
   "source": [
    "vectorizer_pipeline = Pipeline([\n",
    "    (\"preparator\", DataPreparator(id2site)),\n",
    "    (\"list_preparator\", ListPreparator()),\n",
    "    (\"vectorizer\", CountVectorizer(ngram_range=(1, 5), max_features=50000))  # tokenizer=lambda s: s.split()\n",
    "#     (\"vectorizer\", TfidfVectorizer(ngram_range=(1, 3)))\n",
    "])"
   ]
  },
  {
   "cell_type": "code",
   "execution_count": 117,
   "metadata": {
    "execution": {
     "iopub.execute_input": "2021-08-16T18:23:34.042090Z",
     "iopub.status.busy": "2021-08-16T18:23:34.041702Z",
     "iopub.status.idle": "2021-08-16T18:23:43.548318Z",
     "shell.execute_reply": "2021-08-16T18:23:43.547316Z",
     "shell.execute_reply.started": "2021-08-16T18:23:34.042054Z"
    }
   },
   "outputs": [
    {
     "name": "stdout",
     "output_type": "stream",
     "text": [
      "CPU times: user 23.1 s, sys: 1.06 s, total: 24.2 s\n",
      "Wall time: 24.2 s\n"
     ]
    },
    {
     "data": {
      "text/plain": [
       "<253561x50000 sparse matrix of type '<class 'numpy.int64'>'\n",
       "\twith 3854376 stored elements in Compressed Sparse Row format>"
      ]
     },
     "execution_count": 117,
     "metadata": {},
     "output_type": "execute_result"
    }
   ],
   "source": [
    "%%time\n",
    "X_train_vectorized = vectorizer_pipeline.fit_transform(df_train)\n",
    "X_train_vectorized"
   ]
  },
  {
   "cell_type": "code",
   "execution_count": 12,
   "metadata": {
    "execution": {
     "iopub.execute_input": "2021-08-16T17:59:46.443951Z",
     "iopub.status.busy": "2021-08-16T17:59:46.443652Z",
     "iopub.status.idle": "2021-08-16T17:59:46.449391Z",
     "shell.execute_reply": "2021-08-16T17:59:46.448096Z",
     "shell.execute_reply.started": "2021-08-16T17:59:46.443908Z"
    }
   },
   "outputs": [],
   "source": [
    "y_train = df_train[\"target\"].astype('int').values"
   ]
  },
  {
   "cell_type": "markdown",
   "metadata": {},
   "source": [
    "Опции:\n",
    "- CountVectorizer ngram_range max_features\n",
    "    - (1, 1)\n",
    "        - max-k: 0.8530563468012738, 0.08925871896536618\n",
    "    - (1, 2)\n",
    "        - max-k: 0.8577666221636842, 0.09371826647019514\n",
    "        - 50000: 0.858414628277273, 0.09308624515067462\n",
    "        - 20000: 0.8600043484189314, 0.0901820258132247\n",
    "    - (1, 3)\n",
    "        - max-k: 0.8560039171386127, 0.09631952839070929\n",
    "- TfidfVectorizer ngram_range max_features\n",
    "    - (1, 1)\n",
    "        - max-k: 0.8391530980059445, 0.08120401396593267\n",
    "    - (1, 2)\n",
    "        - max-k: 0.8294502665752119, 0.08421253009084147\n",
    "    - (1, 3)\n",
    "        - max-k: 0.8230380243367905, 0.08660127058036823"
   ]
  },
  {
   "cell_type": "markdown",
   "metadata": {},
   "source": [
    "Выбираем CountVectorizer(ngram_range=(1, 2), max_features=20000)"
   ]
  },
  {
   "cell_type": "markdown",
   "metadata": {},
   "source": [
    "### Feature engineering"
   ]
  },
  {
   "cell_type": "code",
   "execution_count": 13,
   "metadata": {
    "execution": {
     "iopub.execute_input": "2021-08-16T17:59:46.451473Z",
     "iopub.status.busy": "2021-08-16T17:59:46.451160Z",
     "iopub.status.idle": "2021-08-16T17:59:46.626182Z",
     "shell.execute_reply": "2021-08-16T17:59:46.625139Z",
     "shell.execute_reply.started": "2021-08-16T17:59:46.451442Z"
    }
   },
   "outputs": [],
   "source": [
    "from scipy.sparse import hstack\n",
    "import seaborn as sns\n",
    "from matplotlib import pyplot as plt\n",
    "sns.set()"
   ]
  },
  {
   "cell_type": "code",
   "execution_count": 14,
   "metadata": {
    "execution": {
     "iopub.execute_input": "2021-08-16T17:59:46.627772Z",
     "iopub.status.busy": "2021-08-16T17:59:46.627497Z",
     "iopub.status.idle": "2021-08-16T17:59:46.632658Z",
     "shell.execute_reply": "2021-08-16T17:59:46.631419Z",
     "shell.execute_reply.started": "2021-08-16T17:59:46.627745Z"
    }
   },
   "outputs": [],
   "source": [
    "feature_names = ['morning', 'day', 'evening', 'weekday', 'year', 'session_duration']\n",
    "# + list(calendar.day_name)"
   ]
  },
  {
   "cell_type": "markdown",
   "metadata": {},
   "source": [
    "Рассмотрим признаки:\n",
    "- Дата\n",
    "    - час начала сессии\n",
    "        - утро\n",
    "        - день\n",
    "        - вечер\n",
    "        - ночь\n",
    "        - циклические координаты (sin|cos часа)\n",
    "    - месяц\n",
    "        - сезон\n",
    "    - год\n",
    "        - год + месяц\n",
    "    - день\n",
    "        - выходной / будний\n",
    "        - dummies\n",
    "        - is_monday...\n",
    "    - длина сессии\n",
    "        - длина посещений каждого сайта\n",
    "- Сайт\n",
    "    - число уникальных сайтов в сессии (сколько повторов за сессию)\n",
    "    - факт посещения абсолютно уникальных сайтов\n",
    "    - факт посещения сайтов из топ-10 популярных сайтов\n",
    "    - посещение определённых сайтов (facebook итд)"
   ]
  },
  {
   "cell_type": "code",
   "execution_count": 15,
   "metadata": {
    "execution": {
     "iopub.execute_input": "2021-08-16T17:59:46.634475Z",
     "iopub.status.busy": "2021-08-16T17:59:46.634186Z",
     "iopub.status.idle": "2021-08-16T17:59:46.651119Z",
     "shell.execute_reply": "2021-08-16T17:59:46.650083Z",
     "shell.execute_reply.started": "2021-08-16T17:59:46.634448Z"
    }
   },
   "outputs": [],
   "source": [
    "time_features = pd.DataFrame()\n",
    "df_train_times = df_train[times]"
   ]
  },
  {
   "cell_type": "code",
   "execution_count": 16,
   "metadata": {
    "execution": {
     "iopub.execute_input": "2021-08-16T17:59:46.875666Z",
     "iopub.status.busy": "2021-08-16T17:59:46.875342Z",
     "iopub.status.idle": "2021-08-16T17:59:46.883054Z",
     "shell.execute_reply": "2021-08-16T17:59:46.881764Z",
     "shell.execute_reply.started": "2021-08-16T17:59:46.875637Z"
    }
   },
   "outputs": [],
   "source": [
    "def feature_hist(feature, df):\n",
    "    fig, (ax1, ax2) = plt.subplots(1, 2, figsize=(10, 5))\n",
    "    if df[feature].dtype in ['int', 'bool']:\n",
    "        sns.countplot(df[feature], ax=ax1)\n",
    "        sns.countplot(df[y_train == 1][feature], ax=ax2)\n",
    "    elif df[feature].dtype == 'float':\n",
    "        sns.histplot(df[feature], ax=ax1)\n",
    "        sns.histplot(df[y_train == 1][feature], ax=ax2)\n",
    "    ax1.set_title('All')\n",
    "    ax2.set_title('Target');"
   ]
  },
  {
   "cell_type": "markdown",
   "metadata": {},
   "source": [
    "#### Час"
   ]
  },
  {
   "cell_type": "code",
   "execution_count": 17,
   "metadata": {
    "execution": {
     "iopub.execute_input": "2021-08-16T17:59:54.411689Z",
     "iopub.status.busy": "2021-08-16T17:59:54.411278Z",
     "iopub.status.idle": "2021-08-16T17:59:56.143231Z",
     "shell.execute_reply": "2021-08-16T17:59:56.141749Z",
     "shell.execute_reply.started": "2021-08-16T17:59:54.411648Z"
    }
   },
   "outputs": [],
   "source": [
    "time_features['hour'] = df_train_times['time1'].apply(lambda ts: ts.hour)"
   ]
  },
  {
   "cell_type": "code",
   "execution_count": 18,
   "metadata": {
    "execution": {
     "iopub.execute_input": "2021-08-16T17:59:56.145257Z",
     "iopub.status.busy": "2021-08-16T17:59:56.144915Z",
     "iopub.status.idle": "2021-08-16T17:59:56.750903Z",
     "shell.execute_reply": "2021-08-16T17:59:56.749878Z",
     "shell.execute_reply.started": "2021-08-16T17:59:56.145225Z"
    }
   },
   "outputs": [
    {
     "data": {
      "image/png": "[encoded data removed]",
      "text/plain": [
       "<Figure size 720x360 with 2 Axes>"
      ]
     },
     "metadata": {},
     "output_type": "display_data"
    }
   ],
   "source": [
    "feature_hist('hour', time_features)"
   ]
  },
  {
   "cell_type": "code",
   "execution_count": 19,
   "metadata": {
    "execution": {
     "iopub.execute_input": "2021-08-16T18:45:50.477166Z",
     "iopub.status.busy": "2021-08-16T18:45:50.476657Z",
     "iopub.status.idle": "2021-08-16T18:45:50.481397Z",
     "shell.execute_reply": "2021-08-16T18:45:50.479977Z",
     "shell.execute_reply.started": "2021-08-16T18:45:50.477132Z"
    }
   },
   "outputs": [],
   "source": [
    "hour = time_features['hour']"
   ]
  },
  {
   "cell_type": "code",
   "execution_count": 20,
   "metadata": {
    "execution": {
     "iopub.execute_input": "2021-08-16T19:24:23.463289Z",
     "iopub.status.busy": "2021-08-16T19:24:23.462820Z",
     "iopub.status.idle": "2021-08-16T19:24:23.475131Z",
     "shell.execute_reply": "2021-08-16T19:24:23.473954Z",
     "shell.execute_reply.started": "2021-08-16T19:24:23.463249Z"
    }
   },
   "outputs": [],
   "source": [
    "morning = (hour >= 7) & (hour <= 11)\n",
    "midday = (hour >= 12) & (hour <= 18)\n",
    "evening = (hour >= 19) & (hour <= 23)"
   ]
  },
  {
   "cell_type": "code",
   "execution_count": 21,
   "metadata": {
    "execution": {
     "iopub.execute_input": "2021-08-16T19:24:23.820207Z",
     "iopub.status.busy": "2021-08-16T19:24:23.819796Z",
     "iopub.status.idle": "2021-08-16T19:24:23.848897Z",
     "shell.execute_reply": "2021-08-16T19:24:23.847747Z",
     "shell.execute_reply.started": "2021-08-16T19:24:23.820173Z"
    }
   },
   "outputs": [
    {
     "data": {
      "text/html": [
       "<div>\n",
       "<style scoped>\n",
       "    .dataframe tbody tr th:only-of-type {\n",
       "        vertical-align: middle;\n",
       "    }\n",
       "\n",
       "    .dataframe tbody tr th {\n",
       "        vertical-align: top;\n",
       "    }\n",
       "\n",
       "    .dataframe thead th {\n",
       "        text-align: right;\n",
       "    }\n",
       "</style>\n",
       "<table border=\"1\" class=\"dataframe\">\n",
       "  <thead>\n",
       "    <tr style=\"text-align: right;\">\n",
       "      <th></th>\n",
       "      <th>hour</th>\n",
       "      <th>morning</th>\n",
       "      <th>midday</th>\n",
       "      <th>evening</th>\n",
       "    </tr>\n",
       "    <tr>\n",
       "      <th>session_id</th>\n",
       "      <th></th>\n",
       "      <th></th>\n",
       "      <th></th>\n",
       "      <th></th>\n",
       "    </tr>\n",
       "  </thead>\n",
       "  <tbody>\n",
       "    <tr>\n",
       "      <th>21669</th>\n",
       "      <td>8</td>\n",
       "      <td>1</td>\n",
       "      <td>0</td>\n",
       "      <td>0</td>\n",
       "    </tr>\n",
       "    <tr>\n",
       "      <th>54843</th>\n",
       "      <td>8</td>\n",
       "      <td>1</td>\n",
       "      <td>0</td>\n",
       "      <td>0</td>\n",
       "    </tr>\n",
       "    <tr>\n",
       "      <th>77292</th>\n",
       "      <td>8</td>\n",
       "      <td>1</td>\n",
       "      <td>0</td>\n",
       "      <td>0</td>\n",
       "    </tr>\n",
       "    <tr>\n",
       "      <th>114021</th>\n",
       "      <td>8</td>\n",
       "      <td>1</td>\n",
       "      <td>0</td>\n",
       "      <td>0</td>\n",
       "    </tr>\n",
       "    <tr>\n",
       "      <th>146670</th>\n",
       "      <td>8</td>\n",
       "      <td>1</td>\n",
       "      <td>0</td>\n",
       "      <td>0</td>\n",
       "    </tr>\n",
       "    <tr>\n",
       "      <th>...</th>\n",
       "      <td>...</td>\n",
       "      <td>...</td>\n",
       "      <td>...</td>\n",
       "      <td>...</td>\n",
       "    </tr>\n",
       "    <tr>\n",
       "      <th>12224</th>\n",
       "      <td>23</td>\n",
       "      <td>0</td>\n",
       "      <td>0</td>\n",
       "      <td>1</td>\n",
       "    </tr>\n",
       "    <tr>\n",
       "      <th>164438</th>\n",
       "      <td>23</td>\n",
       "      <td>0</td>\n",
       "      <td>0</td>\n",
       "      <td>1</td>\n",
       "    </tr>\n",
       "    <tr>\n",
       "      <th>12221</th>\n",
       "      <td>23</td>\n",
       "      <td>0</td>\n",
       "      <td>0</td>\n",
       "      <td>1</td>\n",
       "    </tr>\n",
       "    <tr>\n",
       "      <th>156968</th>\n",
       "      <td>23</td>\n",
       "      <td>0</td>\n",
       "      <td>0</td>\n",
       "      <td>1</td>\n",
       "    </tr>\n",
       "    <tr>\n",
       "      <th>204762</th>\n",
       "      <td>23</td>\n",
       "      <td>0</td>\n",
       "      <td>0</td>\n",
       "      <td>1</td>\n",
       "    </tr>\n",
       "  </tbody>\n",
       "</table>\n",
       "<p>253561 rows × 4 columns</p>\n",
       "</div>"
      ],
      "text/plain": [
       "            hour  morning  midday  evening\n",
       "session_id                                \n",
       "21669          8        1       0        0\n",
       "54843          8        1       0        0\n",
       "77292          8        1       0        0\n",
       "114021         8        1       0        0\n",
       "146670         8        1       0        0\n",
       "...          ...      ...     ...      ...\n",
       "12224         23        0       0        1\n",
       "164438        23        0       0        1\n",
       "12221         23        0       0        1\n",
       "156968        23        0       0        1\n",
       "204762        23        0       0        1\n",
       "\n",
       "[253561 rows x 4 columns]"
      ]
     },
     "execution_count": 21,
     "metadata": {},
     "output_type": "execute_result"
    }
   ],
   "source": [
    "time_features['morning'] = morning.astype('int')\n",
    "time_features['midday'] = midday.astype('int')\n",
    "time_features['evening'] = evening.astype('int')\n",
    "time_features"
   ]
  },
  {
   "cell_type": "markdown",
   "metadata": {},
   "source": [
    "#### Месяц"
   ]
  },
  {
   "cell_type": "code",
   "execution_count": 22,
   "metadata": {
    "execution": {
     "iopub.execute_input": "2021-08-16T18:00:00.124856Z",
     "iopub.status.busy": "2021-08-16T18:00:00.124500Z",
     "iopub.status.idle": "2021-08-16T18:00:01.927008Z",
     "shell.execute_reply": "2021-08-16T18:00:01.925836Z",
     "shell.execute_reply.started": "2021-08-16T18:00:00.124825Z"
    }
   },
   "outputs": [],
   "source": [
    "time_features['month'] = df_train_times['time1'].apply(lambda ts: ts.month)"
   ]
  },
  {
   "cell_type": "code",
   "execution_count": 23,
   "metadata": {
    "execution": {
     "iopub.execute_input": "2021-08-16T18:00:01.929491Z",
     "iopub.status.busy": "2021-08-16T18:00:01.929019Z",
     "iopub.status.idle": "2021-08-16T18:00:02.418443Z",
     "shell.execute_reply": "2021-08-16T18:00:02.417374Z",
     "shell.execute_reply.started": "2021-08-16T18:00:01.929443Z"
    }
   },
   "outputs": [
    {
     "data": {
      "image/png": "[encoded data removed]",
      "text/plain": [
       "<Figure size 720x360 with 2 Axes>"
      ]
     },
     "metadata": {},
     "output_type": "display_data"
    }
   ],
   "source": [
    "feature_hist('month', time_features)"
   ]
  },
  {
   "cell_type": "code",
   "execution_count": 67,
   "metadata": {},
   "outputs": [],
   "source": [
    "time_features['summer'] = time_features['month'].apply(lambda m: m >= 6 and m <= 8).astype('int')"
   ]
  },
  {
   "cell_type": "markdown",
   "metadata": {},
   "source": [
    "#### Год"
   ]
  },
  {
   "cell_type": "code",
   "execution_count": 24,
   "metadata": {
    "execution": {
     "iopub.execute_input": "2021-08-16T18:00:03.179933Z",
     "iopub.status.busy": "2021-08-16T18:00:03.179569Z",
     "iopub.status.idle": "2021-08-16T18:00:04.829029Z",
     "shell.execute_reply": "2021-08-16T18:00:04.827931Z",
     "shell.execute_reply.started": "2021-08-16T18:00:03.179886Z"
    }
   },
   "outputs": [],
   "source": [
    "time_features['year'] = df_train_times['time1'].apply(lambda ts: ts.year)"
   ]
  },
  {
   "cell_type": "code",
   "execution_count": 25,
   "metadata": {
    "execution": {
     "iopub.execute_input": "2021-08-16T18:00:04.830982Z",
     "iopub.status.busy": "2021-08-16T18:00:04.830643Z",
     "iopub.status.idle": "2021-08-16T18:00:05.148125Z",
     "shell.execute_reply": "2021-08-16T18:00:05.146802Z",
     "shell.execute_reply.started": "2021-08-16T18:00:04.830943Z"
    }
   },
   "outputs": [
    {
     "data": {
      "image/png": "[encoded data removed]",
      "text/plain": [
       "<Figure size 720x360 with 2 Axes>"
      ]
     },
     "metadata": {},
     "output_type": "display_data"
    }
   ],
   "source": [
    "feature_hist('year', time_features)"
   ]
  },
  {
   "cell_type": "markdown",
   "metadata": {},
   "source": [
    "#### День недели"
   ]
  },
  {
   "cell_type": "code",
   "execution_count": 26,
   "metadata": {
    "execution": {
     "iopub.execute_input": "2021-08-16T18:00:07.401140Z",
     "iopub.status.busy": "2021-08-16T18:00:07.400782Z",
     "iopub.status.idle": "2021-08-16T18:00:09.171860Z",
     "shell.execute_reply": "2021-08-16T18:00:09.170911Z",
     "shell.execute_reply.started": "2021-08-16T18:00:07.401110Z"
    }
   },
   "outputs": [],
   "source": [
    "time_features['day'] = df_train_times['time1'].apply(lambda ts: ts.weekday())"
   ]
  },
  {
   "cell_type": "code",
   "execution_count": 27,
   "metadata": {
    "execution": {
     "iopub.execute_input": "2021-08-16T18:00:09.173533Z",
     "iopub.status.busy": "2021-08-16T18:00:09.173242Z",
     "iopub.status.idle": "2021-08-16T18:00:09.582065Z",
     "shell.execute_reply": "2021-08-16T18:00:09.581091Z",
     "shell.execute_reply.started": "2021-08-16T18:00:09.173505Z"
    }
   },
   "outputs": [
    {
     "data": {
      "image/png": "[encoded data removed]",
      "text/plain": [
       "<Figure size 720x360 with 2 Axes>"
      ]
     },
     "metadata": {},
     "output_type": "display_data"
    }
   ],
   "source": [
    "feature_hist('day', time_features)"
   ]
  },
  {
   "cell_type": "code",
   "execution_count": 28,
   "metadata": {
    "execution": {
     "iopub.execute_input": "2021-08-16T19:15:38.041816Z",
     "iopub.status.busy": "2021-08-16T19:15:38.041432Z",
     "iopub.status.idle": "2021-08-16T19:15:38.120738Z",
     "shell.execute_reply": "2021-08-16T19:15:38.119752Z",
     "shell.execute_reply.started": "2021-08-16T19:15:38.041779Z"
    }
   },
   "outputs": [],
   "source": [
    "time_features['weekend'] = time_features['day'].apply(lambda day: day in [5, 6]).astype('int')"
   ]
  },
  {
   "cell_type": "markdown",
   "metadata": {},
   "source": [
    "#### Длина сессии"
   ]
  },
  {
   "cell_type": "code",
   "execution_count": 29,
   "metadata": {
    "execution": {
     "iopub.execute_input": "2021-08-16T18:00:14.648248Z",
     "iopub.status.busy": "2021-08-16T18:00:14.647848Z",
     "iopub.status.idle": "2021-08-16T18:00:58.642863Z",
     "shell.execute_reply": "2021-08-16T18:00:58.642047Z",
     "shell.execute_reply.started": "2021-08-16T18:00:14.648215Z"
    }
   },
   "outputs": [],
   "source": [
    "%%time\n",
    "time_features['duration'] = df_train_times.apply(lambda row: \\\n",
    "                                                 (row.max() - row.min()).total_seconds(), axis=1)"
   ]
  },
  {
   "cell_type": "code",
   "execution_count": 30,
   "metadata": {
    "execution": {
     "iopub.execute_input": "2021-08-16T18:00:58.645403Z",
     "iopub.status.busy": "2021-08-16T18:00:58.644654Z",
     "iopub.status.idle": "2021-08-16T18:01:01.234386Z",
     "shell.execute_reply": "2021-08-16T18:01:01.233662Z",
     "shell.execute_reply.started": "2021-08-16T18:00:58.645354Z"
    }
   },
   "outputs": [
    {
     "data": {
      "image/png": "[encoded data removed]",
      "text/plain": [
       "<Figure size 720x360 with 2 Axes>"
      ]
     },
     "metadata": {},
     "output_type": "display_data"
    }
   ],
   "source": [
    "feature_hist('duration', time_features)"
   ]
  },
  {
   "cell_type": "markdown",
   "metadata": {},
   "source": [
    "#### Топ-10 сайтов"
   ]
  },
  {
   "cell_type": "code",
   "execution_count": 33,
   "metadata": {
    "execution": {
     "iopub.execute_input": "2021-08-16T18:01:33.556991Z",
     "iopub.status.busy": "2021-08-16T18:01:33.556315Z",
     "iopub.status.idle": "2021-08-16T18:01:33.596630Z",
     "shell.execute_reply": "2021-08-16T18:01:33.595935Z",
     "shell.execute_reply.started": "2021-08-16T18:01:33.556943Z"
    }
   },
   "outputs": [],
   "source": [
    "df_train_sites = df_train[sites]\n",
    "df_train_sites = df_train_sites.fillna(0).astype(int)"
   ]
  },
  {
   "cell_type": "code",
   "execution_count": 34,
   "metadata": {
    "execution": {
     "iopub.execute_input": "2021-08-16T18:01:34.066528Z",
     "iopub.status.busy": "2021-08-16T18:01:34.065944Z",
     "iopub.status.idle": "2021-08-16T18:01:36.534590Z",
     "shell.execute_reply": "2021-08-16T18:01:36.533943Z",
     "shell.execute_reply.started": "2021-08-16T18:01:34.066491Z"
    }
   },
   "outputs": [
    {
     "data": {
      "text/plain": [
       "[21, 23, 782, 22, 29, 167, 780, 778, 52, 812]"
      ]
     },
     "execution_count": 34,
     "metadata": {},
     "output_type": "execute_result"
    }
   ],
   "source": [
    "site_counts = {}\n",
    "for session in df_train_sites.values:\n",
    "    for site in session:\n",
    "        if site in site_counts:\n",
    "            site_counts[site] += 1\n",
    "        else:\n",
    "            site_counts[site] = 1\n",
    "site_counts.pop(0)\n",
    "top10 = [k for k, _ in sorted(site_counts.items(), key=lambda item: item[1], reverse=True)][:10]\n",
    "top10"
   ]
  },
  {
   "cell_type": "code",
   "execution_count": 35,
   "metadata": {
    "execution": {
     "iopub.execute_input": "2021-08-16T18:01:39.345308Z",
     "iopub.status.busy": "2021-08-16T18:01:39.344746Z",
     "iopub.status.idle": "2021-08-16T18:01:39.351543Z",
     "shell.execute_reply": "2021-08-16T18:01:39.350659Z",
     "shell.execute_reply.started": "2021-08-16T18:01:39.345275Z"
    }
   },
   "outputs": [
    {
     "name": "stdout",
     "output_type": "stream",
     "text": [
      "www.google.fr\n",
      "www.google.com\n",
      "annotathon.org\n",
      "apis.google.com\n",
      "www.facebook.com\n",
      "www.bing.com\n",
      "blast.ncbi.nlm.nih.gov\n",
      "www.ncbi.nlm.nih.gov\n",
      "clients1.google.com\n",
      "mail.google.com\n"
     ]
    }
   ],
   "source": [
    "for site_id in top10:\n",
    "    print(id2site[site_id])"
   ]
  },
  {
   "cell_type": "code",
   "execution_count": 36,
   "metadata": {
    "execution": {
     "iopub.execute_input": "2021-08-16T18:25:36.175064Z",
     "iopub.status.busy": "2021-08-16T18:25:36.174695Z",
     "iopub.status.idle": "2021-08-16T18:26:25.379119Z",
     "shell.execute_reply": "2021-08-16T18:26:25.378021Z",
     "shell.execute_reply.started": "2021-08-16T18:25:36.175031Z"
    }
   },
   "outputs": [
    {
     "name": "stdout",
     "output_type": "stream",
     "text": [
      "CPU times: user 38 s, sys: 293 ms, total: 38.3 s\n",
      "Wall time: 38.2 s\n"
     ]
    }
   ],
   "source": [
    "%%time\n",
    "site_features = pd.DataFrame()\n",
    "site_features['has_top10'] = df_train_sites.apply(lambda session: session.isin(top10).any().astype('int'), axis=1)"
   ]
  },
  {
   "cell_type": "code",
   "execution_count": 37,
   "metadata": {
    "execution": {
     "iopub.execute_input": "2021-08-16T18:26:56.983427Z",
     "iopub.status.busy": "2021-08-16T18:26:56.983079Z",
     "iopub.status.idle": "2021-08-16T18:26:57.301367Z",
     "shell.execute_reply": "2021-08-16T18:26:57.300303Z",
     "shell.execute_reply.started": "2021-08-16T18:26:56.983397Z"
    }
   },
   "outputs": [
    {
     "data": {
      "image/png": "[encoded data removed]",
      "text/plain": [
       "<Figure size 720x360 with 2 Axes>"
      ]
     },
     "metadata": {},
     "output_type": "display_data"
    }
   ],
   "source": [
    "feature_hist('has_top10', site_features)"
   ]
  },
  {
   "cell_type": "markdown",
   "metadata": {},
   "source": [
    "#### Число уникальных сайтов"
   ]
  },
  {
   "cell_type": "code",
   "execution_count": 38,
   "metadata": {
    "execution": {
     "iopub.execute_input": "2021-08-16T19:07:00.729909Z",
     "iopub.status.busy": "2021-08-16T19:07:00.729266Z",
     "iopub.status.idle": "2021-08-16T19:07:40.619398Z",
     "shell.execute_reply": "2021-08-16T19:07:40.618240Z",
     "shell.execute_reply.started": "2021-08-16T19:07:00.729853Z"
    }
   },
   "outputs": [],
   "source": [
    "%%time\n",
    "site_features['n_unique'] = df_train[sites].apply(lambda session: session.nunique(), axis=1)"
   ]
  },
  {
   "cell_type": "code",
   "execution_count": 39,
   "metadata": {
    "execution": {
     "iopub.execute_input": "2021-08-16T19:07:40.621481Z",
     "iopub.status.busy": "2021-08-16T19:07:40.621158Z",
     "iopub.status.idle": "2021-08-16T19:07:41.125642Z",
     "shell.execute_reply": "2021-08-16T19:07:41.124633Z",
     "shell.execute_reply.started": "2021-08-16T19:07:40.621449Z"
    }
   },
   "outputs": [
    {
     "data": {
      "image/png": "[encoded data removed]",
      "text/plain": [
       "<Figure size 720x360 with 2 Axes>"
      ]
     },
     "metadata": {},
     "output_type": "display_data"
    }
   ],
   "source": [
    "feature_hist('n_unique', site_features)"
   ]
  },
  {
   "cell_type": "markdown",
   "metadata": {},
   "source": [
    "#### Абсолютно уникальные сайты"
   ]
  },
  {
   "cell_type": "code",
   "execution_count": 52,
   "metadata": {
    "execution": {
     "iopub.execute_input": "2021-08-16T16:44:17.696795Z",
     "iopub.status.busy": "2021-08-16T16:44:17.696236Z",
     "iopub.status.idle": "2021-08-16T16:44:17.702589Z",
     "shell.execute_reply": "2021-08-16T16:44:17.701383Z",
     "shell.execute_reply.started": "2021-08-16T16:44:17.696754Z"
    }
   },
   "outputs": [],
   "source": [
    "absolutely_unique_sites.update(df_train_sites.iloc[0])"
   ]
  },
  {
   "cell_type": "code",
   "execution_count": 75,
   "metadata": {
    "execution": {
     "iopub.execute_input": "2021-08-16T17:00:11.921427Z",
     "iopub.status.busy": "2021-08-16T17:00:11.920996Z",
     "iopub.status.idle": "2021-08-16T17:00:11.930819Z",
     "shell.execute_reply": "2021-08-16T17:00:11.929528Z",
     "shell.execute_reply.started": "2021-08-16T17:00:11.921391Z"
    }
   },
   "outputs": [
    {
     "data": {
      "text/plain": [
       "(set(), {0, 55, 56})"
      ]
     },
     "execution_count": 75,
     "metadata": {},
     "output_type": "execute_result"
    }
   ],
   "source": [
    "a = set()\n",
    "b = set(df_train_sites.iloc[0])\n",
    "a, b"
   ]
  },
  {
   "cell_type": "code",
   "execution_count": 79,
   "metadata": {
    "execution": {
     "iopub.execute_input": "2021-08-16T17:00:36.737443Z",
     "iopub.status.busy": "2021-08-16T17:00:36.737048Z",
     "iopub.status.idle": "2021-08-16T17:00:36.746662Z",
     "shell.execute_reply": "2021-08-16T17:00:36.745557Z",
     "shell.execute_reply.started": "2021-08-16T17:00:36.737407Z"
    }
   },
   "outputs": [
    {
     "data": {
      "text/plain": [
       "{784, 945, 946, 948, 949, 951}"
      ]
     },
     "execution_count": 79,
     "metadata": {},
     "output_type": "execute_result"
    }
   ],
   "source": [
    "b = set(df_train_sites.iloc[2])\n",
    "b"
   ]
  },
  {
   "cell_type": "code",
   "execution_count": 80,
   "metadata": {
    "execution": {
     "iopub.execute_input": "2021-08-16T17:00:42.529800Z",
     "iopub.status.busy": "2021-08-16T17:00:42.529382Z",
     "iopub.status.idle": "2021-08-16T17:00:42.536708Z",
     "shell.execute_reply": "2021-08-16T17:00:42.535686Z",
     "shell.execute_reply.started": "2021-08-16T17:00:42.529766Z"
    }
   },
   "outputs": [
    {
     "data": {
      "text/plain": [
       "{784, 945, 946, 948, 949, 951}"
      ]
     },
     "execution_count": 80,
     "metadata": {},
     "output_type": "execute_result"
    }
   ],
   "source": [
    "a.symmetric_difference_update(b)\n",
    "a"
   ]
  },
  {
   "cell_type": "code",
   "execution_count": 74,
   "metadata": {
    "execution": {
     "iopub.execute_input": "2021-08-16T16:57:12.016781Z",
     "iopub.status.busy": "2021-08-16T16:57:12.015938Z",
     "iopub.status.idle": "2021-08-16T16:57:12.024167Z",
     "shell.execute_reply": "2021-08-16T16:57:12.022861Z",
     "shell.execute_reply.started": "2021-08-16T16:57:12.016728Z"
    }
   },
   "outputs": [
    {
     "data": {
      "text/plain": [
       "{0, 55, 56}"
      ]
     },
     "execution_count": 74,
     "metadata": {},
     "output_type": "execute_result"
    }
   ],
   "source": [
    "a.update(b)\n",
    "a"
   ]
  },
  {
   "cell_type": "code",
   "execution_count": 62,
   "metadata": {
    "execution": {
     "iopub.execute_input": "2021-08-16T16:52:20.847664Z",
     "iopub.status.busy": "2021-08-16T16:52:20.847240Z",
     "iopub.status.idle": "2021-08-16T16:52:20.852182Z",
     "shell.execute_reply": "2021-08-16T16:52:20.851426Z",
     "shell.execute_reply.started": "2021-08-16T16:52:20.847631Z"
    }
   },
   "outputs": [],
   "source": [
    "a.difference_update(a)"
   ]
  },
  {
   "cell_type": "code",
   "execution_count": 40,
   "metadata": {
    "execution": {
     "iopub.execute_input": "2021-08-16T18:03:16.541997Z",
     "iopub.status.busy": "2021-08-16T18:03:16.541577Z",
     "iopub.status.idle": "2021-08-16T18:03:16.569232Z",
     "shell.execute_reply": "2021-08-16T18:03:16.567901Z",
     "shell.execute_reply.started": "2021-08-16T18:03:16.541959Z"
    }
   },
   "outputs": [
    {
     "ename": "ValueError",
     "evalue": "not enough values to unpack (expected 2, got 0)",
     "output_type": "error",
     "traceback": [
      "\u001b[0;31m---------------------------------------------------------------------------\u001b[0m",
      "\u001b[0;31mValueError\u001b[0m                                Traceback (most recent call last)",
      "\u001b[0;32m<ipython-input-40-4e9443504693>\u001b[0m in \u001b[0;36m<module>\u001b[0;34m\u001b[0m\n\u001b[0;32m----> 1\u001b[0;31m \u001b[0mabsolutely_unique_sites\u001b[0m\u001b[0;34m,\u001b[0m \u001b[0mfull_sites\u001b[0m \u001b[0;34m=\u001b[0m \u001b[0mset\u001b[0m\u001b[0;34m(\u001b[0m\u001b[0;34m)\u001b[0m\u001b[0;34m\u001b[0m\u001b[0;34m\u001b[0m\u001b[0m\n\u001b[0m\u001b[1;32m      2\u001b[0m \u001b[0;32mfor\u001b[0m \u001b[0msession\u001b[0m \u001b[0;32min\u001b[0m \u001b[0mdf_train_sites\u001b[0m\u001b[0;34m.\u001b[0m\u001b[0mvalues\u001b[0m\u001b[0;34m:\u001b[0m\u001b[0;34m\u001b[0m\u001b[0;34m\u001b[0m\u001b[0m\n\u001b[1;32m      3\u001b[0m     \u001b[0muniques\u001b[0m \u001b[0;34m=\u001b[0m \u001b[0mset\u001b[0m\u001b[0;34m(\u001b[0m\u001b[0msession\u001b[0m\u001b[0;34m)\u001b[0m\u001b[0;34m\u001b[0m\u001b[0;34m\u001b[0m\u001b[0m\n\u001b[1;32m      4\u001b[0m     \u001b[0muniques\u001b[0m\u001b[0;34m.\u001b[0m\u001b[0mdifference_update\u001b[0m\u001b[0;34m(\u001b[0m\u001b[0mfull_sites\u001b[0m\u001b[0;34m)\u001b[0m\u001b[0;34m\u001b[0m\u001b[0;34m\u001b[0m\u001b[0m\n\u001b[1;32m      5\u001b[0m     \u001b[0mabsolutely_unique_sites\u001b[0m\u001b[0;34m.\u001b[0m\u001b[0mupdate\u001b[0m\u001b[0;34m(\u001b[0m\u001b[0muniques\u001b[0m\u001b[0;34m)\u001b[0m\u001b[0;34m\u001b[0m\u001b[0;34m\u001b[0m\u001b[0m\n",
      "\u001b[0;31mValueError\u001b[0m: not enough values to unpack (expected 2, got 0)"
     ]
    }
   ],
   "source": [
    "absolutely_unique_sites, full_sites = set()\n",
    "for session in df_train_sites.values:\n",
    "    uniques = set(session)\n",
    "    uniques.difference_update(full_sites)\n",
    "    absolutely_unique_sites.update(uniques)"
   ]
  },
  {
   "cell_type": "code",
   "execution_count": 88,
   "metadata": {
    "execution": {
     "iopub.execute_input": "2021-08-16T17:03:45.229152Z",
     "iopub.status.busy": "2021-08-16T17:03:45.228782Z",
     "iopub.status.idle": "2021-08-16T17:03:45.235817Z",
     "shell.execute_reply": "2021-08-16T17:03:45.234704Z",
     "shell.execute_reply.started": "2021-08-16T17:03:45.229122Z"
    }
   },
   "outputs": [
    {
     "data": {
      "text/plain": [
       "27749"
      ]
     },
     "execution_count": 88,
     "metadata": {},
     "output_type": "execute_result"
    }
   ],
   "source": [
    "len(absolutely_unique_sites)"
   ]
  },
  {
   "cell_type": "code",
   "execution_count": 93,
   "metadata": {
    "execution": {
     "iopub.execute_input": "2021-08-16T17:04:34.448010Z",
     "iopub.status.busy": "2021-08-16T17:04:34.447466Z",
     "iopub.status.idle": "2021-08-16T17:04:34.476437Z",
     "shell.execute_reply": "2021-08-16T17:04:34.475147Z",
     "shell.execute_reply.started": "2021-08-16T17:04:34.447951Z"
    },
    "scrolled": true
   },
   "outputs": [
    {
     "data": {
      "text/plain": [
       "{24,\n",
       " 94,\n",
       " 95,\n",
       " 97,\n",
       " 98,\n",
       " 100,\n",
       " 101,\n",
       " 112,\n",
       " 114,\n",
       " 165,\n",
       " 184,\n",
       " 228,\n",
       " 309,\n",
       " 311,\n",
       " 353,\n",
       " 70,\n",
       " 354,\n",
       " 14,\n",
       " 368,\n",
       " 365,\n",
       " 372,\n",
       " 369,\n",
       " 371,\n",
       " 375,\n",
       " 376,\n",
       " 377,\n",
       " 378,\n",
       " 379,\n",
       " 380,\n",
       " 381,\n",
       " 382,\n",
       " 398,\n",
       " 405,\n",
       " 406,\n",
       " 407,\n",
       " 409,\n",
       " 410,\n",
       " 412,\n",
       " 413,\n",
       " 414,\n",
       " 416,\n",
       " 418,\n",
       " 419,\n",
       " 420,\n",
       " 421,\n",
       " 422,\n",
       " 423,\n",
       " 424,\n",
       " 426,\n",
       " 427,\n",
       " 13110,\n",
       " 437,\n",
       " 449,\n",
       " 452,\n",
       " 463,\n",
       " 475,\n",
       " 472,\n",
       " 471,\n",
       " 473,\n",
       " 479,\n",
       " 484,\n",
       " 485,\n",
       " 488,\n",
       " 491,\n",
       " 483,\n",
       " 13122,\n",
       " 495,\n",
       " 494,\n",
       " 498,\n",
       " 520,\n",
       " 523,\n",
       " 524,\n",
       " 526,\n",
       " 529,\n",
       " 531,\n",
       " 580,\n",
       " 575,\n",
       " 582,\n",
       " 584,\n",
       " 595,\n",
       " 120,\n",
       " 610,\n",
       " 611,\n",
       " 615,\n",
       " 620,\n",
       " 626,\n",
       " 627,\n",
       " 628,\n",
       " 635,\n",
       " 634,\n",
       " 641,\n",
       " 642,\n",
       " 645,\n",
       " 649,\n",
       " 650,\n",
       " 680,\n",
       " 700,\n",
       " 711,\n",
       " 713,\n",
       " 730,\n",
       " 736,\n",
       " 26197,\n",
       " 733,\n",
       " 737,\n",
       " 739,\n",
       " 742,\n",
       " 6779,\n",
       " 755,\n",
       " 26202,\n",
       " 787,\n",
       " 797,\n",
       " 798,\n",
       " 801,\n",
       " 802,\n",
       " 804,\n",
       " 807,\n",
       " 809,\n",
       " 822,\n",
       " 825,\n",
       " 826,\n",
       " 838,\n",
       " 839,\n",
       " 842,\n",
       " 837,\n",
       " 846,\n",
       " 848,\n",
       " 858,\n",
       " 852,\n",
       " 170,\n",
       " 859,\n",
       " 874,\n",
       " 877,\n",
       " 886,\n",
       " 892,\n",
       " 2612,\n",
       " 895,\n",
       " 894,\n",
       " 528,\n",
       " 897,\n",
       " 904,\n",
       " 180,\n",
       " 908,\n",
       " 915,\n",
       " 916,\n",
       " 921,\n",
       " 924,\n",
       " 928,\n",
       " 931,\n",
       " 932,\n",
       " 938,\n",
       " 941,\n",
       " 957,\n",
       " 193,\n",
       " 983,\n",
       " 978,\n",
       " 5249,\n",
       " 992,\n",
       " 984,\n",
       " 995,\n",
       " 988,\n",
       " 996,\n",
       " 1005,\n",
       " 1010,\n",
       " 1002,\n",
       " 1013,\n",
       " 1011,\n",
       " 40,\n",
       " 202,\n",
       " 1017,\n",
       " 1030,\n",
       " 1031,\n",
       " 1032,\n",
       " 1034,\n",
       " 1038,\n",
       " 1040,\n",
       " 1043,\n",
       " 1045,\n",
       " 1046,\n",
       " 1049,\n",
       " 1055,\n",
       " 210,\n",
       " 1067,\n",
       " 1069,\n",
       " 1072,\n",
       " 212,\n",
       " 1070,\n",
       " 1075,\n",
       " 1071,\n",
       " 214,\n",
       " 1081,\n",
       " 5253,\n",
       " 1093,\n",
       " 1087,\n",
       " 1096,\n",
       " 218,\n",
       " 1097,\n",
       " 1112,\n",
       " 1105,\n",
       " 1110,\n",
       " 1111,\n",
       " 221,\n",
       " 1113,\n",
       " 1131,\n",
       " 1132,\n",
       " 1133,\n",
       " 1140,\n",
       " 1142,\n",
       " 1143,\n",
       " 227,\n",
       " 226,\n",
       " 1150,\n",
       " 1151,\n",
       " 1163,\n",
       " 1164,\n",
       " 1175,\n",
       " 1172,\n",
       " 1173,\n",
       " 1184,\n",
       " 1181,\n",
       " 1183,\n",
       " 1187,\n",
       " 237,\n",
       " 1202,\n",
       " 1200,\n",
       " 1201,\n",
       " 1207,\n",
       " 1209,\n",
       " 1210,\n",
       " 48,\n",
       " 1214,\n",
       " 1223,\n",
       " 1225,\n",
       " 1224,\n",
       " 1228,\n",
       " 1230,\n",
       " 1229,\n",
       " 1232,\n",
       " 1233,\n",
       " 49,\n",
       " 1240,\n",
       " 1241,\n",
       " 248,\n",
       " 1263,\n",
       " 1268,\n",
       " 1269,\n",
       " 1270,\n",
       " 1271,\n",
       " 7866,\n",
       " 1291,\n",
       " 1294,\n",
       " 1314,\n",
       " 13287,\n",
       " 1319,\n",
       " 1322,\n",
       " 1323,\n",
       " 1331,\n",
       " 1333,\n",
       " 1336,\n",
       " 1334,\n",
       " 1338,\n",
       " 1357,\n",
       " 1360,\n",
       " 1362,\n",
       " 1363,\n",
       " 1364,\n",
       " 1365,\n",
       " 1359,\n",
       " 1368,\n",
       " 1369,\n",
       " 271,\n",
       " 1370,\n",
       " 1371,\n",
       " 1372,\n",
       " 1374,\n",
       " 273,\n",
       " 1376,\n",
       " 1379,\n",
       " 1386,\n",
       " 1387,\n",
       " 1392,\n",
       " 277,\n",
       " 1395,\n",
       " 1399,\n",
       " 1396,\n",
       " 278,\n",
       " 1401,\n",
       " 1416,\n",
       " 1409,\n",
       " 1422,\n",
       " 1415,\n",
       " 1420,\n",
       " 1430,\n",
       " 1436,\n",
       " 1428,\n",
       " 1441,\n",
       " 287,\n",
       " 1450,\n",
       " 288,\n",
       " 1459,\n",
       " 1460,\n",
       " 1469,\n",
       " 1464,\n",
       " 1468,\n",
       " 1471,\n",
       " 1470,\n",
       " 13084,\n",
       " 1480,\n",
       " 1481,\n",
       " 1482,\n",
       " 1483,\n",
       " 1484,\n",
       " 1485,\n",
       " 1486,\n",
       " 1487,\n",
       " 1491,\n",
       " 1494,\n",
       " 1498,\n",
       " 1497,\n",
       " 1505,\n",
       " 13085,\n",
       " 299,\n",
       " 1506,\n",
       " 1507,\n",
       " 1508,\n",
       " 5270,\n",
       " 300,\n",
       " 1526,\n",
       " 1527,\n",
       " 1537,\n",
       " 1538,\n",
       " 1540,\n",
       " 1541,\n",
       " 1539,\n",
       " 1543,\n",
       " 1544,\n",
       " 1546,\n",
       " 1550,\n",
       " 1549,\n",
       " 1552,\n",
       " 1553,\n",
       " 1555,\n",
       " 1557,\n",
       " 1558,\n",
       " 13087,\n",
       " 1560,\n",
       " 1561,\n",
       " 1562,\n",
       " 1564,\n",
       " 1565,\n",
       " 1568,\n",
       " 1569,\n",
       " 1583,\n",
       " 1591,\n",
       " 1592,\n",
       " 1593,\n",
       " 1594,\n",
       " 1598,\n",
       " 1599,\n",
       " 1601,\n",
       " 1602,\n",
       " 1615,\n",
       " 1616,\n",
       " 1618,\n",
       " 1610,\n",
       " 1622,\n",
       " 1626,\n",
       " 1630,\n",
       " 1633,\n",
       " 1634,\n",
       " 1636,\n",
       " 1638,\n",
       " 1639,\n",
       " 1635,\n",
       " 1649,\n",
       " 26379,\n",
       " 1655,\n",
       " 1660,\n",
       " 1661,\n",
       " 1659,\n",
       " 1662,\n",
       " 330,\n",
       " 1667,\n",
       " 1665,\n",
       " 1669,\n",
       " 1671,\n",
       " 1670,\n",
       " 1672,\n",
       " 1674,\n",
       " 1676,\n",
       " 26385,\n",
       " 1675,\n",
       " 1677,\n",
       " 1679,\n",
       " 334,\n",
       " 335,\n",
       " 1682,\n",
       " 1683,\n",
       " 1684,\n",
       " 1685,\n",
       " 1686,\n",
       " 1687,\n",
       " 1688,\n",
       " 1689,\n",
       " 1690,\n",
       " 1692,\n",
       " 1693,\n",
       " 1696,\n",
       " 26389,\n",
       " 1697,\n",
       " 1698,\n",
       " 1700,\n",
       " 1701,\n",
       " 1702,\n",
       " 1703,\n",
       " 1706,\n",
       " 339,\n",
       " 1707,\n",
       " 1708,\n",
       " 1709,\n",
       " 1710,\n",
       " 1712,\n",
       " 1713,\n",
       " 1714,\n",
       " 1716,\n",
       " 1717,\n",
       " 1718,\n",
       " 1719,\n",
       " 1720,\n",
       " 1722,\n",
       " 1725,\n",
       " 1728,\n",
       " 1729,\n",
       " 1730,\n",
       " 1731,\n",
       " 1732,\n",
       " 1733,\n",
       " 1734,\n",
       " 1735,\n",
       " 1736,\n",
       " 1737,\n",
       " 1742,\n",
       " 1739,\n",
       " 1740,\n",
       " 1744,\n",
       " 1746,\n",
       " 1747,\n",
       " 1748,\n",
       " 1749,\n",
       " 1754,\n",
       " 1751,\n",
       " 1752,\n",
       " 1755,\n",
       " 1757,\n",
       " 1758,\n",
       " 1759,\n",
       " 1761,\n",
       " 1765,\n",
       " 1764,\n",
       " 1766,\n",
       " 1767,\n",
       " 1768,\n",
       " 1769,\n",
       " 1770,\n",
       " 1771,\n",
       " 1772,\n",
       " 1773,\n",
       " 1774,\n",
       " 1775,\n",
       " 1776,\n",
       " 1777,\n",
       " 1778,\n",
       " 1779,\n",
       " 1780,\n",
       " 1781,\n",
       " 1782,\n",
       " 1783,\n",
       " 1784,\n",
       " 1785,\n",
       " 1786,\n",
       " 1787,\n",
       " 1788,\n",
       " 1789,\n",
       " 2676,\n",
       " 7886,\n",
       " 1796,\n",
       " 1792,\n",
       " 1795,\n",
       " 71,\n",
       " 357,\n",
       " 1793,\n",
       " 1802,\n",
       " 1804,\n",
       " 1807,\n",
       " 33880,\n",
       " 1808,\n",
       " 1809,\n",
       " 1810,\n",
       " 1813,\n",
       " 1814,\n",
       " 1816,\n",
       " 1817,\n",
       " 361,\n",
       " 1818,\n",
       " 1819,\n",
       " 1821,\n",
       " 1824,\n",
       " 1823,\n",
       " 1822,\n",
       " 1828,\n",
       " 1825,\n",
       " 1832,\n",
       " 1833,\n",
       " 1834,\n",
       " 1835,\n",
       " 1837,\n",
       " 1838,\n",
       " 1839,\n",
       " 1840,\n",
       " 1841,\n",
       " 1842,\n",
       " 1843,\n",
       " 1844,\n",
       " 1845,\n",
       " 1850,\n",
       " 1851,\n",
       " 1852,\n",
       " 1848,\n",
       " 1854,\n",
       " 1849,\n",
       " 1857,\n",
       " 1858,\n",
       " 1859,\n",
       " 1860,\n",
       " 1864,\n",
       " 1865,\n",
       " 1866,\n",
       " 1867,\n",
       " 13040,\n",
       " 1869,\n",
       " 1870,\n",
       " 1871,\n",
       " 1872,\n",
       " 1873,\n",
       " 1874,\n",
       " 1875,\n",
       " 1876,\n",
       " 1879,\n",
       " 1880,\n",
       " 1881,\n",
       " 26425,\n",
       " 1882,\n",
       " 26426,\n",
       " 1890,\n",
       " 1888,\n",
       " 536,\n",
       " 1891,\n",
       " 1897,\n",
       " 1894,\n",
       " 1895,\n",
       " 1898,\n",
       " 1899,\n",
       " 1900,\n",
       " 1905,\n",
       " 1901,\n",
       " 1907,\n",
       " 1908,\n",
       " 1909,\n",
       " 1910,\n",
       " 1911,\n",
       " 1912,\n",
       " 1918,\n",
       " 40654,\n",
       " 1920,\n",
       " 1925,\n",
       " 1926,\n",
       " 1927,\n",
       " 1928,\n",
       " 1932,\n",
       " 384,\n",
       " 26436,\n",
       " 385,\n",
       " 2682,\n",
       " 2630,\n",
       " 77,\n",
       " 386,\n",
       " 1953,\n",
       " 1959,\n",
       " 1960,\n",
       " 1952,\n",
       " 1963,\n",
       " 1964,\n",
       " 1965,\n",
       " 1966,\n",
       " 1969,\n",
       " 1971,\n",
       " 78,\n",
       " 1974,\n",
       " 1975,\n",
       " 1973,\n",
       " 1978,\n",
       " 1985,\n",
       " 1989,\n",
       " 1990,\n",
       " 1992,\n",
       " 1993,\n",
       " 1994,\n",
       " 1995,\n",
       " 397,\n",
       " 2009,\n",
       " 2010,\n",
       " 2002,\n",
       " 2003,\n",
       " 2685,\n",
       " 2021,\n",
       " 2023,\n",
       " 2027,\n",
       " 2024,\n",
       " 2026,\n",
       " 2028,\n",
       " 2031,\n",
       " 403,\n",
       " 2030,\n",
       " 2029,\n",
       " 2038,\n",
       " 16,\n",
       " 2040,\n",
       " 2036,\n",
       " 2046,\n",
       " 2041,\n",
       " 2043,\n",
       " 2044,\n",
       " 2045,\n",
       " 26460,\n",
       " 2049,\n",
       " 2058,\n",
       " 2053,\n",
       " 408,\n",
       " 2059,\n",
       " 2062,\n",
       " 2063,\n",
       " 2066,\n",
       " 2067,\n",
       " 2072,\n",
       " 2073,\n",
       " 31277,\n",
       " 2074,\n",
       " 2083,\n",
       " 2076,\n",
       " 2085,\n",
       " 2087,\n",
       " 2089,\n",
       " 2084,\n",
       " 13108,\n",
       " 2093,\n",
       " 415,\n",
       " 2095,\n",
       " 2096,\n",
       " 2097,\n",
       " 2098,\n",
       " 2091,\n",
       " 2101,\n",
       " 2100,\n",
       " 2103,\n",
       " 2104,\n",
       " 2105,\n",
       " 2106,\n",
       " 2099,\n",
       " 2108,\n",
       " 2109,\n",
       " 2113,\n",
       " 13109,\n",
       " 2112,\n",
       " 2118,\n",
       " 2119,\n",
       " 2120,\n",
       " 2121,\n",
       " 2125,\n",
       " 7832,\n",
       " 2129,\n",
       " 2130,\n",
       " 2131,\n",
       " 2132,\n",
       " 2135,\n",
       " 2138,\n",
       " 2137,\n",
       " 2142,\n",
       " 2146,\n",
       " 2148,\n",
       " 2147,\n",
       " 13452,\n",
       " 2155,\n",
       " 2156,\n",
       " 2159,\n",
       " 2151,\n",
       " 2162,\n",
       " 430,\n",
       " 2166,\n",
       " 2170,\n",
       " 2172,\n",
       " 2173,\n",
       " 2174,\n",
       " 2176,\n",
       " 2186,\n",
       " 2184,\n",
       " 434,\n",
       " 2192,\n",
       " 26488,\n",
       " 2190,\n",
       " 2199,\n",
       " 2200,\n",
       " 2201,\n",
       " 2203,\n",
       " 438,\n",
       " 2205,\n",
       " 88,\n",
       " 2223,\n",
       " 2222,\n",
       " 2226,\n",
       " 2228,\n",
       " 443,\n",
       " 2230,\n",
       " 2231,\n",
       " 2232,\n",
       " 2233,\n",
       " 2234,\n",
       " 2235,\n",
       " 444,\n",
       " 2237,\n",
       " 2242,\n",
       " 2246,\n",
       " 2244,\n",
       " 2250,\n",
       " 2260,\n",
       " 2255,\n",
       " 2257,\n",
       " 2267,\n",
       " 18,\n",
       " 2289,\n",
       " 2291,\n",
       " 455,\n",
       " 91,\n",
       " 456,\n",
       " 2298,\n",
       " 2306,\n",
       " 2307,\n",
       " 2310,\n",
       " 2311,\n",
       " 2304,\n",
       " 2312,\n",
       " 2317,\n",
       " 2316,\n",
       " 2318,\n",
       " 2320,\n",
       " 2322,\n",
       " 2315,\n",
       " 2325,\n",
       " 2319,\n",
       " 2330,\n",
       " 13489,\n",
       " 2331,\n",
       " 2337,\n",
       " 2346,\n",
       " 2342,\n",
       " 2352,\n",
       " 2349,\n",
       " 2357,\n",
       " 2355,\n",
       " 2364,\n",
       " 2363,\n",
       " 2362,\n",
       " 2365,\n",
       " 2369,\n",
       " 2373,\n",
       " 2366,\n",
       " 2378,\n",
       " 2379,\n",
       " 2372,\n",
       " 2380,\n",
       " 2377,\n",
       " 2387,\n",
       " 2388,\n",
       " 2389,\n",
       " 2386,\n",
       " 2385,\n",
       " 2393,\n",
       " 2398,\n",
       " 2399,\n",
       " 2392,\n",
       " 2400,\n",
       " 2403,\n",
       " 26529,\n",
       " 2417,\n",
       " 2418,\n",
       " 2419,\n",
       " 2420,\n",
       " 2422,\n",
       " 2423,\n",
       " 2426,\n",
       " 2429,\n",
       " 2430,\n",
       " 2431,\n",
       " 2432,\n",
       " 2433,\n",
       " 2434,\n",
       " 2435,\n",
       " 2436,\n",
       " 2437,\n",
       " 2441,\n",
       " 2451,\n",
       " 2452,\n",
       " 2460,\n",
       " 2453,\n",
       " 2463,\n",
       " 2459,\n",
       " 2469,\n",
       " 2470,\n",
       " 14592,\n",
       " 2473,\n",
       " 2468,\n",
       " 2475,\n",
       " 2476,\n",
       " 2477,\n",
       " 2479,\n",
       " 2481,\n",
       " 2483,\n",
       " 2484,\n",
       " 2485,\n",
       " 2486,\n",
       " 2487,\n",
       " 2482,\n",
       " 2493,\n",
       " 2494,\n",
       " 2497,\n",
       " 2498,\n",
       " 2490,\n",
       " 2492,\n",
       " 39575,\n",
       " 2500,\n",
       " 2506,\n",
       " 2507,\n",
       " 2504,\n",
       " 2509,\n",
       " 2510,\n",
       " 2511,\n",
       " 2516,\n",
       " 500,\n",
       " 2517,\n",
       " 2525,\n",
       " 2526,\n",
       " 2520,\n",
       " 2533,\n",
       " 2534,\n",
       " 2535,\n",
       " 2531,\n",
       " 2537,\n",
       " 2529,\n",
       " 2541,\n",
       " 2536,\n",
       " 2552,\n",
       " 2553,\n",
       " 2551,\n",
       " 2556,\n",
       " 2557,\n",
       " 2559,\n",
       " 2563,\n",
       " 2565,\n",
       " 2568,\n",
       " 2569,\n",
       " 2570,\n",
       " 2577,\n",
       " 2578,\n",
       " 2579,\n",
       " 2585,\n",
       " 2580,\n",
       " 513,\n",
       " 2583,\n",
       " 2584,\n",
       " 2586,\n",
       " 2591,\n",
       " 13541,\n",
       " 2594,\n",
       " 103,\n",
       " 2601,\n",
       " 517,\n",
       " 2622,\n",
       " 2624,\n",
       " 2623,\n",
       " 521,\n",
       " 2645,\n",
       " 2652,\n",
       " 2657,\n",
       " 2653,\n",
       " 2660,\n",
       " 2659,\n",
       " 2656,\n",
       " 2658,\n",
       " 2661,\n",
       " 530,\n",
       " 2711,\n",
       " 2671,\n",
       " 2678,\n",
       " 2679,\n",
       " 2680,\n",
       " 2681,\n",
       " 2689,\n",
       " 2690,\n",
       " 2700,\n",
       " 2695,\n",
       " 2696,\n",
       " 2697,\n",
       " 2698,\n",
       " 2699,\n",
       " 2707,\n",
       " 2704,\n",
       " 26158,\n",
       " 2708,\n",
       " 2706,\n",
       " 26590,\n",
       " 538,\n",
       " 2709,\n",
       " 2714,\n",
       " 2715,\n",
       " 2716,\n",
       " 2718,\n",
       " 541,\n",
       " 2725,\n",
       " 2755,\n",
       " 2756,\n",
       " 2758,\n",
       " 2765,\n",
       " 2772,\n",
       " 2781,\n",
       " 2773,\n",
       " 2776,\n",
       " 2787,\n",
       " 2780,\n",
       " 2782,\n",
       " 2792,\n",
       " 2785,\n",
       " 2791,\n",
       " 7926,\n",
       " 2793,\n",
       " 2803,\n",
       " 2806,\n",
       " 2809,\n",
       " 557,\n",
       " 2822,\n",
       " 2819,\n",
       " 13587,\n",
       " 2823,\n",
       " 2824,\n",
       " 2825,\n",
       " 2834,\n",
       " 2837,\n",
       " 2843,\n",
       " 2844,\n",
       " 564,\n",
       " 2848,\n",
       " 2850,\n",
       " 2851,\n",
       " 565,\n",
       " 2853,\n",
       " 2854,\n",
       " 2859,\n",
       " 2862,\n",
       " 2865,\n",
       " 2860,\n",
       " 2873,\n",
       " 2719,\n",
       " 2871,\n",
       " 571,\n",
       " 2884,\n",
       " 2885,\n",
       " 39649,\n",
       " 2887,\n",
       " 2880,\n",
       " 2889,\n",
       " 2881,\n",
       " 2886,\n",
       " 2888,\n",
       " 574,\n",
       " 2899,\n",
       " 2897,\n",
       " 2903,\n",
       " 23,\n",
       " 2908,\n",
       " 578,\n",
       " 2917,\n",
       " 2909,\n",
       " 2910,\n",
       " 2923,\n",
       " 2925,\n",
       " 2920,\n",
       " 2933,\n",
       " 2941,\n",
       " 2939,\n",
       " 2943,\n",
       " 2946,\n",
       " 2948,\n",
       " 2942,\n",
       " ...}"
      ]
     },
     "execution_count": 93,
     "metadata": {},
     "output_type": "execute_result"
    }
   ],
   "source": [
    "absolutely_unique_sites"
   ]
  },
  {
   "cell_type": "code",
   "execution_count": 97,
   "metadata": {
    "execution": {
     "iopub.execute_input": "2021-08-16T17:06:46.836740Z",
     "iopub.status.busy": "2021-08-16T17:06:46.836005Z",
     "iopub.status.idle": "2021-08-16T17:06:46.845057Z",
     "shell.execute_reply": "2021-08-16T17:06:46.843907Z",
     "shell.execute_reply.started": "2021-08-16T17:06:46.836684Z"
    }
   },
   "outputs": [
    {
     "data": {
      "text/plain": [
       "285"
      ]
     },
     "execution_count": 97,
     "metadata": {},
     "output_type": "execute_result"
    }
   ],
   "source": [
    "site_counts[13122]"
   ]
  },
  {
   "cell_type": "code",
   "execution_count": 98,
   "metadata": {
    "execution": {
     "iopub.execute_input": "2021-08-16T17:06:55.062815Z",
     "iopub.status.busy": "2021-08-16T17:06:55.062408Z",
     "iopub.status.idle": "2021-08-16T17:06:55.068588Z",
     "shell.execute_reply": "2021-08-16T17:06:55.067728Z",
     "shell.execute_reply.started": "2021-08-16T17:06:55.062780Z"
    }
   },
   "outputs": [
    {
     "data": {
      "text/plain": [
       "'www.mangahere.com'"
      ]
     },
     "execution_count": 98,
     "metadata": {},
     "output_type": "execute_result"
    }
   ],
   "source": [
    "id2site[13122]"
   ]
  },
  {
   "cell_type": "code",
   "execution_count": 46,
   "metadata": {
    "execution": {
     "iopub.execute_input": "2021-08-16T18:04:10.938075Z",
     "iopub.status.busy": "2021-08-16T18:04:10.937514Z",
     "iopub.status.idle": "2021-08-16T18:04:12.121763Z",
     "shell.execute_reply": "2021-08-16T18:04:12.121100Z",
     "shell.execute_reply.started": "2021-08-16T18:04:10.938040Z"
    }
   },
   "outputs": [
    {
     "data": {
      "text/plain": [
       "41602"
      ]
     },
     "execution_count": 46,
     "metadata": {},
     "output_type": "execute_result"
    }
   ],
   "source": [
    "set_of_sites = set()\n",
    "for session in df_train_sites.values:\n",
    "    set_of_sites.update(session)\n",
    "len(set_of_sites)"
   ]
  },
  {
   "cell_type": "code",
   "execution_count": 48,
   "metadata": {
    "execution": {
     "iopub.execute_input": "2021-08-16T18:04:26.361811Z",
     "iopub.status.busy": "2021-08-16T18:04:26.361472Z",
     "iopub.status.idle": "2021-08-16T18:04:26.382045Z",
     "shell.execute_reply": "2021-08-16T18:04:26.381022Z",
     "shell.execute_reply.started": "2021-08-16T18:04:26.361780Z"
    }
   },
   "outputs": [
    {
     "data": {
      "text/plain": [
       "1054"
      ]
     },
     "execution_count": 48,
     "metadata": {},
     "output_type": "execute_result"
    }
   ],
   "source": [
    "set_of_sites_target = set()\n",
    "for session in df_train_sites[y_train == 1].values:\n",
    "    set_of_sites_target.update(session)\n",
    "len(set_of_sites_target)"
   ]
  },
  {
   "cell_type": "code",
   "execution_count": 49,
   "metadata": {
    "execution": {
     "iopub.execute_input": "2021-08-16T18:04:31.873245Z",
     "iopub.status.busy": "2021-08-16T18:04:31.872866Z",
     "iopub.status.idle": "2021-08-16T18:04:31.881388Z",
     "shell.execute_reply": "2021-08-16T18:04:31.880383Z",
     "shell.execute_reply.started": "2021-08-16T18:04:31.873215Z"
    }
   },
   "outputs": [
    {
     "data": {
      "text/plain": [
       "1054"
      ]
     },
     "execution_count": 49,
     "metadata": {},
     "output_type": "execute_result"
    }
   ],
   "source": [
    "len(set_of_sites_target.intersection(set_of_sites))"
   ]
  },
  {
   "cell_type": "markdown",
   "metadata": {},
   "source": [
    "TBD"
   ]
  },
  {
   "cell_type": "markdown",
   "metadata": {},
   "source": [
    "==============================="
   ]
  },
  {
   "cell_type": "code",
   "execution_count": 109,
   "metadata": {
    "execution": {
     "iopub.execute_input": "2021-08-12T17:12:52.722613Z",
     "iopub.status.busy": "2021-08-12T17:12:52.722231Z",
     "iopub.status.idle": "2021-08-12T17:12:52.733621Z",
     "shell.execute_reply": "2021-08-12T17:12:52.732666Z",
     "shell.execute_reply.started": "2021-08-12T17:12:52.722582Z"
    }
   },
   "outputs": [],
   "source": [
    "class AttributesAdder(BaseEstimator, TransformerMixin):\n",
    "    \"\"\"\n",
    "    Add new attributes to training and test set.\n",
    "    \"\"\" \n",
    "    def fit(self, X, y=None):\n",
    "        return self \n",
    "    \n",
    "    def transform(self, X, y=None):\n",
    "        # intraday features\n",
    "        hour = X['time1'].apply(lambda ts: ts.hour)\n",
    "        morning = ((hour >= 7) & (hour <= 11)).astype('int')\n",
    "        day = ((hour >= 12) & (hour <= 18)).astype('int')\n",
    "        evening = ((hour >= 19) & (hour <= 23)).astype('int')\n",
    "        \n",
    "        # season features\n",
    "        month = X['time1'].apply(lambda ts: ts.month)\n",
    "        summer = ((month >= 6) & (month <= 8)).astype('int')\n",
    "        \n",
    "        # day of the week features\n",
    "        weekday = X['time1'].apply(lambda ts: ts.weekday()).astype('int')\n",
    "        #     is_monday = np.isin(weekday, [0])\n",
    "        #     is_wednesday = np.isin(weekday, [2])\n",
    "        #     is_sunday = np.isin(weekday, [6])\n",
    "        #     is_weekend = np.isin(weekday, [0, 2, 6])\n",
    "        #     weekdays = pd.get_dummies(weekday.flatten()).to_numpy().reshape(7, -1, 1)\n",
    "        \n",
    "        # year features\n",
    "        year = X['time1'].apply(lambda ts: ts.year).astype('int') #/ 1e3\n",
    "#         year_month = X['time1'].apply(lambda t: 100 * t.year + t.month) / 1e5\n",
    "\n",
    "        times = ['time%s' % i for i in range(1, 11)]\n",
    "        session_duration = (X[times].max(axis=1) - X[times].min(axis=1)).astype('timedelta64[ms]').astype(int) #** 0.2\n",
    "        \n",
    "        X = np.c_[morning.values, day.values, evening.values]\n",
    "\n",
    "        return X"
   ]
  },
  {
   "cell_type": "code",
   "execution_count": null,
   "metadata": {
    "execution": {
     "iopub.execute_input": "2021-08-12T17:04:54.266203Z",
     "iopub.status.busy": "2021-08-12T17:04:54.265687Z",
     "iopub.status.idle": "2021-08-12T17:04:54.274086Z",
     "shell.execute_reply": "2021-08-12T17:04:54.273361Z",
     "shell.execute_reply.started": "2021-08-12T17:04:54.266137Z"
    }
   },
   "outputs": [],
   "source": [
    "# class ScaledAttributesAdder(BaseEstimator, TransformerMixin):\n",
    "#     \"\"\"\n",
    "#     Add new features, that should be scaled.\n",
    "#     \"\"\"\n",
    "#     def fit(self, X, y=None):\n",
    "#         return self\n",
    "    \n",
    "#     def transform(self, X, y=None):\n",
    "#         # session time features\n",
    "#         times = ['time%s' % i for i in range(1, 11)]\n",
    "#         sites = ['site%s' % i for i in range(1, 11)]\n",
    "        \n",
    "#         # session duration: take to the power of 1/5 to normalize the distribution\n",
    "#         session_duration = (X[times].max(axis=1) - X[times].min(axis=1)).astype('timedelta64[ms]').astype(int) #** 0.2\n",
    "        \n",
    "#         # number of sites visited in a session\n",
    "#         number_of_sites = X[times].isnull().sum(axis=1).apply(lambda x: 10 - x)\n",
    "        \n",
    "#         # average time spent on one site during a session\n",
    "#         time_per_site = (session_duration / number_of_sites) #** 0.2\n",
    "        \n",
    "# #         unique_sites = X[sites].apply(lambda sites: sites.nunique(), axis=1)\n",
    "        \n",
    "#         X = np.c_[session_duration.values]\n",
    "#         return X"
   ]
  },
  {
   "cell_type": "code",
   "execution_count": 110,
   "metadata": {
    "execution": {
     "iopub.execute_input": "2021-08-12T17:13:12.640156Z",
     "iopub.status.busy": "2021-08-12T17:13:12.638015Z",
     "iopub.status.idle": "2021-08-12T17:13:12.655557Z",
     "shell.execute_reply": "2021-08-12T17:13:12.654739Z",
     "shell.execute_reply.started": "2021-08-12T17:13:12.640112Z"
    }
   },
   "outputs": [],
   "source": [
    "attributes_pipeline = Pipeline([\n",
    "    (\"adder\", AttributesAdder()),\n",
    "    (\"scaler\", StandardScaler())\n",
    "])\n",
    "\n",
    "# scaled_attributes_pipeline = Pipeline([\n",
    "#     (\"adder\", ScaledAttributesAdder()),\n",
    "#     (\"scaler\", StandardScaler())\n",
    "# ])\n",
    "\n",
    "# feature_pipeline = FeatureUnion(transformer_list=[\n",
    "#     ('attributes_pipeline', attributes_pipeline),\n",
    "#     ('scaled_attributes_pipeline', scaled_attributes_pipeline)\n",
    "# ])"
   ]
  },
  {
   "cell_type": "code",
   "execution_count": 111,
   "metadata": {
    "execution": {
     "iopub.execute_input": "2021-08-12T17:13:45.705443Z",
     "iopub.status.busy": "2021-08-12T17:13:45.704897Z",
     "iopub.status.idle": "2021-08-12T17:13:52.337371Z",
     "shell.execute_reply": "2021-08-12T17:13:52.336289Z",
     "shell.execute_reply.started": "2021-08-12T17:13:45.705409Z"
    }
   },
   "outputs": [
    {
     "name": "stdout",
     "output_type": "stream",
     "text": [
      "CPU times: user 8.34 s, sys: 15.8 ms, total: 8.35 s\n",
      "Wall time: 8.33 s\n"
     ]
    }
   ],
   "source": [
    "%%time\n",
    "X_train_features = attributes_pipeline.fit_transform(df_train)"
   ]
  },
  {
   "cell_type": "code",
   "execution_count": 118,
   "metadata": {
    "execution": {
     "iopub.execute_input": "2021-08-12T17:13:52.339855Z",
     "iopub.status.busy": "2021-08-12T17:13:52.339279Z",
     "iopub.status.idle": "2021-08-12T17:13:52.544356Z",
     "shell.execute_reply": "2021-08-12T17:13:52.543309Z",
     "shell.execute_reply.started": "2021-08-12T17:13:52.339811Z"
    }
   },
   "outputs": [
    {
     "data": {
      "text/plain": [
       "<253561x50003 sparse matrix of type '<class 'numpy.float64'>'\n",
       "\twith 4615059 stored elements in COOrdinate format>"
      ]
     },
     "execution_count": 118,
     "metadata": {},
     "output_type": "execute_result"
    }
   ],
   "source": [
    "X_train = hstack([X_train_vectorized, X_train_features])\n",
    "X_train"
   ]
  },
  {
   "cell_type": "markdown",
   "metadata": {},
   "source": [
    "========================================="
   ]
  },
  {
   "cell_type": "markdown",
   "metadata": {},
   "source": [
    "#### Feature selection"
   ]
  },
  {
   "cell_type": "code",
   "execution_count": 40,
   "metadata": {
    "execution": {
     "iopub.execute_input": "2021-08-16T18:33:12.929305Z",
     "iopub.status.busy": "2021-08-16T18:33:12.928868Z",
     "iopub.status.idle": "2021-08-16T18:33:12.934013Z",
     "shell.execute_reply": "2021-08-16T18:33:12.933066Z",
     "shell.execute_reply.started": "2021-08-16T18:33:12.929266Z"
    }
   },
   "outputs": [],
   "source": [
    "from sklearn.preprocessing import StandardScaler"
   ]
  },
  {
   "cell_type": "code",
   "execution_count": 85,
   "metadata": {
    "execution": {
     "iopub.execute_input": "2021-08-16T19:24:37.219640Z",
     "iopub.status.busy": "2021-08-16T19:24:37.219151Z",
     "iopub.status.idle": "2021-08-16T19:24:37.249986Z",
     "shell.execute_reply": "2021-08-16T19:24:37.249202Z",
     "shell.execute_reply.started": "2021-08-16T19:24:37.219607Z"
    }
   },
   "outputs": [
    {
     "data": {
      "text/html": [
       "<div>\n",
       "<style scoped>\n",
       "    .dataframe tbody tr th:only-of-type {\n",
       "        vertical-align: middle;\n",
       "    }\n",
       "\n",
       "    .dataframe tbody tr th {\n",
       "        vertical-align: top;\n",
       "    }\n",
       "\n",
       "    .dataframe thead th {\n",
       "        text-align: right;\n",
       "    }\n",
       "</style>\n",
       "<table border=\"1\" class=\"dataframe\">\n",
       "  <thead>\n",
       "    <tr style=\"text-align: right;\">\n",
       "      <th></th>\n",
       "      <th>hour</th>\n",
       "      <th>morning</th>\n",
       "      <th>midday</th>\n",
       "      <th>evening</th>\n",
       "      <th>month</th>\n",
       "      <th>year</th>\n",
       "      <th>day</th>\n",
       "      <th>weekend</th>\n",
       "      <th>duration</th>\n",
       "      <th>summer</th>\n",
       "      <th>has_top10</th>\n",
       "      <th>n_unique</th>\n",
       "    </tr>\n",
       "    <tr>\n",
       "      <th>session_id</th>\n",
       "      <th></th>\n",
       "      <th></th>\n",
       "      <th></th>\n",
       "      <th></th>\n",
       "      <th></th>\n",
       "      <th></th>\n",
       "      <th></th>\n",
       "      <th></th>\n",
       "      <th></th>\n",
       "      <th></th>\n",
       "      <th></th>\n",
       "      <th></th>\n",
       "    </tr>\n",
       "  </thead>\n",
       "  <tbody>\n",
       "    <tr>\n",
       "      <th>21669</th>\n",
       "      <td>8</td>\n",
       "      <td>1</td>\n",
       "      <td>0</td>\n",
       "      <td>0</td>\n",
       "      <td>1</td>\n",
       "      <td>2013</td>\n",
       "      <td>5</td>\n",
       "      <td>1</td>\n",
       "      <td>0.0</td>\n",
       "      <td>0</td>\n",
       "      <td>0</td>\n",
       "      <td>2</td>\n",
       "    </tr>\n",
       "    <tr>\n",
       "      <th>54843</th>\n",
       "      <td>8</td>\n",
       "      <td>1</td>\n",
       "      <td>0</td>\n",
       "      <td>0</td>\n",
       "      <td>1</td>\n",
       "      <td>2013</td>\n",
       "      <td>5</td>\n",
       "      <td>1</td>\n",
       "      <td>1786.0</td>\n",
       "      <td>0</td>\n",
       "      <td>0</td>\n",
       "      <td>2</td>\n",
       "    </tr>\n",
       "    <tr>\n",
       "      <th>77292</th>\n",
       "      <td>8</td>\n",
       "      <td>1</td>\n",
       "      <td>0</td>\n",
       "      <td>0</td>\n",
       "      <td>1</td>\n",
       "      <td>2013</td>\n",
       "      <td>5</td>\n",
       "      <td>1</td>\n",
       "      <td>4.0</td>\n",
       "      <td>0</td>\n",
       "      <td>0</td>\n",
       "      <td>6</td>\n",
       "    </tr>\n",
       "    <tr>\n",
       "      <th>114021</th>\n",
       "      <td>8</td>\n",
       "      <td>1</td>\n",
       "      <td>0</td>\n",
       "      <td>0</td>\n",
       "      <td>1</td>\n",
       "      <td>2013</td>\n",
       "      <td>5</td>\n",
       "      <td>1</td>\n",
       "      <td>3.0</td>\n",
       "      <td>0</td>\n",
       "      <td>0</td>\n",
       "      <td>5</td>\n",
       "    </tr>\n",
       "    <tr>\n",
       "      <th>146670</th>\n",
       "      <td>8</td>\n",
       "      <td>1</td>\n",
       "      <td>0</td>\n",
       "      <td>0</td>\n",
       "      <td>1</td>\n",
       "      <td>2013</td>\n",
       "      <td>5</td>\n",
       "      <td>1</td>\n",
       "      <td>2.0</td>\n",
       "      <td>0</td>\n",
       "      <td>0</td>\n",
       "      <td>6</td>\n",
       "    </tr>\n",
       "    <tr>\n",
       "      <th>...</th>\n",
       "      <td>...</td>\n",
       "      <td>...</td>\n",
       "      <td>...</td>\n",
       "      <td>...</td>\n",
       "      <td>...</td>\n",
       "      <td>...</td>\n",
       "      <td>...</td>\n",
       "      <td>...</td>\n",
       "      <td>...</td>\n",
       "      <td>...</td>\n",
       "      <td>...</td>\n",
       "      <td>...</td>\n",
       "    </tr>\n",
       "    <tr>\n",
       "      <th>12224</th>\n",
       "      <td>23</td>\n",
       "      <td>0</td>\n",
       "      <td>0</td>\n",
       "      <td>1</td>\n",
       "      <td>4</td>\n",
       "      <td>2014</td>\n",
       "      <td>2</td>\n",
       "      <td>0</td>\n",
       "      <td>12.0</td>\n",
       "      <td>0</td>\n",
       "      <td>1</td>\n",
       "      <td>6</td>\n",
       "    </tr>\n",
       "    <tr>\n",
       "      <th>164438</th>\n",
       "      <td>23</td>\n",
       "      <td>0</td>\n",
       "      <td>0</td>\n",
       "      <td>1</td>\n",
       "      <td>4</td>\n",
       "      <td>2014</td>\n",
       "      <td>2</td>\n",
       "      <td>0</td>\n",
       "      <td>178.0</td>\n",
       "      <td>0</td>\n",
       "      <td>1</td>\n",
       "      <td>7</td>\n",
       "    </tr>\n",
       "    <tr>\n",
       "      <th>12221</th>\n",
       "      <td>23</td>\n",
       "      <td>0</td>\n",
       "      <td>0</td>\n",
       "      <td>1</td>\n",
       "      <td>4</td>\n",
       "      <td>2014</td>\n",
       "      <td>2</td>\n",
       "      <td>0</td>\n",
       "      <td>28.0</td>\n",
       "      <td>0</td>\n",
       "      <td>1</td>\n",
       "      <td>8</td>\n",
       "    </tr>\n",
       "    <tr>\n",
       "      <th>156968</th>\n",
       "      <td>23</td>\n",
       "      <td>0</td>\n",
       "      <td>0</td>\n",
       "      <td>1</td>\n",
       "      <td>4</td>\n",
       "      <td>2014</td>\n",
       "      <td>2</td>\n",
       "      <td>0</td>\n",
       "      <td>77.0</td>\n",
       "      <td>0</td>\n",
       "      <td>0</td>\n",
       "      <td>7</td>\n",
       "    </tr>\n",
       "    <tr>\n",
       "      <th>204762</th>\n",
       "      <td>23</td>\n",
       "      <td>0</td>\n",
       "      <td>0</td>\n",
       "      <td>1</td>\n",
       "      <td>4</td>\n",
       "      <td>2014</td>\n",
       "      <td>2</td>\n",
       "      <td>0</td>\n",
       "      <td>12.0</td>\n",
       "      <td>0</td>\n",
       "      <td>0</td>\n",
       "      <td>5</td>\n",
       "    </tr>\n",
       "  </tbody>\n",
       "</table>\n",
       "<p>253561 rows × 12 columns</p>\n",
       "</div>"
      ],
      "text/plain": [
       "            hour  morning  midday  evening  month  year  day  weekend  \\\n",
       "session_id                                                              \n",
       "21669          8        1       0        0      1  2013    5        1   \n",
       "54843          8        1       0        0      1  2013    5        1   \n",
       "77292          8        1       0        0      1  2013    5        1   \n",
       "114021         8        1       0        0      1  2013    5        1   \n",
       "146670         8        1       0        0      1  2013    5        1   \n",
       "...          ...      ...     ...      ...    ...   ...  ...      ...   \n",
       "12224         23        0       0        1      4  2014    2        0   \n",
       "164438        23        0       0        1      4  2014    2        0   \n",
       "12221         23        0       0        1      4  2014    2        0   \n",
       "156968        23        0       0        1      4  2014    2        0   \n",
       "204762        23        0       0        1      4  2014    2        0   \n",
       "\n",
       "            duration  summer  has_top10  n_unique  \n",
       "session_id                                         \n",
       "21669            0.0       0          0         2  \n",
       "54843         1786.0       0          0         2  \n",
       "77292            4.0       0          0         6  \n",
       "114021           3.0       0          0         5  \n",
       "146670           2.0       0          0         6  \n",
       "...              ...     ...        ...       ...  \n",
       "12224           12.0       0          1         6  \n",
       "164438         178.0       0          1         7  \n",
       "12221           28.0       0          1         8  \n",
       "156968          77.0       0          0         7  \n",
       "204762          12.0       0          0         5  \n",
       "\n",
       "[253561 rows x 12 columns]"
      ]
     },
     "execution_count": 85,
     "metadata": {},
     "output_type": "execute_result"
    }
   ],
   "source": [
    "X_train_features = pd.concat([time_features, site_features], axis=1)\n",
    "X_train_features"
   ]
  },
  {
   "cell_type": "code",
   "execution_count": 86,
   "metadata": {
    "execution": {
     "iopub.execute_input": "2021-08-16T19:24:40.722527Z",
     "iopub.status.busy": "2021-08-16T19:24:40.721840Z",
     "iopub.status.idle": "2021-08-16T19:24:40.850098Z",
     "shell.execute_reply": "2021-08-16T19:24:40.848894Z",
     "shell.execute_reply.started": "2021-08-16T19:24:40.722472Z"
    }
   },
   "outputs": [
    {
     "data": {
      "text/html": [
       "<div>\n",
       "<style scoped>\n",
       "    .dataframe tbody tr th:only-of-type {\n",
       "        vertical-align: middle;\n",
       "    }\n",
       "\n",
       "    .dataframe tbody tr th {\n",
       "        vertical-align: top;\n",
       "    }\n",
       "\n",
       "    .dataframe thead th {\n",
       "        text-align: right;\n",
       "    }\n",
       "</style>\n",
       "<table border=\"1\" class=\"dataframe\">\n",
       "  <thead>\n",
       "    <tr style=\"text-align: right;\">\n",
       "      <th></th>\n",
       "      <th>hour</th>\n",
       "      <th>morning</th>\n",
       "      <th>midday</th>\n",
       "      <th>evening</th>\n",
       "      <th>month</th>\n",
       "      <th>year</th>\n",
       "      <th>day</th>\n",
       "      <th>weekend</th>\n",
       "      <th>duration</th>\n",
       "      <th>summer</th>\n",
       "      <th>has_top10</th>\n",
       "      <th>n_unique</th>\n",
       "    </tr>\n",
       "  </thead>\n",
       "  <tbody>\n",
       "    <tr>\n",
       "      <th>0</th>\n",
       "      <td>-1.357366</td>\n",
       "      <td>1.039061</td>\n",
       "      <td>-0.98128</td>\n",
       "      <td>-0.171577</td>\n",
       "      <td>-0.943567</td>\n",
       "      <td>-1.547749</td>\n",
       "      <td>1.682905</td>\n",
       "      <td>3.156257</td>\n",
       "      <td>-0.468233</td>\n",
       "      <td>-0.100251</td>\n",
       "      <td>-1.400389</td>\n",
       "      <td>-1.457582</td>\n",
       "    </tr>\n",
       "    <tr>\n",
       "      <th>1</th>\n",
       "      <td>-1.357366</td>\n",
       "      <td>1.039061</td>\n",
       "      <td>-0.98128</td>\n",
       "      <td>-0.171577</td>\n",
       "      <td>-0.943567</td>\n",
       "      <td>-1.547749</td>\n",
       "      <td>1.682905</td>\n",
       "      <td>3.156257</td>\n",
       "      <td>5.570015</td>\n",
       "      <td>-0.100251</td>\n",
       "      <td>-1.400389</td>\n",
       "      <td>-1.457582</td>\n",
       "    </tr>\n",
       "    <tr>\n",
       "      <th>2</th>\n",
       "      <td>-1.357366</td>\n",
       "      <td>1.039061</td>\n",
       "      <td>-0.98128</td>\n",
       "      <td>-0.171577</td>\n",
       "      <td>-0.943567</td>\n",
       "      <td>-1.547749</td>\n",
       "      <td>1.682905</td>\n",
       "      <td>3.156257</td>\n",
       "      <td>-0.454709</td>\n",
       "      <td>-0.100251</td>\n",
       "      <td>-1.400389</td>\n",
       "      <td>0.144865</td>\n",
       "    </tr>\n",
       "    <tr>\n",
       "      <th>3</th>\n",
       "      <td>-1.357366</td>\n",
       "      <td>1.039061</td>\n",
       "      <td>-0.98128</td>\n",
       "      <td>-0.171577</td>\n",
       "      <td>-0.943567</td>\n",
       "      <td>-1.547749</td>\n",
       "      <td>1.682905</td>\n",
       "      <td>3.156257</td>\n",
       "      <td>-0.458090</td>\n",
       "      <td>-0.100251</td>\n",
       "      <td>-1.400389</td>\n",
       "      <td>-0.255747</td>\n",
       "    </tr>\n",
       "    <tr>\n",
       "      <th>4</th>\n",
       "      <td>-1.357366</td>\n",
       "      <td>1.039061</td>\n",
       "      <td>-0.98128</td>\n",
       "      <td>-0.171577</td>\n",
       "      <td>-0.943567</td>\n",
       "      <td>-1.547749</td>\n",
       "      <td>1.682905</td>\n",
       "      <td>3.156257</td>\n",
       "      <td>-0.461471</td>\n",
       "      <td>-0.100251</td>\n",
       "      <td>-1.400389</td>\n",
       "      <td>0.144865</td>\n",
       "    </tr>\n",
       "    <tr>\n",
       "      <th>...</th>\n",
       "      <td>...</td>\n",
       "      <td>...</td>\n",
       "      <td>...</td>\n",
       "      <td>...</td>\n",
       "      <td>...</td>\n",
       "      <td>...</td>\n",
       "      <td>...</td>\n",
       "      <td>...</td>\n",
       "      <td>...</td>\n",
       "      <td>...</td>\n",
       "      <td>...</td>\n",
       "      <td>...</td>\n",
       "    </tr>\n",
       "    <tr>\n",
       "      <th>253556</th>\n",
       "      <td>3.390349</td>\n",
       "      <td>-0.962408</td>\n",
       "      <td>-0.98128</td>\n",
       "      <td>5.828302</td>\n",
       "      <td>-0.137395</td>\n",
       "      <td>0.646100</td>\n",
       "      <td>-0.179911</td>\n",
       "      <td>-0.316831</td>\n",
       "      <td>-0.427662</td>\n",
       "      <td>-0.100251</td>\n",
       "      <td>0.714087</td>\n",
       "      <td>0.144865</td>\n",
       "    </tr>\n",
       "    <tr>\n",
       "      <th>253557</th>\n",
       "      <td>3.390349</td>\n",
       "      <td>-0.962408</td>\n",
       "      <td>-0.98128</td>\n",
       "      <td>5.828302</td>\n",
       "      <td>-0.137395</td>\n",
       "      <td>0.646100</td>\n",
       "      <td>-0.179911</td>\n",
       "      <td>-0.316831</td>\n",
       "      <td>0.133564</td>\n",
       "      <td>-0.100251</td>\n",
       "      <td>0.714087</td>\n",
       "      <td>0.545477</td>\n",
       "    </tr>\n",
       "    <tr>\n",
       "      <th>253558</th>\n",
       "      <td>3.390349</td>\n",
       "      <td>-0.962408</td>\n",
       "      <td>-0.98128</td>\n",
       "      <td>5.828302</td>\n",
       "      <td>-0.137395</td>\n",
       "      <td>0.646100</td>\n",
       "      <td>-0.179911</td>\n",
       "      <td>-0.316831</td>\n",
       "      <td>-0.373568</td>\n",
       "      <td>-0.100251</td>\n",
       "      <td>0.714087</td>\n",
       "      <td>0.946088</td>\n",
       "    </tr>\n",
       "    <tr>\n",
       "      <th>253559</th>\n",
       "      <td>3.390349</td>\n",
       "      <td>-0.962408</td>\n",
       "      <td>-0.98128</td>\n",
       "      <td>5.828302</td>\n",
       "      <td>-0.137395</td>\n",
       "      <td>0.646100</td>\n",
       "      <td>-0.179911</td>\n",
       "      <td>-0.316831</td>\n",
       "      <td>-0.207905</td>\n",
       "      <td>-0.100251</td>\n",
       "      <td>-1.400389</td>\n",
       "      <td>0.545477</td>\n",
       "    </tr>\n",
       "    <tr>\n",
       "      <th>253560</th>\n",
       "      <td>3.390349</td>\n",
       "      <td>-0.962408</td>\n",
       "      <td>-0.98128</td>\n",
       "      <td>5.828302</td>\n",
       "      <td>-0.137395</td>\n",
       "      <td>0.646100</td>\n",
       "      <td>-0.179911</td>\n",
       "      <td>-0.316831</td>\n",
       "      <td>-0.427662</td>\n",
       "      <td>-0.100251</td>\n",
       "      <td>-1.400389</td>\n",
       "      <td>-0.255747</td>\n",
       "    </tr>\n",
       "  </tbody>\n",
       "</table>\n",
       "<p>253561 rows × 12 columns</p>\n",
       "</div>"
      ],
      "text/plain": [
       "            hour   morning   midday   evening     month      year       day  \\\n",
       "0      -1.357366  1.039061 -0.98128 -0.171577 -0.943567 -1.547749  1.682905   \n",
       "1      -1.357366  1.039061 -0.98128 -0.171577 -0.943567 -1.547749  1.682905   \n",
       "2      -1.357366  1.039061 -0.98128 -0.171577 -0.943567 -1.547749  1.682905   \n",
       "3      -1.357366  1.039061 -0.98128 -0.171577 -0.943567 -1.547749  1.682905   \n",
       "4      -1.357366  1.039061 -0.98128 -0.171577 -0.943567 -1.547749  1.682905   \n",
       "...          ...       ...      ...       ...       ...       ...       ...   \n",
       "253556  3.390349 -0.962408 -0.98128  5.828302 -0.137395  0.646100 -0.179911   \n",
       "253557  3.390349 -0.962408 -0.98128  5.828302 -0.137395  0.646100 -0.179911   \n",
       "253558  3.390349 -0.962408 -0.98128  5.828302 -0.137395  0.646100 -0.179911   \n",
       "253559  3.390349 -0.962408 -0.98128  5.828302 -0.137395  0.646100 -0.179911   \n",
       "253560  3.390349 -0.962408 -0.98128  5.828302 -0.137395  0.646100 -0.179911   \n",
       "\n",
       "         weekend  duration    summer  has_top10  n_unique  \n",
       "0       3.156257 -0.468233 -0.100251  -1.400389 -1.457582  \n",
       "1       3.156257  5.570015 -0.100251  -1.400389 -1.457582  \n",
       "2       3.156257 -0.454709 -0.100251  -1.400389  0.144865  \n",
       "3       3.156257 -0.458090 -0.100251  -1.400389 -0.255747  \n",
       "4       3.156257 -0.461471 -0.100251  -1.400389  0.144865  \n",
       "...          ...       ...       ...        ...       ...  \n",
       "253556 -0.316831 -0.427662 -0.100251   0.714087  0.144865  \n",
       "253557 -0.316831  0.133564 -0.100251   0.714087  0.545477  \n",
       "253558 -0.316831 -0.373568 -0.100251   0.714087  0.946088  \n",
       "253559 -0.316831 -0.207905 -0.100251  -1.400389  0.545477  \n",
       "253560 -0.316831 -0.427662 -0.100251  -1.400389 -0.255747  \n",
       "\n",
       "[253561 rows x 12 columns]"
      ]
     },
     "execution_count": 86,
     "metadata": {},
     "output_type": "execute_result"
    }
   ],
   "source": [
    "X_train_features_scaled = pd.DataFrame(StandardScaler().fit_transform(X_train_features), columns=X_train_features.columns)\n",
    "X_train_features_scaled"
   ]
  },
  {
   "cell_type": "code",
   "execution_count": 87,
   "metadata": {
    "execution": {
     "iopub.execute_input": "2021-08-16T19:24:45.738359Z",
     "iopub.status.busy": "2021-08-16T19:24:45.737996Z",
     "iopub.status.idle": "2021-08-16T19:24:45.832401Z",
     "shell.execute_reply": "2021-08-16T19:24:45.831397Z",
     "shell.execute_reply.started": "2021-08-16T19:24:45.738329Z"
    }
   },
   "outputs": [
    {
     "data": {
      "text/plain": [
       "<253561x20007 sparse matrix of type '<class 'numpy.float64'>'\n",
       "\twith 4273177 stored elements in COOrdinate format>"
      ]
     },
     "execution_count": 87,
     "metadata": {},
     "output_type": "execute_result"
    }
   ],
   "source": [
    "X_train = hstack([X_train_vectorized, pd.DataFrame(X_train_features_scaled[['morning', 'evening', \n",
    "                                                                            'midday', 'weekend', 'summer', \n",
    "                                                                            'year', 'duration']])])\n",
    "X_train"
   ]
  },
  {
   "cell_type": "code",
   "execution_count": null,
   "metadata": {},
   "outputs": [],
   "source": [
    "# pd.DataFrame(X_train_features, columns=feature_names)"
   ]
  },
  {
   "cell_type": "markdown",
   "metadata": {
    "id": "hsXfmxYHevpX"
   },
   "source": [
    "### Модель"
   ]
  },
  {
   "cell_type": "code",
   "execution_count": 44,
   "metadata": {
    "execution": {
     "iopub.execute_input": "2021-08-16T18:27:18.286884Z",
     "iopub.status.busy": "2021-08-16T18:27:18.286530Z",
     "iopub.status.idle": "2021-08-16T18:27:18.424479Z",
     "shell.execute_reply": "2021-08-16T18:27:18.423556Z",
     "shell.execute_reply.started": "2021-08-16T18:27:18.286853Z"
    }
   },
   "outputs": [],
   "source": [
    "from sklearn.model_selection import cross_val_score, TimeSeriesSplit\n",
    "from sklearn.linear_model import SGDClassifier, LogisticRegression\n",
    "from sklearn.metrics import roc_auc_score\n",
    "from sklearn.model_selection import GridSearchCV"
   ]
  },
  {
   "cell_type": "markdown",
   "metadata": {},
   "source": [
    "#### Обучение и подбор гиперпараметров"
   ]
  },
  {
   "cell_type": "code",
   "execution_count": 45,
   "metadata": {
    "execution": {
     "iopub.execute_input": "2021-08-16T18:27:19.150634Z",
     "iopub.status.busy": "2021-08-16T18:27:19.150168Z",
     "iopub.status.idle": "2021-08-16T18:27:19.155169Z",
     "shell.execute_reply": "2021-08-16T18:27:19.154020Z",
     "shell.execute_reply.started": "2021-08-16T18:27:19.150602Z"
    }
   },
   "outputs": [],
   "source": [
    "model = SGDClassifier(loss='log', random_state=2179, n_jobs=-1)\n",
    "time_split = TimeSeriesSplit(n_splits=10)"
   ]
  },
  {
   "cell_type": "code",
   "execution_count": 100,
   "metadata": {},
   "outputs": [
    {
     "data": {
      "text/plain": [
       "{'alpha': 0.0001,\n",
       " 'average': False,\n",
       " 'class_weight': None,\n",
       " 'early_stopping': False,\n",
       " 'epsilon': 0.1,\n",
       " 'eta0': 0.0,\n",
       " 'fit_intercept': True,\n",
       " 'l1_ratio': 0.15,\n",
       " 'learning_rate': 'optimal',\n",
       " 'loss': 'log',\n",
       " 'max_iter': 1000,\n",
       " 'n_iter_no_change': 5,\n",
       " 'n_jobs': -1,\n",
       " 'penalty': 'l2',\n",
       " 'power_t': 0.5,\n",
       " 'random_state': 2179,\n",
       " 'shuffle': True,\n",
       " 'tol': 0.001,\n",
       " 'validation_fraction': 0.1,\n",
       " 'verbose': 0,\n",
       " 'warm_start': False}"
      ]
     },
     "execution_count": 100,
     "metadata": {},
     "output_type": "execute_result"
    }
   ],
   "source": [
    "model.get_params()"
   ]
  },
  {
   "cell_type": "code",
   "execution_count": null,
   "metadata": {},
   "outputs": [],
   "source": [
    "# grid = {\n",
    "#     'penalty': ['l2'],\n",
    "#     'alpha': np.linspace(3e-05, 5e-05, 11)\n",
    "# }"
   ]
  },
  {
   "cell_type": "code",
   "execution_count": null,
   "metadata": {},
   "outputs": [],
   "source": [
    "# %%time\n",
    "\n",
    "# search = GridSearchCV(model, param_grid=grid, cv=time_split, scoring='roc_auc')\n",
    "# search.fit(X_train, y_train)"
   ]
  },
  {
   "cell_type": "code",
   "execution_count": null,
   "metadata": {},
   "outputs": [],
   "source": [
    "# search.best_params_, search.best_score_"
   ]
  },
  {
   "cell_type": "markdown",
   "metadata": {},
   "source": [
    "======================================================="
   ]
  },
  {
   "cell_type": "code",
   "execution_count": 119,
   "metadata": {
    "execution": {
     "iopub.execute_input": "2021-08-16T19:24:49.339704Z",
     "iopub.status.busy": "2021-08-16T19:24:49.339231Z",
     "iopub.status.idle": "2021-08-16T19:24:53.190503Z",
     "shell.execute_reply": "2021-08-16T19:24:53.189345Z",
     "shell.execute_reply.started": "2021-08-16T19:24:49.339671Z"
    }
   },
   "outputs": [
    {
     "name": "stdout",
     "output_type": "stream",
     "text": [
      "CPU times: user 177 ms, sys: 978 ms, total: 1.16 s\n",
      "Wall time: 3.82 s\n"
     ]
    }
   ],
   "source": [
    "%%time\n",
    "\n",
    "# sites = ['site%s' % i for i in range(1, 11)]\n",
    "\n",
    "cv_scores = cross_val_score(model, X_train_vectorized, y_train, cv=time_split, scoring='roc_auc', n_jobs=-1)"
   ]
  },
  {
   "cell_type": "code",
   "execution_count": 120,
   "metadata": {
    "execution": {
     "iopub.execute_input": "2021-08-16T19:24:53.194510Z",
     "iopub.status.busy": "2021-08-16T19:24:53.194188Z",
     "iopub.status.idle": "2021-08-16T19:24:53.202852Z",
     "shell.execute_reply": "2021-08-16T19:24:53.201904Z",
     "shell.execute_reply.started": "2021-08-16T19:24:53.194476Z"
    }
   },
   "outputs": [
    {
     "data": {
      "text/plain": [
       "(array([0.8038844 , 0.6107144 , 0.87818304, 0.96543246, 0.84813507,\n",
       "        0.90120027, 0.92923085, 0.84222257, 0.93378786, 0.88860549]),\n",
       " 0.8601396414124931,\n",
       " 0.0948413472604181)"
      ]
     },
     "execution_count": 120,
     "metadata": {},
     "output_type": "execute_result"
    }
   ],
   "source": [
    "cv_scores, cv_scores.mean(), cv_scores.std()"
   ]
  },
  {
   "cell_type": "markdown",
   "metadata": {},
   "source": [
    "0.9197500019625826"
   ]
  },
  {
   "cell_type": "markdown",
   "metadata": {},
   "source": [
    "0.9315069358401142,\n",
    " 0.044345068769381366 0 2 6\n",
    "\n",
    "0.9180564468510812,\n",
    " 0.05889198351691508 baseline\n",
    "\n",
    "0.9232962337585114,\n",
    " 0.058257317090901546\n",
    "\n",
    "0.9287111177172779,\n",
    " 0.04434090003756869 2"
   ]
  },
  {
   "cell_type": "markdown",
   "metadata": {},
   "source": [
    "### Тест"
   ]
  },
  {
   "cell_type": "code",
   "execution_count": 90,
   "metadata": {
    "execution": {
     "iopub.execute_input": "2021-08-16T19:25:40.209686Z",
     "iopub.status.busy": "2021-08-16T19:25:40.209287Z",
     "iopub.status.idle": "2021-08-16T19:25:48.233156Z",
     "shell.execute_reply": "2021-08-16T19:25:48.231905Z",
     "shell.execute_reply.started": "2021-08-16T19:25:40.209653Z"
    }
   },
   "outputs": [],
   "source": [
    "import eli5\n",
    "import calendar\n",
    "\n",
    "def write_to_submission_file(predicted_labels, out_file,\n",
    "                             target='target', index_label=\"session_id\"):\n",
    "    # turn predictions into data frame and save as csv file\n",
    "    predicted_df = pd.DataFrame(predicted_labels,\n",
    "                               \n",
    "                                index = np.arange(1, predicted_labels.shape[0] + 1),\n",
    "                                columns=[target])\n",
    "    predicted_df.to_csv(out_file, index_label=index_label)"
   ]
  },
  {
   "cell_type": "code",
   "execution_count": 91,
   "metadata": {
    "scrolled": true
   },
   "outputs": [
    {
     "name": "stdout",
     "output_type": "stream",
     "text": [
      "CPU times: user 3.68 s, sys: 19.4 ms, total: 3.69 s\n",
      "Wall time: 3.68 s\n"
     ]
    },
    {
     "data": {
      "text/plain": [
       "<82797x20007 sparse matrix of type '<class 'numpy.float64'>'\n",
       "\twith 1333204 stored elements in COOrdinate format>"
      ]
     },
     "execution_count": 91,
     "metadata": {},
     "output_type": "execute_result"
    }
   ],
   "source": [
    "%%time\n",
    "X_test_vectorized = vectorizer_pipeline.transform(df_test)\n",
    "X_test_features = attributes_pipeline.transform(df_test)\n",
    "X_test = hstack([X_test_vectorized, X_test_features])\n",
    "\n",
    "X_test"
   ]
  },
  {
   "cell_type": "code",
   "execution_count": 92,
   "metadata": {
    "id": "BO52aSbSevpd",
    "outputId": "14c50521-ed54-4ba0-9f1e-b7e3956970c6"
   },
   "outputs": [],
   "source": [
    "# search.best_estimator_.fit(X_train, y_train)\n",
    "# logit_test_pred_proba = search.best_estimator_.predict_proba(X_test)\n",
    "model.fit(X_train, y_train)\n",
    "logit_test_pred_proba = model.predict_proba(X_test)"
   ]
  },
  {
   "cell_type": "code",
   "execution_count": null,
   "metadata": {},
   "outputs": [],
   "source": [
    "# pd.DataFrame({'feature': feature_names, 'coef': search.best_estimator_.coef_.flatten()[-len(feature_names):]})"
   ]
  },
  {
   "cell_type": "code",
   "execution_count": null,
   "metadata": {},
   "outputs": [],
   "source": [
    "eli5.show_weights(estimator=search.best_estimator_, feature_names=vectorizer_pipeline['vectorizer'].get_feature_names() \\\n",
    "                  + feature_names, top=30)"
   ]
  },
  {
   "cell_type": "code",
   "execution_count": 93,
   "metadata": {
    "id": "OdBll-mpevpf"
   },
   "outputs": [],
   "source": [
    "write_to_submission_file(logit_test_pred_proba[:, 1], 'result.csv')"
   ]
  },
  {
   "cell_type": "code",
   "execution_count": null,
   "metadata": {},
   "outputs": [],
   "source": []
  }
 ],
 "metadata": {
  "kernelspec": {
   "display_name": "Python 3",
   "language": "python",
   "name": "python3"
  },
  "language_info": {
   "codemirror_mode": {
    "name": "ipython",
    "version": 3
   },
   "file_extension": ".py",
   "mimetype": "text/x-python",
   "name": "python",
   "nbconvert_exporter": "python",
   "pygments_lexer": "ipython3",
   "version": "3.8.8"
  }
 },
 "nbformat": 4,
 "nbformat_minor": 4
}
