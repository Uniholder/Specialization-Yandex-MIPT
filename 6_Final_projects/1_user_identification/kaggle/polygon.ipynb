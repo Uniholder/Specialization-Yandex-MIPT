{
 "cells": [
  {
   "cell_type": "code",
   "execution_count": 1,
   "metadata": {
    "execution": {
     "iopub.execute_input": "2021-08-26T17:40:28.623773Z",
     "iopub.status.busy": "2021-08-26T17:40:28.623265Z",
     "iopub.status.idle": "2021-08-26T17:40:28.630180Z",
     "shell.execute_reply": "2021-08-26T17:40:28.628684Z",
     "shell.execute_reply.started": "2021-08-26T17:40:28.623670Z"
    },
    "id": "vp53iRU4evo-"
   },
   "outputs": [],
   "source": [
    "# from scipy.sparse import csr_matrix"
   ]
  },
  {
   "cell_type": "markdown",
   "metadata": {},
   "source": [
    "### Входные данные"
   ]
  },
  {
   "cell_type": "markdown",
   "metadata": {},
   "source": [
    "#### Загрузка"
   ]
  },
  {
   "cell_type": "code",
   "execution_count": 2,
   "metadata": {
    "execution": {
     "iopub.execute_input": "2021-08-26T17:40:28.634594Z",
     "iopub.status.busy": "2021-08-26T17:40:28.634136Z",
     "iopub.status.idle": "2021-08-26T17:40:28.644042Z",
     "shell.execute_reply": "2021-08-26T17:40:28.642227Z",
     "shell.execute_reply.started": "2021-08-26T17:40:28.634556Z"
    },
    "id": "Wg8z9iJlhH8L"
   },
   "outputs": [],
   "source": [
    "# !unzip capstone_user_identification.zip"
   ]
  },
  {
   "cell_type": "code",
   "execution_count": 1,
   "metadata": {
    "execution": {
     "iopub.execute_input": "2021-08-26T17:40:28.646326Z",
     "iopub.status.busy": "2021-08-26T17:40:28.645868Z",
     "iopub.status.idle": "2021-08-26T17:40:28.658332Z",
     "shell.execute_reply": "2021-08-26T17:40:28.657265Z",
     "shell.execute_reply.started": "2021-08-26T17:40:28.646291Z"
    }
   },
   "outputs": [],
   "source": [
    "# from __future__ import division, print_function\n",
    "# отключим всякие предупреждения Anaconda\n",
    "import warnings\n",
    "warnings.filterwarnings('ignore')\n",
    "\n",
    "import os\n",
    "import pandas as pd\n",
    "import pickle"
   ]
  },
  {
   "cell_type": "code",
   "execution_count": 40,
   "metadata": {
    "execution": {
     "iopub.execute_input": "2021-08-26T19:22:55.792543Z",
     "iopub.status.busy": "2021-08-26T19:22:55.792110Z",
     "iopub.status.idle": "2021-08-26T19:22:59.895422Z",
     "shell.execute_reply": "2021-08-26T19:22:59.894234Z",
     "shell.execute_reply.started": "2021-08-26T19:22:55.792496Z"
    },
    "id": "CTCSeq9revpC"
   },
   "outputs": [
    {
     "data": {
      "text/plain": [
       "((253561, 21), (82797, 20))"
      ]
     },
     "execution_count": 40,
     "metadata": {},
     "output_type": "execute_result"
    }
   ],
   "source": [
    "PATH_TO_DATA = '../capstone_user_identification'\n",
    "# PATH_TO_DATA = '../input/catch-me-if-you-can-intruder-detection-through-webpage-session-tracking2'\n",
    "\n",
    "times = ['time%s' % i for i in range(1, 11)]\n",
    "sites = ['site%s' % i for i in range(1, 11)]\n",
    "df_train = pd.read_csv(os.path.join(PATH_TO_DATA, 'train_sessions.csv'), index_col='session_id', parse_dates=times)\n",
    "df_test = pd.read_csv(os.path.join(PATH_TO_DATA, 'test_sessions.csv'), index_col='session_id', parse_dates=times)\n",
    "df_train.shape, df_test.shape"
   ]
  },
  {
   "cell_type": "code",
   "execution_count": 3,
   "metadata": {
    "execution": {
     "iopub.execute_input": "2021-08-26T19:23:02.780854Z",
     "iopub.status.busy": "2021-08-26T19:23:02.780263Z",
     "iopub.status.idle": "2021-08-26T19:23:06.414954Z",
     "shell.execute_reply": "2021-08-26T19:23:06.413992Z",
     "shell.execute_reply.started": "2021-08-26T19:23:02.780808Z"
    }
   },
   "outputs": [],
   "source": [
    "# df_train['year'] = df_train['time1'].apply(lambda ts: ts.year)\n",
    "# df_train['month'] = df_train['time1'].apply(lambda ts: ts.month)\n",
    "\n",
    "# df_train = df_train[df_train.year == 2014]\n",
    "\n",
    "# df_train = df_train[~((df_train.year == 2013) & (df_train.month.isin(range(5))))]"
   ]
  },
  {
   "cell_type": "markdown",
   "metadata": {},
   "source": [
    "Словарь сайтов"
   ]
  },
  {
   "cell_type": "code",
   "execution_count": 6,
   "metadata": {
    "execution": {
     "iopub.execute_input": "2021-08-26T18:56:48.757034Z",
     "iopub.status.busy": "2021-08-26T18:56:48.756449Z",
     "iopub.status.idle": "2021-08-26T18:56:48.799714Z",
     "shell.execute_reply": "2021-08-26T18:56:48.798818Z",
     "shell.execute_reply.started": "2021-08-26T18:56:48.756994Z"
    }
   },
   "outputs": [],
   "source": [
    "with open(os.path.join(PATH_TO_DATA, 'site_dic.pkl'), 'rb') as f:\n",
    "    site2id  = pickle.load(f)\n",
    "id2site = {v:k for (k, v) in site2id.items()}\n",
    "id2site[0] = 'unknown'"
   ]
  },
  {
   "cell_type": "markdown",
   "metadata": {},
   "source": [
    "#### Обработка"
   ]
  },
  {
   "cell_type": "code",
   "execution_count": 41,
   "metadata": {
    "execution": {
     "iopub.execute_input": "2021-08-26T19:23:12.317269Z",
     "iopub.status.busy": "2021-08-26T19:23:12.316815Z",
     "iopub.status.idle": "2021-08-26T19:23:12.405755Z",
     "shell.execute_reply": "2021-08-26T19:23:12.404354Z",
     "shell.execute_reply.started": "2021-08-26T19:23:12.317228Z"
    }
   },
   "outputs": [],
   "source": [
    "df_train.sort_values(by='time1', inplace=True)\n",
    "\n",
    "y_train = df_train[\"target\"].astype('int').values"
   ]
  },
  {
   "cell_type": "markdown",
   "metadata": {},
   "source": [
    "### Feature engineering"
   ]
  },
  {
   "cell_type": "code",
   "execution_count": 8,
   "metadata": {
    "execution": {
     "iopub.execute_input": "2021-08-26T17:40:35.617552Z",
     "iopub.status.busy": "2021-08-26T17:40:35.617243Z",
     "iopub.status.idle": "2021-08-26T17:40:36.606060Z",
     "shell.execute_reply": "2021-08-26T17:40:36.605252Z",
     "shell.execute_reply.started": "2021-08-26T17:40:35.617521Z"
    }
   },
   "outputs": [],
   "source": [
    "from sklearn.base import BaseEstimator, TransformerMixin\n",
    "from sklearn.pipeline import Pipeline\n",
    "# from sklearn.pipeline import FeatureUnion\n",
    "from sklearn.feature_extraction.text import CountVectorizer, TfidfVectorizer\n",
    "from sklearn.preprocessing import StandardScaler\n",
    "\n",
    "import numpy as np\n",
    "import calendar"
   ]
  },
  {
   "cell_type": "markdown",
   "metadata": {},
   "source": [
    "#### Sites"
   ]
  },
  {
   "cell_type": "code",
   "execution_count": 9,
   "metadata": {
    "execution": {
     "iopub.execute_input": "2021-08-26T17:40:36.607760Z",
     "iopub.status.busy": "2021-08-26T17:40:36.607304Z",
     "iopub.status.idle": "2021-08-26T17:40:36.614801Z",
     "shell.execute_reply": "2021-08-26T17:40:36.613807Z",
     "shell.execute_reply.started": "2021-08-26T17:40:36.607714Z"
    }
   },
   "outputs": [],
   "source": [
    "class SiteFeaturesPreparator(BaseEstimator, TransformerMixin):\n",
    "    \"\"\"\n",
    "    Fill NaN with zero values;\n",
    "    Prepare a (Count)Vectorizer friendly 2D-list from data.\n",
    "    \"\"\"\n",
    "    def __init__(self):\n",
    "        super().__init__()\n",
    "    \n",
    "    def fit(self, X, y=None):\n",
    "        return self\n",
    "    \n",
    "    def transform(self, X, y=None):\n",
    "        sites = ['site%s' % i for i in range(1, 11)]\n",
    "        # Convert dataframe rows to strings\n",
    "#         return X[sites].fillna(0).astype('int')#.apply(lambda row: ' '.join([self.id2site[i] for i in row]), axis=1).tolist()\n",
    "        return X[sites].fillna(0).astype('int').apply(lambda row: ' '.join([str(site_id) for site_id in row]), axis=1).tolist()"
   ]
  },
  {
   "cell_type": "code",
   "execution_count": 42,
   "metadata": {
    "execution": {
     "iopub.execute_input": "2021-08-26T19:23:15.773544Z",
     "iopub.status.busy": "2021-08-26T19:23:15.773120Z",
     "iopub.status.idle": "2021-08-26T19:23:15.811029Z",
     "shell.execute_reply": "2021-08-26T19:23:15.810218Z",
     "shell.execute_reply.started": "2021-08-26T19:23:15.773503Z"
    }
   },
   "outputs": [],
   "source": [
    "vectorizer_pipeline = Pipeline([\n",
    "    (\"preparator\", SiteFeaturesPreparator()),\n",
    "    (\"vectorizer\", CountVectorizer(ngram_range=(1, 2), max_features=20000))  # tokenizer=lambda s: s.split()\n",
    "#     (\"vectorizer\", TfidfVectorizer(ngram_range=(1, 10), max_features=70000))\n",
    "])"
   ]
  },
  {
   "cell_type": "code",
   "execution_count": 43,
   "metadata": {
    "execution": {
     "iopub.execute_input": "2021-08-26T19:29:14.038033Z",
     "iopub.status.busy": "2021-08-26T19:29:14.037526Z",
     "iopub.status.idle": "2021-08-26T19:29:25.283008Z",
     "shell.execute_reply": "2021-08-26T19:29:25.281918Z",
     "shell.execute_reply.started": "2021-08-26T19:29:14.037997Z"
    }
   },
   "outputs": [
    {
     "name": "stdout",
     "output_type": "stream",
     "text": [
      "CPU times: user 7.16 s, sys: 110 ms, total: 7.27 s\n",
      "Wall time: 7.27 s\n"
     ]
    },
    {
     "data": {
      "text/plain": [
       "<253561x20000 sparse matrix of type '<class 'numpy.int64'>'\n",
       "\twith 2498250 stored elements in Compressed Sparse Row format>"
      ]
     },
     "execution_count": 43,
     "metadata": {},
     "output_type": "execute_result"
    }
   ],
   "source": [
    "%%time\n",
    "sites_train_vectorized = vectorizer_pipeline.fit_transform(df_train)\n",
    "sites_train_vectorized"
   ]
  },
  {
   "cell_type": "code",
   "execution_count": 12,
   "metadata": {
    "execution": {
     "iopub.execute_input": "2021-08-26T17:40:45.308927Z",
     "iopub.status.busy": "2021-08-26T17:40:45.308634Z",
     "iopub.status.idle": "2021-08-26T17:40:45.321003Z",
     "shell.execute_reply": "2021-08-26T17:40:45.319834Z",
     "shell.execute_reply.started": "2021-08-26T17:40:45.308899Z"
    }
   },
   "outputs": [],
   "source": [
    "class SitesFeaturesAdder(BaseEstimator, TransformerMixin):\n",
    "    \"\"\"\n",
    "    Add new attributes to training and test set.\n",
    "    \"\"\" \n",
    "    def fit(self, X, y=None):\n",
    "        return self\n",
    "    \n",
    "    def transform(self, X, y=None):\n",
    "        sites = ['site%s' % i for i in range(1, 11)]\n",
    "        \n",
    "#         n_sites = X[sites].apply(lambda session: session.count(), axis=1)\n",
    "        n_unique = X[sites].fillna(0).apply(lambda session: session.nunique(), axis=1)\n",
    "        dummy_n_unique = pd.get_dummies(n_unique)\n",
    "        \n",
    "        site_counts = {}\n",
    "        for session in X[sites].fillna(0).values:\n",
    "            for site in session:\n",
    "                if site in site_counts:\n",
    "                    site_counts[site] += 1\n",
    "                else:\n",
    "                    site_counts[site] = 1\n",
    "        site_counts.pop(0)\n",
    "        top_n = [k for k, _ in sorted(site_counts.items(), key=lambda item: item[1], reverse=True)][:10]\n",
    "        has_top10 = X[sites].fillna(0).apply(lambda session: session.isin(top_n).any().astype('int'), axis=1)\n",
    "        \n",
    "        features_df = pd.DataFrame({\n",
    "#             'n_sites': n_sites,\n",
    "            'n_unique': n_unique,\n",
    "            'has_top10': has_top10,\n",
    "        })\n",
    "        \n",
    "        return pd.concat([features_df, dummy_n_unique], axis=1)\n",
    "    \n",
    "all_site_features = ['n_unique', 'has_top10'] + [f'{i}_unique' for i in range(1, 11)]  # has_top10 n_sites"
   ]
  },
  {
   "cell_type": "code",
   "execution_count": 44,
   "metadata": {
    "execution": {
     "iopub.execute_input": "2021-08-26T19:23:19.318467Z",
     "iopub.status.busy": "2021-08-26T19:23:19.318079Z",
     "iopub.status.idle": "2021-08-26T19:24:54.119874Z",
     "shell.execute_reply": "2021-08-26T19:24:54.118762Z",
     "shell.execute_reply.started": "2021-08-26T19:23:19.318435Z"
    }
   },
   "outputs": [
    {
     "name": "stdout",
     "output_type": "stream",
     "text": [
      "CPU times: user 1min 12s, sys: 1 s, total: 1min 13s\n",
      "Wall time: 1min 12s\n"
     ]
    },
    {
     "data": {
      "text/html": [
       "<div>\n",
       "<style scoped>\n",
       "    .dataframe tbody tr th:only-of-type {\n",
       "        vertical-align: middle;\n",
       "    }\n",
       "\n",
       "    .dataframe tbody tr th {\n",
       "        vertical-align: top;\n",
       "    }\n",
       "\n",
       "    .dataframe thead th {\n",
       "        text-align: right;\n",
       "    }\n",
       "</style>\n",
       "<table border=\"1\" class=\"dataframe\">\n",
       "  <thead>\n",
       "    <tr style=\"text-align: right;\">\n",
       "      <th></th>\n",
       "      <th>n_unique</th>\n",
       "      <th>has_top10</th>\n",
       "      <th>1_unique</th>\n",
       "      <th>2_unique</th>\n",
       "      <th>3_unique</th>\n",
       "      <th>4_unique</th>\n",
       "      <th>5_unique</th>\n",
       "      <th>6_unique</th>\n",
       "      <th>7_unique</th>\n",
       "      <th>8_unique</th>\n",
       "      <th>9_unique</th>\n",
       "      <th>10_unique</th>\n",
       "    </tr>\n",
       "    <tr>\n",
       "      <th>session_id</th>\n",
       "      <th></th>\n",
       "      <th></th>\n",
       "      <th></th>\n",
       "      <th></th>\n",
       "      <th></th>\n",
       "      <th></th>\n",
       "      <th></th>\n",
       "      <th></th>\n",
       "      <th></th>\n",
       "      <th></th>\n",
       "      <th></th>\n",
       "      <th></th>\n",
       "    </tr>\n",
       "  </thead>\n",
       "  <tbody>\n",
       "    <tr>\n",
       "      <th>21669</th>\n",
       "      <td>-1.126296</td>\n",
       "      <td>-1.400389</td>\n",
       "      <td>-0.214779</td>\n",
       "      <td>-0.302506</td>\n",
       "      <td>3.211641</td>\n",
       "      <td>-0.323591</td>\n",
       "      <td>-0.380664</td>\n",
       "      <td>-0.408702</td>\n",
       "      <td>-0.421505</td>\n",
       "      <td>-0.393215</td>\n",
       "      <td>-0.318561</td>\n",
       "      <td>-0.210156</td>\n",
       "    </tr>\n",
       "    <tr>\n",
       "      <th>54843</th>\n",
       "      <td>-1.126296</td>\n",
       "      <td>-1.400389</td>\n",
       "      <td>-0.214779</td>\n",
       "      <td>-0.302506</td>\n",
       "      <td>3.211641</td>\n",
       "      <td>-0.323591</td>\n",
       "      <td>-0.380664</td>\n",
       "      <td>-0.408702</td>\n",
       "      <td>-0.421505</td>\n",
       "      <td>-0.393215</td>\n",
       "      <td>-0.318561</td>\n",
       "      <td>-0.210156</td>\n",
       "    </tr>\n",
       "    <tr>\n",
       "      <th>77292</th>\n",
       "      <td>0.112680</td>\n",
       "      <td>-1.400389</td>\n",
       "      <td>-0.214779</td>\n",
       "      <td>-0.302506</td>\n",
       "      <td>-0.311367</td>\n",
       "      <td>-0.323591</td>\n",
       "      <td>-0.380664</td>\n",
       "      <td>2.446772</td>\n",
       "      <td>-0.421505</td>\n",
       "      <td>-0.393215</td>\n",
       "      <td>-0.318561</td>\n",
       "      <td>-0.210156</td>\n",
       "    </tr>\n",
       "    <tr>\n",
       "      <th>114021</th>\n",
       "      <td>-0.300312</td>\n",
       "      <td>-1.400389</td>\n",
       "      <td>-0.214779</td>\n",
       "      <td>-0.302506</td>\n",
       "      <td>-0.311367</td>\n",
       "      <td>-0.323591</td>\n",
       "      <td>2.626988</td>\n",
       "      <td>-0.408702</td>\n",
       "      <td>-0.421505</td>\n",
       "      <td>-0.393215</td>\n",
       "      <td>-0.318561</td>\n",
       "      <td>-0.210156</td>\n",
       "    </tr>\n",
       "    <tr>\n",
       "      <th>146670</th>\n",
       "      <td>0.112680</td>\n",
       "      <td>-1.400389</td>\n",
       "      <td>-0.214779</td>\n",
       "      <td>-0.302506</td>\n",
       "      <td>-0.311367</td>\n",
       "      <td>-0.323591</td>\n",
       "      <td>-0.380664</td>\n",
       "      <td>2.446772</td>\n",
       "      <td>-0.421505</td>\n",
       "      <td>-0.393215</td>\n",
       "      <td>-0.318561</td>\n",
       "      <td>-0.210156</td>\n",
       "    </tr>\n",
       "    <tr>\n",
       "      <th>...</th>\n",
       "      <td>...</td>\n",
       "      <td>...</td>\n",
       "      <td>...</td>\n",
       "      <td>...</td>\n",
       "      <td>...</td>\n",
       "      <td>...</td>\n",
       "      <td>...</td>\n",
       "      <td>...</td>\n",
       "      <td>...</td>\n",
       "      <td>...</td>\n",
       "      <td>...</td>\n",
       "      <td>...</td>\n",
       "    </tr>\n",
       "    <tr>\n",
       "      <th>12224</th>\n",
       "      <td>0.112680</td>\n",
       "      <td>0.714087</td>\n",
       "      <td>-0.214779</td>\n",
       "      <td>-0.302506</td>\n",
       "      <td>-0.311367</td>\n",
       "      <td>-0.323591</td>\n",
       "      <td>-0.380664</td>\n",
       "      <td>2.446772</td>\n",
       "      <td>-0.421505</td>\n",
       "      <td>-0.393215</td>\n",
       "      <td>-0.318561</td>\n",
       "      <td>-0.210156</td>\n",
       "    </tr>\n",
       "    <tr>\n",
       "      <th>164438</th>\n",
       "      <td>0.525672</td>\n",
       "      <td>0.714087</td>\n",
       "      <td>-0.214779</td>\n",
       "      <td>-0.302506</td>\n",
       "      <td>-0.311367</td>\n",
       "      <td>-0.323591</td>\n",
       "      <td>-0.380664</td>\n",
       "      <td>-0.408702</td>\n",
       "      <td>2.372451</td>\n",
       "      <td>-0.393215</td>\n",
       "      <td>-0.318561</td>\n",
       "      <td>-0.210156</td>\n",
       "    </tr>\n",
       "    <tr>\n",
       "      <th>12221</th>\n",
       "      <td>0.938664</td>\n",
       "      <td>0.714087</td>\n",
       "      <td>-0.214779</td>\n",
       "      <td>-0.302506</td>\n",
       "      <td>-0.311367</td>\n",
       "      <td>-0.323591</td>\n",
       "      <td>-0.380664</td>\n",
       "      <td>-0.408702</td>\n",
       "      <td>-0.421505</td>\n",
       "      <td>2.543140</td>\n",
       "      <td>-0.318561</td>\n",
       "      <td>-0.210156</td>\n",
       "    </tr>\n",
       "    <tr>\n",
       "      <th>156968</th>\n",
       "      <td>0.525672</td>\n",
       "      <td>-1.400389</td>\n",
       "      <td>-0.214779</td>\n",
       "      <td>-0.302506</td>\n",
       "      <td>-0.311367</td>\n",
       "      <td>-0.323591</td>\n",
       "      <td>-0.380664</td>\n",
       "      <td>-0.408702</td>\n",
       "      <td>2.372451</td>\n",
       "      <td>-0.393215</td>\n",
       "      <td>-0.318561</td>\n",
       "      <td>-0.210156</td>\n",
       "    </tr>\n",
       "    <tr>\n",
       "      <th>204762</th>\n",
       "      <td>0.112680</td>\n",
       "      <td>-1.400389</td>\n",
       "      <td>-0.214779</td>\n",
       "      <td>-0.302506</td>\n",
       "      <td>-0.311367</td>\n",
       "      <td>-0.323591</td>\n",
       "      <td>-0.380664</td>\n",
       "      <td>2.446772</td>\n",
       "      <td>-0.421505</td>\n",
       "      <td>-0.393215</td>\n",
       "      <td>-0.318561</td>\n",
       "      <td>-0.210156</td>\n",
       "    </tr>\n",
       "  </tbody>\n",
       "</table>\n",
       "<p>253561 rows × 12 columns</p>\n",
       "</div>"
      ],
      "text/plain": [
       "            n_unique  has_top10  1_unique  2_unique  3_unique  4_unique  \\\n",
       "session_id                                                                \n",
       "21669      -1.126296  -1.400389 -0.214779 -0.302506  3.211641 -0.323591   \n",
       "54843      -1.126296  -1.400389 -0.214779 -0.302506  3.211641 -0.323591   \n",
       "77292       0.112680  -1.400389 -0.214779 -0.302506 -0.311367 -0.323591   \n",
       "114021     -0.300312  -1.400389 -0.214779 -0.302506 -0.311367 -0.323591   \n",
       "146670      0.112680  -1.400389 -0.214779 -0.302506 -0.311367 -0.323591   \n",
       "...              ...        ...       ...       ...       ...       ...   \n",
       "12224       0.112680   0.714087 -0.214779 -0.302506 -0.311367 -0.323591   \n",
       "164438      0.525672   0.714087 -0.214779 -0.302506 -0.311367 -0.323591   \n",
       "12221       0.938664   0.714087 -0.214779 -0.302506 -0.311367 -0.323591   \n",
       "156968      0.525672  -1.400389 -0.214779 -0.302506 -0.311367 -0.323591   \n",
       "204762      0.112680  -1.400389 -0.214779 -0.302506 -0.311367 -0.323591   \n",
       "\n",
       "            5_unique  6_unique  7_unique  8_unique  9_unique  10_unique  \n",
       "session_id                                                               \n",
       "21669      -0.380664 -0.408702 -0.421505 -0.393215 -0.318561  -0.210156  \n",
       "54843      -0.380664 -0.408702 -0.421505 -0.393215 -0.318561  -0.210156  \n",
       "77292      -0.380664  2.446772 -0.421505 -0.393215 -0.318561  -0.210156  \n",
       "114021      2.626988 -0.408702 -0.421505 -0.393215 -0.318561  -0.210156  \n",
       "146670     -0.380664  2.446772 -0.421505 -0.393215 -0.318561  -0.210156  \n",
       "...              ...       ...       ...       ...       ...        ...  \n",
       "12224      -0.380664  2.446772 -0.421505 -0.393215 -0.318561  -0.210156  \n",
       "164438     -0.380664 -0.408702  2.372451 -0.393215 -0.318561  -0.210156  \n",
       "12221      -0.380664 -0.408702 -0.421505  2.543140 -0.318561  -0.210156  \n",
       "156968     -0.380664 -0.408702  2.372451 -0.393215 -0.318561  -0.210156  \n",
       "204762     -0.380664  2.446772 -0.421505 -0.393215 -0.318561  -0.210156  \n",
       "\n",
       "[253561 rows x 12 columns]"
      ]
     },
     "execution_count": 44,
     "metadata": {},
     "output_type": "execute_result"
    }
   ],
   "source": [
    "%%time\n",
    "site_features_pipeline = Pipeline([\n",
    "    (\"sites_adder\", SitesFeaturesAdder()),\n",
    "    (\"scaler\", StandardScaler())\n",
    "])\n",
    "\n",
    "sites_train = site_features_pipeline.fit_transform(df_train)\n",
    "sites_train = pd.DataFrame(sites_train, columns=all_site_features, index=df_train.index)\n",
    "sites_train"
   ]
  },
  {
   "cell_type": "markdown",
   "metadata": {},
   "source": [
    "#### Times"
   ]
  },
  {
   "cell_type": "code",
   "execution_count": 188,
   "metadata": {
    "execution": {
     "iopub.execute_input": "2021-08-26T19:26:42.807792Z",
     "iopub.status.busy": "2021-08-26T19:26:42.807324Z",
     "iopub.status.idle": "2021-08-26T19:26:42.828178Z",
     "shell.execute_reply": "2021-08-26T19:26:42.826614Z",
     "shell.execute_reply.started": "2021-08-26T19:26:42.807752Z"
    }
   },
   "outputs": [],
   "source": [
    "class TimesFeaturesAdder(BaseEstimator, TransformerMixin):\n",
    "    \"\"\"\n",
    "    Add new attributes to training and test set.\n",
    "    \"\"\" \n",
    "    def fit(self, X, y=None):\n",
    "        return self \n",
    "    \n",
    "    def transform(self, X, y=None):\n",
    "        # intraday features\n",
    "        hour = X['time1'].apply(lambda ts: ts.hour)\n",
    "        minutes = X['time1'].apply(lambda ts: ts.minute)\n",
    "        minutes_10 = (minutes >= 0) & (minutes < 10)\n",
    "        minutes_20 = (minutes >= 10) & (minutes < 20)\n",
    "        minutes_30 = (minutes >= 20) & (minutes < 30)\n",
    "        minutes_40 = (minutes >= 30) & (minutes < 40)\n",
    "        minutes_50 = (minutes >= 40) & (minutes < 50)\n",
    "        minutes_60 = (minutes >= 50) & (minutes < 60)\n",
    "        hour_minutes = hour + minutes / 60\n",
    "        hour_minutes_16 = (hour_minutes > 16) & (hour_minutes < 17)\n",
    "        dummy_hours = pd.get_dummies(hour)\n",
    "        \n",
    "        morning = ((hour >= 7) & (hour <= 11)).astype('int')\n",
    "        midday = ((hour >= 12) & (hour <= 18)).astype('int')\n",
    "        evening = ((hour >= 19) & (hour <= 23)).astype('int')\n",
    "        \n",
    "        sin_hour_minutes = np.sin(2 * np.pi * hour_minutes / 24)\n",
    "        cos_hour_minutes = np.cos(2 * np.pi * hour_minutes / 24)\n",
    "        \n",
    "        # date\n",
    "        day = X['time1'].apply(lambda ts: ts.day)\n",
    "        day_3 = (day == 3)\n",
    "        day_23 = (day == 23)\n",
    "        month = X['time1'].apply(lambda ts: ts.month)\n",
    "#         dummy_months = pd.get_dummies(month)\n",
    "        year = X['time1'].apply(lambda ts: ts.year)\n",
    "        year_month = year + month\n",
    "        summer = ((month >= 6) & (month <= 8)).astype('int')\n",
    "        october = (month == 10)\n",
    "        \n",
    "        weekday = X['time1'].apply(lambda ts: ts.weekday())\n",
    "        dummy_weekdays = pd.get_dummies(data=weekday)\n",
    "        weekend = np.isin(weekday, [5, 6])\n",
    "        \n",
    "        times = ['time%s' % i for i in range(1, 11)]\n",
    "        session_duration = (X[times].max(axis=1) - X[times].min(axis=1)).astype('timedelta64[ms]').astype(int) #** 0.2\n",
    "        \n",
    "        features_df = pd.DataFrame({\n",
    "            'hour': hour,\n",
    "            'morning': morning,\n",
    "            'midday': midday,\n",
    "            'evening': evening,\n",
    "            'sin_hour_minutes': sin_hour_minutes,\n",
    "            'cos_hour_minutes': cos_hour_minutes,\n",
    "            'minutes': minutes,\n",
    "            'minutes_10': minutes_10,\n",
    "            'minutes_20': minutes_20,\n",
    "            'minutes_30': minutes_30,\n",
    "            'minutes_40': minutes_40,\n",
    "            'minutes_50': minutes_50,\n",
    "            'minutes_60': minutes_60,\n",
    "            'hour_minutes': hour_minutes,\n",
    "            'hour_minutes_16': hour_minutes_16,\n",
    "            'day': day,\n",
    "            'day_3': day_3,\n",
    "            'day_23': day_23,\n",
    "            'october': october,\n",
    "            'year': year,\n",
    "            'year_month': year_month,\n",
    "            'summer': summer,\n",
    "            'weekday': weekday,\n",
    "            'weekend': weekend,\n",
    "            'session_duration': session_duration,\n",
    "        })\n",
    "\n",
    "        return pd.concat([features_df, dummy_hours, dummy_weekdays], axis=1)  # dummy_months\n",
    "    \n",
    "all_time_features = ['hour', 'morning', 'midday', 'evening', 'sin_hour_minutes', 'cos_hour_minutes',\n",
    "                'minutes', 'minutes_10', 'minutes_20', 'minutes_30', 'minutes_40', 'minutes_50', 'minutes_60', \n",
    "                     'hour_minutes', 'hour_minutes_16', 'day', 'day_3', 'day_23', 'october', 'year', 'year_month',\n",
    "                'summer', 'weekday', 'weekend', 'session_duration'] + list(range(7, 24)) + list(calendar.day_name) #\\\n",
    "#                                     + list(calendar.month_name)[1:]"
   ]
  },
  {
   "cell_type": "code",
   "execution_count": 189,
   "metadata": {
    "execution": {
     "iopub.execute_input": "2021-08-26T19:26:43.519010Z",
     "iopub.status.busy": "2021-08-26T19:26:43.518593Z",
     "iopub.status.idle": "2021-08-26T19:26:57.647788Z",
     "shell.execute_reply": "2021-08-26T19:26:57.646665Z",
     "shell.execute_reply.started": "2021-08-26T19:26:43.518974Z"
    }
   },
   "outputs": [
    {
     "name": "stdout",
     "output_type": "stream",
     "text": [
      "CPU times: user 6.95 s, sys: 181 ms, total: 7.13 s\n",
      "Wall time: 7.1 s\n"
     ]
    },
    {
     "data": {
      "text/html": [
       "<div>\n",
       "<style scoped>\n",
       "    .dataframe tbody tr th:only-of-type {\n",
       "        vertical-align: middle;\n",
       "    }\n",
       "\n",
       "    .dataframe tbody tr th {\n",
       "        vertical-align: top;\n",
       "    }\n",
       "\n",
       "    .dataframe thead th {\n",
       "        text-align: right;\n",
       "    }\n",
       "</style>\n",
       "<table border=\"1\" class=\"dataframe\">\n",
       "  <thead>\n",
       "    <tr style=\"text-align: right;\">\n",
       "      <th></th>\n",
       "      <th>hour</th>\n",
       "      <th>morning</th>\n",
       "      <th>midday</th>\n",
       "      <th>evening</th>\n",
       "      <th>sin_hour_minutes</th>\n",
       "      <th>cos_hour_minutes</th>\n",
       "      <th>minutes</th>\n",
       "      <th>minutes_10</th>\n",
       "      <th>minutes_20</th>\n",
       "      <th>minutes_30</th>\n",
       "      <th>...</th>\n",
       "      <th>21</th>\n",
       "      <th>22</th>\n",
       "      <th>23</th>\n",
       "      <th>Monday</th>\n",
       "      <th>Tuesday</th>\n",
       "      <th>Wednesday</th>\n",
       "      <th>Thursday</th>\n",
       "      <th>Friday</th>\n",
       "      <th>Saturday</th>\n",
       "      <th>Sunday</th>\n",
       "    </tr>\n",
       "    <tr>\n",
       "      <th>session_id</th>\n",
       "      <th></th>\n",
       "      <th></th>\n",
       "      <th></th>\n",
       "      <th></th>\n",
       "      <th></th>\n",
       "      <th></th>\n",
       "      <th></th>\n",
       "      <th></th>\n",
       "      <th></th>\n",
       "      <th></th>\n",
       "      <th></th>\n",
       "      <th></th>\n",
       "      <th></th>\n",
       "      <th></th>\n",
       "      <th></th>\n",
       "      <th></th>\n",
       "      <th></th>\n",
       "      <th></th>\n",
       "      <th></th>\n",
       "      <th></th>\n",
       "      <th></th>\n",
       "    </tr>\n",
       "  </thead>\n",
       "  <tbody>\n",
       "    <tr>\n",
       "      <th>21669</th>\n",
       "      <td>-1.357366</td>\n",
       "      <td>1.039061</td>\n",
       "      <td>-0.98128</td>\n",
       "      <td>-0.171577</td>\n",
       "      <td>1.573352</td>\n",
       "      <td>0.527614</td>\n",
       "      <td>-1.400885</td>\n",
       "      <td>2.220236</td>\n",
       "      <td>-0.45577</td>\n",
       "      <td>-0.452612</td>\n",
       "      <td>...</td>\n",
       "      <td>-0.082278</td>\n",
       "      <td>-0.076284</td>\n",
       "      <td>-0.072862</td>\n",
       "      <td>-0.436072</td>\n",
       "      <td>-0.487314</td>\n",
       "      <td>-0.532230</td>\n",
       "      <td>-0.459143</td>\n",
       "      <td>-0.440082</td>\n",
       "      <td>3.879327</td>\n",
       "      <td>-0.172561</td>\n",
       "    </tr>\n",
       "    <tr>\n",
       "      <th>54843</th>\n",
       "      <td>-1.357366</td>\n",
       "      <td>1.039061</td>\n",
       "      <td>-0.98128</td>\n",
       "      <td>-0.171577</td>\n",
       "      <td>1.440845</td>\n",
       "      <td>0.204134</td>\n",
       "      <td>0.451667</td>\n",
       "      <td>-0.450403</td>\n",
       "      <td>-0.45577</td>\n",
       "      <td>-0.452612</td>\n",
       "      <td>...</td>\n",
       "      <td>-0.082278</td>\n",
       "      <td>-0.076284</td>\n",
       "      <td>-0.072862</td>\n",
       "      <td>-0.436072</td>\n",
       "      <td>-0.487314</td>\n",
       "      <td>-0.532230</td>\n",
       "      <td>-0.459143</td>\n",
       "      <td>-0.440082</td>\n",
       "      <td>3.879327</td>\n",
       "      <td>-0.172561</td>\n",
       "    </tr>\n",
       "    <tr>\n",
       "      <th>77292</th>\n",
       "      <td>-1.357366</td>\n",
       "      <td>1.039061</td>\n",
       "      <td>-0.98128</td>\n",
       "      <td>-0.171577</td>\n",
       "      <td>1.379766</td>\n",
       "      <td>0.082374</td>\n",
       "      <td>1.204266</td>\n",
       "      <td>-0.450403</td>\n",
       "      <td>-0.45577</td>\n",
       "      <td>-0.452612</td>\n",
       "      <td>...</td>\n",
       "      <td>-0.082278</td>\n",
       "      <td>-0.076284</td>\n",
       "      <td>-0.072862</td>\n",
       "      <td>-0.436072</td>\n",
       "      <td>-0.487314</td>\n",
       "      <td>-0.532230</td>\n",
       "      <td>-0.459143</td>\n",
       "      <td>-0.440082</td>\n",
       "      <td>3.879327</td>\n",
       "      <td>-0.172561</td>\n",
       "    </tr>\n",
       "    <tr>\n",
       "      <th>114021</th>\n",
       "      <td>-1.357366</td>\n",
       "      <td>1.039061</td>\n",
       "      <td>-0.98128</td>\n",
       "      <td>-0.171577</td>\n",
       "      <td>1.379766</td>\n",
       "      <td>0.082374</td>\n",
       "      <td>1.204266</td>\n",
       "      <td>-0.450403</td>\n",
       "      <td>-0.45577</td>\n",
       "      <td>-0.452612</td>\n",
       "      <td>...</td>\n",
       "      <td>-0.082278</td>\n",
       "      <td>-0.076284</td>\n",
       "      <td>-0.072862</td>\n",
       "      <td>-0.436072</td>\n",
       "      <td>-0.487314</td>\n",
       "      <td>-0.532230</td>\n",
       "      <td>-0.459143</td>\n",
       "      <td>-0.440082</td>\n",
       "      <td>3.879327</td>\n",
       "      <td>-0.172561</td>\n",
       "    </tr>\n",
       "    <tr>\n",
       "      <th>146670</th>\n",
       "      <td>-1.357366</td>\n",
       "      <td>1.039061</td>\n",
       "      <td>-0.98128</td>\n",
       "      <td>-0.171577</td>\n",
       "      <td>1.379766</td>\n",
       "      <td>0.082374</td>\n",
       "      <td>1.204266</td>\n",
       "      <td>-0.450403</td>\n",
       "      <td>-0.45577</td>\n",
       "      <td>-0.452612</td>\n",
       "      <td>...</td>\n",
       "      <td>-0.082278</td>\n",
       "      <td>-0.076284</td>\n",
       "      <td>-0.072862</td>\n",
       "      <td>-0.436072</td>\n",
       "      <td>-0.487314</td>\n",
       "      <td>-0.532230</td>\n",
       "      <td>-0.459143</td>\n",
       "      <td>-0.440082</td>\n",
       "      <td>3.879327</td>\n",
       "      <td>-0.172561</td>\n",
       "    </tr>\n",
       "    <tr>\n",
       "      <th>...</th>\n",
       "      <td>...</td>\n",
       "      <td>...</td>\n",
       "      <td>...</td>\n",
       "      <td>...</td>\n",
       "      <td>...</td>\n",
       "      <td>...</td>\n",
       "      <td>...</td>\n",
       "      <td>...</td>\n",
       "      <td>...</td>\n",
       "      <td>...</td>\n",
       "      <td>...</td>\n",
       "      <td>...</td>\n",
       "      <td>...</td>\n",
       "      <td>...</td>\n",
       "      <td>...</td>\n",
       "      <td>...</td>\n",
       "      <td>...</td>\n",
       "      <td>...</td>\n",
       "      <td>...</td>\n",
       "      <td>...</td>\n",
       "      <td>...</td>\n",
       "    </tr>\n",
       "    <tr>\n",
       "      <th>12224</th>\n",
       "      <td>3.390349</td>\n",
       "      <td>-0.962408</td>\n",
       "      <td>-0.98128</td>\n",
       "      <td>5.828302</td>\n",
       "      <td>-0.026963</td>\n",
       "      <td>4.820082</td>\n",
       "      <td>0.220098</td>\n",
       "      <td>-0.450403</td>\n",
       "      <td>-0.45577</td>\n",
       "      <td>-0.452612</td>\n",
       "      <td>...</td>\n",
       "      <td>-0.082278</td>\n",
       "      <td>-0.076284</td>\n",
       "      <td>13.724647</td>\n",
       "      <td>-0.436072</td>\n",
       "      <td>-0.487314</td>\n",
       "      <td>1.878888</td>\n",
       "      <td>-0.459143</td>\n",
       "      <td>-0.440082</td>\n",
       "      <td>-0.257777</td>\n",
       "      <td>-0.172561</td>\n",
       "    </tr>\n",
       "    <tr>\n",
       "      <th>164438</th>\n",
       "      <td>3.390349</td>\n",
       "      <td>-0.962408</td>\n",
       "      <td>-0.98128</td>\n",
       "      <td>5.828302</td>\n",
       "      <td>-0.019830</td>\n",
       "      <td>4.821512</td>\n",
       "      <td>0.277990</td>\n",
       "      <td>-0.450403</td>\n",
       "      <td>-0.45577</td>\n",
       "      <td>-0.452612</td>\n",
       "      <td>...</td>\n",
       "      <td>-0.082278</td>\n",
       "      <td>-0.076284</td>\n",
       "      <td>13.724647</td>\n",
       "      <td>-0.436072</td>\n",
       "      <td>-0.487314</td>\n",
       "      <td>1.878888</td>\n",
       "      <td>-0.459143</td>\n",
       "      <td>-0.440082</td>\n",
       "      <td>-0.257777</td>\n",
       "      <td>-0.172561</td>\n",
       "    </tr>\n",
       "    <tr>\n",
       "      <th>12221</th>\n",
       "      <td>3.390349</td>\n",
       "      <td>-0.962408</td>\n",
       "      <td>-0.98128</td>\n",
       "      <td>5.828302</td>\n",
       "      <td>0.008734</td>\n",
       "      <td>4.826691</td>\n",
       "      <td>0.509559</td>\n",
       "      <td>-0.450403</td>\n",
       "      <td>-0.45577</td>\n",
       "      <td>-0.452612</td>\n",
       "      <td>...</td>\n",
       "      <td>-0.082278</td>\n",
       "      <td>-0.076284</td>\n",
       "      <td>13.724647</td>\n",
       "      <td>-0.436072</td>\n",
       "      <td>-0.487314</td>\n",
       "      <td>1.878888</td>\n",
       "      <td>-0.459143</td>\n",
       "      <td>-0.440082</td>\n",
       "      <td>-0.257777</td>\n",
       "      <td>-0.172561</td>\n",
       "    </tr>\n",
       "    <tr>\n",
       "      <th>156968</th>\n",
       "      <td>3.390349</td>\n",
       "      <td>-0.962408</td>\n",
       "      <td>-0.98128</td>\n",
       "      <td>5.828302</td>\n",
       "      <td>0.008734</td>\n",
       "      <td>4.826691</td>\n",
       "      <td>0.509559</td>\n",
       "      <td>-0.450403</td>\n",
       "      <td>-0.45577</td>\n",
       "      <td>-0.452612</td>\n",
       "      <td>...</td>\n",
       "      <td>-0.082278</td>\n",
       "      <td>-0.076284</td>\n",
       "      <td>13.724647</td>\n",
       "      <td>-0.436072</td>\n",
       "      <td>-0.487314</td>\n",
       "      <td>1.878888</td>\n",
       "      <td>-0.459143</td>\n",
       "      <td>-0.440082</td>\n",
       "      <td>-0.257777</td>\n",
       "      <td>-0.172561</td>\n",
       "    </tr>\n",
       "    <tr>\n",
       "      <th>204762</th>\n",
       "      <td>3.390349</td>\n",
       "      <td>-0.962408</td>\n",
       "      <td>-0.98128</td>\n",
       "      <td>5.828302</td>\n",
       "      <td>0.015883</td>\n",
       "      <td>4.827852</td>\n",
       "      <td>0.567451</td>\n",
       "      <td>-0.450403</td>\n",
       "      <td>-0.45577</td>\n",
       "      <td>-0.452612</td>\n",
       "      <td>...</td>\n",
       "      <td>-0.082278</td>\n",
       "      <td>-0.076284</td>\n",
       "      <td>13.724647</td>\n",
       "      <td>-0.436072</td>\n",
       "      <td>-0.487314</td>\n",
       "      <td>1.878888</td>\n",
       "      <td>-0.459143</td>\n",
       "      <td>-0.440082</td>\n",
       "      <td>-0.257777</td>\n",
       "      <td>-0.172561</td>\n",
       "    </tr>\n",
       "  </tbody>\n",
       "</table>\n",
       "<p>253561 rows × 49 columns</p>\n",
       "</div>"
      ],
      "text/plain": [
       "                hour   morning   midday   evening  sin_hour_minutes  \\\n",
       "session_id                                                            \n",
       "21669      -1.357366  1.039061 -0.98128 -0.171577          1.573352   \n",
       "54843      -1.357366  1.039061 -0.98128 -0.171577          1.440845   \n",
       "77292      -1.357366  1.039061 -0.98128 -0.171577          1.379766   \n",
       "114021     -1.357366  1.039061 -0.98128 -0.171577          1.379766   \n",
       "146670     -1.357366  1.039061 -0.98128 -0.171577          1.379766   \n",
       "...              ...       ...      ...       ...               ...   \n",
       "12224       3.390349 -0.962408 -0.98128  5.828302         -0.026963   \n",
       "164438      3.390349 -0.962408 -0.98128  5.828302         -0.019830   \n",
       "12221       3.390349 -0.962408 -0.98128  5.828302          0.008734   \n",
       "156968      3.390349 -0.962408 -0.98128  5.828302          0.008734   \n",
       "204762      3.390349 -0.962408 -0.98128  5.828302          0.015883   \n",
       "\n",
       "            cos_hour_minutes   minutes  minutes_10  minutes_20  minutes_30  \\\n",
       "session_id                                                                   \n",
       "21669               0.527614 -1.400885    2.220236    -0.45577   -0.452612   \n",
       "54843               0.204134  0.451667   -0.450403    -0.45577   -0.452612   \n",
       "77292               0.082374  1.204266   -0.450403    -0.45577   -0.452612   \n",
       "114021              0.082374  1.204266   -0.450403    -0.45577   -0.452612   \n",
       "146670              0.082374  1.204266   -0.450403    -0.45577   -0.452612   \n",
       "...                      ...       ...         ...         ...         ...   \n",
       "12224               4.820082  0.220098   -0.450403    -0.45577   -0.452612   \n",
       "164438              4.821512  0.277990   -0.450403    -0.45577   -0.452612   \n",
       "12221               4.826691  0.509559   -0.450403    -0.45577   -0.452612   \n",
       "156968              4.826691  0.509559   -0.450403    -0.45577   -0.452612   \n",
       "204762              4.827852  0.567451   -0.450403    -0.45577   -0.452612   \n",
       "\n",
       "            ...        21        22         23    Monday   Tuesday  Wednesday  \\\n",
       "session_id  ...                                                                 \n",
       "21669       ... -0.082278 -0.076284  -0.072862 -0.436072 -0.487314  -0.532230   \n",
       "54843       ... -0.082278 -0.076284  -0.072862 -0.436072 -0.487314  -0.532230   \n",
       "77292       ... -0.082278 -0.076284  -0.072862 -0.436072 -0.487314  -0.532230   \n",
       "114021      ... -0.082278 -0.076284  -0.072862 -0.436072 -0.487314  -0.532230   \n",
       "146670      ... -0.082278 -0.076284  -0.072862 -0.436072 -0.487314  -0.532230   \n",
       "...         ...       ...       ...        ...       ...       ...        ...   \n",
       "12224       ... -0.082278 -0.076284  13.724647 -0.436072 -0.487314   1.878888   \n",
       "164438      ... -0.082278 -0.076284  13.724647 -0.436072 -0.487314   1.878888   \n",
       "12221       ... -0.082278 -0.076284  13.724647 -0.436072 -0.487314   1.878888   \n",
       "156968      ... -0.082278 -0.076284  13.724647 -0.436072 -0.487314   1.878888   \n",
       "204762      ... -0.082278 -0.076284  13.724647 -0.436072 -0.487314   1.878888   \n",
       "\n",
       "            Thursday    Friday  Saturday    Sunday  \n",
       "session_id                                          \n",
       "21669      -0.459143 -0.440082  3.879327 -0.172561  \n",
       "54843      -0.459143 -0.440082  3.879327 -0.172561  \n",
       "77292      -0.459143 -0.440082  3.879327 -0.172561  \n",
       "114021     -0.459143 -0.440082  3.879327 -0.172561  \n",
       "146670     -0.459143 -0.440082  3.879327 -0.172561  \n",
       "...              ...       ...       ...       ...  \n",
       "12224      -0.459143 -0.440082 -0.257777 -0.172561  \n",
       "164438     -0.459143 -0.440082 -0.257777 -0.172561  \n",
       "12221      -0.459143 -0.440082 -0.257777 -0.172561  \n",
       "156968     -0.459143 -0.440082 -0.257777 -0.172561  \n",
       "204762     -0.459143 -0.440082 -0.257777 -0.172561  \n",
       "\n",
       "[253561 rows x 49 columns]"
      ]
     },
     "execution_count": 189,
     "metadata": {},
     "output_type": "execute_result"
    }
   ],
   "source": [
    "%%time\n",
    "time_features_pipeline = Pipeline([\n",
    "    (\"times_adder\", TimesFeaturesAdder()),\n",
    "    (\"scaler\", StandardScaler())\n",
    "])\n",
    "\n",
    "times_train = time_features_pipeline.fit_transform(df_train)\n",
    "times_train = pd.DataFrame(times_train, columns=all_time_features, index=df_train.index)\n",
    "times_train"
   ]
  },
  {
   "cell_type": "code",
   "execution_count": 49,
   "metadata": {
    "execution": {
     "iopub.execute_input": "2021-08-26T17:42:03.181916Z",
     "iopub.status.busy": "2021-08-26T17:42:03.181605Z",
     "iopub.status.idle": "2021-08-26T17:42:03.190812Z",
     "shell.execute_reply": "2021-08-26T17:42:03.189401Z",
     "shell.execute_reply.started": "2021-08-26T17:42:03.181888Z"
    }
   },
   "outputs": [],
   "source": [
    "class TimeDiffsFeaturesAdder(BaseEstimator, TransformerMixin):\n",
    "    \"\"\"\n",
    "    Add new attributes to training and test set.\n",
    "    \"\"\" \n",
    "    def fit(self, X, y=None):\n",
    "        return self\n",
    "    \n",
    "    def transform(self, X, y=None):\n",
    "        def get_time_diff(row): \n",
    "            time_length = row.shape[0] - 1 \n",
    "            time_diff = [0] * time_length \n",
    "            i = 0\n",
    "            while (i < time_length) and pd.notnull(row[i+1]):\n",
    "                time_diff[i] = (row[i+1] - row[i]) / np.timedelta64(1, 's') \n",
    "                i += 1 \n",
    "            return time_diff\n",
    "        \n",
    "        time_diff = []\n",
    "        times = ['time%s' % i for i in range(1, 11)]\n",
    "        for row in df_train[times].values:\n",
    "            time_diff.append(get_time_diff(row))    \n",
    "        \n",
    "        return time_diff"
   ]
  },
  {
   "cell_type": "code",
   "execution_count": 50,
   "metadata": {
    "execution": {
     "iopub.execute_input": "2021-08-26T17:42:03.193027Z",
     "iopub.status.busy": "2021-08-26T17:42:03.192579Z",
     "iopub.status.idle": "2021-08-26T17:42:24.118292Z",
     "shell.execute_reply": "2021-08-26T17:42:24.117285Z",
     "shell.execute_reply.started": "2021-08-26T17:42:03.192978Z"
    }
   },
   "outputs": [
    {
     "name": "stdout",
     "output_type": "stream",
     "text": [
      "CPU times: user 14.1 s, sys: 48.4 ms, total: 14.1 s\n",
      "Wall time: 14.1 s\n"
     ]
    },
    {
     "data": {
      "text/html": [
       "<div>\n",
       "<style scoped>\n",
       "    .dataframe tbody tr th:only-of-type {\n",
       "        vertical-align: middle;\n",
       "    }\n",
       "\n",
       "    .dataframe tbody tr th {\n",
       "        vertical-align: top;\n",
       "    }\n",
       "\n",
       "    .dataframe thead th {\n",
       "        text-align: right;\n",
       "    }\n",
       "</style>\n",
       "<table border=\"1\" class=\"dataframe\">\n",
       "  <thead>\n",
       "    <tr style=\"text-align: right;\">\n",
       "      <th></th>\n",
       "      <th>time_diff_1</th>\n",
       "      <th>time_diff_2</th>\n",
       "      <th>time_diff_3</th>\n",
       "      <th>time_diff_4</th>\n",
       "      <th>time_diff_5</th>\n",
       "      <th>time_diff_6</th>\n",
       "      <th>time_diff_7</th>\n",
       "      <th>time_diff_8</th>\n",
       "      <th>time_diff_9</th>\n",
       "    </tr>\n",
       "    <tr>\n",
       "      <th>session_id</th>\n",
       "      <th></th>\n",
       "      <th></th>\n",
       "      <th></th>\n",
       "      <th></th>\n",
       "      <th></th>\n",
       "      <th></th>\n",
       "      <th></th>\n",
       "      <th></th>\n",
       "      <th></th>\n",
       "    </tr>\n",
       "  </thead>\n",
       "  <tbody>\n",
       "    <tr>\n",
       "      <th>21669</th>\n",
       "      <td>0.0</td>\n",
       "      <td>0.0</td>\n",
       "      <td>0.0</td>\n",
       "      <td>0.0</td>\n",
       "      <td>0.0</td>\n",
       "      <td>0.0</td>\n",
       "      <td>0.0</td>\n",
       "      <td>0.0</td>\n",
       "      <td>0.0</td>\n",
       "    </tr>\n",
       "    <tr>\n",
       "      <th>54843</th>\n",
       "      <td>0.0</td>\n",
       "      <td>1784.0</td>\n",
       "      <td>2.0</td>\n",
       "      <td>0.0</td>\n",
       "      <td>0.0</td>\n",
       "      <td>0.0</td>\n",
       "      <td>0.0</td>\n",
       "      <td>0.0</td>\n",
       "      <td>0.0</td>\n",
       "    </tr>\n",
       "    <tr>\n",
       "      <th>77292</th>\n",
       "      <td>1.0</td>\n",
       "      <td>1.0</td>\n",
       "      <td>0.0</td>\n",
       "      <td>1.0</td>\n",
       "      <td>0.0</td>\n",
       "      <td>0.0</td>\n",
       "      <td>0.0</td>\n",
       "      <td>1.0</td>\n",
       "      <td>0.0</td>\n",
       "    </tr>\n",
       "    <tr>\n",
       "      <th>114021</th>\n",
       "      <td>0.0</td>\n",
       "      <td>1.0</td>\n",
       "      <td>0.0</td>\n",
       "      <td>0.0</td>\n",
       "      <td>0.0</td>\n",
       "      <td>1.0</td>\n",
       "      <td>0.0</td>\n",
       "      <td>0.0</td>\n",
       "      <td>1.0</td>\n",
       "    </tr>\n",
       "    <tr>\n",
       "      <th>146670</th>\n",
       "      <td>0.0</td>\n",
       "      <td>0.0</td>\n",
       "      <td>1.0</td>\n",
       "      <td>0.0</td>\n",
       "      <td>0.0</td>\n",
       "      <td>0.0</td>\n",
       "      <td>1.0</td>\n",
       "      <td>0.0</td>\n",
       "      <td>0.0</td>\n",
       "    </tr>\n",
       "    <tr>\n",
       "      <th>...</th>\n",
       "      <td>...</td>\n",
       "      <td>...</td>\n",
       "      <td>...</td>\n",
       "      <td>...</td>\n",
       "      <td>...</td>\n",
       "      <td>...</td>\n",
       "      <td>...</td>\n",
       "      <td>...</td>\n",
       "      <td>...</td>\n",
       "    </tr>\n",
       "    <tr>\n",
       "      <th>12224</th>\n",
       "      <td>1.0</td>\n",
       "      <td>3.0</td>\n",
       "      <td>0.0</td>\n",
       "      <td>1.0</td>\n",
       "      <td>0.0</td>\n",
       "      <td>1.0</td>\n",
       "      <td>0.0</td>\n",
       "      <td>3.0</td>\n",
       "      <td>3.0</td>\n",
       "    </tr>\n",
       "    <tr>\n",
       "      <th>164438</th>\n",
       "      <td>1.0</td>\n",
       "      <td>1.0</td>\n",
       "      <td>1.0</td>\n",
       "      <td>0.0</td>\n",
       "      <td>58.0</td>\n",
       "      <td>13.0</td>\n",
       "      <td>43.0</td>\n",
       "      <td>30.0</td>\n",
       "      <td>31.0</td>\n",
       "    </tr>\n",
       "    <tr>\n",
       "      <th>12221</th>\n",
       "      <td>2.0</td>\n",
       "      <td>3.0</td>\n",
       "      <td>5.0</td>\n",
       "      <td>4.0</td>\n",
       "      <td>2.0</td>\n",
       "      <td>11.0</td>\n",
       "      <td>0.0</td>\n",
       "      <td>0.0</td>\n",
       "      <td>1.0</td>\n",
       "    </tr>\n",
       "    <tr>\n",
       "      <th>156968</th>\n",
       "      <td>0.0</td>\n",
       "      <td>2.0</td>\n",
       "      <td>0.0</td>\n",
       "      <td>1.0</td>\n",
       "      <td>1.0</td>\n",
       "      <td>0.0</td>\n",
       "      <td>27.0</td>\n",
       "      <td>1.0</td>\n",
       "      <td>45.0</td>\n",
       "    </tr>\n",
       "    <tr>\n",
       "      <th>204762</th>\n",
       "      <td>6.0</td>\n",
       "      <td>1.0</td>\n",
       "      <td>5.0</td>\n",
       "      <td>0.0</td>\n",
       "      <td>0.0</td>\n",
       "      <td>0.0</td>\n",
       "      <td>0.0</td>\n",
       "      <td>0.0</td>\n",
       "      <td>0.0</td>\n",
       "    </tr>\n",
       "  </tbody>\n",
       "</table>\n",
       "<p>253561 rows × 9 columns</p>\n",
       "</div>"
      ],
      "text/plain": [
       "            time_diff_1  time_diff_2  time_diff_3  time_diff_4  time_diff_5  \\\n",
       "session_id                                                                    \n",
       "21669               0.0          0.0          0.0          0.0          0.0   \n",
       "54843               0.0       1784.0          2.0          0.0          0.0   \n",
       "77292               1.0          1.0          0.0          1.0          0.0   \n",
       "114021              0.0          1.0          0.0          0.0          0.0   \n",
       "146670              0.0          0.0          1.0          0.0          0.0   \n",
       "...                 ...          ...          ...          ...          ...   \n",
       "12224               1.0          3.0          0.0          1.0          0.0   \n",
       "164438              1.0          1.0          1.0          0.0         58.0   \n",
       "12221               2.0          3.0          5.0          4.0          2.0   \n",
       "156968              0.0          2.0          0.0          1.0          1.0   \n",
       "204762              6.0          1.0          5.0          0.0          0.0   \n",
       "\n",
       "            time_diff_6  time_diff_7  time_diff_8  time_diff_9  \n",
       "session_id                                                      \n",
       "21669               0.0          0.0          0.0          0.0  \n",
       "54843               0.0          0.0          0.0          0.0  \n",
       "77292               0.0          0.0          1.0          0.0  \n",
       "114021              1.0          0.0          0.0          1.0  \n",
       "146670              0.0          1.0          0.0          0.0  \n",
       "...                 ...          ...          ...          ...  \n",
       "12224               1.0          0.0          3.0          3.0  \n",
       "164438             13.0         43.0         30.0         31.0  \n",
       "12221              11.0          0.0          0.0          1.0  \n",
       "156968              0.0         27.0          1.0         45.0  \n",
       "204762              0.0          0.0          0.0          0.0  \n",
       "\n",
       "[253561 rows x 9 columns]"
      ]
     },
     "execution_count": 50,
     "metadata": {},
     "output_type": "execute_result"
    }
   ],
   "source": [
    "%%time\n",
    "time_diffs_features_pipeline = Pipeline([\n",
    "    (\"times_adder\", TimeDiffsFeaturesAdder()),\n",
    "#     (\"scaler\", StandardScaler())\n",
    "])\n",
    "\n",
    "time_diffs_train = time_diffs_features_pipeline.fit_transform(df_train)\n",
    "diff_names = [f'time_diff_{i}' for i in range(1, 10)]\n",
    "time_diffs_train = pd.DataFrame(time_diffs_train, columns=diff_names, index=df_train.index)\n",
    "time_diffs_train"
   ]
  },
  {
   "cell_type": "code",
   "execution_count": 19,
   "metadata": {
    "execution": {
     "iopub.execute_input": "2021-08-26T17:42:24.119696Z",
     "iopub.status.busy": "2021-08-26T17:42:24.119407Z",
     "iopub.status.idle": "2021-08-26T17:42:24.124829Z",
     "shell.execute_reply": "2021-08-26T17:42:24.123651Z",
     "shell.execute_reply.started": "2021-08-26T17:42:24.119666Z"
    }
   },
   "outputs": [],
   "source": [
    "# class ScaledAttributesAdder(BaseEstimator, TransformerMixin):\n",
    "#     \"\"\"\n",
    "#     Add new features, that should be scaled.\n",
    "#     \"\"\"\n",
    "#     def fit(self, X, y=None):\n",
    "#         return self\n",
    "    \n",
    "#     def transform(self, X, y=None):\n",
    "#         # session time features\n",
    "#         times = ['time%s' % i for i in range(1, 11)]\n",
    "#         sites = ['site%s' % i for i in range(1, 11)]\n",
    "        \n",
    "#         # session duration: take to the power of 1/5 to normalize the distribution\n",
    "#         session_duration = (X[times].max(axis=1) - X[times].min(axis=1)).astype('timedelta64[ms]').astype(int) #** 0.2\n",
    "        \n",
    "#         # number of sites visited in a session\n",
    "#         number_of_sites = X[times].isnull().sum(axis=1).apply(lambda x: 10 - x)\n",
    "        \n",
    "#         # average time spent on one site during a session\n",
    "#         time_per_site = (session_duration / number_of_sites) #** 0.2\n",
    "        \n",
    "# #         unique_sites = X[sites].apply(lambda sites: sites.nunique(), axis=1)\n",
    "        \n",
    "#         X = np.c_[session_duration.values]\n",
    "#         return X"
   ]
  },
  {
   "cell_type": "code",
   "execution_count": 20,
   "metadata": {
    "execution": {
     "iopub.execute_input": "2021-08-26T17:42:24.126554Z",
     "iopub.status.busy": "2021-08-26T17:42:24.126181Z",
     "iopub.status.idle": "2021-08-26T17:42:24.145145Z",
     "shell.execute_reply": "2021-08-26T17:42:24.144319Z",
     "shell.execute_reply.started": "2021-08-26T17:42:24.126520Z"
    }
   },
   "outputs": [],
   "source": [
    "# feature_pipeline = FeatureUnion(transformer_list=[\n",
    "#     ('attributes_pipeline', attributes_pipeline),\n",
    "#     ('scaled_attributes_pipeline', scaled_attributes_pipeline)\n",
    "# ])"
   ]
  },
  {
   "cell_type": "markdown",
   "metadata": {},
   "source": [
    "### Feature selection"
   ]
  },
  {
   "cell_type": "code",
   "execution_count": 18,
   "metadata": {
    "execution": {
     "iopub.execute_input": "2021-08-26T17:42:24.147276Z",
     "iopub.status.busy": "2021-08-26T17:42:24.146687Z",
     "iopub.status.idle": "2021-08-26T17:42:24.163900Z",
     "shell.execute_reply": "2021-08-26T17:42:24.162777Z",
     "shell.execute_reply.started": "2021-08-26T17:42:24.147240Z"
    }
   },
   "outputs": [],
   "source": [
    "from scipy.sparse import hstack"
   ]
  },
  {
   "cell_type": "markdown",
   "metadata": {},
   "source": [
    "##### Отберём строки за 2014 год"
   ]
  },
  {
   "cell_type": "code",
   "execution_count": 22,
   "metadata": {
    "execution": {
     "iopub.execute_input": "2021-08-26T17:42:24.166115Z",
     "iopub.status.busy": "2021-08-26T17:42:24.165425Z",
     "iopub.status.idle": "2021-08-26T17:42:24.177699Z",
     "shell.execute_reply": "2021-08-26T17:42:24.176608Z",
     "shell.execute_reply.started": "2021-08-26T17:42:24.166063Z"
    }
   },
   "outputs": [],
   "source": [
    "# times_train['target'] = y_train"
   ]
  },
  {
   "cell_type": "code",
   "execution_count": 23,
   "metadata": {
    "execution": {
     "iopub.execute_input": "2021-08-26T17:42:24.179361Z",
     "iopub.status.busy": "2021-08-26T17:42:24.178878Z",
     "iopub.status.idle": "2021-08-26T17:42:24.190576Z",
     "shell.execute_reply": "2021-08-26T17:42:24.189616Z",
     "shell.execute_reply.started": "2021-08-26T17:42:24.179326Z"
    }
   },
   "outputs": [],
   "source": [
    "# times_train.year.value_counts()"
   ]
  },
  {
   "cell_type": "markdown",
   "metadata": {},
   "source": [
    "2013: -1.5477491026974153\n",
    "\n",
    "2014: 0.6460995507975896"
   ]
  },
  {
   "cell_type": "code",
   "execution_count": 24,
   "metadata": {
    "execution": {
     "iopub.execute_input": "2021-08-26T17:42:24.192066Z",
     "iopub.status.busy": "2021-08-26T17:42:24.191777Z",
     "iopub.status.idle": "2021-08-26T17:42:24.205210Z",
     "shell.execute_reply": "2021-08-26T17:42:24.204382Z",
     "shell.execute_reply.started": "2021-08-26T17:42:24.192038Z"
    }
   },
   "outputs": [],
   "source": [
    "# times_train_2014 = times_train[times_train.year == 0.6460995507975896]\n",
    "# sites_train_2014 = sites_train.loc[times_train_2014.index]"
   ]
  },
  {
   "cell_type": "code",
   "execution_count": 25,
   "metadata": {
    "execution": {
     "iopub.execute_input": "2021-08-26T17:42:24.206749Z",
     "iopub.status.busy": "2021-08-26T17:42:24.206261Z",
     "iopub.status.idle": "2021-08-26T17:42:24.219231Z",
     "shell.execute_reply": "2021-08-26T17:42:24.218414Z",
     "shell.execute_reply.started": "2021-08-26T17:42:24.206715Z"
    }
   },
   "outputs": [],
   "source": [
    "# times_train.target.value_counts(), times_train_2014.target.value_counts()"
   ]
  },
  {
   "cell_type": "code",
   "execution_count": 26,
   "metadata": {
    "execution": {
     "iopub.execute_input": "2021-08-26T17:42:24.220622Z",
     "iopub.status.busy": "2021-08-26T17:42:24.220219Z",
     "iopub.status.idle": "2021-08-26T17:42:24.233663Z",
     "shell.execute_reply": "2021-08-26T17:42:24.232467Z",
     "shell.execute_reply.started": "2021-08-26T17:42:24.220591Z"
    }
   },
   "outputs": [],
   "source": [
    "# 251264 / 177645, 2297 / 1241"
   ]
  },
  {
   "cell_type": "markdown",
   "metadata": {},
   "source": [
    "Индексация csr-матрицы с нуля. Подготовим индексы для отбора нужных строк."
   ]
  },
  {
   "cell_type": "code",
   "execution_count": 27,
   "metadata": {
    "execution": {
     "iopub.execute_input": "2021-08-26T17:42:24.235256Z",
     "iopub.status.busy": "2021-08-26T17:42:24.234918Z",
     "iopub.status.idle": "2021-08-26T17:42:24.247652Z",
     "shell.execute_reply": "2021-08-26T17:42:24.246538Z",
     "shell.execute_reply.started": "2021-08-26T17:42:24.235224Z"
    }
   },
   "outputs": [],
   "source": [
    "# times_train_reset_index = times_train.reset_index()"
   ]
  },
  {
   "cell_type": "code",
   "execution_count": 28,
   "metadata": {
    "execution": {
     "iopub.execute_input": "2021-08-26T17:42:24.249488Z",
     "iopub.status.busy": "2021-08-26T17:42:24.249119Z",
     "iopub.status.idle": "2021-08-26T17:42:24.263448Z",
     "shell.execute_reply": "2021-08-26T17:42:24.262317Z",
     "shell.execute_reply.started": "2021-08-26T17:42:24.249454Z"
    }
   },
   "outputs": [],
   "source": [
    "# times_train_reset_index_2014 = times_train_reset_index[times_train_reset_index.year == 0.6460995507975896]"
   ]
  },
  {
   "cell_type": "code",
   "execution_count": 29,
   "metadata": {
    "execution": {
     "iopub.execute_input": "2021-08-26T17:42:24.265612Z",
     "iopub.status.busy": "2021-08-26T17:42:24.264936Z",
     "iopub.status.idle": "2021-08-26T17:42:24.283208Z",
     "shell.execute_reply": "2021-08-26T17:42:24.281541Z",
     "shell.execute_reply.started": "2021-08-26T17:42:24.265565Z"
    }
   },
   "outputs": [],
   "source": [
    "# sites_train_vectorized[times_train_reset_index_2014.index]"
   ]
  },
  {
   "cell_type": "code",
   "execution_count": 30,
   "metadata": {
    "execution": {
     "iopub.execute_input": "2021-08-26T17:42:24.285075Z",
     "iopub.status.busy": "2021-08-26T17:42:24.284743Z",
     "iopub.status.idle": "2021-08-26T17:42:24.299208Z",
     "shell.execute_reply": "2021-08-26T17:42:24.297971Z",
     "shell.execute_reply.started": "2021-08-26T17:42:24.285045Z"
    }
   },
   "outputs": [],
   "source": [
    "# def select_2014(times, sites, sites_vectorized):\n",
    "#     times_reset_index = times.reset_index()\n",
    "    \n",
    "#     times_2014 = times_reset_index[times_reset_index.year == 0.6460995507975896]\n",
    "#     sites_2014 = sites.loc[times_2014.index]\n",
    "    \n",
    "#     times_reset_index_2014 = times_reset_index[times_reset_index.year == 0.6460995507975896]\n",
    "#     sites_vectorized_2014 = sites_vectorized[times_reset_index_2014.index]\n",
    "    \n",
    "#     return times_2014, sites_2014, sites_vectorized_2014"
   ]
  },
  {
   "cell_type": "code",
   "execution_count": 31,
   "metadata": {
    "execution": {
     "iopub.execute_input": "2021-08-26T17:42:24.301190Z",
     "iopub.status.busy": "2021-08-26T17:42:24.300741Z",
     "iopub.status.idle": "2021-08-26T17:42:24.317873Z",
     "shell.execute_reply": "2021-08-26T17:42:24.316744Z",
     "shell.execute_reply.started": "2021-08-26T17:42:24.301058Z"
    }
   },
   "outputs": [],
   "source": [
    "# times_train_2014, sites_train_2014, sites_train_vectorized_2014 = select_2014(times_train, sites_train, sites_train_vectorized)"
   ]
  },
  {
   "cell_type": "code",
   "execution_count": 127,
   "metadata": {
    "execution": {
     "iopub.execute_input": "2021-08-26T19:21:42.795179Z",
     "iopub.status.busy": "2021-08-26T19:21:42.794607Z",
     "iopub.status.idle": "2021-08-26T19:21:42.800506Z",
     "shell.execute_reply": "2021-08-26T19:21:42.799390Z",
     "shell.execute_reply.started": "2021-08-26T19:21:42.795128Z"
    }
   },
   "outputs": [
    {
     "name": "stdout",
     "output_type": "stream",
     "text": [
      "['hour', 'morning', 'midday', 'evening', 'sin_hour_minutes', 'cos_hour_minutes', 'minutes', 'minutes_10', 'minutes_20', 'minutes_30', 'minutes_40', 'minutes_50', 'minutes_60', 'hour_minutes', 'day', 'october', 'year', 'year_month', 'summer', 'weekday', 'weekend', 'session_duration', 7, 8, 9, 10, 11, 12, 13, 14, 15, 16, 17, 18, 19, 20, 21, 22, 23, 'Monday', 'Tuesday', 'Wednesday', 'Thursday', 'Friday', 'Saturday', 'Sunday']\n"
     ]
    }
   ],
   "source": [
    "print(all_time_features)"
   ]
  },
  {
   "cell_type": "code",
   "execution_count": 52,
   "metadata": {
    "execution": {
     "iopub.execute_input": "2021-08-26T19:21:42.802261Z",
     "iopub.status.busy": "2021-08-26T19:21:42.801925Z",
     "iopub.status.idle": "2021-08-26T19:21:42.816713Z",
     "shell.execute_reply": "2021-08-26T19:21:42.815163Z",
     "shell.execute_reply.started": "2021-08-26T19:21:42.802228Z"
    }
   },
   "outputs": [
    {
     "name": "stdout",
     "output_type": "stream",
     "text": [
      "['n_unique', 'has_top10', '1_unique', '2_unique', '3_unique', '4_unique', '5_unique', '6_unique', '7_unique', '8_unique', '9_unique', '10_unique']\n"
     ]
    }
   ],
   "source": [
    "print(all_site_features)"
   ]
  },
  {
   "cell_type": "markdown",
   "metadata": {},
   "source": [
    "##############################################################"
   ]
  },
  {
   "cell_type": "code",
   "execution_count": 190,
   "metadata": {
    "execution": {
     "iopub.execute_input": "2021-08-26T19:29:33.351721Z",
     "iopub.status.busy": "2021-08-26T19:29:33.351265Z",
     "iopub.status.idle": "2021-08-26T19:29:33.639240Z",
     "shell.execute_reply": "2021-08-26T19:29:33.638047Z",
     "shell.execute_reply.started": "2021-08-26T19:29:33.351684Z"
    }
   },
   "outputs": [
    {
     "data": {
      "text/plain": [
       "<253561x20012 sparse matrix of type '<class 'numpy.float64'>'\n",
       "\twith 5540982 stored elements in COOrdinate format>"
      ]
     },
     "execution_count": 190,
     "metadata": {},
     "output_type": "execute_result"
    }
   ],
   "source": [
    "# selected_time_features = ['morning', 'day', 'evening', 14, 15, 'year', 'Monday', 'Sunday', 'session_duration']\n",
    "# selected_site_features = ['7_unique']\n",
    "\n",
    "# selected_time_features = ['morning', 'day', 'evening', 14, 15, 18, 'Wednesday', 'Friday', 'session_duration'] \\\n",
    "#                                 + list(range(7, 12))\n",
    "# selected_site_features = ['1_unique', '4_unique', 'has_top10']\n",
    "\n",
    "selected_time_features = ['morning', 'midday', 'evening', 'session_duration', 14, 15, 'Monday', 'Sunday', 'year', 'day_3', \n",
    "                          'day_21']\n",
    "selected_site_features = ['7_unique']\n",
    "\n",
    "X_train = hstack([sites_train_vectorized, times_train[selected_time_features], \n",
    "                  sites_train[selected_site_features]]) # time_diffs_train[['time_diff_1', 'time_diff_2']]\n",
    "X_train"
   ]
  },
  {
   "cell_type": "markdown",
   "metadata": {},
   "source": [
    "February March April October"
   ]
  },
  {
   "cell_type": "markdown",
   "metadata": {},
   "source": [
    "##############################################################"
   ]
  },
  {
   "cell_type": "markdown",
   "metadata": {
    "id": "hsXfmxYHevpX"
   },
   "source": [
    "### Модель"
   ]
  },
  {
   "cell_type": "code",
   "execution_count": 23,
   "metadata": {
    "execution": {
     "iopub.execute_input": "2021-08-26T17:44:55.801195Z",
     "iopub.status.busy": "2021-08-26T17:44:55.800625Z",
     "iopub.status.idle": "2021-08-26T17:44:55.951246Z",
     "shell.execute_reply": "2021-08-26T17:44:55.950416Z",
     "shell.execute_reply.started": "2021-08-26T17:44:55.801151Z"
    }
   },
   "outputs": [],
   "source": [
    "from sklearn.model_selection import cross_val_score, TimeSeriesSplit\n",
    "from sklearn.linear_model import SGDClassifier, LogisticRegression\n",
    "from sklearn.metrics import roc_auc_score\n",
    "from sklearn.model_selection import GridSearchCV"
   ]
  },
  {
   "cell_type": "markdown",
   "metadata": {},
   "source": [
    "#### Обучение и подбор гиперпараметров"
   ]
  },
  {
   "cell_type": "code",
   "execution_count": 60,
   "metadata": {
    "execution": {
     "iopub.execute_input": "2021-08-26T17:44:56.436597Z",
     "iopub.status.busy": "2021-08-26T17:44:56.436029Z",
     "iopub.status.idle": "2021-08-26T17:44:56.442365Z",
     "shell.execute_reply": "2021-08-26T17:44:56.441171Z",
     "shell.execute_reply.started": "2021-08-26T17:44:56.436549Z"
    }
   },
   "outputs": [],
   "source": [
    "model = SGDClassifier(loss='log', random_state=2179, n_jobs=-1)  # class_weight='balanced'\n",
    "time_split = TimeSeriesSplit(n_splits=10)"
   ]
  },
  {
   "cell_type": "code",
   "execution_count": 57,
   "metadata": {
    "execution": {
     "iopub.execute_input": "2021-08-26T18:09:14.007977Z",
     "iopub.status.busy": "2021-08-26T18:09:14.007571Z",
     "iopub.status.idle": "2021-08-26T18:09:14.014122Z",
     "shell.execute_reply": "2021-08-26T18:09:14.013045Z",
     "shell.execute_reply.started": "2021-08-26T18:09:14.007940Z"
    }
   },
   "outputs": [],
   "source": [
    "grid = {\n",
    "    'penalty': ['l2', 'l1'],\n",
    "    'alpha': np.linspace(3e-05, 5e-05, 11)\n",
    "}"
   ]
  },
  {
   "cell_type": "code",
   "execution_count": 156,
   "metadata": {
    "execution": {
     "iopub.execute_input": "2021-08-26T19:34:25.339034Z",
     "iopub.status.busy": "2021-08-26T19:34:25.338529Z",
     "iopub.status.idle": "2021-08-26T19:36:51.256456Z",
     "shell.execute_reply": "2021-08-26T19:36:51.255394Z",
     "shell.execute_reply.started": "2021-08-26T19:34:25.338992Z"
    }
   },
   "outputs": [
    {
     "name": "stdout",
     "output_type": "stream",
     "text": [
      "CPU times: user 5min 10s, sys: 3.26 s, total: 5min 14s\n",
      "Wall time: 2min 43s\n"
     ]
    },
    {
     "data": {
      "text/plain": [
       "({'alpha': 3.6e-05, 'penalty': 'l2'}, 0.9379969621239443)"
      ]
     },
     "execution_count": 156,
     "metadata": {},
     "output_type": "execute_result"
    }
   ],
   "source": [
    "%%time\n",
    "\n",
    "search = GridSearchCV(model, param_grid=grid, cv=time_split, scoring='roc_auc')\n",
    "search.fit(X_train, y_train)\n",
    "\n",
    "search.best_params_, search.best_score_"
   ]
  },
  {
   "cell_type": "markdown",
   "metadata": {},
   "source": [
    "0.9234912596145423"
   ]
  },
  {
   "cell_type": "markdown",
   "metadata": {},
   "source": [
    "0.9429067044711336"
   ]
  },
  {
   "cell_type": "markdown",
   "metadata": {},
   "source": [
    "##############################################################"
   ]
  },
  {
   "cell_type": "code",
   "execution_count": 191,
   "metadata": {
    "execution": {
     "iopub.execute_input": "2021-08-26T19:32:20.640074Z",
     "iopub.status.busy": "2021-08-26T19:32:20.639590Z",
     "iopub.status.idle": "2021-08-26T19:32:24.647051Z",
     "shell.execute_reply": "2021-08-26T19:32:24.645597Z",
     "shell.execute_reply.started": "2021-08-26T19:32:20.640035Z"
    }
   },
   "outputs": [
    {
     "name": "stdout",
     "output_type": "stream",
     "text": [
      "0.938267552368661 0.04026401986386452\n",
      "CPU times: user 181 ms, sys: 50.5 ms, total: 232 ms\n",
      "Wall time: 1.33 s\n"
     ]
    },
    {
     "data": {
      "text/plain": [
       "array([0.91616599, 0.84761044, 0.96526542, 0.95278538, 0.9533779 ,\n",
       "       0.97019795, 0.88226456, 0.96019612, 0.96642744, 0.96838434])"
      ]
     },
     "execution_count": 191,
     "metadata": {},
     "output_type": "execute_result"
    }
   ],
   "source": [
    "%%time\n",
    "\n",
    "cv_scores = cross_val_score(model, X_train, y_train, cv=time_split, scoring='roc_auc', n_jobs=-1)\n",
    "# error_score='raise'\n",
    "print(cv_scores.mean(), cv_scores.std())\n",
    "cv_scores"
   ]
  },
  {
   "cell_type": "markdown",
   "metadata": {},
   "source": [
    "##############################################################"
   ]
  },
  {
   "cell_type": "markdown",
   "metadata": {},
   "source": [
    "Опции:\n",
    "\n",
    "- CountVectorizer ngram_range max_features\n",
    "    - (1, 1)\n",
    "        - max-k: 0.8530563468012738, 0.08925871896536618\n",
    "        - 20000: 0.8531100483866421, 0.08919480787349321\n",
    "        - 10000: 0.8539501616208991, 0.08875887000416063\n",
    "        - 5000: 0.8529069996789713, 0.08888832394047236\n",
    "    - (1, 2)\n",
    "        - max-k: 0.8577666221636842, 0.09371826647019514\n",
    "        - 50000: 0.858414628277273, 0.09308624515067462\n",
    "        - 20000: 0.8600043484189314, 0.0901820258132247\n",
    "        - 10000: 0.8565645409290898, 0.09086786443064755\n",
    "    - (1, 3)\n",
    "        - max-k: 0.8560039171386127, 0.09631952839070929\n",
    "        - 50000: 0.859467798898789, 0.09245656399159023\n",
    "        - 20000: 0.8598701871410264 0.09139402713364686\n",
    "        - 10000: 0.8560423530991228 0.09031323488865993\n",
    "    - (1, 4)\n",
    "        - max-k: 0.8533973079027204 0.10052454183974614\n",
    "        - 20000: 0.8455330939583249 0.08401555400318593\n",
    "    - (1, 9)\n",
    "        - 70000: .8604293420872524 0.09704219048563271\n",
    "    - (1, 10)\n",
    "        - 20000: 0.8419623744960409 0.0864989715893941\n",
    "        - 50000: 0.859496836616332 0.09749267442904218\n",
    "        - 70000: 0.8604687084516304 0.0970295359566777\n",
    "        - 100000: 0.8596446298744558 0.09781978585361331\n",
    "- TfidfVectorizer ngram_range max_features\n",
    "    - (1, 1)\n",
    "        - max-k: 0.8391530980059445, 0.08120401396593267\n",
    "        - 20000: 0.8399308212634944 0.08111430205756767\n",
    "    - (1, 2)\n",
    "        - max-k: 0.8294502665752119, 0.08421253009084147\n",
    "        - 20000: 0.8398228277779543 0.07824510376730294\n",
    "    - (1, 3)\n",
    "        - max-k: 0.8230380243367905, 0.08660127058036823\n",
    "    - (1, 10):\n",
    "        - 70000: 0.8359176499242273 0.08504483506085675\n",
    "        \n",
    "Выбираем CountVectorizer(ngram_range=(1, 2), max_features=20000)"
   ]
  },
  {
   "cell_type": "markdown",
   "metadata": {},
   "source": [
    "### Тест"
   ]
  },
  {
   "cell_type": "code",
   "execution_count": 27,
   "metadata": {
    "execution": {
     "iopub.execute_input": "2021-08-26T18:13:47.167399Z",
     "iopub.status.busy": "2021-08-26T18:13:47.166953Z",
     "iopub.status.idle": "2021-08-26T18:13:47.174739Z",
     "shell.execute_reply": "2021-08-26T18:13:47.173436Z",
     "shell.execute_reply.started": "2021-08-26T18:13:47.167364Z"
    }
   },
   "outputs": [],
   "source": [
    "# import eli5\n",
    "# import calendar\n",
    "\n",
    "def write_to_submission_file(predicted_labels, out_file,\n",
    "                             target='target', index_label=\"session_id\"):\n",
    "    # turn predictions into data frame and save as csv file\n",
    "    predicted_df = pd.DataFrame(predicted_labels,\n",
    "                                index = np.arange(1, predicted_labels.shape[0] + 1),\n",
    "                                columns=[target])\n",
    "    predicted_df.to_csv(out_file, index_label=index_label)"
   ]
  },
  {
   "cell_type": "code",
   "execution_count": 157,
   "metadata": {
    "execution": {
     "iopub.execute_input": "2021-08-26T19:37:39.429554Z",
     "iopub.status.busy": "2021-08-26T19:37:39.429109Z",
     "iopub.status.idle": "2021-08-26T19:38:19.652718Z",
     "shell.execute_reply": "2021-08-26T19:38:19.651611Z",
     "shell.execute_reply.started": "2021-08-26T19:37:39.429509Z"
    }
   },
   "outputs": [
    {
     "name": "stdout",
     "output_type": "stream",
     "text": [
      "CPU times: user 28 s, sys: 684 ms, total: 28.7 s\n",
      "Wall time: 28.3 s\n"
     ]
    },
    {
     "data": {
      "text/plain": [
       "<82797x20011 sparse matrix of type '<class 'numpy.float64'>'\n",
       "\twith 1664392 stored elements in COOrdinate format>"
      ]
     },
     "execution_count": 157,
     "metadata": {},
     "output_type": "execute_result"
    }
   ],
   "source": [
    "%%time\n",
    "\n",
    "sites_test_vectorized = vectorizer_pipeline.transform(df_test)\n",
    "\n",
    "sites_test = site_features_pipeline.transform(df_test)\n",
    "sites_test = pd.DataFrame(sites_test, columns=all_site_features)\n",
    "\n",
    "times_test = time_features_pipeline.transform(df_test)\n",
    "times_test = pd.DataFrame(times_test, columns=all_time_features)\n",
    "\n",
    "# times_test_2014, sites_test_2014, sites_test_vectorized_2014 = select_2014(times_test, sites_test, sites_test_vectorized)\n",
    "\n",
    "X_test = hstack([sites_test_vectorized, times_test[selected_time_features], sites_test[selected_site_features]])\n",
    "X_test"
   ]
  },
  {
   "cell_type": "code",
   "execution_count": 158,
   "metadata": {
    "execution": {
     "iopub.execute_input": "2021-08-26T18:21:48.775911Z",
     "iopub.status.busy": "2021-08-26T18:21:48.775595Z",
     "iopub.status.idle": "2021-08-26T18:21:49.529078Z",
     "shell.execute_reply": "2021-08-26T18:21:49.527844Z",
     "shell.execute_reply.started": "2021-08-26T18:21:48.775878Z"
    },
    "id": "BO52aSbSevpd",
    "outputId": "14c50521-ed54-4ba0-9f1e-b7e3956970c6"
   },
   "outputs": [],
   "source": [
    "search.best_estimator_.fit(X_train, y_train)\n",
    "logit_test_pred_proba = search.best_estimator_.predict_proba(X_test)\n",
    "# model.fit(X_train, y_train_2014)\n",
    "# logit_test_pred_proba = model.predict_proba(X_test)"
   ]
  },
  {
   "cell_type": "code",
   "execution_count": null,
   "metadata": {},
   "outputs": [],
   "source": [
    "# pd.DataFrame({'feature': feature_names, 'coef': search.best_estimator_.coef_.flatten()[-len(feature_names):]})"
   ]
  },
  {
   "cell_type": "code",
   "execution_count": null,
   "metadata": {},
   "outputs": [],
   "source": [
    "# eli5.show_weights(estimator=search.best_estimator_, feature_names=vectorizer_pipeline['vectorizer'].get_feature_names() \\\n",
    "#                   + feature_names, top=30)"
   ]
  },
  {
   "cell_type": "code",
   "execution_count": 159,
   "metadata": {
    "execution": {
     "iopub.execute_input": "2021-08-26T18:27:59.758773Z",
     "iopub.status.busy": "2021-08-26T18:27:59.758325Z",
     "iopub.status.idle": "2021-08-26T18:28:00.149699Z",
     "shell.execute_reply": "2021-08-26T18:28:00.148491Z",
     "shell.execute_reply.started": "2021-08-26T18:27:59.758739Z"
    },
    "id": "OdBll-mpevpf"
   },
   "outputs": [],
   "source": [
    "write_to_submission_file(logit_test_pred_proba[:, 1], 'result.csv')"
   ]
  },
  {
   "cell_type": "code",
   "execution_count": null,
   "metadata": {},
   "outputs": [],
   "source": []
  }
 ],
 "metadata": {
  "kernelspec": {
   "display_name": "Python 3",
   "language": "python",
   "name": "python3"
  },
  "language_info": {
   "codemirror_mode": {
    "name": "ipython",
    "version": 3
   },
   "file_extension": ".py",
   "mimetype": "text/x-python",
   "name": "python",
   "nbconvert_exporter": "python",
   "pygments_lexer": "ipython3",
   "version": "3.8.8"
  }
 },
 "nbformat": 4,
 "nbformat_minor": 4
}
