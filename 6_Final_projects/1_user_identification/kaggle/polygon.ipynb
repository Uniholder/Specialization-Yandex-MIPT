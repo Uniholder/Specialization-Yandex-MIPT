{
 "cells": [
  {
   "cell_type": "code",
   "execution_count": 1,
   "metadata": {
    "execution": {
     "iopub.execute_input": "2021-08-18T19:06:18.481984Z",
     "iopub.status.busy": "2021-08-18T19:06:18.481430Z",
     "iopub.status.idle": "2021-08-18T19:06:18.485690Z",
     "shell.execute_reply": "2021-08-18T19:06:18.484773Z",
     "shell.execute_reply.started": "2021-08-18T19:06:18.481901Z"
    },
    "id": "vp53iRU4evo-"
   },
   "outputs": [],
   "source": [
    "# from scipy.sparse import csr_matrix"
   ]
  },
  {
   "cell_type": "markdown",
   "metadata": {},
   "source": [
    "### Входные данные"
   ]
  },
  {
   "cell_type": "markdown",
   "metadata": {},
   "source": [
    "#### Загрузка"
   ]
  },
  {
   "cell_type": "code",
   "execution_count": 2,
   "metadata": {
    "execution": {
     "iopub.execute_input": "2021-08-18T19:06:18.488359Z",
     "iopub.status.busy": "2021-08-18T19:06:18.488019Z",
     "iopub.status.idle": "2021-08-18T19:06:18.497835Z",
     "shell.execute_reply": "2021-08-18T19:06:18.496862Z",
     "shell.execute_reply.started": "2021-08-18T19:06:18.488304Z"
    },
    "id": "Wg8z9iJlhH8L"
   },
   "outputs": [],
   "source": [
    "# !unzip capstone_user_identification.zip"
   ]
  },
  {
   "cell_type": "code",
   "execution_count": 1,
   "metadata": {
    "execution": {
     "iopub.execute_input": "2021-08-18T19:06:18.499899Z",
     "iopub.status.busy": "2021-08-18T19:06:18.499539Z",
     "iopub.status.idle": "2021-08-18T19:06:18.510290Z",
     "shell.execute_reply": "2021-08-18T19:06:18.509168Z",
     "shell.execute_reply.started": "2021-08-18T19:06:18.499862Z"
    }
   },
   "outputs": [],
   "source": [
    "# from __future__ import division, print_function\n",
    "# отключим всякие предупреждения Anaconda\n",
    "import warnings\n",
    "warnings.filterwarnings('ignore')\n",
    "\n",
    "import os\n",
    "import pandas as pd\n",
    "import pickle"
   ]
  },
  {
   "cell_type": "code",
   "execution_count": 2,
   "metadata": {
    "execution": {
     "iopub.execute_input": "2021-08-18T19:06:18.511961Z",
     "iopub.status.busy": "2021-08-18T19:06:18.511664Z",
     "iopub.status.idle": "2021-08-18T19:06:22.588823Z",
     "shell.execute_reply": "2021-08-18T19:06:22.588149Z",
     "shell.execute_reply.started": "2021-08-18T19:06:18.511927Z"
    },
    "id": "CTCSeq9revpC"
   },
   "outputs": [
    {
     "data": {
      "text/plain": [
       "((253561, 21), (82797, 20))"
      ]
     },
     "execution_count": 2,
     "metadata": {},
     "output_type": "execute_result"
    }
   ],
   "source": [
    "PATH_TO_DATA = '../capstone_user_identification'\n",
    "# PATH_TO_DATA = '../input/catch-me-if-you-can-intruder-detection-through-webpage-session-tracking2'\n",
    "\n",
    "times = ['time%s' % i for i in range(1, 11)]\n",
    "sites = ['site%s' % i for i in range(1, 11)]\n",
    "df_train = pd.read_csv(os.path.join(PATH_TO_DATA, 'train_sessions.csv'), index_col='session_id', parse_dates=times)\n",
    "df_test = pd.read_csv(os.path.join(PATH_TO_DATA, 'test_sessions.csv'), index_col='session_id', parse_dates=times)\n",
    "df_train.shape, df_test.shape"
   ]
  },
  {
   "cell_type": "markdown",
   "metadata": {},
   "source": [
    "Словарь сайтов"
   ]
  },
  {
   "cell_type": "code",
   "execution_count": 3,
   "metadata": {
    "execution": {
     "iopub.execute_input": "2021-08-18T19:06:22.590199Z",
     "iopub.status.busy": "2021-08-18T19:06:22.589859Z",
     "iopub.status.idle": "2021-08-18T19:06:22.660064Z",
     "shell.execute_reply": "2021-08-18T19:06:22.659365Z",
     "shell.execute_reply.started": "2021-08-18T19:06:22.590174Z"
    }
   },
   "outputs": [],
   "source": [
    "with open(os.path.join(PATH_TO_DATA, 'site_dic.pkl'), 'rb') as f:\n",
    "    site2id  = pickle.load(f)\n",
    "id2site = {v:k for (k, v) in site2id.items()}\n",
    "id2site[0] = 'unknown'"
   ]
  },
  {
   "cell_type": "markdown",
   "metadata": {},
   "source": [
    "#### Обработка"
   ]
  },
  {
   "cell_type": "code",
   "execution_count": 4,
   "metadata": {
    "execution": {
     "iopub.execute_input": "2021-08-18T19:06:22.661368Z",
     "iopub.status.busy": "2021-08-18T19:06:22.660998Z",
     "iopub.status.idle": "2021-08-18T19:06:22.751400Z",
     "shell.execute_reply": "2021-08-18T19:06:22.750549Z",
     "shell.execute_reply.started": "2021-08-18T19:06:22.661333Z"
    }
   },
   "outputs": [],
   "source": [
    "df_train.sort_values(by='time1', inplace=True)\n",
    "\n",
    "y_train = df_train[\"target\"].astype('int').values"
   ]
  },
  {
   "cell_type": "markdown",
   "metadata": {},
   "source": [
    "### Feature engineering"
   ]
  },
  {
   "cell_type": "code",
   "execution_count": 5,
   "metadata": {
    "execution": {
     "iopub.execute_input": "2021-08-18T19:18:45.947656Z",
     "iopub.status.busy": "2021-08-18T19:18:45.947123Z",
     "iopub.status.idle": "2021-08-18T19:18:45.953082Z",
     "shell.execute_reply": "2021-08-18T19:18:45.952170Z",
     "shell.execute_reply.started": "2021-08-18T19:18:45.947613Z"
    }
   },
   "outputs": [],
   "source": [
    "from sklearn.base import BaseEstimator, TransformerMixin\n",
    "from sklearn.pipeline import Pipeline\n",
    "# from sklearn.pipeline import FeatureUnion\n",
    "from sklearn.feature_extraction.text import CountVectorizer, TfidfVectorizer\n",
    "from sklearn.preprocessing import StandardScaler\n",
    "\n",
    "import numpy as np\n",
    "import calendar"
   ]
  },
  {
   "cell_type": "markdown",
   "metadata": {},
   "source": [
    "#### Sites"
   ]
  },
  {
   "cell_type": "code",
   "execution_count": 6,
   "metadata": {
    "execution": {
     "iopub.execute_input": "2021-08-18T19:06:23.562468Z",
     "iopub.status.busy": "2021-08-18T19:06:23.562093Z",
     "iopub.status.idle": "2021-08-18T19:06:23.568249Z",
     "shell.execute_reply": "2021-08-18T19:06:23.567627Z",
     "shell.execute_reply.started": "2021-08-18T19:06:23.562439Z"
    }
   },
   "outputs": [],
   "source": [
    "class SiteFeaturesPreparator(BaseEstimator, TransformerMixin):\n",
    "    \"\"\"\n",
    "    Fill NaN with zero values;\n",
    "    Prepare a (Count)Vectorizer friendly 2D-list from data.\n",
    "    \"\"\"\n",
    "    def __init__(self):\n",
    "        super().__init__()\n",
    "    \n",
    "    def fit(self, X, y=None):\n",
    "        return self\n",
    "    \n",
    "    def transform(self, X, y=None):\n",
    "        sites = ['site%s' % i for i in range(1, 11)]\n",
    "        # Convert dataframe rows to strings\n",
    "#         return X[sites].fillna(0).astype('int')#.apply(lambda row: ' '.join([self.id2site[i] for i in row]), axis=1).tolist()\n",
    "        return X[sites].fillna(0).astype('int').apply(lambda row: ' '.join([str(site_id) for site_id in row]), axis=1).tolist()"
   ]
  },
  {
   "cell_type": "code",
   "execution_count": 7,
   "metadata": {
    "execution": {
     "iopub.execute_input": "2021-08-18T19:06:23.569637Z",
     "iopub.status.busy": "2021-08-18T19:06:23.569226Z",
     "iopub.status.idle": "2021-08-18T19:06:23.584453Z",
     "shell.execute_reply": "2021-08-18T19:06:23.583695Z",
     "shell.execute_reply.started": "2021-08-18T19:06:23.569598Z"
    }
   },
   "outputs": [],
   "source": [
    "vectorizer_pipeline = Pipeline([\n",
    "    (\"preparator\", SiteFeaturesPreparator()),\n",
    "    (\"vectorizer\", CountVectorizer(ngram_range=(1, 2), max_features=20000))  # tokenizer=lambda s: s.split()\n",
    "#     (\"vectorizer\", TfidfVectorizer(ngram_range=(1, 10), max_features=70000))\n",
    "])"
   ]
  },
  {
   "cell_type": "code",
   "execution_count": 8,
   "metadata": {
    "execution": {
     "iopub.execute_input": "2021-08-18T19:06:23.585882Z",
     "iopub.status.busy": "2021-08-18T19:06:23.585469Z",
     "iopub.status.idle": "2021-08-18T19:06:31.735369Z",
     "shell.execute_reply": "2021-08-18T19:06:31.734352Z",
     "shell.execute_reply.started": "2021-08-18T19:06:23.585842Z"
    }
   },
   "outputs": [
    {
     "name": "stdout",
     "output_type": "stream",
     "text": [
      "CPU times: user 6.77 s, sys: 85.3 ms, total: 6.85 s\n",
      "Wall time: 6.85 s\n"
     ]
    },
    {
     "data": {
      "text/plain": [
       "<253561x20000 sparse matrix of type '<class 'numpy.int64'>'\n",
       "\twith 2498250 stored elements in Compressed Sparse Row format>"
      ]
     },
     "execution_count": 8,
     "metadata": {},
     "output_type": "execute_result"
    }
   ],
   "source": [
    "%%time\n",
    "sites_train_vectorized = vectorizer_pipeline.fit_transform(df_train)\n",
    "sites_train_vectorized"
   ]
  },
  {
   "cell_type": "code",
   "execution_count": null,
   "metadata": {},
   "outputs": [],
   "source": [
    "class SitesFeaturesAdder(BaseEstimator, TransformerMixin):\n",
    "    \"\"\"\n",
    "    Add new attributes to training and test set.\n",
    "    \"\"\" \n",
    "    def fit(self, X, y=None):\n",
    "        return self\n",
    "    \n",
    "    def transform(self, X, y=None):\n",
    "        "
   ]
  },
  {
   "cell_type": "markdown",
   "metadata": {},
   "source": [
    "#### Times"
   ]
  },
  {
   "cell_type": "code",
   "execution_count": 90,
   "metadata": {},
   "outputs": [
    {
     "data": {
      "text/plain": [
       "['Monday', 'Tuesday', 'Wednesday', 'Thursday', 'Friday', 'Saturday', 'Sunday']"
      ]
     },
     "execution_count": 90,
     "metadata": {},
     "output_type": "execute_result"
    }
   ],
   "source": [
    "list(calendar.day_name)"
   ]
  },
  {
   "cell_type": "code",
   "execution_count": 148,
   "metadata": {
    "execution": {
     "iopub.execute_input": "2021-08-18T19:40:26.379099Z",
     "iopub.status.busy": "2021-08-18T19:40:26.378791Z",
     "iopub.status.idle": "2021-08-18T19:40:26.389239Z",
     "shell.execute_reply": "2021-08-18T19:40:26.388225Z",
     "shell.execute_reply.started": "2021-08-18T19:40:26.379074Z"
    }
   },
   "outputs": [],
   "source": [
    "class TimesFeaturesAdder(BaseEstimator, TransformerMixin):\n",
    "    \"\"\"\n",
    "    Add new attributes to training and test set.\n",
    "    \"\"\" \n",
    "    def fit(self, X, y=None):\n",
    "        return self \n",
    "    \n",
    "    def transform(self, X, y=None):\n",
    "        # intraday features\n",
    "        hour = X['time1'].apply(lambda ts: ts.hour)\n",
    "        minutes = X['time1'].apply(lambda ts: ts.minute)\n",
    "        hour_minutes = hour + minutes / 60\n",
    "        dummy_hours = pd.get_dummies(hour)\n",
    "        \n",
    "        morning = ((hour >= 7) & (hour <= 11)).astype('int')\n",
    "        day = ((hour >= 12) & (hour <= 18)).astype('int')\n",
    "        evening = ((hour >= 19) & (hour <= 23)).astype('int')\n",
    "        \n",
    "        sin_hour = np.sin(2 * np.pi * hour / 24)\n",
    "        cos_hour = np.cos(2 * np.pi * hour / 24)\n",
    "        \n",
    "        # date\n",
    "        month = X['time1'].apply(lambda ts: ts.month)\n",
    "        year = X['time1'].apply(lambda ts: ts.year)\n",
    "        year_month = year + month\n",
    "        summer = ((month >= 6) & (month <= 8)).astype('int')\n",
    "        \n",
    "        weekday = X['time1'].apply(lambda ts: ts.weekday())\n",
    "        dummy_weekdays = pd.get_dummies(data=weekday)\n",
    "        \n",
    "        times = ['time%s' % i for i in range(1, 11)]\n",
    "        session_duration = (X[times].max(axis=1) - X[times].min(axis=1)).astype('timedelta64[ms]').astype(int) #** 0.2\n",
    "        \n",
    "        features_df = pd.DataFrame({\n",
    "            'hour': hour,\n",
    "            'morning': morning,\n",
    "            'day': day,\n",
    "            'evening': evening,\n",
    "            'sin_hour': sin_hour,\n",
    "            'cos_hour': cos_hour,\n",
    "            'minutes': minutes,\n",
    "            'hour_minutes': hour_minutes,\n",
    "            'month': month,\n",
    "            'year': year,\n",
    "            'year_month': year_month,\n",
    "            'summer': summer,\n",
    "            'weekday': weekday,\n",
    "            'session_duration': session_duration,\n",
    "        })\n",
    "\n",
    "        return pd.concat([features_df, dummy_hours, dummy_weekdays], axis=1)\n",
    "    \n",
    "all_features = ['hour', 'morning', 'day', 'evening', 'sin_hour', 'cos_hour', \n",
    "                'minutes', 'hour_minutes', 'month', 'year', 'year_month', \n",
    "                'summer', 'weekday', 'session_duration'] + list(range(7, 24)) + list(calendar.day_name)"
   ]
  },
  {
   "cell_type": "code",
   "execution_count": 149,
   "metadata": {
    "execution": {
     "iopub.execute_input": "2021-08-18T19:40:30.688398Z",
     "iopub.status.busy": "2021-08-18T19:40:30.688035Z",
     "iopub.status.idle": "2021-08-18T19:40:35.866604Z",
     "shell.execute_reply": "2021-08-18T19:40:35.865501Z",
     "shell.execute_reply.started": "2021-08-18T19:40:30.688359Z"
    }
   },
   "outputs": [
    {
     "name": "stdout",
     "output_type": "stream",
     "text": [
      "CPU times: user 4.15 s, sys: 200 ms, total: 4.35 s\n",
      "Wall time: 4.33 s\n"
     ]
    },
    {
     "data": {
      "text/html": [
       "<div>\n",
       "<style scoped>\n",
       "    .dataframe tbody tr th:only-of-type {\n",
       "        vertical-align: middle;\n",
       "    }\n",
       "\n",
       "    .dataframe tbody tr th {\n",
       "        vertical-align: top;\n",
       "    }\n",
       "\n",
       "    .dataframe thead th {\n",
       "        text-align: right;\n",
       "    }\n",
       "</style>\n",
       "<table border=\"1\" class=\"dataframe\">\n",
       "  <thead>\n",
       "    <tr style=\"text-align: right;\">\n",
       "      <th></th>\n",
       "      <th>hour</th>\n",
       "      <th>morning</th>\n",
       "      <th>day</th>\n",
       "      <th>evening</th>\n",
       "      <th>sin_hour</th>\n",
       "      <th>cos_hour</th>\n",
       "      <th>minutes</th>\n",
       "      <th>hour_minutes</th>\n",
       "      <th>month</th>\n",
       "      <th>year</th>\n",
       "      <th>...</th>\n",
       "      <th>21</th>\n",
       "      <th>22</th>\n",
       "      <th>23</th>\n",
       "      <th>Monday</th>\n",
       "      <th>Tuesday</th>\n",
       "      <th>Wednesday</th>\n",
       "      <th>Thursday</th>\n",
       "      <th>Friday</th>\n",
       "      <th>Saturday</th>\n",
       "      <th>Sunday</th>\n",
       "    </tr>\n",
       "  </thead>\n",
       "  <tbody>\n",
       "    <tr>\n",
       "      <th>0</th>\n",
       "      <td>-1.357366</td>\n",
       "      <td>1.039061</td>\n",
       "      <td>-0.98128</td>\n",
       "      <td>-0.171577</td>\n",
       "      <td>1.406483</td>\n",
       "      <td>0.644886</td>\n",
       "      <td>-1.400885</td>\n",
       "      <td>-1.487757</td>\n",
       "      <td>-0.943567</td>\n",
       "      <td>-1.547749</td>\n",
       "      <td>...</td>\n",
       "      <td>-0.082278</td>\n",
       "      <td>-0.076284</td>\n",
       "      <td>-0.072862</td>\n",
       "      <td>-0.436072</td>\n",
       "      <td>-0.487314</td>\n",
       "      <td>-0.532230</td>\n",
       "      <td>-0.459143</td>\n",
       "      <td>-0.440082</td>\n",
       "      <td>3.879327</td>\n",
       "      <td>-0.172561</td>\n",
       "    </tr>\n",
       "    <tr>\n",
       "      <th>1</th>\n",
       "      <td>-1.357366</td>\n",
       "      <td>1.039061</td>\n",
       "      <td>-0.98128</td>\n",
       "      <td>-0.171577</td>\n",
       "      <td>1.406483</td>\n",
       "      <td>0.644886</td>\n",
       "      <td>0.451667</td>\n",
       "      <td>-1.318638</td>\n",
       "      <td>-0.943567</td>\n",
       "      <td>-1.547749</td>\n",
       "      <td>...</td>\n",
       "      <td>-0.082278</td>\n",
       "      <td>-0.076284</td>\n",
       "      <td>-0.072862</td>\n",
       "      <td>-0.436072</td>\n",
       "      <td>-0.487314</td>\n",
       "      <td>-0.532230</td>\n",
       "      <td>-0.459143</td>\n",
       "      <td>-0.440082</td>\n",
       "      <td>3.879327</td>\n",
       "      <td>-0.172561</td>\n",
       "    </tr>\n",
       "    <tr>\n",
       "      <th>2</th>\n",
       "      <td>-1.357366</td>\n",
       "      <td>1.039061</td>\n",
       "      <td>-0.98128</td>\n",
       "      <td>-0.171577</td>\n",
       "      <td>1.406483</td>\n",
       "      <td>0.644886</td>\n",
       "      <td>1.204266</td>\n",
       "      <td>-1.249933</td>\n",
       "      <td>-0.943567</td>\n",
       "      <td>-1.547749</td>\n",
       "      <td>...</td>\n",
       "      <td>-0.082278</td>\n",
       "      <td>-0.076284</td>\n",
       "      <td>-0.072862</td>\n",
       "      <td>-0.436072</td>\n",
       "      <td>-0.487314</td>\n",
       "      <td>-0.532230</td>\n",
       "      <td>-0.459143</td>\n",
       "      <td>-0.440082</td>\n",
       "      <td>3.879327</td>\n",
       "      <td>-0.172561</td>\n",
       "    </tr>\n",
       "    <tr>\n",
       "      <th>3</th>\n",
       "      <td>-1.357366</td>\n",
       "      <td>1.039061</td>\n",
       "      <td>-0.98128</td>\n",
       "      <td>-0.171577</td>\n",
       "      <td>1.406483</td>\n",
       "      <td>0.644886</td>\n",
       "      <td>1.204266</td>\n",
       "      <td>-1.249933</td>\n",
       "      <td>-0.943567</td>\n",
       "      <td>-1.547749</td>\n",
       "      <td>...</td>\n",
       "      <td>-0.082278</td>\n",
       "      <td>-0.076284</td>\n",
       "      <td>-0.072862</td>\n",
       "      <td>-0.436072</td>\n",
       "      <td>-0.487314</td>\n",
       "      <td>-0.532230</td>\n",
       "      <td>-0.459143</td>\n",
       "      <td>-0.440082</td>\n",
       "      <td>3.879327</td>\n",
       "      <td>-0.172561</td>\n",
       "    </tr>\n",
       "    <tr>\n",
       "      <th>4</th>\n",
       "      <td>-1.357366</td>\n",
       "      <td>1.039061</td>\n",
       "      <td>-0.98128</td>\n",
       "      <td>-0.171577</td>\n",
       "      <td>1.406483</td>\n",
       "      <td>0.644886</td>\n",
       "      <td>1.204266</td>\n",
       "      <td>-1.249933</td>\n",
       "      <td>-0.943567</td>\n",
       "      <td>-1.547749</td>\n",
       "      <td>...</td>\n",
       "      <td>-0.082278</td>\n",
       "      <td>-0.076284</td>\n",
       "      <td>-0.072862</td>\n",
       "      <td>-0.436072</td>\n",
       "      <td>-0.487314</td>\n",
       "      <td>-0.532230</td>\n",
       "      <td>-0.459143</td>\n",
       "      <td>-0.440082</td>\n",
       "      <td>3.879327</td>\n",
       "      <td>-0.172561</td>\n",
       "    </tr>\n",
       "    <tr>\n",
       "      <th>...</th>\n",
       "      <td>...</td>\n",
       "      <td>...</td>\n",
       "      <td>...</td>\n",
       "      <td>...</td>\n",
       "      <td>...</td>\n",
       "      <td>...</td>\n",
       "      <td>...</td>\n",
       "      <td>...</td>\n",
       "      <td>...</td>\n",
       "      <td>...</td>\n",
       "      <td>...</td>\n",
       "      <td>...</td>\n",
       "      <td>...</td>\n",
       "      <td>...</td>\n",
       "      <td>...</td>\n",
       "      <td>...</td>\n",
       "      <td>...</td>\n",
       "      <td>...</td>\n",
       "      <td>...</td>\n",
       "      <td>...</td>\n",
       "      <td>...</td>\n",
       "    </tr>\n",
       "    <tr>\n",
       "      <th>253556</th>\n",
       "      <td>3.390349</td>\n",
       "      <td>-0.962408</td>\n",
       "      <td>-0.98128</td>\n",
       "      <td>5.828302</td>\n",
       "      <td>-0.399203</td>\n",
       "      <td>5.131687</td>\n",
       "      <td>0.220098</td>\n",
       "      <td>3.416696</td>\n",
       "      <td>-0.137395</td>\n",
       "      <td>0.646100</td>\n",
       "      <td>...</td>\n",
       "      <td>-0.082278</td>\n",
       "      <td>-0.076284</td>\n",
       "      <td>13.724647</td>\n",
       "      <td>-0.436072</td>\n",
       "      <td>-0.487314</td>\n",
       "      <td>1.878888</td>\n",
       "      <td>-0.459143</td>\n",
       "      <td>-0.440082</td>\n",
       "      <td>-0.257777</td>\n",
       "      <td>-0.172561</td>\n",
       "    </tr>\n",
       "    <tr>\n",
       "      <th>253557</th>\n",
       "      <td>3.390349</td>\n",
       "      <td>-0.962408</td>\n",
       "      <td>-0.98128</td>\n",
       "      <td>5.828302</td>\n",
       "      <td>-0.399203</td>\n",
       "      <td>5.131687</td>\n",
       "      <td>0.277990</td>\n",
       "      <td>3.421981</td>\n",
       "      <td>-0.137395</td>\n",
       "      <td>0.646100</td>\n",
       "      <td>...</td>\n",
       "      <td>-0.082278</td>\n",
       "      <td>-0.076284</td>\n",
       "      <td>13.724647</td>\n",
       "      <td>-0.436072</td>\n",
       "      <td>-0.487314</td>\n",
       "      <td>1.878888</td>\n",
       "      <td>-0.459143</td>\n",
       "      <td>-0.440082</td>\n",
       "      <td>-0.257777</td>\n",
       "      <td>-0.172561</td>\n",
       "    </tr>\n",
       "    <tr>\n",
       "      <th>253558</th>\n",
       "      <td>3.390349</td>\n",
       "      <td>-0.962408</td>\n",
       "      <td>-0.98128</td>\n",
       "      <td>5.828302</td>\n",
       "      <td>-0.399203</td>\n",
       "      <td>5.131687</td>\n",
       "      <td>0.509559</td>\n",
       "      <td>3.443121</td>\n",
       "      <td>-0.137395</td>\n",
       "      <td>0.646100</td>\n",
       "      <td>...</td>\n",
       "      <td>-0.082278</td>\n",
       "      <td>-0.076284</td>\n",
       "      <td>13.724647</td>\n",
       "      <td>-0.436072</td>\n",
       "      <td>-0.487314</td>\n",
       "      <td>1.878888</td>\n",
       "      <td>-0.459143</td>\n",
       "      <td>-0.440082</td>\n",
       "      <td>-0.257777</td>\n",
       "      <td>-0.172561</td>\n",
       "    </tr>\n",
       "    <tr>\n",
       "      <th>253559</th>\n",
       "      <td>3.390349</td>\n",
       "      <td>-0.962408</td>\n",
       "      <td>-0.98128</td>\n",
       "      <td>5.828302</td>\n",
       "      <td>-0.399203</td>\n",
       "      <td>5.131687</td>\n",
       "      <td>0.509559</td>\n",
       "      <td>3.443121</td>\n",
       "      <td>-0.137395</td>\n",
       "      <td>0.646100</td>\n",
       "      <td>...</td>\n",
       "      <td>-0.082278</td>\n",
       "      <td>-0.076284</td>\n",
       "      <td>13.724647</td>\n",
       "      <td>-0.436072</td>\n",
       "      <td>-0.487314</td>\n",
       "      <td>1.878888</td>\n",
       "      <td>-0.459143</td>\n",
       "      <td>-0.440082</td>\n",
       "      <td>-0.257777</td>\n",
       "      <td>-0.172561</td>\n",
       "    </tr>\n",
       "    <tr>\n",
       "      <th>253560</th>\n",
       "      <td>3.390349</td>\n",
       "      <td>-0.962408</td>\n",
       "      <td>-0.98128</td>\n",
       "      <td>5.828302</td>\n",
       "      <td>-0.399203</td>\n",
       "      <td>5.131687</td>\n",
       "      <td>0.567451</td>\n",
       "      <td>3.448405</td>\n",
       "      <td>-0.137395</td>\n",
       "      <td>0.646100</td>\n",
       "      <td>...</td>\n",
       "      <td>-0.082278</td>\n",
       "      <td>-0.076284</td>\n",
       "      <td>13.724647</td>\n",
       "      <td>-0.436072</td>\n",
       "      <td>-0.487314</td>\n",
       "      <td>1.878888</td>\n",
       "      <td>-0.459143</td>\n",
       "      <td>-0.440082</td>\n",
       "      <td>-0.257777</td>\n",
       "      <td>-0.172561</td>\n",
       "    </tr>\n",
       "  </tbody>\n",
       "</table>\n",
       "<p>253561 rows × 38 columns</p>\n",
       "</div>"
      ],
      "text/plain": [
       "            hour   morning      day   evening  sin_hour  cos_hour   minutes  \\\n",
       "0      -1.357366  1.039061 -0.98128 -0.171577  1.406483  0.644886 -1.400885   \n",
       "1      -1.357366  1.039061 -0.98128 -0.171577  1.406483  0.644886  0.451667   \n",
       "2      -1.357366  1.039061 -0.98128 -0.171577  1.406483  0.644886  1.204266   \n",
       "3      -1.357366  1.039061 -0.98128 -0.171577  1.406483  0.644886  1.204266   \n",
       "4      -1.357366  1.039061 -0.98128 -0.171577  1.406483  0.644886  1.204266   \n",
       "...          ...       ...      ...       ...       ...       ...       ...   \n",
       "253556  3.390349 -0.962408 -0.98128  5.828302 -0.399203  5.131687  0.220098   \n",
       "253557  3.390349 -0.962408 -0.98128  5.828302 -0.399203  5.131687  0.277990   \n",
       "253558  3.390349 -0.962408 -0.98128  5.828302 -0.399203  5.131687  0.509559   \n",
       "253559  3.390349 -0.962408 -0.98128  5.828302 -0.399203  5.131687  0.509559   \n",
       "253560  3.390349 -0.962408 -0.98128  5.828302 -0.399203  5.131687  0.567451   \n",
       "\n",
       "        hour_minutes     month      year  ...        21        22         23  \\\n",
       "0          -1.487757 -0.943567 -1.547749  ... -0.082278 -0.076284  -0.072862   \n",
       "1          -1.318638 -0.943567 -1.547749  ... -0.082278 -0.076284  -0.072862   \n",
       "2          -1.249933 -0.943567 -1.547749  ... -0.082278 -0.076284  -0.072862   \n",
       "3          -1.249933 -0.943567 -1.547749  ... -0.082278 -0.076284  -0.072862   \n",
       "4          -1.249933 -0.943567 -1.547749  ... -0.082278 -0.076284  -0.072862   \n",
       "...              ...       ...       ...  ...       ...       ...        ...   \n",
       "253556      3.416696 -0.137395  0.646100  ... -0.082278 -0.076284  13.724647   \n",
       "253557      3.421981 -0.137395  0.646100  ... -0.082278 -0.076284  13.724647   \n",
       "253558      3.443121 -0.137395  0.646100  ... -0.082278 -0.076284  13.724647   \n",
       "253559      3.443121 -0.137395  0.646100  ... -0.082278 -0.076284  13.724647   \n",
       "253560      3.448405 -0.137395  0.646100  ... -0.082278 -0.076284  13.724647   \n",
       "\n",
       "          Monday   Tuesday  Wednesday  Thursday    Friday  Saturday    Sunday  \n",
       "0      -0.436072 -0.487314  -0.532230 -0.459143 -0.440082  3.879327 -0.172561  \n",
       "1      -0.436072 -0.487314  -0.532230 -0.459143 -0.440082  3.879327 -0.172561  \n",
       "2      -0.436072 -0.487314  -0.532230 -0.459143 -0.440082  3.879327 -0.172561  \n",
       "3      -0.436072 -0.487314  -0.532230 -0.459143 -0.440082  3.879327 -0.172561  \n",
       "4      -0.436072 -0.487314  -0.532230 -0.459143 -0.440082  3.879327 -0.172561  \n",
       "...          ...       ...        ...       ...       ...       ...       ...  \n",
       "253556 -0.436072 -0.487314   1.878888 -0.459143 -0.440082 -0.257777 -0.172561  \n",
       "253557 -0.436072 -0.487314   1.878888 -0.459143 -0.440082 -0.257777 -0.172561  \n",
       "253558 -0.436072 -0.487314   1.878888 -0.459143 -0.440082 -0.257777 -0.172561  \n",
       "253559 -0.436072 -0.487314   1.878888 -0.459143 -0.440082 -0.257777 -0.172561  \n",
       "253560 -0.436072 -0.487314   1.878888 -0.459143 -0.440082 -0.257777 -0.172561  \n",
       "\n",
       "[253561 rows x 38 columns]"
      ]
     },
     "execution_count": 149,
     "metadata": {},
     "output_type": "execute_result"
    }
   ],
   "source": [
    "%%time\n",
    "time_features_pipeline = Pipeline([\n",
    "    (\"times_adder\", TimesFeaturesAdder()),\n",
    "    (\"scaler\", StandardScaler())\n",
    "])\n",
    "\n",
    "times_train = time_features_pipeline.fit_transform(df_train)\n",
    "times_train = pd.DataFrame(times_train, columns=all_features)\n",
    "times_train"
   ]
  },
  {
   "cell_type": "code",
   "execution_count": null,
   "metadata": {},
   "outputs": [],
   "source": [
    "#         # day of the week features\n",
    "#         #     is_weekend = np.isin(weekday, [0, 2, 6])\n",
    "        \n",
    "#         session_duration = (X[times].max(axis=1) - X[times].min(axis=1)).astype('timedelta64[ms]').astype(int) #** 0.2"
   ]
  },
  {
   "cell_type": "code",
   "execution_count": null,
   "metadata": {
    "execution": {
     "iopub.execute_input": "2021-08-12T17:04:54.266203Z",
     "iopub.status.busy": "2021-08-12T17:04:54.265687Z",
     "iopub.status.idle": "2021-08-12T17:04:54.274086Z",
     "shell.execute_reply": "2021-08-12T17:04:54.273361Z",
     "shell.execute_reply.started": "2021-08-12T17:04:54.266137Z"
    }
   },
   "outputs": [],
   "source": [
    "# class ScaledAttributesAdder(BaseEstimator, TransformerMixin):\n",
    "#     \"\"\"\n",
    "#     Add new features, that should be scaled.\n",
    "#     \"\"\"\n",
    "#     def fit(self, X, y=None):\n",
    "#         return self\n",
    "    \n",
    "#     def transform(self, X, y=None):\n",
    "#         # session time features\n",
    "#         times = ['time%s' % i for i in range(1, 11)]\n",
    "#         sites = ['site%s' % i for i in range(1, 11)]\n",
    "        \n",
    "#         # session duration: take to the power of 1/5 to normalize the distribution\n",
    "#         session_duration = (X[times].max(axis=1) - X[times].min(axis=1)).astype('timedelta64[ms]').astype(int) #** 0.2\n",
    "        \n",
    "#         # number of sites visited in a session\n",
    "#         number_of_sites = X[times].isnull().sum(axis=1).apply(lambda x: 10 - x)\n",
    "        \n",
    "#         # average time spent on one site during a session\n",
    "#         time_per_site = (session_duration / number_of_sites) #** 0.2\n",
    "        \n",
    "# #         unique_sites = X[sites].apply(lambda sites: sites.nunique(), axis=1)\n",
    "        \n",
    "#         X = np.c_[session_duration.values]\n",
    "#         return X"
   ]
  },
  {
   "cell_type": "code",
   "execution_count": null,
   "metadata": {
    "execution": {
     "iopub.execute_input": "2021-08-12T17:13:12.640156Z",
     "iopub.status.busy": "2021-08-12T17:13:12.638015Z",
     "iopub.status.idle": "2021-08-12T17:13:12.655557Z",
     "shell.execute_reply": "2021-08-12T17:13:12.654739Z",
     "shell.execute_reply.started": "2021-08-12T17:13:12.640112Z"
    }
   },
   "outputs": [],
   "source": [
    "# scaled_attributes_pipeline = Pipeline([\n",
    "#     (\"adder\", ScaledAttributesAdder()),\n",
    "#     (\"scaler\", StandardScaler())\n",
    "# ])\n",
    "\n",
    "# feature_pipeline = FeatureUnion(transformer_list=[\n",
    "#     ('attributes_pipeline', attributes_pipeline),\n",
    "#     ('scaled_attributes_pipeline', scaled_attributes_pipeline)\n",
    "# ])"
   ]
  },
  {
   "cell_type": "markdown",
   "metadata": {},
   "source": [
    "### Feature selection"
   ]
  },
  {
   "cell_type": "code",
   "execution_count": 11,
   "metadata": {
    "execution": {
     "iopub.execute_input": "2021-08-18T19:18:54.227892Z",
     "iopub.status.busy": "2021-08-18T19:18:54.227585Z",
     "iopub.status.idle": "2021-08-18T19:18:54.231704Z",
     "shell.execute_reply": "2021-08-18T19:18:54.231028Z",
     "shell.execute_reply.started": "2021-08-18T19:18:54.227864Z"
    }
   },
   "outputs": [],
   "source": [
    "from scipy.sparse import hstack"
   ]
  },
  {
   "cell_type": "markdown",
   "metadata": {},
   "source": [
    "##############################################################"
   ]
  },
  {
   "cell_type": "code",
   "execution_count": 65,
   "metadata": {},
   "outputs": [
    {
     "name": "stdout",
     "output_type": "stream",
     "text": [
      "['hour', 'morning', 'day', 'evening', 'sin_hour', 'cos_hour', 'minutes', 'hour_minutes', 'month', 'year', 'year_month', 'summer', 'weekday', 7, 8, 9, 10, 11, 12, 13, 14, 15, 16, 17, 18, 19, 20, 21, 22, 23]\n"
     ]
    }
   ],
   "source": [
    "print(all_features)"
   ]
  },
  {
   "cell_type": "code",
   "execution_count": 99,
   "metadata": {},
   "outputs": [
    {
     "data": {
      "text/plain": [
       "['Monday', 'Tuesday', 'Wednesday', 'Thursday', 'Friday', 'Saturday', 'Sunday']"
      ]
     },
     "execution_count": 99,
     "metadata": {},
     "output_type": "execute_result"
    }
   ],
   "source": [
    "list(calendar.day_name)"
   ]
  },
  {
   "cell_type": "code",
   "execution_count": 150,
   "metadata": {
    "execution": {
     "iopub.execute_input": "2021-08-18T19:41:41.951242Z",
     "iopub.status.busy": "2021-08-18T19:41:41.950928Z",
     "iopub.status.idle": "2021-08-18T19:41:42.053148Z",
     "shell.execute_reply": "2021-08-18T19:41:42.051945Z",
     "shell.execute_reply.started": "2021-08-18T19:41:41.951215Z"
    }
   },
   "outputs": [
    {
     "data": {
      "text/plain": [
       "<253561x20009 sparse matrix of type '<class 'numpy.float64'>'\n",
       "\twith 4780299 stored elements in COOrdinate format>"
      ]
     },
     "execution_count": 150,
     "metadata": {},
     "output_type": "execute_result"
    }
   ],
   "source": [
    "selected_features = ['morning', 'day', 'evening', 14, 15, 'year', 'Monday', 'Sunday', 'session_duration']\n",
    "\n",
    "X_train = hstack([sites_train_vectorized, times_train[selected_features]])\n",
    "X_train"
   ]
  },
  {
   "cell_type": "markdown",
   "metadata": {},
   "source": [
    "##############################################################"
   ]
  },
  {
   "cell_type": "markdown",
   "metadata": {
    "id": "hsXfmxYHevpX"
   },
   "source": [
    "### Модель"
   ]
  },
  {
   "cell_type": "code",
   "execution_count": 13,
   "metadata": {
    "execution": {
     "iopub.execute_input": "2021-08-18T19:19:08.281235Z",
     "iopub.status.busy": "2021-08-18T19:19:08.280657Z",
     "iopub.status.idle": "2021-08-18T19:19:08.400938Z",
     "shell.execute_reply": "2021-08-18T19:19:08.400250Z",
     "shell.execute_reply.started": "2021-08-18T19:19:08.281202Z"
    }
   },
   "outputs": [],
   "source": [
    "from sklearn.model_selection import cross_val_score, TimeSeriesSplit\n",
    "from sklearn.linear_model import SGDClassifier, LogisticRegression\n",
    "from sklearn.metrics import roc_auc_score\n",
    "from sklearn.model_selection import GridSearchCV"
   ]
  },
  {
   "cell_type": "markdown",
   "metadata": {},
   "source": [
    "#### Обучение и подбор гиперпараметров"
   ]
  },
  {
   "cell_type": "code",
   "execution_count": 14,
   "metadata": {
    "execution": {
     "iopub.execute_input": "2021-08-18T19:19:08.771094Z",
     "iopub.status.busy": "2021-08-18T19:19:08.770516Z",
     "iopub.status.idle": "2021-08-18T19:19:08.774431Z",
     "shell.execute_reply": "2021-08-18T19:19:08.773788Z",
     "shell.execute_reply.started": "2021-08-18T19:19:08.771061Z"
    }
   },
   "outputs": [],
   "source": [
    "model = SGDClassifier(loss='log', random_state=2179, n_jobs=-1)\n",
    "time_split = TimeSeriesSplit(n_splits=10)"
   ]
  },
  {
   "cell_type": "code",
   "execution_count": 26,
   "metadata": {
    "execution": {
     "iopub.execute_input": "2021-08-18T19:19:09.189266Z",
     "iopub.status.busy": "2021-08-18T19:19:09.188805Z",
     "iopub.status.idle": "2021-08-18T19:19:09.191980Z",
     "shell.execute_reply": "2021-08-18T19:19:09.191273Z",
     "shell.execute_reply.started": "2021-08-18T19:19:09.189235Z"
    }
   },
   "outputs": [],
   "source": [
    "# grid = {\n",
    "#     'penalty': ['l2'],\n",
    "#     'alpha': np.linspace(3e-05, 5e-05, 11)\n",
    "# }"
   ]
  },
  {
   "cell_type": "code",
   "execution_count": 23,
   "metadata": {
    "execution": {
     "iopub.execute_input": "2021-08-18T15:24:03.082149Z",
     "iopub.status.busy": "2021-08-18T15:24:03.081792Z",
     "iopub.status.idle": "2021-08-18T15:24:03.086373Z",
     "shell.execute_reply": "2021-08-18T15:24:03.085371Z",
     "shell.execute_reply.started": "2021-08-18T15:24:03.082114Z"
    }
   },
   "outputs": [],
   "source": [
    "# %%time\n",
    "\n",
    "# search = GridSearchCV(model, param_grid=grid, cv=time_split, scoring='roc_auc')\n",
    "# search.fit(X_train, y_train)"
   ]
  },
  {
   "cell_type": "code",
   "execution_count": 24,
   "metadata": {
    "execution": {
     "iopub.execute_input": "2021-08-18T15:24:03.930194Z",
     "iopub.status.busy": "2021-08-18T15:24:03.929788Z",
     "iopub.status.idle": "2021-08-18T15:24:03.934678Z",
     "shell.execute_reply": "2021-08-18T15:24:03.933949Z",
     "shell.execute_reply.started": "2021-08-18T15:24:03.930163Z"
    }
   },
   "outputs": [],
   "source": [
    "# search.best_params_, search.best_score_"
   ]
  },
  {
   "cell_type": "markdown",
   "metadata": {},
   "source": [
    "##############################################################"
   ]
  },
  {
   "cell_type": "code",
   "execution_count": 151,
   "metadata": {
    "execution": {
     "iopub.execute_input": "2021-08-18T19:41:54.706960Z",
     "iopub.status.busy": "2021-08-18T19:41:54.706633Z",
     "iopub.status.idle": "2021-08-18T19:41:56.570170Z",
     "shell.execute_reply": "2021-08-18T19:41:56.569449Z",
     "shell.execute_reply.started": "2021-08-18T19:41:54.706931Z"
    }
   },
   "outputs": [
    {
     "name": "stdout",
     "output_type": "stream",
     "text": [
      "0.9375198540384677 0.041003476468434066\n",
      "CPU times: user 200 ms, sys: 21.5 ms, total: 222 ms\n",
      "Wall time: 1.75 s\n"
     ]
    },
    {
     "data": {
      "text/plain": [
       "array([0.91874337, 0.8475158 , 0.96815224, 0.95411836, 0.95288807,\n",
       "       0.96981258, 0.87517856, 0.96021252, 0.96027649, 0.96830056])"
      ]
     },
     "execution_count": 151,
     "metadata": {},
     "output_type": "execute_result"
    }
   ],
   "source": [
    "%%time\n",
    "\n",
    "cv_scores = cross_val_score(model, X_train, y_train, cv=time_split, scoring='roc_auc', n_jobs=-1)\n",
    "print(cv_scores.mean(), cv_scores.std())\n",
    "cv_scores"
   ]
  },
  {
   "cell_type": "markdown",
   "metadata": {},
   "source": [
    "##############################################################"
   ]
  },
  {
   "cell_type": "markdown",
   "metadata": {},
   "source": [
    "Опции:\n",
    "\n",
    "- CountVectorizer ngram_range max_features\n",
    "    - (1, 1)\n",
    "        - max-k: 0.8530563468012738, 0.08925871896536618\n",
    "        - 20000: 0.8531100483866421, 0.08919480787349321\n",
    "        - 10000: 0.8539501616208991, 0.08875887000416063\n",
    "        - 5000: 0.8529069996789713, 0.08888832394047236\n",
    "    - (1, 2)\n",
    "        - max-k: 0.8577666221636842, 0.09371826647019514\n",
    "        - 50000: 0.858414628277273, 0.09308624515067462\n",
    "        - 20000: 0.8600043484189314, 0.0901820258132247\n",
    "        - 10000: 0.8565645409290898, 0.09086786443064755\n",
    "    - (1, 3)\n",
    "        - max-k: 0.8560039171386127, 0.09631952839070929\n",
    "        - 50000: 0.859467798898789, 0.09245656399159023\n",
    "        - 20000: 0.8598701871410264 0.09139402713364686\n",
    "        - 10000: 0.8560423530991228 0.09031323488865993\n",
    "    - (1, 4)\n",
    "        - max-k: 0.8533973079027204 0.10052454183974614\n",
    "        - 20000: 0.8455330939583249 0.08401555400318593\n",
    "    - (1, 9)\n",
    "        - 70000: .8604293420872524 0.09704219048563271\n",
    "    - (1, 10)\n",
    "        - 20000: 0.8419623744960409 0.0864989715893941\n",
    "        - 50000: 0.859496836616332 0.09749267442904218\n",
    "        - 70000: 0.8604687084516304 0.0970295359566777\n",
    "        - 100000: 0.8596446298744558 0.09781978585361331\n",
    "- TfidfVectorizer ngram_range max_features\n",
    "    - (1, 1)\n",
    "        - max-k: 0.8391530980059445, 0.08120401396593267\n",
    "        - 20000: 0.8399308212634944 0.08111430205756767\n",
    "    - (1, 2)\n",
    "        - max-k: 0.8294502665752119, 0.08421253009084147\n",
    "        - 20000: 0.8398228277779543 0.07824510376730294\n",
    "    - (1, 3)\n",
    "        - max-k: 0.8230380243367905, 0.08660127058036823\n",
    "    - (1, 10):\n",
    "        - 70000: 0.8359176499242273 0.08504483506085675\n",
    "        \n",
    "Выбираем CountVectorizer(ngram_range=(1, 2), max_features=20000)"
   ]
  },
  {
   "cell_type": "markdown",
   "metadata": {},
   "source": [
    "0.9315069358401142,\n",
    " 0.044345068769381366 0 2 6"
   ]
  },
  {
   "cell_type": "markdown",
   "metadata": {},
   "source": [
    "### Тест"
   ]
  },
  {
   "cell_type": "code",
   "execution_count": 59,
   "metadata": {
    "execution": {
     "iopub.execute_input": "2021-08-18T19:42:05.899391Z",
     "iopub.status.busy": "2021-08-18T19:42:05.898932Z",
     "iopub.status.idle": "2021-08-18T19:42:05.905170Z",
     "shell.execute_reply": "2021-08-18T19:42:05.904290Z",
     "shell.execute_reply.started": "2021-08-18T19:42:05.899346Z"
    }
   },
   "outputs": [],
   "source": [
    "# import eli5\n",
    "# import calendar\n",
    "\n",
    "def write_to_submission_file(predicted_labels, out_file,\n",
    "                             target='target', index_label=\"session_id\"):\n",
    "    # turn predictions into data frame and save as csv file\n",
    "    predicted_df = pd.DataFrame(predicted_labels,\n",
    "                               \n",
    "                                index = np.arange(1, predicted_labels.shape[0] + 1),\n",
    "                                columns=[target])\n",
    "    predicted_df.to_csv(out_file, index_label=index_label)"
   ]
  },
  {
   "cell_type": "code",
   "execution_count": 152,
   "metadata": {
    "execution": {
     "iopub.execute_input": "2021-08-18T19:45:15.424120Z",
     "iopub.status.busy": "2021-08-18T19:45:15.423574Z",
     "iopub.status.idle": "2021-08-18T19:45:19.579266Z",
     "shell.execute_reply": "2021-08-18T19:45:19.578263Z",
     "shell.execute_reply.started": "2021-08-18T19:45:15.424085Z"
    },
    "scrolled": true
   },
   "outputs": [
    {
     "name": "stdout",
     "output_type": "stream",
     "text": [
      "CPU times: user 3.67 s, sys: 98.8 ms, total: 3.77 s\n",
      "Wall time: 3.75 s\n"
     ]
    },
    {
     "data": {
      "text/plain": [
       "<82797x20009 sparse matrix of type '<class 'numpy.float64'>'\n",
       "\twith 1498798 stored elements in COOrdinate format>"
      ]
     },
     "execution_count": 152,
     "metadata": {},
     "output_type": "execute_result"
    }
   ],
   "source": [
    "%%time\n",
    "\n",
    "sites_test_vectorized = vectorizer_pipeline.transform(df_test)\n",
    "times_test = time_features_pipeline.transform(df_test)\n",
    "times_test = pd.DataFrame(times_test, columns=all_features)\n",
    "X_test = hstack([sites_test_vectorized, times_test[selected_features]])\n",
    "X_test"
   ]
  },
  {
   "cell_type": "code",
   "execution_count": 153,
   "metadata": {
    "execution": {
     "iopub.execute_input": "2021-08-18T19:45:31.015321Z",
     "iopub.status.busy": "2021-08-18T19:45:31.014843Z",
     "iopub.status.idle": "2021-08-18T19:45:31.831883Z",
     "shell.execute_reply": "2021-08-18T19:45:31.830813Z",
     "shell.execute_reply.started": "2021-08-18T19:45:31.015277Z"
    },
    "id": "BO52aSbSevpd",
    "outputId": "14c50521-ed54-4ba0-9f1e-b7e3956970c6"
   },
   "outputs": [],
   "source": [
    "# search.best_estimator_.fit(X_train, y_train)\n",
    "# logit_test_pred_proba = search.best_estimator_.predict_proba(X_test)\n",
    "model.fit(X_train, y_train)\n",
    "logit_test_pred_proba = model.predict_proba(X_test)"
   ]
  },
  {
   "cell_type": "code",
   "execution_count": null,
   "metadata": {},
   "outputs": [],
   "source": [
    "# pd.DataFrame({'feature': feature_names, 'coef': search.best_estimator_.coef_.flatten()[-len(feature_names):]})"
   ]
  },
  {
   "cell_type": "code",
   "execution_count": null,
   "metadata": {},
   "outputs": [],
   "source": [
    "# eli5.show_weights(estimator=search.best_estimator_, feature_names=vectorizer_pipeline['vectorizer'].get_feature_names() \\\n",
    "#                   + feature_names, top=30)"
   ]
  },
  {
   "cell_type": "code",
   "execution_count": 154,
   "metadata": {
    "execution": {
     "iopub.execute_input": "2021-08-18T19:45:58.648345Z",
     "iopub.status.busy": "2021-08-18T19:45:58.647860Z",
     "iopub.status.idle": "2021-08-18T19:45:58.887989Z",
     "shell.execute_reply": "2021-08-18T19:45:58.886958Z",
     "shell.execute_reply.started": "2021-08-18T19:45:58.648294Z"
    },
    "id": "OdBll-mpevpf"
   },
   "outputs": [],
   "source": [
    "write_to_submission_file(logit_test_pred_proba[:, 1], 'result.csv')"
   ]
  },
  {
   "cell_type": "code",
   "execution_count": null,
   "metadata": {},
   "outputs": [],
   "source": []
  }
 ],
 "metadata": {
  "kernelspec": {
   "display_name": "Python 3",
   "language": "python",
   "name": "python3"
  },
  "language_info": {
   "codemirror_mode": {
    "name": "ipython",
    "version": 3
   },
   "file_extension": ".py",
   "mimetype": "text/x-python",
   "name": "python",
   "nbconvert_exporter": "python",
   "pygments_lexer": "ipython3",
   "version": "3.8.8"
  }
 },
 "nbformat": 4,
 "nbformat_minor": 4
}
