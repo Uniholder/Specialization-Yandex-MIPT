{
 "cells": [
  {
   "cell_type": "markdown",
   "metadata": {
    "_cell_guid": "7298e8ab-91e3-4b58-9a23-3bb33fed90a9",
    "_uuid": "b39403baa38d7d0c49664edba7efd58f0834081e"
   },
   "source": [
    "# To discover something new is to explore where it has never been explored.........\n",
    "\n",
    "- If the kernel helped you, do share your feedback!\n",
    "\n",
    "Thanks"
   ]
  },
  {
   "cell_type": "code",
   "execution_count": 1,
   "metadata": {
    "ExecuteTime": {
     "end_time": "2018-03-30T18:48:46.015371Z",
     "start_time": "2018-03-30T18:48:44.530018Z"
    },
    "_cell_guid": "e79e475d-03ae-4285-b26c-cd696e266c56",
    "_uuid": "e96749c041a3e32f4b29252429724a7a3492b539",
    "colab": {
     "autoexec": {
      "startup": false,
      "wait_interval": 0
     },
     "base_uri": "https://localhost:8080/",
     "height": 238,
     "output_extras": [
      {
       "item_id": 3
      }
     ]
    },
    "colab_type": "code",
    "executionInfo": {
     "elapsed": 8915,
     "status": "ok",
     "timestamp": 1522170681265,
     "user": {
      "displayName": "Aditya Soni",
      "photoUrl": "//lh4.googleusercontent.com/-SQOSt8X1y6I/AAAAAAAAAAI/AAAAAAAAANU/uiVV5jrPv7I/s50-c-k-no/photo.jpg",
      "userId": "105432095373954701043"
     },
     "user_tz": -330
    },
    "id": "v3VdOI5VBSJl",
    "outputId": "4569f356-0182-44b2-9c18-d1f267dc51a1"
   },
   "outputs": [],
   "source": [
    "from __future__ import division, print_function\n",
    "## to ignore warnings as we don't like them as such\n",
    "import warnings\n",
    "warnings.filterwarnings('ignore')\n",
    "#plotting lib's\n",
    "from matplotlib import pyplot as plt\n",
    "%matplotlib inline\n",
    "import seaborn as sns\n",
    "sns.set()\n",
    "#other's\n",
    "import xgboost as xgb\n",
    "from sklearn.model_selection import train_test_split, cross_val_predict, TimeSeriesSplit\n",
    "from sklearn.model_selection import validation_curve, learning_curve\n",
    "from sklearn.metrics import confusion_matrix\n",
    "import pickle\n",
    "import numpy as np\n",
    "import pandas as pd\n",
    "from scipy.sparse import csr_matrix\n",
    "from scipy.sparse import hstack\n",
    "from sklearn.preprocessing import StandardScaler\n",
    "from sklearn.metrics import roc_auc_score\n",
    "from sklearn.feature_extraction.text import TfidfVectorizer, TfidfTransformer\n",
    "from sklearn.linear_model import LogisticRegressionCV, LogisticRegression\n",
    "from sklearn.model_selection import cross_val_score, StratifiedKFold, GridSearchCV, train_test_split, TimeSeriesSplit\n",
    "from sklearn.metrics import accuracy_score , roc_curve, auc\n",
    "from sklearn.ensemble import RandomForestRegressor, RandomForestClassifier"
   ]
  },
  {
   "cell_type": "code",
   "execution_count": 2,
   "metadata": {
    "ExecuteTime": {
     "end_time": "2018-03-30T18:49:35.086762Z",
     "start_time": "2018-03-30T18:48:46.019368Z"
    },
    "_cell_guid": "028a9c0a-9b69-4f64-afe3-78af9adf3b04",
    "_uuid": "271316382c96e9bb02ad98f0a9ac27e7482a0dcc",
    "colab": {
     "autoexec": {
      "startup": false,
      "wait_interval": 0
     },
     "base_uri": "https://localhost:8080/",
     "height": 454,
     "output_extras": [
      {
       "item_id": 1
      }
     ]
    },
    "colab_type": "code",
    "executionInfo": {
     "elapsed": 7528,
     "status": "ok",
     "timestamp": 1522170699006,
     "user": {
      "displayName": "Aditya Soni",
      "photoUrl": "//lh4.googleusercontent.com/-SQOSt8X1y6I/AAAAAAAAAAI/AAAAAAAAANU/uiVV5jrPv7I/s50-c-k-no/photo.jpg",
      "userId": "105432095373954701043"
     },
     "user_tz": -330
    },
    "id": "kKX4n4l7BSJr",
    "outputId": "cf2a7d60-fbc7-460e-9081-20618b04685d"
   },
   "outputs": [],
   "source": [
    "# Read the training and test data sets\n",
    "train_df = pd.read_csv('../capstone_user_identification/train_sessions.csv',\n",
    "                       index_col='session_id', parse_dates=['time1'])\n",
    "test_df = pd.read_csv('../capstone_user_identification/test_sessions.csv',\n",
    "                      index_col='session_id', parse_dates=['time1'])\n",
    "\n",
    "times = ['time%s' % i for i in range(1, 11)]\n",
    "sites = ['site%s' % i for i in range(1, 11)]"
   ]
  },
  {
   "cell_type": "code",
   "execution_count": 3,
   "metadata": {
    "_cell_guid": "81f7253a-4156-44d4-b705-5c7a715f1d6d",
    "_uuid": "4b4e9b8ee280d00fc02b79a4fd72cc3c469da974"
   },
   "outputs": [
    {
     "data": {
      "text/plain": [
       "((253561, 21), (82797, 20))"
      ]
     },
     "execution_count": 3,
     "metadata": {},
     "output_type": "execute_result"
    }
   ],
   "source": [
    "train_df.shape, test_df.shape"
   ]
  },
  {
   "cell_type": "code",
   "execution_count": 4,
   "metadata": {
    "_cell_guid": "a943a371-1d8c-4447-82fd-23111e1cc434",
    "_uuid": "75256cb66965ad625663f245e2da4016cecf58bf"
   },
   "outputs": [
    {
     "ename": "AttributeError",
     "evalue": "'DataFrame' object has no attribute 'get_ftype_counts'",
     "output_type": "error",
     "traceback": [
      "\u001b[0;31m---------------------------------------------------------------------------\u001b[0m",
      "\u001b[0;31mAttributeError\u001b[0m                            Traceback (most recent call last)",
      "\u001b[0;32m<ipython-input-4-d9994f08d6bf>\u001b[0m in \u001b[0;36m<module>\u001b[0;34m\u001b[0m\n\u001b[0;32m----> 1\u001b[0;31m \u001b[0mtrain_df\u001b[0m\u001b[0;34m.\u001b[0m\u001b[0mget_ftype_counts\u001b[0m\u001b[0;34m(\u001b[0m\u001b[0;34m)\u001b[0m\u001b[0;34m\u001b[0m\u001b[0;34m\u001b[0m\u001b[0m\n\u001b[0m",
      "\u001b[0;32m~/anaconda3/lib/python3.8/site-packages/pandas/core/generic.py\u001b[0m in \u001b[0;36m__getattr__\u001b[0;34m(self, name)\u001b[0m\n\u001b[1;32m   5463\u001b[0m             \u001b[0;32mif\u001b[0m \u001b[0mself\u001b[0m\u001b[0;34m.\u001b[0m\u001b[0m_info_axis\u001b[0m\u001b[0;34m.\u001b[0m\u001b[0m_can_hold_identifiers_and_holds_name\u001b[0m\u001b[0;34m(\u001b[0m\u001b[0mname\u001b[0m\u001b[0;34m)\u001b[0m\u001b[0;34m:\u001b[0m\u001b[0;34m\u001b[0m\u001b[0;34m\u001b[0m\u001b[0m\n\u001b[1;32m   5464\u001b[0m                 \u001b[0;32mreturn\u001b[0m \u001b[0mself\u001b[0m\u001b[0;34m[\u001b[0m\u001b[0mname\u001b[0m\u001b[0;34m]\u001b[0m\u001b[0;34m\u001b[0m\u001b[0;34m\u001b[0m\u001b[0m\n\u001b[0;32m-> 5465\u001b[0;31m             \u001b[0;32mreturn\u001b[0m \u001b[0mobject\u001b[0m\u001b[0;34m.\u001b[0m\u001b[0m__getattribute__\u001b[0m\u001b[0;34m(\u001b[0m\u001b[0mself\u001b[0m\u001b[0;34m,\u001b[0m \u001b[0mname\u001b[0m\u001b[0;34m)\u001b[0m\u001b[0;34m\u001b[0m\u001b[0;34m\u001b[0m\u001b[0m\n\u001b[0m\u001b[1;32m   5466\u001b[0m \u001b[0;34m\u001b[0m\u001b[0m\n\u001b[1;32m   5467\u001b[0m     \u001b[0;32mdef\u001b[0m \u001b[0m__setattr__\u001b[0m\u001b[0;34m(\u001b[0m\u001b[0mself\u001b[0m\u001b[0;34m,\u001b[0m \u001b[0mname\u001b[0m\u001b[0;34m:\u001b[0m \u001b[0mstr\u001b[0m\u001b[0;34m,\u001b[0m \u001b[0mvalue\u001b[0m\u001b[0;34m)\u001b[0m \u001b[0;34m->\u001b[0m \u001b[0;32mNone\u001b[0m\u001b[0;34m:\u001b[0m\u001b[0;34m\u001b[0m\u001b[0;34m\u001b[0m\u001b[0m\n",
      "\u001b[0;31mAttributeError\u001b[0m: 'DataFrame' object has no attribute 'get_ftype_counts'"
     ]
    }
   ],
   "source": [
    "train_df.get_ftype_counts()"
   ]
  },
  {
   "cell_type": "code",
   "execution_count": 5,
   "metadata": {
    "_cell_guid": "485edd2d-02c3-4026-8e21-1352afdd0357",
    "_uuid": "a8dbc5347311599ebcbb36d97b03cd5686731a3d"
   },
   "outputs": [
    {
     "ename": "AttributeError",
     "evalue": "'DataFrame' object has no attribute 'get_ftype_counts'",
     "output_type": "error",
     "traceback": [
      "\u001b[0;31m---------------------------------------------------------------------------\u001b[0m",
      "\u001b[0;31mAttributeError\u001b[0m                            Traceback (most recent call last)",
      "\u001b[0;32m<ipython-input-5-4c863c77af9c>\u001b[0m in \u001b[0;36m<module>\u001b[0;34m\u001b[0m\n\u001b[0;32m----> 1\u001b[0;31m \u001b[0mtest_df\u001b[0m\u001b[0;34m.\u001b[0m\u001b[0mget_ftype_counts\u001b[0m\u001b[0;34m(\u001b[0m\u001b[0;34m)\u001b[0m\u001b[0;34m\u001b[0m\u001b[0;34m\u001b[0m\u001b[0m\n\u001b[0m",
      "\u001b[0;32m~/anaconda3/lib/python3.8/site-packages/pandas/core/generic.py\u001b[0m in \u001b[0;36m__getattr__\u001b[0;34m(self, name)\u001b[0m\n\u001b[1;32m   5463\u001b[0m             \u001b[0;32mif\u001b[0m \u001b[0mself\u001b[0m\u001b[0;34m.\u001b[0m\u001b[0m_info_axis\u001b[0m\u001b[0;34m.\u001b[0m\u001b[0m_can_hold_identifiers_and_holds_name\u001b[0m\u001b[0;34m(\u001b[0m\u001b[0mname\u001b[0m\u001b[0;34m)\u001b[0m\u001b[0;34m:\u001b[0m\u001b[0;34m\u001b[0m\u001b[0;34m\u001b[0m\u001b[0m\n\u001b[1;32m   5464\u001b[0m                 \u001b[0;32mreturn\u001b[0m \u001b[0mself\u001b[0m\u001b[0;34m[\u001b[0m\u001b[0mname\u001b[0m\u001b[0;34m]\u001b[0m\u001b[0;34m\u001b[0m\u001b[0;34m\u001b[0m\u001b[0m\n\u001b[0;32m-> 5465\u001b[0;31m             \u001b[0;32mreturn\u001b[0m \u001b[0mobject\u001b[0m\u001b[0;34m.\u001b[0m\u001b[0m__getattribute__\u001b[0m\u001b[0;34m(\u001b[0m\u001b[0mself\u001b[0m\u001b[0;34m,\u001b[0m \u001b[0mname\u001b[0m\u001b[0;34m)\u001b[0m\u001b[0;34m\u001b[0m\u001b[0;34m\u001b[0m\u001b[0m\n\u001b[0m\u001b[1;32m   5466\u001b[0m \u001b[0;34m\u001b[0m\u001b[0m\n\u001b[1;32m   5467\u001b[0m     \u001b[0;32mdef\u001b[0m \u001b[0m__setattr__\u001b[0m\u001b[0;34m(\u001b[0m\u001b[0mself\u001b[0m\u001b[0;34m,\u001b[0m \u001b[0mname\u001b[0m\u001b[0;34m:\u001b[0m \u001b[0mstr\u001b[0m\u001b[0;34m,\u001b[0m \u001b[0mvalue\u001b[0m\u001b[0;34m)\u001b[0m \u001b[0;34m->\u001b[0m \u001b[0;32mNone\u001b[0m\u001b[0;34m:\u001b[0m\u001b[0;34m\u001b[0m\u001b[0;34m\u001b[0m\u001b[0m\n",
      "\u001b[0;31mAttributeError\u001b[0m: 'DataFrame' object has no attribute 'get_ftype_counts'"
     ]
    }
   ],
   "source": [
    "test_df.get_ftype_counts()"
   ]
  },
  {
   "cell_type": "code",
   "execution_count": 6,
   "metadata": {
    "_cell_guid": "34378f2d-e999-4b52-a68b-c15f5025bca9",
    "_uuid": "a672e0b97ab22ddaa15e1d07bd9b6acfd55548cc"
   },
   "outputs": [
    {
     "data": {
      "text/plain": [
       "<AxesSubplot:xlabel='target', ylabel='count'>"
      ]
     },
     "execution_count": 6,
     "metadata": {},
     "output_type": "execute_result"
    },
    {
     "data": {
      "image/png": "[encoded data removed]",
      "text/plain": [
       "<Figure size 432x288 with 1 Axes>"
      ]
     },
     "metadata": {},
     "output_type": "display_data"
    }
   ],
   "source": [
    "sns.countplot(train_df['target']) #Imbalanced Dataset"
   ]
  },
  {
   "cell_type": "code",
   "execution_count": 7,
   "metadata": {
    "ExecuteTime": {
     "end_time": "2018-03-30T18:49:37.704011Z",
     "start_time": "2018-03-30T18:49:35.086762Z"
    },
    "_cell_guid": "78c87b08-4209-484c-a69c-a3cbe31801ac",
    "_uuid": "37dec068db7ed2edcf5ba43a6a3aaa16b17ebadd"
   },
   "outputs": [],
   "source": [
    "train_df[times] = train_df[times].apply(pd.to_datetime)\n",
    "test_df[times] = test_df[times].apply(pd.to_datetime)\n",
    "\n",
    "# Sort the data by time\n",
    "train_df = train_df.sort_values(by='time1')\n",
    "\n",
    "train_df[sites] = train_df[sites].fillna(0).astype('int')\n",
    "test_df[sites] = test_df[sites].fillna(0).astype('int')"
   ]
  },
  {
   "cell_type": "code",
   "execution_count": 8,
   "metadata": {
    "ExecuteTime": {
     "end_time": "2018-03-30T18:49:38.05719Z",
     "start_time": "2018-03-30T18:49:37.815618Z"
    },
    "_cell_guid": "8d2c5fb2-6382-4f71-88d6-bb50d0a3d689",
    "_uuid": "292f32b839cdae75b736634998451af150cd09e0",
    "colab": {
     "autoexec": {
      "startup": false,
      "wait_interval": 0
     },
     "base_uri": "https://localhost:8080/",
     "height": 221,
     "output_extras": [
      {
       "item_id": 1
      },
      {
       "item_id": 2
      }
     ]
    },
    "colab_type": "code",
    "executionInfo": {
     "elapsed": 1473,
     "status": "ok",
     "timestamp": 1522170700578,
     "user": {
      "displayName": "Aditya Soni",
      "photoUrl": "//lh4.googleusercontent.com/-SQOSt8X1y6I/AAAAAAAAAAI/AAAAAAAAANU/uiVV5jrPv7I/s50-c-k-no/photo.jpg",
      "userId": "105432095373954701043"
     },
     "user_tz": -330
    },
    "id": "BxxfgsaEBSJy",
    "outputId": "9c6eb22e-c957-4af6-f47d-e53c92ea9579"
   },
   "outputs": [
    {
     "name": "stdout",
     "output_type": "stream",
     "text": [
      "Websites total: 48371\n"
     ]
    }
   ],
   "source": [
    "# Change site1, ..., site10 columns type to integer and fill NA-values with zeros\n",
    "\n",
    "train_df[sites] = train_df[sites].fillna(0).astype('int')\n",
    "test_df[sites] = test_df[sites].fillna(0).astype('int')\n",
    "\n",
    "# Load websites dictionary\n",
    "with open(r\"../capstone_user_identification/site_dic.pkl\", \"rb\") as input_file:\n",
    "    site_dict = pickle.load(input_file)\n",
    "\n",
    "# Create dataframe for the dictionary\n",
    "sites_dict = pd.DataFrame(list(site_dict.keys()), index=list(site_dict.values()), columns=['site'])\n",
    "print(u'Websites total:', sites_dict.shape[0])"
   ]
  },
  {
   "cell_type": "code",
   "execution_count": 9,
   "metadata": {
    "ExecuteTime": {
     "end_time": "2018-03-30T18:49:38.197226Z",
     "start_time": "2018-03-30T18:49:38.061195Z"
    },
    "_cell_guid": "de20a7d8-95f6-4575-ba2b-cb21d480f2e1",
    "_uuid": "11c079d363a69119cc41fbfabbd2fb39213d7bf4",
    "colab": {
     "autoexec": {
      "startup": false,
      "wait_interval": 0
     },
     "base_uri": "https://localhost:8080/",
     "height": 306,
     "output_extras": [
      {
       "item_id": 1
      },
      {
       "item_id": 2
      }
     ]
    },
    "colab_type": "code",
    "executionInfo": {
     "elapsed": 1093,
     "status": "ok",
     "timestamp": 1522170701919,
     "user": {
      "displayName": "Aditya Soni",
      "photoUrl": "//lh4.googleusercontent.com/-SQOSt8X1y6I/AAAAAAAAAAI/AAAAAAAAANU/uiVV5jrPv7I/s50-c-k-no/photo.jpg",
      "userId": "105432095373954701043"
     },
     "user_tz": -330
    },
    "id": "0AnM5udlBSJ6",
    "outputId": "5640029b-acad-4500-9570-a312b07b4228"
   },
   "outputs": [
    {
     "data": {
      "text/plain": [
       "21     123776\n",
       "0      122730\n",
       "23      87619\n",
       "782     77055\n",
       "22      58258\n",
       "dtype: int64"
      ]
     },
     "execution_count": 9,
     "metadata": {},
     "output_type": "execute_result"
    }
   ],
   "source": [
    "# Top websites in the training data set\n",
    "top_sites = pd.Series(train_df[sites].fillna(0).values.flatten()\n",
    "                     ).value_counts().sort_values(ascending=False).head(5)\n",
    "top_sites"
   ]
  },
  {
   "cell_type": "code",
   "execution_count": 10,
   "metadata": {
    "ExecuteTime": {
     "end_time": "2018-03-30T18:49:38.213191Z",
     "start_time": "2018-03-30T18:49:38.197226Z"
    },
    "_cell_guid": "518a2264-b01f-4e84-ae6e-6eb9de63aec1",
    "_uuid": "af43b1276ea0ab32b4204aa6a448ae55f3568a42",
    "colab": {
     "autoexec": {
      "startup": false,
      "wait_interval": 0
     },
     "base_uri": "https://localhost:8080/",
     "height": 306,
     "output_extras": [
      {
       "item_id": 1
      },
      {
       "item_id": 2
      }
     ]
    },
    "colab_type": "code",
    "executionInfo": {
     "elapsed": 798,
     "status": "ok",
     "timestamp": 1522170702925,
     "user": {
      "displayName": "Aditya Soni",
      "photoUrl": "//lh4.googleusercontent.com/-SQOSt8X1y6I/AAAAAAAAAAI/AAAAAAAAANU/uiVV5jrPv7I/s50-c-k-no/photo.jpg",
      "userId": "105432095373954701043"
     },
     "user_tz": -330
    },
    "id": "U6z3eawbBSJ_",
    "outputId": "b71f3921-c4d4-4004-ab90-8b0c9db5a094"
   },
   "outputs": [
    {
     "data": {
      "text/plain": [
       "77    1382\n",
       "80    1354\n",
       "76    1307\n",
       "29     897\n",
       "21     857\n",
       "dtype: int64"
      ]
     },
     "execution_count": 10,
     "metadata": {},
     "output_type": "execute_result"
    }
   ],
   "source": [
    "# Alice's preferences\n",
    "top_sites_alice = pd.Series(train_df[train_df.target==1][sites].fillna(0).values.flatten()\n",
    "                           ).value_counts().sort_values(ascending=False).head()\n",
    "top_sites_alice"
   ]
  },
  {
   "cell_type": "code",
   "execution_count": 11,
   "metadata": {
    "ExecuteTime": {
     "end_time": "2018-03-30T18:49:38.509657Z",
     "start_time": "2018-03-30T18:49:38.213191Z"
    },
    "_cell_guid": "de3385a8-7cfe-43ab-9bc4-f6eb7b8e0ffb",
    "_uuid": "7a2c65ecd0ced34710162a60252fac0e0b2f54ec",
    "colab": {
     "autoexec": {
      "startup": false,
      "wait_interval": 0
     },
     "base_uri": "https://localhost:8080/",
     "height": 235,
     "output_extras": [
      {
       "item_id": 1
      }
     ]
    },
    "colab_type": "code",
    "executionInfo": {
     "elapsed": 816,
     "status": "ok",
     "timestamp": 1522170704163,
     "user": {
      "displayName": "Aditya Soni",
      "photoUrl": "//lh4.googleusercontent.com/-SQOSt8X1y6I/AAAAAAAAAAI/AAAAAAAAANU/uiVV5jrPv7I/s50-c-k-no/photo.jpg",
      "userId": "105432095373954701043"
     },
     "user_tz": -330
    },
    "id": "ZQcLHbV3BSKD",
    "outputId": "5bd83ff8-2cd8-40f7-b3db-3537884eea5e"
   },
   "outputs": [],
   "source": [
    "time_df = pd.DataFrame(index=train_df.index)\n",
    "time_df['target'] = train_df['target']\n",
    "\n",
    "# Find sessions' starting and ending\n",
    "time_df['min'] = train_df[times].min(axis=1)\n",
    "time_df['max'] = train_df[times].max(axis=1)\n",
    "\n",
    "# Calculate sessions' duration in seconds\n",
    "time_df['seconds'] = (time_df['max'] - time_df['min']) / np.timedelta64(1, 's')"
   ]
  },
  {
   "cell_type": "code",
   "execution_count": 12,
   "metadata": {
    "ExecuteTime": {
     "end_time": "2018-03-30T18:49:38.569189Z",
     "start_time": "2018-03-30T18:49:38.509657Z"
    },
    "_cell_guid": "81e86842-f15d-41a9-80ae-c651fc2196c5",
    "_uuid": "0741ffb216937585fe32c610272fb2f65eb8ae40",
    "colab": {
     "autoexec": {
      "startup": false,
      "wait_interval": 0
     },
     "base_uri": "https://localhost:8080/",
     "height": 142,
     "output_extras": [
      {
       "item_id": 1
      }
     ]
    },
    "colab_type": "code",
    "executionInfo": {
     "elapsed": 1994,
     "status": "ok",
     "timestamp": 1522171742242,
     "user": {
      "displayName": "Aditya Soni",
      "photoUrl": "//lh4.googleusercontent.com/-SQOSt8X1y6I/AAAAAAAAAAI/AAAAAAAAANU/uiVV5jrPv7I/s50-c-k-no/photo.jpg",
      "userId": "105432095373954701043"
     },
     "user_tz": -330
    },
    "id": "GWyHMLqrC3iV",
    "outputId": "f104e18c-9111-4b02-fc54-43637a5ffc60"
   },
   "outputs": [],
   "source": [
    "time_df_test = pd.DataFrame(index=test_df.index)\n",
    "\n",
    "# Find sessions' starting and ending\n",
    "time_df_test['min'] = test_df[times].min(axis=1)\n",
    "time_df_test['max'] = test_df[times].max(axis=1)\n",
    "\n",
    "# Calculate sessions' duration in seconds\n",
    "time_df_test['seconds'] = (time_df_test['max'] - time_df_test['min']) / np.timedelta64(1, 's')"
   ]
  },
  {
   "cell_type": "markdown",
   "metadata": {
    "_cell_guid": "fdb5ac2b-190a-45eb-9028-a12b0ada964f",
    "_uuid": "659b7c66c83575f47d2d53b818e39c126206b57b"
   },
   "source": [
    "- y_train - our target variable \n",
    "\n",
    "- full_df - the merged table of input data (training and test samples together) \n",
    "\n",
    "* idx_split - the index by which we will separate the training sample from the test\n"
   ]
  },
  {
   "cell_type": "code",
   "execution_count": 13,
   "metadata": {
    "ExecuteTime": {
     "end_time": "2018-03-30T18:49:38.821467Z",
     "start_time": "2018-03-30T18:49:38.665188Z"
    },
    "_cell_guid": "2c3d72c8-4479-4e52-bf65-b235edaec31b",
    "_uuid": "19937b0361ad6add8bf4fb8255db534ebafa9f88",
    "colab": {
     "autoexec": {
      "startup": false,
      "wait_interval": 0
     }
    },
    "colab_type": "code",
    "id": "gP5KCo1ZBSKS"
   },
   "outputs": [],
   "source": [
    "# Our target variable\n",
    "y_train = train_df['target']\n",
    "\n",
    "# United dataframe of the initial data \n",
    "full_df = pd.concat([train_df.drop('target', axis=1), test_df])\n",
    "\n",
    "#full_df[:].fillna(method='bfill',inplace=True)\n",
    "\n",
    "# Index to split the training and test data sets\n",
    "idx_split = train_df.shape[0]"
   ]
  },
  {
   "cell_type": "code",
   "execution_count": 14,
   "metadata": {
    "ExecuteTime": {
     "end_time": "2018-03-30T18:49:38.86919Z",
     "start_time": "2018-03-30T18:49:38.821467Z"
    },
    "_cell_guid": "095c1e3d-b237-4d75-9f09-b5166a49c7bc",
    "_uuid": "95a374627c2c8ebbd58d5ffe18f27d472efc33fd"
   },
   "outputs": [
    {
     "data": {
      "text/html": [
       "<div>\n",
       "<style scoped>\n",
       "    .dataframe tbody tr th:only-of-type {\n",
       "        vertical-align: middle;\n",
       "    }\n",
       "\n",
       "    .dataframe tbody tr th {\n",
       "        vertical-align: top;\n",
       "    }\n",
       "\n",
       "    .dataframe thead th {\n",
       "        text-align: right;\n",
       "    }\n",
       "</style>\n",
       "<table border=\"1\" class=\"dataframe\">\n",
       "  <thead>\n",
       "    <tr style=\"text-align: right;\">\n",
       "      <th></th>\n",
       "      <th>site1</th>\n",
       "      <th>time1</th>\n",
       "      <th>site2</th>\n",
       "      <th>time2</th>\n",
       "      <th>site3</th>\n",
       "      <th>time3</th>\n",
       "      <th>site4</th>\n",
       "      <th>time4</th>\n",
       "      <th>site5</th>\n",
       "      <th>time5</th>\n",
       "      <th>site6</th>\n",
       "      <th>time6</th>\n",
       "      <th>site7</th>\n",
       "      <th>time7</th>\n",
       "      <th>site8</th>\n",
       "      <th>time8</th>\n",
       "      <th>site9</th>\n",
       "      <th>time9</th>\n",
       "      <th>site10</th>\n",
       "      <th>time10</th>\n",
       "    </tr>\n",
       "    <tr>\n",
       "      <th>session_id</th>\n",
       "      <th></th>\n",
       "      <th></th>\n",
       "      <th></th>\n",
       "      <th></th>\n",
       "      <th></th>\n",
       "      <th></th>\n",
       "      <th></th>\n",
       "      <th></th>\n",
       "      <th></th>\n",
       "      <th></th>\n",
       "      <th></th>\n",
       "      <th></th>\n",
       "      <th></th>\n",
       "      <th></th>\n",
       "      <th></th>\n",
       "      <th></th>\n",
       "      <th></th>\n",
       "      <th></th>\n",
       "      <th></th>\n",
       "      <th></th>\n",
       "    </tr>\n",
       "  </thead>\n",
       "  <tbody>\n",
       "    <tr>\n",
       "      <th>21669</th>\n",
       "      <td>56</td>\n",
       "      <td>2013-01-12 08:05:57</td>\n",
       "      <td>55</td>\n",
       "      <td>2013-01-12 08:05:57</td>\n",
       "      <td>0</td>\n",
       "      <td>NaT</td>\n",
       "      <td>0</td>\n",
       "      <td>NaT</td>\n",
       "      <td>0</td>\n",
       "      <td>NaT</td>\n",
       "      <td>0</td>\n",
       "      <td>NaT</td>\n",
       "      <td>0</td>\n",
       "      <td>NaT</td>\n",
       "      <td>0</td>\n",
       "      <td>NaT</td>\n",
       "      <td>0</td>\n",
       "      <td>NaT</td>\n",
       "      <td>0</td>\n",
       "      <td>NaT</td>\n",
       "    </tr>\n",
       "    <tr>\n",
       "      <th>54843</th>\n",
       "      <td>56</td>\n",
       "      <td>2013-01-12 08:37:23</td>\n",
       "      <td>55</td>\n",
       "      <td>2013-01-12 08:37:23</td>\n",
       "      <td>56</td>\n",
       "      <td>2013-01-12 09:07:07</td>\n",
       "      <td>55</td>\n",
       "      <td>2013-01-12 09:07:09</td>\n",
       "      <td>0</td>\n",
       "      <td>NaT</td>\n",
       "      <td>0</td>\n",
       "      <td>NaT</td>\n",
       "      <td>0</td>\n",
       "      <td>NaT</td>\n",
       "      <td>0</td>\n",
       "      <td>NaT</td>\n",
       "      <td>0</td>\n",
       "      <td>NaT</td>\n",
       "      <td>0</td>\n",
       "      <td>NaT</td>\n",
       "    </tr>\n",
       "    <tr>\n",
       "      <th>77292</th>\n",
       "      <td>946</td>\n",
       "      <td>2013-01-12 08:50:13</td>\n",
       "      <td>946</td>\n",
       "      <td>2013-01-12 08:50:14</td>\n",
       "      <td>951</td>\n",
       "      <td>2013-01-12 08:50:15</td>\n",
       "      <td>946</td>\n",
       "      <td>2013-01-12 08:50:15</td>\n",
       "      <td>946</td>\n",
       "      <td>2013-01-12 08:50:16</td>\n",
       "      <td>945</td>\n",
       "      <td>2013-01-12 08:50:16</td>\n",
       "      <td>948</td>\n",
       "      <td>2013-01-12 08:50:16</td>\n",
       "      <td>784</td>\n",
       "      <td>2013-01-12 08:50:16</td>\n",
       "      <td>949</td>\n",
       "      <td>2013-01-12 08:50:17</td>\n",
       "      <td>946</td>\n",
       "      <td>2013-01-12 08:50:17</td>\n",
       "    </tr>\n",
       "    <tr>\n",
       "      <th>114021</th>\n",
       "      <td>945</td>\n",
       "      <td>2013-01-12 08:50:17</td>\n",
       "      <td>948</td>\n",
       "      <td>2013-01-12 08:50:17</td>\n",
       "      <td>949</td>\n",
       "      <td>2013-01-12 08:50:18</td>\n",
       "      <td>948</td>\n",
       "      <td>2013-01-12 08:50:18</td>\n",
       "      <td>945</td>\n",
       "      <td>2013-01-12 08:50:18</td>\n",
       "      <td>946</td>\n",
       "      <td>2013-01-12 08:50:18</td>\n",
       "      <td>947</td>\n",
       "      <td>2013-01-12 08:50:19</td>\n",
       "      <td>945</td>\n",
       "      <td>2013-01-12 08:50:19</td>\n",
       "      <td>946</td>\n",
       "      <td>2013-01-12 08:50:19</td>\n",
       "      <td>946</td>\n",
       "      <td>2013-01-12 08:50:20</td>\n",
       "    </tr>\n",
       "    <tr>\n",
       "      <th>146670</th>\n",
       "      <td>947</td>\n",
       "      <td>2013-01-12 08:50:20</td>\n",
       "      <td>950</td>\n",
       "      <td>2013-01-12 08:50:20</td>\n",
       "      <td>948</td>\n",
       "      <td>2013-01-12 08:50:20</td>\n",
       "      <td>947</td>\n",
       "      <td>2013-01-12 08:50:21</td>\n",
       "      <td>950</td>\n",
       "      <td>2013-01-12 08:50:21</td>\n",
       "      <td>952</td>\n",
       "      <td>2013-01-12 08:50:21</td>\n",
       "      <td>946</td>\n",
       "      <td>2013-01-12 08:50:21</td>\n",
       "      <td>951</td>\n",
       "      <td>2013-01-12 08:50:22</td>\n",
       "      <td>946</td>\n",
       "      <td>2013-01-12 08:50:22</td>\n",
       "      <td>947</td>\n",
       "      <td>2013-01-12 08:50:22</td>\n",
       "    </tr>\n",
       "  </tbody>\n",
       "</table>\n",
       "</div>"
      ],
      "text/plain": [
       "            site1               time1  site2               time2  site3  \\\n",
       "session_id                                                                \n",
       "21669          56 2013-01-12 08:05:57     55 2013-01-12 08:05:57      0   \n",
       "54843          56 2013-01-12 08:37:23     55 2013-01-12 08:37:23     56   \n",
       "77292         946 2013-01-12 08:50:13    946 2013-01-12 08:50:14    951   \n",
       "114021        945 2013-01-12 08:50:17    948 2013-01-12 08:50:17    949   \n",
       "146670        947 2013-01-12 08:50:20    950 2013-01-12 08:50:20    948   \n",
       "\n",
       "                         time3  site4               time4  site5  \\\n",
       "session_id                                                         \n",
       "21669                      NaT      0                 NaT      0   \n",
       "54843      2013-01-12 09:07:07     55 2013-01-12 09:07:09      0   \n",
       "77292      2013-01-12 08:50:15    946 2013-01-12 08:50:15    946   \n",
       "114021     2013-01-12 08:50:18    948 2013-01-12 08:50:18    945   \n",
       "146670     2013-01-12 08:50:20    947 2013-01-12 08:50:21    950   \n",
       "\n",
       "                         time5  site6               time6  site7  \\\n",
       "session_id                                                         \n",
       "21669                      NaT      0                 NaT      0   \n",
       "54843                      NaT      0                 NaT      0   \n",
       "77292      2013-01-12 08:50:16    945 2013-01-12 08:50:16    948   \n",
       "114021     2013-01-12 08:50:18    946 2013-01-12 08:50:18    947   \n",
       "146670     2013-01-12 08:50:21    952 2013-01-12 08:50:21    946   \n",
       "\n",
       "                         time7  site8               time8  site9  \\\n",
       "session_id                                                         \n",
       "21669                      NaT      0                 NaT      0   \n",
       "54843                      NaT      0                 NaT      0   \n",
       "77292      2013-01-12 08:50:16    784 2013-01-12 08:50:16    949   \n",
       "114021     2013-01-12 08:50:19    945 2013-01-12 08:50:19    946   \n",
       "146670     2013-01-12 08:50:21    951 2013-01-12 08:50:22    946   \n",
       "\n",
       "                         time9  site10              time10  \n",
       "session_id                                                  \n",
       "21669                      NaT       0                 NaT  \n",
       "54843                      NaT       0                 NaT  \n",
       "77292      2013-01-12 08:50:17     946 2013-01-12 08:50:17  \n",
       "114021     2013-01-12 08:50:19     946 2013-01-12 08:50:20  \n",
       "146670     2013-01-12 08:50:22     947 2013-01-12 08:50:22  "
      ]
     },
     "execution_count": 14,
     "metadata": {},
     "output_type": "execute_result"
    }
   ],
   "source": [
    "full_df.head(5)"
   ]
  },
  {
   "cell_type": "code",
   "execution_count": 15,
   "metadata": {
    "ExecuteTime": {
     "end_time": "2018-03-30T18:49:39.005763Z",
     "start_time": "2018-03-30T18:49:38.86919Z"
    },
    "_cell_guid": "9087a991-7fee-4567-b158-46b7ea849156",
    "_uuid": "e10bdaeda46796dae4a37f91d68e486ed1fea623",
    "colab": {
     "autoexec": {
      "startup": false,
      "wait_interval": 0
     }
    },
    "colab_type": "code",
    "id": "N-9k58HKBSKW"
   },
   "outputs": [
    {
     "data": {
      "text/html": [
       "<div>\n",
       "<style scoped>\n",
       "    .dataframe tbody tr th:only-of-type {\n",
       "        vertical-align: middle;\n",
       "    }\n",
       "\n",
       "    .dataframe tbody tr th {\n",
       "        vertical-align: top;\n",
       "    }\n",
       "\n",
       "    .dataframe thead th {\n",
       "        text-align: right;\n",
       "    }\n",
       "</style>\n",
       "<table border=\"1\" class=\"dataframe\">\n",
       "  <thead>\n",
       "    <tr style=\"text-align: right;\">\n",
       "      <th></th>\n",
       "      <th>site1</th>\n",
       "      <th>site2</th>\n",
       "      <th>site3</th>\n",
       "      <th>site4</th>\n",
       "      <th>site5</th>\n",
       "      <th>site6</th>\n",
       "      <th>site7</th>\n",
       "      <th>site8</th>\n",
       "      <th>site9</th>\n",
       "      <th>site10</th>\n",
       "    </tr>\n",
       "    <tr>\n",
       "      <th>session_id</th>\n",
       "      <th></th>\n",
       "      <th></th>\n",
       "      <th></th>\n",
       "      <th></th>\n",
       "      <th></th>\n",
       "      <th></th>\n",
       "      <th></th>\n",
       "      <th></th>\n",
       "      <th></th>\n",
       "      <th></th>\n",
       "    </tr>\n",
       "  </thead>\n",
       "  <tbody>\n",
       "    <tr>\n",
       "      <th>21669</th>\n",
       "      <td>56</td>\n",
       "      <td>55</td>\n",
       "      <td>0</td>\n",
       "      <td>0</td>\n",
       "      <td>0</td>\n",
       "      <td>0</td>\n",
       "      <td>0</td>\n",
       "      <td>0</td>\n",
       "      <td>0</td>\n",
       "      <td>0</td>\n",
       "    </tr>\n",
       "    <tr>\n",
       "      <th>54843</th>\n",
       "      <td>56</td>\n",
       "      <td>55</td>\n",
       "      <td>56</td>\n",
       "      <td>55</td>\n",
       "      <td>0</td>\n",
       "      <td>0</td>\n",
       "      <td>0</td>\n",
       "      <td>0</td>\n",
       "      <td>0</td>\n",
       "      <td>0</td>\n",
       "    </tr>\n",
       "    <tr>\n",
       "      <th>77292</th>\n",
       "      <td>946</td>\n",
       "      <td>946</td>\n",
       "      <td>951</td>\n",
       "      <td>946</td>\n",
       "      <td>946</td>\n",
       "      <td>945</td>\n",
       "      <td>948</td>\n",
       "      <td>784</td>\n",
       "      <td>949</td>\n",
       "      <td>946</td>\n",
       "    </tr>\n",
       "  </tbody>\n",
       "</table>\n",
       "</div>"
      ],
      "text/plain": [
       "            site1  site2  site3  site4  site5  site6  site7  site8  site9  \\\n",
       "session_id                                                                  \n",
       "21669          56     55      0      0      0      0      0      0      0   \n",
       "54843          56     55     56     55      0      0      0      0      0   \n",
       "77292         946    946    951    946    946    945    948    784    949   \n",
       "\n",
       "            site10  \n",
       "session_id          \n",
       "21669            0  \n",
       "54843            0  \n",
       "77292          946  "
      ]
     },
     "execution_count": 15,
     "metadata": {},
     "output_type": "execute_result"
    }
   ],
   "source": [
    "full_sites = full_df[sites] #only sites\n",
    "full_sites.head(3)"
   ]
  },
  {
   "cell_type": "markdown",
   "metadata": {
    "_cell_guid": "e54d336b-0d63-44ea-8fbc-8bdf56f68424",
    "_uuid": "56a2038c4d07bb47a4c91730c22b9f880c594280"
   },
   "source": [
    "## Creating characteristics\n",
    "\n",
    "- Extracting attributes from the site table \n",
    "\n",
    "- Count the number of unique sites in each session"
   ]
  },
  {
   "cell_type": "code",
   "execution_count": 16,
   "metadata": {
    "ExecuteTime": {
     "end_time": "2018-03-30T18:49:42.689073Z",
     "start_time": "2018-03-30T18:49:39.005763Z"
    },
    "_cell_guid": "1455c8d2-a29b-4d6f-952f-f0d3eba32390",
    "_uuid": "9a21a6db2c390cb24f12a3cdb54529c8a63f498c"
   },
   "outputs": [
    {
     "name": "stdout",
     "output_type": "stream",
     "text": [
      "CPU times: user 4.23 s, sys: 298 µs, total: 4.23 s\n",
      "Wall time: 4.22 s\n"
     ]
    }
   ],
   "source": [
    "%%time\n",
    "#Getting Unique Counts\n",
    "unique_count = []\n",
    "for row in full_sites.values:\n",
    "    unique = np.unique (row)\n",
    "    if 0 in unique:\n",
    "        unique_count.append(len(unique) - 1)\n",
    "    else:\n",
    "        unique_count.append(len(unique))\n",
    "unique_count = np.array(unique_count).reshape(-1,1)"
   ]
  },
  {
   "cell_type": "code",
   "execution_count": 17,
   "metadata": {
    "ExecuteTime": {
     "end_time": "2018-03-30T18:49:42.701073Z",
     "start_time": "2018-03-30T18:49:42.689073Z"
    },
    "_cell_guid": "b9352a85-0e9d-4976-bb25-13bff860d38b",
    "_uuid": "39c364fd6d52ef101c32c45ec57e80ca501c94cb"
   },
   "outputs": [
    {
     "data": {
      "text/plain": [
       "array([[2],\n",
       "       [2],\n",
       "       [6],\n",
       "       [5],\n",
       "       [6],\n",
       "       [5],\n",
       "       [5],\n",
       "       [6],\n",
       "       [5],\n",
       "       [8]])"
      ]
     },
     "execution_count": 17,
     "metadata": {},
     "output_type": "execute_result"
    }
   ],
   "source": [
    "unique_count[:10] #print few"
   ]
  },
  {
   "cell_type": "code",
   "execution_count": 18,
   "metadata": {
    "ExecuteTime": {
     "end_time": "2018-03-30T18:49:42.81767Z",
     "start_time": "2018-03-30T18:49:42.701073Z"
    },
    "_cell_guid": "b0c6cd90-111d-48f4-b58e-bacea0e42ebe",
    "_uuid": "d81385e726e32e8321feeed81ada267e370ca480"
   },
   "outputs": [],
   "source": [
    "additional_data_df  =  pd.DataFrame(data = unique_count ,columns = ['unique'],index = full_df.index ) #my features dataframe"
   ]
  },
  {
   "cell_type": "markdown",
   "metadata": {
    "_cell_guid": "e2838ad4-5697-4413-8443-0bcf2df32f00",
    "_uuid": "2211938c6601cf877d7c6bbc05a21ff71a125963"
   },
   "source": [
    "Create a dictionary where the keys are sites, and the values ​​- the number of sessions in which this site met."
   ]
  },
  {
   "cell_type": "code",
   "execution_count": 19,
   "metadata": {
    "ExecuteTime": {
     "end_time": "2018-03-30T18:49:46.084416Z",
     "start_time": "2018-03-30T18:49:42.81767Z"
    },
    "_cell_guid": "2bd6e48b-6901-4dea-8e13-1a254a6364a7",
    "_uuid": "76912b1a239ff111a1a06ec18d4d44c140100a36"
   },
   "outputs": [
    {
     "data": {
      "text/plain": [
       "30500"
      ]
     },
     "execution_count": 19,
     "metadata": {},
     "output_type": "execute_result"
    }
   ],
   "source": [
    "site_dict = {} \n",
    "for row in full_sites.values: \n",
    "    for site_id in np.unique(row): \n",
    "        if site_id in site_dict : \n",
    "            site_dict[site_id] += 1 \n",
    "        else:\n",
    "            site_dict[site_id] = 1 \n",
    "site_dict.pop(0)"
   ]
  },
  {
   "cell_type": "code",
   "execution_count": 20,
   "metadata": {},
   "outputs": [
    {
     "data": {
      "text/plain": [
       "{55: 18542,\n",
       " 56: 16072,\n",
       " 784: 5449,\n",
       " 945: 83,\n",
       " 946: 241,\n",
       " 948: 1616,\n",
       " 949: 46,\n",
       " 951: 190,\n",
       " 947: 160,\n",
       " 950: 47,\n",
       " 952: 48,\n",
       " 953: 1459,\n",
       " 955: 56,\n",
       " 1033: 68,\n",
       " 954: 63,\n",
       " 956: 64,\n",
       " 957: 67,\n",
       " 49: 6733,\n",
       " 52: 25783,\n",
       " 53: 8470,\n",
       " 812: 22990,\n",
       " 982: 664,\n",
       " 23: 76631,\n",
       " 568: 1980,\n",
       " 747: 5366,\n",
       " 21: 84205,\n",
       " 29: 52470,\n",
       " 513: 3140,\n",
       " 1116: 305,\n",
       " 3356: 74,\n",
       " 3358: 119,\n",
       " 3870: 8,\n",
       " 4222: 40,\n",
       " 181: 1048,\n",
       " 182: 1459,\n",
       " 38667: 4,\n",
       " 22: 56597,\n",
       " 39: 27645,\n",
       " 50: 6885,\n",
       " 676: 8982,\n",
       " 679: 8062,\n",
       " 752: 3592,\n",
       " 814: 7411,\n",
       " 815: 6180,\n",
       " 48: 9054,\n",
       " 222: 6342,\n",
       " 570: 25176,\n",
       " 1379: 809,\n",
       " 820: 2560,\n",
       " 980: 715,\n",
       " 5794: 41,\n",
       " 5898: 52,\n",
       " 707: 2015,\n",
       " 1102: 199,\n",
       " 2570: 25,\n",
       " 175: 8046,\n",
       " 177: 7123,\n",
       " 176: 3294,\n",
       " 178: 6808,\n",
       " 774: 7861,\n",
       " 847: 397,\n",
       " 1038: 93,\n",
       " 4277: 24,\n",
       " 342: 279,\n",
       " 733: 3092,\n",
       " 38: 14601,\n",
       " 989: 1548,\n",
       " 17232: 12,\n",
       " 532: 555,\n",
       " 544: 713,\n",
       " 753: 1909,\n",
       " 990: 483,\n",
       " 1020: 854,\n",
       " 1021: 1104,\n",
       " 1126: 58,\n",
       " 38668: 1,\n",
       " 1127: 43,\n",
       " 4279: 2,\n",
       " 6803: 35,\n",
       " 75: 8673,\n",
       " 76: 16596,\n",
       " 881: 3330,\n",
       " 77: 13242,\n",
       " 80: 15747,\n",
       " 959: 2291,\n",
       " 4220: 13,\n",
       " 12385: 7,\n",
       " 12386: 5,\n",
       " 12387: 7,\n",
       " 38669: 1,\n",
       " 242: 1768,\n",
       " 4087: 30,\n",
       " 350: 1728,\n",
       " 1007: 1433,\n",
       " 1103: 155,\n",
       " 1104: 242,\n",
       " 4085: 18,\n",
       " 1105: 174,\n",
       " 1106: 184,\n",
       " 4086: 52,\n",
       " 1037: 627,\n",
       " 848: 169,\n",
       " 5472: 34,\n",
       " 5474: 33,\n",
       " 57: 2671,\n",
       " 303: 587,\n",
       " 66: 7409,\n",
       " 348: 257,\n",
       " 63: 10532,\n",
       " 167: 23277,\n",
       " 2412: 123,\n",
       " 1547: 309,\n",
       " 2: 389,\n",
       " 3: 15596,\n",
       " 46: 3145,\n",
       " 47: 931,\n",
       " 205: 555,\n",
       " 4: 2316,\n",
       " 6: 3668,\n",
       " 8: 4265,\n",
       " 10: 1960,\n",
       " 2630: 406,\n",
       " 37107: 46,\n",
       " 7: 3270,\n",
       " 12: 2485,\n",
       " 13: 526,\n",
       " 14: 6834,\n",
       " 18: 1583,\n",
       " 678: 3429,\n",
       " 616: 10159,\n",
       " 617: 4729,\n",
       " 677: 12044,\n",
       " 775: 2339,\n",
       " 958: 59,\n",
       " 776: 614,\n",
       " 4208: 130,\n",
       " 5503: 87,\n",
       " 6090: 57,\n",
       " 6091: 51,\n",
       " 5505: 89,\n",
       " 5507: 76,\n",
       " 6092: 36,\n",
       " 45: 2234,\n",
       " 67: 2611,\n",
       " 68: 2050,\n",
       " 69: 2450,\n",
       " 70: 2712,\n",
       " 71: 3145,\n",
       " 6548: 85,\n",
       " 33487: 8,\n",
       " 8123: 87,\n",
       " 2169: 312,\n",
       " 39278: 21,\n",
       " 11: 3843,\n",
       " 4394: 183,\n",
       " 4534: 456,\n",
       " 2634: 184,\n",
       " 3331: 229,\n",
       " 979: 1050,\n",
       " 543: 373,\n",
       " 4592: 15,\n",
       " 4594: 19,\n",
       " 117: 4099,\n",
       " 367: 617,\n",
       " 655: 681,\n",
       " 658: 358,\n",
       " 660: 330,\n",
       " 661: 662,\n",
       " 803: 2618,\n",
       " 24083: 2,\n",
       " 32: 11653,\n",
       " 35: 25984,\n",
       " 666: 1258,\n",
       " 24084: 4,\n",
       " 33: 23322,\n",
       " 819: 979,\n",
       " 26: 3785,\n",
       " 27: 3398,\n",
       " 31: 4335,\n",
       " 58: 731,\n",
       " 59: 685,\n",
       " 359: 3361,\n",
       " 384: 4307,\n",
       " 4456: 34,\n",
       " 30: 26000,\n",
       " 34: 881,\n",
       " 36: 2239,\n",
       " 37: 23034,\n",
       " 1016: 74,\n",
       " 6093: 2,\n",
       " 196: 4714,\n",
       " 197: 5042,\n",
       " 4088: 12,\n",
       " 188: 560,\n",
       " 15: 1097,\n",
       " 249: 892,\n",
       " 4181: 179,\n",
       " 65: 1226,\n",
       " 268: 1584,\n",
       " 4182: 113,\n",
       " 4183: 48,\n",
       " 269: 1770,\n",
       " 270: 7268,\n",
       " 271: 774,\n",
       " 273: 273,\n",
       " 790: 721,\n",
       " 791: 355,\n",
       " 792: 757,\n",
       " 793: 273,\n",
       " 16: 1157,\n",
       " 162: 2903,\n",
       " 272: 2151,\n",
       " 274: 344,\n",
       " 4184: 115,\n",
       " 4185: 102,\n",
       " 1998: 725,\n",
       " 131: 1097,\n",
       " 202: 1141,\n",
       " 796: 458,\n",
       " 64: 375,\n",
       " 1914: 227,\n",
       " 1915: 389,\n",
       " 794: 119,\n",
       " 4186: 2,\n",
       " 4187: 1,\n",
       " 4188: 19,\n",
       " 3346: 1172,\n",
       " 639: 141,\n",
       " 1922: 737,\n",
       " 4189: 6,\n",
       " 305: 2301,\n",
       " 306: 3094,\n",
       " 7206: 51,\n",
       " 1057: 2581,\n",
       " 1919: 3388,\n",
       " 2370: 90,\n",
       " 20: 1422,\n",
       " 6094: 97,\n",
       " 2870: 77,\n",
       " 3187: 66,\n",
       " 3861: 169,\n",
       " 3863: 108,\n",
       " 6095: 90,\n",
       " 1643: 475,\n",
       " 2538: 59,\n",
       " 2543: 123,\n",
       " 6096: 8,\n",
       " 6097: 9,\n",
       " 6098: 9,\n",
       " 6099: 3,\n",
       " 6100: 3,\n",
       " 1015: 351,\n",
       " 6101: 2,\n",
       " 1008: 622,\n",
       " 156: 1770,\n",
       " 157: 1651,\n",
       " 322: 2795,\n",
       " 1385: 84,\n",
       " 6102: 12,\n",
       " 961: 2073,\n",
       " 3350: 196,\n",
       " 4329: 54,\n",
       " 1980: 3574,\n",
       " 4494: 13,\n",
       " 1981: 1288,\n",
       " 1023: 1866,\n",
       " 338: 1061,\n",
       " 1024: 898,\n",
       " 125: 1043,\n",
       " 3374: 359,\n",
       " 3393: 394,\n",
       " 3394: 88,\n",
       " 6618: 105,\n",
       " 1619: 402,\n",
       " 325: 1093,\n",
       " 751: 831,\n",
       " 323: 1055,\n",
       " 319: 2019,\n",
       " 324: 1156,\n",
       " 625: 1837,\n",
       " 1049: 207,\n",
       " 152: 1775,\n",
       " 1018: 429,\n",
       " 315: 548,\n",
       " 317: 1149,\n",
       " 318: 650,\n",
       " 320: 580,\n",
       " 1017: 302,\n",
       " 1019: 321,\n",
       " 343: 886,\n",
       " 11230: 7,\n",
       " 11231: 2,\n",
       " 1294: 19,\n",
       " 4105: 23,\n",
       " 11232: 1,\n",
       " 11233: 32,\n",
       " 1591: 16,\n",
       " 471: 15,\n",
       " 566: 317,\n",
       " 5799: 4,\n",
       " 6880: 28,\n",
       " 800: 359,\n",
       " 2414: 470,\n",
       " 2415: 431,\n",
       " 10690: 9,\n",
       " 5047: 18,\n",
       " 87: 1003,\n",
       " 1035: 478,\n",
       " 15523: 4,\n",
       " 15524: 3,\n",
       " 15525: 4,\n",
       " 15526: 2,\n",
       " 173: 836,\n",
       " 6725: 486,\n",
       " 41475: 557,\n",
       " 41476: 466,\n",
       " 229: 8752,\n",
       " 1446: 525,\n",
       " 1470: 184,\n",
       " 304: 768,\n",
       " 11134: 1,\n",
       " 11135: 65,\n",
       " 18384: 1,\n",
       " 2220: 319,\n",
       " 2501: 88,\n",
       " 2502: 68,\n",
       " 2503: 89,\n",
       " 2371: 96,\n",
       " 11158: 5,\n",
       " 6800: 468,\n",
       " 4190: 3,\n",
       " 23473: 2,\n",
       " 23474: 1,\n",
       " 21276: 1,\n",
       " 816: 1838,\n",
       " 22616: 15,\n",
       " 4191: 15,\n",
       " 16302: 11,\n",
       " 16875: 7,\n",
       " 1529: 447,\n",
       " 4079: 134,\n",
       " 21277: 2,\n",
       " 2276: 75,\n",
       " 2504: 347,\n",
       " 2505: 60,\n",
       " 6107: 36,\n",
       " 8440: 58,\n",
       " 1025: 786,\n",
       " 1145: 9,\n",
       " 4084: 63,\n",
       " 569: 208,\n",
       " 145: 2204,\n",
       " 1092: 472,\n",
       " 1171: 526,\n",
       " 2007: 285,\n",
       " 3359: 452,\n",
       " 11234: 4,\n",
       " 851: 224,\n",
       " 99: 1488,\n",
       " 106: 1700,\n",
       " 1434: 317,\n",
       " 11235: 31,\n",
       " 276: 65,\n",
       " 278: 122,\n",
       " 3253: 92,\n",
       " 41: 544,\n",
       " 42: 604,\n",
       " 1979: 294,\n",
       " 4192: 1,\n",
       " 551: 276,\n",
       " 2397: 149,\n",
       " 262: 1146,\n",
       " 3772: 162,\n",
       " 11236: 9,\n",
       " 981: 254,\n",
       " 516: 2262,\n",
       " 4642: 84,\n",
       " 4643: 48,\n",
       " 656: 1175,\n",
       " 7842: 10,\n",
       " 3012: 378,\n",
       " 142: 655,\n",
       " 3773: 98,\n",
       " 141: 959,\n",
       " 2762: 200,\n",
       " 314: 49,\n",
       " 833: 425,\n",
       " 834: 1043,\n",
       " 1013: 3,\n",
       " 1014: 122,\n",
       " 6103: 7,\n",
       " 960: 53,\n",
       " 17940: 8,\n",
       " 35254: 2,\n",
       " 26881: 2,\n",
       " 940: 5057,\n",
       " 28173: 1,\n",
       " 28174: 1,\n",
       " 4313: 27,\n",
       " 39279: 3,\n",
       " 39280: 3,\n",
       " 39281: 6,\n",
       " 3110: 39,\n",
       " 39282: 1,\n",
       " 39283: 4,\n",
       " 217: 2938,\n",
       " 341: 1473,\n",
       " 669: 27,\n",
       " 670: 453,\n",
       " 4314: 33,\n",
       " 4315: 14,\n",
       " 704: 1999,\n",
       " 652: 640,\n",
       " 4617: 20,\n",
       " 39284: 2,\n",
       " 558: 2112,\n",
       " 559: 2713,\n",
       " 4271: 19,\n",
       " 16862: 3,\n",
       " 759: 12,\n",
       " 3003: 168,\n",
       " 39285: 4,\n",
       " 5028: 2,\n",
       " 5029: 2,\n",
       " 5030: 3,\n",
       " 2359: 54,\n",
       " 6897: 67,\n",
       " 6898: 192,\n",
       " 4802: 414,\n",
       " 4803: 326,\n",
       " 1200: 787,\n",
       " 4804: 1406,\n",
       " 789: 377,\n",
       " 788: 485,\n",
       " 6899: 19,\n",
       " 9651: 45,\n",
       " 9652: 260,\n",
       " 9653: 30,\n",
       " 5062: 33,\n",
       " 5063: 16,\n",
       " 3398: 116,\n",
       " 13598: 34,\n",
       " 28480: 5,\n",
       " 1551: 204,\n",
       " 88: 55,\n",
       " 6900: 6,\n",
       " 11237: 3,\n",
       " 962: 32,\n",
       " 3357: 13,\n",
       " 896: 4115,\n",
       " 6901: 2,\n",
       " 6902: 1,\n",
       " 6903: 4,\n",
       " 4398: 496,\n",
       " 4399: 358,\n",
       " 6904: 1,\n",
       " 4400: 99,\n",
       " 4402: 146,\n",
       " 352: 1382,\n",
       " 2360: 122,\n",
       " 1: 3725,\n",
       " 2361: 107,\n",
       " 73: 924,\n",
       " 2425: 1171,\n",
       " 2426: 1156,\n",
       " 2427: 383,\n",
       " 19452: 22,\n",
       " 986: 539,\n",
       " 987: 877,\n",
       " 988: 545,\n",
       " 18385: 1,\n",
       " 3876: 224,\n",
       " 2168: 158,\n",
       " 4391: 64,\n",
       " 12375: 2,\n",
       " 2428: 1870,\n",
       " 3062: 139,\n",
       " 7867: 84,\n",
       " 391: 655,\n",
       " 756: 692,\n",
       " 21702: 1,\n",
       " 140: 4645,\n",
       " 394: 491,\n",
       " 395: 403,\n",
       " 396: 324,\n",
       " 397: 786,\n",
       " 2429: 27,\n",
       " 3242: 9,\n",
       " 5167: 6,\n",
       " 5168: 13,\n",
       " 5169: 6,\n",
       " 21703: 1,\n",
       " 936: 343,\n",
       " 2051: 164,\n",
       " 2217: 26,\n",
       " 4663: 16,\n",
       " 4664: 56,\n",
       " 5170: 6,\n",
       " 144: 654,\n",
       " 459: 179,\n",
       " 2458: 280,\n",
       " 1600: 333,\n",
       " 6056: 26,\n",
       " 4496: 8,\n",
       " 28481: 3,\n",
       " 549: 275,\n",
       " 39286: 1,\n",
       " 465: 199,\n",
       " 21704: 1,\n",
       " 220: 1623,\n",
       " 388: 581,\n",
       " 389: 533,\n",
       " 942: 5995,\n",
       " 1359: 357,\n",
       " 119: 1317,\n",
       " 1109: 305,\n",
       " 28482: 3,\n",
       " 151: 466,\n",
       " 4196: 2,\n",
       " 28483: 2,\n",
       " 1108: 24,\n",
       " 133: 1423,\n",
       " 1134: 91,\n",
       " 2377: 37,\n",
       " 30285: 11,\n",
       " 28708: 6,\n",
       " 717: 331,\n",
       " 718: 486,\n",
       " 719: 330,\n",
       " 720: 324,\n",
       " 721: 418,\n",
       " 2590: 596,\n",
       " 22776: 5,\n",
       " 32480: 2,\n",
       " 32481: 2,\n",
       " 39287: 1,\n",
       " 390: 754,\n",
       " 941: 6602,\n",
       " 2589: 875,\n",
       " 360: 4342,\n",
       " 362: 4311,\n",
       " 363: 6057,\n",
       " 364: 4310,\n",
       " 32482: 1,\n",
       " 139: 386,\n",
       " 609: 431,\n",
       " 702: 154,\n",
       " 3285: 51,\n",
       " 3554: 11,\n",
       " 8119: 21,\n",
       " 32483: 4,\n",
       " 32484: 5,\n",
       " 32485: 1,\n",
       " 32486: 1,\n",
       " 1800: 110,\n",
       " 9493: 6,\n",
       " 32487: 1,\n",
       " 102: 1141,\n",
       " 728: 189,\n",
       " 105: 412,\n",
       " 107: 448,\n",
       " 109: 352,\n",
       " 612: 256,\n",
       " 4616: 50,\n",
       " 103: 592,\n",
       " 113: 353,\n",
       " 963: 14,\n",
       " 138: 293,\n",
       " 836: 637,\n",
       " 3749: 115,\n",
       " 14426: 16,\n",
       " 18386: 3,\n",
       " 3100: 32,\n",
       " 3775: 166,\n",
       " 14428: 3,\n",
       " 14429: 19,\n",
       " 8085: 45,\n",
       " 14430: 12,\n",
       " 148: 3205,\n",
       " 392: 1094,\n",
       " 3777: 101,\n",
       " 3778: 98,\n",
       " 984: 77,\n",
       " 500: 1146,\n",
       " 502: 637,\n",
       " 503: 996,\n",
       " 504: 394,\n",
       " 505: 268,\n",
       " 506: 525,\n",
       " 507: 240,\n",
       " 501: 751,\n",
       " 621: 78,\n",
       " 622: 116,\n",
       " 32488: 21,\n",
       " 508: 364,\n",
       " 509: 302,\n",
       " 32489: 18,\n",
       " 32490: 17,\n",
       " 32491: 19,\n",
       " 256: 759,\n",
       " 1107: 349,\n",
       " 511: 341,\n",
       " 6831: 17,\n",
       " 514: 65,\n",
       " 518: 77,\n",
       " 2388: 37,\n",
       " 681: 815,\n",
       " 745: 188,\n",
       " 5768: 26,\n",
       " 2338: 323,\n",
       " 5858: 13,\n",
       " 1094: 144,\n",
       " 32492: 1,\n",
       " 3347: 232,\n",
       " 4267: 6,\n",
       " 85: 1212,\n",
       " 2281: 147,\n",
       " 13168: 2,\n",
       " 722: 513,\n",
       " 490: 337,\n",
       " 32493: 1,\n",
       " 32494: 1,\n",
       " 3887: 121,\n",
       " 7584: 13,\n",
       " 8746: 52,\n",
       " 32335: 8,\n",
       " 32495: 1,\n",
       " 5404: 23,\n",
       " 5406: 8,\n",
       " 890: 2017,\n",
       " 1994: 1174,\n",
       " 1995: 1188,\n",
       " 7187: 43,\n",
       " 7188: 111,\n",
       " 797: 858,\n",
       " 1122: 300,\n",
       " 1373: 191,\n",
       " 3848: 1647,\n",
       " 1228: 15,\n",
       " 1229: 26,\n",
       " 3849: 1665,\n",
       " 28484: 3,\n",
       " 28485: 1,\n",
       " 25218: 2,\n",
       " 606: 155,\n",
       " 766: 12,\n",
       " 337: 662,\n",
       " 340: 263,\n",
       " 1548: 27,\n",
       " 22705: 2,\n",
       " 32496: 1,\n",
       " 32497: 1,\n",
       " 32498: 2,\n",
       " 1798: 58,\n",
       " 687: 148,\n",
       " 3729: 72,\n",
       " 7412: 37,\n",
       " 8060: 6,\n",
       " 9587: 17,\n",
       " 32499: 1,\n",
       " 684: 297,\n",
       " 32500: 1,\n",
       " 32501: 1,\n",
       " 32502: 1,\n",
       " 32503: 1,\n",
       " 3480: 155,\n",
       " 14869: 114,\n",
       " 32304: 8,\n",
       " 25219: 2,\n",
       " 9691: 47,\n",
       " 25220: 1,\n",
       " 6905: 1,\n",
       " 5932: 646,\n",
       " 35776: 2,\n",
       " 6801: 241,\n",
       " 5933: 207,\n",
       " 28854: 4,\n",
       " 1903: 16,\n",
       " 4238: 188,\n",
       " 9908: 11,\n",
       " 1921: 86,\n",
       " 2155: 114,\n",
       " 2156: 67,\n",
       " 399: 712,\n",
       " 21705: 1,\n",
       " 11333: 43,\n",
       " 2376: 100,\n",
       " 3106: 84,\n",
       " 3634: 21,\n",
       " 18598: 35,\n",
       " 1036: 186,\n",
       " 9894: 7,\n",
       " 9901: 5,\n",
       " 9895: 2,\n",
       " 20058: 28,\n",
       " 37616: 1,\n",
       " 879: 3881,\n",
       " 5: 640,\n",
       " 4628: 20,\n",
       " 9112: 14,\n",
       " 9896: 1,\n",
       " 9897: 1,\n",
       " 37617: 54,\n",
       " 9898: 3,\n",
       " 104: 78,\n",
       " 108: 59,\n",
       " 2366: 172,\n",
       " 9576: 18,\n",
       " 9899: 1,\n",
       " 9900: 16,\n",
       " 3933: 80,\n",
       " 5517: 7,\n",
       " 7165: 16,\n",
       " 32504: 1,\n",
       " 455: 352,\n",
       " 659: 104,\n",
       " 9902: 10,\n",
       " 1904: 2,\n",
       " 3311: 3,\n",
       " 6932: 89,\n",
       " 170: 1879,\n",
       " 1029: 98,\n",
       " 25632: 1,\n",
       " 15601: 6,\n",
       " 39288: 3,\n",
       " 39289: 1,\n",
       " 39290: 2,\n",
       " 39291: 1,\n",
       " 39292: 1,\n",
       " 9306: 69,\n",
       " 13985: 75,\n",
       " 39293: 2,\n",
       " 39294: 2,\n",
       " 39295: 1,\n",
       " 1058: 73,\n",
       " 9903: 1,\n",
       " 9904: 1,\n",
       " 234: 1167,\n",
       " 438: 446,\n",
       " 440: 528,\n",
       " 4758: 241,\n",
       " 3893: 20,\n",
       " 20619: 2,\n",
       " 32505: 1,\n",
       " 7161: 232,\n",
       " 3926: 28,\n",
       " 32506: 1,\n",
       " 32507: 4,\n",
       " 32508: 1,\n",
       " 442: 31,\n",
       " 1009: 60,\n",
       " 39296: 1,\n",
       " 441: 549,\n",
       " 32872: 3,\n",
       " 439: 393,\n",
       " 444: 184,\n",
       " 1559: 48,\n",
       " 328: 45,\n",
       " 5261: 574,\n",
       " 5264: 565,\n",
       " 3667: 45,\n",
       " 32509: 1,\n",
       " 5262: 952,\n",
       " 5263: 556,\n",
       " 445: 168,\n",
       " 39297: 1,\n",
       " 39298: 2,\n",
       " 39299: 77,\n",
       " 1011: 271,\n",
       " 40515: 1,\n",
       " 25633: 92,\n",
       " 81: 3644,\n",
       " 1307: 1603,\n",
       " 36222: 10,\n",
       " 39300: 5,\n",
       " 20085: 47,\n",
       " 8134: 23,\n",
       " 21706: 1,\n",
       " 7368: 19,\n",
       " 39301: 13,\n",
       " 20096: 25,\n",
       " 15223: 3,\n",
       " 880: 61,\n",
       " 1973: 18,\n",
       " 8157: 55,\n",
       " 21707: 1,\n",
       " 17: 827,\n",
       " 1266: 367,\n",
       " 3429: 120,\n",
       " 3430: 132,\n",
       " 25013: 2,\n",
       " 21431: 4,\n",
       " 1905: 1,\n",
       " 1906: 2,\n",
       " 1907: 1,\n",
       " 1908: 1,\n",
       " 1909: 1,\n",
       " 1910: 1,\n",
       " 1911: 7,\n",
       " 1912: 1,\n",
       " 1913: 2,\n",
       " 712: 369,\n",
       " 2647: 88,\n",
       " 21708: 1,\n",
       " 39302: 10,\n",
       " 39303: 1,\n",
       " 82: 3631,\n",
       " 335: 2863,\n",
       " 9905: 79,\n",
       " 9906: 5,\n",
       " 9907: 1,\n",
       " 876: 471,\n",
       " 135: 34,\n",
       " 1378: 523,\n",
       " 39304: 1,\n",
       " 39305: 1,\n",
       " 22983: 2,\n",
       " 137: 13,\n",
       " 37618: 1,\n",
       " 143: 1682,\n",
       " 3038: 56,\n",
       " 3041: 56,\n",
       " 3043: 50,\n",
       " 3045: 28,\n",
       " 1194: 326,\n",
       " 3039: 48,\n",
       " 32854: 1,\n",
       " 32855: 1,\n",
       " 3047: 33,\n",
       " 11136: 22,\n",
       " 1996: 113,\n",
       " 1997: 88,\n",
       " 39306: 9,\n",
       " 6112: 70,\n",
       " 6113: 36,\n",
       " 6114: 57,\n",
       " 10488: 18,\n",
       " 19042: 7,\n",
       " 39307: 2,\n",
       " 72: 30,\n",
       " 37371: 5,\n",
       " 18387: 4,\n",
       " 39308: 3,\n",
       " 39309: 3,\n",
       " 21278: 1,\n",
       " 21279: 1,\n",
       " 39310: 1,\n",
       " 811: 77,\n",
       " 39311: 1,\n",
       " 5685: 25,\n",
       " 5686: 19,\n",
       " 5688: 133,\n",
       " 5689: 18,\n",
       " 5690: 15,\n",
       " 39312: 5,\n",
       " 5687: 54,\n",
       " 4230: 195,\n",
       " 5691: 7,\n",
       " 560: 137,\n",
       " 897: 40,\n",
       " 4235: 123,\n",
       " 1532: 255,\n",
       " 7507: 13,\n",
       " 14765: 10,\n",
       " 355: 367,\n",
       " 90: 42,\n",
       " 533: 1511,\n",
       " 983: 61,\n",
       " 985: 30,\n",
       " 2211: 319,\n",
       " 36274: 9,\n",
       " 1985: 269,\n",
       " 25634: 78,\n",
       " 1004: 649,\n",
       " 1005: 31,\n",
       " 5537: 29,\n",
       " 6167: 18,\n",
       " 13809: 42,\n",
       " 24759: 2,\n",
       " 11157: 56,\n",
       " 39313: 2,\n",
       " 39314: 2,\n",
       " 39315: 2,\n",
       " 39316: 2,\n",
       " 39317: 1,\n",
       " 21709: 6,\n",
       " 21710: 1,\n",
       " 21711: 2,\n",
       " 3202: 75,\n",
       " 21712: 1,\n",
       " 1916: 156,\n",
       " 327: 285,\n",
       " 207: 373,\n",
       " 1917: 352,\n",
       " 3993: 30,\n",
       " 21713: 1,\n",
       " 1918: 8,\n",
       " 400: 725,\n",
       " 8395: 24,\n",
       " 21714: 1,\n",
       " 473: 672,\n",
       " 21715: 1,\n",
       " 21716: 1,\n",
       " 3496: 131,\n",
       " 21717: 1,\n",
       " 3823: 20,\n",
       " 9343: 31,\n",
       " 2011: 178,\n",
       " 2918: 197,\n",
       " 21718: 1,\n",
       " 964: 284,\n",
       " 965: 204,\n",
       " 5901: 6,\n",
       " 20248: 2,\n",
       " 21719: 1,\n",
       " 8737: 12,\n",
       " 37619: 1,\n",
       " 37620: 1,\n",
       " 966: 26,\n",
       " 592: 55,\n",
       " 967: 54,\n",
       " 968: 12,\n",
       " 969: 153,\n",
       " 971: 32,\n",
       " 39318: 2,\n",
       " 2090: 205,\n",
       " 21720: 1,\n",
       " 39319: 3,\n",
       " 21280: 2,\n",
       " 540: 127,\n",
       " 970: 26,\n",
       " 21721: 1,\n",
       " 21722: 1,\n",
       " 9909: 2,\n",
       " 528: 146,\n",
       " 539: 678,\n",
       " 2646: 165,\n",
       " 2750: 172,\n",
       " 21723: 1,\n",
       " 706: 267,\n",
       " 26240: 30,\n",
       " 28125: 16,\n",
       " 25635: 3,\n",
       " 25636: 2,\n",
       " 39320: 1,\n",
       " 23419: 6,\n",
       " 16683: 113,\n",
       " 23420: 2,\n",
       " 25637: 3,\n",
       " 1274: 1034,\n",
       " 25638: 1,\n",
       " 638: 420,\n",
       " 1920: 22,\n",
       " 637: 270,\n",
       " 801: 286,\n",
       " 3644: 72,\n",
       " 21724: 2,\n",
       " 9910: 4,\n",
       " 2365: 37,\n",
       " 7216: 20,\n",
       " 9911: 8,\n",
       " 25639: 1,\n",
       " 9912: 9,\n",
       " 14870: 42,\n",
       " 14820: 35,\n",
       " 21725: 1,\n",
       " 14876: 55,\n",
       " 21726: 1,\n",
       " 14877: 10,\n",
       " 3007: 135,\n",
       " 3008: 120,\n",
       " 3009: 65,\n",
       " 3010: 119,\n",
       " 3011: 432,\n",
       " 3885: 29,\n",
       " 9913: 2,\n",
       " 1149: 92,\n",
       " 3559: 3984,\n",
       " 3560: 4001,\n",
       " 3976: 48,\n",
       " 21727: 1,\n",
       " 21728: 1,\n",
       " 464: 311,\n",
       " 21729: 1,\n",
       " 3497: 27,\n",
       " 14077: 4,\n",
       " 21730: 1,\n",
       " 74: 68,\n",
       " 9748: 6,\n",
       " 9914: 2,\n",
       " 9915: 4,\n",
       " 9916: 148,\n",
       " 2575: 29,\n",
       " 11468: 20,\n",
       " 5172: 17,\n",
       " 5173: 24,\n",
       " 2457: 79,\n",
       " 5175: 26,\n",
       " 2127: 116,\n",
       " 20390: 120,\n",
       " ...}"
      ]
     },
     "execution_count": 20,
     "metadata": {},
     "output_type": "execute_result"
    }
   ],
   "source": [
    "site_dict"
   ]
  },
  {
   "cell_type": "markdown",
   "metadata": {
    "_cell_guid": "76d970d6-2c15-4da0-9865-ac506be508a3",
    "_uuid": "17616f1d34f4bbf45c98023a26127a339893a3e1"
   },
   "source": [
    "Make the presence indicator in the site of the site, which is included in the top 10 popular sites"
   ]
  },
  {
   "cell_type": "code",
   "execution_count": 21,
   "metadata": {
    "ExecuteTime": {
     "end_time": "2018-03-30T18:49:49.310093Z",
     "start_time": "2018-03-30T18:49:46.085509Z"
    },
    "_cell_guid": "8173b60f-856c-4477-a0b9-36187722a0e6",
    "_uuid": "86c1306ea121c5b964e814e2107d6684b06eb0c4"
   },
   "outputs": [
    {
     "name": "stdout",
     "output_type": "stream",
     "text": [
      "CPU times: user 4.26 s, sys: 10.2 ms, total: 4.27 s\n",
      "Wall time: 4.27 s\n"
     ]
    },
    {
     "data": {
      "text/plain": [
       "array([[0],\n",
       "       [0],\n",
       "       [0],\n",
       "       ...,\n",
       "       [1],\n",
       "       [1],\n",
       "       [1]])"
      ]
     },
     "execution_count": 21,
     "metadata": {},
     "output_type": "execute_result"
    }
   ],
   "source": [
    "%%time\n",
    "top_10 = sorted(list(site_dict.items()), key = lambda tup: tup[1], reverse = True)[:10]\n",
    "top_10 = [element[0] for element in top_10]\n",
    "have_top_10 = np.zeros((full_sites.shape[0], 1), dtype = int)\n",
    "ind = 0\n",
    "for row in full_sites.values:\n",
    "    unique = np.unique(row)\n",
    "    for site_id in unique:\n",
    "        if site_id in top_10:\n",
    "            have_top_10[ind] = 1\n",
    "    ind += 1\n",
    "\n",
    "have_top_10"
   ]
  },
  {
   "cell_type": "code",
   "execution_count": 22,
   "metadata": {
    "ExecuteTime": {
     "end_time": "2018-03-30T18:49:49.318095Z",
     "start_time": "2018-03-30T18:49:49.310093Z"
    },
    "_cell_guid": "cde16de3-db4c-485b-9b86-b2ffa3ccf0e1",
    "_uuid": "c58d4ff56b75b477dea7f79e82484c7bd7e1b15d"
   },
   "outputs": [],
   "source": [
    "additional_data_df [ 'have_top_10' ]  =  have_top_10"
   ]
  },
  {
   "cell_type": "code",
   "execution_count": 23,
   "metadata": {
    "ExecuteTime": {
     "end_time": "2018-03-30T18:49:49.522591Z",
     "start_time": "2018-03-30T18:49:49.318095Z"
    },
    "_cell_guid": "a37e9261-ffb5-4e45-9577-68c4b97ed867",
    "_uuid": "35cd68e54396e78407b01abf0fa064ebd193986b"
   },
   "outputs": [
    {
     "data": {
      "text/html": [
       "<div>\n",
       "<style scoped>\n",
       "    .dataframe tbody tr th:only-of-type {\n",
       "        vertical-align: middle;\n",
       "    }\n",
       "\n",
       "    .dataframe tbody tr th {\n",
       "        vertical-align: top;\n",
       "    }\n",
       "\n",
       "    .dataframe thead th {\n",
       "        text-align: right;\n",
       "    }\n",
       "</style>\n",
       "<table border=\"1\" class=\"dataframe\">\n",
       "  <thead>\n",
       "    <tr style=\"text-align: right;\">\n",
       "      <th></th>\n",
       "      <th>unique</th>\n",
       "      <th>have_top_10</th>\n",
       "    </tr>\n",
       "    <tr>\n",
       "      <th>session_id</th>\n",
       "      <th></th>\n",
       "      <th></th>\n",
       "    </tr>\n",
       "  </thead>\n",
       "  <tbody>\n",
       "    <tr>\n",
       "      <th>21669</th>\n",
       "      <td>2</td>\n",
       "      <td>0</td>\n",
       "    </tr>\n",
       "    <tr>\n",
       "      <th>54843</th>\n",
       "      <td>2</td>\n",
       "      <td>0</td>\n",
       "    </tr>\n",
       "    <tr>\n",
       "      <th>77292</th>\n",
       "      <td>6</td>\n",
       "      <td>0</td>\n",
       "    </tr>\n",
       "  </tbody>\n",
       "</table>\n",
       "</div>"
      ],
      "text/plain": [
       "            unique  have_top_10\n",
       "session_id                     \n",
       "21669            2            0\n",
       "54843            2            0\n",
       "77292            6            0"
      ]
     },
     "execution_count": 23,
     "metadata": {},
     "output_type": "execute_result"
    }
   ],
   "source": [
    "additional_data_df.head(3)"
   ]
  },
  {
   "cell_type": "markdown",
   "metadata": {
    "_cell_guid": "086ed9c5-a239-4b12-9157-94d1e298dedf",
    "_uuid": "b6832892f8c8cf277902f111cbc178566d8fcd1d"
   },
   "source": [
    "Count the number of absolutely unique sites in the session (the sites met only in this session)"
   ]
  },
  {
   "cell_type": "code",
   "execution_count": 24,
   "metadata": {
    "ExecuteTime": {
     "end_time": "2018-03-30T18:49:53.043749Z",
     "start_time": "2018-03-30T18:49:49.526589Z"
    },
    "_cell_guid": "73cc9995-c7d2-464d-957f-5de55a42f5b6",
    "_uuid": "6eca9364113ec9f5cbf5ac3ae3adffd248ab2721"
   },
   "outputs": [
    {
     "data": {
      "text/plain": [
       "array([[0],\n",
       "       [0],\n",
       "       [0],\n",
       "       ...,\n",
       "       [0],\n",
       "       [0],\n",
       "       [0]])"
      ]
     },
     "execution_count": 24,
     "metadata": {},
     "output_type": "execute_result"
    }
   ],
   "source": [
    "absolutely_unique_count  =  np.zeros((full_sites.shape[0], 1 ), dtype = int ) \n",
    "ind  =  0 \n",
    "for  row  in  full_sites . values : \n",
    "    unique  =  np . unique ( row ) \n",
    "    absolutely_unic_row  =  {} \n",
    "    for  site_id  in  unique : \n",
    "        if (site_id !=0) and (site_dict[site_id] == 1) and (site_id not in absolutely_unic_row ): \n",
    "            absolutely_unique_count [ ind ]  +=  1 \n",
    "            absolutely_unic_row [ site_id ]  =  1 \n",
    "    ind  +=  1\n",
    "absolutely_unique_count"
   ]
  },
  {
   "cell_type": "code",
   "execution_count": 25,
   "metadata": {
    "ExecuteTime": {
     "end_time": "2018-03-30T18:49:53.052767Z",
     "start_time": "2018-03-30T18:49:53.044705Z"
    },
    "_cell_guid": "57f65d98-a535-401a-84fd-3dab53f75ec3",
    "_uuid": "69bacd20513d3e6dfe1b810e1368c36fa6a74662"
   },
   "outputs": [],
   "source": [
    "additional_data_df['absolutely_unique_count'] = absolutely_unique_count"
   ]
  },
  {
   "cell_type": "markdown",
   "metadata": {
    "_cell_guid": "a42b2d32-6d95-4568-8716-a50de69d1e5c",
    "_uuid": "92879574134b093ef7e9a1bd4d375b303bf16b97"
   },
   "source": [
    "Make an indicator of the presence of an absolutely unique site in the session"
   ]
  },
  {
   "cell_type": "code",
   "execution_count": 26,
   "metadata": {
    "ExecuteTime": {
     "end_time": "2018-03-30T18:49:53.172705Z",
     "start_time": "2018-03-30T18:49:53.052767Z"
    },
    "_cell_guid": "22f430fd-1fea-494a-818c-21a9c4387111",
    "_uuid": "21d87740fc276f8bc95e86778d287c7aca067fe0"
   },
   "outputs": [],
   "source": [
    "absolutely_unique = (absolutely_unique_count > 0 ).astype(int)"
   ]
  },
  {
   "cell_type": "code",
   "execution_count": 27,
   "metadata": {
    "ExecuteTime": {
     "end_time": "2018-03-30T18:49:53.249194Z",
     "start_time": "2018-03-30T18:49:53.172705Z"
    },
    "_cell_guid": "14ccb853-5e33-4b90-b9c2-8c3777fb76e1",
    "_uuid": "3d1bfabe3e11c022021bc46c1e855ee3a1a5e8c0"
   },
   "outputs": [],
   "source": [
    "additional_data_df ['have_absolutely_unique' ] = absolutely_unique"
   ]
  },
  {
   "cell_type": "code",
   "execution_count": 28,
   "metadata": {
    "ExecuteTime": {
     "end_time": "2018-03-30T18:49:53.538479Z",
     "start_time": "2018-03-30T18:49:53.249194Z"
    },
    "_cell_guid": "9094dc2e-e71c-4956-93e3-951126896e04",
    "_uuid": "34e6a9d1647a9d6fe26d7b3a21c660d00511c625"
   },
   "outputs": [
    {
     "data": {
      "text/plain": [
       "<AxesSubplot:xlabel='absolutely_unique_count', ylabel='count'>"
      ]
     },
     "execution_count": 28,
     "metadata": {},
     "output_type": "execute_result"
    },
    {
     "data": {
      "image/png": "[encoded data removed]",
      "text/plain": [
       "<Figure size 432x288 with 1 Axes>"
      ]
     },
     "metadata": {},
     "output_type": "display_data"
    }
   ],
   "source": [
    "sns.countplot(additional_data_df['absolutely_unique_count'])"
   ]
  },
  {
   "cell_type": "markdown",
   "metadata": {
    "_cell_guid": "5c3145e3-5b95-4ebe-acec-652098eddc0a",
    "_uuid": "8a6f0d0e1397f2196f8ac499b2a385a38a812603"
   },
   "source": [
    "### Work over time \n",
    "\n",
    "- We extract a table in which there will be only columns of time"
   ]
  },
  {
   "cell_type": "code",
   "execution_count": 29,
   "metadata": {
    "ExecuteTime": {
     "end_time": "2018-03-30T18:49:53.566419Z",
     "start_time": "2018-03-30T18:49:53.538479Z"
    },
    "_cell_guid": "2546b547-aa95-4064-b432-fb580bb22d3c",
    "_uuid": "e521192fa55e8ac67ae2078fac05cb944a7b4c38"
   },
   "outputs": [
    {
     "data": {
      "text/html": [
       "<div>\n",
       "<style scoped>\n",
       "    .dataframe tbody tr th:only-of-type {\n",
       "        vertical-align: middle;\n",
       "    }\n",
       "\n",
       "    .dataframe tbody tr th {\n",
       "        vertical-align: top;\n",
       "    }\n",
       "\n",
       "    .dataframe thead th {\n",
       "        text-align: right;\n",
       "    }\n",
       "</style>\n",
       "<table border=\"1\" class=\"dataframe\">\n",
       "  <thead>\n",
       "    <tr style=\"text-align: right;\">\n",
       "      <th></th>\n",
       "      <th>time1</th>\n",
       "      <th>time2</th>\n",
       "      <th>time3</th>\n",
       "      <th>time4</th>\n",
       "      <th>time5</th>\n",
       "      <th>time6</th>\n",
       "      <th>time7</th>\n",
       "      <th>time8</th>\n",
       "      <th>time9</th>\n",
       "      <th>time10</th>\n",
       "    </tr>\n",
       "    <tr>\n",
       "      <th>session_id</th>\n",
       "      <th></th>\n",
       "      <th></th>\n",
       "      <th></th>\n",
       "      <th></th>\n",
       "      <th></th>\n",
       "      <th></th>\n",
       "      <th></th>\n",
       "      <th></th>\n",
       "      <th></th>\n",
       "      <th></th>\n",
       "    </tr>\n",
       "  </thead>\n",
       "  <tbody>\n",
       "    <tr>\n",
       "      <th>21669</th>\n",
       "      <td>2013-01-12 08:05:57</td>\n",
       "      <td>2013-01-12 08:05:57</td>\n",
       "      <td>NaT</td>\n",
       "      <td>NaT</td>\n",
       "      <td>NaT</td>\n",
       "      <td>NaT</td>\n",
       "      <td>NaT</td>\n",
       "      <td>NaT</td>\n",
       "      <td>NaT</td>\n",
       "      <td>NaT</td>\n",
       "    </tr>\n",
       "    <tr>\n",
       "      <th>54843</th>\n",
       "      <td>2013-01-12 08:37:23</td>\n",
       "      <td>2013-01-12 08:37:23</td>\n",
       "      <td>2013-01-12 09:07:07</td>\n",
       "      <td>2013-01-12 09:07:09</td>\n",
       "      <td>NaT</td>\n",
       "      <td>NaT</td>\n",
       "      <td>NaT</td>\n",
       "      <td>NaT</td>\n",
       "      <td>NaT</td>\n",
       "      <td>NaT</td>\n",
       "    </tr>\n",
       "    <tr>\n",
       "      <th>77292</th>\n",
       "      <td>2013-01-12 08:50:13</td>\n",
       "      <td>2013-01-12 08:50:14</td>\n",
       "      <td>2013-01-12 08:50:15</td>\n",
       "      <td>2013-01-12 08:50:15</td>\n",
       "      <td>2013-01-12 08:50:16</td>\n",
       "      <td>2013-01-12 08:50:16</td>\n",
       "      <td>2013-01-12 08:50:16</td>\n",
       "      <td>2013-01-12 08:50:16</td>\n",
       "      <td>2013-01-12 08:50:17</td>\n",
       "      <td>2013-01-12 08:50:17</td>\n",
       "    </tr>\n",
       "  </tbody>\n",
       "</table>\n",
       "</div>"
      ],
      "text/plain": [
       "                         time1               time2               time3  \\\n",
       "session_id                                                               \n",
       "21669      2013-01-12 08:05:57 2013-01-12 08:05:57                 NaT   \n",
       "54843      2013-01-12 08:37:23 2013-01-12 08:37:23 2013-01-12 09:07:07   \n",
       "77292      2013-01-12 08:50:13 2013-01-12 08:50:14 2013-01-12 08:50:15   \n",
       "\n",
       "                         time4               time5               time6  \\\n",
       "session_id                                                               \n",
       "21669                      NaT                 NaT                 NaT   \n",
       "54843      2013-01-12 09:07:09                 NaT                 NaT   \n",
       "77292      2013-01-12 08:50:15 2013-01-12 08:50:16 2013-01-12 08:50:16   \n",
       "\n",
       "                         time7               time8               time9  \\\n",
       "session_id                                                               \n",
       "21669                      NaT                 NaT                 NaT   \n",
       "54843                      NaT                 NaT                 NaT   \n",
       "77292      2013-01-12 08:50:16 2013-01-12 08:50:16 2013-01-12 08:50:17   \n",
       "\n",
       "                        time10  \n",
       "session_id                      \n",
       "21669                      NaT  \n",
       "54843                      NaT  \n",
       "77292      2013-01-12 08:50:17  "
      ]
     },
     "execution_count": 29,
     "metadata": {},
     "output_type": "execute_result"
    }
   ],
   "source": [
    "full_time  =  full_df[times] \n",
    "full_time.head(3)"
   ]
  },
  {
   "cell_type": "markdown",
   "metadata": {
    "_cell_guid": "53f1dbf1-bacc-4373-a832-e59beaed4739",
    "_uuid": "a0ae4a8152e2bd4b0b464ee9af69ea59ab8c9204"
   },
   "source": [
    "**We calculate the time of staying on each site within one session**"
   ]
  },
  {
   "cell_type": "code",
   "execution_count": 30,
   "metadata": {
    "ExecuteTime": {
     "end_time": "2018-03-30T18:49:53.64642Z",
     "start_time": "2018-03-30T18:49:53.566419Z"
    },
    "_cell_guid": "248e5edf-d830-4db9-ae17-eb38fdd7ba04",
    "_uuid": "70f7e26a36b13be6e6055bc8259ce70e75e9b7d3"
   },
   "outputs": [],
   "source": [
    "def  get_time_diff (row): \n",
    "    time_length = row.shape[0] - 1 \n",
    "    time_diff = [0]*time_length \n",
    "    i = 0 \n",
    "    while (i < time_length) and pd.notnull(row[i+1]): \n",
    "        time_diff[i] = (row[i+1] - row[i]) / np.timedelta64(1, 's')\n",
    "        i += 1 \n",
    "    return  time_diff"
   ]
  },
  {
   "cell_type": "code",
   "execution_count": 31,
   "metadata": {
    "ExecuteTime": {
     "end_time": "2018-03-30T18:50:14.240847Z",
     "start_time": "2018-03-30T18:49:53.64642Z"
    },
    "_cell_guid": "ef9f44ec-246e-4c2d-81c2-97801feebf63",
    "_uuid": "3c211565656ad5d67a9ddd8fbdb04883a93cba13"
   },
   "outputs": [
    {
     "name": "stdout",
     "output_type": "stream",
     "text": [
      "CPU times: user 19 s, sys: 219 ms, total: 19.2 s\n",
      "Wall time: 19.2 s\n"
     ]
    }
   ],
   "source": [
    "%%time\n",
    "time_diff = []\n",
    "for row in full_time.values:\n",
    "    time_diff.append (get_time_diff (row))\n",
    "time_diff = np.log1p(np.array(time_diff).astype(float))"
   ]
  },
  {
   "cell_type": "code",
   "execution_count": 32,
   "metadata": {
    "ExecuteTime": {
     "end_time": "2018-03-30T18:50:14.277145Z",
     "start_time": "2018-03-30T18:50:14.240847Z"
    },
    "_cell_guid": "5f7cb235-0381-4f3a-be6d-7d3a49856460",
    "_uuid": "8bd854f7c0547ce627e7fcb6e4c394b0e21872a6"
   },
   "outputs": [],
   "source": [
    "## Appending The Newly Created Features\n",
    "time_names = ['time_diff'+str(j) for j in range(1,10)] \n",
    "for ind,column_name in enumerate(time_names): \n",
    "    additional_data_df[column_name] = time_diff[:,ind] "
   ]
  },
  {
   "cell_type": "markdown",
   "metadata": {
    "_cell_guid": "afb0af32-cf12-4f5b-a033-a286e905646d",
    "_uuid": "549ba53d094d88f334141b65491ee6561e312b86"
   },
   "source": [
    "**We will calculate the total time spent at each session**"
   ]
  },
  {
   "cell_type": "code",
   "execution_count": 33,
   "metadata": {
    "ExecuteTime": {
     "end_time": "2018-03-30T18:50:14.383338Z",
     "start_time": "2018-03-30T18:50:14.277145Z"
    },
    "_cell_guid": "cb2bed4d-a1c2-47bf-a447-da0255d72da1",
    "_uuid": "c0c62c011dd31a1477cfc10dc8fb765b49492277"
   },
   "outputs": [],
   "source": [
    "def get_total_time(row): \n",
    "    time_length = row.shape[0] - 1 \n",
    "    i = time_length \n",
    "    while pd.isnull( row [ i ]): \n",
    "        i -= 1 \n",
    "    return (row[i] - row[0]) / np.timedelta64(1,'s')"
   ]
  },
  {
   "cell_type": "code",
   "execution_count": 34,
   "metadata": {
    "ExecuteTime": {
     "end_time": "2018-03-30T18:50:16.900842Z",
     "start_time": "2018-03-30T18:50:14.395337Z"
    },
    "_cell_guid": "69221fd7-0f49-4ced-8832-b1da141effe1",
    "_uuid": "e95379fa046b1b527c6fac23709e272d42122cc1"
   },
   "outputs": [
    {
     "name": "stdout",
     "output_type": "stream",
     "text": [
      "CPU times: user 2.31 s, sys: 9.67 ms, total: 2.32 s\n",
      "Wall time: 2.32 s\n"
     ]
    }
   ],
   "source": [
    "%%time\n",
    "total_time = []\n",
    "for row in full_time.values:\n",
    "    total_time.append(get_total_time(row))\n",
    "total_time = np.array(total_time).reshape(-1,1).astype(int)"
   ]
  },
  {
   "cell_type": "code",
   "execution_count": 35,
   "metadata": {
    "ExecuteTime": {
     "end_time": "2018-03-30T18:50:16.917084Z",
     "start_time": "2018-03-30T18:50:16.900842Z"
    },
    "_cell_guid": "be531208-ea71-4ab3-91b8-ef6efaa05b64",
    "_uuid": "ace884b4bbca683dcc99b42adb1d9a3eeb64e20a"
   },
   "outputs": [],
   "source": [
    "additional_data_df['total_time'] =  total_time \n",
    "additional_data_df['total_time'] =  np.log1p(additional_data_df['total_time'].values)"
   ]
  },
  {
   "cell_type": "code",
   "execution_count": 36,
   "metadata": {
    "ExecuteTime": {
     "end_time": "2018-03-30T18:50:18.187469Z",
     "start_time": "2018-03-30T18:50:16.917084Z"
    },
    "_cell_guid": "a002dd53-90e4-49bb-a0b5-33a1d16bda8f",
    "_uuid": "ed4410d4da96ffc72697441936722630bebca59d"
   },
   "outputs": [],
   "source": [
    "additional_data_df['start_hour']  =  full_time['time1'].apply(lambda ts: ts.hour) \n",
    "additional_data_df['holiday']     = (full_time['time1'].dt.dayofweek >= 5).astype(int) \n",
    "additional_data_df['day_of_week'] = (full_time['time1'].dt.dayofweek).astype(int)"
   ]
  },
  {
   "cell_type": "code",
   "execution_count": 37,
   "metadata": {
    "ExecuteTime": {
     "end_time": "2018-03-30T18:50:18.210886Z",
     "start_time": "2018-03-30T18:50:18.187469Z"
    },
    "_cell_guid": "238b6495-7fee-455c-abec-39731aaccf25",
    "_uuid": "19b99b0afabe18fca68e276e008309a3b34b4d04"
   },
   "outputs": [
    {
     "data": {
      "text/html": [
       "<div>\n",
       "<style scoped>\n",
       "    .dataframe tbody tr th:only-of-type {\n",
       "        vertical-align: middle;\n",
       "    }\n",
       "\n",
       "    .dataframe tbody tr th {\n",
       "        vertical-align: top;\n",
       "    }\n",
       "\n",
       "    .dataframe thead th {\n",
       "        text-align: right;\n",
       "    }\n",
       "</style>\n",
       "<table border=\"1\" class=\"dataframe\">\n",
       "  <thead>\n",
       "    <tr style=\"text-align: right;\">\n",
       "      <th></th>\n",
       "      <th>unique</th>\n",
       "      <th>have_top_10</th>\n",
       "      <th>absolutely_unique_count</th>\n",
       "      <th>have_absolutely_unique</th>\n",
       "      <th>time_diff1</th>\n",
       "      <th>time_diff2</th>\n",
       "      <th>time_diff3</th>\n",
       "      <th>time_diff4</th>\n",
       "      <th>time_diff5</th>\n",
       "      <th>time_diff6</th>\n",
       "      <th>time_diff7</th>\n",
       "      <th>time_diff8</th>\n",
       "      <th>time_diff9</th>\n",
       "      <th>total_time</th>\n",
       "      <th>start_hour</th>\n",
       "      <th>holiday</th>\n",
       "      <th>day_of_week</th>\n",
       "    </tr>\n",
       "    <tr>\n",
       "      <th>session_id</th>\n",
       "      <th></th>\n",
       "      <th></th>\n",
       "      <th></th>\n",
       "      <th></th>\n",
       "      <th></th>\n",
       "      <th></th>\n",
       "      <th></th>\n",
       "      <th></th>\n",
       "      <th></th>\n",
       "      <th></th>\n",
       "      <th></th>\n",
       "      <th></th>\n",
       "      <th></th>\n",
       "      <th></th>\n",
       "      <th></th>\n",
       "      <th></th>\n",
       "      <th></th>\n",
       "    </tr>\n",
       "  </thead>\n",
       "  <tbody>\n",
       "    <tr>\n",
       "      <th>21669</th>\n",
       "      <td>2</td>\n",
       "      <td>0</td>\n",
       "      <td>0</td>\n",
       "      <td>0</td>\n",
       "      <td>0.000000</td>\n",
       "      <td>0.000000</td>\n",
       "      <td>0.000000</td>\n",
       "      <td>0.000000</td>\n",
       "      <td>0.0</td>\n",
       "      <td>0.000000</td>\n",
       "      <td>0.000000</td>\n",
       "      <td>0.000000</td>\n",
       "      <td>0.000000</td>\n",
       "      <td>0.000000</td>\n",
       "      <td>8</td>\n",
       "      <td>1</td>\n",
       "      <td>5</td>\n",
       "    </tr>\n",
       "    <tr>\n",
       "      <th>54843</th>\n",
       "      <td>2</td>\n",
       "      <td>0</td>\n",
       "      <td>0</td>\n",
       "      <td>0</td>\n",
       "      <td>0.000000</td>\n",
       "      <td>7.487174</td>\n",
       "      <td>1.098612</td>\n",
       "      <td>0.000000</td>\n",
       "      <td>0.0</td>\n",
       "      <td>0.000000</td>\n",
       "      <td>0.000000</td>\n",
       "      <td>0.000000</td>\n",
       "      <td>0.000000</td>\n",
       "      <td>7.488294</td>\n",
       "      <td>8</td>\n",
       "      <td>1</td>\n",
       "      <td>5</td>\n",
       "    </tr>\n",
       "    <tr>\n",
       "      <th>77292</th>\n",
       "      <td>6</td>\n",
       "      <td>0</td>\n",
       "      <td>0</td>\n",
       "      <td>0</td>\n",
       "      <td>0.693147</td>\n",
       "      <td>0.693147</td>\n",
       "      <td>0.000000</td>\n",
       "      <td>0.693147</td>\n",
       "      <td>0.0</td>\n",
       "      <td>0.000000</td>\n",
       "      <td>0.000000</td>\n",
       "      <td>0.693147</td>\n",
       "      <td>0.000000</td>\n",
       "      <td>1.609438</td>\n",
       "      <td>8</td>\n",
       "      <td>1</td>\n",
       "      <td>5</td>\n",
       "    </tr>\n",
       "    <tr>\n",
       "      <th>114021</th>\n",
       "      <td>5</td>\n",
       "      <td>0</td>\n",
       "      <td>0</td>\n",
       "      <td>0</td>\n",
       "      <td>0.000000</td>\n",
       "      <td>0.693147</td>\n",
       "      <td>0.000000</td>\n",
       "      <td>0.000000</td>\n",
       "      <td>0.0</td>\n",
       "      <td>0.693147</td>\n",
       "      <td>0.000000</td>\n",
       "      <td>0.000000</td>\n",
       "      <td>0.693147</td>\n",
       "      <td>1.386294</td>\n",
       "      <td>8</td>\n",
       "      <td>1</td>\n",
       "      <td>5</td>\n",
       "    </tr>\n",
       "    <tr>\n",
       "      <th>146670</th>\n",
       "      <td>6</td>\n",
       "      <td>0</td>\n",
       "      <td>0</td>\n",
       "      <td>0</td>\n",
       "      <td>0.000000</td>\n",
       "      <td>0.000000</td>\n",
       "      <td>0.693147</td>\n",
       "      <td>0.000000</td>\n",
       "      <td>0.0</td>\n",
       "      <td>0.000000</td>\n",
       "      <td>0.693147</td>\n",
       "      <td>0.000000</td>\n",
       "      <td>0.000000</td>\n",
       "      <td>1.098612</td>\n",
       "      <td>8</td>\n",
       "      <td>1</td>\n",
       "      <td>5</td>\n",
       "    </tr>\n",
       "  </tbody>\n",
       "</table>\n",
       "</div>"
      ],
      "text/plain": [
       "            unique  have_top_10  absolutely_unique_count  \\\n",
       "session_id                                                 \n",
       "21669            2            0                        0   \n",
       "54843            2            0                        0   \n",
       "77292            6            0                        0   \n",
       "114021           5            0                        0   \n",
       "146670           6            0                        0   \n",
       "\n",
       "            have_absolutely_unique  time_diff1  time_diff2  time_diff3  \\\n",
       "session_id                                                               \n",
       "21669                            0    0.000000    0.000000    0.000000   \n",
       "54843                            0    0.000000    7.487174    1.098612   \n",
       "77292                            0    0.693147    0.693147    0.000000   \n",
       "114021                           0    0.000000    0.693147    0.000000   \n",
       "146670                           0    0.000000    0.000000    0.693147   \n",
       "\n",
       "            time_diff4  time_diff5  time_diff6  time_diff7  time_diff8  \\\n",
       "session_id                                                               \n",
       "21669         0.000000         0.0    0.000000    0.000000    0.000000   \n",
       "54843         0.000000         0.0    0.000000    0.000000    0.000000   \n",
       "77292         0.693147         0.0    0.000000    0.000000    0.693147   \n",
       "114021        0.000000         0.0    0.693147    0.000000    0.000000   \n",
       "146670        0.000000         0.0    0.000000    0.693147    0.000000   \n",
       "\n",
       "            time_diff9  total_time  start_hour  holiday  day_of_week  \n",
       "session_id                                                            \n",
       "21669         0.000000    0.000000           8        1            5  \n",
       "54843         0.000000    7.488294           8        1            5  \n",
       "77292         0.000000    1.609438           8        1            5  \n",
       "114021        0.693147    1.386294           8        1            5  \n",
       "146670        0.000000    1.098612           8        1            5  "
      ]
     },
     "execution_count": 37,
     "metadata": {},
     "output_type": "execute_result"
    }
   ],
   "source": [
    "additional_data_df.head(5)"
   ]
  },
  {
   "cell_type": "code",
   "execution_count": 38,
   "metadata": {
    "ExecuteTime": {
     "end_time": "2018-03-30T18:50:18.3709Z",
     "start_time": "2018-03-30T18:50:18.210886Z"
    },
    "_cell_guid": "6b72c67d-dbe0-442d-83b1-95ffec9ffe36",
    "_uuid": "dafe7f340811298f4b6272d9581d4f2aa07efdbf"
   },
   "outputs": [],
   "source": [
    "add_data_train = additional_data_df[: idx_split ].copy() \n",
    "add_data_test  = additional_data_df[ idx_split :]"
   ]
  },
  {
   "cell_type": "markdown",
   "metadata": {
    "_cell_guid": "865e38d2-f8d2-4f04-b1c3-87ac06ae18d2",
    "_uuid": "ad5ac92c74b6e69bf209bc0bfa95514722cd50a2"
   },
   "source": [
    "### Analysis of training and test samples "
   ]
  },
  {
   "cell_type": "code",
   "execution_count": 39,
   "metadata": {
    "ExecuteTime": {
     "end_time": "2018-03-30T18:50:18.423616Z",
     "start_time": "2018-03-30T18:50:18.371553Z"
    },
    "_cell_guid": "d5469528-a6d9-470a-9cf3-8f5e88143e4b",
    "_uuid": "e84d5d7ff2a17cef84825e41f4ac86750cb03c67"
   },
   "outputs": [],
   "source": [
    "add_data_train.loc[:, 'target' ]= y_train"
   ]
  },
  {
   "cell_type": "markdown",
   "metadata": {
    "_cell_guid": "c2330d75-a81d-4ebd-9f0c-4db8eec34ace",
    "_uuid": "3ceae66e1b68f012a518e1c9e181a53c27534a7e"
   },
   "source": [
    "**Let's see what signs we have**"
   ]
  },
  {
   "cell_type": "code",
   "execution_count": 40,
   "metadata": {
    "ExecuteTime": {
     "end_time": "2018-03-30T18:50:18.47304Z",
     "start_time": "2018-03-30T18:50:18.42408Z"
    },
    "_cell_guid": "2d092beb-201c-456b-bd3e-63fe58cbd5a2",
    "_uuid": "3aff4c7a0ae1111c4a83e63df0c324e21a3ce656",
    "scrolled": true
   },
   "outputs": [
    {
     "data": {
      "text/html": [
       "<div>\n",
       "<style scoped>\n",
       "    .dataframe tbody tr th:only-of-type {\n",
       "        vertical-align: middle;\n",
       "    }\n",
       "\n",
       "    .dataframe tbody tr th {\n",
       "        vertical-align: top;\n",
       "    }\n",
       "\n",
       "    .dataframe thead th {\n",
       "        text-align: right;\n",
       "    }\n",
       "</style>\n",
       "<table border=\"1\" class=\"dataframe\">\n",
       "  <thead>\n",
       "    <tr style=\"text-align: right;\">\n",
       "      <th></th>\n",
       "      <th>Column_name</th>\n",
       "      <th>Column_type</th>\n",
       "    </tr>\n",
       "  </thead>\n",
       "  <tbody>\n",
       "    <tr>\n",
       "      <th>0</th>\n",
       "      <td>unique</td>\n",
       "      <td>int64</td>\n",
       "    </tr>\n",
       "    <tr>\n",
       "      <th>1</th>\n",
       "      <td>have_top_10</td>\n",
       "      <td>int64</td>\n",
       "    </tr>\n",
       "    <tr>\n",
       "      <th>2</th>\n",
       "      <td>absolutely_unique_count</td>\n",
       "      <td>int64</td>\n",
       "    </tr>\n",
       "    <tr>\n",
       "      <th>3</th>\n",
       "      <td>have_absolutely_unique</td>\n",
       "      <td>int64</td>\n",
       "    </tr>\n",
       "    <tr>\n",
       "      <th>4</th>\n",
       "      <td>time_diff1</td>\n",
       "      <td>float64</td>\n",
       "    </tr>\n",
       "    <tr>\n",
       "      <th>5</th>\n",
       "      <td>time_diff2</td>\n",
       "      <td>float64</td>\n",
       "    </tr>\n",
       "    <tr>\n",
       "      <th>6</th>\n",
       "      <td>time_diff3</td>\n",
       "      <td>float64</td>\n",
       "    </tr>\n",
       "    <tr>\n",
       "      <th>7</th>\n",
       "      <td>time_diff4</td>\n",
       "      <td>float64</td>\n",
       "    </tr>\n",
       "    <tr>\n",
       "      <th>8</th>\n",
       "      <td>time_diff5</td>\n",
       "      <td>float64</td>\n",
       "    </tr>\n",
       "    <tr>\n",
       "      <th>9</th>\n",
       "      <td>time_diff6</td>\n",
       "      <td>float64</td>\n",
       "    </tr>\n",
       "    <tr>\n",
       "      <th>10</th>\n",
       "      <td>time_diff7</td>\n",
       "      <td>float64</td>\n",
       "    </tr>\n",
       "    <tr>\n",
       "      <th>11</th>\n",
       "      <td>time_diff8</td>\n",
       "      <td>float64</td>\n",
       "    </tr>\n",
       "    <tr>\n",
       "      <th>12</th>\n",
       "      <td>time_diff9</td>\n",
       "      <td>float64</td>\n",
       "    </tr>\n",
       "    <tr>\n",
       "      <th>13</th>\n",
       "      <td>total_time</td>\n",
       "      <td>float64</td>\n",
       "    </tr>\n",
       "    <tr>\n",
       "      <th>14</th>\n",
       "      <td>start_hour</td>\n",
       "      <td>int64</td>\n",
       "    </tr>\n",
       "    <tr>\n",
       "      <th>15</th>\n",
       "      <td>holiday</td>\n",
       "      <td>int64</td>\n",
       "    </tr>\n",
       "    <tr>\n",
       "      <th>16</th>\n",
       "      <td>day_of_week</td>\n",
       "      <td>int64</td>\n",
       "    </tr>\n",
       "    <tr>\n",
       "      <th>17</th>\n",
       "      <td>target</td>\n",
       "      <td>int64</td>\n",
       "    </tr>\n",
       "  </tbody>\n",
       "</table>\n",
       "</div>"
      ],
      "text/plain": [
       "                Column_name Column_type\n",
       "0                    unique       int64\n",
       "1               have_top_10       int64\n",
       "2   absolutely_unique_count       int64\n",
       "3    have_absolutely_unique       int64\n",
       "4                time_diff1     float64\n",
       "5                time_diff2     float64\n",
       "6                time_diff3     float64\n",
       "7                time_diff4     float64\n",
       "8                time_diff5     float64\n",
       "9                time_diff6     float64\n",
       "10               time_diff7     float64\n",
       "11               time_diff8     float64\n",
       "12               time_diff9     float64\n",
       "13               total_time     float64\n",
       "14               start_hour       int64\n",
       "15                  holiday       int64\n",
       "16              day_of_week       int64\n",
       "17                   target       int64"
      ]
     },
     "execution_count": 40,
     "metadata": {},
     "output_type": "execute_result"
    }
   ],
   "source": [
    "dtype_df = add_data_train.dtypes.reset_index() \n",
    "dtype_df.columns = ['Column_name','Column_type'] \n",
    "dtype_df"
   ]
  },
  {
   "cell_type": "code",
   "execution_count": 41,
   "metadata": {
    "ExecuteTime": {
     "end_time": "2018-03-29T04:10:43.110884Z",
     "start_time": "2018-03-29T04:10:42.918824Z"
    },
    "_cell_guid": "497f9cf2-15f6-45a4-b3a6-a32c867a4158",
    "_uuid": "9ea68da42de558bda748c6e0728871a7ee2a13c3"
   },
   "outputs": [
    {
     "name": "stderr",
     "output_type": "stream",
     "text": [
      "No handles with labels found to put in legend.\n"
     ]
    },
    {
     "name": "stdout",
     "output_type": "stream",
     "text": [
      "0    251264\n",
      "1      2297\n",
      "Name: target, dtype: int64\n"
     ]
    },
    {
     "data": {
      "image/png": "[encoded data removed]",
      "text/plain": [
       "<Figure size 432x288 with 1 Axes>"
      ]
     },
     "metadata": {},
     "output_type": "display_data"
    }
   ],
   "source": [
    "sns.countplot(add_data_train['target']) ;plt.legend();\n",
    "print(add_data_train['target'].value_counts())"
   ]
  },
  {
   "cell_type": "markdown",
   "metadata": {
    "_cell_guid": "c1e6ff3e-ea65-4551-8a6d-aa2cb82da94c",
    "_uuid": "2db4b06ce813a2e9b370eb70d7315d8cce373ec6"
   },
   "source": [
    "**All characteristics are of type int, but they can be divided into two groups-**\n",
    "- **categorical **\n",
    "\n",
    "- ** quantitative.**"
   ]
  },
  {
   "cell_type": "code",
   "execution_count": 42,
   "metadata": {
    "_cell_guid": "ab1cbfb0-2528-4ed5-80bd-f053146d14a4",
    "_uuid": "67c44ae8555420d34cb2921431d86febbb5675ae"
   },
   "outputs": [
    {
     "name": "stdout",
     "output_type": "stream",
     "text": [
      "0    251264\n",
      "1      2297\n",
      "Name: target, dtype: int64\n"
     ]
    },
    {
     "data": {
      "image/png": "[encoded data removed]",
      "text/plain": [
       "<Figure size 648x504 with 1 Axes>"
      ]
     },
     "metadata": {},
     "output_type": "display_data"
    }
   ],
   "source": [
    "plt.figure(figsize=(9,7))\n",
    "add_data_train['target'].value_counts().plot(kind = 'bar', label = 'Intruder')\n",
    "plt.legend()\n",
    "print(add_data_train['target'].value_counts())"
   ]
  },
  {
   "cell_type": "markdown",
   "metadata": {
    "_cell_guid": "5c0e75fb-2972-49ef-beeb-2aa6c8a51b5b",
    "_uuid": "659758908dca414fff678bee28411100f89093b7"
   },
   "source": [
    "**As you can see, we have two unbalanced classes**"
   ]
  },
  {
   "cell_type": "markdown",
   "metadata": {
    "_cell_guid": "0b69dc60-a0e5-47a6-a885-1dd3d58a03d4",
    "_uuid": "4a27b139b72a5da720f14cd30b2d840170ce49df"
   },
   "source": [
    "**Let's look at the correlation table of the dataset**"
   ]
  },
  {
   "cell_type": "code",
   "execution_count": 43,
   "metadata": {
    "ExecuteTime": {
     "end_time": "2018-03-29T04:10:44.270139Z",
     "start_time": "2018-03-29T04:10:43.110884Z"
    },
    "_cell_guid": "341a3019-2b88-4bfa-b3b5-5b5d459db5f6",
    "_uuid": "cf2cd4bccd454f6b6dfc2a2bb43d26a6cff6a150"
   },
   "outputs": [
    {
     "data": {
      "image/png": "[encoded data removed]",
      "text/plain": [
       "<Figure size 1152x792 with 2 Axes>"
      ]
     },
     "metadata": {},
     "output_type": "display_data"
    }
   ],
   "source": [
    "corr = add_data_train.corr('spearman') \n",
    "plt.figure(figsize = ( 16 , 11 )) \n",
    "sns.heatmap(corr,annot=True,fmt='.2f',cmap=\"YlGnBu\");"
   ]
  },
  {
   "cell_type": "markdown",
   "metadata": {
    "_cell_guid": "47355c48-8b19-4845-8954-85490cf4e44b",
    "_uuid": "0852c9447ff5f621e9ef980b4519ff9ed6beae63"
   },
   "source": [
    "**Let's look at the distribution of some features**"
   ]
  },
  {
   "cell_type": "code",
   "execution_count": 44,
   "metadata": {
    "ExecuteTime": {
     "end_time": "2018-03-29T04:10:45.441274Z",
     "start_time": "2018-03-29T04:10:44.270139Z"
    },
    "_cell_guid": "5f4c3b3a-2dc6-47bb-9aa9-adcfcaa1a092",
    "_uuid": "321520a1a66401dd14237dee4cb7ff6fc86262e9",
    "scrolled": false
   },
   "outputs": [
    {
     "data": {
      "image/png": "[encoded data removed]",
      "text/plain": [
       "<Figure size 1080x432 with 2 Axes>"
      ]
     },
     "metadata": {},
     "output_type": "display_data"
    },
    {
     "data": {
      "image/png": "[encoded data removed]",
      "text/plain": [
       "<Figure size 1080x432 with 2 Axes>"
      ]
     },
     "metadata": {},
     "output_type": "display_data"
    },
    {
     "data": {
      "image/png": "[encoded data removed]",
      "text/plain": [
       "<Figure size 1080x432 with 2 Axes>"
      ]
     },
     "metadata": {},
     "output_type": "display_data"
    },
    {
     "data": {
      "image/png": "[encoded data removed]",
      "text/plain": [
       "<Figure size 1080x432 with 2 Axes>"
      ]
     },
     "metadata": {},
     "output_type": "display_data"
    }
   ],
   "source": [
    "feature_list = ['unique','absolutely_unique_count','start_hour','day_of_week'] \n",
    "for  column_name in feature_list: \n",
    "    fig , (ax1,ax2) = plt.subplots(1,2,figsize = ( 15 , 6 )) \n",
    "    fig.suptitle(column_name,fontsize=16) \n",
    "    sns.countplot(add_data_train[column_name],ax=ax1) \n",
    "    ax1.set_title(\"Train distribution\") \n",
    "    for tick in ax1.get_xticklabels(): \n",
    "        tick.set_rotation(45)\n",
    "    sns.countplot(add_data_test[column_name],ax=ax2) \n",
    "    ax2.set_title(\"Test distribution\") \n",
    "    for tick in ax2.get_xticklabels(): \n",
    "        tick.set_rotation(45)"
   ]
  },
  {
   "cell_type": "markdown",
   "metadata": {
    "_cell_guid": "c05e5158-eed7-4fe3-a988-b343064e6e3e",
    "_uuid": "bb0d12f119fe25dfe21523577e474d374982c322"
   },
   "source": [
    "- As you can see, all the attributes are distributed approximately equally in the training and test sample. \n",
    "\n",
    "- The start_hour attribute is distributed from 7 to 23 hours, and not from 0 to 23 hours, as expected.\n",
    "\n",
    "- We will analyze the effect of the characteristics on the target variable"
   ]
  },
  {
   "cell_type": "code",
   "execution_count": 45,
   "metadata": {
    "ExecuteTime": {
     "end_time": "2018-03-29T04:10:45.457274Z",
     "start_time": "2018-03-29T04:10:45.441274Z"
    },
    "_cell_guid": "59950326-fa93-4e75-92b4-a243d0c8bf02",
    "_uuid": "69311733d1739f0212d5b631cddfd80dbd831fca"
   },
   "outputs": [],
   "source": [
    "def get_target_dist( column_name ): \n",
    "    fig , (ax1,ax2) = plt.subplots(1,2,figsize = (15,6)) \n",
    "    fig.suptitle(column_name,fontsize=16) \n",
    "    sns.countplot(add_data_train[add_data_train['target'] == 1][column_name],ax=ax1) \n",
    "    ax1.set_title(\"Intruder count (target: 1)\") \n",
    "    for tick in ax1.get_xticklabels(): \n",
    "        tick.set_rotation(45)\n",
    "    sns.barplot(x=column_name,y=\"target\",data=add_data_train,ax=ax2) \n",
    "    ax2.set_title(\"Intruder proportion (target: 1)\") \n",
    "    for tick in ax2.get_xticklabels(): \n",
    "        tick.set_rotation(45)"
   ]
  },
  {
   "cell_type": "code",
   "execution_count": 46,
   "metadata": {
    "ExecuteTime": {
     "end_time": "2018-03-29T04:10:49.472264Z",
     "start_time": "2018-03-29T04:10:45.457274Z"
    },
    "_cell_guid": "281a1cb7-94bd-47e9-b754-27f33219be7f",
    "_uuid": "bdd0d497d29e56f0f516824a1c36ee06148a4fea"
   },
   "outputs": [
    {
     "data": {
      "image/png": "[encoded data removed]",
      "text/plain": [
       "<Figure size 1080x432 with 2 Axes>"
      ]
     },
     "metadata": {},
     "output_type": "display_data"
    }
   ],
   "source": [
    "get_target_dist('start_hour')"
   ]
  },
  {
   "cell_type": "markdown",
   "metadata": {
    "_cell_guid": "a4274e5b-87ef-4b64-93a5-f794ed51e964",
    "_uuid": "53aa6432a5e55ac9865e3cd4e43428af9977d76c"
   },
   "source": [
    "Frauds were recorded between 9 and 18 hours, with the period from 16 to 18 hours most saturated with suspicious activity. On the basis of this, we will distinguish 3 features:\n",
    "\n",
    "- morning: 7 - 11\n",
    "- midday: 12 - 15\n",
    "- evening: 16 - 20"
   ]
  },
  {
   "cell_type": "code",
   "execution_count": 47,
   "metadata": {
    "ExecuteTime": {
     "end_time": "2018-03-29T04:10:50.256641Z",
     "start_time": "2018-03-29T04:10:49.472264Z"
    },
    "_cell_guid": "369a8ba3-947f-4a6f-b7ce-aef30a04ea17",
    "_uuid": "eb091123b14494916d3d94ac6e902ce07bd1dc86"
   },
   "outputs": [],
   "source": [
    "add_data_train ['morning']  = add_data_train['start_hour'].apply(lambda hour:int(hour >= 7 and hour <= 11 )) \n",
    "add_data_train ['midday']   = add_data_train['start_hour'].apply(lambda hour:int(hour >= 12 and hour <= 18)) \n",
    "add_data_train ['evening']  = add_data_train['start_hour'].apply(lambda hour:int(hour >= 19 and hour <= 23))\n",
    "add_data_train ['night']    = add_data_train['start_hour'].apply(lambda hour:int(hour >= 0 and hour <= 6))\n",
    "\n",
    "add_data_test ['morning']  = add_data_test['start_hour'].apply(lambda hour:int(hour >= 7 and hour <= 11 )) \n",
    "add_data_test ['midday']   = add_data_test['start_hour'].apply(lambda hour:int(hour >= 12 and hour <= 18)) \n",
    "add_data_test ['evening']  = add_data_test['start_hour'].apply(lambda hour:int(hour >= 19 and hour <= 23))\n",
    "add_data_test ['night']    = add_data_test['start_hour'].apply(lambda hour:int(hour >= 0 and hour <= 6))"
   ]
  },
  {
   "cell_type": "code",
   "execution_count": 48,
   "metadata": {
    "_cell_guid": "910a653f-10b2-4417-889b-49db55a87485",
    "_uuid": "12198125c5421c6ff84979193e3972470e515c73"
   },
   "outputs": [
    {
     "data": {
      "image/png": "[encoded data removed]",
      "text/plain": [
       "<Figure size 1080x432 with 2 Axes>"
      ]
     },
     "metadata": {},
     "output_type": "display_data"
    }
   ],
   "source": [
    "get_target_dist('unique')"
   ]
  },
  {
   "cell_type": "code",
   "execution_count": 49,
   "metadata": {
    "_cell_guid": "5cf95d49-c1f4-4e1a-a6f4-c0fe83b569c4",
    "_uuid": "624b8f7db1bc960f7ac961c9a6841fefa302a5a0"
   },
   "outputs": [
    {
     "data": {
      "image/png": "[encoded data removed]",
      "text/plain": [
       "<Figure size 1080x432 with 2 Axes>"
      ]
     },
     "metadata": {},
     "output_type": "display_data"
    }
   ],
   "source": [
    "get_target_dist('day_of_week')"
   ]
  },
  {
   "cell_type": "markdown",
   "metadata": {
    "_cell_guid": "ce991072-fd5e-4858-8eb3-578e12c8e460",
    "_uuid": "4ef6eebcc7529b998472b9912e6461e66c680208"
   },
   "source": [
    "**The least suspicious activity was on Wednesdays, Saturdays and Sundays. But on Mondays(0), on the contrary, more than on other days.**"
   ]
  },
  {
   "cell_type": "code",
   "execution_count": 50,
   "metadata": {
    "_cell_guid": "a11426b4-5f9c-40fb-81fd-2f7cfad04456",
    "_uuid": "f9310bd7cf15c90f2a8f61feb4ca8192888a11e3"
   },
   "outputs": [
    {
     "data": {
      "image/png": "[encoded data removed]",
      "text/plain": [
       "<Figure size 1080x432 with 2 Axes>"
      ]
     },
     "metadata": {},
     "output_type": "display_data"
    }
   ],
   "source": [
    "get_target_dist('absolutely_unique_count')"
   ]
  },
  {
   "cell_type": "code",
   "execution_count": 51,
   "metadata": {
    "_cell_guid": "de199575-2832-4252-ae5e-5ef114ed2cd5",
    "_uuid": "462af94b766f58ece2569e82577ca633b38e4d95"
   },
   "outputs": [
    {
     "data": {
      "image/png": "[encoded data removed]",
      "text/plain": [
       "<Figure size 504x360 with 1 Axes>"
      ]
     },
     "metadata": {},
     "output_type": "display_data"
    },
    {
     "data": {
      "image/png": "[encoded data removed]",
      "text/plain": [
       "<Figure size 504x360 with 1 Axes>"
      ]
     },
     "metadata": {},
     "output_type": "display_data"
    }
   ],
   "source": [
    "feature_list = ['have_top_10', 'have_absolutely_unique']\n",
    "for column_name in feature_list:\n",
    "    plt.figure(figsize=(7, 5))\n",
    "    ax = sns.barplot(x=column_name, y=\"target\", data=add_data_train)\n",
    "    ax.set(ylabel='Target 1 proportion')\n",
    "    plt.title(column_name)\n",
    "    plt.show()"
   ]
  },
  {
   "cell_type": "code",
   "execution_count": 52,
   "metadata": {
    "_cell_guid": "b48257df-f907-4b6d-88dc-7a70c9649e0b",
    "_uuid": "d3ee1e3327bb44416fb11b8c2c05bf06206716fb"
   },
   "outputs": [
    {
     "data": {
      "image/png": "[encoded data removed]",
      "text/plain": [
       "<Figure size 432x288 with 1 Axes>"
      ]
     },
     "metadata": {},
     "output_type": "display_data"
    }
   ],
   "source": [
    "ax = sns.boxplot(x = 'target', y = 'total_time', data = add_data_train)"
   ]
  },
  {
   "cell_type": "markdown",
   "metadata": {
    "_cell_guid": "ef14d282-3f03-4328-97d0-e9085dd56d85",
    "_uuid": "5a0bc33430b0b225978429790685b7f84e3ed76a"
   },
   "source": [
    "The duration of sessions with suspicious activity is on average less than that of the usual ones.\n",
    "\n",
    "**General observations:**\n",
    "\n",
    "- Most often, suspicious activity was seen between 16 and 18 hours\n",
    "- Also on Mondays, suspicious activity occurs most often\n",
    "- On average, the duration of sessions with suspicious activity is less than that of conventional\n",
    "- Suspicious sessions are less common absolutely unique sites (sites that occur only once in the history of visiting sites)"
   ]
  },
  {
   "cell_type": "markdown",
   "metadata": {
    "_cell_guid": "09943153-2493-40bf-8074-e081e14eeaab",
    "_uuid": "71ffbefa341e97a1784829b809876f2250dec2de"
   },
   "source": [
    " Adding Cyclic Co-ordinates"
   ]
  },
  {
   "cell_type": "code",
   "execution_count": 53,
   "metadata": {
    "ExecuteTime": {
     "end_time": "2018-03-29T04:10:51.319104Z",
     "start_time": "2018-03-29T04:10:50.256641Z"
    },
    "_cell_guid": "df4153a7-ea91-45a1-9d2f-9da5c43bc45c",
    "_uuid": "7518ab76c771988a50788eff1207d5f881e4d222"
   },
   "outputs": [],
   "source": [
    "pi = np.pi\n",
    "add_data_train['hour_sin_x'] = add_data_train['start_hour'].apply(lambda ts: np.sin(2*pi*ts/24.))\n",
    "add_data_train['hour_cos_x'] = add_data_train['start_hour'].apply(lambda ts: np.cos(2*pi*ts/24.))\n",
    "\n",
    "add_data_test['hour_sin_x'] = add_data_test['start_hour'].apply(lambda ts: np.sin(2*pi*ts/24.))\n",
    "add_data_test['hour_cos_x'] = add_data_test['start_hour'].apply(lambda ts: np.cos(2*pi*ts/24.))"
   ]
  },
  {
   "cell_type": "code",
   "execution_count": 54,
   "metadata": {},
   "outputs": [
    {
     "data": {
      "text/html": [
       "<div>\n",
       "<style scoped>\n",
       "    .dataframe tbody tr th:only-of-type {\n",
       "        vertical-align: middle;\n",
       "    }\n",
       "\n",
       "    .dataframe tbody tr th {\n",
       "        vertical-align: top;\n",
       "    }\n",
       "\n",
       "    .dataframe thead th {\n",
       "        text-align: right;\n",
       "    }\n",
       "</style>\n",
       "<table border=\"1\" class=\"dataframe\">\n",
       "  <thead>\n",
       "    <tr style=\"text-align: right;\">\n",
       "      <th></th>\n",
       "      <th>unique</th>\n",
       "      <th>have_top_10</th>\n",
       "      <th>absolutely_unique_count</th>\n",
       "      <th>have_absolutely_unique</th>\n",
       "      <th>time_diff1</th>\n",
       "      <th>time_diff2</th>\n",
       "      <th>time_diff3</th>\n",
       "      <th>time_diff4</th>\n",
       "      <th>time_diff5</th>\n",
       "      <th>time_diff6</th>\n",
       "      <th>...</th>\n",
       "      <th>start_hour</th>\n",
       "      <th>holiday</th>\n",
       "      <th>day_of_week</th>\n",
       "      <th>target</th>\n",
       "      <th>morning</th>\n",
       "      <th>midday</th>\n",
       "      <th>evening</th>\n",
       "      <th>night</th>\n",
       "      <th>hour_sin_x</th>\n",
       "      <th>hour_cos_x</th>\n",
       "    </tr>\n",
       "    <tr>\n",
       "      <th>session_id</th>\n",
       "      <th></th>\n",
       "      <th></th>\n",
       "      <th></th>\n",
       "      <th></th>\n",
       "      <th></th>\n",
       "      <th></th>\n",
       "      <th></th>\n",
       "      <th></th>\n",
       "      <th></th>\n",
       "      <th></th>\n",
       "      <th></th>\n",
       "      <th></th>\n",
       "      <th></th>\n",
       "      <th></th>\n",
       "      <th></th>\n",
       "      <th></th>\n",
       "      <th></th>\n",
       "      <th></th>\n",
       "      <th></th>\n",
       "      <th></th>\n",
       "      <th></th>\n",
       "    </tr>\n",
       "  </thead>\n",
       "  <tbody>\n",
       "    <tr>\n",
       "      <th>21669</th>\n",
       "      <td>2</td>\n",
       "      <td>0</td>\n",
       "      <td>0</td>\n",
       "      <td>0</td>\n",
       "      <td>0.000000</td>\n",
       "      <td>0.000000</td>\n",
       "      <td>0.000000</td>\n",
       "      <td>0.000000</td>\n",
       "      <td>0.000000</td>\n",
       "      <td>0.000000</td>\n",
       "      <td>...</td>\n",
       "      <td>8</td>\n",
       "      <td>1</td>\n",
       "      <td>5</td>\n",
       "      <td>0</td>\n",
       "      <td>1</td>\n",
       "      <td>0</td>\n",
       "      <td>0</td>\n",
       "      <td>0</td>\n",
       "      <td>0.866025</td>\n",
       "      <td>-0.500000</td>\n",
       "    </tr>\n",
       "    <tr>\n",
       "      <th>54843</th>\n",
       "      <td>2</td>\n",
       "      <td>0</td>\n",
       "      <td>0</td>\n",
       "      <td>0</td>\n",
       "      <td>0.000000</td>\n",
       "      <td>7.487174</td>\n",
       "      <td>1.098612</td>\n",
       "      <td>0.000000</td>\n",
       "      <td>0.000000</td>\n",
       "      <td>0.000000</td>\n",
       "      <td>...</td>\n",
       "      <td>8</td>\n",
       "      <td>1</td>\n",
       "      <td>5</td>\n",
       "      <td>0</td>\n",
       "      <td>1</td>\n",
       "      <td>0</td>\n",
       "      <td>0</td>\n",
       "      <td>0</td>\n",
       "      <td>0.866025</td>\n",
       "      <td>-0.500000</td>\n",
       "    </tr>\n",
       "    <tr>\n",
       "      <th>77292</th>\n",
       "      <td>6</td>\n",
       "      <td>0</td>\n",
       "      <td>0</td>\n",
       "      <td>0</td>\n",
       "      <td>0.693147</td>\n",
       "      <td>0.693147</td>\n",
       "      <td>0.000000</td>\n",
       "      <td>0.693147</td>\n",
       "      <td>0.000000</td>\n",
       "      <td>0.000000</td>\n",
       "      <td>...</td>\n",
       "      <td>8</td>\n",
       "      <td>1</td>\n",
       "      <td>5</td>\n",
       "      <td>0</td>\n",
       "      <td>1</td>\n",
       "      <td>0</td>\n",
       "      <td>0</td>\n",
       "      <td>0</td>\n",
       "      <td>0.866025</td>\n",
       "      <td>-0.500000</td>\n",
       "    </tr>\n",
       "    <tr>\n",
       "      <th>114021</th>\n",
       "      <td>5</td>\n",
       "      <td>0</td>\n",
       "      <td>0</td>\n",
       "      <td>0</td>\n",
       "      <td>0.000000</td>\n",
       "      <td>0.693147</td>\n",
       "      <td>0.000000</td>\n",
       "      <td>0.000000</td>\n",
       "      <td>0.000000</td>\n",
       "      <td>0.693147</td>\n",
       "      <td>...</td>\n",
       "      <td>8</td>\n",
       "      <td>1</td>\n",
       "      <td>5</td>\n",
       "      <td>0</td>\n",
       "      <td>1</td>\n",
       "      <td>0</td>\n",
       "      <td>0</td>\n",
       "      <td>0</td>\n",
       "      <td>0.866025</td>\n",
       "      <td>-0.500000</td>\n",
       "    </tr>\n",
       "    <tr>\n",
       "      <th>146670</th>\n",
       "      <td>6</td>\n",
       "      <td>0</td>\n",
       "      <td>0</td>\n",
       "      <td>0</td>\n",
       "      <td>0.000000</td>\n",
       "      <td>0.000000</td>\n",
       "      <td>0.693147</td>\n",
       "      <td>0.000000</td>\n",
       "      <td>0.000000</td>\n",
       "      <td>0.000000</td>\n",
       "      <td>...</td>\n",
       "      <td>8</td>\n",
       "      <td>1</td>\n",
       "      <td>5</td>\n",
       "      <td>0</td>\n",
       "      <td>1</td>\n",
       "      <td>0</td>\n",
       "      <td>0</td>\n",
       "      <td>0</td>\n",
       "      <td>0.866025</td>\n",
       "      <td>-0.500000</td>\n",
       "    </tr>\n",
       "    <tr>\n",
       "      <th>...</th>\n",
       "      <td>...</td>\n",
       "      <td>...</td>\n",
       "      <td>...</td>\n",
       "      <td>...</td>\n",
       "      <td>...</td>\n",
       "      <td>...</td>\n",
       "      <td>...</td>\n",
       "      <td>...</td>\n",
       "      <td>...</td>\n",
       "      <td>...</td>\n",
       "      <td>...</td>\n",
       "      <td>...</td>\n",
       "      <td>...</td>\n",
       "      <td>...</td>\n",
       "      <td>...</td>\n",
       "      <td>...</td>\n",
       "      <td>...</td>\n",
       "      <td>...</td>\n",
       "      <td>...</td>\n",
       "      <td>...</td>\n",
       "      <td>...</td>\n",
       "    </tr>\n",
       "    <tr>\n",
       "      <th>12224</th>\n",
       "      <td>6</td>\n",
       "      <td>1</td>\n",
       "      <td>0</td>\n",
       "      <td>0</td>\n",
       "      <td>0.693147</td>\n",
       "      <td>1.386294</td>\n",
       "      <td>0.000000</td>\n",
       "      <td>0.693147</td>\n",
       "      <td>0.000000</td>\n",
       "      <td>0.693147</td>\n",
       "      <td>...</td>\n",
       "      <td>23</td>\n",
       "      <td>0</td>\n",
       "      <td>2</td>\n",
       "      <td>0</td>\n",
       "      <td>0</td>\n",
       "      <td>0</td>\n",
       "      <td>1</td>\n",
       "      <td>0</td>\n",
       "      <td>-0.258819</td>\n",
       "      <td>0.965926</td>\n",
       "    </tr>\n",
       "    <tr>\n",
       "      <th>164438</th>\n",
       "      <td>7</td>\n",
       "      <td>1</td>\n",
       "      <td>0</td>\n",
       "      <td>0</td>\n",
       "      <td>0.693147</td>\n",
       "      <td>0.693147</td>\n",
       "      <td>0.693147</td>\n",
       "      <td>0.000000</td>\n",
       "      <td>4.077537</td>\n",
       "      <td>2.639057</td>\n",
       "      <td>...</td>\n",
       "      <td>23</td>\n",
       "      <td>0</td>\n",
       "      <td>2</td>\n",
       "      <td>0</td>\n",
       "      <td>0</td>\n",
       "      <td>0</td>\n",
       "      <td>1</td>\n",
       "      <td>0</td>\n",
       "      <td>-0.258819</td>\n",
       "      <td>0.965926</td>\n",
       "    </tr>\n",
       "    <tr>\n",
       "      <th>12221</th>\n",
       "      <td>8</td>\n",
       "      <td>1</td>\n",
       "      <td>0</td>\n",
       "      <td>0</td>\n",
       "      <td>1.098612</td>\n",
       "      <td>1.386294</td>\n",
       "      <td>1.791759</td>\n",
       "      <td>1.609438</td>\n",
       "      <td>1.098612</td>\n",
       "      <td>2.484907</td>\n",
       "      <td>...</td>\n",
       "      <td>23</td>\n",
       "      <td>0</td>\n",
       "      <td>2</td>\n",
       "      <td>0</td>\n",
       "      <td>0</td>\n",
       "      <td>0</td>\n",
       "      <td>1</td>\n",
       "      <td>0</td>\n",
       "      <td>-0.258819</td>\n",
       "      <td>0.965926</td>\n",
       "    </tr>\n",
       "    <tr>\n",
       "      <th>156968</th>\n",
       "      <td>7</td>\n",
       "      <td>0</td>\n",
       "      <td>0</td>\n",
       "      <td>0</td>\n",
       "      <td>0.000000</td>\n",
       "      <td>1.098612</td>\n",
       "      <td>0.000000</td>\n",
       "      <td>0.693147</td>\n",
       "      <td>0.693147</td>\n",
       "      <td>0.000000</td>\n",
       "      <td>...</td>\n",
       "      <td>23</td>\n",
       "      <td>0</td>\n",
       "      <td>2</td>\n",
       "      <td>0</td>\n",
       "      <td>0</td>\n",
       "      <td>0</td>\n",
       "      <td>1</td>\n",
       "      <td>0</td>\n",
       "      <td>-0.258819</td>\n",
       "      <td>0.965926</td>\n",
       "    </tr>\n",
       "    <tr>\n",
       "      <th>204762</th>\n",
       "      <td>5</td>\n",
       "      <td>0</td>\n",
       "      <td>0</td>\n",
       "      <td>0</td>\n",
       "      <td>1.945910</td>\n",
       "      <td>0.693147</td>\n",
       "      <td>1.791759</td>\n",
       "      <td>0.000000</td>\n",
       "      <td>0.000000</td>\n",
       "      <td>0.000000</td>\n",
       "      <td>...</td>\n",
       "      <td>23</td>\n",
       "      <td>0</td>\n",
       "      <td>2</td>\n",
       "      <td>0</td>\n",
       "      <td>0</td>\n",
       "      <td>0</td>\n",
       "      <td>1</td>\n",
       "      <td>0</td>\n",
       "      <td>-0.258819</td>\n",
       "      <td>0.965926</td>\n",
       "    </tr>\n",
       "  </tbody>\n",
       "</table>\n",
       "<p>253561 rows × 24 columns</p>\n",
       "</div>"
      ],
      "text/plain": [
       "            unique  have_top_10  absolutely_unique_count  \\\n",
       "session_id                                                 \n",
       "21669            2            0                        0   \n",
       "54843            2            0                        0   \n",
       "77292            6            0                        0   \n",
       "114021           5            0                        0   \n",
       "146670           6            0                        0   \n",
       "...            ...          ...                      ...   \n",
       "12224            6            1                        0   \n",
       "164438           7            1                        0   \n",
       "12221            8            1                        0   \n",
       "156968           7            0                        0   \n",
       "204762           5            0                        0   \n",
       "\n",
       "            have_absolutely_unique  time_diff1  time_diff2  time_diff3  \\\n",
       "session_id                                                               \n",
       "21669                            0    0.000000    0.000000    0.000000   \n",
       "54843                            0    0.000000    7.487174    1.098612   \n",
       "77292                            0    0.693147    0.693147    0.000000   \n",
       "114021                           0    0.000000    0.693147    0.000000   \n",
       "146670                           0    0.000000    0.000000    0.693147   \n",
       "...                            ...         ...         ...         ...   \n",
       "12224                            0    0.693147    1.386294    0.000000   \n",
       "164438                           0    0.693147    0.693147    0.693147   \n",
       "12221                            0    1.098612    1.386294    1.791759   \n",
       "156968                           0    0.000000    1.098612    0.000000   \n",
       "204762                           0    1.945910    0.693147    1.791759   \n",
       "\n",
       "            time_diff4  time_diff5  time_diff6  ...  start_hour  holiday  \\\n",
       "session_id                                      ...                        \n",
       "21669         0.000000    0.000000    0.000000  ...           8        1   \n",
       "54843         0.000000    0.000000    0.000000  ...           8        1   \n",
       "77292         0.693147    0.000000    0.000000  ...           8        1   \n",
       "114021        0.000000    0.000000    0.693147  ...           8        1   \n",
       "146670        0.000000    0.000000    0.000000  ...           8        1   \n",
       "...                ...         ...         ...  ...         ...      ...   \n",
       "12224         0.693147    0.000000    0.693147  ...          23        0   \n",
       "164438        0.000000    4.077537    2.639057  ...          23        0   \n",
       "12221         1.609438    1.098612    2.484907  ...          23        0   \n",
       "156968        0.693147    0.693147    0.000000  ...          23        0   \n",
       "204762        0.000000    0.000000    0.000000  ...          23        0   \n",
       "\n",
       "            day_of_week  target  morning  midday  evening  night  hour_sin_x  \\\n",
       "session_id                                                                     \n",
       "21669                 5       0        1       0        0      0    0.866025   \n",
       "54843                 5       0        1       0        0      0    0.866025   \n",
       "77292                 5       0        1       0        0      0    0.866025   \n",
       "114021                5       0        1       0        0      0    0.866025   \n",
       "146670                5       0        1       0        0      0    0.866025   \n",
       "...                 ...     ...      ...     ...      ...    ...         ...   \n",
       "12224                 2       0        0       0        1      0   -0.258819   \n",
       "164438                2       0        0       0        1      0   -0.258819   \n",
       "12221                 2       0        0       0        1      0   -0.258819   \n",
       "156968                2       0        0       0        1      0   -0.258819   \n",
       "204762                2       0        0       0        1      0   -0.258819   \n",
       "\n",
       "            hour_cos_x  \n",
       "session_id              \n",
       "21669        -0.500000  \n",
       "54843        -0.500000  \n",
       "77292        -0.500000  \n",
       "114021       -0.500000  \n",
       "146670       -0.500000  \n",
       "...                ...  \n",
       "12224         0.965926  \n",
       "164438        0.965926  \n",
       "12221         0.965926  \n",
       "156968        0.965926  \n",
       "204762        0.965926  \n",
       "\n",
       "[253561 rows x 24 columns]"
      ]
     },
     "execution_count": 54,
     "metadata": {},
     "output_type": "execute_result"
    }
   ],
   "source": [
    "add_data_train"
   ]
  },
  {
   "cell_type": "code",
   "execution_count": 55,
   "metadata": {
    "_cell_guid": "a276ec60-4886-48fa-87e6-82dfa3e89236",
    "_uuid": "cdc0ceccd8742ebf1aa230147a7bf4beda6c987f"
   },
   "outputs": [],
   "source": [
    "def kmeansshow(k,X):\n",
    "\n",
    "    from sklearn import cluster\n",
    "    from matplotlib import pyplot\n",
    "\n",
    "    kmeans = cluster.KMeans(n_clusters=k)\n",
    "    kmeans.fit(X)\n",
    "    labels = kmeans.labels_\n",
    "    centroids = kmeans.cluster_centers_\n",
    "    #print centroids\n",
    "\n",
    "    pyplot.figure(figsize=(5, 5))\n",
    "    for i in range(k):\n",
    "        # select only data observations with cluster label == i\n",
    "        ds = X[np.where(labels==i)]\n",
    "        # plot the data observations\n",
    "        pyplot.plot(ds[:,0],ds[:,1],'o')\n",
    "        # plot the centroids\n",
    "        lines = pyplot.plot(centroids[i,0],centroids[i,1],'kx')\n",
    "        # make the centroid x's bigger\n",
    "        pyplot.setp(lines,ms=15.0)\n",
    "        pyplot.setp(lines,mew=2.0)\n",
    "    pyplot.legend()\n",
    "    pyplot.show()\n",
    "    return centroids\n"
   ]
  },
  {
   "cell_type": "code",
   "execution_count": 56,
   "metadata": {
    "_cell_guid": "4ae88b8b-8bf0-42d4-8e5c-28ce9f2df4d4",
    "_uuid": "adc235ccd2cf532027f8cfe0cb057a07eb173da2"
   },
   "outputs": [
    {
     "name": "stderr",
     "output_type": "stream",
     "text": [
      "No handles with labels found to put in legend.\n"
     ]
    },
    {
     "data": {
      "image/png": "[encoded data removed]",
      "text/plain": [
       "<Figure size 360x360 with 1 Axes>"
      ]
     },
     "metadata": {},
     "output_type": "display_data"
    },
    {
     "name": "stderr",
     "output_type": "stream",
     "text": [
      "No handles with labels found to put in legend.\n"
     ]
    },
    {
     "data": {
      "image/png": "[encoded data removed]",
      "text/plain": [
       "<Figure size 360x360 with 1 Axes>"
      ]
     },
     "metadata": {},
     "output_type": "display_data"
    },
    {
     "data": {
      "text/plain": [
       "array([[-0.59156603, -0.79576432],\n",
       "       [ 0.7788177 , -0.61299253],\n",
       "       [-0.14602439, -0.98077552],\n",
       "       [-0.66369218,  0.65756893],\n",
       "       [-0.91688833, -0.35780157],\n",
       "       [ 0.38479246, -0.91374593]])"
      ]
     },
     "execution_count": 56,
     "metadata": {},
     "output_type": "execute_result"
    }
   ],
   "source": [
    "kmeansshow(3,add_data_train[['hour_sin_x', 'hour_cos_x']].values)\n",
    "kmeansshow(6,add_data_train[['hour_sin_x', 'hour_cos_x']].values)"
   ]
  },
  {
   "cell_type": "code",
   "execution_count": 57,
   "metadata": {
    "_cell_guid": "48bf34ae-a657-4f0b-94cb-390aff916466",
    "_uuid": "f66ed0434ca9e7d1f65831f7422827e278978a91"
   },
   "outputs": [
    {
     "name": "stderr",
     "output_type": "stream",
     "text": [
      "No handles with labels found to put in legend.\n"
     ]
    },
    {
     "data": {
      "image/png": "[encoded data removed]",
      "text/plain": [
       "<Figure size 360x360 with 1 Axes>"
      ]
     },
     "metadata": {},
     "output_type": "display_data"
    },
    {
     "name": "stderr",
     "output_type": "stream",
     "text": [
      "No handles with labels found to put in legend.\n"
     ]
    },
    {
     "data": {
      "image/png": "[encoded data removed]",
      "text/plain": [
       "<Figure size 360x360 with 1 Axes>"
      ]
     },
     "metadata": {},
     "output_type": "display_data"
    },
    {
     "data": {
      "text/plain": [
       "array([[-0.59041543, -0.7966472 ],\n",
       "       [ 0.77500356, -0.61679406],\n",
       "       [-0.92262679, -0.33759466],\n",
       "       [ 0.38182786, -0.91497391],\n",
       "       [-0.77362894,  0.54194207],\n",
       "       [-0.15576428, -0.97949324]])"
      ]
     },
     "execution_count": 57,
     "metadata": {},
     "output_type": "execute_result"
    }
   ],
   "source": [
    "kmeansshow(3,add_data_test[['hour_sin_x', 'hour_cos_x']].values)\n",
    "kmeansshow(6,add_data_test[['hour_sin_x', 'hour_cos_x']].values)"
   ]
  },
  {
   "cell_type": "markdown",
   "metadata": {
    "_cell_guid": "c8d3e612-20d9-4ea1-9b43-2f0e557d1b51",
    "_uuid": "3017c8d2998ef23ff8d55b6c0257bf28d70bd4e6"
   },
   "source": [
    "### Preprocessing data \n",
    "- Convert categorical variables to dummies using get_dummies"
   ]
  },
  {
   "cell_type": "code",
   "execution_count": 58,
   "metadata": {
    "ExecuteTime": {
     "end_time": "2018-03-29T04:11:15.661951Z",
     "start_time": "2018-03-29T04:11:15.461955Z"
    },
    "_cell_guid": "b92f676d-2f9c-4e6c-b892-0e03c8b07d9c",
    "_uuid": "41de2a668b26f35f72083a9d5f62242864868a0a"
   },
   "outputs": [],
   "source": [
    "add_train_dummies  = pd.get_dummies(add_data_train , columns=['day_of_week']) \n",
    "add_train_dummies.drop(['target'],axis = 1,inplace=True) \n",
    "add_test_dummies  = pd.get_dummies(add_data_test,columns=['day_of_week'])"
   ]
  },
  {
   "cell_type": "code",
   "execution_count": 59,
   "metadata": {
    "ExecuteTime": {
     "end_time": "2018-03-29T09:44:42.39923Z",
     "start_time": "2018-03-29T09:44:42.37923Z"
    },
    "_cell_guid": "d3720f55-2f93-466d-81ac-7a159bd45059",
    "_uuid": "acf8894fe458b65ca4652677efd83f27352a30db"
   },
   "outputs": [
    {
     "data": {
      "text/plain": [
       "253561"
      ]
     },
     "execution_count": 59,
     "metadata": {},
     "output_type": "execute_result"
    }
   ],
   "source": [
    "idx_split"
   ]
  },
  {
   "cell_type": "code",
   "execution_count": 60,
   "metadata": {
    "ExecuteTime": {
     "end_time": "2018-03-29T10:14:52.2454Z",
     "start_time": "2018-03-29T10:14:52.036791Z"
    },
    "_cell_guid": "b42dbeb5-3f2f-4c7c-8c8b-0a9ef57f0e07",
    "_uuid": "5011c6d919e3e2553d5c327c960c048c2beeb433"
   },
   "outputs": [],
   "source": [
    "names_for_scale  =  ['time_diff' + str(x) for x in range (1,10)]  +  ['unique','absolutely_unique_count','total_time'] \n",
    "scaler = StandardScaler() \n",
    "for column_name in names_for_scale : \n",
    "    add_train_dummies[column_name] =scaler.fit_transform(add_train_dummies[column_name].values.reshape(-1,1)) \n",
    "    add_test_dummies[column_name]  =scaler.transform(add_test_dummies[column_name].values.reshape(-1,1))"
   ]
  },
  {
   "cell_type": "code",
   "execution_count": 61,
   "metadata": {
    "ExecuteTime": {
     "end_time": "2018-03-29T10:14:56.494411Z",
     "start_time": "2018-03-29T10:14:55.833451Z"
    },
    "_cell_guid": "967e563d-2a53-4410-82c8-861317ed4858",
    "_uuid": "47f9a66ad47ed7762146a2fd6e3e29171a384f0b"
   },
   "outputs": [
    {
     "data": {
      "text/plain": [
       "(336358, 48371)"
      ]
     },
     "execution_count": 61,
     "metadata": {},
     "output_type": "execute_result"
    }
   ],
   "source": [
    "# Sequence with indexes \n",
    "sites_flatten = full_sites.values.flatten()\n",
    "# \n",
    "full_sites_sparse=csr_matrix(([1]  *  sites_flatten . shape [ 0 ], sites_flatten ,  \n",
    "                                range(0,sites_flatten.shape[0]+10,10)))[:,1:]\n",
    "\n",
    "X_train_sparse  =  full_sites_sparse [: idx_split ] \n",
    "X_test_sparse  =  full_sites_sparse [ idx_split :] \n",
    "full_sites_sparse.shape #(336358, 48371)"
   ]
  },
  {
   "cell_type": "code",
   "execution_count": 62,
   "metadata": {
    "ExecuteTime": {
     "end_time": "2018-03-30T18:51:44.928485Z",
     "start_time": "2018-03-30T18:51:12.990795Z"
    },
    "_cell_guid": "ae687afc-94c2-4ff8-93b0-748440f64019",
    "_uuid": "538e3d08172d5e7cc2e230b8d0be9a3a27dfd771"
   },
   "outputs": [
    {
     "data": {
      "text/plain": [
       "((253561, 13321), (82797, 13321))"
      ]
     },
     "execution_count": 62,
     "metadata": {},
     "output_type": "execute_result"
    }
   ],
   "source": [
    "full_sites = full_df[sites].astype('str')\n",
    "lst = full_sites[sites].values.tolist()\n",
    "flat_list = [' '.join(sublist) for sublist in lst]\n",
    "vect = TfidfVectorizer(ngram_range=(1,4), max_features=100000,analyzer='char_wb')\n",
    "tfidf_matrix = vect.fit_transform(flat_list)\n",
    "\n",
    "X_train_tf = tfidf_matrix[:idx_split]\n",
    "X_test_tf  = tfidf_matrix[idx_split:]\n",
    "\n",
    "X_train_tf.shape, X_test_tf.shape"
   ]
  },
  {
   "cell_type": "markdown",
   "metadata": {
    "_cell_guid": "3ccd52ad-9ad2-40b4-ab6b-288d4c8b122f",
    "_uuid": "c7e54dff55e8adc1c3c317608a494b445c323965"
   },
   "source": [
    "**Combine the site matrix and additional features**"
   ]
  },
  {
   "cell_type": "code",
   "execution_count": 63,
   "metadata": {
    "ExecuteTime": {
     "end_time": "2018-03-29T10:15:58.257232Z",
     "start_time": "2018-03-29T10:15:49.734417Z"
    },
    "_cell_guid": "71235b9a-261d-43d6-9e26-ef7d6ef3f012",
    "_uuid": "85b131e2eb1ce766eb26bc6fea05cb9c3e2fe844"
   },
   "outputs": [
    {
     "data": {
      "text/plain": [
       "((253561, 13350), (82797, 13350))"
      ]
     },
     "execution_count": 63,
     "metadata": {},
     "output_type": "execute_result"
    }
   ],
   "source": [
    "x_train_full  =  csr_matrix(hstack([X_train_tf,add_train_dummies.values])) \n",
    "x_test_full   =  csr_matrix(hstack([X_test_tf ,add_test_dummies.values])) \n",
    "x_train_full.shape,x_test_full.shape"
   ]
  },
  {
   "cell_type": "markdown",
   "metadata": {
    "_cell_guid": "92647c48-59a3-4a45-a7b7-49f44ac1133b",
    "_uuid": "75d0c56548021381787aca10b430ab4d57ff1f41"
   },
   "source": [
    "![Image](https://hsto.org/webt/8i/5k/vx/8i5kvxrehatyvf-l3glz_-ymhtw.png)"
   ]
  },
  {
   "cell_type": "code",
   "execution_count": 64,
   "metadata": {
    "ExecuteTime": {
     "end_time": "2018-03-29T10:15:58.7212Z",
     "start_time": "2018-03-29T10:15:58.26024Z"
    },
    "_cell_guid": "18e77181-2bcb-4530-b5bc-3d3f3fe9881d",
    "_uuid": "e4fa9d6e83deb9e349e2b89ab05d311db505ee07"
   },
   "outputs": [],
   "source": [
    "target = train_df['target']\n",
    "X_train , X_valid , y_train , y_valid = train_test_split(x_train_full,target ,test_size=0.2) \n",
    "tscv = TimeSeriesSplit(n_splits = 5);"
   ]
  },
  {
   "cell_type": "code",
   "execution_count": 65,
   "metadata": {
    "_cell_guid": "4779e48b-1f3d-4aab-9383-5418489cead1",
    "_uuid": "2303b69e6cb7646af704c8d96b8b313caadaff35"
   },
   "outputs": [
    {
     "data": {
      "text/plain": [
       "TimeSeriesSplit(gap=0, max_train_size=None, n_splits=5, test_size=None)"
      ]
     },
     "execution_count": 65,
     "metadata": {},
     "output_type": "execute_result"
    }
   ],
   "source": [
    "tscv"
   ]
  },
  {
   "cell_type": "code",
   "execution_count": 66,
   "metadata": {
    "_cell_guid": "655f37f2-7cd5-4cff-a1c2-53fa24b26860",
    "_uuid": "7c82225315adb41d53234b90f221b8f139557f5a"
   },
   "outputs": [
    {
     "data": {
      "text/plain": [
       "[((33808,), (33808,)),\n",
       " ((67616,), (33808,)),\n",
       " ((101424,), (33808,)),\n",
       " ((135232,), (33808,)),\n",
       " ((169040,), (33808,))]"
      ]
     },
     "execution_count": 66,
     "metadata": {},
     "output_type": "execute_result"
    }
   ],
   "source": [
    "[(el[0].shape, el[1].shape) for el in tscv.split(X_train)]"
   ]
  },
  {
   "cell_type": "markdown",
   "metadata": {
    "_cell_guid": "2e87b548-a343-4936-be34-485ca25bfae0",
    "_uuid": "78ceef636335f7be8d7a089172616b8b9ec4969f"
   },
   "source": [
    "**Since our classes are highly unbalanced, the accuracy metric here does not fit.**\n",
    "\n",
    "**We will use ROC_AUC as a metric, and also look at the results of confusion_matrix**"
   ]
  },
  {
   "cell_type": "markdown",
   "metadata": {
    "_cell_guid": "36cc7a89-17bc-4b44-8d6d-ada380f10ee6",
    "_uuid": "af7bee1c57b55b40f8e023b9c7d0a09c63045bbf"
   },
   "source": [
    "Since we have historical data, interrelated with time, the standard cross-fitting in this case will not work. We will use cross-validation with TimeSeriesSplit - cross-validation techniques for time series. \n",
    "Its essence lies in the following: we divide the sample, for example, into 5 parts: [1, 2, 3, 4, 5], then we train in the following way\n",
    "\n",
    "- Fold 1: training [1], Test [2]\n",
    "- Fold 2: Training [1, 2], Test [3]\n",
    "- Fold 3: teaching [1, 2, 3], Test [4]\n",
    "- Fold 4: training [1, 2, 3, 4], Test [5]\n",
    "\n",
    "**This approach will help to better evaluate the quality of the algorithm.**"
   ]
  },
  {
   "cell_type": "code",
   "execution_count": 67,
   "metadata": {
    "ExecuteTime": {
     "end_time": "2018-03-29T09:47:56.997855Z",
     "start_time": "2018-03-29T09:46:21.868701Z"
    },
    "_cell_guid": "7abb6931-03f8-4f10-8136-e8f6cef5bb42",
    "_kg_hide-output": true,
    "_uuid": "4fb79686332d9826e4ebd2aea12986b3fde1a1b8",
    "scrolled": true
   },
   "outputs": [
    {
     "name": "stdout",
     "output_type": "stream",
     "text": [
      "Train test split LogisticRegression score:0.9786 ROC AUC\n",
      "Cross validation LogisticRegression score:0.9145 ROC AUC\n",
      "CPU times: user 23min 54s, sys: 26.8 s, total: 24min 21s\n",
      "Wall time: 3min 28s\n"
     ]
    }
   ],
   "source": [
    "%%time\n",
    "clf_lr = LogisticRegression (random_state = 42, n_jobs=1, solver='lbfgs', max_iter=8000)\n",
    "clf_lr.fit (X_train, y_train)\n",
    "preds_lr = clf_lr.predict_proba(X_valid)[:, 1]\n",
    "print ('Train test split LogisticRegression score:% s ROC AUC'% round (roc_auc_score(y_valid, preds_lr), 4))\n",
    "cross_score_lr = np.mean(cross_val_score(clf_lr, x_train_full, target, scoring = 'roc_auc', cv = tscv))\n",
    "print ('Cross validation LogisticRegression score:% s ROC AUC'% round (cross_score_lr, 4))"
   ]
  },
  {
   "cell_type": "code",
   "execution_count": 68,
   "metadata": {
    "ExecuteTime": {
     "end_time": "2018-03-28T10:17:39.587352Z",
     "start_time": "2018-03-28T10:09:36.481356Z"
    },
    "_cell_guid": "aa1095b9-ce67-4698-9344-35732fd90d2d",
    "_uuid": "d558f74904bd9b79d786dd1a2f3fd20e686448f2"
   },
   "outputs": [
    {
     "name": "stdout",
     "output_type": "stream",
     "text": [
      "Train test split RandomForestClassifier score:0.9784 ROC AUC\n",
      "Cross validation RandomForestClassifier score:0.845 ROC AUC\n",
      "CPU times: user 9min 56s, sys: 700 ms, total: 9min 57s\n",
      "Wall time: 9min 56s\n"
     ]
    }
   ],
   "source": [
    "%%time\n",
    "clf_rf = RandomForestClassifier (random_state = 42, n_estimators = 100)\n",
    "clf_rf.fit (X_train, y_train)\n",
    "preds_rf = clf_rf.predict_proba (X_valid) [:, 1]\n",
    "print ('Train test split RandomForestClassifier score:% s ROC AUC'% round (roc_auc_score (y_valid, preds_rf), 4))\n",
    "cross_score_rf = np.mean (cross_val_score (clf_rf, x_train_full, target, scoring = 'roc_auc', cv = tscv))\n",
    "print ('Cross validation RandomForestClassifier score:% s ROC AUC'% round (cross_score_rf, 4))"
   ]
  },
  {
   "cell_type": "code",
   "execution_count": 69,
   "metadata": {
    "_uuid": "09310203474756da58d1bf52535489e56ec67b5a"
   },
   "outputs": [
    {
     "name": "stdout",
     "output_type": "stream",
     "text": [
      "[20:19:25] WARNING: ../src/learner.cc:573: \n",
      "Parameters: { \"max_depth\" } might not be used.\n",
      "\n",
      "  This may not be accurate due to some parameters are only used in language bindings but\n",
      "  passed down to XGBoost core.  Or some parameters are not used but slip through this\n",
      "  verification. Please open an issue if you find above cases.\n",
      "\n",
      "\n",
      "[20:19:25] WARNING: ../src/learner.cc:1095: Starting in XGBoost 1.3.0, the default evaluation metric used with the objective 'binary:logistic' was changed from 'error' to 'logloss'. Explicitly set eval_metric if you'd like to restore the old behavior.\n",
      "CPU times: user 13.2 s, sys: 369 ms, total: 13.5 s\n",
      "Wall time: 857 ms\n"
     ]
    }
   ],
   "source": [
    "%%time\n",
    "reg_xgb = xgb.XGBRegressor(n_estimators=10, learning_rate=0.1, max_depth=1000, objective='binary:logistic', random_state = 42, booster = 'gblinear', scale_pos_weight = 109)\n",
    "reg_xgb.fit(X_train, y_train)\n",
    "preds_xgb_reg = reg_xgb.predict(X_valid)"
   ]
  },
  {
   "cell_type": "code",
   "execution_count": 70,
   "metadata": {
    "_uuid": "717fa1f5d97fd332fbd5edd00e6ef4898b8f89b2"
   },
   "outputs": [
    {
     "data": {
      "text/plain": [
       "(50713,)"
      ]
     },
     "execution_count": 70,
     "metadata": {},
     "output_type": "execute_result"
    }
   ],
   "source": [
    "preds_xgb_reg.shape"
   ]
  },
  {
   "cell_type": "code",
   "execution_count": 71,
   "metadata": {
    "_cell_guid": "f31d46ff-3114-4f28-8a07-926c92d802b2",
    "_uuid": "d0c20d0fde24206f039dd8910223f81f4f4e0246"
   },
   "outputs": [
    {
     "name": "stdout",
     "output_type": "stream",
     "text": [
      "Train test split XGBRegressor score:0.9833 ROC AUC\n",
      "[20:27:48] WARNING: ../src/learner.cc:573: \n",
      "Parameters: { \"max_depth\" } might not be used.\n",
      "\n",
      "  This may not be accurate due to some parameters are only used in language bindings but\n",
      "  passed down to XGBoost core.  Or some parameters are not used but slip through this\n",
      "  verification. Please open an issue if you find above cases.\n",
      "\n",
      "\n",
      "[20:27:48] WARNING: ../src/learner.cc:1095: Starting in XGBoost 1.3.0, the default evaluation metric used with the objective 'binary:logistic' was changed from 'error' to 'logloss'. Explicitly set eval_metric if you'd like to restore the old behavior.\n",
      "[20:27:48] WARNING: ../src/learner.cc:573: \n",
      "Parameters: { \"max_depth\" } might not be used.\n",
      "\n",
      "  This may not be accurate due to some parameters are only used in language bindings but\n",
      "  passed down to XGBoost core.  Or some parameters are not used but slip through this\n",
      "  verification. Please open an issue if you find above cases.\n",
      "\n",
      "\n",
      "[20:27:48] WARNING: ../src/learner.cc:1095: Starting in XGBoost 1.3.0, the default evaluation metric used with the objective 'binary:logistic' was changed from 'error' to 'logloss'. Explicitly set eval_metric if you'd like to restore the old behavior.\n",
      "[20:27:48] WARNING: ../src/learner.cc:573: \n",
      "Parameters: { \"max_depth\" } might not be used.\n",
      "\n",
      "  This may not be accurate due to some parameters are only used in language bindings but\n",
      "  passed down to XGBoost core.  Or some parameters are not used but slip through this\n",
      "  verification. Please open an issue if you find above cases.\n",
      "\n",
      "\n",
      "[20:27:48] WARNING: ../src/learner.cc:1095: Starting in XGBoost 1.3.0, the default evaluation metric used with the objective 'binary:logistic' was changed from 'error' to 'logloss'. Explicitly set eval_metric if you'd like to restore the old behavior.\n",
      "[20:27:49] WARNING: ../src/learner.cc:573: \n",
      "Parameters: { \"max_depth\" } might not be used.\n",
      "\n",
      "  This may not be accurate due to some parameters are only used in language bindings but\n",
      "  passed down to XGBoost core.  Or some parameters are not used but slip through this\n",
      "  verification. Please open an issue if you find above cases.\n",
      "\n",
      "\n",
      "[20:27:49] WARNING: ../src/learner.cc:1095: Starting in XGBoost 1.3.0, the default evaluation metric used with the objective 'binary:logistic' was changed from 'error' to 'logloss'. Explicitly set eval_metric if you'd like to restore the old behavior.\n",
      "[20:27:49] WARNING: ../src/learner.cc:573: \n",
      "Parameters: { \"max_depth\" } might not be used.\n",
      "\n",
      "  This may not be accurate due to some parameters are only used in language bindings but\n",
      "  passed down to XGBoost core.  Or some parameters are not used but slip through this\n",
      "  verification. Please open an issue if you find above cases.\n",
      "\n",
      "\n",
      "[20:27:50] WARNING: ../src/learner.cc:1095: Starting in XGBoost 1.3.0, the default evaluation metric used with the objective 'binary:logistic' was changed from 'error' to 'logloss'. Explicitly set eval_metric if you'd like to restore the old behavior.\n",
      "Cross validation XGBRegressor score:0.8174 ROC AUC\n"
     ]
    }
   ],
   "source": [
    "print ('Train test split XGBRegressor score:% s ROC AUC'% round (roc_auc_score (y_valid, preds_xgb_reg), 4))\n",
    "cross_score_xgb_reg = np.mean (cross_val_score (reg_xgb, x_train_full, target, scoring = 'roc_auc', cv = tscv))\n",
    "print ('Cross validation XGBRegressor score:% s ROC AUC'% round (cross_score_xgb_reg, 4))"
   ]
  },
  {
   "cell_type": "code",
   "execution_count": 72,
   "metadata": {
    "ExecuteTime": {
     "end_time": "2018-03-28T10:18:11.859726Z",
     "start_time": "2018-03-28T10:17:39.587352Z"
    },
    "_cell_guid": "73002342-0fd3-4590-ac6a-bacd8138ce16",
    "_uuid": "9539d7c78a3b076205a6fd96a7b33f457c0ce268"
   },
   "outputs": [
    {
     "name": "stdout",
     "output_type": "stream",
     "text": [
      "[20:28:18] WARNING: ../src/learner.cc:1095: Starting in XGBoost 1.3.0, the default evaluation metric used with the objective 'binary:logistic' was changed from 'error' to 'logloss'. Explicitly set eval_metric if you'd like to restore the old behavior.\n",
      "Train test split XGBClassifier score:0.9767 ROC AUC\n",
      "[20:28:22] WARNING: ../src/learner.cc:1095: Starting in XGBoost 1.3.0, the default evaluation metric used with the objective 'binary:logistic' was changed from 'error' to 'logloss'. Explicitly set eval_metric if you'd like to restore the old behavior.\n",
      "[20:28:23] WARNING: ../src/learner.cc:1095: Starting in XGBoost 1.3.0, the default evaluation metric used with the objective 'binary:logistic' was changed from 'error' to 'logloss'. Explicitly set eval_metric if you'd like to restore the old behavior.\n",
      "[20:28:26] WARNING: ../src/learner.cc:1095: Starting in XGBoost 1.3.0, the default evaluation metric used with the objective 'binary:logistic' was changed from 'error' to 'logloss'. Explicitly set eval_metric if you'd like to restore the old behavior.\n",
      "[20:28:28] WARNING: ../src/learner.cc:1095: Starting in XGBoost 1.3.0, the default evaluation metric used with the objective 'binary:logistic' was changed from 'error' to 'logloss'. Explicitly set eval_metric if you'd like to restore the old behavior.\n",
      "[20:28:32] WARNING: ../src/learner.cc:1095: Starting in XGBoost 1.3.0, the default evaluation metric used with the objective 'binary:logistic' was changed from 'error' to 'logloss'. Explicitly set eval_metric if you'd like to restore the old behavior.\n",
      "Cross validation XGBClassifier score:0.8234 ROC AUC\n",
      "CPU times: user 4min 44s, sys: 3.58 s, total: 4min 47s\n",
      "Wall time: 18 s\n"
     ]
    }
   ],
   "source": [
    "%%time\n",
    "clf_xgb = xgb.XGBClassifier (random_state = 42, booster = 'gblinear')\n",
    "clf_xgb.fit (X_train, y_train)\n",
    "preds_xgb = clf_xgb.predict_proba (X_valid) [:, 1]\n",
    "print ('Train test split XGBClassifier score:% s ROC AUC'% round (roc_auc_score (y_valid, preds_xgb), 4))\n",
    "cross_score_xgb = np.mean (cross_val_score (clf_xgb, x_train_full, target, scoring = 'roc_auc', cv = tscv))\n",
    "print ('Cross validation XGBClassifier score:% s ROC AUC'% round (cross_score_xgb, 4))"
   ]
  },
  {
   "cell_type": "code",
   "execution_count": 74,
   "metadata": {
    "_cell_guid": "116f8586-c7fb-4e9d-a1ba-96f62e41d1a9",
    "_uuid": "c768e8b22ee142349a734a0eb3d74626a3223d30"
   },
   "outputs": [
    {
     "data": {
      "image/png": "[encoded data removed]",
      "text/plain": [
       "<Figure size 864x576 with 1 Axes>"
      ]
     },
     "metadata": {},
     "output_type": "display_data"
    }
   ],
   "source": [
    "fpr_lr,tpr_lr,threshold=roc_curve(y_valid,preds_lr)\n",
    "roc_auc_lr = auc(fpr_lr,tpr_lr)\n",
    "\n",
    "fpr_rf,tpr_rf,threshold=roc_curve(y_valid,preds_rf)\n",
    "roc_auc_rf = auc(fpr_rf,tpr_rf)\n",
    "\n",
    "fpr_xgb_reg,tpr_xgb_reg,threshold=roc_curve(y_valid,preds_xgb_reg)\n",
    "roc_auc_xgb_reg = auc(fpr_xgb_reg,tpr_xgb_reg)\n",
    "\n",
    "fpr_xgb,tpr_xgb,threshold=roc_curve(y_valid,preds_xgb)\n",
    "roc_auc_xgb = auc(fpr_xgb,tpr_xgb)\n",
    "\n",
    "plt.figure(figsize=(12,8))\n",
    "plt.title('Receiver Operating Characteristic Curve')\n",
    "plt.plot(fpr_lr, tpr_lr,'r', label='AUC LR=%0.4f'%roc_auc_lr)\n",
    "plt.plot(fpr_rf, tpr_rf,'b', label='AUC RF=%0.4f'%roc_auc_rf)\n",
    "plt.plot(fpr_xgb, tpr_xgb,'g', label='AUC XGB REG=%0.4f'%roc_auc_xgb_reg)\n",
    "plt.plot(fpr_xgb_reg, tpr_xgb_reg, 'y', label='AUC XGB=%0.4f'%roc_auc_xgb)\n",
    "plt.legend(loc='lower right')\n",
    "plt.plot([0,1],[0,1],'r--')\n",
    "plt.xlim([0,1])\n",
    "plt.ylim([0,1])\n",
    "plt.ylabel('True Positive Rate')\n",
    "plt.xlabel('False Positive Rate');"
   ]
  },
  {
   "cell_type": "code",
   "execution_count": 75,
   "metadata": {
    "_cell_guid": "7e80d101-5dab-4c84-8bf4-7df5899db9ac",
    "_uuid": "1b228db2eb049c1a50da424eaf39d71868076c6c"
   },
   "outputs": [],
   "source": [
    "def show_confusion_matrix(y_true,y_pred,title='Confusionmatrix'):\n",
    "    table=confusion_matrix(y_true.values,y_pred)\n",
    "    fig,ax=plt.subplots(frameon=False)\n",
    "    fig.set_size_inches(4,3)\n",
    "    fig.suptitle(title,fontsize=20)\n",
    "    ax.axis('off')\n",
    "    ax.xaxis.set_visible(False)\n",
    "    ax.yaxis.set_visible(False)\n",
    "\n",
    "    the_table=ax.table(cellText=table,\n",
    "                        colWidths=[0.5]*len([0,1]),\n",
    "                        rowLabels=['True 0','True 1'],colLabels=['Predicted 0','Predicted 1'],\n",
    "                        cellLoc='center',rowLoc='center',loc=\"center\")\n",
    "    the_table.set_fontsize(34)\n",
    "    the_table.scale(1,4)\n",
    "    plt.show()"
   ]
  },
  {
   "cell_type": "code",
   "execution_count": 76,
   "metadata": {
    "_cell_guid": "0d5e97e8-0e21-4382-bae3-b1bccb0a7618",
    "_uuid": "4577d82fceb299ae5a662b501a8f08526774e4df"
   },
   "outputs": [
    {
     "data": {
      "image/png": "[encoded data removed]",
      "text/plain": [
       "<Figure size 288x216 with 1 Axes>"
      ]
     },
     "metadata": {},
     "output_type": "display_data"
    }
   ],
   "source": [
    "show_confusion_matrix(y_valid, clf_lr.predict(X_valid))"
   ]
  },
  {
   "cell_type": "code",
   "execution_count": 77,
   "metadata": {
    "_cell_guid": "271a9bdc-6230-486a-9846-7888379930cd",
    "_uuid": "204f8a85b23fe35de6e4a17452e7e1530cb86eeb"
   },
   "outputs": [
    {
     "data": {
      "image/png": "[encoded data removed]",
      "text/plain": [
       "<Figure size 288x216 with 1 Axes>"
      ]
     },
     "metadata": {},
     "output_type": "display_data"
    }
   ],
   "source": [
    "show_confusion_matrix(y_valid, clf_xgb.predict(X_valid))"
   ]
  },
  {
   "cell_type": "code",
   "execution_count": 78,
   "metadata": {
    "ExecuteTime": {
     "end_time": "2018-03-29T09:49:04.932509Z",
     "start_time": "2018-03-29T09:49:04.876508Z"
    },
    "_cell_guid": "1b41b47a-52f1-4f41-9232-dc783ce97c47",
    "_uuid": "35c2a19d15554f716439d107f17e7bf155d7872f"
   },
   "outputs": [],
   "source": [
    "def get_auc_lr_valid(X, y, C=1.0, seed=17, ratio = 0.9):\n",
    "    # Split the data into the training and validation sets\n",
    "    idx = int(round(X.shape[0] * ratio))\n",
    "    # Classifier training\n",
    "    lr = LogisticRegression(C=C, random_state=seed,max_iter=8000,n_jobs=1,solver='lbfgs').fit(X[:idx, :], y[:idx])\n",
    "    # Prediction for validation set\n",
    "    y_pred = lr.predict_proba(X[idx:, :])[:, 1]\n",
    "    # Calculate the quality\n",
    "    score = roc_auc_score(y[idx:], y_pred)\n",
    "    return score"
   ]
  },
  {
   "cell_type": "code",
   "execution_count": 79,
   "metadata": {
    "ExecuteTime": {
     "end_time": "2018-03-29T10:06:14.855477Z",
     "start_time": "2018-03-29T09:51:43.509956Z"
    },
    "_cell_guid": "6f050ec7-e7ee-4041-ad0b-5a324106fc63",
    "_uuid": "538adf302af0a03bf35c883cfeb7726a01a6d2c9"
   },
   "outputs": [
    {
     "name": "stderr",
     "output_type": "stream",
     "text": [
      "100%|██████████| 20/20 [21:26<00:00, 64.34s/it] "
     ]
    },
    {
     "name": "stdout",
     "output_type": "stream",
     "text": [
      "CPU times: user 2h 26min 55s, sys: 2min 46s, total: 2h 29min 42s\n",
      "Wall time: 21min 26s\n"
     ]
    },
    {
     "name": "stderr",
     "output_type": "stream",
     "text": [
      "\n"
     ]
    }
   ],
   "source": [
    "%%time\n",
    "from tqdm import tqdm\n",
    "# List of possible C-values\n",
    "Cs = np.logspace(-1, 1, 20)\n",
    "\n",
    "scores = []\n",
    "\n",
    "for C in tqdm(Cs):\n",
    "     scores.append(get_auc_lr_valid(X_train, y_train, C=C))"
   ]
  },
  {
   "cell_type": "code",
   "execution_count": 80,
   "metadata": {
    "ExecuteTime": {
     "end_time": "2018-03-29T10:06:14.86633Z",
     "start_time": "2018-03-29T10:06:14.855477Z"
    },
    "_cell_guid": "7d1d51dd-3282-4845-90bd-bae874a60a38",
    "_uuid": "d3d9d451eebaa7b0bb04e4eff99d31e53e2665fb"
   },
   "outputs": [
    {
     "data": {
      "text/plain": [
       "array([ 0.1       ,  0.1274275 ,  0.16237767,  0.20691381,  0.26366509,\n",
       "        0.33598183,  0.42813324,  0.54555948,  0.6951928 ,  0.88586679,\n",
       "        1.12883789,  1.43844989,  1.83298071,  2.33572147,  2.97635144,\n",
       "        3.79269019,  4.83293024,  6.15848211,  7.8475997 , 10.        ])"
      ]
     },
     "execution_count": 80,
     "metadata": {},
     "output_type": "execute_result"
    }
   ],
   "source": [
    "Cs"
   ]
  },
  {
   "cell_type": "code",
   "execution_count": 81,
   "metadata": {
    "ExecuteTime": {
     "end_time": "2018-03-29T10:06:14.945562Z",
     "start_time": "2018-03-29T10:06:14.86633Z"
    },
    "_cell_guid": "08ae6149-b916-4256-b510-c9942fd9aa74",
    "_uuid": "21a5f3c8a54d2b6ddc1d27e051d4725da355554c"
   },
   "outputs": [
    {
     "data": {
      "text/plain": [
       "([0.9631825775974225,\n",
       "  0.9673645283371743,\n",
       "  0.9711063738866209,\n",
       "  0.9743203106778382,\n",
       "  0.9771082778376726,\n",
       "  0.9794395577092347,\n",
       "  0.9814538748557222,\n",
       "  0.9831243173476473,\n",
       "  0.9845052527193282,\n",
       "  0.9856401749982194,\n",
       "  0.9866013930049643,\n",
       "  0.9873875475512048,\n",
       "  0.9880345212095907,\n",
       "  0.9885181204273505,\n",
       "  0.9889261487724084,\n",
       "  0.9892471890625569,\n",
       "  0.9895269100266239,\n",
       "  0.9897503605926714,\n",
       "  0.9898740467332452,\n",
       "  0.9899762576977632],\n",
       " 0.9899762576977632,\n",
       " 10.0)"
      ]
     },
     "execution_count": 81,
     "metadata": {},
     "output_type": "execute_result"
    }
   ],
   "source": [
    "scores, max(scores), Cs[np.argmax(scores)]"
   ]
  },
  {
   "cell_type": "code",
   "execution_count": 82,
   "metadata": {
    "_cell_guid": "5fb78654-6b32-4a2a-8cf3-6620ea48807a",
    "_uuid": "626603de5ccfb61b9dd7822d68e3ad68778eeff5"
   },
   "outputs": [
    {
     "name": "stdout",
     "output_type": "stream",
     "text": [
      "ROC_AUC on the test sample: 0.9668 \n"
     ]
    }
   ],
   "source": [
    "final_model = LogisticRegression(random_state = 17, C = Cs[np.argmax(scores)],n_jobs=1) \n",
    "final_model.fit(X_train,y_train) \n",
    "print('ROC_AUC on the test sample: {} '.format(round(roc_auc_score(y_valid,final_model.predict_proba(X_valid)[:,1]),4)))"
   ]
  },
  {
   "cell_type": "code",
   "execution_count": 83,
   "metadata": {
    "ExecuteTime": {
     "end_time": "2018-03-29T10:08:16.289843Z",
     "start_time": "2018-03-29T10:08:16.265833Z"
    },
    "_cell_guid": "19996147-e56f-4827-bd40-30565f1b8f07",
    "_uuid": "073df23e9963b9883e4e30fab18c981ec50aebcf"
   },
   "outputs": [],
   "source": [
    "# Function for writing predictions to a file\n",
    "def write_to_submission_file(predicted_labels, out_file,\n",
    "                             target='target', index_label=\"session_id\"):\n",
    "    predicted_df = pd.DataFrame(predicted_labels,\n",
    "                                index = np.arange(1, predicted_labels.shape[0] + 1),\n",
    "                                columns=[target])\n",
    "    predicted_df.to_csv(out_file, index_label=index_label)"
   ]
  },
  {
   "cell_type": "code",
   "execution_count": 84,
   "metadata": {
    "ExecuteTime": {
     "end_time": "2018-03-29T10:17:59.627716Z",
     "start_time": "2018-03-29T10:17:59.593626Z"
    },
    "_cell_guid": "3aa734bf-0d01-47f1-a009-43da9ceb94c5",
    "_uuid": "948dcaa9002601bf051e32ce2d7168e7b0c1eff7"
   },
   "outputs": [],
   "source": [
    "preds = final_model.predict_proba(x_test_full)[:,1]"
   ]
  },
  {
   "cell_type": "code",
   "execution_count": 85,
   "metadata": {
    "ExecuteTime": {
     "end_time": "2018-03-29T10:17:59.706928Z",
     "start_time": "2018-03-29T10:17:59.629723Z"
    },
    "_cell_guid": "a04f1636-7c00-47ee-a607-0161116e79f5",
    "_uuid": "92ef742859fe0134900af0e3fdfb264a2832aa1d"
   },
   "outputs": [
    {
     "data": {
      "text/plain": [
       "array([1.06620437e-06, 6.00238376e-07, 9.32442624e-04, 4.51517484e-07,\n",
       "       1.31446936e-03, 8.94021231e-07, 3.91815074e-05, 3.90976885e-05,\n",
       "       2.80698786e-06, 8.84457870e-05])"
      ]
     },
     "execution_count": 85,
     "metadata": {},
     "output_type": "execute_result"
    }
   ],
   "source": [
    "preds[:10]"
   ]
  },
  {
   "cell_type": "code",
   "execution_count": 86,
   "metadata": {
    "_cell_guid": "143da550-bfbb-45e4-a98e-5b74555b3b07",
    "_uuid": "4e3686f6a0e080e4d8fbfcba9fd04e424805e96c"
   },
   "outputs": [],
   "source": [
    "preds = np.where(preds > 0.945, 0.985, preds)"
   ]
  },
  {
   "cell_type": "code",
   "execution_count": 87,
   "metadata": {
    "ExecuteTime": {
     "end_time": "2018-03-29T10:18:00.188694Z",
     "start_time": "2018-03-29T10:17:59.708934Z"
    },
    "_cell_guid": "1ad8ad1a-10b1-4120-a655-f64e6f0e9c69",
    "_uuid": "bd7b6782247df64518bbb3e54d504dbc4d8e60fa"
   },
   "outputs": [],
   "source": [
    "write_to_submission_file(preds,'re-git_v4.csv')"
   ]
  },
  {
   "cell_type": "markdown",
   "metadata": {
    "_cell_guid": "346e1eb6-3683-4bb7-9905-f2cf6191dadd",
    "_uuid": "5f5229e030270acdfaae1aaf25f7824fad49473b"
   },
   "source": [
    "### Hope it was Useful (More To Come, till then Enjoy and share your Views Below...****)\n",
    "\n",
    "Thanks\n",
    "\n",
    "- *Aditya Soni*"
   ]
  }
 ],
 "metadata": {
  "accelerator": "GPU",
  "colab": {
   "collapsed_sections": [],
   "default_view": {},
   "name": "kaggle_alice_.ipynb",
   "provenance": [],
   "version": "0.3.2",
   "views": {}
  },
  "kernelspec": {
   "display_name": "Python 3",
   "language": "python",
   "name": "python3"
  },
  "language_info": {
   "codemirror_mode": {
    "name": "ipython",
    "version": 3
   },
   "file_extension": ".py",
   "mimetype": "text/x-python",
   "name": "python",
   "nbconvert_exporter": "python",
   "pygments_lexer": "ipython3",
   "version": "3.8.8"
  },
  "nbTranslate": {
   "displayLangs": [
    "*"
   ],
   "hotkey": "alt-t",
   "langInMainMenu": true,
   "sourceLang": "en",
   "targetLang": "fr",
   "useGoogleTranslate": true
  }
 },
 "nbformat": 4,
 "nbformat_minor": 1
}
