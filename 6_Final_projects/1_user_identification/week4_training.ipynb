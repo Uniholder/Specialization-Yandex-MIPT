{
 "cells": [
  {
   "cell_type": "markdown",
   "metadata": {
    "id": "e_eWVDiu7qaV"
   },
   "source": [
    "<center>\n",
    "<img src=\"https://habrastorage.org/web/677/8e1/337/6778e1337c3d4b159d7e99df94227cb2.jpg\"/>\n",
    "\n",
    "## Специализация \"Машинное обучение и анализ данных\"\n",
    "<center>Автор материала: программист-исследователь Mail.Ru Group, старший преподаватель Факультета Компьютерных Наук ВШЭ [Юрий Кашницкий](https://yorko.github.io/)"
   ]
  },
  {
   "cell_type": "markdown",
   "metadata": {
    "id": "asAxmFE47qaa"
   },
   "source": [
    "# <center> Capstone проект №1 <br> Идентификация пользователей по посещенным веб-страницам\n",
    "<img src='http://i.istockimg.com/file_thumbview_approve/21546327/5/stock-illustration-21546327-identification-de-l-utilisateur.jpg'>\n",
    "\n",
    "# <center>Неделя 4.  Сравнение алгоритмов классификации\n",
    "\n",
    "Теперь мы наконец подойдем к обучению моделей классификации, сравним на кросс-валидации несколько алгоритмов, разберемся, какие параметры длины сессии (*session_length* и *window_size*) лучше использовать. Также для выбранного алгоритма построим кривые валидации (как качество классификации зависит от одного из гиперпараметров алгоритма) и кривые обучения (как качество классификации зависит от объема выборки).\n",
    "\n",
    "**План 4 недели:**\n",
    "- Часть 1. Сравнение нескольких алгоритмов на сессиях из 10 сайтов\n",
    "- Часть 2. Выбор параметров – длины сессии и ширины окна\n",
    "- Часть 3. Идентификация  конкретного пользователя и кривые обучения\n",
    " \n",
    "\n",
    "\n",
    "**В этой части проекта Вам могут быть полезны видеозаписи следующих лекций курса \"Обучение на размеченных данных\":**\n",
    "   - [Линейная классификация](https://www.coursera.org/learn/supervised-learning/lecture/jqLcO/linieinaia-klassifikatsiia)\n",
    "   - [Сравнение алгоритмов и выбор гиперпараметров](https://www.coursera.org/learn/supervised-learning/lecture/aF79U/sravnieniie-alghoritmov-i-vybor-ghipierparamietrov)\n",
    "   - [Кросс-валидация. Sklearn.cross_validation](https://www.coursera.org/learn/supervised-learning/lecture/XbHEk/kross-validatsiia-sklearn-cross-validation)\n",
    "   - [Линейные модели. Sklearn.linear_model. Классификация](https://www.coursera.org/learn/supervised-learning/lecture/EBg9t/linieinyie-modieli-sklearn-linear-model-klassifikatsiia)\n",
    "   - и многие другие\n"
   ]
  },
  {
   "cell_type": "markdown",
   "metadata": {
    "id": "ugmpRkIn7qac"
   },
   "source": [
    "### Задание\n",
    "1. Заполните код в этой тетрадке \n",
    "2. Если вы проходите специализацию Яндеса и МФТИ, пошлите файл с ответами в соответствующем Programming Assignment. <br> Если вы проходите курс ODS, выберите ответы в [веб-форме](https://docs.google.com/forms/d/12VB7kmzDoSVzSpQNaJp0tR-2t8K8PynQopP3dypf7i4).  "
   ]
  },
  {
   "cell_type": "code",
   "execution_count": 1,
   "metadata": {
    "id": "XEx5wMoC7qae"
   },
   "outputs": [],
   "source": [
    "# !pip install watermark\n",
    "%load_ext watermark"
   ]
  },
  {
   "cell_type": "code",
   "execution_count": 2,
   "metadata": {
    "colab": {
     "base_uri": "https://localhost:8080/"
    },
    "id": "oL4Ogqhf7qag",
    "outputId": "81a250e5-343a-478d-f5cc-bddca40fefac"
   },
   "outputs": [
    {
     "name": "stdout",
     "output_type": "stream",
     "text": [
      "Python implementation: CPython\n",
      "Python version       : 3.7.9\n",
      "IPython version      : 7.20.0\n",
      "\n",
      "numpy      : 1.19.2\n",
      "scipy      : 1.5.3\n",
      "pandas     : 1.2.1\n",
      "matplotlib : 3.3.4\n",
      "statsmodels: 0.12.1\n",
      "sklearn    : 0.24.1\n",
      "\n",
      "Compiler    : MSC v.1916 64 bit (AMD64)\n",
      "OS          : Windows\n",
      "Release     : 10\n",
      "Machine     : AMD64\n",
      "Processor   : AMD64 Family 23 Model 1 Stepping 1, AuthenticAMD\n",
      "CPU cores   : 16\n",
      "Architecture: 64bit\n",
      "\n",
      "Git hash: 59643f693d26becf2b4a200909b56b5698ce3513\n",
      "\n"
     ]
    }
   ],
   "source": [
    "%watermark -v -m -p numpy,scipy,pandas,matplotlib,statsmodels,sklearn -g"
   ]
  },
  {
   "cell_type": "code",
   "execution_count": 3,
   "metadata": {
    "colab": {
     "base_uri": "https://localhost:8080/"
    },
    "id": "W8F084Pj-e3c",
    "outputId": "44f58de9-bc58-4e29-d4fd-26c6fe54476d"
   },
   "outputs": [
    {
     "name": "stdout",
     "output_type": "stream",
     "text": [
      "Python implementation: CPython\n",
      "Python version       : 3.7.9\n",
      "IPython version      : 7.20.0\n",
      "\n",
      "numpy      : 1.19.2\n",
      "scipy      : 1.5.3\n",
      "pandas     : 1.2.1\n",
      "matplotlib : 3.3.4\n",
      "statsmodels: 0.12.1\n",
      "sklearn    : 0.24.1\n",
      "\n",
      "Compiler    : MSC v.1916 64 bit (AMD64)\n",
      "OS          : Windows\n",
      "Release     : 10\n",
      "Machine     : AMD64\n",
      "Processor   : AMD64 Family 23 Model 1 Stepping 1, AuthenticAMD\n",
      "CPU cores   : 16\n",
      "Architecture: 64bit\n",
      "\n",
      "Git hash: 59643f693d26becf2b4a200909b56b5698ce3513\n",
      "\n"
     ]
    }
   ],
   "source": [
    "# не запускать\n",
    "%watermark -v -m -p numpy,scipy,pandas,matplotlib,statsmodels,sklearn -g"
   ]
  },
  {
   "cell_type": "code",
   "execution_count": 4,
   "metadata": {
    "id": "QtsTVhHm7qai"
   },
   "outputs": [],
   "source": [
    "from __future__ import division, print_function\n",
    "# отключим всякие предупреждения Anaconda\n",
    "import warnings\n",
    "warnings.filterwarnings('ignore')\n",
    "from time import time\n",
    "import itertools\n",
    "import os\n",
    "import numpy as np\n",
    "import pandas as pd\n",
    "import seaborn as sns\n",
    "%matplotlib inline\n",
    "from matplotlib import pyplot as plt\n",
    "import pickle\n",
    "from scipy.sparse import csr_matrix\n",
    "from sklearn.model_selection import train_test_split, cross_val_score, StratifiedKFold, GridSearchCV\n",
    "from sklearn.metrics import accuracy_score, f1_score"
   ]
  },
  {
   "cell_type": "code",
   "execution_count": 5,
   "metadata": {
    "id": "22azpumT7qaj"
   },
   "outputs": [],
   "source": [
    "# Поменяйте на свой путь к данным\n",
    "PATH_TO_DATA = 'capstone_user_identification'"
   ]
  },
  {
   "cell_type": "code",
   "execution_count": 6,
   "metadata": {
    "id": "RQS0sNZRxPKF"
   },
   "outputs": [],
   "source": [
    "def write_answer_to_file(answer, file_address):\n",
    "    with open(file_address, 'w') as out_f:\n",
    "        out_f.write(str(answer))"
   ]
  },
  {
   "cell_type": "markdown",
   "metadata": {
    "id": "PD1fS_6u7qak"
   },
   "source": [
    "## Часть 1. Сравнение нескольких алгоритмов на сессиях из 10 сайтов"
   ]
  },
  {
   "cell_type": "markdown",
   "metadata": {
    "id": "7VorfZV57qal"
   },
   "source": [
    "**Загрузим сериализованные ранее объекты *X_sparse_10users* и *y_10users*, соответствующие обучающей выборке для 10 пользователей.**"
   ]
  },
  {
   "cell_type": "code",
   "execution_count": 7,
   "metadata": {
    "id": "wkWf7o5y_oVC"
   },
   "outputs": [],
   "source": [
    "# !unzip capstone_user_identification.zip"
   ]
  },
  {
   "cell_type": "code",
   "execution_count": 8,
   "metadata": {
    "id": "2byMqgsv7qal"
   },
   "outputs": [],
   "source": [
    "with open(os.path.join(PATH_TO_DATA, 'sparse_features',  'X_sparse_10users.pkl'), 'rb') as X_sparse_10users_pkl:\n",
    "    X_sparse_10users = pickle.load(X_sparse_10users_pkl)\n",
    "with open(os.path.join(PATH_TO_DATA, 'sparse_features', 'y_10users.pkl'), 'rb') as y_10users_pkl:\n",
    "    y_10users = pickle.load(y_10users_pkl)"
   ]
  },
  {
   "cell_type": "markdown",
   "metadata": {
    "id": "pPlQANY-7qan"
   },
   "source": [
    "**Здесь более 14 тысяч сессий и почти 5 тысяч уникальных посещенных сайтов.**"
   ]
  },
  {
   "cell_type": "code",
   "execution_count": 9,
   "metadata": {
    "colab": {
     "base_uri": "https://localhost:8080/"
    },
    "id": "ed5OsmiP7qao",
    "outputId": "96aed175-0402-4f58-890a-7b91e4c4e039"
   },
   "outputs": [
    {
     "data": {
      "text/plain": [
       "(14061, 4913)"
      ]
     },
     "execution_count": 9,
     "metadata": {},
     "output_type": "execute_result"
    }
   ],
   "source": [
    "X_sparse_10users.shape"
   ]
  },
  {
   "cell_type": "markdown",
   "metadata": {
    "id": "XN3e_cqN7qap"
   },
   "source": [
    "**Разобьем выборку на 2 части. На одной будем проводить кросс-валидацию, на второй – оценивать модель, обученную после кросс-валидации.**"
   ]
  },
  {
   "cell_type": "code",
   "execution_count": 10,
   "metadata": {
    "id": "y12i4lTx7qaq"
   },
   "outputs": [],
   "source": [
    "X_train, X_valid, y_train, y_valid = train_test_split(X_sparse_10users, y_10users, \n",
    "                                                      test_size=0.3, \n",
    "                                                     random_state=17, stratify=y_10users)"
   ]
  },
  {
   "cell_type": "markdown",
   "metadata": {
    "id": "UlrUS8Lw7qaq"
   },
   "source": [
    "**Зададим заранее тип кросс-валидации: 3-кратная, с перемешиванием, параметр random_state=17 – для воспроизводимости.**"
   ]
  },
  {
   "cell_type": "code",
   "execution_count": 11,
   "metadata": {
    "id": "FgzKtxFI7qar"
   },
   "outputs": [],
   "source": [
    "skf = StratifiedKFold(n_splits=3, shuffle=True, random_state=17)"
   ]
  },
  {
   "cell_type": "markdown",
   "metadata": {
    "id": "2PO0qR1M7qas"
   },
   "source": [
    "**Вспомогательная функция для отрисовки кривых валидации после запуска GridSearchCV (или RandomizedCV).**"
   ]
  },
  {
   "cell_type": "code",
   "execution_count": 12,
   "metadata": {
    "id": "IF9JMQWu7qat"
   },
   "outputs": [],
   "source": [
    "def plot_validation_curves(param_values, grid_cv_results_):\n",
    "    train_mu, train_std = grid_cv_results_['mean_train_score'], grid_cv_results_['std_train_score']\n",
    "    valid_mu, valid_std = grid_cv_results_['mean_test_score'], grid_cv_results_['std_test_score']\n",
    "    train_line = plt.plot(param_values, train_mu, '-', label='train', color='green')\n",
    "    valid_line = plt.plot(param_values, valid_mu, '-', label='test', color='red')\n",
    "    plt.fill_between(param_values, train_mu - train_std, train_mu + train_std, edgecolor='none',\n",
    "                     facecolor=train_line[0].get_color(), alpha=0.2)\n",
    "    plt.fill_between(param_values, valid_mu - valid_std, valid_mu + valid_std, edgecolor='none',\n",
    "                     facecolor=valid_line[0].get_color(), alpha=0.2)\n",
    "    plt.legend()"
   ]
  },
  {
   "cell_type": "markdown",
   "metadata": {
    "id": "OdyXDaos7qav"
   },
   "source": [
    "**1. Обучите `KNeighborsClassifier` со 100 ближайшими соседями (остальные параметры оставьте по умолчанию, только `n_jobs`=-1 для распараллеливания) и посмотрите на долю правильных ответов на 3-кратной кросс-валидации (ради воспроизводимости используйте для этого объект `StratifiedKFold` `skf`) по выборке `(X_train, y_train)` и отдельно на выборке `(X_valid, y_valid)`.**"
   ]
  },
  {
   "cell_type": "code",
   "execution_count": 13,
   "metadata": {
    "id": "puz6wupK7qaw"
   },
   "outputs": [],
   "source": [
    "from sklearn.neighbors import KNeighborsClassifier"
   ]
  },
  {
   "cell_type": "code",
   "execution_count": 14,
   "metadata": {
    "id": "QuFi444B7qaw"
   },
   "outputs": [],
   "source": [
    "knn = KNeighborsClassifier(n_neighbors=100, n_jobs=1)"
   ]
  },
  {
   "cell_type": "code",
   "execution_count": 15,
   "metadata": {
    "colab": {
     "base_uri": "https://localhost:8080/"
    },
    "id": "uMs7glBBIGf7",
    "outputId": "51833fc5-bf4b-47dc-87bb-d8200eddb7ab"
   },
   "outputs": [
    {
     "data": {
      "text/plain": [
       "KNeighborsClassifier(n_jobs=1, n_neighbors=100)"
      ]
     },
     "execution_count": 15,
     "metadata": {},
     "output_type": "execute_result"
    }
   ],
   "source": [
    "knn.fit(X_train, y_train)"
   ]
  },
  {
   "cell_type": "markdown",
   "metadata": {
    "id": "yYOtqZje7qax"
   },
   "source": [
    "**<font color='red'>Вопрос 1. </font> Посчитайте доли правильных ответов для KNeighborsClassifier на кросс-валидации и отложенной выборке. Округлите каждое до 3 знаков после запятой и введите через пробел.**"
   ]
  },
  {
   "cell_type": "markdown",
   "metadata": {
    "id": "9Vj-YutyVt3F"
   },
   "source": [
    "Точность на кросс-валидации"
   ]
  },
  {
   "cell_type": "code",
   "execution_count": 16,
   "metadata": {
    "id": "4iTU5Nvf7qay"
   },
   "outputs": [
    {
     "data": {
      "text/plain": [
       "array([0.56598598, 0.55409936, 0.55792683])"
      ]
     },
     "execution_count": 16,
     "metadata": {},
     "output_type": "execute_result"
    }
   ],
   "source": [
    "knn_score_cv = cross_val_score(knn, X_train, y_train, cv=skf, scoring='accuracy')\n",
    "knn_score_cv"
   ]
  },
  {
   "cell_type": "markdown",
   "metadata": {
    "id": "-OVqds8YT8KU"
   },
   "source": [
    "Точность на отложенной выборке"
   ]
  },
  {
   "cell_type": "code",
   "execution_count": 17,
   "metadata": {
    "colab": {
     "base_uri": "https://localhost:8080/"
    },
    "id": "uSSzoWmKQNBR",
    "outputId": "dc0e1d72-6419-4aae-b812-5b4210fa7e4f"
   },
   "outputs": [
    {
     "data": {
      "text/plain": [
       "0.584024650391088"
      ]
     },
     "execution_count": 17,
     "metadata": {},
     "output_type": "execute_result"
    }
   ],
   "source": [
    "accuracy_score(y_valid, knn.predict(X_valid))"
   ]
  },
  {
   "cell_type": "code",
   "execution_count": 18,
   "metadata": {
    "colab": {
     "base_uri": "https://localhost:8080/",
     "height": 323
    },
    "id": "q6nSxND4VRpT",
    "outputId": "5e5551ab-86a8-4a87-9daa-2c02bd1e3122"
   },
   "outputs": [
    {
     "data": {
      "text/plain": [
       "0.584024650391088"
      ]
     },
     "execution_count": 18,
     "metadata": {},
     "output_type": "execute_result"
    }
   ],
   "source": [
    "knn_score_val = knn.score(X_valid, y_valid)\n",
    "knn_score_val"
   ]
  },
  {
   "cell_type": "code",
   "execution_count": 19,
   "metadata": {
    "id": "HfyRhFeexxml"
   },
   "outputs": [],
   "source": [
    "write_answer_to_file(f'{round(knn_score_cv.mean(), 3)} {round(knn_score_val, 3)}',\n",
    "                     'answer4_1.txt')"
   ]
  },
  {
   "cell_type": "markdown",
   "metadata": {
    "id": "RSEFzqDs7qaz"
   },
   "source": [
    "**2. Обучите случайный лес (`RandomForestClassifier`) из 100 деревьев (для воспроизводимости `random_state`=17). Посмотрите на OOB-оценку (для этого надо сразу установить `oob_score`=True) и на долю правильных ответов на выборке `(X_valid, y_valid)`. Для распараллеливания задайте `n_jobs`=-1.**"
   ]
  },
  {
   "cell_type": "code",
   "execution_count": 20,
   "metadata": {
    "id": "E7aQRrFG7qa0"
   },
   "outputs": [],
   "source": [
    "from sklearn.ensemble import RandomForestClassifier"
   ]
  },
  {
   "cell_type": "code",
   "execution_count": 21,
   "metadata": {
    "id": "whffCbye7qa1"
   },
   "outputs": [],
   "source": [
    "forest = RandomForestClassifier(n_estimators=100, random_state=17, oob_score=True, n_jobs=-1)"
   ]
  },
  {
   "cell_type": "code",
   "execution_count": 22,
   "metadata": {
    "colab": {
     "base_uri": "https://localhost:8080/"
    },
    "id": "YkHwD11nrbit",
    "outputId": "cae27e60-4231-4f4c-da66-f8bc943afb34"
   },
   "outputs": [
    {
     "data": {
      "text/plain": [
       "RandomForestClassifier(n_jobs=-1, oob_score=True, random_state=17)"
      ]
     },
     "execution_count": 22,
     "metadata": {},
     "output_type": "execute_result"
    }
   ],
   "source": [
    "forest.fit(X_train, y_train)"
   ]
  },
  {
   "cell_type": "markdown",
   "metadata": {
    "id": "tJWeJM8e7qa2"
   },
   "source": [
    "**<font color='red'>Вопрос 2. </font> Посчитайте доли правильных ответов для `RandomForestClassifier` при Out-of-Bag оценке и на отложенной выборке. Округлите каждое до 3 знаков после запятой и введите через пробел.**"
   ]
  },
  {
   "cell_type": "code",
   "execution_count": 23,
   "metadata": {
    "colab": {
     "base_uri": "https://localhost:8080/"
    },
    "id": "mNoKfrhfxWi7",
    "outputId": "e3dffc22-264a-4fed-d174-d92ee53b989d"
   },
   "outputs": [
    {
     "data": {
      "text/plain": [
       "0.7225157488315384"
      ]
     },
     "execution_count": 23,
     "metadata": {},
     "output_type": "execute_result"
    }
   ],
   "source": [
    "rf_score_cv = forest.oob_score_\n",
    "rf_score_cv"
   ]
  },
  {
   "cell_type": "code",
   "execution_count": 24,
   "metadata": {
    "colab": {
     "base_uri": "https://localhost:8080/"
    },
    "id": "LjiPGwzpM8JQ",
    "outputId": "f5d2ff88-3606-4fc4-8de1-cad53d359457"
   },
   "outputs": [
    {
     "data": {
      "text/plain": [
       "0.7350082958046931"
      ]
     },
     "execution_count": 24,
     "metadata": {},
     "output_type": "execute_result"
    }
   ],
   "source": [
    "rf_score_val = forest.score(X_valid, y_valid)\n",
    "rf_score_val"
   ]
  },
  {
   "cell_type": "code",
   "execution_count": 22,
   "metadata": {
    "collapsed": true,
    "id": "WX6DxE_Z7qa2"
   },
   "outputs": [],
   "source": [
    "write_answer_to_file(f'{round(rf_score_cv, 3)} {round(rf_score_val, 3)}',\n",
    "                     'answer4_2.txt')"
   ]
  },
  {
   "cell_type": "code",
   "execution_count": 23,
   "metadata": {
    "colab": {
     "base_uri": "https://localhost:8080/"
    },
    "id": "krlz7UU07qa3",
    "outputId": "671d2cc4-85f1-4c40-b3a9-4fa24b0ff2eb"
   },
   "outputs": [
    {
     "name": "stdout",
     "output_type": "stream",
     "text": [
      "0.723 0.735"
     ]
    }
   ],
   "source": [
    "!cat answer4_2.txt"
   ]
  },
  {
   "cell_type": "markdown",
   "metadata": {
    "id": "sHmyjXq77qa3"
   },
   "source": [
    "**3. Обучите логистическую регрессию (`LogisticRegression`) с параметром `C` по умолчанию и `random_state`=17 (для воспроизводимости). Посмотрите на долю правильных ответов на кросс-валидации (используйте объект `skf`, созданный ранее) и на выборке `(X_valid, y_valid)`. Для распараллеливания задайте `n_jobs=-1`.**"
   ]
  },
  {
   "cell_type": "code",
   "execution_count": 25,
   "metadata": {
    "id": "Tdku7xn_7qa4"
   },
   "outputs": [],
   "source": [
    "from sklearn.linear_model import LogisticRegression, LogisticRegressionCV"
   ]
  },
  {
   "cell_type": "code",
   "execution_count": 26,
   "metadata": {
    "id": "r3UfotFl7qa5"
   },
   "outputs": [],
   "source": [
    "logit = LogisticRegression(random_state=17, n_jobs=-1)"
   ]
  },
  {
   "cell_type": "code",
   "execution_count": 27,
   "metadata": {
    "colab": {
     "base_uri": "https://localhost:8080/"
    },
    "id": "mtF45uSF1ZcG",
    "outputId": "2540f780-b933-417b-d551-5570f0a7a4d2"
   },
   "outputs": [
    {
     "data": {
      "text/plain": [
       "LogisticRegression(n_jobs=-1, random_state=17)"
      ]
     },
     "execution_count": 27,
     "metadata": {},
     "output_type": "execute_result"
    }
   ],
   "source": [
    "logit.fit(X_train, y_train)"
   ]
  },
  {
   "cell_type": "code",
   "execution_count": 28,
   "metadata": {
    "colab": {
     "base_uri": "https://localhost:8080/"
    },
    "id": "qV_d3S2J2JUe",
    "outputId": "4802eddc-81f4-47c4-c1c9-57164f5e1781"
   },
   "outputs": [
    {
     "data": {
      "text/plain": [
       "array([0.76104846, 0.74824749, 0.77256098])"
      ]
     },
     "execution_count": 28,
     "metadata": {},
     "output_type": "execute_result"
    }
   ],
   "source": [
    "logit_score_cv = cross_val_score(logit, X_train, y_train, cv=skf, scoring='accuracy', n_jobs=-1)\n",
    "logit_score_cv"
   ]
  },
  {
   "cell_type": "code",
   "execution_count": 29,
   "metadata": {
    "colab": {
     "base_uri": "https://localhost:8080/"
    },
    "id": "TBOsFnCl36P-",
    "outputId": "8220bf78-7865-499c-ae16-db912140f1f1"
   },
   "outputs": [
    {
     "data": {
      "text/plain": [
       "0.7606189739891912"
      ]
     },
     "execution_count": 29,
     "metadata": {},
     "output_type": "execute_result"
    }
   ],
   "source": [
    "logit_score_cv.mean()"
   ]
  },
  {
   "cell_type": "code",
   "execution_count": 30,
   "metadata": {
    "colab": {
     "base_uri": "https://localhost:8080/"
    },
    "id": "ePMEgIpINFiB",
    "outputId": "07a10a7f-ecfd-4a59-9763-b7a32d0b0997"
   },
   "outputs": [
    {
     "data": {
      "text/plain": [
       "0.7767243422611994"
      ]
     },
     "execution_count": 30,
     "metadata": {},
     "output_type": "execute_result"
    }
   ],
   "source": [
    "logit_score_val = logit.score(X_valid, y_valid)\n",
    "logit_score_val"
   ]
  },
  {
   "cell_type": "markdown",
   "metadata": {
    "id": "dZ3--_897qa5"
   },
   "source": [
    "**Почитайте документацию к [LogisticRegressionCV](http://scikit-learn.org/stable/modules/generated/sklearn.linear_model.LogisticRegressionCV.html). Логистическая регрессия хорошо изучена, и для нее существуют алгоритмы быстрого подбора параметра регуляризации `C` (быстрее, чем с `GridSearchCV`).**\n",
    "\n",
    "**С помощью `LogisticRegressionCV` подберите параметр `C` для `LogisticRegression` сначала в широком диапазоне: 10 значений от 1e-4 до 1e2, используйте `logspace` из `NumPy`. Укажите у `LogisticRegressionCV` параметры `multi_class`='multinomial' и `random_state`=17. Для кросс-валидации используйте объект `skf`, созданный ранее. Для распараллеливания задайте `n_jobs=-1`.**\n",
    "\n",
    "**Нарисуйте кривые валидации по параметру `C`.**"
   ]
  },
  {
   "cell_type": "code",
   "execution_count": 31,
   "metadata": {
    "colab": {
     "base_uri": "https://localhost:8080/"
    },
    "id": "xJj41XgT7qa6",
    "outputId": "95c1e03a-bf02-4981-81df-53b9f896be89"
   },
   "outputs": [
    {
     "name": "stdout",
     "output_type": "stream",
     "text": [
      "Wall time: 9.25 s\n"
     ]
    },
    {
     "data": {
      "text/plain": [
       "LogisticRegressionCV(Cs=array([1.00000000e-04, 4.64158883e-04, 2.15443469e-03, 1.00000000e-02,\n",
       "       4.64158883e-02, 2.15443469e-01, 1.00000000e+00, 4.64158883e+00,\n",
       "       2.15443469e+01, 1.00000000e+02]),\n",
       "                     cv=StratifiedKFold(n_splits=3, random_state=17, shuffle=True),\n",
       "                     multi_class='multinomial', n_jobs=-1, random_state=17)"
      ]
     },
     "execution_count": 31,
     "metadata": {},
     "output_type": "execute_result"
    }
   ],
   "source": [
    "%%time\n",
    "logit_c_values1 = np.logspace(-4, 2, 10)\n",
    "\n",
    "logit_grid_searcher1 = LogisticRegressionCV(logit_c_values1, random_state=17, n_jobs=-1, multi_class='multinomial', cv=skf)\n",
    "logit_grid_searcher1.fit(X_train, y_train)"
   ]
  },
  {
   "cell_type": "markdown",
   "metadata": {
    "id": "B16rvd7W7qa7"
   },
   "source": [
    "Средние значения доли правильных ответов на кросс-валидации по каждому из 10 параметров `C`."
   ]
  },
  {
   "cell_type": "code",
   "execution_count": 32,
   "metadata": {
    "colab": {
     "base_uri": "https://localhost:8080/"
    },
    "id": "8Lx6B8Z77qa7",
    "outputId": "e45acefd-5f6e-4d51-a7a2-41bc247a1d92"
   },
   "outputs": [
    {
     "data": {
      "text/plain": [
       "array([0.31954964, 0.47307397, 0.55202236, 0.64875035, 0.71438846,\n",
       "       0.75177962, 0.76112704, 0.75838391, 0.75015382, 0.74060311])"
      ]
     },
     "execution_count": 32,
     "metadata": {},
     "output_type": "execute_result"
    }
   ],
   "source": [
    "logit_mean_cv_scores1 = list(logit_grid_searcher1.scores_.values())[0].mean(axis=0)\n",
    "logit_mean_cv_scores1"
   ]
  },
  {
   "cell_type": "markdown",
   "metadata": {
    "id": "W8YqR7Fe7qa8"
   },
   "source": [
    "Выведите лучшее значение доли правильных ответов на кросс-валидации и соответствующее значение `C`."
   ]
  },
  {
   "cell_type": "code",
   "execution_count": 33,
   "metadata": {
    "colab": {
     "base_uri": "https://localhost:8080/"
    },
    "id": "dmwsJmjB7qa9",
    "outputId": "45f9263f-12db-4ef7-c39b-d4aa94d97228"
   },
   "outputs": [
    {
     "data": {
      "text/plain": [
       "(1.0, 0.7611270421222956)"
      ]
     },
     "execution_count": 33,
     "metadata": {},
     "output_type": "execute_result"
    }
   ],
   "source": [
    "logit_grid_searcher1.C_[0], logit_mean_cv_scores1.max()"
   ]
  },
  {
   "cell_type": "code",
   "execution_count": 34,
   "metadata": {
    "colab": {
     "base_uri": "https://localhost:8080/"
    },
    "id": "rSe4VQjtBNZ6",
    "outputId": "a37e3395-61cd-41cd-d8b3-5893a51d6b25"
   },
   "outputs": [
    {
     "data": {
      "text/plain": [
       "1.0"
      ]
     },
     "execution_count": 34,
     "metadata": {},
     "output_type": "execute_result"
    }
   ],
   "source": [
    "logit_c_values1[logit_mean_cv_scores1.argmax()]"
   ]
  },
  {
   "cell_type": "markdown",
   "metadata": {
    "id": "u9f5UZAz7qa9"
   },
   "source": [
    "Нарисуйте график зависимости доли правильных ответов на кросс-валидации от `C`."
   ]
  },
  {
   "cell_type": "code",
   "execution_count": 35,
   "metadata": {
    "colab": {
     "base_uri": "https://localhost:8080/",
     "height": 265
    },
    "id": "cWIcwuW67qa9",
    "outputId": "fe61144e-5a79-4631-fdf1-4104a82213b9"
   },
   "outputs": [
    {
     "data": {
      "image/png": "[encoded data removed]",
      "text/plain": [
       "<Figure size 432x288 with 1 Axes>"
      ]
     },
     "metadata": {
      "needs_background": "light"
     },
     "output_type": "display_data"
    }
   ],
   "source": [
    "plt.plot(logit_c_values1, logit_mean_cv_scores1);"
   ]
  },
  {
   "cell_type": "markdown",
   "metadata": {
    "id": "cIWhOaO67qa-"
   },
   "source": [
    "**Теперь то же самое, только значения параметра `C` перебирайте в диапазоне `np.linspace`(0.1, 7, 20). Опять нарисуйте кривые валидации, определите максимальное значение доли правильных ответов на кросс-валидации.**"
   ]
  },
  {
   "cell_type": "code",
   "execution_count": 36,
   "metadata": {
    "colab": {
     "base_uri": "https://localhost:8080/"
    },
    "id": "cNkYiEtW7qa-",
    "outputId": "4255d733-f5bf-488a-b0e0-f3a255b211e6"
   },
   "outputs": [
    {
     "name": "stdout",
     "output_type": "stream",
     "text": [
      "Wall time: 22.2 s\n"
     ]
    },
    {
     "data": {
      "text/plain": [
       "LogisticRegressionCV(Cs=array([0.1       , 0.46315789, 0.82631579, 1.18947368, 1.55263158,\n",
       "       1.91578947, 2.27894737, 2.64210526, 3.00526316, 3.36842105,\n",
       "       3.73157895, 4.09473684, 4.45789474, 4.82105263, 5.18421053,\n",
       "       5.54736842, 5.91052632, 6.27368421, 6.63684211, 7.        ]),\n",
       "                     cv=StratifiedKFold(n_splits=3, random_state=17, shuffle=True),\n",
       "                     multi_class='multinomial', n_jobs=-1, random_state=17)"
      ]
     },
     "execution_count": 36,
     "metadata": {},
     "output_type": "execute_result"
    }
   ],
   "source": [
    "%%time\n",
    "logit_c_values2 = np.linspace(0.1, 7, 20)\n",
    "\n",
    "logit_grid_searcher2 = LogisticRegressionCV(logit_c_values2, random_state=17, n_jobs=-1, multi_class='multinomial', cv=skf)\n",
    "logit_grid_searcher2.fit(X_train, y_train)"
   ]
  },
  {
   "cell_type": "markdown",
   "metadata": {
    "id": "nZxoVRvH7qa_"
   },
   "source": [
    "Средние значения доли правильных ответов на кросс-валидации по каждому из 10 параметров `C`."
   ]
  },
  {
   "cell_type": "code",
   "execution_count": 37,
   "metadata": {
    "colab": {
     "base_uri": "https://localhost:8080/"
    },
    "id": "FfZgZDJ07qbA",
    "outputId": "aecf2865-aacc-4e7b-9574-23c8a7d1a09f"
   },
   "outputs": [
    {
     "data": {
      "text/plain": [
       "array([0.73481117, 0.75929815, 0.76122864, 0.76082216, 0.76122861,\n",
       "       0.76153352, 0.75980615, 0.75939974, 0.75960293, 0.75950143,\n",
       "       0.75919661, 0.75858698, 0.75777422, 0.75716465, 0.75706302,\n",
       "       0.75635177, 0.75523425, 0.75523425, 0.7538118 , 0.75310051])"
      ]
     },
     "execution_count": 37,
     "metadata": {},
     "output_type": "execute_result"
    }
   ],
   "source": [
    "logit_mean_cv_scores2 = list(logit_grid_searcher2.scores_.values())[0].mean(axis=0)\n",
    "logit_mean_cv_scores2"
   ]
  },
  {
   "cell_type": "markdown",
   "metadata": {
    "id": "appvXKOM7qbB"
   },
   "source": [
    "Выведите лучшее значение доли правильных ответов на кросс-валидации и соответствующее значение `C`."
   ]
  },
  {
   "cell_type": "code",
   "execution_count": 38,
   "metadata": {
    "colab": {
     "base_uri": "https://localhost:8080/"
    },
    "id": "ieOsigc17qbB",
    "outputId": "51c8347a-cd2c-4870-92c5-f0110a79ce6c"
   },
   "outputs": [
    {
     "data": {
      "text/plain": [
       "(1.9157894736842107, 0.761533515213238)"
      ]
     },
     "execution_count": 38,
     "metadata": {},
     "output_type": "execute_result"
    }
   ],
   "source": [
    "logit_grid_searcher2.C_[0], logit_mean_cv_scores2.max()"
   ]
  },
  {
   "cell_type": "markdown",
   "metadata": {
    "id": "vUZeVh-R7qbC"
   },
   "source": [
    "Нарисуйте график зависимости доли правильных ответов на кросс-валидации от `C`."
   ]
  },
  {
   "cell_type": "code",
   "execution_count": 39,
   "metadata": {
    "colab": {
     "base_uri": "https://localhost:8080/",
     "height": 265
    },
    "id": "_jqcp8iH7qbC",
    "outputId": "b9cd80bf-1a77-4fca-df05-115dff39e1e1"
   },
   "outputs": [
    {
     "data": {
      "image/png": "[encoded data removed]",
      "text/plain": [
       "<Figure size 432x288 with 1 Axes>"
      ]
     },
     "metadata": {
      "needs_background": "light"
     },
     "output_type": "display_data"
    }
   ],
   "source": [
    "plt.plot(logit_c_values2, logit_mean_cv_scores2);"
   ]
  },
  {
   "cell_type": "markdown",
   "metadata": {
    "id": "aGYGIYW47qbD"
   },
   "source": [
    "Выведите долю правильных ответов на выборке `(X_valid, y_valid)` для логистической регрессии с лучшим найденным значением `C`."
   ]
  },
  {
   "cell_type": "code",
   "execution_count": 40,
   "metadata": {
    "colab": {
     "base_uri": "https://localhost:8080/"
    },
    "id": "1ezBwsFKNOcA",
    "outputId": "aea210d4-ee0c-4ef0-d81c-f948d994831a"
   },
   "outputs": [
    {
     "data": {
      "text/plain": [
       "0.7790945721735009"
      ]
     },
     "execution_count": 40,
     "metadata": {},
     "output_type": "execute_result"
    }
   ],
   "source": [
    "logit_cv_acc = logit_grid_searcher2.score(X_valid, y_valid)\n",
    "logit_cv_acc"
   ]
  },
  {
   "cell_type": "markdown",
   "metadata": {
    "id": "tKcYKL9C7qbE"
   },
   "source": [
    "**<font color='red'>Вопрос 3. </font>Посчитайте доли правильных ответов для `logit_grid_searcher2` на кросс-валидации для лучшего значения параметра `C` и на отложенной выборке. Округлите каждое до 3 знаков после запятой и выведите через пробел.**"
   ]
  },
  {
   "cell_type": "code",
   "execution_count": 41,
   "metadata": {
    "colab": {
     "base_uri": "https://localhost:8080/"
    },
    "id": "Ul1p9AKMF8Hy",
    "outputId": "54dce8e3-24de-4a3b-f1c1-c5e646abfab7"
   },
   "outputs": [
    {
     "data": {
      "text/plain": [
       "LogisticRegression(C=1.9157894736842107, n_jobs=-1, random_state=17)"
      ]
     },
     "execution_count": 41,
     "metadata": {},
     "output_type": "execute_result"
    }
   ],
   "source": [
    "lr = LogisticRegression(C=logit_grid_searcher2.C_[0], random_state=17, n_jobs=-1)\n",
    "lr.fit(X_train, y_train)"
   ]
  },
  {
   "cell_type": "code",
   "execution_count": 42,
   "metadata": {
    "colab": {
     "base_uri": "https://localhost:8080/"
    },
    "id": "1sWw8D2nFSQ6",
    "outputId": "6a6b134e-904d-4f18-a8cc-530b46c59202"
   },
   "outputs": [
    {
     "data": {
      "text/plain": [
       "array([0.76043889, 0.75251448, 0.77408537])"
      ]
     },
     "execution_count": 42,
     "metadata": {},
     "output_type": "execute_result"
    }
   ],
   "source": [
    "lr_score_cv = cross_val_score(lr, X_train, y_train, cv=skf, scoring='accuracy', n_jobs=-1)\n",
    "lr_score_cv"
   ]
  },
  {
   "cell_type": "code",
   "execution_count": 43,
   "metadata": {
    "colab": {
     "base_uri": "https://localhost:8080/"
    },
    "id": "4nl4TNkNNgaM",
    "outputId": "ded5d374-c9ad-49f6-c15a-9ac81a37a246"
   },
   "outputs": [
    {
     "data": {
      "text/plain": [
       "0.7817018250770325"
      ]
     },
     "execution_count": 43,
     "metadata": {},
     "output_type": "execute_result"
    }
   ],
   "source": [
    "lr_score_val = lr.score(X_valid, y_valid)\n",
    "lr_score_val"
   ]
  },
  {
   "cell_type": "code",
   "execution_count": 115,
   "metadata": {
    "id": "o6XrUb-HFGT0"
   },
   "outputs": [],
   "source": [
    "write_answer_to_file(f'{round(lr_score_cv.mean(), 3)} {round(lr_score_val, 3)}',\n",
    "                     'answer4_3.txt')"
   ]
  },
  {
   "cell_type": "code",
   "execution_count": 116,
   "metadata": {
    "colab": {
     "base_uri": "https://localhost:8080/"
    },
    "id": "6KuQlYXRGy8E",
    "outputId": "02a5106a-cfb8-4bf3-e056-5adc2c86cf4f"
   },
   "outputs": [
    {
     "name": "stdout",
     "output_type": "stream",
     "text": [
      "0.762 0.782"
     ]
    }
   ],
   "source": [
    "!cat answer4_3.txt"
   ]
  },
  {
   "cell_type": "markdown",
   "metadata": {
    "id": "Me-t0vVD7qbF"
   },
   "source": [
    "**4. Обучите линейный SVM (`LinearSVC`) с параметром `C`=1 и `random_state`=17 (для воспроизводимости). Посмотрите на долю правильных ответов на кросс-валидации (используйте объект `skf`, созданный ранее) и на выборке `(X_valid, y_valid)`.**"
   ]
  },
  {
   "cell_type": "code",
   "execution_count": 44,
   "metadata": {
    "id": "YY2-V4wq7qbG"
   },
   "outputs": [],
   "source": [
    "from sklearn.svm import LinearSVC"
   ]
  },
  {
   "cell_type": "code",
   "execution_count": 45,
   "metadata": {
    "colab": {
     "base_uri": "https://localhost:8080/"
    },
    "id": "47msKDBx7qbG",
    "outputId": "a24a697f-a4c6-40ff-bd91-31918f45091e"
   },
   "outputs": [
    {
     "data": {
      "text/plain": [
       "LinearSVC(C=1, random_state=17)"
      ]
     },
     "execution_count": 45,
     "metadata": {},
     "output_type": "execute_result"
    }
   ],
   "source": [
    "svm = LinearSVC(C=1, random_state=17)\n",
    "svm.fit(X_train, y_train)"
   ]
  },
  {
   "cell_type": "code",
   "execution_count": 46,
   "metadata": {
    "colab": {
     "base_uri": "https://localhost:8080/"
    },
    "id": "3LBCG8caLM9e",
    "outputId": "fd2e4752-59e1-4511-bf96-595f12da8362"
   },
   "outputs": [
    {
     "data": {
      "text/plain": [
       "array([0.75068577, 0.73270344, 0.7695122 ])"
      ]
     },
     "execution_count": 46,
     "metadata": {},
     "output_type": "execute_result"
    }
   ],
   "source": [
    "svm_score_cv = cross_val_score(svm, X_train, y_train, cv=skf, n_jobs=-1)\n",
    "svm_score_cv"
   ]
  },
  {
   "cell_type": "code",
   "execution_count": 47,
   "metadata": {
    "colab": {
     "base_uri": "https://localhost:8080/"
    },
    "id": "6jy-z3CVLqfK",
    "outputId": "2921f63a-6606-4fcc-9e36-ec2da4262a10"
   },
   "outputs": [
    {
     "data": {
      "text/plain": [
       "0.7509671352428245"
      ]
     },
     "execution_count": 47,
     "metadata": {},
     "output_type": "execute_result"
    }
   ],
   "source": [
    "svm_score_cv.mean()"
   ]
  },
  {
   "cell_type": "code",
   "execution_count": 48,
   "metadata": {
    "colab": {
     "base_uri": "https://localhost:8080/"
    },
    "id": "JQXSNMkqNzUv",
    "outputId": "2abf4827-d2f8-4cfb-c47e-e26809fe105d"
   },
   "outputs": [
    {
     "data": {
      "text/plain": [
       "0.7769613652524295"
      ]
     },
     "execution_count": 48,
     "metadata": {},
     "output_type": "execute_result"
    }
   ],
   "source": [
    "svm_score_val = svm.score(X_valid, y_valid)\n",
    "svm_score_val"
   ]
  },
  {
   "cell_type": "markdown",
   "metadata": {
    "id": "AehtIrTf7qbH"
   },
   "source": [
    "**С помощью `GridSearchCV` подберите параметр `C` для SVM сначала в широком диапазоне: 10 значений от 1e-4 до 1e4, используйте `linspace` из NumPy. Нарисуйте кривые валидации.**"
   ]
  },
  {
   "cell_type": "code",
   "execution_count": 49,
   "metadata": {
    "colab": {
     "base_uri": "https://localhost:8080/"
    },
    "id": "1cnG40liPgvc",
    "outputId": "2ad3d0a5-4b6f-4346-bba7-a6e27b3bf35e"
   },
   "outputs": [
    {
     "data": {
      "text/plain": [
       "array([1.0000000e-04, 1.1111112e+03, 2.2222223e+03, 3.3333334e+03,\n",
       "       4.4444445e+03, 5.5555556e+03, 6.6666667e+03, 7.7777778e+03,\n",
       "       8.8888889e+03, 1.0000000e+04])"
      ]
     },
     "execution_count": 49,
     "metadata": {},
     "output_type": "execute_result"
    }
   ],
   "source": [
    "np.linspace(1e-4, 1e4, 10)"
   ]
  },
  {
   "cell_type": "code",
   "execution_count": 50,
   "metadata": {
    "colab": {
     "base_uri": "https://localhost:8080/"
    },
    "id": "5i9N-Az67qbH",
    "outputId": "e21043ee-1f0b-4c99-8680-348a8dd07f09"
   },
   "outputs": [
    {
     "name": "stdout",
     "output_type": "stream",
     "text": [
      "Wall time: 8.09 s\n"
     ]
    },
    {
     "data": {
      "text/plain": [
       "GridSearchCV(cv=StratifiedKFold(n_splits=3, random_state=17, shuffle=True),\n",
       "             estimator=LinearSVC(C=1, random_state=17), n_jobs=-1,\n",
       "             param_grid={'C': array([1.0000000e-04, 1.1111112e+03, 2.2222223e+03, 3.3333334e+03,\n",
       "       4.4444445e+03, 5.5555556e+03, 6.6666667e+03, 7.7777778e+03,\n",
       "       8.8888889e+03, 1.0000000e+04])},\n",
       "             return_train_score=True, scoring='accuracy')"
      ]
     },
     "execution_count": 50,
     "metadata": {},
     "output_type": "execute_result"
    }
   ],
   "source": [
    "%%time\n",
    "svm_params1 = {'C': np.linspace(1e-4, 1e4, 10)}\n",
    "\n",
    "svm_grid_searcher1 = GridSearchCV(svm, param_grid=svm_params1, n_jobs=-1, cv=skf, scoring='accuracy', return_train_score=True)\n",
    "svm_grid_searcher1.fit(X_train, y_train)"
   ]
  },
  {
   "cell_type": "markdown",
   "metadata": {
    "id": "deBWMbQI7qbH"
   },
   "source": [
    "Выведите лучшее значение доли правильных ответов на кросс-валидации и соответствующее значение `C`."
   ]
  },
  {
   "cell_type": "code",
   "execution_count": 51,
   "metadata": {
    "colab": {
     "base_uri": "https://localhost:8080/"
    },
    "id": "Yupdk7u67qbI",
    "outputId": "1816a82d-bfed-40b2-b8d4-f617c2f57ad7"
   },
   "outputs": [
    {
     "data": {
      "text/plain": [
       "({'C': 5555.555600000001}, 0.6959968146237391)"
      ]
     },
     "execution_count": 51,
     "metadata": {},
     "output_type": "execute_result"
    }
   ],
   "source": [
    "svm_grid_searcher1.best_params_, svm_grid_searcher1.best_score_"
   ]
  },
  {
   "cell_type": "markdown",
   "metadata": {
    "id": "k10EqqIr7qbI"
   },
   "source": [
    "Нарисуйте график зависимости доли правильных ответов на кросс-валидации от `C`."
   ]
  },
  {
   "cell_type": "code",
   "execution_count": 52,
   "metadata": {
    "colab": {
     "base_uri": "https://localhost:8080/",
     "height": 266
    },
    "id": "t9mCtdEY7qbJ",
    "outputId": "51d29403-1ee5-4308-b863-91c8ca6f9962"
   },
   "outputs": [
    {
     "data": {
      "image/png": "[encoded data removed]",
      "text/plain": [
       "<Figure size 432x288 with 1 Axes>"
      ]
     },
     "metadata": {
      "needs_background": "light"
     },
     "output_type": "display_data"
    }
   ],
   "source": [
    "plot_validation_curves(svm_params1['C'], svm_grid_searcher1.cv_results_)"
   ]
  },
  {
   "cell_type": "markdown",
   "metadata": {
    "id": "I2jqm1sl7qbJ"
   },
   "source": [
    "**Но мы помним, что с параметром регуляризации по умолчанию (С=1) на кросс-валидации доля правильных ответов выше. Это тот случай (не редкий), когда можно ошибиться и перебирать параметры не в том диапазоне (причина в том, что мы взяли равномерную сетку на большом интервале и упустили действительно хороший интервал значений `C`). Здесь намного осмысленней подбирать `C` в районе 1, к тому же, так модель быстрее обучается, чем при больших `C`.**\n",
    "\n",
    "**С помощью `GridSearchCV` подберите параметр `C` для SVM в диапазоне (1e-3, 1), 30 значений, используйте `linspace` из NumPy. Нарисуйте кривые валидации.**"
   ]
  },
  {
   "cell_type": "code",
   "execution_count": 53,
   "metadata": {
    "colab": {
     "base_uri": "https://localhost:8080/"
    },
    "id": "RBsQ9ynN7qbK",
    "outputId": "a11df43a-28da-4496-dc6c-20591cd04907"
   },
   "outputs": [
    {
     "name": "stdout",
     "output_type": "stream",
     "text": [
      "Wall time: 8.48 s\n"
     ]
    },
    {
     "data": {
      "text/plain": [
       "GridSearchCV(cv=StratifiedKFold(n_splits=3, random_state=17, shuffle=True),\n",
       "             estimator=LinearSVC(C=1, random_state=17), n_jobs=-1,\n",
       "             param_grid={'C': array([0.001     , 0.03544828, 0.06989655, 0.10434483, 0.1387931 ,\n",
       "       0.17324138, 0.20768966, 0.24213793, 0.27658621, 0.31103448,\n",
       "       0.34548276, 0.37993103, 0.41437931, 0.44882759, 0.48327586,\n",
       "       0.51772414, 0.55217241, 0.58662069, 0.62106897, 0.65551724,\n",
       "       0.68996552, 0.72441379, 0.75886207, 0.79331034, 0.82775862,\n",
       "       0.8622069 , 0.89665517, 0.93110345, 0.96555172, 1.        ])},\n",
       "             return_train_score=True, scoring='accuracy')"
      ]
     },
     "execution_count": 53,
     "metadata": {},
     "output_type": "execute_result"
    }
   ],
   "source": [
    "%%time\n",
    "svm_params2 = {'C': np.linspace(1e-3, 1, 30)}\n",
    "\n",
    "svm_grid_searcher2 = GridSearchCV(svm, param_grid=svm_params2, n_jobs=-1, cv=skf, scoring='accuracy', return_train_score=True)\n",
    "svm_grid_searcher2.fit(X_train, y_train)"
   ]
  },
  {
   "cell_type": "markdown",
   "metadata": {
    "id": "1nlNX-jc7qbK"
   },
   "source": [
    "Выведите лучшее значение доли правильных ответов на кросс-валидации и соответствующее значение `C`."
   ]
  },
  {
   "cell_type": "code",
   "execution_count": 54,
   "metadata": {
    "colab": {
     "base_uri": "https://localhost:8080/"
    },
    "id": "apH4KpY47qbL",
    "outputId": "c60bf818-f79c-40b6-d9cb-aa06fa53241c"
   },
   "outputs": [
    {
     "data": {
      "text/plain": [
       "({'C': 0.10434482758620689}, 0.7670206386611259)"
      ]
     },
     "execution_count": 54,
     "metadata": {},
     "output_type": "execute_result"
    }
   ],
   "source": [
    "svm_grid_searcher2.best_params_, svm_grid_searcher2.best_score_"
   ]
  },
  {
   "cell_type": "markdown",
   "metadata": {
    "id": "RA6fomko7qbL"
   },
   "source": [
    "Нарисуйте график зависимости доли правильных ответов на кросс-валидации от С."
   ]
  },
  {
   "cell_type": "code",
   "execution_count": 55,
   "metadata": {
    "colab": {
     "base_uri": "https://localhost:8080/",
     "height": 265
    },
    "id": "8zli6lS47qbM",
    "outputId": "9c3a3eb9-65ef-4a25-eb8d-9f42a855c137"
   },
   "outputs": [
    {
     "data": {
      "image/png": "[encoded data removed]",
      "text/plain": [
       "<Figure size 432x288 with 1 Axes>"
      ]
     },
     "metadata": {
      "needs_background": "light"
     },
     "output_type": "display_data"
    }
   ],
   "source": [
    "plot_validation_curves(svm_params2['C'], svm_grid_searcher2.cv_results_)"
   ]
  },
  {
   "cell_type": "markdown",
   "metadata": {
    "id": "N9j8a7lr7qbM"
   },
   "source": [
    "Выведите долю правильных ответов на выборке `(X_valid, y_valid)` для `LinearSVC` с лучшим найденным значением `C`."
   ]
  },
  {
   "cell_type": "code",
   "execution_count": 56,
   "metadata": {
    "colab": {
     "base_uri": "https://localhost:8080/"
    },
    "id": "NUKTtYrwS9Qz",
    "outputId": "85d01967-d437-465e-a0a4-af7cec436640"
   },
   "outputs": [
    {
     "data": {
      "text/plain": [
       "0.7807537331121118"
      ]
     },
     "execution_count": 56,
     "metadata": {},
     "output_type": "execute_result"
    }
   ],
   "source": [
    "svm_grid_searcher2.score(X_valid, y_valid)"
   ]
  },
  {
   "cell_type": "markdown",
   "metadata": {
    "id": "Mq8kTX8x7qbN"
   },
   "source": [
    "**<font color='red'>Вопрос 4. </font> Посчитайте доли правильных ответов для `svm_grid_searcher2` на кросс-валидации для лучшего значения параметра `C` и на отложенной выборке. Округлите каждое до 3 знаков после запятой и выведите через пробел.**"
   ]
  },
  {
   "cell_type": "code",
   "execution_count": 57,
   "metadata": {
    "colab": {
     "base_uri": "https://localhost:8080/"
    },
    "id": "md3TIGrn7qbO",
    "outputId": "061911ba-6d87-4495-81a9-a224eb24b597"
   },
   "outputs": [
    {
     "data": {
      "text/plain": [
       "array([0.76409631, 0.75281926, 0.78414634])"
      ]
     },
     "execution_count": 57,
     "metadata": {},
     "output_type": "execute_result"
    }
   ],
   "source": [
    "svm_score_cv = cross_val_score(svm_grid_searcher2.best_estimator_, X_train, y_train, cv=skf, scoring='accuracy', n_jobs=-1)\n",
    "svm_score_cv"
   ]
  },
  {
   "cell_type": "code",
   "execution_count": 69,
   "metadata": {},
   "outputs": [
    {
     "data": {
      "text/plain": [
       "0.7670206386611259"
      ]
     },
     "execution_count": 69,
     "metadata": {},
     "output_type": "execute_result"
    }
   ],
   "source": [
    "svm_score_cv.mean()"
   ]
  },
  {
   "cell_type": "code",
   "execution_count": 58,
   "metadata": {
    "colab": {
     "base_uri": "https://localhost:8080/"
    },
    "id": "qNNa0uqNTxKZ",
    "outputId": "3aa941b1-1637-4b41-f196-275bc86ff9a6"
   },
   "outputs": [
    {
     "data": {
      "text/plain": [
       "0.7807537331121118"
      ]
     },
     "execution_count": 58,
     "metadata": {},
     "output_type": "execute_result"
    }
   ],
   "source": [
    "svm_score_val = svm_grid_searcher2.score(X_valid, y_valid)\n",
    "svm_score_val"
   ]
  },
  {
   "cell_type": "code",
   "execution_count": 164,
   "metadata": {
    "id": "OUjSC0reUd5U"
   },
   "outputs": [],
   "source": [
    "write_answer_to_file(f'{round(svm_score_cv.mean(), 3)} {round(svm_score_val, 3)}',\n",
    "                     'answer4_4.txt')"
   ]
  },
  {
   "cell_type": "code",
   "execution_count": 165,
   "metadata": {
    "colab": {
     "base_uri": "https://localhost:8080/"
    },
    "id": "2giJW3snUkPo",
    "outputId": "b8b2df47-4624-4b0e-d46e-b5ad5988bb63"
   },
   "outputs": [
    {
     "name": "stdout",
     "output_type": "stream",
     "text": [
      "0.767 0.781"
     ]
    }
   ],
   "source": [
    "!cat answer4_4.txt"
   ]
  },
  {
   "cell_type": "markdown",
   "metadata": {
    "id": "pQWMBYKx7qbO"
   },
   "source": [
    "## Часть 2. Выбор параметров – длины сессии и ширины окна"
   ]
  },
  {
   "cell_type": "markdown",
   "metadata": {
    "id": "CY6KgQN17qbP"
   },
   "source": [
    "**Возьмем `LinearSVC`, показавший лучшее качество на кросс-валидации в 1 части, и проверим его работу еще на 8 выборках для 10 пользователей (с разными сочетаниями параметров *session_length* и *window_size*). Поскольку тут уже вычислений побольше, мы не будем каждый раз заново подбирать параметр регуляризации `C`.**\n",
    "\n",
    "**Определите функцию `model_assessment`, ее документация описана ниже. Обратите внимание на все детали. Например, на то, что разбиение  выборки с `train_test_split` должно быть стратифицированным. Не теряйте нигде `random_state`.**"
   ]
  },
  {
   "cell_type": "code",
   "execution_count": 127,
   "metadata": {
    "id": "QkqKMKAL7qbP"
   },
   "outputs": [],
   "source": [
    "def model_assessment(estimator, path_to_X_pickle, path_to_y_pickle, cv, random_state=17, test_size=0.3):\n",
    "    '''\n",
    "    Estimates CV-accuracy for (1 - test_size) share of (X_sparse, y) \n",
    "    loaded from path_to_X_pickle and path_to_y_pickle and holdout accuracy for (test_size) share of (X_sparse, y).\n",
    "    The split is made with stratified train_test_split with params random_state and test_size.\n",
    "    \n",
    "    :param estimator – Scikit-learn estimator (classifier or regressor)\n",
    "    :param path_to_X_pickle – path to pickled sparse X (instances and their features)\n",
    "    :param path_to_y_pickle – path to pickled y (responses)\n",
    "    :param cv – cross-validation as in cross_val_score (use StratifiedKFold here)\n",
    "    :param random_state –  for train_test_split\n",
    "    :param test_size –  for train_test_split\n",
    "    \n",
    "    :returns mean CV-accuracy for (X_train, y_train) and accuracy for (X_valid, y_valid) where (X_train, y_train)\n",
    "    and (X_valid, y_valid) are (1 - test_size) and (testsize) shares of (X_sparse, y).\n",
    "    '''\n",
    "#     from sklearn.exceptions import NotFittedError\n",
    "    \n",
    "    X_sparse = pd.read_pickle(path_to_X_pickle)\n",
    "    y = pd.read_pickle(path_to_y_pickle)\n",
    "    X_train, X_valid, y_train, y_valid = train_test_split(X_sparse, y, random_state=random_state, \n",
    "                                                          test_size=test_size, stratify=y)\n",
    "    \n",
    "    accuracy_cv = cross_val_score(estimator, X_train, y_train, cv=cv, n_jobs=-1)\n",
    "    \n",
    "    \n",
    "    estimator.fit(X_train, y_train)\n",
    "    accuracy_ho = estimator.score(X_valid, y_valid)\n",
    "#     try:\n",
    "#         accuracy_ho = estimator.score(X_valid, y_valid)\n",
    "#     except NotFittedError:\n",
    "\n",
    "    \n",
    "    return accuracy_cv.mean(), accuracy_ho"
   ]
  },
  {
   "cell_type": "markdown",
   "metadata": {
    "id": "bBeI_GYG7qbQ"
   },
   "source": [
    "**Убедитесь, что функция работает.**"
   ]
  },
  {
   "cell_type": "code",
   "execution_count": 128,
   "metadata": {
    "id": "yQXb8k067qbQ"
   },
   "outputs": [
    {
     "data": {
      "text/plain": [
       "(0.7670206386611259, 0.7807537331121118)"
      ]
     },
     "execution_count": 128,
     "metadata": {},
     "output_type": "execute_result"
    }
   ],
   "source": [
    "model_assessment(svm_grid_searcher2.best_estimator_, \n",
    "                 os.path.join(PATH_TO_DATA, 'sparse_features', 'X_sparse_10users.pkl'),\n",
    "        os.path.join(PATH_TO_DATA, 'sparse_features', 'y_10users.pkl'), skf, random_state=17, test_size=0.3)"
   ]
  },
  {
   "cell_type": "markdown",
   "metadata": {
    "id": "4KneU3xQ7qbR"
   },
   "source": [
    "**Примените функцию *model_assessment* для лучшего алгоритма из предыдущей части (а именно, `svm_grid_searcher2.best_estimator_`) и 9 выборок вида с разными сочетаниями параметров *session_length* и *window_size* для 10 пользователей. Выведите в цикле параметры *session_length* и *window_size*, а также результат вывода функции *model_assessment*. \n",
    "Удобно сделать так, чтоб *model_assessment* возвращала 3-им элементом время, за которое она выполнилась. На моем ноуте этот участок кода выполнился за 20 секунд. Но со 150 пользователями каждая итерация занимает уже несколько минут.**"
   ]
  },
  {
   "cell_type": "markdown",
   "metadata": {
    "id": "JzPwwB2_7qbR"
   },
   "source": [
    "Здесь для удобства стоит создать копии ранее созданных pickle-файлов X_sparse_10users.pkl, X_sparse_150users.pkl, y_10users.pkl и y_150users.pkl, добавив к их названиям s10_w10, что означает длину сессии 10 и ширину окна 10. "
   ]
  },
  {
   "cell_type": "code",
   "execution_count": 71,
   "metadata": {
    "id": "Y9gDTWip7qbR"
   },
   "outputs": [],
   "source": [
    "# linux\n",
    "\n",
    "# !cp $PATH_TO_DATA/X_sparse_10users.pkl $PATH_TO_DATA/X_sparse_10users_s10_w10.pkl \n",
    "# !cp $PATH_TO_DATA/X_sparse_150users.pkl $PATH_TO_DATA/X_sparse_150users_s10_w10.pkl \n",
    "# !cp $PATH_TO_DATA/y_10users.pkl $PATH_TO_DATA/y_10users_s10_w10.pkl \n",
    "# !cp $PATH_TO_DATA/y_150users.pkl $PATH_TO_DATA/y_150users_s10_w10.pkl "
   ]
  },
  {
   "cell_type": "code",
   "execution_count": 76,
   "metadata": {
    "id": "Y9gDTWip7qbR"
   },
   "outputs": [
    {
     "name": "stdout",
     "output_type": "stream",
     "text": [
      "        1 file(s) copied.\n",
      "        1 file(s) copied.\n",
      "        1 file(s) copied.\n",
      "        1 file(s) copied.\n"
     ]
    }
   ],
   "source": [
    "# windows\n",
    "\n",
    "!copy $PATH_TO_DATA\\sparse_features\\X_sparse_10users.pkl $PATH_TO_DATA\\sparse_features\\X_sparse_10users_s10_w10.pkl \n",
    "!copy $PATH_TO_DATA\\sparse_features\\X_sparse_150users.pkl $PATH_TO_DATA\\sparse_features\\X_sparse_150users_s10_w10.pkl \n",
    "!copy $PATH_TO_DATA\\sparse_features\\y_10users.pkl $PATH_TO_DATA\\sparse_features\\y_10users_s10_w10.pkl \n",
    "!copy $PATH_TO_DATA\\sparse_features\\y_150users.pkl $PATH_TO_DATA\\sparse_features\\y_150users_s10_w10.pkl "
   ]
  },
  {
   "cell_type": "code",
   "execution_count": 135,
   "metadata": {
    "id": "yOw8XKib7qbS",
    "scrolled": false
   },
   "outputs": [
    {
     "name": "stdout",
     "output_type": "stream",
     "text": [
      "Session lenght: 15\n",
      "Windows size: 10\n",
      "CV accuracy, holdout accuracy: (0.8243252292702751, 0.8404835269021095)\n",
      "\n",
      "Session lenght: 10\n",
      "Windows size: 10\n",
      "CV accuracy, holdout accuracy: (0.7670206386611259, 0.7807537331121118)\n",
      "\n",
      "Session lenght: 15\n",
      "Windows size: 7\n",
      "CV accuracy, holdout accuracy: (0.8495024256089474, 0.8543222166915547)\n",
      "\n",
      "Session lenght: 10\n",
      "Windows size: 7\n",
      "CV accuracy, holdout accuracy: (0.7983645917156946, 0.8073668491786958)\n",
      "\n",
      "Session lenght: 7\n",
      "Windows size: 7\n",
      "CV accuracy, holdout accuracy: (0.754765400423003, 0.7617388418782147)\n",
      "\n",
      "Session lenght: 15\n",
      "Windows size: 5\n",
      "CV accuracy, holdout accuracy: (0.8670355547005402, 0.8752963489805595)\n",
      "\n",
      "Session lenght: 10\n",
      "Windows size: 5\n",
      "CV accuracy, holdout accuracy: (0.8177520250854086, 0.8245614035087719)\n",
      "\n",
      "Session lenght: 7\n",
      "Windows size: 5\n",
      "CV accuracy, holdout accuracy: (0.772939529035208, 0.7853247984826932)\n",
      "\n",
      "Session lenght: 5\n",
      "Windows size: 5\n",
      "CV accuracy, holdout accuracy: (0.7254849424351582, 0.7362494073020389)\n",
      "\n",
      "Wall time: 15.6 s\n"
     ]
    }
   ],
   "source": [
    "%%time\n",
    "estimator = svm_grid_searcher2.best_estimator_\n",
    "\n",
    "for window_size, session_length in itertools.product([10, 7, 5], [15, 10, 7, 5]):\n",
    "    if window_size <= session_length:\n",
    "        path_to_X_pkl = os.path.join(PATH_TO_DATA, 'sparse_features', f'X_sparse_10users_s{session_length}_w{window_size}.pkl')\n",
    "        path_to_y_pkl = os.path.join(PATH_TO_DATA, 'sparse_features', f'y_10users_s{session_length}_w{window_size}.pkl')\n",
    "        print('Session lenght:', session_length)\n",
    "        print('Windows size:', window_size)\n",
    "        print('CV accuracy, holdout accuracy:', model_assessment(\n",
    "            estimator=estimator,\n",
    "            path_to_X_pickle=path_to_X_pkl,\n",
    "            path_to_y_pickle=path_to_y_pkl,\n",
    "            cv=skf\n",
    "            )\n",
    "        )\n",
    "        print()"
   ]
  },
  {
   "cell_type": "markdown",
   "metadata": {},
   "source": [
    "Качество модели зависит от session_length, window_size следующим образом: чем больше длина сессии и чем меньше шаг (размер окна), тем выше качество."
   ]
  },
  {
   "cell_type": "markdown",
   "metadata": {
    "id": "GAUXpo017qbS"
   },
   "source": [
    "**<font color='red'>Вопрос 5. </font> Посчитайте доли правильных ответов для `LinearSVC` с настроенным параметром `C` и выборки `X_sparse_10users_s15_w5`. Укажите доли правильных ответов на кросс-валидации и на отложенной выборке. Округлите каждое до 3 знаков после запятой и выведите через пробел.**"
   ]
  },
  {
   "cell_type": "code",
   "execution_count": 98,
   "metadata": {},
   "outputs": [
    {
     "data": {
      "text/plain": [
       "0.10434482758620689"
      ]
     },
     "execution_count": 98,
     "metadata": {},
     "output_type": "execute_result"
    }
   ],
   "source": [
    "svm_grid_searcher2.best_params_['C']"
   ]
  },
  {
   "cell_type": "code",
   "execution_count": 136,
   "metadata": {
    "id": "PfFSwCAc7qbS",
    "scrolled": false
   },
   "outputs": [
    {
     "data": {
      "text/plain": [
       "(0.8670355547005402, 0.8752963489805595)"
      ]
     },
     "execution_count": 136,
     "metadata": {},
     "output_type": "execute_result"
    }
   ],
   "source": [
    "acc_cv_10users_s15_w5, acc_ho_10users_s15_w5 = model_assessment(\n",
    "    estimator=LinearSVC(C=svm_grid_searcher2.best_params_['C'], random_state=17),\n",
    "    path_to_X_pickle=os.path.join(PATH_TO_DATA, 'sparse_features', 'X_sparse_10users_s15_w5.pkl'),\n",
    "    path_to_y_pickle=os.path.join(PATH_TO_DATA, 'sparse_features', 'y_10users_s15_w5.pkl'),\n",
    "    cv=skf\n",
    ")\n",
    "acc_cv_10users_s15_w5, acc_ho_10users_s15_w5"
   ]
  },
  {
   "cell_type": "code",
   "execution_count": 132,
   "metadata": {},
   "outputs": [],
   "source": [
    "write_answer_to_file(f'{round(acc_cv_10users_s15_w5, 3)} {round(acc_ho_10users_s15_w5, 3)}',\n",
    "                     'answer4_5.txt')"
   ]
  },
  {
   "cell_type": "code",
   "execution_count": 137,
   "metadata": {},
   "outputs": [
    {
     "name": "stdout",
     "output_type": "stream",
     "text": [
      "0.867 0.875\n"
     ]
    }
   ],
   "source": [
    "# %pycat ./answers/answer4_2.txt\n",
    "print(round(acc_cv_s15_w5, 3), round(acc_ho_10users_s15_w5, 3))"
   ]
  },
  {
   "cell_type": "markdown",
   "metadata": {
    "id": "Zc9sjj5V7qbT"
   },
   "source": [
    "**Прокомментируйте полученные результаты. Сравните для 150 пользователей доли правильных ответов на кросс-валидации и оставленной выборке для сочетаний параметров (*session_length, window_size*): (5,5), (7,7) и (10,10). На среднем ноуте это может занять до часа – запаситесь терпением, это Data Science :)**\n",
    "\n",
    "**Сделайте вывод о том, как качество классификации зависит от длины сессии и ширины окна.**"
   ]
  },
  {
   "cell_type": "code",
   "execution_count": 146,
   "metadata": {
    "id": "_EfYzqR27qbT",
    "scrolled": false
   },
   "outputs": [
    {
     "name": "stdout",
     "output_type": "stream",
     "text": [
      "Session lenght: 5\n",
      "Windows size: 5\n",
      "CV accuracy, holdout accuracy: (0.4083611011164474, 0.42171606560568453)\n",
      "\n",
      "Session lenght: 7\n",
      "Windows size: 7\n",
      "CV accuracy, holdout accuracy: (0.4366487102001489, 0.45295840855673264)\n",
      "\n",
      "Session lenght: 10\n",
      "Windows size: 10\n",
      "CV accuracy, holdout accuracy: (0.46307591254574465, 0.4836276942538802)\n",
      "\n",
      "Wall time: 9min 55s\n"
     ]
    }
   ],
   "source": [
    "%%time\n",
    "estimator = svm_grid_searcher2.best_estimator_\n",
    "\n",
    "for window_size, session_length in [(5,5), (7,7), (10,10)]:\n",
    "    path_to_X_pkl = os.path.join(PATH_TO_DATA, 'sparse_features', f'X_sparse_150users_s{session_length}_w{window_size}.pkl')\n",
    "    path_to_y_pkl = os.path.join(PATH_TO_DATA, 'sparse_features', f'y_150users_s{session_length}_w{window_size}.pkl')\n",
    "    print('Session lenght:', session_length)\n",
    "    print('Windows size:', window_size)\n",
    "    print('CV accuracy, holdout accuracy:', model_assessment(\n",
    "        estimator=estimator,\n",
    "        path_to_X_pickle=path_to_X_pkl,\n",
    "        path_to_y_pickle=path_to_y_pkl,\n",
    "        cv=skf\n",
    "        )\n",
    "    )\n",
    "    print()"
   ]
  },
  {
   "cell_type": "markdown",
   "metadata": {
    "id": "Q6egY1S57qbT"
   },
   "source": [
    "**<font color='red'>Вопрос 6. </font> Посчитайте доли правильных ответов для `LinearSVC` с настроенным параметром `C` и выборки `X_sparse_150users`. Укажите доли правильных ответов на кросс-валидации и на отложенной выборке. Округлите каждое до 3 знаков после запятой и выведите через пробел.**"
   ]
  },
  {
   "cell_type": "code",
   "execution_count": 143,
   "metadata": {
    "id": "JE03jW417qbT"
   },
   "outputs": [
    {
     "name": "stdout",
     "output_type": "stream",
     "text": [
      "Wall time: 3min 3s\n"
     ]
    },
    {
     "data": {
      "text/plain": [
       "(0.46307591254574465, 0.4836276942538802)"
      ]
     },
     "execution_count": 143,
     "metadata": {},
     "output_type": "execute_result"
    }
   ],
   "source": [
    "%%time\n",
    "acc_cv_150users_s10_w10, acc_ho_150users_s10_w10 = model_assessment(\n",
    "    estimator=LinearSVC(C=svm_grid_searcher2.best_params_['C'], random_state=17),\n",
    "    path_to_X_pickle=os.path.join(PATH_TO_DATA, 'sparse_features', 'X_sparse_150users_s10_w10.pkl'),\n",
    "    path_to_y_pickle=os.path.join(PATH_TO_DATA, 'sparse_features', 'y_150users_s10_w10.pkl'),\n",
    "    cv=skf\n",
    ")\n",
    "acc_cv_150users_s10_w10, acc_ho_150users_s10_w10"
   ]
  },
  {
   "cell_type": "code",
   "execution_count": 139,
   "metadata": {},
   "outputs": [],
   "source": [
    "write_answer_to_file(f'{round(acc_cv_150users_s15_w5, 3)} {round(acc_ho_150users_s15_w5, 3)}',\n",
    "                     'answer4_6.txt')"
   ]
  },
  {
   "cell_type": "code",
   "execution_count": 145,
   "metadata": {},
   "outputs": [
    {
     "name": "stdout",
     "output_type": "stream",
     "text": [
      "0.463 0.484\n"
     ]
    }
   ],
   "source": [
    "# %pycat ./answers/answer4_2.txt\n",
    "print(round(acc_cv_150users_s10_w10, 3), round(acc_ho_150users_s10_w10, 3))"
   ]
  },
  {
   "cell_type": "markdown",
   "metadata": {
    "id": "znrWFhgZ7qbU"
   },
   "source": [
    "## Часть 3. Идентификация  конкретного пользователя и кривые обучения"
   ]
  },
  {
   "cell_type": "markdown",
   "metadata": {
    "id": "aCv2kb8C7qbU"
   },
   "source": [
    "**Поскольку может разочаровать, что многоклассовая доля правильных ответов на выборке из 150 пользовалей невелика, порадуемся тому, что конкретного пользователя можно идентифицировать достаточно хорошо.**"
   ]
  },
  {
   "cell_type": "markdown",
   "metadata": {
    "id": "uh9TYh2U7qbU"
   },
   "source": [
    "**Загрузим сериализованные ранее объекты *X_sparse_150users* и *y_150users*, соответствующие обучающей выборке для 150 пользователей с параметрами (*session_length, window_size*) = (10,10). Так же точно разобьем их на 70% и 30%.**"
   ]
  },
  {
   "cell_type": "code",
   "execution_count": 148,
   "metadata": {
    "id": "-YtnzJLV7qbV"
   },
   "outputs": [],
   "source": [
    "with open(os.path.join(PATH_TO_DATA,'sparse_features', 'X_sparse_150users.pkl'), 'rb') as X_sparse_150users_pkl:\n",
    "     X_sparse_150users = pickle.load(X_sparse_150users_pkl)\n",
    "with open(os.path.join(PATH_TO_DATA, 'sparse_features', 'y_150users.pkl'), 'rb') as y_150users_pkl:\n",
    "    y_150users = pickle.load(y_150users_pkl)"
   ]
  },
  {
   "cell_type": "code",
   "execution_count": 149,
   "metadata": {
    "id": "IRmDSI2e7qbV"
   },
   "outputs": [],
   "source": [
    "X_train_150, X_valid_150, y_train_150, y_valid_150 = train_test_split(X_sparse_150users, \n",
    "                                                                      y_150users, test_size=0.3, \n",
    "                                                     random_state=17, stratify=y_150users)"
   ]
  },
  {
   "cell_type": "markdown",
   "metadata": {
    "id": "vp4VQ6XA7qbV"
   },
   "source": [
    "**Обучите `LogisticRegressionCV` для одного значения параметра `C` (лучшего на кросс-валидации в 1 части, используйте точное значение, не на глаз). Теперь будем решать 150 задач \"Один-против-Всех\", поэтому укажите аргумент `multi_class`='ovr'. Как всегда, где возможно, указывайте `n_jobs=-1` и `random_state`=17.**"
   ]
  },
  {
   "cell_type": "markdown",
   "metadata": {},
   "source": [
    "Решим задачу точно по условию - возьмём лучший С из logit_grid_searcher2 (который искали для 10 пользователей). Однако ответ не принимается грейдером."
   ]
  },
  {
   "cell_type": "code",
   "execution_count": 165,
   "metadata": {},
   "outputs": [
    {
     "data": {
      "text/plain": [
       "1.9157894736842107"
      ]
     },
     "execution_count": 165,
     "metadata": {},
     "output_type": "execute_result"
    }
   ],
   "source": [
    "logit_grid_searcher2.C_[0] # лучший С"
   ]
  },
  {
   "cell_type": "code",
   "execution_count": 271,
   "metadata": {
    "id": "SStoQwwH7qbV"
   },
   "outputs": [
    {
     "name": "stdout",
     "output_type": "stream",
     "text": [
      "Wall time: 4min 18s\n"
     ]
    },
    {
     "data": {
      "text/plain": [
       "LogisticRegressionCV(Cs=[1.9157894736842107],\n",
       "                     cv=StratifiedKFold(n_splits=3, random_state=17, shuffle=True),\n",
       "                     multi_class='ovr', n_jobs=-1, random_state=17)"
      ]
     },
     "execution_count": 271,
     "metadata": {},
     "output_type": "execute_result"
    }
   ],
   "source": [
    "%%time\n",
    "logit_cv_150users_ = LogisticRegressionCV(Cs=[logit_grid_searcher2.C_[0]], multi_class='ovr', \n",
    "                                          random_state=17, n_jobs=-1, cv=skf)\n",
    "logit_cv_150users_.fit(X_train_150, y_train_150)"
   ]
  },
  {
   "cell_type": "markdown",
   "metadata": {},
   "source": [
    "Решим задачу для прохода грейдера. Будем подбирать лучший С на сете из 150 пользователей."
   ]
  },
  {
   "cell_type": "code",
   "execution_count": 277,
   "metadata": {
    "id": "SStoQwwH7qbV"
   },
   "outputs": [
    {
     "name": "stdout",
     "output_type": "stream",
     "text": [
      "Wall time: 22min 41s\n"
     ]
    },
    {
     "data": {
      "text/plain": [
       "LogisticRegressionCV(Cs=array([0.1       , 0.46315789, 0.82631579, 1.18947368, 1.55263158,\n",
       "       1.91578947, 2.27894737, 2.64210526, 3.00526316, 3.36842105,\n",
       "       3.73157895, 4.09473684, 4.45789474, 4.82105263, 5.18421053,\n",
       "       5.54736842, 5.91052632, 6.27368421, 6.63684211, 7.        ]),\n",
       "                     cv=StratifiedKFold(n_splits=3, random_state=17, shuffle=True),\n",
       "                     multi_class='ovr', n_jobs=-1, random_state=17)"
      ]
     },
     "execution_count": 277,
     "metadata": {},
     "output_type": "execute_result"
    }
   ],
   "source": [
    "%%time # поиск по всем 20 С на 150 пользователях\n",
    "logit_cv_150users = LogisticRegressionCV(Cs=logit_c_values2, multi_class='ovr', random_state=17, n_jobs=-1, cv=skf)\n",
    "logit_cv_150users.fit(X_train_150, y_train_150)"
   ]
  },
  {
   "cell_type": "code",
   "execution_count": 278,
   "metadata": {},
   "outputs": [],
   "source": [
    "# сохранение модели на всякий случай\n",
    "# with open('logit_cv_150users.pickle', 'wb') as handle:\n",
    "#     pickle.dump(logit_cv_150users, handle, protocol=pickle.HIGHEST_PROTOCOL)"
   ]
  },
  {
   "cell_type": "markdown",
   "metadata": {
    "id": "Y5jDIE4h7qbW"
   },
   "source": [
    "**Посмотрите на средние доли правильных ответов на кросс-валидации в задаче идентификации каждого пользователя по отдельности.**"
   ]
  },
  {
   "cell_type": "markdown",
   "metadata": {},
   "source": [
    "Решение для одного С"
   ]
  },
  {
   "cell_type": "code",
   "execution_count": 283,
   "metadata": {
    "id": "SoHPqdGj7qbW",
    "scrolled": true
   },
   "outputs": [
    {
     "name": "stdout",
     "output_type": "stream",
     "text": [
      "User 6, CV score: 0.9960797806345333\n",
      "User 13, CV score: 0.9963091551718745\n",
      "User 15, CV score: 0.995256117523172\n",
      "User 16, CV score: 0.9918467778090561\n",
      "User 28, CV score: 0.9903558433163387\n",
      "User 31, CV score: 0.9944011760658097\n",
      "User 33, CV score: 0.9937651830304547\n",
      "User 39, CV score: 0.9858830398381867\n",
      "User 46, CV score: 0.9980398903172666\n",
      "User 49, CV score: 0.9951935608311699\n",
      "User 50, CV score: 0.9943281932584739\n",
      "User 53, CV score: 0.9937130524537862\n",
      "User 65, CV score: 0.9969451482072295\n",
      "User 66, CV score: 0.9948077945638234\n",
      "User 82, CV score: 0.9963717118638766\n",
      "User 85, CV score: 0.9963717118638766\n",
      "User 89, CV score: 0.9908771490830232\n",
      "User 92, CV score: 0.994422028296477\n",
      "User 100, CV score: 0.9944950111038128\n",
      "User 102, CV score: 0.9911586541970326\n",
      "User 103, CV score: 0.9805448687873385\n",
      "User 105, CV score: 0.9969034437458948\n",
      "User 106, CV score: 0.9948494990251583\n",
      "User 118, CV score: 0.9909292796596917\n",
      "User 119, CV score: 0.9965906602858841\n",
      "User 120, CV score: 0.994286488797139\n",
      "User 126, CV score: 0.9950684474471657\n",
      "User 127, CV score: 0.9916069771563812\n",
      "User 128, CV score: 0.9846944626901463\n",
      "User 138, CV score: 0.9970598354759\n",
      "User 158, CV score: 0.9970598354759\n",
      "User 160, CV score: 0.9968200348232252\n",
      "User 165, CV score: 0.997362192820577\n",
      "User 172, CV score: 0.9964863991325471\n",
      "User 177, CV score: 0.9967679042465568\n",
      "User 203, CV score: 0.9975707151272508\n",
      "User 207, CV score: 0.9877805928289178\n",
      "User 223, CV score: 0.9965489558245494\n",
      "User 233, CV score: 0.9963195812872082\n",
      "User 235, CV score: 0.9966636430932199\n",
      "User 236, CV score: 0.9900222076256607\n",
      "User 237, CV score: 0.9894174929363068\n",
      "User 238, CV score: 0.9962465984798724\n",
      "User 240, CV score: 0.9957461449438553\n",
      "User 241, CV score: 0.9959650933658629\n",
      "User 242, CV score: 0.9951622824851688\n",
      "User 245, CV score: 0.9960067978271976\n",
      "User 246, CV score: 0.997028557129899\n",
      "User 249, CV score: 0.9950058907551634\n",
      "User 252, CV score: 0.9964968252478809\n",
      "User 254, CV score: 0.9920135956543952\n",
      "User 256, CV score: 0.9961110589805345\n",
      "User 258, CV score: 0.9959338150198618\n",
      "User 259, CV score: 0.9949120557171603\n",
      "User 260, CV score: 0.9973934711665781\n",
      "User 261, CV score: 0.9897719808576523\n",
      "User 263, CV score: 0.9927955543044217\n",
      "User 264, CV score: 0.9966010864012178\n",
      "User 269, CV score: 0.987175878139564\n",
      "User 270, CV score: 0.9894070668209732\n",
      "User 273, CV score: 0.994390749950476\n",
      "User 287, CV score: 0.9901681732403323\n",
      "User 294, CV score: 0.9957461449438553\n",
      "User 298, CV score: 0.9912629153503696\n",
      "User 301, CV score: 0.9972162272059054\n",
      "User 308, CV score: 0.9957044404825206\n",
      "User 315, CV score: 0.9975498628965833\n",
      "User 318, CV score: 0.9958921105585269\n",
      "User 327, CV score: 0.9966427908625525\n",
      "User 332, CV score: 0.9968096087078915\n",
      "User 333, CV score: 0.9962674507105397\n",
      "User 339, CV score: 0.9971223921679022\n",
      "User 340, CV score: 0.9967053475545545\n",
      "User 342, CV score: 0.99225339630707\n",
      "User 344, CV score: 0.9966532169778862\n",
      "User 351, CV score: 0.99245149249841\n",
      "User 356, CV score: 0.9976019934732517\n",
      "User 361, CV score: 0.9965802341705504\n",
      "User 363, CV score: 0.9964863991325471\n",
      "User 411, CV score: 0.9912316370043684\n",
      "User 417, CV score: 0.9967261997852219\n",
      "User 425, CV score: 0.9942135059898032\n",
      "User 430, CV score: 0.9962674507105399\n",
      "User 435, CV score: 0.9970389832452327\n",
      "User 436, CV score: 0.9951727086005026\n",
      "User 440, CV score: 0.9970389832452327\n",
      "User 444, CV score: 0.9978105157799256\n",
      "User 475, CV score: 0.9892819534369689\n",
      "User 476, CV score: 0.9969868526685642\n",
      "User 486, CV score: 0.9954125092531774\n",
      "User 515, CV score: 0.9942135059898032\n",
      "User 533, CV score: 0.9937964613764558\n",
      "User 561, CV score: 0.9844859403834724\n",
      "User 563, CV score: 0.9968304609385589\n",
      "User 564, CV score: 0.9956835882518532\n",
      "User 568, CV score: 0.9917425166557193\n",
      "User 569, CV score: 0.9893132317829699\n",
      "User 570, CV score: 0.9982901170852752\n",
      "User 573, CV score: 0.9907728879296863\n",
      "User 575, CV score: 0.9900639120869954\n",
      "User 576, CV score: 0.9941718015284685\n",
      "User 580, CV score: 0.9867067029495481\n",
      "User 583, CV score: 0.9808055216706807\n",
      "User 584, CV score: 0.9811808618226935\n",
      "User 600, CV score: 0.9914922898877108\n",
      "User 603, CV score: 0.9957044404825206\n",
      "User 605, CV score: 0.9975290106659159\n",
      "User 640, CV score: 0.9972579316672402\n",
      "User 647, CV score: 0.9976436979345866\n",
      "User 653, CV score: 0.9973934711665781\n",
      "User 664, CV score: 0.9952144130618373\n",
      "User 665, CV score: 0.9969138698612284\n",
      "User 677, CV score: 0.9966323647472187\n",
      "User 692, CV score: 0.9969347220918957\n",
      "User 697, CV score: 0.9959859455965301\n",
      "User 705, CV score: 0.9964342685558788\n",
      "User 722, CV score: 0.9947035334104865\n",
      "User 740, CV score: 0.996694921439221\n",
      "User 741, CV score: 0.9968513131692264\n",
      "User 756, CV score: 0.9955793270985164\n",
      "User 780, CV score: 0.9965489558245494\n",
      "User 784, CV score: 0.9966532169778862\n",
      "User 785, CV score: 0.9969555743225631\n",
      "User 797, CV score: 0.995756571059189\n",
      "User 812, CV score: 0.9949120557171603\n",
      "User 844, CV score: 0.9970285571298989\n",
      "User 859, CV score: 0.9981337253552699\n",
      "User 868, CV score: 0.9965489558245494\n",
      "User 875, CV score: 0.9957148665978544\n",
      "User 932, CV score: 0.9905018089310104\n",
      "User 996, CV score: 0.9933168600711061\n",
      "User 1014, CV score: 0.9971328182832359\n",
      "User 1040, CV score: 0.9970389832452327\n",
      "User 1054, CV score: 0.9964759730172136\n",
      "User 1248, CV score: 0.9977375329725898\n",
      "User 1267, CV score: 0.9973309144745759\n",
      "User 1299, CV score: 0.996924295976562\n",
      "User 1371, CV score: 0.9934106951091093\n",
      "User 1797, CV score: 0.994891203486493\n",
      "User 1798, CV score: 0.99666364309322\n",
      "User 1993, CV score: 0.9967991825925578\n",
      "User 2118, CV score: 0.9978522202412603\n",
      "User 2174, CV score: 0.995860832212526\n",
      "User 2191, CV score: 0.9952456914078384\n",
      "User 2250, CV score: 0.9973413405899096\n",
      "User 2355, CV score: 0.995860832212526\n",
      "User 2408, CV score: 0.9937443307997874\n",
      "User 2493, CV score: 0.9966010864012178\n",
      "User 2625, CV score: 0.9961423373265355\n",
      "User 2902, CV score: 0.9971223921679022\n"
     ]
    }
   ],
   "source": [
    "# для значения logit_grid_searcher2.C_[0]\n",
    "cv_scores_by_user = {}\n",
    "for user_id, scores in logit_cv_150users_.scores_.items():\n",
    "    cv_scores_by_user[user_id] = scores.mean()\n",
    "    print(f'User {user_id}, CV score: {scores.mean()}')"
   ]
  },
  {
   "cell_type": "markdown",
   "metadata": {},
   "source": [
    "Решение для 20 С"
   ]
  },
  {
   "cell_type": "code",
   "execution_count": 309,
   "metadata": {},
   "outputs": [],
   "source": [
    "# формируем словари user_id: accuracy для всех С\n",
    "cv_scores_by_user_c = []\n",
    "for c in range(20):\n",
    "    cv_scores_by_user_c.append({k: v.mean(axis=0)[c] for k, v in logit_cv_150users.scores_.items()})"
   ]
  },
  {
   "cell_type": "markdown",
   "metadata": {
    "id": "INbg5hNT7qbW"
   },
   "source": [
    "**Результаты кажутся впечатляющими, но возможно, мы забываем про дисбаланс классов, и высокую долю правильных ответов можно получить константным прогнозом. Посчитайте для каждого пользователя разницу между долей правильных ответов на кросс-валидации (только что посчитанную с помощью `LogisticRegressionCV`) и долей меток в *y_train_150*, отличных от ID \n",
    " этого пользователя (именно такую долю правильных ответов можно получить, если классификатор всегда \"говорит\", что это не пользователь с номером $i$ в задаче классификации $i$-vs-All).**"
   ]
  },
  {
   "cell_type": "markdown",
   "metadata": {},
   "source": [
    "Решение для одного С"
   ]
  },
  {
   "cell_type": "code",
   "execution_count": 284,
   "metadata": {
    "id": "bevgLCnG7qbW"
   },
   "outputs": [],
   "source": [
    "class_distr = np.bincount(y_train_150.astype('int'))\n",
    "acc_diff_vs_constant = {}\n",
    "\n",
    "for user_id in np.unique(y_train_150):\n",
    "    acc_diff_vs_constant[user_id] = cv_scores_by_user[user_id] - (1 - class_distr[user_id]/len(y_train_150))"
   ]
  },
  {
   "cell_type": "code",
   "execution_count": 285,
   "metadata": {},
   "outputs": [
    {
     "data": {
      "text/plain": [
       "{6: 0.011677249173730253,\n",
       " 13: 0.000604714689353858,\n",
       " 15: 0.0008549414573623126,\n",
       " 16: 0.007131462888242401,\n",
       " 28: 0.0024084326420819036,\n",
       " 31: -5.2130576668418804e-05,\n",
       " 33: 0.0012198554940414663,\n",
       " 39: 0.0019705357980670524,\n",
       " 46: 0.0009174981493643708,\n",
       " 49: 0.0013658211087130834,\n",
       " 50: 0.00017724396067275716,\n",
       " 53: 0.0016681784533899569,\n",
       " 65: 2.0852230667389726e-05,\n",
       " 66: -5.213057666852983e-05,\n",
       " 82: 2.0852230667389726e-05,\n",
       " 85: 0.00017724396067264614,\n",
       " 89: 0.0008028108806940049,\n",
       " 92: 0.0002710789986758444,\n",
       " 100: -0.0002502267680085657,\n",
       " 102: 0.0007194019580243349,\n",
       " 103: 0.003544879213453811,\n",
       " 105: 0.0008862198033635638,\n",
       " 106: 0.007631916424259533,\n",
       " 118: 0.0009279242646983432,\n",
       " 119: 0.0006464191506886374,\n",
       " 120: 0.0006255669200211367,\n",
       " 126: 0.001011333187367791,\n",
       " 127: 0.00409746332613925,\n",
       " 128: 0.005098370398173291,\n",
       " 138: -5.2130576668418804e-05,\n",
       " 158: 0.00028150511400959477,\n",
       " 160: 0.00028150511400959477,\n",
       " 165: 0.00028150511400959477,\n",
       " 172: 0.00022937453734106494,\n",
       " 177: 0.0002710789986759554,\n",
       " 203: 0.0013866733393805841,\n",
       " 207: 0.0014179516853815022,\n",
       " 223: 8.34089226695589e-05,\n",
       " 233: 8.34089226695589e-05,\n",
       " 235: -8.34089226695589e-05,\n",
       " 236: 0.001240707724708856,\n",
       " 237: 0.0014075255700477518,\n",
       " 238: -2.0852230667389726e-05,\n",
       " 240: -3.12783460011401e-05,\n",
       " 241: -0.0001355394993378667,\n",
       " 242: 0.0005004535360170204,\n",
       " 245: 0.00023980065267481532,\n",
       " 246: -9.383503800319826e-05,\n",
       " 249: -9.383503800330928e-05,\n",
       " 252: 0.00019809619134003587,\n",
       " 254: 0.0020956491820712797,\n",
       " 256: 0.0005525841126855502,\n",
       " 258: 0.00017724396067275716,\n",
       " 259: -0.0002710789986758444,\n",
       " 260: 0.00031278346001062385,\n",
       " 261: 0.0006672713813560271,\n",
       " 263: 0.0011990032633740766,\n",
       " 264: 0.00039619238268018275,\n",
       " 269: 0.0014283778007152526,\n",
       " 270: 0.004285133402145758,\n",
       " 273: 0.0006568452660223878,\n",
       " 287: 0.001928831336732162,\n",
       " 294: -0.00020852230667389726,\n",
       " 298: 0.0014909344927173107,\n",
       " 301: 0.0017411612607258764,\n",
       " 308: 0.0007298280733580853,\n",
       " 315: 0.0004378968440148512,\n",
       " 318: 0.0005525841126853281,\n",
       " 327: 1.0426115333639352e-05,\n",
       " 332: -1.0426115333750374e-05,\n",
       " 333: 0.0012928383013771638,\n",
       " 339: 0.0011990032633741876,\n",
       " 340: 0.00019809619133992484,\n",
       " 342: 0.00034406180601176395,\n",
       " 344: -0.00012511338400422733,\n",
       " 351: 0.0014179516853815022,\n",
       " 356: 0.0003857662673464324,\n",
       " 361: -5.2130576668418804e-05,\n",
       " 363: 0.0011885771480403262,\n",
       " 411: 0.0020018141440679704,\n",
       " 417: 9.383503800308723e-05,\n",
       " 425: 5.213057666830778e-05,\n",
       " 430: 0.0010217593027015415,\n",
       " 435: -0.00011468726867058798,\n",
       " 436: 0.00015639173000536744,\n",
       " 440: -5.2130576668418804e-05,\n",
       " 444: 0.0007923847653603655,\n",
       " 475: 0.0012928383013772748,\n",
       " 476: 0.0008549414573624237,\n",
       " 486: 0.0001668178453390068,\n",
       " 515: 0.00022937453734106494,\n",
       " 533: 0.0011572988020394082,\n",
       " 561: 0.003513600867452671,\n",
       " 563: 0.0005213057666844101,\n",
       " 564: 0.0005525841126854392,\n",
       " 568: -8.340892266944788e-05,\n",
       " 569: 0.004264281171478257,\n",
       " 570: 0.0025856766027545497,\n",
       " 573: -0.0001876700760062855,\n",
       " 575: 0.0014596561467161706,\n",
       " 576: -0.0002189484220074256,\n",
       " 580: 0.00622439085421167,\n",
       " 583: 0.014763379312501934,\n",
       " 584: 0.002742068332759917,\n",
       " 600: 0.0008966459186972031,\n",
       " 603: 0.0006464191506886374,\n",
       " 605: 0.0024605632187503224,\n",
       " 640: 0.00021894842200753661,\n",
       " 647: 0.0016264739920553994,\n",
       " 653: 0.00014596561467161706,\n",
       " 664: 0.0006359930353549981,\n",
       " 665: 0.00023980065267481532,\n",
       " 677: 0.0007298280733580853,\n",
       " 692: 6.255669200205816e-05,\n",
       " 697: 0.0007402541886917247,\n",
       " 705: 0.0002502267680085657,\n",
       " 722: 0.0010843159947033776,\n",
       " 740: 0.0008340892266950339,\n",
       " 741: 7.298280733591955e-05,\n",
       " 756: 0.0002710789986758444,\n",
       " 780: 0.0007819586500266151,\n",
       " 784: 0.001699456799391097,\n",
       " 785: -8.34089226695589e-05,\n",
       " 797: 0.0005421579973516888,\n",
       " 812: 0.005411153858184026,\n",
       " 844: 6.255669200205816e-05,\n",
       " 859: 0.0012198554940414663,\n",
       " 868: -0.00022937453734106494,\n",
       " 875: 0.0055779717035230325,\n",
       " 932: 0.002398006526748153,\n",
       " 996: 0.0028359033707631154,\n",
       " 1014: 0.0013449688780456936,\n",
       " 1040: 0.0018662746447301037,\n",
       " 1054: 0.00012511338400433836,\n",
       " 1248: 0.00040661849801393313,\n",
       " 1267: 0.0003336356906780136,\n",
       " 1299: 9.383503800308723e-05,\n",
       " 1371: 0.004681325784825829,\n",
       " 1797: 0.0031486868307737392,\n",
       " 1798: 0.0012302816093752167,\n",
       " 1993: 0.0008757936880298134,\n",
       " 2118: 0.0015117867233847004,\n",
       " 2174: 0.0005108796513507707,\n",
       " 2191: 0.0004170446133475725,\n",
       " 2250: -9.383503800319826e-05,\n",
       " 2355: 0.008424301189619787,\n",
       " 2408: 0.001324116647378415,\n",
       " 2493: 0.00029193122934334514,\n",
       " 2625: 0.0006776974966896665,\n",
       " 2902: 0.00207479695140389}"
      ]
     },
     "execution_count": 285,
     "metadata": {},
     "output_type": "execute_result"
    }
   ],
   "source": [
    "acc_diff_vs_constant"
   ]
  },
  {
   "cell_type": "code",
   "execution_count": 286,
   "metadata": {
    "id": "S7-ifJfS7qbX"
   },
   "outputs": [
    {
     "data": {
      "text/plain": [
       "127"
      ]
     },
     "execution_count": 286,
     "metadata": {},
     "output_type": "execute_result"
    }
   ],
   "source": [
    "num_better_than_default = (np.array(list(acc_diff_vs_constant.values())) > 0).sum()\n",
    "num_better_than_default"
   ]
  },
  {
   "cell_type": "markdown",
   "metadata": {},
   "source": [
    "Решение для 20 С"
   ]
  },
  {
   "cell_type": "code",
   "execution_count": 316,
   "metadata": {},
   "outputs": [],
   "source": [
    "acc_diff_vs_constant_c = []\n",
    "for c in range(20):\n",
    "    acc_diff_vs_constant_c.append(\n",
    "        {user_id: cv_scores_by_user_c[c][user_id] - (1 - class_distr[user_id]/len(y_train_150)) \n",
    "         for user_id in np.unique(y_train_150)}\n",
    "    )"
   ]
  },
  {
   "cell_type": "code",
   "execution_count": 323,
   "metadata": {},
   "outputs": [
    {
     "data": {
      "text/plain": [
       "[129,\n",
       " 134,\n",
       " 133,\n",
       " 130,\n",
       " 130,\n",
       " 127,\n",
       " 125,\n",
       " 124,\n",
       " 123,\n",
       " 122,\n",
       " 123,\n",
       " 123,\n",
       " 119,\n",
       " 120,\n",
       " 119,\n",
       " 118,\n",
       " 118,\n",
       " 117,\n",
       " 117,\n",
       " 117]"
      ]
     },
     "execution_count": 323,
     "metadata": {},
     "output_type": "execute_result"
    }
   ],
   "source": [
    "num_better_than_default_c = []\n",
    "for c in range(20):\n",
    "    num_better_than_default_c.append((np.array(list(acc_diff_vs_constant_c[c].values())) > 0).sum())\n",
    "num_better_than_default_c"
   ]
  },
  {
   "cell_type": "markdown",
   "metadata": {
    "id": "HQ6O2-Jb7qbX"
   },
   "source": [
    "**<font color='red'>Вопрос 7. </font> Посчитайте долю пользователей, для которых логистическая регрессия на кросс-валидации дает прогноз лучше константного. Округлите до 3 знаков после запятой.**"
   ]
  },
  {
   "cell_type": "markdown",
   "metadata": {},
   "source": [
    "Решение для одного С"
   ]
  },
  {
   "cell_type": "code",
   "execution_count": 287,
   "metadata": {
    "id": "sreiPU157qbX"
   },
   "outputs": [
    {
     "data": {
      "text/plain": [
       "0.8466666666666667"
      ]
     },
     "execution_count": 287,
     "metadata": {},
     "output_type": "execute_result"
    }
   ],
   "source": [
    "num_better_than_default / 150"
   ]
  },
  {
   "cell_type": "markdown",
   "metadata": {},
   "source": [
    "Решение для 20 С"
   ]
  },
  {
   "cell_type": "code",
   "execution_count": 325,
   "metadata": {
    "scrolled": true
   },
   "outputs": [
    {
     "data": {
      "text/plain": [
       "array([0.86      , 0.89333333, 0.88666667, 0.86666667, 0.86666667,\n",
       "       0.84666667, 0.83333333, 0.82666667, 0.82      , 0.81333333,\n",
       "       0.82      , 0.82      , 0.79333333, 0.8       , 0.79333333,\n",
       "       0.78666667, 0.78666667, 0.78      , 0.78      , 0.78      ])"
      ]
     },
     "execution_count": 325,
     "metadata": {},
     "output_type": "execute_result"
    }
   ],
   "source": [
    "np.array(num_better_than_default_c) / 150"
   ]
  },
  {
   "cell_type": "code",
   "execution_count": 333,
   "metadata": {},
   "outputs": [
    {
     "data": {
      "text/plain": [
       "0.4631578947368421"
      ]
     },
     "execution_count": 333,
     "metadata": {},
     "output_type": "execute_result"
    }
   ],
   "source": [
    "# лучший С\n",
    "logit_cv_150users.Cs_[1]"
   ]
  },
  {
   "cell_type": "markdown",
   "metadata": {},
   "source": [
    "Подошёл ответ 0.82"
   ]
  },
  {
   "cell_type": "code",
   "execution_count": 327,
   "metadata": {},
   "outputs": [],
   "source": [
    "write_answer_to_file(0.82, 'answer4_7.txt')"
   ]
  },
  {
   "cell_type": "markdown",
   "metadata": {
    "id": "Js1Agms17qbY"
   },
   "source": [
    "**Дальше будем строить кривые обучения для конкретного пользователя, допустим, для 128-го. Составьте новый бинарный вектор на основе *y_150users*, его значения будут 1 или 0 в зависимости от того, равен ли ID-шник пользователя 128.**"
   ]
  },
  {
   "cell_type": "code",
   "execution_count": 341,
   "metadata": {
    "id": "DLXz2Ruc7qbY"
   },
   "outputs": [],
   "source": [
    "y_binary_128 = [int(i == 128) for i in y_150users]"
   ]
  },
  {
   "cell_type": "code",
   "execution_count": 342,
   "metadata": {
    "id": "TzXzewEm7qbY"
   },
   "outputs": [],
   "source": [
    "from sklearn.model_selection import learning_curve\n",
    "\n",
    "def plot_learning_curve(val_train, val_test, train_sizes, xlabel='Training Set Size', ylabel='score'):\n",
    "    \n",
    "    def plot_with_err(x, data, **kwargs):\n",
    "        mu, std = data.mean(1), data.std(1)\n",
    "        lines = plt.plot(x, mu, '-', **kwargs)\n",
    "        plt.fill_between(x, mu - std, mu + std, edgecolor='none', facecolor=lines[0].get_color(), alpha=0.2)\n",
    "        \n",
    "    plot_with_err(train_sizes, val_train, label='train')\n",
    "    plot_with_err(train_sizes, val_test, label='valid')\n",
    "    plt.xlabel(xlabel); plt.ylabel(ylabel)\n",
    "    plt.legend(loc='lower right');"
   ]
  },
  {
   "cell_type": "markdown",
   "metadata": {
    "id": "R7cN-Sne7qbY"
   },
   "source": [
    "**Посчитайте доли правильных ответов на кросс-валидации в задаче классификации \"user128-vs-All\" в зависимости от размера выборки. Не помешает посмотреть встроенную документацию для *learning_curve*.**"
   ]
  },
  {
   "cell_type": "code",
   "execution_count": 348,
   "metadata": {
    "id": "7IJLvrsy7qbZ"
   },
   "outputs": [
    {
     "name": "stdout",
     "output_type": "stream",
     "text": [
      "Wall time: 33.3 s\n"
     ]
    }
   ],
   "source": [
    "%%time\n",
    "train_sizes = np.linspace(0.25, 1, 20)\n",
    "estimator = svm_grid_searcher2.best_estimator_\n",
    "n_train, val_train, val_test = learning_curve(estimator, X_sparse_150users, y_binary_128, train_sizes=train_sizes)"
   ]
  },
  {
   "cell_type": "code",
   "execution_count": 349,
   "metadata": {
    "id": "1ahkcBz37qbZ"
   },
   "outputs": [
    {
     "data": {
      "image/png": "[encoded data removed]",
      "text/plain": [
       "<Figure size 432x288 with 1 Axes>"
      ]
     },
     "metadata": {
      "needs_background": "light"
     },
     "output_type": "display_data"
    }
   ],
   "source": [
    "plot_learning_curve(val_train, val_test, n_train, xlabel='train_size', ylabel='accuracy')"
   ]
  },
  {
   "cell_type": "markdown",
   "metadata": {
    "id": "YJMZRCP_7qbZ"
   },
   "source": [
    "**Сделайте выводы о том, помогут ли алгоритму новые размеченные данные при той же постановке задачи.**"
   ]
  },
  {
   "cell_type": "markdown",
   "metadata": {},
   "source": [
    "На трейне качество очевидно растёт с ростом размера выборки.\n",
    "\n",
    "Однако, на тесте качество не растёт, начиная с размера ~55000.\n",
    "\n",
    "Новые данные не помогут улучшить качество модели."
   ]
  },
  {
   "cell_type": "markdown",
   "metadata": {
    "id": "UtOGg0cR7qba"
   },
   "source": [
    "## Пути улучшения\n",
    "- конечно, можно проверить еще кучу алгоритмов, например, Xgboost, но в такой задаче очень маловероятно, что что-то справится лучше линейных методов\n",
    "- интересно проверить качество алгоритма на данных, где сессии выделялись не по количеству посещенных сайтов, а по времени, например, 5, 7, 10 и 15 минут. Отдельно стоит отметить данные нашего [соревнования](https://inclass.kaggle.com/c/catch-me-if-you-can-intruder-detection-through-webpage-session-tracking2) \n",
    "- опять же, если ресурсы позволяют, можно проверить, насколько хорошо можно решить задачу для 3000 пользователей\n",
    "\n",
    "\n",
    "На следующей неделе мы вспомним про линейные модели, обучаемые стохастическим градиентным спуском, и порадуемся тому, насколько быстрее они работают. Также сделаем первые (или не первые) посылки в [соревновании](https://inclass.kaggle.com/c/catch-me-if-you-can-intruder-detection-through-webpage-session-tracking2) Kaggle Inclass."
   ]
  }
 ],
 "metadata": {
  "anaconda-cloud": {},
  "colab": {
   "name": "week4_training.ipynb",
   "provenance": [],
   "toc_visible": true
  },
  "kernelspec": {
   "display_name": "Python 3",
   "language": "python",
   "name": "python3"
  },
  "language_info": {
   "codemirror_mode": {
    "name": "ipython",
    "version": 3
   },
   "file_extension": ".py",
   "mimetype": "text/x-python",
   "name": "python",
   "nbconvert_exporter": "python",
   "pygments_lexer": "ipython3",
   "version": "3.8.8"
  }
 },
 "nbformat": 4,
 "nbformat_minor": 1
}
