{
  "nbformat": 4,
  "nbformat_minor": 0,
  "metadata": {
    "anaconda-cloud": {},
    "kernelspec": {
      "display_name": "Python 3",
      "language": "python",
      "name": "python3"
    },
    "language_info": {
      "codemirror_mode": {
        "name": "ipython",
        "version": 3
      },
      "file_extension": ".py",
      "mimetype": "text/x-python",
      "name": "python",
      "nbconvert_exporter": "python",
      "pygments_lexer": "ipython3",
      "version": "3.8.8"
    },
    "colab": {
      "name": "week6_vowpal_checked.ipynb",
      "provenance": []
    }
  },
  "cells": [
    {
      "cell_type": "markdown",
      "metadata": {
        "id": "PF07D4NLHc3o"
      },
      "source": [
        "<center>\n",
        "<img src=\"https://habrastorage.org/web/677/8e1/337/6778e1337c3d4b159d7e99df94227cb2.jpg\"/>\n",
        "## Специализация \"Машинное обучение и анализ данных\"\n",
        "<center>Автор материала: программист-исследователь Mail.Ru Group, старший преподаватель Факультета Компьютерных Наук ВШЭ [Юрий Кашницкий](https://yorko.github.io/)"
      ]
    },
    {
      "cell_type": "markdown",
      "metadata": {
        "id": "zV5-QZjNHc3v"
      },
      "source": [
        "# <center> Capstone проект №1 <br> Идентификация пользователей по посещенным веб-страницам\n",
        "<img src='http://i.istockimg.com/file_thumbview_approve/21546327/5/stock-illustration-21546327-identification-de-l-utilisateur.jpg'>\n",
        "\n",
        "# <center>Неделя 6.  Vowpal Wabbit\n",
        "\n",
        "На этой неделе мы познакомимся с популярной библиотекой Vowpal Wabbit и попробуем ее на данных по посещению сайтов.\n",
        "\n",
        "**План 6 недели:**\n",
        "- Часть 1. Статья по Vowpal Wabbit\n",
        "- Часть 2. Применение Vowpal Wabbit к данным по посещению сайтов\n",
        " - 2.1. Подготовка данных\n",
        " - 2.2. Валидация по отложенной выборке\n",
        " - 2.3. Валидация по тестовой выборке (Public Leaderboard)\n",
        "\n",
        "**В этой части проекта Вам могут быть полезны видеозаписи следующих лекций курса \"Обучение на размеченных данных\":**\n",
        "   - [Стохатический градиентный спуск](https://www.coursera.org/learn/supervised-learning/lecture/xRY50/stokhastichieskii-ghradiientnyi-spusk)\n",
        "   - [Линейные модели. `sklearn.linear_model`. Классификация](https://www.coursera.org/learn/supervised-learning/lecture/EBg9t/linieinyie-modieli-sklearn-linear-model-klassifikatsiia)\n",
        "   \n",
        "Также будет полезна [презентация](https://github.com/esokolov/ml-course-msu/blob/master/ML15/lecture-notes/Sem08_vw.pdf) лектора специализации Евгения Соколова. И, конечно же, [документация](https://github.com/JohnLangford/vowpal_wabbit/wiki) Vowpal Wabbit."
      ]
    },
    {
      "cell_type": "markdown",
      "metadata": {
        "id": "hSj83aYNHc3x"
      },
      "source": [
        "### Задание\n",
        "1. Заполните код в этой тетрадке \n",
        "2. Если вы проходите специализацию Яндеса и МФТИ, пошлите файл с ответами в соответствующем Programming Assignment. <br> Если вы проходите курс ODS, выберите ответы в [веб-форме](https://docs.google.com/forms/d/1wteunpEhAt_9s-WBwxYphB6XpniXsAZiFSNuFNmvOdk)."
      ]
    },
    {
      "cell_type": "markdown",
      "metadata": {
        "id": "vLnwLcihHc3y"
      },
      "source": [
        "## Часть 1. Статья про Vowpal Wabbit\n",
        "Прочитайте [статью](https://habrahabr.ru/company/ods/blog/326418/) про Vowpal Wabbit на Хабре из серии открытого курса OpenDataScience по машинному обучению. Материал для этой статьи зародился из нашей специализации. Скачайте [тетрадку](https://github.com/Yorko/mlcourse_open/blob/master/jupyter_russian/topic08_sgd_hashing_vowpal_wabbit/topic8_sgd_hashing_vowpal_wabbit.ipynb), прилагаемую к статье, посмотрите код, изучите его, поменяйте, только так можно разобраться с Vowpal Wabbit."
      ]
    },
    {
      "cell_type": "markdown",
      "metadata": {
        "id": "kcOlera2Hc3z"
      },
      "source": [
        "## Часть 2. Применение Vowpal Wabbit к данным по посещению сайтов"
      ]
    },
    {
      "cell_type": "markdown",
      "metadata": {
        "id": "hIGfruDHHc30"
      },
      "source": [
        "### 2.1. Подготовка данных"
      ]
    },
    {
      "cell_type": "markdown",
      "metadata": {
        "id": "hBahDGl4Hc31"
      },
      "source": [
        "**Далее посмотрим на Vowpal Wabbit в деле. Правда, в задаче нашего соревнования при бинарной классификации веб-сессий мы разницы не заметим – как по качеству, так и по скорости работы (хотя можете проверить), продемонстрируем всю резвость VW в задаче классификации на 400 классов. Исходные данные все те же самые, но выделено 400 пользователей, и решается задача их идентификации. Скачайте данные [отсюда](https://www.kaggle.com/anton11/trainsessions), [а сюда - заливайте результат](https://www.kaggle.com/c/identify-me-if-you-can4/submit) – файлы `train_sessions_400users.csv` и `test_sessions_400users.csv`.**"
      ]
    },
    {
      "cell_type": "code",
      "metadata": {
        "id": "3go6VqFuHc31"
      },
      "source": [
        "import os\n",
        "import pandas as pd\n",
        "from scipy.sparse import csr_matrix\n",
        "from sklearn.linear_model import LogisticRegression, SGDClassifier\n",
        "\n",
        "from sklearn.preprocessing import LabelEncoder\n",
        "import numpy as np"
      ],
      "execution_count": 1,
      "outputs": []
    },
    {
      "cell_type": "code",
      "metadata": {
        "id": "VH__IgtLHc33"
      },
      "source": [
        "# Поменяйте на свой путь к данным\n",
        "# PATH_TO_DATA = 'capstone_user_identification/vw'\n",
        "PATH_TO_DATA = 'vw'"
      ],
      "execution_count": 2,
      "outputs": []
    },
    {
      "cell_type": "markdown",
      "metadata": {
        "id": "r-f0YWDjHc34"
      },
      "source": [
        "**Загрузим обучающую и тестовую выборки. Можете заметить, что тестовые сессии здесь по времени четко отделены от сессий в обучающей выборке.**"
      ]
    },
    {
      "cell_type": "code",
      "metadata": {
        "id": "FYyMZvPUIBSC"
      },
      "source": [
        "# !unzip vw.zip"
      ],
      "execution_count": null,
      "outputs": []
    },
    {
      "cell_type": "code",
      "metadata": {
        "id": "MC9oi2ZZHc35"
      },
      "source": [
        "train_df_400 = pd.read_csv(os.path.join(PATH_TO_DATA,'train_sessions_400users.csv'), \n",
        "                           index_col='session_id')"
      ],
      "execution_count": 3,
      "outputs": []
    },
    {
      "cell_type": "code",
      "metadata": {
        "id": "_fzT7ouoHc35"
      },
      "source": [
        "test_df_400 = pd.read_csv(os.path.join(PATH_TO_DATA,'test_sessions_400users.csv'), \n",
        "                           index_col='session_id')"
      ],
      "execution_count": 4,
      "outputs": []
    },
    {
      "cell_type": "code",
      "metadata": {
        "id": "uOL59r8eHc36"
      },
      "source": [
        "# train_df_400.sort_values(by='time1', inplace=True)"
      ],
      "execution_count": 5,
      "outputs": []
    },
    {
      "cell_type": "markdown",
      "metadata": {
        "id": "vFMBj-jmHc36"
      },
      "source": [
        "**Видим, что в обучающей выборке 182793 сессий, в тестовой – 46473, и сессии действительно принадлежат 400 различным пользователям.**"
      ]
    },
    {
      "cell_type": "code",
      "metadata": {
        "colab": {
          "base_uri": "https://localhost:8080/"
        },
        "id": "i0kO1Q3kHc36",
        "outputId": "9da330a9-0329-418a-8ab7-4b111b455172"
      },
      "source": [
        "train_df_400.shape, test_df_400.shape, train_df_400['user_id'].nunique()"
      ],
      "execution_count": 6,
      "outputs": [
        {
          "output_type": "execute_result",
          "data": {
            "text/plain": [
              "((182793, 21), (46473, 20), 400)"
            ]
          },
          "metadata": {},
          "execution_count": 6
        }
      ]
    },
    {
      "cell_type": "markdown",
      "metadata": {
        "id": "_7oAyy7PHc38"
      },
      "source": [
        "**Vowpal Wabbit любит, чтоб метки классов были распределены от 1 до K, где K – число классов в задаче классификации (в нашем случае – 400). Поэтому придется применить `LabelEncoder`, да еще и +1 потом добавить (`LabelEncoder` переводит метки в диапозон от 0 до K-1). Потом надо будет применить обратное преобразование.**"
      ]
    },
    {
      "cell_type": "code",
      "metadata": {
        "id": "nAtHpmgWHc38"
      },
      "source": [
        "y = train_df_400['user_id']\n",
        "class_encoder = LabelEncoder()\n",
        "y_for_vw = class_encoder.fit_transform(y) + 1"
      ],
      "execution_count": 7,
      "outputs": []
    },
    {
      "cell_type": "markdown",
      "metadata": {
        "id": "FAkdDclIHc39"
      },
      "source": [
        "**Далее будем сравнивать VW с SGDClassifier и с логистической регрессией. Всем моделям этим нужна предобработка входных данных. Подготовьте для sklearn-моделей разреженные матрицы, как мы это делали в 5 части:**\n",
        "- объедините обучающую и тестовую выборки\n",
        "- выберите только сайты (признаки от 'site1' до 'site10')\n",
        "- замените пропуски на нули (сайты у нас нумеровались с 0)\n",
        "- переведите в разреженный формат `csr_matrix`\n",
        "- разбейте обратно на обучающую и тестовую части"
      ]
    },
    {
      "cell_type": "code",
      "metadata": {
        "id": "X0HR4unwHc39"
      },
      "source": [
        "sites = ['site' + str(i) for i in range(1, 11)]\n",
        "train_df_400_sites = train_df_400[sites].fillna(0).astype(int)\n",
        "test_df_400_sites = test_df_400[sites].fillna(0).astype(int)"
      ],
      "execution_count": 8,
      "outputs": []
    },
    {
      "cell_type": "code",
      "metadata": {
        "id": "acGo1uPfHc3-"
      },
      "source": [
        "df_400_sites = pd.concat([train_df_400_sites, test_df_400_sites])[sites]\n",
        "list_400_sites = df_400_sites.apply(lambda row: ' '.join([str(site_id) for site_id in row]), axis=1).tolist()"
      ],
      "execution_count": 9,
      "outputs": []
    },
    {
      "cell_type": "code",
      "metadata": {
        "id": "sTp0r5s1Hc3_"
      },
      "source": [
        "from sklearn.feature_extraction.text import CountVectorizer\n",
        "\n",
        "list_400_sites_vectorized = CountVectorizer().fit_transform(list_400_sites)\n",
        "\n",
        "X_train_sparse = list_400_sites_vectorized[:len(train_df_400)]\n",
        "X_test_sparse = list_400_sites_vectorized[len(train_df_400):]"
      ],
      "execution_count": 10,
      "outputs": []
    },
    {
      "cell_type": "markdown",
      "metadata": {
        "id": "rBxEUak7Hc4A"
      },
      "source": [
        "### 2.2. Валидация по отложенной выборке"
      ]
    },
    {
      "cell_type": "markdown",
      "metadata": {
        "id": "dlGAVHsdHc4B"
      },
      "source": [
        "**Выделим обучающую (70%) и отложенную (30%) части исходной обучающей выборки. Данные не перемешиваем, учитываем, что сессии отсортированы по времени.**"
      ]
    },
    {
      "cell_type": "markdown",
      "metadata": {
        "id": "Stjfk6dMZTSf"
      },
      "source": [
        "Не похоже что сессии отсортированы, однако, вручную не сортируем, чтобы сошёлся результат"
      ]
    },
    {
      "cell_type": "code",
      "metadata": {
        "id": "MamOvltVHc4D"
      },
      "source": [
        "train_share = int(.7 * train_df_400.shape[0])\n",
        "train_df_part = train_df_400_sites.iloc[:train_share, :]\n",
        "valid_df = train_df_400_sites.iloc[train_share:, :]\n",
        "X_train_part_sparse = X_train_sparse[:train_share, :]\n",
        "X_valid_sparse = X_train_sparse[train_share:, :]"
      ],
      "execution_count": 22,
      "outputs": []
    },
    {
      "cell_type": "code",
      "metadata": {
        "id": "xTx179wTHc4E"
      },
      "source": [
        "y_train_part = y[:train_share]\n",
        "y_valid = y[train_share:]\n",
        "y_train_part_for_vw = y_for_vw[:train_share]\n",
        "y_valid_for_vw = y_for_vw[train_share:]"
      ],
      "execution_count": 12,
      "outputs": []
    },
    {
      "cell_type": "markdown",
      "metadata": {
        "id": "42MdL49xHc4E"
      },
      "source": [
        "**Реализуйте функцию, `arrays_to_vw`, переводящую обучающую выборку в формат Vowpal Wabbit.**\n",
        "\n",
        "Вход:\n",
        " - X – матрица `NumPy` (обучающая выборка)\n",
        " - y (необяз.) - вектор ответов (`NumPy`). Необязателен, поскольку тестовую матрицу будем обрабатывать этой же функцией\n",
        " - train – флаг, True в случае обучающей выборки, False – в случае тестовой выборки\n",
        " - out_file – путь к файлу .vw, в который будет произведена запись\n",
        " \n",
        "Детали:\n",
        "- надо пройтись по всем строкам матрицы `X` и записать через пробел все значения, предварительно добавив вперед нужную метку класса из вектора `y` и знак-разделитель `|`\n",
        "- в тестовой выборке на месте меток целевого класса можно писать произвольные, допустим, 1"
      ]
    },
    {
      "cell_type": "code",
      "metadata": {
        "id": "qubO2-6OHc4F"
      },
      "source": [
        "def arrays_to_vw(X, y=None, train=True, out_file='tmp.vw'):\n",
        "    with open(out_file, 'a') as f:\n",
        "        if train:\n",
        "            for x, target in zip(X.values, y):\n",
        "                string = ' '.join(x.astype(str))\n",
        "                f.write(f'{target} | {string}\\n')\n",
        "        else:\n",
        "            for x in X.values:\n",
        "                string = ' '.join(x.astype(str))\n",
        "                f.write(f' | {string}\\n')"
      ],
      "execution_count": 13,
      "outputs": []
    },
    {
      "cell_type": "markdown",
      "metadata": {
        "id": "Tyic6ZTdHc4F"
      },
      "source": [
        "**Примените написанную функцию к части обучащей выборки `(train_df_part, y_train_part_for_vw)`, к отложенной выборке `(valid_df, y_valid_for_vw)`, ко всей обучающей выборке и ко всей тестовой выборке. Обратите внимание, что на вход наш метод принимает именно матрицы и вектора `NumPy`.**"
      ]
    },
    {
      "cell_type": "code",
      "metadata": {
        "collapsed": true,
        "colab": {
          "base_uri": "https://localhost:8080/"
        },
        "id": "zOR1_b5hHc4H",
        "outputId": "ca35d8bb-fd11-4bb2-cb19-600c9a070a1d"
      },
      "source": [
        "%%time\n",
        "# !rm vw/train_part.vw vw/valid.vw vw/train.vw vw/test.vw\n",
        "# будет 4 вызова\n",
        "arrays_to_vw(train_df_part, y_train_part_for_vw, out_file=os.path.join(PATH_TO_DATA, 'train_part.vw'))\n",
        "arrays_to_vw(valid_df, y_valid_for_vw, out_file=os.path.join(PATH_TO_DATA, 'valid.vw'))\n",
        "arrays_to_vw(train_df_400_sites, y_for_vw, out_file=os.path.join(PATH_TO_DATA, 'train.vw'))\n",
        "arrays_to_vw(test_df_400_sites, train=False, out_file=os.path.join(PATH_TO_DATA, 'test.vw'))"
      ],
      "execution_count": 29,
      "outputs": [
        {
          "output_type": "stream",
          "name": "stdout",
          "text": [
            "CPU times: user 5.19 s, sys: 35.5 ms, total: 5.23 s\n",
            "Wall time: 5.23 s\n"
          ]
        }
      ]
    },
    {
      "cell_type": "markdown",
      "metadata": {
        "id": "9hcVpDA2Hc4H"
      },
      "source": [
        "**Результат должен получиться таким.**"
      ]
    },
    {
      "cell_type": "code",
      "metadata": {
        "colab": {
          "base_uri": "https://localhost:8080/"
        },
        "id": "8LZlYWUJWKW9",
        "outputId": "7109c969-d932-4792-bf75-32b8a63d8883"
      },
      "source": [
        "# my\n",
        "!head -3 $PATH_TO_DATA/train_part.vw"
      ],
      "execution_count": 30,
      "outputs": [
        {
          "output_type": "stream",
          "name": "stdout",
          "text": [
            "262 | 23713 23720 23713 23713 23720 23713 23713 23713 23713 23713\n",
            "82 | 8726 8725 665 8727 45 8725 45 5320 5320 5320\n",
            "16 | 303 19 303 303 303 303 303 309 303 303\n"
          ]
        }
      ]
    },
    {
      "cell_type": "code",
      "metadata": {
        "id": "tGLzByY0Hc4I",
        "outputId": "019b0456-4129-40f7-c238-6f7e9c1269b4"
      },
      "source": [
        "!head -3 $PATH_TO_DATA/train_part.vw"
      ],
      "execution_count": null,
      "outputs": [
        {
          "name": "stdout",
          "output_type": "stream",
          "text": [
            "262 | 23713 23720 23713 23713 23720 23713 23713 23713 23713 23713\r\n",
            "82 | 8726 8725 665 8727 45 8725 45 5320 5320 5320\r\n",
            "16 | 303 19 303 303 303 303 303 309 303 303\r\n"
          ]
        }
      ]
    },
    {
      "cell_type": "code",
      "metadata": {
        "colab": {
          "base_uri": "https://localhost:8080/"
        },
        "id": "p2pvs6TIW9fT",
        "outputId": "81ebf593-e192-4632-f79f-28853c9e2626"
      },
      "source": [
        "# my\n",
        "!head -3  $PATH_TO_DATA/valid.vw"
      ],
      "execution_count": 31,
      "outputs": [
        {
          "output_type": "stream",
          "name": "stdout",
          "text": [
            "4 | 7 923 923 923 11 924 7 924 838 7\n",
            "160 | 91 198 11 11 302 91 668 311 310 91\n",
            "312 | 27085 848 118 118 118 118 11 118 118 118\n"
          ]
        }
      ]
    },
    {
      "cell_type": "code",
      "metadata": {
        "id": "msiGmcG1Hc4I",
        "outputId": "bed0845d-9acd-4e44-c364-6151042824c2"
      },
      "source": [
        "!head -3  $PATH_TO_DATA/valid.vw"
      ],
      "execution_count": null,
      "outputs": [
        {
          "name": "stdout",
          "output_type": "stream",
          "text": [
            "4 | 7 923 923 923 11 924 7 924 838 7\r\n",
            "160 | 91 198 11 11 302 91 668 311 310 91\r\n",
            "312 | 27085 848 118 118 118 118 11 118 118 118\r\n"
          ]
        }
      ]
    },
    {
      "cell_type": "code",
      "metadata": {
        "colab": {
          "base_uri": "https://localhost:8080/"
        },
        "id": "XNP6TaQWXAtW",
        "outputId": "76efa535-d956-4d2e-fcaa-6532bd21b104"
      },
      "source": [
        "# my\n",
        "!head -3 $PATH_TO_DATA/test.vw"
      ],
      "execution_count": 32,
      "outputs": [
        {
          "output_type": "stream",
          "name": "stdout",
          "text": [
            " | 9 304 308 307 91 308 312 300 305 309\n",
            " | 838 504 68 11 838 11 838 886 27 305\n",
            " | 190 192 8 189 191 189 190 2375 192 8\n"
          ]
        }
      ]
    },
    {
      "cell_type": "code",
      "metadata": {
        "id": "1omP8e9tHc4J",
        "outputId": "f00d7eae-afc3-4bb5-ec74-2aa60df4d81d"
      },
      "source": [
        "!head -3 $PATH_TO_DATA/test.vw"
      ],
      "execution_count": null,
      "outputs": [
        {
          "name": "stdout",
          "output_type": "stream",
          "text": [
            "1 | 9 304 308 307 91 308 312 300 305 309\r\n",
            "1 | 838 504 68 11 838 11 838 886 27 305\r\n",
            "1 | 190 192 8 189 191 189 190 2375 192 8\r\n"
          ]
        }
      ]
    },
    {
      "cell_type": "markdown",
      "metadata": {
        "id": "WZG6DmmcHc4J"
      },
      "source": [
        "**Обучите модель Vowpal Wabbitна выборке `train_part.vw`. Укажите, что решается задача классификации с 400 классами (`--oaa`), сделайте 3 прохода по выборке (`--passes`). Задайте некоторый кэш-файл (`--cache_file`, можно просто указать флаг `-c`), так VW будет быстрее делать все следующие после первого проходы по выборке (прошлый кэш-файл удаляется с помощью аргумента `-k`). Также укажите значение параметра `b`=26. Это число бит, используемых для хэширования, в данном случае нужно больше, чем 18 по умолчанию. Наконец, укажите `random_seed`=17. Остальные параметры пока не меняйте, далее уже в свободном режиме соревнования можете попробовать другие функции потерь.**"
      ]
    },
    {
      "cell_type": "code",
      "metadata": {
        "collapsed": true,
        "id": "sztr3IU3Hc4K"
      },
      "source": [
        "train_part_vw = os.path.join(PATH_TO_DATA, 'train_part.vw')\n",
        "valid_vw = os.path.join(PATH_TO_DATA, 'valid.vw')\n",
        "train_vw = os.path.join(PATH_TO_DATA, 'train.vw')\n",
        "test_vw = os.path.join(PATH_TO_DATA, 'test.vw')\n",
        "model = os.path.join(PATH_TO_DATA, 'vw_model.vw')\n",
        "pred_valid = os.path.join(PATH_TO_DATA, 'vw_valid_pred.csv')\n",
        "pred_test = os.path.join(PATH_TO_DATA, 'vw_test_pred.csv')"
      ],
      "execution_count": 50,
      "outputs": []
    },
    {
      "cell_type": "code",
      "metadata": {
        "id": "2tOnPCVrmaWA"
      },
      "source": [
        "# !sudo apt-get install vowpal-wabbit"
      ],
      "execution_count": null,
      "outputs": []
    },
    {
      "cell_type": "code",
      "metadata": {
        "collapsed": true,
        "colab": {
          "base_uri": "https://localhost:8080/"
        },
        "id": "r5imXVawHc4K",
        "outputId": "5479d4ea-e229-421d-cfa4-7ef89561ba9b"
      },
      "source": [
        "%%time\n",
        "!vw -d $train_part_vw -f $model --oaa 400 --passes 3 --cache -b 26 --random_seed 17"
      ],
      "execution_count": 36,
      "outputs": [
        {
          "output_type": "stream",
          "name": "stdout",
          "text": [
            "final_regressor = vw/vw_model.vw\n",
            "Num weight bits = 26\n",
            "learning rate = 0.5\n",
            "initial_t = 0\n",
            "power_t = 0.5\n",
            "decay_learning_rate = 1\n",
            "tcmalloc: large alloc 1073741824 bytes == 0x563d0878a000 @  0x7f50ed795001 0x7f50ed331b5f 0x7f50ed33fa21 0x7f50ed3e2e00 0x7f50ed3d0be3 0x7f50ed3d8395 0x7f50ed3d8c44 0x563d06ec4237 0x563d06ec3a8b 0x7f50ec950bf7 0x563d06ec405a\n",
            "creating cache_file = vw/train_part.vw.cache\n",
            "Reading datafile = vw/train_part.vw\n",
            "num sources = 1\n",
            "average  since         example        example  current  current  current\n",
            "loss     last          counter         weight    label  predict features\n",
            "1.000000 1.000000            1            1.0      262        1       11\n",
            "1.000000 1.000000            2            2.0       82      262       11\n",
            "1.000000 1.000000            4            4.0      241      262       11\n",
            "1.000000 1.000000            8            8.0      352      262       11\n",
            "1.000000 1.000000           16           16.0      135       16       11\n",
            "1.000000 1.000000           32           32.0       71      112       11\n",
            "0.968750 0.937500           64           64.0      358      231       11\n",
            "0.976562 0.984375          128          128.0      348      346       11\n",
            "0.941406 0.906250          256          256.0      202      202       11\n",
            "0.947266 0.953125          512          512.0       30        1       11\n",
            "0.925781 0.904297         1024         1024.0       36      290       11\n",
            "0.908203 0.890625         2048         2048.0       21      128       11\n",
            "0.880127 0.852051         4096         4096.0       80      229       11\n",
            "0.856323 0.832520         8192         8192.0      307      356       11\n",
            "0.828003 0.799683        16384        16384.0       59      193       11\n",
            "0.795441 0.762878        32768        32768.0      262       30       11\n",
            "0.760468 0.725494        65536        65536.0      171      238       11\n",
            "0.724008 0.724008       131072       131072.0        6        6       11 h\n",
            "0.697339 0.670672       262144       262144.0       12       12       11 h\n",
            "\n",
            "finished run\n",
            "number of examples per pass = 115160\n",
            "passes used = 3\n",
            "weighted example sum = 345480.000000\n",
            "weighted label sum = 0.000000\n",
            "average loss = 0.661352 h\n",
            "total feature number = 3800280\n",
            "CPU times: user 232 ms, sys: 41.2 ms, total: 274 ms\n",
            "Wall time: 32.3 s\n"
          ]
        }
      ]
    },
    {
      "cell_type": "markdown",
      "metadata": {
        "id": "v17hFK8vHc4K"
      },
      "source": [
        "**Запишите прогнозы на выборке *valid.vw* в *vw_valid_pred.csv*.**"
      ]
    },
    {
      "cell_type": "code",
      "metadata": {
        "collapsed": true,
        "colab": {
          "base_uri": "https://localhost:8080/"
        },
        "id": "c0n5aNaTHc4K",
        "outputId": "6a7861d4-d780-45de-bb66-ef128de8ae6a"
      },
      "source": [
        "%%time\n",
        "!vw -i $model -t -d $valid_vw -p $pred_valid"
      ],
      "execution_count": 38,
      "outputs": [
        {
          "output_type": "stream",
          "name": "stdout",
          "text": [
            "only testing\n",
            "predictions = vw/vw_valid_pred.csv\n",
            "Num weight bits = 26\n",
            "learning rate = 0.5\n",
            "initial_t = 0\n",
            "power_t = 0.5\n",
            "using no cache\n",
            "Reading datafile = vw/valid.vw\n",
            "num sources = 1\n",
            "average  since         example        example  current  current  current\n",
            "loss     last          counter         weight    label  predict features\n",
            "1.000000 1.000000            1            1.0        4      188       11\n",
            "1.000000 1.000000            2            2.0      160      220       11\n",
            "0.750000 0.500000            4            4.0      143      143       11\n",
            "0.750000 0.750000            8            8.0      247      247       11\n",
            "0.687500 0.625000           16           16.0      341       30       11\n",
            "0.593750 0.500000           32           32.0      237      237       11\n",
            "0.609375 0.625000           64           64.0      178      178       11\n",
            "0.640625 0.671875          128          128.0      132      228       11\n",
            "0.656250 0.671875          256          256.0       14       14       11\n",
            "0.646484 0.636719          512          512.0      370      370       11\n",
            "0.663086 0.679688         1024         1024.0      189      189       11\n",
            "0.655762 0.648438         2048         2048.0      311      311       11\n",
            "0.657227 0.658691         4096         4096.0      195      318       11\n",
            "0.660156 0.663086         8192         8192.0      171      195       11\n",
            "0.657654 0.655151        16384        16384.0      362       51       11\n",
            "0.655121 0.652588        32768        32768.0      248      248       11\n",
            "\n",
            "finished run\n",
            "number of examples per pass = 54838\n",
            "passes used = 1\n",
            "weighted example sum = 54838.000000\n",
            "weighted label sum = 0.000000\n",
            "average loss = 0.654583\n",
            "total feature number = 603218\n",
            "CPU times: user 22.4 ms, sys: 12.3 ms, total: 34.8 ms\n",
            "Wall time: 1.64 s\n"
          ]
        }
      ]
    },
    {
      "cell_type": "markdown",
      "metadata": {
        "id": "12y51J6-Hc4L"
      },
      "source": [
        "**Считайте прогнозы *kaggle_data/vw_valid_pred.csv*  из файла и посмотрите на долю правильных ответов на отложенной части.**"
      ]
    },
    {
      "cell_type": "code",
      "metadata": {
        "collapsed": true,
        "colab": {
          "base_uri": "https://localhost:8080/"
        },
        "id": "YLOjysv2Hc4L",
        "outputId": "03cdad90-44d5-44bd-92ae-89b8c6569f08"
      },
      "source": [
        "from sklearn.metrics import accuracy_score\n",
        "\n",
        "valid_preds = pd.read_csv(pred_valid, header=None)\n",
        "vw_valid_acc = accuracy_score(y_valid_for_vw, valid_preds)\n",
        "vw_valid_acc"
      ],
      "execution_count": 39,
      "outputs": [
        {
          "output_type": "execute_result",
          "data": {
            "text/plain": [
              "0.34541741128414605"
            ]
          },
          "metadata": {},
          "execution_count": 39
        }
      ]
    },
    {
      "cell_type": "markdown",
      "metadata": {
        "id": "xjsaGQWAHc4L"
      },
      "source": [
        "**Теперь обучите `SGDClassifier` (3 прохода по выборке, логистическая функция потерь) и `LogisticRegression` на 70% разреженной обучающей выборки – `(X_train_part_sparse, y_train_part)`, сделайте прогноз для отложенной выборки `(X_valid_sparse, y_valid)` и посчитайте доли верных ответов. Логистическая регрессия будет обучаться не быстро (у меня – 4 минуты) – это нормально. Укажите везде `random_state`=17, `n_jobs`=-1. Для `SGDClassifier` также укажите `max_iter=3`.**"
      ]
    },
    {
      "cell_type": "code",
      "metadata": {
        "collapsed": true,
        "id": "oQ0aheQnHc4M"
      },
      "source": [
        "sgd_logit = SGDClassifier(random_state=17, n_jobs=-1, max_iter=3, loss='log')\n",
        "logit = LogisticRegression(random_state=17, n_jobs=-1)"
      ],
      "execution_count": 40,
      "outputs": []
    },
    {
      "cell_type": "code",
      "metadata": {
        "collapsed": true,
        "colab": {
          "base_uri": "https://localhost:8080/"
        },
        "id": "oIlYTwsYHc4M",
        "outputId": "f7288c7c-550a-4712-f7a5-39feda4c9f3a"
      },
      "source": [
        "%%time\n",
        "sgd_logit.fit(X_train_part_sparse, y_train_part)"
      ],
      "execution_count": 41,
      "outputs": [
        {
          "output_type": "stream",
          "name": "stdout",
          "text": [
            "CPU times: user 50.8 s, sys: 16.6 s, total: 1min 7s\n",
            "Wall time: 34.3 s\n"
          ]
        },
        {
          "output_type": "stream",
          "name": "stderr",
          "text": [
            "/usr/local/lib/python3.7/dist-packages/sklearn/linear_model/_stochastic_gradient.py:557: ConvergenceWarning: Maximum number of iteration reached before convergence. Consider increasing max_iter to improve the fit.\n",
            "  ConvergenceWarning)\n"
          ]
        },
        {
          "output_type": "execute_result",
          "data": {
            "text/plain": [
              "SGDClassifier(alpha=0.0001, average=False, class_weight=None,\n",
              "              early_stopping=False, epsilon=0.1, eta0=0.0, fit_intercept=True,\n",
              "              l1_ratio=0.15, learning_rate='optimal', loss='log', max_iter=3,\n",
              "              n_iter_no_change=5, n_jobs=-1, penalty='l2', power_t=0.5,\n",
              "              random_state=17, shuffle=True, tol=0.001, validation_fraction=0.1,\n",
              "              verbose=0, warm_start=False)"
            ]
          },
          "metadata": {},
          "execution_count": 41
        }
      ]
    },
    {
      "cell_type": "code",
      "metadata": {
        "colab": {
          "base_uri": "https://localhost:8080/"
        },
        "id": "SwNiObmA4BCA",
        "outputId": "0bfeb6da-92b9-49b4-e1db-c67d5ad2e4ac"
      },
      "source": [
        "sgd_valid_acc = accuracy_score(y_valid, sgd_logit.predict(X_valid_sparse))\n",
        "sgd_valid_acc"
      ],
      "execution_count": 42,
      "outputs": [
        {
          "output_type": "execute_result",
          "data": {
            "text/plain": [
              "0.2935737991903425"
            ]
          },
          "metadata": {},
          "execution_count": 42
        }
      ]
    },
    {
      "cell_type": "code",
      "metadata": {
        "collapsed": true,
        "colab": {
          "base_uri": "https://localhost:8080/"
        },
        "id": "465FRjDoHc4M",
        "outputId": "71191d82-bf25-4468-81d9-db6c5ef8bbd6"
      },
      "source": [
        "%%time\n",
        "logit.fit(X_train_part_sparse, y_train_part)"
      ],
      "execution_count": 43,
      "outputs": [
        {
          "output_type": "stream",
          "name": "stdout",
          "text": [
            "CPU times: user 2.72 s, sys: 572 ms, total: 3.29 s\n",
            "Wall time: 8min 6s\n"
          ]
        },
        {
          "output_type": "execute_result",
          "data": {
            "text/plain": [
              "LogisticRegression(C=1.0, class_weight=None, dual=False, fit_intercept=True,\n",
              "                   intercept_scaling=1, l1_ratio=None, max_iter=100,\n",
              "                   multi_class='auto', n_jobs=-1, penalty='l2', random_state=17,\n",
              "                   solver='lbfgs', tol=0.0001, verbose=0, warm_start=False)"
            ]
          },
          "metadata": {},
          "execution_count": 43
        }
      ]
    },
    {
      "cell_type": "code",
      "metadata": {
        "colab": {
          "base_uri": "https://localhost:8080/"
        },
        "id": "q9fJlK9a4Ukj",
        "outputId": "8925d9b8-a7c5-4400-9a17-ac40caee88af"
      },
      "source": [
        "logit_valid_acc = accuracy_score(y_valid, logit.predict(X_valid_sparse))\n",
        "logit_valid_acc"
      ],
      "execution_count": 44,
      "outputs": [
        {
          "output_type": "execute_result",
          "data": {
            "text/plain": [
              "0.3520369087129363"
            ]
          },
          "metadata": {},
          "execution_count": 44
        }
      ]
    },
    {
      "cell_type": "markdown",
      "metadata": {
        "id": "SVTTt9Q46Wht"
      },
      "source": [
        "Грейдер проходит значение 0.353"
      ]
    },
    {
      "cell_type": "markdown",
      "metadata": {
        "id": "bJ8B_qp-Hc4N"
      },
      "source": [
        "**<font color='red'>Вопрос 1. </font> Посчитайте долю правильных ответов на отложенной выборке для Vowpal Wabbit, округлите до 3 знаков после запятой.**\n",
        "\n",
        "**<font color='red'>Вопрос 2. </font> Посчитайте долю правильных ответов на отложенной выборке для SGD, округлите до 3 знаков после запятой.**\n",
        "\n",
        "**<font color='red'>Вопрос 3. </font> Посчитайте долю правильных ответов на отложенной выборке для логистической регрессии, округлите до 3 знаков после запятой.**"
      ]
    },
    {
      "cell_type": "code",
      "metadata": {
        "collapsed": true,
        "id": "Ihv52CDnHc4N"
      },
      "source": [
        "def write_answer_to_file(answer, file_address):\n",
        "    with open(file_address, 'w') as out_f:\n",
        "        out_f.write(str(answer))"
      ],
      "execution_count": 45,
      "outputs": []
    },
    {
      "cell_type": "code",
      "metadata": {
        "collapsed": true,
        "id": "uvsRniogHc4O"
      },
      "source": [
        "write_answer_to_file(round(vw_valid_acc, 3), 'answer6_1.txt')\n",
        "write_answer_to_file(round(sgd_valid_acc, 3), 'answer6_2.txt')\n",
        "write_answer_to_file(round(logit_valid_acc, 3), 'answer6_3.txt')"
      ],
      "execution_count": 48,
      "outputs": []
    },
    {
      "cell_type": "markdown",
      "metadata": {
        "id": "dCAuu3J-Hc4O"
      },
      "source": [
        "### 2.3. Валидация по тестовой выборке (Public Leaderboard)"
      ]
    },
    {
      "cell_type": "markdown",
      "metadata": {
        "id": "AyDO9Dl7Hc4O"
      },
      "source": [
        "**Обучите модель VW с теми же параметрами на всей обучающей выборке – *train.vw*.**"
      ]
    },
    {
      "cell_type": "code",
      "metadata": {
        "collapsed": true,
        "colab": {
          "base_uri": "https://localhost:8080/"
        },
        "id": "o4lX1d8WHc4P",
        "outputId": "341b04ed-32a1-47f3-8175-efb6fedb7eba"
      },
      "source": [
        "%%time\n",
        "!vw -d $train_vw -f $model --oaa 400 --passes 3 --cache -b 26 --random_seed 17"
      ],
      "execution_count": 49,
      "outputs": [
        {
          "output_type": "stream",
          "name": "stdout",
          "text": [
            "final_regressor = vw/vw_model.vw\n",
            "Num weight bits = 26\n",
            "learning rate = 0.5\n",
            "initial_t = 0\n",
            "power_t = 0.5\n",
            "decay_learning_rate = 1\n",
            "tcmalloc: large alloc 1073741824 bytes == 0x55d76cfaa000 @  0x7f5043f1f001 0x7f5043abbb5f 0x7f5043ac9a21 0x7f5043b6ce00 0x7f5043b5abe3 0x7f5043b62395 0x7f5043b62c44 0x55d76b673237 0x55d76b672a8b 0x7f50430dabf7 0x55d76b67305a\n",
            "creating cache_file = vw/train.vw.cache\n",
            "Reading datafile = vw/train.vw\n",
            "num sources = 1\n",
            "average  since         example        example  current  current  current\n",
            "loss     last          counter         weight    label  predict features\n",
            "1.000000 1.000000            1            1.0      262        1       11\n",
            "1.000000 1.000000            2            2.0       82      262       11\n",
            "1.000000 1.000000            4            4.0      241      262       11\n",
            "1.000000 1.000000            8            8.0      352      262       11\n",
            "1.000000 1.000000           16           16.0      135       16       11\n",
            "1.000000 1.000000           32           32.0       71      112       11\n",
            "0.968750 0.937500           64           64.0      358      231       11\n",
            "0.976562 0.984375          128          128.0      348      346       11\n",
            "0.941406 0.906250          256          256.0      202      202       11\n",
            "0.947266 0.953125          512          512.0       30        1       11\n",
            "0.925781 0.904297         1024         1024.0       36      290       11\n",
            "0.908203 0.890625         2048         2048.0       21      128       11\n",
            "0.880127 0.852051         4096         4096.0       80      229       11\n",
            "0.856323 0.832520         8192         8192.0      307      356       11\n",
            "0.828003 0.799683        16384        16384.0       59      193       11\n",
            "0.795441 0.762878        32768        32768.0      262       30       11\n",
            "0.760468 0.725494        65536        65536.0      171      238       11\n",
            "0.725319 0.690170       131072       131072.0      180      159       11\n",
            "0.692989 0.692989       262144       262144.0       88      221       11 h\n",
            "\n",
            "finished run\n",
            "number of examples per pass = 164514\n",
            "passes used = 3\n",
            "weighted example sum = 493542.000000\n",
            "weighted label sum = 0.000000\n",
            "average loss = 0.642595 h\n",
            "total feature number = 5428962\n",
            "CPU times: user 297 ms, sys: 59.3 ms, total: 356 ms\n",
            "Wall time: 41.2 s\n"
          ]
        }
      ]
    },
    {
      "cell_type": "markdown",
      "metadata": {
        "id": "yYBj1owSHc4P"
      },
      "source": [
        "**Сделайте прогноз для тестовой выборки.**"
      ]
    },
    {
      "cell_type": "code",
      "metadata": {
        "collapsed": true,
        "colab": {
          "base_uri": "https://localhost:8080/"
        },
        "id": "4Qo4utfMHc4P",
        "outputId": "97cf7dda-45a4-4fce-abaf-2aade93c2927"
      },
      "source": [
        "%%time\n",
        "!vw -i $model -t -d $test_vw -p $pred_test"
      ],
      "execution_count": 51,
      "outputs": [
        {
          "output_type": "stream",
          "name": "stdout",
          "text": [
            "only testing\n",
            "predictions = vw/vw_test_pred.csv\n",
            "Num weight bits = 26\n",
            "learning rate = 0.5\n",
            "initial_t = 0\n",
            "power_t = 0.5\n",
            "using no cache\n",
            "Reading datafile = vw/test.vw\n",
            "num sources = 1\n",
            "average  since         example        example  current  current  current\n",
            "loss     last          counter         weight    label  predict features\n",
            "    n.a.     n.a.            1            1.0  unknown       90       11\n",
            "    n.a.     n.a.            2            2.0  unknown       21       11\n",
            "    n.a.     n.a.            4            4.0  unknown      265       11\n",
            "    n.a.     n.a.            8            8.0  unknown      137       11\n",
            "    n.a.     n.a.           16           16.0  unknown      273       11\n",
            "    n.a.     n.a.           32           32.0  unknown      384       11\n",
            "    n.a.     n.a.           64           64.0  unknown      139       11\n",
            "    n.a.     n.a.          128          128.0  unknown       85       11\n",
            "    n.a.     n.a.          256          256.0  unknown       25       11\n",
            "    n.a.     n.a.          512          512.0  unknown      364       11\n",
            "    n.a.     n.a.         1024         1024.0  unknown      202       11\n",
            "    n.a.     n.a.         2048         2048.0  unknown      181       11\n",
            "    n.a.     n.a.         4096         4096.0  unknown       21       11\n",
            "    n.a.     n.a.         8192         8192.0  unknown      137       11\n",
            "    n.a.     n.a.        16384        16384.0  unknown      326       11\n",
            "    n.a.     n.a.        32768        32768.0  unknown       10       11\n",
            "\n",
            "finished run\n",
            "number of examples per pass = 46473\n",
            "passes used = 1\n",
            "weighted example sum = 46473.000000\n",
            "weighted label sum = 0.000000\n",
            "average loss = n.a.\n",
            "total feature number = 511203\n",
            "CPU times: user 30.6 ms, sys: 15.6 ms, total: 46.2 ms\n",
            "Wall time: 1.57 s\n"
          ]
        }
      ]
    },
    {
      "cell_type": "markdown",
      "metadata": {
        "id": "LhLwFyz-Hc4Q"
      },
      "source": [
        "**Запишите прогноз в файл, примените обратное преобразование меток (был LabelEncoder и потом +1 в меткам) и отправьте решение на Kaggle.**"
      ]
    },
    {
      "cell_type": "code",
      "metadata": {
        "collapsed": true,
        "id": "y-GFI2moHc4R"
      },
      "source": [
        "def write_to_submission_file(predicted_labels, out_file,\n",
        "                             target='user_id', index_label=\"session_id\"):\n",
        "    # turn predictions into data frame and save as csv file\n",
        "    predicted_df = pd.DataFrame(predicted_labels,\n",
        "                                index = np.arange(1, predicted_labels.shape[0] + 1),\n",
        "                                columns=[target])\n",
        "    predicted_df.to_csv(out_file, index_label=index_label)"
      ],
      "execution_count": 52,
      "outputs": []
    },
    {
      "cell_type": "code",
      "metadata": {
        "id": "hLHX7ix_7Zn_"
      },
      "source": [
        "vw_kaggle_preds = pd.read_csv(pred_test, header=None)"
      ],
      "execution_count": 54,
      "outputs": []
    },
    {
      "cell_type": "code",
      "metadata": {
        "collapsed": true,
        "id": "UmbQ_mKIHc4R"
      },
      "source": [
        "vw_pred = class_encoder.inverse_transform(vw_kaggle_preds.to_numpy().ravel() - 1)"
      ],
      "execution_count": 56,
      "outputs": []
    },
    {
      "cell_type": "code",
      "metadata": {
        "collapsed": true,
        "id": "eE0VGGhuHc4S"
      },
      "source": [
        "write_to_submission_file(vw_pred, os.path.join(PATH_TO_DATA, 'vw_400_users.csv'))"
      ],
      "execution_count": 57,
      "outputs": []
    },
    {
      "cell_type": "markdown",
      "metadata": {
        "id": "vaEHaXNYHc4T"
      },
      "source": [
        "**Сделайте то же самое для SGD и логистической регрессии. Тут уже ждать обучение логистической регрессии совсем скучно (заново запускать тетрадку вам не захочется), но давайте дождемся.**"
      ]
    },
    {
      "cell_type": "code",
      "metadata": {
        "collapsed": true,
        "colab": {
          "base_uri": "https://localhost:8080/"
        },
        "id": "7NaqJtf1Hc4T",
        "outputId": "5d41c984-6ade-4895-a77b-36c5bee9ff81"
      },
      "source": [
        "%%time\n",
        "sgd_logit.fit(X_train_part_sparse, y_train_part)"
      ],
      "execution_count": 61,
      "outputs": [
        {
          "output_type": "stream",
          "name": "stdout",
          "text": [
            "CPU times: user 54.8 s, sys: 17.5 s, total: 1min 12s\n",
            "Wall time: 36.9 s\n"
          ]
        },
        {
          "output_type": "stream",
          "name": "stderr",
          "text": [
            "/usr/local/lib/python3.7/dist-packages/sklearn/linear_model/_stochastic_gradient.py:557: ConvergenceWarning: Maximum number of iteration reached before convergence. Consider increasing max_iter to improve the fit.\n",
            "  ConvergenceWarning)\n"
          ]
        },
        {
          "output_type": "execute_result",
          "data": {
            "text/plain": [
              "SGDClassifier(alpha=0.0001, average=False, class_weight=None,\n",
              "              early_stopping=False, epsilon=0.1, eta0=0.0, fit_intercept=True,\n",
              "              l1_ratio=0.15, learning_rate='optimal', loss='log', max_iter=3,\n",
              "              n_iter_no_change=5, n_jobs=-1, penalty='l2', power_t=0.5,\n",
              "              random_state=17, shuffle=True, tol=0.001, validation_fraction=0.1,\n",
              "              verbose=0, warm_start=False)"
            ]
          },
          "metadata": {},
          "execution_count": 61
        }
      ]
    },
    {
      "cell_type": "code",
      "metadata": {
        "id": "qDKT-b6MJrkX"
      },
      "source": [
        "sgd_logit_test_pred = sgd_logit.predict(X_test_sparse)"
      ],
      "execution_count": 62,
      "outputs": []
    },
    {
      "cell_type": "code",
      "metadata": {
        "id": "EoT0NdfOKZwf"
      },
      "source": [
        "write_to_submission_file(sgd_logit_test_pred, \n",
        "                         os.path.join(PATH_TO_DATA, 'sgd_400_users.csv'))"
      ],
      "execution_count": 63,
      "outputs": []
    },
    {
      "cell_type": "markdown",
      "metadata": {
        "id": "MKUacPs6-Vzv"
      },
      "source": [
        "- 0.17558: full"
      ]
    },
    {
      "cell_type": "code",
      "metadata": {
        "colab": {
          "base_uri": "https://localhost:8080/"
        },
        "id": "CkCf1N0pST-7",
        "outputId": "540084af-c439-4e0b-83f9-a1b520c83c2f"
      },
      "source": [
        "%%time\n",
        "logit.fit(X_train_sparse, y)"
      ],
      "execution_count": 64,
      "outputs": [
        {
          "output_type": "stream",
          "name": "stdout",
          "text": [
            "CPU times: user 3.38 s, sys: 675 ms, total: 4.06 s\n",
            "Wall time: 10min\n"
          ]
        },
        {
          "output_type": "execute_result",
          "data": {
            "text/plain": [
              "LogisticRegression(C=1.0, class_weight=None, dual=False, fit_intercept=True,\n",
              "                   intercept_scaling=1, l1_ratio=None, max_iter=100,\n",
              "                   multi_class='auto', n_jobs=-1, penalty='l2', random_state=17,\n",
              "                   solver='lbfgs', tol=0.0001, verbose=0, warm_start=False)"
            ]
          },
          "metadata": {},
          "execution_count": 64
        }
      ]
    },
    {
      "cell_type": "code",
      "metadata": {
        "id": "RNo1OYLKSodW"
      },
      "source": [
        "logit_test_pred = logit.predict(X_test_sparse)"
      ],
      "execution_count": 65,
      "outputs": []
    },
    {
      "cell_type": "code",
      "metadata": {
        "collapsed": true,
        "id": "4ncKKoVMHc4U"
      },
      "source": [
        "write_to_submission_file(logit_test_pred, \n",
        "                         os.path.join(PATH_TO_DATA, 'logit_400_users.csv'))"
      ],
      "execution_count": 66,
      "outputs": []
    },
    {
      "cell_type": "markdown",
      "metadata": {
        "id": "uEwdtaGMHc4U"
      },
      "source": [
        "Посмотрим на доли правильных ответов на публичной части (public leaderboard) тестовой выборки [этого](https://kaggle.com/c/catch-me-if-you-can-intruder-detection-through-webpage-session-tracking2) соревнования.\n",
        "\n",
        "**<font color='red'>Вопрос 4. </font> Какова доля правильных ответов на публичной части тестовой выборки (public leaderboard)  для Vowpal Wabbit?**\n",
        "\n",
        "**<font color='red'>Вопрос 5. </font> Какова доля правильных ответов на публичной части тестовой выборки (public leaderboard)  для SGD?**\n",
        "\n",
        "**<font color='red'>Вопрос 6. </font> Какова доля правильных ответов на публичной части тестовой выборки (public leaderboard)  для логистической регрессии?**\n"
      ]
    },
    {
      "cell_type": "code",
      "metadata": {
        "id": "gVSkqQyPHc4V"
      },
      "source": [
        "vw_lb_score, sgd_lb_score, logit_lb_score = 0.18768, , 0.19388\n",
        "\n",
        "write_answer_to_file(round(vw_lb_score, 3), 'answer6_4.txt')\n",
        "write_answer_to_file(round(sgd_lb_score, 3), 'answer6_5.txt')\n",
        "write_answer_to_file(round(logit_lb_score, 3), 'answer6_6.txt')"
      ],
      "execution_count": null,
      "outputs": []
    },
    {
      "cell_type": "markdown",
      "metadata": {
        "id": "9VOXDhmPHc4V"
      },
      "source": [
        "**В заключение по заданию:**\n",
        "- Про соотношение качества классификации и скорости обучения VW, SGD и logit выводы предлагается сделать самостоятельно\n",
        "- Пожалуй, задача классификации на 400 классов (идентификация 400 пользователей) решается недостаточно хорошо при честном отделении по времени тестовой выборки от обучающей. Далее мы будем соревноваться в идентификации одного пользователя (Элис) – [вот](https://kaggle.com/c/catch-me-if-you-can-intruder-detection-through-webpage-session-tracking2) соревнование, в котором предлагается поучаствовать. Не перепутайте! \n",
        "\n",
        "**Удачи!**"
      ]
    }
  ]
}