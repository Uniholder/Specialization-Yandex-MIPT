{
  "nbformat": 4,
  "nbformat_minor": 0,
  "metadata": {
    "colab": {
      "name": "week7_report.ipynb",
      "provenance": []
    },
    "kernelspec": {
      "name": "python3",
      "display_name": "Python 3"
    },
    "language_info": {
      "name": "python"
    }
  },
  "cells": [
    {
      "cell_type": "markdown",
      "metadata": {
        "id": "dg3gzNZlVWWb"
      },
      "source": [
        "# Идентификация интернет-пользователей. Отчёт"
      ]
    },
    {
      "cell_type": "markdown",
      "metadata": {
        "id": "ZSZLuCWmW-Xi"
      },
      "source": [
        "## Содержание\n",
        "1. [Цели и задачи проекта](#Цели-и-задачи-проекта)\n",
        "2. [Постановка задачи](#Постановка-задачи)\n",
        "2. описание исходных и обработанных данных и признаков.\n",
        "2. первичный анализ признаков\n",
        "3. первичный визуальный анализ признаков\n",
        "4. если пришли к каким-то \"инсайтам\", обнаружили закономерности – изложите\n",
        "5. описание предобработки данных\n",
        "6. если создаются признаки, то описание этого процесса\n",
        "7. кросс-валидация, построение кривых валидации и обучения\n",
        "8. оценка модели с описанием выбранной метрики. Опишите простыми словами\n",
        "9. качество модели, как она может применяться\n",
        "10. выводы: как построенная модель может применяться на практике, какие бизнес-задачи решать. \n",
        "11. Подведите итог, опишите, что еще можно сделать, а что сделать не удалось."
      ]
    },
    {
      "cell_type": "markdown",
      "metadata": {
        "id": "f0eel28bXT-S"
      },
      "source": [
        "## Цели и задачи проекта"
      ]
    },
    {
      "cell_type": "markdown",
      "metadata": {
        "id": "-Y8qAYPAXXvS"
      },
      "source": [
        "Постулируем 2 основные цели проекта:\n",
        "- учебная\n",
        "- исследовательская\n",
        "\n",
        "К учебной части отнесём закрепление теоретических знаний и отработка их на парктике, а именно.\n",
        "\n",
        "К исследовательской части отнесём следующие задачи:\n",
        "- постановка ML-задачи\n",
        "- предобработка входных данных\n",
        "- exploratory data analysis (визулизация)\n",
        "- feature engineering\n",
        "- подбор модели и её гиперпараметров\n",
        "- проверка модели на кроссвалидации и отложенных выборках\n",
        "- оценка применения модели к бизнес-задачам"
      ]
    },
    {
      "cell_type": "markdown",
      "metadata": {
        "id": "vTurOqQUbCM_"
      },
      "source": [
        "## Описание проекта"
      ]
    },
    {
      "cell_type": "markdown",
      "metadata": {
        "id": "4mdyVAeQbWnl"
      },
      "source": [
        "В проекте ставится задача по последовательности из нескольких веб-сайтов, посещенных подряд один и тем же человеком идентифицировать этого человека. Идея в том что, пользователи Интернета по-разному переходят по ссылкам, и это может помогать их идентифицировать (кто-то сначала в почту, потом про футбол почитать, затем новости, контакт, потом наконец – работать, кто-то – сразу работать)."
      ]
    },
    {
      "cell_type": "markdown",
      "metadata": {
        "id": "QoGnJBf2iulX"
      },
      "source": [
        "## Описание входных данных"
      ]
    },
    {
      "cell_type": "markdown",
      "metadata": {
        "id": "_ZvMoHs9dp81"
      },
      "source": [
        "Входные данные взяты из [статьи](http://ceur-ws.org/Vol-1703/paper12.pdf) \"A Tool for Classification of Sequential Data\".\n",
        "\n",
        "Данные пришли с прокси-серверов Университета Блеза Паскаля и имеют следующий вид. Для каждого пользователя заведен csv-файл с названием user****.csv (где вместо звездочек – 4 цифры, соответствующие ID пользователя), а в нем посещения сайтов записаны в следующем формате: \n",
        "\n",
        "_timestamp, site_"
      ]
    },
    {
      "cell_type": "markdown",
      "metadata": {
        "id": "aMmt8oQ0gYJB"
      },
      "source": [
        "Данные устроены следующем образом:\n",
        "\n",
        "- каталог 3users – пример из 3 файлов для отладки кода предобработки\n",
        "- в каталог 10users лежат 10 csv-файлов с названием вида \"user[USER_ID].csv\", где [USER_ID] – ID пользователя\n",
        "- аналогично для каталога 150users – 150 пользователей"
      ]
    },
    {
      "cell_type": "code",
      "metadata": {
        "id": "olj7uV41iywI"
      },
      "source": [
        "import os\n",
        "import pandas as pd"
      ],
      "execution_count": 5,
      "outputs": []
    },
    {
      "cell_type": "code",
      "metadata": {
        "id": "i7JBQMhKe5gb"
      },
      "source": [
        "# !unzip capstone_user_identification.zip"
      ],
      "execution_count": null,
      "outputs": []
    },
    {
      "cell_type": "code",
      "metadata": {
        "id": "90EE_8wzimVb"
      },
      "source": [
        "PATH_TO_DATA = 'capstone_user_identification'"
      ],
      "execution_count": 2,
      "outputs": []
    },
    {
      "cell_type": "markdown",
      "metadata": {
        "id": "jGLrbrNMjiRc"
      },
      "source": [
        "Посмотрим на данные.\n",
        "\n",
        "Пользователь 0001 из каталога с 3 пользователями:"
      ]
    },
    {
      "cell_type": "code",
      "metadata": {
        "colab": {
          "base_uri": "https://localhost:8080/",
          "height": 483
        },
        "id": "il3ZCc2SjLoF",
        "outputId": "ef1c0537-8c43-4008-b443-ca0db6008624"
      },
      "source": [
        "pd.read_csv(os.path.join(PATH_TO_DATA, '3users/user0001.csv'))"
      ],
      "execution_count": 7,
      "outputs": [
        {
          "output_type": "execute_result",
          "data": {
            "text/html": [
              "<div>\n",
              "<style scoped>\n",
              "    .dataframe tbody tr th:only-of-type {\n",
              "        vertical-align: middle;\n",
              "    }\n",
              "\n",
              "    .dataframe tbody tr th {\n",
              "        vertical-align: top;\n",
              "    }\n",
              "\n",
              "    .dataframe thead th {\n",
              "        text-align: right;\n",
              "    }\n",
              "</style>\n",
              "<table border=\"1\" class=\"dataframe\">\n",
              "  <thead>\n",
              "    <tr style=\"text-align: right;\">\n",
              "      <th></th>\n",
              "      <th>timestamp</th>\n",
              "      <th>site</th>\n",
              "    </tr>\n",
              "  </thead>\n",
              "  <tbody>\n",
              "    <tr>\n",
              "      <th>0</th>\n",
              "      <td>2013-11-15 09:28:17</td>\n",
              "      <td>vk.com</td>\n",
              "    </tr>\n",
              "    <tr>\n",
              "      <th>1</th>\n",
              "      <td>2013-11-15 09:33:04</td>\n",
              "      <td>oracle.com</td>\n",
              "    </tr>\n",
              "    <tr>\n",
              "      <th>2</th>\n",
              "      <td>2013-11-15 09:52:48</td>\n",
              "      <td>oracle.com</td>\n",
              "    </tr>\n",
              "    <tr>\n",
              "      <th>3</th>\n",
              "      <td>2013-11-15 11:37:26</td>\n",
              "      <td>geo.mozilla.org</td>\n",
              "    </tr>\n",
              "    <tr>\n",
              "      <th>4</th>\n",
              "      <td>2013-11-15 11:40:32</td>\n",
              "      <td>oracle.com</td>\n",
              "    </tr>\n",
              "    <tr>\n",
              "      <th>5</th>\n",
              "      <td>2013-11-15 11:40:34</td>\n",
              "      <td>google.com</td>\n",
              "    </tr>\n",
              "    <tr>\n",
              "      <th>6</th>\n",
              "      <td>2013-11-15 11:40:35</td>\n",
              "      <td>accounts.google.com</td>\n",
              "    </tr>\n",
              "    <tr>\n",
              "      <th>7</th>\n",
              "      <td>2013-11-15 11:40:37</td>\n",
              "      <td>mail.google.com</td>\n",
              "    </tr>\n",
              "    <tr>\n",
              "      <th>8</th>\n",
              "      <td>2013-11-15 11:40:40</td>\n",
              "      <td>apis.google.com</td>\n",
              "    </tr>\n",
              "    <tr>\n",
              "      <th>9</th>\n",
              "      <td>2013-11-15 11:41:35</td>\n",
              "      <td>plus.google.com</td>\n",
              "    </tr>\n",
              "    <tr>\n",
              "      <th>10</th>\n",
              "      <td>2013-11-15 12:40:35</td>\n",
              "      <td>vk.com</td>\n",
              "    </tr>\n",
              "    <tr>\n",
              "      <th>11</th>\n",
              "      <td>2013-11-15 12:40:37</td>\n",
              "      <td>google.com</td>\n",
              "    </tr>\n",
              "    <tr>\n",
              "      <th>12</th>\n",
              "      <td>2013-11-15 12:40:40</td>\n",
              "      <td>google.com</td>\n",
              "    </tr>\n",
              "    <tr>\n",
              "      <th>13</th>\n",
              "      <td>2013-11-15 12:41:35</td>\n",
              "      <td>google.com</td>\n",
              "    </tr>\n",
              "  </tbody>\n",
              "</table>\n",
              "</div>"
            ],
            "text/plain": [
              "              timestamp                 site\n",
              "0   2013-11-15 09:28:17               vk.com\n",
              "1   2013-11-15 09:33:04           oracle.com\n",
              "2   2013-11-15 09:52:48           oracle.com\n",
              "3   2013-11-15 11:37:26      geo.mozilla.org\n",
              "4   2013-11-15 11:40:32           oracle.com\n",
              "5   2013-11-15 11:40:34           google.com\n",
              "6   2013-11-15 11:40:35  accounts.google.com\n",
              "7   2013-11-15 11:40:37      mail.google.com\n",
              "8   2013-11-15 11:40:40      apis.google.com\n",
              "9   2013-11-15 11:41:35      plus.google.com\n",
              "10  2013-11-15 12:40:35               vk.com\n",
              "11  2013-11-15 12:40:37           google.com\n",
              "12  2013-11-15 12:40:40           google.com\n",
              "13  2013-11-15 12:41:35           google.com"
            ]
          },
          "metadata": {},
          "execution_count": 7
        }
      ]
    },
    {
      "cell_type": "markdown",
      "metadata": {
        "id": "c5rxJRRyi_MW"
      },
      "source": [
        "Пользователь 0031 из каталога с 10 пользователями:"
      ]
    },
    {
      "cell_type": "code",
      "metadata": {
        "colab": {
          "base_uri": "https://localhost:8080/",
          "height": 419
        },
        "id": "VtIs7a-0iwE4",
        "outputId": "f490826b-83c9-4c2d-9981-8d5e0ecb9056"
      },
      "source": [
        "pd.read_csv(os.path.join(PATH_TO_DATA, '10users/user0031.csv'))"
      ],
      "execution_count": 6,
      "outputs": [
        {
          "output_type": "execute_result",
          "data": {
            "text/html": [
              "<div>\n",
              "<style scoped>\n",
              "    .dataframe tbody tr th:only-of-type {\n",
              "        vertical-align: middle;\n",
              "    }\n",
              "\n",
              "    .dataframe tbody tr th {\n",
              "        vertical-align: top;\n",
              "    }\n",
              "\n",
              "    .dataframe thead th {\n",
              "        text-align: right;\n",
              "    }\n",
              "</style>\n",
              "<table border=\"1\" class=\"dataframe\">\n",
              "  <thead>\n",
              "    <tr style=\"text-align: right;\">\n",
              "      <th></th>\n",
              "      <th>timestamp</th>\n",
              "      <th>site</th>\n",
              "    </tr>\n",
              "  </thead>\n",
              "  <tbody>\n",
              "    <tr>\n",
              "      <th>0</th>\n",
              "      <td>2013-11-15 08:12:07</td>\n",
              "      <td>fpdownload2.macromedia.com</td>\n",
              "    </tr>\n",
              "    <tr>\n",
              "      <th>1</th>\n",
              "      <td>2013-11-15 08:12:17</td>\n",
              "      <td>laposte.net</td>\n",
              "    </tr>\n",
              "    <tr>\n",
              "      <th>2</th>\n",
              "      <td>2013-11-15 08:12:17</td>\n",
              "      <td>www.laposte.net</td>\n",
              "    </tr>\n",
              "    <tr>\n",
              "      <th>3</th>\n",
              "      <td>2013-11-15 08:12:17</td>\n",
              "      <td>www.google.com</td>\n",
              "    </tr>\n",
              "    <tr>\n",
              "      <th>4</th>\n",
              "      <td>2013-11-15 08:12:18</td>\n",
              "      <td>www.laposte.net</td>\n",
              "    </tr>\n",
              "    <tr>\n",
              "      <th>...</th>\n",
              "      <td>...</td>\n",
              "      <td>...</td>\n",
              "    </tr>\n",
              "    <tr>\n",
              "      <th>7595</th>\n",
              "      <td>2014-03-28 13:09:06</td>\n",
              "      <td>webmail.laposte.net</td>\n",
              "    </tr>\n",
              "    <tr>\n",
              "      <th>7596</th>\n",
              "      <td>2014-03-28 13:09:07</td>\n",
              "      <td>av.mediapostcommunication.net</td>\n",
              "    </tr>\n",
              "    <tr>\n",
              "      <th>7597</th>\n",
              "      <td>2014-03-28 13:09:07</td>\n",
              "      <td>www.google.com</td>\n",
              "    </tr>\n",
              "    <tr>\n",
              "      <th>7598</th>\n",
              "      <td>2014-03-28 13:09:07</td>\n",
              "      <td>webmail.laposte.net</td>\n",
              "    </tr>\n",
              "    <tr>\n",
              "      <th>7599</th>\n",
              "      <td>2014-03-28 13:09:07</td>\n",
              "      <td>ws.mediapostcommunication.net</td>\n",
              "    </tr>\n",
              "  </tbody>\n",
              "</table>\n",
              "<p>7600 rows × 2 columns</p>\n",
              "</div>"
            ],
            "text/plain": [
              "                timestamp                           site\n",
              "0     2013-11-15 08:12:07     fpdownload2.macromedia.com\n",
              "1     2013-11-15 08:12:17                    laposte.net\n",
              "2     2013-11-15 08:12:17                www.laposte.net\n",
              "3     2013-11-15 08:12:17                 www.google.com\n",
              "4     2013-11-15 08:12:18                www.laposte.net\n",
              "...                   ...                            ...\n",
              "7595  2014-03-28 13:09:06            webmail.laposte.net\n",
              "7596  2014-03-28 13:09:07  av.mediapostcommunication.net\n",
              "7597  2014-03-28 13:09:07                 www.google.com\n",
              "7598  2014-03-28 13:09:07            webmail.laposte.net\n",
              "7599  2014-03-28 13:09:07  ws.mediapostcommunication.net\n",
              "\n",
              "[7600 rows x 2 columns]"
            ]
          },
          "metadata": {},
          "execution_count": 6
        }
      ]
    },
    {
      "cell_type": "markdown",
      "metadata": {
        "id": "W7W126wpj2bs"
      },
      "source": [
        "Пользователь 0006 из каталога с 150 пользователями:"
      ]
    },
    {
      "cell_type": "code",
      "metadata": {
        "colab": {
          "base_uri": "https://localhost:8080/",
          "height": 419
        },
        "id": "fKX7K5n9i703",
        "outputId": "9dd1d1cf-1013-478e-9dfc-c974820e60d3"
      },
      "source": [
        "pd.read_csv(os.path.join(PATH_TO_DATA, '150users/user0006.csv'))"
      ],
      "execution_count": 9,
      "outputs": [
        {
          "output_type": "execute_result",
          "data": {
            "text/html": [
              "<div>\n",
              "<style scoped>\n",
              "    .dataframe tbody tr th:only-of-type {\n",
              "        vertical-align: middle;\n",
              "    }\n",
              "\n",
              "    .dataframe tbody tr th {\n",
              "        vertical-align: top;\n",
              "    }\n",
              "\n",
              "    .dataframe thead th {\n",
              "        text-align: right;\n",
              "    }\n",
              "</style>\n",
              "<table border=\"1\" class=\"dataframe\">\n",
              "  <thead>\n",
              "    <tr style=\"text-align: right;\">\n",
              "      <th></th>\n",
              "      <th>timestamp</th>\n",
              "      <th>site</th>\n",
              "    </tr>\n",
              "  </thead>\n",
              "  <tbody>\n",
              "    <tr>\n",
              "      <th>0</th>\n",
              "      <td>2013-11-15 08:01:09</td>\n",
              "      <td>www.google.fr</td>\n",
              "    </tr>\n",
              "    <tr>\n",
              "      <th>1</th>\n",
              "      <td>2013-11-15 08:01:10</td>\n",
              "      <td>www.google.fr</td>\n",
              "    </tr>\n",
              "    <tr>\n",
              "      <th>2</th>\n",
              "      <td>2013-11-15 08:01:11</td>\n",
              "      <td>apis.google.com</td>\n",
              "    </tr>\n",
              "    <tr>\n",
              "      <th>3</th>\n",
              "      <td>2013-11-15 08:01:12</td>\n",
              "      <td>www.google.com</td>\n",
              "    </tr>\n",
              "    <tr>\n",
              "      <th>4</th>\n",
              "      <td>2013-11-15 08:01:16</td>\n",
              "      <td>www.google.fr</td>\n",
              "    </tr>\n",
              "    <tr>\n",
              "      <th>...</th>\n",
              "      <td>...</td>\n",
              "      <td>...</td>\n",
              "    </tr>\n",
              "    <tr>\n",
              "      <th>21360</th>\n",
              "      <td>2014-05-28 19:10:00</td>\n",
              "      <td>www.facebook.com</td>\n",
              "    </tr>\n",
              "    <tr>\n",
              "      <th>21361</th>\n",
              "      <td>2014-05-28 19:10:01</td>\n",
              "      <td>i3.mangareader.net</td>\n",
              "    </tr>\n",
              "    <tr>\n",
              "      <th>21362</th>\n",
              "      <td>2014-05-28 19:10:14</td>\n",
              "      <td>www.mangareader.net</td>\n",
              "    </tr>\n",
              "    <tr>\n",
              "      <th>21363</th>\n",
              "      <td>2014-05-28 19:10:15</td>\n",
              "      <td>www.facebook.com</td>\n",
              "    </tr>\n",
              "    <tr>\n",
              "      <th>21364</th>\n",
              "      <td>2014-05-28 19:10:15</td>\n",
              "      <td>www.mangareader.net</td>\n",
              "    </tr>\n",
              "  </tbody>\n",
              "</table>\n",
              "<p>21365 rows × 2 columns</p>\n",
              "</div>"
            ],
            "text/plain": [
              "                 timestamp                 site\n",
              "0      2013-11-15 08:01:09        www.google.fr\n",
              "1      2013-11-15 08:01:10        www.google.fr\n",
              "2      2013-11-15 08:01:11      apis.google.com\n",
              "3      2013-11-15 08:01:12       www.google.com\n",
              "4      2013-11-15 08:01:16        www.google.fr\n",
              "...                    ...                  ...\n",
              "21360  2014-05-28 19:10:00     www.facebook.com\n",
              "21361  2014-05-28 19:10:01   i3.mangareader.net\n",
              "21362  2014-05-28 19:10:14  www.mangareader.net\n",
              "21363  2014-05-28 19:10:15     www.facebook.com\n",
              "21364  2014-05-28 19:10:15  www.mangareader.net\n",
              "\n",
              "[21365 rows x 2 columns]"
            ]
          },
          "metadata": {},
          "execution_count": 9
        }
      ]
    },
    {
      "cell_type": "markdown",
      "metadata": {
        "id": "XsAma-JIlMcY"
      },
      "source": [
        "## Постановка задачи"
      ]
    },
    {
      "cell_type": "markdown",
      "metadata": {
        "id": "XjTYx14nlPgx"
      },
      "source": [
        "Для достижения целей проекта поставим ML-задачу: \n",
        "- классификация\n",
        "- объект: сессия\n",
        "- целевой признак: id пользователя\n",
        "\n",
        "Сессия - последовательность n-посещенных сайтов. Размер сессий определяется:\n",
        "- количеством сайтом\n",
        "- временем от первого сайта в сессии\n",
        "Таким образом требуется преобразовать входные данные в вид:\n",
        "\n",
        "|site1|timestamp1|site2|timestamp2|...|site_n|timestamp_n|user_id|\n",
        "|---|---|---|---|---|---|---|---|\n",
        "\n",
        "То есть для каждого пользователя его история посещения разбивается на окна размера $n$ с шагом $m$ ($n$ и $m$ - параметры)\n",
        "\n",
        "Возможны варианты классификации:\n",
        "- многоклассовая (целевой признак user_id)\n",
        "- бинарная классификация (один из пользователей объявляется искомым; для этого пользователя целевой признак принимает значение True, для остальных - False)"
      ]
    },
    {
      "cell_type": "code",
      "metadata": {
        "id": "CP_RLfr3jt54"
      },
      "source": [
        ""
      ],
      "execution_count": null,
      "outputs": []
    }
  ]
}