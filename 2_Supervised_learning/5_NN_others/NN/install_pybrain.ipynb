{
 "cells": [
  {
   "cell_type": "code",
   "execution_count": 4,
   "metadata": {},
   "outputs": [
    {
     "name": "stdout",
     "output_type": "stream",
     "text": [
      "Collecting pybrain\n",
      "  Downloading PyBrain-0.3.tar.gz (262 kB)\n",
      "Building wheels for collected packages: pybrain\n",
      "  Building wheel for pybrain (setup.py): started\n",
      "  Building wheel for pybrain (setup.py): finished with status 'done'\n",
      "  Created wheel for pybrain: filename=PyBrain-0.3-py3-none-any.whl size=399047 sha256=04cad996cb40e14edd13578e7418c0c1a52d6a8df0e6b2744fbc17c0bd6e5713\n",
      "  Stored in directory: c:\\users\\vlad\\appdata\\local\\pip\\cache\\wheels\\49\\09\\bb\\c136a2ac8494904afe08d65dc3f2993bd3ec32e97d6a860d7e\n",
      "Successfully built pybrain\n",
      "Installing collected packages: pybrain\n",
      "Successfully installed pybrain-0.3\n"
     ]
    }
   ],
   "source": [
    "!pip install pybrain"
   ]
  },
  {
   "cell_type": "code",
   "execution_count": 5,
   "metadata": {},
   "outputs": [
    {
     "name": "stdout",
     "output_type": "stream",
     "text": [
      "conda 4.8.3\n"
     ]
    }
   ],
   "source": [
    "!conda -V"
   ]
  },
  {
   "cell_type": "code",
   "execution_count": 6,
   "metadata": {},
   "outputs": [
    {
     "name": "stdout",
     "output_type": "stream",
     "text": [
      "Collecting https://github.com/pybrain/pybrain/archive/0.3.3.zip\n",
      "  Downloading https://github.com/pybrain/pybrain/archive/0.3.3.zip\n",
      "Requirement already satisfied: scipy in c:\\users\\vlad\\anaconda3\\lib\\site-packages (from PyBrain==0.3.1) (1.4.1)\n",
      "Requirement already satisfied: numpy>=1.13.3 in c:\\users\\vlad\\anaconda3\\lib\\site-packages (from scipy->PyBrain==0.3.1) (1.18.1)\n",
      "Building wheels for collected packages: PyBrain\n",
      "  Building wheel for PyBrain (setup.py): started\n",
      "  Building wheel for PyBrain (setup.py): finished with status 'done'\n",
      "  Created wheel for PyBrain: filename=PyBrain-0.3.1-py3-none-any.whl size=468236 sha256=f9f072cc4fb9b16e51473bcf51443f380c81037b318dfc46dc7476ce9c8635b8\n",
      "  Stored in directory: C:\\Users\\Vlad\\AppData\\Local\\Temp\\pip-ephem-wheel-cache-vf954loi\\wheels\\c7\\56\\4e\\56d3dbbc48a90306f3ac2cc356de1d6d327090889fc0b29c6f\n",
      "Successfully built PyBrain\n",
      "Installing collected packages: PyBrain\n",
      "  Attempting uninstall: PyBrain\n",
      "    Found existing installation: PyBrain 0.3\n",
      "    Uninstalling PyBrain-0.3:\n",
      "      Successfully uninstalled PyBrain-0.3\n",
      "Successfully installed PyBrain-0.3.1\n"
     ]
    }
   ],
   "source": [
    "!pip install https://github.com/pybrain/pybrain/archive/0.3.3.zip"
   ]
  }
 ],
 "metadata": {
  "kernelspec": {
   "display_name": "Python 3",
   "language": "python",
   "name": "python3"
  },
  "language_info": {
   "codemirror_mode": {
    "name": "ipython",
    "version": 3
   },
   "file_extension": ".py",
   "mimetype": "text/x-python",
   "name": "python",
   "nbconvert_exporter": "python",
   "pygments_lexer": "ipython3",
   "version": "3.7.9"
  }
 },
 "nbformat": 4,
 "nbformat_minor": 4
}
