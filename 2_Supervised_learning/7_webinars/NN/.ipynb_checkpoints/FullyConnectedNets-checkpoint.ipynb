{
 "cells": [
  {
   "cell_type": "markdown",
   "metadata": {},
   "source": [
    "# Fully-Connected Neural Nets\n",
    "In the previous homework you implemented a fully-connected two-layer neural network on CIFAR-10. The implementation was simple but not very modular since the loss and gradient were computed in a single monolithic function. This is manageable for a simple two-layer network, but would become impractical as we move to bigger models. Ideally we want to build networks using a more modular design so that we can implement different layer types in isolation and then snap them together into models with different architectures.\n",
    "\n",
    "In this exercise we will implement fully-connected networks using a more modular approach. For each layer we will implement a `forward` and a `backward` function. The `forward` function will receive inputs, weights, and other parameters and will return both an output and a `cache` object storing data needed for the backward pass, like this:\n",
    "\n",
    "```python\n",
    "def layer_forward(x, w):\n",
    "  \"\"\" Receive inputs x and weights w \"\"\"\n",
    "  # Do some computations ...\n",
    "  z = # ... some intermediate value\n",
    "  # Do some more computations ...\n",
    "  out = # the output\n",
    "   \n",
    "  cache = (x, w, z, out) # Values we need to compute gradients\n",
    "   \n",
    "  return out, cache\n",
    "```\n",
    "\n",
    "The backward pass will receive upstream derivatives and the `cache` object, and will return gradients with respect to the inputs and weights, like this:\n",
    "\n",
    "```python\n",
    "def layer_backward(dout, cache):\n",
    "  \"\"\"\n",
    "  Receive dout (derivative of loss with respect to outputs) and cache,\n",
    "  and compute derivative with respect to inputs.\n",
    "  \"\"\"\n",
    "  # Unpack cache values\n",
    "  x, w, z, out = cache\n",
    "  \n",
    "  # Use values in cache to compute derivatives\n",
    "  dx = # Derivative of loss with respect to x\n",
    "  dw = # Derivative of loss with respect to w\n",
    "  \n",
    "  return dx, dw\n",
    "```\n",
    "\n",
    "After implementing a bunch of layers this way, we will be able to easily combine them to build classifiers with different architectures.\n",
    "\n",
    "In addition to implementing fully-connected networks of arbitrary depth, we will also explore different update rules for optimization, and introduce Dropout as a regularizer and Batch/Layer Normalization as a tool to more efficiently optimize deep networks.\n",
    "  "
   ]
  },
  {
   "cell_type": "code",
   "execution_count": 1,
   "metadata": {},
   "outputs": [
    {
     "name": "stdout",
     "output_type": "stream",
     "text": [
      "run the following from the cs231n directory and try again:\n",
      "python setup.py build_ext --inplace\n",
      "You may also need to restart your iPython kernel\n"
     ]
    }
   ],
   "source": [
    "# As usual, a bit of setup\n",
    "from __future__ import print_function\n",
    "import time\n",
    "import numpy as np\n",
    "import matplotlib.pyplot as plt\n",
    "from cs231n.classifiers.fc_net import *\n",
    "from cs231n.data_utils import get_CIFAR10_data\n",
    "from cs231n.gradient_check import eval_numerical_gradient, eval_numerical_gradient_array\n",
    "from cs231n.solver import Solver\n",
    "\n",
    "%matplotlib inline\n",
    "plt.rcParams['figure.figsize'] = (10.0, 8.0) # set default size of plots\n",
    "plt.rcParams['image.interpolation'] = 'nearest'\n",
    "plt.rcParams['image.cmap'] = 'gray'\n",
    "\n",
    "# for auto-reloading external modules\n",
    "# see http://stackoverflow.com/questions/1907993/autoreload-of-modules-in-ipython\n",
    "%load_ext autoreload\n",
    "%autoreload 2\n",
    "\n",
    "def rel_error(x, y):\n",
    "  \"\"\" returns relative error \"\"\"\n",
    "  return np.max(np.abs(x - y) / (np.maximum(1e-8, np.abs(x) + np.abs(y))))"
   ]
  },
  {
   "cell_type": "code",
   "execution_count": 2,
   "metadata": {},
   "outputs": [
    {
     "name": "stdout",
     "output_type": "stream",
     "text": [
      "('X_train: ', (49000, 3, 32, 32))\n",
      "('y_train: ', (49000,))\n",
      "('X_val: ', (1000, 3, 32, 32))\n",
      "('y_val: ', (1000,))\n",
      "('X_test: ', (1000, 3, 32, 32))\n",
      "('y_test: ', (1000,))\n"
     ]
    }
   ],
   "source": [
    "# Load the (preprocessed) CIFAR10 data.\n",
    "\n",
    "data = get_CIFAR10_data()\n",
    "for k, v in list(data.items()):\n",
    "  print(('%s: ' % k, v.shape))"
   ]
  },
  {
   "cell_type": "markdown",
   "metadata": {},
   "source": [
    "# Affine layer: foward\n",
    "Open the file `cs231n/layers.py` and implement the `affine_forward` function.\n",
    "\n",
    "Once you are done you can test your implementaion by running the following:"
   ]
  },
  {
   "cell_type": "code",
   "execution_count": 3,
   "metadata": {},
   "outputs": [
    {
     "name": "stdout",
     "output_type": "stream",
     "text": [
      "[[1.49834967 1.70660132 1.91485297]\n",
      " [3.25553199 3.5141327  3.77273342]]\n",
      "Testing affine_forward function:\n",
      "difference:  9.769847728806635e-10\n"
     ]
    }
   ],
   "source": [
    "# Test the affine_forward function\n",
    "\n",
    "num_inputs = 2\n",
    "input_shape = (4, 5, 6)\n",
    "output_dim = 3\n",
    "\n",
    "input_size = num_inputs * np.prod(input_shape)\n",
    "weight_size = output_dim * np.prod(input_shape)\n",
    "\n",
    "x = np.linspace(-0.1, 0.5, num=input_size).reshape(num_inputs, *input_shape)\n",
    "w = np.linspace(-0.2, 0.3, num=weight_size).reshape(np.prod(input_shape), output_dim)\n",
    "b = np.linspace(-0.3, 0.1, num=output_dim)\n",
    "\n",
    "out, _ = affine_forward(x, w, b)\n",
    "print(out)\n",
    "correct_out = np.array([[ 1.49834967,  1.70660132,  1.91485297],\n",
    "                        [ 3.25553199,  3.5141327,   3.77273342]])\n",
    "\n",
    "# Compare your output with ours. The error should be around e-9 or less.\n",
    "print('Testing affine_forward function:')\n",
    "print('difference: ', rel_error(out, correct_out))"
   ]
  },
  {
   "cell_type": "markdown",
   "metadata": {},
   "source": [
    "# Affine layer: backward\n",
    "Now implement the `affine_backward` function and test your implementation using numeric gradient checking."
   ]
  },
  {
   "cell_type": "code",
   "execution_count": 4,
   "metadata": {},
   "outputs": [
    {
     "name": "stdout",
     "output_type": "stream",
     "text": [
      "Testing affine_backward function:\n",
      "dx error:  5.399100368651805e-11\n",
      "dw error:  9.904211865398145e-11\n",
      "db error:  2.4122867568119087e-11\n"
     ]
    }
   ],
   "source": [
    "# Test the affine_backward function\n",
    "np.random.seed(231)\n",
    "x = np.random.randn(10, 2, 3)\n",
    "w = np.random.randn(6, 5)\n",
    "b = np.random.randn(5)\n",
    "dout = np.random.randn(10, 5)\n",
    "\n",
    "dx_num = eval_numerical_gradient_array(lambda x: affine_forward(x, w, b)[0], x, dout)\n",
    "dw_num = eval_numerical_gradient_array(lambda w: affine_forward(x, w, b)[0], w, dout)\n",
    "db_num = eval_numerical_gradient_array(lambda b: affine_forward(x, w, b)[0], b, dout)\n",
    "\n",
    "_, cache = affine_forward(x, w, b)\n",
    "dx, dw, db = affine_backward(dout, cache)\n",
    "# The error should be around e-10 or less\n",
    "print('Testing affine_backward function:')\n",
    "print('dx error: ', rel_error(dx_num, dx))\n",
    "print('dw error: ', rel_error(dw_num, dw))\n",
    "print('db error: ', rel_error(db_num, db))"
   ]
  },
  {
   "cell_type": "markdown",
   "metadata": {},
   "source": [
    "# ReLU activation: forward\n",
    "Implement the forward pass for the ReLU activation function in the `relu_forward` function and test your implementation using the following:"
   ]
  },
  {
   "cell_type": "code",
   "execution_count": 5,
   "metadata": {},
   "outputs": [
    {
     "name": "stdout",
     "output_type": "stream",
     "text": [
      "Testing relu_forward function:\n",
      "difference:  4.999999798022158e-08\n"
     ]
    }
   ],
   "source": [
    "# Test the relu_forward function\n",
    "\n",
    "x = np.linspace(-0.5, 0.5, num=12).reshape(3, 4)\n",
    "\n",
    "out, _ = relu_forward(x)\n",
    "correct_out = np.array([[ 0.,          0.,          0.,          0.,        ],\n",
    "                        [ 0.,          0.,          0.04545455,  0.13636364,],\n",
    "                        [ 0.22727273,  0.31818182,  0.40909091,  0.5,       ]])\n",
    "\n",
    "# Compare your output with ours. The error should be on the order of e-8\n",
    "print('Testing relu_forward function:')\n",
    "print('difference: ', rel_error(out, correct_out))"
   ]
  },
  {
   "cell_type": "markdown",
   "metadata": {},
   "source": [
    "# ReLU activation: backward\n",
    "Now implement the backward pass for the ReLU activation function in the `relu_backward` function and test your implementation using numeric gradient checking:"
   ]
  },
  {
   "cell_type": "code",
   "execution_count": 6,
   "metadata": {},
   "outputs": [
    {
     "name": "stdout",
     "output_type": "stream",
     "text": [
      "Testing relu_backward function:\n",
      "dx error:  3.2756349136310288e-12\n"
     ]
    }
   ],
   "source": [
    "np.random.seed(231)\n",
    "x = np.random.randn(10, 10)\n",
    "dout = np.random.randn(*x.shape)\n",
    "\n",
    "dx_num = eval_numerical_gradient_array(lambda x: relu_forward(x)[0], x, dout)\n",
    "\n",
    "_, cache = relu_forward(x)\n",
    "dx = relu_backward(dout, cache)\n",
    "\n",
    "# The error should be on the order of e-12\n",
    "print('Testing relu_backward function:')\n",
    "print('dx error: ', rel_error(dx_num, dx))"
   ]
  },
  {
   "cell_type": "markdown",
   "metadata": {},
   "source": [
    "## Inline Question 1: \n",
    "\n",
    "We've only asked you to implement ReLU, but there are a number of different activation functions that one could use in neural networks, each with its pros and cons. In particular, an issue commonly seen with activation functions is getting zero (or close to zero) gradient flow during backpropagation. Which of the following activation functions have this problem? If you consider these functions in the one dimensional case, what types of input would lead to this behaviour?\n",
    "1. **Sigmoid**\n",
    "2. ReLU\n",
    "3. Leaky ReLU"
   ]
  },
  {
   "cell_type": "markdown",
   "metadata": {},
   "source": [
    "## Answer:\n",
    "SIGMOID\n"
   ]
  },
  {
   "cell_type": "markdown",
   "metadata": {},
   "source": [
    "# \"Sandwich\" layers\n",
    "There are some common patterns of layers that are frequently used in neural nets. For example, affine layers are frequently followed by a ReLU nonlinearity. To make these common patterns easy, we define several convenience layers in the file `cs231n/layer_utils.py`.\n",
    "\n",
    "For now take a look at the `affine_relu_forward` and `affine_relu_backward` functions, and run the following to numerically gradient check the backward pass:"
   ]
  },
  {
   "cell_type": "code",
   "execution_count": 7,
   "metadata": {},
   "outputs": [
    {
     "name": "stdout",
     "output_type": "stream",
     "text": [
      "Testing affine_relu_forward and affine_relu_backward:\n",
      "dx error:  6.750562121603446e-11\n",
      "dw error:  8.162015570444288e-11\n",
      "db error:  7.826724021458994e-12\n"
     ]
    }
   ],
   "source": [
    "from cs231n.layer_utils import affine_relu_forward, affine_relu_backward\n",
    "np.random.seed(231)\n",
    "x = np.random.randn(2, 3, 4)\n",
    "w = np.random.randn(12, 10)\n",
    "b = np.random.randn(10)\n",
    "dout = np.random.randn(2, 10)\n",
    "\n",
    "out, cache = affine_relu_forward(x, w, b)\n",
    "dx, dw, db = affine_relu_backward(dout, cache)\n",
    "\n",
    "dx_num = eval_numerical_gradient_array(lambda x: affine_relu_forward(x, w, b)[0], x, dout)\n",
    "dw_num = eval_numerical_gradient_array(lambda w: affine_relu_forward(x, w, b)[0], w, dout)\n",
    "db_num = eval_numerical_gradient_array(lambda b: affine_relu_forward(x, w, b)[0], b, dout)\n",
    "\n",
    "# Relative error should be around e-10 or less\n",
    "print('Testing affine_relu_forward and affine_relu_backward:')\n",
    "print('dx error: ', rel_error(dx_num, dx))\n",
    "print('dw error: ', rel_error(dw_num, dw))\n",
    "print('db error: ', rel_error(db_num, db))"
   ]
  },
  {
   "cell_type": "markdown",
   "metadata": {},
   "source": [
    "# Loss layers: Softmax and SVM\n",
    "You implemented these loss functions in the last assignment, so we'll give them to you for free here. You should still make sure you understand how they work by looking at the implementations in `cs231n/layers.py`.\n",
    "\n",
    "You can make sure that the implementations are correct by running the following:"
   ]
  },
  {
   "cell_type": "code",
   "execution_count": 8,
   "metadata": {},
   "outputs": [
    {
     "name": "stdout",
     "output_type": "stream",
     "text": [
      "Testing svm_loss:\n",
      "loss:  8.999602749096233\n",
      "dx error:  1.4021566006651672e-09\n",
      "\n",
      "Testing softmax_loss:\n",
      "loss:  2.302545844500738\n",
      "dx error:  9.384673161989355e-09\n"
     ]
    }
   ],
   "source": [
    "np.random.seed(231)\n",
    "num_classes, num_inputs = 10, 50\n",
    "x = 0.001 * np.random.randn(num_inputs, num_classes)\n",
    "y = np.random.randint(num_classes, size=num_inputs)\n",
    "\n",
    "dx_num = eval_numerical_gradient(lambda x: svm_loss(x, y)[0], x, verbose=False)\n",
    "loss, dx = svm_loss(x, y)\n",
    "\n",
    "# Test svm_loss function. Loss should be around 9 and dx error should be around the order of e-9\n",
    "print('Testing svm_loss:')\n",
    "print('loss: ', loss)\n",
    "print('dx error: ', rel_error(dx_num, dx))\n",
    "\n",
    "dx_num = eval_numerical_gradient(lambda x: softmax_loss(x, y)[0], x, verbose=False)\n",
    "loss, dx = softmax_loss(x, y)\n",
    "\n",
    "# Test softmax_loss function. Loss should be close to 2.3 and dx error should be around e-8\n",
    "print('\\nTesting softmax_loss:')\n",
    "print('loss: ', loss)\n",
    "print('dx error: ', rel_error(dx_num, dx))"
   ]
  },
  {
   "cell_type": "markdown",
   "metadata": {},
   "source": [
    "# Two-layer network\n",
    "In the previous assignment you implemented a two-layer neural network in a single monolithic class. Now that you have implemented modular versions of the necessary layers, you will reimplement the two layer network using these modular implementations.\n",
    "\n",
    "Open the file `cs231n/classifiers/fc_net.py` and complete the implementation of the `TwoLayerNet` class. This class will serve as a model for the other networks you will implement in this assignment, so read through it to make sure you understand the API. You can run the cell below to test your implementation."
   ]
  },
  {
   "cell_type": "code",
   "execution_count": 9,
   "metadata": {},
   "outputs": [
    {
     "name": "stdout",
     "output_type": "stream",
     "text": [
      "Testing initialization ... \n",
      "3.753534101646051e-05 0.0001\n",
      "Testing test-time forward pass ... \n",
      "Testing training loss (no regularization)\n",
      "Running numeric gradient check with reg =  0.0\n",
      "W1 relative error: 1.22e-08\n",
      "W2 relative error: 3.48e-10\n",
      "b1 relative error: 6.55e-09\n",
      "b2 relative error: 4.33e-10\n",
      "Running numeric gradient check with reg =  0.7\n",
      "W1 relative error: 8.18e-07\n",
      "W2 relative error: 7.98e-08\n",
      "b1 relative error: 1.09e-09\n",
      "b2 relative error: 7.76e-10\n"
     ]
    }
   ],
   "source": [
    "np.random.seed(231)\n",
    "N, D, H, C = 3, 5, 50, 7\n",
    "X = np.random.randn(N, D)\n",
    "y = np.random.randint(C, size=N)\n",
    "\n",
    "std = 1e-3\n",
    "model = TwoLayerNet(input_dim=D, hidden_dim=H, num_classes=C, weight_scale=std)\n",
    "\n",
    "print('Testing initialization ... ')\n",
    "W1_std = abs(model.params['W1'].std() - std)\n",
    "b1 = model.params['b1']\n",
    "W2_std = abs(model.params['W2'].std() - std)\n",
    "b2 = model.params['b2']\n",
    "print(W1_std,std / 10)\n",
    "assert W1_std < std / 10, 'First layer weights do not seem right'\n",
    "assert np.all(b1 == 0), 'First layer biases do not seem right'\n",
    "assert W2_std < std / 10, 'Second layer weights do not seem right'\n",
    "assert np.all(b2 == 0), 'Second layer biases do not seem right'\n",
    "\n",
    "print('Testing test-time forward pass ... ')\n",
    "model.params['W1'] = np.linspace(-0.7, 0.3, num=D*H).reshape(D, H)\n",
    "model.params['b1'] = np.linspace(-0.1, 0.9, num=H)\n",
    "model.params['W2'] = np.linspace(-0.3, 0.4, num=H*C).reshape(H, C)\n",
    "model.params['b2'] = np.linspace(-0.9, 0.1, num=C)\n",
    "X = np.linspace(-5.5, 4.5, num=N*D).reshape(D, N).T\n",
    "scores = model.loss(X)\n",
    "correct_scores = np.asarray(\n",
    "  [[11.53165108,  12.2917344,   13.05181771,  13.81190102,  14.57198434, 15.33206765,  16.09215096],\n",
    "   [12.05769098,  12.74614105,  13.43459113,  14.1230412,   14.81149128, 15.49994135,  16.18839143],\n",
    "   [12.58373087,  13.20054771,  13.81736455,  14.43418138,  15.05099822, 15.66781506,  16.2846319 ]])\n",
    "scores_diff = np.abs(scores - correct_scores).sum()\n",
    "assert scores_diff < 1e-6, 'Problem with test-time forward pass'\n",
    "\n",
    "print('Testing training loss (no regularization)')\n",
    "y = np.asarray([0, 5, 1])\n",
    "loss, grads = model.loss(X, y)\n",
    "correct_loss = 3.4702243556\n",
    "assert abs(loss - correct_loss) < 1e-10, 'Problem with training-time loss'\n",
    "\n",
    "model.reg = 1.0\n",
    "loss, grads = model.loss(X, y)\n",
    "correct_loss = 26.5948426952\n",
    "assert abs(loss - correct_loss) < 1e-10, 'Problem with regularization loss'\n",
    "\n",
    "# Errors should be around e-7 or less\n",
    "for reg in [0.0, 0.7]:\n",
    "    print('Running numeric gradient check with reg = ', reg)\n",
    "    model.reg = reg\n",
    "    loss, grads = model.loss(X, y)\n",
    "    for name in sorted(grads):\n",
    "        f = lambda _: model.loss(X, y)[0]\n",
    "        grad_num = eval_numerical_gradient(f, model.params[name], verbose=False)\n",
    "        print('%s relative error: %.2e' % (name, rel_error(grad_num, grads[name])))"
   ]
  },
  {
   "cell_type": "markdown",
   "metadata": {},
   "source": [
    "# Solver\n",
    "In the previous assignment, the logic for training models was coupled to the models themselves. Following a more modular design, for this assignment we have split the logic for training models into a separate class.\n",
    "\n",
    "Open the file `cs231n/solver.py` and read through it to familiarize yourself with the API. After doing so, use a `Solver` instance to train a `TwoLayerNet` that achieves at least `50%` accuracy on the validation set."
   ]
  },
  {
   "cell_type": "code",
   "execution_count": 10,
   "metadata": {},
   "outputs": [
    {
     "name": "stdout",
     "output_type": "stream",
     "text": [
      "(Iteration 1 / 4900) loss: 2.304060\n",
      "(Epoch 0 / 10) train acc: 0.116000; val_acc: 0.094000\n",
      "(Iteration 101 / 4900) loss: 1.829613\n",
      "(Iteration 201 / 4900) loss: 1.857390\n",
      "(Iteration 301 / 4900) loss: 1.744448\n",
      "(Iteration 401 / 4900) loss: 1.420187\n",
      "(Epoch 1 / 10) train acc: 0.407000; val_acc: 0.422000\n",
      "(Iteration 501 / 4900) loss: 1.549778\n",
      "(Iteration 601 / 4900) loss: 1.657010\n",
      "(Iteration 701 / 4900) loss: 1.704308\n",
      "(Iteration 801 / 4900) loss: 1.674941\n",
      "(Iteration 901 / 4900) loss: 1.425345\n",
      "(Epoch 2 / 10) train acc: 0.496000; val_acc: 0.471000\n",
      "(Iteration 1001 / 4900) loss: 1.381952\n",
      "(Iteration 1101 / 4900) loss: 1.285723\n",
      "(Iteration 1201 / 4900) loss: 1.584840\n",
      "(Iteration 1301 / 4900) loss: 1.395730\n",
      "(Iteration 1401 / 4900) loss: 1.164634\n",
      "(Epoch 3 / 10) train acc: 0.506000; val_acc: 0.481000\n",
      "(Iteration 1501 / 4900) loss: 1.313577\n",
      "(Iteration 1601 / 4900) loss: 1.261213\n",
      "(Iteration 1701 / 4900) loss: 1.272330\n",
      "(Iteration 1801 / 4900) loss: 1.381824\n",
      "(Iteration 1901 / 4900) loss: 1.306932\n",
      "(Epoch 4 / 10) train acc: 0.546000; val_acc: 0.498000\n",
      "(Iteration 2001 / 4900) loss: 1.320329\n",
      "(Iteration 2101 / 4900) loss: 1.314166\n",
      "(Iteration 2201 / 4900) loss: 1.271706\n",
      "(Iteration 2301 / 4900) loss: 1.283117\n",
      "(Iteration 2401 / 4900) loss: 1.317944\n",
      "(Epoch 5 / 10) train acc: 0.550000; val_acc: 0.491000\n",
      "(Iteration 2501 / 4900) loss: 1.384337\n",
      "(Iteration 2601 / 4900) loss: 1.226377\n",
      "(Iteration 2701 / 4900) loss: 1.053816\n",
      "(Iteration 2801 / 4900) loss: 1.214893\n",
      "(Iteration 2901 / 4900) loss: 1.240967\n",
      "(Epoch 6 / 10) train acc: 0.562000; val_acc: 0.522000\n",
      "(Iteration 3001 / 4900) loss: 1.237824\n",
      "(Iteration 3101 / 4900) loss: 1.319522\n",
      "(Iteration 3201 / 4900) loss: 1.270166\n",
      "(Iteration 3301 / 4900) loss: 1.313293\n",
      "(Iteration 3401 / 4900) loss: 1.356611\n",
      "(Epoch 7 / 10) train acc: 0.570000; val_acc: 0.521000\n",
      "(Iteration 3501 / 4900) loss: 1.228951\n",
      "(Iteration 3601 / 4900) loss: 1.042000\n",
      "(Iteration 3701 / 4900) loss: 1.142094\n",
      "(Iteration 3801 / 4900) loss: 1.073487\n",
      "(Iteration 3901 / 4900) loss: 1.110739\n",
      "(Epoch 8 / 10) train acc: 0.593000; val_acc: 0.521000\n",
      "(Iteration 4001 / 4900) loss: 1.207277\n",
      "(Iteration 4101 / 4900) loss: 1.288015\n",
      "(Iteration 4201 / 4900) loss: 1.179474\n",
      "(Iteration 4301 / 4900) loss: 1.054945\n",
      "(Iteration 4401 / 4900) loss: 1.300247\n",
      "(Epoch 9 / 10) train acc: 0.612000; val_acc: 0.530000\n",
      "(Iteration 4501 / 4900) loss: 0.984428\n",
      "(Iteration 4601 / 4900) loss: 1.363997\n",
      "(Iteration 4701 / 4900) loss: 0.994188\n",
      "(Iteration 4801 / 4900) loss: 1.008812\n",
      "(Epoch 10 / 10) train acc: 0.613000; val_acc: 0.531000\n"
     ]
    }
   ],
   "source": [
    "model = TwoLayerNet()\n",
    "solver = Solver(model, data,\n",
    "                    update_rule='sgd',\n",
    "                    optim_config={\n",
    "                      'learning_rate': 1e-3,\n",
    "                    },\n",
    "                    lr_decay=0.85,\n",
    "                    num_epochs=10, batch_size=100,\n",
    "                    print_every=100)\n",
    "##############################################################################\n",
    "# TODO: Use a Solver instance to train a TwoLayerNet that achieves at least  #\n",
    "# 50% accuracy on the validation set.                                        #\n",
    "##############################################################################\n",
    "solver.train()\n",
    "##############################################################################\n",
    "#                             END OF YOUR CODE                               #\n",
    "##############################################################################"
   ]
  },
  {
   "cell_type": "code",
   "execution_count": 11,
   "metadata": {},
   "outputs": [
    {
     "data": {
      "image/png": "[encoded data removed]",
      "text/plain": [
       "<Figure size 1080x864 with 2 Axes>"
      ]
     },
     "metadata": {
      "needs_background": "light"
     },
     "output_type": "display_data"
    }
   ],
   "source": [
    "# Run this cell to visualize training loss and train / val accuracy\n",
    "\n",
    "plt.subplot(2, 1, 1)\n",
    "plt.title('Training loss')\n",
    "plt.plot(solver.loss_history, 'o')\n",
    "plt.xlabel('Iteration')\n",
    "\n",
    "plt.subplot(2, 1, 2)\n",
    "plt.title('Accuracy')\n",
    "plt.plot(solver.train_acc_history, '-o', label='train')\n",
    "plt.plot(solver.val_acc_history, '-o', label='val')\n",
    "plt.plot([0.5] * len(solver.val_acc_history), 'k--')\n",
    "plt.xlabel('Epoch')\n",
    "plt.legend(loc='lower right')\n",
    "plt.gcf().set_size_inches(15, 12)\n",
    "plt.show()"
   ]
  },
  {
   "cell_type": "markdown",
   "metadata": {},
   "source": [
    "# Multilayer network\n",
    "Next you will implement a fully-connected network with an arbitrary number of hidden layers.\n",
    "\n",
    "Read through the `FullyConnectedNet` class in the file `cs231n/classifiers/fc_net.py`.\n",
    "\n",
    "Implement the initialization, the forward pass, and the backward pass. For the moment don't worry about implementing dropout or batch/layer normalization; we will add those features soon."
   ]
  },
  {
   "cell_type": "markdown",
   "metadata": {},
   "source": [
    "## Initial loss and gradient check"
   ]
  },
  {
   "cell_type": "markdown",
   "metadata": {},
   "source": [
    "As a sanity check, run the following to check the initial loss and to gradient check the network both with and without regularization. Do the initial losses seem reasonable?\n",
    "\n",
    "For gradient checking, you should expect to see errors around 1e-7 or less."
   ]
  },
  {
   "cell_type": "code",
   "execution_count": 19,
   "metadata": {},
   "outputs": [
    {
     "name": "stdout",
     "output_type": "stream",
     "text": [
      "Running check with reg =  0\n",
      "[]\n",
      "Initial loss:  2.3004790897684924\n",
      "W1 relative error: 1.48e-07\n",
      "W2 relative error: 2.21e-05\n",
      "W3 relative error: 3.53e-07\n",
      "b1 relative error: 5.38e-09\n",
      "b2 relative error: 2.09e-09\n",
      "b3 relative error: 5.80e-11\n",
      "Running check with reg =  3.14\n",
      "[]\n",
      "Initial loss:  7.052114776533016\n",
      "W1 relative error: 1.14e-08\n",
      "W2 relative error: 6.87e-08\n",
      "W3 relative error: 3.48e-08\n",
      "b1 relative error: 1.48e-08\n",
      "b2 relative error: 1.72e-09\n",
      "b3 relative error: 1.80e-10\n"
     ]
    }
   ],
   "source": [
    "np.random.seed(231)\n",
    "N, D, H1, H2, C = 2, 15, 20, 30, 10\n",
    "X = np.random.randn(N, D)\n",
    "y = np.random.randint(C, size=(N,))\n",
    "\n",
    "for reg in [0, 3.14]:\n",
    "  print('Running check with reg = ', reg)\n",
    "  model = FullyConnectedNet([H1, H2], input_dim=D, num_classes=C,\n",
    "                            reg=reg, weight_scale=5e-2, dtype=np.float64)\n",
    "\n",
    "  loss, grads = model.loss(X, y)\n",
    "  print('Initial loss: ', loss)\n",
    "  \n",
    "  # Most of the errors should be on the order of e-7 or smaller.   \n",
    "  # NOTE: It is fine however to see an error for W2 on the order of e-5\n",
    "  # for the check when reg = 0.0\n",
    "  for name in sorted(grads):\n",
    "    f = lambda _: model.loss(X, y)[0]\n",
    "    grad_num = eval_numerical_gradient(f, model.params[name], verbose=False, h=1e-5)\n",
    "    print('%s relative error: %.2e' % (name, rel_error(grad_num, grads[name])))"
   ]
  },
  {
   "cell_type": "markdown",
   "metadata": {},
   "source": [
    "As another sanity check, make sure you can overfit a small dataset of 50 images. First we will try a three-layer network with 100 units in each hidden layer. In the following cell, tweak the learning rate and initialization scale to overfit and achieve 100% training accuracy within 20 epochs."
   ]
  },
  {
   "cell_type": "code",
   "execution_count": 21,
   "metadata": {
    "scrolled": false
   },
   "outputs": [
    {
     "name": "stdout",
     "output_type": "stream",
     "text": [
      "[]\n",
      "(Iteration 1 / 40) loss: 2.375113\n",
      "(Epoch 0 / 20) train acc: 0.200000; val_acc: 0.084000\n",
      "(Epoch 1 / 20) train acc: 0.180000; val_acc: 0.085000\n",
      "(Epoch 2 / 20) train acc: 0.360000; val_acc: 0.142000\n",
      "(Epoch 3 / 20) train acc: 0.440000; val_acc: 0.113000\n",
      "(Epoch 4 / 20) train acc: 0.540000; val_acc: 0.152000\n",
      "(Epoch 5 / 20) train acc: 0.420000; val_acc: 0.124000\n",
      "(Iteration 11 / 40) loss: 1.580758\n",
      "(Epoch 6 / 20) train acc: 0.600000; val_acc: 0.159000\n",
      "(Epoch 7 / 20) train acc: 0.620000; val_acc: 0.155000\n",
      "(Epoch 8 / 20) train acc: 0.660000; val_acc: 0.161000\n",
      "(Epoch 9 / 20) train acc: 0.740000; val_acc: 0.178000\n",
      "(Epoch 10 / 20) train acc: 0.680000; val_acc: 0.175000\n",
      "(Iteration 21 / 40) loss: 1.022786\n",
      "(Epoch 11 / 20) train acc: 0.860000; val_acc: 0.165000\n",
      "(Epoch 12 / 20) train acc: 0.880000; val_acc: 0.182000\n",
      "(Epoch 13 / 20) train acc: 0.920000; val_acc: 0.171000\n",
      "(Epoch 14 / 20) train acc: 0.900000; val_acc: 0.160000\n",
      "(Epoch 15 / 20) train acc: 0.960000; val_acc: 0.167000\n",
      "(Iteration 31 / 40) loss: 0.490845\n",
      "(Epoch 16 / 20) train acc: 0.960000; val_acc: 0.176000\n",
      "(Epoch 17 / 20) train acc: 0.960000; val_acc: 0.173000\n",
      "(Epoch 18 / 20) train acc: 0.980000; val_acc: 0.185000\n",
      "(Epoch 19 / 20) train acc: 1.000000; val_acc: 0.164000\n",
      "(Epoch 20 / 20) train acc: 0.980000; val_acc: 0.162000\n"
     ]
    },
    {
     "data": {
      "image/png": "[encoded data removed]",
      "text/plain": [
       "<Figure size 432x288 with 1 Axes>"
      ]
     },
     "metadata": {
      "needs_background": "light"
     },
     "output_type": "display_data"
    }
   ],
   "source": [
    "# TODO: Use a three-layer Net to overfit 50 training examples by \n",
    "# tweaking just the learning rate and initialization scale.\n",
    "\n",
    "num_train = 50\n",
    "small_data = {\n",
    "  'X_train': data['X_train'][:num_train],\n",
    "  'y_train': data['y_train'][:num_train],\n",
    "  'X_val': data['X_val'],\n",
    "  'y_val': data['y_val'],\n",
    "}\n",
    "\n",
    "weight_scale = 0.01\n",
    "learning_rate = 1\n",
    "model = FullyConnectedNet([100, 100],\n",
    "              weight_scale=weight_scale, dtype=np.float64)\n",
    "solver = Solver(model, small_data,\n",
    "                print_every=10, num_epochs=20, batch_size=25,\n",
    "                update_rule='sgd',\n",
    "                optim_config={\n",
    "                  'learning_rate': learning_rate,\n",
    "                }\n",
    "         )\n",
    "solver.train()\n",
    "\n",
    "plt.plot(solver.loss_history, 'o')\n",
    "plt.title('Training loss history')\n",
    "plt.xlabel('Iteration')\n",
    "plt.ylabel('Training loss')\n",
    "plt.show()"
   ]
  },
  {
   "cell_type": "markdown",
   "metadata": {},
   "source": [
    "Now try to use a five-layer network with 100 units on each layer to overfit 50 training examples. Again you will have to adjust the learning rate and weight initialization, but you should be able to achieve 100% training accuracy within 20 epochs."
   ]
  },
  {
   "cell_type": "code",
   "execution_count": 22,
   "metadata": {},
   "outputs": [
    {
     "name": "stdout",
     "output_type": "stream",
     "text": [
      "[]\n",
      "(Iteration 1 / 40) loss: 137.279425\n",
      "(Epoch 0 / 20) train acc: 0.160000; val_acc: 0.084000\n",
      "(Epoch 1 / 20) train acc: 0.200000; val_acc: 0.121000\n",
      "(Epoch 2 / 20) train acc: 0.200000; val_acc: 0.128000\n",
      "(Epoch 3 / 20) train acc: 0.480000; val_acc: 0.104000\n",
      "(Epoch 4 / 20) train acc: 0.560000; val_acc: 0.145000\n",
      "(Epoch 5 / 20) train acc: 0.640000; val_acc: 0.127000\n",
      "(Iteration 11 / 40) loss: 3.754309\n",
      "(Epoch 6 / 20) train acc: 0.840000; val_acc: 0.135000\n",
      "(Epoch 7 / 20) train acc: 0.880000; val_acc: 0.132000\n",
      "(Epoch 8 / 20) train acc: 0.920000; val_acc: 0.132000\n",
      "(Epoch 9 / 20) train acc: 0.920000; val_acc: 0.130000\n",
      "(Epoch 10 / 20) train acc: 1.000000; val_acc: 0.135000\n",
      "(Iteration 21 / 40) loss: 0.006284\n",
      "(Epoch 11 / 20) train acc: 1.000000; val_acc: 0.134000\n",
      "(Epoch 12 / 20) train acc: 1.000000; val_acc: 0.134000\n",
      "(Epoch 13 / 20) train acc: 1.000000; val_acc: 0.134000\n",
      "(Epoch 14 / 20) train acc: 1.000000; val_acc: 0.134000\n",
      "(Epoch 15 / 20) train acc: 1.000000; val_acc: 0.132000\n",
      "(Iteration 31 / 40) loss: 0.000022\n",
      "(Epoch 16 / 20) train acc: 1.000000; val_acc: 0.132000\n",
      "(Epoch 17 / 20) train acc: 1.000000; val_acc: 0.132000\n",
      "(Epoch 18 / 20) train acc: 1.000000; val_acc: 0.132000\n",
      "(Epoch 19 / 20) train acc: 1.000000; val_acc: 0.132000\n",
      "(Epoch 20 / 20) train acc: 1.000000; val_acc: 0.132000\n"
     ]
    },
    {
     "data": {
      "image/png": "[encoded data removed]",
      "text/plain": [
       "<Figure size 432x288 with 1 Axes>"
      ]
     },
     "metadata": {
      "needs_background": "light"
     },
     "output_type": "display_data"
    }
   ],
   "source": [
    "# TODO: Use a five-layer Net to overfit 50 training examples by \n",
    "# tweaking just the learning rate and initialization scale.\n",
    "\n",
    "num_train = 50\n",
    "small_data = {\n",
    "  'X_train': data['X_train'][:num_train],\n",
    "  'y_train': data['y_train'][:num_train],\n",
    "  'X_val': data['X_val'],\n",
    "  'y_val': data['y_val'],\n",
    "}\n",
    "\n",
    "learning_rate = 0.1\n",
    "weight_scale = 0.1\n",
    "model = FullyConnectedNet([100, 100, 100, 100],\n",
    "                weight_scale=weight_scale, dtype=np.float64)\n",
    "solver = Solver(model, small_data,\n",
    "                print_every=10, num_epochs=20, batch_size=25,\n",
    "                update_rule='sgd',\n",
    "                optim_config={\n",
    "                  'learning_rate': learning_rate,\n",
    "                }\n",
    "         )\n",
    "solver.train()\n",
    "\n",
    "plt.plot(solver.loss_history, 'o')\n",
    "plt.title('Training loss history')\n",
    "plt.xlabel('Iteration')\n",
    "plt.ylabel('Training loss')\n",
    "plt.show()"
   ]
  },
  {
   "cell_type": "markdown",
   "metadata": {},
   "source": [
    "## Inline Question 2: \n",
    "Did you notice anything about the comparative difficulty of training the three-layer net vs training the five layer net? In particular, based on your experience, which network seemed more sensitive to the initialization scale? Why do you think that is the case?"
   ]
  },
  {
   "cell_type": "markdown",
   "metadata": {},
   "source": [
    "## Answer:\n",
    "[FILL THIS IN]\n"
   ]
  },
  {
   "cell_type": "markdown",
   "metadata": {},
   "source": [
    "# Update rules\n",
    "So far we have used vanilla stochastic gradient descent (SGD) as our update rule. More sophisticated update rules can make it easier to train deep networks. We will implement a few of the most commonly used update rules and compare them to vanilla SGD."
   ]
  },
  {
   "cell_type": "markdown",
   "metadata": {},
   "source": [
    "# SGD+Momentum\n",
    "Stochastic gradient descent with momentum is a widely used update rule that tends to make deep networks converge faster than vanilla stochastic gradient descent. See the Momentum Update section at http://cs231n.github.io/neural-networks-3/#sgd for more information.\n",
    "\n",
    "Open the file `cs231n/optim.py` and read the documentation at the top of the file to make sure you understand the API. Implement the SGD+momentum update rule in the function `sgd_momentum` and run the following to check your implementation. You should see errors less than e-8."
   ]
  },
  {
   "cell_type": "code",
   "execution_count": 186,
   "metadata": {},
   "outputs": [
    {
     "name": "stdout",
     "output_type": "stream",
     "text": [
      "next_w error:  8.882347033505819e-09\n",
      "velocity error:  4.269287743278663e-09\n"
     ]
    }
   ],
   "source": [
    "from cs231n.optim import sgd_momentum\n",
    "\n",
    "N, D = 4, 5\n",
    "w = np.linspace(-0.4, 0.6, num=N*D).reshape(N, D)\n",
    "dw = np.linspace(-0.6, 0.4, num=N*D).reshape(N, D)\n",
    "v = np.linspace(0.6, 0.9, num=N*D).reshape(N, D)\n",
    "\n",
    "config = {'learning_rate': 1e-3, 'velocity': v}\n",
    "next_w, _ = sgd_momentum(w, dw, config=config)\n",
    "\n",
    "expected_next_w = np.asarray([\n",
    "  [ 0.1406,      0.20738947,  0.27417895,  0.34096842,  0.40775789],\n",
    "  [ 0.47454737,  0.54133684,  0.60812632,  0.67491579,  0.74170526],\n",
    "  [ 0.80849474,  0.87528421,  0.94207368,  1.00886316,  1.07565263],\n",
    "  [ 1.14244211,  1.20923158,  1.27602105,  1.34281053,  1.4096    ]])\n",
    "expected_velocity = np.asarray([\n",
    "  [ 0.5406,      0.55475789,  0.56891579, 0.58307368,  0.59723158],\n",
    "  [ 0.61138947,  0.62554737,  0.63970526,  0.65386316,  0.66802105],\n",
    "  [ 0.68217895,  0.69633684,  0.71049474,  0.72465263,  0.73881053],\n",
    "  [ 0.75296842,  0.76712632,  0.78128421,  0.79544211,  0.8096    ]])\n",
    "\n",
    "# Should see relative errors around e-8 or less\n",
    "print('next_w error: ', rel_error(next_w, expected_next_w))\n",
    "print('velocity error: ', rel_error(expected_velocity, config['velocity']))"
   ]
  },
  {
   "cell_type": "markdown",
   "metadata": {},
   "source": [
    "Once you have done so, run the following to train a six-layer network with both SGD and SGD+momentum. You should see the SGD+momentum update rule converge faster."
   ]
  },
  {
   "cell_type": "code",
   "execution_count": 187,
   "metadata": {
    "scrolled": false
   },
   "outputs": [
    {
     "name": "stdout",
     "output_type": "stream",
     "text": [
      "running with  sgd\n",
      "(Iteration 1 / 200) loss: 3.206287\n",
      "(Epoch 0 / 5) train acc: 0.102000; val_acc: 0.113000\n",
      "(Iteration 11 / 200) loss: 3.080973\n",
      "(Iteration 21 / 200) loss: 3.025850\n",
      "(Iteration 31 / 200) loss: 2.923934\n",
      "(Epoch 1 / 5) train acc: 0.111000; val_acc: 0.105000\n",
      "(Iteration 41 / 200) loss: 2.687026\n",
      "(Iteration 51 / 200) loss: 2.695974\n",
      "(Iteration 61 / 200) loss: 2.759432\n",
      "(Iteration 71 / 200) loss: 2.509121\n",
      "(Epoch 2 / 5) train acc: 0.114000; val_acc: 0.112000\n",
      "(Iteration 81 / 200) loss: 2.669061\n",
      "(Iteration 91 / 200) loss: 2.581607\n",
      "(Iteration 101 / 200) loss: 2.675841\n",
      "(Iteration 111 / 200) loss: 2.555045\n",
      "(Epoch 3 / 5) train acc: 0.118000; val_acc: 0.119000\n",
      "(Iteration 121 / 200) loss: 2.441943\n",
      "(Iteration 131 / 200) loss: 2.471971\n",
      "(Iteration 141 / 200) loss: 2.577448\n",
      "(Iteration 151 / 200) loss: 2.530084\n",
      "(Epoch 4 / 5) train acc: 0.116000; val_acc: 0.126000\n",
      "(Iteration 161 / 200) loss: 2.531104\n",
      "(Iteration 171 / 200) loss: 2.469879\n",
      "(Iteration 181 / 200) loss: 2.501048\n",
      "(Iteration 191 / 200) loss: 2.468506\n",
      "(Epoch 5 / 5) train acc: 0.103000; val_acc: 0.131000\n",
      "\n",
      "running with  sgd_momentum\n",
      "(Iteration 1 / 200) loss: 2.845358\n",
      "(Epoch 0 / 5) train acc: 0.099000; val_acc: 0.092000\n",
      "(Iteration 11 / 200) loss: 2.429623\n",
      "(Iteration 21 / 200) loss: 2.401905\n",
      "(Iteration 31 / 200) loss: 2.278184\n",
      "(Epoch 1 / 5) train acc: 0.136000; val_acc: 0.123000\n",
      "(Iteration 41 / 200) loss: 2.318910\n",
      "(Iteration 51 / 200) loss: 2.273411\n",
      "(Iteration 61 / 200) loss: 2.233936\n",
      "(Iteration 71 / 200) loss: 2.282644\n",
      "(Epoch 2 / 5) train acc: 0.148000; val_acc: 0.167000\n",
      "(Iteration 81 / 200) loss: 2.069972\n",
      "(Iteration 91 / 200) loss: 2.230644\n",
      "(Iteration 101 / 200) loss: 2.130576\n",
      "(Iteration 111 / 200) loss: 2.091696\n",
      "(Epoch 3 / 5) train acc: 0.186000; val_acc: 0.198000\n",
      "(Iteration 121 / 200) loss: 2.229146\n",
      "(Iteration 131 / 200) loss: 2.199155\n",
      "(Iteration 141 / 200) loss: 2.118587\n",
      "(Iteration 151 / 200) loss: 2.129900\n",
      "(Epoch 4 / 5) train acc: 0.199000; val_acc: 0.206000\n",
      "(Iteration 161 / 200) loss: 2.028333\n",
      "(Iteration 171 / 200) loss: 2.185128\n",
      "(Iteration 181 / 200) loss: 2.157459\n",
      "(Iteration 191 / 200) loss: 2.125956\n",
      "(Epoch 5 / 5) train acc: 0.206000; val_acc: 0.216000\n",
      "\n"
     ]
    },
    {
     "name": "stderr",
     "output_type": "stream",
     "text": [
      "/home/misha/anaconda3/lib/python3.7/site-packages/matplotlib/figure.py:98: MatplotlibDeprecationWarning: \n",
      "Adding an axes using the same arguments as a previous axes currently reuses the earlier instance.  In a future version, a new instance will always be created and returned.  Meanwhile, this warning can be suppressed, and the future behavior ensured, by passing a unique label to each axes instance.\n",
      "  \"Adding an axes using the same arguments as a previous axes \"\n"
     ]
    },
    {
     "data": {
      "image/png": "[encoded data removed]",
      "text/plain": [
       "<Figure size 1080x1080 with 3 Axes>"
      ]
     },
     "metadata": {
      "needs_background": "light"
     },
     "output_type": "display_data"
    }
   ],
   "source": [
    "num_train = 4000\n",
    "small_data = {\n",
    "  'X_train': data['X_train'][:num_train],\n",
    "  'y_train': data['y_train'][:num_train],\n",
    "  'X_val': data['X_val'],\n",
    "  'y_val': data['y_val'],\n",
    "}\n",
    "\n",
    "solvers = {}\n",
    "\n",
    "for update_rule in ['sgd', 'sgd_momentum']:\n",
    "  print('running with ', update_rule)\n",
    "  model = FullyConnectedNet([100, 100, 100, 100, 100], weight_scale=5e-2)\n",
    "\n",
    "  solver = Solver(model, small_data,\n",
    "                  num_epochs=5, batch_size=100,\n",
    "                  update_rule=update_rule,\n",
    "                  optim_config={\n",
    "                    'learning_rate': 1e-2,\n",
    "                  },\n",
    "                  verbose=True)\n",
    "  solvers[update_rule] = solver\n",
    "  solver.train()\n",
    "  print()\n",
    "\n",
    "plt.subplot(3, 1, 1)\n",
    "plt.title('Training loss')\n",
    "plt.xlabel('Iteration')\n",
    "\n",
    "plt.subplot(3, 1, 2)\n",
    "plt.title('Training accuracy')\n",
    "plt.xlabel('Epoch')\n",
    "\n",
    "plt.subplot(3, 1, 3)\n",
    "plt.title('Validation accuracy')\n",
    "plt.xlabel('Epoch')\n",
    "\n",
    "for update_rule, solver in list(solvers.items()):\n",
    "  plt.subplot(3, 1, 1)\n",
    "  plt.plot(solver.loss_history, 'o', label=update_rule)\n",
    "  \n",
    "  plt.subplot(3, 1, 2)\n",
    "  plt.plot(solver.train_acc_history, '-o', label=update_rule)\n",
    "\n",
    "  plt.subplot(3, 1, 3)\n",
    "  plt.plot(solver.val_acc_history, '-o', label=update_rule)\n",
    "  \n",
    "for i in [1, 2, 3]:\n",
    "  plt.subplot(3, 1, i)\n",
    "  plt.legend(loc='upper center', ncol=4)\n",
    "plt.gcf().set_size_inches(15, 15)\n",
    "plt.show()"
   ]
  },
  {
   "cell_type": "markdown",
   "metadata": {},
   "source": [
    "# RMSProp and Adam\n",
    "RMSProp [1] and Adam [2] are update rules that set per-parameter learning rates by using a running average of the second moments of gradients.\n",
    "\n",
    "In the file `cs231n/optim.py`, implement the RMSProp update rule in the `rmsprop` function and implement the Adam update rule in the `adam` function, and check your implementations using the tests below.\n",
    "\n",
    "**NOTE:** Please implement the _complete_ Adam update rule (with the bias correction mechanism), not the first simplified version mentioned in the course notes. \n",
    "\n",
    "[1] Tijmen Tieleman and Geoffrey Hinton. \"Lecture 6.5-rmsprop: Divide the gradient by a running average of its recent magnitude.\" COURSERA: Neural Networks for Machine Learning 4 (2012).\n",
    "\n",
    "[2] Diederik Kingma and Jimmy Ba, \"Adam: A Method for Stochastic Optimization\", ICLR 2015."
   ]
  },
  {
   "cell_type": "code",
   "execution_count": 188,
   "metadata": {},
   "outputs": [
    {
     "name": "stdout",
     "output_type": "stream",
     "text": [
      "next_w error:  9.524687511038133e-08\n",
      "cache error:  2.6477955807156126e-09\n"
     ]
    }
   ],
   "source": [
    "# Test RMSProp implementation\n",
    "from cs231n.optim import rmsprop\n",
    "\n",
    "N, D = 4, 5\n",
    "w = np.linspace(-0.4, 0.6, num=N*D).reshape(N, D)\n",
    "dw = np.linspace(-0.6, 0.4, num=N*D).reshape(N, D)\n",
    "cache = np.linspace(0.6, 0.9, num=N*D).reshape(N, D)\n",
    "\n",
    "config = {'learning_rate': 1e-2, 'cache': cache}\n",
    "next_w, _ = rmsprop(w, dw, config=config)\n",
    "\n",
    "expected_next_w = np.asarray([\n",
    "  [-0.39223849, -0.34037513, -0.28849239, -0.23659121, -0.18467247],\n",
    "  [-0.132737,   -0.08078555, -0.02881884,  0.02316247,  0.07515774],\n",
    "  [ 0.12716641,  0.17918792,  0.23122175,  0.28326742,  0.33532447],\n",
    "  [ 0.38739248,  0.43947102,  0.49155973,  0.54365823,  0.59576619]])\n",
    "expected_cache = np.asarray([\n",
    "  [ 0.5976,      0.6126277,   0.6277108,   0.64284931,  0.65804321],\n",
    "  [ 0.67329252,  0.68859723,  0.70395734,  0.71937285,  0.73484377],\n",
    "  [ 0.75037008,  0.7659518,   0.78158892,  0.79728144,  0.81302936],\n",
    "  [ 0.82883269,  0.84469141,  0.86060554,  0.87657507,  0.8926    ]])\n",
    "\n",
    "# You should see relative errors around e-7 or less\n",
    "print('next_w error: ', rel_error(expected_next_w, next_w))\n",
    "print('cache error: ', rel_error(expected_cache, config['cache']))"
   ]
  },
  {
   "cell_type": "code",
   "execution_count": 194,
   "metadata": {},
   "outputs": [
    {
     "name": "stdout",
     "output_type": "stream",
     "text": [
      "next_w error:  1.1395691798535431e-07\n",
      "v error:  4.208314038113071e-09\n",
      "m error:  4.214963193114416e-09\n"
     ]
    }
   ],
   "source": [
    "# Test Adam implementation\n",
    "from cs231n.optim import adam\n",
    "\n",
    "N, D = 4, 5\n",
    "w = np.linspace(-0.4, 0.6, num=N*D).reshape(N, D)\n",
    "dw = np.linspace(-0.6, 0.4, num=N*D).reshape(N, D)\n",
    "m = np.linspace(0.6, 0.9, num=N*D).reshape(N, D)\n",
    "v = np.linspace(0.7, 0.5, num=N*D).reshape(N, D)\n",
    "\n",
    "config = {'learning_rate': 1e-2, 'm': m, 'v': v, 't': 5}\n",
    "next_w, _ = adam(w, dw, config=config)\n",
    "\n",
    "expected_next_w = np.asarray([\n",
    "  [-0.40094747, -0.34836187, -0.29577703, -0.24319299, -0.19060977],\n",
    "  [-0.1380274,  -0.08544591, -0.03286534,  0.01971428,  0.0722929],\n",
    "  [ 0.1248705,   0.17744702,  0.23002243,  0.28259667,  0.33516969],\n",
    "  [ 0.38774145,  0.44031188,  0.49288093,  0.54544852,  0.59801459]])\n",
    "expected_v = np.asarray([\n",
    "  [ 0.69966,     0.68908382,  0.67851319,  0.66794809,  0.65738853,],\n",
    "  [ 0.64683452,  0.63628604,  0.6257431,   0.61520571,  0.60467385,],\n",
    "  [ 0.59414753,  0.58362676,  0.57311152,  0.56260183,  0.55209767,],\n",
    "  [ 0.54159906,  0.53110598,  0.52061845,  0.51013645,  0.49966,   ]])\n",
    "expected_m = np.asarray([\n",
    "  [ 0.48,        0.49947368,  0.51894737,  0.53842105,  0.55789474],\n",
    "  [ 0.57736842,  0.59684211,  0.61631579,  0.63578947,  0.65526316],\n",
    "  [ 0.67473684,  0.69421053,  0.71368421,  0.73315789,  0.75263158],\n",
    "  [ 0.77210526,  0.79157895,  0.81105263,  0.83052632,  0.85      ]])\n",
    "\n",
    "# You should see relative errors around e-7 or less\n",
    "print('next_w error: ', rel_error(expected_next_w, next_w))\n",
    "print('v error: ', rel_error(expected_v, config['v']))\n",
    "print('m error: ', rel_error(expected_m, config['m']))"
   ]
  },
  {
   "cell_type": "markdown",
   "metadata": {},
   "source": [
    "Once you have debugged your RMSProp and Adam implementations, run the following to train a pair of deep networks using these new update rules:"
   ]
  },
  {
   "cell_type": "code",
   "execution_count": 208,
   "metadata": {},
   "outputs": [
    {
     "name": "stdout",
     "output_type": "stream",
     "text": [
      "running with  adam\n",
      "(Iteration 1 / 2450) loss: 9.529213\n",
      "(Epoch 0 / 5) train acc: 0.116000; val_acc: 0.148000\n",
      "(Iteration 11 / 2450) loss: 3.352974\n",
      "(Iteration 21 / 2450) loss: 2.570282\n",
      "(Iteration 31 / 2450) loss: 2.421340\n",
      "(Iteration 41 / 2450) loss: 2.026554\n",
      "(Iteration 51 / 2450) loss: 1.939559\n",
      "(Iteration 61 / 2450) loss: 2.114747\n",
      "(Iteration 71 / 2450) loss: 1.825792\n",
      "(Iteration 81 / 2450) loss: 1.839843\n",
      "(Iteration 91 / 2450) loss: 2.076717\n",
      "(Iteration 101 / 2450) loss: 1.972248\n",
      "(Iteration 111 / 2450) loss: 1.813343\n",
      "(Iteration 121 / 2450) loss: 2.006341\n",
      "(Iteration 131 / 2450) loss: 1.808724\n",
      "(Iteration 141 / 2450) loss: 1.795021\n",
      "(Iteration 151 / 2450) loss: 1.738212\n",
      "(Iteration 161 / 2450) loss: 1.838989\n",
      "(Iteration 171 / 2450) loss: 1.957556\n",
      "(Iteration 181 / 2450) loss: 1.823908\n",
      "(Iteration 191 / 2450) loss: 1.653359\n",
      "(Iteration 201 / 2450) loss: 1.530392\n",
      "(Iteration 211 / 2450) loss: 1.813400\n",
      "(Iteration 221 / 2450) loss: 1.601291\n",
      "(Iteration 231 / 2450) loss: 1.709984\n",
      "(Iteration 241 / 2450) loss: 1.711065\n",
      "(Iteration 251 / 2450) loss: 1.589865\n",
      "(Iteration 261 / 2450) loss: 1.886064\n",
      "(Iteration 271 / 2450) loss: 1.838672\n",
      "(Iteration 281 / 2450) loss: 1.813729\n",
      "(Iteration 291 / 2450) loss: 1.821602\n",
      "(Iteration 301 / 2450) loss: 1.421216\n",
      "(Iteration 311 / 2450) loss: 1.539273\n",
      "(Iteration 321 / 2450) loss: 1.655486\n",
      "(Iteration 331 / 2450) loss: 1.686598\n",
      "(Iteration 341 / 2450) loss: 1.694167\n",
      "(Iteration 351 / 2450) loss: 1.746899\n",
      "(Iteration 361 / 2450) loss: 1.620087\n",
      "(Iteration 371 / 2450) loss: 1.798110\n",
      "(Iteration 381 / 2450) loss: 1.896230\n",
      "(Iteration 391 / 2450) loss: 1.781584\n",
      "(Iteration 401 / 2450) loss: 1.516933\n",
      "(Iteration 411 / 2450) loss: 1.618030\n",
      "(Iteration 421 / 2450) loss: 1.779667\n",
      "(Iteration 431 / 2450) loss: 1.699927\n",
      "(Iteration 441 / 2450) loss: 1.500480\n",
      "(Iteration 451 / 2450) loss: 1.570305\n",
      "(Iteration 461 / 2450) loss: 1.512528\n",
      "(Iteration 471 / 2450) loss: 1.787013\n",
      "(Iteration 481 / 2450) loss: 1.444388\n",
      "(Epoch 1 / 5) train acc: 0.402000; val_acc: 0.415000\n",
      "(Iteration 491 / 2450) loss: 1.849597\n",
      "(Iteration 501 / 2450) loss: 1.303791\n",
      "(Iteration 511 / 2450) loss: 1.648339\n",
      "(Iteration 521 / 2450) loss: 1.594894\n",
      "(Iteration 531 / 2450) loss: 1.724856\n",
      "(Iteration 541 / 2450) loss: 1.560531\n",
      "(Iteration 551 / 2450) loss: 1.482036\n",
      "(Iteration 561 / 2450) loss: 1.555722\n",
      "(Iteration 571 / 2450) loss: 1.747454\n",
      "(Iteration 581 / 2450) loss: 1.775444\n",
      "(Iteration 591 / 2450) loss: 1.584805\n",
      "(Iteration 601 / 2450) loss: 1.504219\n",
      "(Iteration 611 / 2450) loss: 1.452271\n",
      "(Iteration 621 / 2450) loss: 1.553574\n",
      "(Iteration 631 / 2450) loss: 1.552526\n",
      "(Iteration 641 / 2450) loss: 1.497787\n",
      "(Iteration 651 / 2450) loss: 1.493223\n",
      "(Iteration 661 / 2450) loss: 1.522683\n",
      "(Iteration 671 / 2450) loss: 1.456085\n",
      "(Iteration 681 / 2450) loss: 1.534408\n",
      "(Iteration 691 / 2450) loss: 1.570727\n",
      "(Iteration 701 / 2450) loss: 1.450259\n",
      "(Iteration 711 / 2450) loss: 1.434647\n",
      "(Iteration 721 / 2450) loss: 1.450687\n",
      "(Iteration 731 / 2450) loss: 1.703757\n",
      "(Iteration 741 / 2450) loss: 1.449077\n",
      "(Iteration 751 / 2450) loss: 1.474906\n",
      "(Iteration 761 / 2450) loss: 1.597182\n",
      "(Iteration 771 / 2450) loss: 1.406052\n",
      "(Iteration 781 / 2450) loss: 1.515167\n",
      "(Iteration 791 / 2450) loss: 1.495186\n",
      "(Iteration 801 / 2450) loss: 1.666206\n",
      "(Iteration 811 / 2450) loss: 1.479055\n",
      "(Iteration 821 / 2450) loss: 1.420337\n",
      "(Iteration 831 / 2450) loss: 1.668272\n",
      "(Iteration 841 / 2450) loss: 1.504602\n",
      "(Iteration 851 / 2450) loss: 1.537853\n",
      "(Iteration 861 / 2450) loss: 1.503047\n",
      "(Iteration 871 / 2450) loss: 1.465528\n",
      "(Iteration 881 / 2450) loss: 1.580545\n",
      "(Iteration 891 / 2450) loss: 1.711118\n",
      "(Iteration 901 / 2450) loss: 1.257074\n",
      "(Iteration 911 / 2450) loss: 1.418174\n",
      "(Iteration 921 / 2450) loss: 1.411336\n",
      "(Iteration 931 / 2450) loss: 1.603776\n",
      "(Iteration 941 / 2450) loss: 1.356517\n",
      "(Iteration 951 / 2450) loss: 1.267286\n",
      "(Iteration 961 / 2450) loss: 1.597328\n",
      "(Iteration 971 / 2450) loss: 1.410117\n",
      "(Epoch 2 / 5) train acc: 0.462000; val_acc: 0.474000\n",
      "(Iteration 981 / 2450) loss: 1.432746\n",
      "(Iteration 991 / 2450) loss: 1.528663\n",
      "(Iteration 1001 / 2450) loss: 1.667431\n",
      "(Iteration 1011 / 2450) loss: 1.324106\n",
      "(Iteration 1021 / 2450) loss: 1.473985\n",
      "(Iteration 1031 / 2450) loss: 1.611655\n",
      "(Iteration 1041 / 2450) loss: 1.451736\n",
      "(Iteration 1051 / 2450) loss: 1.551811\n",
      "(Iteration 1061 / 2450) loss: 1.430457\n",
      "(Iteration 1071 / 2450) loss: 1.373284\n",
      "(Iteration 1081 / 2450) loss: 1.498614\n",
      "(Iteration 1091 / 2450) loss: 1.273635\n",
      "(Iteration 1101 / 2450) loss: 1.481730\n",
      "(Iteration 1111 / 2450) loss: 1.400878\n",
      "(Iteration 1121 / 2450) loss: 1.525618\n",
      "(Iteration 1131 / 2450) loss: 1.538213\n",
      "(Iteration 1141 / 2450) loss: 1.349911\n",
      "(Iteration 1151 / 2450) loss: 1.398166\n",
      "(Iteration 1161 / 2450) loss: 1.601522\n",
      "(Iteration 1171 / 2450) loss: 1.446562\n",
      "(Iteration 1181 / 2450) loss: 1.300855\n",
      "(Iteration 1191 / 2450) loss: 1.309822\n",
      "(Iteration 1201 / 2450) loss: 1.349847\n",
      "(Iteration 1211 / 2450) loss: 1.589114\n",
      "(Iteration 1221 / 2450) loss: 1.616892\n",
      "(Iteration 1231 / 2450) loss: 1.428601\n",
      "(Iteration 1241 / 2450) loss: 1.550857\n",
      "(Iteration 1251 / 2450) loss: 1.425814\n",
      "(Iteration 1261 / 2450) loss: 1.345194\n",
      "(Iteration 1271 / 2450) loss: 1.469218\n",
      "(Iteration 1281 / 2450) loss: 1.251597\n",
      "(Iteration 1291 / 2450) loss: 1.387754\n",
      "(Iteration 1301 / 2450) loss: 1.382645\n",
      "(Iteration 1311 / 2450) loss: 1.483687\n",
      "(Iteration 1321 / 2450) loss: 1.414481\n",
      "(Iteration 1331 / 2450) loss: 1.280107\n",
      "(Iteration 1341 / 2450) loss: 1.386625\n",
      "(Iteration 1351 / 2450) loss: 1.372286\n",
      "(Iteration 1361 / 2450) loss: 1.267372\n",
      "(Iteration 1371 / 2450) loss: 1.408314\n",
      "(Iteration 1381 / 2450) loss: 1.641746\n",
      "(Iteration 1391 / 2450) loss: 1.275337\n",
      "(Iteration 1401 / 2450) loss: 1.295207\n",
      "(Iteration 1411 / 2450) loss: 1.648529\n",
      "(Iteration 1421 / 2450) loss: 1.327303\n",
      "(Iteration 1431 / 2450) loss: 1.410344\n",
      "(Iteration 1441 / 2450) loss: 1.331677\n",
      "(Iteration 1451 / 2450) loss: 1.221053\n",
      "(Iteration 1461 / 2450) loss: 1.413073\n",
      "(Epoch 3 / 5) train acc: 0.499000; val_acc: 0.506000\n",
      "(Iteration 1471 / 2450) loss: 1.199151\n",
      "(Iteration 1481 / 2450) loss: 1.404928\n",
      "(Iteration 1491 / 2450) loss: 1.474509\n",
      "(Iteration 1501 / 2450) loss: 1.436059\n",
      "(Iteration 1511 / 2450) loss: 1.389344\n",
      "(Iteration 1521 / 2450) loss: 1.229115\n",
      "(Iteration 1531 / 2450) loss: 1.108330\n",
      "(Iteration 1541 / 2450) loss: 1.402443\n",
      "(Iteration 1551 / 2450) loss: 1.474361\n",
      "(Iteration 1561 / 2450) loss: 1.227144\n",
      "(Iteration 1571 / 2450) loss: 1.231922\n",
      "(Iteration 1581 / 2450) loss: 1.314207\n",
      "(Iteration 1591 / 2450) loss: 1.538098\n",
      "(Iteration 1601 / 2450) loss: 1.302184\n",
      "(Iteration 1611 / 2450) loss: 1.296351\n",
      "(Iteration 1621 / 2450) loss: 1.235282\n",
      "(Iteration 1631 / 2450) loss: 1.360378\n",
      "(Iteration 1641 / 2450) loss: 1.233191\n",
      "(Iteration 1651 / 2450) loss: 1.299491\n",
      "(Iteration 1661 / 2450) loss: 1.304897\n",
      "(Iteration 1671 / 2450) loss: 1.283229\n",
      "(Iteration 1681 / 2450) loss: 1.339546\n",
      "(Iteration 1691 / 2450) loss: 1.345522\n",
      "(Iteration 1701 / 2450) loss: 1.602080\n",
      "(Iteration 1711 / 2450) loss: 1.284926\n",
      "(Iteration 1721 / 2450) loss: 1.559207\n",
      "(Iteration 1731 / 2450) loss: 1.449637\n",
      "(Iteration 1741 / 2450) loss: 1.164422\n",
      "(Iteration 1751 / 2450) loss: 1.186347\n",
      "(Iteration 1761 / 2450) loss: 1.324739\n",
      "(Iteration 1771 / 2450) loss: 1.382458\n",
      "(Iteration 1781 / 2450) loss: 1.250654\n",
      "(Iteration 1791 / 2450) loss: 1.245066\n",
      "(Iteration 1801 / 2450) loss: 1.270168\n",
      "(Iteration 1811 / 2450) loss: 1.368383\n",
      "(Iteration 1821 / 2450) loss: 1.365546\n",
      "(Iteration 1831 / 2450) loss: 1.421766\n",
      "(Iteration 1841 / 2450) loss: 1.431599\n",
      "(Iteration 1851 / 2450) loss: 1.277605\n",
      "(Iteration 1861 / 2450) loss: 1.246516\n",
      "(Iteration 1871 / 2450) loss: 1.188592\n",
      "(Iteration 1881 / 2450) loss: 1.063147\n",
      "(Iteration 1891 / 2450) loss: 1.181505\n",
      "(Iteration 1901 / 2450) loss: 0.971165\n",
      "(Iteration 1911 / 2450) loss: 1.352453\n",
      "(Iteration 1921 / 2450) loss: 1.334302\n",
      "(Iteration 1931 / 2450) loss: 1.436554\n",
      "(Iteration 1941 / 2450) loss: 1.359548\n",
      "(Iteration 1951 / 2450) loss: 1.327727\n",
      "(Epoch 4 / 5) train acc: 0.523000; val_acc: 0.509000\n",
      "(Iteration 1961 / 2450) loss: 1.252013\n",
      "(Iteration 1971 / 2450) loss: 1.292364\n",
      "(Iteration 1981 / 2450) loss: 1.333691\n",
      "(Iteration 1991 / 2450) loss: 1.336310\n",
      "(Iteration 2001 / 2450) loss: 1.325339\n",
      "(Iteration 2011 / 2450) loss: 1.125485\n",
      "(Iteration 2021 / 2450) loss: 1.226123\n",
      "(Iteration 2031 / 2450) loss: 1.319318\n",
      "(Iteration 2041 / 2450) loss: 1.419757\n",
      "(Iteration 2051 / 2450) loss: 1.211549\n",
      "(Iteration 2061 / 2450) loss: 1.084977\n",
      "(Iteration 2071 / 2450) loss: 1.317235\n",
      "(Iteration 2081 / 2450) loss: 1.168803\n",
      "(Iteration 2091 / 2450) loss: 1.318469\n",
      "(Iteration 2101 / 2450) loss: 1.327209\n",
      "(Iteration 2111 / 2450) loss: 1.348016\n",
      "(Iteration 2121 / 2450) loss: 1.123834\n",
      "(Iteration 2131 / 2450) loss: 1.297249\n",
      "(Iteration 2141 / 2450) loss: 0.951965\n",
      "(Iteration 2151 / 2450) loss: 1.212958\n",
      "(Iteration 2161 / 2450) loss: 1.281831\n",
      "(Iteration 2171 / 2450) loss: 1.310381\n",
      "(Iteration 2181 / 2450) loss: 1.213222\n",
      "(Iteration 2191 / 2450) loss: 1.226941\n",
      "(Iteration 2201 / 2450) loss: 1.136144\n",
      "(Iteration 2211 / 2450) loss: 1.219038\n",
      "(Iteration 2221 / 2450) loss: 1.300846\n",
      "(Iteration 2231 / 2450) loss: 1.222889\n",
      "(Iteration 2241 / 2450) loss: 1.106933\n",
      "(Iteration 2251 / 2450) loss: 1.101655\n",
      "(Iteration 2261 / 2450) loss: 1.251228\n",
      "(Iteration 2271 / 2450) loss: 1.052365\n",
      "(Iteration 2281 / 2450) loss: 1.187397\n",
      "(Iteration 2291 / 2450) loss: 1.200526\n",
      "(Iteration 2301 / 2450) loss: 1.360758\n",
      "(Iteration 2311 / 2450) loss: 1.163152\n",
      "(Iteration 2321 / 2450) loss: 1.269975\n",
      "(Iteration 2331 / 2450) loss: 1.020249\n",
      "(Iteration 2341 / 2450) loss: 1.261876\n",
      "(Iteration 2351 / 2450) loss: 1.288045\n",
      "(Iteration 2361 / 2450) loss: 1.152535\n",
      "(Iteration 2371 / 2450) loss: 1.262801\n",
      "(Iteration 2381 / 2450) loss: 1.211335\n",
      "(Iteration 2391 / 2450) loss: 1.359198\n",
      "(Iteration 2401 / 2450) loss: 1.306235\n",
      "(Iteration 2411 / 2450) loss: 1.326715\n",
      "(Iteration 2421 / 2450) loss: 1.105736\n",
      "(Iteration 2431 / 2450) loss: 1.261457\n",
      "(Iteration 2441 / 2450) loss: 1.258776\n",
      "(Epoch 5 / 5) train acc: 0.598000; val_acc: 0.532000\n",
      "\n",
      "running with  rmsprop\n",
      "(Iteration 1 / 2450) loss: 6.366271\n",
      "(Epoch 0 / 5) train acc: 0.124000; val_acc: 0.145000\n",
      "(Iteration 11 / 2450) loss: 2.161786\n",
      "(Iteration 21 / 2450) loss: 2.306865\n",
      "(Iteration 31 / 2450) loss: 1.994222\n",
      "(Iteration 41 / 2450) loss: 2.181706\n"
     ]
    },
    {
     "ename": "KeyboardInterrupt",
     "evalue": "",
     "output_type": "error",
     "traceback": [
      "\u001b[0;31m---------------------------------------------------------------------------\u001b[0m",
      "\u001b[0;31mKeyboardInterrupt\u001b[0m                         Traceback (most recent call last)",
      "\u001b[0;32m<ipython-input-208-e09438b0d1bc>\u001b[0m in \u001b[0;36m<module>\u001b[0;34m\u001b[0m\n\u001b[1;32m     13\u001b[0m                   verbose=True)\n\u001b[1;32m     14\u001b[0m   \u001b[0msolvers\u001b[0m\u001b[0;34m[\u001b[0m\u001b[0mupdate_rule\u001b[0m\u001b[0;34m]\u001b[0m \u001b[0;34m=\u001b[0m \u001b[0msolver\u001b[0m\u001b[0;34m\u001b[0m\u001b[0;34m\u001b[0m\u001b[0m\n\u001b[0;32m---> 15\u001b[0;31m   \u001b[0msolver\u001b[0m\u001b[0;34m.\u001b[0m\u001b[0mtrain\u001b[0m\u001b[0;34m(\u001b[0m\u001b[0;34m)\u001b[0m\u001b[0;34m\u001b[0m\u001b[0;34m\u001b[0m\u001b[0m\n\u001b[0m\u001b[1;32m     16\u001b[0m   \u001b[0mprint\u001b[0m\u001b[0;34m(\u001b[0m\u001b[0;34m)\u001b[0m\u001b[0;34m\u001b[0m\u001b[0;34m\u001b[0m\u001b[0m\n\u001b[1;32m     17\u001b[0m \u001b[0;34m\u001b[0m\u001b[0m\n",
      "\u001b[0;32m~/Coursera/cs231n/HW2/HW2/cs231n/solver.py\u001b[0m in \u001b[0;36mtrain\u001b[0;34m(self)\u001b[0m\n\u001b[1;32m    264\u001b[0m \u001b[0;34m\u001b[0m\u001b[0m\n\u001b[1;32m    265\u001b[0m         \u001b[0;32mfor\u001b[0m \u001b[0mt\u001b[0m \u001b[0;32min\u001b[0m \u001b[0mrange\u001b[0m\u001b[0;34m(\u001b[0m\u001b[0mnum_iterations\u001b[0m\u001b[0;34m)\u001b[0m\u001b[0;34m:\u001b[0m\u001b[0;34m\u001b[0m\u001b[0;34m\u001b[0m\u001b[0m\n\u001b[0;32m--> 266\u001b[0;31m             \u001b[0mself\u001b[0m\u001b[0;34m.\u001b[0m\u001b[0m_step\u001b[0m\u001b[0;34m(\u001b[0m\u001b[0;34m)\u001b[0m\u001b[0;34m\u001b[0m\u001b[0;34m\u001b[0m\u001b[0m\n\u001b[0m\u001b[1;32m    267\u001b[0m \u001b[0;34m\u001b[0m\u001b[0m\n\u001b[1;32m    268\u001b[0m             \u001b[0;31m# Maybe print training loss\u001b[0m\u001b[0;34m\u001b[0m\u001b[0;34m\u001b[0m\u001b[0;34m\u001b[0m\u001b[0m\n",
      "\u001b[0;32m~/Coursera/cs231n/HW2/HW2/cs231n/solver.py\u001b[0m in \u001b[0;36m_step\u001b[0;34m(self)\u001b[0m\n\u001b[1;32m    187\u001b[0m             \u001b[0mdw\u001b[0m \u001b[0;34m=\u001b[0m \u001b[0mgrads\u001b[0m\u001b[0;34m[\u001b[0m\u001b[0mp\u001b[0m\u001b[0;34m]\u001b[0m\u001b[0;34m\u001b[0m\u001b[0;34m\u001b[0m\u001b[0m\n\u001b[1;32m    188\u001b[0m             \u001b[0mconfig\u001b[0m \u001b[0;34m=\u001b[0m \u001b[0mself\u001b[0m\u001b[0;34m.\u001b[0m\u001b[0moptim_configs\u001b[0m\u001b[0;34m[\u001b[0m\u001b[0mp\u001b[0m\u001b[0;34m]\u001b[0m\u001b[0;34m\u001b[0m\u001b[0;34m\u001b[0m\u001b[0m\n\u001b[0;32m--> 189\u001b[0;31m             \u001b[0mnext_w\u001b[0m\u001b[0;34m,\u001b[0m \u001b[0mnext_config\u001b[0m \u001b[0;34m=\u001b[0m \u001b[0mself\u001b[0m\u001b[0;34m.\u001b[0m\u001b[0mupdate_rule\u001b[0m\u001b[0;34m(\u001b[0m\u001b[0mw\u001b[0m\u001b[0;34m,\u001b[0m \u001b[0mdw\u001b[0m\u001b[0;34m,\u001b[0m \u001b[0mconfig\u001b[0m\u001b[0;34m)\u001b[0m\u001b[0;34m\u001b[0m\u001b[0;34m\u001b[0m\u001b[0m\n\u001b[0m\u001b[1;32m    190\u001b[0m             \u001b[0mself\u001b[0m\u001b[0;34m.\u001b[0m\u001b[0mmodel\u001b[0m\u001b[0;34m.\u001b[0m\u001b[0mparams\u001b[0m\u001b[0;34m[\u001b[0m\u001b[0mp\u001b[0m\u001b[0;34m]\u001b[0m \u001b[0;34m=\u001b[0m \u001b[0mnext_w\u001b[0m\u001b[0;34m\u001b[0m\u001b[0;34m\u001b[0m\u001b[0m\n\u001b[1;32m    191\u001b[0m             \u001b[0mself\u001b[0m\u001b[0;34m.\u001b[0m\u001b[0moptim_configs\u001b[0m\u001b[0;34m[\u001b[0m\u001b[0mp\u001b[0m\u001b[0;34m]\u001b[0m \u001b[0;34m=\u001b[0m \u001b[0mnext_config\u001b[0m\u001b[0;34m\u001b[0m\u001b[0;34m\u001b[0m\u001b[0m\n",
      "\u001b[0;32m~/Coursera/cs231n/HW2/HW2/cs231n/optim.py\u001b[0m in \u001b[0;36mrmsprop\u001b[0;34m(w, dw, config)\u001b[0m\n\u001b[1;32m     93\u001b[0m     \u001b[0mconfig\u001b[0m\u001b[0;34m.\u001b[0m\u001b[0msetdefault\u001b[0m\u001b[0;34m(\u001b[0m\u001b[0;34m'decay_rate'\u001b[0m\u001b[0;34m,\u001b[0m \u001b[0;36m0.99\u001b[0m\u001b[0;34m)\u001b[0m\u001b[0;34m\u001b[0m\u001b[0;34m\u001b[0m\u001b[0m\n\u001b[1;32m     94\u001b[0m     \u001b[0mconfig\u001b[0m\u001b[0;34m.\u001b[0m\u001b[0msetdefault\u001b[0m\u001b[0;34m(\u001b[0m\u001b[0;34m'epsilon'\u001b[0m\u001b[0;34m,\u001b[0m \u001b[0;36m1e-8\u001b[0m\u001b[0;34m)\u001b[0m\u001b[0;34m\u001b[0m\u001b[0;34m\u001b[0m\u001b[0m\n\u001b[0;32m---> 95\u001b[0;31m     \u001b[0mconfig\u001b[0m\u001b[0;34m.\u001b[0m\u001b[0msetdefault\u001b[0m\u001b[0;34m(\u001b[0m\u001b[0;34m'cache'\u001b[0m\u001b[0;34m,\u001b[0m \u001b[0mnp\u001b[0m\u001b[0;34m.\u001b[0m\u001b[0mzeros_like\u001b[0m\u001b[0;34m(\u001b[0m\u001b[0mw\u001b[0m\u001b[0;34m)\u001b[0m\u001b[0;34m)\u001b[0m\u001b[0;34m\u001b[0m\u001b[0;34m\u001b[0m\u001b[0m\n\u001b[0m\u001b[1;32m     96\u001b[0m \u001b[0;34m\u001b[0m\u001b[0m\n\u001b[1;32m     97\u001b[0m     \u001b[0mnext_w\u001b[0m \u001b[0;34m=\u001b[0m \u001b[0;32mNone\u001b[0m\u001b[0;34m\u001b[0m\u001b[0;34m\u001b[0m\u001b[0m\n",
      "\u001b[0;32m~/anaconda3/lib/python3.7/site-packages/numpy/core/numeric.py\u001b[0m in \u001b[0;36mzeros_like\u001b[0;34m(a, dtype, order, subok)\u001b[0m\n\u001b[1;32m    150\u001b[0m     \u001b[0;31m# needed instead of a 0 to get same result as zeros for for string dtypes\u001b[0m\u001b[0;34m\u001b[0m\u001b[0;34m\u001b[0m\u001b[0;34m\u001b[0m\u001b[0m\n\u001b[1;32m    151\u001b[0m     \u001b[0mz\u001b[0m \u001b[0;34m=\u001b[0m \u001b[0mzeros\u001b[0m\u001b[0;34m(\u001b[0m\u001b[0;36m1\u001b[0m\u001b[0;34m,\u001b[0m \u001b[0mdtype\u001b[0m\u001b[0;34m=\u001b[0m\u001b[0mres\u001b[0m\u001b[0;34m.\u001b[0m\u001b[0mdtype\u001b[0m\u001b[0;34m)\u001b[0m\u001b[0;34m\u001b[0m\u001b[0;34m\u001b[0m\u001b[0m\n\u001b[0;32m--> 152\u001b[0;31m     \u001b[0mmultiarray\u001b[0m\u001b[0;34m.\u001b[0m\u001b[0mcopyto\u001b[0m\u001b[0;34m(\u001b[0m\u001b[0mres\u001b[0m\u001b[0;34m,\u001b[0m \u001b[0mz\u001b[0m\u001b[0;34m,\u001b[0m \u001b[0mcasting\u001b[0m\u001b[0;34m=\u001b[0m\u001b[0;34m'unsafe'\u001b[0m\u001b[0;34m)\u001b[0m\u001b[0;34m\u001b[0m\u001b[0;34m\u001b[0m\u001b[0m\n\u001b[0m\u001b[1;32m    153\u001b[0m     \u001b[0;32mreturn\u001b[0m \u001b[0mres\u001b[0m\u001b[0;34m\u001b[0m\u001b[0;34m\u001b[0m\u001b[0m\n\u001b[1;32m    154\u001b[0m \u001b[0;34m\u001b[0m\u001b[0m\n",
      "\u001b[0;31mKeyboardInterrupt\u001b[0m: "
     ]
    }
   ],
   "source": [
    "learning_rates = {'rmsprop': 1e-4, 'adam': 1e-3}\n",
    "for update_rule in ['adam', 'rmsprop']:\n",
    "  print('running with ', update_rule)\n",
    "  model = FullyConnectedNet([1600, 800, 400, 200, 200, 100, 100], weight_scale=5e-2)\n",
    "\n",
    "  solver = Solver(model, data,\n",
    "                  num_epochs=5, batch_size=100,\n",
    "                  update_rule=update_rule,\n",
    "                  optim_config={\n",
    "                    'learning_rate': learning_rates[update_rule],\n",
    "                      'weight_decay':0.95\n",
    "                  },\n",
    "                  verbose=True)\n",
    "  solvers[update_rule] = solver\n",
    "  solver.train()\n",
    "  print()\n",
    "\n",
    "plt.subplot(3, 1, 1)\n",
    "plt.title('Training loss')\n",
    "plt.xlabel('Iteration')\n",
    "\n",
    "plt.subplot(3, 1, 2)\n",
    "plt.title('Training accuracy')\n",
    "plt.xlabel('Epoch')\n",
    "\n",
    "plt.subplot(3, 1, 3)\n",
    "plt.title('Validation accuracy')\n",
    "plt.xlabel('Epoch')\n",
    "\n",
    "for update_rule, solver in list(solvers.items()):\n",
    "  plt.subplot(3, 1, 1)\n",
    "  plt.plot(solver.loss_history, 'o', label=update_rule)\n",
    "  \n",
    "  plt.subplot(3, 1, 2)\n",
    "  plt.plot(solver.train_acc_history, '-o', label=update_rule)\n",
    "\n",
    "  plt.subplot(3, 1, 3)\n",
    "  plt.plot(solver.val_acc_history, '-o', label=update_rule)\n",
    "  \n",
    "for i in [1, 2, 3]:\n",
    "  plt.subplot(3, 1, i)\n",
    "  plt.legend(loc='upper center', ncol=4)\n",
    "plt.gcf().set_size_inches(15, 15)\n",
    "plt.show()"
   ]
  },
  {
   "cell_type": "markdown",
   "metadata": {},
   "source": [
    "## Inline Question 3:\n",
    "\n",
    "AdaGrad, like Adam, is a per-parameter optimization method that uses the following update rule:\n",
    "\n",
    "```\n",
    "cache += dw**2\n",
    "w += - learning_rate * dw / (np.sqrt(cache) + eps)\n",
    "```\n",
    "\n",
    "John notices that when he was training a network with AdaGrad that the updates became very small, and that his network was learning slowly. Using your knowledge of the AdaGrad update rule, why do you think the updates would become very small? Would Adam have the same issue?\n"
   ]
  },
  {
   "cell_type": "markdown",
   "metadata": {},
   "source": [
    "## Answer: \n"
   ]
  },
  {
   "cell_type": "markdown",
   "metadata": {},
   "source": [
    "# Train a good model!\n",
    "Train the best fully-connected model that you can on CIFAR-10, storing your best model in the `best_model` variable. We require you to get at least 50% accuracy on the validation set using a fully-connected net.\n",
    "\n",
    "If you are careful it should be possible to get accuracies above 55%, but we don't require it for this part and won't assign extra credit for doing so. Later in the assignment we will ask you to train the best convolutional network that you can on CIFAR-10, and we would prefer that you spend your effort working on convolutional nets rather than fully-connected nets.\n",
    "\n",
    "You might find it useful to complete the `BatchNormalization.ipynb` and `Dropout.ipynb` notebooks before completing this part, since those techniques can help you train powerful models."
   ]
  },
  {
   "cell_type": "code",
   "execution_count": 209,
   "metadata": {
    "collapsed": true,
    "scrolled": false
   },
   "outputs": [],
   "source": [
    "best_model = model\n",
    "################################################################################\n",
    "# TODO: Train the best FullyConnectedNet that you can on CIFAR-10. You might   #\n",
    "# find batch/layer normalization and dropout useful. Store your best model in  #\n",
    "# the best_model variable.                                                     #\n",
    "################################################################################\n",
    "pass\n",
    "################################################################################\n",
    "#                              END OF YOUR CODE                                #\n",
    "################################################################################"
   ]
  },
  {
   "cell_type": "markdown",
   "metadata": {},
   "source": [
    "# Test your model!\n",
    "Run your best model on the validation and test sets. You should achieve above 50% accuracy on the validation set."
   ]
  },
  {
   "cell_type": "code",
   "execution_count": 210,
   "metadata": {},
   "outputs": [
    {
     "name": "stdout",
     "output_type": "stream",
     "text": [
      "Validation set accuracy:  0.292\n",
      "Test set accuracy:  0.309\n"
     ]
    }
   ],
   "source": [
    "y_test_pred = np.argmax(best_model.loss(data['X_test']), axis=1)\n",
    "y_val_pred = np.argmax(best_model.loss(data['X_val']), axis=1)\n",
    "print('Validation set accuracy: ', (y_val_pred == data['y_val']).mean())\n",
    "print('Test set accuracy: ', (y_test_pred == data['y_test']).mean())"
   ]
  },
  {
   "cell_type": "code",
   "execution_count": null,
   "metadata": {
    "collapsed": true
   },
   "outputs": [],
   "source": []
  }
 ],
 "metadata": {
  "kernelspec": {
   "display_name": "Python 3",
   "language": "python",
   "name": "python3"
  },
  "language_info": {
   "codemirror_mode": {
    "name": "ipython",
    "version": 3
   },
   "file_extension": ".py",
   "mimetype": "text/x-python",
   "name": "python",
   "nbconvert_exporter": "python",
   "pygments_lexer": "ipython3",
   "version": "3.7.9"
  }
 },
 "nbformat": 4,
 "nbformat_minor": 2
}
