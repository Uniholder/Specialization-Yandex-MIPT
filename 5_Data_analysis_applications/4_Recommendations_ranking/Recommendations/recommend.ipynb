{
 "cells": [
  {
   "cell_type": "code",
   "execution_count": 1,
   "metadata": {},
   "outputs": [],
   "source": [
    "import pandas as pd"
   ]
  },
  {
   "cell_type": "code",
   "execution_count": 283,
   "metadata": {},
   "outputs": [
    {
     "data": {
      "text/plain": [
       "'1.1.3'"
      ]
     },
     "execution_count": 283,
     "metadata": {},
     "output_type": "execute_result"
    }
   ],
   "source": [
    "pd.__version__"
   ]
  },
  {
   "cell_type": "markdown",
   "metadata": {},
   "source": [
    "Небольшой интернет-магазин попросил вас добавить ранжирование товаров в блок \"Смотрели ранее\" - в нем теперь надо показывать не последние просмотренные пользователем товары, а те товары из просмотренных, которые он наиболее вероятно купит. Качество вашего решения будет оцениваться по количеству покупок в сравнении с прошлым решением в ходе А/В теста, т.к. по доходу от продаж статзначимость будет достигаться дольше из-за разброса цен. Таким образом, ничего заранее не зная про корреляцию оффлайновых и онлайновых метрик качества, в начале проекта вы можете лишь постараться оптимизировать recall@k и precision@k.\n",
    "\n",
    "Это задание посвящено построению простых бейзлайнов для этой задачи: ранжирование просмотренных товаров по частоте просмотров и по частоте покупок. Эти бейзлайны, с одной стороны, могут помочь вам грубо оценить возможный эффект от ранжирования товаров в блоке - например, чтобы вписать какие-то числа в коммерческое предложение заказчику, а с другой стороны, могут оказаться самым хорошим вариантом, если данных очень мало (недостаточно для обучения даже простых моделей)."
   ]
  },
  {
   "cell_type": "markdown",
   "metadata": {},
   "source": [
    "# Входные данные\n",
    "\n",
    "Вам дается две выборки с пользовательскими сессиями - id-шниками просмотренных и id-шниками купленных товаров. Одна выборка будет использоваться для обучения (оценки популярностей товаров), а другая - для теста.\n",
    "\n",
    "В файлах записаны сессии по одной в каждой строке. Формат сессии: id просмотренных товаров через , затем идёт ; после чего следуют id купленных товаров (если такие имеются), разделённые запятой. Например, 1,2,3,4; или 1,2,3,4;5,6.\n",
    "\n",
    "Гарантируется, что среди id купленных товаров все различные."
   ]
  },
  {
   "cell_type": "markdown",
   "metadata": {},
   "source": [
    "Важно:\n",
    "\n",
    "- Сессии, в которых пользователь ничего не купил, исключаем из оценки качества.\n",
    "- Если товар не встречался в обучающей выборке, его популярность равна 0.\n",
    "- Рекомендуем разные товары. И их число должно быть не больше, чем количество различных просмотренных пользователем товаров.\n",
    "- Рекомендаций всегда не больше, чем минимум из двух чисел: количество просмотренных пользователем товаров и k в recall@k / precision@k."
   ]
  },
  {
   "cell_type": "code",
   "execution_count": 641,
   "metadata": {},
   "outputs": [
    {
     "data": {
      "text/html": [
       "<div>\n",
       "<style scoped>\n",
       "    .dataframe tbody tr th:only-of-type {\n",
       "        vertical-align: middle;\n",
       "    }\n",
       "\n",
       "    .dataframe tbody tr th {\n",
       "        vertical-align: top;\n",
       "    }\n",
       "\n",
       "    .dataframe thead th {\n",
       "        text-align: right;\n",
       "    }\n",
       "</style>\n",
       "<table border=\"1\" class=\"dataframe\">\n",
       "  <thead>\n",
       "    <tr style=\"text-align: right;\">\n",
       "      <th></th>\n",
       "      <th>view_id</th>\n",
       "      <th>buy_id</th>\n",
       "    </tr>\n",
       "  </thead>\n",
       "  <tbody>\n",
       "    <tr>\n",
       "      <th>0</th>\n",
       "      <td>0,1,2,3,4,5</td>\n",
       "      <td>NaN</td>\n",
       "    </tr>\n",
       "    <tr>\n",
       "      <th>1</th>\n",
       "      <td>9,10,11,9,11,12,9,11</td>\n",
       "      <td>NaN</td>\n",
       "    </tr>\n",
       "    <tr>\n",
       "      <th>2</th>\n",
       "      <td>16,17,18,19,20,21</td>\n",
       "      <td>NaN</td>\n",
       "    </tr>\n",
       "    <tr>\n",
       "      <th>3</th>\n",
       "      <td>24,25,26,27,24</td>\n",
       "      <td>NaN</td>\n",
       "    </tr>\n",
       "    <tr>\n",
       "      <th>4</th>\n",
       "      <td>34,35,36,34,37,35,36,37,38,39,38,39</td>\n",
       "      <td>NaN</td>\n",
       "    </tr>\n",
       "    <tr>\n",
       "      <th>...</th>\n",
       "      <td>...</td>\n",
       "      <td>...</td>\n",
       "    </tr>\n",
       "    <tr>\n",
       "      <th>49995</th>\n",
       "      <td>32291,60520,32291,38220</td>\n",
       "      <td>32291</td>\n",
       "    </tr>\n",
       "    <tr>\n",
       "      <th>49996</th>\n",
       "      <td>60479,28288,102804,102805</td>\n",
       "      <td>NaN</td>\n",
       "    </tr>\n",
       "    <tr>\n",
       "      <th>49997</th>\n",
       "      <td>980,20025,980,20025,980,20025,980,20025</td>\n",
       "      <td>NaN</td>\n",
       "    </tr>\n",
       "    <tr>\n",
       "      <th>49998</th>\n",
       "      <td>8844,42500,8838,8172,29237,352,8847,6681,8827,...</td>\n",
       "      <td>NaN</td>\n",
       "    </tr>\n",
       "    <tr>\n",
       "      <th>49999</th>\n",
       "      <td>39047,102806,27774</td>\n",
       "      <td>NaN</td>\n",
       "    </tr>\n",
       "  </tbody>\n",
       "</table>\n",
       "<p>50000 rows × 2 columns</p>\n",
       "</div>"
      ],
      "text/plain": [
       "                                                 view_id buy_id\n",
       "0                                            0,1,2,3,4,5    NaN\n",
       "1                                   9,10,11,9,11,12,9,11    NaN\n",
       "2                                      16,17,18,19,20,21    NaN\n",
       "3                                         24,25,26,27,24    NaN\n",
       "4                    34,35,36,34,37,35,36,37,38,39,38,39    NaN\n",
       "...                                                  ...    ...\n",
       "49995                            32291,60520,32291,38220  32291\n",
       "49996                          60479,28288,102804,102805    NaN\n",
       "49997            980,20025,980,20025,980,20025,980,20025    NaN\n",
       "49998  8844,42500,8838,8172,29237,352,8847,6681,8827,...    NaN\n",
       "49999                                 39047,102806,27774    NaN\n",
       "\n",
       "[50000 rows x 2 columns]"
      ]
     },
     "execution_count": 641,
     "metadata": {},
     "output_type": "execute_result"
    }
   ],
   "source": [
    "raw_train = pd.read_table('coursera_sessions_train.txt', names=['view_id', 'buy_id'], delimiter=';')\n",
    "raw_train"
   ]
  },
  {
   "cell_type": "code",
   "execution_count": 642,
   "metadata": {},
   "outputs": [
    {
     "data": {
      "text/html": [
       "<div>\n",
       "<style scoped>\n",
       "    .dataframe tbody tr th:only-of-type {\n",
       "        vertical-align: middle;\n",
       "    }\n",
       "\n",
       "    .dataframe tbody tr th {\n",
       "        vertical-align: top;\n",
       "    }\n",
       "\n",
       "    .dataframe thead th {\n",
       "        text-align: right;\n",
       "    }\n",
       "</style>\n",
       "<table border=\"1\" class=\"dataframe\">\n",
       "  <thead>\n",
       "    <tr style=\"text-align: right;\">\n",
       "      <th></th>\n",
       "      <th>view_id</th>\n",
       "      <th>buy_id</th>\n",
       "    </tr>\n",
       "  </thead>\n",
       "  <tbody>\n",
       "    <tr>\n",
       "      <th>0</th>\n",
       "      <td>6,7,8</td>\n",
       "      <td>NaN</td>\n",
       "    </tr>\n",
       "    <tr>\n",
       "      <th>1</th>\n",
       "      <td>13,14,15</td>\n",
       "      <td>NaN</td>\n",
       "    </tr>\n",
       "    <tr>\n",
       "      <th>2</th>\n",
       "      <td>22,23</td>\n",
       "      <td>NaN</td>\n",
       "    </tr>\n",
       "    <tr>\n",
       "      <th>3</th>\n",
       "      <td>28,29,30,31,32,33</td>\n",
       "      <td>NaN</td>\n",
       "    </tr>\n",
       "    <tr>\n",
       "      <th>4</th>\n",
       "      <td>40,41</td>\n",
       "      <td>NaN</td>\n",
       "    </tr>\n",
       "    <tr>\n",
       "      <th>...</th>\n",
       "      <td>...</td>\n",
       "      <td>...</td>\n",
       "    </tr>\n",
       "    <tr>\n",
       "      <th>49995</th>\n",
       "      <td>37637,18363,18131</td>\n",
       "      <td>NaN</td>\n",
       "    </tr>\n",
       "    <tr>\n",
       "      <th>49996</th>\n",
       "      <td>35402,10150,35402,10150,35402,88962,49526,3540...</td>\n",
       "      <td>NaN</td>\n",
       "    </tr>\n",
       "    <tr>\n",
       "      <th>49997</th>\n",
       "      <td>161,1345,161,1345,161,1345,161,30853,161</td>\n",
       "      <td>NaN</td>\n",
       "    </tr>\n",
       "    <tr>\n",
       "      <th>49998</th>\n",
       "      <td>26236,16572,26236</td>\n",
       "      <td>NaN</td>\n",
       "    </tr>\n",
       "    <tr>\n",
       "      <th>49999</th>\n",
       "      <td>80626,102807,102808,102809</td>\n",
       "      <td>NaN</td>\n",
       "    </tr>\n",
       "  </tbody>\n",
       "</table>\n",
       "<p>50000 rows × 2 columns</p>\n",
       "</div>"
      ],
      "text/plain": [
       "                                                 view_id buy_id\n",
       "0                                                  6,7,8    NaN\n",
       "1                                               13,14,15    NaN\n",
       "2                                                  22,23    NaN\n",
       "3                                      28,29,30,31,32,33    NaN\n",
       "4                                                  40,41    NaN\n",
       "...                                                  ...    ...\n",
       "49995                                  37637,18363,18131    NaN\n",
       "49996  35402,10150,35402,10150,35402,88962,49526,3540...    NaN\n",
       "49997           161,1345,161,1345,161,1345,161,30853,161    NaN\n",
       "49998                                  26236,16572,26236    NaN\n",
       "49999                         80626,102807,102808,102809    NaN\n",
       "\n",
       "[50000 rows x 2 columns]"
      ]
     },
     "execution_count": 642,
     "metadata": {},
     "output_type": "execute_result"
    }
   ],
   "source": [
    "raw_test = pd.read_table('coursera_sessions_test.txt', names=['view_id', 'buy_id'], delimiter=';')\n",
    "raw_test"
   ]
  },
  {
   "cell_type": "code",
   "execution_count": 643,
   "metadata": {},
   "outputs": [
    {
     "data": {
      "text/html": [
       "<div>\n",
       "<style scoped>\n",
       "    .dataframe tbody tr th:only-of-type {\n",
       "        vertical-align: middle;\n",
       "    }\n",
       "\n",
       "    .dataframe tbody tr th {\n",
       "        vertical-align: top;\n",
       "    }\n",
       "\n",
       "    .dataframe thead th {\n",
       "        text-align: right;\n",
       "    }\n",
       "</style>\n",
       "<table border=\"1\" class=\"dataframe\">\n",
       "  <thead>\n",
       "    <tr style=\"text-align: right;\">\n",
       "      <th></th>\n",
       "      <th>view_id</th>\n",
       "      <th>buy_id</th>\n",
       "    </tr>\n",
       "  </thead>\n",
       "  <tbody>\n",
       "    <tr>\n",
       "      <th>7</th>\n",
       "      <td>59,60,61,62,60,63,64,65,66,61,67,68,67</td>\n",
       "      <td>67,60,63</td>\n",
       "    </tr>\n",
       "    <tr>\n",
       "      <th>10</th>\n",
       "      <td>84,85,86,87,88,89,84,90,91,92,93,86</td>\n",
       "      <td>86</td>\n",
       "    </tr>\n",
       "    <tr>\n",
       "      <th>19</th>\n",
       "      <td>138,198,199,127</td>\n",
       "      <td>199</td>\n",
       "    </tr>\n",
       "    <tr>\n",
       "      <th>30</th>\n",
       "      <td>303,304,305,306,307,308,309,310,311,312</td>\n",
       "      <td>303</td>\n",
       "    </tr>\n",
       "    <tr>\n",
       "      <th>33</th>\n",
       "      <td>352,353,352</td>\n",
       "      <td>352</td>\n",
       "    </tr>\n",
       "    <tr>\n",
       "      <th>...</th>\n",
       "      <td>...</td>\n",
       "      <td>...</td>\n",
       "    </tr>\n",
       "    <tr>\n",
       "      <th>49943</th>\n",
       "      <td>41795,4337,4335,4337,4335,24087,4335,41795,240...</td>\n",
       "      <td>4335</td>\n",
       "    </tr>\n",
       "    <tr>\n",
       "      <th>49964</th>\n",
       "      <td>6366,15269,6366,5895,6366,5895</td>\n",
       "      <td>5895</td>\n",
       "    </tr>\n",
       "    <tr>\n",
       "      <th>49981</th>\n",
       "      <td>64552,25931,2807</td>\n",
       "      <td>25935,2807</td>\n",
       "    </tr>\n",
       "    <tr>\n",
       "      <th>49991</th>\n",
       "      <td>91921,20251,5063,21742,5063,20251,34927</td>\n",
       "      <td>91921</td>\n",
       "    </tr>\n",
       "    <tr>\n",
       "      <th>49995</th>\n",
       "      <td>32291,60520,32291,38220</td>\n",
       "      <td>32291</td>\n",
       "    </tr>\n",
       "  </tbody>\n",
       "</table>\n",
       "<p>3608 rows × 2 columns</p>\n",
       "</div>"
      ],
      "text/plain": [
       "                                                 view_id      buy_id\n",
       "7                 59,60,61,62,60,63,64,65,66,61,67,68,67    67,60,63\n",
       "10                   84,85,86,87,88,89,84,90,91,92,93,86          86\n",
       "19                                       138,198,199,127         199\n",
       "30               303,304,305,306,307,308,309,310,311,312         303\n",
       "33                                           352,353,352         352\n",
       "...                                                  ...         ...\n",
       "49943  41795,4337,4335,4337,4335,24087,4335,41795,240...        4335\n",
       "49964                     6366,15269,6366,5895,6366,5895        5895\n",
       "49981                                   64552,25931,2807  25935,2807\n",
       "49991            91921,20251,5063,21742,5063,20251,34927       91921\n",
       "49995                            32291,60520,32291,38220       32291\n",
       "\n",
       "[3608 rows x 2 columns]"
      ]
     },
     "execution_count": 643,
     "metadata": {},
     "output_type": "execute_result"
    }
   ],
   "source": [
    "data_train = raw_train.dropna(axis=0)\n",
    "data_train"
   ]
  },
  {
   "cell_type": "code",
   "execution_count": 644,
   "metadata": {},
   "outputs": [
    {
     "data": {
      "text/html": [
       "<div>\n",
       "<style scoped>\n",
       "    .dataframe tbody tr th:only-of-type {\n",
       "        vertical-align: middle;\n",
       "    }\n",
       "\n",
       "    .dataframe tbody tr th {\n",
       "        vertical-align: top;\n",
       "    }\n",
       "\n",
       "    .dataframe thead th {\n",
       "        text-align: right;\n",
       "    }\n",
       "</style>\n",
       "<table border=\"1\" class=\"dataframe\">\n",
       "  <thead>\n",
       "    <tr style=\"text-align: right;\">\n",
       "      <th></th>\n",
       "      <th>view_id</th>\n",
       "      <th>buy_id</th>\n",
       "    </tr>\n",
       "  </thead>\n",
       "  <tbody>\n",
       "    <tr>\n",
       "      <th>7</th>\n",
       "      <td>63,68,69,70,66,61,59,61,66,68</td>\n",
       "      <td>66,63</td>\n",
       "    </tr>\n",
       "    <tr>\n",
       "      <th>14</th>\n",
       "      <td>158,159,160,159,161,162</td>\n",
       "      <td>162</td>\n",
       "    </tr>\n",
       "    <tr>\n",
       "      <th>19</th>\n",
       "      <td>200,201,202,203,204</td>\n",
       "      <td>201,205</td>\n",
       "    </tr>\n",
       "    <tr>\n",
       "      <th>34</th>\n",
       "      <td>371,372,371</td>\n",
       "      <td>371,373</td>\n",
       "    </tr>\n",
       "    <tr>\n",
       "      <th>40</th>\n",
       "      <td>422</td>\n",
       "      <td>422</td>\n",
       "    </tr>\n",
       "    <tr>\n",
       "      <th>...</th>\n",
       "      <td>...</td>\n",
       "      <td>...</td>\n",
       "    </tr>\n",
       "    <tr>\n",
       "      <th>49943</th>\n",
       "      <td>2859,2854,88887,96997,4439,28645,99975,34601,1...</td>\n",
       "      <td>24907,102691,18496,4333</td>\n",
       "    </tr>\n",
       "    <tr>\n",
       "      <th>49944</th>\n",
       "      <td>77655,23249,1306,47450,26157,58205,47450,58205...</td>\n",
       "      <td>58205,3111,69482</td>\n",
       "    </tr>\n",
       "    <tr>\n",
       "      <th>49945</th>\n",
       "      <td>60538,44430,66252,44430,60538,66251</td>\n",
       "      <td>66252,44430</td>\n",
       "    </tr>\n",
       "    <tr>\n",
       "      <th>49946</th>\n",
       "      <td>49815,76363</td>\n",
       "      <td>49815</td>\n",
       "    </tr>\n",
       "    <tr>\n",
       "      <th>49985</th>\n",
       "      <td>21841,17711,21841,17711,21841,17711,21841,1771...</td>\n",
       "      <td>21841</td>\n",
       "    </tr>\n",
       "  </tbody>\n",
       "</table>\n",
       "<p>3665 rows × 2 columns</p>\n",
       "</div>"
      ],
      "text/plain": [
       "                                                 view_id  \\\n",
       "7                          63,68,69,70,66,61,59,61,66,68   \n",
       "14                               158,159,160,159,161,162   \n",
       "19                                   200,201,202,203,204   \n",
       "34                                           371,372,371   \n",
       "40                                                   422   \n",
       "...                                                  ...   \n",
       "49943  2859,2854,88887,96997,4439,28645,99975,34601,1...   \n",
       "49944  77655,23249,1306,47450,26157,58205,47450,58205...   \n",
       "49945                60538,44430,66252,44430,60538,66251   \n",
       "49946                                        49815,76363   \n",
       "49985  21841,17711,21841,17711,21841,17711,21841,1771...   \n",
       "\n",
       "                        buy_id  \n",
       "7                        66,63  \n",
       "14                         162  \n",
       "19                     201,205  \n",
       "34                     371,373  \n",
       "40                         422  \n",
       "...                        ...  \n",
       "49943  24907,102691,18496,4333  \n",
       "49944         58205,3111,69482  \n",
       "49945              66252,44430  \n",
       "49946                    49815  \n",
       "49985                    21841  \n",
       "\n",
       "[3665 rows x 2 columns]"
      ]
     },
     "execution_count": 644,
     "metadata": {},
     "output_type": "execute_result"
    }
   ],
   "source": [
    "data_test = raw_test.dropna(axis=0)\n",
    "data_test"
   ]
  },
  {
   "cell_type": "markdown",
   "metadata": {},
   "source": [
    "# Подсчёт популярности товаров"
   ]
  },
  {
   "cell_type": "markdown",
   "metadata": {},
   "source": [
    "Превращаем строки в списки int'ов"
   ]
  },
  {
   "cell_type": "code",
   "execution_count": 645,
   "metadata": {},
   "outputs": [
    {
     "data": {
      "text/plain": [
       "0                                       [0, 1, 2, 3, 4, 5]\n",
       "1                            [9, 10, 11, 9, 11, 12, 9, 11]\n",
       "2                                 [16, 17, 18, 19, 20, 21]\n",
       "3                                     [24, 25, 26, 27, 24]\n",
       "4         [34, 35, 36, 34, 37, 35, 36, 37, 38, 39, 38, 39]\n",
       "                               ...                        \n",
       "49995                         [32291, 60520, 32291, 38220]\n",
       "49996                       [60479, 28288, 102804, 102805]\n",
       "49997     [980, 20025, 980, 20025, 980, 20025, 980, 20025]\n",
       "49998    [8844, 42500, 8838, 8172, 29237, 352, 8847, 66...\n",
       "49999                               [39047, 102806, 27774]\n",
       "Name: view_id, Length: 50000, dtype: object"
      ]
     },
     "execution_count": 645,
     "metadata": {},
     "output_type": "execute_result"
    }
   ],
   "source": [
    "view_train = raw_train.view_id.apply(lambda x: list(map(int, x.split(','))))\n",
    "view_train"
   ]
  },
  {
   "cell_type": "code",
   "execution_count": 646,
   "metadata": {},
   "outputs": [
    {
     "data": {
      "text/plain": [
       "7         [67, 60, 63]\n",
       "10                [86]\n",
       "19               [199]\n",
       "30               [303]\n",
       "33               [352]\n",
       "             ...      \n",
       "49943           [4335]\n",
       "49964           [5895]\n",
       "49981    [25935, 2807]\n",
       "49991          [91921]\n",
       "49995          [32291]\n",
       "Name: buy_id, Length: 3608, dtype: object"
      ]
     },
     "execution_count": 646,
     "metadata": {},
     "output_type": "execute_result"
    }
   ],
   "source": [
    "buy_train = data_train.buy_id.apply(lambda x: list(map(int, x.split(','))))\n",
    "buy_train"
   ]
  },
  {
   "cell_type": "code",
   "execution_count": 647,
   "metadata": {},
   "outputs": [
    {
     "data": {
      "text/plain": [
       "0                                                [6, 7, 8]\n",
       "1                                             [13, 14, 15]\n",
       "2                                                 [22, 23]\n",
       "3                                 [28, 29, 30, 31, 32, 33]\n",
       "4                                                 [40, 41]\n",
       "                               ...                        \n",
       "49995                                [37637, 18363, 18131]\n",
       "49996    [35402, 10150, 35402, 10150, 35402, 88962, 495...\n",
       "49997    [161, 1345, 161, 1345, 161, 1345, 161, 30853, ...\n",
       "49998                                [26236, 16572, 26236]\n",
       "49999                      [80626, 102807, 102808, 102809]\n",
       "Name: view_id, Length: 50000, dtype: object"
      ]
     },
     "execution_count": 647,
     "metadata": {},
     "output_type": "execute_result"
    }
   ],
   "source": [
    "view_test = raw_test.view_id.apply(lambda x: list(map(int, x.split(','))))\n",
    "view_test"
   ]
  },
  {
   "cell_type": "code",
   "execution_count": 648,
   "metadata": {},
   "outputs": [
    {
     "data": {
      "text/plain": [
       "7                            [66, 63]\n",
       "14                              [162]\n",
       "19                         [201, 205]\n",
       "34                         [371, 373]\n",
       "40                              [422]\n",
       "                     ...             \n",
       "49943    [24907, 102691, 18496, 4333]\n",
       "49944            [58205, 3111, 69482]\n",
       "49945                  [66252, 44430]\n",
       "49946                         [49815]\n",
       "49985                         [21841]\n",
       "Name: buy_id, Length: 3665, dtype: object"
      ]
     },
     "execution_count": 648,
     "metadata": {},
     "output_type": "execute_result"
    }
   ],
   "source": [
    "buy_test = data_test.buy_id.apply(lambda x: list(map(int, x.split(','))))\n",
    "buy_test"
   ]
  },
  {
   "cell_type": "markdown",
   "metadata": {},
   "source": [
    "Разворачиваем списки"
   ]
  },
  {
   "cell_type": "code",
   "execution_count": 649,
   "metadata": {},
   "outputs": [
    {
     "data": {
      "text/plain": [
       "0             0\n",
       "0             1\n",
       "0             2\n",
       "0             3\n",
       "0             4\n",
       "          ...  \n",
       "49998      8827\n",
       "49998      8844\n",
       "49999     39047\n",
       "49999    102806\n",
       "49999     27774\n",
       "Name: view_id, Length: 356177, dtype: object"
      ]
     },
     "execution_count": 649,
     "metadata": {},
     "output_type": "execute_result"
    }
   ],
   "source": [
    "view_id_train = view_train.explode()\n",
    "view_id_train"
   ]
  },
  {
   "cell_type": "code",
   "execution_count": 651,
   "metadata": {},
   "outputs": [
    {
     "data": {
      "text/plain": [
       "7           67\n",
       "7           60\n",
       "7           63\n",
       "10          86\n",
       "19         199\n",
       "         ...  \n",
       "49964     5895\n",
       "49981    25935\n",
       "49981     2807\n",
       "49991    91921\n",
       "49995    32291\n",
       "Name: buy_id, Length: 5374, dtype: object"
      ]
     },
     "execution_count": 651,
     "metadata": {},
     "output_type": "execute_result"
    }
   ],
   "source": [
    "buy_id_train = buy_train.explode()\n",
    "buy_id_train"
   ]
  },
  {
   "cell_type": "markdown",
   "metadata": {},
   "source": [
    "Считаем количество просмотров товаров по всем сессиям"
   ]
  },
  {
   "cell_type": "code",
   "execution_count": 652,
   "metadata": {},
   "outputs": [
    {
     "data": {
      "text/plain": [
       "73        677\n",
       "158       641\n",
       "204       396\n",
       "262       387\n",
       "162       318\n",
       "         ... \n",
       "34464       1\n",
       "73826       1\n",
       "73827       1\n",
       "73828       1\n",
       "102806      1\n",
       "Name: view_id, Length: 77064, dtype: int64"
      ]
     },
     "execution_count": 652,
     "metadata": {},
     "output_type": "execute_result"
    }
   ],
   "source": [
    "most_viewed_train = view_id_train.value_counts()\n",
    "most_viewed_train"
   ]
  },
  {
   "cell_type": "markdown",
   "metadata": {},
   "source": [
    "Считаем количество покупок товаров по всем сессиям"
   ]
  },
  {
   "cell_type": "code",
   "execution_count": 653,
   "metadata": {},
   "outputs": [
    {
     "data": {
      "text/plain": [
       "158      14\n",
       "204      12\n",
       "73       11\n",
       "3324     11\n",
       "977      10\n",
       "         ..\n",
       "62509     1\n",
       "5106      1\n",
       "5105      1\n",
       "21485     1\n",
       "49152     1\n",
       "Name: buy_id, Length: 4479, dtype: int64"
      ]
     },
     "execution_count": 653,
     "metadata": {},
     "output_type": "execute_result"
    }
   ],
   "source": [
    "most_bought_train = buy_id_train.value_counts()\n",
    "most_bought_train"
   ]
  },
  {
   "cell_type": "code",
   "execution_count": 654,
   "metadata": {},
   "outputs": [
    {
     "data": {
      "text/plain": [
       "1     3895\n",
       "2      431\n",
       "3       87\n",
       "4       33\n",
       "5       17\n",
       "6        5\n",
       "10       3\n",
       "11       2\n",
       "7        2\n",
       "14       1\n",
       "9        1\n",
       "12       1\n",
       "8        1\n",
       "Name: buy_id, dtype: int64"
      ]
     },
     "execution_count": 654,
     "metadata": {},
     "output_type": "execute_result"
    }
   ],
   "source": [
    "most_bought_train.value_counts()"
   ]
  },
  {
   "cell_type": "markdown",
   "metadata": {},
   "source": [
    "# Рекомендации"
   ]
  },
  {
   "cell_type": "markdown",
   "metadata": {},
   "source": [
    "Формируем рекомендации:\n",
    "- сортировка по справочнику\n",
    "- сортировка по порядку просмотра товаров\n",
    "- убираем повторы"
   ]
  },
  {
   "cell_type": "code",
   "execution_count": 655,
   "metadata": {},
   "outputs": [],
   "source": [
    "def recommend_by(by, vocab):\n",
    "    df = pd.DataFrame(vocab.reindex(by))\n",
    "    df['id'] = range(len(by))\n",
    "    df = df.sort_values(by=[df.columns[0], df.columns[1]], ascending=[False, True])\n",
    "    return list(df.index.unique())"
   ]
  },
  {
   "cell_type": "markdown",
   "metadata": {},
   "source": [
    "## views"
   ]
  },
  {
   "cell_type": "markdown",
   "metadata": {},
   "source": [
    "### train"
   ]
  },
  {
   "cell_type": "markdown",
   "metadata": {},
   "source": [
    "Рекомендации по просмотрам на обучающей выборке"
   ]
  },
  {
   "cell_type": "code",
   "execution_count": 656,
   "metadata": {},
   "outputs": [
    {
     "name": "stdout",
     "output_type": "stream",
     "text": [
      "Wall time: 5.73 s\n"
     ]
    },
    {
     "data": {
      "text/plain": [
       "7                 [63, 64, 60, 61, 65, 66, 67, 68, 59, 62]\n",
       "10                [85, 93, 89, 90, 84, 92, 86, 87, 91, 88]\n",
       "19                                    [127, 138, 198, 199]\n",
       "30       [303, 306, 304, 307, 309, 310, 305, 308, 311, ...\n",
       "33                                              [352, 353]\n",
       "                               ...                        \n",
       "49943    [4335, 4337, 24073, 41795, 57885, 24087, 4344,...\n",
       "49964                                  [5895, 6366, 15269]\n",
       "49981                                 [2807, 25931, 64552]\n",
       "49991                   [5063, 21742, 20251, 91921, 34927]\n",
       "49995                                [32291, 38220, 60520]\n",
       "Name: view_id, Length: 3608, dtype: object"
      ]
     },
     "execution_count": 656,
     "metadata": {},
     "output_type": "execute_result"
    }
   ],
   "source": [
    "%%time\n",
    "recommendations_by_views_train = view_train[data_train.index].apply(recommend_by, args=(most_viewed_train,))\n",
    "recommendations_by_views_train"
   ]
  },
  {
   "cell_type": "code",
   "execution_count": 657,
   "metadata": {},
   "outputs": [
    {
     "data": {
      "text/plain": [
       "7                 [63, 64, 60, 61, 65, 66, 67, 68, 59, 62]\n",
       "10                [85, 93, 89, 90, 84, 92, 86, 87, 91, 88]\n",
       "19                                    [127, 138, 198, 199]\n",
       "30       [303, 306, 304, 307, 309, 310, 305, 308, 311, ...\n",
       "33                                              [352, 353]\n",
       "                               ...                        \n",
       "49943    [4335, 4337, 24073, 41795, 57885, 24087, 4344,...\n",
       "49964                                  [5895, 6366, 15269]\n",
       "49981                                 [2807, 25931, 64552]\n",
       "49991                   [5063, 21742, 20251, 91921, 34927]\n",
       "49995                                [32291, 38220, 60520]\n",
       "Name: recommendations_id, Length: 3608, dtype: object"
      ]
     },
     "execution_count": 657,
     "metadata": {},
     "output_type": "execute_result"
    }
   ],
   "source": [
    "recommendations_by_views_train.rename('recommendations_id', inplace=True)"
   ]
  },
  {
   "cell_type": "markdown",
   "metadata": {},
   "source": [
    "### test"
   ]
  },
  {
   "cell_type": "code",
   "execution_count": 658,
   "metadata": {
    "scrolled": true
   },
   "outputs": [
    {
     "name": "stdout",
     "output_type": "stream",
     "text": [
      "Wall time: 5.87 s\n"
     ]
    },
    {
     "data": {
      "text/plain": [
       "7                             [63, 68, 66, 61, 59, 69, 70]\n",
       "14                               [158, 162, 160, 159, 161]\n",
       "19                               [204, 202, 203, 200, 201]\n",
       "34                                              [371, 372]\n",
       "40                                                   [422]\n",
       "                               ...                        \n",
       "49943    [4335, 4333, 24907, 606, 2854, 4439, 96997, 34...\n",
       "49944    [1262, 16237, 7318, 1261, 1306, 3111, 26157, 4...\n",
       "49945                         [60538, 44430, 66252, 66251]\n",
       "49946                                       [49815, 76363]\n",
       "49985                                [17711, 21841, 22562]\n",
       "Name: view_id, Length: 3665, dtype: object"
      ]
     },
     "execution_count": 658,
     "metadata": {},
     "output_type": "execute_result"
    }
   ],
   "source": [
    "%%time\n",
    "recommendations_by_views_test = view_test[data_test.index].apply(recommend_by, args=(most_viewed_train,))\n",
    "recommendations_by_views_test"
   ]
  },
  {
   "cell_type": "code",
   "execution_count": 659,
   "metadata": {},
   "outputs": [
    {
     "data": {
      "text/plain": [
       "7                             [63, 68, 66, 61, 59, 69, 70]\n",
       "14                               [158, 162, 160, 159, 161]\n",
       "19                               [204, 202, 203, 200, 201]\n",
       "34                                              [371, 372]\n",
       "40                                                   [422]\n",
       "                               ...                        \n",
       "49943    [4335, 4333, 24907, 606, 2854, 4439, 96997, 34...\n",
       "49944    [1262, 16237, 7318, 1261, 1306, 3111, 26157, 4...\n",
       "49945                         [60538, 44430, 66252, 66251]\n",
       "49946                                       [49815, 76363]\n",
       "49985                                [17711, 21841, 22562]\n",
       "Name: recommendations_id, Length: 3665, dtype: object"
      ]
     },
     "execution_count": 659,
     "metadata": {},
     "output_type": "execute_result"
    }
   ],
   "source": [
    "recommendations_by_views_test.rename('recommendations_id', inplace=True)"
   ]
  },
  {
   "cell_type": "markdown",
   "metadata": {},
   "source": [
    "## purchases"
   ]
  },
  {
   "cell_type": "markdown",
   "metadata": {},
   "source": [
    "### train"
   ]
  },
  {
   "cell_type": "code",
   "execution_count": 660,
   "metadata": {},
   "outputs": [
    {
     "name": "stdout",
     "output_type": "stream",
     "text": [
      "Wall time: 5.87 s\n"
     ]
    },
    {
     "data": {
      "text/plain": [
       "7                 [60, 63, 67, 59, 61, 62, 64, 65, 66, 68]\n",
       "10                [86, 85, 93, 84, 87, 88, 89, 90, 91, 92]\n",
       "19                                    [138, 199, 127, 198]\n",
       "30       [303, 304, 305, 306, 307, 308, 309, 310, 311, ...\n",
       "33                                              [352, 353]\n",
       "                               ...                        \n",
       "49943    [4335, 41795, 4337, 24087, 24073, 4344, 57885,...\n",
       "49964                                  [5895, 6366, 15269]\n",
       "49981                                 [2807, 64552, 25931]\n",
       "49991                   [91921, 5063, 20251, 21742, 34927]\n",
       "49995                                [32291, 60520, 38220]\n",
       "Name: view_id, Length: 3608, dtype: object"
      ]
     },
     "execution_count": 660,
     "metadata": {},
     "output_type": "execute_result"
    }
   ],
   "source": [
    "%%time\n",
    "recommendations_by_purchases_train = view_train[data_train.index].apply(recommend_by, args=(most_bought_train,))\n",
    "recommendations_by_purchases_train"
   ]
  },
  {
   "cell_type": "code",
   "execution_count": 661,
   "metadata": {},
   "outputs": [
    {
     "data": {
      "text/plain": [
       "7                 [60, 63, 67, 59, 61, 62, 64, 65, 66, 68]\n",
       "10                [86, 85, 93, 84, 87, 88, 89, 90, 91, 92]\n",
       "19                                    [138, 199, 127, 198]\n",
       "30       [303, 304, 305, 306, 307, 308, 309, 310, 311, ...\n",
       "33                                              [352, 353]\n",
       "                               ...                        \n",
       "49943    [4335, 41795, 4337, 24087, 24073, 4344, 57885,...\n",
       "49964                                  [5895, 6366, 15269]\n",
       "49981                                 [2807, 64552, 25931]\n",
       "49991                   [91921, 5063, 20251, 21742, 34927]\n",
       "49995                                [32291, 60520, 38220]\n",
       "Name: recommendations_id, Length: 3608, dtype: object"
      ]
     },
     "execution_count": 661,
     "metadata": {},
     "output_type": "execute_result"
    }
   ],
   "source": [
    "recommendations_by_purchases_train.rename('recommendations_id', inplace=True)"
   ]
  },
  {
   "cell_type": "markdown",
   "metadata": {},
   "source": [
    "### test"
   ]
  },
  {
   "cell_type": "code",
   "execution_count": 662,
   "metadata": {},
   "outputs": [
    {
     "name": "stdout",
     "output_type": "stream",
     "text": [
      "Wall time: 5.85 s\n"
     ]
    },
    {
     "data": {
      "text/plain": [
       "7                             [63, 68, 69, 70, 66, 61, 59]\n",
       "14                               [158, 162, 160, 159, 161]\n",
       "19                               [204, 202, 200, 201, 203]\n",
       "34                                              [371, 372]\n",
       "40                                                   [422]\n",
       "                               ...                        \n",
       "49943    [4335, 4333, 606, 2859, 2854, 88887, 96997, 44...\n",
       "49944    [1262, 1306, 13520, 77655, 23249, 47450, 26157...\n",
       "49945                         [60538, 44430, 66252, 66251]\n",
       "49946                                       [49815, 76363]\n",
       "49985                                [21841, 17711, 22562]\n",
       "Name: view_id, Length: 3665, dtype: object"
      ]
     },
     "execution_count": 662,
     "metadata": {},
     "output_type": "execute_result"
    }
   ],
   "source": [
    "%%time\n",
    "recommendations_by_purchases_test = view_test[data_test.index].apply(recommend_by, args=(most_bought_train,))\n",
    "recommendations_by_purchases_test"
   ]
  },
  {
   "cell_type": "code",
   "execution_count": 663,
   "metadata": {},
   "outputs": [
    {
     "data": {
      "text/plain": [
       "7                             [63, 68, 69, 70, 66, 61, 59]\n",
       "14                               [158, 162, 160, 159, 161]\n",
       "19                               [204, 202, 200, 201, 203]\n",
       "34                                              [371, 372]\n",
       "40                                                   [422]\n",
       "                               ...                        \n",
       "49943    [4335, 4333, 606, 2859, 2854, 88887, 96997, 44...\n",
       "49944    [1262, 1306, 13520, 77655, 23249, 47450, 26157...\n",
       "49945                         [60538, 44430, 66252, 66251]\n",
       "49946                                       [49815, 76363]\n",
       "49985                                [21841, 17711, 22562]\n",
       "Name: recommendations_id, Length: 3665, dtype: object"
      ]
     },
     "execution_count": 663,
     "metadata": {},
     "output_type": "execute_result"
    }
   ],
   "source": [
    "recommendations_by_purchases_test.rename('recommendations_id', inplace=True)"
   ]
  },
  {
   "cell_type": "markdown",
   "metadata": {},
   "source": [
    "# Метрики"
   ]
  },
  {
   "cell_type": "code",
   "execution_count": 664,
   "metadata": {},
   "outputs": [
    {
     "data": {
      "text/html": [
       "<div>\n",
       "<style scoped>\n",
       "    .dataframe tbody tr th:only-of-type {\n",
       "        vertical-align: middle;\n",
       "    }\n",
       "\n",
       "    .dataframe tbody tr th {\n",
       "        vertical-align: top;\n",
       "    }\n",
       "\n",
       "    .dataframe thead th {\n",
       "        text-align: right;\n",
       "    }\n",
       "</style>\n",
       "<table border=\"1\" class=\"dataframe\">\n",
       "  <thead>\n",
       "    <tr style=\"text-align: right;\">\n",
       "      <th></th>\n",
       "      <th>views_train</th>\n",
       "      <th>views_test</th>\n",
       "      <th>purch_train</th>\n",
       "      <th>purch_test</th>\n",
       "    </tr>\n",
       "  </thead>\n",
       "  <tbody>\n",
       "    <tr>\n",
       "      <th>average_recall_1</th>\n",
       "      <td>NaN</td>\n",
       "      <td>NaN</td>\n",
       "      <td>NaN</td>\n",
       "      <td>NaN</td>\n",
       "    </tr>\n",
       "    <tr>\n",
       "      <th>average_precision_1</th>\n",
       "      <td>NaN</td>\n",
       "      <td>NaN</td>\n",
       "      <td>NaN</td>\n",
       "      <td>NaN</td>\n",
       "    </tr>\n",
       "    <tr>\n",
       "      <th>average_recall_5</th>\n",
       "      <td>NaN</td>\n",
       "      <td>NaN</td>\n",
       "      <td>NaN</td>\n",
       "      <td>NaN</td>\n",
       "    </tr>\n",
       "    <tr>\n",
       "      <th>average_precision_5</th>\n",
       "      <td>NaN</td>\n",
       "      <td>NaN</td>\n",
       "      <td>NaN</td>\n",
       "      <td>NaN</td>\n",
       "    </tr>\n",
       "  </tbody>\n",
       "</table>\n",
       "</div>"
      ],
      "text/plain": [
       "                    views_train views_test purch_train purch_test\n",
       "average_recall_1            NaN        NaN         NaN        NaN\n",
       "average_precision_1         NaN        NaN         NaN        NaN\n",
       "average_recall_5            NaN        NaN         NaN        NaN\n",
       "average_precision_5         NaN        NaN         NaN        NaN"
      ]
     },
     "execution_count": 664,
     "metadata": {},
     "output_type": "execute_result"
    }
   ],
   "source": [
    "metrics = pd.DataFrame(columns=['views_train', 'views_test', 'purch_train', 'purch_test'], \n",
    "                       index=['average_recall_1', 'average_precision_1', 'average_recall_5', 'average_precision_5'])\n",
    "metrics"
   ]
  },
  {
   "cell_type": "markdown",
   "metadata": {},
   "source": [
    "## views"
   ]
  },
  {
   "cell_type": "markdown",
   "metadata": {},
   "source": [
    "### train"
   ]
  },
  {
   "cell_type": "code",
   "execution_count": 665,
   "metadata": {},
   "outputs": [],
   "source": [
    "recommendations_by_views_train = pd.DataFrame(recommendations_by_views_train)"
   ]
  },
  {
   "cell_type": "code",
   "execution_count": 666,
   "metadata": {},
   "outputs": [
    {
     "data": {
      "text/html": [
       "<div>\n",
       "<style scoped>\n",
       "    .dataframe tbody tr th:only-of-type {\n",
       "        vertical-align: middle;\n",
       "    }\n",
       "\n",
       "    .dataframe tbody tr th {\n",
       "        vertical-align: top;\n",
       "    }\n",
       "\n",
       "    .dataframe thead th {\n",
       "        text-align: right;\n",
       "    }\n",
       "</style>\n",
       "<table border=\"1\" class=\"dataframe\">\n",
       "  <thead>\n",
       "    <tr style=\"text-align: right;\">\n",
       "      <th></th>\n",
       "      <th>recommendations_id</th>\n",
       "      <th>buy_id</th>\n",
       "    </tr>\n",
       "  </thead>\n",
       "  <tbody>\n",
       "    <tr>\n",
       "      <th>7</th>\n",
       "      <td>[63, 64, 60, 61, 65, 66, 67, 68, 59, 62]</td>\n",
       "      <td>[67, 60, 63]</td>\n",
       "    </tr>\n",
       "    <tr>\n",
       "      <th>10</th>\n",
       "      <td>[85, 93, 89, 90, 84, 92, 86, 87, 91, 88]</td>\n",
       "      <td>[86]</td>\n",
       "    </tr>\n",
       "    <tr>\n",
       "      <th>19</th>\n",
       "      <td>[127, 138, 198, 199]</td>\n",
       "      <td>[199]</td>\n",
       "    </tr>\n",
       "    <tr>\n",
       "      <th>30</th>\n",
       "      <td>[303, 306, 304, 307, 309, 310, 305, 308, 311, ...</td>\n",
       "      <td>[303]</td>\n",
       "    </tr>\n",
       "    <tr>\n",
       "      <th>33</th>\n",
       "      <td>[352, 353]</td>\n",
       "      <td>[352]</td>\n",
       "    </tr>\n",
       "    <tr>\n",
       "      <th>...</th>\n",
       "      <td>...</td>\n",
       "      <td>...</td>\n",
       "    </tr>\n",
       "    <tr>\n",
       "      <th>49943</th>\n",
       "      <td>[4335, 4337, 24073, 41795, 57885, 24087, 4344,...</td>\n",
       "      <td>[4335]</td>\n",
       "    </tr>\n",
       "    <tr>\n",
       "      <th>49964</th>\n",
       "      <td>[5895, 6366, 15269]</td>\n",
       "      <td>[5895]</td>\n",
       "    </tr>\n",
       "    <tr>\n",
       "      <th>49981</th>\n",
       "      <td>[2807, 25931, 64552]</td>\n",
       "      <td>[25935, 2807]</td>\n",
       "    </tr>\n",
       "    <tr>\n",
       "      <th>49991</th>\n",
       "      <td>[5063, 21742, 20251, 91921, 34927]</td>\n",
       "      <td>[91921]</td>\n",
       "    </tr>\n",
       "    <tr>\n",
       "      <th>49995</th>\n",
       "      <td>[32291, 38220, 60520]</td>\n",
       "      <td>[32291]</td>\n",
       "    </tr>\n",
       "  </tbody>\n",
       "</table>\n",
       "<p>3608 rows × 2 columns</p>\n",
       "</div>"
      ],
      "text/plain": [
       "                                      recommendations_id         buy_id\n",
       "7               [63, 64, 60, 61, 65, 66, 67, 68, 59, 62]   [67, 60, 63]\n",
       "10              [85, 93, 89, 90, 84, 92, 86, 87, 91, 88]           [86]\n",
       "19                                  [127, 138, 198, 199]          [199]\n",
       "30     [303, 306, 304, 307, 309, 310, 305, 308, 311, ...          [303]\n",
       "33                                            [352, 353]          [352]\n",
       "...                                                  ...            ...\n",
       "49943  [4335, 4337, 24073, 41795, 57885, 24087, 4344,...         [4335]\n",
       "49964                                [5895, 6366, 15269]         [5895]\n",
       "49981                               [2807, 25931, 64552]  [25935, 2807]\n",
       "49991                 [5063, 21742, 20251, 91921, 34927]        [91921]\n",
       "49995                              [32291, 38220, 60520]        [32291]\n",
       "\n",
       "[3608 rows x 2 columns]"
      ]
     },
     "execution_count": 666,
     "metadata": {},
     "output_type": "execute_result"
    }
   ],
   "source": [
    "recommendations_by_views_train['buy_id'] = buy_train\n",
    "recommendations_by_views_train"
   ]
  },
  {
   "cell_type": "markdown",
   "metadata": {},
   "source": [
    "#### AverageRecall@1"
   ]
  },
  {
   "cell_type": "code",
   "execution_count": 667,
   "metadata": {},
   "outputs": [],
   "source": [
    "def average_recall(recommendations, purchases, at):\n",
    "    return len(set(recommendations[:at]) & set(purchases)) / len(purchases)"
   ]
  },
  {
   "cell_type": "code",
   "execution_count": 668,
   "metadata": {},
   "outputs": [
    {
     "data": {
      "text/plain": [
       "7        0.333333\n",
       "10       0.000000\n",
       "19       0.000000\n",
       "30       1.000000\n",
       "33       1.000000\n",
       "           ...   \n",
       "49943    1.000000\n",
       "49964    1.000000\n",
       "49981    0.500000\n",
       "49991    0.000000\n",
       "49995    1.000000\n",
       "Length: 3608, dtype: float64"
      ]
     },
     "execution_count": 668,
     "metadata": {},
     "output_type": "execute_result"
    }
   ],
   "source": [
    "average_recall_at_1_views_train = recommendations_by_views_train.apply(lambda row: average_recall(row[0], row[1], at=1), axis=1)\n",
    "average_recall_at_1_views_train"
   ]
  },
  {
   "cell_type": "code",
   "execution_count": 669,
   "metadata": {},
   "outputs": [
    {
     "data": {
      "text/html": [
       "<div>\n",
       "<style scoped>\n",
       "    .dataframe tbody tr th:only-of-type {\n",
       "        vertical-align: middle;\n",
       "    }\n",
       "\n",
       "    .dataframe tbody tr th {\n",
       "        vertical-align: top;\n",
       "    }\n",
       "\n",
       "    .dataframe thead th {\n",
       "        text-align: right;\n",
       "    }\n",
       "</style>\n",
       "<table border=\"1\" class=\"dataframe\">\n",
       "  <thead>\n",
       "    <tr style=\"text-align: right;\">\n",
       "      <th></th>\n",
       "      <th>views_train</th>\n",
       "      <th>views_test</th>\n",
       "      <th>purch_train</th>\n",
       "      <th>purch_test</th>\n",
       "    </tr>\n",
       "  </thead>\n",
       "  <tbody>\n",
       "    <tr>\n",
       "      <th>average_recall_1</th>\n",
       "      <td>0.442634</td>\n",
       "      <td>NaN</td>\n",
       "      <td>NaN</td>\n",
       "      <td>NaN</td>\n",
       "    </tr>\n",
       "    <tr>\n",
       "      <th>average_precision_1</th>\n",
       "      <td>NaN</td>\n",
       "      <td>NaN</td>\n",
       "      <td>NaN</td>\n",
       "      <td>NaN</td>\n",
       "    </tr>\n",
       "    <tr>\n",
       "      <th>average_recall_5</th>\n",
       "      <td>NaN</td>\n",
       "      <td>NaN</td>\n",
       "      <td>NaN</td>\n",
       "      <td>NaN</td>\n",
       "    </tr>\n",
       "    <tr>\n",
       "      <th>average_precision_5</th>\n",
       "      <td>NaN</td>\n",
       "      <td>NaN</td>\n",
       "      <td>NaN</td>\n",
       "      <td>NaN</td>\n",
       "    </tr>\n",
       "  </tbody>\n",
       "</table>\n",
       "</div>"
      ],
      "text/plain": [
       "                    views_train views_test purch_train purch_test\n",
       "average_recall_1       0.442634        NaN         NaN        NaN\n",
       "average_precision_1         NaN        NaN         NaN        NaN\n",
       "average_recall_5            NaN        NaN         NaN        NaN\n",
       "average_precision_5         NaN        NaN         NaN        NaN"
      ]
     },
     "execution_count": 669,
     "metadata": {},
     "output_type": "execute_result"
    }
   ],
   "source": [
    "metrics.views_train.average_recall_1 = average_recall_at_1_views_train.mean()\n",
    "metrics"
   ]
  },
  {
   "cell_type": "markdown",
   "metadata": {},
   "source": [
    "#### AveragePrecision@1"
   ]
  },
  {
   "cell_type": "code",
   "execution_count": 670,
   "metadata": {},
   "outputs": [],
   "source": [
    "def average_precision(recommendations, purchases, at):\n",
    "    return len(set(recommendations[:at]) & set(purchases)) / at"
   ]
  },
  {
   "cell_type": "code",
   "execution_count": 671,
   "metadata": {},
   "outputs": [
    {
     "data": {
      "text/plain": [
       "7        1.0\n",
       "10       0.0\n",
       "19       0.0\n",
       "30       1.0\n",
       "33       1.0\n",
       "        ... \n",
       "49943    1.0\n",
       "49964    1.0\n",
       "49981    1.0\n",
       "49991    0.0\n",
       "49995    1.0\n",
       "Length: 3608, dtype: float64"
      ]
     },
     "execution_count": 671,
     "metadata": {},
     "output_type": "execute_result"
    }
   ],
   "source": [
    "average_precision_at_1_views_train = recommendations_by_views_train.apply(lambda row: average_precision(row[0], row[1], at=1), \n",
    "                                                                     axis=1)\n",
    "average_precision_at_1_views_train"
   ]
  },
  {
   "cell_type": "code",
   "execution_count": 672,
   "metadata": {},
   "outputs": [
    {
     "data": {
      "text/html": [
       "<div>\n",
       "<style scoped>\n",
       "    .dataframe tbody tr th:only-of-type {\n",
       "        vertical-align: middle;\n",
       "    }\n",
       "\n",
       "    .dataframe tbody tr th {\n",
       "        vertical-align: top;\n",
       "    }\n",
       "\n",
       "    .dataframe thead th {\n",
       "        text-align: right;\n",
       "    }\n",
       "</style>\n",
       "<table border=\"1\" class=\"dataframe\">\n",
       "  <thead>\n",
       "    <tr style=\"text-align: right;\">\n",
       "      <th></th>\n",
       "      <th>views_train</th>\n",
       "      <th>views_test</th>\n",
       "      <th>purch_train</th>\n",
       "      <th>purch_test</th>\n",
       "    </tr>\n",
       "  </thead>\n",
       "  <tbody>\n",
       "    <tr>\n",
       "      <th>average_recall_1</th>\n",
       "      <td>0.442634</td>\n",
       "      <td>NaN</td>\n",
       "      <td>NaN</td>\n",
       "      <td>NaN</td>\n",
       "    </tr>\n",
       "    <tr>\n",
       "      <th>average_precision_1</th>\n",
       "      <td>0.512195</td>\n",
       "      <td>NaN</td>\n",
       "      <td>NaN</td>\n",
       "      <td>NaN</td>\n",
       "    </tr>\n",
       "    <tr>\n",
       "      <th>average_recall_5</th>\n",
       "      <td>NaN</td>\n",
       "      <td>NaN</td>\n",
       "      <td>NaN</td>\n",
       "      <td>NaN</td>\n",
       "    </tr>\n",
       "    <tr>\n",
       "      <th>average_precision_5</th>\n",
       "      <td>NaN</td>\n",
       "      <td>NaN</td>\n",
       "      <td>NaN</td>\n",
       "      <td>NaN</td>\n",
       "    </tr>\n",
       "  </tbody>\n",
       "</table>\n",
       "</div>"
      ],
      "text/plain": [
       "                    views_train views_test purch_train purch_test\n",
       "average_recall_1       0.442634        NaN         NaN        NaN\n",
       "average_precision_1    0.512195        NaN         NaN        NaN\n",
       "average_recall_5            NaN        NaN         NaN        NaN\n",
       "average_precision_5         NaN        NaN         NaN        NaN"
      ]
     },
     "execution_count": 672,
     "metadata": {},
     "output_type": "execute_result"
    }
   ],
   "source": [
    "metrics.views_train.average_precision_1 = average_precision_at_1_views_train.mean()\n",
    "metrics"
   ]
  },
  {
   "cell_type": "markdown",
   "metadata": {},
   "source": [
    "#### AverageRecall@5"
   ]
  },
  {
   "cell_type": "code",
   "execution_count": 673,
   "metadata": {},
   "outputs": [
    {
     "data": {
      "text/plain": [
       "7        0.666667\n",
       "10       0.000000\n",
       "19       1.000000\n",
       "30       1.000000\n",
       "33       1.000000\n",
       "           ...   \n",
       "49943    1.000000\n",
       "49964    1.000000\n",
       "49981    0.500000\n",
       "49991    1.000000\n",
       "49995    1.000000\n",
       "Length: 3608, dtype: float64"
      ]
     },
     "execution_count": 673,
     "metadata": {},
     "output_type": "execute_result"
    }
   ],
   "source": [
    "average_recall_at_5_views_train = recommendations_by_views_train.apply(lambda row: average_recall(row[0], row[1], at=5), axis=1)\n",
    "average_recall_at_5_views_train"
   ]
  },
  {
   "cell_type": "code",
   "execution_count": 674,
   "metadata": {},
   "outputs": [
    {
     "data": {
      "text/html": [
       "<div>\n",
       "<style scoped>\n",
       "    .dataframe tbody tr th:only-of-type {\n",
       "        vertical-align: middle;\n",
       "    }\n",
       "\n",
       "    .dataframe tbody tr th {\n",
       "        vertical-align: top;\n",
       "    }\n",
       "\n",
       "    .dataframe thead th {\n",
       "        text-align: right;\n",
       "    }\n",
       "</style>\n",
       "<table border=\"1\" class=\"dataframe\">\n",
       "  <thead>\n",
       "    <tr style=\"text-align: right;\">\n",
       "      <th></th>\n",
       "      <th>views_train</th>\n",
       "      <th>views_test</th>\n",
       "      <th>purch_train</th>\n",
       "      <th>purch_test</th>\n",
       "    </tr>\n",
       "  </thead>\n",
       "  <tbody>\n",
       "    <tr>\n",
       "      <th>average_recall_1</th>\n",
       "      <td>0.442634</td>\n",
       "      <td>NaN</td>\n",
       "      <td>NaN</td>\n",
       "      <td>NaN</td>\n",
       "    </tr>\n",
       "    <tr>\n",
       "      <th>average_precision_1</th>\n",
       "      <td>0.512195</td>\n",
       "      <td>NaN</td>\n",
       "      <td>NaN</td>\n",
       "      <td>NaN</td>\n",
       "    </tr>\n",
       "    <tr>\n",
       "      <th>average_recall_5</th>\n",
       "      <td>0.824692</td>\n",
       "      <td>NaN</td>\n",
       "      <td>NaN</td>\n",
       "      <td>NaN</td>\n",
       "    </tr>\n",
       "    <tr>\n",
       "      <th>average_precision_5</th>\n",
       "      <td>NaN</td>\n",
       "      <td>NaN</td>\n",
       "      <td>NaN</td>\n",
       "      <td>NaN</td>\n",
       "    </tr>\n",
       "  </tbody>\n",
       "</table>\n",
       "</div>"
      ],
      "text/plain": [
       "                    views_train views_test purch_train purch_test\n",
       "average_recall_1       0.442634        NaN         NaN        NaN\n",
       "average_precision_1    0.512195        NaN         NaN        NaN\n",
       "average_recall_5       0.824692        NaN         NaN        NaN\n",
       "average_precision_5         NaN        NaN         NaN        NaN"
      ]
     },
     "execution_count": 674,
     "metadata": {},
     "output_type": "execute_result"
    }
   ],
   "source": [
    "metrics.views_train.average_recall_5 = average_recall_at_5_views_train.mean()\n",
    "metrics"
   ]
  },
  {
   "cell_type": "markdown",
   "metadata": {},
   "source": [
    "#### AveragePrecision@5"
   ]
  },
  {
   "cell_type": "code",
   "execution_count": 675,
   "metadata": {},
   "outputs": [
    {
     "data": {
      "text/plain": [
       "7        0.4\n",
       "10       0.0\n",
       "19       0.2\n",
       "30       0.2\n",
       "33       0.2\n",
       "        ... \n",
       "49943    0.2\n",
       "49964    0.2\n",
       "49981    0.2\n",
       "49991    0.2\n",
       "49995    0.2\n",
       "Length: 3608, dtype: float64"
      ]
     },
     "execution_count": 675,
     "metadata": {},
     "output_type": "execute_result"
    }
   ],
   "source": [
    "average_precision_at_5_views_train = recommendations_by_views_train.apply(lambda row: average_precision(row[0], row[1], at=5), \n",
    "                                                                     axis=1)\n",
    "average_precision_at_5_views_train"
   ]
  },
  {
   "cell_type": "code",
   "execution_count": 676,
   "metadata": {},
   "outputs": [
    {
     "data": {
      "text/html": [
       "<div>\n",
       "<style scoped>\n",
       "    .dataframe tbody tr th:only-of-type {\n",
       "        vertical-align: middle;\n",
       "    }\n",
       "\n",
       "    .dataframe tbody tr th {\n",
       "        vertical-align: top;\n",
       "    }\n",
       "\n",
       "    .dataframe thead th {\n",
       "        text-align: right;\n",
       "    }\n",
       "</style>\n",
       "<table border=\"1\" class=\"dataframe\">\n",
       "  <thead>\n",
       "    <tr style=\"text-align: right;\">\n",
       "      <th></th>\n",
       "      <th>views_train</th>\n",
       "      <th>views_test</th>\n",
       "      <th>purch_train</th>\n",
       "      <th>purch_test</th>\n",
       "    </tr>\n",
       "  </thead>\n",
       "  <tbody>\n",
       "    <tr>\n",
       "      <th>average_recall_1</th>\n",
       "      <td>0.442634</td>\n",
       "      <td>NaN</td>\n",
       "      <td>NaN</td>\n",
       "      <td>NaN</td>\n",
       "    </tr>\n",
       "    <tr>\n",
       "      <th>average_precision_1</th>\n",
       "      <td>0.512195</td>\n",
       "      <td>NaN</td>\n",
       "      <td>NaN</td>\n",
       "      <td>NaN</td>\n",
       "    </tr>\n",
       "    <tr>\n",
       "      <th>average_recall_5</th>\n",
       "      <td>0.824692</td>\n",
       "      <td>NaN</td>\n",
       "      <td>NaN</td>\n",
       "      <td>NaN</td>\n",
       "    </tr>\n",
       "    <tr>\n",
       "      <th>average_precision_5</th>\n",
       "      <td>0.212528</td>\n",
       "      <td>NaN</td>\n",
       "      <td>NaN</td>\n",
       "      <td>NaN</td>\n",
       "    </tr>\n",
       "  </tbody>\n",
       "</table>\n",
       "</div>"
      ],
      "text/plain": [
       "                    views_train views_test purch_train purch_test\n",
       "average_recall_1       0.442634        NaN         NaN        NaN\n",
       "average_precision_1    0.512195        NaN         NaN        NaN\n",
       "average_recall_5       0.824692        NaN         NaN        NaN\n",
       "average_precision_5    0.212528        NaN         NaN        NaN"
      ]
     },
     "execution_count": 676,
     "metadata": {},
     "output_type": "execute_result"
    }
   ],
   "source": [
    "metrics.views_train.average_precision_5 = average_precision_at_5_views_train.mean()\n",
    "metrics"
   ]
  },
  {
   "cell_type": "markdown",
   "metadata": {},
   "source": [
    "### test"
   ]
  },
  {
   "cell_type": "code",
   "execution_count": 677,
   "metadata": {},
   "outputs": [],
   "source": [
    "recommendations_by_views_test = pd.DataFrame(recommendations_by_views_test)"
   ]
  },
  {
   "cell_type": "code",
   "execution_count": 678,
   "metadata": {},
   "outputs": [
    {
     "data": {
      "text/html": [
       "<div>\n",
       "<style scoped>\n",
       "    .dataframe tbody tr th:only-of-type {\n",
       "        vertical-align: middle;\n",
       "    }\n",
       "\n",
       "    .dataframe tbody tr th {\n",
       "        vertical-align: top;\n",
       "    }\n",
       "\n",
       "    .dataframe thead th {\n",
       "        text-align: right;\n",
       "    }\n",
       "</style>\n",
       "<table border=\"1\" class=\"dataframe\">\n",
       "  <thead>\n",
       "    <tr style=\"text-align: right;\">\n",
       "      <th></th>\n",
       "      <th>recommendations_id</th>\n",
       "      <th>buy_id</th>\n",
       "    </tr>\n",
       "  </thead>\n",
       "  <tbody>\n",
       "    <tr>\n",
       "      <th>7</th>\n",
       "      <td>[63, 68, 66, 61, 59, 69, 70]</td>\n",
       "      <td>[66, 63]</td>\n",
       "    </tr>\n",
       "    <tr>\n",
       "      <th>14</th>\n",
       "      <td>[158, 162, 160, 159, 161]</td>\n",
       "      <td>[162]</td>\n",
       "    </tr>\n",
       "    <tr>\n",
       "      <th>19</th>\n",
       "      <td>[204, 202, 203, 200, 201]</td>\n",
       "      <td>[201, 205]</td>\n",
       "    </tr>\n",
       "    <tr>\n",
       "      <th>34</th>\n",
       "      <td>[371, 372]</td>\n",
       "      <td>[371, 373]</td>\n",
       "    </tr>\n",
       "    <tr>\n",
       "      <th>40</th>\n",
       "      <td>[422]</td>\n",
       "      <td>[422]</td>\n",
       "    </tr>\n",
       "    <tr>\n",
       "      <th>...</th>\n",
       "      <td>...</td>\n",
       "      <td>...</td>\n",
       "    </tr>\n",
       "    <tr>\n",
       "      <th>49943</th>\n",
       "      <td>[4335, 4333, 24907, 606, 2854, 4439, 96997, 34...</td>\n",
       "      <td>[24907, 102691, 18496, 4333]</td>\n",
       "    </tr>\n",
       "    <tr>\n",
       "      <th>49944</th>\n",
       "      <td>[1262, 16237, 7318, 1261, 1306, 3111, 26157, 4...</td>\n",
       "      <td>[58205, 3111, 69482]</td>\n",
       "    </tr>\n",
       "    <tr>\n",
       "      <th>49945</th>\n",
       "      <td>[60538, 44430, 66252, 66251]</td>\n",
       "      <td>[66252, 44430]</td>\n",
       "    </tr>\n",
       "    <tr>\n",
       "      <th>49946</th>\n",
       "      <td>[49815, 76363]</td>\n",
       "      <td>[49815]</td>\n",
       "    </tr>\n",
       "    <tr>\n",
       "      <th>49985</th>\n",
       "      <td>[17711, 21841, 22562]</td>\n",
       "      <td>[21841]</td>\n",
       "    </tr>\n",
       "  </tbody>\n",
       "</table>\n",
       "<p>3665 rows × 2 columns</p>\n",
       "</div>"
      ],
      "text/plain": [
       "                                      recommendations_id  \\\n",
       "7                           [63, 68, 66, 61, 59, 69, 70]   \n",
       "14                             [158, 162, 160, 159, 161]   \n",
       "19                             [204, 202, 203, 200, 201]   \n",
       "34                                            [371, 372]   \n",
       "40                                                 [422]   \n",
       "...                                                  ...   \n",
       "49943  [4335, 4333, 24907, 606, 2854, 4439, 96997, 34...   \n",
       "49944  [1262, 16237, 7318, 1261, 1306, 3111, 26157, 4...   \n",
       "49945                       [60538, 44430, 66252, 66251]   \n",
       "49946                                     [49815, 76363]   \n",
       "49985                              [17711, 21841, 22562]   \n",
       "\n",
       "                             buy_id  \n",
       "7                          [66, 63]  \n",
       "14                            [162]  \n",
       "19                       [201, 205]  \n",
       "34                       [371, 373]  \n",
       "40                            [422]  \n",
       "...                             ...  \n",
       "49943  [24907, 102691, 18496, 4333]  \n",
       "49944          [58205, 3111, 69482]  \n",
       "49945                [66252, 44430]  \n",
       "49946                       [49815]  \n",
       "49985                       [21841]  \n",
       "\n",
       "[3665 rows x 2 columns]"
      ]
     },
     "execution_count": 678,
     "metadata": {},
     "output_type": "execute_result"
    }
   ],
   "source": [
    "recommendations_by_views_test['buy_id'] = buy_test\n",
    "recommendations_by_views_test"
   ]
  },
  {
   "cell_type": "markdown",
   "metadata": {},
   "source": [
    "#### AverageRecall@1"
   ]
  },
  {
   "cell_type": "code",
   "execution_count": 679,
   "metadata": {},
   "outputs": [
    {
     "data": {
      "text/plain": [
       "7        0.5\n",
       "14       0.0\n",
       "19       0.0\n",
       "34       0.5\n",
       "40       1.0\n",
       "        ... \n",
       "49943    0.0\n",
       "49944    0.0\n",
       "49945    0.0\n",
       "49946    1.0\n",
       "49985    0.0\n",
       "Length: 3665, dtype: float64"
      ]
     },
     "execution_count": 679,
     "metadata": {},
     "output_type": "execute_result"
    }
   ],
   "source": [
    "average_recall_at_1_views_test = recommendations_by_views_test.apply(lambda row: average_recall(row[0], row[1], at=1), axis=1)\n",
    "average_recall_at_1_views_test"
   ]
  },
  {
   "cell_type": "code",
   "execution_count": 680,
   "metadata": {},
   "outputs": [
    {
     "data": {
      "text/html": [
       "<div>\n",
       "<style scoped>\n",
       "    .dataframe tbody tr th:only-of-type {\n",
       "        vertical-align: middle;\n",
       "    }\n",
       "\n",
       "    .dataframe tbody tr th {\n",
       "        vertical-align: top;\n",
       "    }\n",
       "\n",
       "    .dataframe thead th {\n",
       "        text-align: right;\n",
       "    }\n",
       "</style>\n",
       "<table border=\"1\" class=\"dataframe\">\n",
       "  <thead>\n",
       "    <tr style=\"text-align: right;\">\n",
       "      <th></th>\n",
       "      <th>views_train</th>\n",
       "      <th>views_test</th>\n",
       "      <th>purch_train</th>\n",
       "      <th>purch_test</th>\n",
       "    </tr>\n",
       "  </thead>\n",
       "  <tbody>\n",
       "    <tr>\n",
       "      <th>average_recall_1</th>\n",
       "      <td>0.442634</td>\n",
       "      <td>0.417333</td>\n",
       "      <td>NaN</td>\n",
       "      <td>NaN</td>\n",
       "    </tr>\n",
       "    <tr>\n",
       "      <th>average_precision_1</th>\n",
       "      <td>0.512195</td>\n",
       "      <td>NaN</td>\n",
       "      <td>NaN</td>\n",
       "      <td>NaN</td>\n",
       "    </tr>\n",
       "    <tr>\n",
       "      <th>average_recall_5</th>\n",
       "      <td>0.824692</td>\n",
       "      <td>NaN</td>\n",
       "      <td>NaN</td>\n",
       "      <td>NaN</td>\n",
       "    </tr>\n",
       "    <tr>\n",
       "      <th>average_precision_5</th>\n",
       "      <td>0.212528</td>\n",
       "      <td>NaN</td>\n",
       "      <td>NaN</td>\n",
       "      <td>NaN</td>\n",
       "    </tr>\n",
       "  </tbody>\n",
       "</table>\n",
       "</div>"
      ],
      "text/plain": [
       "                    views_train views_test purch_train purch_test\n",
       "average_recall_1       0.442634   0.417333         NaN        NaN\n",
       "average_precision_1    0.512195        NaN         NaN        NaN\n",
       "average_recall_5       0.824692        NaN         NaN        NaN\n",
       "average_precision_5    0.212528        NaN         NaN        NaN"
      ]
     },
     "execution_count": 680,
     "metadata": {},
     "output_type": "execute_result"
    }
   ],
   "source": [
    "metrics.views_test.average_recall_1 = average_recall_at_1_views_test.mean()\n",
    "metrics"
   ]
  },
  {
   "cell_type": "markdown",
   "metadata": {},
   "source": [
    "#### AveragePrecision@1"
   ]
  },
  {
   "cell_type": "code",
   "execution_count": 681,
   "metadata": {},
   "outputs": [
    {
     "data": {
      "text/plain": [
       "7        1.0\n",
       "14       0.0\n",
       "19       0.0\n",
       "34       1.0\n",
       "40       1.0\n",
       "        ... \n",
       "49943    0.0\n",
       "49944    0.0\n",
       "49945    0.0\n",
       "49946    1.0\n",
       "49985    0.0\n",
       "Length: 3665, dtype: float64"
      ]
     },
     "execution_count": 681,
     "metadata": {},
     "output_type": "execute_result"
    }
   ],
   "source": [
    "average_precision_at_1_views_test = recommendations_by_views_test.apply(lambda row: average_precision(row[0], row[1], at=1), \n",
    "                                                                        axis=1)\n",
    "average_precision_at_1_views_test"
   ]
  },
  {
   "cell_type": "code",
   "execution_count": 682,
   "metadata": {},
   "outputs": [
    {
     "data": {
      "text/html": [
       "<div>\n",
       "<style scoped>\n",
       "    .dataframe tbody tr th:only-of-type {\n",
       "        vertical-align: middle;\n",
       "    }\n",
       "\n",
       "    .dataframe tbody tr th {\n",
       "        vertical-align: top;\n",
       "    }\n",
       "\n",
       "    .dataframe thead th {\n",
       "        text-align: right;\n",
       "    }\n",
       "</style>\n",
       "<table border=\"1\" class=\"dataframe\">\n",
       "  <thead>\n",
       "    <tr style=\"text-align: right;\">\n",
       "      <th></th>\n",
       "      <th>views_train</th>\n",
       "      <th>views_test</th>\n",
       "      <th>purch_train</th>\n",
       "      <th>purch_test</th>\n",
       "    </tr>\n",
       "  </thead>\n",
       "  <tbody>\n",
       "    <tr>\n",
       "      <th>average_recall_1</th>\n",
       "      <td>0.442634</td>\n",
       "      <td>0.417333</td>\n",
       "      <td>NaN</td>\n",
       "      <td>NaN</td>\n",
       "    </tr>\n",
       "    <tr>\n",
       "      <th>average_precision_1</th>\n",
       "      <td>0.512195</td>\n",
       "      <td>0.48131</td>\n",
       "      <td>NaN</td>\n",
       "      <td>NaN</td>\n",
       "    </tr>\n",
       "    <tr>\n",
       "      <th>average_recall_5</th>\n",
       "      <td>0.824692</td>\n",
       "      <td>NaN</td>\n",
       "      <td>NaN</td>\n",
       "      <td>NaN</td>\n",
       "    </tr>\n",
       "    <tr>\n",
       "      <th>average_precision_5</th>\n",
       "      <td>0.212528</td>\n",
       "      <td>NaN</td>\n",
       "      <td>NaN</td>\n",
       "      <td>NaN</td>\n",
       "    </tr>\n",
       "  </tbody>\n",
       "</table>\n",
       "</div>"
      ],
      "text/plain": [
       "                    views_train views_test purch_train purch_test\n",
       "average_recall_1       0.442634   0.417333         NaN        NaN\n",
       "average_precision_1    0.512195    0.48131         NaN        NaN\n",
       "average_recall_5       0.824692        NaN         NaN        NaN\n",
       "average_precision_5    0.212528        NaN         NaN        NaN"
      ]
     },
     "execution_count": 682,
     "metadata": {},
     "output_type": "execute_result"
    }
   ],
   "source": [
    "metrics.views_test.average_precision_1 = average_precision_at_1_views_test.mean()\n",
    "metrics"
   ]
  },
  {
   "cell_type": "markdown",
   "metadata": {},
   "source": [
    "#### AverageRecall@5"
   ]
  },
  {
   "cell_type": "code",
   "execution_count": 683,
   "metadata": {},
   "outputs": [
    {
     "data": {
      "text/plain": [
       "7        1.0\n",
       "14       1.0\n",
       "19       0.5\n",
       "34       0.5\n",
       "40       1.0\n",
       "        ... \n",
       "49943    0.5\n",
       "49944    0.0\n",
       "49945    1.0\n",
       "49946    1.0\n",
       "49985    1.0\n",
       "Length: 3665, dtype: float64"
      ]
     },
     "execution_count": 683,
     "metadata": {},
     "output_type": "execute_result"
    }
   ],
   "source": [
    "average_recall_at_5_views_test = recommendations_by_views_test.apply(lambda row: average_recall(row[0], row[1], at=5), axis=1)\n",
    "average_recall_at_5_views_test"
   ]
  },
  {
   "cell_type": "code",
   "execution_count": 684,
   "metadata": {},
   "outputs": [
    {
     "data": {
      "text/html": [
       "<div>\n",
       "<style scoped>\n",
       "    .dataframe tbody tr th:only-of-type {\n",
       "        vertical-align: middle;\n",
       "    }\n",
       "\n",
       "    .dataframe tbody tr th {\n",
       "        vertical-align: top;\n",
       "    }\n",
       "\n",
       "    .dataframe thead th {\n",
       "        text-align: right;\n",
       "    }\n",
       "</style>\n",
       "<table border=\"1\" class=\"dataframe\">\n",
       "  <thead>\n",
       "    <tr style=\"text-align: right;\">\n",
       "      <th></th>\n",
       "      <th>views_train</th>\n",
       "      <th>views_test</th>\n",
       "      <th>purch_train</th>\n",
       "      <th>purch_test</th>\n",
       "    </tr>\n",
       "  </thead>\n",
       "  <tbody>\n",
       "    <tr>\n",
       "      <th>average_recall_1</th>\n",
       "      <td>0.442634</td>\n",
       "      <td>0.417333</td>\n",
       "      <td>NaN</td>\n",
       "      <td>NaN</td>\n",
       "    </tr>\n",
       "    <tr>\n",
       "      <th>average_precision_1</th>\n",
       "      <td>0.512195</td>\n",
       "      <td>0.48131</td>\n",
       "      <td>NaN</td>\n",
       "      <td>NaN</td>\n",
       "    </tr>\n",
       "    <tr>\n",
       "      <th>average_recall_5</th>\n",
       "      <td>0.824692</td>\n",
       "      <td>0.800034</td>\n",
       "      <td>NaN</td>\n",
       "      <td>NaN</td>\n",
       "    </tr>\n",
       "    <tr>\n",
       "      <th>average_precision_5</th>\n",
       "      <td>0.212528</td>\n",
       "      <td>NaN</td>\n",
       "      <td>NaN</td>\n",
       "      <td>NaN</td>\n",
       "    </tr>\n",
       "  </tbody>\n",
       "</table>\n",
       "</div>"
      ],
      "text/plain": [
       "                    views_train views_test purch_train purch_test\n",
       "average_recall_1       0.442634   0.417333         NaN        NaN\n",
       "average_precision_1    0.512195    0.48131         NaN        NaN\n",
       "average_recall_5       0.824692   0.800034         NaN        NaN\n",
       "average_precision_5    0.212528        NaN         NaN        NaN"
      ]
     },
     "execution_count": 684,
     "metadata": {},
     "output_type": "execute_result"
    }
   ],
   "source": [
    "metrics.views_test.average_recall_5 = average_recall_at_5_views_test.mean()\n",
    "metrics"
   ]
  },
  {
   "cell_type": "markdown",
   "metadata": {},
   "source": [
    "#### AveragePrecision@5"
   ]
  },
  {
   "cell_type": "code",
   "execution_count": 685,
   "metadata": {},
   "outputs": [
    {
     "data": {
      "text/plain": [
       "7        0.4\n",
       "14       0.2\n",
       "19       0.2\n",
       "34       0.2\n",
       "40       0.2\n",
       "        ... \n",
       "49943    0.4\n",
       "49944    0.0\n",
       "49945    0.4\n",
       "49946    0.2\n",
       "49985    0.2\n",
       "Length: 3665, dtype: float64"
      ]
     },
     "execution_count": 685,
     "metadata": {},
     "output_type": "execute_result"
    }
   ],
   "source": [
    "average_precision_at_5_views_test = recommendations_by_views_test.apply(lambda row: average_precision(row[0], row[1], at=5), \n",
    "                                                                        axis=1)\n",
    "average_precision_at_5_views_test"
   ]
  },
  {
   "cell_type": "code",
   "execution_count": 686,
   "metadata": {},
   "outputs": [
    {
     "data": {
      "text/html": [
       "<div>\n",
       "<style scoped>\n",
       "    .dataframe tbody tr th:only-of-type {\n",
       "        vertical-align: middle;\n",
       "    }\n",
       "\n",
       "    .dataframe tbody tr th {\n",
       "        vertical-align: top;\n",
       "    }\n",
       "\n",
       "    .dataframe thead th {\n",
       "        text-align: right;\n",
       "    }\n",
       "</style>\n",
       "<table border=\"1\" class=\"dataframe\">\n",
       "  <thead>\n",
       "    <tr style=\"text-align: right;\">\n",
       "      <th></th>\n",
       "      <th>views_train</th>\n",
       "      <th>views_test</th>\n",
       "      <th>purch_train</th>\n",
       "      <th>purch_test</th>\n",
       "    </tr>\n",
       "  </thead>\n",
       "  <tbody>\n",
       "    <tr>\n",
       "      <th>average_recall_1</th>\n",
       "      <td>0.442634</td>\n",
       "      <td>0.417333</td>\n",
       "      <td>NaN</td>\n",
       "      <td>NaN</td>\n",
       "    </tr>\n",
       "    <tr>\n",
       "      <th>average_precision_1</th>\n",
       "      <td>0.512195</td>\n",
       "      <td>0.48131</td>\n",
       "      <td>NaN</td>\n",
       "      <td>NaN</td>\n",
       "    </tr>\n",
       "    <tr>\n",
       "      <th>average_recall_5</th>\n",
       "      <td>0.824692</td>\n",
       "      <td>0.800034</td>\n",
       "      <td>NaN</td>\n",
       "      <td>NaN</td>\n",
       "    </tr>\n",
       "    <tr>\n",
       "      <th>average_precision_5</th>\n",
       "      <td>0.212528</td>\n",
       "      <td>0.203765</td>\n",
       "      <td>NaN</td>\n",
       "      <td>NaN</td>\n",
       "    </tr>\n",
       "  </tbody>\n",
       "</table>\n",
       "</div>"
      ],
      "text/plain": [
       "                    views_train views_test purch_train purch_test\n",
       "average_recall_1       0.442634   0.417333         NaN        NaN\n",
       "average_precision_1    0.512195    0.48131         NaN        NaN\n",
       "average_recall_5       0.824692   0.800034         NaN        NaN\n",
       "average_precision_5    0.212528   0.203765         NaN        NaN"
      ]
     },
     "execution_count": 686,
     "metadata": {},
     "output_type": "execute_result"
    }
   ],
   "source": [
    "metrics.views_test.average_precision_5 = average_precision_at_5_views_test.mean()\n",
    "metrics"
   ]
  },
  {
   "cell_type": "markdown",
   "metadata": {},
   "source": [
    "## purchases"
   ]
  },
  {
   "cell_type": "markdown",
   "metadata": {},
   "source": [
    "### train"
   ]
  },
  {
   "cell_type": "code",
   "execution_count": 687,
   "metadata": {},
   "outputs": [],
   "source": [
    "recommendations_by_purchases_train = pd.DataFrame(recommendations_by_purchases_train)"
   ]
  },
  {
   "cell_type": "code",
   "execution_count": 688,
   "metadata": {},
   "outputs": [
    {
     "data": {
      "text/html": [
       "<div>\n",
       "<style scoped>\n",
       "    .dataframe tbody tr th:only-of-type {\n",
       "        vertical-align: middle;\n",
       "    }\n",
       "\n",
       "    .dataframe tbody tr th {\n",
       "        vertical-align: top;\n",
       "    }\n",
       "\n",
       "    .dataframe thead th {\n",
       "        text-align: right;\n",
       "    }\n",
       "</style>\n",
       "<table border=\"1\" class=\"dataframe\">\n",
       "  <thead>\n",
       "    <tr style=\"text-align: right;\">\n",
       "      <th></th>\n",
       "      <th>recommendations_id</th>\n",
       "      <th>buy_id</th>\n",
       "    </tr>\n",
       "  </thead>\n",
       "  <tbody>\n",
       "    <tr>\n",
       "      <th>7</th>\n",
       "      <td>[60, 63, 67, 59, 61, 62, 64, 65, 66, 68]</td>\n",
       "      <td>[67, 60, 63]</td>\n",
       "    </tr>\n",
       "    <tr>\n",
       "      <th>10</th>\n",
       "      <td>[86, 85, 93, 84, 87, 88, 89, 90, 91, 92]</td>\n",
       "      <td>[86]</td>\n",
       "    </tr>\n",
       "    <tr>\n",
       "      <th>19</th>\n",
       "      <td>[138, 199, 127, 198]</td>\n",
       "      <td>[199]</td>\n",
       "    </tr>\n",
       "    <tr>\n",
       "      <th>30</th>\n",
       "      <td>[303, 304, 305, 306, 307, 308, 309, 310, 311, ...</td>\n",
       "      <td>[303]</td>\n",
       "    </tr>\n",
       "    <tr>\n",
       "      <th>33</th>\n",
       "      <td>[352, 353]</td>\n",
       "      <td>[352]</td>\n",
       "    </tr>\n",
       "    <tr>\n",
       "      <th>...</th>\n",
       "      <td>...</td>\n",
       "      <td>...</td>\n",
       "    </tr>\n",
       "    <tr>\n",
       "      <th>49943</th>\n",
       "      <td>[4335, 41795, 4337, 24087, 24073, 4344, 57885,...</td>\n",
       "      <td>[4335]</td>\n",
       "    </tr>\n",
       "    <tr>\n",
       "      <th>49964</th>\n",
       "      <td>[5895, 6366, 15269]</td>\n",
       "      <td>[5895]</td>\n",
       "    </tr>\n",
       "    <tr>\n",
       "      <th>49981</th>\n",
       "      <td>[2807, 64552, 25931]</td>\n",
       "      <td>[25935, 2807]</td>\n",
       "    </tr>\n",
       "    <tr>\n",
       "      <th>49991</th>\n",
       "      <td>[91921, 5063, 20251, 21742, 34927]</td>\n",
       "      <td>[91921]</td>\n",
       "    </tr>\n",
       "    <tr>\n",
       "      <th>49995</th>\n",
       "      <td>[32291, 60520, 38220]</td>\n",
       "      <td>[32291]</td>\n",
       "    </tr>\n",
       "  </tbody>\n",
       "</table>\n",
       "<p>3608 rows × 2 columns</p>\n",
       "</div>"
      ],
      "text/plain": [
       "                                      recommendations_id         buy_id\n",
       "7               [60, 63, 67, 59, 61, 62, 64, 65, 66, 68]   [67, 60, 63]\n",
       "10              [86, 85, 93, 84, 87, 88, 89, 90, 91, 92]           [86]\n",
       "19                                  [138, 199, 127, 198]          [199]\n",
       "30     [303, 304, 305, 306, 307, 308, 309, 310, 311, ...          [303]\n",
       "33                                            [352, 353]          [352]\n",
       "...                                                  ...            ...\n",
       "49943  [4335, 41795, 4337, 24087, 24073, 4344, 57885,...         [4335]\n",
       "49964                                [5895, 6366, 15269]         [5895]\n",
       "49981                               [2807, 64552, 25931]  [25935, 2807]\n",
       "49991                 [91921, 5063, 20251, 21742, 34927]        [91921]\n",
       "49995                              [32291, 60520, 38220]        [32291]\n",
       "\n",
       "[3608 rows x 2 columns]"
      ]
     },
     "execution_count": 688,
     "metadata": {},
     "output_type": "execute_result"
    }
   ],
   "source": [
    "recommendations_by_purchases_train['buy_id'] = buy_train\n",
    "recommendations_by_purchases_train"
   ]
  },
  {
   "cell_type": "markdown",
   "metadata": {},
   "source": [
    "#### AverageRecall@1"
   ]
  },
  {
   "cell_type": "code",
   "execution_count": 689,
   "metadata": {},
   "outputs": [
    {
     "data": {
      "text/plain": [
       "7        0.333333\n",
       "10       1.000000\n",
       "19       0.000000\n",
       "30       1.000000\n",
       "33       1.000000\n",
       "           ...   \n",
       "49943    1.000000\n",
       "49964    1.000000\n",
       "49981    0.500000\n",
       "49991    1.000000\n",
       "49995    1.000000\n",
       "Length: 3608, dtype: float64"
      ]
     },
     "execution_count": 689,
     "metadata": {},
     "output_type": "execute_result"
    }
   ],
   "source": [
    "average_recall_at_1_purchases_train = recommendations_by_purchases_train.apply(lambda row: average_recall(row[0], row[1], \n",
    "                                                                                                          at=1), axis=1)\n",
    "average_recall_at_1_purchases_train"
   ]
  },
  {
   "cell_type": "code",
   "execution_count": 690,
   "metadata": {},
   "outputs": [
    {
     "data": {
      "text/html": [
       "<div>\n",
       "<style scoped>\n",
       "    .dataframe tbody tr th:only-of-type {\n",
       "        vertical-align: middle;\n",
       "    }\n",
       "\n",
       "    .dataframe tbody tr th {\n",
       "        vertical-align: top;\n",
       "    }\n",
       "\n",
       "    .dataframe thead th {\n",
       "        text-align: right;\n",
       "    }\n",
       "</style>\n",
       "<table border=\"1\" class=\"dataframe\">\n",
       "  <thead>\n",
       "    <tr style=\"text-align: right;\">\n",
       "      <th></th>\n",
       "      <th>views_train</th>\n",
       "      <th>views_test</th>\n",
       "      <th>purch_train</th>\n",
       "      <th>purch_test</th>\n",
       "    </tr>\n",
       "  </thead>\n",
       "  <tbody>\n",
       "    <tr>\n",
       "      <th>average_recall_1</th>\n",
       "      <td>0.442634</td>\n",
       "      <td>0.417333</td>\n",
       "      <td>0.688449</td>\n",
       "      <td>NaN</td>\n",
       "    </tr>\n",
       "    <tr>\n",
       "      <th>average_precision_1</th>\n",
       "      <td>0.512195</td>\n",
       "      <td>0.48131</td>\n",
       "      <td>NaN</td>\n",
       "      <td>NaN</td>\n",
       "    </tr>\n",
       "    <tr>\n",
       "      <th>average_recall_5</th>\n",
       "      <td>0.824692</td>\n",
       "      <td>0.800034</td>\n",
       "      <td>NaN</td>\n",
       "      <td>NaN</td>\n",
       "    </tr>\n",
       "    <tr>\n",
       "      <th>average_precision_5</th>\n",
       "      <td>0.212528</td>\n",
       "      <td>0.203765</td>\n",
       "      <td>NaN</td>\n",
       "      <td>NaN</td>\n",
       "    </tr>\n",
       "  </tbody>\n",
       "</table>\n",
       "</div>"
      ],
      "text/plain": [
       "                    views_train views_test purch_train purch_test\n",
       "average_recall_1       0.442634   0.417333    0.688449        NaN\n",
       "average_precision_1    0.512195    0.48131         NaN        NaN\n",
       "average_recall_5       0.824692   0.800034         NaN        NaN\n",
       "average_precision_5    0.212528   0.203765         NaN        NaN"
      ]
     },
     "execution_count": 690,
     "metadata": {},
     "output_type": "execute_result"
    }
   ],
   "source": [
    "metrics.purch_train.average_recall_1 = average_recall_at_1_purchases_train.mean()\n",
    "metrics"
   ]
  },
  {
   "cell_type": "markdown",
   "metadata": {},
   "source": [
    "#### AveragePrecision@1"
   ]
  },
  {
   "cell_type": "code",
   "execution_count": 691,
   "metadata": {},
   "outputs": [
    {
     "data": {
      "text/plain": [
       "7        1.0\n",
       "10       1.0\n",
       "19       0.0\n",
       "30       1.0\n",
       "33       1.0\n",
       "        ... \n",
       "49943    1.0\n",
       "49964    1.0\n",
       "49981    1.0\n",
       "49991    1.0\n",
       "49995    1.0\n",
       "Length: 3608, dtype: float64"
      ]
     },
     "execution_count": 691,
     "metadata": {},
     "output_type": "execute_result"
    }
   ],
   "source": [
    "average_precision_at_1_purchases_train = recommendations_by_purchases_train.apply(lambda row: \n",
    "                                                                                 average_precision(row[0], row[1], \n",
    "                                                                                                            at=1), axis=1)\n",
    "average_precision_at_1_purchases_train"
   ]
  },
  {
   "cell_type": "code",
   "execution_count": 692,
   "metadata": {},
   "outputs": [
    {
     "data": {
      "text/html": [
       "<div>\n",
       "<style scoped>\n",
       "    .dataframe tbody tr th:only-of-type {\n",
       "        vertical-align: middle;\n",
       "    }\n",
       "\n",
       "    .dataframe tbody tr th {\n",
       "        vertical-align: top;\n",
       "    }\n",
       "\n",
       "    .dataframe thead th {\n",
       "        text-align: right;\n",
       "    }\n",
       "</style>\n",
       "<table border=\"1\" class=\"dataframe\">\n",
       "  <thead>\n",
       "    <tr style=\"text-align: right;\">\n",
       "      <th></th>\n",
       "      <th>views_train</th>\n",
       "      <th>views_test</th>\n",
       "      <th>purch_train</th>\n",
       "      <th>purch_test</th>\n",
       "    </tr>\n",
       "  </thead>\n",
       "  <tbody>\n",
       "    <tr>\n",
       "      <th>average_recall_1</th>\n",
       "      <td>0.442634</td>\n",
       "      <td>0.417333</td>\n",
       "      <td>0.688449</td>\n",
       "      <td>NaN</td>\n",
       "    </tr>\n",
       "    <tr>\n",
       "      <th>average_precision_1</th>\n",
       "      <td>0.512195</td>\n",
       "      <td>0.48131</td>\n",
       "      <td>0.803769</td>\n",
       "      <td>NaN</td>\n",
       "    </tr>\n",
       "    <tr>\n",
       "      <th>average_recall_5</th>\n",
       "      <td>0.824692</td>\n",
       "      <td>0.800034</td>\n",
       "      <td>NaN</td>\n",
       "      <td>NaN</td>\n",
       "    </tr>\n",
       "    <tr>\n",
       "      <th>average_precision_5</th>\n",
       "      <td>0.212528</td>\n",
       "      <td>0.203765</td>\n",
       "      <td>NaN</td>\n",
       "      <td>NaN</td>\n",
       "    </tr>\n",
       "  </tbody>\n",
       "</table>\n",
       "</div>"
      ],
      "text/plain": [
       "                    views_train views_test purch_train purch_test\n",
       "average_recall_1       0.442634   0.417333    0.688449        NaN\n",
       "average_precision_1    0.512195    0.48131    0.803769        NaN\n",
       "average_recall_5       0.824692   0.800034         NaN        NaN\n",
       "average_precision_5    0.212528   0.203765         NaN        NaN"
      ]
     },
     "execution_count": 692,
     "metadata": {},
     "output_type": "execute_result"
    }
   ],
   "source": [
    "metrics.purch_train.average_precision_1 = average_precision_at_1_purchases_train.mean()\n",
    "metrics"
   ]
  },
  {
   "cell_type": "markdown",
   "metadata": {},
   "source": [
    "#### AverageRecall@5"
   ]
  },
  {
   "cell_type": "code",
   "execution_count": 693,
   "metadata": {},
   "outputs": [
    {
     "data": {
      "text/plain": [
       "7        1.0\n",
       "10       1.0\n",
       "19       1.0\n",
       "30       1.0\n",
       "33       1.0\n",
       "        ... \n",
       "49943    1.0\n",
       "49964    1.0\n",
       "49981    0.5\n",
       "49991    1.0\n",
       "49995    1.0\n",
       "Length: 3608, dtype: float64"
      ]
     },
     "execution_count": 693,
     "metadata": {},
     "output_type": "execute_result"
    }
   ],
   "source": [
    "average_recall_at_5_purchases_train = recommendations_by_purchases_train.apply(lambda row: average_recall(row[0], row[1], \n",
    "                                                                                                          at=5), axis=1)\n",
    "average_recall_at_5_purchases_train"
   ]
  },
  {
   "cell_type": "code",
   "execution_count": 694,
   "metadata": {},
   "outputs": [
    {
     "data": {
      "text/html": [
       "<div>\n",
       "<style scoped>\n",
       "    .dataframe tbody tr th:only-of-type {\n",
       "        vertical-align: middle;\n",
       "    }\n",
       "\n",
       "    .dataframe tbody tr th {\n",
       "        vertical-align: top;\n",
       "    }\n",
       "\n",
       "    .dataframe thead th {\n",
       "        text-align: right;\n",
       "    }\n",
       "</style>\n",
       "<table border=\"1\" class=\"dataframe\">\n",
       "  <thead>\n",
       "    <tr style=\"text-align: right;\">\n",
       "      <th></th>\n",
       "      <th>views_train</th>\n",
       "      <th>views_test</th>\n",
       "      <th>purch_train</th>\n",
       "      <th>purch_test</th>\n",
       "    </tr>\n",
       "  </thead>\n",
       "  <tbody>\n",
       "    <tr>\n",
       "      <th>average_recall_1</th>\n",
       "      <td>0.442634</td>\n",
       "      <td>0.417333</td>\n",
       "      <td>0.688449</td>\n",
       "      <td>NaN</td>\n",
       "    </tr>\n",
       "    <tr>\n",
       "      <th>average_precision_1</th>\n",
       "      <td>0.512195</td>\n",
       "      <td>0.48131</td>\n",
       "      <td>0.803769</td>\n",
       "      <td>NaN</td>\n",
       "    </tr>\n",
       "    <tr>\n",
       "      <th>average_recall_5</th>\n",
       "      <td>0.824692</td>\n",
       "      <td>0.800034</td>\n",
       "      <td>0.926307</td>\n",
       "      <td>NaN</td>\n",
       "    </tr>\n",
       "    <tr>\n",
       "      <th>average_precision_5</th>\n",
       "      <td>0.212528</td>\n",
       "      <td>0.203765</td>\n",
       "      <td>NaN</td>\n",
       "      <td>NaN</td>\n",
       "    </tr>\n",
       "  </tbody>\n",
       "</table>\n",
       "</div>"
      ],
      "text/plain": [
       "                    views_train views_test purch_train purch_test\n",
       "average_recall_1       0.442634   0.417333    0.688449        NaN\n",
       "average_precision_1    0.512195    0.48131    0.803769        NaN\n",
       "average_recall_5       0.824692   0.800034    0.926307        NaN\n",
       "average_precision_5    0.212528   0.203765         NaN        NaN"
      ]
     },
     "execution_count": 694,
     "metadata": {},
     "output_type": "execute_result"
    }
   ],
   "source": [
    "metrics.purch_train.average_recall_5 = average_recall_at_5_purchases_train.mean()\n",
    "metrics"
   ]
  },
  {
   "cell_type": "markdown",
   "metadata": {},
   "source": [
    "#### AveragePrecision@5"
   ]
  },
  {
   "cell_type": "code",
   "execution_count": 695,
   "metadata": {},
   "outputs": [
    {
     "data": {
      "text/plain": [
       "7        0.6\n",
       "10       0.2\n",
       "19       0.2\n",
       "30       0.2\n",
       "33       0.2\n",
       "        ... \n",
       "49943    0.2\n",
       "49964    0.2\n",
       "49981    0.2\n",
       "49991    0.2\n",
       "49995    0.2\n",
       "Length: 3608, dtype: float64"
      ]
     },
     "execution_count": 695,
     "metadata": {},
     "output_type": "execute_result"
    }
   ],
   "source": [
    "average_precision_at_5_purchases_train = recommendations_by_purchases_train.apply(lambda row: \n",
    "                                                                                 average_precision(row[0], row[1], \n",
    "                                                                                                            at=5), axis=1)\n",
    "average_precision_at_5_purchases_train"
   ]
  },
  {
   "cell_type": "code",
   "execution_count": 696,
   "metadata": {},
   "outputs": [
    {
     "data": {
      "text/html": [
       "<div>\n",
       "<style scoped>\n",
       "    .dataframe tbody tr th:only-of-type {\n",
       "        vertical-align: middle;\n",
       "    }\n",
       "\n",
       "    .dataframe tbody tr th {\n",
       "        vertical-align: top;\n",
       "    }\n",
       "\n",
       "    .dataframe thead th {\n",
       "        text-align: right;\n",
       "    }\n",
       "</style>\n",
       "<table border=\"1\" class=\"dataframe\">\n",
       "  <thead>\n",
       "    <tr style=\"text-align: right;\">\n",
       "      <th></th>\n",
       "      <th>views_train</th>\n",
       "      <th>views_test</th>\n",
       "      <th>purch_train</th>\n",
       "      <th>purch_test</th>\n",
       "    </tr>\n",
       "  </thead>\n",
       "  <tbody>\n",
       "    <tr>\n",
       "      <th>average_recall_1</th>\n",
       "      <td>0.442634</td>\n",
       "      <td>0.417333</td>\n",
       "      <td>0.688449</td>\n",
       "      <td>NaN</td>\n",
       "    </tr>\n",
       "    <tr>\n",
       "      <th>average_precision_1</th>\n",
       "      <td>0.512195</td>\n",
       "      <td>0.48131</td>\n",
       "      <td>0.803769</td>\n",
       "      <td>NaN</td>\n",
       "    </tr>\n",
       "    <tr>\n",
       "      <th>average_recall_5</th>\n",
       "      <td>0.824692</td>\n",
       "      <td>0.800034</td>\n",
       "      <td>0.926307</td>\n",
       "      <td>NaN</td>\n",
       "    </tr>\n",
       "    <tr>\n",
       "      <th>average_precision_5</th>\n",
       "      <td>0.212528</td>\n",
       "      <td>0.203765</td>\n",
       "      <td>0.25255</td>\n",
       "      <td>NaN</td>\n",
       "    </tr>\n",
       "  </tbody>\n",
       "</table>\n",
       "</div>"
      ],
      "text/plain": [
       "                    views_train views_test purch_train purch_test\n",
       "average_recall_1       0.442634   0.417333    0.688449        NaN\n",
       "average_precision_1    0.512195    0.48131    0.803769        NaN\n",
       "average_recall_5       0.824692   0.800034    0.926307        NaN\n",
       "average_precision_5    0.212528   0.203765     0.25255        NaN"
      ]
     },
     "execution_count": 696,
     "metadata": {},
     "output_type": "execute_result"
    }
   ],
   "source": [
    "metrics.purch_train.average_precision_5 = average_precision_at_5_purchases_train.mean()\n",
    "metrics"
   ]
  },
  {
   "cell_type": "markdown",
   "metadata": {},
   "source": [
    "### test"
   ]
  },
  {
   "cell_type": "code",
   "execution_count": 697,
   "metadata": {},
   "outputs": [],
   "source": [
    "recommendations_by_purchases_test = pd.DataFrame(recommendations_by_purchases_test)"
   ]
  },
  {
   "cell_type": "code",
   "execution_count": 698,
   "metadata": {},
   "outputs": [
    {
     "data": {
      "text/html": [
       "<div>\n",
       "<style scoped>\n",
       "    .dataframe tbody tr th:only-of-type {\n",
       "        vertical-align: middle;\n",
       "    }\n",
       "\n",
       "    .dataframe tbody tr th {\n",
       "        vertical-align: top;\n",
       "    }\n",
       "\n",
       "    .dataframe thead th {\n",
       "        text-align: right;\n",
       "    }\n",
       "</style>\n",
       "<table border=\"1\" class=\"dataframe\">\n",
       "  <thead>\n",
       "    <tr style=\"text-align: right;\">\n",
       "      <th></th>\n",
       "      <th>recommendations_id</th>\n",
       "      <th>buy_id</th>\n",
       "    </tr>\n",
       "  </thead>\n",
       "  <tbody>\n",
       "    <tr>\n",
       "      <th>7</th>\n",
       "      <td>[63, 68, 69, 70, 66, 61, 59]</td>\n",
       "      <td>[66, 63]</td>\n",
       "    </tr>\n",
       "    <tr>\n",
       "      <th>14</th>\n",
       "      <td>[158, 162, 160, 159, 161]</td>\n",
       "      <td>[162]</td>\n",
       "    </tr>\n",
       "    <tr>\n",
       "      <th>19</th>\n",
       "      <td>[204, 202, 200, 201, 203]</td>\n",
       "      <td>[201, 205]</td>\n",
       "    </tr>\n",
       "    <tr>\n",
       "      <th>34</th>\n",
       "      <td>[371, 372]</td>\n",
       "      <td>[371, 373]</td>\n",
       "    </tr>\n",
       "    <tr>\n",
       "      <th>40</th>\n",
       "      <td>[422]</td>\n",
       "      <td>[422]</td>\n",
       "    </tr>\n",
       "    <tr>\n",
       "      <th>...</th>\n",
       "      <td>...</td>\n",
       "      <td>...</td>\n",
       "    </tr>\n",
       "    <tr>\n",
       "      <th>49943</th>\n",
       "      <td>[4335, 4333, 606, 2859, 2854, 88887, 96997, 44...</td>\n",
       "      <td>[24907, 102691, 18496, 4333]</td>\n",
       "    </tr>\n",
       "    <tr>\n",
       "      <th>49944</th>\n",
       "      <td>[1262, 1306, 13520, 77655, 23249, 47450, 26157...</td>\n",
       "      <td>[58205, 3111, 69482]</td>\n",
       "    </tr>\n",
       "    <tr>\n",
       "      <th>49945</th>\n",
       "      <td>[60538, 44430, 66252, 66251]</td>\n",
       "      <td>[66252, 44430]</td>\n",
       "    </tr>\n",
       "    <tr>\n",
       "      <th>49946</th>\n",
       "      <td>[49815, 76363]</td>\n",
       "      <td>[49815]</td>\n",
       "    </tr>\n",
       "    <tr>\n",
       "      <th>49985</th>\n",
       "      <td>[21841, 17711, 22562]</td>\n",
       "      <td>[21841]</td>\n",
       "    </tr>\n",
       "  </tbody>\n",
       "</table>\n",
       "<p>3665 rows × 2 columns</p>\n",
       "</div>"
      ],
      "text/plain": [
       "                                      recommendations_id  \\\n",
       "7                           [63, 68, 69, 70, 66, 61, 59]   \n",
       "14                             [158, 162, 160, 159, 161]   \n",
       "19                             [204, 202, 200, 201, 203]   \n",
       "34                                            [371, 372]   \n",
       "40                                                 [422]   \n",
       "...                                                  ...   \n",
       "49943  [4335, 4333, 606, 2859, 2854, 88887, 96997, 44...   \n",
       "49944  [1262, 1306, 13520, 77655, 23249, 47450, 26157...   \n",
       "49945                       [60538, 44430, 66252, 66251]   \n",
       "49946                                     [49815, 76363]   \n",
       "49985                              [21841, 17711, 22562]   \n",
       "\n",
       "                             buy_id  \n",
       "7                          [66, 63]  \n",
       "14                            [162]  \n",
       "19                       [201, 205]  \n",
       "34                       [371, 373]  \n",
       "40                            [422]  \n",
       "...                             ...  \n",
       "49943  [24907, 102691, 18496, 4333]  \n",
       "49944          [58205, 3111, 69482]  \n",
       "49945                [66252, 44430]  \n",
       "49946                       [49815]  \n",
       "49985                       [21841]  \n",
       "\n",
       "[3665 rows x 2 columns]"
      ]
     },
     "execution_count": 698,
     "metadata": {},
     "output_type": "execute_result"
    }
   ],
   "source": [
    "recommendations_by_purchases_test['buy_id'] = buy_test\n",
    "recommendations_by_purchases_test"
   ]
  },
  {
   "cell_type": "markdown",
   "metadata": {},
   "source": [
    "#### AverageRecall@1"
   ]
  },
  {
   "cell_type": "code",
   "execution_count": 699,
   "metadata": {},
   "outputs": [
    {
     "data": {
      "text/plain": [
       "7        0.5\n",
       "14       0.0\n",
       "19       0.0\n",
       "34       0.5\n",
       "40       1.0\n",
       "        ... \n",
       "49943    0.0\n",
       "49944    0.0\n",
       "49945    0.0\n",
       "49946    1.0\n",
       "49985    1.0\n",
       "Length: 3665, dtype: float64"
      ]
     },
     "execution_count": 699,
     "metadata": {},
     "output_type": "execute_result"
    }
   ],
   "source": [
    "average_recall_at_1_purchases_test = recommendations_by_purchases_test.apply(lambda row: average_recall(row[0], row[1], \n",
    "                                                                                                          at=1), axis=1)\n",
    "average_recall_at_1_purchases_test"
   ]
  },
  {
   "cell_type": "code",
   "execution_count": 700,
   "metadata": {},
   "outputs": [
    {
     "data": {
      "text/html": [
       "<div>\n",
       "<style scoped>\n",
       "    .dataframe tbody tr th:only-of-type {\n",
       "        vertical-align: middle;\n",
       "    }\n",
       "\n",
       "    .dataframe tbody tr th {\n",
       "        vertical-align: top;\n",
       "    }\n",
       "\n",
       "    .dataframe thead th {\n",
       "        text-align: right;\n",
       "    }\n",
       "</style>\n",
       "<table border=\"1\" class=\"dataframe\">\n",
       "  <thead>\n",
       "    <tr style=\"text-align: right;\">\n",
       "      <th></th>\n",
       "      <th>views_train</th>\n",
       "      <th>views_test</th>\n",
       "      <th>purch_train</th>\n",
       "      <th>purch_test</th>\n",
       "    </tr>\n",
       "  </thead>\n",
       "  <tbody>\n",
       "    <tr>\n",
       "      <th>average_recall_1</th>\n",
       "      <td>0.442634</td>\n",
       "      <td>0.417333</td>\n",
       "      <td>0.688449</td>\n",
       "      <td>0.46062</td>\n",
       "    </tr>\n",
       "    <tr>\n",
       "      <th>average_precision_1</th>\n",
       "      <td>0.512195</td>\n",
       "      <td>0.48131</td>\n",
       "      <td>0.803769</td>\n",
       "      <td>NaN</td>\n",
       "    </tr>\n",
       "    <tr>\n",
       "      <th>average_recall_5</th>\n",
       "      <td>0.824692</td>\n",
       "      <td>0.800034</td>\n",
       "      <td>0.926307</td>\n",
       "      <td>NaN</td>\n",
       "    </tr>\n",
       "    <tr>\n",
       "      <th>average_precision_5</th>\n",
       "      <td>0.212528</td>\n",
       "      <td>0.203765</td>\n",
       "      <td>0.25255</td>\n",
       "      <td>NaN</td>\n",
       "    </tr>\n",
       "  </tbody>\n",
       "</table>\n",
       "</div>"
      ],
      "text/plain": [
       "                    views_train views_test purch_train purch_test\n",
       "average_recall_1       0.442634   0.417333    0.688449    0.46062\n",
       "average_precision_1    0.512195    0.48131    0.803769        NaN\n",
       "average_recall_5       0.824692   0.800034    0.926307        NaN\n",
       "average_precision_5    0.212528   0.203765     0.25255        NaN"
      ]
     },
     "execution_count": 700,
     "metadata": {},
     "output_type": "execute_result"
    }
   ],
   "source": [
    "metrics.purch_test.average_recall_1 = average_recall_at_1_purchases_test.mean()\n",
    "metrics"
   ]
  },
  {
   "cell_type": "markdown",
   "metadata": {},
   "source": [
    "#### AveragePrecision@1"
   ]
  },
  {
   "cell_type": "code",
   "execution_count": 701,
   "metadata": {},
   "outputs": [
    {
     "data": {
      "text/plain": [
       "7        1.0\n",
       "14       0.0\n",
       "19       0.0\n",
       "34       1.0\n",
       "40       1.0\n",
       "        ... \n",
       "49943    0.0\n",
       "49944    0.0\n",
       "49945    0.0\n",
       "49946    1.0\n",
       "49985    1.0\n",
       "Length: 3665, dtype: float64"
      ]
     },
     "execution_count": 701,
     "metadata": {},
     "output_type": "execute_result"
    }
   ],
   "source": [
    "average_precision_at_1_purchases_test = recommendations_by_purchases_test.apply(lambda row: \n",
    "                                                                                 average_precision(row[0], row[1], \n",
    "                                                                                                            at=1), axis=1)\n",
    "average_precision_at_1_purchases_test"
   ]
  },
  {
   "cell_type": "code",
   "execution_count": 702,
   "metadata": {},
   "outputs": [
    {
     "data": {
      "text/html": [
       "<div>\n",
       "<style scoped>\n",
       "    .dataframe tbody tr th:only-of-type {\n",
       "        vertical-align: middle;\n",
       "    }\n",
       "\n",
       "    .dataframe tbody tr th {\n",
       "        vertical-align: top;\n",
       "    }\n",
       "\n",
       "    .dataframe thead th {\n",
       "        text-align: right;\n",
       "    }\n",
       "</style>\n",
       "<table border=\"1\" class=\"dataframe\">\n",
       "  <thead>\n",
       "    <tr style=\"text-align: right;\">\n",
       "      <th></th>\n",
       "      <th>views_train</th>\n",
       "      <th>views_test</th>\n",
       "      <th>purch_train</th>\n",
       "      <th>purch_test</th>\n",
       "    </tr>\n",
       "  </thead>\n",
       "  <tbody>\n",
       "    <tr>\n",
       "      <th>average_recall_1</th>\n",
       "      <td>0.442634</td>\n",
       "      <td>0.417333</td>\n",
       "      <td>0.688449</td>\n",
       "      <td>0.46062</td>\n",
       "    </tr>\n",
       "    <tr>\n",
       "      <th>average_precision_1</th>\n",
       "      <td>0.512195</td>\n",
       "      <td>0.48131</td>\n",
       "      <td>0.803769</td>\n",
       "      <td>0.527694</td>\n",
       "    </tr>\n",
       "    <tr>\n",
       "      <th>average_recall_5</th>\n",
       "      <td>0.824692</td>\n",
       "      <td>0.800034</td>\n",
       "      <td>0.926307</td>\n",
       "      <td>NaN</td>\n",
       "    </tr>\n",
       "    <tr>\n",
       "      <th>average_precision_5</th>\n",
       "      <td>0.212528</td>\n",
       "      <td>0.203765</td>\n",
       "      <td>0.25255</td>\n",
       "      <td>NaN</td>\n",
       "    </tr>\n",
       "  </tbody>\n",
       "</table>\n",
       "</div>"
      ],
      "text/plain": [
       "                    views_train views_test purch_train purch_test\n",
       "average_recall_1       0.442634   0.417333    0.688449    0.46062\n",
       "average_precision_1    0.512195    0.48131    0.803769   0.527694\n",
       "average_recall_5       0.824692   0.800034    0.926307        NaN\n",
       "average_precision_5    0.212528   0.203765     0.25255        NaN"
      ]
     },
     "execution_count": 702,
     "metadata": {},
     "output_type": "execute_result"
    }
   ],
   "source": [
    "metrics.purch_test.average_precision_1 = average_precision_at_1_purchases_test.mean()\n",
    "metrics"
   ]
  },
  {
   "cell_type": "markdown",
   "metadata": {},
   "source": [
    "#### AverageRecall@5"
   ]
  },
  {
   "cell_type": "code",
   "execution_count": 703,
   "metadata": {},
   "outputs": [
    {
     "data": {
      "text/plain": [
       "7        1.00\n",
       "14       1.00\n",
       "19       0.50\n",
       "34       0.50\n",
       "40       1.00\n",
       "         ... \n",
       "49943    0.25\n",
       "49944    0.00\n",
       "49945    1.00\n",
       "49946    1.00\n",
       "49985    1.00\n",
       "Length: 3665, dtype: float64"
      ]
     },
     "execution_count": 703,
     "metadata": {},
     "output_type": "execute_result"
    }
   ],
   "source": [
    "average_recall_at_5_purchases_test = recommendations_by_purchases_test.apply(lambda row: average_recall(row[0], row[1], \n",
    "                                                                                                          at=5), axis=1)\n",
    "average_recall_at_5_purchases_test"
   ]
  },
  {
   "cell_type": "code",
   "execution_count": 704,
   "metadata": {},
   "outputs": [
    {
     "data": {
      "text/html": [
       "<div>\n",
       "<style scoped>\n",
       "    .dataframe tbody tr th:only-of-type {\n",
       "        vertical-align: middle;\n",
       "    }\n",
       "\n",
       "    .dataframe tbody tr th {\n",
       "        vertical-align: top;\n",
       "    }\n",
       "\n",
       "    .dataframe thead th {\n",
       "        text-align: right;\n",
       "    }\n",
       "</style>\n",
       "<table border=\"1\" class=\"dataframe\">\n",
       "  <thead>\n",
       "    <tr style=\"text-align: right;\">\n",
       "      <th></th>\n",
       "      <th>views_train</th>\n",
       "      <th>views_test</th>\n",
       "      <th>purch_train</th>\n",
       "      <th>purch_test</th>\n",
       "    </tr>\n",
       "  </thead>\n",
       "  <tbody>\n",
       "    <tr>\n",
       "      <th>average_recall_1</th>\n",
       "      <td>0.442634</td>\n",
       "      <td>0.417333</td>\n",
       "      <td>0.688449</td>\n",
       "      <td>0.46062</td>\n",
       "    </tr>\n",
       "    <tr>\n",
       "      <th>average_precision_1</th>\n",
       "      <td>0.512195</td>\n",
       "      <td>0.48131</td>\n",
       "      <td>0.803769</td>\n",
       "      <td>0.527694</td>\n",
       "    </tr>\n",
       "    <tr>\n",
       "      <th>average_recall_5</th>\n",
       "      <td>0.824692</td>\n",
       "      <td>0.800034</td>\n",
       "      <td>0.926307</td>\n",
       "      <td>0.820187</td>\n",
       "    </tr>\n",
       "    <tr>\n",
       "      <th>average_precision_5</th>\n",
       "      <td>0.212528</td>\n",
       "      <td>0.203765</td>\n",
       "      <td>0.25255</td>\n",
       "      <td>NaN</td>\n",
       "    </tr>\n",
       "  </tbody>\n",
       "</table>\n",
       "</div>"
      ],
      "text/plain": [
       "                    views_train views_test purch_train purch_test\n",
       "average_recall_1       0.442634   0.417333    0.688449    0.46062\n",
       "average_precision_1    0.512195    0.48131    0.803769   0.527694\n",
       "average_recall_5       0.824692   0.800034    0.926307   0.820187\n",
       "average_precision_5    0.212528   0.203765     0.25255        NaN"
      ]
     },
     "execution_count": 704,
     "metadata": {},
     "output_type": "execute_result"
    }
   ],
   "source": [
    "metrics.purch_test.average_recall_5 = average_recall_at_5_purchases_test.mean()\n",
    "metrics"
   ]
  },
  {
   "cell_type": "markdown",
   "metadata": {},
   "source": [
    "#### AveragePrecision@5"
   ]
  },
  {
   "cell_type": "code",
   "execution_count": 705,
   "metadata": {},
   "outputs": [
    {
     "data": {
      "text/plain": [
       "7        0.4\n",
       "14       0.2\n",
       "19       0.2\n",
       "34       0.2\n",
       "40       0.2\n",
       "        ... \n",
       "49943    0.2\n",
       "49944    0.0\n",
       "49945    0.4\n",
       "49946    0.2\n",
       "49985    0.2\n",
       "Length: 3665, dtype: float64"
      ]
     },
     "execution_count": 705,
     "metadata": {},
     "output_type": "execute_result"
    }
   ],
   "source": [
    "average_precision_at_5_purchases_test = recommendations_by_purchases_test.apply(lambda row: \n",
    "                                                                                 average_precision(row[0], row[1], \n",
    "                                                                                                            at=5), axis=1)\n",
    "average_precision_at_5_purchases_test"
   ]
  },
  {
   "cell_type": "code",
   "execution_count": 706,
   "metadata": {},
   "outputs": [
    {
     "data": {
      "text/html": [
       "<div>\n",
       "<style scoped>\n",
       "    .dataframe tbody tr th:only-of-type {\n",
       "        vertical-align: middle;\n",
       "    }\n",
       "\n",
       "    .dataframe tbody tr th {\n",
       "        vertical-align: top;\n",
       "    }\n",
       "\n",
       "    .dataframe thead th {\n",
       "        text-align: right;\n",
       "    }\n",
       "</style>\n",
       "<table border=\"1\" class=\"dataframe\">\n",
       "  <thead>\n",
       "    <tr style=\"text-align: right;\">\n",
       "      <th></th>\n",
       "      <th>views_train</th>\n",
       "      <th>views_test</th>\n",
       "      <th>purch_train</th>\n",
       "      <th>purch_test</th>\n",
       "    </tr>\n",
       "  </thead>\n",
       "  <tbody>\n",
       "    <tr>\n",
       "      <th>average_recall_1</th>\n",
       "      <td>0.442634</td>\n",
       "      <td>0.417333</td>\n",
       "      <td>0.688449</td>\n",
       "      <td>0.46062</td>\n",
       "    </tr>\n",
       "    <tr>\n",
       "      <th>average_precision_1</th>\n",
       "      <td>0.512195</td>\n",
       "      <td>0.48131</td>\n",
       "      <td>0.803769</td>\n",
       "      <td>0.527694</td>\n",
       "    </tr>\n",
       "    <tr>\n",
       "      <th>average_recall_5</th>\n",
       "      <td>0.824692</td>\n",
       "      <td>0.800034</td>\n",
       "      <td>0.926307</td>\n",
       "      <td>0.820187</td>\n",
       "    </tr>\n",
       "    <tr>\n",
       "      <th>average_precision_5</th>\n",
       "      <td>0.212528</td>\n",
       "      <td>0.203765</td>\n",
       "      <td>0.25255</td>\n",
       "      <td>0.210095</td>\n",
       "    </tr>\n",
       "  </tbody>\n",
       "</table>\n",
       "</div>"
      ],
      "text/plain": [
       "                    views_train views_test purch_train purch_test\n",
       "average_recall_1       0.442634   0.417333    0.688449    0.46062\n",
       "average_precision_1    0.512195    0.48131    0.803769   0.527694\n",
       "average_recall_5       0.824692   0.800034    0.926307   0.820187\n",
       "average_precision_5    0.212528   0.203765     0.25255   0.210095"
      ]
     },
     "execution_count": 706,
     "metadata": {},
     "output_type": "execute_result"
    }
   ],
   "source": [
    "metrics.purch_test.average_precision_5 = average_precision_at_5_purchases_test.mean()\n",
    "metrics"
   ]
  }
 ],
 "metadata": {
  "kernelspec": {
   "display_name": "Python 3",
   "language": "python",
   "name": "python3"
  },
  "language_info": {
   "codemirror_mode": {
    "name": "ipython",
    "version": 3
   },
   "file_extension": ".py",
   "mimetype": "text/x-python",
   "name": "python",
   "nbconvert_exporter": "python",
   "pygments_lexer": "ipython3",
   "version": "3.7.9"
  }
 },
 "nbformat": 4,
 "nbformat_minor": 4
}
